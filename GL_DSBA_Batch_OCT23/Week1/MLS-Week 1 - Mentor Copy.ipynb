{
 "cells": [
  {
   "cell_type": "markdown",
   "id": "32b76ba0",
   "metadata": {
    "id": "32b76ba0"
   },
   "source": [
    "# Let's play a game !!"
   ]
  },
  {
   "cell_type": "code",
   "execution_count": 1,
   "id": "5b278743",
   "metadata": {
    "id": "5b278743"
   },
   "outputs": [],
   "source": [
    "# concept if else elif"
   ]
  },
  {
   "cell_type": "code",
   "execution_count": 2,
   "id": "acad5848",
   "metadata": {
    "id": "acad5848"
   },
   "outputs": [
    {
     "name": "stdout",
     "output_type": "stream",
     "text": [
      "Player A is Paper, Stone or Scissor ? Stone\n",
      "player B Paper\n",
      "Oops you lost it! Paper wraps Stone\n"
     ]
    }
   ],
   "source": [
    "# stone vs paper : paper won \n",
    "# stone vs scissor : stone won \n",
    "# paper vs scissor :scissor won \n",
    "\n",
    "import numpy as np\n",
    "#from random import randint\n",
    "\n",
    "#create a list of play options\n",
    "t = [\"Paper\", \"Stone\", \"Scissor\"]\n",
    "\n",
    "#assign a random play to the computer\n",
    "player_B = t[np.random.randint(0,2)]\n",
    "\n",
    "#set player to False\n",
    "player_A = False\n",
    "\n",
    "while player_A == False:\n",
    "#set player to True\n",
    "    player_A = input(\"Player A is Paper, Stone or Scissor ? \")\n",
    "    print(\"player B\",player_B)\n",
    "    \n",
    "    if player_A== player_B:\n",
    "        print(\"Tie!\")\n",
    "    elif player_A == \"Stone\":\n",
    "        if player_B == \"Paper\":\n",
    "            print(\"Oops you lost it!\", player_B, \"wraps\", player_A)\n",
    "        else:\n",
    "            print(\"Hurry ,you won!!\", player_A, \"smash\", player_B)\n",
    "    elif player_A == \"Paper\":\n",
    "        if player_B == \"Scissor\":\n",
    "            print(\"Oops you lost it!\", player_B, \"cuts\", player_A)\n",
    "        else:\n",
    "            print(\"Hurry ,you won!\", player_A, \"wraps\", player_B)\n",
    "    elif player_A == \"Scissor\":\n",
    "        if player_B == \"Stone\":\n",
    "            print(\"Oops you lost it.\", player_B, \"smash\", player_A)\n",
    "        else:\n",
    "            print(\"Hurry ,you won!\", player_A, \"cuts\", player_B)\n",
    "    else:\n",
    "        print(\"Invalid entry! please check the spelling\")\n",
    "    #player was set to True, but we want it to be False so the loop continues\n"
   ]
  },
  {
   "cell_type": "code",
   "execution_count": 3,
   "id": "698b1a45",
   "metadata": {
    "id": "698b1a45"
   },
   "outputs": [],
   "source": [
    "# Here, we understood the concept of random number & nested if else elif. Similarly we can make our own games"
   ]
  },
  {
   "cell_type": "code",
   "execution_count": 16,
   "id": "0e484a38",
   "metadata": {
    "id": "0e484a38"
   },
   "outputs": [],
   "source": [
    "# while loop concept"
   ]
  },
  {
   "cell_type": "code",
   "execution_count": 6,
   "id": "3b549eeb",
   "metadata": {
    "id": "3b549eeb"
   },
   "outputs": [
    {
     "name": "stdout",
     "output_type": "stream",
     "text": [
      "Square of 0 is 0\n",
      "Square of 2 is 4\n",
      "Square of 4 is 16\n",
      "Square of 6 is 36\n",
      "Square of 8 is 64\n",
      "Square of 10 is 100\n",
      "Square of 12 is 144\n",
      "Square of 14 is 196\n",
      "Square of 16 is 256\n",
      "Square of 18 is 324\n",
      "Square of 20 is 400\n",
      "Square of 22 is 484\n",
      "Square of 24 is 576\n",
      "Square of 26 is 676\n",
      "Square of 28 is 784\n",
      "Square of 30 is 900\n",
      "Square of 32 is 1024\n",
      "Square of 34 is 1156\n",
      "Square of 36 is 1296\n",
      "Square of 38 is 1444\n",
      "Square of 40 is 1600\n",
      "Square of 42 is 1764\n",
      "Square of 44 is 1936\n",
      "Square of 46 is 2116\n",
      "Square of 48 is 2304\n",
      "Square of 50 is 2500\n",
      "Square of 52 is 2704\n",
      "Square of 54 is 2916\n",
      "Square of 56 is 3136\n",
      "Square of 58 is 3364\n",
      "Square of 60 is 3600\n",
      "Square of 62 is 3844\n",
      "Square of 64 is 4096\n",
      "Square of 66 is 4356\n",
      "Square of 68 is 4624\n",
      "Square of 70 is 4900\n",
      "Square of 72 is 5184\n",
      "Square of 74 is 5476\n",
      "Square of 76 is 5776\n",
      "Square of 78 is 6084\n",
      "Square of 80 is 6400\n",
      "Square of 82 is 6724\n",
      "Square of 84 is 7056\n",
      "Square of 86 is 7396\n",
      "Square of 88 is 7744\n",
      "Square of 90 is 8100\n",
      "Square of 92 is 8464\n",
      "Square of 94 is 8836\n",
      "Square of 96 is 9216\n",
      "Square of 98 is 9604\n",
      "Square of 100 is 10000\n"
     ]
    }
   ],
   "source": [
    "#### Q Printing squares of even numbers from 1 to 100\n",
    "i=0\n",
    "while i<=100:\n",
    "    if i%2==0:\n",
    "        print('Square of {} is {}'.format(i,i*i))\n",
    "    i=i+1"
   ]
  },
  {
   "cell_type": "code",
   "execution_count": 15,
   "id": "1513f3bc",
   "metadata": {
    "id": "1513f3bc"
   },
   "outputs": [],
   "source": [
    "# for loop concept"
   ]
  },
  {
   "cell_type": "code",
   "execution_count": 8,
   "id": "3481b92a",
   "metadata": {
    "id": "3481b92a"
   },
   "outputs": [],
   "source": [
    "# Goods and Services Tax or simply GST. When this word comes, \n",
    "# the local shopkeepers kind of feel irked because of the complex calculations and confusing guidelines"
   ]
  },
  {
   "cell_type": "code",
   "execution_count": 9,
   "id": "6ebef821",
   "metadata": {
    "id": "6ebef821"
   },
   "outputs": [],
   "source": [
    "# You gotta use your python skills to help your local shopkeeper \n",
    "# calculate the Net Price for his shop's product provided below along with it's respective GST slab."
   ]
  },
  {
   "cell_type": "code",
   "execution_count": 10,
   "id": "beb17c74",
   "metadata": {
    "id": "beb17c74"
   },
   "outputs": [],
   "source": [
    "#GST Amount = ( Original Cost * GST ) / 100\n",
    "\n",
    "# Net Price = Original Cost + GST Amount"
   ]
  },
  {
   "cell_type": "code",
   "execution_count": 11,
   "id": "431d72b1",
   "metadata": {
    "id": "431d72b1"
   },
   "outputs": [],
   "source": [
    "#Given\n",
    "\n",
    "#Product Cost / GST Slab\n",
    "\n",
    "#Product1- 1000 / **18%**\n",
    "\n",
    "#Product2- 250 / **18%**\n",
    "\n",
    "#Product3- 125 / **5%**\n",
    "\n",
    "#Product4- 345 / **18%**\n",
    "\n",
    "#Product5- 820 / **12%**\n",
    "\n",
    "#Product6- 980 / **5%**\n",
    "\n",
    "#Product7- 500 / **12%**\n"
   ]
  },
  {
   "cell_type": "code",
   "execution_count": 12,
   "id": "6d1c4044",
   "metadata": {
    "id": "6d1c4044"
   },
   "outputs": [],
   "source": [
    "products_gst_slabs = {'Product1':18,'Product2':18,'Product3':5,'Product4':18,'Product5':12,'Product6':5,\n",
    "                          'Product7':12}\n",
    "\n",
    "products_original_cost = {'Product1':1000,'Product2':250,'Product3':125,'Product4':345,'Product5':820,'Product6':980,\n",
    "                          'Product7':500}"
   ]
  },
  {
   "cell_type": "code",
   "execution_count": 13,
   "id": "82de456c",
   "metadata": {
    "id": "82de456c"
   },
   "outputs": [
    {
     "name": "stdout",
     "output_type": "stream",
     "text": [
      "The net price of Product1 @ 18% GST is INR 1180.0\n",
      "The net price of Product2 @ 18% GST is INR 295.0\n",
      "The net price of Product3 @ 5% GST is INR 131.25\n",
      "The net price of Product4 @ 18% GST is INR 407.1\n",
      "The net price of Product5 @ 12% GST is INR 918.4\n",
      "The net price of Product6 @ 5% GST is INR 1029.0\n",
      "The net price of Product7 @ 12% GST is INR 560.0\n"
     ]
    }
   ],
   "source": [
    "for i in products_gst_slabs.keys():\n",
    "    gst_amt= (products_original_cost[i]*products_gst_slabs[i])/100\n",
    "    net_price=products_original_cost[i]+gst_amt\n",
    "    print('The net price of {} @ {}% GST is INR {}'.format(i,products_gst_slabs[i],net_price))"
   ]
  },
  {
   "cell_type": "code",
   "execution_count": null,
   "id": "d49e8394",
   "metadata": {
    "id": "d49e8394"
   },
   "outputs": [],
   "source": [
    "# concept user defined function"
   ]
  },
  {
   "cell_type": "code",
   "execution_count": 17,
   "id": "e13d5af5",
   "metadata": {
    "id": "e13d5af5",
    "outputId": "94d759b3-8f98-49d2-805a-513cda51b779"
   },
   "outputs": [
    {
     "data": {
      "text/plain": [
       "(6, 2)"
      ]
     },
     "execution_count": 17,
     "metadata": {},
     "output_type": "execute_result"
    }
   ],
   "source": [
    "## User Defined Functions\n",
    "\n",
    "#### Q Write a function to add and subtract two variables\n",
    "\n",
    "def math_fun(x,y):\n",
    "    add = x + y\n",
    "    sub = x-y\n",
    "    return add,sub\n",
    "\n",
    "## Call the function to execute the function\n",
    "math_fun(4,2)\n"
   ]
  },
  {
   "cell_type": "code",
   "execution_count": 19,
   "id": "ed8a1e9a",
   "metadata": {
    "id": "ed8a1e9a",
    "outputId": "2727af20-f639-4613-8e21-fe876e4be680"
   },
   "outputs": [
    {
     "name": "stdout",
     "output_type": "stream",
     "text": [
      "True\n"
     ]
    }
   ],
   "source": [
    "#### Q Write a UDF that returns true if the input is a prime number and False otherwise.\n",
    "\n",
    "\n",
    "# A prime number is a number that can be divided exactly only by itself and 1\n",
    "def prime(n):\n",
    "    if (n==1):\n",
    "        return False\n",
    "    elif (n==2):\n",
    "        return True;\n",
    "    else:\n",
    "        for x in range(2,n):\n",
    "            if(n % x==0):\n",
    "                return False\n",
    "        return True             \n",
    "\n",
    "\n",
    "print(prime(7))"
   ]
  },
  {
   "cell_type": "code",
   "execution_count": 20,
   "id": "7cf478b2",
   "metadata": {
    "id": "7cf478b2",
    "outputId": "c6a79d4a-d72f-4dd0-f2cc-08dcc4415ca6"
   },
   "outputs": [
    {
     "name": "stdout",
     "output_type": "stream",
     "text": [
      "2\n",
      "3\n",
      "5\n",
      "7\n",
      "Here Output shows the prime numbers & there count as well i.e. 4\n"
     ]
    }
   ],
   "source": [
    "#### Q Write a UDF that takes as input a List and returns the count of Prime numbers in it.\n",
    "def count_primenumber_in_list(numbers):\n",
    "    prime = []\n",
    "\n",
    "    for num in numbers:\n",
    "        if num == 2:\n",
    "            print(num)\n",
    "            prime.append(num)\n",
    "        else:\n",
    "            is_prime = True\n",
    "            for i in range(2, num):\n",
    "                if num % i == 0:\n",
    "                    is_prime = False\n",
    "                    break\n",
    "\n",
    "            if is_prime:\n",
    "                print (num)\n",
    "                prime.append(num)\n",
    "\n",
    "    return len(prime)\n",
    "\n",
    "\n",
    "\n",
    "\n",
    "a = [2,3,4,5,6,7,10]\n",
    "print (\"Here Output shows the prime numbers & there count as well i.e.\", count_primenumber_in_list(a)) \n",
    "\n"
   ]
  },
  {
   "cell_type": "code",
   "execution_count": 21,
   "id": "0b8662fd",
   "metadata": {
    "id": "0b8662fd",
    "outputId": "70c1d85b-9d4e-4a6a-9b4e-bed9154c9dd6"
   },
   "outputs": [
    {
     "name": "stdout",
     "output_type": "stream",
     "text": [
      "[55, 54, 53, 52, 51, 50]\n",
      "[55, 54, 53, 52, 51, 50]\n",
      "[55, 54, 53, 52, 51, 50]\n"
     ]
    }
   ],
   "source": [
    "#### Q Write a UDF that takes a list as input and returns the reverse list.\n",
    "\n",
    "\n",
    "# using reversed()\n",
    "def Reversing(list):\n",
    "    return [x for x in reversed(list)]\n",
    "      \n",
    "# Driver Code\n",
    "list = [50, 51, 52, 53, 54, 55]\n",
    "print(Reversing(list))\n",
    "\n",
    "# other way\n",
    "def Reverse(list):\n",
    "    new_list = list[::-1]\n",
    "    return new_list\n",
    "      \n",
    "list = [50, 51, 52, 53, 54, 55]\n",
    "print(Reverse(list))\n",
    "\n",
    "# Using reverse()\n",
    "\n",
    "def Reversing(listing):\n",
    "    listing.reverse()\n",
    "    return lst\n",
    "      \n",
    "lst = [50, 51, 52, 53, 54, 55]\n",
    "print(Reversing(lst))\n",
    "\n"
   ]
  },
  {
   "cell_type": "code",
   "execution_count": 23,
   "id": "97006835",
   "metadata": {
    "id": "97006835",
    "outputId": "61554746-7090-467f-a186-5209cf57f87d",
    "scrolled": true
   },
   "outputs": [
    {
     "name": "stdout",
     "output_type": "stream",
     "text": [
      "Unique values\n",
      "11\n",
      "13\n",
      "10\n",
      "14\n",
      "17\n",
      "18\n",
      "12\n"
     ]
    }
   ],
   "source": [
    "#### Q Write a UDF that takes a list and returns a list with only unique elements.¶\n",
    "\n",
    "def unique(My_list):\n",
    " \n",
    "    # initialize a null list\n",
    "    unique_list = []\n",
    "     \n",
    "    # traverse for all elements\n",
    "    for x in My_list:\n",
    "        # check if exists in unique_list or not\n",
    "        if x not in unique_list:\n",
    "            unique_list.append(x)\n",
    "    # print list\n",
    "    for x in unique_list:\n",
    "        print(x)\n",
    "    \n",
    "\n",
    "\n",
    "My_list = [11, 13, 10, 13, 14, 10, 17, 18, 12, 12, 13]\n",
    "print(\"Unique values\")\n",
    "unique(My_list)\n"
   ]
  },
  {
   "cell_type": "code",
   "execution_count": null,
   "id": "719c2a37",
   "metadata": {},
   "outputs": [],
   "source": []
  }
 ],
 "metadata": {
  "colab": {
   "provenance": []
  },
  "kernelspec": {
   "display_name": "Python 3 (ipykernel)",
   "language": "python",
   "name": "python3"
  },
  "language_info": {
   "codemirror_mode": {
    "name": "ipython",
    "version": 3
   },
   "file_extension": ".py",
   "mimetype": "text/x-python",
   "name": "python",
   "nbconvert_exporter": "python",
   "pygments_lexer": "ipython3",
   "version": "3.9.7"
  }
 },
 "nbformat": 4,
 "nbformat_minor": 5
}
