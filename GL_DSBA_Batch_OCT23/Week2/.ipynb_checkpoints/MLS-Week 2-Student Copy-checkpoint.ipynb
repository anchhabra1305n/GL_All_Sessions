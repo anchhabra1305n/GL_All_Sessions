{
 "cells": [
  {
   "cell_type": "markdown",
   "metadata": {
    "ExecuteTime": {
     "end_time": "2020-11-04T04:21:14.435716Z",
     "start_time": "2020-11-04T04:21:14.427737Z"
    }
   },
   "source": [
    "# Virat Kohli : Batting Analysis (2008-2018):\n",
    "**Virat Kohli** is an Indian cricketer. He was born in Delhi, India on November 5, 1988. Virat is the first player in ICC cricket history to win all 3 ICC awards in a single year- ICC ODI player of the year, ICC Test player of the year and ICC Player of the year award in 2018.\n",
    "\n",
    "<img src=\"https://images.thequint.com/thequint%2F2018-01%2F5d369107-8477-4216-a39d-ad806e1d3a0c%2FVirat-century.jpg?rect=0%2C0%2C4650%2C2616&auto=format%2Ccompress&fmt=webp&w=700&dpr=1.0.jpg\" width=\"500\" height=\"500\" />\n",
    "\n",
    "**Born**: November 5, 1988, Delhi, India\n",
    "\n",
    "**Team**: India national cricket team\n",
    "\n",
    "**Sport**: Cricket\n",
    "\n",
    "**Nationality**: India"
   ]
  },
  {
   "cell_type": "markdown",
   "metadata": {},
   "source": [
    "**Data Dictionary**\n",
    "1. RunsScored : Number of Runs scored by Kohli in the match.\n",
    "2. BallsFaced : Number of Balls Faces by Kohli in the match.\n",
    "3. BattingPosition : Batting position is Virat Kohli's position on the batting order.\n",
    "4. Dismissal : How Kohli got out in the match or not out. Caught, NO: Not Out, Bowled, Run out, LBW, Stumped, Hit wicket.\n",
    "5. Inning : An innings is one of the divisions of a match during which one team takes its turn to bat. Two 1st inning or 2nd inning.\n",
    "6. Opposition : Name of the Opposition team.\n",
    "7. Year : Year in which the match was played."
   ]
  },
  {
   "cell_type": "code",
   "execution_count": null,
   "metadata": {
    "ExecuteTime": {
     "end_time": "2020-11-26T11:44:50.700940Z",
     "start_time": "2020-11-26T11:44:50.678905Z"
    }
   },
   "outputs": [],
   "source": [
    "import numpy as np\n",
    "import pandas as pd\n",
    "import matplotlib.pyplot as plt\n",
    "%matplotlib inline\n",
    "import seaborn as sns \n",
    "from warnings import filterwarnings\n",
    "filterwarnings(\"ignore\")"
   ]
  },
  {
   "cell_type": "code",
   "execution_count": null,
   "metadata": {
    "ExecuteTime": {
     "end_time": "2020-11-26T11:44:51.815869Z",
     "start_time": "2020-11-26T11:44:51.766831Z"
    }
   },
   "outputs": [],
   "source": [
    "# Read Bastman details file\n",
    "mydata = pd.read_csv('C:/Users/Shradha/Downloads/Batsman.csv')"
   ]
  },
  {
   "cell_type": "code",
   "execution_count": null,
   "metadata": {
    "ExecuteTime": {
     "end_time": "2020-11-26T11:44:52.457768Z",
     "start_time": "2020-11-26T11:44:52.428878Z"
    },
    "scrolled": false
   },
   "outputs": [],
   "source": [
    "# View first 5 rows\n",
    "mydata.head()"
   ]
  },
  {
   "cell_type": "code",
   "execution_count": null,
   "metadata": {},
   "outputs": [],
   "source": [
    "# the data is successfully loaded and it can be observed that this data contains \n",
    "# Virat batting Scores based on Inning, Country (here Oppostion) and year. \n",
    "# It also shows his batting positions along with how many balls he faced."
   ]
  },
  {
   "cell_type": "markdown",
   "metadata": {},
   "source": [
    "Now , Understanding the shape of the dataset is also important"
   ]
  },
  {
   "cell_type": "markdown",
   "metadata": {},
   "source": [
    "Let us now check the dimensions of the dataset by using the shape attribute.\n",
    "\n",
    "The shape attribute will help us to get the number of rows and columns of the dataset.\n",
    "Knowing the dimensions of the dataframe will help us to understand the number of data points we are working with \n",
    "and proves to be beneficial especially when the dataset is a large one (consisting of a large number of rows and columns)."
   ]
  },
  {
   "cell_type": "code",
   "execution_count": null,
   "metadata": {
    "ExecuteTime": {
     "end_time": "2020-11-26T11:44:53.486554Z",
     "start_time": "2020-11-26T11:44:53.481566Z"
    },
    "scrolled": true
   },
   "outputs": [],
   "source": [
    "#Shape of the data\n",
    "mydata.shape"
   ]
  },
  {
   "cell_type": "markdown",
   "metadata": {},
   "source": [
    "Now we are aware of the shape of the dataframe. Let us now have a look at the types of data that we are working with.\n",
    "\n",
    "The ***info()*** function will help us to understand the data types of the columns.\n",
    "\n",
    "**Understanding data types ensures that data is stored in the preferred format and the value of each property is as expected.**"
   ]
  },
  {
   "cell_type": "code",
   "execution_count": null,
   "metadata": {
    "ExecuteTime": {
     "end_time": "2020-11-26T11:44:52.942988Z",
     "start_time": "2020-11-26T11:44:52.926995Z"
    },
    "scrolled": false
   },
   "outputs": [],
   "source": [
    "#Checking Info\n",
    "mydata.info()"
   ]
  },
  {
   "cell_type": "code",
   "execution_count": null,
   "metadata": {},
   "outputs": [],
   "source": [
    "# we can see here 5 columns are numeric (RunScored, BallsFaced, BattlingPosition, Inning and Year)\n",
    "# whereas dismissal and Oppsition are categorical type"
   ]
  },
  {
   "cell_type": "code",
   "execution_count": null,
   "metadata": {
    "scrolled": true
   },
   "outputs": [],
   "source": [
    "mydata.info()"
   ]
  },
  {
   "cell_type": "code",
   "execution_count": null,
   "metadata": {},
   "outputs": [],
   "source": [
    "# Now, year is not an integer"
   ]
  },
  {
   "cell_type": "code",
   "execution_count": null,
   "metadata": {
    "scrolled": true
   },
   "outputs": [],
   "source": [
    "# Show just column names as a dataframe\n",
    "mydata[:0]"
   ]
  },
  {
   "cell_type": "code",
   "execution_count": null,
   "metadata": {},
   "outputs": [],
   "source": [
    "mydata"
   ]
  },
  {
   "cell_type": "code",
   "execution_count": null,
   "metadata": {},
   "outputs": [],
   "source": [
    "# Now, before attempting the questions, it is important to understand statistical summary of the data. \n",
    "# Getting the statistical summary for the user dataset\n",
    "\n",
    "# The describe() function will help us in finding out the statistical summary.\n",
    "\n",
    "# The statistical summary will give us a overview of the numerical columns of the data and \n",
    "# display various features like the minimum, maximum, mean, standard deviation, etc. of the columns. \n",
    "# This will help us to understand the distribution of the values present in the numerical columns.\n",
    "\n",
    "# What each term represents and how we can make analysis will be taught in next module (Statistical Methods of Decision Making)"
   ]
  },
  {
   "cell_type": "code",
   "execution_count": null,
   "metadata": {
    "scrolled": true
   },
   "outputs": [],
   "source": [
    "mydata.describe()"
   ]
  },
  {
   "cell_type": "code",
   "execution_count": null,
   "metadata": {},
   "outputs": [],
   "source": [
    "# Here, some basic insights which we can get are that Virat Highest score is 183 and lowest 0.\n",
    "# Virat has played 7 Battling positions\n",
    "# On an average Virat scored 49 from year 2008 to 2018."
   ]
  },
  {
   "cell_type": "markdown",
   "metadata": {},
   "source": [
    "## Q 1. Against which opposition Virat has scored maximum Runs. Also, show the average score against each opposition."
   ]
  },
  {
   "cell_type": "code",
   "execution_count": null,
   "metadata": {
    "scrolled": false
   },
   "outputs": [],
   "source": []
  },
  {
   "cell_type": "code",
   "execution_count": null,
   "metadata": {},
   "outputs": [],
   "source": [
    "# Virat has scored maximum runs while playing with Sri Lanka, however minimum scores when played with Netherlands"
   ]
  },
  {
   "cell_type": "code",
   "execution_count": null,
   "metadata": {
    "scrolled": false
   },
   "outputs": [],
   "source": [
    "#Average\n"
   ]
  },
  {
   "cell_type": "code",
   "execution_count": null,
   "metadata": {},
   "outputs": [],
   "source": [
    "# median\n"
   ]
  },
  {
   "cell_type": "markdown",
   "metadata": {},
   "source": [
    "## Q 2. In which year, Virat has scored maximum Runs."
   ]
  },
  {
   "cell_type": "code",
   "execution_count": null,
   "metadata": {},
   "outputs": [],
   "source": []
  },
  {
   "cell_type": "code",
   "execution_count": null,
   "metadata": {},
   "outputs": [],
   "source": [
    "# Virat Scored maximum in year 2017 and Minimum in 2008."
   ]
  },
  {
   "cell_type": "markdown",
   "metadata": {},
   "source": [
    "## Q 3. In which year, Virat has scored maximum Runs with which Opposition?"
   ]
  },
  {
   "cell_type": "code",
   "execution_count": null,
   "metadata": {
    "scrolled": false
   },
   "outputs": [],
   "source": []
  },
  {
   "cell_type": "markdown",
   "metadata": {},
   "source": [
    "## OR"
   ]
  },
  {
   "cell_type": "code",
   "execution_count": null,
   "metadata": {
    "scrolled": true
   },
   "outputs": [],
   "source": []
  },
  {
   "cell_type": "code",
   "execution_count": null,
   "metadata": {},
   "outputs": [],
   "source": [
    "# Virat scored highest Runs in 2012 against Sri Lanka i.e. 695"
   ]
  },
  {
   "cell_type": "markdown",
   "metadata": {},
   "source": [
    "## Q 4. In how many matches Virat was not out. (Consider Dismissal column here). "
   ]
  },
  {
   "cell_type": "code",
   "execution_count": null,
   "metadata": {
    "scrolled": true
   },
   "outputs": [],
   "source": []
  },
  {
   "cell_type": "code",
   "execution_count": null,
   "metadata": {},
   "outputs": [],
   "source": []
  },
  {
   "cell_type": "code",
   "execution_count": null,
   "metadata": {},
   "outputs": [],
   "source": [
    "# Virat was not out in 37 matches"
   ]
  },
  {
   "cell_type": "markdown",
   "metadata": {},
   "source": [
    "## Q 5. Find the number of times when kohli scored less than or equal to 7 runs?"
   ]
  },
  {
   "cell_type": "code",
   "execution_count": null,
   "metadata": {
    "scrolled": true
   },
   "outputs": [],
   "source": []
  },
  {
   "cell_type": "markdown",
   "metadata": {},
   "source": [
    "## Q 6. With how many countries Virat has played matches. Consider the country only once. Name them."
   ]
  },
  {
   "cell_type": "code",
   "execution_count": null,
   "metadata": {
    "scrolled": true
   },
   "outputs": [],
   "source": []
  },
  {
   "cell_type": "code",
   "execution_count": null,
   "metadata": {
    "scrolled": false
   },
   "outputs": [],
   "source": []
  },
  {
   "cell_type": "markdown",
   "metadata": {},
   "source": [
    "## Q7. Which countries are top competitors of India ? Show top 5.\n",
    "\n"
   ]
  },
  {
   "cell_type": "code",
   "execution_count": null,
   "metadata": {
    "scrolled": true
   },
   "outputs": [],
   "source": []
  },
  {
   "cell_type": "code",
   "execution_count": null,
   "metadata": {},
   "outputs": [],
   "source": [
    "# This question is similar to Q 1."
   ]
  },
  {
   "cell_type": "markdown",
   "metadata": {},
   "source": [
    "## Q 8. Compare the runs scored by Kohli in 1st innings vs the 2nd innings.\n"
   ]
  },
  {
   "cell_type": "code",
   "execution_count": null,
   "metadata": {
    "scrolled": false
   },
   "outputs": [],
   "source": []
  },
  {
   "cell_type": "markdown",
   "metadata": {},
   "source": [
    "## Q 9. Which opposition has Kohli scored most runs against? Find the median score against different oppositions?"
   ]
  },
  {
   "cell_type": "code",
   "execution_count": null,
   "metadata": {
    "scrolled": true
   },
   "outputs": [],
   "source": []
  },
  {
   "cell_type": "markdown",
   "metadata": {},
   "source": [
    "### Another way"
   ]
  },
  {
   "cell_type": "code",
   "execution_count": null,
   "metadata": {
    "ExecuteTime": {
     "end_time": "2020-11-26T11:48:40.439175Z",
     "start_time": "2020-11-26T11:48:40.425796Z"
    }
   },
   "outputs": [],
   "source": []
  },
  {
   "cell_type": "code",
   "execution_count": null,
   "metadata": {
    "ExecuteTime": {
     "end_time": "2020-11-26T11:48:40.695408Z",
     "start_time": "2020-11-26T11:48:40.682022Z"
    }
   },
   "outputs": [],
   "source": []
  },
  {
   "cell_type": "code",
   "execution_count": null,
   "metadata": {
    "ExecuteTime": {
     "end_time": "2020-11-26T11:49:24.681869Z",
     "start_time": "2020-11-26T11:49:24.664856Z"
    }
   },
   "outputs": [],
   "source": []
  },
  {
   "cell_type": "markdown",
   "metadata": {},
   "source": [
    "## Q 10. What do you think how Kohli got out in most number of matches, show complete data about each Dismissal based on Inning? "
   ]
  },
  {
   "cell_type": "code",
   "execution_count": null,
   "metadata": {},
   "outputs": [],
   "source": []
  },
  {
   "cell_type": "markdown",
   "metadata": {},
   "source": [
    "The most number of times Kohli has got out is by getting caught.\n",
    "\n",
    "<img src=\"https://imgk.timesnownews.com/story/Zampa_Kohli.png?tr=w-600,h-450,fo-auto\" width=\"500\" height=\"200\" />\n",
    "\n",
    " Apart from that he seems to stay not out for most of the innings and looks like it is hard to get him out by other ways apart from being caught."
   ]
  },
  {
   "cell_type": "markdown",
   "metadata": {},
   "source": [
    "##  Pre and Post transformation comparison\n",
    "\n",
    "**It is well known that Kohli started taking fitness much more seriously post an ordinary IPL in 2012. He changed his training regime and eating habits completely, realising the need to transform his body to survive the rigours of playing all three formats.**\n",
    "\n",
    "<img src= \"https://encrypted-tbn0.gstatic.com/images?q=tbn%3AANd9GcSskALcVu6o9iI-7Q_rsehBkQ4PpDN6IAjWwA&usqp=CAU\" width=\"500\" height=\"500\" />\n",
    "\n",
    "**Kohli says it was the absence of fear or respect for him in the opposition's eye that has forced him to change his work ethic\n",
    "Kohli revealed how working on his fitness has lifted his game after coming back from the Australian tour in 2012\n",
    "While he considers his idol Tendulkar's skills as a cricketer in a different league, his is a case of pure hard work**"
   ]
  },
  {
   "cell_type": "code",
   "execution_count": null,
   "metadata": {},
   "outputs": [],
   "source": [
    "# let's fetch the data post transform \n",
    "mydata['post_transform'] = mydata[\"Year\"]>2012\n",
    "mydata"
   ]
  },
  {
   "cell_type": "markdown",
   "metadata": {},
   "source": [
    "## Q 11. Compare the runs Scored before and after transformation"
   ]
  },
  {
   "cell_type": "code",
   "execution_count": null,
   "metadata": {
    "scrolled": false
   },
   "outputs": [],
   "source": []
  },
  {
   "cell_type": "code",
   "execution_count": null,
   "metadata": {},
   "outputs": [],
   "source": [
    "# Here, we can see a drastic change in his performance.\n",
    "# We can see clearly see post transformation, he has scored more runs "
   ]
  },
  {
   "cell_type": "markdown",
   "metadata": {},
   "source": [
    "## Q 12. Compare the Balls Faced before and after transformation"
   ]
  },
  {
   "cell_type": "code",
   "execution_count": null,
   "metadata": {
    "scrolled": false
   },
   "outputs": [],
   "source": []
  },
  {
   "cell_type": "markdown",
   "metadata": {},
   "source": [
    "## Q 13. Compare the runs Scored before and after transformation as innings(innings wise)\n"
   ]
  },
  {
   "cell_type": "code",
   "execution_count": null,
   "metadata": {},
   "outputs": [],
   "source": []
  },
  {
   "cell_type": "markdown",
   "metadata": {},
   "source": [
    "**Clearly, Kohli was good at chasing as compared to batting first, prior he went through the transformation. But post transformation, he has significantly improved his run scoring ability batting first.**"
   ]
  },
  {
   "cell_type": "markdown",
   "metadata": {},
   "source": [
    "## Q 14. Compare the dismissal patterns before and after transformation."
   ]
  },
  {
   "cell_type": "code",
   "execution_count": null,
   "metadata": {
    "ExecuteTime": {
     "end_time": "2020-11-26T11:56:20.827383Z",
     "start_time": "2020-11-26T11:56:20.718217Z"
    }
   },
   "outputs": [],
   "source": []
  },
  {
   "cell_type": "markdown",
   "metadata": {},
   "source": [
    "The average score before getting stumped and bowled has drastically improved post transformation. Average runs scored before 'Run Out' has also improved."
   ]
  },
  {
   "cell_type": "markdown",
   "metadata": {},
   "source": [
    "## Q 15. Which batting position has helped Virat score highest Runs.\n"
   ]
  },
  {
   "cell_type": "code",
   "execution_count": null,
   "metadata": {},
   "outputs": [],
   "source": []
  },
  {
   "cell_type": "markdown",
   "metadata": {},
   "source": [
    "## Summary: Virat has been an outstanding perform post his transformation. If we talk about his best batting position it is 3. VK has scored more than 1000 runs till 2018. \n",
    "## We will see these results by visualization in next mentor learning session"
   ]
  },
  {
   "cell_type": "code",
   "execution_count": null,
   "metadata": {},
   "outputs": [],
   "source": []
  }
 ],
 "metadata": {
  "kernelspec": {
   "display_name": "Python 3 (ipykernel)",
   "language": "python",
   "name": "python3"
  },
  "language_info": {
   "codemirror_mode": {
    "name": "ipython",
    "version": 3
   },
   "file_extension": ".py",
   "mimetype": "text/x-python",
   "name": "python",
   "nbconvert_exporter": "python",
   "pygments_lexer": "ipython3",
   "version": "3.9.7"
  },
  "toc": {
   "base_numbering": 1,
   "nav_menu": {},
   "number_sections": true,
   "sideBar": true,
   "skip_h1_title": false,
   "title_cell": "Table of Contents",
   "title_sidebar": "Contents",
   "toc_cell": false,
   "toc_position": {},
   "toc_section_display": true,
   "toc_window_display": false
  },
  "varInspector": {
   "cols": {
    "lenName": 16,
    "lenType": 16,
    "lenVar": 40
   },
   "kernels_config": {
    "python": {
     "delete_cmd_postfix": "",
     "delete_cmd_prefix": "del ",
     "library": "var_list.py",
     "varRefreshCmd": "print(var_dic_list())"
    },
    "r": {
     "delete_cmd_postfix": ") ",
     "delete_cmd_prefix": "rm(",
     "library": "var_list.r",
     "varRefreshCmd": "cat(var_dic_list()) "
    }
   },
   "types_to_exclude": [
    "module",
    "function",
    "builtin_function_or_method",
    "instance",
    "_Feature"
   ],
   "window_display": false
  }
 },
 "nbformat": 4,
 "nbformat_minor": 2
}
