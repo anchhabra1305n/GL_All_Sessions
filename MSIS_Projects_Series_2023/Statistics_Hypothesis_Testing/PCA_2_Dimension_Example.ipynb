{
 "cells": [
  {
   "cell_type": "markdown",
   "metadata": {},
   "source": [
    "# Agenda"
   ]
  },
  {
   "cell_type": "markdown",
   "metadata": {},
   "source": [
    "* Vector - In linear algebra its a direction which is computable \n",
    "\n",
    "* Matrix - 2-d array consisting values\n",
    "\n",
    "* Linear Combination - In 2d, scaling two vectors and adding them like (ax+by) where x, y are vectors in 2d. The set of all possible vectors which we can reach by using the linear combination of two vectors is called the SPAN of x and y\n",
    "\n",
    "* Linear Independence\n",
    "\n",
    "* Linear Transformations - A transformation works exactly like function, where we enter a vector and the transformation gives us another vector which is modefied. It will linear if and only if:-\n",
    "    * T(u+v)=T(u)+T(v)\n",
    "    * T(cu)=cT(u)\n",
    "    Think from a matrix vector multiplication point of view\n",
    "\n",
    "* Determinant - The determinant is the “size” of the output transformation.It takes N vectors (the N columns of the matrix) and returns a number.If the input was a unit vector (representing area or volume of 1), the determinant is the size of the transformed area or volume. If two of the columns are linearly dependent, it will have a zero area.\n",
    "\n",
    "* Eigen Values and Eigen Vectors - (Ax = Lambdax) Any vector such as x will be an eigen vector if we multiply x with a square matrix, it will give the vector itself scaled by a multiplier lambda\n",
    "\n",
    "* Co-variance - The matrix which we multiply with eigenvector \n",
    "\n",
    "* Correlation - Standardized \n",
    "\n",
    "* Principal Component Analysis - "
   ]
  },
  {
   "cell_type": "markdown",
   "metadata": {},
   "source": [
    "# Why we need PCA"
   ]
  },
  {
   "cell_type": "markdown",
   "metadata": {},
   "source": [
    "* Dimensinality Reduction\n",
    "* Modeling Exercise\n",
    "* EDA Part\n",
    "* Multicolinearity"
   ]
  },
  {
   "cell_type": "markdown",
   "metadata": {},
   "source": [
    "# Use case of PCA"
   ]
  },
  {
   "cell_type": "markdown",
   "metadata": {},
   "source": [
    "* Kaggle competition Case Study\n",
    "* https://www.kaggle.com/roydatascience/eda-pca-lgbm-santander-transactions?scriptVersionId=12759601"
   ]
  },
  {
   "cell_type": "markdown",
   "metadata": {},
   "source": [
    "# Alternatives to PCA"
   ]
  },
  {
   "cell_type": "markdown",
   "metadata": {},
   "source": [
    "* Simple Correlation \n",
    "* Variable Clustering\n",
    "* Machine Learning Domain\n",
    "    * Feature Importances\n",
    "    * VIF - if Multicolinearity needs to be removed\n",
    "    * RFE - Recursuve feature Elimination"
   ]
  },
  {
   "cell_type": "markdown",
   "metadata": {},
   "source": [
    "# Quick Steps to build PCA"
   ]
  },
  {
   "cell_type": "markdown",
   "metadata": {},
   "source": [
    "* Standarized the data\n",
    "* Centering the data\n",
    "* How many principal components we should expect from the data given? \n",
    "* It depends upon the variables we have with us, at most we can have Principal components equal to number of variables.but if there are fewer samples than variables then number of samples puts an upper bound on the number PCs with eigen values greater than 0"
   ]
  },
  {
   "cell_type": "markdown",
   "metadata": {},
   "source": [
    "# Key questions to answer"
   ]
  },
  {
   "cell_type": "markdown",
   "metadata": {},
   "source": [
    "* What will happen if we do not standardized the data?\n",
    "* We need to remove the outliers? How they are impacting the PCA?\n",
    "* Why we take transpose?\n",
    "* PCA in excel- if available?\n",
    "* What is Co-variance matrix?\n",
    "* How Co-variance is coming into the picture here?\n",
    "* What is Correlation matrix?\n",
    "* How are we using them in PCA?\n",
    "* What is an Eigenvector and Eigen values?"
   ]
  },
  {
   "cell_type": "code",
   "execution_count": 2,
   "metadata": {},
   "outputs": [],
   "source": [
    "#Importing requisite libraries\n",
    "import numpy as np\n",
    "%matplotlib inline\n",
    "import matplotlib.pyplot as plt"
   ]
  },
  {
   "cell_type": "code",
   "execution_count": 3,
   "metadata": {},
   "outputs": [
    {
     "data": {
      "text/plain": [
       "<matplotlib.collections.PathCollection at 0x1b46ac1a130>"
      ]
     },
     "execution_count": 3,
     "metadata": {},
     "output_type": "execute_result"
    },
    {
     "data": {
      "image/png": "[encoded data removed]",
      "text/plain": [
       "<Figure size 432x288 with 1 Axes>"
      ]
     },
     "metadata": {
      "needs_background": "light"
     },
     "output_type": "display_data"
    }
   ],
   "source": [
    "#Creating a cleaned dataset\n",
    "np.random.seed(42)\n",
    "X1_clean = np.array(range(20))\n",
    "X2_clean = np.array(range(20))\n",
    "\n",
    "#Plotting the points\n",
    "plt.scatter(X1_clean, X2_clean)"
   ]
  },
  {
   "cell_type": "code",
   "execution_count": 4,
   "metadata": {},
   "outputs": [
    {
     "data": {
      "text/plain": [
       "array([ 0,  1,  2,  3,  4,  5,  6,  7,  8,  9, 10, 11, 12, 13, 14, 15, 16,\n",
       "       17, 18, 19])"
      ]
     },
     "execution_count": 4,
     "metadata": {},
     "output_type": "execute_result"
    }
   ],
   "source": [
    "X1_clean"
   ]
  },
  {
   "cell_type": "code",
   "execution_count": 5,
   "metadata": {},
   "outputs": [
    {
     "data": {
      "text/plain": [
       "array([ 0,  1,  2,  3,  4,  5,  6,  7,  8,  9, 10, 11, 12, 13, 14, 15, 16,\n",
       "       17, 18, 19])"
      ]
     },
     "execution_count": 5,
     "metadata": {},
     "output_type": "execute_result"
    }
   ],
   "source": [
    "X2_clean"
   ]
  },
  {
   "cell_type": "code",
   "execution_count": 6,
   "metadata": {},
   "outputs": [
    {
     "data": {
      "text/plain": [
       "<matplotlib.collections.PathCollection at 0x1b46accafa0>"
      ]
     },
     "execution_count": 6,
     "metadata": {},
     "output_type": "execute_result"
    },
    {
     "data": {
      "image/png": "[encoded data removed]",
      "text/plain": [
       "<Figure size 432x288 with 1 Axes>"
      ]
     },
     "metadata": {
      "needs_background": "light"
     },
     "output_type": "display_data"
    }
   ],
   "source": [
    "# Adding noise\n",
    "\n",
    "X1_noise = np.random.randn(1,20)[0]\n",
    "X2_noise = np.random.randn(1,20)[0]\n",
    "\n",
    "X1 = X1_clean + X1_noise\n",
    "X2 = X2_clean + X2_noise\n",
    "\n",
    "data  = np.column_stack((X1,X2))\n",
    "\n",
    "#Plotting the data\n",
    "plt.scatter(X1,X2)"
   ]
  },
  {
   "cell_type": "code",
   "execution_count": 7,
   "metadata": {},
   "outputs": [
    {
     "data": {
      "text/plain": [
       "array([[ 0.49671415,  1.46564877],\n",
       "       [ 0.8617357 ,  0.7742237 ],\n",
       "       [ 2.64768854,  2.0675282 ],\n",
       "       [ 4.52302986,  1.57525181],\n",
       "       [ 3.76584663,  3.45561728],\n",
       "       [ 4.76586304,  5.11092259],\n",
       "       [ 7.57921282,  4.84900642],\n",
       "       [ 7.76743473,  7.37569802],\n",
       "       [ 7.53052561,  7.39936131],\n",
       "       [ 9.54256004,  8.70830625],\n",
       "       [ 9.53658231,  9.39829339],\n",
       "       [10.53427025, 12.85227818],\n",
       "       [12.24196227, 11.98650278],\n",
       "       [11.08671976, 11.94228907],\n",
       "       [12.27508217, 14.82254491],\n",
       "       [14.43771247, 13.77915635],\n",
       "       [14.98716888, 16.2088636 ],\n",
       "       [17.31424733, 15.04032988],\n",
       "       [17.09197592, 16.67181395],\n",
       "       [17.5876963 , 19.19686124]])"
      ]
     },
     "execution_count": 7,
     "metadata": {},
     "output_type": "execute_result"
    }
   ],
   "source": [
    "data"
   ]
  },
  {
   "cell_type": "code",
   "execution_count": 8,
   "metadata": {},
   "outputs": [],
   "source": [
    "from sklearn.decomposition import PCA\n",
    "pca = PCA(n_components = 2)\n",
    "data_compressed = pca.fit_transform(data)"
   ]
  },
  {
   "cell_type": "code",
   "execution_count": 9,
   "metadata": {},
   "outputs": [
    {
     "data": {
      "text/plain": [
       "array([[-11.70209097,  -1.18858478],\n",
       "       [-11.96054501,  -0.45067499],\n",
       "       [ -9.79766023,  -0.0214973 ],\n",
       "       [ -8.88269333,   1.68791099],\n",
       "       [ -8.01959833,  -0.14625578],\n",
       "       [ -6.12605298,  -0.53939002],\n",
       "       [ -4.40412692,   1.70081257],\n",
       "       [ -2.42416179,   0.11988374],\n",
       "       [ -2.56798501,  -0.06985492],\n",
       "       [ -0.23983549,   0.51438752],\n",
       "       [  0.26181877,   0.04061439],\n",
       "       [  3.47210862,  -1.57785132],\n",
       "       [  3.99927199,   0.26276757],\n",
       "       [  3.18096521,  -0.55388054],\n",
       "       [  6.10045881,  -1.6422904 ],\n",
       "       [  6.80693221,   0.65260064],\n",
       "       [  8.96155785,  -0.59758655],\n",
       "       [  9.68817959,   1.90297059],\n",
       "       [ 10.73275437,   0.63017508],\n",
       "       [ 12.92070264,  -0.72425647]])"
      ]
     },
     "execution_count": 9,
     "metadata": {},
     "output_type": "execute_result"
    }
   ],
   "source": [
    "data_compressed"
   ]
  },
  {
   "cell_type": "code",
   "execution_count": 10,
   "metadata": {},
   "outputs": [
    {
     "data": {
      "text/plain": [
       "array([0.98410549, 0.01589451])"
      ]
     },
     "execution_count": 10,
     "metadata": {},
     "output_type": "execute_result"
    }
   ],
   "source": [
    "pca.explained_variance_ratio_"
   ]
  },
  {
   "cell_type": "code",
   "execution_count": 11,
   "metadata": {},
   "outputs": [
    {
     "data": {
      "text/plain": [
       "<matplotlib.collections.PathCollection at 0x1b46bfd3f70>"
      ]
     },
     "execution_count": 11,
     "metadata": {},
     "output_type": "execute_result"
    },
    {
     "data": {
      "image/png": "[encoded data removed]",
      "text/plain": [
       "<Figure size 432x288 with 1 Axes>"
      ]
     },
     "metadata": {
      "needs_background": "light"
     },
     "output_type": "display_data"
    }
   ],
   "source": [
    "plt.axis('equal')\n",
    "plt.scatter(data_compressed[:,0], data_compressed[:,1])"
   ]
  },
  {
   "cell_type": "code",
   "execution_count": 12,
   "metadata": {},
   "outputs": [
    {
     "data": {
      "text/plain": [
       "array([[ 0.68029065,  0.73294245],\n",
       "       [ 0.73294245, -0.68029065]])"
      ]
     },
     "execution_count": 12,
     "metadata": {},
     "output_type": "execute_result"
    }
   ],
   "source": [
    "pca.components_"
   ]
  },
  {
   "cell_type": "markdown",
   "metadata": {},
   "source": [
    "- The direction of the arrows represent the principal components and their relative lengths represent the proportion of variance explained by the components.\n",
    "\n",
    "- The principal components are basically the projections of all the points along the direction of the principal component. We can intuitively see that the projection along the first principal component (the longer vector in the diagram) explains most of our data. The second principal component is mostly catering to the noise that we introduced into the data.\n",
    "\n",
    "- The two components are the projections of all the points in the original dataset taken along the lines:\n",
    "\n",
    "- 0.68029 X1 + 0.7329 X2 (which is approximately the y = X line). The reason it is not exactly the y=X axis is because of the random noise that has skewed the data a little 0.7329 X1 - 0.68029 X2\n",
    "- We can see that the two lines above along which the projections are taken in order to get the principal components are perpendicular (product of their slopes is -1). This property of PCA insures independence between the components"
   ]
  },
  {
   "cell_type": "markdown",
   "metadata": {},
   "source": [
    "# Dimensionality reduction: PCA with one principal component"
   ]
  },
  {
   "cell_type": "code",
   "execution_count": 17,
   "metadata": {},
   "outputs": [
    {
     "data": {
      "text/plain": [
       "<matplotlib.collections.PathCollection at 0x1b46d0ac340>"
      ]
     },
     "execution_count": 17,
     "metadata": {},
     "output_type": "execute_result"
    },
    {
     "data": {
      "image/png": "[encoded data removed]",
      "text/plain": [
       "<Figure size 432x288 with 1 Axes>"
      ]
     },
     "metadata": {
      "needs_background": "light"
     },
     "output_type": "display_data"
    }
   ],
   "source": [
    "pca = PCA(n_components = 1)\n",
    "data_compressed = pca.fit_transform(data)\n",
    "plt.scatter(data_compressed, [1]*20)"
   ]
  },
  {
   "cell_type": "code",
   "execution_count": 18,
   "metadata": {},
   "outputs": [
    {
     "data": {
      "text/plain": [
       "array([[-11.70209097],\n",
       "       [-11.96054501],\n",
       "       [ -9.79766023],\n",
       "       [ -8.88269333],\n",
       "       [ -8.01959833],\n",
       "       [ -6.12605298],\n",
       "       [ -4.40412692],\n",
       "       [ -2.42416179],\n",
       "       [ -2.56798501],\n",
       "       [ -0.23983549],\n",
       "       [  0.26181877],\n",
       "       [  3.47210862],\n",
       "       [  3.99927199],\n",
       "       [  3.18096521],\n",
       "       [  6.10045881],\n",
       "       [  6.80693221],\n",
       "       [  8.96155785],\n",
       "       [  9.68817959],\n",
       "       [ 10.73275437],\n",
       "       [ 12.92070264]])"
      ]
     },
     "execution_count": 18,
     "metadata": {},
     "output_type": "execute_result"
    }
   ],
   "source": [
    "data_compressed"
   ]
  },
  {
   "cell_type": "code",
   "execution_count": 21,
   "metadata": {},
   "outputs": [
    {
     "data": {
      "text/plain": [
       "array([[-11.70209097, -11.96054501,  -9.79766023,  -8.88269333,\n",
       "         -8.01959833,  -6.12605298,  -4.40412692,  -2.42416179,\n",
       "         -2.56798501,  -0.23983549,   0.26181877,   3.47210862,\n",
       "          3.99927199,   3.18096521,   6.10045881,   6.80693221,\n",
       "          8.96155785,   9.68817959,  10.73275437,  12.92070264]])"
      ]
     },
     "execution_count": 21,
     "metadata": {},
     "output_type": "execute_result"
    }
   ],
   "source": [
    "data_compressed.T"
   ]
  },
  {
   "cell_type": "code",
   "execution_count": 20,
   "metadata": {},
   "outputs": [
    {
     "data": {
      "text/plain": [
       "(20, 1)"
      ]
     },
     "execution_count": 20,
     "metadata": {},
     "output_type": "execute_result"
    }
   ],
   "source": [
    "data_compressed.shape"
   ]
  },
  {
   "cell_type": "code",
   "execution_count": 19,
   "metadata": {},
   "outputs": [
    {
     "data": {
      "text/plain": [
       "array([[0.68029065, 0.73294245]])"
      ]
     },
     "execution_count": 19,
     "metadata": {},
     "output_type": "execute_result"
    }
   ],
   "source": [
    "pca.components_"
   ]
  },
  {
   "cell_type": "markdown",
   "metadata": {},
   "source": [
    "* https://www.linkedin.com/pulse/feature-engineering-key-predictive-modeling-karan-rajwanshi/\n",
    "* https://www.linkedin.com/pulse/understanding-pca-part-2-high-dimensional-data-karan-rajwanshi/\n",
    "* https://www.linkedin.com/pulse/understanding-pca-part-1-intuition-karan-rajwanshi/\n",
    "* https://jakevdp.github.io/PythonDataScienceHandbook/05.09-principal-component-analysis.html\n",
    "* https://setosa.io/ev/principal-component-analysis/\n",
    "* http://www.cs.otago.ac.nz/cosc453/student_tutorials/principal_components.pdf\n",
    "* https://towardsdatascience.com/intuition-behind-principal-components-849d3ef9d616\n",
    "* https://towardsdatascience.com/principal-component-analysis-math-and-intuition-post-1-d44bf32844f3\n",
    "* https://medium.com/swlh/intuition-behind-principal-component-analysis-you-ever-wanted-to-understand-af1b8c1ea801\n",
    "* https://intuitive-math.club/linear-algebra/eigenvalues/\n",
    "* https://towardsdatascience.com/scale-standardize-or-normalize-with-scikit-learn-6ccc7d176a02"
   ]
  },
  {
   "cell_type": "code",
   "execution_count": 3,
   "metadata": {},
   "outputs": [],
   "source": [
    "from sklearn.datasets import load_iris\n",
    "iris = load_iris()"
   ]
  },
  {
   "cell_type": "code",
   "execution_count": null,
   "metadata": {},
   "outputs": [],
   "source": [
    "# #checking to see what datasets are available in irisprint (iris.keys())\n",
    "# dict_keys(['feature_names', 'target_names', 'data', 'target', 'DESCR'])"
   ]
  },
  {
   "cell_type": "code",
   "execution_count": 6,
   "metadata": {},
   "outputs": [
    {
     "data": {
      "text/plain": [
       "['sepal length (cm)',\n",
       " 'sepal width (cm)',\n",
       " 'petal length (cm)',\n",
       " 'petal width (cm)']"
      ]
     },
     "execution_count": 6,
     "metadata": {},
     "output_type": "execute_result"
    }
   ],
   "source": [
    "iris.feature_names"
   ]
  },
  {
   "cell_type": "code",
   "execution_count": 7,
   "metadata": {},
   "outputs": [
    {
     "name": "stdout",
     "output_type": "stream",
     "text": [
      "(150, 2)\n"
     ]
    }
   ],
   "source": [
    " #importing and instantiating PCA with 2 components.\n",
    "from sklearn.decomposition import PCA\n",
    "pca = PCA(n_components = 2)\n",
    "#Fitting PCA to the iris dataset and transforming it into 2 principal components\n",
    "X, y = iris.data, iris.target\n",
    "X_proj = pca.fit_transform(X)\n",
    "print (X_proj.shape)"
   ]
  },
  {
   "cell_type": "code",
   "execution_count": 8,
   "metadata": {},
   "outputs": [
    {
     "data": {
      "image/png": "[encoded data removed]",
      "text/plain": [
       "<Figure size 432x288 with 1 Axes>"
      ]
     },
     "metadata": {
      "needs_background": "light"
     },
     "output_type": "display_data"
    }
   ],
   "source": [
    "%matplotlib inline\n",
    "import numpy as np\n",
    "import matplotlib.pyplot as plt\n",
    "\n",
    "#Plotting the principal components\n",
    "plt.scatter(X_proj[:,0], X_proj[:,1],c=y)\n",
    "plt.xlabel(\"PC_1\")\n",
    "plt.ylabel(\"PC_2\")\n",
    "plt.show()"
   ]
  },
  {
   "cell_type": "code",
   "execution_count": 16,
   "metadata": {},
   "outputs": [
    {
     "data": {
      "text/plain": [
       "array([[ 0.36138659, -0.08452251,  0.85667061,  0.3582892 ],\n",
       "       [ 0.65658877,  0.73016143, -0.17337266, -0.07548102]])"
      ]
     },
     "execution_count": 16,
     "metadata": {},
     "output_type": "execute_result"
    }
   ],
   "source": [
    "pca.components_"
   ]
  },
  {
   "cell_type": "code",
   "execution_count": 9,
   "metadata": {},
   "outputs": [
    {
     "name": "stdout",
     "output_type": "stream",
     "text": [
      "Meaning of the 2 components:\n",
      "0.36 x sepal length (cm) + -0.08 x sepal width (cm) + 0.86 x petal length (cm) + 0.36 x petal width (cm)\n",
      "0.66 x sepal length (cm) + 0.73 x sepal width (cm) + -0.17 x petal length (cm) + -0.08 x petal width (cm)\n"
     ]
    }
   ],
   "source": [
    "#Trying to decipher the meaning of the principal components\n",
    "print (\"Meaning of the 2 components:\")\n",
    "for component in pca.components_:\n",
    "    print (\" + \".join(\"%.2f x %s\" % (value, name)\n",
    "                     for value, name in zip(component, iris.feature_names)))"
   ]
  }
 ],
 "metadata": {
  "kernelspec": {
   "display_name": "Python 3 (ipykernel)",
   "language": "python",
   "name": "python3"
  },
  "language_info": {
   "codemirror_mode": {
    "name": "ipython",
    "version": 3
   },
   "file_extension": ".py",
   "mimetype": "text/x-python",
   "name": "python",
   "nbconvert_exporter": "python",
   "pygments_lexer": "ipython3",
   "version": "3.9.7"
  }
 },
 "nbformat": 4,
 "nbformat_minor": 4
}
