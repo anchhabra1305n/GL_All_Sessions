{
 "cells": [
  {
   "cell_type": "markdown",
   "metadata": {},
   "source": [
    "# MSDS 430 Module 7 Python Assignment "
   ]
  },
  {
   "cell_type": "markdown",
   "metadata": {},
   "source": [
    "## Data dictionaries and an introduction to text analytics\n",
    "\n",
    "Objectives:\n",
    "- learn about dictionaries and dictionary methods\n",
    "- use a JSON file\n",
    "- more about string methods\n",
    "- regular expresssions - re Module\n",
    "- Counter module \n",
    "- introduction to text analytics and natural language processing (NLP)\n"
   ]
  },
  {
   "cell_type": "markdown",
   "metadata": {},
   "source": [
    "<div class=\"alert alert-block alert-warning\"> In this assignment you will complete the following exercises and submit your <b>notebook</b> and <b>html file</b> to Canvas. Your files should include all output, i.e. run each cell and save your file before submitting.</div>"
   ]
  },
  {
   "cell_type": "markdown",
   "metadata": {},
   "source": [
    "<div class=\"alert alert-block alert-info\">In this exercise you will work with TripAdvisor customer review data for the <b> Best Western Plus Pioneer Square Hotel Downtown Hotel</b> in Seattle, Washington. The data is stored in a JSON file. JSON is a popular language-independent data format derived from JavaScript. In fact, JSON stands for JavaScript Object Notation. The load method in the json module in Python can be used to parse a JSON file with result being a Python dictionary. Then by using dictionary methods we can extract the list of reviews for the hotel and then use String methods to get information from within the comments made by the users.</div>"
   ]
  },
  {
   "cell_type": "code",
   "execution_count": null,
   "metadata": {},
   "outputs": [],
   "source": [
    "# If you never installed TextBlob before you need to run this cell\n",
    "# !pip install TextBlob"
   ]
  },
  {
   "cell_type": "markdown",
   "metadata": {},
   "source": [
    "### Import all the modules we are going to need"
   ]
  },
  {
   "cell_type": "code",
   "execution_count": null,
   "metadata": {},
   "outputs": [],
   "source": [
    "import pandas as pd\n",
    "import matplotlib.pyplot as plt\n",
    "import seaborn as sns\n",
    "import itertools\n",
    "import collections\n",
    "from numpy import mean   \n",
    "\n",
    "import nltk\n",
    "from nltk.corpus import stopwords\n",
    "from nltk import bigrams\n",
    "from textblob import TextBlob\n",
    "\n",
    "# set up notebook to display multiple outputs in one cell\n",
    "from IPython.core.interactiveshell import InteractiveShell\n",
    "InteractiveShell.ast_node_interactivity = \"all\""
   ]
  },
  {
   "cell_type": "markdown",
   "metadata": {},
   "source": [
    "### Dictionaries and Dict Methods"
   ]
  },
  {
   "cell_type": "markdown",
   "metadata": {},
   "source": [
    "The hotel data we want to analyze is contained in the (json) file `hotel_reviews.json`. The data includes some information about the hotel, and a number of hotel reviews made by people who (we assume) stayed there. When we read the data into Python we will end up with a \"nested\" dictionary, i.e. a dictionary some of whose values are also (lists of) dictionaries. Before we examine the structure of this nested dictionary we need to talk a bit about dictionaries in general."
   ]
  },
  {
   "cell_type": "markdown",
   "metadata": {},
   "source": [
    "Dictionaries in Python are data structures that store key/value pairs. The keys have to be of an \"immutable\" type (such as numbers or strings) but the values can be various kinds of things, including lists, arrays, and other dictionaries. The keys need also to be unique: there can't be duplicates. Let us look at some examples."
   ]
  },
  {
   "cell_type": "code",
   "execution_count": null,
   "metadata": {},
   "outputs": [],
   "source": [
    "# A dictionary with different types of keys: 1, \"two\" and (1,2). \n",
    "# Here (1,2) is an example of a tuple.\n",
    "mixed_keys_dict = {1:\"one\", \"two\":2, (1,2):\"ordered pair\" }\n",
    "mixed_keys_dict"
   ]
  },
  {
   "cell_type": "code",
   "execution_count": null,
   "metadata": {},
   "outputs": [],
   "source": [
    "#  Let us define a simple dictionary with String keys: \"name\", \"age\" and \"sex\":\n",
    "cust_dict = {\"name\":\"John Doe\",\"age\": 32, \"sex\": \"M\"}\n",
    "cust_dict"
   ]
  },
  {
   "cell_type": "markdown",
   "metadata": {},
   "source": [
    "The list of keys in a dictionary can be obtained by using the dictionary's `keys` method. Also, we can obtain the value of any key in the dictionary by \"bracketing\" the key. We could then use assignment to change the value of the key if we wished. For more on this, see __[Dictionary View Objects](https://docs.python.org/3/library/stdtypes.html#dictionary-view-objects)__"
   ]
  },
  {
   "cell_type": "code",
   "execution_count": null,
   "metadata": {},
   "outputs": [],
   "source": [
    "# Get the list of keys--actually a dict_keys object (views) in Python 3.x.\n",
    "cust_dict.keys()"
   ]
  },
  {
   "cell_type": "code",
   "execution_count": null,
   "metadata": {},
   "outputs": [],
   "source": [
    "# Get the value associated with the \"name\" key\n",
    "cust_dict[\"name\"]"
   ]
  },
  {
   "cell_type": "code",
   "execution_count": null,
   "metadata": {},
   "outputs": [],
   "source": [
    "# Change the value of the \"name\" key\n",
    "cust_dict[\"name\"] = \"John Doe Jr.\""
   ]
  },
  {
   "cell_type": "code",
   "execution_count": null,
   "metadata": {},
   "outputs": [],
   "source": [
    "cust_dict"
   ]
  },
  {
   "cell_type": "code",
   "execution_count": null,
   "metadata": {},
   "outputs": [],
   "source": [
    "# A better way...\n",
    "cust_dict.get(\"height\", \"missing\")"
   ]
  },
  {
   "cell_type": "code",
   "execution_count": null,
   "metadata": {},
   "outputs": [],
   "source": [
    "# If the key is there it will return its value...\n",
    "cust_dict.get(\"name\", \"missing\")"
   ]
  },
  {
   "cell_type": "markdown",
   "metadata": {},
   "source": [
    "We can also use assignment to add new key/value pairs to the dictionary. "
   ]
  },
  {
   "cell_type": "code",
   "execution_count": null,
   "metadata": {},
   "outputs": [],
   "source": [
    "cust_dict['height'] = 6.0\n",
    "cust_dict['weight'] = 200.5\n",
    "cust_dict"
   ]
  },
  {
   "cell_type": "markdown",
   "metadata": {},
   "source": [
    "Note that we need to add **key/value pairs** to an *existing* dictionary even if the dictionary is empty to begin with..."
   ]
  },
  {
   "cell_type": "code",
   "execution_count": null,
   "metadata": {},
   "outputs": [],
   "source": [
    "market_dict = {}  # create an empty dictionary\n",
    "market_dict['market_name'] = 'Foods R Us'\n",
    "market_dict"
   ]
  },
  {
   "cell_type": "markdown",
   "metadata": {},
   "source": [
    "Another __[dictionary method](https://www.w3schools.com/python/python_ref_dictionary.asp)__ that is used to add/modify key/value pairs is the __[update](https://www.w3schools.com/python/ref_dictionary_update.asp)__ dictionary method."
   ]
  },
  {
   "cell_type": "code",
   "execution_count": null,
   "metadata": {},
   "outputs": [],
   "source": [
    "market_dict.update({'market_address': '123 Main Street', 'market_phone': '(212)555-6789'})\n",
    "market_dict"
   ]
  },
  {
   "cell_type": "markdown",
   "metadata": {},
   "source": [
    "Let us add a new key/value pair to `cust_dict`, where the key is `\"location\"` and the value of that key is another dictionary (with keys: `\"city\"`, `\"state\"` and `\"zip code\"`)."
   ]
  },
  {
   "cell_type": "code",
   "execution_count": null,
   "metadata": {},
   "outputs": [],
   "source": [
    "# Example of a nested dictionary...\n",
    "location_dict = {\"city\":\"Miami\",\"state\":\"FL\",\"zip code\":33165}\n",
    "cust_dict[\"location\"]=location_dict\n",
    "cust_dict"
   ]
  },
  {
   "cell_type": "markdown",
   "metadata": {},
   "source": [
    "Note that the value of the `\"location\"` key is itself a dictionary and we can access its value by \"bracketing\" again."
   ]
  },
  {
   "cell_type": "code",
   "execution_count": null,
   "metadata": {},
   "outputs": [],
   "source": [
    "cust_dict['location']"
   ]
  },
  {
   "cell_type": "code",
   "execution_count": null,
   "metadata": {},
   "outputs": [],
   "source": [
    "cust_dict['location']['city']"
   ]
  },
  {
   "cell_type": "code",
   "execution_count": null,
   "metadata": {},
   "outputs": [],
   "source": [
    "cust_dict['location']['zip code']"
   ]
  },
  {
   "cell_type": "markdown",
   "metadata": {},
   "source": [
    "<div class=\"alert alert-block alert-success\"><b>Problem 1 (1 pt.)</b>: Add a key/value pair to the <b><i>market_dict</i></b> dictionary defined above. We want the key to be \"<b><i>fruits</i></b>\" and its corresponding value to be an \"inventory\" dictionary. This \"inventory\" dictionary should consist of fruit names as keys (i.e. <b><i>apples</i></b>, <b><i>oranges</i></b> and <b><i>pears</i></b>). The value of each key should be the number of such fruits being sold at the market. Assume that there are 123 apples, 98 oranges and 53 pears on sale. After adding this key/value pair to <b><i>market_dict</i></b>, display <b><i>market_dict[\"fruits\"]</i></b> to verify your work.</div>"
   ]
  },
  {
   "cell_type": "code",
   "execution_count": null,
   "metadata": {},
   "outputs": [],
   "source": [
    "fruit_dict = {\"apples\":123,\"oranges\":98,\"pears\":53}\n",
    "# TODO: Add a key/value pair to the dictionary where the key is \"fruits\" and the value fruit_dict\n",
    "\n",
    "\n",
    "# The following should display the three keys: 'apples', 'oranges' and 'pears'.\n",
    "print(market_dict['fruits'].keys())"
   ]
  },
  {
   "cell_type": "markdown",
   "metadata": {},
   "source": [
    "### Examining a JSON File"
   ]
  },
  {
   "cell_type": "markdown",
   "metadata": {},
   "source": [
    "Now it is time to turn our attention to our JSON file. We want to open and read `hotel_reviews.json` and save the data as a Python dictionary to the variable `hotel_data`. This is a two step process:\n",
    "\n",
    " 1. Use the open method to create a file object.\n",
    " 2. Pass the file object to `load` method in the `json` module. This method parses the contents of the file and returns a Python dictionary.\n",
    " \n",
    " But first we need to import the json module."
   ]
  },
  {
   "cell_type": "code",
   "execution_count": null,
   "metadata": {},
   "outputs": [],
   "source": [
    "import json\n",
    "#with open('../Data Files/hotel_reviews.json') as json_data:\n",
    "with open('hotel_reviews.json') as json_data:\n",
    "    hotel_data = json.load(json_data,) \n",
    "hotel_data"
   ]
  },
  {
   "cell_type": "markdown",
   "metadata": {},
   "source": [
    "The structure of `hotel_data` is a bit complicated but it is divided into two parts: a **HotelInfo** \"section\" (i.e. the value of the `'HotelInfo'` key) and the **Reviews** \"section\" (the value of the `'Reviews'` key)."
   ]
  },
  {
   "cell_type": "code",
   "execution_count": null,
   "metadata": {},
   "outputs": [],
   "source": [
    "hotel_data.keys()"
   ]
  },
  {
   "cell_type": "code",
   "execution_count": null,
   "metadata": {},
   "outputs": [],
   "source": [
    "# The hotel information is stored in a dictionary.\n",
    "hotel_info = hotel_data['HotelInfo']\n",
    "hotel_info"
   ]
  },
  {
   "cell_type": "code",
   "execution_count": null,
   "metadata": {},
   "outputs": [],
   "source": [
    "# The list of reviews with the data for each review also being stored in a dictionary.\n",
    "# Here are the first two reviews (dictionaries) in the list...\n",
    "hotel_data['Reviews'][:2]"
   ]
  },
  {
   "cell_type": "markdown",
   "metadata": {},
   "source": [
    "The hotel information is stored in a dictionary (with keys such as `'HotelID'` and `'Address'`), while the reviews are stored in a list--a list of dictionaries, with each dictionary containing information about a particular review. Let us get the list of reviews and save them to the `reviews` variable for further analysis."
   ]
  },
  {
   "cell_type": "code",
   "execution_count": null,
   "metadata": {},
   "outputs": [],
   "source": [
    "reviews = hotel_data['Reviews'] # list of reviews\n",
    "type(reviews) # check that it is a list"
   ]
  },
  {
   "cell_type": "code",
   "execution_count": null,
   "metadata": {},
   "outputs": [],
   "source": [
    "print(\"There are\",len(reviews),\"reviews altogether.\")"
   ]
  },
  {
   "cell_type": "code",
   "execution_count": null,
   "metadata": {},
   "outputs": [],
   "source": [
    "# display first review\n",
    "first_review = reviews[0] \n",
    "first_review"
   ]
  },
  {
   "cell_type": "code",
   "execution_count": null,
   "metadata": {},
   "outputs": [],
   "source": [
    "# display first review's ratings only\n",
    "first_review_ratings = first_review['Ratings']\n",
    "first_review_ratings"
   ]
  },
  {
   "cell_type": "code",
   "execution_count": null,
   "metadata": {},
   "outputs": [],
   "source": [
    "print(first_review['Author'],\"made the following comments:\",'\\n')\n",
    "print(first_review['Content'])"
   ]
  },
  {
   "cell_type": "markdown",
   "metadata": {},
   "source": [
    "### Creating a List"
   ]
  },
  {
   "cell_type": "markdown",
   "metadata": {},
   "source": [
    "We want to create a list with just the comments (strings). We do this by iterating over the list of reviews..."
   ]
  },
  {
   "cell_type": "code",
   "execution_count": null,
   "metadata": {},
   "outputs": [],
   "source": [
    "comment_lst = []  # will contain the review strings\n",
    "for review in reviews:\n",
    "    comment_lst.append(review['Content'])"
   ]
  },
  {
   "cell_type": "code",
   "execution_count": null,
   "metadata": {},
   "outputs": [],
   "source": [
    "len(comment_lst) # contains 233 comments--one for each reviewer"
   ]
  },
  {
   "cell_type": "code",
   "execution_count": null,
   "metadata": {},
   "outputs": [],
   "source": [
    "first_comment=comment_lst[0]\n",
    "print(\"The first comment in the comment list is:\",'\\n')\n",
    "print(first_comment)"
   ]
  },
  {
   "cell_type": "markdown",
   "metadata": {},
   "source": [
    "### String Methods"
   ]
  },
  {
   "cell_type": "markdown",
   "metadata": {},
   "source": [
    "We we want to iterate over the list of comments and obtain information about the comments made by the reviewers. Since each of the comments is a String object, we are going to need some String methods to extract the information. See, for example, __[String Methods](https://www.w3schools.com/python/python_ref_string.asp)__. Let us illustrate some of the listed methods with the comments from the first reviewer."
   ]
  },
  {
   "cell_type": "code",
   "execution_count": null,
   "metadata": {},
   "outputs": [],
   "source": [
    "# Create a new string with all characters made lower case..\n",
    "first_comment.lower()"
   ]
  },
  {
   "cell_type": "code",
   "execution_count": null,
   "metadata": {},
   "outputs": [],
   "source": [
    "# Find how many times the string \"we\" is mentioned in the comments.\n",
    "first_comment.count(\"we\")"
   ]
  },
  {
   "cell_type": "code",
   "execution_count": null,
   "metadata": {},
   "outputs": [],
   "source": [
    "# If we wanted a \"case-insensitive\" search of instances of \"we\", we can do this...\n",
    "first_comment.lower().count(\"we\")  # include \"We\" as well"
   ]
  },
  {
   "cell_type": "markdown",
   "metadata": {},
   "source": [
    "<div class=\"alert alert-block alert-success\"><b>Problem 2 (2 pts.)</b>: Complete the loop below to display the number of times \"bathroom\" is contained within the text of the reviews for this hotel. Your output should look like this:</div>\n",
    "\n",
    "`The word 'bathroom' occurs 29 times in the reviews for this hotel.`"
   ]
  },
  {
   "cell_type": "code",
   "execution_count": null,
   "metadata": {},
   "outputs": [],
   "source": [
    "counter = 0\n",
    "for review in comment_lst:\n",
    "    # TODO: Insert code in the for loop body to determine the number of times \"bathroom\" appears \n",
    "    # in the current review and increment the counter variable accordingly.\n",
    "    \n",
    "        \n",
    "# TODO: Print using an f-string\n",
    " "
   ]
  },
  {
   "cell_type": "markdown",
   "metadata": {},
   "source": [
    "<div class=\"alert alert-block alert-success\"><b>Problem 3 (2 pts.)</b>: Print the number of \"wordy\" comments. A comment is considered \"wordy\" if it contains more than 100 words. For example, \"We stayed here and we liked it\" contains 7 words. Your output should look like this:</div>\n",
    "\n",
    "`There are 128 wordy comments.`"
   ]
  },
  {
   "cell_type": "code",
   "execution_count": null,
   "metadata": {},
   "outputs": [],
   "source": [
    "counter = 0\n",
    "for review in comment_lst:\n",
    "    # TODO: Insert code in the for loop body to get the number of \"wordy\" comments.\n",
    "\n",
    "\n",
    "\n",
    "# Print the number of wordy comments.\n",
    "print(f'There are {counter} wordy comments.')"
   ]
  },
  {
   "cell_type": "markdown",
   "metadata": {},
   "source": [
    "We want to iterate over the `reviews` dictionary again this time saving with name of the reviewer together with the comments (in a dictionary)."
   ]
  },
  {
   "cell_type": "markdown",
   "metadata": {},
   "source": [
    "<div class=\"alert alert-block alert-success\"><b>Problem 4 (4 pts.)</b>: Create a list of dictionaries (<b><i>ar_dict</i></b>), where each dictionary has two keys: \"<b><i>Author</i></b>\" and \"<b><i>Comments</i></b>\", by iterating over the list of reviews and for each review constructing a dictionary containing the author's name and comments and then appending it to the list of dictionaries we are creating.</div>"
   ]
  },
  {
   "cell_type": "code",
   "execution_count": null,
   "metadata": {},
   "outputs": [],
   "source": [
    "ar_lst = []\n",
    "for review in reviews:\n",
    "    # TODO: (1) Create a dictionary, ar_dict, containing just two keys, “Author” and \"Comments”. \n",
    "    #           Their values should be obtained from the current review dictionary stored in the “review” variable.\n",
    "    #       (2) Append this newly constructed dictionary, ar_dict, to the ar_lst list.\n",
    "\n",
    "    \n",
    "\n",
    "\n",
    "\n",
    "# Let us check that we have 233 elements in the ar_lst list.\n",
    "print(f'There are {len(ar_lst)} elements in the list.')\n"
   ]
  },
  {
   "cell_type": "code",
   "execution_count": null,
   "metadata": {},
   "outputs": [],
   "source": [
    "ar_lst"
   ]
  },
  {
   "cell_type": "code",
   "execution_count": null,
   "metadata": {},
   "outputs": [],
   "source": [
    "# Let us display the data from the first dictionary in the list.\n",
    "\n",
    "first_review = ar_lst[0]\n",
    "print(f\"{first_review['Author']}, said this\",'\\n')\n",
    "#print(first_review['Author'],\"said this:\",'\\n')\n",
    "print(first_review['Comments'])"
   ]
  },
  {
   "cell_type": "raw",
   "metadata": {},
   "source": [
    "gowharr32, said this \n",
    "\n",
    "We enjoyed the Best Western Pioneer Square. My husband and I had a room with a king bed and it was clean, quiet, and attractive. Our sons were in a room with twin beds. Their room was in the corner on the main street and they said it was a little noisier and the neon light shone in. But later hotels on the trip made them appreciate this one more. We loved the old wood center staircase. Breakfast was included and everyone was happy with waffles, toast, cereal, and an egg meal. Location was great. We could walk to shops and restaurants as well as transportation. Pike Market was a reasonable walk. We enjoyed the nearby Gold Rush Museum. Very, very happy with our stay. Staff was helpful and knowledgeable."
   ]
  },
  {
   "cell_type": "markdown",
   "metadata": {},
   "source": [
    "### The Counter Module"
   ]
  },
  {
   "cell_type": "markdown",
   "metadata": {},
   "source": [
    "In the next exercise we want to count the number of *unique* words in each of the comments. We learned previously how to split a string to create a list of words. We can write code from scratch to count the number of different words in the list. Alternatively, we can convert the list to another container data type that makes it easier to obtain this information. The `counter` module defines the `Counter` class. A `Counter` is basically a \"special type\" of dictionary. Given a list object `my_list` we can turn it into a counter object as follows: `Counter(my_list)`. This assumes we already imported the class from the collections module: `from collections import Counter`. See __[Counter Module](http://rahmonov.me/posts/python-collections-counter/)__. "
   ]
  },
  {
   "cell_type": "markdown",
   "metadata": {},
   "source": [
    "For example,\n",
    "\n",
    "```python\n",
    "from collections import Counter\n",
    "my_list = ['a', 'b', 'c', 'c', 'a', 'd', 'b', 'e', 'a']\n",
    "Counter(my_list)\n",
    "```\n",
    "creates the Counter object:\n",
    "\n",
    "```python\n",
    "Counter({'a': 3, 'b': 2, 'c': 2, 'd': 1, 'e': 1})\n",
    "```\n",
    "\n",
    "This tells you that the letter `a` appears `3` times in the list, etc."
   ]
  },
  {
   "cell_type": "markdown",
   "metadata": {},
   "source": [
    "We can get the keys and values just like with dictionaries:\n",
    "\n",
    "```python\n",
    "list(Counter(my_list).keys())\n",
    "```\n",
    "\n",
    "returns\n",
    "\n",
    "```python\n",
    "['a', 'b', 'c', 'd', 'e']\n",
    "```\n",
    "\n",
    "and\n",
    "\n",
    "```python\n",
    "list(Counter(my_list).values())\n",
    "```\n",
    "\n",
    "returns\n",
    "\n",
    "```python\n",
    "[3, 2, 2, 1, 1]\n",
    "```"
   ]
  },
  {
   "cell_type": "markdown",
   "metadata": {},
   "source": [
    "### Regular Expressions - The *re* Module"
   ]
  },
  {
   "cell_type": "markdown",
   "metadata": {},
   "source": [
    "Regular expressions or regexes are a specialized programming language embedded inside Python and made available through the `re` module. Using *re* module functions, you specify the rules for the set of possible strings that you want to match. You can follow this up with questions such as “Does this string match the pattern?”, or “Is there a match for the pattern anywhere in this string?”. You can also use regexes (or REs) to modify a string or to split it apart in various ways.\n",
    "\n",
    "Reference: __[Regex How-to](https://docs.python.org/3.7/howto/regex.html#regex-howto)__\n",
    "\n",
    "In our specific example, we want to get the list of words in each review. The first step towards this goal is to remove punctuation from the comment strings. There is top-level function `sub` in the `re` module that can be used to replace characters in a string by other characters (or remove them altogether)."
   ]
  },
  {
   "cell_type": "code",
   "execution_count": null,
   "metadata": {},
   "outputs": [],
   "source": [
    "import re\n",
    "\n",
    "phone = \"2004-959-559 # This is Phone Number\"\n",
    "\n",
    "# Delete Python-style comments\n",
    "num = re.sub(r'#.*$', \"\", phone)\n",
    "print(\"Phone Num : \", num)\n",
    "\n",
    "# Remove anything other than digits\n",
    "num = re.sub(r'\\D', \"\", phone)    \n",
    "print(\"Phone Num : \", num)"
   ]
  },
  {
   "cell_type": "markdown",
   "metadata": {},
   "source": [
    "For more examples on regular expressions, please visit: <br>__[Regular Expressions](https://www.tutorialspoint.com/python/python_reg_expressions.htm)__\n",
    "\n",
    "For a list of punctuation options in the string class, please visit:<br>\n",
    "__[String Punctuation](https://www.geeksforgeeks.org/string-punctuation-in-python/)__"
   ]
  },
  {
   "cell_type": "code",
   "execution_count": null,
   "metadata": {},
   "outputs": [],
   "source": [
    "import string\n",
    "string.punctuation"
   ]
  },
  {
   "cell_type": "markdown",
   "metadata": {},
   "source": [
    "<div class=\"alert alert-block alert-success\"><b>Problem 5 (4 pts.)</b>: Iterate over <b><i>ar_list</i></b> and print the name of each reviewer (author) and the total number of *different*, i.e. *unique*, words in his comments. For example, \"We stayed here and we liked it\" contains 6 *unique* words since 'we' is repeated 2 times.\n",
    "\n",
    "As part of the process of counting *unique* words in each comment string you want to first remove all punctuation using `re.sub`. Save the resulting string to a list: `comments`. </b> \n",
    "    \n",
    "</div>"
   ]
  },
  {
   "attachments": {
    "image.png": {
     "image/png": "[encoded data removed]"
    }
   },
   "cell_type": "markdown",
   "metadata": {},
   "source": [
    "![image.png](attachment:image.png)"
   ]
  },
  {
   "cell_type": "code",
   "execution_count": null,
   "metadata": {},
   "outputs": [],
   "source": [
    "counter = 0\n",
    "from collections import Counter\n",
    "import re\n",
    "comments = []\n",
    "for review in ar_lst:\n",
    "    # TODO: (1) Get the number of words in the current review variable.\n",
    "    #       (2) Print the author's name and the number of (unique) words in his/her review \n",
    " \n"
   ]
  },
  {
   "cell_type": "markdown",
   "metadata": {},
   "source": [
    "##### Sample Output"
   ]
  },
  {
   "cell_type": "raw",
   "metadata": {},
   "source": [
    "gowharr32 used 87 unique words.\n",
    "Nancy W used 84 unique words.\n",
    "Janet H used 44 unique words.\n",
    "TimothyFlorida used 68 unique words.\n",
    "KarenArmstrong_BC used 106 unique words.\n",
    "Shane33333 used 52 unique words.\n",
    "Bnkruzn used 15 unique words.\n",
    "Teacherbear used 54 unique words.\n",
    "CandyGnomad used 50 unique words.\n",
    "idahosandy used 16 unique words.\n",
    "..."
   ]
  },
  {
   "cell_type": "markdown",
   "metadata": {},
   "source": [
    "## Analyzing the Review text\n",
    "\n",
    "The next step in analyzing the data is to look for insights within the reviews given by the customers. We will start by looking at the most common words and then analyzing the sentiments of the reviews - whether they are positive or negative."
   ]
  },
  {
   "cell_type": "code",
   "execution_count": null,
   "metadata": {},
   "outputs": [],
   "source": [
    "# start with the list of Reviews which is in a free text format \n",
    "type(comments)\n",
    "len(comments) # Number of comments\n",
    "comments[:3] # display the first three comments in the list"
   ]
  },
  {
   "cell_type": "markdown",
   "metadata": {},
   "source": [
    "## Tokenize - or split into words\n",
    "\n",
    "The `comments` list has already been cleaned with lower case and all punctuation removed. But the cell below shows the combined use of `.lower` to normalize the case of the data and `.split` to use the white space of the sentences to establish words (tokens)."
   ]
  },
  {
   "cell_type": "code",
   "execution_count": null,
   "metadata": {},
   "outputs": [],
   "source": [
    "# break out the Reviews into words\n",
    "my_words = [line.lower().split() for line in comments]\n",
    "\n",
    "# display the first 10 words in the first 5 comments\n",
    "for words in my_words[:5]:\n",
    "    print(words[:10])"
   ]
  },
  {
   "cell_type": "markdown",
   "metadata": {},
   "source": [
    "### Itertools - a standard python package that allows for iterating instead of looping\n",
    "\n",
    " * https://jmduke.com/2013/11/29/itertools\n",
    " * https://realpython.com/python-itertools/"
   ]
  },
  {
   "cell_type": "code",
   "execution_count": null,
   "metadata": {},
   "outputs": [],
   "source": [
    "# prepare the words for analysis\n",
    "words_total = list(itertools.chain(*my_words))\n",
    "\n",
    "type(words_total)\n",
    "words_total[:20] # display the first 20 words in the comments\n"
   ]
  },
  {
   "cell_type": "markdown",
   "metadata": {},
   "source": [
    "### Most common words\n",
    "\n",
    "When you look at the most common words, you see words that are not unique to hotel reviews, but are common to any topic like <i><u> the, and, a, to.</u></i> In Natural Language Processing, these are called <b>stopwords</b>."
   ]
  },
  {
   "cell_type": "code",
   "execution_count": null,
   "metadata": {},
   "outputs": [],
   "source": [
    "# You can see the most common words are what would qualify as stopwords\n",
    "# These stopwords have no value in our analysis and only provide noise\n",
    "count_words = collections.Counter(words_total)\n",
    "count_words.most_common(20)"
   ]
  },
  {
   "cell_type": "markdown",
   "metadata": {},
   "source": [
    "### Stopwords\n",
    "\n",
    "The <b>nltk</b> package comes with default stopwords."
   ]
  },
  {
   "cell_type": "code",
   "execution_count": null,
   "metadata": {},
   "outputs": [],
   "source": [
    "nltk.download('stopwords')\n",
    "stop_words = set(stopwords.words('english'))\n",
    "\n",
    "# comes with 179 stopwords\n",
    "len(stop_words)\n",
    "stop_words"
   ]
  },
  {
   "cell_type": "markdown",
   "metadata": {},
   "source": [
    "### Remove stopwords\n",
    "\n",
    "The code in the next cell will remove the stopwords from your list."
   ]
  },
  {
   "cell_type": "code",
   "execution_count": null,
   "metadata": {},
   "outputs": [],
   "source": [
    "my_final = [[word for word in count_words if not word in stop_words]\n",
    "              for count_words in my_words]\n",
    "my_final"
   ]
  },
  {
   "cell_type": "code",
   "execution_count": null,
   "metadata": {},
   "outputs": [],
   "source": [
    "all_words = list(itertools.chain(*my_final))\n",
    "counts_all = collections.Counter(all_words)\n",
    "counts_all.most_common(20)"
   ]
  },
  {
   "cell_type": "markdown",
   "metadata": {},
   "source": [
    "Let's take a look of the results of removing the stopwords.  You can see (in the cell above) words common to our topic appearing at the top of the list. <br>\n",
    "\n",
    "Does the word 'hotel' add anything to our analysis?  Probably not since we are dealing with hotel reviews. Cleaning text for analysis is very topic specific and requires that you either include discussion with a subject matter expert or spend time with the data to discover the words common to the topic; in our case it is words like `hotel` and `room`. Let's remove these words that will not add to our analysis.  Below is sample code showing how to add to the out-of-the-box stopwords."
   ]
  },
  {
   "cell_type": "code",
   "execution_count": null,
   "metadata": {},
   "outputs": [],
   "source": [
    "len(stop_words)\n",
    "\n",
    "type(stop_words)\n",
    "\n",
    "# add in common words that you don't want in analysis\n",
    "my_stop = ['hotel','room']\n",
    "\n",
    "stop_words.update(my_stop)\n",
    "\n",
    "len(stop_words)"
   ]
  },
  {
   "cell_type": "markdown",
   "metadata": {},
   "source": [
    "<div class=\"alert alert-block alert-success\"><b>Problem 6 (6 pts.)</b>:  \n",
    "    \n",
    "Looking at the most common words, which words will not add to the analysis?<br>\n",
    "\n",
    "1. Add 'pioneer' and 'seattle' to the stopword list. Show the len of `stop_words` before and after you add the stopwords.\n",
    "2. Apply your new stopword list to the review list.\n",
    "3. Show the most common 20 words\n",
    "\n",
    "</div>"
   ]
  },
  {
   "cell_type": "code",
   "execution_count": null,
   "metadata": {},
   "outputs": [],
   "source": [
    "#TODO: Show the length of stop_words before adding 'pioneer' and 'seattle' to the stopword list\n",
    "\n",
    "\n",
    "type(stop_words)\n",
    "\n",
    "#TODO: Add 'pioneer' and 'seattle' to the stopword list\n",
    "\n",
    "\n",
    "#TODO: Show the length of 'stop_words' after the change\n"
   ]
  },
  {
   "cell_type": "code",
   "execution_count": null,
   "metadata": {},
   "outputs": [],
   "source": [
    "#TODO: Apply stopwords to the Review list\n"
   ]
  },
  {
   "cell_type": "code",
   "execution_count": null,
   "metadata": {},
   "outputs": [],
   "source": [
    "#TODO: Show the most common 20 words\n"
   ]
  },
  {
   "cell_type": "markdown",
   "metadata": {},
   "source": [
    "We can create a horizontal bar graph displaying the counts for each of the common words to view the results for common words."
   ]
  },
  {
   "cell_type": "code",
   "execution_count": null,
   "metadata": {},
   "outputs": [],
   "source": [
    "clean_words = pd.DataFrame(counts_all.most_common(30),\n",
    "                             columns=['words', 'count'])\n",
    "#clean_words\n",
    "\n",
    "fig, ax = plt.subplots(figsize=(8, 8))\n",
    "\n",
    "# Plot horizontal bar graph\n",
    "clean_words.sort_values(by='count').plot.barh(x='words',\n",
    "                      y='count',\n",
    "                      ax=ax,\n",
    "                      color=\"orange\")\n",
    "\n",
    "ax.set_title(\"Common Words Found in Comments (Without Stop Words)\")\n",
    "\n",
    "plt.show()"
   ]
  },
  {
   "cell_type": "markdown",
   "metadata": {},
   "source": [
    "### Isolate reviews with specific words that you want to analyze\n",
    "\n",
    "The example below is selecting only reviews with the word <b>'staff'</b>"
   ]
  },
  {
   "cell_type": "code",
   "execution_count": null,
   "metadata": {},
   "outputs": [],
   "source": [
    "select_comments = []\n",
    "for comment in comments:\n",
    "    temp = comment.lower()\n",
    "    if 'staff' in temp:\n",
    "        select_comments.append(temp)\n",
    "\n",
    "len(select_comments)\n",
    "select_comments\n",
    "     "
   ]
  },
  {
   "cell_type": "markdown",
   "metadata": {},
   "source": [
    "## Using TextBlob for sentiment analysis\n",
    "\n",
    "__[TextBlob](https://textblob.readthedocs.io/en/dev/)__"
   ]
  },
  {
   "cell_type": "markdown",
   "metadata": {},
   "source": [
    "### Sentiment Analysis\n",
    "\n",
    "Sentiment property returns values of polarity and subjectivity.  The polarity score is a float that ranges from -1.0 to 1.0.  Typically a polarity score below -0.5 is negative, a score above 0.5 is positive and a score in between is considered neutral.\n",
    "\n",
    "The subjectivity score is a float that ranges between 0.0 and 1.0 where the lower scores are very objective and the scores closer to 1.0 are very subjective."
   ]
  },
  {
   "cell_type": "code",
   "execution_count": null,
   "metadata": {},
   "outputs": [],
   "source": [
    "comment_sent_pol = [TextBlob(review).sentiment.polarity for review in select_comments]\n",
    "comment_sent_pol[:10]"
   ]
  },
  {
   "cell_type": "code",
   "execution_count": null,
   "metadata": {},
   "outputs": [],
   "source": [
    "len(comment_sent_pol)"
   ]
  },
  {
   "cell_type": "markdown",
   "metadata": {},
   "source": [
    "Let us see how the sentiment polarity are distributed.  With `staff` being mentioned so many times, the Best Western management wants to know if the comments are more positive or negative."
   ]
  },
  {
   "cell_type": "code",
   "execution_count": null,
   "metadata": {},
   "outputs": [],
   "source": [
    "plt.hist(comment_sent_pol)"
   ]
  },
  {
   "cell_type": "markdown",
   "metadata": {},
   "source": [
    "You can see by the histogram, which is relatively symmetric in shape, that all comments have a polarity above zero with some above 0.5. Even though there are no negative polarity scores, most lie between 0.1 and 0.5 indicating mostly neutral reviews."
   ]
  },
  {
   "cell_type": "markdown",
   "metadata": {},
   "source": [
    "<div class=\"alert alert-block alert-success\"><b>Problem 7 (5 pts.)</b>:  \n",
    "    \n",
    "Isolate the comments containing at least one instance of the word <b>'comfortable'</b>. \n",
    "1. Save the comments to a list. You should have 67 comments.\n",
    "2. Create a histogram to display the distribution of the average polarities. \n",
    "3. Interpret the results.\n",
    "\n",
    "</div>"
   ]
  },
  {
   "cell_type": "code",
   "execution_count": null,
   "metadata": {},
   "outputs": [],
   "source": [
    "#TODO - create a list of comments that contain the word 'comfortable'. Make sure the comments have already\n",
    "# had punctuation removed and have been put into lowercase.\n"
   ]
  },
  {
   "cell_type": "code",
   "execution_count": null,
   "metadata": {},
   "outputs": [],
   "source": [
    "#TODO show a histogram of the polarity\n"
   ]
  },
  {
   "cell_type": "code",
   "execution_count": null,
   "metadata": {},
   "outputs": [],
   "source": [
    "#TODO - Interpret the results. "
   ]
  },
  {
   "cell_type": "markdown",
   "metadata": {},
   "source": [
    "## Stemming - getting to the root word\n",
    "\n",
    "Stemming will take words such as `enjoyed` and `enjoying` to the root form of `enjoy`.  A disadvantage of stemming is that it may stem a word to a non-sensical word, such as `location` to `locat`.\n",
    "\n",
    "Reference: __[Stemming vs Lemmatization](https://www.analyticsvidhya.com/blog/2022/06/stemming-vs-lemmatization-in-nlp-must-know-differences/)__"
   ]
  },
  {
   "cell_type": "code",
   "execution_count": null,
   "metadata": {},
   "outputs": [],
   "source": [
    "# create a list of words \n",
    "to_stem = list(itertools.chain(*my_final))\n",
    "\n",
    "# stemming section\n",
    "from nltk.stem.porter import PorterStemmer\n",
    "porter = PorterStemmer()\n",
    "stemmed = [porter.stem(word) for word in to_stem]\n",
    "print(stemmed[:50])"
   ]
  },
  {
   "cell_type": "markdown",
   "metadata": {},
   "source": [
    "<div class=\"alert alert-block alert-success\"><b>Problem 8 (6 pts.)</b>:  \n",
    "    \n",
    "When you look at the `stemmed` object above, you can see the results of using PorterStemmer.  But what did this do to our top words?\n",
    "    \n",
    "1. Write code to count the words and show the top 20 used.\n",
    "2. Produce a new horizontal bar graph with this new set of words.\n",
    "3. Explain what stemming did to our set of words.\n",
    "\n",
    "</div>"
   ]
  },
  {
   "cell_type": "code",
   "execution_count": null,
   "metadata": {},
   "outputs": [],
   "source": [
    "# TODO: count the words in stemmed\n"
   ]
  },
  {
   "cell_type": "code",
   "execution_count": null,
   "metadata": {},
   "outputs": [],
   "source": [
    "# TODO: create new horizontal bar chart with stemmed words\n"
   ]
  },
  {
   "cell_type": "code",
   "execution_count": null,
   "metadata": {},
   "outputs": [],
   "source": [
    "# TODO: Explain how the top words differ after applying stemming\n"
   ]
  },
  {
   "attachments": {
    "image.png": {
     "image/png": "[encoded data removed]"
    }
   },
   "cell_type": "markdown",
   "metadata": {},
   "source": [
    "## Lemmatization\n",
    "\n",
    "We saw the limitations with stemming where the stemmed word may not be a meaningful representation of the word - like `squar` for `square`.  Lemmatization will overcome this problem as it looks for more meaningful representation of the word by looking at the entire sentence and considering context.  The result of lemmatization will be a valid word.\n",
    "![image.png](attachment:image.png)"
   ]
  },
  {
   "cell_type": "markdown",
   "metadata": {},
   "source": [
    "If you choose to go deeper into the programming of text analytics and NLP, you will learn more about stemming and lemmatization.  To see lemmatization code, check out: __[Stemming vs Lemmatization](https://www.analyticsvidhya.com/blog/2022/06/stemming-vs-lemmatization-in-nlp-must-know-differences/)__"
   ]
  },
  {
   "cell_type": "code",
   "execution_count": null,
   "metadata": {},
   "outputs": [],
   "source": []
  }
 ],
 "metadata": {
  "kernelspec": {
   "display_name": "Python 3",
   "language": "python",
   "name": "python3"
  },
  "language_info": {
   "codemirror_mode": {
    "name": "ipython",
    "version": 3
   },
   "file_extension": ".py",
   "mimetype": "text/x-python",
   "name": "python",
   "nbconvert_exporter": "python",
   "pygments_lexer": "ipython3",
   "version": "3.7.10"
  },
  "toc": {
   "base_numbering": 1,
   "nav_menu": {},
   "number_sections": false,
   "sideBar": true,
   "skip_h1_title": false,
   "title_cell": "Table of Contents",
   "title_sidebar": "Contents",
   "toc_cell": false,
   "toc_position": {},
   "toc_section_display": true,
   "toc_window_display": false
  }
 },
 "nbformat": 4,
 "nbformat_minor": 4
}
