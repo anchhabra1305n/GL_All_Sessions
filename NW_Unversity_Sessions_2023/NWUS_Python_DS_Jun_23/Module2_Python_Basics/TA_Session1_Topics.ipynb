{
 "cells": [
  {
   "cell_type": "markdown",
   "id": "b539ed51",
   "metadata": {},
   "source": [
    "**Topics**\n",
    "* Installing and Import modules in Python "
   ]
  },
  {
   "cell_type": "markdown",
   "id": "fa8255cd",
   "metadata": {},
   "source": [
    "**What is Logistic Regression - Qualitative Dependent Variable**\n",
    "* Probability to Sigmoid Curve (Cumulative Curve) - Logit function https://en.wikipedia.org/wiki/Sigmoid_function\n",
    "* **Assumption of logistic Regression** -\n",
    "    * Dependent variable has to be categorical (dichotomous for binary logistic regression)\n",
    "    * P(Y=1) is the probability of occurrence of event\n",
    "    * Dependent variable is to be coded accordingly\n",
    "    * For a binary logistic regression, the class 1 of the dependent variable should represent the desired outcome\n",
    "    * Error terms need to be independent. Logistic regression requires each observation to be independent.\n",
    "    * Model should have little or no multicollinearity\n",
    "    * Logistic regression assumes linearity of independent variables and log odds\n",
    "    * Sample size should be large enough\n",
    "* **Assumption not required in Logistic Regression** -\n",
    "    * Linear relationship between the dependent and independent variables is not necessary\n",
    "    * Error terms (residuals) do not need to be normally distributed\n",
    "    * Homoscedasticity is not needed\n",
    "* Odds - Odds ratio for a predictor is defined as the relative amount by which the odds of the outcome increase\n",
    "    (Odds Ratio > 1) or decrease (Odds Ratio < 1) when the value of the predictor variable is increased by 1 unit \n",
    "    for a given predictor = (P/1-p) x =1 / p(/1-p) x=0 \n",
    "    * What happens when Odds Ratio > 1 -\n",
    "        * X is Categorical - Relative probability of event to non-event is higher when X1 is present vis-à-vis when X1 is absent \n",
    "        * X is Continuous - Relative probability of event to non-event is higher when X1 increases \n",
    "    * What happens when Odds Ratio < 1 -\n",
    "         * X is Categorical - Relative probability of event to non-event is lower when X1 is present vis-à-vis when X1 is absent \n",
    "        * X is Continuous - Relative probability of event to non-event is lower when X1 increases\n",
    "    * What happens when Odds Ratio = 1 - ??    \n",
    "* MLE -  MLE is a statistical method for estimating the coefficients of a model.\n",
    "     * The likelihood function (L) measures the probability of observing the particular set of dependent variable values \n",
    "         (p1 , p2, ..., pn) that occur in the sample: **L = Prob (p1, p2...pn) - Likelyhood function**\n",
    "     * The higher the L, the higher the probability of observing the ps in the sampl \n",
    "* Log of Odds - To make the function linear we take log both sides\n",
    "* Model Building - Refer to below notebook\n",
    "* Output Interpretation - Refer to the results\n",
    "* Model Evaluation -\n",
    "    * Senstivity & Specificity -\n",
    "    * ROC Curve - \n",
    "    * Confusion Matrix -\n",
    "* Variable Transformation     "
   ]
  },
  {
   "cell_type": "code",
   "execution_count": null,
   "id": "10cd3f1e",
   "metadata": {},
   "outputs": [],
   "source": []
  }
 ],
 "metadata": {
  "kernelspec": {
   "display_name": "Python 3 (ipykernel)",
   "language": "python",
   "name": "python3"
  },
  "language_info": {
   "codemirror_mode": {
    "name": "ipython",
    "version": 3
   },
   "file_extension": ".py",
   "mimetype": "text/x-python",
   "name": "python",
   "nbconvert_exporter": "python",
   "pygments_lexer": "ipython3",
   "version": "3.9.7"
  }
 },
 "nbformat": 4,
 "nbformat_minor": 5
}
