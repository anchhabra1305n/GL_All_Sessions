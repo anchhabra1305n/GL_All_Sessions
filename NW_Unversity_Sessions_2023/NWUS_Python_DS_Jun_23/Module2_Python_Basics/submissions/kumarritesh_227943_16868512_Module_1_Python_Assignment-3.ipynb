{
 "cells": [
  {
   "cell_type": "markdown",
   "metadata": {
    "id": "9zHgQhcTs2ju"
   },
   "source": [
    "# MSDS 430 Module 1 Python Assignment"
   ]
  },
  {
   "cell_type": "markdown",
   "metadata": {
    "id": "V5pEiVy6s2jw"
   },
   "source": [
    "#### <div class=\"alert alert-block alert-warning\"> Read through this notebook and follow the instructions provided. In this assignment you will complete the exercises that follow and submit your notebook (ipynb file) and html file to Canvas. Your files should include all output, i.e. run each cell and save before submitting for a grade.  In this course we will use only Python 3.x</div>"
   ]
  },
  {
   "cell_type": "markdown",
   "metadata": {
    "id": "aiKTPQ_Fs2jw"
   },
   "source": [
    "<div class=\"alert alert-block alert-info\"><i>Each week we will be asking you to submit your completed notebook along with an html file. Some assignments will require additional types of files, so watch for that later on. Once you've run every cell in the notebook and you're satisfied with the results, submit the notebook and the html file to Canvas for grading. To download the html file to your computer, go to <u>File --> Download as --> HTML.</u></i></div>"
   ]
  },
  {
   "cell_type": "markdown",
   "metadata": {
    "id": "Py76OoCLs2jw"
   },
   "source": [
    "![save-as-html-screenshot%20%28Custom%29.png](attachment:save-as-html-screenshot%20%28Custom%29.png)"
   ]
  },
  {
   "cell_type": "markdown",
   "metadata": {
    "id": "2IlGkYces2jx"
   },
   "source": [
    "<div class=\"alert alert-block alert-danger\">\n",
    "    \n",
    "### Jupyter Notebook Best Practices\n",
    "\n",
    "- Each time you come in to Jupyter Notebook (JN), start with a clean slate by clicking on `Kernel->Restart & Clear Output`.  This is done because of the following reasons:\n",
    "  - Even if a cell is already showing output from a previous run, that does not mean the variables are active in the notebook.\n",
    "  - If each necessary cell is not run beforehand, certain results may be incorrect or variables used later in the notebook will not be recognized and will generate an error .\n",
    "- In each week's assignment it's best if you run the code cells individually as you encounter them. Not running cells in sequence could cause incorrect answers to the assigned problems.\n",
    "- Before you turn in your assignment, run your JN by clicking on `Kernel->Restart & Run All`.\n",
    "  - This ensures that both the .ipynb and the HTML files turned in are complete for all assigned questions.\n",
    "  - If your assignment has prompts (as the Module 1 assignment does), you will need to answer each prompt.\n",
    "\n",
    "</div>"
   ]
  },
  {
   "cell_type": "markdown",
   "metadata": {
    "id": "t3UxAymKs2jx"
   },
   "source": [
    "<div class=\"alert alert-block alert-danger\"><b>Throughout all assignment notebooks you will see <font color=b>#TODO</font> instructions in most or all of the code cells provided for the assigned problems. <i><u>You are required to complete these as indicated to avoid any deductions.</u></i> Do not delete these or rearrange them. If you want to practice different approaches or techniques on your own that is certainly encouraged, but do so in your own separate personal notebook and not within this assignment notebook.</b></div>"
   ]
  },
  {
   "cell_type": "markdown",
   "metadata": {
    "id": "AtXTJLkUs2jx"
   },
   "source": [
    "### Exploring Jupyter Notebook `Help`"
   ]
  },
  {
   "cell_type": "markdown",
   "metadata": {
    "id": "z8ed4X2qs2jy"
   },
   "source": [
    "Take a moment to explore the resources provided above via `Help` in the menubar. Some are provided as a quick reference and are often sufficient to get basic guidance. For example, the `User Interface Tour` is a quick tour of the user interface in Jupyter notebook. There is also a link to documentation on some of the basics of Jupyter notebook in `Notebook Help`. Other resources in `Help` provide much lengthier guidance that you may want to reference later in the course."
   ]
  },
  {
   "cell_type": "markdown",
   "metadata": {
    "id": "OO2XBtc1s2jy"
   },
   "source": [
    "### Keyboard Shortcuts"
   ]
  },
  {
   "cell_type": "markdown",
   "metadata": {
    "id": "-00jYyZGs2jy"
   },
   "source": [
    "Jupyter notebook has many keyboard shortcuts that can be useful. A list of these shortcuts can be accessed from the toolbar above the `keyboard` icon or `Help --> Keyboard Shortcuts` from the menu bar. Another reference with keyboard shortcuts is provided in Canvas in the `Additional Resources` module. You can refer to either resource to answer the next question."
   ]
  },
  {
   "cell_type": "markdown",
   "metadata": {
    "id": "jJuUeiFjs2jy"
   },
   "source": [
    "### Markdown Cells"
   ]
  },
  {
   "cell_type": "markdown",
   "metadata": {
    "id": "KaQavuPEs2jy"
   },
   "source": [
    "When you insert a cell in your notebook it will be a code cell by default. To convert the cell to a Markdown cell, place your cursor in the cell then select `Markdown` from the drop-down menu in the toolbar. With a `Markdown` cell we can type as we normally would, then run the cell to display the formatted version.\n",
    "\n",
    "1. Single click on this cell to see that it is a markdown cell. This is indicated in the drop-down menu in the toolbar.\n",
    "\n",
    "2. Now double click on this cell and notice that you can see the behind the scenes HTML code.\n",
    "\n",
    "You can create bullet points by using a dash (-).\n",
    "- You can make words **bold**.\n",
    "- You can make them <span style='color:red'>red</span>.\n",
    "- You can <u>underline</u> them.\n",
    "- You can <i>italicize</i> them.\n",
    "\n",
    "3. Run the cell to return it to the formatted version."
   ]
  },
  {
   "cell_type": "markdown",
   "metadata": {
    "id": "A3vjIB8As2jz"
   },
   "source": [
    "### Code Cells"
   ]
  },
  {
   "cell_type": "markdown",
   "metadata": {
    "id": "NX2PIl1ws2jz"
   },
   "source": [
    "Another type of cell we will work with is a `code` cell, which is where we will do all of our programming. As mentioned above, when you insert a cell in a Jupyter notebook, the default is to create a code cell. Unlike a Markdown cell, to add comments to a code cell we need to use an alternative approach. A common method is to use the `hash` symbol, `#`:"
   ]
  },
  {
   "cell_type": "code",
   "execution_count": 1,
   "metadata": {
    "id": "PC5m-f7es2jz"
   },
   "outputs": [],
   "source": [
    "#This is one way to add comments to your code.\n",
    "#For each line of comments, a 'hash' symbol must be used while working in a code cell."
   ]
  },
  {
   "cell_type": "markdown",
   "metadata": {
    "id": "-33FyH_ns2j0"
   },
   "source": [
    "Another method of adding (**multiline**) comments within a `code` cell is to use triple quotations like the cell below:"
   ]
  },
  {
   "cell_type": "code",
   "execution_count": 2,
   "metadata": {
    "colab": {
     "base_uri": "https://localhost:8080/",
     "height": 53
    },
    "id": "-zm48XmUs2j0",
    "outputId": "b0c9fcc0-0178-4d06-863a-f0543e5ee43b"
   },
   "outputs": [
    {
     "data": {
      "text/plain": [
       "'When triple quotations are used, the comments will be enclosed by one set of quotations.\\nThere is no need to start new quotations on each line. Just make sure all of your comments are wrapped\\nwith quotations.'"
      ]
     },
     "execution_count": 2,
     "metadata": {},
     "output_type": "execute_result"
    }
   ],
   "source": [
    "'''When triple quotations are used, the comments will be enclosed by one set of quotations.\n",
    "There is no need to start new quotations on each line. Just make sure all of your comments are wrapped\n",
    "with quotations.'''"
   ]
  },
  {
   "cell_type": "markdown",
   "metadata": {
    "id": "24NRtl5Us2j0"
   },
   "source": [
    "<div class=\"alert alert-block alert-success\"><b>Problem 1 (2 pts.)</b>: Using either method shown above for commenting while working in a code cell, explain the advantages of including comments within a program in the code cell provided.</div>"
   ]
  },
  {
   "cell_type": "code",
   "execution_count": 3,
   "metadata": {
    "colab": {
     "base_uri": "https://localhost:8080/",
     "height": 143
    },
    "id": "Oy0BE4z2s2j0",
    "outputId": "571a98e2-0f15-4e0a-f90d-bf8c2e1d815c"
   },
   "outputs": [
    {
     "data": {
      "text/plain": [
       "\"\\nHere are some of the key advantages of including comments within a program are:\\n\\nCode Readability: Comments increase the readability of your code, making it easier for others (and your future self) to understand the intent of your code.\\n\\nDocumentation: Comments serve as a form of documentation. They can be used to provide information about the functionality of specific parts of code, such as a method or a class, or even to describe the behavior of an entire program.\\n\\nDebugging: They can help in the debugging process. By providing information about what a certain part of code is supposed to do, comments make it easier to spot where things are going wrong if the code is not behaving as expected.\\n\\nCode Maintenance: Comments are very helpful when maintaining or updating the code in the future. They provide a description of what the code is intended to do, making it easier for programmers to make changes without introducing bugs.\\n\\nCollaboration: When working on a team project, comments allow for effective communication between team members. They help convey the programmer's thought process, clarifying their intentions and making collaborative work smoother.\\n\""
      ]
     },
     "execution_count": 3,
     "metadata": {},
     "output_type": "execute_result"
    }
   ],
   "source": [
    "'''\n",
    "Here are some of the key advantages of including comments within a program are:\n",
    "\n",
    "Code Readability: Comments increase the readability of your code, making it easier for others (and your future self) to understand the intent of your code.\n",
    "\n",
    "Documentation: Comments serve as a form of documentation. They can be used to provide information about the functionality of specific parts of code, such as a method or a class, or even to describe the behavior of an entire program.\n",
    "\n",
    "Debugging: They can help in the debugging process. By providing information about what a certain part of code is supposed to do, comments make it easier to spot where things are going wrong if the code is not behaving as expected.\n",
    "\n",
    "Code Maintenance: Comments are very helpful when maintaining or updating the code in the future. They provide a description of what the code is intended to do, making it easier for programmers to make changes without introducing bugs.\n",
    "\n",
    "Collaboration: When working on a team project, comments allow for effective communication between team members. They help convey the programmer's thought process, clarifying their intentions and making collaborative work smoother.\n",
    "'''"
   ]
  },
  {
   "cell_type": "markdown",
   "metadata": {
    "id": "cuqUqA6Js2j0"
   },
   "source": [
    "<div class=\"alert alert-block alert-success\"><b>Problem 2 (3 pts.)</b>: Convert the code cell provided to a markdown cell and name the three error types mentioned in Chapter 1 of this week's readings by creating bullet points.</div>"
   ]
  },
  {
   "cell_type": "markdown",
   "metadata": {
    "id": "BUteMvzNvT2v"
   },
   "source": [
    "*   Syntax Error\n",
    "*   Runtime Error\n",
    "*   Semantic Error"
   ]
  },
  {
   "cell_type": "markdown",
   "metadata": {
    "id": "rspz-n_ss2j0"
   },
   "source": [
    "### Data Types"
   ]
  },
  {
   "cell_type": "markdown",
   "metadata": {
    "id": "Z-PWPv53s2j0"
   },
   "source": [
    "There are 3 data types that we will be exploring this week. They are `int`, `float`, and `str`. The `int` data type refers to any integer such as 1, -7, or 93. The `float` data type is short for floating decimal and refers to any real number (within a certain range of values) represented as a decimal.  For example, -2.0, 19.33, or 3.14159 have float type. The `str` data type refers to string of characters. Characters include letters, numerical digits, common punctuation marks (such as \".\" or \"-\"), and whitespace. Strings will be surrounded by `' '`, `\" \"`, `''' '''`, or `\"\"\" \"\"\"`.\n",
    "\n",
    "We can also use a type conversion function to convert from one type to another, for example, from an integer to a float or string or from a float to an integer or string. Only certain strings can be converted to an integer or float. If the string contains anything other than numbers, a `ValueError` will occur. This type of error occurs when you pass a parameter to a function that is a data type it is not expecting. For example, `float('3.882GPA')` will produce such an error since the letters GPA cannot be converted to a float. Later on in the course we will learn how to use `string methods` to manipulate strings to suit our purposes. For now, we will just explore a couple of the basics."
   ]
  },
  {
   "cell_type": "markdown",
   "metadata": {
    "id": "p5-c5GTys2j1"
   },
   "source": [
    "### Variables"
   ]
  },
  {
   "cell_type": "markdown",
   "metadata": {
    "id": "OknB-S6As2j1"
   },
   "source": [
    "To create and manipulate variables, we use **assignment statements**. These create new variables and give them values to refer to. The `=` in an assignment statement is an **assignment token** and does not represent equality like it does in mathematics. The assignment token assigns the value on the right to the name on the left."
   ]
  },
  {
   "cell_type": "markdown",
   "metadata": {
    "id": "EpmEB-GHs2j1"
   },
   "source": [
    "The cell below has assigned values to different types of variables: `string`, `integer`, `float`, `Boolean`, and `null`. We will learn more about Boolean data types next week. No output will be generated when you run the next cell, but it is important that you run the cell because these variables will be loaded into memory and used later in this notebook."
   ]
  },
  {
   "cell_type": "code",
   "execution_count": 4,
   "metadata": {
    "id": "lNhRLlFvs2j1"
   },
   "outputs": [],
   "source": [
    "# Python defined variables are global and hence can be recalled later on in any other cell\n",
    "name = 'Albert' # this is a string, assigned to 'name'\n",
    "height = 6      # this is an integer value, assigned to 'height'\n",
    "weight = 181.389321    # this is a numeric (float) value, assigned to 'weight'\n",
    "tValue = True   # this is a Boolean value, assigned to 'tValue'\n",
    "flag = None     # this is a null variable in Python and has nothing defined for 'flag'"
   ]
  },
  {
   "cell_type": "markdown",
   "metadata": {
    "id": "IsjCCg9Ns2j1"
   },
   "source": [
    "There are some rules to follow when naming variables. Variable names can contain letters (uppercase and lowercase), digits (0 - 9) and the underscore character `_`. They cannot contain spaces, cannot begin with a number, and cannot be a Python `keyword`. Be sure to reference the Python keywords in your readings for this week to avoid using them as a variable name.\n",
    "\n",
    "Lastly, a best practice when naming your variables is to create them in a way that describes their use in your program. For example, if you need a variable to define a type of car perhaps use `car` or `car_type` for the variable name instead of something generic like, `x` or `a`."
   ]
  },
  {
   "cell_type": "markdown",
   "metadata": {
    "id": "Mi6ID0Pms2j1"
   },
   "source": [
    "The data type of each variable created in the cell above is listed in the comments beside each one, but we can check each of them using the `type()` function. <i><u>Make sure you have run the cell above before running the following cells.</u></i>"
   ]
  },
  {
   "cell_type": "code",
   "execution_count": 5,
   "metadata": {
    "colab": {
     "base_uri": "https://localhost:8080/"
    },
    "id": "9_d3sNWOs2j1",
    "outputId": "b86a73ea-aba9-4404-be19-d7725b71f5a8"
   },
   "outputs": [
    {
     "data": {
      "text/plain": [
       "float"
      ]
     },
     "execution_count": 5,
     "metadata": {},
     "output_type": "execute_result"
    }
   ],
   "source": [
    "type(weight)"
   ]
  },
  {
   "cell_type": "markdown",
   "metadata": {
    "id": "--PBpxDVs2j1"
   },
   "source": [
    "Alternatively, we can determine the data type of several (or all) of the variables by separating each with a comma. When more than one is listed in this way, the result will display in the form of a `tuple`."
   ]
  },
  {
   "cell_type": "code",
   "execution_count": 6,
   "metadata": {
    "colab": {
     "base_uri": "https://localhost:8080/"
    },
    "id": "TU7K6f3ds2j1",
    "outputId": "8d662126-5feb-49f2-c81c-bb15ba9ad852"
   },
   "outputs": [
    {
     "data": {
      "text/plain": [
       "(str, int, float, bool, NoneType)"
      ]
     },
     "execution_count": 6,
     "metadata": {},
     "output_type": "execute_result"
    }
   ],
   "source": [
    "type(name), type(height), type(weight), type(tValue), type(flag)"
   ]
  },
  {
   "cell_type": "markdown",
   "metadata": {
    "id": "DKrRlZrhs2j1"
   },
   "source": [
    "Similarly, we can define variables using a comma separator and display them in the form of a tuple."
   ]
  },
  {
   "cell_type": "code",
   "execution_count": 7,
   "metadata": {
    "colab": {
     "base_uri": "https://localhost:8080/"
    },
    "id": "MGmzdSvDs2j1",
    "outputId": "9284dc4e-7b70-42ab-bab7-da001f4a7cfa"
   },
   "outputs": [
    {
     "data": {
      "text/plain": [
       "(3, 'strawberries')"
      ]
     },
     "execution_count": 7,
     "metadata": {},
     "output_type": "execute_result"
    }
   ],
   "source": [
    "a, b = 3, 'strawberries'\n",
    "a, b"
   ]
  },
  {
   "cell_type": "markdown",
   "metadata": {
    "id": "2XH2gEl2s2j1"
   },
   "source": [
    "### Basic `print()` Statements"
   ]
  },
  {
   "cell_type": "markdown",
   "metadata": {
    "id": "hlPknpESs2j1"
   },
   "source": [
    "The syntax to print a string is simply\n",
    "```python\n",
    "print('my string')\n",
    "```"
   ]
  },
  {
   "cell_type": "code",
   "execution_count": 8,
   "metadata": {
    "colab": {
     "base_uri": "https://localhost:8080/"
    },
    "id": "CBbjq4Vrs2j2",
    "outputId": "b8902dcf-982d-4044-b02f-1cf446dec77b"
   },
   "outputs": [
    {
     "name": "stdout",
     "output_type": "stream",
     "text": [
      "Learning Python is fun!\n"
     ]
    }
   ],
   "source": [
    "# Example of a basic print statement\n",
    "print('Learning Python is fun!')"
   ]
  },
  {
   "cell_type": "markdown",
   "metadata": {
    "id": "ANXb1ECQs2j2"
   },
   "source": [
    "Keep in mind that we can wrap our string in single, double, or triple quotes. Single or double quotes are the most commonly used, but you can use whichever method you prefer. Feel free to try some different approaches and different strings in the cell below."
   ]
  },
  {
   "cell_type": "code",
   "execution_count": 9,
   "metadata": {
    "colab": {
     "base_uri": "https://localhost:8080/"
    },
    "id": "k6sOQxDqs2j2",
    "outputId": "ee3f61a4-ed80-43f5-fb7a-d8563aaa61b5"
   },
   "outputs": [
    {
     "name": "stdout",
     "output_type": "stream",
     "text": [
      "Testing Print\n"
     ]
    }
   ],
   "source": [
    "# Try printing your own string here\n",
    "print('Testing Print')"
   ]
  },
  {
   "cell_type": "markdown",
   "metadata": {
    "id": "EcbfkKP_s2kB"
   },
   "source": [
    "We could also print any of the variables we have predefined instead of a string."
   ]
  },
  {
   "cell_type": "code",
   "execution_count": 10,
   "metadata": {
    "colab": {
     "base_uri": "https://localhost:8080/"
    },
    "id": "-2C_6IhRs2kB",
    "outputId": "0f161f67-1a45-4a5e-88b2-fccd7c1c04df"
   },
   "outputs": [
    {
     "name": "stdout",
     "output_type": "stream",
     "text": [
      "Albert\n"
     ]
    }
   ],
   "source": [
    "print(name)"
   ]
  },
  {
   "cell_type": "markdown",
   "metadata": {
    "id": "c3AkvfN0s2kB"
   },
   "source": [
    "### Formatting Print Statements"
   ]
  },
  {
   "cell_type": "markdown",
   "metadata": {
    "id": "A702g1s0s2kB"
   },
   "source": [
    "Often times we want a statement to print instead of a simple string or the value of a variable. We can do this by formatting our print statements to be a combination of strings and values of variables. Print statements can be formatted nicely using various methods. One possibility is the `String` format method that works like this:"
   ]
  },
  {
   "cell_type": "code",
   "execution_count": 11,
   "metadata": {
    "colab": {
     "base_uri": "https://localhost:8080/"
    },
    "id": "gpocyTiKs2kB",
    "outputId": "97a27cc9-ae14-41b5-d681-c973fbec5fd7"
   },
   "outputs": [
    {
     "name": "stdout",
     "output_type": "stream",
     "text": [
      "My name is Albert and I am 6 feet tall.\n"
     ]
    }
   ],
   "source": [
    "print('My name is {} and I am {} feet tall.'.format(name, height))"
   ]
  },
  {
   "cell_type": "markdown",
   "metadata": {
    "id": "C4av4o4ls2kB"
   },
   "source": [
    "As you may have guessed, the brackets `{}` represent format fields and are replaced with objects passed through them in the `str.format()` method. In this case we have already defined the variables `name` and `height` above, but we can still use this method without having predefined variables. </br>\n",
    "\n",
    "The numbers in the brackets shown in this next cell refer to the position of each of an object from `format()`. We place these within our string(s) to indicate where they will each be passed. Remember the 1st position will be represented by `0`, the 2nd by `1`, etc. To see this, run the following cell:"
   ]
  },
  {
   "cell_type": "code",
   "execution_count": 12,
   "metadata": {
    "colab": {
     "base_uri": "https://localhost:8080/"
    },
    "id": "UNCu1FVLs2kB",
    "outputId": "bae010c3-4d54-46ef-abd7-c9db35f31d4c"
   },
   "outputs": [
    {
     "name": "stdout",
     "output_type": "stream",
     "text": [
      "Camille and Grace are my best friends.\n"
     ]
    }
   ],
   "source": [
    "print(\"{0} and {1} are my best friends.\".format('Camille', 'Grace'))"
   ]
  },
  {
   "cell_type": "markdown",
   "metadata": {
    "id": "w6mhHZALs2kC"
   },
   "source": [
    "However, if we switch the placement of the indices we get something different. Try running the cell below:"
   ]
  },
  {
   "cell_type": "code",
   "execution_count": 13,
   "metadata": {
    "colab": {
     "base_uri": "https://localhost:8080/"
    },
    "id": "LrrKnj8Gs2kC",
    "outputId": "1599ee4f-69dc-4bac-d437-fddd65184e58"
   },
   "outputs": [
    {
     "name": "stdout",
     "output_type": "stream",
     "text": [
      "Amber and Dominic have a dog named Bingo.\n"
     ]
    }
   ],
   "source": [
    "print(\"{2} and {0} have a dog named {1}.\".format('Dominic','Bingo', 'Amber'))"
   ]
  },
  {
   "cell_type": "markdown",
   "metadata": {
    "id": "DV3Wmm8Gs2kC"
   },
   "source": [
    "We should point out that in each of these cases, the `print()` function is not needed. In other words, we can simply handle it this way:"
   ]
  },
  {
   "cell_type": "code",
   "execution_count": 14,
   "metadata": {
    "colab": {
     "base_uri": "https://localhost:8080/",
     "height": 35
    },
    "id": "XQmxUHYFs2kC",
    "outputId": "f9f6fe73-70b2-4f33-fec3-16794faffcbb"
   },
   "outputs": [
    {
     "data": {
      "text/plain": [
       "'Amber and Dominic have a dog named Bingo.'"
      ]
     },
     "execution_count": 14,
     "metadata": {},
     "output_type": "execute_result"
    }
   ],
   "source": [
    "\"{2} and {1} have a dog named {0}.\".format('Bingo','Dominic', 'Amber')"
   ]
  },
  {
   "cell_type": "markdown",
   "metadata": {
    "id": "C-CLNfgFs2kC"
   },
   "source": [
    "<i>However, you can see the difference in how the string is printed with this approach, so using **`print()` is the preferred method.**</i>"
   ]
  },
  {
   "cell_type": "markdown",
   "metadata": {
    "id": "DesFfYZvs2kC"
   },
   "source": [
    "The `str.format()` method to create formatted print statements is nice, but it can be cumbersome if their are several parameters and lengthy strings. Another method of formatting print statements is to use `f-strings`. This is done by typing an `f` or `F` in front of the string and using `{}` to pass our variables through. One of the benefits of the f-string method is that it affords us more formatting options. The next cell demonstrates an example of this method:"
   ]
  },
  {
   "cell_type": "code",
   "execution_count": 15,
   "metadata": {
    "colab": {
     "base_uri": "https://localhost:8080/"
    },
    "id": "VfQ2qQl5s2kC",
    "outputId": "6a42946d-f2cb-41dd-db27-267423ae9f64"
   },
   "outputs": [
    {
     "name": "stdout",
     "output_type": "stream",
     "text": [
      "Albert was 6 feet tall in high school and weighed about 181.39 pounds.\n"
     ]
    }
   ],
   "source": [
    "print(f'{name} was {height} feet tall in high school and weighed about {weight:.2f} pounds.')"
   ]
  },
  {
   "cell_type": "markdown",
   "metadata": {
    "id": "EylJsQlss2kC"
   },
   "source": [
    "Notice this even rounded appropriately. In other words, it rounded to two decimals and rounded up with the last decimal because we used `.2f` to format the value of `weight` to two decimals. If we wanted zero decimals to appear for the weight, we could write it this way:"
   ]
  },
  {
   "cell_type": "code",
   "execution_count": 16,
   "metadata": {
    "colab": {
     "base_uri": "https://localhost:8080/"
    },
    "id": "2WO-xWtfs2kC",
    "outputId": "a5d7aeb8-c22b-4c17-e80d-3a63bfd62210"
   },
   "outputs": [
    {
     "name": "stdout",
     "output_type": "stream",
     "text": [
      "Albert was 6 feet tall in high school and weighed about 181 pounds.\n"
     ]
    }
   ],
   "source": [
    "print(f'{name} was {height} feet tall in high school and weighed about {weight:.0f} pounds.')"
   ]
  },
  {
   "cell_type": "markdown",
   "metadata": {
    "id": "l0vLfZSas2kC"
   },
   "source": [
    "Another option is to use the right side of the `:` to indicate the minimum number of characters to use. This can be useful to line up columns. Notice how the columns line up. Run the following cell and feel free to play around with the character lengths to see the effect."
   ]
  },
  {
   "cell_type": "code",
   "execution_count": 17,
   "metadata": {
    "colab": {
     "base_uri": "https://localhost:8080/"
    },
    "id": "Cg3X5I3ws2kC",
    "outputId": "fb44e290-789c-4382-bc00-9b70fd456c5f"
   },
   "outputs": [
    {
     "name": "stdout",
     "output_type": "stream",
     "text": [
      "Albert     -->     6 feet tall\n",
      "Albert     -->   181 pounds\n"
     ]
    }
   ],
   "source": [
    "print(f'{name:10} --> {height:5d} feet tall')\n",
    "print(f'{name:10} --> {int(weight):5d} pounds')"
   ]
  },
  {
   "cell_type": "markdown",
   "metadata": {
    "id": "aP80Jh_8s2kC"
   },
   "source": [
    "We can also split our string over multiple lines. If we do this, each line in multiline string must begin with an `f`."
   ]
  },
  {
   "cell_type": "code",
   "execution_count": 18,
   "metadata": {
    "colab": {
     "base_uri": "https://localhost:8080/"
    },
    "id": "K5FQQ5dns2kC",
    "outputId": "3d905177-b357-4f4b-bb89-b59e7c4eb156"
   },
   "outputs": [
    {
     "name": "stdout",
     "output_type": "stream",
     "text": [
      "My name is Dave. I have one dog and one cat. My dog's name is Brutus and he is 4 years old. My cat's name is Ladybug and she is 11 years old. \n"
     ]
    }
   ],
   "source": [
    "dog = 'Brutus'\n",
    "dog_age = 4\n",
    "cat = 'Ladybug'\n",
    "cat_age = 11\n",
    "my_name = 'Dave'\n",
    "\n",
    "print(f'My name is {my_name}. '\n",
    "     f'I have one dog and one cat. '\n",
    "     f'My dog\\'s name is {dog} and he is {dog_age} years old. '\n",
    "     f'My cat\\'s name is {cat} and she is {cat_age} years old. '\n",
    "     )"
   ]
  },
  {
   "cell_type": "markdown",
   "metadata": {
    "id": "PkbvHCf1s2kD"
   },
   "source": [
    "Notice the use of `\\` in front of the apostrophy inside of `dog's` and `cat's` in two of our sentences. This is needed because the print statement is surrounded by single quotes. The purpose of the backslash is so that the apostrophe is not interpretted as the end of the string. This is an instance when double quotes might be preferred so that the backslash is not needed."
   ]
  },
  {
   "cell_type": "markdown",
   "metadata": {
    "id": "kjqef1GXs2kD"
   },
   "source": [
    "We could also separate each sentence of our multiline string into one line for each. This is done using `\\n` at the end of each line. This tells Python to start a new line at that point. Let's redo the previous example with double quotes and one line for each sentence."
   ]
  },
  {
   "cell_type": "code",
   "execution_count": 19,
   "metadata": {
    "colab": {
     "base_uri": "https://localhost:8080/"
    },
    "id": "htepODiVs2kD",
    "outputId": "53ea709e-e133-4bf4-885d-5e994f1f76de"
   },
   "outputs": [
    {
     "name": "stdout",
     "output_type": "stream",
     "text": [
      "My name is Dave.\n",
      "I have one dog and one cat.\n",
      "My dog's name is Brutus and he is 4 years old.\n",
      "My cat's name is Ladybug and she is 11 years old.\n"
     ]
    }
   ],
   "source": [
    "dog = 'Brutus'\n",
    "dog_age = 4\n",
    "cat = 'Ladybug'\n",
    "cat_age = 11\n",
    "my_name = 'Dave'\n",
    "\n",
    "print(f\"My name is {my_name}.\\n\"\n",
    "     f\"I have one dog and one cat.\\n\"\n",
    "     f\"My dog's name is {dog} and he is {dog_age} years old.\\n\"\n",
    "     f\"My cat's name is {cat} and she is {cat_age} years old.\"\n",
    "     )"
   ]
  },
  {
   "cell_type": "markdown",
   "metadata": {
    "id": "liH0o5F6s2kD"
   },
   "source": [
    "These are just a few basic examples of how to format print statements nicely. For more details about powerful print options to play with, read through this article on __[f-strings](https://realpython.com/python-f-strings/)__. We will use formatted print statements throughout this course."
   ]
  },
  {
   "cell_type": "markdown",
   "metadata": {
    "id": "EkG2AaJDs2kD"
   },
   "source": [
    "### Mathematical Operators"
   ]
  },
  {
   "cell_type": "markdown",
   "metadata": {
    "id": "7aYNkMIks2kD"
   },
   "source": [
    "Python has several built-in operators, but the most basic operators are `mathematical` operators. There are several mathematical operators used in this week's readings - `+`, `-`, `*`, `/`, `**`, `%`, and `//`, which are used for various mathematical calculations."
   ]
  },
  {
   "cell_type": "markdown",
   "metadata": {
    "id": "Ce9qf7RHs2kD"
   },
   "source": [
    "To summarize these, the first four are addition, subtraction, multiplication, and division, respectively. These should each be self-explanatory. The double asterisk `**` represents exponentiation, i.e. `5**3` would result in `125`. The percent symbol, `%` is also called a `modulus operator`. It represents the remainder upon division. The double slash `//` will divide the first number by the second and truncate the result."
   ]
  },
  {
   "cell_type": "markdown",
   "metadata": {
    "id": "RqQ8qD5Bs2kD"
   },
   "source": [
    "Here are some examples of `%` and `//` using Python as a calculator. In each case the result is an integer due to the nature of these operators."
   ]
  },
  {
   "cell_type": "code",
   "execution_count": 20,
   "metadata": {
    "colab": {
     "base_uri": "https://localhost:8080/"
    },
    "id": "3Q61vhmQs2kD",
    "outputId": "f0ad1b85-d742-43f5-acd5-bba146940c96",
    "scrolled": true
   },
   "outputs": [
    {
     "data": {
      "text/plain": [
       "3"
      ]
     },
     "execution_count": 20,
     "metadata": {},
     "output_type": "execute_result"
    }
   ],
   "source": [
    "# 27/4 has a remainder of 3\n",
    "27 % 4"
   ]
  },
  {
   "cell_type": "code",
   "execution_count": 21,
   "metadata": {
    "colab": {
     "base_uri": "https://localhost:8080/"
    },
    "id": "emNOpNsZs2kD",
    "outputId": "c8f396e1-5f6d-491e-b218-b83af1ea6ab2",
    "scrolled": true
   },
   "outputs": [
    {
     "data": {
      "text/plain": [
       "6"
      ]
     },
     "execution_count": 21,
     "metadata": {},
     "output_type": "execute_result"
    }
   ],
   "source": [
    "# 27/4 = 6.75 which truncates to 6\n",
    "27 // 4"
   ]
  },
  {
   "cell_type": "markdown",
   "metadata": {
    "id": "u1r3xdeGs2kD"
   },
   "source": [
    "### Order of Operations"
   ]
  },
  {
   "cell_type": "markdown",
   "metadata": {
    "id": "qYwkLhkus2kD"
   },
   "source": [
    "Just like all other calculators, Python will use the order of operations to calculate the numeric result. If parentheses are present, then the expression inside will be handled first. Then exponentiation followed by multiplication and division (working left to right), and finally addition and subtraction (working left to right). The next two examples demonstrate the difference in calculations with and without parentheses."
   ]
  },
  {
   "cell_type": "markdown",
   "metadata": {
    "id": "cfjeO9PFs2kD"
   },
   "source": [
    "This first example is calculated as follows:\n",
    "\n",
    "Exponentiation is first:\n",
    "\\begin{equation}\n",
    "40^2 = 1600\n",
    "\\end{equation}\n",
    "Then multiplication and division working left to right:\n",
    "\\begin{equation}\n",
    "80/1600 = 0.05\\\\\n",
    "0.05(4) = 0.2\n",
    "\\end{equation}\n",
    "Last is subtraction:\n",
    "\\begin{equation}\n",
    "7 - 0.2 = 6.8\n",
    "\\end{equation}"
   ]
  },
  {
   "cell_type": "code",
   "execution_count": 22,
   "metadata": {
    "colab": {
     "base_uri": "https://localhost:8080/"
    },
    "id": "Didhzd6ws2kD",
    "outputId": "f6b12f11-743a-48c5-b2dc-d7d2a2f99509"
   },
   "outputs": [
    {
     "data": {
      "text/plain": [
       "6.8"
      ]
     },
     "execution_count": 22,
     "metadata": {},
     "output_type": "execute_result"
    }
   ],
   "source": [
    "7 - 80 / 40**2 * 4"
   ]
  },
  {
   "cell_type": "markdown",
   "metadata": {
    "id": "gzLCTm79s2kE"
   },
   "source": [
    "This next example is calculated as follows:\n",
    "\n",
    "Parentheses are first:\n",
    "\\begin{equation}\n",
    "7 - 80 = -73\n",
    "\\end{equation}\n",
    "Next is exponentiation:\n",
    "\\begin{equation}\n",
    "40^2 = 1600\n",
    "\\end{equation}\n",
    "Last is multiplication and division working left to right:\n",
    "\\begin{equation}\n",
    "-73/1600 = -0.045625\\\\\n",
    "-0.045625(4) = -0.1825\n",
    "\\end{equation}"
   ]
  },
  {
   "cell_type": "code",
   "execution_count": 23,
   "metadata": {
    "colab": {
     "base_uri": "https://localhost:8080/"
    },
    "id": "4NhCtzjhs2kE",
    "outputId": "a9a30464-2cf7-4be2-8b88-9b235eb6fb73"
   },
   "outputs": [
    {
     "data": {
      "text/plain": [
       "-0.1825"
      ]
     },
     "execution_count": 23,
     "metadata": {},
     "output_type": "execute_result"
    }
   ],
   "source": [
    "(7 - 80) / 40**2 * 4"
   ]
  },
  {
   "cell_type": "markdown",
   "metadata": {
    "id": "ONnlZBUSs2kE"
   },
   "source": [
    "### The `input()` function"
   ]
  },
  {
   "cell_type": "markdown",
   "metadata": {
    "id": "1E_M4ghLs2kE"
   },
   "source": [
    "In this week's readings you also learned about a built-in function in Python called `input`. When this is used in a program it will prompt the user to enter something such as a number or a string. It's helpful when creating a prompt to provide clear instructions for the user, such as `Enter your birthdate in the form MM/DD/YYYY` instead of `Enter your birthdate` or `Enter your monthly salary` instead of `Enter your salary`."
   ]
  },
  {
   "cell_type": "markdown",
   "metadata": {
    "id": "pwGWpjSTs2kE"
   },
   "source": [
    "When we ask the user to input something, we need to assign that input to a variable. The general syntax of invoking the `input()` function is:\n",
    "```python\n",
    "variable = input('question')\n",
    "```\n",
    "A good habit to get into is to add an extra space at the end of your message for the prompt."
   ]
  },
  {
   "cell_type": "code",
   "execution_count": 24,
   "metadata": {
    "colab": {
     "base_uri": "https://localhost:8080/"
    },
    "id": "YJuSMlj0s2kE",
    "outputId": "a79a444d-049e-4f05-fd90-d37bb9adfe7a"
   },
   "outputs": [
    {
     "name": "stdout",
     "output_type": "stream",
     "text": [
      "Where do you work? Sutherland\n",
      "How many years have you worked there? 1.5\n",
      "You have been working for Sutherland for 1.5 years.\n"
     ]
    }
   ],
   "source": [
    "company = input('Where do you work? ') # Prompt the user to enter their company name\n",
    "years = input('How many years have you worked there? ') # Prompt the user to enter their years of service\n",
    "print(f'You have been working for {company} for {years} years.')"
   ]
  },
  {
   "cell_type": "markdown",
   "metadata": {
    "id": "JgMCu7svs2kE"
   },
   "source": [
    "Keep in mind that the variable used with the input function will default to a string value unless told otherwise. In some cases this is fine, but if we try some type of mathematical calculation with `years`, Python will treat it like a string until we convert the variable:"
   ]
  },
  {
   "cell_type": "code",
   "execution_count": 25,
   "metadata": {
    "colab": {
     "base_uri": "https://localhost:8080/"
    },
    "id": "h9nH4JCKs2kE",
    "outputId": "58268470-a2e3-4e17-c43c-2a1147231356"
   },
   "outputs": [
    {
     "data": {
      "text/plain": [
       "str"
      ]
     },
     "execution_count": 25,
     "metadata": {},
     "output_type": "execute_result"
    }
   ],
   "source": [
    "type(years)"
   ]
  },
  {
   "cell_type": "code",
   "execution_count": 26,
   "metadata": {
    "colab": {
     "base_uri": "https://localhost:8080/",
     "height": 35
    },
    "id": "TArf-KFqs2kE",
    "outputId": "908d9b6d-ed53-4254-e798-c2b826beda32"
   },
   "outputs": [
    {
     "data": {
      "text/plain": [
       "'1.51.51.51.51.51.51.5'"
      ]
     },
     "execution_count": 26,
     "metadata": {},
     "output_type": "execute_result"
    }
   ],
   "source": [
    "# Repeat the string 7 times\n",
    "years*7"
   ]
  },
  {
   "cell_type": "markdown",
   "metadata": {
    "id": "yACqYRYys2kE"
   },
   "source": [
    "To convert the input from a `str` to an `int` (or `float`), we can do this with one of the type conversion functions. We can incorporate this into a single line of code by wrapping `input()` with `int()` or `float()` or add a separate line of code to convert the data type."
   ]
  },
  {
   "cell_type": "code",
   "execution_count": 27,
   "metadata": {
    "colab": {
     "base_uri": "https://localhost:8080/"
    },
    "id": "zF-Y-112s2kE",
    "outputId": "b3229729-8829-477e-b3c0-50ef1d80dcc1"
   },
   "outputs": [
    {
     "name": "stdout",
     "output_type": "stream",
     "text": [
      "What is your first name? Ritesh\n",
      "What is your last name? Kumar\n",
      "What year were you born? 1993\n",
      "Ritesh Kumar will turn 42 years old in 2035.\n"
     ]
    }
   ],
   "source": [
    "first_name = input('What is your first name? ')\n",
    "last_name = input('What is your last name? ')\n",
    "\n",
    "# Request year of birth and convert birth_year to an int type by wrapping input() with int()\n",
    "birth_year = int(input('What year were you born? '))\n",
    "\n",
    "# Calculate the user's age in 2035 and assign this to the variable 'age_2035'\n",
    "age_2035 = 2035 - birth_year\n",
    "\n",
    "# Create a formatted print statement to display the user's age in 2035\n",
    "print(f'{first_name} {last_name} will turn {age_2035} years old in 2035.')"
   ]
  },
  {
   "cell_type": "markdown",
   "metadata": {
    "id": "0vJa5w-Vs2kE"
   },
   "source": [
    "We might also want to modify the string input entered by the user using string methods. For example, we might want to change the case of the name entered by the user above. We will do more with string methods later on in the course, but there are a few basic string methods we want to introduce now. The first we want to introduce is `capitalize`. This method converts the first letter of a string to uppercase:"
   ]
  },
  {
   "cell_type": "code",
   "execution_count": 28,
   "metadata": {
    "colab": {
     "base_uri": "https://localhost:8080/"
    },
    "id": "7SoqRZ88s2kE",
    "outputId": "df8a857a-28ce-4214-b60a-5460446fbcc8"
   },
   "outputs": [
    {
     "name": "stdout",
     "output_type": "stream",
     "text": [
      "apple\n",
      "Apple\n"
     ]
    }
   ],
   "source": [
    "fruit = 'apple'\n",
    "print(fruit)\n",
    "new_fruit = fruit.capitalize() #string method\n",
    "print(new_fruit)"
   ]
  },
  {
   "cell_type": "markdown",
   "metadata": {
    "id": "cVZPaqwVs2kE"
   },
   "source": [
    "We could also convert every letter in a string to uppercase using the `upper()` method or to lowercase using the `lower()` method."
   ]
  },
  {
   "cell_type": "code",
   "execution_count": 29,
   "metadata": {
    "colab": {
     "base_uri": "https://localhost:8080/"
    },
    "id": "tZApAsvVs2kE",
    "outputId": "cc30ce00-e401-4f42-ba3a-945c0508ac6f"
   },
   "outputs": [
    {
     "name": "stdout",
     "output_type": "stream",
     "text": [
      "ELM\n",
      "gqskuxr\n"
     ]
    }
   ],
   "source": [
    "street = 'Elm'\n",
    "my_street = street.upper() # Call the upper() method on the object 'street'\n",
    "print(my_street)\n",
    "\n",
    "password = 'GQskUXr'\n",
    "new_password = password.lower() # Call the lower() method on the object 'password'\n",
    "print(new_password)"
   ]
  },
  {
   "cell_type": "markdown",
   "metadata": {
    "id": "kAQIG4vWs2kF"
   },
   "source": [
    "<div class=\"alert alert-block alert-success\"><b>Problem 3 (5 pts.)</b>: Create a simple code snippet that causes one of the three types of errors listed in Problem 2 then fix the error. <br><br>\n",
    "1. Create your code snippet in the code cell provided and include comments to explain each line of your code.<br>\n",
    "2. Add a markdown cell below the code cell provided and explain the error and what is causing the error.<br>\n",
    "3. Add another new cell below your markdown cell that fixes the error.</div>"
   ]
  },
  {
   "cell_type": "code",
   "execution_count": 30,
   "metadata": {
    "colab": {
     "base_uri": "https://localhost:8080/",
     "height": 133
    },
    "id": "rnxYGO-Qs2kF",
    "outputId": "923a4dc0-b116-4119-a358-c339be2be871"
   },
   "outputs": [
    {
     "ename": "SyntaxError",
     "evalue": "expected ':' (2194973291.py, line 4)",
     "output_type": "error",
     "traceback": [
      "\u001b[0;36m  Cell \u001b[0;32mIn[30], line 4\u001b[0;36m\u001b[0m\n\u001b[0;31m    def add_two_numbers(num1, num2)\u001b[0m\n\u001b[0m                                   ^\u001b[0m\n\u001b[0;31mSyntaxError\u001b[0m\u001b[0;31m:\u001b[0m expected ':'\n"
     ]
    }
   ],
   "source": [
    "#TODO: Create a code snippet that generates one of the errors listed in Problem 2.\n",
    "\n",
    "# Define a function that adds two numbers\n",
    "def add_two_numbers(num1, num2)\n",
    "    return num1 + num2"
   ]
  },
  {
   "cell_type": "code",
   "execution_count": 31,
   "metadata": {
    "id": "xKt3hr2AxWBw"
   },
   "outputs": [],
   "source": [
    "# The code snippet above causes a syntax error. This error occurs because the function definition line is missing a colon (\":\") at the end. In Python,\n",
    "# a colon is used to start a new block of code (like the body of a function). Without the colon, Python does not understand where the function body begins,\n",
    "# leading to a syntax error."
   ]
  },
  {
   "cell_type": "code",
   "execution_count": 32,
   "metadata": {
    "id": "mSxPyCoZxXCD"
   },
   "outputs": [],
   "source": [
    "# Corrected code\n",
    "# Define a function that adds two numbers\n",
    "def add_two_numbers(num1, num2):  # added the missing colon here\n",
    "    return num1 + num2"
   ]
  },
  {
   "cell_type": "code",
   "execution_count": 33,
   "metadata": {
    "colab": {
     "base_uri": "https://localhost:8080/",
     "height": 329
    },
    "id": "2belEXNIxed0",
    "outputId": "53311809-d45d-4a32-9621-7457b323e1c3"
   },
   "outputs": [
    {
     "ename": "ZeroDivisionError",
     "evalue": "division by zero",
     "output_type": "error",
     "traceback": [
      "\u001b[0;31m---------------------------------------------------------------------------\u001b[0m",
      "\u001b[0;31mZeroDivisionError\u001b[0m                         Traceback (most recent call last)",
      "Cell \u001b[0;32mIn[33], line 6\u001b[0m\n\u001b[1;32m      3\u001b[0m     \u001b[38;5;28;01mreturn\u001b[39;00m num1 \u001b[38;5;241m/\u001b[39m num2\n\u001b[1;32m      5\u001b[0m \u001b[38;5;66;03m# Call the function with 0 as the second argument\u001b[39;00m\n\u001b[0;32m----> 6\u001b[0m result \u001b[38;5;241m=\u001b[39m \u001b[43mdivide_two_numbers\u001b[49m\u001b[43m(\u001b[49m\u001b[38;5;241;43m10\u001b[39;49m\u001b[43m,\u001b[49m\u001b[43m \u001b[49m\u001b[38;5;241;43m0\u001b[39;49m\u001b[43m)\u001b[49m\n",
      "Cell \u001b[0;32mIn[33], line 3\u001b[0m, in \u001b[0;36mdivide_two_numbers\u001b[0;34m(num1, num2)\u001b[0m\n\u001b[1;32m      2\u001b[0m \u001b[38;5;28;01mdef\u001b[39;00m \u001b[38;5;21mdivide_two_numbers\u001b[39m(num1, num2):\n\u001b[0;32m----> 3\u001b[0m     \u001b[38;5;28;01mreturn\u001b[39;00m \u001b[43mnum1\u001b[49m\u001b[43m \u001b[49m\u001b[38;5;241;43m/\u001b[39;49m\u001b[43m \u001b[49m\u001b[43mnum2\u001b[49m\n",
      "\u001b[0;31mZeroDivisionError\u001b[0m: division by zero"
     ]
    }
   ],
   "source": [
    "# Define a function that divides two numbers\n",
    "def divide_two_numbers(num1, num2):\n",
    "    return num1 / num2\n",
    "\n",
    "# Call the function with 0 as the second argument\n",
    "result = divide_two_numbers(10, 0)"
   ]
  },
  {
   "cell_type": "code",
   "execution_count": 34,
   "metadata": {
    "id": "ooxV35-QxqsZ"
   },
   "outputs": [],
   "source": [
    "# The code snippet above causes a runtime error, specifically a `ZeroDivisionError`.\n",
    "# This error occurs because the code tries to divide a number by zero.\n",
    "# In mathematics, division by zero is undefined, and so Python throws an error when it encounters such an operation during runtime."
   ]
  },
  {
   "cell_type": "code",
   "execution_count": 35,
   "metadata": {
    "id": "IG8PDHjyx0Zj"
   },
   "outputs": [],
   "source": [
    "# Corrected code\n",
    "def divide_two_numbers(num1, num2):\n",
    "    if num2 == 0:\n",
    "        return \"Error: Division by zero is not allowed.\"\n",
    "    return num1 / num2\n",
    "\n",
    "# Call the function with 0 as the second argument\n",
    "result = divide_two_numbers(10, 0)\n"
   ]
  },
  {
   "cell_type": "code",
   "execution_count": 36,
   "metadata": {
    "id": "kZcfbNYcxcx5"
   },
   "outputs": [],
   "source": [
    "# Function to calculate the area of a rectangle\n",
    "def calculate_area(length, width):\n",
    "    return length + width  # the formula used here is incorrect\n",
    "\n",
    "# Call the function with length = 5 and width = 10\n",
    "result = calculate_area(5, 10)\n"
   ]
  },
  {
   "cell_type": "code",
   "execution_count": 37,
   "metadata": {
    "id": "tDowEJq0yNTy"
   },
   "outputs": [],
   "source": [
    "# The code snippet above has a semantic error. This type of error occurs when the syntax of the code is correct,\n",
    "# and the code can run without throwing any exceptions, but it doesn't produce the expected result because the logic of the code is incorrect.\n",
    "# In this case, the function `calculate_area` is supposed to calculate the area of a rectangle, which should be `length * width`, but instead,\n",
    "# it adds the length and the width. Thus, the result will be incorrect."
   ]
  },
  {
   "cell_type": "code",
   "execution_count": 38,
   "metadata": {
    "id": "GWT_ubsEyNcZ"
   },
   "outputs": [],
   "source": [
    "# Corrected code\n",
    "def calculate_area(length, width):\n",
    "    return length * width  # Correct formula to calculate area of a rectangle\n",
    "\n",
    "# Call the function with length = 5 and width = 10\n",
    "result = calculate_area(5, 10)\n"
   ]
  },
  {
   "cell_type": "markdown",
   "metadata": {
    "id": "Em7ALfhfs2kF"
   },
   "source": [
    "<div class=\"alert alert-block alert-success\"><b>Problem 4 (6 pts.)</b>: Write a program to calculate gas mileage.<br><br>\n",
    "1. Prompt the use to enter the type of car they drive.<br>\n",
    "2. Prompt the user to enter the number of miles they've traveled since their last fill up.<br>\n",
    "3. Prompt the user to enter the number of gallons it took to fill up since their last tank of gas.<br>\n",
    "4. Calculate the gas mileage.<br>\n",
    "5. Create a formatted print statement to let the user know their gas mileage for their car.<br>\n",
    "\n",
    "<i><u>Be sure to follow along with the instructions provided in the <font color=b><b>#TODO</b></font> instructions as written.</u></i><br><br>\n",
    "**Word your prompts and output message the same as the following:**\n",
    "</div>"
   ]
  },
  {
   "cell_type": "markdown",
   "metadata": {
    "id": "C5BT2Wxzs2kF"
   },
   "source": [
    "\n",
    "`Enter the make and model of your car: Lexus RX350\n",
    "Enter the number of miles you traveled since your last fill up: 289.5\n",
    "Enter the number of gallons of gas it took to fill up this time: 16.333\n",
    "You traveled 290 miles on 16.33 gallons of gas.\n",
    "Your Lexus RX350 averaged 17.7 miles per gallon.`"
   ]
  },
  {
   "cell_type": "code",
   "execution_count": 39,
   "metadata": {
    "colab": {
     "base_uri": "https://localhost:8080/"
    },
    "id": "oz3GLPNws2kF",
    "outputId": "81338f76-ee61-4ba2-fd90-d630aa0b7023",
    "scrolled": false
   },
   "outputs": [
    {
     "name": "stdout",
     "output_type": "stream",
     "text": [
      "Please enter the make and model of car you drive: Lexus RX350\n",
      "Please enter the number of miles you've traveled since your last fill-up: 289.5\n",
      "Please enter the number of gallons it took to fill up since your last tank of gas: 16.333\n",
      "You travelled 290.0 on 16.33 gallons of gas. Your Lexus RX350 averaged 17.7 miles per gallon.\n"
     ]
    }
   ],
   "source": [
    "#TODO: Prompt the use to enter make and model of their car:\n",
    "car_type = input(\"Please enter the make and model of car you drive: \")\n",
    "\n",
    "#TODO: Prompt the user to enter the number of miles they've traveled since their last fill up\n",
    "miles_traveled = float(input(\"Please enter the number of miles you've traveled since your last fill-up: \"))\n",
    "\n",
    "#TODO: Prompt the user to enter the number of gallons it took to fill up\n",
    "gallons_used = float(input(\"Please enter the number of gallons it took to fill up since your last tank of gas: \"))\n",
    "\n",
    "#TODO: Create a variable called 'mpg' that calculates the miles per gallon\n",
    "mpg = round(miles_traveled / gallons_used, 1)\n",
    "\n",
    "#TODO: Create a formatted print statement that rounds appropriately and generates the same output shown above\n",
    "print(f'You travelled {round(miles_traveled,0)} on {round(gallons_used,2)} gallons of gas. Your {car_type} averaged {mpg:.1f} miles per gallon.')"
   ]
  },
  {
   "cell_type": "markdown",
   "metadata": {
    "id": "qBZxF8Vts2kF"
   },
   "source": [
    "You will need the following formula to complete the next problem. For simplicity, we will assume payments would be made monthly and the interest would be compounded monthly.\n",
    "\n",
    "Use the following formula to calculate a monthly payment:\n",
    "\\begin{equation}\n",
    "M = P\\left[ \\frac{r\\left( 1+r\\right)^n}{\\left( 1+r\\right)^n-1} \\right]\n",
    "\\end{equation}\n",
    "\n",
    "The variables are defined as follows:<br><br>\n",
    "\\$ r\\$ = The annual interest rate converted to a decimal then divided by \\$ 12\\$<br>\n",
    "\\$ n\\$ = The total number of monthly payments for the duration of the loan<br>\n",
    "\\$P \\$ = The principal (or loan) amount<br>\n",
    "\\$M \\$ = The monthly payment"
   ]
  },
  {
   "cell_type": "markdown",
   "metadata": {
    "id": "a6yySxxgs2kF"
   },
   "source": [
    "<div class=\"alert alert-block alert-success\"><b>Problem 5 (6 pts.)</b>: Calculate a loan payment.<br><br>\n",
    "1. Prompt the user to enter the amount they are borrowing.<br>\n",
    "2. Prompt the user to enter the duration of the loan in months.<br>\n",
    "3. Prompt the user to enter the annual interest rate.<br>\n",
    "4. Calculate the monthly payment.<br>\n",
    "5. Create a formatted print statement to display the montly payment.<br>\n",
    "\n",
    "**Word your prompts and your output message the same as the following:**</div>"
   ]
  },
  {
   "cell_type": "markdown",
   "metadata": {
    "id": "5Y_AmIPcs2kF"
   },
   "source": [
    "`Enter the amount you are borrowing: 50000\n",
    "Enter the duration of the loan in months: 60\n",
    "Enter the annual interest rate: 2.5\n",
    "Your monthly payment will be $887.37`"
   ]
  },
  {
   "cell_type": "code",
   "execution_count": 40,
   "metadata": {
    "colab": {
     "base_uri": "https://localhost:8080/"
    },
    "id": "7GW0gfvGs2kF",
    "outputId": "3ec1bafc-5730-4e30-9fa7-45c3d8cae487"
   },
   "outputs": [
    {
     "name": "stdout",
     "output_type": "stream",
     "text": [
      "Please enter the amount you are borrowing: 50000\n",
      "Please enter the duration of the loan in months: 60\n",
      "Please enter the annual interest rate: 2.5\n",
      "Your monthly payment will be $887.37.\n"
     ]
    }
   ],
   "source": [
    "#TODO: Prompt the user to enter the amount the user is borrowing.\n",
    "P = float(input(\"Please enter the amount you are borrowing: \"))\n",
    "\n",
    "#TODO: Prompt the user to enter the duration of the loan in months.\n",
    "n = int(input(\"Please enter the duration of the loan in months: \"))\n",
    "\n",
    "#TODO: Prompt the user to enter the annual interest rate.\n",
    "r = float(input(\"Please enter the annual interest rate: \"))\n",
    "\n",
    "#TODO: Calculate the monthly payment.\n",
    "r = r / (12 * 100)  # Convert annual interest rate to monthly\n",
    "M = P * (r * (1 + r)**n) / ((1 + r)**n - 1)\n",
    "\n",
    "#TODO: Create a formatted print statement to display the monthly payment.\n",
    "print(f'Your monthly payment will be ${M:.2f}.')"
   ]
  },
  {
   "cell_type": "markdown",
   "metadata": {
    "id": "4-Bm7sRks2kF"
   },
   "source": [
    "<div class=\"alert alert-block alert-danger\">Be sure to <i><u>run all cells in your notebook</u></i> then submit the following two files for a grade:\n",
    "    \n",
    "\n",
    "1. Your completed <b>notebook</b>\n",
    "2. Your <b>html file</b>\n",
    "\n",
    "</div>"
   ]
  }
 ],
 "metadata": {
  "colab": {
   "provenance": []
  },
  "kernelspec": {
   "display_name": "Python 3 (ipykernel)",
   "language": "python",
   "name": "python3"
  },
  "language_info": {
   "codemirror_mode": {
    "name": "ipython",
    "version": 3
   },
   "file_extension": ".py",
   "mimetype": "text/x-python",
   "name": "python",
   "nbconvert_exporter": "python",
   "pygments_lexer": "ipython3",
   "version": "3.10.9"
  },
  "varInspector": {
   "cols": {
    "lenName": 16,
    "lenType": 16,
    "lenVar": 40
   },
   "kernels_config": {
    "python": {
     "delete_cmd_postfix": "",
     "delete_cmd_prefix": "del ",
     "library": "var_list.py",
     "varRefreshCmd": "print(var_dic_list())"
    },
    "r": {
     "delete_cmd_postfix": ") ",
     "delete_cmd_prefix": "rm(",
     "library": "var_list.r",
     "varRefreshCmd": "cat(var_dic_list()) "
    }
   },
   "types_to_exclude": [
    "module",
    "function",
    "builtin_function_or_method",
    "instance",
    "_Feature"
   ],
   "window_display": false
  }
 },
 "nbformat": 4,
 "nbformat_minor": 1
}
