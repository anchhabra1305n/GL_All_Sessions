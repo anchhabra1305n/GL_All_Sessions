{
 "cells": [
  {
   "cell_type": "markdown",
   "metadata": {},
   "source": [
    "# MSDS 430 Module 2 Python Assignment"
   ]
  },
  {
   "cell_type": "markdown",
   "metadata": {},
   "source": [
    "<div class=\"alert alert-block alert-warning\"><b>In this assignment you will read through this notebook then complete the exercises. Once you are satisfied with your results, submit your notebook and html file to Canvas. Your files should include all output, i.e. run each cell and save your files before submitting.</b></div>"
   ]
  },
  {
   "cell_type": "markdown",
   "metadata": {},
   "source": [
    "<div class=\"alert alert-block alert-info\"> This week we are starting to learn how to write short programs in Python beyond print statements and mathematical calculations. We learned about a few different data types last week such as integers, floats, and strings. This week we will learn about: \n",
    "\n",
    "- The bool data type and Boolean expressions that will be used when we use conditional statements. \n",
    "- Conditional statements (or conditionals) are also referred to as <i><u>selection</u></i> since Python only \"selects\" the block of code to execute based on the Boolean value of the condition. \n",
    "- The <b>if/elif/else</b> structure is quite useful in programming when numerous cases need to be considered and handled accordingly.</div>"
   ]
  },
  {
   "cell_type": "markdown",
   "metadata": {},
   "source": [
    "<div class=\"alert alert-block alert-danger\"><b>As mentioned before, in all of the problems you will see <font color=black>#TODO</font> instructions added as comments on the code cell provided. You will need to complete each of these as indicated to avoid losing points. Do not rearrange or delete these.</b></div>"
   ]
  },
  {
   "cell_type": "markdown",
   "metadata": {},
   "source": [
    "### Python Libraries and Modules"
   ]
  },
  {
   "cell_type": "markdown",
   "metadata": {},
   "source": [
    "Throughout this course we will be using various modules and libraries. Python libraries are collections of related modules. Modules are blocks of code that can be imported into our programs and accessed as needed. The use of libraries and the modules contained within them is a way to repeatedly use code without having to recreate it each time. Refer to __[Libraries in Python](https://www.geeksforgeeks.org/libraries-in-python/)__ for more information on Python libraries and common ones used in data science."
   ]
  },
  {
   "cell_type": "markdown",
   "metadata": {},
   "source": [
    "Python has a standard library that contains many built-in functions, modules, and constants. From your readings this week, you have seen uses for the `math` module and the `random` module. These are just two of the many built-in modules that Python comes with. More documentation on all of Python's built-ins can be found in __[The Python Standard Library](https://docs.python.org/3/library/index.html)__. You are certainly encouraged to explore Python's standard library beyond what is discussed in this assignment and what you learn from your readings this week."
   ]
  },
  {
   "cell_type": "markdown",
   "metadata": {},
   "source": [
    "To use any module, we need to `import` it prior to its use. For example:\n",
    "```python\n",
    "import [module]\n",
    "```\n",
    "This approach creates a new name (the name of the module), which refers to a `module object`. In the example below, we import the `math` module so that `math` is a module object. And we call the function `factorial(n)` using the `math` module object."
   ]
  },
  {
   "cell_type": "code",
   "execution_count": 3,
   "metadata": {},
   "outputs": [
    {
     "data": {
      "text/plain": [
       "1307674368000"
      ]
     },
     "execution_count": 3,
     "metadata": {},
     "output_type": "execute_result"
    }
   ],
   "source": [
    "import math\n",
    "\n",
    "math.factorial(15)"
   ]
  },
  {
   "cell_type": "markdown",
   "metadata": {},
   "source": [
    "The `math` module also has some built-in constants such as `pi` and `e`. If we want to calculate the volume of a sphere with radius 5, we would use the constant `math.pi`. Because we imported the math module in the cell above, we do not need to import it again for this next calculation. However, the cell above this must be run first for our calculation below to work. This is also the case each time you shut down and restart your kernel."
   ]
  },
  {
   "cell_type": "code",
   "execution_count": 4,
   "metadata": {},
   "outputs": [
    {
     "name": "stdout",
     "output_type": "stream",
     "text": [
      "523.599\n"
     ]
    }
   ],
   "source": [
    "r = 5 # Set the radius equal to 5\n",
    "\n",
    "volume = 4/3*math.pi*r**3  # Calculate the volume of a sphere with radius 5\n",
    "\n",
    "print(round(volume, 3))  # Print the volume rounded to 3 decimals using Python's built-in `round()` function"
   ]
  },
  {
   "cell_type": "markdown",
   "metadata": {},
   "source": [
    "There are other ways to import a module, such as:\n",
    "```python\n",
    "import [module] as xyz\n",
    "```\n",
    "This approach defines an alias for the module so that when we call a function (or constant) within that module we can prefix it with `xyz.`"
   ]
  },
  {
   "cell_type": "markdown",
   "metadata": {},
   "source": [
    "Below are a couple of examples using the `statistics` module. Here we import `statistics` using the alias `stats`. In the first example we call the `median()` function that takes an unordered list of numbers and returns the median of the list. So, behind the scenes it is ordering the list from least to greatest then finding the middle value."
   ]
  },
  {
   "cell_type": "code",
   "execution_count": 5,
   "metadata": {},
   "outputs": [
    {
     "data": {
      "text/plain": [
       "8.0"
      ]
     },
     "execution_count": 5,
     "metadata": {},
     "output_type": "execute_result"
    }
   ],
   "source": [
    "import statistics as stats\n",
    "\n",
    "L1 = [5,2,19,11,0,2,13,47]  # Define the list of data\n",
    "\n",
    "stats.median(L1)"
   ]
  },
  {
   "cell_type": "markdown",
   "metadata": {},
   "source": [
    "This next example finds the sample standard deviation of the same list we used above. Similar to a graphing calculator, Python is determining all of the necessary intermediate values that go into calculating the standard deviation."
   ]
  },
  {
   "cell_type": "code",
   "execution_count": 6,
   "metadata": {},
   "outputs": [
    {
     "data": {
      "text/plain": [
       "15.435927479191431"
      ]
     },
     "execution_count": 6,
     "metadata": {},
     "output_type": "execute_result"
    }
   ],
   "source": [
    "stats.stdev(L1)  # Pass L1 through the `stdev()` function"
   ]
  },
  {
   "cell_type": "markdown",
   "metadata": {},
   "source": [
    "A third method for importing a module is to use this syntax:\n",
    "```python\n",
    "from [module] import *\n",
    "```\n",
    "This will import _`everything`_ defined in the module and give us _`direct`_ access to constants, functions, etc. in the module without having to to _prefix_ the module name like we did above. However, this is _**not**_ a good practice in general since two modules might define two different methods with the same name. We only mention it here for informational purposes."
   ]
  },
  {
   "cell_type": "markdown",
   "metadata": {},
   "source": [
    "Another module from your readings this week is the `random` module. One of the most basic uses of this is to generate a random real-valued number within the interval [0.0, 1.0) using the `random()` function."
   ]
  },
  {
   "cell_type": "code",
   "execution_count": 7,
   "metadata": {},
   "outputs": [
    {
     "data": {
      "text/plain": [
       "0.0069451718415394215"
      ]
     },
     "execution_count": 7,
     "metadata": {},
     "output_type": "execute_result"
    }
   ],
   "source": [
    "import random\n",
    "\n",
    "my_number = random.random()\n",
    "\n",
    "my_number"
   ]
  },
  {
   "cell_type": "markdown",
   "metadata": {},
   "source": [
    "Or we could use the `uniform` method to generate a random floating point number between two values."
   ]
  },
  {
   "cell_type": "code",
   "execution_count": 8,
   "metadata": {},
   "outputs": [
    {
     "data": {
      "text/plain": [
       "90.79403762700566"
      ]
     },
     "execution_count": 8,
     "metadata": {},
     "output_type": "execute_result"
    }
   ],
   "source": [
    "random.uniform(10, 100)"
   ]
  },
  {
   "cell_type": "markdown",
   "metadata": {},
   "source": [
    "If we wish to generate a random integer we have a few options. For example, we can use the function `randrange(start, stop, step)` to generate a random integer from a range of integers starting at `start` but less than `stop` with specified increment of `step`. \n",
    "\n",
    "In this next example, the `randrange` function will randomly generate a number between 3 and 49, inclusive, with step 2. In other words, it will generate a random integer from range of integers: `-3, -1, 3, 5, 7, ..., 47, 49`."
   ]
  },
  {
   "cell_type": "code",
   "execution_count": 9,
   "metadata": {},
   "outputs": [
    {
     "data": {
      "text/plain": [
       "49"
      ]
     },
     "execution_count": 9,
     "metadata": {},
     "output_type": "execute_result"
    }
   ],
   "source": [
    "random.randrange(-3, 50, 2)"
   ]
  },
  {
   "cell_type": "markdown",
   "metadata": {},
   "source": [
    "The value for `step` is optional unless you have specific needs. By default, `step` is one if nothing is specified. So, `randrange(a, b)` will return a random integer `N` such that `a ≤ N < b`."
   ]
  },
  {
   "cell_type": "code",
   "execution_count": 10,
   "metadata": {},
   "outputs": [
    {
     "data": {
      "text/plain": [
       "35"
      ]
     },
     "execution_count": 10,
     "metadata": {},
     "output_type": "execute_result"
    }
   ],
   "source": [
    "random.randrange(-3, 50)"
   ]
  },
  {
   "cell_type": "markdown",
   "metadata": {},
   "source": [
    "We can also simply use `randrange(stop)`. Using this syntax, both `start` and `step` are not specified. In the previous example we saw the default for `step` is one.  The default for `start` is zero. So, this next example generates a random integer between 0 and 49, inclusive."
   ]
  },
  {
   "cell_type": "code",
   "execution_count": 11,
   "metadata": {},
   "outputs": [
    {
     "data": {
      "text/plain": [
       "7"
      ]
     },
     "execution_count": 11,
     "metadata": {},
     "output_type": "execute_result"
    }
   ],
   "source": [
    "random.randrange(50)"
   ]
  },
  {
   "cell_type": "markdown",
   "metadata": {},
   "source": [
    "Lastly, an alternative to `randrange` is `randint(a, b)`. This accomplishes the same thing as `randrange(a, b + 1)`. The `step` in `randint` is fixed at one, so we can't pass a third argument to indicate a different step size."
   ]
  },
  {
   "cell_type": "markdown",
   "metadata": {},
   "source": [
    "<div class=\"alert alert-block alert-success\"><b>Problem 1 (5 pts.)</b>: Generate a random number and convert it to a fraction.<br><br>\n",
    "1. Import the necessary modules as indicated in the cell provided.<br>\n",
    "2. Generate a random float type that is greater than or equal to -100 and less than 150 and round to 5 decimals.<br>\n",
    "    3. Convert the random number to a fraction using the <mark><b>fractions</b></mark> module from the Python standard library.<br>\n",
    "4. Create a formatted print statement that generates a message shown below this cell. <i><u>Note: Your values will differ.</u></i><br><br>\n",
    "<font color=black><i><u>Be sure to complete each <b>#TODO</b> statement as indicated in the cell provided.</u></i></font></div>"
   ]
  },
  {
   "cell_type": "markdown",
   "metadata": {},
   "source": [
    "`The fractional form of 135.43846 is 4765317171778389/35184372088832.`"
   ]
  },
  {
   "cell_type": "code",
   "execution_count": 55,
   "metadata": {},
   "outputs": [
    {
     "name": "stdout",
     "output_type": "stream",
     "text": [
      "The fractional form of -47.5706 is -3347483381777983/70368744177664\n"
     ]
    }
   ],
   "source": [
    "#TODO: Import the fractions module with the alias 'frac'\n",
    "from fractions import Fraction as frac\n",
    "\n",
    "#TODO: Import the random module again with the alias 'rand'\n",
    "import random as rand\n",
    "\n",
    "#TODO: Generate a random number ≥ -100 and < 150. Assign this to a variable and round to 5 decimal places.\n",
    "num = rand.uniform(-100, 150)\n",
    "num = round(num,5)\n",
    "#num\n",
    "\n",
    "#TODO: Convert your random number to a fraction using the appropriate function from the fractions module.\n",
    "#Fraction(num)\n",
    "#TODO: Create a formatted print statement like above that displays the number and its fractional form.\n",
    "print(f'The fractional form of {num} is {frac(num)}')"
   ]
  },
  {
   "cell_type": "markdown",
   "metadata": {},
   "source": [
    "### Boolean expressions"
   ]
  },
  {
   "cell_type": "markdown",
   "metadata": {},
   "source": [
    "Last week we briefly introduced the built-in `bool` data type. The `bool` data type only has two values - `True` and `False`. It is important to recognize that Boolean values are not strings and they are case sensitive (`true` and `false` are not Boolean values). We can assign a Boolean value to a variable or we can create **Boolean expressions** that will evaluate to a Boolean value. In order to understand what a Boolean expression is, we have to introduce some built-in operators that are used in those expressions."
   ]
  },
  {
   "cell_type": "markdown",
   "metadata": {},
   "source": [
    "### Comparison and Logical Operators"
   ]
  },
  {
   "cell_type": "markdown",
   "metadata": {},
   "source": [
    "We worked with mathematical operators last week and will continue to do so in this assignment and others, but there are other types of built-in operators within Python. The operators we are introducing this week are `comparison` and `logical` operators.\n",
    "\n",
    "Comparison operators are `==`, `!=`, `<=`, `>=`, `<`, `>`, `is`, and `is not`. These operators are used in Boolean expressions to compare something on the left side with something else on the right side. When the expression is executed, it will result in a Boolean value. The comparison operators `is` and `is not` are sometimes referred to as `identity operators` since they are used to determine if two objects are identical. "
   ]
  },
  {
   "cell_type": "markdown",
   "metadata": {},
   "source": [
    "This next example has assigned the value `3` to `x` and the value `5` to `y`. We then have the Boolean expression `x > y`. Since `3` is not greater than `5`, the expression will evaluate to `False`. Run the cell then try changing the values of `x` and `y` and the comparison operator."
   ]
  },
  {
   "cell_type": "code",
   "execution_count": 31,
   "metadata": {},
   "outputs": [
    {
     "data": {
      "text/plain": [
       "False"
      ]
     },
     "execution_count": 31,
     "metadata": {},
     "output_type": "execute_result"
    }
   ],
   "source": [
    "x = 3\n",
    "y = 5\n",
    "x > y # Boolean expression"
   ]
  },
  {
   "cell_type": "markdown",
   "metadata": {},
   "source": [
    "The `==` is used to determine equivalence. It is different than `=`, which is an assignment token used in an assignment statement."
   ]
  },
  {
   "cell_type": "code",
   "execution_count": 32,
   "metadata": {},
   "outputs": [
    {
     "data": {
      "text/plain": [
       "True"
      ]
     },
     "execution_count": 32,
     "metadata": {},
     "output_type": "execute_result"
    }
   ],
   "source": [
    "car1 = 'sedan'\n",
    "car2 = 'sedan'\n",
    "car1 == car2"
   ]
  },
  {
   "cell_type": "markdown",
   "metadata": {},
   "source": [
    "The operators `is` and `is not` are used to test for identical objects. Everything in Python is an object and is assigned (behind the scenes) an object identification number. We can check the identity of a variable using the built-in function `id()`. Depending on the data type, Python may assign a different ID to distinguish them or may assign the same ID to save memory."
   ]
  },
  {
   "cell_type": "code",
   "execution_count": 33,
   "metadata": {},
   "outputs": [
    {
     "data": {
      "text/plain": [
       "True"
      ]
     },
     "execution_count": 33,
     "metadata": {},
     "output_type": "execute_result"
    }
   ],
   "source": [
    "car1 is car2"
   ]
  },
  {
   "cell_type": "markdown",
   "metadata": {},
   "source": [
    "As you can see after running the previous cell, `car1` and `car2` are the same object since the Boolean expression evaluated to `True`. It turns out that this will always be the case for string objects. For clarification, we can see from the next cell that `car1` and `car2` have the same ID."
   ]
  },
  {
   "cell_type": "code",
   "execution_count": 34,
   "metadata": {},
   "outputs": [
    {
     "data": {
      "text/plain": [
       "(2505601252144, 2505601252144)"
      ]
     },
     "execution_count": 34,
     "metadata": {},
     "output_type": "execute_result"
    }
   ],
   "source": [
    "id(car1), id(car2)"
   ]
  },
  {
   "cell_type": "markdown",
   "metadata": {},
   "source": [
    "Though identical strings assigned to different variables will be the same object, this is not necessarily true for other data types. If we look at the `float` type, we see that the values are equivalent but the objects are not. You are encouraged to try this with other data types such as integers, lists, tuples, etc."
   ]
  },
  {
   "cell_type": "code",
   "execution_count": 35,
   "metadata": {},
   "outputs": [
    {
     "data": {
      "text/plain": [
       "(True, False)"
      ]
     },
     "execution_count": 35,
     "metadata": {},
     "output_type": "execute_result"
    }
   ],
   "source": [
    "num1 = -7.8903\n",
    "num2 = -7.8903\n",
    "num1 == num2, num1 is num2"
   ]
  },
  {
   "cell_type": "markdown",
   "metadata": {},
   "source": [
    "Logical operators are `and`, `or`, and `not`. These are used to combine Boolean expressions and will also result in a Boolean value. The following example assigns a value to `a` and a value to `b` then compares the two. If either `a == b` or `a > b`, the result is the Boolean value `True`. As earlier, try changing the values of `a` and `b`, the comparison operators, and the logical operator to see how the resulting Boolean value changes in each case. "
   ]
  },
  {
   "cell_type": "code",
   "execution_count": 36,
   "metadata": {},
   "outputs": [
    {
     "data": {
      "text/plain": [
       "True"
      ]
     },
     "execution_count": 36,
     "metadata": {},
     "output_type": "execute_result"
    }
   ],
   "source": [
    "a = 7\n",
    "b = 2\n",
    "a == b or a >= b # Since at least one of these is true, this will evaluate to True."
   ]
  },
  {
   "cell_type": "markdown",
   "metadata": {},
   "source": [
    "We can also use parentheses to separate our Boolean expressions. Sometimes this is preferred for aesthetics, to designate the order of operation, or to quickly check that each side of the logical operator is a Boolean expression."
   ]
  },
  {
   "cell_type": "code",
   "execution_count": 37,
   "metadata": {},
   "outputs": [
    {
     "data": {
      "text/plain": [
       "True"
      ]
     },
     "execution_count": 37,
     "metadata": {},
     "output_type": "execute_result"
    }
   ],
   "source": [
    "(a == b) or (a >= b)  # using parentheses to make the order of operation explicit"
   ]
  },
  {
   "cell_type": "markdown",
   "metadata": {},
   "source": [
    "### `if` Statement"
   ]
  },
  {
   "cell_type": "markdown",
   "metadata": {},
   "source": [
    "Python will execute a program or code snippet in the order it is presented unless told otherwise. To alter this path of execution, we can use one or more `conditional statements` that check the value of a test expression and choose the path of execution based on the Boolean value. The simplest form of conditional statement is the `if` statement with the following syntax: \n",
    "```python\n",
    "if TestExpression:\n",
    "    body_of_if\n",
    "    ...\n",
    "```\n",
    "\n",
    "There can be one statement or multiple statements in the `body_of_if`. The `TestExpression` will be a Boolean expression and the `body_of_if` will only be executed if the Boolean value of that expression is `True`. If it is `False`, Python will skip the body of `if` and jump to the code that follows. If no other lines of code follow this, the program will terminate."
   ]
  },
  {
   "cell_type": "markdown",
   "metadata": {},
   "source": [
    "<div class=\"alert alert-block alert-info\">\n",
    "\n",
    "### Jupyter Notebook will indent for you\n",
    "\n",
    "- After typing in your if statement followed by a colon (:), hit return.\n",
    "- Test this feature in the cell below.   \n",
    "</div>"
   ]
  },
  {
   "cell_type": "code",
   "execution_count": 39,
   "metadata": {
    "scrolled": true
   },
   "outputs": [
    {
     "ename": "IndentationError",
     "evalue": "expected an indented block (160715332.py, line 3)",
     "output_type": "error",
     "traceback": [
      "\u001b[1;36m  File \u001b[1;32m\"C:\\Users\\Victus\\AppData\\Local\\Temp\\ipykernel_24876\\160715332.py\"\u001b[1;36m, line \u001b[1;32m3\u001b[0m\n\u001b[1;33m    \u001b[0m\n\u001b[1;37m    ^\u001b[0m\n\u001b[1;31mIndentationError\u001b[0m\u001b[1;31m:\u001b[0m expected an indented block\n"
     ]
    }
   ],
   "source": [
    "# Place your cursor at the end of the following line and hit return to see how JN indents for you\n",
    "if x < y:\n",
    "    "
   ]
  },
  {
   "cell_type": "markdown",
   "metadata": {},
   "source": [
    "<div class=\"alert alert-block alert-info\">\n",
    "\n",
    "### Test cases should represent each possible executable path in a conditional:\n",
    "\n",
    "When creating conditionals, it is recommended you try some test cases. This is especially true as you get into more complicated conditionals. A best practice is to have at least one test case per condition to ensure that you have accounted for each possible path. <br><br>\n",
    "For the next two examples, use the following test cases:\n",
    "- Test case 1: Enter 100\n",
    "- Test case 2: Enter a number different than 100 \n",
    "</div>"
   ]
  },
  {
   "cell_type": "code",
   "execution_count": 41,
   "metadata": {},
   "outputs": [
    {
     "name": "stdout",
     "output_type": "stream",
     "text": [
      "Enter an integer: 12\n"
     ]
    }
   ],
   "source": [
    "my_number = 100\n",
    "\n",
    "your_number = int(input('Enter an integer: '))\n",
    "\n",
    "if your_number == my_number:\n",
    "    print(f'We both picked the number {my_number}!')"
   ]
  },
  {
   "cell_type": "markdown",
   "metadata": {},
   "source": [
    "Notice in the previous example there is no output if you enter a number other than 100. We can add some code to the end to have Python do something else even if the `body_of_if` is not executed. To do this, we need to put any additional lines of code outside of the `if` structure."
   ]
  },
  {
   "cell_type": "code",
   "execution_count": 42,
   "metadata": {},
   "outputs": [
    {
     "name": "stdout",
     "output_type": "stream",
     "text": [
      "Enter an integer: 100\n",
      "We both picked the number 100!\n",
      "Have a nice day!\n"
     ]
    }
   ],
   "source": [
    "my_number = 100\n",
    "\n",
    "your_number = int(input('Enter an integer: '))\n",
    "\n",
    "if your_number == my_number:\n",
    "    print(f'We both picked the number {my_number}!')\n",
    "    \n",
    "print(\"Have a nice day!\")"
   ]
  },
  {
   "cell_type": "markdown",
   "metadata": {},
   "source": [
    "In the previous example, the print statement outside of the `body_of_if` will print regardless of the value of the `TestExpression`."
   ]
  },
  {
   "cell_type": "markdown",
   "metadata": {},
   "source": [
    "### `if/else` Statement"
   ]
  },
  {
   "cell_type": "markdown",
   "metadata": {},
   "source": [
    "We can also build on the basic `if` statement by adding an `else` clause. The basic syntax of an `if/else` statement looks like this:\n",
    "```python\n",
    "if TestExpression:\n",
    "    body_of_if\n",
    "else:\n",
    "    body_of_else\n",
    "```"
   ]
  },
  {
   "cell_type": "markdown",
   "metadata": {},
   "source": [
    "If the `TestExpression` for `if` is `True`, then the `body_of_if` will be executed. Otherwise, the `body_of_else` will be executed. As with the `body_of_if`, the `body_of_else` can have one or multiple statements."
   ]
  },
  {
   "cell_type": "markdown",
   "metadata": {},
   "source": [
    "We can also use the built-in **`in`** operator in conjunction with a list to determine if an element is in that list. If the element is in the list, the Boolean expression evaluates to `True` and if not, it evaluates to `False`."
   ]
  },
  {
   "cell_type": "markdown",
   "metadata": {},
   "source": [
    "<div class=\"alert alert-block alert-info\">\n",
    "\n",
    "For the next example, use the following test cases:<br>\n",
    "- Test case 1: Enter <mark>salmon</mark>\n",
    "- Test case 2: Enter <mark>bananas</mark>\n",
    "</div>"
   ]
  },
  {
   "cell_type": "code",
   "execution_count": 43,
   "metadata": {},
   "outputs": [
    {
     "name": "stdout",
     "output_type": "stream",
     "text": [
      "Enter an item you need from the grocery: apples\n",
      "That's on my list.\n",
      "Let me know if you need anything else.\n"
     ]
    }
   ],
   "source": [
    "groceries = ['apples', 'spinach', 'strawberries', 'salmon', 'rice', 'olive oil', 'tissues']\n",
    "\n",
    "food = input('Enter an item you need from the grocery: ')\n",
    "\n",
    "if food in groceries:\n",
    "    print(\"That's on my list.\")\n",
    "\n",
    "else:\n",
    "    print(\"I'll add that to my list\")\n",
    "\n",
    "print('Let me know if you need anything else.')"
   ]
  },
  {
   "cell_type": "markdown",
   "metadata": {},
   "source": [
    "Below is an example that uses the comparison operator **`or`** in the test expression. Notice the each side of **`or`** is a Boolean expression. In particular, had this been `if pet == 'y'` **or** `'Y'`, an error would be generated since the right side `'Y'` would not be a Boolean expression."
   ]
  },
  {
   "cell_type": "markdown",
   "metadata": {},
   "source": [
    "<div class=\"alert alert-block alert-info\">\n",
    "\n",
    "For the next example, use the following test cases:<br>\n",
    "- Test case 1: Enter <mark>y</mark> then any (lowercase) pet name<br>\n",
    "- Test case 2: Enter <mark>Y</mark> then any pet name<br>\n",
    "- Test case 3: Enter anything other than <mark>y</mark> or <mark>Y</mark>\n",
    "</div>"
   ]
  },
  {
   "cell_type": "code",
   "execution_count": 44,
   "metadata": {},
   "outputs": [
    {
     "name": "stdout",
     "output_type": "stream",
     "text": [
      "Do you have a pet (Y or N)? Y\n",
      "What is your pet's name? Tom\n",
      "Tom is a great name for a pet!\n"
     ]
    }
   ],
   "source": [
    "pet = input('Do you have a pet (Y or N)? ')\n",
    "\n",
    "if pet == 'y' or pet =='Y':\n",
    "    p_name = input(\"What is your pet's name? \")\n",
    "    pet_name = p_name.capitalize()\n",
    "    print(f'{pet_name} is a great name for a pet!')\n",
    "else:\n",
    "    print(\"Maybe someday you'll get a pet.\")"
   ]
  },
  {
   "cell_type": "markdown",
   "metadata": {},
   "source": [
    "With the logical operator **`or`**, only one of the Boolean expressions needs to be `True` for the entire `TestExpression` to evaluate to `True`. So, the `TestExpression` will only be `False` if **both** expressions are `False`. In the case of the logical operator **`and`**, both but must be `True` for the entire expression to evaluate to `True`. So, the expression will evaluate to `False` if one or both of the Boolean expressions is `False`."
   ]
  },
  {
   "cell_type": "markdown",
   "metadata": {},
   "source": [
    "<div class=\"alert alert-block alert-info\">\n",
    "\n",
    "For the next example, use the following test cases:<br>\n",
    "- Test case 1: Enter <mark>2</mark> then <mark>8</mark>\n",
    "- Test case 2: Enter <mark>2</mark> then any number between 5 and 10 other than <mark>8</mark><br>\n",
    "- Test case 3: Enter a number between 0 and 5 other than 2. Then enter <mark>8</mark><br>\n",
    "- Test case 4: Enter anything other than <mark>2</mark> and <mark>8</mark>\n",
    "</div>"
   ]
  },
  {
   "cell_type": "code",
   "execution_count": 45,
   "metadata": {},
   "outputs": [
    {
     "name": "stdout",
     "output_type": "stream",
     "text": [
      "Pick an integer greater than 0 but less than 5: 2\n",
      "Pick an integer greater than 5 but less than 10: 7\n",
      "I'm sorry. The winning numbers were 2 and 8.\n"
     ]
    }
   ],
   "source": [
    "num1 = int(input('Pick an integer greater than 0 but less than 5: '))\n",
    "num2 = int(input('Pick an integer greater than 5 but less than 10: '))\n",
    "\n",
    "num_a = 2\n",
    "num_b = 8\n",
    "\n",
    "if num1 == num_a and num2 == num_b:\n",
    "    print('You win!')\n",
    "    \n",
    "else:\n",
    "    print(f\"I'm sorry. The winning numbers were {num_a} and {num_b}.\")"
   ]
  },
  {
   "cell_type": "markdown",
   "metadata": {},
   "source": [
    "<div class=\"alert alert-block alert-success\"><b>Problem 2 (3 pts.)</b>: According to the syllabus for this class, any score less than 70 is a failing grade. Based on this, create a program to do the following:<br><br>\n",
    "1. Prompt the user for a score.<br>\n",
    "2. Create a simple <mark>if/else</mark> structure to inform the user if they passed or failed by displaying one of the messages shown below this cell.<br><br>\n",
    "    <font color=b><i><u>Be sure to follow the <b>#TODO</b> instuctions in the cell provided.</u></i></font>\n",
    "</div>"
   ]
  },
  {
   "cell_type": "markdown",
   "metadata": {},
   "source": [
    "`What score did you earn for the class? 70.1\n",
    "Congratulations! You passed the class!`"
   ]
  },
  {
   "cell_type": "markdown",
   "metadata": {},
   "source": [
    "`What score did you earn for the class? 70\n",
    "Congratulations! You passed the class!`"
   ]
  },
  {
   "cell_type": "markdown",
   "metadata": {},
   "source": [
    "`What score did you earn for the class? 69.9\n",
    "I'm sorry but you will need to retake the class.`"
   ]
  },
  {
   "cell_type": "markdown",
   "metadata": {},
   "source": [
    "<div class=\"alert alert-block alert-info\">\n",
    "\n",
    "### Test cases for Problem 2:\n",
    "- Test case 1: Enter 70.1\n",
    "- Test case 2: Enter 70\n",
    "- Test case 3: Enter 69.9<br><br>\n",
    "<font color=b><b><u>Show all three cases by copying and pasting your code into additional cells</u></b></font>\n",
    "</div>"
   ]
  },
  {
   "cell_type": "code",
   "execution_count": 57,
   "metadata": {},
   "outputs": [
    {
     "name": "stdout",
     "output_type": "stream",
     "text": [
      "What score did you earn for the class?70.1\n",
      "Congratulations! You passed the class!\n"
     ]
    }
   ],
   "source": [
    "#TODO: Prompt the user for their score for the class\n",
    "score = float(input('What score did you earn for the class?'))\n",
    "\n",
    "#TODO: Create a simple if/else that generates each of the sample messages shown above.\n",
    "if score>=70:\n",
    "    print('Congratulations! You passed the class!')\n",
    "else:\n",
    "    print('I\\'m sorry but you will need to retake the class.')\n"
   ]
  },
  {
   "cell_type": "code",
   "execution_count": 60,
   "metadata": {},
   "outputs": [
    {
     "name": "stdout",
     "output_type": "stream",
     "text": [
      "What score did you earn for the class?70\n",
      "Congratulations! You passed the class!\n"
     ]
    }
   ],
   "source": [
    "#TODO: Prompt the user for their score for the class\n",
    "score = float(input('What score did you earn for the class?'))\n",
    "\n",
    "#TODO: Create a simple if/else that generates each of the sample messages shown above.\n",
    "if score>=70:\n",
    "    print('Congratulations! You passed the class!')\n",
    "else:\n",
    "    print('I\\'m sorry but you will need to retake the class.')\n"
   ]
  },
  {
   "cell_type": "code",
   "execution_count": 59,
   "metadata": {},
   "outputs": [
    {
     "name": "stdout",
     "output_type": "stream",
     "text": [
      "What score did you earn for the class?69.9\n",
      "I'm sorry but you will need to retake the class.\n"
     ]
    }
   ],
   "source": [
    "#TODO: Prompt the user for their score for the class\n",
    "score = float(input('What score did you earn for the class?'))\n",
    "\n",
    "#TODO: Create a simple if/else that generates each of the sample messages shown above.\n",
    "if score>=70:\n",
    "    print('Congratulations! You passed the class!')\n",
    "else:\n",
    "    print('I\\'m sorry but you will need to retake the class.')\n"
   ]
  },
  {
   "cell_type": "markdown",
   "metadata": {},
   "source": [
    "### `if/elif/else` Statement"
   ]
  },
  {
   "cell_type": "markdown",
   "metadata": {},
   "source": [
    "Often times we need an additional `TestExpression` to change the path of execution and to account for every scenario. One way to do this is to use the `if/elif/else` statement. The general syntax looks like this:\n",
    "```python\n",
    "if TestExpression1:\n",
    "    body_of_if\n",
    "elif TestExpression2:\n",
    "    body_of_elif\n",
    "else:\n",
    "    body_of_else\n",
    "```"
   ]
  },
  {
   "cell_type": "markdown",
   "metadata": {},
   "source": [
    "Some things to make a note of here are that as with `if` and `if/else`, the bodies of each of these can have any number of statements. Also, there can be multiple `elif` statements and Python will test their conditions in the order they appear. If an `elif` test expression is `True`, then all other `elif` clauses will be skipped. Lastly, the `else` clause is optional but if it is present, there can only be one and it must come at the end of the `if/elif/else` statement."
   ]
  },
  {
   "cell_type": "markdown",
   "metadata": {},
   "source": [
    "<div class=\"alert alert-block alert-info\">\n",
    "\n",
    "For the next example, use the following test cases:<br>\n",
    "- Test case 1: Enter <mark>2</mark> then <mark>8</mark>\n",
    "- Test case 2: Enter <mark>2</mark> then any number between 5 and 10 other than <mark>8</mark><br>\n",
    "- Test case 3: Enter a number between 0 and 5 other than 2. Then enter <mark>8</mark><br>\n",
    "- Test case 4: Enter anything other than <mark>2</mark> and <mark>8</mark>\n",
    "</div>"
   ]
  },
  {
   "cell_type": "code",
   "execution_count": 49,
   "metadata": {},
   "outputs": [
    {
     "name": "stdout",
     "output_type": "stream",
     "text": [
      "Pick an integer greater than 0 but less than 5: 2\n",
      "Pick an integer greater than 5 but less than 10: 8\n",
      "You win!\n"
     ]
    }
   ],
   "source": [
    "num1 = int(input('Pick an integer greater than 0 but less than 5: '))\n",
    "num2 = int(input('Pick an integer greater than 5 but less than 10: '))\n",
    "\n",
    "num_a = 2\n",
    "num_b = 8\n",
    "\n",
    "if num1 == num_a and num2 == num_b:\n",
    "    print('You win!')\n",
    "\n",
    "elif num1 == num_a:\n",
    "    print(f\"You're close. You guessed {num_a} correctly.\")\n",
    "    print('Maybe next time.')\n",
    "\n",
    "elif num2 == num_b:\n",
    "    print(f\"You're close. You guessed {num_b} correctly.\")\n",
    "    print('This is fun!')\n",
    "    \n",
    "else:\n",
    "    print(f\"I'm sorry. The winning numbers were {num_a} and {num_b}.\")"
   ]
  },
  {
   "cell_type": "markdown",
   "metadata": {},
   "source": [
    "Now that we know the code above is working, we could create a simple game with this. Our game would generate two  random numbers instead of fixing the two numbers, then compare those to the user's input."
   ]
  },
  {
   "cell_type": "code",
   "execution_count": 50,
   "metadata": {},
   "outputs": [
    {
     "name": "stdout",
     "output_type": "stream",
     "text": [
      "Pick an integer greater than 0 but less than 5: 2\n",
      "Pick an integer greater than 5 but less than 10: 8\n",
      "I'm sorry. The winning numbers were 1 and 7.\n",
      "Play again!\n"
     ]
    }
   ],
   "source": [
    "import random\n",
    "\n",
    "num1 = int(input('Pick an integer greater than 0 but less than 5: '))\n",
    "num2 = int(input('Pick an integer greater than 5 but less than 10: '))\n",
    "\n",
    "num_a = random.randrange(1,5)\n",
    "num_b = random.randrange(6,10)\n",
    "\n",
    "if num1 == num_a and num2 == num_b:\n",
    "    print('You win!')\n",
    "\n",
    "elif num1 == num_a:\n",
    "    print(f\"You're close. You guessed {num_a} correctly.\")\n",
    "    print('Maybe next time.')\n",
    "\n",
    "elif num2 == num_b:\n",
    "    print(f\"You're close. You guessed {num_b} correctly.\")\n",
    "    print('This is fun!')\n",
    "    \n",
    "else:\n",
    "    print(f\"I'm sorry. The winning numbers were {num_a} and {num_b}.\")\n",
    "\n",
    "print('Play again!')"
   ]
  },
  {
   "cell_type": "markdown",
   "metadata": {},
   "source": [
    "### Mathematical Formula for Problem 3"
   ]
  },
  {
   "cell_type": "markdown",
   "metadata": {},
   "source": [
    "Last week you created a program to calculate a loan payment based on a purchase price. For this next problem we will calculate an amount that can be borrowed based on a monthly payment provided. The formula you will need for this calculation along with an example are provided below. For simplicity, we will assume payments will be made monthly and the interest will be compounded monthly.\n",
    "\n",
    "Use the following formula to calculate the loan amount:\n",
    "\\begin{equation}\n",
    "P = M\\left[ \\frac{\\left( 1+r\\right)^n-1}{r\\left( 1+r\\right)^n} \\right]\n",
    "\\end{equation}\n",
    "\n",
    "The variables are defined as follows:<br><br>\n",
    "\\$ r\\$ = The annual interest rate converted to a decimal then divided by \\$ 12\\$<br>\n",
    "\\$ n\\$ = The total number of monthly payments for the duration of the loan<br>\n",
    "\\$P \\$ = The principal (or loan) amount<br>\n",
    "\\$M \\$ = The monthly payment"
   ]
  },
  {
   "cell_type": "markdown",
   "metadata": {},
   "source": [
    "For example, to calculate how much you can borrow for 6 years with a monthly payment of 800 dollars and an annual interest rate of 3\\%, the variable amounts would be:<br><br>\n",
    "\\$ r =\\$ 0.03/12 = 0.0025<br>\n",
    "\\$ n =\\$ 72<br>\n",
    "\\$ M =\\$ 800<br>\n",
    "\n",
    "This will result in a loan amount of \\$ P =\\$ 52,653."
   ]
  },
  {
   "cell_type": "markdown",
   "metadata": {},
   "source": [
    "<div class=\"alert alert-block alert-success\"><b>Problem 3 (8 pts.)</b>: You would like to buy a new house but you have certain must-haves to consider looking at a new home. You have a maximum monthly mortgage payment you are willing to make and you need a certain minimum number of bedrooms. For this next problem, complete the following steps to determine if a home is worth looking at:<br><br>\n",
    "1. Prompt the user to enter the maximum monthly payment they can afford.<br>\n",
    "2. Prompt the user to enter the price of a home that they're considering looking at.<br>\n",
    "3. Prompt the user to enter the minimum number of bedrooms they would like in their home.<br>\n",
    "4. Prompt the user to enter the number of bedrooms the house has.<br>\n",
    "5. Using the monthly payment the user entered, calculate the amount they can afford to borrow based on a 30-year fixed mortgage at 6.5% interest.<br>\n",
    "6. Create an <mark>if/elif/else</mark> structure that compares the parameters of the house the user would like to tour with their preferences and displays the appropriate message shown below.<br><br>\n",
    "<font color=black><i><u>Be sure to complete each <b>#TODO</b> statement as indicated in the cell provided.</u></i></font>\n",
    "</div>"
   ]
  },
  {
   "cell_type": "markdown",
   "metadata": {},
   "source": [
    "<b>Test case 1:</b><br>\n",
    "`What is the maximum monthly payment you can afford? 1800\n",
    "What is the price of the home you would like to tour? 250000\n",
    "What is the minimum number of bedrooms you would like? 3\n",
    "What is the number of bedrooms in the house you are considering? 3\n",
    "This property is affordable and has enough bedrooms.`"
   ]
  },
  {
   "cell_type": "markdown",
   "metadata": {},
   "source": [
    "<b>Test case 2:</b><br>\n",
    "`What is the maximum monthly payment you can afford? 1800\n",
    "What is the price of the home you would like to tour? 250000\n",
    "What is the minimum number of bedrooms you would like? 3\n",
    "What is the number of bedrooms in the house you are considering? 2\n",
    "This property is affordable but 2 bedrooms is not enough.`"
   ]
  },
  {
   "cell_type": "markdown",
   "metadata": {},
   "source": [
    "<b>Test case 3:</b><br>\n",
    "`What is the maximum monthly payment you can afford? 1800\n",
    "What is the price of the home you would like to tour? 300000\n",
    "What is the minimum number of bedrooms you would like? 3\n",
    "What is the number of bedrooms in the house you are considering? 4\n",
    "This property has enough bedrooms but is not affordable. You can only borrow $284779.00.`"
   ]
  },
  {
   "cell_type": "markdown",
   "metadata": {},
   "source": [
    "<b>Test case 4:</b><br>\n",
    "`What is the maximum monthly payment you can afford? 1800\n",
    "What is the price of the home you would like to tour? 300000\n",
    "What is the minimum number of bedrooms you would like? 3\n",
    "What is the number of bedrooms in the house you are considering? 2\n",
    "This property is not affordable and doesn't have enough bedrooms.`"
   ]
  },
  {
   "cell_type": "markdown",
   "metadata": {},
   "source": [
    "<div class=\"alert alert-block alert-info\">\n",
    "\n",
    "### Test cases for Problem 3:\n",
    "- Test case 1: 1800, 250000, 3, 3 \n",
    "- Test case 2: 1800, 250000, 3, 2\n",
    "- Test case 3: 1800, 300000, 3, 4 (<font color=b><b><u>show this one in your final JN</u></b></font>)\n",
    "- Test case 4: 1800, 300000, 3, 2    \n",
    "</div>"
   ]
  },
  {
   "cell_type": "code",
   "execution_count": 70,
   "metadata": {
    "scrolled": true
   },
   "outputs": [
    {
     "name": "stdout",
     "output_type": "stream",
     "text": [
      "What is the maximum monthly payment you can afford?1800\n",
      "What is the price of the home you would like to tour?300000\n",
      "What is the minimum number of bedrooms you would like?3\n",
      "What is the number of bedrooms in the house you are considering?4\n",
      "This property has enough bedrooms but is not affordable. You can only borrow $284779.00\n"
     ]
    }
   ],
   "source": [
    "#TODO: Create the first 4 prompts listed in the instructions for this problem\n",
    "monthly_afford = int(input('What is the maximum monthly payment you can afford?'))\n",
    "price = int(input('What is the price of the home you would like to tour?'))\n",
    "bedrooms = int(input('What is the minimum number of bedrooms you would like?'))\n",
    "bedroom_consider = int(input('What is the number of bedrooms in the house you are considering?'))\n",
    "\n",
    "#TODO: Calculate the amount the user can borrow based on the payment entered. Assume a 30-year fixed\n",
    "# mortgage at 6.5%\n",
    "r= float((6.5/12)/100)\n",
    "n = 360\n",
    "max_borrow = monthly_afford * float ( (1 + r)**n - 1)/ (r * (1+r)**n )\n",
    "#max_borrow\n",
    "\n",
    "#TODO: Notice there are four different messages that can be displayed to the user and they vary based on\n",
    "# the user input. Create an if/elif/else structure that will accommodate all four test cases shown above.\n",
    "if max_borrow >= price and bedrooms <= bedroom_consider:\n",
    "    print('This property is affordable and has enough bedrooms.')\n",
    "elif max_borrow >= price and bedrooms > bedroom_consider:\n",
    "    print(f'This property is affordable but {bedroom_consider} bedrooms is not enough.')\n",
    "elif max_borrow < price and bedrooms <= bedroom_consider:\n",
    "    print(f'This property has enough bedrooms but is not affordable. You can only borrow ${round(max_borrow):.2f}')\n",
    "else:\n",
    "    print('This property is not affordable and doesn\\'t have enough bedrooms.')\n"
   ]
  },
  {
   "cell_type": "markdown",
   "metadata": {},
   "source": [
    "### Nested Conditionals"
   ]
  },
  {
   "cell_type": "markdown",
   "metadata": {},
   "source": [
    "Conditional statements can be more complex than the examples shown so far. It is sometimes necessary to create nested conditionals to account for all possible scenarios. These are conditionals that are nested within another conditional statement. For example, a basic nested conditional may look something like this:\n",
    "```python\n",
    "if TestExpression1:\n",
    "    if TestExpression2:\n",
    "        body_of_TestExpression2\n",
    "    else:\n",
    "        body_of_nested_else\n",
    "else:\n",
    "    body_of_else\n",
    "    \n",
    "[code following conditional block]\n",
    "```"
   ]
  },
  {
   "cell_type": "markdown",
   "metadata": {},
   "source": [
    "Keep in mind there are an unlimited number of ways nested conditionals can be structured. In this particular structure, Python would check for the value of `TestExpression1` then one of the following paths would be executed:\n",
    "\n",
    "* `TestExpression1` (**True**) ---> `TestExpression2` (**True**) ---> `body_of_TestExpression2` ---> [code following conditional block]<br><br>\n",
    "\n",
    "* `TestExpression1` (**True**) ---> `TestExpression2` (**False**) ---> `body_of_nested_else` ---> [code following conditional block]<br><br>\n",
    "\n",
    "* `TestExpression1` (**False**) ---> `body_of_else` ---> [code following conditional block]<br><br>\n",
    "\n",
    "We could also have a nested conditional within the `body_of_else` instead of within the body of the outermost `if`, or we could have nested conditionals in both, or nested conditionals within nested conditionals, etc. Again, there are an unlimited number of ways these can be structured."
   ]
  },
  {
   "cell_type": "markdown",
   "metadata": {},
   "source": [
    "This next example of a nested conditional takes two numbers input by the user and compares them to see if the second number is greater than 3 times the first number, less than 3 times the first number, or equal to 3 times the first number."
   ]
  },
  {
   "cell_type": "markdown",
   "metadata": {},
   "source": [
    "<div class=\"alert alert-block alert-info\">\n",
    "\n",
    "For the next example, use the following test cases:\n",
    "- Test case 1: Enter 4 and 15\n",
    "- Test case 2: Enter 4 and 10\n",
    "- Test case 3: Enter 4 and 12 \n",
    "</div>"
   ]
  },
  {
   "cell_type": "code",
   "execution_count": 71,
   "metadata": {},
   "outputs": [
    {
     "name": "stdout",
     "output_type": "stream",
     "text": [
      "Enter an integer: 12\n",
      "Enter a larger integer: 14\n",
      "14 is less than 3 times 12\n"
     ]
    }
   ],
   "source": [
    "number1 = int(input('Enter an integer: '))\n",
    "number2 = int(input('Enter a larger integer: '))\n",
    "\n",
    "if number2 > 3*number1:\n",
    "    print(f'{number2} is at least 3 times {number1}')\n",
    "\n",
    "else:\n",
    "    if number2 < 3*number1:\n",
    "        print(f'{number2} is less than 3 times {number1}')\n",
    "    \n",
    "    else:\n",
    "        print(f'{number2} is exactly 3 times {number1}')"
   ]
  },
  {
   "cell_type": "markdown",
   "metadata": {},
   "source": [
    "### Example of `if/elif/else` with nested conditionals"
   ]
  },
  {
   "cell_type": "markdown",
   "metadata": {},
   "source": [
    "For this next example, suppose you would love to get a job in Hawaii but would only accept it if the annual pay is at least 85,000. You would also be willing to take a job in New York if the annual pay is at least 100,000 or anywhere else if the annual pay is at least 75,000. The following example takes two inputs from the user, `location` and `pay` and returns a particular response based on the inputs.\n",
    "\n",
    "Notice the outer `if` and the first `elif` test for the location to be either Hawaii or New York. If the location entered is neither of those, then the second `elif` handles all other locations and will test the amount of pay. The `else` statement will only be executed if everything before it evaluates to `False`."
   ]
  },
  {
   "cell_type": "markdown",
   "metadata": {},
   "source": [
    "<div class=\"alert alert-block alert-info\">\n",
    "\n",
    "For the next example, use the following test cases:\n",
    "- New York, 110000\n",
    "- New York, 80000\n",
    "- Hawaii, 86000\n",
    "- Hawaii, 50000\n",
    "- Miami, 90000\n",
    "- Miami, 60000   \n",
    "</div>"
   ]
  },
  {
   "cell_type": "code",
   "execution_count": 72,
   "metadata": {},
   "outputs": [
    {
     "name": "stdout",
     "output_type": "stream",
     "text": [
      "Enter the location of the job: New York\n",
      "Enter the annual pay: 110000\n",
      "I'll take it!\n"
     ]
    }
   ],
   "source": [
    "location = str(input('Enter the location of the job: '))\n",
    "pay = int(input('Enter the annual pay: '))\n",
    "\n",
    "# First is a nested conditional statement to handle pay related to 'New York.'\n",
    "if location == \"New York\":\n",
    "    if pay >= 100000:\n",
    "        print(\"I'll take it!\")\n",
    "    else:\n",
    "        print(\"No way.\")\n",
    "    \n",
    "\n",
    "# Next is a nested 'elif' statement to handle pay related to \"Hawaii.\"\n",
    "elif location == \"Hawaii\": \n",
    "    if pay >= 85000:\n",
    "        print(\"I'll take it!\")\n",
    "    else:\n",
    "        print(\"No way.\")\n",
    "    \n",
    "\n",
    "# Now another 'elif' statement to handle pay of at least 75,000 for all other locations.\n",
    "elif pay >= 75000:\n",
    "    print(\"I'll take it!\")\n",
    "    \n",
    "\n",
    "# Lastly is the appropriate 'else' command for all other scenarios.\n",
    "else:\n",
    "    print(\"No thanks, I can find something better.\")"
   ]
  },
  {
   "cell_type": "markdown",
   "metadata": {},
   "source": [
    "### Your Turn"
   ]
  },
  {
   "cell_type": "markdown",
   "metadata": {},
   "source": [
    "There are certainly numerous ways to handle the previous example and you are encouraged to try different approaches. For example, try changing the `if` statement and the first `elif` to:\n",
    "```python\n",
    "if location == \"New York\" and pay >= 100000:\n",
    "...\n",
    "elif location ==\"Hawaii\" and pay >= 85000\n",
    "...\n",
    "```\n",
    "Adjust the remaining code as needed to accomodate the new test expressions. Reach out to your TA for assistance as needed."
   ]
  },
  {
   "cell_type": "markdown",
   "metadata": {},
   "source": [
    "<div class=\"alert alert-block alert-success\"><b>Problem 4 (10 pts.)</b>: Suppose your goal is to burn a certain number of calories. You would like to either cycle, jog, or swim to accomplish this but you need to know how many minutes of each activity would be required to burn the allotted calories based on your weight. The table below lists the number of calories burned per minute based on your weight for cycling, jogging, and swimming:</div>"
   ]
  },
  {
   "cell_type": "markdown",
   "metadata": {},
   "source": [
    "<table>\n",
    "    <tr style=\"text-align:left; background-color:yellowgreen\">\n",
    "        <th style=\"text-align:left\">Activity</th>\n",
    "        <th>weight < 140 lbs.</th>\n",
    "        <th>140 ≤ weight < 160 lbs.</th>\n",
    "        <th>160 ≤ weight < 180 lbs.</th>\n",
    "        <th>weight ≥ 180 lbs.</th>\n",
    "    </tr>\n",
    "    <tr>\n",
    "        <td style=\"text-align:left\">Cycling (10 mph)</td>\n",
    "        <td style=\"text-align:center\">5.5</td>\n",
    "        <td style=\"text-align:center\">6.4</td>\n",
    "        <td style=\"text-align:center\">7.3</td>\n",
    "        <td style=\"text-align:center\">8.2</td>\n",
    "    </tr>\n",
    "    <tr>\n",
    "        <td style=\"text-align:left\">Jogging</td>\n",
    "        <td style=\"text-align:center\">9.3</td>\n",
    "        <td style=\"text-align:center\">10.8</td>\n",
    "        <td style=\"text-align:center\">12.4</td>\n",
    "        <td style=\"text-align:center\">13.9</td>\n",
    "    </tr>\n",
    "    <tr>\n",
    "        <td style=\"text-align:left\">Swimming (moderate pace)</td>\n",
    "        <td style=\"text-align:center\">7.8</td>\n",
    "        <td style=\"text-align:center\">9.0</td>\n",
    "        <td style=\"text-align:center\">10.3</td>\n",
    "        <td style=\"text-align:center\">11.6</td>\n",
    "    </tr>\n",
    "</table>"
   ]
  },
  {
   "cell_type": "markdown",
   "metadata": {},
   "source": [
    "<div class=\"alert alert-block alert-success\">For this problem, complete the following:<br><br>\n",
    "1. Prompt the user to enter the activity they would like to do. Your code should handle upper and lower case inputs.<br>\n",
    "2. Prompt the user to enter their weight.<br>\n",
    "3. Prompt the user to enter the number of calories they would like to burn.<br>\n",
    "4. Create a conditional for each of the 3 activities that will calculate the minutes needed to burn the desired calories based on each weight category.\n",
    "5. Print a message like the sample shown below.<br><br>\n",
    "<font color=black><i><u>Be sure to complete each <b>#TODO</b> statement as indicated in the cell provided.</u></i></font></div>"
   ]
  },
  {
   "cell_type": "markdown",
   "metadata": {},
   "source": [
    "`Would you like to cycle, jog, or swim? Jog\n",
    "What is your weight? 110\n",
    "How many calories would you like to burn? 500\n",
    "You will need to jog for 54 minutes to burn 500.0 calories`"
   ]
  },
  {
   "cell_type": "markdown",
   "metadata": {},
   "source": [
    "<div class=\"alert alert-block alert-info\">\n",
    "\n",
    "### Test cases for Problem 4:\n",
    "- Test case 1: Cycle, 140, 300 (answer is 47 minutes)\n",
    "- Test case 2: Swim, 200, 400 (answer is 34 minutes)\n",
    "- Test case 3: Jog, 175, 500 (answer is 40 minutes)\n",
    "- Test case 4: Jog, 110, 500 (<font color=b><b><u>show this one in your final JN</u></b></font>)    \n",
    "</div>"
   ]
  },
  {
   "cell_type": "code",
   "execution_count": 83,
   "metadata": {},
   "outputs": [
    {
     "name": "stdout",
     "output_type": "stream",
     "text": [
      "Would you like to cycle, jog, or swim?Jog\n",
      "What is your weight?110\n",
      "How many calories would you like to burn?500\n",
      "You will need to jog for 54 minutes to burn 500.0 calories\n"
     ]
    }
   ],
   "source": [
    "#TODO: Prompt the use to enter the activity they would like to do. \n",
    "activity = input('Would you like to cycle, jog, or swim?')\n",
    "\n",
    "# Then prompt the user to enter their weight.\n",
    "weight = float(input('What is your weight?'))\n",
    "\n",
    "# Lastly, prompt the use to enter the number of calories they would like to burn.\n",
    "cal = float(input('How many calories would you like to burn?'))\n",
    "time = 0\n",
    "#TODO: Create an if/(if/elif/else) conditional that calculates the number of minutes needed for a user \n",
    "# who would like to cycle\n",
    "if activity == 'Cycle' or activity == 'cycle':\n",
    "    if weight < 140:\n",
    "        time = round(cal/5.5)\n",
    "    elif  weight >= 140 and weight < 160:\n",
    "        time = round(cal/6.4)\n",
    "    elif weight >= 160 and weight < 180:\n",
    "        time = round(cal/7.3)\n",
    "    else:\n",
    "        time = round(cal/8.2)\n",
    "        \n",
    "\n",
    "#TODO: Create an elif/(if/elif/else) conditional that calculates the number of minutes needed for a user \n",
    "# who would like to jog\n",
    "elif activity == 'Jog' or activity == 'jog':\n",
    "    if weight < 140:\n",
    "        time = round(cal/9.3)\n",
    "    elif  weight >= 140 and weight < 160:\n",
    "        time = round(cal/10.8)\n",
    "    elif weight >= 160 and weight < 180:\n",
    "        time = round(cal/12.4)\n",
    "    else:\n",
    "        time = round(cal/13.9)\n",
    "\n",
    "\n",
    "\n",
    "\n",
    "#TODO: Create an elif/(if/elif/else) conditional that calculates the number of minutes needed for a user \n",
    "# who would like to swim\n",
    "elif activity == 'Swim' or activity == 'swim':\n",
    "    if weight < 140:\n",
    "        time = round(cal/7.8)\n",
    "    elif  weight >= 140 and weight < 160:\n",
    "        time = round(cal/9.0)\n",
    "    elif weight >= 160 and weight < 180:\n",
    "        time = round(cal/10.3)\n",
    "    else:\n",
    "        time = round(cal/11.6)\n",
    "\n",
    "else:\n",
    "    print('Invalid Input')\n",
    "    import sys\n",
    "    sys.exit(-2)\n",
    "\n",
    "\n",
    "#TODO: Create a formatted print statement that prints the sample message shown above\n",
    "\n",
    "print(f'You will need to {activity.lower()} for {time} minutes to burn {cal} calories')\n"
   ]
  },
  {
   "cell_type": "code",
   "execution_count": null,
   "metadata": {},
   "outputs": [],
   "source": []
  }
 ],
 "metadata": {
  "kernelspec": {
   "display_name": "Python 3 (ipykernel)",
   "language": "python",
   "name": "python3"
  },
  "language_info": {
   "codemirror_mode": {
    "name": "ipython",
    "version": 3
   },
   "file_extension": ".py",
   "mimetype": "text/x-python",
   "name": "python",
   "nbconvert_exporter": "python",
   "pygments_lexer": "ipython3",
   "version": "3.9.7"
  },
  "toc": {
   "base_numbering": 1,
   "nav_menu": {},
   "number_sections": false,
   "sideBar": true,
   "skip_h1_title": false,
   "title_cell": "Table of Contents",
   "title_sidebar": "Contents",
   "toc_cell": false,
   "toc_position": {},
   "toc_section_display": true,
   "toc_window_display": false
  }
 },
 "nbformat": 4,
 "nbformat_minor": 1
}
