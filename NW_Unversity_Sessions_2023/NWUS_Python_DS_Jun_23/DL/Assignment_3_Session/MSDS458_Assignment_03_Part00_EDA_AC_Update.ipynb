{
 "cells": [
  {
   "cell_type": "markdown",
   "metadata": {
    "id": "Cfh9kVB-rpjo"
   },
   "source": [
    "<img src=\"https://github.com/djp840/MSDS_458_Public/blob/main/images2/NorthwesternHeader.png?raw=1\" />"
   ]
  },
  {
   "cell_type": "markdown",
   "metadata": {
    "id": "pRAx1f1ir1St"
   },
   "source": [
    "## MSDS458 Research Assignment 3"
   ]
  },
  {
   "cell_type": "markdown",
   "metadata": {
    "id": "jQnyR1_aFk-t"
   },
   "source": [
    "### Analyze AG_NEWS_SUBSET Data <br>\n",
    "\n",
    "AG is a collection of more than 1 million news articles. News articles have been gathered from more than 2000 news sources by ComeToMyHead in more than 1 year of activity. ComeToMyHead is an academic news search engine which has been running since July, 2004. The dataset is provided by the academic comunity for research purposes in data mining (clustering, classification, etc), information retrieval (ranking, search, etc), xml, data compression, data streaming, and any other non-commercial activity.<br>\n",
    "\n",
    "For more information, please refer to the link http://www.di.unipi.it/~gulli/AG_corpus_of_news_articles.html<br>\n",
    "\n",
    "\n",
    "The AG's news topic classification dataset is constructed by choosing 4 largest classes (**World**, **Sports**, **Business**, and **Sci/Tech**) from the original corpus. Each class contains 30,000 training samples and 1,900 testing samples. The total number of training samples is 120,000 and testing 7,600.<br>\n",
    "\n",
    "Homepage: https://arxiv.org/abs/1509.01626<br>\n",
    "\n",
    "Source code: tfds.text.AGNewsSubset\n",
    "\n",
    "Versions:\n",
    "\n",
    "1.0.0 (default): No release notes.\n",
    "Download size: 11.24 MiB\n",
    "\n",
    "Dataset size: 35.79 MiB"
   ]
  },
  {
   "cell_type": "markdown",
   "metadata": {
    "id": "oGBlk-2-NaCn"
   },
   "source": [
    "<div class=\"alert alert-block alert-success\">\n",
    "    <b>More Technical</b>: Throughout the notebook. This types of boxes provide more technical details and extra references about what you are seeing. They contain helpful tips, but you can safely skip them the first time you run through the code.\n",
    "</div>"
   ]
  },
  {
   "cell_type": "markdown",
   "metadata": {
    "id": "t-Jjr3rNr5PR"
   },
   "source": [
    "## Import packages"
   ]
  },
  {
   "cell_type": "code",
   "execution_count": 1,
   "metadata": {
    "id": "mbrX9qUZvfs1"
   },
   "outputs": [],
   "source": [
    "import datetime\n",
    "from packaging import version\n",
    "from collections import Counter\n",
    "import numpy as np\n",
    "import pandas as pd\n",
    "import time\n",
    "import os\n",
    "import re\n",
    "import string\n",
    "\n",
    "import matplotlib.pyplot as plt\n",
    "import matplotlib as mpl\n",
    "import seaborn as sns\n",
    "\n",
    "import nltk\n",
    "from nltk.corpus import stopwords\n",
    "\n",
    "from sklearn.metrics import confusion_matrix, classification_report\n",
    "from sklearn.preprocessing import StandardScaler\n",
    "from sklearn.decomposition import PCA\n",
    "from sklearn.manifold import TSNE\n",
    "from sklearn.ensemble import RandomForestClassifier\n",
    "from sklearn.metrics import mean_squared_error as MSE\n",
    "from sklearn.metrics import accuracy_score\n",
    "\n",
    "import tensorflow as tf\n",
    "from tensorflow import keras\n",
    "import tensorflow_datasets as tfds\n",
    "from tensorflow import keras\n",
    "from tensorflow.keras import layers\n",
    "import tensorflow.keras.backend as k"
   ]
  },
  {
   "cell_type": "code",
   "execution_count": 2,
   "metadata": {
    "id": "q0H8HuzHrWwN"
   },
   "outputs": [],
   "source": [
    "%matplotlib inline\n",
    "np.set_printoptions(precision=3, suppress=True)"
   ]
  },
  {
   "cell_type": "markdown",
   "metadata": {
    "id": "iKucNfkrsqrP"
   },
   "source": [
    "## Verify TensorFlow Version"
   ]
  },
  {
   "cell_type": "code",
   "execution_count": 3,
   "metadata": {
    "colab": {
     "base_uri": "https://localhost:8080/"
    },
    "id": "g_BoGg9JrWzj",
    "outputId": "b2c7bfea-42cb-4bcc-c734-82de058513ee"
   },
   "outputs": [
    {
     "name": "stdout",
     "output_type": "stream",
     "text": [
      "This notebook requires TensorFlow 2.0 or above\n",
      "TensorFlow version:  2.13.0\n"
     ]
    }
   ],
   "source": [
    "print(\"This notebook requires TensorFlow 2.0 or above\")\n",
    "print(\"TensorFlow version: \", tf.__version__)\n",
    "assert version.parse(tf.__version__).release[0] >=2"
   ]
  },
  {
   "cell_type": "markdown",
   "metadata": {
    "id": "BqAEjDjgzP0_"
   },
   "source": [
    "## Visualization Utility Functions"
   ]
  },
  {
   "cell_type": "code",
   "execution_count": 4,
   "metadata": {
    "id": "QnH12paHzP0_"
   },
   "outputs": [],
   "source": [
    "def print_validation_report(test_labels, predictions):\n",
    "    print(\"Classification Report\")\n",
    "    print(classification_report(test_labels, predictions))\n",
    "    print('Accuracy Score: {}'.format(accuracy_score(test_labels, predictions)))\n",
    "    print('Root Mean Square Error: {}'.format(np.sqrt(MSE(test_labels, predictions))))\n",
    "\n",
    "def plot_confusion_matrix(y_true, y_pred):\n",
    "    mtx = confusion_matrix(y_true, y_pred)\n",
    "    fig, ax = plt.subplots(figsize=(8,8))\n",
    "    sns.heatmap(mtx, annot=True, fmt='d', linewidths=.75,  cbar=False, ax=ax,cmap='Blues',linecolor='white')\n",
    "    #  square=True,\n",
    "    plt.ylabel('true label')\n",
    "    plt.xlabel('predicted label')\n",
    "\n",
    "def plot_graphs(history, metric):\n",
    "  plt.plot(history.history[metric])\n",
    "  plt.plot(history.history['val_'+metric], '')\n",
    "  plt.xlabel(\"Epochs\")\n",
    "  plt.ylabel(metric)\n",
    "  plt.legend([metric, 'val_'+metric])"
   ]
  },
  {
   "cell_type": "markdown",
   "metadata": {
    "id": "-mFyXjJmtJ3E"
   },
   "source": [
    "## Mount Google Drive to Colab Environment"
   ]
  },
  {
   "cell_type": "code",
   "execution_count": 5,
   "metadata": {
    "id": "CXm3H81YrW8-"
   },
   "outputs": [],
   "source": [
    "#from google.colab import drive\n",
    "#drive.mount('/content/gdrive')"
   ]
  },
  {
   "cell_type": "markdown",
   "metadata": {
    "id": "8e2r4vSYzP1B"
   },
   "source": [
    "### Load AG News Subset Data\n",
    "<div class=\"alert alert-block alert-info\">\n",
    "    <b> ag_news_subset</b><br>\n",
    "    See https://www.tensorflow.org/datasets/catalog/ag_news_subset\n",
    "    </div>"
   ]
  },
  {
   "cell_type": "markdown",
   "metadata": {
    "id": "cL3ewSkAF4yF"
   },
   "source": [
    "Get all the words in the documents (as well as the number of words in each document) by using the encoder to get the indices associated with each token and then translating the indices to tokens. But first we need to get the \"unpadded\" new articles so that we can get their length."
   ]
  },
  {
   "cell_type": "code",
   "execution_count": 6,
   "metadata": {
    "colab": {
     "base_uri": "https://localhost:8080/"
    },
    "id": "VNj2HSxNtTNS",
    "outputId": "1c8d6358-4d07-4b4c-8c1e-4bb96eb35413",
    "scrolled": false
   },
   "outputs": [
    {
     "name": "stdout",
     "output_type": "stream",
     "text": [
      "W0912 02:06:46.632927 140150473667712 download_and_prepare.py:46] ***`tfds build` should be used instead of `download_and_prepare`.***\n",
      "INFO[build.py]: Loading dataset ag_news_subset from imports: tensorflow_datasets.datasets.ag_news_subset.ag_news_subset_dataset_builder\n",
      "2023-09-12 02:06:47.881409: W tensorflow/compiler/tf2tensorrt/utils/py_utils.cc:38] TF-TRT Warning: Could not find TensorRT\n",
      "2023-09-12 02:06:49.890314: W tensorflow/tsl/platform/cloud/google_auth_provider.cc:184] All attempts to get a Google authentication bearer token failed, returning an empty token. Retrieving token from files failed with \"NOT_FOUND: Could not locate the credentials file.\". Retrieving token from GCE failed with \"NOT_FOUND: Error executing an HTTP request: HTTP response code 404\".\n",
      "INFO[dataset_info.py]: Load pre-computed DatasetInfo (eg: splits, num examples,...) from GCS: ag_news_subset/1.0.0\n",
      "INFO[dataset_info.py]: Load dataset info from /tmp/tmpy5f70q7mtfds\n",
      "INFO[dataset_info.py]: Fields info.[description, splits, supervised_keys, module_name] from disk and from code do not match. Keeping the one from code.\n",
      "INFO[build.py]: download_and_prepare for dataset ag_news_subset/1.0.0...\n",
      "INFO[dataset_builder.py]: Generating dataset ag_news_subset (/root/tensorflow_datasets/ag_news_subset/1.0.0)\n",
      "\u001b[1mDownloading and preparing dataset 11.24 MiB (download: 11.24 MiB, generated: 35.79 MiB, total: 47.03 MiB) to /root/tensorflow_datasets/ag_news_subset/1.0.0...\u001b[0m\n",
      "Dl Completed...: 0 url [00:00, ? url/s]\n",
      "Dl Size...: 0 MiB [00:00, ? MiB/s]\u001b[A\n",
      "\n",
      "                                       \n",
      "\u001b[A\n",
      "\n",
      "\u001b[A\u001b[AINFO[download_manager.py]: Downloading https://drive.google.com/uc?export=download&id=0Bz8a_Dbh9QhbUDNpeUdjb0wxRms into /root/tensorflow_datasets/downloads/ucexport_download_id_0Bz8a_Dbh9QhbUDNpeUdjb0wxj4g1umFAV8OV-uDwxSJR0LdxO_k1jxMuFWwAfNX9jos.tmp.5d22f3facc3e4da0a0a2b1321661b689...\n",
      "Dl Completed...: 0 url [00:00, ? url/s]\n",
      "Dl Size...: 0 MiB [00:00, ? MiB/s]\u001b[A\n",
      "\n",
      "Dl Completed...:   0% 0/1 [00:00<?, ? url/s]\n",
      "Dl Size...: 0 MiB [00:00, ? MiB/s]\u001b[A\n",
      "\n",
      "Dl Completed...:   0% 0/1 [00:12<?, ? url/s]\n",
      "Dl Size...:   0% 0/11 [00:12<?, ? MiB/s]\u001b[A\n",
      "\n",
      "Extraction completed...: 0 file [00:12, ? file/s]\u001b[A\u001b[A\n",
      "Dl Completed...:   0% 0/1 [00:12<?, ? url/s]\n",
      "Dl Size...:   9% 1/11 [00:12<02:06, 12.62s/ MiB]\u001b[A\n",
      "\n",
      "Dl Completed...:   0% 0/1 [00:12<?, ? url/s]\n",
      "Dl Size...:  18% 2/11 [00:12<01:53, 12.62s/ MiB]\u001b[A\n",
      "\n",
      "Dl Completed...:   0% 0/1 [00:12<?, ? url/s]\n",
      "Dl Size...:  27% 3/11 [00:12<01:40, 12.62s/ MiB]\u001b[A\n",
      "\n",
      "Extraction completed...: 0 file [00:12, ? file/s]\u001b[A\u001b[A\n",
      "Dl Completed...:   0% 0/1 [00:12<?, ? url/s]\n",
      "Dl Size...:  36% 4/11 [00:12<00:17,  2.44s/ MiB]\u001b[A\n",
      "\n",
      "Dl Completed...:   0% 0/1 [00:12<?, ? url/s]\n",
      "Dl Size...:  45% 5/11 [00:12<00:14,  2.44s/ MiB]\u001b[A\n",
      "\n",
      "Dl Completed...:   0% 0/1 [00:12<?, ? url/s]\n",
      "Dl Size...:  55% 6/11 [00:12<00:12,  2.44s/ MiB]\u001b[A\n",
      "\n",
      "Dl Completed...:   0% 0/1 [00:12<?, ? url/s]\n",
      "Dl Size...:  64% 7/11 [00:12<00:09,  2.44s/ MiB]\u001b[A\n",
      "\n",
      "Extraction completed...: 0 file [00:12, ? file/s]\u001b[A\u001b[A\n",
      "Dl Completed...:   0% 0/1 [00:12<?, ? url/s]\n",
      "Dl Size...:  73% 8/11 [00:12<00:02,  1.02 MiB/s]\u001b[A\n",
      "\n",
      "Dl Completed...:   0% 0/1 [00:12<?, ? url/s]\n",
      "Dl Size...:  82% 9/11 [00:12<00:01,  1.02 MiB/s]\u001b[A\n",
      "\n",
      "Dl Completed...:   0% 0/1 [00:12<?, ? url/s]\n",
      "Dl Size...:  91% 10/11 [00:12<00:00,  1.02 MiB/s]\u001b[A\n",
      "\n",
      "Dl Completed...:   0% 0/1 [00:12<?, ? url/s]\n",
      "Dl Size...: 100% 11/11 [00:12<00:00,  1.02 MiB/s]\u001b[A\n",
      "\n",
      "Dl Completed...: 100% 1/1 [00:12<00:00, 12.95s/ url]\n",
      "Dl Size...: 100% 11/11 [00:12<00:00,  1.02 MiB/s]\u001b[A\n",
      "\n",
      "Dl Completed...: 100% 1/1 [00:13<00:00, 12.95s/ url]\n",
      "Dl Size...: 100% 11/11 [00:13<00:00,  1.02 MiB/s]\u001b[A\n",
      "\n",
      "Dl Completed...: 100% 1/1 [00:13<00:00, 12.95s/ url]\n",
      "Dl Size...: 100% 11/11 [00:13<00:00,  1.02 MiB/s]\u001b[A\n",
      "\n",
      "Dl Completed...: 100% 1/1 [00:13<00:00, 12.95s/ url]\n",
      "Dl Size...: 100% 11/11 [00:13<00:00,  1.02 MiB/s]\u001b[A\n",
      "\n",
      "Dl Completed...: 100% 1/1 [00:13<00:00, 12.95s/ url]\n",
      "Dl Size...: 100% 11/11 [00:13<00:00,  1.02 MiB/s]\u001b[A\n",
      "\n",
      "Extraction completed...:   0% 0/4 [00:13<?, ? file/s]\u001b[A\u001b[A\n",
      "\n",
      "Dl Completed...: 100% 1/1 [00:13<00:00, 12.95s/ url]\n",
      "Dl Size...: 100% 11/11 [00:13<00:00,  1.02 MiB/s]\u001b[A\n",
      "\n",
      "Dl Completed...: 100% 1/1 [00:13<00:00, 12.95s/ url]\n",
      "Dl Size...: 100% 11/11 [00:13<00:00,  1.02 MiB/s]\u001b[A\n",
      "\n",
      "Dl Completed...: 100% 1/1 [00:13<00:00, 12.95s/ url]\n",
      "Dl Size...: 100% 11/11 [00:13<00:00,  1.02 MiB/s]\u001b[A\n",
      "\n",
      "Dl Completed...: 100% 1/1 [00:13<00:00, 12.95s/ url]\n",
      "Dl Size...: 100% 11/11 [00:13<00:00,  1.02 MiB/s]\u001b[A\n",
      "\n",
      "Extraction completed...: 100% 4/4 [00:13<00:00,  3.30s/ file]\n",
      "Dl Size...: 100% 11/11 [00:13<00:00,  1.20s/ MiB]\n",
      "Dl Completed...: 100% 1/1 [00:13<00:00, 13.19s/ url]\n",
      "Generating splits...:   0% 0/2 [00:00<?, ? splits/s]\n",
      "Generating train examples...:   0% 0/120000 [00:00<?, ? examples/s]\u001b[A\n",
      "Generating train examples...:   1% 1231/120000 [00:00<00:09, 12305.96 examples/s]\u001b[A\n",
      "Generating train examples...:   2% 2487/120000 [00:00<00:09, 12451.49 examples/s]\u001b[A\n",
      "Generating train examples...:   3% 3733/120000 [00:00<00:09, 12289.52 examples/s]\u001b[A\n",
      "Generating train examples...:   4% 4964/120000 [00:00<00:09, 12294.27 examples/s]\u001b[A\n",
      "Generating train examples...:   5% 6206/120000 [00:00<00:09, 12338.51 examples/s]\u001b[A\n",
      "Generating train examples...:   6% 7452/120000 [00:00<00:09, 12379.21 examples/s]\u001b[A\n",
      "Generating train examples...:   7% 8691/120000 [00:00<00:08, 12380.29 examples/s]\u001b[A\n",
      "Generating train examples...:   8% 9942/120000 [00:00<00:08, 12420.70 examples/s]\u001b[A\n",
      "Generating train examples...:   9% 11185/120000 [00:00<00:08, 12376.67 examples/s]\u001b[A\n",
      "Generating train examples...:  10% 12437/120000 [00:01<00:08, 12420.04 examples/s]\u001b[A\n",
      "Generating train examples...:  11% 13682/120000 [00:01<00:08, 12426.77 examples/s]\u001b[A\n",
      "Generating train examples...:  12% 14932/120000 [00:01<00:08, 12445.62 examples/s]\u001b[A\n",
      "Generating train examples...:  13% 16177/120000 [00:01<00:08, 12439.83 examples/s]\u001b[A\n",
      "Generating train examples...:  15% 17425/120000 [00:01<00:08, 12451.14 examples/s]\u001b[A\n",
      "Generating train examples...:  16% 18692/120000 [00:01<00:08, 12515.03 examples/s]\u001b[A\n",
      "Generating train examples...:  17% 19944/120000 [00:01<00:08, 12330.80 examples/s]\u001b[A\n",
      "Generating train examples...:  18% 21200/120000 [00:01<00:07, 12397.29 examples/s]\u001b[A\n",
      "Generating train examples...:  19% 22441/120000 [00:01<00:07, 12382.23 examples/s]\u001b[A\n",
      "Generating train examples...:  20% 23683/120000 [00:01<00:07, 12391.77 examples/s]\u001b[A\n",
      "Generating train examples...:  21% 24960/120000 [00:02<00:07, 12501.91 examples/s]\u001b[A\n",
      "Generating train examples...:  22% 26211/120000 [00:02<00:07, 12451.15 examples/s]\u001b[A\n",
      "Generating train examples...:  23% 27479/120000 [00:02<00:07, 12517.85 examples/s]\u001b[A\n",
      "Generating train examples...:  24% 28731/120000 [00:02<00:07, 12386.86 examples/s]\u001b[A\n",
      "Generating train examples...:  25% 29971/120000 [00:02<00:07, 12376.93 examples/s]\u001b[A\n",
      "Generating train examples...:  26% 31242/120000 [00:02<00:07, 12475.72 examples/s]\u001b[A\n",
      "Generating train examples...:  27% 32493/120000 [00:02<00:07, 12485.57 examples/s]\u001b[A\n",
      "Generating train examples...:  28% 33742/120000 [00:02<00:06, 12468.92 examples/s]\u001b[A\n",
      "Generating train examples...:  29% 34992/120000 [00:02<00:06, 12477.20 examples/s]\u001b[A\n",
      "Generating train examples...:  30% 36256/120000 [00:02<00:06, 12523.44 examples/s]\u001b[A\n",
      "Generating train examples...:  31% 37522/120000 [00:03<00:06, 12563.66 examples/s]\u001b[A\n",
      "Generating train examples...:  32% 38779/120000 [00:03<00:06, 12257.29 examples/s]\u001b[A\n",
      "Generating train examples...:  33% 40009/120000 [00:03<00:06, 12268.28 examples/s]\u001b[A\n",
      "Generating train examples...:  34% 41238/120000 [00:03<00:06, 12212.96 examples/s]\u001b[A\n",
      "Generating train examples...:  35% 42472/120000 [00:03<00:06, 12247.92 examples/s]\u001b[A\n",
      "Generating train examples...:  36% 43730/120000 [00:03<00:06, 12345.63 examples/s]\u001b[A\n",
      "Generating train examples...:  37% 44970/120000 [00:03<00:06, 12361.31 examples/s]\u001b[A\n",
      "Generating train examples...:  39% 46207/120000 [00:03<00:05, 12309.21 examples/s]\u001b[A\n",
      "Generating train examples...:  40% 47439/120000 [00:03<00:05, 12305.16 examples/s]\u001b[A\n",
      "Generating train examples...:  41% 48670/120000 [00:03<00:05, 12275.63 examples/s]\u001b[A\n",
      "Generating train examples...:  42% 49918/120000 [00:04<00:05, 12334.83 examples/s]\u001b[A\n",
      "Generating train examples...:  43% 51189/120000 [00:04<00:05, 12445.76 examples/s]\u001b[A\n",
      "Generating train examples...:  44% 52434/120000 [00:04<00:05, 12352.62 examples/s]\u001b[A\n",
      "Generating train examples...:  45% 53670/120000 [00:04<00:05, 12177.31 examples/s]\u001b[A\n",
      "Generating train examples...:  46% 54889/120000 [00:04<00:05, 12179.24 examples/s]\u001b[A\n",
      "Generating train examples...:  47% 56134/120000 [00:04<00:05, 12256.24 examples/s]\u001b[A\n",
      "Generating train examples...:  48% 57372/120000 [00:04<00:05, 12291.25 examples/s]\u001b[A\n",
      "Generating train examples...:  49% 58602/120000 [00:04<00:05, 12260.12 examples/s]\u001b[A\n",
      "Generating train examples...:  50% 59848/120000 [00:04<00:04, 12318.34 examples/s]\u001b[A\n",
      "Generating train examples...:  51% 61086/120000 [00:04<00:04, 12333.86 examples/s]\u001b[A\n",
      "Generating train examples...:  52% 62320/120000 [00:05<00:04, 12093.49 examples/s]\u001b[A\n",
      "Generating train examples...:  53% 63531/120000 [00:05<00:04, 11823.37 examples/s]\u001b[A\n",
      "Generating train examples...:  54% 64716/120000 [00:05<00:04, 11790.80 examples/s]\u001b[A\n",
      "Generating train examples...:  55% 65897/120000 [00:05<00:04, 11622.69 examples/s]\u001b[A\n",
      "Generating train examples...:  56% 67061/120000 [00:05<00:04, 11606.44 examples/s]\u001b[A\n",
      "Generating train examples...:  57% 68272/120000 [00:05<00:04, 11754.28 examples/s]\u001b[A\n",
      "Generating train examples...:  58% 69522/120000 [00:05<00:04, 11974.19 examples/s]\u001b[A\n",
      "Generating train examples...:  59% 70770/120000 [00:05<00:04, 12122.35 examples/s]\u001b[A\n",
      "Generating train examples...:  60% 72025/120000 [00:05<00:03, 12248.78 examples/s]\u001b[A\n",
      "Generating train examples...:  61% 73252/120000 [00:05<00:03, 12254.56 examples/s]\u001b[A\n",
      "Generating train examples...:  62% 74523/120000 [00:06<00:03, 12388.44 examples/s]\u001b[A\n",
      "Generating train examples...:  63% 75771/120000 [00:06<00:03, 12412.60 examples/s]\u001b[A\n",
      "Generating train examples...:  64% 77022/120000 [00:06<00:03, 12439.57 examples/s]\u001b[A\n",
      "Generating train examples...:  65% 78267/120000 [00:06<00:03, 12378.82 examples/s]\u001b[A\n",
      "Generating train examples...:  66% 79513/120000 [00:06<00:03, 12399.90 examples/s]\u001b[A\n",
      "Generating train examples...:  67% 80773/120000 [00:06<00:03, 12459.18 examples/s]\u001b[A\n",
      "Generating train examples...:  68% 82031/120000 [00:06<00:03, 12493.24 examples/s]\u001b[A\n",
      "Generating train examples...:  69% 83281/120000 [00:06<00:02, 12316.38 examples/s]\u001b[A\n",
      "Generating train examples...:  70% 84514/120000 [00:06<00:02, 12013.45 examples/s]\u001b[A\n",
      "Generating train examples...:  71% 85718/120000 [00:06<00:02, 12003.46 examples/s]\u001b[A\n",
      "Generating train examples...:  72% 86953/120000 [00:07<00:02, 12102.90 examples/s]\u001b[A\n",
      "Generating train examples...:  74% 88210/120000 [00:07<00:02, 12239.73 examples/s]\u001b[A\n",
      "Generating train examples...:  75% 89435/120000 [00:07<00:02, 11861.23 examples/s]\u001b[A\n",
      "Generating train examples...:  76% 90625/120000 [00:07<00:02, 10269.94 examples/s]\u001b[A\n",
      "Generating train examples...:  76% 91690/120000 [00:07<00:02, 10066.71 examples/s]\u001b[A\n",
      "Generating train examples...:  77% 92928/120000 [00:07<00:02, 10686.92 examples/s]\u001b[A\n",
      "Generating train examples...:  78% 94151/120000 [00:07<00:02, 11113.61 examples/s]\u001b[A\n",
      "Generating train examples...:  80% 95405/120000 [00:07<00:02, 11516.03 examples/s]\u001b[A\n",
      "Generating train examples...:  81% 96652/120000 [00:07<00:01, 11790.56 examples/s]\u001b[A\n",
      "Generating train examples...:  82% 97903/120000 [00:08<00:01, 11999.42 examples/s]\u001b[A\n",
      "Generating train examples...:  83% 99132/120000 [00:08<00:01, 12082.21 examples/s]\u001b[A\n",
      "Generating train examples...:  84% 100348/120000 [00:08<00:01, 11687.74 examples/s]\u001b[A\n",
      "Generating train examples...:  85% 101525/120000 [00:08<00:01, 11694.19 examples/s]\u001b[A\n",
      "Generating train examples...:  86% 102787/120000 [00:08<00:01, 11962.95 examples/s]\u001b[A\n",
      "Generating train examples...:  87% 104027/120000 [00:08<00:01, 12089.06 examples/s]\u001b[A\n",
      "Generating train examples...:  88% 105291/120000 [00:08<00:01, 12249.71 examples/s]\u001b[A\n",
      "Generating train examples...:  89% 106561/120000 [00:08<00:01, 12380.60 examples/s]\u001b[A\n",
      "Generating train examples...:  90% 107807/120000 [00:08<00:00, 12401.11 examples/s]\u001b[A\n",
      "Generating train examples...:  91% 109049/120000 [00:08<00:00, 11462.64 examples/s]\u001b[A\n",
      "Generating train examples...:  92% 110211/120000 [00:09<00:00, 10295.19 examples/s]\u001b[A\n",
      "Generating train examples...:  93% 111338/120000 [00:09<00:00, 10553.62 examples/s]\u001b[A\n",
      "Generating train examples...:  94% 112477/120000 [00:09<00:00, 10781.07 examples/s]\u001b[A\n",
      "Generating train examples...:  95% 113724/120000 [00:09<00:00, 11256.57 examples/s]\u001b[A\n",
      "Generating train examples...:  96% 114984/120000 [00:09<00:00, 11640.44 examples/s]\u001b[A\n",
      "Generating train examples...:  97% 116251/120000 [00:09<00:00, 11937.51 examples/s]\u001b[A\n",
      "Generating train examples...:  98% 117504/120000 [00:09<00:00, 12109.48 examples/s]\u001b[A\n",
      "Generating train examples...:  99% 118770/120000 [00:09<00:00, 12271.89 examples/s]\u001b[A\n",
      "                                                                                   \u001b[A\n",
      "Shuffling /root/tensorflow_datasets/ag_news_subset/1.0.0.incompleteWYV7US/ag_news_subset-train.tfrecord*...:   0% 0/120000 [00:00<?, ? examples/s]\u001b[A\n",
      "Shuffling /root/tensorflow_datasets/ag_news_subset/1.0.0.incompleteWYV7US/ag_news_subset-train.tfrecord*...:   9% 11228/120000 [00:00<00:00, 112271.27 examples/s]\u001b[A\n",
      "Shuffling /root/tensorflow_datasets/ag_news_subset/1.0.0.incompleteWYV7US/ag_news_subset-train.tfrecord*...:  53% 63208/120000 [00:00<00:00, 351961.41 examples/s]\u001b[A\n",
      "Shuffling /root/tensorflow_datasets/ag_news_subset/1.0.0.incompleteWYV7US/ag_news_subset-train.tfrecord*...:  97% 116219/120000 [00:00<00:00, 433279.38 examples/s]\u001b[A\n",
      "INFO[writer.py]: Done writing /root/tensorflow_datasets/ag_news_subset/1.0.0.incompleteWYV7US/ag_news_subset-train.tfrecord*. Number of examples: 120000 (shards: [120000])\n",
      "Generating splits...:  50% 1/2 [00:10<00:10, 10.26s/ splits]\n",
      "Generating test examples...:   0% 0/7600 [00:00<?, ? examples/s]\u001b[A\n",
      "Generating test examples...:  16% 1222/7600 [00:00<00:00, 12214.68 examples/s]\u001b[A\n",
      "Generating test examples...:  33% 2481/7600 [00:00<00:00, 12431.54 examples/s]\u001b[A\n",
      "Generating test examples...:  49% 3725/7600 [00:00<00:00, 12345.01 examples/s]\u001b[A\n",
      "Generating test examples...:  65% 4960/7600 [00:00<00:00, 12343.92 examples/s]\u001b[A\n",
      "Generating test examples...:  82% 6217/7600 [00:00<00:00, 12421.89 examples/s]\u001b[A\n",
      "Generating test examples...:  98% 7480/7600 [00:00<00:00, 12489.15 examples/s]\u001b[A\n",
      "                                                                              \u001b[A\n",
      "Shuffling /root/tensorflow_datasets/ag_news_subset/1.0.0.incompleteWYV7US/ag_news_subset-test.tfrecord*...:   0% 0/7600 [00:00<?, ? examples/s]\u001b[A\n",
      "INFO[writer.py]: Done writing /root/tensorflow_datasets/ag_news_subset/1.0.0.incompleteWYV7US/ag_news_subset-test.tfrecord*. Number of examples: 7600 (shards: [7600])\n",
      "\u001b[1mDataset ag_news_subset downloaded and prepared to /root/tensorflow_datasets/ag_news_subset/1.0.0. Subsequent calls will reuse this data.\u001b[0m\n",
      "INFO[build.py]: Dataset generation complete...\n",
      "\n",
      "tfds.core.DatasetInfo(\n",
      "    name='ag_news_subset',\n",
      "    full_name='ag_news_subset/1.0.0',\n",
      "    description=\"\"\"\n",
      "    AG is a collection of more than 1 million news articles. News articles have been\n",
      "    gathered from more than 2000 news sources by ComeToMyHead in more than 1 year of\n",
      "    activity. ComeToMyHead is an academic news search engine which has been running\n",
      "    since July, 2004. The dataset is provided by the academic comunity for research\n",
      "    purposes in data mining (clustering, classification, etc), information retrieval\n",
      "    (ranking, search, etc), xml, data compression, data streaming, and any other\n",
      "    non-commercial activity. For more information, please refer to the link\n",
      "    http://www.di.unipi.it/~gulli/AG_corpus_of_news_articles.html .\n",
      "    \n",
      "    The AG's news topic classification dataset is constructed by Xiang Zhang\n",
      "    (xiang.zhang@nyu.edu) from the dataset above. It is used as a text\n",
      "    classification benchmark in the following paper: Xiang Zhang, Junbo Zhao, Yann\n",
      "    LeCun. Character-level Convolutional Networks for Text Classification. Advances\n",
      "    in Neural Information Processing Systems 28 (NIPS 2015).\n",
      "    \n",
      "    The AG's news topic classification dataset is constructed by choosing 4 largest\n",
      "    classes from the original corpus. Each class contains 30,000 training samples\n",
      "    and 1,900 testing samples. The total number of training samples is 120,000 and\n",
      "    testing 7,600.\n",
      "    \"\"\",\n",
      "    homepage='https://arxiv.org/abs/1509.01626',\n",
      "    data_path=PosixGPath('/tmp/tmpy5f70q7mtfds'),\n",
      "    file_format=tfrecord,\n",
      "    download_size=11.24 MiB,\n",
      "    dataset_size=35.79 MiB,\n",
      "    features=FeaturesDict({\n",
      "        'description': Text(shape=(), dtype=string),\n",
      "        'label': ClassLabel(shape=(), dtype=int64, num_classes=4),\n",
      "        'title': Text(shape=(), dtype=string),\n",
      "    }),\n",
      "    supervised_keys=('description', 'label'),\n",
      "    disable_shuffling=False,\n",
      "    splits={\n",
      "        'test': <SplitInfo num_examples=7600, num_shards=1>,\n",
      "        'train': <SplitInfo num_examples=120000, num_shards=1>,\n",
      "    },\n",
      "    citation=\"\"\"@misc{zhang2015characterlevel,\n",
      "        title={Character-level Convolutional Networks for Text Classification},\n",
      "        author={Xiang Zhang and Junbo Zhao and Yann LeCun},\n",
      "        year={2015},\n",
      "        eprint={1509.01626},\n",
      "        archivePrefix={arXiv},\n",
      "        primaryClass={cs.LG}\n",
      "    }\"\"\",\n",
      ")\n",
      "\n"
     ]
    }
   ],
   "source": [
    "#register  ag_news_subset so that tfds.load doesn't generate a checksum (mismatch) error\n",
    "!python -m tensorflow_datasets.scripts.download_and_prepare \\\n",
    "        --register_checksums --datasets=ag_news_subset\n",
    "\n",
    "# https://www.tensorflow.org/datasets/splits\n",
    "# The full `train` and `test` splits, interleaved together.\n",
    "ri = tfds.core.ReadInstruction('train') + tfds.core.ReadInstruction('test')\n",
    "dataset_all, info = tfds.load('ag_news_subset', with_info=True,  split=ri, as_supervised=True)\n",
    "text_only_dataset_all=dataset_all.map(lambda x, y: x)"
   ]
  },
  {
   "cell_type": "markdown",
   "metadata": {
    "id": "Bzs2FWbQIf5m"
   },
   "source": [
    "###  EDA AG News Subset"
   ]
  },
  {
   "cell_type": "markdown",
   "metadata": {
    "id": "m7514-j4I4B-"
   },
   "source": [
    "**Get information about the ag_news_subset dataset. We combined the training and test data for a total of 127,600 news articles.**"
   ]
  },
  {
   "cell_type": "code",
   "execution_count": 7,
   "metadata": {
    "colab": {
     "base_uri": "https://localhost:8080/",
     "height": 408
    },
    "id": "w6GaSzMRqrIR",
    "outputId": "d593b9e7-c620-484a-88cc-7573ebe41701"
   },
   "outputs": [
    {
     "data": {
      "text/html": [
       "\n",
       "  <div id=\"df-e5aa824b-4655-45cd-94df-542689a391fe\" class=\"colab-df-container\">\n",
       "    <style type=\"text/css\">\n",
       "</style>\n",
       "<table id=\"T_6a183\">\n",
       "  <thead>\n",
       "    <tr>\n",
       "      <th class=\"blank level0\" >&nbsp;</th>\n",
       "      <th id=\"T_6a183_level0_col0\" class=\"col_heading level0 col0\" >description</th>\n",
       "      <th id=\"T_6a183_level0_col1\" class=\"col_heading level0 col1\" >label</th>\n",
       "    </tr>\n",
       "  </thead>\n",
       "  <tbody>\n",
       "    <tr>\n",
       "      <th id=\"T_6a183_level0_row0\" class=\"row_heading level0 row0\" >0</th>\n",
       "      <td id=\"T_6a183_row0_col0\" class=\"data row0 col0\" >AMD #39;s new dual-core Opteron chip is designed mainly for corporate computing applications, including databases, Web services, and financial transactions.</td>\n",
       "      <td id=\"T_6a183_row0_col1\" class=\"data row0 col1\" >3 (Sci/Tech)</td>\n",
       "    </tr>\n",
       "    <tr>\n",
       "      <th id=\"T_6a183_level0_row1\" class=\"row_heading level0 row1\" >1</th>\n",
       "      <td id=\"T_6a183_row1_col0\" class=\"data row1 col0\" >Reuters - Major League Baseball\\Monday announced a decision on the appeal filed by Chicago Cubs\\pitcher Kerry Wood regarding a suspension stemming from an\\incident earlier this season.</td>\n",
       "      <td id=\"T_6a183_row1_col1\" class=\"data row1 col1\" >1 (Sports)</td>\n",
       "    </tr>\n",
       "    <tr>\n",
       "      <th id=\"T_6a183_level0_row2\" class=\"row_heading level0 row2\" >2</th>\n",
       "      <td id=\"T_6a183_row2_col0\" class=\"data row2 col0\" >President Bush #39;s quot;revenue-neutral quot; tax reform needs losers to balance its winners, and people claiming the federal deduction for state and local taxes may be in administration planners #39; sights, news reports say.</td>\n",
       "      <td id=\"T_6a183_row2_col1\" class=\"data row2 col1\" >2 (Business)</td>\n",
       "    </tr>\n",
       "    <tr>\n",
       "      <th id=\"T_6a183_level0_row3\" class=\"row_heading level0 row3\" >3</th>\n",
       "      <td id=\"T_6a183_row3_col0\" class=\"data row3 col0\" >Britain will run out of leading scientists unless science education is improved, says Professor Colin Pillinger.</td>\n",
       "      <td id=\"T_6a183_row3_col1\" class=\"data row3 col1\" >3 (Sci/Tech)</td>\n",
       "    </tr>\n",
       "    <tr>\n",
       "      <th id=\"T_6a183_level0_row4\" class=\"row_heading level0 row4\" >4</th>\n",
       "      <td id=\"T_6a183_row4_col0\" class=\"data row4 col0\" >London, England (Sports Network) - England midfielder Steven Gerrard injured his groin late in Thursday #39;s training session, but is hopeful he will be ready for Saturday #39;s World Cup qualifier against Austria.</td>\n",
       "      <td id=\"T_6a183_row4_col1\" class=\"data row4 col1\" >1 (Sports)</td>\n",
       "    </tr>\n",
       "    <tr>\n",
       "      <th id=\"T_6a183_level0_row5\" class=\"row_heading level0 row5\" >5</th>\n",
       "      <td id=\"T_6a183_row5_col0\" class=\"data row5 col0\" >TOKYO - Sony Corp. is banking on the \\$3 billion deal to acquire Hollywood studio Metro-Goldwyn-Mayer Inc...</td>\n",
       "      <td id=\"T_6a183_row5_col1\" class=\"data row5 col1\" >0 (World)</td>\n",
       "    </tr>\n",
       "    <tr>\n",
       "      <th id=\"T_6a183_level0_row6\" class=\"row_heading level0 row6\" >6</th>\n",
       "      <td id=\"T_6a183_row6_col0\" class=\"data row6 col0\" >Giant pandas may well prefer bamboo to laptops, but wireless technology is helping researchers in China in their efforts to protect the engandered animals living in the remote Wolong Nature Reserve.</td>\n",
       "      <td id=\"T_6a183_row6_col1\" class=\"data row6 col1\" >3 (Sci/Tech)</td>\n",
       "    </tr>\n",
       "    <tr>\n",
       "      <th id=\"T_6a183_level0_row7\" class=\"row_heading level0 row7\" >7</th>\n",
       "      <td id=\"T_6a183_row7_col0\" class=\"data row7 col0\" >VILNIUS, Lithuania - Lithuania #39;s main parties formed an alliance to try to keep a Russian-born tycoon and his populist promises out of the government in Sunday #39;s second round of parliamentary elections in this Baltic country.</td>\n",
       "      <td id=\"T_6a183_row7_col1\" class=\"data row7 col1\" >0 (World)</td>\n",
       "    </tr>\n",
       "    <tr>\n",
       "      <th id=\"T_6a183_level0_row8\" class=\"row_heading level0 row8\" >8</th>\n",
       "      <td id=\"T_6a183_row8_col0\" class=\"data row8 col0\" >Witnesses in the trial of a US soldier charged with abusing prisoners at Abu Ghraib have told the court that the CIA sometimes directed abuse and orders were received from military command to toughen interrogations.</td>\n",
       "      <td id=\"T_6a183_row8_col1\" class=\"data row8 col1\" >0 (World)</td>\n",
       "    </tr>\n",
       "    <tr>\n",
       "      <th id=\"T_6a183_level0_row9\" class=\"row_heading level0 row9\" >9</th>\n",
       "      <td id=\"T_6a183_row9_col0\" class=\"data row9 col0\" >Dan Olsen of Ponte Vedra Beach, Fla., shot a 7-under 65 Thursday to take a one-shot lead after two rounds of the PGA Tour qualifying tournament.</td>\n",
       "      <td id=\"T_6a183_row9_col1\" class=\"data row9 col1\" >1 (Sports)</td>\n",
       "    </tr>\n",
       "  </tbody>\n",
       "</table>\n",
       "\n",
       "    <div class=\"colab-df-buttons\">\n",
       "\n",
       "  <div class=\"colab-df-container\">\n",
       "    <button class=\"colab-df-convert\" onclick=\"convertToInteractive('df-e5aa824b-4655-45cd-94df-542689a391fe')\"\n",
       "            title=\"Convert this dataframe to an interactive table.\"\n",
       "            style=\"display:none;\">\n",
       "\n",
       "  <svg xmlns=\"http://www.w3.org/2000/svg\" height=\"24px\" viewBox=\"0 -960 960 960\">\n",
       "    <path d=\"M120-120v-720h720v720H120Zm60-500h600v-160H180v160Zm220 220h160v-160H400v160Zm0 220h160v-160H400v160ZM180-400h160v-160H180v160Zm440 0h160v-160H620v160ZM180-180h160v-160H180v160Zm440 0h160v-160H620v160Z\"/>\n",
       "  </svg>\n",
       "    </button>\n",
       "\n",
       "  <style>\n",
       "    .colab-df-container {\n",
       "      display:flex;\n",
       "      gap: 12px;\n",
       "    }\n",
       "\n",
       "    .colab-df-convert {\n",
       "      background-color: #E8F0FE;\n",
       "      border: none;\n",
       "      border-radius: 50%;\n",
       "      cursor: pointer;\n",
       "      display: none;\n",
       "      fill: #1967D2;\n",
       "      height: 32px;\n",
       "      padding: 0 0 0 0;\n",
       "      width: 32px;\n",
       "    }\n",
       "\n",
       "    .colab-df-convert:hover {\n",
       "      background-color: #E2EBFA;\n",
       "      box-shadow: 0px 1px 2px rgba(60, 64, 67, 0.3), 0px 1px 3px 1px rgba(60, 64, 67, 0.15);\n",
       "      fill: #174EA6;\n",
       "    }\n",
       "\n",
       "    .colab-df-buttons div {\n",
       "      margin-bottom: 4px;\n",
       "    }\n",
       "\n",
       "    [theme=dark] .colab-df-convert {\n",
       "      background-color: #3B4455;\n",
       "      fill: #D2E3FC;\n",
       "    }\n",
       "\n",
       "    [theme=dark] .colab-df-convert:hover {\n",
       "      background-color: #434B5C;\n",
       "      box-shadow: 0px 1px 3px 1px rgba(0, 0, 0, 0.15);\n",
       "      filter: drop-shadow(0px 1px 2px rgba(0, 0, 0, 0.3));\n",
       "      fill: #FFFFFF;\n",
       "    }\n",
       "  </style>\n",
       "\n",
       "    <script>\n",
       "      const buttonEl =\n",
       "        document.querySelector('#df-e5aa824b-4655-45cd-94df-542689a391fe button.colab-df-convert');\n",
       "      buttonEl.style.display =\n",
       "        google.colab.kernel.accessAllowed ? 'block' : 'none';\n",
       "\n",
       "      async function convertToInteractive(key) {\n",
       "        const element = document.querySelector('#df-e5aa824b-4655-45cd-94df-542689a391fe');\n",
       "        const dataTable =\n",
       "          await google.colab.kernel.invokeFunction('convertToInteractive',\n",
       "                                                    [key], {});\n",
       "        if (!dataTable) return;\n",
       "\n",
       "        const docLinkHtml = 'Like what you see? Visit the ' +\n",
       "          '<a target=\"_blank\" href=https://colab.research.google.com/notebooks/data_table.ipynb>data table notebook</a>'\n",
       "          + ' to learn more about interactive tables.';\n",
       "        element.innerHTML = '';\n",
       "        dataTable['output_type'] = 'display_data';\n",
       "        await google.colab.output.renderOutput(dataTable, element);\n",
       "        const docLink = document.createElement('div');\n",
       "        docLink.innerHTML = docLinkHtml;\n",
       "        element.appendChild(docLink);\n",
       "      }\n",
       "    </script>\n",
       "  </div>\n",
       "\n",
       "\n",
       "<div id=\"df-8d36a9bd-830c-4f70-a78c-89fc57f8d864\">\n",
       "  <button class=\"colab-df-quickchart\" onclick=\"quickchart('df-8d36a9bd-830c-4f70-a78c-89fc57f8d864')\"\n",
       "            title=\"Suggest charts.\"\n",
       "            style=\"display:none;\">\n",
       "\n",
       "<svg xmlns=\"http://www.w3.org/2000/svg\" height=\"24px\"viewBox=\"0 0 24 24\"\n",
       "     width=\"24px\">\n",
       "    <g>\n",
       "        <path d=\"M19 3H5c-1.1 0-2 .9-2 2v14c0 1.1.9 2 2 2h14c1.1 0 2-.9 2-2V5c0-1.1-.9-2-2-2zM9 17H7v-7h2v7zm4 0h-2V7h2v10zm4 0h-2v-4h2v4z\"/>\n",
       "    </g>\n",
       "</svg>\n",
       "  </button>\n",
       "\n",
       "<style>\n",
       "  .colab-df-quickchart {\n",
       "      --bg-color: #E8F0FE;\n",
       "      --fill-color: #1967D2;\n",
       "      --hover-bg-color: #E2EBFA;\n",
       "      --hover-fill-color: #174EA6;\n",
       "      --disabled-fill-color: #AAA;\n",
       "      --disabled-bg-color: #DDD;\n",
       "  }\n",
       "\n",
       "  [theme=dark] .colab-df-quickchart {\n",
       "      --bg-color: #3B4455;\n",
       "      --fill-color: #D2E3FC;\n",
       "      --hover-bg-color: #434B5C;\n",
       "      --hover-fill-color: #FFFFFF;\n",
       "      --disabled-bg-color: #3B4455;\n",
       "      --disabled-fill-color: #666;\n",
       "  }\n",
       "\n",
       "  .colab-df-quickchart {\n",
       "    background-color: var(--bg-color);\n",
       "    border: none;\n",
       "    border-radius: 50%;\n",
       "    cursor: pointer;\n",
       "    display: none;\n",
       "    fill: var(--fill-color);\n",
       "    height: 32px;\n",
       "    padding: 0;\n",
       "    width: 32px;\n",
       "  }\n",
       "\n",
       "  .colab-df-quickchart:hover {\n",
       "    background-color: var(--hover-bg-color);\n",
       "    box-shadow: 0 1px 2px rgba(60, 64, 67, 0.3), 0 1px 3px 1px rgba(60, 64, 67, 0.15);\n",
       "    fill: var(--button-hover-fill-color);\n",
       "  }\n",
       "\n",
       "  .colab-df-quickchart-complete:disabled,\n",
       "  .colab-df-quickchart-complete:disabled:hover {\n",
       "    background-color: var(--disabled-bg-color);\n",
       "    fill: var(--disabled-fill-color);\n",
       "    box-shadow: none;\n",
       "  }\n",
       "\n",
       "  .colab-df-spinner {\n",
       "    border: 2px solid var(--fill-color);\n",
       "    border-color: transparent;\n",
       "    border-bottom-color: var(--fill-color);\n",
       "    animation:\n",
       "      spin 1s steps(1) infinite;\n",
       "  }\n",
       "\n",
       "  @keyframes spin {\n",
       "    0% {\n",
       "      border-color: transparent;\n",
       "      border-bottom-color: var(--fill-color);\n",
       "      border-left-color: var(--fill-color);\n",
       "    }\n",
       "    20% {\n",
       "      border-color: transparent;\n",
       "      border-left-color: var(--fill-color);\n",
       "      border-top-color: var(--fill-color);\n",
       "    }\n",
       "    30% {\n",
       "      border-color: transparent;\n",
       "      border-left-color: var(--fill-color);\n",
       "      border-top-color: var(--fill-color);\n",
       "      border-right-color: var(--fill-color);\n",
       "    }\n",
       "    40% {\n",
       "      border-color: transparent;\n",
       "      border-right-color: var(--fill-color);\n",
       "      border-top-color: var(--fill-color);\n",
       "    }\n",
       "    60% {\n",
       "      border-color: transparent;\n",
       "      border-right-color: var(--fill-color);\n",
       "    }\n",
       "    80% {\n",
       "      border-color: transparent;\n",
       "      border-right-color: var(--fill-color);\n",
       "      border-bottom-color: var(--fill-color);\n",
       "    }\n",
       "    90% {\n",
       "      border-color: transparent;\n",
       "      border-bottom-color: var(--fill-color);\n",
       "    }\n",
       "  }\n",
       "</style>\n",
       "\n",
       "  <script>\n",
       "    async function quickchart(key) {\n",
       "      const quickchartButtonEl =\n",
       "        document.querySelector('#' + key + ' button');\n",
       "      quickchartButtonEl.disabled = true;  // To prevent multiple clicks.\n",
       "      quickchartButtonEl.classList.add('colab-df-spinner');\n",
       "      try {\n",
       "        const charts = await google.colab.kernel.invokeFunction(\n",
       "            'suggestCharts', [key], {});\n",
       "      } catch (error) {\n",
       "        console.error('Error during call to suggestCharts:', error);\n",
       "      }\n",
       "      quickchartButtonEl.classList.remove('colab-df-spinner');\n",
       "      quickchartButtonEl.classList.add('colab-df-quickchart-complete');\n",
       "    }\n",
       "    (() => {\n",
       "      let quickchartButtonEl =\n",
       "        document.querySelector('#df-8d36a9bd-830c-4f70-a78c-89fc57f8d864 button');\n",
       "      quickchartButtonEl.style.display =\n",
       "        google.colab.kernel.accessAllowed ? 'block' : 'none';\n",
       "    })();\n",
       "  </script>\n",
       "</div>\n",
       "\n",
       "    </div>\n",
       "  </div>\n"
      ],
      "text/plain": [
       "                                         description  label\n",
       "0  b'AMD #39;s new dual-core Opteron chip is desi...      3\n",
       "1  b'Reuters - Major League Baseball\\\\Monday anno...      1\n",
       "2  b'President Bush #39;s  quot;revenue-neutral q...      2\n",
       "3  b'Britain will run out of leading scientists u...      3\n",
       "4  b'London, England (Sports Network) - England m...      1\n",
       "5  b'TOKYO - Sony Corp. is banking on the \\\\$3 bi...      0\n",
       "6  b'Giant pandas may well prefer bamboo to lapto...      3\n",
       "7  b'VILNIUS, Lithuania - Lithuania #39;s main pa...      0\n",
       "8  b'Witnesses in the trial of a US soldier charg...      0\n",
       "9  b'Dan Olsen of Ponte Vedra Beach, Fla., shot a...      1"
      ]
     },
     "execution_count": 7,
     "metadata": {},
     "output_type": "execute_result"
    }
   ],
   "source": []
  },
  {
   "cell_type": "markdown",
   "metadata": {
    "id": "RoG_cOcMMKgC"
   },
   "source": [
    "### Review Labels (Categories)"
   ]
  },
  {
   "cell_type": "code",
   "execution_count": 8,
   "metadata": {
    "colab": {
     "base_uri": "https://localhost:8080/"
    },
    "id": "4uBCsL_8tTUU",
    "outputId": "66e156fe-e79c-4328-f717-1105c3e84c0c"
   },
   "outputs": [
    {
     "name": "stdout",
     "output_type": "stream",
     "text": [
      "Dictionary:  {0: 'World', 1: 'Sports', 2: 'Business', 3: 'Sci/Tech'}\n"
     ]
    }
   ],
   "source": []
  },
  {
   "cell_type": "markdown",
   "metadata": {
    "id": "v0TskodXzP1F"
   },
   "source": [
    "### Review Class Balance\n",
    "The 127,600 news articles are evenly distributed among the 4 categories"
   ]
  },
  {
   "cell_type": "code",
   "execution_count": 9,
   "metadata": {
    "colab": {
     "base_uri": "https://localhost:8080/"
    },
    "id": "PRtOaULstTbJ",
    "outputId": "ef42f392-0bd2-4048-b4a8-1b888b62107f"
   },
   "outputs": [
    {
     "data": {
      "text/plain": [
       "[('Sci/Tech', 31900), ('Sports', 31900), ('Business', 31900), ('World', 31900)]"
      ]
     },
     "execution_count": 9,
     "metadata": {},
     "output_type": "execute_result"
    }
   ],
   "source": []
  },
  {
   "cell_type": "markdown",
   "metadata": {
    "id": "-ez6OmV7zP1G"
   },
   "source": [
    "### Preprocess Dataset for EDA"
   ]
  },
  {
   "cell_type": "code",
   "execution_count": 10,
   "metadata": {
    "id": "hRDTSmT2zP1G"
   },
   "outputs": [],
   "source": [
    "def custom_stopwords(input_text):\n",
    "    lowercase = tf.strings.lower(input_text)\n",
    "    stripped_punct = tf.strings.regex_replace(lowercase\n",
    "                                  ,'[%s]' % re.escape(string.punctuation)\n",
    "                                  ,'')\n",
    "    return tf.strings.regex_replace(stripped_punct, r'\\b(' + r'|'.join(STOPWORDS) + r')\\b\\s*',\"\")"
   ]
  },
  {
   "cell_type": "code",
   "execution_count": 11,
   "metadata": {
    "id": "_AYUlmD4zP1H"
   },
   "outputs": [],
   "source": [
    "nltk.download('stopwords',quiet=True)\n",
    "STOPWORDS = stopwords.words(\"english\")"
   ]
  },
  {
   "cell_type": "markdown",
   "metadata": {
    "id": "p2Dapu4RzP1H"
   },
   "source": [
    "### TextVectorization and Adapt() Vocabulary"
   ]
  },
  {
   "cell_type": "code",
   "execution_count": 12,
   "metadata": {
    "colab": {
     "base_uri": "https://localhost:8080/"
    },
    "id": "GwRATAOuzP1H",
    "outputId": "dcca3e70-498f-4ff8-b131-34de83711b92"
   },
   "outputs": [
    {
     "name": "stdout",
     "output_type": "stream",
     "text": [
      "CPU times: user 5min 22s, sys: 55 s, total: 6min 17s\n",
      "Wall time: 3min 8s\n"
     ]
    }
   ],
   "source": [
    "%%time\n",
    "max_tokens = None\n",
    "text_vectorization=layers.TextVectorization(\n",
    "    max_tokens=max_tokens,\n",
    "    output_mode=\"int\",\n",
    "    standardize=custom_stopwords\n",
    ")\n",
    "text_vectorization.adapt(text_only_dataset_all)"
   ]
  },
  {
   "cell_type": "code",
   "execution_count": 13,
   "metadata": {
    "colab": {
     "base_uri": "https://localhost:8080/"
    },
    "id": "hlW5u8cZzP1I",
    "outputId": "41ee5501-85f4-48f2-f53d-bf6606b9c32f"
   },
   "outputs": [
    {
     "name": "stdout",
     "output_type": "stream",
     "text": [
      "CPU times: user 16min 32s, sys: 1min 5s, total: 17min 37s\n",
      "Wall time: 16min 7s\n"
     ]
    }
   ],
   "source": [
    "%%time\n",
    "doc_sizes = []\n",
    "corpus = []\n",
    "for example, _ in dataset_all.as_numpy_iterator():\n",
    "  enc_example = text_vectorization(example)\n",
    "  doc_sizes.append(len(enc_example))\n",
    "  corpus+=list(enc_example.numpy())"
   ]
  },
  {
   "cell_type": "code",
   "execution_count": 14,
   "metadata": {
    "colab": {
     "base_uri": "https://localhost:8080/"
    },
    "id": "VsGMlQIpzP1J",
    "outputId": "16ff5146-b7a5-4261-f985-22009aafdede"
   },
   "outputs": [
    {
     "name": "stdout",
     "output_type": "stream",
     "text": [
      "There are 2579419 words in the corpus of 127600 news articles.\n",
      "Each news article has between 2 and 95 tokens in it.\n"
     ]
    }
   ],
   "source": [
    "print(f\"There are {len(corpus)} words in the corpus of {len(doc_sizes)} news articles.\")\n",
    "print(f\"Each news article has between {min(doc_sizes)} and {max(doc_sizes)} tokens in it.\")"
   ]
  },
  {
   "cell_type": "code",
   "execution_count": 15,
   "metadata": {
    "colab": {
     "base_uri": "https://localhost:8080/"
    },
    "id": "lFoEFpo5zP1J",
    "outputId": "0a60eb33-dbeb-4910-f1da-0f89e993c28c"
   },
   "outputs": [
    {
     "name": "stdout",
     "output_type": "stream",
     "text": [
      "There are 95827 vocabulary words in the corpus.\n"
     ]
    }
   ],
   "source": [
    "print(f\"There are {len(text_vectorization.get_vocabulary())} vocabulary words in the corpus.\")"
   ]
  },
  {
   "cell_type": "code",
   "execution_count": 16,
   "metadata": {
    "colab": {
     "base_uri": "https://localhost:8080/"
    },
    "id": "538r76jTzP1K",
    "outputId": "38120f1b-e0cb-48c8-9f84-4feadad1effc"
   },
   "outputs": [
    {
     "name": "stdout",
     "output_type": "stream",
     "text": [
      "['' '[UNK]' '39s' 'said' 'new' 'us' 'reuters' 'ap' 'two' 'first' 'monday'\n",
      " 'wednesday' 'tuesday' 'thursday' 'company' 'friday' 'inc' 'one' 'world'\n",
      " 'yesterday' 'last' 'york' 'year' 'president' 'million' 'oil' 'corp'\n",
      " 'united' 'would' 'sunday' 'years' 'week' 'people' 'today' 'three'\n",
      " 'government' 'could' 'quot' 'group' 'time' 'percent' 'game' 'saturday'\n",
      " 'software' 'night' 'next' 'prices' 'iraq' 'security' 'announced']\n"
     ]
    }
   ],
   "source": [
    "vocab = np.array(text_vectorization.get_vocabulary())\n",
    "print(vocab[:50])"
   ]
  },
  {
   "cell_type": "code",
   "execution_count": 17,
   "metadata": {
    "colab": {
     "base_uri": "https://localhost:8080/",
     "height": 638
    },
    "id": "ifIAXXIjzP1L",
    "outputId": "669692ed-5ade-44b4-fb98-8734821caf15"
   },
   "outputs": [
    {
     "data": {
      "image/png": "[encoded data removed]",
      "text/plain": [
       "<Figure size 1500x900 with 1 Axes>"
      ]
     },
     "metadata": {},
     "output_type": "display_data"
    }
   ],
   "source": [
    "plt.figure(figsize=(15,9))\n",
    "plt.hist(doc_sizes, bins=20,range = (0,80))\n",
    "plt.xlabel(\"Tokens Per Document\")\n",
    "plt.ylabel(\"Number of AG News Articles\");"
   ]
  }
 ],
 "metadata": {
  "accelerator": "GPU",
  "colab": {
   "gpuType": "T4",
   "machine_shape": "hm",
   "provenance": []
  },
  "kernelspec": {
   "display_name": "Python 3 (ipykernel)",
   "language": "python",
   "name": "python3"
  },
  "language_info": {
   "codemirror_mode": {
    "name": "ipython",
    "version": 3
   },
   "file_extension": ".py",
   "mimetype": "text/x-python",
   "name": "python",
   "nbconvert_exporter": "python",
   "pygments_lexer": "ipython3",
   "version": "3.9.7"
  },
  "toc": {
   "base_numbering": 1,
   "nav_menu": {},
   "number_sections": false,
   "sideBar": true,
   "skip_h1_title": false,
   "title_cell": "Table of Contents",
   "title_sidebar": "Contents",
   "toc_cell": false,
   "toc_position": {},
   "toc_section_display": true,
   "toc_window_display": false
  }
 },
 "nbformat": 4,
 "nbformat_minor": 1
}
