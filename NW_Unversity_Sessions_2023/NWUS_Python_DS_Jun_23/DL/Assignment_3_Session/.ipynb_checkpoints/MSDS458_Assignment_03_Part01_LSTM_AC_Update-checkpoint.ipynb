{
 "cells": [
  {
   "cell_type": "markdown",
   "metadata": {
    "id": "xHJ-2a8LRro5"
   },
   "source": [
    "<img src=\"https://github.com/djp840/MSDS_458_Public/blob/main/images2/NorthwesternHeader.png?raw=1\" />"
   ]
  },
  {
   "cell_type": "markdown",
   "metadata": {
    "id": "k6cApW345ukg"
   },
   "source": [
    "## MSDS458 Research Assignment 3 - Part 01 LSTM"
   ]
  },
  {
   "cell_type": "markdown",
   "metadata": {
    "id": "Hblbilyx5ukg"
   },
   "source": [
    "### Analyze AG_NEWS_SUBSET Data <br>\n",
    "\n",
    "AG is a collection of more than 1 million news articles. News articles have been gathered from more than 2000 news sources by ComeToMyHead in more than 1 year of activity. ComeToMyHead is an academic news search engine which has been running since July, 2004. The dataset is provided by the academic comunity for research purposes in data mining (clustering, classification, etc), information retrieval (ranking, search, etc), xml, data compression, data streaming, and any other non-commercial activity.<br>\n",
    "\n",
    "For more information, please refer to the link http://www.di.unipi.it/~gulli/AG_corpus_of_news_articles.html<br>\n",
    "\n",
    "\n",
    "The AG's news topic classification dataset is constructed by choosing 4 largest classes (**World**, **Sports**, **Business**, and **Sci/Tech**) from the original corpus. Each class contains 30,000 training samples and 1,900 testing samples. The total number of training samples is 120,000 and testing 7,600.<br>\n",
    "\n",
    "Homepage: https://arxiv.org/abs/1509.01626<br>\n",
    "\n",
    "Source code: tfds.text.AGNewsSubset\n",
    "\n",
    "Versions:\n",
    "\n",
    "1.0.0 (default): No release notes.\n",
    "Download size: 11.24 MiB\n",
    "\n",
    "Dataset size: 35.79 MiB"
   ]
  },
  {
   "cell_type": "markdown",
   "metadata": {
    "id": "95DGbFzR5uki"
   },
   "source": [
    "### References\n",
    "1. Deep Learning with Python, Francois Chollet (https://learning.oreilly.com/library/view/deep-learning-with/9781617296864/)\n",
    " * Chapter 10: Deep learning for time series\n",
    " * Chapter 11: Deep learning for text\n",
    "2. Deep Learning A Visual Approach, Andrew Glassner (https://learning.oreilly.com/library/view/deep-learning/9781098129019/)\n",
    " * Chapter 19: Recurrent Neural Networks\n",
    " * Chapter 20: Attention and Transformers"
   ]
  },
  {
   "cell_type": "markdown",
   "metadata": {
    "id": "vT8kwmgNRro7"
   },
   "source": [
    "### Processing words as a sequence: The sequence model approach\n",
    "\n",
    "To implement a sequence model, you’d start by representing your input samples as sequences of integer indices (one integer standing for one word). Then, you’d map each integer to a vector to obtain vector sequences. Finally, you’d feed these sequences of vectors into a stack of layers that could cross-correlate features from adjacent vectors, such as a 1D convnet, a RNN, or a Transformer."
   ]
  },
  {
   "cell_type": "markdown",
   "metadata": {
    "id": "x4AQ7tuV5ukj"
   },
   "source": [
    "For some time around 2016–2017, bidirectional RNNs (in particular, `bidirectional LSTMs`) were considered to be the state of the art for sequence modeling. However, nowadays sequence modeling is almost universally done with `Transformers`.\n",
    "\n",
    "F. Chollet: \"One-dimensional convnets were never very popular in NLP, even though, a residual stack of depthwise-separable 1D convolutions can often achieve comparable performance to a bidirectional LSTM, at a greatly reduced computational cost.\""
   ]
  },
  {
   "cell_type": "markdown",
   "metadata": {
    "id": "Ydgzc1l15ukl"
   },
   "source": [
    "### Import Packages"
   ]
  },
  {
   "cell_type": "code",
   "execution_count": 1,
   "metadata": {
    "id": "9d9VZa_T5ukm"
   },
   "outputs": [],
   "source": [
    "from packaging import version\n",
    "import pandas as pd\n",
    "import numpy as np\n",
    "import re\n",
    "import matplotlib.pyplot as plt\n",
    "import string\n",
    "\n",
    "import seaborn as sns\n",
    "from sklearn.metrics import mean_squared_error as MSE\n",
    "from sklearn.metrics import accuracy_score\n",
    "from sklearn.metrics import confusion_matrix, classification_report\n",
    "\n",
    "import tensorflow as tf\n",
    "from tensorflow import keras\n",
    "import tensorflow_datasets as tfds\n",
    "from tensorflow import keras\n",
    "from tensorflow.keras import layers\n",
    "import tensorflow.keras.backend as k\n",
    "\n",
    "import nltk\n",
    "from nltk.corpus import stopwords"
   ]
  },
  {
   "cell_type": "markdown",
   "metadata": {
    "id": "SNt8VbLK5ukp"
   },
   "source": [
    "\\### Verify TensorFlow version"
   ]
  },
  {
   "cell_type": "code",
   "execution_count": 2,
   "metadata": {
    "colab": {
     "base_uri": "https://localhost:8080/"
    },
    "id": "kujC9adr5ukq",
    "outputId": "3e8303d5-ee35-43ba-a561-045bde227e97"
   },
   "outputs": [
    {
     "name": "stdout",
     "output_type": "stream",
     "text": [
      "This notebook requires TensorFlow 2.0 or above\n",
      "TensorFlow version:  2.13.0\n"
     ]
    }
   ],
   "source": [
    "print(\"This notebook requires TensorFlow 2.0 or above\")\n",
    "print(\"TensorFlow version: \", tf.__version__)\n",
    "assert version.parse(tf.__version__).release[0] >=2"
   ]
  },
  {
   "cell_type": "markdown",
   "metadata": {
    "id": "QPwJHwRh4TJU"
   },
   "source": [
    "### Stopword Function"
   ]
  },
  {
   "cell_type": "code",
   "execution_count": 3,
   "metadata": {
    "id": "csIeA9ND4TJU"
   },
   "outputs": [],
   "source": [
    "def custom_stopwords(input_text):\n",
    "    lowercase = tf.strings.lower(input_text)\n",
    "    stripped_punct = tf.strings.regex_replace(lowercase\n",
    "                                  ,'[%s]' % re.escape(string.punctuation)\n",
    "                                  ,'')\n",
    "    return tf.strings.regex_replace(stripped_punct, r'\\b(' + r'|'.join(STOPWORDS) + r')\\b\\s*',\"\")"
   ]
  },
  {
   "cell_type": "markdown",
   "metadata": {
    "id": "4Ty6hkES4TJU"
   },
   "source": [
    "### Plotting Model Performance Metrics"
   ]
  },
  {
   "cell_type": "code",
   "execution_count": 4,
   "metadata": {
    "id": "t1lwlq0m4TJU"
   },
   "outputs": [],
   "source": [
    "def display_training_curves(training, validation, title, subplot):\n",
    "  ax = plt.subplot(subplot)\n",
    "  ax.plot(training)\n",
    "  ax.plot(validation)\n",
    "  ax.set_title('model '+ title)\n",
    "  ax.set_ylabel(title)\n",
    "  ax.set_xlabel('epoch')\n",
    "  ax.legend(['training', 'validation'])\n",
    "\n",
    "def print_validation_report(test_labels, predictions):\n",
    "    print(\"Classification Report\")\n",
    "    print(classification_report(test_labels, predictions))\n",
    "    print('Accuracy Score: {}'.format(accuracy_score(test_labels, predictions)))\n",
    "    print('Root Mean Square Error: {}'.format(np.sqrt(MSE(test_labels, predictions))))\n",
    "\n",
    "def plot_confusion_matrix(y_true, y_pred):\n",
    "    mtx = confusion_matrix(y_true, y_pred)\n",
    "    fig, ax = plt.subplots(figsize=(16,12))\n",
    "    sns.heatmap(mtx, annot=True, fmt='d', linewidths=.75,  cbar=False, ax=ax,cmap='Blues',linecolor='white')\n",
    "    #  square=True,\n",
    "    plt.ylabel('true label')\n",
    "    plt.xlabel('predicted label')"
   ]
  },
  {
   "cell_type": "markdown",
   "metadata": {
    "id": "z1Gn6wYG5uks"
   },
   "source": [
    "### Mount Google Drive to Colab environment"
   ]
  },
  {
   "cell_type": "code",
   "execution_count": 5,
   "metadata": {
    "id": "8jHzLMMB5ukt"
   },
   "outputs": [],
   "source": [
    "#from google.colab import drive\n",
    "#drive.mount('/content/gdrive')"
   ]
  },
  {
   "cell_type": "markdown",
   "metadata": {
    "id": "XvqFLia1Rro9"
   },
   "source": [
    "### Load Data"
   ]
  },
  {
   "cell_type": "code",
   "execution_count": 6,
   "metadata": {
    "colab": {
     "base_uri": "https://localhost:8080/"
    },
    "id": "EsypDzDARro-",
    "outputId": "4a0a4c69-2b4a-4ccb-f078-4087064bdc53"
   },
   "outputs": [
    {
     "name": "stdout",
     "output_type": "stream",
     "text": [
      "W0912 02:30:32.589403 133963927465984 download_and_prepare.py:46] ***`tfds build` should be used instead of `download_and_prepare`.***\n",
      "INFO[build.py]: Loading dataset ag_news_subset from imports: tensorflow_datasets.datasets.ag_news_subset.ag_news_subset_dataset_builder\n",
      "2023-09-12 02:30:33.800052: W tensorflow/compiler/tf2tensorrt/utils/py_utils.cc:38] TF-TRT Warning: Could not find TensorRT\n",
      "2023-09-12 02:30:35.865015: W tensorflow/tsl/platform/cloud/google_auth_provider.cc:184] All attempts to get a Google authentication bearer token failed, returning an empty token. Retrieving token from files failed with \"NOT_FOUND: Could not locate the credentials file.\". Retrieving token from GCE failed with \"NOT_FOUND: Error executing an HTTP request: HTTP response code 404\".\n",
      "INFO[dataset_info.py]: Load pre-computed DatasetInfo (eg: splits, num examples,...) from GCS: ag_news_subset/1.0.0\n",
      "INFO[dataset_info.py]: Load dataset info from /tmp/tmp13et84q0tfds\n",
      "INFO[dataset_info.py]: Fields info.[description, splits, supervised_keys, module_name] from disk and from code do not match. Keeping the one from code.\n",
      "INFO[build.py]: download_and_prepare for dataset ag_news_subset/1.0.0...\n",
      "INFO[dataset_builder.py]: Generating dataset ag_news_subset (/root/tensorflow_datasets/ag_news_subset/1.0.0)\n",
      "\u001b[1mDownloading and preparing dataset 11.24 MiB (download: 11.24 MiB, generated: 35.79 MiB, total: 47.03 MiB) to /root/tensorflow_datasets/ag_news_subset/1.0.0...\u001b[0m\n",
      "Dl Completed...: 0 url [00:00, ? url/s]\n",
      "Dl Size...: 0 MiB [00:00, ? MiB/s]\u001b[A\n",
      "\n",
      "                                       \n",
      "\n",
      "\u001b[A\u001b[A\n",
      "\u001b[AINFO[download_manager.py]: Downloading https://drive.google.com/uc?export=download&id=0Bz8a_Dbh9QhbUDNpeUdjb0wxRms into /root/tensorflow_datasets/downloads/ucexport_download_id_0Bz8a_Dbh9QhbUDNpeUdjb0wxj4g1umFAV8OV-uDwxSJR0LdxO_k1jxMuFWwAfNX9jos.tmp.9603d513c0a14e9c99bfd25ecf157482...\n",
      "Dl Completed...: 0 url [00:00, ? url/s]\n",
      "\n",
      "Extraction completed...: 0 file [00:00, ? file/s]\u001b[A\u001b[A\n",
      "Dl Completed...:   0% 0/1 [00:00<?, ? url/s]\n",
      "Dl Size...: 0 MiB [00:00, ? MiB/s]\u001b[A\n",
      "\n",
      "Dl Completed...:   0% 0/1 [00:12<?, ? url/s]\n",
      "Dl Size...:   0% 0/11 [00:12<?, ? MiB/s]\u001b[A\n",
      "\n",
      "Extraction completed...: 0 file [00:12, ? file/s]\u001b[A\u001b[A\n",
      "Dl Completed...:   0% 0/1 [00:12<?, ? url/s]\n",
      "Dl Size...:   9% 1/11 [00:12<02:01, 12.17s/ MiB]\u001b[A\n",
      "\n",
      "Dl Completed...:   0% 0/1 [00:12<?, ? url/s]\n",
      "Dl Size...:  18% 2/11 [00:12<01:49, 12.17s/ MiB]\u001b[A\n",
      "\n",
      "Dl Completed...:   0% 0/1 [00:12<?, ? url/s]\n",
      "Dl Size...:  27% 3/11 [00:12<01:37, 12.17s/ MiB]\u001b[A\n",
      "\n",
      "Extraction completed...: 0 file [00:12, ? file/s]\u001b[A\u001b[A\n",
      "Dl Completed...:   0% 0/1 [00:12<?, ? url/s]\n",
      "Dl Size...:  36% 4/11 [00:12<00:16,  2.42s/ MiB]\u001b[A\n",
      "\n",
      "Dl Completed...:   0% 0/1 [00:12<?, ? url/s]\n",
      "Dl Size...:  45% 5/11 [00:12<00:14,  2.42s/ MiB]\u001b[A\n",
      "\n",
      "Dl Completed...:   0% 0/1 [00:12<?, ? url/s]\n",
      "Dl Size...:  55% 6/11 [00:12<00:12,  2.42s/ MiB]\u001b[A\n",
      "\n",
      "Dl Completed...:   0% 0/1 [00:12<?, ? url/s]\n",
      "Dl Size...:  64% 7/11 [00:12<00:09,  2.42s/ MiB]\u001b[A\n",
      "\n",
      "Dl Completed...:   0% 0/1 [00:12<?, ? url/s]\n",
      "Dl Size...:  73% 8/11 [00:12<00:07,  2.42s/ MiB]\u001b[A\n",
      "\n",
      "Dl Completed...:   0% 0/1 [00:12<?, ? url/s]\n",
      "Dl Size...:  82% 9/11 [00:12<00:04,  2.42s/ MiB]\u001b[A\n",
      "\n",
      "Dl Completed...:   0% 0/1 [00:12<?, ? url/s]\n",
      "Dl Size...:  91% 10/11 [00:12<00:02,  2.42s/ MiB]\u001b[A\n",
      "\n",
      "Dl Completed...:   0% 0/1 [00:12<?, ? url/s]\n",
      "Dl Size...: 100% 11/11 [00:12<00:00,  2.42s/ MiB]\u001b[A\n",
      "\n",
      "Dl Completed...: 100% 1/1 [00:12<00:00, 12.65s/ url]\n",
      "Dl Size...: 100% 11/11 [00:12<00:00,  2.42s/ MiB]\u001b[A\n",
      "\n",
      "Dl Completed...: 100% 1/1 [00:12<00:00, 12.65s/ url]\n",
      "Dl Size...: 100% 11/11 [00:12<00:00,  2.42s/ MiB]\u001b[A\n",
      "\n",
      "Dl Completed...: 100% 1/1 [00:12<00:00, 12.65s/ url]\n",
      "Dl Size...: 100% 11/11 [00:12<00:00,  2.42s/ MiB]\u001b[A\n",
      "\n",
      "Dl Completed...: 100% 1/1 [00:12<00:00, 12.65s/ url]\n",
      "Dl Size...: 100% 11/11 [00:12<00:00,  2.42s/ MiB]\u001b[A\n",
      "\n",
      "Dl Completed...: 100% 1/1 [00:12<00:00, 12.65s/ url]\n",
      "Dl Size...: 100% 11/11 [00:12<00:00,  2.42s/ MiB]\u001b[A\n",
      "\n",
      "Extraction completed...:   0% 0/4 [00:12<?, ? file/s]\u001b[A\u001b[A\n",
      "\n",
      "Dl Completed...: 100% 1/1 [00:12<00:00, 12.65s/ url]\n",
      "Dl Size...: 100% 11/11 [00:12<00:00,  2.42s/ MiB]\u001b[A\n",
      "\n",
      "Dl Completed...: 100% 1/1 [00:12<00:00, 12.65s/ url]\n",
      "Dl Size...: 100% 11/11 [00:12<00:00,  2.42s/ MiB]\u001b[A\n",
      "\n",
      "Dl Completed...: 100% 1/1 [00:12<00:00, 12.65s/ url]\n",
      "Dl Size...: 100% 11/11 [00:12<00:00,  2.42s/ MiB]\u001b[A\n",
      "\n",
      "Dl Completed...: 100% 1/1 [00:12<00:00, 12.65s/ url]\n",
      "Dl Size...: 100% 11/11 [00:12<00:00,  2.42s/ MiB]\u001b[A\n",
      "\n",
      "Extraction completed...: 100% 4/4 [00:12<00:00,  3.22s/ file]\n",
      "Dl Size...: 100% 11/11 [00:12<00:00,  1.17s/ MiB]\n",
      "Dl Completed...: 100% 1/1 [00:12<00:00, 12.89s/ url]\n",
      "Generating splits...:   0% 0/2 [00:00<?, ? splits/s]\n",
      "Generating train examples...:   0% 0/120000 [00:00<?, ? examples/s]\u001b[A\n",
      "Generating train examples...:   1% 1158/120000 [00:00<00:10, 11571.79 examples/s]\u001b[A\n",
      "Generating train examples...:   2% 2383/120000 [00:00<00:09, 11967.19 examples/s]\u001b[A\n",
      "Generating train examples...:   3% 3632/120000 [00:00<00:09, 12202.23 examples/s]\u001b[A\n",
      "Generating train examples...:   4% 4870/120000 [00:00<00:09, 12270.29 examples/s]\u001b[A\n",
      "Generating train examples...:   5% 6098/120000 [00:00<00:09, 12257.78 examples/s]\u001b[A\n",
      "Generating train examples...:   6% 7324/120000 [00:00<00:09, 12254.02 examples/s]\u001b[A\n",
      "Generating train examples...:   7% 8550/120000 [00:00<00:09, 12252.02 examples/s]\u001b[A\n",
      "Generating train examples...:   8% 9779/120000 [00:00<00:08, 12263.19 examples/s]\u001b[A\n",
      "Generating train examples...:   9% 11006/120000 [00:00<00:08, 12238.82 examples/s]\u001b[A\n",
      "Generating train examples...:  10% 12244/120000 [00:01<00:08, 12280.13 examples/s]\u001b[A\n",
      "Generating train examples...:  11% 13493/120000 [00:01<00:08, 12343.86 examples/s]\u001b[A\n",
      "Generating train examples...:  12% 14743/120000 [00:01<00:08, 12389.46 examples/s]\u001b[A\n",
      "Generating train examples...:  13% 15991/120000 [00:01<00:08, 12414.83 examples/s]\u001b[A\n",
      "Generating train examples...:  14% 17233/120000 [00:01<00:08, 12396.53 examples/s]\u001b[A\n",
      "Generating train examples...:  15% 18473/120000 [00:01<00:08, 12271.16 examples/s]\u001b[A\n",
      "Generating train examples...:  16% 19701/120000 [00:01<00:08, 12264.30 examples/s]\u001b[A\n",
      "Generating train examples...:  17% 20928/120000 [00:01<00:08, 12236.88 examples/s]\u001b[A\n",
      "Generating train examples...:  18% 22152/120000 [00:01<00:08, 12117.90 examples/s]\u001b[A\n",
      "Generating train examples...:  19% 23378/120000 [00:01<00:07, 12158.95 examples/s]\u001b[A\n",
      "Generating train examples...:  21% 24615/120000 [00:02<00:07, 12221.41 examples/s]\u001b[A\n",
      "Generating train examples...:  22% 25838/120000 [00:02<00:07, 12195.61 examples/s]\u001b[A\n",
      "Generating train examples...:  23% 27078/120000 [00:02<00:07, 12253.66 examples/s]\u001b[A\n",
      "Generating train examples...:  24% 28304/120000 [00:02<00:07, 12250.79 examples/s]\u001b[A\n",
      "Generating train examples...:  25% 29530/120000 [00:02<00:07, 12231.23 examples/s]\u001b[A\n",
      "Generating train examples...:  26% 30756/120000 [00:02<00:07, 12239.28 examples/s]\u001b[A\n",
      "Generating train examples...:  27% 31980/120000 [00:02<00:07, 12216.48 examples/s]\u001b[A\n",
      "Generating train examples...:  28% 33215/120000 [00:02<00:07, 12254.89 examples/s]\u001b[A\n",
      "Generating train examples...:  29% 34441/120000 [00:02<00:06, 12238.40 examples/s]\u001b[A\n",
      "Generating train examples...:  30% 35665/120000 [00:02<00:06, 12185.62 examples/s]\u001b[A\n",
      "Generating train examples...:  31% 36884/120000 [00:03<00:06, 12138.42 examples/s]\u001b[A\n",
      "Generating train examples...:  32% 38103/120000 [00:03<00:06, 12153.35 examples/s]\u001b[A\n",
      "Generating train examples...:  33% 39319/120000 [00:03<00:06, 12086.47 examples/s]\u001b[A\n",
      "Generating train examples...:  34% 40546/120000 [00:03<00:06, 12140.36 examples/s]\u001b[A\n",
      "Generating train examples...:  35% 41775/120000 [00:03<00:06, 12183.74 examples/s]\u001b[A\n",
      "Generating train examples...:  36% 42994/120000 [00:03<00:06, 12178.49 examples/s]\u001b[A\n",
      "Generating train examples...:  37% 44228/120000 [00:03<00:06, 12226.22 examples/s]\u001b[A\n",
      "Generating train examples...:  38% 45473/120000 [00:03<00:06, 12291.78 examples/s]\u001b[A\n",
      "Generating train examples...:  39% 46703/120000 [00:03<00:06, 12167.52 examples/s]\u001b[A\n",
      "Generating train examples...:  40% 47921/120000 [00:03<00:05, 12054.41 examples/s]\u001b[A\n",
      "Generating train examples...:  41% 49127/120000 [00:04<00:05, 12048.85 examples/s]\u001b[A\n",
      "Generating train examples...:  42% 50366/120000 [00:04<00:05, 12149.90 examples/s]\u001b[A\n",
      "Generating train examples...:  43% 51605/120000 [00:04<00:05, 12219.12 examples/s]\u001b[A\n",
      "Generating train examples...:  44% 52866/120000 [00:04<00:05, 12335.51 examples/s]\u001b[A\n",
      "Generating train examples...:  45% 54100/120000 [00:04<00:05, 12297.24 examples/s]\u001b[A\n",
      "Generating train examples...:  46% 55330/120000 [00:04<00:05, 12291.80 examples/s]\u001b[A\n",
      "Generating train examples...:  47% 56564/120000 [00:04<00:05, 12303.83 examples/s]\u001b[A\n",
      "Generating train examples...:  48% 57822/120000 [00:04<00:05, 12383.52 examples/s]\u001b[A\n",
      "Generating train examples...:  49% 59061/120000 [00:04<00:04, 12266.64 examples/s]\u001b[A\n",
      "Generating train examples...:  50% 60288/120000 [00:04<00:04, 12244.62 examples/s]\u001b[A\n",
      "Generating train examples...:  51% 61513/120000 [00:05<00:04, 12201.34 examples/s]\u001b[A\n",
      "Generating train examples...:  52% 62734/120000 [00:05<00:04, 12059.86 examples/s]\u001b[A\n",
      "Generating train examples...:  53% 63941/120000 [00:05<00:04, 11780.49 examples/s]\u001b[A\n",
      "Generating train examples...:  54% 65121/120000 [00:05<00:04, 11486.36 examples/s]\u001b[A\n",
      "Generating train examples...:  55% 66272/120000 [00:05<00:04, 11347.93 examples/s]\u001b[A\n",
      "Generating train examples...:  56% 67409/120000 [00:05<00:04, 11147.50 examples/s]\u001b[A\n",
      "Generating train examples...:  57% 68525/120000 [00:05<00:04, 11118.16 examples/s]\u001b[A\n",
      "Generating train examples...:  58% 69654/120000 [00:05<00:04, 11165.77 examples/s]\u001b[A\n",
      "Generating train examples...:  59% 70803/120000 [00:05<00:04, 11259.91 examples/s]\u001b[A\n",
      "Generating train examples...:  60% 71941/120000 [00:05<00:04, 11292.93 examples/s]\u001b[A\n",
      "Generating train examples...:  61% 73157/120000 [00:06<00:04, 11550.21 examples/s]\u001b[A\n",
      "Generating train examples...:  62% 74373/120000 [00:06<00:03, 11731.02 examples/s]\u001b[A\n",
      "Generating train examples...:  63% 75571/120000 [00:06<00:03, 11804.61 examples/s]\u001b[A\n",
      "Generating train examples...:  64% 76791/120000 [00:06<00:03, 11921.95 examples/s]\u001b[A\n",
      "Generating train examples...:  65% 77996/120000 [00:06<00:03, 11958.58 examples/s]\u001b[A\n",
      "Generating train examples...:  66% 79216/120000 [00:06<00:03, 12029.78 examples/s]\u001b[A\n",
      "Generating train examples...:  67% 80420/120000 [00:06<00:03, 11997.69 examples/s]\u001b[A\n",
      "Generating train examples...:  68% 81628/120000 [00:06<00:03, 12021.44 examples/s]\u001b[A\n",
      "Generating train examples...:  69% 82831/120000 [00:06<00:03, 11919.80 examples/s]\u001b[A\n",
      "Generating train examples...:  70% 84050/120000 [00:06<00:02, 11998.30 examples/s]\u001b[A\n",
      "Generating train examples...:  71% 85256/120000 [00:07<00:02, 12015.59 examples/s]\u001b[A\n",
      "Generating train examples...:  72% 86479/120000 [00:07<00:02, 12078.03 examples/s]\u001b[A\n",
      "Generating train examples...:  73% 87701/120000 [00:07<00:02, 12119.14 examples/s]\u001b[A\n",
      "Generating train examples...:  74% 88914/120000 [00:07<00:02, 12096.64 examples/s]\u001b[A\n",
      "Generating train examples...:  75% 90124/120000 [00:07<00:02, 12051.07 examples/s]\u001b[A\n",
      "Generating train examples...:  76% 91363/120000 [00:07<00:02, 12151.84 examples/s]\u001b[A\n",
      "Generating train examples...:  77% 92579/120000 [00:07<00:02, 12052.94 examples/s]\u001b[A\n",
      "Generating train examples...:  78% 93785/120000 [00:07<00:02, 11715.66 examples/s]\u001b[A\n",
      "Generating train examples...:  79% 94975/120000 [00:07<00:02, 11767.31 examples/s]\u001b[A\n",
      "Generating train examples...:  80% 96164/120000 [00:07<00:02, 11800.88 examples/s]\u001b[A\n",
      "Generating train examples...:  81% 97395/120000 [00:08<00:01, 11946.59 examples/s]\u001b[A\n",
      "Generating train examples...:  82% 98591/120000 [00:08<00:01, 11893.78 examples/s]\u001b[A\n",
      "Generating train examples...:  83% 99782/120000 [00:08<00:01, 11869.11 examples/s]\u001b[A\n",
      "Generating train examples...:  84% 100970/120000 [00:08<00:01, 11839.74 examples/s]\u001b[A\n",
      "Generating train examples...:  85% 102176/120000 [00:08<00:01, 11902.84 examples/s]\u001b[A\n",
      "Generating train examples...:  86% 103367/120000 [00:08<00:01, 11808.16 examples/s]\u001b[A\n",
      "Generating train examples...:  87% 104572/120000 [00:08<00:01, 11878.48 examples/s]\u001b[A\n",
      "Generating train examples...:  88% 105761/120000 [00:08<00:01, 11805.56 examples/s]\u001b[A\n",
      "Generating train examples...:  89% 106943/120000 [00:08<00:01, 11809.67 examples/s]\u001b[A\n",
      "Generating train examples...:  90% 108125/120000 [00:08<00:01, 11781.73 examples/s]\u001b[A\n",
      "Generating train examples...:  91% 109308/120000 [00:09<00:00, 11794.54 examples/s]\u001b[A\n",
      "Generating train examples...:  92% 110504/120000 [00:09<00:00, 11842.53 examples/s]\u001b[A\n",
      "Generating train examples...:  93% 111696/120000 [00:09<00:00, 11863.64 examples/s]\u001b[A\n",
      "Generating train examples...:  94% 112883/120000 [00:09<00:00, 11787.04 examples/s]\u001b[A\n",
      "Generating train examples...:  95% 114062/120000 [00:09<00:00, 11601.46 examples/s]\u001b[A\n",
      "Generating train examples...:  96% 115223/120000 [00:09<00:00, 11600.49 examples/s]\u001b[A\n",
      "Generating train examples...:  97% 116384/120000 [00:09<00:00, 11602.63 examples/s]\u001b[A\n",
      "Generating train examples...:  98% 117592/120000 [00:09<00:00, 11742.44 examples/s]\u001b[A\n",
      "Generating train examples...:  99% 118787/120000 [00:09<00:00, 11802.83 examples/s]\u001b[A\n",
      "Generating train examples...: 100% 119992/120000 [00:10<00:00, 11874.29 examples/s]\u001b[A\n",
      "                                                                                   \u001b[A\n",
      "Shuffling /root/tensorflow_datasets/ag_news_subset/1.0.0.incompleteLUMFPL/ag_news_subset-train.tfrecord*...:   0% 0/120000 [00:00<?, ? examples/s]\u001b[A\n",
      "Shuffling /root/tensorflow_datasets/ag_news_subset/1.0.0.incompleteLUMFPL/ag_news_subset-train.tfrecord*...:   9% 10325/120000 [00:00<00:01, 103243.45 examples/s]\u001b[A\n",
      "Shuffling /root/tensorflow_datasets/ag_news_subset/1.0.0.incompleteLUMFPL/ag_news_subset-train.tfrecord*...:  50% 59576/120000 [00:00<00:00, 332197.02 examples/s]\u001b[A\n",
      "Shuffling /root/tensorflow_datasets/ag_news_subset/1.0.0.incompleteLUMFPL/ag_news_subset-train.tfrecord*...:  91% 108783/120000 [00:00<00:00, 405178.72 examples/s]\u001b[A\n",
      "INFO[writer.py]: Done writing /root/tensorflow_datasets/ag_news_subset/1.0.0.incompleteLUMFPL/ag_news_subset-train.tfrecord*. Number of examples: 120000 (shards: [120000])\n",
      "Generating splits...:  50% 1/2 [00:10<00:10, 10.35s/ splits]\n",
      "Generating test examples...:   0% 0/7600 [00:00<?, ? examples/s]\u001b[A\n",
      "Generating test examples...:  16% 1180/7600 [00:00<00:00, 11790.48 examples/s]\u001b[A\n",
      "Generating test examples...:  31% 2366/7600 [00:00<00:00, 11826.43 examples/s]\u001b[A\n",
      "Generating test examples...:  47% 3557/7600 [00:00<00:00, 11862.29 examples/s]\u001b[A\n",
      "Generating test examples...:  63% 4760/7600 [00:00<00:00, 11927.71 examples/s]\u001b[A\n",
      "Generating test examples...:  78% 5953/7600 [00:00<00:00, 11857.32 examples/s]\u001b[A\n",
      "Generating test examples...:  94% 7151/7600 [00:00<00:00, 11898.04 examples/s]\u001b[A\n",
      "                                                                              \u001b[A\n",
      "Shuffling /root/tensorflow_datasets/ag_news_subset/1.0.0.incompleteLUMFPL/ag_news_subset-test.tfrecord*...:   0% 0/7600 [00:00<?, ? examples/s]\u001b[A\n",
      "INFO[writer.py]: Done writing /root/tensorflow_datasets/ag_news_subset/1.0.0.incompleteLUMFPL/ag_news_subset-test.tfrecord*. Number of examples: 7600 (shards: [7600])\n",
      "\u001b[1mDataset ag_news_subset downloaded and prepared to /root/tensorflow_datasets/ag_news_subset/1.0.0. Subsequent calls will reuse this data.\u001b[0m\n",
      "INFO[build.py]: Dataset generation complete...\n",
      "\n",
      "tfds.core.DatasetInfo(\n",
      "    name='ag_news_subset',\n",
      "    full_name='ag_news_subset/1.0.0',\n",
      "    description=\"\"\"\n",
      "    AG is a collection of more than 1 million news articles. News articles have been\n",
      "    gathered from more than 2000 news sources by ComeToMyHead in more than 1 year of\n",
      "    activity. ComeToMyHead is an academic news search engine which has been running\n",
      "    since July, 2004. The dataset is provided by the academic comunity for research\n",
      "    purposes in data mining (clustering, classification, etc), information retrieval\n",
      "    (ranking, search, etc), xml, data compression, data streaming, and any other\n",
      "    non-commercial activity. For more information, please refer to the link\n",
      "    http://www.di.unipi.it/~gulli/AG_corpus_of_news_articles.html .\n",
      "    \n",
      "    The AG's news topic classification dataset is constructed by Xiang Zhang\n",
      "    (xiang.zhang@nyu.edu) from the dataset above. It is used as a text\n",
      "    classification benchmark in the following paper: Xiang Zhang, Junbo Zhao, Yann\n",
      "    LeCun. Character-level Convolutional Networks for Text Classification. Advances\n",
      "    in Neural Information Processing Systems 28 (NIPS 2015).\n",
      "    \n",
      "    The AG's news topic classification dataset is constructed by choosing 4 largest\n",
      "    classes from the original corpus. Each class contains 30,000 training samples\n",
      "    and 1,900 testing samples. The total number of training samples is 120,000 and\n",
      "    testing 7,600.\n",
      "    \"\"\",\n",
      "    homepage='https://arxiv.org/abs/1509.01626',\n",
      "    data_path=PosixGPath('/tmp/tmp13et84q0tfds'),\n",
      "    file_format=tfrecord,\n",
      "    download_size=11.24 MiB,\n",
      "    dataset_size=35.79 MiB,\n",
      "    features=FeaturesDict({\n",
      "        'description': Text(shape=(), dtype=string),\n",
      "        'label': ClassLabel(shape=(), dtype=int64, num_classes=4),\n",
      "        'title': Text(shape=(), dtype=string),\n",
      "    }),\n",
      "    supervised_keys=('description', 'label'),\n",
      "    disable_shuffling=False,\n",
      "    splits={\n",
      "        'test': <SplitInfo num_examples=7600, num_shards=1>,\n",
      "        'train': <SplitInfo num_examples=120000, num_shards=1>,\n",
      "    },\n",
      "    citation=\"\"\"@misc{zhang2015characterlevel,\n",
      "        title={Character-level Convolutional Networks for Text Classification},\n",
      "        author={Xiang Zhang and Junbo Zhao and Yann LeCun},\n",
      "        year={2015},\n",
      "        eprint={1509.01626},\n",
      "        archivePrefix={arXiv},\n",
      "        primaryClass={cs.LG}\n",
      "    }\"\"\",\n",
      ")\n",
      "\n"
     ]
    }
   ],
   "source": [
    "# register  ag_news_subset so that tfds.load doesn't generate a checksum (mismatch) error\n",
    "!python -m tensorflow_datasets.scripts.download_and_prepare --register_checksums --datasets=ag_news_subset\n",
    "\n",
    "dataset,info=\\\n",
    "tfds.load('ag_news_subset', with_info=True,  split=['train[:95%]','train[95%:]', 'test'],batch_size = 32\n",
    "          , as_supervised=True)\n",
    "\n",
    "train_ds, val_ds, test_ds = dataset\n",
    "text_only_train_ds = train_ds.map(lambda x, y: x)"
   ]
  },
  {
   "cell_type": "markdown",
   "metadata": {
    "id": "mq7Q6zlFRro_"
   },
   "source": [
    "### Preparing Integer Sequence Datasets"
   ]
  },
  {
   "cell_type": "code",
   "execution_count": 7,
   "metadata": {
    "id": "REdzPANY4TJW"
   },
   "outputs": [],
   "source": [
    "nltk.download('stopwords',quiet=True)\n",
    "STOPWORDS = stopwords.words(\"english\")"
   ]
  },
  {
   "cell_type": "code",
   "execution_count": 8,
   "metadata": {
    "id": "AfTnCGIERrpA"
   },
   "outputs": [],
   "source": [
    "max_length = 96\n",
    "max_tokens = 1000\n",
    "text_vectorization = layers.TextVectorization(\n",
    "    max_tokens=max_tokens,\n",
    "    output_mode=\"int\",\n",
    "    output_sequence_length=max_length,\n",
    "    standardize=custom_stopwords\n",
    ")\n",
    "text_vectorization.adapt(text_only_train_ds)\n",
    "\n",
    "int_train_ds = train_ds.map(\n",
    "    lambda x, y: (text_vectorization(x), y),\n",
    "    num_parallel_calls=4)\n",
    "int_val_ds = val_ds.map(\n",
    "    lambda x, y: (text_vectorization(x), y),\n",
    "    num_parallel_calls=4)\n",
    "int_test_ds = test_ds.map(\n",
    "    lambda x, y: (text_vectorization(x), y),\n",
    "    num_parallel_calls=4)"
   ]
  },
  {
   "cell_type": "markdown",
   "metadata": {
    "id": "NBL0CkaB5ukv"
   },
   "source": [
    "### Bi-directional RNN\n",
    "\n",
    "When translating in real-time, it would help to have access to worlds towards the end of a sentence, say, as well as earlier words in the sentence. One way to use the later words in the sentence is to feed the words into our RNN backward. So if we create two independent RNNs, we can feed one the words in their forward, or natural order, and the second gets their words in the revser order. This is the idea behind `Bi-directional RNNS`:"
   ]
  },
  {
   "cell_type": "markdown",
   "metadata": {
    "id": "EuP7exeZ5ukw"
   },
   "source": [
    "<img src=\"https://github.com/djp840/MSDS_458_Public/blob/main/images2/BidirectionalRNN.png?raw=1\">"
   ]
  },
  {
   "cell_type": "markdown",
   "metadata": {
    "id": "fTprEi3bRrpD"
   },
   "source": [
    "### Understanding word embeddings"
   ]
  },
  {
   "cell_type": "markdown",
   "metadata": {
    "id": "pmHdhUnM5ukz"
   },
   "source": [
    "When you encode something via `one-hot encoding`, you’re making a feature-engineering decision. You’re injecting into your model a fundamental assumption about the structure of your feature space. That assumption is that the different tokens you’re encoding are all independent from each other: indeed, one-hot vectors are all orthogonal to one another."
   ]
  },
  {
   "cell_type": "markdown",
   "metadata": {
    "id": "webaWkZJ5ukz"
   },
   "source": [
    "However, in a reasonable word vector space, you would expect synonyms to be embedded into similar word vectors, and in general, you would expect the geometric distance  between any two word vectors to relate to the “semantic distance” between the associated words.\n",
    "\n",
    "Words that mean different things should lie far away from each other, whereas related words should be closer."
   ]
  },
  {
   "cell_type": "markdown",
   "metadata": {
    "id": "b-W1sFgg5ukz"
   },
   "source": [
    "`Word embeddings` are vector representations of words that achieve exactly this: they map human language into a structured geometric space."
   ]
  },
  {
   "cell_type": "markdown",
   "metadata": {
    "id": "0egzHasW5ukz"
   },
   "source": [
    "Whereas the vectors obtained through `one-hot encoding` are *binary*, *sparse*, and *very high-dimensional* (the same dimensionality as the number of words in the vocabulary), `word embeddings` are *low-dimensional floating-point vectors* (that is, `dense vectors`, as opposed to `sparse vectors`)."
   ]
  },
  {
   "cell_type": "markdown",
   "metadata": {
    "id": "dHU4tS3b5uk0"
   },
   "source": [
    "<img src=\"https://github.com/djp840/MSDS_458_Public/blob/main/images2/EmbeddingsSparse.png?raw=1\">"
   ]
  },
  {
   "cell_type": "markdown",
   "metadata": {
    "id": "im1j5PRE5uk0"
   },
   "source": [
    "### Two ways to obtain word embeddings\n",
    "\n",
    "1. `Learn word embeddings jointly with the main task you care about` (such as document classification or sentiment prediction). In this setup, you start with random word vectors and then learn word vectors in the same way you learn the weights of a neural network.\n",
    "2. Load into your model word embeddings that were precomputed using a different machine learning task than the one you’re trying to solve. These are called `pretrained word embeddings`.\n"
   ]
  },
  {
   "cell_type": "markdown",
   "metadata": {
    "id": "j69C96c65uk1"
   },
   "source": [
    "<div class=\"alert alert-block alert-success\"><b>tf.keras.layers.Embedding</b><br>\n",
    "https://www.tensorflow.org/api_docs/python/tf/keras/layers/Embedding </div>"
   ]
  },
  {
   "cell_type": "markdown",
   "metadata": {
    "id": "M0gOTdNnRrpF"
   },
   "source": [
    "### Understanding Padding and Masking"
   ]
  },
  {
   "cell_type": "markdown",
   "metadata": {
    "id": "zOudeXoa5uk4"
   },
   "source": [
    "One thing that’s slightly hurting model performance here is that our input sequences are full of zeros. This comes from our use of the `output_sequence_length=max_ length` option in TextVectorization (with `max_length equal` to 150): sentences longer than 150 tokens are truncated to a length of 150 tokens, and sentences shorter than 150 tokens are padded with zeros at the end so that they can be concatenated together with other sequences to form contiguous batches."
   ]
  },
  {
   "cell_type": "markdown",
   "metadata": {
    "id": "hM95tdc65uk4"
   },
   "source": [
    "The RNN that looks at the tokens in their natural order will spend its last iterations seeing only vectors that encode padding—possibly for several hundreds of iterations if the original sentence was short. The information stored in the internal state of the RNN will gradually fade out as it gets exposed to these meaningless inputs."
   ]
  },
  {
   "cell_type": "markdown",
   "metadata": {
    "id": "U93_Szgn5uk4"
   },
   "source": [
    "We need some way to tell the RNN that it should skip these iterations. There’s an API for that: `masking`."
   ]
  },
  {
   "cell_type": "markdown",
   "metadata": {
    "id": "t1SxQSW85uk4"
   },
   "source": [
    "<div class=\"alert alert-block alert-success\"><b>tf.keras.layers.Masking</b><br>\n",
    "https://www.tensorflow.org/api_docs/python/tf/keras/layers/Masking</div>"
   ]
  },
  {
   "cell_type": "markdown",
   "metadata": {
    "id": "HGe0pvoxRrpF"
   },
   "source": [
    "### Model Leveraging Embedding Layer With Masking Enabled"
   ]
  },
  {
   "cell_type": "code",
   "execution_count": 9,
   "metadata": {
    "colab": {
     "base_uri": "https://localhost:8080/"
    },
    "id": "tU6YKNrDRrpF",
    "outputId": "51327a58-b4ae-4de8-c5e0-2e7e258d2a47"
   },
   "outputs": [
    {
     "name": "stdout",
     "output_type": "stream",
     "text": [
      "Model: \"model\"\n",
      "_________________________________________________________________\n",
      " Layer (type)                Output Shape              Param #   \n",
      "=================================================================\n",
      " input_1 (InputLayer)        [(None, None)]            0         \n",
      "                                                                 \n",
      " embedding (Embedding)       (None, None, 256)         256000    \n",
      "                                                                 \n",
      " bidirectional (Bidirection  (None, 64)                73984     \n",
      " al)                                                             \n",
      "                                                                 \n",
      " dropout (Dropout)           (None, 64)                0         \n",
      "                                                                 \n",
      " dense (Dense)               (None, 4)                 260       \n",
      "                                                                 \n",
      "=================================================================\n",
      "Total params: 330244 (1.26 MB)\n",
      "Trainable params: 330244 (1.26 MB)\n",
      "Non-trainable params: 0 (0.00 Byte)\n",
      "_________________________________________________________________\n",
      "Epoch 1/200\n",
      "3563/3563 [==============================] - 62s 14ms/step - loss: 0.4861 - accuracy: 0.8272 - val_loss: 0.4065 - val_accuracy: 0.8568\n",
      "Epoch 2/200\n",
      "   6/3563 [..............................] - ETA: 35s - loss: 0.4360 - accuracy: 0.8177"
     ]
    },
    {
     "name": "stderr",
     "output_type": "stream",
     "text": [
      "/usr/local/lib/python3.10/dist-packages/keras/src/engine/training.py:3000: UserWarning: You are saving your model as an HDF5 file via `model.save()`. This file format is considered legacy. We recommend using instead the native Keras format, e.g. `model.save('my_model.keras')`.\n",
      "  saving_api.save_model(\n"
     ]
    },
    {
     "name": "stdout",
     "output_type": "stream",
     "text": [
      "3563/3563 [==============================] - 33s 9ms/step - loss: 0.4159 - accuracy: 0.8527 - val_loss: 0.3908 - val_accuracy: 0.8608\n",
      "Epoch 3/200\n",
      "3563/3563 [==============================] - 34s 9ms/step - loss: 0.3982 - accuracy: 0.8586 - val_loss: 0.3832 - val_accuracy: 0.8630\n",
      "Epoch 4/200\n",
      "3563/3563 [==============================] - 33s 9ms/step - loss: 0.3859 - accuracy: 0.8636 - val_loss: 0.3789 - val_accuracy: 0.8652\n",
      "Epoch 5/200\n",
      "3563/3563 [==============================] - 33s 9ms/step - loss: 0.3759 - accuracy: 0.8670 - val_loss: 0.3754 - val_accuracy: 0.8660\n",
      "Epoch 6/200\n",
      "3563/3563 [==============================] - 33s 9ms/step - loss: 0.3674 - accuracy: 0.8706 - val_loss: 0.3747 - val_accuracy: 0.8670\n",
      "Epoch 7/200\n",
      "3563/3563 [==============================] - 33s 9ms/step - loss: 0.3594 - accuracy: 0.8734 - val_loss: 0.3756 - val_accuracy: 0.8663\n",
      "Epoch 8/200\n",
      "3563/3563 [==============================] - 34s 9ms/step - loss: 0.3510 - accuracy: 0.8771 - val_loss: 0.3838 - val_accuracy: 0.8658\n",
      "Epoch 9/200\n",
      "3563/3563 [==============================] - 33s 9ms/step - loss: 0.3426 - accuracy: 0.8794 - val_loss: 0.3840 - val_accuracy: 0.8652\n",
      "238/238 [==============================] - 3s 5ms/step - loss: 0.3913 - accuracy: 0.8645\n",
      "Test acc: 0.864\n"
     ]
    }
   ],
   "source": [
    "k.clear_session()\n",
    "inputs = tf.keras.Input(shape=(None,), dtype=\"int64\")\n",
    "embedded = layers.Embedding(input_dim=max_tokens\n",
    "                            ,output_dim=256\n",
    "                            ,mask_zero=True)(inputs)\n",
    "x = layers.Bidirectional(layers.LSTM(32))(embedded)\n",
    "x = layers.Dropout(0.5)(x)\n",
    "outputs = layers.Dense(4, activation=\"softmax\")(x)\n",
    "model = tf.keras.Model(inputs, outputs)\n",
    "model.compile(optimizer=\"rmsprop\",\n",
    "              loss=\"SparseCategoricalCrossentropy\",\n",
    "              metrics=[\"accuracy\"])\n",
    "model.summary()\n",
    "\n",
    "callbacks = [\n",
    "    tf.keras.callbacks.ModelCheckpoint(\"LSTM.h5\",save_best_only=True)\n",
    "    ,tf.keras.callbacks.EarlyStopping(monitor='val_accuracy', patience=3)\n",
    "]\n",
    "history=model.fit(int_train_ds, validation_data=int_val_ds, epochs=200, callbacks=callbacks)\n",
    "model = keras.models.load_model(\"LSTM.h5\")\n",
    "print(f\"Test acc: {model.evaluate(int_test_ds)[1]:.3f}\")"
   ]
  },
  {
   "cell_type": "markdown",
   "metadata": {
    "id": "ixoqrCPQ4TJh"
   },
   "source": [
    "### Post Modeling Metrics"
   ]
  },
  {
   "cell_type": "code",
   "execution_count": 10,
   "metadata": {
    "colab": {
     "base_uri": "https://localhost:8080/"
    },
    "id": "EKRWwMnp4TJh",
    "outputId": "f6d27fb1-60c7-4527-f58d-0e2e1c1b5e4b"
   },
   "outputs": [
    {
     "data": {
      "text/plain": [
       "dict_keys(['loss', 'accuracy', 'val_loss', 'val_accuracy'])"
      ]
     },
     "execution_count": 10,
     "metadata": {},
     "output_type": "execute_result"
    }
   ],
   "source": [
    "history_dict = history.history\n",
    "history_dict.keys()"
   ]
  },
  {
   "cell_type": "code",
   "execution_count": 11,
   "metadata": {
    "colab": {
     "base_uri": "https://localhost:8080/",
     "height": 206
    },
    "id": "90B-4UHy4TJi",
    "outputId": "11bd12d8-432b-439a-de43-ba8255ce2a63"
   },
   "outputs": [
    {
     "data": {
      "text/html": [
       "\n",
       "  <div id=\"df-7461bdaa-b8f8-4fee-ac9f-14cce42daf5f\" class=\"colab-df-container\">\n",
       "    <div>\n",
       "<style scoped>\n",
       "    .dataframe tbody tr th:only-of-type {\n",
       "        vertical-align: middle;\n",
       "    }\n",
       "\n",
       "    .dataframe tbody tr th {\n",
       "        vertical-align: top;\n",
       "    }\n",
       "\n",
       "    .dataframe thead th {\n",
       "        text-align: right;\n",
       "    }\n",
       "</style>\n",
       "<table border=\"1\" class=\"dataframe\">\n",
       "  <thead>\n",
       "    <tr style=\"text-align: right;\">\n",
       "      <th></th>\n",
       "      <th>loss</th>\n",
       "      <th>accuracy</th>\n",
       "      <th>val_loss</th>\n",
       "      <th>val_accuracy</th>\n",
       "    </tr>\n",
       "  </thead>\n",
       "  <tbody>\n",
       "    <tr>\n",
       "      <th>4</th>\n",
       "      <td>0.376</td>\n",
       "      <td>0.867</td>\n",
       "      <td>0.375</td>\n",
       "      <td>0.866</td>\n",
       "    </tr>\n",
       "    <tr>\n",
       "      <th>5</th>\n",
       "      <td>0.367</td>\n",
       "      <td>0.871</td>\n",
       "      <td>0.375</td>\n",
       "      <td>0.867</td>\n",
       "    </tr>\n",
       "    <tr>\n",
       "      <th>6</th>\n",
       "      <td>0.359</td>\n",
       "      <td>0.873</td>\n",
       "      <td>0.376</td>\n",
       "      <td>0.866</td>\n",
       "    </tr>\n",
       "    <tr>\n",
       "      <th>7</th>\n",
       "      <td>0.351</td>\n",
       "      <td>0.877</td>\n",
       "      <td>0.384</td>\n",
       "      <td>0.866</td>\n",
       "    </tr>\n",
       "    <tr>\n",
       "      <th>8</th>\n",
       "      <td>0.343</td>\n",
       "      <td>0.879</td>\n",
       "      <td>0.384</td>\n",
       "      <td>0.865</td>\n",
       "    </tr>\n",
       "  </tbody>\n",
       "</table>\n",
       "</div>\n",
       "    <div class=\"colab-df-buttons\">\n",
       "\n",
       "  <div class=\"colab-df-container\">\n",
       "    <button class=\"colab-df-convert\" onclick=\"convertToInteractive('df-7461bdaa-b8f8-4fee-ac9f-14cce42daf5f')\"\n",
       "            title=\"Convert this dataframe to an interactive table.\"\n",
       "            style=\"display:none;\">\n",
       "\n",
       "  <svg xmlns=\"http://www.w3.org/2000/svg\" height=\"24px\" viewBox=\"0 -960 960 960\">\n",
       "    <path d=\"M120-120v-720h720v720H120Zm60-500h600v-160H180v160Zm220 220h160v-160H400v160Zm0 220h160v-160H400v160ZM180-400h160v-160H180v160Zm440 0h160v-160H620v160ZM180-180h160v-160H180v160Zm440 0h160v-160H620v160Z\"/>\n",
       "  </svg>\n",
       "    </button>\n",
       "\n",
       "  <style>\n",
       "    .colab-df-container {\n",
       "      display:flex;\n",
       "      gap: 12px;\n",
       "    }\n",
       "\n",
       "    .colab-df-convert {\n",
       "      background-color: #E8F0FE;\n",
       "      border: none;\n",
       "      border-radius: 50%;\n",
       "      cursor: pointer;\n",
       "      display: none;\n",
       "      fill: #1967D2;\n",
       "      height: 32px;\n",
       "      padding: 0 0 0 0;\n",
       "      width: 32px;\n",
       "    }\n",
       "\n",
       "    .colab-df-convert:hover {\n",
       "      background-color: #E2EBFA;\n",
       "      box-shadow: 0px 1px 2px rgba(60, 64, 67, 0.3), 0px 1px 3px 1px rgba(60, 64, 67, 0.15);\n",
       "      fill: #174EA6;\n",
       "    }\n",
       "\n",
       "    .colab-df-buttons div {\n",
       "      margin-bottom: 4px;\n",
       "    }\n",
       "\n",
       "    [theme=dark] .colab-df-convert {\n",
       "      background-color: #3B4455;\n",
       "      fill: #D2E3FC;\n",
       "    }\n",
       "\n",
       "    [theme=dark] .colab-df-convert:hover {\n",
       "      background-color: #434B5C;\n",
       "      box-shadow: 0px 1px 3px 1px rgba(0, 0, 0, 0.15);\n",
       "      filter: drop-shadow(0px 1px 2px rgba(0, 0, 0, 0.3));\n",
       "      fill: #FFFFFF;\n",
       "    }\n",
       "  </style>\n",
       "\n",
       "    <script>\n",
       "      const buttonEl =\n",
       "        document.querySelector('#df-7461bdaa-b8f8-4fee-ac9f-14cce42daf5f button.colab-df-convert');\n",
       "      buttonEl.style.display =\n",
       "        google.colab.kernel.accessAllowed ? 'block' : 'none';\n",
       "\n",
       "      async function convertToInteractive(key) {\n",
       "        const element = document.querySelector('#df-7461bdaa-b8f8-4fee-ac9f-14cce42daf5f');\n",
       "        const dataTable =\n",
       "          await google.colab.kernel.invokeFunction('convertToInteractive',\n",
       "                                                    [key], {});\n",
       "        if (!dataTable) return;\n",
       "\n",
       "        const docLinkHtml = 'Like what you see? Visit the ' +\n",
       "          '<a target=\"_blank\" href=https://colab.research.google.com/notebooks/data_table.ipynb>data table notebook</a>'\n",
       "          + ' to learn more about interactive tables.';\n",
       "        element.innerHTML = '';\n",
       "        dataTable['output_type'] = 'display_data';\n",
       "        await google.colab.output.renderOutput(dataTable, element);\n",
       "        const docLink = document.createElement('div');\n",
       "        docLink.innerHTML = docLinkHtml;\n",
       "        element.appendChild(docLink);\n",
       "      }\n",
       "    </script>\n",
       "  </div>\n",
       "\n",
       "\n",
       "<div id=\"df-bd6345d6-36b5-4b5d-83af-076fccb557d5\">\n",
       "  <button class=\"colab-df-quickchart\" onclick=\"quickchart('df-bd6345d6-36b5-4b5d-83af-076fccb557d5')\"\n",
       "            title=\"Suggest charts.\"\n",
       "            style=\"display:none;\">\n",
       "\n",
       "<svg xmlns=\"http://www.w3.org/2000/svg\" height=\"24px\"viewBox=\"0 0 24 24\"\n",
       "     width=\"24px\">\n",
       "    <g>\n",
       "        <path d=\"M19 3H5c-1.1 0-2 .9-2 2v14c0 1.1.9 2 2 2h14c1.1 0 2-.9 2-2V5c0-1.1-.9-2-2-2zM9 17H7v-7h2v7zm4 0h-2V7h2v10zm4 0h-2v-4h2v4z\"/>\n",
       "    </g>\n",
       "</svg>\n",
       "  </button>\n",
       "\n",
       "<style>\n",
       "  .colab-df-quickchart {\n",
       "      --bg-color: #E8F0FE;\n",
       "      --fill-color: #1967D2;\n",
       "      --hover-bg-color: #E2EBFA;\n",
       "      --hover-fill-color: #174EA6;\n",
       "      --disabled-fill-color: #AAA;\n",
       "      --disabled-bg-color: #DDD;\n",
       "  }\n",
       "\n",
       "  [theme=dark] .colab-df-quickchart {\n",
       "      --bg-color: #3B4455;\n",
       "      --fill-color: #D2E3FC;\n",
       "      --hover-bg-color: #434B5C;\n",
       "      --hover-fill-color: #FFFFFF;\n",
       "      --disabled-bg-color: #3B4455;\n",
       "      --disabled-fill-color: #666;\n",
       "  }\n",
       "\n",
       "  .colab-df-quickchart {\n",
       "    background-color: var(--bg-color);\n",
       "    border: none;\n",
       "    border-radius: 50%;\n",
       "    cursor: pointer;\n",
       "    display: none;\n",
       "    fill: var(--fill-color);\n",
       "    height: 32px;\n",
       "    padding: 0;\n",
       "    width: 32px;\n",
       "  }\n",
       "\n",
       "  .colab-df-quickchart:hover {\n",
       "    background-color: var(--hover-bg-color);\n",
       "    box-shadow: 0 1px 2px rgba(60, 64, 67, 0.3), 0 1px 3px 1px rgba(60, 64, 67, 0.15);\n",
       "    fill: var(--button-hover-fill-color);\n",
       "  }\n",
       "\n",
       "  .colab-df-quickchart-complete:disabled,\n",
       "  .colab-df-quickchart-complete:disabled:hover {\n",
       "    background-color: var(--disabled-bg-color);\n",
       "    fill: var(--disabled-fill-color);\n",
       "    box-shadow: none;\n",
       "  }\n",
       "\n",
       "  .colab-df-spinner {\n",
       "    border: 2px solid var(--fill-color);\n",
       "    border-color: transparent;\n",
       "    border-bottom-color: var(--fill-color);\n",
       "    animation:\n",
       "      spin 1s steps(1) infinite;\n",
       "  }\n",
       "\n",
       "  @keyframes spin {\n",
       "    0% {\n",
       "      border-color: transparent;\n",
       "      border-bottom-color: var(--fill-color);\n",
       "      border-left-color: var(--fill-color);\n",
       "    }\n",
       "    20% {\n",
       "      border-color: transparent;\n",
       "      border-left-color: var(--fill-color);\n",
       "      border-top-color: var(--fill-color);\n",
       "    }\n",
       "    30% {\n",
       "      border-color: transparent;\n",
       "      border-left-color: var(--fill-color);\n",
       "      border-top-color: var(--fill-color);\n",
       "      border-right-color: var(--fill-color);\n",
       "    }\n",
       "    40% {\n",
       "      border-color: transparent;\n",
       "      border-right-color: var(--fill-color);\n",
       "      border-top-color: var(--fill-color);\n",
       "    }\n",
       "    60% {\n",
       "      border-color: transparent;\n",
       "      border-right-color: var(--fill-color);\n",
       "    }\n",
       "    80% {\n",
       "      border-color: transparent;\n",
       "      border-right-color: var(--fill-color);\n",
       "      border-bottom-color: var(--fill-color);\n",
       "    }\n",
       "    90% {\n",
       "      border-color: transparent;\n",
       "      border-bottom-color: var(--fill-color);\n",
       "    }\n",
       "  }\n",
       "</style>\n",
       "\n",
       "  <script>\n",
       "    async function quickchart(key) {\n",
       "      const quickchartButtonEl =\n",
       "        document.querySelector('#' + key + ' button');\n",
       "      quickchartButtonEl.disabled = true;  // To prevent multiple clicks.\n",
       "      quickchartButtonEl.classList.add('colab-df-spinner');\n",
       "      try {\n",
       "        const charts = await google.colab.kernel.invokeFunction(\n",
       "            'suggestCharts', [key], {});\n",
       "      } catch (error) {\n",
       "        console.error('Error during call to suggestCharts:', error);\n",
       "      }\n",
       "      quickchartButtonEl.classList.remove('colab-df-spinner');\n",
       "      quickchartButtonEl.classList.add('colab-df-quickchart-complete');\n",
       "    }\n",
       "    (() => {\n",
       "      let quickchartButtonEl =\n",
       "        document.querySelector('#df-bd6345d6-36b5-4b5d-83af-076fccb557d5 button');\n",
       "      quickchartButtonEl.style.display =\n",
       "        google.colab.kernel.accessAllowed ? 'block' : 'none';\n",
       "    })();\n",
       "  </script>\n",
       "</div>\n",
       "\n",
       "    </div>\n",
       "  </div>\n"
      ],
      "text/plain": [
       "    loss  accuracy  val_loss  val_accuracy\n",
       "4  0.376     0.867     0.375         0.866\n",
       "5  0.367     0.871     0.375         0.867\n",
       "6  0.359     0.873     0.376         0.866\n",
       "7  0.351     0.877     0.384         0.866\n",
       "8  0.343     0.879     0.384         0.865"
      ]
     },
     "execution_count": 11,
     "metadata": {},
     "output_type": "execute_result"
    }
   ],
   "source": [
    "losses = history.history['loss']\n",
    "accs = history.history['accuracy']\n",
    "val_losses = history.history['val_loss']\n",
    "val_accs = history.history['val_accuracy']\n",
    "epochs = len(losses)\n",
    "history_df=pd.DataFrame(history_dict)\n",
    "history_df.tail().round(3)"
   ]
  },
  {
   "cell_type": "code",
   "execution_count": 12,
   "metadata": {
    "colab": {
     "base_uri": "https://localhost:8080/",
     "height": 907
    },
    "id": "2JS3ohof4TJi",
    "outputId": "ee1845ab-41bf-4e2a-a3df-3a8f6537e44d"
   },
   "outputs": [
    {
     "name": "stderr",
     "output_type": "stream",
     "text": [
      "<ipython-input-4-273406cf14be>:2: MatplotlibDeprecationWarning: Auto-removal of overlapping axes is deprecated since 3.6 and will be removed two minor releases later; explicitly call ax.remove() as needed.\n",
      "  ax = plt.subplot(subplot)\n"
     ]
    },
    {
     "data": {
      "image/png": "[encoded data removed]",
      "text/plain": [
       "<Figure size 1600x1200 with 2 Axes>"
      ]
     },
     "metadata": {},
     "output_type": "display_data"
    }
   ],
   "source": [
    "plt.subplots(figsize=(16,12))\n",
    "plt.tight_layout()\n",
    "display_training_curves(history.history['accuracy'], history.history['val_accuracy'], 'accuracy', 211)\n",
    "display_training_curves(history.history['loss'], history.history['val_loss'], 'loss', 212)"
   ]
  },
  {
   "cell_type": "code",
   "execution_count": 13,
   "metadata": {
    "colab": {
     "base_uri": "https://localhost:8080/"
    },
    "id": "usVSo4U64TJj",
    "outputId": "7bd361e6-368b-407b-b8cf-f0ba21ab4dff"
   },
   "outputs": [
    {
     "name": "stdout",
     "output_type": "stream",
     "text": [
      "238/238 [==============================] - 3s 3ms/step\n"
     ]
    }
   ],
   "source": [
    "y_test = np.concatenate([y for x, y in int_test_ds], axis=0)\n",
    "pred_classes = np.argmax(model.predict(int_test_ds), axis=-1)"
   ]
  },
  {
   "cell_type": "code",
   "execution_count": 14,
   "metadata": {
    "colab": {
     "base_uri": "https://localhost:8080/"
    },
    "id": "l-S-XUiz4TJj",
    "outputId": "b00d3160-23b1-42e8-fb41-ee2707c31fa8"
   },
   "outputs": [
    {
     "name": "stdout",
     "output_type": "stream",
     "text": [
      "Classification Report\n",
      "              precision    recall  f1-score   support\n",
      "\n",
      "           0       0.87      0.88      0.87      1900\n",
      "           1       0.92      0.93      0.93      1900\n",
      "           2       0.86      0.80      0.83      1900\n",
      "           3       0.81      0.84      0.82      1900\n",
      "\n",
      "    accuracy                           0.86      7600\n",
      "   macro avg       0.86      0.86      0.86      7600\n",
      "weighted avg       0.86      0.86      0.86      7600\n",
      "\n",
      "Accuracy Score: 0.8644736842105263\n",
      "Root Mean Square Error: 0.6526262733230856\n"
     ]
    }
   ],
   "source": [
    "print_validation_report(y_test, pred_classes)"
   ]
  },
  {
   "cell_type": "code",
   "execution_count": 15,
   "metadata": {
    "colab": {
     "base_uri": "https://localhost:8080/",
     "height": 845
    },
    "id": "gLOvx0rH4TJj",
    "outputId": "7fae89bb-78ec-4e07-e24f-85f65c0f2dc5",
    "scrolled": false
   },
   "outputs": [
    {
     "data": {
      "image/png": "[encoded data removed]",
      "text/plain": [
       "<Figure size 1600x1200 with 1 Axes>"
      ]
     },
     "metadata": {},
     "output_type": "display_data"
    }
   ],
   "source": [
    "plot_confusion_matrix(y_test,pred_classes)"
   ]
  }
 ],
 "metadata": {
  "accelerator": "GPU",
  "colab": {
   "gpuType": "T4",
   "machine_shape": "hm",
   "provenance": []
  },
  "kernelspec": {
   "display_name": "Python 3 (ipykernel)",
   "language": "python",
   "name": "python3"
  },
  "language_info": {
   "codemirror_mode": {
    "name": "ipython",
    "version": 3
   },
   "file_extension": ".py",
   "mimetype": "text/x-python",
   "name": "python",
   "nbconvert_exporter": "python",
   "pygments_lexer": "ipython3",
   "version": "3.9.7"
  }
 },
 "nbformat": 4,
 "nbformat_minor": 1
}
