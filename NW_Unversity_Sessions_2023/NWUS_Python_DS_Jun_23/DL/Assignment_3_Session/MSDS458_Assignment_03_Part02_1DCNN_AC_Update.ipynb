{
 "cells": [
  {
   "cell_type": "markdown",
   "metadata": {
    "id": "xHJ-2a8LRro5"
   },
   "source": [
    "<img src=\"https://github.com/djp840/MSDS_458_Public/blob/main/images2/NorthwesternHeader.png?raw=1\" />"
   ]
  },
  {
   "cell_type": "markdown",
   "metadata": {
    "id": "k6cApW345ukg"
   },
   "source": [
    "## MSDS458 Research Assignment 3 - Part 02 1D CNN"
   ]
  },
  {
   "cell_type": "markdown",
   "metadata": {
    "id": "Hblbilyx5ukg"
   },
   "source": [
    "### Analyze AG_NEWS_SUBSET Data <br>\n",
    "\n",
    "AG is a collection of more than 1 million news articles. News articles have been gathered from more than 2000 news sources by ComeToMyHead in more than 1 year of activity. ComeToMyHead is an academic news search engine which has been running since July, 2004. The dataset is provided by the academic comunity for research purposes in data mining (clustering, classification, etc), information retrieval (ranking, search, etc), xml, data compression, data streaming, and any other non-commercial activity.<br>\n",
    "\n",
    "For more information, please refer to the link http://www.di.unipi.it/~gulli/AG_corpus_of_news_articles.html<br>\n",
    "\n",
    "\n",
    "The AG's news topic classification dataset is constructed by choosing 4 largest classes (**World**, **Sports**, **Business**, and **Sci/Tech**) from the original corpus. Each class contains 30,000 training samples and 1,900 testing samples. The total number of training samples is 120,000 and testing 7,600.<br>\n",
    "\n",
    "Homepage: https://arxiv.org/abs/1509.01626<br>\n",
    "\n",
    "Source code: tfds.text.AGNewsSubset\n",
    "\n",
    "Versions:\n",
    "\n",
    "1.0.0 (default): No release notes.\n",
    "Download size: 11.24 MiB\n",
    "\n",
    "Dataset size: 35.79 MiB"
   ]
  },
  {
   "cell_type": "markdown",
   "metadata": {
    "id": "95DGbFzR5uki"
   },
   "source": [
    "### References\n",
    "1. Deep Learning with Python, Francois Chollet (https://learning.oreilly.com/library/view/deep-learning-with/9781617296864/)\n",
    " * Chapter 10: Deep learning for time series\n",
    " * Chapter 11: Deep learning for text\n",
    "2. Deep Learning A Visual Approach, Andrew Glassner (https://learning.oreilly.com/library/view/deep-learning/9781098129019/)\n",
    " * Chapter 19: Recurrent Neural Networks\n",
    " * Chapter 20: Attention and Transformers"
   ]
  },
  {
   "cell_type": "markdown",
   "metadata": {
    "id": "vT8kwmgNRro7"
   },
   "source": [
    "### Processing words as a sequence: The sequence model approach\n",
    "\n",
    "To implement a sequence model, you’d start by representing your input samples as sequences of integer indices (one integer standing for one word). Then, you’d map each integer to a vector to obtain vector sequences. Finally, you’d feed these sequences of vectors into a stack of layers that could cross-correlate features from adjacent vectors, such as a 1D convnet, a RNN, or a Transformer."
   ]
  },
  {
   "cell_type": "markdown",
   "metadata": {
    "id": "x4AQ7tuV5ukj"
   },
   "source": [
    "For some time around 2016–2017, bidirectional RNNs (in particular, `bidirectional LSTMs`) were considered to be the state of the art for sequence modeling. However, nowadays sequence modeling is almost universally done with `Transformers`.\n",
    "\n",
    "F. Chollet: \"One-dimensional convnets were never very popular in NLP, even though, a residual stack of depthwise-separable 1D convolutions can often achieve comparable performance to a bidirectional LSTM, at a greatly reduced computational cost.\""
   ]
  },
  {
   "cell_type": "markdown",
   "metadata": {
    "id": "Ydgzc1l15ukl"
   },
   "source": [
    "### Import Packages"
   ]
  },
  {
   "cell_type": "code",
   "execution_count": 1,
   "metadata": {
    "id": "9d9VZa_T5ukm"
   },
   "outputs": [],
   "source": [
    "from packaging import version\n",
    "import pandas as pd\n",
    "import numpy as np\n",
    "import re\n",
    "import matplotlib.pyplot as plt\n",
    "import string\n",
    "\n",
    "import seaborn as sns\n",
    "from sklearn.metrics import mean_squared_error as MSE\n",
    "from sklearn.metrics import accuracy_score\n",
    "from sklearn.metrics import confusion_matrix, classification_report\n",
    "\n",
    "import tensorflow as tf\n",
    "from tensorflow import keras\n",
    "import tensorflow_datasets as tfds\n",
    "from tensorflow import keras\n",
    "from tensorflow.keras import layers\n",
    "import tensorflow.keras.backend as k\n",
    "\n",
    "import nltk\n",
    "from nltk.corpus import stopwords"
   ]
  },
  {
   "cell_type": "markdown",
   "metadata": {
    "id": "SNt8VbLK5ukp"
   },
   "source": [
    "### Verify TensorFlow version"
   ]
  },
  {
   "cell_type": "code",
   "execution_count": 2,
   "metadata": {
    "colab": {
     "base_uri": "https://localhost:8080/"
    },
    "id": "kujC9adr5ukq",
    "outputId": "6b6b9a0a-74da-4a92-a135-b87349389540"
   },
   "outputs": [
    {
     "name": "stdout",
     "output_type": "stream",
     "text": [
      "This notebook requires TensorFlow 2.0 or above\n",
      "TensorFlow version:  2.13.0\n"
     ]
    }
   ],
   "source": [
    "print(\"This notebook requires TensorFlow 2.0 or above\")\n",
    "print(\"TensorFlow version: \", tf.__version__)\n",
    "assert version.parse(tf.__version__).release[0] >=2"
   ]
  },
  {
   "cell_type": "markdown",
   "metadata": {
    "id": "vNfYcuE06miS"
   },
   "source": [
    "### Stopword Function"
   ]
  },
  {
   "cell_type": "code",
   "execution_count": 3,
   "metadata": {
    "id": "pRlDlyuG6miT"
   },
   "outputs": [],
   "source": []
  },
  {
   "cell_type": "markdown",
   "metadata": {
    "id": "kxJNPLHZ6miT"
   },
   "source": [
    "### Plotting Model Performance Metrics"
   ]
  },
  {
   "cell_type": "code",
   "execution_count": 4,
   "metadata": {
    "id": "FpE75Sps6miT"
   },
   "outputs": [],
   "source": [
    "def display_training_curves(training, validation, title, subplot):\n",
    "  ax = plt.subplot(subplot)\n",
    "  ax.plot(training)\n",
    "  ax.plot(validation)\n",
    "  ax.set_title('model '+ title)\n",
    "  ax.set_ylabel(title)\n",
    "  ax.set_xlabel('epoch')\n",
    "  ax.legend(['training', 'validation'])\n",
    "\n",
    "def print_validation_report(test_labels, predictions):\n",
    "    print(\"Classification Report\")\n",
    "    print(classification_report(test_labels, predictions))\n",
    "    print('Accuracy Score: {}'.format(accuracy_score(test_labels, predictions)))\n",
    "    print('Root Mean Square Error: {}'.format(np.sqrt(MSE(test_labels, predictions))))\n",
    "\n",
    "def plot_confusion_matrix(y_true, y_pred):\n",
    "    mtx = confusion_matrix(y_true, y_pred)\n",
    "    fig, ax = plt.subplots(figsize=(12,8))\n",
    "    sns.heatmap(mtx, annot=True, fmt='d', linewidths=.75,  cbar=False, ax=ax,cmap='Blues',linecolor='white')\n",
    "    #  square=True,\n",
    "    plt.ylabel('true label')\n",
    "    plt.xlabel('predicted label')"
   ]
  },
  {
   "cell_type": "markdown",
   "metadata": {
    "id": "z1Gn6wYG5uks"
   },
   "source": [
    "### Mount Google Drive to Colab environment"
   ]
  },
  {
   "cell_type": "code",
   "execution_count": 5,
   "metadata": {
    "id": "8jHzLMMB5ukt"
   },
   "outputs": [],
   "source": [
    "#from google.colab import drive\n",
    "#drive.mount('/content/gdrive')"
   ]
  },
  {
   "cell_type": "markdown",
   "metadata": {
    "id": "XvqFLia1Rro9"
   },
   "source": [
    "### Load Data"
   ]
  },
  {
   "cell_type": "code",
   "execution_count": 6,
   "metadata": {
    "colab": {
     "base_uri": "https://localhost:8080/"
    },
    "id": "EsypDzDARro-",
    "outputId": "9ca6ff6b-8f36-4ebb-d82e-d28488198ac5"
   },
   "outputs": [
    {
     "name": "stdout",
     "output_type": "stream",
     "text": [
      "W0912 03:53:57.461770 135318033879040 download_and_prepare.py:46] ***`tfds build` should be used instead of `download_and_prepare`.***\n",
      "INFO[build.py]: Loading dataset ag_news_subset from imports: tensorflow_datasets.datasets.ag_news_subset.ag_news_subset_dataset_builder\n",
      "2023-09-12 03:53:58.748388: W tensorflow/compiler/tf2tensorrt/utils/py_utils.cc:38] TF-TRT Warning: Could not find TensorRT\n",
      "2023-09-12 03:54:00.609606: W tensorflow/tsl/platform/cloud/google_auth_provider.cc:184] All attempts to get a Google authentication bearer token failed, returning an empty token. Retrieving token from files failed with \"NOT_FOUND: Could not locate the credentials file.\". Retrieving token from GCE failed with \"NOT_FOUND: Error executing an HTTP request: HTTP response code 404\".\n",
      "INFO[dataset_info.py]: Load pre-computed DatasetInfo (eg: splits, num examples,...) from GCS: ag_news_subset/1.0.0\n",
      "INFO[dataset_info.py]: Load dataset info from /tmp/tmpph95ddgwtfds\n",
      "INFO[dataset_info.py]: Fields info.[description, splits, supervised_keys, module_name] from disk and from code do not match. Keeping the one from code.\n",
      "INFO[build.py]: download_and_prepare for dataset ag_news_subset/1.0.0...\n",
      "INFO[dataset_builder.py]: Generating dataset ag_news_subset (/root/tensorflow_datasets/ag_news_subset/1.0.0)\n",
      "\u001b[1mDownloading and preparing dataset 11.24 MiB (download: 11.24 MiB, generated: 35.79 MiB, total: 47.03 MiB) to /root/tensorflow_datasets/ag_news_subset/1.0.0...\u001b[0m\n",
      "Dl Completed...: 0 url [00:00, ? url/s]\n",
      "Dl Size...: 0 MiB [00:00, ? MiB/s]\u001b[A\n",
      "\n",
      "                                       \n",
      "\n",
      "\u001b[A\u001b[A\n",
      "\u001b[AINFO[download_manager.py]: Downloading https://drive.google.com/uc?export=download&id=0Bz8a_Dbh9QhbUDNpeUdjb0wxRms into /root/tensorflow_datasets/downloads/ucexport_download_id_0Bz8a_Dbh9QhbUDNpeUdjb0wxj4g1umFAV8OV-uDwxSJR0LdxO_k1jxMuFWwAfNX9jos.tmp.c4cd26fb644d4771a97f5a52344425c6...\n",
      "Dl Completed...: 0 url [00:00, ? url/s]\n",
      "\n",
      "Extraction completed...: 0 file [00:00, ? file/s]\u001b[A\u001b[A\n",
      "Dl Completed...:   0% 0/1 [00:00<?, ? url/s]\n",
      "Dl Size...: 0 MiB [00:00, ? MiB/s]\u001b[A\n",
      "\n",
      "Dl Completed...:   0% 0/1 [00:12<?, ? url/s]\n",
      "Dl Size...:   0% 0/11 [00:12<?, ? MiB/s]\u001b[A\n",
      "\n",
      "Extraction completed...: 0 file [00:12, ? file/s]\u001b[A\u001b[A\n",
      "Dl Completed...:   0% 0/1 [00:12<?, ? url/s]\n",
      "Dl Size...:   9% 1/11 [00:12<02:02, 12.25s/ MiB]\u001b[A\n",
      "\n",
      "Dl Completed...:   0% 0/1 [00:12<?, ? url/s]\n",
      "Dl Size...:  18% 2/11 [00:12<01:50, 12.25s/ MiB]\u001b[A\n",
      "\n",
      "Dl Completed...:   0% 0/1 [00:12<?, ? url/s]\n",
      "Dl Size...:  27% 3/11 [00:12<01:37, 12.25s/ MiB]\u001b[A\n",
      "\n",
      "Dl Completed...:   0% 0/1 [00:12<?, ? url/s]\n",
      "Dl Size...:  36% 4/11 [00:12<01:25, 12.25s/ MiB]\u001b[A\n",
      "\n",
      "Dl Completed...:   0% 0/1 [00:12<?, ? url/s]\n",
      "Dl Size...:  45% 5/11 [00:12<01:13, 12.25s/ MiB]\u001b[A\n",
      "\n",
      "Dl Completed...:   0% 0/1 [00:12<?, ? url/s]\n",
      "Dl Size...:  55% 6/11 [00:12<01:01, 12.25s/ MiB]\u001b[A\n",
      "\n",
      "Dl Completed...:   0% 0/1 [00:12<?, ? url/s]\n",
      "Dl Size...:  64% 7/11 [00:12<00:48, 12.25s/ MiB]\u001b[A\n",
      "\n",
      "Dl Completed...:   0% 0/1 [00:12<?, ? url/s]\n",
      "Dl Size...:  73% 8/11 [00:12<00:36, 12.25s/ MiB]\u001b[A\n",
      "\n",
      "Dl Completed...:   0% 0/1 [00:12<?, ? url/s]\n",
      "Dl Size...:  82% 9/11 [00:12<00:24, 12.25s/ MiB]\u001b[A\n",
      "\n",
      "Dl Completed...:   0% 0/1 [00:12<?, ? url/s]\n",
      "Dl Size...:  91% 10/11 [00:12<00:12, 12.25s/ MiB]\u001b[A\n",
      "\n",
      "Extraction completed...: 0 file [00:12, ? file/s]\u001b[A\u001b[A\n",
      "Dl Completed...:   0% 0/1 [00:12<?, ? url/s]\n",
      "Dl Size...: 100% 11/11 [00:12<00:00,  1.23 MiB/s]\u001b[A\n",
      "\n",
      "Dl Completed...: 100% 1/1 [00:12<00:00, 12.36s/ url]\n",
      "Dl Size...: 100% 11/11 [00:12<00:00,  1.23 MiB/s]\u001b[A\n",
      "\n",
      "Dl Completed...: 100% 1/1 [00:12<00:00, 12.36s/ url]\n",
      "Dl Size...: 100% 11/11 [00:12<00:00,  1.23 MiB/s]\u001b[A\n",
      "\n",
      "Dl Completed...: 100% 1/1 [00:12<00:00, 12.36s/ url]\n",
      "Dl Size...: 100% 11/11 [00:12<00:00,  1.23 MiB/s]\u001b[A\n",
      "\n",
      "Dl Completed...: 100% 1/1 [00:12<00:00, 12.36s/ url]\n",
      "Dl Size...: 100% 11/11 [00:12<00:00,  1.23 MiB/s]\u001b[A\n",
      "\n",
      "Dl Completed...: 100% 1/1 [00:12<00:00, 12.36s/ url]\n",
      "Dl Size...: 100% 11/11 [00:12<00:00,  1.23 MiB/s]\u001b[A\n",
      "\n",
      "Extraction completed...:   0% 0/4 [00:12<?, ? file/s]\u001b[A\u001b[A\n",
      "\n",
      "Dl Completed...: 100% 1/1 [00:12<00:00, 12.36s/ url]\n",
      "Dl Size...: 100% 11/11 [00:12<00:00,  1.23 MiB/s]\u001b[A\n",
      "\n",
      "Dl Completed...: 100% 1/1 [00:12<00:00, 12.36s/ url]\n",
      "Dl Size...: 100% 11/11 [00:12<00:00,  1.23 MiB/s]\u001b[A\n",
      "\n",
      "Dl Completed...: 100% 1/1 [00:12<00:00, 12.36s/ url]\n",
      "Dl Size...: 100% 11/11 [00:12<00:00,  1.23 MiB/s]\u001b[A\n",
      "\n",
      "Dl Completed...: 100% 1/1 [00:12<00:00, 12.36s/ url]\n",
      "Dl Size...: 100% 11/11 [00:12<00:00,  1.23 MiB/s]\u001b[A\n",
      "\n",
      "Extraction completed...: 100% 4/4 [00:12<00:00,  3.15s/ file]\n",
      "Dl Size...: 100% 11/11 [00:12<00:00,  1.14s/ MiB]\n",
      "Dl Completed...: 100% 1/1 [00:12<00:00, 12.59s/ url]\n",
      "Generating splits...:   0% 0/2 [00:00<?, ? splits/s]\n",
      "Generating train examples...:   0% 0/120000 [00:00<?, ? examples/s]\u001b[A\n",
      "Generating train examples...:   1% 1241/120000 [00:00<00:09, 12404.36 examples/s]\u001b[A\n",
      "Generating train examples...:   2% 2498/120000 [00:00<00:09, 12496.42 examples/s]\u001b[A\n",
      "Generating train examples...:   3% 3748/120000 [00:00<00:09, 12475.16 examples/s]\u001b[A\n",
      "Generating train examples...:   4% 5024/120000 [00:00<00:09, 12583.69 examples/s]\u001b[A\n",
      "Generating train examples...:   5% 6283/120000 [00:00<00:09, 12525.28 examples/s]\u001b[A\n",
      "Generating train examples...:   6% 7561/120000 [00:00<00:08, 12608.26 examples/s]\u001b[A\n",
      "Generating train examples...:   7% 8822/120000 [00:00<00:08, 12545.28 examples/s]\u001b[A\n",
      "Generating train examples...:   8% 10092/120000 [00:00<00:08, 12592.40 examples/s]\u001b[A\n",
      "Generating train examples...:   9% 11352/120000 [00:00<00:08, 12561.86 examples/s]\u001b[A\n",
      "Generating train examples...:  11% 12617/120000 [00:01<00:08, 12586.98 examples/s]\u001b[A\n",
      "Generating train examples...:  12% 13876/120000 [00:01<00:08, 12576.02 examples/s]\u001b[A\n",
      "Generating train examples...:  13% 15140/120000 [00:01<00:08, 12594.15 examples/s]\u001b[A\n",
      "Generating train examples...:  14% 16400/120000 [00:01<00:08, 12588.10 examples/s]\u001b[A\n",
      "Generating train examples...:  15% 17667/120000 [00:01<00:08, 12612.57 examples/s]\u001b[A\n",
      "Generating train examples...:  16% 18929/120000 [00:01<00:08, 12571.78 examples/s]\u001b[A\n",
      "Generating train examples...:  17% 20198/120000 [00:01<00:07, 12603.57 examples/s]\u001b[A\n",
      "Generating train examples...:  18% 21459/120000 [00:01<00:07, 12519.15 examples/s]\u001b[A\n",
      "Generating train examples...:  19% 22727/120000 [00:01<00:07, 12564.54 examples/s]\u001b[A\n",
      "Generating train examples...:  20% 23984/120000 [00:01<00:07, 12548.55 examples/s]\u001b[A\n",
      "Generating train examples...:  21% 25239/120000 [00:02<00:07, 12499.30 examples/s]\u001b[A\n",
      "Generating train examples...:  22% 26490/120000 [00:02<00:07, 12472.43 examples/s]\u001b[A\n",
      "Generating train examples...:  23% 27738/120000 [00:02<00:07, 12469.02 examples/s]\u001b[A\n",
      "Generating train examples...:  24% 28985/120000 [00:02<00:07, 12455.86 examples/s]\u001b[A\n",
      "Generating train examples...:  25% 30242/120000 [00:02<00:07, 12487.32 examples/s]\u001b[A\n",
      "Generating train examples...:  26% 31501/120000 [00:02<00:07, 12515.99 examples/s]\u001b[A\n",
      "Generating train examples...:  27% 32753/120000 [00:02<00:06, 12506.20 examples/s]\u001b[A\n",
      "Generating train examples...:  28% 34019/120000 [00:02<00:06, 12552.06 examples/s]\u001b[A\n",
      "Generating train examples...:  29% 35275/120000 [00:02<00:06, 12478.14 examples/s]\u001b[A\n",
      "Generating train examples...:  30% 36528/120000 [00:02<00:06, 12490.81 examples/s]\u001b[A\n",
      "Generating train examples...:  31% 37785/120000 [00:03<00:06, 12513.81 examples/s]\u001b[A\n",
      "Generating train examples...:  33% 39051/120000 [00:03<00:06, 12554.66 examples/s]\u001b[A\n",
      "Generating train examples...:  34% 40307/120000 [00:03<00:06, 12467.88 examples/s]\u001b[A\n",
      "Generating train examples...:  35% 41554/120000 [00:03<00:06, 12172.45 examples/s]\u001b[A\n",
      "Generating train examples...:  36% 42773/120000 [00:03<00:06, 11819.18 examples/s]\u001b[A\n",
      "Generating train examples...:  37% 44020/120000 [00:03<00:06, 12006.12 examples/s]\u001b[A\n",
      "Generating train examples...:  38% 45240/120000 [00:03<00:06, 12060.83 examples/s]\u001b[A\n",
      "Generating train examples...:  39% 46491/120000 [00:03<00:06, 12191.26 examples/s]\u001b[A\n",
      "Generating train examples...:  40% 47712/120000 [00:03<00:05, 12189.96 examples/s]\u001b[A\n",
      "Generating train examples...:  41% 48951/120000 [00:03<00:05, 12248.26 examples/s]\u001b[A\n",
      "Generating train examples...:  42% 50182/120000 [00:04<00:05, 12265.57 examples/s]\u001b[A\n",
      "Generating train examples...:  43% 51437/120000 [00:04<00:05, 12347.63 examples/s]\u001b[A\n",
      "Generating train examples...:  44% 52673/120000 [00:04<00:05, 12301.87 examples/s]\u001b[A\n",
      "Generating train examples...:  45% 53904/120000 [00:04<00:05, 12266.23 examples/s]\u001b[A\n",
      "Generating train examples...:  46% 55150/120000 [00:04<00:05, 12321.87 examples/s]\u001b[A\n",
      "Generating train examples...:  47% 56383/120000 [00:04<00:05, 12174.50 examples/s]\u001b[A\n",
      "Generating train examples...:  48% 57634/120000 [00:04<00:05, 12273.35 examples/s]\u001b[A\n",
      "Generating train examples...:  49% 58862/120000 [00:04<00:04, 12230.96 examples/s]\u001b[A\n",
      "Generating train examples...:  50% 60137/120000 [00:04<00:04, 12382.81 examples/s]\u001b[A\n",
      "Generating train examples...:  51% 61395/120000 [00:04<00:04, 12439.50 examples/s]\u001b[A\n",
      "Generating train examples...:  52% 62663/120000 [00:05<00:04, 12510.27 examples/s]\u001b[A\n",
      "Generating train examples...:  53% 63925/120000 [00:05<00:04, 12541.16 examples/s]\u001b[A\n",
      "Generating train examples...:  54% 65180/120000 [00:05<00:04, 12522.62 examples/s]\u001b[A\n",
      "Generating train examples...:  55% 66439/120000 [00:05<00:04, 12540.47 examples/s]\u001b[A\n",
      "Generating train examples...:  56% 67694/120000 [00:05<00:04, 12390.73 examples/s]\u001b[A\n",
      "Generating train examples...:  57% 68934/120000 [00:05<00:04, 12390.61 examples/s]\u001b[A\n",
      "Generating train examples...:  58% 70197/120000 [00:05<00:03, 12461.58 examples/s]\u001b[A\n",
      "Generating train examples...:  60% 71447/120000 [00:05<00:03, 12471.06 examples/s]\u001b[A\n",
      "Generating train examples...:  61% 72712/120000 [00:05<00:03, 12522.10 examples/s]\u001b[A\n",
      "Generating train examples...:  62% 73970/120000 [00:05<00:03, 12536.69 examples/s]\u001b[A\n",
      "Generating train examples...:  63% 75241/120000 [00:06<00:03, 12587.38 examples/s]\u001b[A\n",
      "Generating train examples...:  64% 76509/120000 [00:06<00:03, 12612.12 examples/s]\u001b[A\n",
      "Generating train examples...:  65% 77775/120000 [00:06<00:03, 12625.08 examples/s]\u001b[A\n",
      "Generating train examples...:  66% 79038/120000 [00:06<00:03, 12572.66 examples/s]\u001b[A\n",
      "Generating train examples...:  67% 80307/120000 [00:06<00:03, 12606.31 examples/s]\u001b[A\n",
      "Generating train examples...:  68% 81568/120000 [00:06<00:03, 12466.45 examples/s]\u001b[A\n",
      "Generating train examples...:  69% 82821/120000 [00:06<00:02, 12483.64 examples/s]\u001b[A\n",
      "Generating train examples...:  70% 84070/120000 [00:06<00:02, 12442.17 examples/s]\u001b[A\n",
      "Generating train examples...:  71% 85341/120000 [00:06<00:02, 12520.38 examples/s]\u001b[A\n",
      "Generating train examples...:  72% 86594/120000 [00:06<00:02, 12521.14 examples/s]\u001b[A\n",
      "Generating train examples...:  73% 87877/120000 [00:07<00:02, 12612.81 examples/s]\u001b[A\n",
      "Generating train examples...:  74% 89139/120000 [00:07<00:02, 12587.25 examples/s]\u001b[A\n",
      "Generating train examples...:  75% 90413/120000 [00:07<00:02, 12631.19 examples/s]\u001b[A\n",
      "Generating train examples...:  76% 91681/120000 [00:07<00:02, 12645.29 examples/s]\u001b[A\n",
      "Generating train examples...:  77% 92946/120000 [00:07<00:02, 12619.64 examples/s]\u001b[A\n",
      "Generating train examples...:  79% 94209/120000 [00:07<00:02, 12574.18 examples/s]\u001b[A\n",
      "Generating train examples...:  80% 95467/120000 [00:07<00:01, 12541.53 examples/s]\u001b[A\n",
      "Generating train examples...:  81% 96747/120000 [00:07<00:01, 12616.68 examples/s]\u001b[A\n",
      "Generating train examples...:  82% 98009/120000 [00:07<00:01, 12579.47 examples/s]\u001b[A\n",
      "Generating train examples...:  83% 99268/120000 [00:07<00:01, 12576.55 examples/s]\u001b[A\n",
      "Generating train examples...:  84% 100540/120000 [00:08<00:01, 12617.07 examples/s]\u001b[A\n",
      "Generating train examples...:  85% 101809/120000 [00:08<00:01, 12635.89 examples/s]\u001b[A\n",
      "Generating train examples...:  86% 103073/120000 [00:08<00:01, 12579.79 examples/s]\u001b[A\n",
      "Generating train examples...:  87% 104335/120000 [00:08<00:01, 12590.28 examples/s]\u001b[A\n",
      "Generating train examples...:  88% 105604/120000 [00:08<00:01, 12617.40 examples/s]\u001b[A\n",
      "Generating train examples...:  89% 106880/120000 [00:08<00:01, 12658.06 examples/s]\u001b[A\n",
      "Generating train examples...:  90% 108164/120000 [00:08<00:00, 12711.58 examples/s]\u001b[A\n",
      "Generating train examples...:  91% 109438/120000 [00:08<00:00, 12717.19 examples/s]\u001b[A\n",
      "Generating train examples...:  92% 110710/120000 [00:08<00:00, 12680.38 examples/s]\u001b[A\n",
      "Generating train examples...:  93% 111990/120000 [00:08<00:00, 12713.89 examples/s]\u001b[A\n",
      "Generating train examples...:  94% 113262/120000 [00:09<00:00, 12679.62 examples/s]\u001b[A\n",
      "Generating train examples...:  95% 114531/120000 [00:09<00:00, 12648.78 examples/s]\u001b[A\n",
      "Generating train examples...:  97% 115811/120000 [00:09<00:00, 12693.63 examples/s]\u001b[A\n",
      "Generating train examples...:  98% 117083/120000 [00:09<00:00, 12700.17 examples/s]\u001b[A\n",
      "Generating train examples...:  99% 118378/120000 [00:09<00:00, 12772.17 examples/s]\u001b[A\n",
      "Generating train examples...: 100% 119661/120000 [00:09<00:00, 12788.75 examples/s]\u001b[A\n",
      "                                                                                   \u001b[A\n",
      "Shuffling /root/tensorflow_datasets/ag_news_subset/1.0.0.incompleteVT1TWL/ag_news_subset-train.tfrecord*...:   0% 0/120000 [00:00<?, ? examples/s]\u001b[A\n",
      "Shuffling /root/tensorflow_datasets/ag_news_subset/1.0.0.incompleteVT1TWL/ag_news_subset-train.tfrecord*...:   9% 11292/120000 [00:00<00:00, 112910.42 examples/s]\u001b[A\n",
      "Shuffling /root/tensorflow_datasets/ag_news_subset/1.0.0.incompleteVT1TWL/ag_news_subset-train.tfrecord*...:  52% 62020/120000 [00:00<00:00, 344864.30 examples/s]\u001b[A\n",
      "Shuffling /root/tensorflow_datasets/ag_news_subset/1.0.0.incompleteVT1TWL/ag_news_subset-train.tfrecord*...:  95% 113990/120000 [00:00<00:00, 424681.15 examples/s]\u001b[A\n",
      "INFO[writer.py]: Done writing /root/tensorflow_datasets/ag_news_subset/1.0.0.incompleteVT1TWL/ag_news_subset-train.tfrecord*. Number of examples: 120000 (shards: [120000])\n",
      "Generating splits...:  50% 1/2 [00:09<00:09,  9.93s/ splits]\n",
      "Generating test examples...:   0% 0/7600 [00:00<?, ? examples/s]\u001b[A\n",
      "Generating test examples...:  17% 1269/7600 [00:00<00:00, 12687.89 examples/s]\u001b[A\n",
      "Generating test examples...:  33% 2538/7600 [00:00<00:00, 12653.01 examples/s]\u001b[A\n",
      "Generating test examples...:  50% 3804/7600 [00:00<00:00, 12649.44 examples/s]\u001b[A\n",
      "Generating test examples...:  67% 5087/7600 [00:00<00:00, 12718.34 examples/s]\u001b[A\n",
      "Generating test examples...:  84% 6359/7600 [00:00<00:00, 12661.05 examples/s]\u001b[A\n",
      "                                                                              \u001b[A\n",
      "Shuffling /root/tensorflow_datasets/ag_news_subset/1.0.0.incompleteVT1TWL/ag_news_subset-test.tfrecord*...:   0% 0/7600 [00:00<?, ? examples/s]\u001b[A\n",
      "INFO[writer.py]: Done writing /root/tensorflow_datasets/ag_news_subset/1.0.0.incompleteVT1TWL/ag_news_subset-test.tfrecord*. Number of examples: 7600 (shards: [7600])\n",
      "\u001b[1mDataset ag_news_subset downloaded and prepared to /root/tensorflow_datasets/ag_news_subset/1.0.0. Subsequent calls will reuse this data.\u001b[0m\n",
      "INFO[build.py]: Dataset generation complete...\n",
      "\n",
      "tfds.core.DatasetInfo(\n",
      "    name='ag_news_subset',\n",
      "    full_name='ag_news_subset/1.0.0',\n",
      "    description=\"\"\"\n",
      "    AG is a collection of more than 1 million news articles. News articles have been\n",
      "    gathered from more than 2000 news sources by ComeToMyHead in more than 1 year of\n",
      "    activity. ComeToMyHead is an academic news search engine which has been running\n",
      "    since July, 2004. The dataset is provided by the academic comunity for research\n",
      "    purposes in data mining (clustering, classification, etc), information retrieval\n",
      "    (ranking, search, etc), xml, data compression, data streaming, and any other\n",
      "    non-commercial activity. For more information, please refer to the link\n",
      "    http://www.di.unipi.it/~gulli/AG_corpus_of_news_articles.html .\n",
      "    \n",
      "    The AG's news topic classification dataset is constructed by Xiang Zhang\n",
      "    (xiang.zhang@nyu.edu) from the dataset above. It is used as a text\n",
      "    classification benchmark in the following paper: Xiang Zhang, Junbo Zhao, Yann\n",
      "    LeCun. Character-level Convolutional Networks for Text Classification. Advances\n",
      "    in Neural Information Processing Systems 28 (NIPS 2015).\n",
      "    \n",
      "    The AG's news topic classification dataset is constructed by choosing 4 largest\n",
      "    classes from the original corpus. Each class contains 30,000 training samples\n",
      "    and 1,900 testing samples. The total number of training samples is 120,000 and\n",
      "    testing 7,600.\n",
      "    \"\"\",\n",
      "    homepage='https://arxiv.org/abs/1509.01626',\n",
      "    data_path=PosixGPath('/tmp/tmpph95ddgwtfds'),\n",
      "    file_format=tfrecord,\n",
      "    download_size=11.24 MiB,\n",
      "    dataset_size=35.79 MiB,\n",
      "    features=FeaturesDict({\n",
      "        'description': Text(shape=(), dtype=string),\n",
      "        'label': ClassLabel(shape=(), dtype=int64, num_classes=4),\n",
      "        'title': Text(shape=(), dtype=string),\n",
      "    }),\n",
      "    supervised_keys=('description', 'label'),\n",
      "    disable_shuffling=False,\n",
      "    splits={\n",
      "        'test': <SplitInfo num_examples=7600, num_shards=1>,\n",
      "        'train': <SplitInfo num_examples=120000, num_shards=1>,\n",
      "    },\n",
      "    citation=\"\"\"@misc{zhang2015characterlevel,\n",
      "        title={Character-level Convolutional Networks for Text Classification},\n",
      "        author={Xiang Zhang and Junbo Zhao and Yann LeCun},\n",
      "        year={2015},\n",
      "        eprint={1509.01626},\n",
      "        archivePrefix={arXiv},\n",
      "        primaryClass={cs.LG}\n",
      "    }\"\"\",\n",
      ")\n",
      "\n"
     ]
    }
   ],
   "source": [
    "# register  ag_news_subset so that tfds.load doesn't generate a checksum (mismatch) error\n",
    "!python -m tensorflow_datasets.scripts.download_and_prepare --register_checksums --datasets=ag_news_subset\n",
    "\n",
    "dataset,info=\\\n",
    "tfds.load('ag_news_subset', with_info=True,  split=['train[:95%]','train[95%:]', 'test'],batch_size = 32\n",
    "          , as_supervised=True)\n",
    "\n",
    "train_ds, val_ds, test_ds = dataset\n",
    "text_only_train_ds = train_ds.map(lambda x, y: x)"
   ]
  },
  {
   "cell_type": "markdown",
   "metadata": {
    "id": "mq7Q6zlFRro_"
   },
   "source": [
    "### Preparing Integer Sequence Datasets"
   ]
  },
  {
   "cell_type": "code",
   "execution_count": 7,
   "metadata": {
    "id": "EqI-g6DE6miV"
   },
   "outputs": [],
   "source": [
    "nltk.download('stopwords',quiet=True)\n",
    "STOPWORDS = stopwords.words(\"english\")"
   ]
  },
  {
   "cell_type": "code",
   "execution_count": 8,
   "metadata": {
    "id": "AfTnCGIERrpA"
   },
   "outputs": [],
   "source": [
    "max_length = 96\n",
    "max_tokens = 1000\n",
    "text_vectorization = layers.TextVectorization(\n",
    "    max_tokens=max_tokens,\n",
    "    output_mode=\"int\",\n",
    "    output_sequence_length=max_length,\n",
    "    standardize=custom_stopwords\n",
    ")\n",
    "text_vectorization.adapt(text_only_train_ds)\n",
    "\n",
    "int_train_ds = train_ds.map(\n",
    "    lambda x, y: (text_vectorization(x), y),\n",
    "    num_parallel_calls=4)\n",
    "int_val_ds = val_ds.map(\n",
    "    lambda x, y: (text_vectorization(x), y),\n",
    "    num_parallel_calls=4)\n",
    "int_test_ds = test_ds.map(\n",
    "    lambda x, y: (text_vectorization(x), y),\n",
    "    num_parallel_calls=4)"
   ]
  },
  {
   "cell_type": "markdown",
   "metadata": {
    "id": "NBL0CkaB5ukv"
   },
   "source": [
    "### Bi-directional RNN\n",
    "\n",
    "When translating in real-time, it would help to have access to worlds towards the end of a sentence, say, as well as earlier words in the sentence. One way to use the later words in the sentence is to feed the words into our RNN backward. So if we create two independent RNNs, we can feed one the words in their forward, or natural order, and the second gets their words in the revser order. This is the idea behind `Bi-directional RNNS`:"
   ]
  },
  {
   "cell_type": "markdown",
   "metadata": {
    "id": "EuP7exeZ5ukw"
   },
   "source": [
    "<img src=\"https://github.com/djp840/MSDS_458_Public/blob/main/images2/BidirectionalRNN.png?raw=1\">"
   ]
  },
  {
   "cell_type": "markdown",
   "metadata": {
    "id": "fTprEi3bRrpD"
   },
   "source": [
    "### Understanding word embeddings"
   ]
  },
  {
   "cell_type": "markdown",
   "metadata": {
    "id": "pmHdhUnM5ukz"
   },
   "source": [
    "When you encode something via `one-hot encoding`, you’re making a feature-engineering decision. You’re injecting into your model a fundamental assumption about the structure of your feature space. That assumption is that the different tokens you’re encoding are all independent from each other: indeed, one-hot vectors are all orthogonal to one another."
   ]
  },
  {
   "cell_type": "markdown",
   "metadata": {
    "id": "webaWkZJ5ukz"
   },
   "source": [
    "However, in a reasonable word vector space, you would expect synonyms to be embedded into similar word vectors, and in general, you would expect the geometric distance  between any two word vectors to relate to the “semantic distance” between the associated words.\n",
    "\n",
    "Words that mean different things should lie far away from each other, whereas related words should be closer."
   ]
  },
  {
   "cell_type": "markdown",
   "metadata": {
    "id": "b-W1sFgg5ukz"
   },
   "source": [
    "`Word embeddings` are vector representations of words that achieve exactly this: they map human language into a structured geometric space."
   ]
  },
  {
   "cell_type": "markdown",
   "metadata": {
    "id": "0egzHasW5ukz"
   },
   "source": [
    "Whereas the vectors obtained through `one-hot encoding` are *binary*, *sparse*, and *very high-dimensional* (the same dimensionality as the number of words in the vocabulary), `word embeddings` are *low-dimensional floating-point vectors* (that is, `dense vectors`, as opposed to `sparse vectors`)."
   ]
  },
  {
   "cell_type": "markdown",
   "metadata": {
    "id": "dHU4tS3b5uk0"
   },
   "source": [
    "<img src=\"https://github.com/djp840/MSDS_458_Public/blob/main/images2/EmbeddingsSparse.png?raw=1\">"
   ]
  },
  {
   "cell_type": "markdown",
   "metadata": {
    "id": "im1j5PRE5uk0"
   },
   "source": [
    "### Two ways to obtain word embeddings\n",
    "\n",
    "1. `Learn word embeddings jointly with the main task you care about` (such as document classification or sentiment prediction). In this setup, you start with random word vectors and then learn word vectors in the same way you learn the weights of a neural network.\n",
    "2. Load into your model word embeddings that were precomputed using a different machine learning task than the one you’re trying to solve. These are called `pretrained word embeddings`.\n"
   ]
  },
  {
   "cell_type": "markdown",
   "metadata": {
    "id": "j69C96c65uk1"
   },
   "source": [
    "<div class=\"alert alert-block alert-success\"><b>tf.keras.layers.Embedding</b><br>\n",
    "https://www.tensorflow.org/api_docs/python/tf/keras/layers/Embedding </div>"
   ]
  },
  {
   "cell_type": "markdown",
   "metadata": {
    "id": "M0gOTdNnRrpF"
   },
   "source": [
    "### Understanding Padding and Masking"
   ]
  },
  {
   "cell_type": "markdown",
   "metadata": {
    "id": "zOudeXoa5uk4"
   },
   "source": [
    "One thing that’s slightly hurting model performance here is that our input sequences are full of zeros. This comes from our use of the `output_sequence_length=max_ length` option in TextVectorization (with `max_length equal` to 150): sentences longer than 150 tokens are truncated to a length of 150 tokens, and sentences shorter than 150 tokens are padded with zeros at the end so that they can be concatenated together with other sequences to form contiguous batches."
   ]
  },
  {
   "cell_type": "markdown",
   "metadata": {
    "id": "hM95tdc65uk4"
   },
   "source": [
    "The RNN that looks at the tokens in their natural order will spend its last iterations seeing only vectors that encode padding—possibly for several hundreds of iterations if the original sentence was short. The information stored in the internal state of the RNN will gradually fade out as it gets exposed to these meaningless inputs."
   ]
  },
  {
   "cell_type": "markdown",
   "metadata": {
    "id": "U93_Szgn5uk4"
   },
   "source": [
    "We need some way to tell the RNN that it should skip these iterations. There’s an API for that: `masking`."
   ]
  },
  {
   "cell_type": "markdown",
   "metadata": {
    "id": "t1SxQSW85uk4"
   },
   "source": [
    "<div class=\"alert alert-block alert-success\"><b>tf.keras.layers.Masking</b><br>\n",
    "https://www.tensorflow.org/api_docs/python/tf/keras/layers/Masking</div>"
   ]
  },
  {
   "cell_type": "markdown",
   "metadata": {
    "id": "HGe0pvoxRrpF"
   },
   "source": [
    "### Model Leveraging Embedding Layer With Masking Enabled"
   ]
  },
  {
   "cell_type": "code",
   "execution_count": 9,
   "metadata": {
    "colab": {
     "base_uri": "https://localhost:8080/"
    },
    "id": "ldPmLR9w6miZ",
    "outputId": "0a1e4e53-2836-4395-f3a2-60fc3236d0a2",
    "scrolled": false
   },
   "outputs": [
    {
     "name": "stdout",
     "output_type": "stream",
     "text": [
      "Model: \"model\"\n",
      "_________________________________________________________________\n",
      " Layer (type)                Output Shape              Param #   \n",
      "=================================================================\n",
      " input_1 (InputLayer)        [(None, None)]            0         \n",
      "                                                                 \n",
      " tf.one_hot (TFOpLambda)     (None, None, 1000)        0         \n",
      "                                                                 \n",
      " conv1d (Conv1D)             (None, None, 32)          96032     \n",
      "                                                                 \n",
      " dropout (Dropout)           (None, None, 32)          0         \n",
      "                                                                 \n",
      " max_pooling1d (MaxPooling1  (None, None, 32)          0         \n",
      " D)                                                              \n",
      "                                                                 \n",
      " global_max_pooling1d (Glob  (None, 32)                0         \n",
      " alMaxPooling1D)                                                 \n",
      "                                                                 \n",
      " dense (Dense)               (None, 256)               8448      \n",
      "                                                                 \n",
      " dense_1 (Dense)             (None, 4)                 1028      \n",
      "                                                                 \n",
      "=================================================================\n",
      "Total params: 105508 (412.14 KB)\n",
      "Trainable params: 105508 (412.14 KB)\n",
      "Non-trainable params: 0 (0.00 Byte)\n",
      "_________________________________________________________________\n",
      "Epoch 1/200\n",
      "3563/3563 [==============================] - 22s 3ms/step - loss: 0.5546 - accuracy: 0.7986 - val_loss: 0.4668 - val_accuracy: 0.8518\n",
      "Epoch 2/200\n",
      "  36/3563 [..............................] - ETA: 10s - loss: 0.4261 - accuracy: 0.8507"
     ]
    },
    {
     "name": "stderr",
     "output_type": "stream",
     "text": [
      "/usr/local/lib/python3.10/dist-packages/keras/src/engine/training.py:3000: UserWarning: You are saving your model as an HDF5 file via `model.save()`. This file format is considered legacy. We recommend using instead the native Keras format, e.g. `model.save('my_model.keras')`.\n",
      "  saving_api.save_model(\n"
     ]
    },
    {
     "name": "stdout",
     "output_type": "stream",
     "text": [
      "3563/3563 [==============================] - 11s 3ms/step - loss: 0.4529 - accuracy: 0.8403 - val_loss: 0.4605 - val_accuracy: 0.8548\n",
      "Epoch 3/200\n",
      "3563/3563 [==============================] - 11s 3ms/step - loss: 0.4440 - accuracy: 0.8434 - val_loss: 0.4563 - val_accuracy: 0.8568\n",
      "Epoch 4/200\n",
      "3563/3563 [==============================] - 11s 3ms/step - loss: 0.4416 - accuracy: 0.8455 - val_loss: 0.4695 - val_accuracy: 0.8543\n",
      "Epoch 5/200\n",
      "3563/3563 [==============================] - 11s 3ms/step - loss: 0.4434 - accuracy: 0.8454 - val_loss: 0.4682 - val_accuracy: 0.8527\n",
      "Epoch 6/200\n",
      "3563/3563 [==============================] - 11s 3ms/step - loss: 0.4457 - accuracy: 0.8450 - val_loss: 0.4637 - val_accuracy: 0.8538\n",
      "238/238 [==============================] - 1s 2ms/step - loss: 0.4683 - accuracy: 0.8483\n",
      "Test acc: 0.848\n"
     ]
    }
   ],
   "source": [
    "k.clear_session()\n",
    "inputs = tf.keras.Input(shape=(None,), dtype=\"int64\")\n",
    "embedded = tf.one_hot(inputs, depth=max_tokens)\n",
    "x = layers.Conv1D(filters=32, kernel_size=3, activation='relu')(embedded)\n",
    "x = layers.Dropout(0.5)(x)\n",
    "x = layers.MaxPooling1D(pool_size=2)(x)\n",
    "x = layers.GlobalMaxPooling1D()(x)\n",
    "x = layers.Dense(256, activation='relu')(x)\n",
    "outputs = layers.Dense(4, activation=\"softmax\")(x)\n",
    "model = tf.keras.Model(inputs, outputs)\n",
    "model.compile(optimizer=\"rmsprop\",\n",
    "              loss=\"SparseCategoricalCrossentropy\",\n",
    "              metrics=[\"accuracy\"])\n",
    "model.summary()\n",
    "\n",
    "callbacks = [\n",
    "    tf.keras.callbacks.ModelCheckpoint(\"1Dcnn.h5\",save_best_only=True)\n",
    "    ,tf.keras.callbacks.EarlyStopping(monitor='val_accuracy', patience=3)\n",
    "]\n",
    "history=model.fit(int_train_ds, validation_data=int_val_ds, epochs=200, callbacks=callbacks)\n",
    "model = keras.models.load_model(\"1Dcnn.h5\")\n",
    "print(f\"Test acc: {model.evaluate(int_test_ds)[1]:.3f}\")"
   ]
  },
  {
   "cell_type": "markdown",
   "metadata": {
    "id": "7R-PUs1-6mig"
   },
   "source": [
    "### Post Modeling Metrics"
   ]
  },
  {
   "cell_type": "code",
   "execution_count": 10,
   "metadata": {
    "colab": {
     "base_uri": "https://localhost:8080/"
    },
    "id": "reSWbIGB6mig",
    "outputId": "0939a79b-d69b-4c2a-d816-dadb1eeb3c61"
   },
   "outputs": [
    {
     "data": {
      "text/plain": [
       "dict_keys(['loss', 'accuracy', 'val_loss', 'val_accuracy'])"
      ]
     },
     "execution_count": 10,
     "metadata": {},
     "output_type": "execute_result"
    }
   ],
   "source": [
    "history_dict = history.history\n",
    "history_dict.keys()"
   ]
  },
  {
   "cell_type": "code",
   "execution_count": 11,
   "metadata": {
    "colab": {
     "base_uri": "https://localhost:8080/",
     "height": 206
    },
    "id": "J9FChLp26mig",
    "outputId": "705ee6b8-1565-47f1-c6aa-23d31d6ef925"
   },
   "outputs": [
    {
     "data": {
      "text/html": [
       "\n",
       "  <div id=\"df-b9c73898-4ce0-4699-b535-0e1ab7dfe711\" class=\"colab-df-container\">\n",
       "    <div>\n",
       "<style scoped>\n",
       "    .dataframe tbody tr th:only-of-type {\n",
       "        vertical-align: middle;\n",
       "    }\n",
       "\n",
       "    .dataframe tbody tr th {\n",
       "        vertical-align: top;\n",
       "    }\n",
       "\n",
       "    .dataframe thead th {\n",
       "        text-align: right;\n",
       "    }\n",
       "</style>\n",
       "<table border=\"1\" class=\"dataframe\">\n",
       "  <thead>\n",
       "    <tr style=\"text-align: right;\">\n",
       "      <th></th>\n",
       "      <th>loss</th>\n",
       "      <th>accuracy</th>\n",
       "      <th>val_loss</th>\n",
       "      <th>val_accuracy</th>\n",
       "    </tr>\n",
       "  </thead>\n",
       "  <tbody>\n",
       "    <tr>\n",
       "      <th>1</th>\n",
       "      <td>0.453</td>\n",
       "      <td>0.840</td>\n",
       "      <td>0.461</td>\n",
       "      <td>0.855</td>\n",
       "    </tr>\n",
       "    <tr>\n",
       "      <th>2</th>\n",
       "      <td>0.444</td>\n",
       "      <td>0.843</td>\n",
       "      <td>0.456</td>\n",
       "      <td>0.857</td>\n",
       "    </tr>\n",
       "    <tr>\n",
       "      <th>3</th>\n",
       "      <td>0.442</td>\n",
       "      <td>0.845</td>\n",
       "      <td>0.470</td>\n",
       "      <td>0.854</td>\n",
       "    </tr>\n",
       "    <tr>\n",
       "      <th>4</th>\n",
       "      <td>0.443</td>\n",
       "      <td>0.845</td>\n",
       "      <td>0.468</td>\n",
       "      <td>0.853</td>\n",
       "    </tr>\n",
       "    <tr>\n",
       "      <th>5</th>\n",
       "      <td>0.446</td>\n",
       "      <td>0.845</td>\n",
       "      <td>0.464</td>\n",
       "      <td>0.854</td>\n",
       "    </tr>\n",
       "  </tbody>\n",
       "</table>\n",
       "</div>\n",
       "    <div class=\"colab-df-buttons\">\n",
       "\n",
       "  <div class=\"colab-df-container\">\n",
       "    <button class=\"colab-df-convert\" onclick=\"convertToInteractive('df-b9c73898-4ce0-4699-b535-0e1ab7dfe711')\"\n",
       "            title=\"Convert this dataframe to an interactive table.\"\n",
       "            style=\"display:none;\">\n",
       "\n",
       "  <svg xmlns=\"http://www.w3.org/2000/svg\" height=\"24px\" viewBox=\"0 -960 960 960\">\n",
       "    <path d=\"M120-120v-720h720v720H120Zm60-500h600v-160H180v160Zm220 220h160v-160H400v160Zm0 220h160v-160H400v160ZM180-400h160v-160H180v160Zm440 0h160v-160H620v160ZM180-180h160v-160H180v160Zm440 0h160v-160H620v160Z\"/>\n",
       "  </svg>\n",
       "    </button>\n",
       "\n",
       "  <style>\n",
       "    .colab-df-container {\n",
       "      display:flex;\n",
       "      gap: 12px;\n",
       "    }\n",
       "\n",
       "    .colab-df-convert {\n",
       "      background-color: #E8F0FE;\n",
       "      border: none;\n",
       "      border-radius: 50%;\n",
       "      cursor: pointer;\n",
       "      display: none;\n",
       "      fill: #1967D2;\n",
       "      height: 32px;\n",
       "      padding: 0 0 0 0;\n",
       "      width: 32px;\n",
       "    }\n",
       "\n",
       "    .colab-df-convert:hover {\n",
       "      background-color: #E2EBFA;\n",
       "      box-shadow: 0px 1px 2px rgba(60, 64, 67, 0.3), 0px 1px 3px 1px rgba(60, 64, 67, 0.15);\n",
       "      fill: #174EA6;\n",
       "    }\n",
       "\n",
       "    .colab-df-buttons div {\n",
       "      margin-bottom: 4px;\n",
       "    }\n",
       "\n",
       "    [theme=dark] .colab-df-convert {\n",
       "      background-color: #3B4455;\n",
       "      fill: #D2E3FC;\n",
       "    }\n",
       "\n",
       "    [theme=dark] .colab-df-convert:hover {\n",
       "      background-color: #434B5C;\n",
       "      box-shadow: 0px 1px 3px 1px rgba(0, 0, 0, 0.15);\n",
       "      filter: drop-shadow(0px 1px 2px rgba(0, 0, 0, 0.3));\n",
       "      fill: #FFFFFF;\n",
       "    }\n",
       "  </style>\n",
       "\n",
       "    <script>\n",
       "      const buttonEl =\n",
       "        document.querySelector('#df-b9c73898-4ce0-4699-b535-0e1ab7dfe711 button.colab-df-convert');\n",
       "      buttonEl.style.display =\n",
       "        google.colab.kernel.accessAllowed ? 'block' : 'none';\n",
       "\n",
       "      async function convertToInteractive(key) {\n",
       "        const element = document.querySelector('#df-b9c73898-4ce0-4699-b535-0e1ab7dfe711');\n",
       "        const dataTable =\n",
       "          await google.colab.kernel.invokeFunction('convertToInteractive',\n",
       "                                                    [key], {});\n",
       "        if (!dataTable) return;\n",
       "\n",
       "        const docLinkHtml = 'Like what you see? Visit the ' +\n",
       "          '<a target=\"_blank\" href=https://colab.research.google.com/notebooks/data_table.ipynb>data table notebook</a>'\n",
       "          + ' to learn more about interactive tables.';\n",
       "        element.innerHTML = '';\n",
       "        dataTable['output_type'] = 'display_data';\n",
       "        await google.colab.output.renderOutput(dataTable, element);\n",
       "        const docLink = document.createElement('div');\n",
       "        docLink.innerHTML = docLinkHtml;\n",
       "        element.appendChild(docLink);\n",
       "      }\n",
       "    </script>\n",
       "  </div>\n",
       "\n",
       "\n",
       "<div id=\"df-87cdff02-ec25-4e7d-a745-c8ab597d813e\">\n",
       "  <button class=\"colab-df-quickchart\" onclick=\"quickchart('df-87cdff02-ec25-4e7d-a745-c8ab597d813e')\"\n",
       "            title=\"Suggest charts.\"\n",
       "            style=\"display:none;\">\n",
       "\n",
       "<svg xmlns=\"http://www.w3.org/2000/svg\" height=\"24px\"viewBox=\"0 0 24 24\"\n",
       "     width=\"24px\">\n",
       "    <g>\n",
       "        <path d=\"M19 3H5c-1.1 0-2 .9-2 2v14c0 1.1.9 2 2 2h14c1.1 0 2-.9 2-2V5c0-1.1-.9-2-2-2zM9 17H7v-7h2v7zm4 0h-2V7h2v10zm4 0h-2v-4h2v4z\"/>\n",
       "    </g>\n",
       "</svg>\n",
       "  </button>\n",
       "\n",
       "<style>\n",
       "  .colab-df-quickchart {\n",
       "      --bg-color: #E8F0FE;\n",
       "      --fill-color: #1967D2;\n",
       "      --hover-bg-color: #E2EBFA;\n",
       "      --hover-fill-color: #174EA6;\n",
       "      --disabled-fill-color: #AAA;\n",
       "      --disabled-bg-color: #DDD;\n",
       "  }\n",
       "\n",
       "  [theme=dark] .colab-df-quickchart {\n",
       "      --bg-color: #3B4455;\n",
       "      --fill-color: #D2E3FC;\n",
       "      --hover-bg-color: #434B5C;\n",
       "      --hover-fill-color: #FFFFFF;\n",
       "      --disabled-bg-color: #3B4455;\n",
       "      --disabled-fill-color: #666;\n",
       "  }\n",
       "\n",
       "  .colab-df-quickchart {\n",
       "    background-color: var(--bg-color);\n",
       "    border: none;\n",
       "    border-radius: 50%;\n",
       "    cursor: pointer;\n",
       "    display: none;\n",
       "    fill: var(--fill-color);\n",
       "    height: 32px;\n",
       "    padding: 0;\n",
       "    width: 32px;\n",
       "  }\n",
       "\n",
       "  .colab-df-quickchart:hover {\n",
       "    background-color: var(--hover-bg-color);\n",
       "    box-shadow: 0 1px 2px rgba(60, 64, 67, 0.3), 0 1px 3px 1px rgba(60, 64, 67, 0.15);\n",
       "    fill: var(--button-hover-fill-color);\n",
       "  }\n",
       "\n",
       "  .colab-df-quickchart-complete:disabled,\n",
       "  .colab-df-quickchart-complete:disabled:hover {\n",
       "    background-color: var(--disabled-bg-color);\n",
       "    fill: var(--disabled-fill-color);\n",
       "    box-shadow: none;\n",
       "  }\n",
       "\n",
       "  .colab-df-spinner {\n",
       "    border: 2px solid var(--fill-color);\n",
       "    border-color: transparent;\n",
       "    border-bottom-color: var(--fill-color);\n",
       "    animation:\n",
       "      spin 1s steps(1) infinite;\n",
       "  }\n",
       "\n",
       "  @keyframes spin {\n",
       "    0% {\n",
       "      border-color: transparent;\n",
       "      border-bottom-color: var(--fill-color);\n",
       "      border-left-color: var(--fill-color);\n",
       "    }\n",
       "    20% {\n",
       "      border-color: transparent;\n",
       "      border-left-color: var(--fill-color);\n",
       "      border-top-color: var(--fill-color);\n",
       "    }\n",
       "    30% {\n",
       "      border-color: transparent;\n",
       "      border-left-color: var(--fill-color);\n",
       "      border-top-color: var(--fill-color);\n",
       "      border-right-color: var(--fill-color);\n",
       "    }\n",
       "    40% {\n",
       "      border-color: transparent;\n",
       "      border-right-color: var(--fill-color);\n",
       "      border-top-color: var(--fill-color);\n",
       "    }\n",
       "    60% {\n",
       "      border-color: transparent;\n",
       "      border-right-color: var(--fill-color);\n",
       "    }\n",
       "    80% {\n",
       "      border-color: transparent;\n",
       "      border-right-color: var(--fill-color);\n",
       "      border-bottom-color: var(--fill-color);\n",
       "    }\n",
       "    90% {\n",
       "      border-color: transparent;\n",
       "      border-bottom-color: var(--fill-color);\n",
       "    }\n",
       "  }\n",
       "</style>\n",
       "\n",
       "  <script>\n",
       "    async function quickchart(key) {\n",
       "      const quickchartButtonEl =\n",
       "        document.querySelector('#' + key + ' button');\n",
       "      quickchartButtonEl.disabled = true;  // To prevent multiple clicks.\n",
       "      quickchartButtonEl.classList.add('colab-df-spinner');\n",
       "      try {\n",
       "        const charts = await google.colab.kernel.invokeFunction(\n",
       "            'suggestCharts', [key], {});\n",
       "      } catch (error) {\n",
       "        console.error('Error during call to suggestCharts:', error);\n",
       "      }\n",
       "      quickchartButtonEl.classList.remove('colab-df-spinner');\n",
       "      quickchartButtonEl.classList.add('colab-df-quickchart-complete');\n",
       "    }\n",
       "    (() => {\n",
       "      let quickchartButtonEl =\n",
       "        document.querySelector('#df-87cdff02-ec25-4e7d-a745-c8ab597d813e button');\n",
       "      quickchartButtonEl.style.display =\n",
       "        google.colab.kernel.accessAllowed ? 'block' : 'none';\n",
       "    })();\n",
       "  </script>\n",
       "</div>\n",
       "\n",
       "    </div>\n",
       "  </div>\n"
      ],
      "text/plain": [
       "    loss  accuracy  val_loss  val_accuracy\n",
       "1  0.453     0.840     0.461         0.855\n",
       "2  0.444     0.843     0.456         0.857\n",
       "3  0.442     0.845     0.470         0.854\n",
       "4  0.443     0.845     0.468         0.853\n",
       "5  0.446     0.845     0.464         0.854"
      ]
     },
     "execution_count": 11,
     "metadata": {},
     "output_type": "execute_result"
    }
   ],
   "source": [
    "losses = history.history['loss']\n",
    "accs = history.history['accuracy']\n",
    "val_losses = history.history['val_loss']\n",
    "val_accs = history.history['val_accuracy']\n",
    "epochs = len(losses)\n",
    "history_df=pd.DataFrame(history_dict)\n",
    "history_df.tail().round(3)"
   ]
  },
  {
   "cell_type": "code",
   "execution_count": 12,
   "metadata": {
    "colab": {
     "base_uri": "https://localhost:8080/",
     "height": 884
    },
    "id": "W8TdNlsB6mih",
    "outputId": "f18894bd-eb08-4f4e-8e91-83ed22cf998f"
   },
   "outputs": [
    {
     "name": "stderr",
     "output_type": "stream",
     "text": [
      "<ipython-input-4-5d42ceffaaab>:2: MatplotlibDeprecationWarning: Auto-removal of overlapping axes is deprecated since 3.6 and will be removed two minor releases later; explicitly call ax.remove() as needed.\n",
      "  ax = plt.subplot(subplot)\n"
     ]
    },
    {
     "data": {
      "image/png": "[encoded data removed]",
      "text/plain": [
       "<Figure size 1600x1200 with 2 Axes>"
      ]
     },
     "metadata": {},
     "output_type": "display_data"
    }
   ],
   "source": [
    "plt.subplots(figsize=(16,12))\n",
    "plt.tight_layout()\n",
    "display_training_curves(history.history['accuracy'], history.history['val_accuracy'], 'accuracy', 211)\n",
    "display_training_curves(history.history['loss'], history.history['val_loss'], 'loss', 212)"
   ]
  },
  {
   "cell_type": "code",
   "execution_count": 13,
   "metadata": {
    "colab": {
     "base_uri": "https://localhost:8080/"
    },
    "id": "GYsEw__46mih",
    "outputId": "224f92a8-a8d4-4fee-daa9-dc2da628ac66"
   },
   "outputs": [
    {
     "name": "stdout",
     "output_type": "stream",
     "text": [
      "238/238 [==============================] - 0s 2ms/step\n"
     ]
    }
   ],
   "source": [
    "y_test = np.concatenate([y for x, y in int_test_ds], axis=0)\n",
    "pred_classes = np.argmax(model.predict(int_test_ds), axis=-1)"
   ]
  },
  {
   "cell_type": "code",
   "execution_count": 14,
   "metadata": {
    "colab": {
     "base_uri": "https://localhost:8080/"
    },
    "id": "lbX-z_896mii",
    "outputId": "0a127668-8aaa-4fd6-f24a-918872e84b55"
   },
   "outputs": [
    {
     "name": "stdout",
     "output_type": "stream",
     "text": [
      "Classification Report\n",
      "              precision    recall  f1-score   support\n",
      "\n",
      "           0       0.86      0.85      0.86      1900\n",
      "           1       0.91      0.92      0.91      1900\n",
      "           2       0.84      0.78      0.81      1900\n",
      "           3       0.79      0.84      0.81      1900\n",
      "\n",
      "    accuracy                           0.85      7600\n",
      "   macro avg       0.85      0.85      0.85      7600\n",
      "weighted avg       0.85      0.85      0.85      7600\n",
      "\n",
      "Accuracy Score: 0.8482894736842105\n",
      "Root Mean Square Error: 0.6853735055466204\n"
     ]
    }
   ],
   "source": [
    "print_validation_report(y_test, pred_classes)"
   ]
  },
  {
   "cell_type": "code",
   "execution_count": 15,
   "metadata": {
    "colab": {
     "base_uri": "https://localhost:8080/",
     "height": 696
    },
    "id": "k041Are96mii",
    "outputId": "952684ad-6e3b-4680-8bef-0652a80fb0b5",
    "scrolled": false
   },
   "outputs": [
    {
     "data": {
      "image/png": "[encoded data removed]",
      "text/plain": [
       "<Figure size 1200x800 with 1 Axes>"
      ]
     },
     "metadata": {},
     "output_type": "display_data"
    }
   ],
   "source": [
    "plot_confusion_matrix(y_test,pred_classes)"
   ]
  }
 ],
 "metadata": {
  "accelerator": "GPU",
  "colab": {
   "machine_shape": "hm",
   "provenance": []
  },
  "kernelspec": {
   "display_name": "Python 3 (ipykernel)",
   "language": "python",
   "name": "python3"
  },
  "language_info": {
   "codemirror_mode": {
    "name": "ipython",
    "version": 3
   },
   "file_extension": ".py",
   "mimetype": "text/x-python",
   "name": "python",
   "nbconvert_exporter": "python",
   "pygments_lexer": "ipython3",
   "version": "3.9.7"
  }
 },
 "nbformat": 4,
 "nbformat_minor": 1
}
