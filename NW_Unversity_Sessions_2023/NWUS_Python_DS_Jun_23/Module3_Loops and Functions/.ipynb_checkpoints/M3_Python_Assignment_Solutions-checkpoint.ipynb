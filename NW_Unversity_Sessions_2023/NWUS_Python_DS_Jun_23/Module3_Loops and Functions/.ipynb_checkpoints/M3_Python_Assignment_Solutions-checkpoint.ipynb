{
 "cells": [
  {
   "cell_type": "markdown",
   "metadata": {},
   "source": [
    "# MSDS 430 Module 3 Python Assignment Solutions <font color=red>30 pts.</font>"
   ]
  },
  {
   "cell_type": "markdown",
   "metadata": {},
   "source": [
    "<div class=\"alert alert-block alert-warning\"><b>In this assignment you will read through the notebook and complete the exercises. Once you are satisfied with the results, submit your notebook and html file to Canvas. Your files should include all output, i.e. run each cell and save your file before submitting.</b></div>"
   ]
  },
  {
   "cell_type": "markdown",
   "metadata": {},
   "source": [
    "<div class=\"alert alert-block alert-info\">\n",
    "\n",
    "The main topics this week are `loops, functions, and exceptions`. There are two types of loops that we are working with - the <font color=black>for loop</font> and the <font color=black>while loop</font>. As you read through this notebook and complete the exercises, compare the two types of loops. Think about which is more concise and when each might be used. Additionally we are working with `user-defined functions`. User-defined functions will appear quite frequently throughout the remainder of the course and can be difficult to grasp at first. Be sure to use the <font color=black><b>codelens</b></font> view in your interactive textbook for each of the sample programs provided to understand how Python processes functions. This will reinforce your understanding of the concept.</div>"
   ]
  },
  {
   "cell_type": "markdown",
   "metadata": {},
   "source": [
    "<div class=\"alert alert-block alert-danger\"><b>Reminder that in all of the problems you will see <font color=black># TODO</font> statements added as comments in the code cells provided. Remember to complete each of these as indicated to avoid losing points.</b></div>"
   ]
  },
  {
   "cell_type": "markdown",
   "metadata": {},
   "source": [
    "### `while` Loops"
   ]
  },
  {
   "cell_type": "markdown",
   "metadata": {},
   "source": [
    "Loops are statements that repeat an action over and over. The `while` loop is the most general iteration construct in the Python language. It will repeatedly execute a block of statements <i>while</i> the `TestExpression` evaluates to **True**:\n",
    "```python\n",
    "while TestExpression:\n",
    "    statements\n",
    "```\n",
    "The `TestExpression` is a Boolean expression that evaluates to **True** or **False**. Similar to conditionals, which we learned about last week, the line with our while statement ends with a colon and the body of the loop is indented. As long as the test expression is **True**, the loop will continue and the statements inside the loop will be executed."
   ]
  },
  {
   "cell_type": "code",
   "execution_count": null,
   "metadata": {},
   "outputs": [],
   "source": [
    "n = 1\n",
    "\n",
    "while n <= 5: # This evaluates to 'True' as long as n <= 5\n",
    "    print(n)  # Print the current value of n\n",
    "    n += 1    # Add 1 to n and return to the test expression"
   ]
  },
  {
   "cell_type": "markdown",
   "metadata": {},
   "source": [
    "In the example above we have the test expression `n <= 5`. It will evaluate to **True** or **False** depending on the value of n. We can also use strings as test expressions, but these work a bit differently. A nonempty string will evaluate to **True** and an empty string will evaluate to **False**. \n",
    "\n",
    "In the next example we start with a nonempty string and strip away characters from the beginning of string until the string is empty, which will end the loop. Feel free to try different strings to see the effect on them."
   ]
  },
  {
   "cell_type": "code",
   "execution_count": null,
   "metadata": {},
   "outputs": [],
   "source": [
    "x = 'Chicago'\n",
    "\n",
    "while x:               # This evaluates to 'True' while x is not empty\n",
    "    print(x, end=' ')  # Print the remaining portion of the string\n",
    "    x = x[1:]          # Strip off the first character from the string with each iteration"
   ]
  },
  {
   "cell_type": "markdown",
   "metadata": {},
   "source": [
    "One potential concern with a while loop is the possibility that the `TestExpression` never evaluates to **False**. If this happens, we have an infinite loop. For example:\n",
    "```python\n",
    "num = 1\n",
    "while num <= 25:\n",
    "    print (num/100) \n",
    "num += 1\n",
    "```\n",
    "Notice `num += 1` is outside the body of the loop. Thus, `num` is never incremented inside the while loop and the test expression `num <= 25` will always evaluate to **True**. So it is important to pay attention to what is occurring within a while loop to make sure it will eventually terminate."
   ]
  },
  {
   "cell_type": "markdown",
   "metadata": {},
   "source": [
    "### `break` Statement"
   ]
  },
  {
   "cell_type": "markdown",
   "metadata": {},
   "source": [
    "One way to exit a loop, in particular an infinite loop, is to use a `break` statement. This will cause an immediate exit from the loop. With this next example, the user is prompted to enter a positive integer. If the user enters a positive integer, a print statement is executed then the loop is exited. If the user enters a negative number, the user is prompted to enter a positive integer. This will repeat indefinitely until the user enters a positive number."
   ]
  },
  {
   "cell_type": "code",
   "execution_count": null,
   "metadata": {},
   "outputs": [],
   "source": [
    "while True:\n",
    "    num = float(input('Enter a positive number: '))\n",
    "    \n",
    "    if num > 0:\n",
    "        print('Good job!')\n",
    "        break # Loop is exited if the user enters a positive number\n",
    "    print(\"Must enter a positive number!\")"
   ]
  },
  {
   "cell_type": "markdown",
   "metadata": {},
   "source": [
    "By adding a break statement outside of the body of the if statement but inside the while loop, we can exit the while loop once the user enters a negative number. This next example uses a `while True` condition that will continue indefinitely until it reaches a `break`. So a `while True` condition must contain a break statement."
   ]
  },
  {
   "cell_type": "code",
   "execution_count": null,
   "metadata": {},
   "outputs": [],
   "source": [
    "while True:\n",
    "    num = float(input('Enter a positive number: '))\n",
    "    \n",
    "    if num > 0:\n",
    "        print('Good job!')\n",
    "        break   # Loop is exited if the user enters a positive number\n",
    "    print(\"Must enter a positive number!\")\n",
    "    print(\"Goodbye!\")\n",
    "    break  # Stops the infinite loop if the user enters 0 or a negative number"
   ]
  },
  {
   "cell_type": "markdown",
   "metadata": {},
   "source": [
    "### `continue` Statement"
   ]
  },
  {
   "cell_type": "markdown",
   "metadata": {},
   "source": [
    "The `continue` statement within a loop will instruct Python to skip the rest of the code inside of the loop once this is reached. The loop will not terminate if the user continues to enter 0 or a negative number. Below is a variation of the example above with the infinite loop that uses both a continue statement and a break statement. "
   ]
  },
  {
   "cell_type": "code",
   "execution_count": null,
   "metadata": {},
   "outputs": [],
   "source": [
    "while True:\n",
    "    num = input('Enter a positive number: ')\n",
    "    num = float(num)\n",
    "\n",
    "    if num <= 0:\n",
    "        print(\"Must enter a positive number!\")\n",
    "        continue\n",
    "    else:\n",
    "        print('Good job')\n",
    "        break\n",
    "\n",
    "print('Have a great day!')"
   ]
  },
  {
   "cell_type": "markdown",
   "metadata": {},
   "source": [
    "### Nested `while` Loops"
   ]
  },
  {
   "cell_type": "markdown",
   "metadata": {},
   "source": [
    "Similar to conditional statements, we can have nested loops. In other words, a loop (or loops) within a loop. This next example uses a nested while loop to display all possible ordered pairs (tuples) with x-values of 1 through 7 paired with y-values of 1 and 2. "
   ]
  },
  {
   "cell_type": "code",
   "execution_count": null,
   "metadata": {},
   "outputs": [],
   "source": [
    "x = 1  # Initialize x\n",
    "\n",
    "while x <= 7:     # Use an 'outer' while loop to iterate over x-values\n",
    "    y = 1         # Initialize y\n",
    "    while y < 3:  # Use an 'inner' while loop to iterate over y-values\n",
    "        print((x, y), end= \" \")\n",
    "        y += 1\n",
    "    x += 1"
   ]
  },
  {
   "cell_type": "markdown",
   "metadata": {},
   "source": [
    "<div class=\"alert alert-block alert-success\"><b>Problem 1 (4 pts.):</b> Create a nested <font color=b><b>while</b></font> loop that displays a multiplication table for 1 through 10. Your output should look like what is shown below. Pay attention to the formatting and spacing in the table.</div>"
   ]
  },
  {
   "cell_type": "markdown",
   "metadata": {},
   "source": [
    "&nbsp;&nbsp;`1     2     3     4     5     6     7     8     9    10`<br>\n",
    "&nbsp;&nbsp;`2     4     6     8    10    12    14    16    18    20`<br>\n",
    "&nbsp;&nbsp;`3     6     9    12    15    18    21    24    27    30`<br>\n",
    "&nbsp;&nbsp;`4     8    12    16    20    24    28    32    36    40`<br> \n",
    "&nbsp;&nbsp;`5    10    15    20    25    30    35    40    45    50`<br>\n",
    "&nbsp;&nbsp;`6    12    18    24    30    36    42    48    54    60`<br>\n",
    "&nbsp;&nbsp;`7    14    21    28    35    42    49    56    63    70`<br>\n",
    "&nbsp;&nbsp;`8    16    24    32    40    48    56    64    72    80`<br>\n",
    "&nbsp;&nbsp;`9    18    27    36    45    54    63    72    81    90`<br>\n",
    "`10    20    30    40    50    60    70    80    90   100` "
   ]
  },
  {
   "cell_type": "code",
   "execution_count": null,
   "metadata": {},
   "outputs": [],
   "source": [
    "# TOD0: Create a nested while loop that displays a multiplication table for 1 through 10 as shown above.\n",
    "i = 1\n",
    "while i <= 10:\n",
    "    j = 1\n",
    "    while j <= 10:\n",
    "        print(f'{i*j: 4d}', end='  ')\n",
    "        j += 1\n",
    "    print()\n",
    "    i += 1"
   ]
  },
  {
   "cell_type": "markdown",
   "metadata": {},
   "source": [
    "### `for` Loops"
   ]
  },
  {
   "cell_type": "markdown",
   "metadata": {},
   "source": [
    "The `for` loop is another way to code repetitive tasks. It is a simple and effective way to step through all items in a sequence and run a block of code for each item until the sequence is exhausted. Compared to a `while` loop, a `for` loop is much more powerful and often times a more concise way to perform a repetitive task. The general structure of a `for` loop looks like this:\n",
    "```python\n",
    "for item in sequence:\n",
    "    statements\n",
    "```"
   ]
  },
  {
   "cell_type": "markdown",
   "metadata": {},
   "source": [
    "This first example <i>steps</i> through the letters of a string one-by-one and for each item (letter) prints the uppercase form of the letter followed by a space."
   ]
  },
  {
   "cell_type": "code",
   "execution_count": null,
   "metadata": {},
   "outputs": [],
   "source": [
    "for i in 'Chicago':\n",
    "    print(i.upper(), end=' ')"
   ]
  },
  {
   "cell_type": "markdown",
   "metadata": {},
   "source": [
    "Another common approach used in conjunction with a for loop is to use `range(n)`. The default is to start at 0 and end at n - 1 in increments or steps of 1. When used in a for loop, this will iterate over the values 0, 1, 2, ..., n - 1. Below we use this within a for loop to print the first 10 nonnegative integers in a single row."
   ]
  },
  {
   "cell_type": "code",
   "execution_count": null,
   "metadata": {},
   "outputs": [],
   "source": [
    "for x in range(10):\n",
    "    print(x, end= ' ')"
   ]
  },
  {
   "cell_type": "markdown",
   "metadata": {},
   "source": [
    "The arguments for `range()` work similarly to `randrange()`, which we saw in the previous assignment. For example,  another variation of `range()` is `range(start, stop[, step])`\n",
    "\n",
    "As with `randrange()`, the default `step` is 1, so if nothing is specified this will go up in increments of 1. Also, remember that `stop` will end at one less than the value of `stop`. For example,\n",
    "```python\n",
    "for j in range(3, 10, 2):\n",
    "    print(j, end=' ')\n",
    "```\n",
    "would begin at 3 and end at 9 going up in increments of 2, i.e. this would print:\n",
    "\n",
    "`3 5 7 9`"
   ]
  },
  {
   "cell_type": "markdown",
   "metadata": {},
   "source": [
    "Here is an example that iterates over 2, 3, ..., 8, 9 and calculates 1/2 the number:"
   ]
  },
  {
   "cell_type": "code",
   "execution_count": null,
   "metadata": {},
   "outputs": [],
   "source": [
    "for n in range(2, 10):\n",
    "    print(f'Half of {n} is {n/2}')"
   ]
  },
  {
   "cell_type": "markdown",
   "metadata": {},
   "source": [
    "We can also iterate over other Python sequence types, such as `tuples` and `lists`."
   ]
  },
  {
   "cell_type": "code",
   "execution_count": null,
   "metadata": {},
   "outputs": [],
   "source": [
    "my_tuple = ('dog', 'cat', 7)\n",
    "\n",
    "for x in my_tuple:\n",
    "    print(x*3)"
   ]
  },
  {
   "cell_type": "code",
   "execution_count": null,
   "metadata": {},
   "outputs": [],
   "source": [
    "my_list = ['apple', 'kiwi', 'orange']\n",
    "\n",
    "for x in my_list:\n",
    "    print(x.upper())"
   ]
  },
  {
   "cell_type": "markdown",
   "metadata": {},
   "source": [
    "### List Comprehensions"
   ]
  },
  {
   "cell_type": "markdown",
   "metadata": {},
   "source": [
    "So far in this assignment and others we have defined our lists from scratch by typing the elements and assigning the list to a variable. Another way to create lists is by using `list comprehensions`. The basic syntax for a list comprehension is:\n",
    "```python\n",
    "[expression for_loop(s) condition(s)]\n",
    "```"
   ]
  },
  {
   "cell_type": "markdown",
   "metadata": {},
   "source": [
    "The example below shows the three parts of `list comprehension` as:\n",
    "1. `expression` is **x**\n",
    "2. `for_loop` values are **in range(25)**\n",
    "3. `condition` is **if x%2==0**"
   ]
  },
  {
   "cell_type": "code",
   "execution_count": null,
   "metadata": {},
   "outputs": [],
   "source": [
    "even_numbers = [x for x in range(25) if x%2==0]\n",
    "even_numbers"
   ]
  },
  {
   "cell_type": "markdown",
   "metadata": {},
   "source": [
    "It's important to point out that there can be more than one for loop and 0 or more conditions. This next example has two for loops and no conditions. When more than one for loop exists, Python executes them like nested for loops. The first for loop would be considered the outer loop and the next would be the inner loop. You can see this from the output produced."
   ]
  },
  {
   "cell_type": "code",
   "execution_count": null,
   "metadata": {},
   "outputs": [],
   "source": [
    "my_tuples = [(x,y) for x in 'Python' for y in range(3)]\n",
    "my_tuples"
   ]
  },
  {
   "cell_type": "markdown",
   "metadata": {},
   "source": [
    "An important characteristic of lists is that they are `mutable`, which means we can alter them, i.e. we can add or remove items from a list or replace an item. We've seen how to create lists from scratch or using list comprehensions, but we can also start with an empty list and use the `append` method to build the list.\n",
    "\n",
    "Below are a couple of basic examples of working with lists. The first example begins with a defined list then adds to the list using the `append` method. The next example starts with an empty list and builds the list using a for loop."
   ]
  },
  {
   "cell_type": "code",
   "execution_count": null,
   "metadata": {},
   "outputs": [],
   "source": [
    "my_fruits = ['apples', 'blueberries', 'watermelon'] # Start with a defined list\n",
    "print(my_fruits) # Display the original list\n",
    "print(id(my_fruits)) # Display the object ID\n",
    "\n",
    "my_fruits.append('bananas')  # Use the 'append' method to add an item to the list\n",
    "print(my_fruits) # Display the new list\n",
    "print(id(my_fruits)) # Display the object ID of the new list"
   ]
  },
  {
   "cell_type": "markdown",
   "metadata": {},
   "source": [
    "Lines of code to display the object ID of `my_fruits` before and after the addition of `bananas` were included to reinforce the notion of mutability of lists. Because lists are mutable, they will maintain the same ID when whenever list methods, such as append, are used."
   ]
  },
  {
   "cell_type": "markdown",
   "metadata": {},
   "source": [
    "The next example example creates a list using a for loop in a way that is different from using a list comprehension. List comprehensions are typically preferred when possible because they build a list more efficiently and are easier to read. However, every list comprehension can be rewritten as a for loop, but not every for loop can be rewritten as a list comprehension."
   ]
  },
  {
   "cell_type": "code",
   "execution_count": null,
   "metadata": {},
   "outputs": [],
   "source": [
    "my_list = [] # Start with an empty list called 'my_list'\n",
    "\n",
    "for i in range(10):  # Iterate over 0, 1, ..., 9\n",
    "    x = 10 - i       # Count down from 10 with each iteration\n",
    "    my_list.append(x) # Append x to the list with each iteration\n",
    "    \n",
    "my_list"
   ]
  },
  {
   "cell_type": "markdown",
   "metadata": {},
   "source": [
    "The previous example happens to be one that can be rewritten as a list comprehension. Here's how that would be accomplished:"
   ]
  },
  {
   "cell_type": "code",
   "execution_count": null,
   "metadata": {},
   "outputs": [],
   "source": [
    "[10 - i for i in range(10)]"
   ]
  },
  {
   "cell_type": "markdown",
   "metadata": {},
   "source": [
    "<div class=\"alert alert-block alert-success\"><b>Problem 2 (6 pts):</b> Use the built-in <font color=b><b>random module</b></font> and a <font color=b><b>for</b></font> loop to generate <font color=b><b>40</b></font> random numbers between <font color=b><b>-50</b></font> and <font color=b><b>50</b></font> then display a list of only the negative numbers rounded to two decimal places. The program should also count the number of negative numbers and display the count. Your output should look similar to this (numbers and counts may vary):</div>\n",
    "\n",
    "`[-43.44, -42.29, -22.71, -38.69, -18.79, -5.35, -27.01, -31.39, -22.59, -20.14, -7.81, -1.38, -33.73, -35.51, -16.85, -31.05, -16.24, -31.58, -0.47, -15.03]`\n",
    "\n",
    "`There are 20 negative numbers in the list.`"
   ]
  },
  {
   "cell_type": "code",
   "execution_count": null,
   "metadata": {},
   "outputs": [],
   "source": [
    "import random\n",
    "\n",
    "neg_count = 0  # Initialize the count of negative numbers to 0.\n",
    "ls = []  # Start with an empty list.\n",
    "\n",
    "# TODO: Create a 'for' loop to choose 40 random numbers between -50 and 50 using the 'uniform' function.\n",
    "for n in range(40):\n",
    "    x = random.uniform(-50,50)\n",
    "\n",
    "    # TODO: Within the for loop, append only the negative numbers (rounded to 2 decimal places) to the list \n",
    "    # and increment the neg_count.\n",
    "    if x < 0:\n",
    "        ls.append(round(x,2))\n",
    "        neg_count += 1\n",
    "\n",
    "# TODO: Print the list of negative numbers.\n",
    "print(ls)\n",
    "\n",
    "# TODO: Create a formatted print statement to print the number of negative numbers (as shown above).\n",
    "print(f'\\nThere are {neg_count} negative numbers in the list.')"
   ]
  },
  {
   "cell_type": "markdown",
   "metadata": {},
   "source": [
    "<div class=\"alert alert-block alert-success\"><b>Problem 3 (4 pts):</b> Redo Problem #2 using list comprehensions instead of a for loop. <i><u>Note</u></i>: This can be done with a single list comprehension, but using two list comprehensions is acceptable.</div>"
   ]
  },
  {
   "cell_type": "code",
   "execution_count": null,
   "metadata": {},
   "outputs": [],
   "source": [
    "# TODO: Redo Problem #2 using list comprehensions\n",
    "import random\n",
    "\n",
    "# TODO: Create a list of 40 random numbers between -50 and 50 using a list comprehension\n",
    "ls = [round(random.uniform(-50,50),2) for i in range(40)]\n",
    "\n",
    "# TODO: Use a list comprehension to build a list of only negative numbers from the list just created\n",
    "ls_neg = [num for num in ls if num < 0]\n",
    "\n",
    "# TODO: Print the list of negative numbers.\n",
    "print (ls_neg)\n",
    "\n",
    "# TODO: Create a formatted print statement to print the number of negative numbers (as shown above).\n",
    "print(f'\\nThere are {len(ls_neg)} negative numbers in the list.')"
   ]
  },
  {
   "cell_type": "code",
   "execution_count": null,
   "metadata": {},
   "outputs": [],
   "source": [
    "# Another possible solution with only one list comprehension\n",
    "\n",
    "import random\n",
    "ls = [round(x,2) for x in [random.uniform(-50,50) for x in range (40)] if x < 0]\n",
    "print(ls)\n",
    "print(f'\\nThere are {len(ls)} negative numbers in the list.')"
   ]
  },
  {
   "cell_type": "markdown",
   "metadata": {},
   "source": [
    "### User-defined Functions"
   ]
  },
  {
   "cell_type": "markdown",
   "metadata": {},
   "source": [
    "Recall, Python will execute lines of code sequentially unless we change the flow. Conditional statements and loops are ways to change the flow of execution within Python. For an `if` structure, we know that one of several blocks of code will be executed and everything else within the structure will be ignored. In a `loop`, Python will reach the end of the loop and return to the beginning of the loop until the loop is finished. `Functions` do not alter the flow of execution, but the block of instructions within the function will not be executed until the function is called."
   ]
  },
  {
   "cell_type": "markdown",
   "metadata": {},
   "source": [
    "The functions we have worked with so far are built-in functions or functions within specific modules. There are many functions to choose from that already exist, but occasionally we need to create our own for a very specific task. One of the benefits of creating or using any function is reusability. Functions only need to be written once and can be reused several times. They are also a way to help us organize our code into blocks, which makes it more readable. For an additional resource on user-defined functions in Python, read through this tutorial: __[User-defined Functions](https://www.tutorialsteacher.com/python/python-user-defined-function)__"
   ]
  },
  {
   "cell_type": "markdown",
   "metadata": {},
   "source": [
    "The general structure of a user-defined function looks like this:\n",
    "```python\n",
    "def my_function(arg1, arg2, ..., argN):\n",
    "    statements\n",
    "    ...\n",
    "```\n",
    "A new function object is generated and assigned to the function's name when Python reaches and runs a `def` statement. The function name becomes a reference to the function object. The arguments, `arg1`, `arg2`, ..., `argN` are passed to functions by assignment.<br><br>\n",
    "The `def` header line above specifies a function called `my_function` that is assigned the function object along with zero or more arguments (sometimes called parameters) in parentheses. Executing functions is a two step process.  The first step is when Python reaches and runs the `def` header line. You will see no output but this loads the function into memory. The next step comes when the function is called. At that point the body of the function is executed. Notice the order of execution in this next example."
   ]
  },
  {
   "cell_type": "code",
   "execution_count": null,
   "metadata": {},
   "outputs": [],
   "source": [
    "def my_function():  # Define the function 'my_function' with zero arguments.\n",
    "    x = 'During'    # This is the body of the function, which is skipped until the function is called.\n",
    "    print(x)\n",
    "    \n",
    "print('Before')  # Execute this print statement first.\n",
    "my_function()    # Call the function 'my function' and execute the body of the function.\n",
    "print('After')    # Execute this print statement last."
   ]
  },
  {
   "cell_type": "markdown",
   "metadata": {},
   "source": [
    "Focus on the order of execution in the example above. Python runs the first line of code which is the `def` header line and loads `my_function` into memory. It skips the block of code designated for the function and goes to the next line outside of this. `Before` is then printed and Python goes to next next line which calls `my_function`. This line tells Python to execute the block of code within `my_function`, which is to print `During`. After Python executes the function call, it goes to the next line after the function call and (in this case) prints `After`."
   ]
  },
  {
   "cell_type": "markdown",
   "metadata": {},
   "source": [
    "The previous example had zero arguments but parentheses were still required. As mentioned above, we can have 0 to N arguments that get passed to the function. When 2 or more arguments exist, they are passed based on their position unless you state otherwise."
   ]
  },
  {
   "cell_type": "code",
   "execution_count": null,
   "metadata": {},
   "outputs": [],
   "source": [
    "def places(city, year):\n",
    "    print(f'I visited {city} in {year}.')"
   ]
  },
  {
   "cell_type": "markdown",
   "metadata": {},
   "source": [
    "When the function `places` is called, it will pass arguments based on the order:"
   ]
  },
  {
   "cell_type": "code",
   "execution_count": null,
   "metadata": {},
   "outputs": [],
   "source": [
    "places('New York City', 2019)\n",
    "places(2017, 'San Francisco')"
   ]
  },
  {
   "cell_type": "markdown",
   "metadata": {},
   "source": [
    "We can specify which value is assigned to each argument by using `keyword arguments`. This will remove the restriction on the order of the arguments, but the number of arguments must be the same."
   ]
  },
  {
   "cell_type": "code",
   "execution_count": null,
   "metadata": {},
   "outputs": [],
   "source": [
    "places(year = 2017, city = 'San Francisco')"
   ]
  },
  {
   "cell_type": "markdown",
   "metadata": {},
   "source": [
    "In this next example, three arguments are assigned values based on keyword arguments. The value `New York City` does not use a keyword argument so it will be assigned to the first argument, `city`, because of it's position when the function is called."
   ]
  },
  {
   "cell_type": "code",
   "execution_count": null,
   "metadata": {},
   "outputs": [],
   "source": [
    "def places(city, site, month, year):\n",
    "    print(f'I went to {city} in {month} of {year} and saw {site}.')\n",
    "\n",
    "places('New York City', month = 'May', year = 2019, site = 'the Statue of Liberty')"
   ]
  },
  {
   "cell_type": "markdown",
   "metadata": {},
   "source": [
    "Function bodies will sometimes contain a `return` statement:\n",
    "```python\n",
    "def my_function(arg1, arg2, ..., argN):\n",
    "    ...\n",
    "    return value\n",
    "```\n",
    "The `return` statement is optional and can show up anywhere in the body of the function. When reached, it ends the function and sends a result back. The return statement shown here consists of an optional object value expression that gives the result of the function. If the value is omitted, a value of `None` will be (implicitly) returned. "
   ]
  },
  {
   "cell_type": "code",
   "execution_count": null,
   "metadata": {},
   "outputs": [],
   "source": [
    "def times(x, y):\n",
    "    return x*y\n",
    "\n",
    "times(12,19) # Call the function 'times' by passing two integers as the arguments"
   ]
  },
  {
   "cell_type": "markdown",
   "metadata": {},
   "source": [
    "Interestingly, when we pass a string and an integer, the meaning of `*` will change. Instead of multiplication, this will repeat the string a certain number of times. So the `times` function created below can either perform repetition or multiplication."
   ]
  },
  {
   "cell_type": "code",
   "execution_count": null,
   "metadata": {},
   "outputs": [],
   "source": [
    "times('Run!',4) # Call the function 'times' by passing a string as the first argument then an integer"
   ]
  },
  {
   "cell_type": "markdown",
   "metadata": {},
   "source": [
    "If we pass a list and an integer, the meaning of `*` is now changed to concatenate the list with itself a certain number of times."
   ]
  },
  {
   "cell_type": "code",
   "execution_count": null,
   "metadata": {},
   "outputs": [],
   "source": [
    "times([2,3,4],3) # Call the function 'times' by passing a list as the first argument then an integer"
   ]
  },
  {
   "cell_type": "markdown",
   "metadata": {},
   "source": [
    "Next we define a function called `intersect` to create a list of common elements in two different sequences. Remember, some examples of sequences we have seen thus far are strings, tuples, and lists. Notice that when you run the cell below that only contains the function, you do not see any output. By running the function cell, you are loading the function into memory so that it can be used within this notebook."
   ]
  },
  {
   "cell_type": "code",
   "execution_count": null,
   "metadata": {},
   "outputs": [],
   "source": [
    "def intersect(seq1, seq2):\n",
    "    common_list = [x for x in seq1 if x in seq2]\n",
    "    return common_list"
   ]
  },
  {
   "cell_type": "markdown",
   "metadata": {},
   "source": [
    "Next we assign a string to each of two different variables and call the function using those two variables."
   ]
  },
  {
   "cell_type": "code",
   "execution_count": null,
   "metadata": {},
   "outputs": [],
   "source": [
    "s1 = 'SNAPPLE'\n",
    "s2 = 'GRAPPLE'\n",
    "intersect(s1, s2)"
   ]
  },
  {
   "cell_type": "markdown",
   "metadata": {},
   "source": [
    "This next example calls the function using lists."
   ]
  },
  {
   "cell_type": "code",
   "execution_count": null,
   "metadata": {},
   "outputs": [],
   "source": [
    "x1 = [1, 5, 3, 'dog', 2, 11]\n",
    "x2 = ['dog', 11, 3, 7, 5, 13]\n",
    "intersect(x1, x2)"
   ]
  },
  {
   "cell_type": "markdown",
   "metadata": {},
   "source": [
    "We can even call the function using mixed types."
   ]
  },
  {
   "cell_type": "code",
   "execution_count": null,
   "metadata": {},
   "outputs": [],
   "source": [
    "x_list = [1, 'a', 3.14]\n",
    "x_tuple = (3.14, 'a')\n",
    "intersect(x_list, x_tuple)"
   ]
  },
  {
   "cell_type": "markdown",
   "metadata": {},
   "source": [
    "<div class=\"alert alert-block alert-success\"><b>Problem 4 (7 pts):</b> Define a function called <font color=b><b>common_divisors</b></font> that takes two positive integers <font color=b><b>m</b></font> and <font color=b><b>n</b></font> as its arguments and returns the list of all common divisors (including 1) of the two integers, unless 1 is the only common divisor. If 1 is the only common divisor, no list is printed and the function should print a statement indicating the two numbers are relatively prime. Otherwise, the function prints the number of common divisors and the list of common divisors.</div>"
   ]
  },
  {
   "cell_type": "code",
   "execution_count": null,
   "metadata": {},
   "outputs": [],
   "source": [
    "# TODO: Define the function 'common_divisors' with two arguments 'm' and 'n'.\n",
    "def common_divisors(m, n):\n",
    "\n",
    "    # TODO: Create a list comprehension to generate a list of common divisors.\n",
    "    ls = [i for i in range(1, min(m,n)+1) if m%i == n%i == 0]\n",
    "        \n",
    "    # TODO: Create a conditional statement to produce the appropriate output as indicated below.\n",
    "    if len(ls) == 1:\n",
    "        print(f'{m} and {n} are relatively prime.')\n",
    "    else:\n",
    "        print(f'{m} and {n} have {len(ls)} common divisors, including 1.')\n",
    "        return ls"
   ]
  },
  {
   "cell_type": "markdown",
   "metadata": {},
   "source": [
    "<div class=\"alert alert-block alert-success\"><b>Problem 4 continued:</b> Call the function <font color=b><b>common_divisors</b></font> by passing 5 and 38. Your output should look like this:</div>\n",
    "\n",
    "`5 and 38 are relatively prime.`"
   ]
  },
  {
   "cell_type": "code",
   "execution_count": null,
   "metadata": {},
   "outputs": [],
   "source": [
    "# TODO: Call the function 'common_divisors' by passing 5 and 38. Your output should appear as indicated above.\n",
    "common_divisors(5, 38)"
   ]
  },
  {
   "cell_type": "markdown",
   "metadata": {},
   "source": [
    "<div class=\"alert alert-block alert-success\"><b>Problem 4 continued:</b> Call the function <font color=b><b>common_divisors</b></font> by passing 72 and 48. Your output should look like this:</div>\n",
    "\n",
    "`72 and 48 have 8 common divisors, including 1.`\n",
    "\n",
    "`[1, 2, 3, 4, 6, 8, 12, 24]`"
   ]
  },
  {
   "cell_type": "code",
   "execution_count": null,
   "metadata": {},
   "outputs": [],
   "source": [
    "# TODO: Call the function 'common_divisors' by passing 72 and 48. Your output should appear as indicated above.\n",
    "common_divisors(72, 48)"
   ]
  },
  {
   "cell_type": "markdown",
   "metadata": {},
   "source": [
    "### Error Handling"
   ]
  },
  {
   "cell_type": "markdown",
   "metadata": {},
   "source": [
    "In the first week of this course you read about three main types of errors. Those were `syntax errors`, `runtime errors`, and `semantic errors`. `Semantic errors` are sometimes the most difficult to debug because these occur when no error message is returned and the program runs, but it doesn't do what it's intended to do. Debugging these types of errors just takes time and practice."
   ]
  },
  {
   "cell_type": "markdown",
   "metadata": {},
   "source": [
    "`Syntax errors` occur when we don't follow the proper syntax recognized by Python. For example, unmatched parentheses or quotation marks, a missing colon, etc. will generate a `SyntaxError` like the following code:"
   ]
  },
  {
   "cell_type": "code",
   "execution_count": null,
   "metadata": {},
   "outputs": [],
   "source": [
    "def add(x, y)\n",
    "    return x+y\n",
    "\n",
    "add(-3,5)"
   ]
  },
  {
   "cell_type": "markdown",
   "metadata": {},
   "source": [
    "A `runtime error` is a somewhat generic indication that <i><u>something bad happened</u></i> and is sometimes referred to as an `exception`. In short, a `runtime error` occurs when the syntax of the program is correct, but something causes an interrupt to the normal flow of execution. There are several different types of `runtime errors`, many of which are built-in. Some examples are division by zero, performing an operation on incompatible types, using an identifier that has not been defined, trying to access a list element which does not exist, or trying to use an object attribute that doesn't exist."
   ]
  },
  {
   "cell_type": "markdown",
   "metadata": {},
   "source": [
    "In this next example, because there are no parentheses around `quotient`, Python is assuming this is a variable. Run the cell to see the runtime error generated by this."
   ]
  },
  {
   "cell_type": "code",
   "execution_count": null,
   "metadata": {},
   "outputs": [],
   "source": [
    "print(quotient)"
   ]
  },
  {
   "cell_type": "markdown",
   "metadata": {},
   "source": [
    "The `+` symbol can be used to add two numbers or to concatenate to strings. However, we know we can't use `+` to join an int (or float) type with a string type. Run the following cell to see the built-in runtime error it generates."
   ]
  },
  {
   "cell_type": "code",
   "execution_count": null,
   "metadata": {},
   "outputs": [],
   "source": [
    "5 + 'abc'"
   ]
  },
  {
   "cell_type": "markdown",
   "metadata": {},
   "source": [
    "Above we have seen the `append` method or attribute used with lists to add elements. But what happens if we try to use this with a different data type other than a list?"
   ]
  },
  {
   "cell_type": "code",
   "execution_count": null,
   "metadata": {},
   "outputs": [],
   "source": [
    "name = 'Lisa'\n",
    "name.append('Brown')"
   ]
  },
  {
   "cell_type": "markdown",
   "metadata": {},
   "source": [
    "### Exceptions"
   ]
  },
  {
   "cell_type": "markdown",
   "metadata": {},
   "source": [
    "The errors demonstrated above are certainly not the only runtime errors that exist or that you will encounter. Obviously, the goal of a programmer is to not encounter errors and certainly not `runtime errors`. When a error like this occurs, the program will stop and not execute the rest of the code. We can raise and catch these errors using the `try/except` control structure so that the rest of the program will be executed. The `try` clause let's us test a block of code for errors and the `except` clause let's us handle the error. The syntax of `try/except` looks like this:\n",
    "```python\n",
    "try:\n",
    "    <tryBlock>\n",
    "except <ErrorType>:\n",
    "    <exceptBlock>\n",
    "```"
   ]
  },
  {
   "cell_type": "markdown",
   "metadata": {},
   "source": [
    "Naming a specific `ErrorType` is optional. However, if a specific error type is named, this will be the runtime error Python looks for. Let's return to the example above with a `NameError`. Some code after the print statement has been added to demonstrate that the program halts once the error is encountered. In this case `quotient` is defined within the function, but this comes after the print statement so Python doesn't know the value when it reaches the print statement."
   ]
  },
  {
   "cell_type": "code",
   "execution_count": null,
   "metadata": {},
   "outputs": [],
   "source": [
    "print(quotient)\n",
    "\n",
    "def div(x, y):\n",
    "    x = int(x)\n",
    "    y = int(y)\n",
    "    quotient = int(x/y)\n",
    "    return quotient\n",
    "        \n",
    "print('Hello, world!')\n",
    "div(4,0)\n",
    "div('a',1)\n",
    "div(18,3)"
   ]
  },
  {
   "cell_type": "markdown",
   "metadata": {},
   "source": [
    "Now let's rewrite the code using `try/except` to handle the `NameError`. In this case the error is caught so that the block of code for the exception is executed. Then Python continues on with the rest of the code. In this case, the `div` function calls are not working because of a `ZeroDivisionError`."
   ]
  },
  {
   "cell_type": "code",
   "execution_count": null,
   "metadata": {},
   "outputs": [],
   "source": [
    "try:\n",
    "    print(quotient)\n",
    "except:\n",
    "    print('Something went wrong')\n",
    "\n",
    "def div(x, y):\n",
    "    x = int(x)\n",
    "    y = int(y)\n",
    "    quotient = int(x/y)\n",
    "    return quotient\n",
    "        \n",
    "print('Hello, world!')\n",
    "div(4,0)\n",
    "div('a',1)\n",
    "div(18,3)"
   ]
  },
  {
   "cell_type": "markdown",
   "metadata": {},
   "source": [
    "We can catch the `ZeroDivisionError` using another `try/except` and add an `else` clause that returns the quotient if the exception is not needed."
   ]
  },
  {
   "cell_type": "code",
   "execution_count": null,
   "metadata": {},
   "outputs": [],
   "source": [
    "try:\n",
    "    print(quotient)\n",
    "except:\n",
    "    print('Something went wrong')\n",
    "\n",
    "def div(x, y):\n",
    "    try:\n",
    "        x = int(x)\n",
    "        y = int(y)\n",
    "        quotient = int(x/y)\n",
    "    except ZeroDivisionError:\n",
    "        print('Enter a nonzero value for the 2nd parameter')\n",
    "    else:\n",
    "        return quotient\n",
    "    \n",
    "print('Hello, world!')        \n",
    "div(4,0)\n",
    "div('a',1)\n",
    "div(18,3)"
   ]
  },
  {
   "cell_type": "markdown",
   "metadata": {},
   "source": [
    "The exception handled the `ZeroDivisionError`, but now we have a `ValueError` to address. We can insert another `except` clause to handle this."
   ]
  },
  {
   "cell_type": "code",
   "execution_count": null,
   "metadata": {},
   "outputs": [],
   "source": [
    "try:\n",
    "    print(quotient)\n",
    "except:\n",
    "    print('Something went wrong')\n",
    "\n",
    "def div(x, y):\n",
    "    try:\n",
    "        x = int(x)\n",
    "        y = int(y)\n",
    "        quotient = int(x/y)\n",
    "    except ZeroDivisionError:\n",
    "        print('Enter a nonzero value for the 2nd parameter')\n",
    "    except ValueError:\n",
    "        print('Both values need to be numeric')\n",
    "    else:\n",
    "        return quotient\n",
    "        \n",
    "print('Hello, world!')\n",
    "div(4,0)\n",
    "div('a',1)\n",
    "div(18,3)"
   ]
  },
  {
   "cell_type": "markdown",
   "metadata": {},
   "source": [
    "We could also let Python use its own error message for each specified error which is sometimes preferred. Here's one way to do this."
   ]
  },
  {
   "cell_type": "code",
   "execution_count": null,
   "metadata": {},
   "outputs": [],
   "source": [
    "try:\n",
    "    print(quotient)\n",
    "except NameError as ne:\n",
    "    print(type(ne),ne)\n",
    "\n",
    "def div(x, y):\n",
    "    try:\n",
    "        x = int(x)\n",
    "        y = int(y)\n",
    "        quotient = int(x/y)\n",
    "    except ZeroDivisionError as ze:\n",
    "        print(type(ze),ze)\n",
    "    except ValueError as ve:\n",
    "        print(type(ve),ve)\n",
    "    else:\n",
    "        return quotient\n",
    "        \n",
    "print('Hello, world!')\n",
    "div(4,0)\n",
    "div('a',1)\n",
    "div(18,3)"
   ]
  },
  {
   "cell_type": "markdown",
   "metadata": {},
   "source": [
    "### Raising Exceptions"
   ]
  },
  {
   "cell_type": "markdown",
   "metadata": {},
   "source": [
    "There are times when we may want or need to manually raise an exception that may not be caught otherwise. Perhaps the program would run otherwise, but would not make sense for certain values or input. For example, suppose we define a function to calculate the area of a square like this:"
   ]
  },
  {
   "cell_type": "code",
   "execution_count": null,
   "metadata": {},
   "outputs": [],
   "source": [
    "def areaSquare(s):\n",
    "    area = s*s\n",
    "    print(f'The area of a square with side length {s} is {area}.')\n",
    "    \n",
    "areaSquare(-5)"
   ]
  },
  {
   "cell_type": "markdown",
   "metadata": {},
   "source": [
    "This function works just fine but a side length less than 0 does not make sense. So we might raise our own exception in this case. We do this using the `raise` command. Notice the control flow of the following program. Our program will trigger a `ValueError` if the numeric argument is less than 0. Python then proceeds to the `except` clause to handle this and prints the corresponding message. If we try to pass something other than a numeric value, Python recognizes we can't compare this with 0 using `<` and a `TypeError` message is generated."
   ]
  },
  {
   "cell_type": "code",
   "execution_count": null,
   "metadata": {},
   "outputs": [],
   "source": [
    "def areaSquare(s):\n",
    "    try:\n",
    "        if s < 0:\n",
    "            raise ValueError\n",
    "        else:\n",
    "            area = s*s\n",
    "            print(f'The area of a square with side length {s} is {area}.')\n",
    "    except ValueError as ve:\n",
    "        print(type(ve),str(s) + ' is not a valid side length. Please enter a positive number')    \n",
    "    except TypeError as te:\n",
    "        print(type(te),te)    \n",
    "\n",
    "# Test Cases        \n",
    "areaSquare(5)\n",
    "areaSquare(10.6)\n",
    "areaSquare(-5)\n",
    "areaSquare([1])\n",
    "areaSquare('z')"
   ]
  },
  {
   "cell_type": "markdown",
   "metadata": {},
   "source": [
    "We all know it's not possible to take the square root of a negative number. More generally, in the mathematical function $f(x) = \\sqrt{ax + b}$, we need $x ≥ -b/a$. Suppose we define a function to evaluate this square root function by passing values for $x$, $a$, and $b$."
   ]
  },
  {
   "cell_type": "code",
   "execution_count": null,
   "metadata": {},
   "outputs": [],
   "source": [
    "import math\n",
    "def sq_rt(x, a, b):\n",
    "    y = math.sqrt(a*x + b)\n",
    "    return y\n",
    "\n",
    "sq_rt(400, 0.1, 4)"
   ]
  },
  {
   "cell_type": "code",
   "execution_count": null,
   "metadata": {},
   "outputs": [],
   "source": [
    "# will get a value error\n",
    "sq_rt(-3000, 0.1, 4)"
   ]
  },
  {
   "cell_type": "markdown",
   "metadata": {},
   "source": [
    "Notice with the values passed, we get a `ValueError` that notifies us we have a `math domain error`. This is fine, but there are no specifics provided. So suppose we want to raise an exception to provide a more specific error message. We will handle this, along with other errors, in this next problem."
   ]
  },
  {
   "cell_type": "markdown",
   "metadata": {},
   "source": [
    "<div class=\"alert alert-block alert-success\"><b>Problem 5 (9 pts):</b> Complete the following steps:\n",
    "\n",
    "1. Define a function called `sq_rt` that calculates $f(x) = \\sqrt{ax+b}$ using arguments for x, a, and b.\n",
    "2. Raise an exception inside of a try/except control structure to catch the `ValueError` if the values passed result in a negative value for $ax + b$ and that prints a desired message.\n",
    "3. Additionally, create an `except` clause to handle a `TypeError`.\n",
    "</div>"
   ]
  },
  {
   "cell_type": "code",
   "execution_count": null,
   "metadata": {},
   "outputs": [],
   "source": [
    "import math\n",
    "\n",
    "#TODO: Define a function called 'sq_rt' with arguments x, a, and b\n",
    "def sq_rt(x, a, b):\n",
    "    domain = -b/a\n",
    "    \n",
    "    # TODO: Add a try clause to handle a ValueError when x is not in the domain\n",
    "    try:\n",
    "        if x < domain:\n",
    "            raise ValueError\n",
    "        else:\n",
    "            y = math.sqrt(a*x + b)\n",
    "        \n",
    "    # TODO: Add an exception to handle a ValueError that prints the message as shown below\n",
    "    except ValueError:\n",
    "        print(f'{x} is not in the domain of f(x). Choose x larger than {domain} for sq_rt({a}x + {b}).')\n",
    "    \n",
    "    # TODO: Add an exception to handle a TypeError that prints the message shown below\n",
    "    except TypeError as te:\n",
    "        print(type(te),'Enter int or float values for x, a, and b.')\n",
    "    \n",
    "    # TODO: Add an else clause to print the result as shown below\n",
    "    else:\n",
    "        print(f'f({x}) = {y:.02f}')"
   ]
  },
  {
   "cell_type": "markdown",
   "metadata": {},
   "source": [
    "<div class=\"alert alert-block alert-success\"><b>Problem 5 continued:</b> Call the function <font color=b><b>sq_rt</b></font> by passing -3000, 0.1, and 4 to trigger a ValueError. Your output should look like this:</div>"
   ]
  },
  {
   "cell_type": "markdown",
   "metadata": {},
   "source": [
    "`-3000 is not in the domain of f(x). Choose x larger than -40.0 for sq_rt(0.1x + 4).`"
   ]
  },
  {
   "cell_type": "code",
   "execution_count": null,
   "metadata": {},
   "outputs": [],
   "source": [
    "# TODO: Call the function by passing -3000, 0.1, and 4. Your output should appear as indicated above.\n",
    "sq_rt(-3000, 0.1, 4)"
   ]
  },
  {
   "cell_type": "markdown",
   "metadata": {},
   "source": [
    "<div class=\"alert alert-block alert-success\"><b>Problem 5 continued:</b> Call the function <font color=b><b>sq_rt</b></font> by passing (1,2), 0.1, and 4 t trigger a TypeErro. Your output should look like this:</div>"
   ]
  },
  {
   "cell_type": "markdown",
   "metadata": {},
   "source": [
    "`Enter int or float values for x, a, and b.`"
   ]
  },
  {
   "cell_type": "code",
   "execution_count": null,
   "metadata": {},
   "outputs": [],
   "source": [
    "# TODO: Call the function by passing (1,2), 0.1, and 4. Your output should appear as indicated above.\n",
    "sq_rt((1, 2), 0.1, 4)"
   ]
  },
  {
   "cell_type": "markdown",
   "metadata": {},
   "source": [
    "<div class=\"alert alert-block alert-success\"><b>Problem 5 continued:</b> Call the function <font color=b><b>sq_rt</b></font> by passing 3000, 0.1, and 4 that calculates the function value. Your output should look like this:</div>"
   ]
  },
  {
   "cell_type": "markdown",
   "metadata": {},
   "source": [
    "`f(3000) = 17.44`"
   ]
  },
  {
   "cell_type": "code",
   "execution_count": null,
   "metadata": {},
   "outputs": [],
   "source": [
    "# TODO: Call the function by passing 3000, 0.1, 4. Your output should appear as indicated above.\n",
    "sq_rt(3000, 0.1, 4)"
   ]
  },
  {
   "cell_type": "code",
   "execution_count": null,
   "metadata": {},
   "outputs": [],
   "source": []
  }
 ],
 "metadata": {
  "kernelspec": {
   "display_name": "Python 3 (ipykernel)",
   "language": "python",
   "name": "python3"
  },
  "language_info": {
   "codemirror_mode": {
    "name": "ipython",
    "version": 3
   },
   "file_extension": ".py",
   "mimetype": "text/x-python",
   "name": "python",
   "nbconvert_exporter": "python",
   "pygments_lexer": "ipython3",
   "version": "3.9.7"
  },
  "varInspector": {
   "cols": {
    "lenName": 16,
    "lenType": 16,
    "lenVar": 40
   },
   "kernels_config": {
    "python": {
     "delete_cmd_postfix": "",
     "delete_cmd_prefix": "del ",
     "library": "var_list.py",
     "varRefreshCmd": "print(var_dic_list())"
    },
    "r": {
     "delete_cmd_postfix": ") ",
     "delete_cmd_prefix": "rm(",
     "library": "var_list.r",
     "varRefreshCmd": "cat(var_dic_list()) "
    }
   },
   "types_to_exclude": [
    "module",
    "function",
    "builtin_function_or_method",
    "instance",
    "_Feature"
   ],
   "window_display": false
  }
 },
 "nbformat": 4,
 "nbformat_minor": 4
}
