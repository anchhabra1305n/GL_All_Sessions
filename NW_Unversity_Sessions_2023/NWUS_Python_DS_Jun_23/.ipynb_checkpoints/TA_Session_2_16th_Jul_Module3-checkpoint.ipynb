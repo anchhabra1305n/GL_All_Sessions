{
 "cells": [
  {
   "cell_type": "markdown",
   "id": "19c71214",
   "metadata": {},
   "source": [
    "# While Loop\n",
    "**Python while loop is used to run a block code until a certain condition is met.**"
   ]
  },
  {
   "cell_type": "code",
   "execution_count": 3,
   "id": "f5673ff3",
   "metadata": {},
   "outputs": [],
   "source": [
    "# while condition:\n",
    "    # body of while loop"
   ]
  },
  {
   "cell_type": "markdown",
   "id": "dee5ddd4",
   "metadata": {},
   "source": [
    "A while loop evaluates the condition\n",
    "\n",
    "If the condition evaluates to True, the code inside the while loop is executed.\n",
    "\n",
    "condition is evaluated again.\n",
    "\n",
    "This process continues until the condition is False.\n",
    "\n",
    "When condition evaluates to False, the loop stops."
   ]
  },
  {
   "cell_type": "code",
   "execution_count": 4,
   "id": "db707553",
   "metadata": {},
   "outputs": [
    {
     "name": "stdout",
     "output_type": "stream",
     "text": [
      "1\n",
      "2\n",
      "3\n",
      "4\n",
      "5\n"
     ]
    }
   ],
   "source": [
    "# program to display numbers from 1 to 5\n",
    "\n",
    "# initialize the variable\n",
    "i = 1\n",
    "n = 5\n",
    "\n",
    "# while loop from i = 1 to 5\n",
    "while i <= n:\n",
    "    \n",
    "    print(i)\n",
    "    \n",
    "    i = i + 1"
   ]
  },
  {
   "cell_type": "code",
   "execution_count": 5,
   "id": "aba8256e",
   "metadata": {},
   "outputs": [
    {
     "name": "stdout",
     "output_type": "stream",
     "text": [
      "Enter a number: 10\n",
      "Enter a number: 10\n",
      "Enter a number: 0\n",
      "total = 20\n"
     ]
    }
   ],
   "source": [
    "# program to calculate the sum of numbers\n",
    "# until the user enters zero\n",
    "\n",
    "total = 0\n",
    "\n",
    "number = int(input('Enter a number: '))\n",
    "\n",
    "# add numbers until number is zero\n",
    "while number != 0:\n",
    "    total += number    # total = total + number\n",
    "    \n",
    "    # take integer input again\n",
    "    number = int(input('Enter a number: '))\n",
    "    \n",
    "\n",
    "print('total =', total)"
   ]
  },
  {
   "cell_type": "markdown",
   "id": "2056b651",
   "metadata": {},
   "source": [
    "## Infinite while Loop in Python\n",
    "\n",
    "If the condition of a loop is always True, the loop runs for infinite times (until the memory is full). For example,"
   ]
  },
  {
   "cell_type": "code",
   "execution_count": 7,
   "id": "acf58640",
   "metadata": {},
   "outputs": [],
   "source": [
    "# age = 32\n",
    "\n",
    "# # the test condition is always True\n",
    "# while age > 18:\n",
    "#     print('You can vote')"
   ]
  },
  {
   "cell_type": "markdown",
   "id": "153f5af5",
   "metadata": {},
   "source": [
    "## Python While loop with else"
   ]
  },
  {
   "cell_type": "code",
   "execution_count": 8,
   "id": "2431ffe8",
   "metadata": {},
   "outputs": [
    {
     "name": "stdout",
     "output_type": "stream",
     "text": [
      "Inside loop\n",
      "Inside loop\n",
      "Inside loop\n",
      "Inside else\n"
     ]
    }
   ],
   "source": [
    "counter = 0\n",
    "\n",
    "while counter < 3:\n",
    "    print('Inside loop')\n",
    "    counter = counter + 1\n",
    "\n",
    "else:\n",
    "    print('Inside else')"
   ]
  },
  {
   "cell_type": "markdown",
   "id": "2f513f3e",
   "metadata": {},
   "source": [
    " The else block will not execute if the while loop is terminated by a break statement."
   ]
  },
  {
   "cell_type": "markdown",
   "id": "b5d2dea7",
   "metadata": {},
   "source": [
    "## Working of Python break Statement"
   ]
  },
  {
   "cell_type": "code",
   "execution_count": 11,
   "id": "dc7e6dd6",
   "metadata": {},
   "outputs": [
    {
     "name": "stdout",
     "output_type": "stream",
     "text": [
      "Inside loop\n"
     ]
    }
   ],
   "source": [
    "counter = 0\n",
    "\n",
    "while counter < 3:\n",
    "    # loop ends because of break\n",
    "    # the else part is not executed \n",
    "    if counter == 1:\n",
    "        break\n",
    "\n",
    "    print('Inside loop')\n",
    "    counter = counter + 1\n",
    "\n",
    "else:\n",
    "    print('Inside else')"
   ]
  },
  {
   "cell_type": "code",
   "execution_count": 13,
   "id": "c31a74fe",
   "metadata": {},
   "outputs": [
    {
     "name": "stdout",
     "output_type": "stream",
     "text": [
      "6 * 1 = 6\n",
      "6 * 2 = 12\n",
      "6 * 3 = 18\n",
      "6 * 4 = 24\n",
      "6 * 5 = 30\n"
     ]
    }
   ],
   "source": [
    "# program to find first 5 multiples of 6\n",
    "\n",
    "i = 1\n",
    "\n",
    "while i <= 10:\n",
    "    print('6 *',(i), '=',6 * i)\n",
    "\n",
    "    if i >= 5:\n",
    "        break\n",
    "    \n",
    "    i = i + 1"
   ]
  },
  {
   "cell_type": "markdown",
   "id": "7701d3b6",
   "metadata": {},
   "source": [
    "# For Loop"
   ]
  },
  {
   "cell_type": "markdown",
   "id": "53ab7a3e",
   "metadata": {},
   "source": [
    "The for loop is usually used when the number of iterations is known. To iterate over sequences such as lists, tuples, string, etc."
   ]
  },
  {
   "cell_type": "code",
   "execution_count": 14,
   "id": "014f5a48",
   "metadata": {},
   "outputs": [
    {
     "name": "stdout",
     "output_type": "stream",
     "text": [
      "Swift\n",
      "Python\n",
      "Go\n",
      "JavaScript\n"
     ]
    }
   ],
   "source": [
    "languages = ['Swift', 'Python', 'Go', 'JavaScript']\n",
    "\n",
    "# run a loop for each item of the list\n",
    "for language in languages:\n",
    "    print(language)"
   ]
  },
  {
   "cell_type": "markdown",
   "id": "4398cc9d",
   "metadata": {},
   "source": [
    "## Dataframe example"
   ]
  },
  {
   "cell_type": "code",
   "execution_count": 15,
   "id": "c6e44325",
   "metadata": {},
   "outputs": [],
   "source": [
    "import pandas as pd"
   ]
  },
  {
   "cell_type": "code",
   "execution_count": 16,
   "id": "c9646719",
   "metadata": {},
   "outputs": [],
   "source": [
    "# List of Tuples\n",
    "students = [('Ankit', 22, 'A'),\n",
    "           ('Swapnil', 22, 'B'),\n",
    "           ('Priya', 22, 'B'),\n",
    "           ('Shivangi', 22, 'B'),\n",
    "            ]\n",
    " \n",
    "# Create a DataFrame object\n",
    "stu_df = pd.DataFrame(students, columns =['Name', 'Age', 'Section'],\n",
    "                      index =['1', '2', '3', '4'])"
   ]
  },
  {
   "cell_type": "code",
   "execution_count": 17,
   "id": "61e066a5",
   "metadata": {},
   "outputs": [
    {
     "data": {
      "text/html": [
       "<div>\n",
       "<style scoped>\n",
       "    .dataframe tbody tr th:only-of-type {\n",
       "        vertical-align: middle;\n",
       "    }\n",
       "\n",
       "    .dataframe tbody tr th {\n",
       "        vertical-align: top;\n",
       "    }\n",
       "\n",
       "    .dataframe thead th {\n",
       "        text-align: right;\n",
       "    }\n",
       "</style>\n",
       "<table border=\"1\" class=\"dataframe\">\n",
       "  <thead>\n",
       "    <tr style=\"text-align: right;\">\n",
       "      <th></th>\n",
       "      <th>Name</th>\n",
       "      <th>Age</th>\n",
       "      <th>Section</th>\n",
       "    </tr>\n",
       "  </thead>\n",
       "  <tbody>\n",
       "    <tr>\n",
       "      <th>1</th>\n",
       "      <td>Ankit</td>\n",
       "      <td>22</td>\n",
       "      <td>A</td>\n",
       "    </tr>\n",
       "    <tr>\n",
       "      <th>2</th>\n",
       "      <td>Swapnil</td>\n",
       "      <td>22</td>\n",
       "      <td>B</td>\n",
       "    </tr>\n",
       "    <tr>\n",
       "      <th>3</th>\n",
       "      <td>Priya</td>\n",
       "      <td>22</td>\n",
       "      <td>B</td>\n",
       "    </tr>\n",
       "    <tr>\n",
       "      <th>4</th>\n",
       "      <td>Shivangi</td>\n",
       "      <td>22</td>\n",
       "      <td>B</td>\n",
       "    </tr>\n",
       "  </tbody>\n",
       "</table>\n",
       "</div>"
      ],
      "text/plain": [
       "       Name  Age Section\n",
       "1     Ankit   22       A\n",
       "2   Swapnil   22       B\n",
       "3     Priya   22       B\n",
       "4  Shivangi   22       B"
      ]
     },
     "execution_count": 17,
     "metadata": {},
     "output_type": "execute_result"
    }
   ],
   "source": [
    "stu_df"
   ]
  },
  {
   "cell_type": "code",
   "execution_count": 25,
   "id": "e4edaabf",
   "metadata": {},
   "outputs": [
    {
     "data": {
      "text/plain": [
       "Index(['Name', 'Age', 'Section'], dtype='object')"
      ]
     },
     "execution_count": 25,
     "metadata": {},
     "output_type": "execute_result"
    }
   ],
   "source": [
    "stu_df.columns"
   ]
  },
  {
   "cell_type": "code",
   "execution_count": 24,
   "id": "8e678563",
   "metadata": {},
   "outputs": [
    {
     "name": "stdout",
     "output_type": "stream",
     "text": [
      "Column Name :  Name\n",
      "Column Name :  Age\n",
      "Column Name :  Section\n"
     ]
    }
   ],
   "source": [
    "# gives a tuple of column name and series\n",
    "# for each column in the dataframe\n",
    "for (columnName) in stu_df.columns:\n",
    "    print('Column Name : ', columnName)"
   ]
  },
  {
   "cell_type": "markdown",
   "id": "5f1dfd6e",
   "metadata": {},
   "source": [
    "## Python break Statement with for Loop"
   ]
  },
  {
   "cell_type": "code",
   "execution_count": 26,
   "id": "fd943108",
   "metadata": {},
   "outputs": [
    {
     "name": "stdout",
     "output_type": "stream",
     "text": [
      "0\n",
      "1\n",
      "2\n"
     ]
    }
   ],
   "source": [
    "for i in range(5):\n",
    "    if i == 3:\n",
    "        break\n",
    "    print(i)"
   ]
  },
  {
   "cell_type": "markdown",
   "id": "8e9d24ee",
   "metadata": {},
   "source": [
    "# Python continue Statement"
   ]
  },
  {
   "cell_type": "markdown",
   "id": "2a06661d",
   "metadata": {},
   "source": [
    "We can use the continue statement with the for loop to skip the current iteration of the loop. Then the control of the program jumps to the next iteration. "
   ]
  },
  {
   "cell_type": "code",
   "execution_count": 27,
   "id": "a9d0a172",
   "metadata": {},
   "outputs": [
    {
     "name": "stdout",
     "output_type": "stream",
     "text": [
      "0\n",
      "1\n",
      "2\n",
      "4\n"
     ]
    }
   ],
   "source": [
    "for i in range(5):\n",
    "    if i == 3:\n",
    "        continue\n",
    "    print(i)"
   ]
  },
  {
   "cell_type": "code",
   "execution_count": 30,
   "id": "9f8a6f30",
   "metadata": {},
   "outputs": [
    {
     "name": "stdout",
     "output_type": "stream",
     "text": [
      "0\n",
      "1\n",
      "2\n",
      "3\n",
      "4\n"
     ]
    }
   ],
   "source": [
    "for i in range(5):\n",
    "    print(i)"
   ]
  },
  {
   "cell_type": "markdown",
   "id": "e0f65bf2",
   "metadata": {},
   "source": [
    "## Python continue Statement with while Loop"
   ]
  },
  {
   "cell_type": "code",
   "execution_count": 31,
   "id": "446c8f3e",
   "metadata": {},
   "outputs": [
    {
     "name": "stdout",
     "output_type": "stream",
     "text": [
      "1\n",
      "3\n",
      "5\n",
      "7\n",
      "9\n"
     ]
    }
   ],
   "source": [
    "# program to print odd numbers from 1 to 10\n",
    "\n",
    "num = 0\n",
    "\n",
    "while num < 10:\n",
    "    num += 1\n",
    "    \n",
    "    if (num % 2) == 0:\n",
    "        continue\n",
    "# Here, when the number is even, the continue statement skips the current \n",
    "# iteration and starts the next iteration.\n",
    "\n",
    "    print(num)"
   ]
  },
  {
   "cell_type": "markdown",
   "id": "263665fc",
   "metadata": {},
   "source": [
    "# Nested While Loop"
   ]
  },
  {
   "cell_type": "code",
   "execution_count": 37,
   "id": "a3c09fa3",
   "metadata": {},
   "outputs": [
    {
     "name": "stdout",
     "output_type": "stream",
     "text": [
      "0 1 2 3 \n",
      "0 2 4 6 \n",
      "0 3 6 9 \n",
      "0 4 8 12 \n"
     ]
    }
   ],
   "source": [
    "i = 1\n",
    "while i <= 4 :\n",
    "    j = 0\n",
    "    while  j <= 3 :\n",
    "        print(i*j, end=\" \")\n",
    "        j += 1\n",
    "    print()\n",
    "    i += 1"
   ]
  },
  {
   "cell_type": "code",
   "execution_count": 36,
   "id": "f2b70c65",
   "metadata": {},
   "outputs": [
    {
     "name": "stdout",
     "output_type": "stream",
     "text": [
      "I: 1\n",
      "J: 0\n",
      "i*j: 0 J: 1\n",
      "i*j: 1 J: 2\n",
      "i*j: 2 J: 3\n",
      "i*j: 3 \n",
      "I: 2\n",
      "J: 0\n",
      "i*j: 0 J: 1\n",
      "i*j: 2 J: 2\n",
      "i*j: 4 J: 3\n",
      "i*j: 6 \n",
      "I: 3\n",
      "J: 0\n",
      "i*j: 0 J: 1\n",
      "i*j: 3 J: 2\n",
      "i*j: 6 J: 3\n",
      "i*j: 9 \n",
      "I: 4\n",
      "J: 0\n",
      "i*j: 0 J: 1\n",
      "i*j: 4 J: 2\n",
      "i*j: 8 J: 3\n",
      "i*j: 12 \n"
     ]
    }
   ],
   "source": [
    "i = 1\n",
    "while i <= 4 :\n",
    "    print(\"I:\", i)\n",
    "    j = 0\n",
    "    while  j <= 3 :\n",
    "        print(\"J:\", j)\n",
    "        print(\"i*j:\",i*j, end=\" \")\n",
    "        j += 1\n",
    "    print()\n",
    "    i += 1"
   ]
  },
  {
   "cell_type": "code",
   "execution_count": 33,
   "id": "4c2c8b05",
   "metadata": {},
   "outputs": [
    {
     "name": "stdout",
     "output_type": "stream",
     "text": [
      "1 \n",
      "1 2 \n",
      "1 2 3 \n",
      "1 2 3 4 \n",
      "1 2 3 4 5 \n"
     ]
    }
   ],
   "source": [
    "i=1\n",
    "while i<=5:\n",
    "    j=1\n",
    "    while j<=i:\n",
    "        print(j,end=\" \")\n",
    "        j=j+1\n",
    "    print(\"\")\n",
    "    i=i+1"
   ]
  },
  {
   "cell_type": "markdown",
   "id": "0ec559e1",
   "metadata": {},
   "source": [
    "# User Defined Function"
   ]
  },
  {
   "cell_type": "code",
   "execution_count": 42,
   "id": "392cdb94",
   "metadata": {},
   "outputs": [
    {
     "name": "stdout",
     "output_type": "stream",
     "text": [
      "The sum is 11\n"
     ]
    }
   ],
   "source": [
    "# Program to illustrate the use of user-defined functions\n",
    "\n",
    "def add_numbers(x,y):\n",
    "    sum = x + y\n",
    "    return sum\n",
    "\n",
    "num1 = 5\n",
    "num2 = 6\n",
    "\n",
    "print(\"The sum is\", add_numbers(num1, num2))"
   ]
  },
  {
   "cell_type": "code",
   "execution_count": 48,
   "id": "0e444080",
   "metadata": {},
   "outputs": [
    {
     "name": "stdout",
     "output_type": "stream",
     "text": [
      "The square of 1 is 1\n",
      "The square of 2 is 4\n",
      "The square of 3 is 9\n",
      "The square of 4 is 16\n",
      "The square of 5 is 25\n"
     ]
    }
   ],
   "source": [
    "# Define a function to calculate the square of a number\n",
    "def square(number):\n",
    "    return number ** 2\n",
    "\n",
    "# Iterate over a range of numbers and apply the square function\n",
    "for i in range(1, 6):\n",
    "    result = square(i)\n",
    "    print(f\"The square of {i} is {result}\")"
   ]
  },
  {
   "cell_type": "markdown",
   "id": "3ad8c0ba",
   "metadata": {},
   "source": [
    "## Example 2"
   ]
  },
  {
   "cell_type": "code",
   "execution_count": null,
   "id": "0fba4bec",
   "metadata": {},
   "outputs": [],
   "source": [
    "# Define a function to check if a number is prime\n",
    "def is_prime(number):\n",
    "    if number < 2:\n",
    "        return False\n",
    "    for i in range(2, int(number ** 0.5) + 1):\n",
    "        if number % i == 0:\n",
    "            return False\n",
    "    return True\n",
    "\n",
    "# Create a list of numbers\n",
    "numbers = [7, 12, 23, 36, 41, 52]\n",
    "\n",
    "# Iterate over the numbers and check if they are prime\n",
    "for num in numbers:\n",
    "    if is_prime(num):\n",
    "        print(f\"{num} is a prime number\")\n",
    "    else:\n",
    "        print(f\"{num} is not a prime number\")"
   ]
  },
  {
   "cell_type": "code",
   "execution_count": 49,
   "id": "49eb18d5",
   "metadata": {},
   "outputs": [
    {
     "name": "stdout",
     "output_type": "stream",
     "text": [
      "7 is a prime number\n",
      "12 is not a prime number\n",
      "23 is a prime number\n",
      "36 is not a prime number\n",
      "41 is a prime number\n",
      "52 is not a prime number\n"
     ]
    }
   ],
   "source": [
    "# Define a function to check if a number is prime\n",
    "def is_prime(number):\n",
    "    if number < 2:\n",
    "        return False\n",
    "\n",
    "# The first if statement checks if the number is less than 2. \n",
    "# In mathematics, prime numbers are defined as integers greater than 1. \n",
    "# If the number is less than 2, it means it cannot be prime, \n",
    "# so the function immediately returns False.\n",
    "\n",
    "    for i in range(2, int(number ** 0.5) + 1):\n",
    "        if number % i == 0:\n",
    "            return False\n",
    "# The for loop starts from 2 and iterates up to the square root of the number \n",
    "#(rounded up to the nearest integer) plus 1. \n",
    "# The purpose of this loop is to check if the number is divisible by any integer between 2 and its square root. \n",
    "# If it is divisible, it means the number is not prime, so the function returns False.\n",
    "    return True\n",
    "\n",
    "#If the for loop completes without finding any divisors, it means the number is not \n",
    "#divisible by any integer between 2 and its square root. \n",
    "#In other words, it is a prime number, so the function returns True.\n",
    "\n",
    "# Create a list of numbers\n",
    "numbers = [7, 12, 23, 36, 41, 52]\n",
    "\n",
    "# Iterate over the numbers and check if they are prime\n",
    "for num in numbers:\n",
    "    if is_prime(num):\n",
    "        print(f\"{num} is a prime number\")\n",
    "    else:\n",
    "        print(f\"{num} is not a prime number\")"
   ]
  },
  {
   "cell_type": "markdown",
   "id": "4d538671",
   "metadata": {},
   "source": [
    "## Example 3"
   ]
  },
  {
   "cell_type": "code",
   "execution_count": 38,
   "id": "0da4e27d",
   "metadata": {},
   "outputs": [],
   "source": [
    "import pandas as pd\n",
    "\n",
    "# Define a function to calculate the total sales for each row in a DataFrame\n",
    "def calculate_total_sales(row):\n",
    "    return row['Quantity'] * row['Price']\n",
    "\n",
    "# Create a DataFrame\n",
    "data = {'Product': ['A', 'B', 'C'],\n",
    "        'Quantity': [10, 5, 3],\n",
    "        'Price': [15.99, 9.99, 12.50]}\n",
    "df = pd.DataFrame(data)"
   ]
  },
  {
   "cell_type": "code",
   "execution_count": 40,
   "id": "6ef5abc1",
   "metadata": {},
   "outputs": [
    {
     "data": {
      "text/html": [
       "<div>\n",
       "<style scoped>\n",
       "    .dataframe tbody tr th:only-of-type {\n",
       "        vertical-align: middle;\n",
       "    }\n",
       "\n",
       "    .dataframe tbody tr th {\n",
       "        vertical-align: top;\n",
       "    }\n",
       "\n",
       "    .dataframe thead th {\n",
       "        text-align: right;\n",
       "    }\n",
       "</style>\n",
       "<table border=\"1\" class=\"dataframe\">\n",
       "  <thead>\n",
       "    <tr style=\"text-align: right;\">\n",
       "      <th></th>\n",
       "      <th>Product</th>\n",
       "      <th>Quantity</th>\n",
       "      <th>Price</th>\n",
       "      <th>Total Sales</th>\n",
       "    </tr>\n",
       "  </thead>\n",
       "  <tbody>\n",
       "    <tr>\n",
       "      <th>0</th>\n",
       "      <td>A</td>\n",
       "      <td>10</td>\n",
       "      <td>15.99</td>\n",
       "      <td>159.90</td>\n",
       "    </tr>\n",
       "    <tr>\n",
       "      <th>1</th>\n",
       "      <td>B</td>\n",
       "      <td>5</td>\n",
       "      <td>9.99</td>\n",
       "      <td>49.95</td>\n",
       "    </tr>\n",
       "    <tr>\n",
       "      <th>2</th>\n",
       "      <td>C</td>\n",
       "      <td>3</td>\n",
       "      <td>12.50</td>\n",
       "      <td>37.50</td>\n",
       "    </tr>\n",
       "  </tbody>\n",
       "</table>\n",
       "</div>"
      ],
      "text/plain": [
       "  Product  Quantity  Price  Total Sales\n",
       "0       A        10  15.99       159.90\n",
       "1       B         5   9.99        49.95\n",
       "2       C         3  12.50        37.50"
      ]
     },
     "execution_count": 40,
     "metadata": {},
     "output_type": "execute_result"
    }
   ],
   "source": [
    "df"
   ]
  },
  {
   "cell_type": "code",
   "execution_count": 41,
   "id": "9fd8b39b",
   "metadata": {},
   "outputs": [
    {
     "data": {
      "text/html": [
       "<div>\n",
       "<style scoped>\n",
       "    .dataframe tbody tr th:only-of-type {\n",
       "        vertical-align: middle;\n",
       "    }\n",
       "\n",
       "    .dataframe tbody tr th {\n",
       "        vertical-align: top;\n",
       "    }\n",
       "\n",
       "    .dataframe thead th {\n",
       "        text-align: right;\n",
       "    }\n",
       "</style>\n",
       "<table border=\"1\" class=\"dataframe\">\n",
       "  <thead>\n",
       "    <tr style=\"text-align: right;\">\n",
       "      <th></th>\n",
       "      <th>Product</th>\n",
       "      <th>Quantity</th>\n",
       "      <th>Price</th>\n",
       "      <th>Total Sales</th>\n",
       "    </tr>\n",
       "  </thead>\n",
       "  <tbody>\n",
       "    <tr>\n",
       "      <th>0</th>\n",
       "      <td>A</td>\n",
       "      <td>10</td>\n",
       "      <td>15.99</td>\n",
       "      <td>159.90</td>\n",
       "    </tr>\n",
       "    <tr>\n",
       "      <th>1</th>\n",
       "      <td>B</td>\n",
       "      <td>5</td>\n",
       "      <td>9.99</td>\n",
       "      <td>49.95</td>\n",
       "    </tr>\n",
       "    <tr>\n",
       "      <th>2</th>\n",
       "      <td>C</td>\n",
       "      <td>3</td>\n",
       "      <td>12.50</td>\n",
       "      <td>37.50</td>\n",
       "    </tr>\n",
       "  </tbody>\n",
       "</table>\n",
       "</div>"
      ],
      "text/plain": [
       "  Product  Quantity  Price  Total Sales\n",
       "0       A        10  15.99       159.90\n",
       "1       B         5   9.99        49.95\n",
       "2       C         3  12.50        37.50"
      ]
     },
     "execution_count": 41,
     "metadata": {},
     "output_type": "execute_result"
    }
   ],
   "source": [
    "# Apply the function to calculate the total sales for each row\n",
    "df['Total Sales'] = df.apply(calculate_total_sales, axis=1)\n",
    "\n",
    "# Print the updated DataFrame\n",
    "df"
   ]
  },
  {
   "cell_type": "markdown",
   "id": "aaafdc35",
   "metadata": {},
   "source": [
    "## Example 4"
   ]
  },
  {
   "cell_type": "code",
   "execution_count": 44,
   "id": "4e0bd56c",
   "metadata": {},
   "outputs": [
    {
     "data": {
      "text/html": [
       "<div>\n",
       "<style scoped>\n",
       "    .dataframe tbody tr th:only-of-type {\n",
       "        vertical-align: middle;\n",
       "    }\n",
       "\n",
       "    .dataframe tbody tr th {\n",
       "        vertical-align: top;\n",
       "    }\n",
       "\n",
       "    .dataframe thead th {\n",
       "        text-align: right;\n",
       "    }\n",
       "</style>\n",
       "<table border=\"1\" class=\"dataframe\">\n",
       "  <thead>\n",
       "    <tr style=\"text-align: right;\">\n",
       "      <th></th>\n",
       "      <th>Product</th>\n",
       "      <th>Price</th>\n",
       "    </tr>\n",
       "  </thead>\n",
       "  <tbody>\n",
       "    <tr>\n",
       "      <th>0</th>\n",
       "      <td>A</td>\n",
       "      <td>7.5</td>\n",
       "    </tr>\n",
       "    <tr>\n",
       "      <th>1</th>\n",
       "      <td>B</td>\n",
       "      <td>15.2</td>\n",
       "    </tr>\n",
       "    <tr>\n",
       "      <th>2</th>\n",
       "      <td>C</td>\n",
       "      <td>12.8</td>\n",
       "    </tr>\n",
       "    <tr>\n",
       "      <th>3</th>\n",
       "      <td>D</td>\n",
       "      <td>5.3</td>\n",
       "    </tr>\n",
       "    <tr>\n",
       "      <th>4</th>\n",
       "      <td>E</td>\n",
       "      <td>21.1</td>\n",
       "    </tr>\n",
       "  </tbody>\n",
       "</table>\n",
       "</div>"
      ],
      "text/plain": [
       "  Product  Price\n",
       "0       A    7.5\n",
       "1       B   15.2\n",
       "2       C   12.8\n",
       "3       D    5.3\n",
       "4       E   21.1"
      ]
     },
     "execution_count": 44,
     "metadata": {},
     "output_type": "execute_result"
    }
   ],
   "source": [
    "import pandas as pd\n",
    "\n",
    "# Create a DataFrame\n",
    "data = {'Product': ['A', 'B', 'C', 'D', 'E'],\n",
    "        'Price': [7.50, 15.20, 12.80, 5.30, 21.10]}\n",
    "df = pd.DataFrame(data)\n",
    "\n",
    "df"
   ]
  },
  {
   "cell_type": "code",
   "execution_count": 45,
   "id": "9587a7ac",
   "metadata": {},
   "outputs": [],
   "source": [
    "# Define a function to categorize products based on their price\n",
    "def categorize_product(price):\n",
    "    if price < 10:\n",
    "        return 'Low'\n",
    "    elif price >= 10 and price < 20:\n",
    "        return 'Medium'\n",
    "    else:\n",
    "        return 'High'"
   ]
  },
  {
   "cell_type": "code",
   "execution_count": 47,
   "id": "3c7e9f5e",
   "metadata": {},
   "outputs": [
    {
     "data": {
      "text/html": [
       "<div>\n",
       "<style scoped>\n",
       "    .dataframe tbody tr th:only-of-type {\n",
       "        vertical-align: middle;\n",
       "    }\n",
       "\n",
       "    .dataframe tbody tr th {\n",
       "        vertical-align: top;\n",
       "    }\n",
       "\n",
       "    .dataframe thead th {\n",
       "        text-align: right;\n",
       "    }\n",
       "</style>\n",
       "<table border=\"1\" class=\"dataframe\">\n",
       "  <thead>\n",
       "    <tr style=\"text-align: right;\">\n",
       "      <th></th>\n",
       "      <th>Product</th>\n",
       "      <th>Price</th>\n",
       "      <th>Category</th>\n",
       "    </tr>\n",
       "  </thead>\n",
       "  <tbody>\n",
       "    <tr>\n",
       "      <th>0</th>\n",
       "      <td>A</td>\n",
       "      <td>7.5</td>\n",
       "      <td>Low</td>\n",
       "    </tr>\n",
       "    <tr>\n",
       "      <th>1</th>\n",
       "      <td>B</td>\n",
       "      <td>15.2</td>\n",
       "      <td>Medium</td>\n",
       "    </tr>\n",
       "    <tr>\n",
       "      <th>2</th>\n",
       "      <td>C</td>\n",
       "      <td>12.8</td>\n",
       "      <td>Medium</td>\n",
       "    </tr>\n",
       "    <tr>\n",
       "      <th>3</th>\n",
       "      <td>D</td>\n",
       "      <td>5.3</td>\n",
       "      <td>Low</td>\n",
       "    </tr>\n",
       "    <tr>\n",
       "      <th>4</th>\n",
       "      <td>E</td>\n",
       "      <td>21.1</td>\n",
       "      <td>High</td>\n",
       "    </tr>\n",
       "  </tbody>\n",
       "</table>\n",
       "</div>"
      ],
      "text/plain": [
       "  Product  Price Category\n",
       "0       A    7.5      Low\n",
       "1       B   15.2   Medium\n",
       "2       C   12.8   Medium\n",
       "3       D    5.3      Low\n",
       "4       E   21.1     High"
      ]
     },
     "execution_count": 47,
     "metadata": {},
     "output_type": "execute_result"
    }
   ],
   "source": [
    "# Apply the function to create a new column 'Category' based on 'Price' values\n",
    "df['Category'] = df['Price'].apply(categorize_product)\n",
    "\n",
    "# Print the updated DataFrame\n",
    "df"
   ]
  }
 ],
 "metadata": {
  "kernelspec": {
   "display_name": "Python 3 (ipykernel)",
   "language": "python",
   "name": "python3"
  },
  "language_info": {
   "codemirror_mode": {
    "name": "ipython",
    "version": 3
   },
   "file_extension": ".py",
   "mimetype": "text/x-python",
   "name": "python",
   "nbconvert_exporter": "python",
   "pygments_lexer": "ipython3",
   "version": "3.9.7"
  }
 },
 "nbformat": 4,
 "nbformat_minor": 5
}
