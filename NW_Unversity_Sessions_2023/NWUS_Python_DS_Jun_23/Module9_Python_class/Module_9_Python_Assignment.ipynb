{
 "cells": [
  {
   "cell_type": "markdown",
   "metadata": {},
   "source": [
    "# MSDS 430 Module 9 Python Assignment \n"
   ]
  },
  {
   "cell_type": "markdown",
   "metadata": {},
   "source": [
    "<div class=\"alert alert-block alert-warning\"><b>\n",
    "This is a cumulative assignment that will put to use many of the Python skills you have learned this quarter. You will not be provided with TODO statements to guide you in completing each problem as was done with previous assignments. The intent is that you draw upon your knowledge from the course and complete each problem on your own without specific guidance on intermediate steps.\n",
    "    \n",
    "</b>\n",
    "</div>"
   ]
  },
  {
   "cell_type": "code",
   "execution_count": null,
   "metadata": {},
   "outputs": [],
   "source": [
    "# https://www.maritime.dot.gov/data-reports/data-statistics/us-waterborne-foreign-container-trade-us-customs-ports-2000-%E2%80%93-2017"
   ]
  },
  {
   "attachments": {
    "image.png": {
     "image/png": "[encoded data removed]"
    }
   },
   "cell_type": "markdown",
   "metadata": {},
   "source": [
    "![image.png](attachment:image.png)"
   ]
  },
  {
   "cell_type": "code",
   "execution_count": null,
   "metadata": {},
   "outputs": [],
   "source": [
    "# load libraries\n",
    "import pandas as pd\n",
    "import numpy as np\n",
    " \n",
    "# set output for zero decimals places and commas to denote thousands\n",
    "pd.options.display.float_format = '{:,.2f}'.format\n",
    "\n",
    "# allow multiple output in one cell window\n",
    "from IPython.core.interactiveshell import InteractiveShell\n",
    "InteractiveShell.ast_node_interactivity = \"all\""
   ]
  },
  {
   "cell_type": "markdown",
   "metadata": {},
   "source": [
    "<div class=\"alert alert-block alert-success\">\n",
    "<b> Problem 1: (3 points) </b> In Module 4 you learned how to use Pandas to read in different file types. Use Pandas to read the <mark>Import and Export tons.csv</mark> file provided into a dataframe called <mark>df</mark>. <br>\n",
    "\n",
    "1. Read in the file.<br>\n",
    "2. Display the columns in the file and the number of records.<br>\n",
    "3. Display the first 10 records of your dataframe.\n",
    "\n",
    "</div>"
   ]
  },
  {
   "cell_type": "code",
   "execution_count": null,
   "metadata": {},
   "outputs": [],
   "source": []
  },
  {
   "cell_type": "markdown",
   "metadata": {},
   "source": [
    "<div class=\"alert alert-block alert-success\">\n",
    "    <b> Problem 2: (5 points) </b> In module 5 you learned how to inspect fields within a dataframe. Use five separate cells to inspect each field in <mark>df</mark> so that you can become familiar with the data in each.\n",
    "</div>"
   ]
  },
  {
   "cell_type": "code",
   "execution_count": null,
   "metadata": {},
   "outputs": [],
   "source": []
  },
  {
   "cell_type": "markdown",
   "metadata": {},
   "source": [
    "<div class=\"alert alert-block alert-success\">\n",
    "    <b> Problem 3: (3 points) </b> In Module 7, you learned how to create and work with dictionaries. As you look at the values in the dataframe, the <b>Coast</b> column contains abbreviations so let's create a data dictionary using the abbreviations as keys and the full names as values. After creating this dictionary, use it to add a new column in the <b>df</b> dataframe called <b>CoastName</b>.<br>\n",
    "    \n",
    "The abbreviations have the following meanings: P is Pacfic, A is Atlantic, G is Gulf, AK is Alaska, HI is Hawaii and PR is Puerto Rico. <br>\n",
    " \n",
    "Demonstrate that the new column has been added by displaying the first five rows of <b>df</b>.\n",
    "</div>"
   ]
  },
  {
   "cell_type": "code",
   "execution_count": null,
   "metadata": {},
   "outputs": [],
   "source": []
  },
  {
   "cell_type": "markdown",
   "metadata": {},
   "source": [
    "<div class=\"alert alert-block alert-success\">\n",
    "<b> Problem 4: (2 points) </b> In Module 6 you learned how to drop a column from a dataframe. We no longer need the column called <i><b>Coast</b></i>, so drop it.  Demonstrate that your dataframe no longer has this column by displaying the first 5 rows.\n",
    "</div>"
   ]
  },
  {
   "cell_type": "code",
   "execution_count": null,
   "metadata": {},
   "outputs": [],
   "source": []
  },
  {
   "cell_type": "markdown",
   "metadata": {},
   "source": [
    "<div class=\"alert alert-block alert-success\">\n",
    "<b> Problem 4: (4 points) </b> In Module 4 you learned about string manipulation.  You may need to do some further research, but the use of <mark>.slice</mark> and <mark>.split</mark> could be useful in this next answer.\n",
    "    \n",
    "Create two new columns in the <b>df</b> dataframe - from the U.S. Custom Ports column - create a <b>City</b> and a <b>State</b> column. It is okay to leave the State in the two letter abbreviation format. Neither the <b>City</b> nor the <b>State</b> should contain the comma from the U.S. Custom Ports field.<br>\n",
    "    \n",
    "Show your new columns by displaying the first five records of <b>df</b>.\n",
    "</div>"
   ]
  },
  {
   "cell_type": "code",
   "execution_count": null,
   "metadata": {},
   "outputs": [],
   "source": []
  },
  {
   "cell_type": "markdown",
   "metadata": {},
   "source": [
    "<div class=\"alert alert-block alert-success\">\n",
    "<b> Problem 6: (5 points) </b> In Module 5 you learned how to create a subset of a dataframe and to show the top values of a column.  <br><br>\n",
    "    1. First create a new column in <b>df</b> called <b>`Difference`</b> that displays the difference in tons between imports and exports. Note that if a port had more imports than exports, the new Difference field will be positive. If the port had more export than imports, the new Difference field will be negative.<br>\n",
    "    2. Create a new dataframe called <b>year2017</b> that only contains the 2017 data in <b>df</b>.  Use this dataframe to answer 3 - 5 below.<br>\n",
    "3. Show the top three Ports with the most ImportTons for 2017.<br>\n",
    "4. Show the top five States with the most cumulated ExportTons for 2017.<br>\n",
    "5. Using the new Difference field, which ports in 2017 exported more than they imported?\n",
    "</div>"
   ]
  },
  {
   "cell_type": "code",
   "execution_count": null,
   "metadata": {},
   "outputs": [],
   "source": []
  },
  {
   "cell_type": "markdown",
   "metadata": {},
   "source": [
    "<div class=\"alert alert-block alert-success\">\n",
    "<b> Problem 7: (6 points) </b> In Module 2 you learned about conditional statements and in Module 3 you learned about loops and user defined functions.<br>\n",
    "\n",
    "- Write a function called <b>BestYears</b> that will accept <b>City</b> and <b>State</b> as arguments. \n",
    "- If the City does not appear in the dataframe, then the function should display the error message <mark>City does not exist</mark>.\n",
    "- If the City appears but not with that State in the combo, then the function should display the error message <mark>Invalid Input</mark>.  \n",
    "- If the City and State combo appears in the dataframe, then the function should display the City, State, Year, ImportTons, ExportTons and Difference sorted by Year with the oldest year showing first.<br>\n",
    "    \n",
    "**Use different cells to test your function with each of the following:**\n",
    "1. Norfolk and VA - this should show output data\n",
    "2. Norfolk and CA - this one should show the error message <mark>Invalid Input</mark>.\n",
    "3. Python and MA - this one should show the error message <mark>City does not exist</mark>.\n",
    "    \n",
    "\n",
    "</div>"
   ]
  },
  {
   "cell_type": "code",
   "execution_count": null,
   "metadata": {},
   "outputs": [],
   "source": []
  },
  {
   "cell_type": "markdown",
   "metadata": {},
   "source": [
    "<div class=\"alert alert-block alert-success\">\n",
    "<b> Problem 8: (5 points) </b> In Module 6 you learned how to create different types of visuals.  <br><br>\n",
    "\n",
    "1. Create a visual of your choice to display `ExportTons` for every `Year` for five `ports`: Baltimore, MD, Wilmington, DE, Jacksonville, FL, New Orleans, LA and West Palm Beach, FL.\n",
    "2. Make sure your visual has a title and both an x and y axis label.\n",
    "\n",
    "</div>"
   ]
  },
  {
   "cell_type": "code",
   "execution_count": null,
   "metadata": {},
   "outputs": [],
   "source": []
  },
  {
   "cell_type": "markdown",
   "metadata": {},
   "source": [
    "<div class=\"alert alert-block alert-success\">\n",
    "<b> Problem 9: (1 point) </b> In a markdown cell, explain what your visual tells you about Jacksonville, FL between 2000 and 2017.\n",
    "\n",
    "\n",
    "</div>"
   ]
  },
  {
   "cell_type": "code",
   "execution_count": null,
   "metadata": {},
   "outputs": [],
   "source": []
  }
 ],
 "metadata": {
  "kernelspec": {
   "display_name": "Python 3 (ipykernel)",
   "language": "python",
   "name": "python3"
  },
  "language_info": {
   "codemirror_mode": {
    "name": "ipython",
    "version": 3
   },
   "file_extension": ".py",
   "mimetype": "text/x-python",
   "name": "python",
   "nbconvert_exporter": "python",
   "pygments_lexer": "ipython3",
   "version": "3.8.15"
  },
  "toc": {
   "base_numbering": 1,
   "nav_menu": {},
   "number_sections": true,
   "sideBar": true,
   "skip_h1_title": false,
   "title_cell": "Table of Contents",
   "title_sidebar": "Contents",
   "toc_cell": false,
   "toc_position": {},
   "toc_section_display": true,
   "toc_window_display": false
  }
 },
 "nbformat": 4,
 "nbformat_minor": 2
}
