{
 "cells": [
  {
   "cell_type": "markdown",
   "metadata": {},
   "source": [
    "# MSDS 430 Module 4 Python Assignment"
   ]
  },
  {
   "cell_type": "markdown",
   "metadata": {},
   "source": [
    "<div class=\"alert alert-block alert-warning\"><b>In this assignment you will read through the notebook and complete the exercises. Once you are satisfied with the results, submit your notebook, html file, and blizzard_totals.xlsx file to Canvas. Your files should include all output, i.e. run each cell and save your file before submitting.</b></div>"
   ]
  },
  {
   "cell_type": "markdown",
   "metadata": {},
   "source": [
    "<div class=\"alert alert-block alert-danger\"><b>Note:</b> You also must submit your <b>blizzard_totals.xlsx</b> file to Canvas for grading in addition to the usual notebook and html files.</div>"
   ]
  },
  {
   "cell_type": "markdown",
   "metadata": {},
   "source": [
    "<div class=\"alert alert-block alert-info\">One aspect of data science is working with data from files. In this assignment we will learn to read in data from four different file types:\n",
    "    \n",
    "1. text file (using a for loop and .readlines)\n",
    "2. csv file (using pandas)\n",
    "3. excel file (using pandas)\n",
    "4. JSON file (using json)\n",
    "    \n",
    "In the process we will be creating and manipulating Python lists. We will also see how data can be written to a new excel file. Later in the course we'll learn more about how to display this information neatly and manipulate the data more efficiently, but for now we start by learning the basics of reading and writing files.</div>"
   ]
  },
  {
   "cell_type": "markdown",
   "metadata": {},
   "source": [
    "### Reading Text Files"
   ]
  },
  {
   "cell_type": "markdown",
   "metadata": {},
   "source": [
    "You are given a file `DQ_Blizzard_Nutrition.txt` that contains nutritional information about Dairy Queen Blizzard&#174; varieties.  Each row in the text file is a list of twelve values that correspond to `Menu Item`, `Calories (kcal)`, `Fat Calories (kcal)`, `Total Fat (g)`, `Saturated Fat (g)`, `Trans Fat (g)`, `Cholesterol (mg)`, `Sodium (mg)`, `Carbohydrates (g)`, `Fiber (g)`, `Sugars (g)`, and `Protein (g)` separated by spaces.\n",
    "\n",
    "In Python, there is a built-in `open` method that takes the name of a text file in the current directory (or more generally a path to a text file in any directory on your computer) and returns what is known as a `file object`. This file object can be used to read from an existing text file, create and write to a new file, or append text to a pre-existing file. See the following documentation for more information:\n",
    "\n",
    "__[Opening Files in Python](https://docs.python.org/3/library/functions.html#open)__\n",
    "\n",
    "For example, \n",
    "```python\n",
    "fileName = open('my_file.txt',r)\n",
    "```\n",
    "\n",
    "would open a file named `my_file.txt` for reading (i.e. `mode = 'r'`) and returns a corresponding file object which is assigned to the variable `fileName`. \n",
    "\n",
    "If the file cannot be opened for some reason (e.g. if the file doesn't exist in the current directory), then an error is generated. More specifically, an `Exception` object is created and said to be \"thrown\". "
   ]
  },
  {
   "cell_type": "code",
   "execution_count": null,
   "metadata": {},
   "outputs": [],
   "source": [
    "# Set up notebook to display multiple outputs in one cell\n",
    "from IPython.core.interactiveshell import InteractiveShell\n",
    "InteractiveShell.ast_node_interactivity = \"all\""
   ]
  },
  {
   "cell_type": "markdown",
   "metadata": {},
   "source": [
    "Run the following cell to read in `DQ_Blizzard_Nutrition.txt` using the `open` method. No output will be displayed just yet. We will learn a few ways to view the contents of the file in just a moment."
   ]
  },
  {
   "cell_type": "code",
   "execution_count": null,
   "metadata": {},
   "outputs": [],
   "source": [
    "# Open a text file\n",
    "fileName = open('DQ_Blizzard_Nutrition.txt', 'r')"
   ]
  },
  {
   "cell_type": "markdown",
   "metadata": {},
   "source": [
    "### Displaying File Contents\n",
    "\n",
    "If `my_file` is a file object corresponding to a text file, you can iterate over the lines of text in the file as follows:\n",
    "```python\n",
    "for line in my_file:\n",
    "    print(line)  # Do something with each line...for example we can print the line\n",
    "```"
   ]
  },
  {
   "cell_type": "markdown",
   "metadata": {},
   "source": [
    "In this next example we will use a `for` loop to iterate over each line (one at a time) in our file object `fileName`. The variable `line` will take on the value of each line then be printed. After a line is printed, the loop is executed again and the value of `line` will be overwritten with next line in the file object. The loop will continue until there are no more lines to read."
   ]
  },
  {
   "cell_type": "code",
   "execution_count": null,
   "metadata": {},
   "outputs": [],
   "source": [
    "for line in fileName:\n",
    "    print(line)"
   ]
  },
  {
   "cell_type": "markdown",
   "metadata": {},
   "source": [
    "Now let's look at the variable `line`. Notice below that it returns only the last line from the file and this variable is a single string."
   ]
  },
  {
   "cell_type": "code",
   "execution_count": null,
   "metadata": {},
   "outputs": [],
   "source": [
    "line\n",
    "\n",
    "type(line)"
   ]
  },
  {
   "cell_type": "markdown",
   "metadata": {},
   "source": [
    "## Python Collection Data Types\n",
    "\n",
    "Python has four collection types: Lists, Tuples, Dictionaries and Sets. For now we will focus primarily on lists and some with tuples.\n",
    "\n",
    "1. **Lists** are ordered sequences of elements, with that order being specified by the order that the elements are in when the list is created or as elements are added to the list.  \n",
    "\n",
    "    1. Lists are created using the `[]` syntax.\n",
    "    \n",
    "    2. Lists are <font color ='green'>**mutable**</font>. You can add, remove, and replace values using functions such as `append()`, `extend()`, `insert()`, `pop()`, `remove()`, and `del()`. \n",
    "    \n",
    "    3. Lists can be created by string functions such as `split()` and `strip()`.\n",
    "    \n",
    "2. **Tuples** are similar to lists except for the very important fact that they are <font color = 'green'>**immutable**</font>.\n",
    "\n",
    "    1. Tuples are created using the `()` syntax.\n",
    "    \n",
    "    2. Since Tuples are immutable, there are no functions that are built-in to modify the variables of Tuples.\n",
    "    \n",
    "    3. When to use a Tuple?  When you have data that will never change, like the days of the week:\n",
    "       `days_of_the_week = (\"Sunday\", \"Monday\", \"Tuesday\", \"Wednesday\", \"Thursday\", \"Friday\", \"Saturday\")`\n",
    "    \n",
    "3. **Both Lists and Tuples**\n",
    "\n",
    "    1. Can include mixed data types.\n",
    "    \n",
    "    2. Are accessed by index.\n",
    "    \n",
    "    3. Contain a sequence of individual elements.\n",
    "    \n",
    "    4. Are stored in the order in that they were added."
   ]
  },
  {
   "cell_type": "markdown",
   "metadata": {},
   "source": [
    "### Separate each column of line\n",
    "Recall, that each line of the file was read in as a single string. The goal would be to break each line up into a single list of strings. To do this, we will use the `split()` method, which is defined in the string class. We will do more with the string class and explore more of its methods in detail in a later module.\n",
    "\n",
    "To use the split method we need to first have a string object. Above we created a string object called `line`. We will call the `split()` method on this object in this way:\n",
    "```python\n",
    "line.split()\n",
    "```"
   ]
  },
  {
   "cell_type": "code",
   "execution_count": null,
   "metadata": {},
   "outputs": [],
   "source": [
    "# Use the split method to create a list of values for the line\n",
    "lst = line.split()\n",
    "print(lst)\n",
    "\n",
    "type(lst)"
   ]
  },
  {
   "cell_type": "markdown",
   "metadata": {},
   "source": [
    "Now that our string is split into a list of strings, we can use indexing to retrieve specific values. Run the following three cells for some examples showing how to access elements of the list."
   ]
  },
  {
   "cell_type": "code",
   "execution_count": null,
   "metadata": {},
   "outputs": [],
   "source": [
    "print(f'The first element of the list is {lst[0]}')"
   ]
  },
  {
   "cell_type": "code",
   "execution_count": null,
   "metadata": {},
   "outputs": [],
   "source": [
    "print(f'The fifth element of the list is {lst[4]}')"
   ]
  },
  {
   "cell_type": "code",
   "execution_count": null,
   "metadata": {},
   "outputs": [],
   "source": [
    "print(f'The last element of the list is {lst[-1]}')"
   ]
  },
  {
   "cell_type": "markdown",
   "metadata": {},
   "source": [
    "<div class=\"alert alert-block alert-success\"><b>Problem 1 (3 pts)</b>: Iterate over lines in the file as demonstrated above and print the following for each line:</div>\n",
    "\n",
    "`\" < Menu Item > 'has < Saturated Fat > g of saturated fat and < Cholesterol > mg of cholesterol\"`<br>\n",
    "\n",
    "<div class=\"alert alert-block alert-info\">For example, the first line printed should look like this: </div>\n",
    "\n",
    "`Cinnamon/Roll/Centers/Blizzard has 20.0 g of saturated fat and 120.0 mg of cholesterol`"
   ]
  },
  {
   "cell_type": "code",
   "execution_count": null,
   "metadata": {},
   "outputs": [],
   "source": [
    "# TODO: Use the open() method to read in 'DQ_Blizzard_Nutrition.txt' and assign it to the file object\n",
    "# named 'blizzard'\n",
    "\n",
    "# TODO: Iterate over each line in 'blizzard' and split each line into a list of strings\n",
    "\n",
    "    # TODO: Print the sentence shown above for each line\n",
    "\n",
    "# TODO: Close the file\n"
   ]
  },
  {
   "cell_type": "markdown",
   "metadata": {},
   "source": [
    "### Creating Lists"
   ]
  },
  {
   "cell_type": "markdown",
   "metadata": {},
   "source": [
    "Our next objective is to create three lists from the data: (1) a list of the names of each Blizzard&#174;, (2) a list with the corresponding number of calories, and (3) a list with the corresponding amount of sodium. \n",
    "\n",
    "Since we closed the file in Problem #1, we need to reopen the `DQ_Blizzard_Nutrition.txt` file for reading. This time we read all the lines at once using the file object's `readlines` method."
   ]
  },
  {
   "cell_type": "code",
   "execution_count": null,
   "metadata": {},
   "outputs": [],
   "source": [
    "blizzard = open(\"DQ_Blizzard_Nutrition.txt\", \"r\")\n",
    "lines = blizzard.readlines()\n",
    "print(lines)\n",
    "print(40*'=')\n",
    "\n",
    "# Check the data type for 'lines'\n",
    "type(lines)"
   ]
  },
  {
   "cell_type": "markdown",
   "metadata": {},
   "source": [
    "The list, `lines`, created above is a single list with each row from the file as an item in the list. We can now create separate lists by iterating over `lines` and splitting each element into its own list. The purpose of doing this would be to create new lists based on indices for example, `Fat Calories`, or `Sugars`.<br>\n",
    "Recall, last week we learned a few ways to create lists. We learned to build a list from scratch, create a list using list comprehensions, and create or change a list using the `append` method. In this next example we start with an empty list `cholesterol` then iterate over `lines` and append to the list based on indices of the appropriate column. Notice we also convert the `Cholesterol` value to a float at the time it is added to the list."
   ]
  },
  {
   "cell_type": "code",
   "execution_count": null,
   "metadata": {},
   "outputs": [],
   "source": [
    "cholesterol = [] # Start with an empty list\n",
    "\n",
    "for line in lines: # Iterate over the 'lines' list\n",
    "    split = line.split()  # Split each string (element) in 'lines' into its own list\n",
    "    cholesterol.append(float(split[6])) # append 'Cholesterol' to the 'cholesterol' list as a float type\n",
    "\n",
    "print(cholesterol)  # Display the list"
   ]
  },
  {
   "cell_type": "markdown",
   "metadata": {},
   "source": [
    "<div class=\"alert alert-block alert-success\"><b>Problem 2 (5 pts.)</b>: Complete the following tasks:\n",
    "    \n",
    "1. Start with two empty lists: <b><i>calories</i></b> and <b><i>sodium</i></b> then iterate over the <b><i>lines</i></b> list, splitting each line in turn.\n",
    "2. Append each value for calories and sodium (converted to a float type) to the appropriate list.\n",
    "3. Print each list.\n",
    "</div>"
   ]
  },
  {
   "cell_type": "code",
   "execution_count": null,
   "metadata": {},
   "outputs": [],
   "source": [
    "# TODO: Create two empty lists: 'calories' and 'sodium'\n",
    "\n",
    "# TODO: Iterate over the 'lines' list and split each line\n",
    "    \n",
    "    # TODO: Append calories and sodium to the appropriate list while converting each to a float type\n",
    "    "
   ]
  },
  {
   "cell_type": "markdown",
   "metadata": {},
   "source": [
    "<div class=\"alert alert-block alert-success\"><b>Problem 2 continued:</b> Print the <b><i>calories</i></b> list.</div>"
   ]
  },
  {
   "cell_type": "code",
   "execution_count": null,
   "metadata": {},
   "outputs": [],
   "source": [
    "# TODO: Print the 'calories' list\n"
   ]
  },
  {
   "cell_type": "markdown",
   "metadata": {},
   "source": [
    "<div class=\"alert alert-block alert-success\"><b>Problem 2 continued:</b> Print the <b><i>sodium</i></b> list.</div>"
   ]
  },
  {
   "cell_type": "code",
   "execution_count": null,
   "metadata": {},
   "outputs": [],
   "source": [
    "# TODO: Print the 'sodium' list\n"
   ]
  },
  {
   "cell_type": "markdown",
   "metadata": {},
   "source": [
    "One of Python's built-in string methods is `replace()`. This can be used when we want to replace or remove a character from a string. Below are two simple examples. The first one replaces the `#` symbol in a string with a blank space and the second one replaces `-` with `.`. In each case, the symbol is replaced everywhere it occurs in the string. We could add a third argument to limit the number of times the symbol is replaced. We will learn more efficient ways to remove or replace characters from strings later on in the course."
   ]
  },
  {
   "cell_type": "code",
   "execution_count": null,
   "metadata": {},
   "outputs": [],
   "source": [
    "my_string = 'abc#def#ghi'\n",
    "\n",
    "my_string.replace('#', ' ')"
   ]
  },
  {
   "cell_type": "code",
   "execution_count": null,
   "metadata": {},
   "outputs": [],
   "source": [
    "phone_num = '1-402-363-9951'\n",
    "phone_num.replace('-', '.')"
   ]
  },
  {
   "cell_type": "markdown",
   "metadata": {},
   "source": [
    "As we can see from the file contents, the name of each Blizzard&#174; contains forward slashes in it. It would be nice if we could replace those with a blank space."
   ]
  },
  {
   "cell_type": "markdown",
   "metadata": {},
   "source": [
    "<div class=\"alert alert-block alert-success\"><b>Problem 3 (5 pts.)</b>: Complete the following tasks:\n",
    "    \n",
    "1. Start with one empty list named <b><i>menu_item</i></b> then iterate over the <b><i>lines</i></b> list, splitting each line in turn. <br>\n",
    "2. Obtain the element with the name of the Blizzard&#174; and replace <b><mark>/</mark></b> with a blank space.<br>\n",
    "3. Append the revised name to the <b><i>menu_item</i></b> list.\n",
    "4. Print the <b><i>menu_item</i></b> list.\n",
    "</div>"
   ]
  },
  {
   "cell_type": "code",
   "execution_count": null,
   "metadata": {},
   "outputs": [],
   "source": [
    "# TODO: Start with an empty list named 'menu_item'\n",
    "\n",
    "# TODO: Iterate over the 'lines' list and split each line\n",
    "    \n",
    "    # TODO: Obtain the element with the name of the Blizzard and replace / with a blank space\n",
    "    \n",
    "    # TODO: Append the revised name to the 'menu_item' list\n",
    "\n",
    "# TODO: Print the 'menu_item' list\n"
   ]
  },
  {
   "cell_type": "markdown",
   "metadata": {},
   "source": [
    "### Working with Methods"
   ]
  },
  {
   "cell_type": "markdown",
   "metadata": {},
   "source": [
    "Next we will introduce two list methods and ask you use them together in the next problem. First we have the `max` method to get the maximum value in a list."
   ]
  },
  {
   "cell_type": "code",
   "execution_count": null,
   "metadata": {},
   "outputs": [],
   "source": [
    "my_list = [1,2,3,10,4,5,6]\n",
    "max(my_list)"
   ]
  },
  {
   "cell_type": "markdown",
   "metadata": {},
   "source": [
    "Second, we can get the \"position\" of any value in the list using the `index` method. Note that the first position has `index` **zero** and not **one**. So it would be more accurate to think of the `index` as the <b><i>offset</i></b> as opposed to the <b><i>position</i></b>. "
   ]
  },
  {
   "cell_type": "code",
   "execution_count": null,
   "metadata": {},
   "outputs": [],
   "source": [
    "my_list.index(10)"
   ]
  },
  {
   "cell_type": "markdown",
   "metadata": {},
   "source": [
    "Run the following cell to double check that the value in position (offset) 3 really is 10."
   ]
  },
  {
   "cell_type": "code",
   "execution_count": null,
   "metadata": {},
   "outputs": [],
   "source": [
    "my_list[3]"
   ]
  },
  {
   "cell_type": "markdown",
   "metadata": {},
   "source": [
    "It is important to understand the two parts of the list and how to access these parts: (1) the actual value in the list and (2) the index that represents the actual value."
   ]
  },
  {
   "cell_type": "code",
   "execution_count": null,
   "metadata": {},
   "outputs": [],
   "source": [
    "# Create a new list of colors named 'my_list2'\n",
    "my_list2 = ['red','yellow','green','blue','purple']\n",
    "\n",
    "# Display the elements of 'my_list2'\n",
    "my_list2\n",
    "\n",
    "# Confirm it is a list\n",
    "type(my_list2)\n",
    "\n",
    "# How long is our list?\n",
    "len(my_list2)"
   ]
  },
  {
   "cell_type": "markdown",
   "metadata": {},
   "source": [
    "Below we loop through `my_list2` showing how both the value of the list is referenced and how the index is referenced."
   ]
  },
  {
   "cell_type": "code",
   "execution_count": null,
   "metadata": {},
   "outputs": [],
   "source": [
    "length = len(my_list2)\n",
    "\n",
    "for num in range(0,length):\n",
    "    print(f'The value is {my_list2[num]} and the index is {num}.')\n",
    "    "
   ]
  },
  {
   "cell_type": "markdown",
   "metadata": {
    "slideshow": {
     "slide_type": "subslide"
    }
   },
   "source": [
    "<div class=\"alert alert-block alert-success\"><b>Problem 4 (6 pts.)</b>: Define a function called <b><i>high_content</i></b> that takes three arguments: <b><i>item_list, info_list</i></b> and <b><i> label</i></b>. The first two arguments are lists and the third is a string variable. \n",
    "    \n",
    "The lists used for this problem are ones created above: `menu_item`, `sodium`, and `cholesterol`.<br>\n",
    "\n",
    "The function should find the Blizzard&#174; with the largest value for either sodium or cholesterol and print the name of the Blizzard&#174; together with the highest value and the label for that value. </div>\n",
    "\n",
    "<div class=\"alert alert-block alert-info\">For example, <br>\n",
    "\n",
    "`high_content(['Item1','Item2','Item3'], [300,410,250],'sodium')` should print: \n",
    "\n",
    "**Item2 has the highest sodium level with 410 mg.**<br>\n",
    "</div>"
   ]
  },
  {
   "cell_type": "code",
   "execution_count": null,
   "metadata": {},
   "outputs": [],
   "source": [
    "# TODO: Define a function called 'high_content' that takes 3 arguments 'item_list', 'info_list', and 'label'\n",
    "    \n",
    "    #TODO: Find the maximum value and save to a variable\n",
    "    \n",
    "    #TODO: Print the output as indicated above\n",
    "    "
   ]
  },
  {
   "cell_type": "markdown",
   "metadata": {},
   "source": [
    "<div class=\"alert alert-block alert-success\"><b>Problem 4 continued:</b> Call the <b>high_content</b> function by passing the lists <b><i>menu_item</i></b> and <b><i>cholesterol</i></b> for the first two arguments and the label <b><i>'cholesterol'</i></b> for the third argument.</div>"
   ]
  },
  {
   "cell_type": "code",
   "execution_count": null,
   "metadata": {},
   "outputs": [],
   "source": [
    "#TODO: Call the function 'high_content' by passing the lists menu_item and cholesterol for the first\n",
    "# two arguments and pass 'cholesterol' for the third argument\n"
   ]
  },
  {
   "cell_type": "markdown",
   "metadata": {},
   "source": [
    "<div class=\"alert alert-block alert-success\"><b>Problem 4 continued:</b> Call the <b>high_content</b> function by passing the lists <b><i>menu_item</i></b> and <b><i>sodium</i></b> for the first two arguments and the label <b><i>'sodium'</i></b> for the third argument.</div>"
   ]
  },
  {
   "cell_type": "code",
   "execution_count": null,
   "metadata": {},
   "outputs": [],
   "source": [
    "#TODO: Call the function 'high_content' by passing the lists menu_item and sodium for the first\n",
    "# two arguments and pass 'sodium' for the third argument\n"
   ]
  },
  {
   "cell_type": "markdown",
   "metadata": {},
   "source": [
    "### Reading files using Pandas\n",
    "\n",
    "__[Pandas Overview](https://pandas.pydata.org/pandas-docs/stable/getting_started/overview.html)__\n",
    "\n",
    "**Pandas** is a large library which is used extensively in Data Science to wrangle data.  As you can see in the cell below, the library must be loaded with the command:\n",
    "\n",
    "<font color = 'green'>**import**</font> pandas <font color = 'green'>**as**</font> pd\n",
    "\n",
    "**Pandas** gives you access to two additional data structures: (1) a one dimensional <i><u>Series</u></i> and (2) a two dimensional <i><u>DataFrame</u></i>. We will look at some basics of the DataFrame which has the following attributes:\n",
    "1. spread-sheet like structure\n",
    "2. has ordered collection of columns\n",
    "3. each column can be of different value types such as numeric, boolean, string, etc.\n",
    "4. has both a row and column index\n"
   ]
  },
  {
   "cell_type": "markdown",
   "metadata": {},
   "source": [
    "We begin by importing pandas and reading in `DQ_Blizzard_Nutrition.csv`."
   ]
  },
  {
   "cell_type": "code",
   "execution_count": null,
   "metadata": {},
   "outputs": [],
   "source": [
    "import pandas as pd\n",
    "\n",
    "blizzard_csv = pd.read_csv('DQ_Blizzard_Nutrition.csv')\n",
    "blizzard_csv"
   ]
  },
  {
   "cell_type": "markdown",
   "metadata": {},
   "source": [
    "<div class=\"alert alert-block alert-success\"><b>Problem 5 (3 pts.)</b>: As you can see from the result of reading in the csv file, the first record is appearing as the header.\n",
    "\n",
    "Read the file in again so that there is no header and all records from the file show correctly. Use the documentation as needed: __[pandas.read_csv](https://pandas.pydata.org/pandas-docs/stable/reference/api/pandas.read_csv.html)__\n",
    "</div>"
   ]
  },
  {
   "cell_type": "code",
   "execution_count": null,
   "metadata": {},
   "outputs": [],
   "source": [
    "#TODO: Read in the 'DQ_Blizzard_Nutrition.csv' file without a header\n",
    "\n",
    "#TODO: Display the file contents to confirm all records are accurate\n"
   ]
  },
  {
   "cell_type": "markdown",
   "metadata": {},
   "source": [
    "### Reading Excel files with Pandas"
   ]
  },
  {
   "cell_type": "markdown",
   "metadata": {},
   "source": [
    "Next we read in an Excel file using pandas and look at the information about the file using the `info` method. Notice that `info( )` tells you how many rows, how many non-nulls per column and each variable type. After this we look at the first 5 rows of the data using the `head` method and the last 5 rows using the `tail` method."
   ]
  },
  {
   "cell_type": "code",
   "execution_count": null,
   "metadata": {},
   "outputs": [],
   "source": [
    "# Read in the file named 'DQ_Blizzard_Nutrition.xlsx'\n",
    "blizzard_excel = pd.read_excel('DQ_Blizzard_Nutrition.xlsx')\n",
    "\n",
    "# Inspect the data using the info method\n",
    "blizzard_excel.info()"
   ]
  },
  {
   "cell_type": "code",
   "execution_count": null,
   "metadata": {},
   "outputs": [],
   "source": [
    "# Look at the first 5 rows\n",
    "blizzard_excel.head()"
   ]
  },
  {
   "cell_type": "markdown",
   "metadata": {},
   "source": [
    "As we can see, the first two rows appear to be typed comments and are not part of the data with nutrition information. We can also use the `tail()` method to look at the last few lines of the file."
   ]
  },
  {
   "cell_type": "code",
   "execution_count": null,
   "metadata": {},
   "outputs": [],
   "source": [
    "blizzard_excel.tail()"
   ]
  },
  {
   "cell_type": "markdown",
   "metadata": {},
   "source": [
    "Again, it appears there is information in the last row that is not part of the data we're interested in. There is a way to handle unneeded rows when reading in an excel file, which will be used in the next problem. __[pandas.read_excel](https://pandas.pydata.org/pandas-docs/stable/reference/api/pandas.read_excel.html)__"
   ]
  },
  {
   "cell_type": "markdown",
   "metadata": {},
   "source": [
    "<div class=\"alert alert-block alert-success\"><b>Problem 6 (4 pts.)</b>: Read in <b>DQ_Blizzard_Nutrition.xlsx</b> again so that the header is correct, the footer is removed, and all records from the file show correctly.\n",
    "</div>"
   ]
  },
  {
   "cell_type": "code",
   "execution_count": null,
   "metadata": {},
   "outputs": [],
   "source": [
    "# TODO: Read in 'DQ_Blizzard_Nutrition.xlsx' so that the header is correct and the footer is removed\n",
    "\n",
    "# TODO: Display the first five rows of data\n"
   ]
  },
  {
   "cell_type": "markdown",
   "metadata": {},
   "source": [
    "<div class=\"alert alert-block alert-success\"><b>Problem 6 continued</b>: Display the last 3 rows of data.\n",
    "</div>"
   ]
  },
  {
   "cell_type": "code",
   "execution_count": null,
   "metadata": {},
   "outputs": [],
   "source": [
    "# TODO: Display at the last 3 rows of data\n"
   ]
  },
  {
   "cell_type": "markdown",
   "metadata": {},
   "source": [
    "### Read a json file\n",
    "\n",
    "Now let's look at another file type, a `json` file. If we look at the raw data in `DQ_Blizzard_Nutrition.json`, it looks like this:<br>\n",
    "\n",
    "`{\"Menu Item\":{\"0\":\"Cinnamon Roll Centers Blizzard\",\"1\":\"Frosted Sugar Cookie Blizzard\",\"2\":\"Butterfinger Blizzard\",\"3\":\"Choco Brownie Extreme Blizzard\",\"4\":\"Chocolate Chip Cookie Dough Blizzard\",\"5\":\"Heath Blizzard\",\"6\":\"M&M's Chocolate Candy Blizzard\",\"7\":\"OREO Cookie Blizzard\",\"8\":\"OREO Hot Cocoa Blizzard\",\"9\":\"Reese's Peanut Butter Cups Blizzard\",\"10\":\"Reese's Take Five Blizzard\",\"11\":\"Royal New York Cheesecake Blizzard Filled with Strawberry\",\"12\":\"Royal Ultimate Choco Brownie Blizzard Filled with Fudge\",\"13\":\"Snickers Blizzard\",\"14\":\"Snickers Brownie Blizzard\",\"15\":\"Turtle Pecan Cluster Blizzard\",\"16\":\"Very Cherry Chip Blizzard\"},\"Calories (kcal)\":{\"0\":890,\"1\":960,\"2\":730,\"3\":810,\"4\":1030,\"5\":860,\"6\":800,\"7\":790,\"8\":1050,\"9\":750,\"10\":1120,\"11\":1040,\"12\":1040,\"13\":800,\"14\":1010,\"15\":1020,\"16\":730},\"Fat Calories (kcal)\":{\"0\":350,\"1\":290,\"2\":230,\"3\":330,\"4\":370,\"5\":330,\"6\":240,\"7\":280,\"8\":410,\"9\":280,\"10\":440,\"11\":410,\"12\":410,\"13\":250,\"14\":340,\"15\":470,\"16\":230},\"Total Fat (g)\":{\"0\":32,\"1\":42,\"2\":26,\"3\":36,\"4\":41,\"5\":37,\"6\":27,\"7\":31,\"8\":45,\"9\":31,\"10\":49,\"11\":46,\"12\":45,\"13\":28,\"14\":37,\"15\":52,\"16\":25},\"Saturated Fat (g)\":{\"0\":20,\"1\":19,\"2\":15,\"3\":21,\"4\":24,\"5\":23,\"6\":17,\"7\":15,\"8\":22,\"9\":16,\"10\":21,\"11\":21,\"12\":29,\"13\":15,\"14\":20,\"15\":29,\"16\":18},\"Trans Fat (g)\":{\"0\":1.5,\"1\":1.0,\"2\":1.0,\"3\":1.0,\"4\":1.0,\"5\":1.0,\"6\":1.0,\"7\":1.0,\"8\":1.5,\"9\":1.0,\"10\":1.0,\"11\":1.5,\"12\":1.0,\"13\":1.0,\"14\":1.0,\"15\":1.0,\"16\":1.0},\"Cholesterol (mg)\":{\"0\":120,\"1\":75,\"2\":55,\"3\":55,\"4\":60,\"5\":65,\"6\":60,\"7\":50,\"8\":65,\"9\":60,\"10\":65,\"11\":105,\"12\":65,\"13\":65,\"14\":70,\"15\":65,\"16\":65},\"Sodium (mg)\":{\"0\":390,\"1\":400,\"2\":330,\"3\":370,\"4\":570,\"5\":440,\"6\":250,\"7\":400,\"8\":500,\"9\":380,\"10\":860,\"11\":530,\"12\":480,\"13\":340,\"14\":510,\"15\":390,\"16\":250},\"Carbohydrates (g)\":{\"0\":132,\"1\":129,\"2\":107,\"3\":111,\"4\":151,\"5\":119,\"6\":124,\"7\":117,\"8\":147,\"9\":102,\"10\":145,\"11\":140,\"12\":146,\"13\":120,\"14\":151,\"15\":123,\"16\":113},\"Fiber (g)\":{\"0\":1,\"1\":1,\"2\":2,\"3\":4,\"4\":2,\"5\":1,\"6\":2,\"7\":1,\"8\":2,\"9\":2,\"10\":5,\"11\":2,\"12\":5,\"13\":1,\"14\":3,\"15\":3,\"16\":2},\"Sugars (g)\":{\"0\":106,\"1\":100,\"2\":81,\"3\":87,\"4\":111,\"5\":106,\"6\":107,\"7\":88,\"8\":113,\"9\":88,\"10\":111,\"11\":112,\"12\":117,\"13\":102,\"14\":118,\"15\":99,\"16\":97},\"Protein (g)\":{\"0\":18,\"1\":17,\"2\":18,\"3\":16,\"4\":17,\"5\":16,\"6\":16,\"7\":14,\"8\":19,\"9\":19,\"10\":29,\"11\":19,\"12\":19,\"13\":19,\"14\":21,\"15\":18,\"16\":16}}`\n",
    "\n",
    "__[pandas.read_json](https://pandas.pydata.org/pandas-docs/stable/reference/api/pandas.read_json.html)__"
   ]
  },
  {
   "cell_type": "markdown",
   "metadata": {},
   "source": [
    "Next we read a `json` file in using Pandas.\n"
   ]
  },
  {
   "cell_type": "code",
   "execution_count": null,
   "metadata": {},
   "outputs": [],
   "source": [
    "blizzard_json = pd.read_json('DQ_Blizzard_Nutrition.json')\n",
    "\n",
    "# Determine the data type of 'blizzard_json'\n",
    "type(blizzard_json)\n",
    "\n",
    "# Look at first 3 records\n",
    "blizzard_json.head(3)\n",
    "\n",
    "# Display the file info\n",
    "blizzard_json.info()"
   ]
  },
  {
   "cell_type": "markdown",
   "metadata": {},
   "source": [
    "## Adding a Column to the DataFrame\n",
    "\n",
    "We want to create a new column for the percentage of fat. We have the total calories and the fat calories for each Blizzard&#174;, so we can get the fat percentage using those two columns."
   ]
  },
  {
   "cell_type": "code",
   "execution_count": null,
   "metadata": {},
   "outputs": [],
   "source": [
    "# Add a new column to the dataframe\n",
    "blizzard_json['Fat %'] = round(100*blizzard_json['Fat Calories (kcal)']/blizzard_json['Calories (kcal)'],2)\n",
    "\n",
    "# Inspect the dataframe to see the new column\n",
    "blizzard_json.info()\n",
    "blizzard_json.head()"
   ]
  },
  {
   "cell_type": "markdown",
   "metadata": {},
   "source": [
    "<div class=\"alert alert-block alert-success\"><b>Problem 7 (4 pts.)</b>: Create two new columns called <b><i>Saturated Fat %</i></b> and <b><i>Sugar Calories</i></b>. Round your newly calculated values to two decimals for each new column. \n",
    "    \n",
    "The calculation for the first new column would be the ratio of <b>Saturated Fat (g)</b> with <b>Total Fat (g)</b> multiplied by 100. \n",
    "    \n",
    "The calculation for the second column involves two steps (which can be combined into one):\n",
    "\n",
    "1. Convert <b>Sugars (g)</b> to calories by multiplying by 3.87.\n",
    "2. Take the ratio of the result in Step 1 with <b>Calories (kcal)</b> and multiply by 100.\n",
    "\n",
    "    \n",
    "Display the file info and the first 5 rows.\n",
    "</div>"
   ]
  },
  {
   "cell_type": "code",
   "execution_count": null,
   "metadata": {},
   "outputs": [],
   "source": [
    "# TODO: Create a new column called 'Saturated Fat %'\n",
    "\n",
    "# TODO: Create a new column called 'Sugar Calories'\n",
    "\n",
    "# TODO: Show the file info\n",
    "\n",
    "# TODO: Show the first five rows of your file\n"
   ]
  },
  {
   "cell_type": "markdown",
   "metadata": {},
   "source": [
    "### Writing to a File\n",
    "\n",
    "When you create a new column and add it to your dataframe, it is a good idea to write out the new file to save it for future reference.\n"
   ]
  },
  {
   "cell_type": "markdown",
   "metadata": {},
   "source": [
    "<div class=\"alert alert-block alert-success\"><b>Problem 8 (2 pts.)</b>: Write your new file out to an <b>Excel</b> file called <b><i>blizzard_totals.xlsx</i></b>.  Upload your new file into Canvas along with the .ipynb and HTML files. \n",
    "    \n",
    "Reference: __[Pandas DataFrame to Excel File](https://pandas.pydata.org/pandas-docs/stable/reference/api/pandas.DataFrame.to_excel.html)__\n",
    "</div>"
   ]
  },
  {
   "cell_type": "code",
   "execution_count": null,
   "metadata": {},
   "outputs": [],
   "source": [
    "# TODO: Write your file to an Excel file called 'blizzard_totals.xlsx'\n"
   ]
  }
 ],
 "metadata": {
  "kernelspec": {
   "display_name": "Python 3 (ipykernel)",
   "language": "python",
   "name": "python3"
  },
  "language_info": {
   "codemirror_mode": {
    "name": "ipython",
    "version": 3
   },
   "file_extension": ".py",
   "mimetype": "text/x-python",
   "name": "python",
   "nbconvert_exporter": "python",
   "pygments_lexer": "ipython3",
   "version": "3.9.7"
  },
  "varInspector": {
   "cols": {
    "lenName": 16,
    "lenType": 16,
    "lenVar": 40
   },
   "kernels_config": {
    "python": {
     "delete_cmd_postfix": "",
     "delete_cmd_prefix": "del ",
     "library": "var_list.py",
     "varRefreshCmd": "print(var_dic_list())"
    },
    "r": {
     "delete_cmd_postfix": ") ",
     "delete_cmd_prefix": "rm(",
     "library": "var_list.r",
     "varRefreshCmd": "cat(var_dic_list()) "
    }
   },
   "types_to_exclude": [
    "module",
    "function",
    "builtin_function_or_method",
    "instance",
    "_Feature"
   ],
   "window_display": false
  }
 },
 "nbformat": 4,
 "nbformat_minor": 1
}
