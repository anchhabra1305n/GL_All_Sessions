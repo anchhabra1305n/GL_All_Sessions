{
 "cells": [
  {
   "cell_type": "markdown",
   "metadata": {},
   "source": [
    "# MSDS 430 Module 4 Python Assignment Solutions <font color=red>32 pts.</font>"
   ]
  },
  {
   "cell_type": "markdown",
   "metadata": {},
   "source": [
    "<div class=\"alert alert-block alert-warning\"><b>In this assignment you will read through the notebook and complete the exercises. Once you are satisfied with the results, submit your notebook, html file, and blizzard_totals.xlsx file to Canvas. Your files should include all output, i.e. run each cell and save your file before submitting.</b></div>"
   ]
  },
  {
   "cell_type": "markdown",
   "metadata": {},
   "source": [
    "<div class=\"alert alert-block alert-danger\"><b>Note:</b> You also must submit your <b>blizzard_totals.xlsx</b> file to Canvas for grading in addition to the usual notebook and html files.</div>"
   ]
  },
  {
   "cell_type": "markdown",
   "metadata": {},
   "source": [
    "<div class=\"alert alert-block alert-info\">One aspect of data science is working with data from files. In this assignment we will learn to read in data from four different file types:\n",
    "    \n",
    "1. text file (using a for loop and .readlines)\n",
    "2. csv file (using pandas)\n",
    "3. excel file (using pandas)\n",
    "4. JSON file (using json)\n",
    "    \n",
    "In the process we will be creating and manipulating Python lists. We will also see how data can be written to a new excel file. Later in the course we'll learn more about how to display this information neatly and manipulate the data more efficiently, but for now we start by learning the basics of reading and writing files.</div>"
   ]
  },
  {
   "cell_type": "markdown",
   "metadata": {},
   "source": [
    "### Reading Text Files"
   ]
  },
  {
   "cell_type": "markdown",
   "metadata": {},
   "source": [
    "You are given a file `DQ_Blizzard_Nutrition.txt` that contains nutritional information about Dairy Queen Blizzard&#174; varieties.  Each row in the text file is a list of twelve values that correspond to `Menu Item`, `Calories (kcal)`, `Fat Calories (kcal)`, `Total Fat (g)`, `Saturated Fat (g)`, `Trans Fat (g)`, `Cholesterol (mg)`, `Sodium (mg)`, `Carbohydrates (g)`, `Fiber (g)`, `Sugars (g)`, and `Protein (g)` separated by spaces.\n",
    "\n",
    "In Python, there is a built-in `open` method that takes the name of a text file in the current directory (or more generally a path to a text file in any directory on your computer) and returns what is known as a `file object`. This file object can be used to read from an existing text file, create and write to a new file, or append text to a pre-existing file. See the following documentation for more information:\n",
    "\n",
    "__[Opening Files in Python](https://docs.python.org/3/library/functions.html#open)__\n",
    "\n",
    "For example, \n",
    "```python\n",
    "fileName = open('my_file.txt',r)\n",
    "```\n",
    "\n",
    "would open a file named `my_file.txt` for reading (i.e. `mode = 'r'`) and returns a corresponding file object which is assigned to the variable `fileName`. \n",
    "\n",
    "If the file cannot be opened for some reason (e.g. if the file doesn't exist in the current directory), then an error is generated. More specifically, an `Exception` object is created and said to be \"thrown\". "
   ]
  },
  {
   "cell_type": "code",
   "execution_count": 1,
   "metadata": {},
   "outputs": [],
   "source": [
    "# Set up notebook to display multiple outputs in one cell\n",
    "from IPython.core.interactiveshell import InteractiveShell\n",
    "InteractiveShell.ast_node_interactivity = \"all\""
   ]
  },
  {
   "cell_type": "markdown",
   "metadata": {},
   "source": [
    "Run the following cell to read in `DQ_Blizzard_Nutrition.txt` using the `open` method. No output will be displayed just yet. We will learn a few ways to view the contents of the file in just a moment."
   ]
  },
  {
   "cell_type": "code",
   "execution_count": 2,
   "metadata": {},
   "outputs": [],
   "source": [
    "# Open a text file\n",
    "fileName = open('DQ_Blizzard_Nutrition.txt', 'r')"
   ]
  },
  {
   "cell_type": "markdown",
   "metadata": {},
   "source": [
    "### Displaying File Contents\n",
    "\n",
    "If `my_file` is a file object corresponding to a text file, you can iterate over the lines of text in the file as follows:\n",
    "```python\n",
    "for line in my_file:\n",
    "    print(line)  # Do something with each line...for example we can print the line\n",
    "```"
   ]
  },
  {
   "cell_type": "markdown",
   "metadata": {},
   "source": [
    "In this next example we will use a `for` loop to iterate over each line (one at a time) in our file object `fileName`. The variable `line` will take on the value of each line then be printed. After a line is printed, the loop is executed again and the value of `line` will be overwritten with next line in the file object. The loop will continue until there are no more lines to read."
   ]
  },
  {
   "cell_type": "code",
   "execution_count": 3,
   "metadata": {},
   "outputs": [
    {
     "name": "stdout",
     "output_type": "stream",
     "text": [
      "Cinnamon/Roll/Centers/Blizzard   890.0  350.0  32.0 20.0 1.5  120.0  390.0  132.0  1.0  106.0  18.0\n",
      "\n",
      "Frosted/Sugar/Cookie/Blizzard   960.0  290.0  42.0  19.0  1.0   75.0  400.0  129.0  1.0  100.0  17.0\n",
      "\n",
      "Butterfinger/Blizzard  730.0  230.0  26.0  15.0  1.0   55.0  330.0  107.0  2.0   81.0  18.0\n",
      "\n",
      "Choco/Brownie/Extreme/Blizzard   810.0  330.0  36.0  21.0  1.0   55.0  370.0  111.0  4.0   87.0  16.0\n",
      "\n",
      "Chocolate/Chip/Cookie/Dough/Blizzard  1030.0  370.0  41.0  24.0  1.0   60.0  570.0  151.0  2.0  111.0  17.0\n",
      "\n",
      "Heath/Blizzard   860.0  330.0  37.0  23.0  1.0   65.0  440.0  119.0  1.0  106.0  16.0\n",
      "\n",
      "M&M’s/Chocolate/Candy/Blizzard   800.0  240.0  27.0  17.0  1.0   60.0  250.0  124.0  2.0  107.0  16.0\n",
      "\n",
      "OREO/Cookie/Blizzard   790.0  280.0  31.0  15.0  1.0   50.0  400.0  117.0  1.0   88.0  14.0\n",
      "\n",
      "OREO/Hot/Cocoa/Blizzard  1050.0  410.0  45.0  22.0  1.5   65.0  500.0  147.0  2.0  113.0  19.0\n",
      "\n",
      "Reese's/Peanut/Butter/Cups/Blizzard   750.0  280.0  31.0  16.0  1.0   60.0  380.0  102.0  2.0   88.0  19.0\n",
      "\n",
      "Reese's/Take/Five/Blizzard  1120.0  440.0  49.0  21.0  1.0   65.0  860.0  145.0  5.0  111.0  29.0\n",
      "\n",
      "Royal/New/York/Cheesecake/Blizzard/Filled/with/Strawberry  1040.0  410.0  46.0  21.0  1.5  105.0  530.0  140.0  2.0  112.0  19.0\n",
      "\n",
      "Royal/Ultimate/Choco/Brownie/Blizzard/Filled/with/Fudge  1040.0  410.0  45.0  29.0  1.0   65.0  480.0  146.0  5.0  117.0  19.0\n",
      "\n",
      "Snickers/Blizzard   800.0  250.0  28.0  15.0  1.0   65.0  340.0  120.0  1.0  102.0  19.0\n",
      "\n",
      "Snickers/Brownie/Blizzard  1010.0  340.0  37.0  20.0  1.0   70.0  510.0  151.0  3.0  118.0  21.0\n",
      "\n",
      "Turtle/Pecan/Cluster/Blizzard  1020.0  470.0  52.0  29.0  1.0   65.0  390.0  123.0  3.0   99.0  18.0\n",
      "\n",
      "Very/Cherry/Chip/Blizzard   730.0  230.0  25.0  18.0  1.0   65.0  250.0  113.0  2.0   97.0  16.0\n"
     ]
    }
   ],
   "source": [
    "for line in fileName:\n",
    "    print(line)"
   ]
  },
  {
   "cell_type": "markdown",
   "metadata": {},
   "source": [
    "Now let's look at the variable `line`. Notice below that it returns only the last line from the file and this variable is a single string."
   ]
  },
  {
   "cell_type": "code",
   "execution_count": 4,
   "metadata": {},
   "outputs": [
    {
     "data": {
      "text/plain": [
       "'Very/Cherry/Chip/Blizzard   730.0  230.0  25.0  18.0  1.0   65.0  250.0  113.0  2.0   97.0  16.0'"
      ]
     },
     "execution_count": 4,
     "metadata": {},
     "output_type": "execute_result"
    },
    {
     "data": {
      "text/plain": [
       "str"
      ]
     },
     "execution_count": 4,
     "metadata": {},
     "output_type": "execute_result"
    }
   ],
   "source": [
    "line\n",
    "\n",
    "type(line)"
   ]
  },
  {
   "cell_type": "markdown",
   "metadata": {},
   "source": [
    "## Python Collection Data Types\n",
    "\n",
    "Python has four collection types: Lists, Tuples, Dictionaries and Sets. For now we will focus primarily on lists and some with tuples.\n",
    "\n",
    "1. **Lists** are ordered sequences of elements, with that order being specified by the order that the elements are in when the list is created or as elements are added to the list.  \n",
    "\n",
    "    1. Lists are created using the `[]` syntax.\n",
    "    \n",
    "    2. Lists are <font color ='green'>**mutable**</font>. You can add, remove, and replace values using functions such as `append()`, `extend()`, `insert()`, `pop()`, `remove()`, and `del()`. \n",
    "    \n",
    "    3. Lists can be created by string functions such as `split()` and `strip()`.\n",
    "    \n",
    "2. **Tuples** are similar to lists except for the very important fact that they are <font color = 'green'>**immutable**</font>.\n",
    "\n",
    "    1. Tuples are created using the `()` syntax.\n",
    "    \n",
    "    2. Since Tuples are immutable, there are no functions that are built-in to modify the variables of Tuples.\n",
    "    \n",
    "    3. When to use a Tuple?  When you have data that will never change, like the days of the week:\n",
    "       `days_of_the_week = (\"Sunday\", \"Monday\", \"Tuesday\", \"Wednesday\", \"Thursday\", \"Friday\", \"Saturday\")`\n",
    "    \n",
    "3. **Both Lists and Tuples**\n",
    "\n",
    "    1. Can include mixed data types.\n",
    "    \n",
    "    2. Are accessed by index.\n",
    "    \n",
    "    3. Contain a sequence of individual elements.\n",
    "    \n",
    "    4. Are stored in the order in that they were added."
   ]
  },
  {
   "cell_type": "markdown",
   "metadata": {},
   "source": [
    "### Separate each column of line\n",
    "Recall, that each line of the file was read in as a single string. The goal would be to break each line up into a single list of strings. To do this, we will use the `split()` method, which is defined in the string class. We will do more with the string class and explore more of its methods in detail in a later module.\n",
    "\n",
    "To use the split method we need to first have a string object. Above we created a string object called `line`. We will call the `split()` method on this object in this way:\n",
    "```python\n",
    "line.split()\n",
    "```"
   ]
  },
  {
   "cell_type": "code",
   "execution_count": 5,
   "metadata": {},
   "outputs": [
    {
     "name": "stdout",
     "output_type": "stream",
     "text": [
      "['Very/Cherry/Chip/Blizzard', '730.0', '230.0', '25.0', '18.0', '1.0', '65.0', '250.0', '113.0', '2.0', '97.0', '16.0']\n"
     ]
    },
    {
     "data": {
      "text/plain": [
       "list"
      ]
     },
     "execution_count": 5,
     "metadata": {},
     "output_type": "execute_result"
    }
   ],
   "source": [
    "# Use the split method to create a list of values for the line\n",
    "lst = line.split()\n",
    "print(lst)\n",
    "\n",
    "type(lst)"
   ]
  },
  {
   "cell_type": "markdown",
   "metadata": {},
   "source": [
    "Now that our string is split into a list of strings, we can use indexing to retrieve specific values. Run the following three cells for some examples showing how to access elements of the list."
   ]
  },
  {
   "cell_type": "code",
   "execution_count": 6,
   "metadata": {},
   "outputs": [
    {
     "name": "stdout",
     "output_type": "stream",
     "text": [
      "The first element of the list is Very/Cherry/Chip/Blizzard\n"
     ]
    }
   ],
   "source": [
    "print(f'The first element of the list is {lst[0]}')"
   ]
  },
  {
   "cell_type": "code",
   "execution_count": 7,
   "metadata": {},
   "outputs": [
    {
     "name": "stdout",
     "output_type": "stream",
     "text": [
      "The fifth element of the list is 18.0\n"
     ]
    }
   ],
   "source": [
    "print(f'The fifth element of the list is {lst[4]}')"
   ]
  },
  {
   "cell_type": "code",
   "execution_count": 8,
   "metadata": {},
   "outputs": [
    {
     "name": "stdout",
     "output_type": "stream",
     "text": [
      "The last element of the list is 16.0\n"
     ]
    }
   ],
   "source": [
    "print(f'The last element of the list is {lst[-1]}')"
   ]
  },
  {
   "cell_type": "markdown",
   "metadata": {},
   "source": [
    "<div class=\"alert alert-block alert-success\"><b>Problem 1 (3 pts)</b>: Iterate over lines in the file as demonstrated above and print the following for each line:</div>\n",
    "\n",
    "`\" < Menu Item > 'has < Saturated Fat > g of saturated fat and < Cholesterol > mg of cholesterol\"`<br>\n",
    "\n",
    "<div class=\"alert alert-block alert-info\">For example, the first line printed should look like this: </div>\n",
    "\n",
    "`Cinnamon/Roll/Centers/Blizzard has 20.0 g of saturated fat and 120.0 mg of cholesterol`"
   ]
  },
  {
   "cell_type": "code",
   "execution_count": 9,
   "metadata": {},
   "outputs": [
    {
     "name": "stdout",
     "output_type": "stream",
     "text": [
      "Cinnamon/Roll/Centers/Blizzard has 20.0 g of saturated fat and 120.0 mg of cholesterol\n",
      "Frosted/Sugar/Cookie/Blizzard has 19.0 g of saturated fat and 75.0 mg of cholesterol\n",
      "Butterfinger/Blizzard has 15.0 g of saturated fat and 55.0 mg of cholesterol\n",
      "Choco/Brownie/Extreme/Blizzard has 21.0 g of saturated fat and 55.0 mg of cholesterol\n",
      "Chocolate/Chip/Cookie/Dough/Blizzard has 24.0 g of saturated fat and 60.0 mg of cholesterol\n",
      "Heath/Blizzard has 23.0 g of saturated fat and 65.0 mg of cholesterol\n",
      "M&M’s/Chocolate/Candy/Blizzard has 17.0 g of saturated fat and 60.0 mg of cholesterol\n",
      "OREO/Cookie/Blizzard has 15.0 g of saturated fat and 50.0 mg of cholesterol\n",
      "OREO/Hot/Cocoa/Blizzard has 22.0 g of saturated fat and 65.0 mg of cholesterol\n",
      "Reese's/Peanut/Butter/Cups/Blizzard has 16.0 g of saturated fat and 60.0 mg of cholesterol\n",
      "Reese's/Take/Five/Blizzard has 21.0 g of saturated fat and 65.0 mg of cholesterol\n",
      "Royal/New/York/Cheesecake/Blizzard/Filled/with/Strawberry has 21.0 g of saturated fat and 105.0 mg of cholesterol\n",
      "Royal/Ultimate/Choco/Brownie/Blizzard/Filled/with/Fudge has 29.0 g of saturated fat and 65.0 mg of cholesterol\n",
      "Snickers/Blizzard has 15.0 g of saturated fat and 65.0 mg of cholesterol\n",
      "Snickers/Brownie/Blizzard has 20.0 g of saturated fat and 70.0 mg of cholesterol\n",
      "Turtle/Pecan/Cluster/Blizzard has 29.0 g of saturated fat and 65.0 mg of cholesterol\n",
      "Very/Cherry/Chip/Blizzard has 18.0 g of saturated fat and 65.0 mg of cholesterol\n"
     ]
    }
   ],
   "source": [
    "# TODO: Use the open() method to read in 'DQ_Blizzard_Nutrition.txt' and assign it to the file object\n",
    "# named 'blizzard'\n",
    "blizzard = open(\"DQ_Blizzard_Nutrition.txt\", \"r\")\n",
    "\n",
    "# TODO: Iterate over each line in 'blizzard' and split each line into a list of strings\n",
    "for line in blizzard:\n",
    "    \n",
    "    lines = line.split()\n",
    "    \n",
    "    # TODO: Print the sentence shown above for each line\n",
    "    print(f'{lines[0]} has {lines[4]} g of saturated fat and {lines[6]} mg of cholesterol')\n",
    "\n",
    "# TODO: Close the file\n",
    "blizzard.close()"
   ]
  },
  {
   "cell_type": "markdown",
   "metadata": {},
   "source": [
    "### Creating Lists"
   ]
  },
  {
   "cell_type": "markdown",
   "metadata": {},
   "source": [
    "Our next objective is to create three lists from the data: (1) a list of the names of each Blizzard&#174;, (2) a list with the corresponding number of calories, and (3) a list with the corresponding amount of sodium. \n",
    "\n",
    "Since we closed the file in Problem #1, we need to reopen the `DQ_Blizzard_Nutrition.txt` file for reading. This time we read all the lines at once using the file object's `readlines` method."
   ]
  },
  {
   "cell_type": "code",
   "execution_count": 10,
   "metadata": {},
   "outputs": [
    {
     "name": "stdout",
     "output_type": "stream",
     "text": [
      "['Cinnamon/Roll/Centers/Blizzard   890.0  350.0  32.0 20.0 1.5  120.0  390.0  132.0  1.0  106.0  18.0\\n', 'Frosted/Sugar/Cookie/Blizzard   960.0  290.0  42.0  19.0  1.0   75.0  400.0  129.0  1.0  100.0  17.0\\n', 'Butterfinger/Blizzard  730.0  230.0  26.0  15.0  1.0   55.0  330.0  107.0  2.0   81.0  18.0\\n', 'Choco/Brownie/Extreme/Blizzard   810.0  330.0  36.0  21.0  1.0   55.0  370.0  111.0  4.0   87.0  16.0\\n', 'Chocolate/Chip/Cookie/Dough/Blizzard  1030.0  370.0  41.0  24.0  1.0   60.0  570.0  151.0  2.0  111.0  17.0\\n', 'Heath/Blizzard   860.0  330.0  37.0  23.0  1.0   65.0  440.0  119.0  1.0  106.0  16.0\\n', 'M&M’s/Chocolate/Candy/Blizzard   800.0  240.0  27.0  17.0  1.0   60.0  250.0  124.0  2.0  107.0  16.0\\n', 'OREO/Cookie/Blizzard   790.0  280.0  31.0  15.0  1.0   50.0  400.0  117.0  1.0   88.0  14.0\\n', 'OREO/Hot/Cocoa/Blizzard  1050.0  410.0  45.0  22.0  1.5   65.0  500.0  147.0  2.0  113.0  19.0\\n', \"Reese's/Peanut/Butter/Cups/Blizzard   750.0  280.0  31.0  16.0  1.0   60.0  380.0  102.0  2.0   88.0  19.0\\n\", \"Reese's/Take/Five/Blizzard  1120.0  440.0  49.0  21.0  1.0   65.0  860.0  145.0  5.0  111.0  29.0\\n\", 'Royal/New/York/Cheesecake/Blizzard/Filled/with/Strawberry  1040.0  410.0  46.0  21.0  1.5  105.0  530.0  140.0  2.0  112.0  19.0\\n', 'Royal/Ultimate/Choco/Brownie/Blizzard/Filled/with/Fudge  1040.0  410.0  45.0  29.0  1.0   65.0  480.0  146.0  5.0  117.0  19.0\\n', 'Snickers/Blizzard   800.0  250.0  28.0  15.0  1.0   65.0  340.0  120.0  1.0  102.0  19.0\\n', 'Snickers/Brownie/Blizzard  1010.0  340.0  37.0  20.0  1.0   70.0  510.0  151.0  3.0  118.0  21.0\\n', 'Turtle/Pecan/Cluster/Blizzard  1020.0  470.0  52.0  29.0  1.0   65.0  390.0  123.0  3.0   99.0  18.0\\n', 'Very/Cherry/Chip/Blizzard   730.0  230.0  25.0  18.0  1.0   65.0  250.0  113.0  2.0   97.0  16.0']\n",
      "========================================\n"
     ]
    },
    {
     "data": {
      "text/plain": [
       "list"
      ]
     },
     "execution_count": 10,
     "metadata": {},
     "output_type": "execute_result"
    }
   ],
   "source": [
    "blizzard = open(\"DQ_Blizzard_Nutrition.txt\", \"r\")\n",
    "lines = blizzard.readlines()\n",
    "print(lines)\n",
    "print(40*'=')\n",
    "\n",
    "# Check the data type for 'lines'\n",
    "type(lines)"
   ]
  },
  {
   "cell_type": "markdown",
   "metadata": {},
   "source": [
    "The list, `lines`, created above is a single list with each row from the file as an item in the list. We can now create separate lists by iterating over `lines` and splitting each element into its own list. The purpose of doing this would be to create new lists based on indices for example, `Fat Calories`, or `Sugars`.<br>\n",
    "Recall, last week we learned a few ways to create lists. We learned to build a list from scratch, create a list using list comprehensions, and create or change a list using the `append` method. In this next example we start with an empty list `cholesterol` then iterate over `lines` and append to the list based on indices of the appropriate column. Notice we also convert the `Cholesterol` value to a float at the time it is added to the list."
   ]
  },
  {
   "cell_type": "code",
   "execution_count": 11,
   "metadata": {},
   "outputs": [
    {
     "name": "stdout",
     "output_type": "stream",
     "text": [
      "[120.0, 75.0, 55.0, 55.0, 60.0, 65.0, 60.0, 50.0, 65.0, 60.0, 65.0, 105.0, 65.0, 65.0, 70.0, 65.0, 65.0]\n"
     ]
    }
   ],
   "source": [
    "cholesterol = [] # Start with an empty list\n",
    "\n",
    "for line in lines: # Iterate over the 'lines' list\n",
    "    split = line.split()  # Split each string (element) in 'lines' into its own list\n",
    "    cholesterol.append(float(split[6])) # append 'Cholesterol' to the 'cholesterol' list as a float type\n",
    "\n",
    "print(cholesterol)  # Display the list"
   ]
  },
  {
   "cell_type": "markdown",
   "metadata": {},
   "source": [
    "<div class=\"alert alert-block alert-success\"><b>Problem 2 (5 pts.)</b>: Complete the following tasks:\n",
    "    \n",
    "1. Start with two empty lists: <b><i>calories</i></b> and <b><i>sodium</i></b> then iterate over the <b><i>lines</i></b> list, splitting each line in turn.\n",
    "2. Append each value for calories and sodium (converted to a float type) to the appropriate list.\n",
    "3. Print each list.\n",
    "</div>"
   ]
  },
  {
   "cell_type": "code",
   "execution_count": 12,
   "metadata": {},
   "outputs": [],
   "source": [
    "# TODO: Create two empty lists: 'calories' and 'sodium'\n",
    "calories = []\n",
    "sodium = []\n",
    "\n",
    "# TODO: Iterate over the 'lines' list and split each line\n",
    "for line in lines:\n",
    "    split = line.split()\n",
    "    \n",
    "    # TODO: Append calories and sodium to the appropriate list while converting each to a float type\n",
    "    calories.append(float(split[1]))\n",
    "    sodium.append(float(split[7]))"
   ]
  },
  {
   "cell_type": "markdown",
   "metadata": {},
   "source": [
    "<div class=\"alert alert-block alert-success\"><b>Problem 2 continued:</b> Print the <b><i>calories</i></b> list.</div>"
   ]
  },
  {
   "cell_type": "code",
   "execution_count": 13,
   "metadata": {},
   "outputs": [
    {
     "name": "stdout",
     "output_type": "stream",
     "text": [
      "[890.0, 960.0, 730.0, 810.0, 1030.0, 860.0, 800.0, 790.0, 1050.0, 750.0, 1120.0, 1040.0, 1040.0, 800.0, 1010.0, 1020.0, 730.0]\n"
     ]
    }
   ],
   "source": [
    "# TODO: Print the 'calories' list\n",
    "print(calories)"
   ]
  },
  {
   "cell_type": "markdown",
   "metadata": {},
   "source": [
    "<div class=\"alert alert-block alert-success\"><b>Problem 2 continued:</b> Print the <b><i>sodium</i></b> list.</div>"
   ]
  },
  {
   "cell_type": "code",
   "execution_count": 14,
   "metadata": {},
   "outputs": [
    {
     "name": "stdout",
     "output_type": "stream",
     "text": [
      "[390.0, 400.0, 330.0, 370.0, 570.0, 440.0, 250.0, 400.0, 500.0, 380.0, 860.0, 530.0, 480.0, 340.0, 510.0, 390.0, 250.0]\n"
     ]
    }
   ],
   "source": [
    "# TODO: Print the 'sodium' list\n",
    "print(sodium)"
   ]
  },
  {
   "cell_type": "markdown",
   "metadata": {},
   "source": [
    "One of Python's built-in string methods is `replace()`. This can be used when we want to replace or remove a character from a string. Below are two simple examples. The first one replaces the `#` symbol in a string with a blank space and the second one replaces `-` with `.`. In each case, the symbol is replaced everywhere it occurs in the string. We could add a third argument to limit the number of times the symbol is replaced. We will learn more efficient ways to remove or replace characters from strings later on in the course."
   ]
  },
  {
   "cell_type": "code",
   "execution_count": 15,
   "metadata": {},
   "outputs": [
    {
     "data": {
      "text/plain": [
       "'abc def ghi'"
      ]
     },
     "execution_count": 15,
     "metadata": {},
     "output_type": "execute_result"
    }
   ],
   "source": [
    "my_string = 'abc#def#ghi'\n",
    "\n",
    "my_string.replace('#', ' ')"
   ]
  },
  {
   "cell_type": "code",
   "execution_count": 16,
   "metadata": {},
   "outputs": [
    {
     "data": {
      "text/plain": [
       "'1.402.363.9951'"
      ]
     },
     "execution_count": 16,
     "metadata": {},
     "output_type": "execute_result"
    }
   ],
   "source": [
    "phone_num = '1-402-363-9951'\n",
    "phone_num.replace('-', '.')"
   ]
  },
  {
   "cell_type": "markdown",
   "metadata": {},
   "source": [
    "As we can see from the file contents, the name of each Blizzard&#174; contains forward slashes in it. It would be nice if we could replace those with a blank space."
   ]
  },
  {
   "cell_type": "markdown",
   "metadata": {},
   "source": [
    "<div class=\"alert alert-block alert-success\"><b>Problem 3 (5 pts.)</b>: Complete the following tasks:\n",
    "    \n",
    "1. Start with one empty list named <b><i>menu_item</i></b> then iterate over the <b><i>lines</i></b> list, splitting each line in turn. <br>\n",
    "2. Obtain the element with the name of the Blizzard&#174; and replace <b><mark>/</mark></b> with a blank space.<br>\n",
    "3. Append the revised name to the <b><i>menu_item</i></b> list.\n",
    "4. Print the <b><i>menu_item</i></b> list.\n",
    "</div>"
   ]
  },
  {
   "cell_type": "code",
   "execution_count": 17,
   "metadata": {},
   "outputs": [
    {
     "name": "stdout",
     "output_type": "stream",
     "text": [
      "['Cinnamon Roll Centers Blizzard', 'Frosted Sugar Cookie Blizzard', 'Butterfinger Blizzard', 'Choco Brownie Extreme Blizzard', 'Chocolate Chip Cookie Dough Blizzard', 'Heath Blizzard', 'M&M’s Chocolate Candy Blizzard', 'OREO Cookie Blizzard', 'OREO Hot Cocoa Blizzard', \"Reese's Peanut Butter Cups Blizzard\", \"Reese's Take Five Blizzard\", 'Royal New York Cheesecake Blizzard Filled with Strawberry', 'Royal Ultimate Choco Brownie Blizzard Filled with Fudge', 'Snickers Blizzard', 'Snickers Brownie Blizzard', 'Turtle Pecan Cluster Blizzard', 'Very Cherry Chip Blizzard']\n"
     ]
    }
   ],
   "source": [
    "# TODO: Start with an empty list named 'menu_item'\n",
    "menu_item = []\n",
    "\n",
    "# TODO: Iterate over the 'lines' list and split each line\n",
    "for line in lines:\n",
    "    split = line.split()\n",
    "    \n",
    "    # TODO: Obtain the element with the name of the Blizzard and replace / with a blank space\n",
    "    split[0] = split[0].replace('/',' ')\n",
    "    \n",
    "    # TODO: Append the revised name to the 'menu_item' list\n",
    "    menu_item.append(split[0])\n",
    "\n",
    "# TODO: Print the 'menu_item' list\n",
    "print(menu_item)"
   ]
  },
  {
   "cell_type": "markdown",
   "metadata": {},
   "source": [
    "### Working with Methods"
   ]
  },
  {
   "cell_type": "markdown",
   "metadata": {},
   "source": [
    "Next we will introduce two list methods and ask you use them together in the next problem. First we have the `max` method to get the maximum value in a list."
   ]
  },
  {
   "cell_type": "code",
   "execution_count": 18,
   "metadata": {},
   "outputs": [
    {
     "data": {
      "text/plain": [
       "10"
      ]
     },
     "execution_count": 18,
     "metadata": {},
     "output_type": "execute_result"
    }
   ],
   "source": [
    "my_list = [1,2,3,10,4,5,6]\n",
    "max(my_list)"
   ]
  },
  {
   "cell_type": "markdown",
   "metadata": {},
   "source": [
    "Second, we can get the \"position\" of any value in the list using the `index` method. Note that the first position has `index` **zero** and not **one**. So it would be more accurate to think of the `index` as the <b><i>offset</i></b> as opposed to the <b><i>position</i></b>. "
   ]
  },
  {
   "cell_type": "code",
   "execution_count": 19,
   "metadata": {},
   "outputs": [
    {
     "data": {
      "text/plain": [
       "3"
      ]
     },
     "execution_count": 19,
     "metadata": {},
     "output_type": "execute_result"
    }
   ],
   "source": [
    "my_list.index(10)"
   ]
  },
  {
   "cell_type": "markdown",
   "metadata": {},
   "source": [
    "Run the following cell to double check that the value in position (offset) 3 really is 10."
   ]
  },
  {
   "cell_type": "code",
   "execution_count": 20,
   "metadata": {},
   "outputs": [
    {
     "data": {
      "text/plain": [
       "10"
      ]
     },
     "execution_count": 20,
     "metadata": {},
     "output_type": "execute_result"
    }
   ],
   "source": [
    "my_list[3]"
   ]
  },
  {
   "cell_type": "markdown",
   "metadata": {},
   "source": [
    "It is important to understand the two parts of the list and how to access these parts: (1) the actual value in the list and (2) the index that represents the actual value."
   ]
  },
  {
   "cell_type": "code",
   "execution_count": 21,
   "metadata": {},
   "outputs": [
    {
     "data": {
      "text/plain": [
       "['red', 'yellow', 'green', 'blue', 'purple']"
      ]
     },
     "execution_count": 21,
     "metadata": {},
     "output_type": "execute_result"
    },
    {
     "data": {
      "text/plain": [
       "list"
      ]
     },
     "execution_count": 21,
     "metadata": {},
     "output_type": "execute_result"
    },
    {
     "data": {
      "text/plain": [
       "5"
      ]
     },
     "execution_count": 21,
     "metadata": {},
     "output_type": "execute_result"
    }
   ],
   "source": [
    "# Create a new list of colors named 'my_list2'\n",
    "my_list2 = ['red','yellow','green','blue','purple']\n",
    "\n",
    "# Display the elements of 'my_list2'\n",
    "my_list2\n",
    "\n",
    "# Confirm it is a list\n",
    "type(my_list2)\n",
    "\n",
    "# How long is our list?\n",
    "len(my_list2)"
   ]
  },
  {
   "cell_type": "markdown",
   "metadata": {},
   "source": [
    "Below we loop through `my_list2` showing how both the value of the list is referenced and how the index is referenced."
   ]
  },
  {
   "cell_type": "code",
   "execution_count": 22,
   "metadata": {},
   "outputs": [
    {
     "name": "stdout",
     "output_type": "stream",
     "text": [
      "The value is red and the index is 0.\n",
      "The value is yellow and the index is 1.\n",
      "The value is green and the index is 2.\n",
      "The value is blue and the index is 3.\n",
      "The value is purple and the index is 4.\n"
     ]
    }
   ],
   "source": [
    "length = len(my_list2)\n",
    "\n",
    "for num in range(0,length):\n",
    "    print(f'The value is {my_list2[num]} and the index is {num}.')\n",
    "    "
   ]
  },
  {
   "cell_type": "markdown",
   "metadata": {
    "slideshow": {
     "slide_type": "subslide"
    }
   },
   "source": [
    "<div class=\"alert alert-block alert-success\"><b>Problem 4 (6 pts.)</b>: Define a function called <b><i>high_content</i></b> that takes three arguments: <b><i>item_list, info_list</i></b> and <b><i> label</i></b>. The first two arguments are lists and the third is a string variable. \n",
    "    \n",
    "The lists used for this problem are ones created above: `menu_item`, `sodium`, and `cholesterol`.<br>\n",
    "\n",
    "The function should find the Blizzard&#174; with the largest value for either sodium or cholesterol and print the name of the Blizzard&#174; together with the highest value and the label for that value. </div>\n",
    "\n",
    "<div class=\"alert alert-block alert-info\">For example, <br>\n",
    "\n",
    "`high_content(['Item1','Item2','Item3'], [300,410,250],'sodium')` should print: \n",
    "\n",
    "**Item2 has the highest sodium level with 410 mg.**<br>\n",
    "</div>"
   ]
  },
  {
   "cell_type": "code",
   "execution_count": 23,
   "metadata": {},
   "outputs": [],
   "source": [
    "# TODO: Define a function called 'high_content' that takes 3 arguments 'item_list', 'info_list', and 'label'\n",
    "def high_content(item_list,info_list, label):\n",
    "    \n",
    "    #TODO: Find the maximum value and save to a variable\n",
    "    most = max(info_list)\n",
    "    \n",
    "    #TODO: Print the output as indicated above\n",
    "    for num in range(len(item_list)):\n",
    "        if info_list[num] == most:\n",
    "            print(f'{item_list[num]} has the highest {label} level with {most} mg.')\n",
    "    \n"
   ]
  },
  {
   "cell_type": "markdown",
   "metadata": {},
   "source": [
    "<div class=\"alert alert-block alert-success\"><b>Problem 4 continued:</b> Call the <b>high_content</b> function by passing the lists <b><i>menu_item</i></b> and <b><i>cholesterol</i></b> for the first two arguments and the label <b><i>'cholesterol'</i></b> for the third argument.</div>"
   ]
  },
  {
   "cell_type": "code",
   "execution_count": 24,
   "metadata": {},
   "outputs": [
    {
     "name": "stdout",
     "output_type": "stream",
     "text": [
      "Cinnamon Roll Centers Blizzard has the highest cholesterol level with 120.0 mg.\n"
     ]
    }
   ],
   "source": [
    "#TODO: Call the function 'high_content' by passing the lists menu_item and cholesterol for the first\n",
    "# two arguments and pass 'cholesterol' for the third argument\n",
    "high_content(menu_item, cholesterol, 'cholesterol')"
   ]
  },
  {
   "cell_type": "markdown",
   "metadata": {},
   "source": [
    "<div class=\"alert alert-block alert-success\"><b>Problem 4 continued:</b> Call the <b>high_content</b> function by passing the lists <b><i>menu_item</i></b> and <b><i>sodium</i></b> for the first two arguments and the label <b><i>'sodium'</i></b> for the third argument.</div>"
   ]
  },
  {
   "cell_type": "code",
   "execution_count": 25,
   "metadata": {},
   "outputs": [
    {
     "name": "stdout",
     "output_type": "stream",
     "text": [
      "Reese's Take Five Blizzard has the highest sodium level with 860.0 mg.\n"
     ]
    }
   ],
   "source": [
    "#TODO: Call the function 'high_content' by passing the lists menu_item and sodium for the first\n",
    "# two arguments and pass 'sodium' for the third argument\n",
    "high_content(menu_item, sodium, 'sodium')"
   ]
  },
  {
   "cell_type": "markdown",
   "metadata": {},
   "source": [
    "### Reading files using Pandas\n",
    "\n",
    "__[Pandas Overview](https://pandas.pydata.org/pandas-docs/stable/getting_started/overview.html)__\n",
    "\n",
    "**Pandas** is a large library which is used extensively in Data Science to wrangle data.  As you can see in the cell below, the library must be loaded with the command:\n",
    "\n",
    "<font color = 'green'>**import**</font> pandas <font color = 'green'>**as**</font> pd\n",
    "\n",
    "**Pandas** gives you access to two additional data structures: (1) a one dimensional <i><u>Series</u></i> and (2) a two dimensional <i><u>DataFrame</u></i>. We will look at some basics of the DataFrame which has the following attributes:\n",
    "1. spread-sheet like structure\n",
    "2. has ordered collection of columns\n",
    "3. each column can be of different value types such as numeric, boolean, string, etc.\n",
    "4. has both a row and column index\n"
   ]
  },
  {
   "cell_type": "markdown",
   "metadata": {},
   "source": [
    "We begin by importing pandas and reading in `DQ_Blizzard_Nutrition.csv`."
   ]
  },
  {
   "cell_type": "code",
   "execution_count": 26,
   "metadata": {},
   "outputs": [
    {
     "data": {
      "text/html": [
       "<div>\n",
       "<style scoped>\n",
       "    .dataframe tbody tr th:only-of-type {\n",
       "        vertical-align: middle;\n",
       "    }\n",
       "\n",
       "    .dataframe tbody tr th {\n",
       "        vertical-align: top;\n",
       "    }\n",
       "\n",
       "    .dataframe thead th {\n",
       "        text-align: right;\n",
       "    }\n",
       "</style>\n",
       "<table border=\"1\" class=\"dataframe\">\n",
       "  <thead>\n",
       "    <tr style=\"text-align: right;\">\n",
       "      <th></th>\n",
       "      <th>Cinnamon Roll Centers Blizzard</th>\n",
       "      <th>890</th>\n",
       "      <th>350</th>\n",
       "      <th>32</th>\n",
       "      <th>20</th>\n",
       "      <th>1.5</th>\n",
       "      <th>120</th>\n",
       "      <th>390</th>\n",
       "      <th>132</th>\n",
       "      <th>1</th>\n",
       "      <th>106</th>\n",
       "      <th>18</th>\n",
       "    </tr>\n",
       "  </thead>\n",
       "  <tbody>\n",
       "    <tr>\n",
       "      <th>0</th>\n",
       "      <td>Frosted Sugar Cookie Blizzard</td>\n",
       "      <td>960</td>\n",
       "      <td>290</td>\n",
       "      <td>42</td>\n",
       "      <td>19</td>\n",
       "      <td>1.0</td>\n",
       "      <td>75</td>\n",
       "      <td>400</td>\n",
       "      <td>129</td>\n",
       "      <td>1</td>\n",
       "      <td>100</td>\n",
       "      <td>17</td>\n",
       "    </tr>\n",
       "    <tr>\n",
       "      <th>1</th>\n",
       "      <td>Butterfinger Blizzard</td>\n",
       "      <td>730</td>\n",
       "      <td>230</td>\n",
       "      <td>26</td>\n",
       "      <td>15</td>\n",
       "      <td>1.0</td>\n",
       "      <td>55</td>\n",
       "      <td>330</td>\n",
       "      <td>107</td>\n",
       "      <td>2</td>\n",
       "      <td>81</td>\n",
       "      <td>18</td>\n",
       "    </tr>\n",
       "    <tr>\n",
       "      <th>2</th>\n",
       "      <td>Choco Brownie Extreme Blizzard</td>\n",
       "      <td>810</td>\n",
       "      <td>330</td>\n",
       "      <td>36</td>\n",
       "      <td>21</td>\n",
       "      <td>1.0</td>\n",
       "      <td>55</td>\n",
       "      <td>370</td>\n",
       "      <td>111</td>\n",
       "      <td>4</td>\n",
       "      <td>87</td>\n",
       "      <td>16</td>\n",
       "    </tr>\n",
       "    <tr>\n",
       "      <th>3</th>\n",
       "      <td>Chocolate Chip Cookie Dough Blizzard</td>\n",
       "      <td>1030</td>\n",
       "      <td>370</td>\n",
       "      <td>41</td>\n",
       "      <td>24</td>\n",
       "      <td>1.0</td>\n",
       "      <td>60</td>\n",
       "      <td>570</td>\n",
       "      <td>151</td>\n",
       "      <td>2</td>\n",
       "      <td>111</td>\n",
       "      <td>17</td>\n",
       "    </tr>\n",
       "    <tr>\n",
       "      <th>4</th>\n",
       "      <td>Heath Blizzard</td>\n",
       "      <td>860</td>\n",
       "      <td>330</td>\n",
       "      <td>37</td>\n",
       "      <td>23</td>\n",
       "      <td>1.0</td>\n",
       "      <td>65</td>\n",
       "      <td>440</td>\n",
       "      <td>119</td>\n",
       "      <td>1</td>\n",
       "      <td>106</td>\n",
       "      <td>16</td>\n",
       "    </tr>\n",
       "    <tr>\n",
       "      <th>5</th>\n",
       "      <td>M&amp;M's Chocolate Candy Blizzard</td>\n",
       "      <td>800</td>\n",
       "      <td>240</td>\n",
       "      <td>27</td>\n",
       "      <td>17</td>\n",
       "      <td>1.0</td>\n",
       "      <td>60</td>\n",
       "      <td>250</td>\n",
       "      <td>124</td>\n",
       "      <td>2</td>\n",
       "      <td>107</td>\n",
       "      <td>16</td>\n",
       "    </tr>\n",
       "    <tr>\n",
       "      <th>6</th>\n",
       "      <td>OREO Cookie Blizzard</td>\n",
       "      <td>790</td>\n",
       "      <td>280</td>\n",
       "      <td>31</td>\n",
       "      <td>15</td>\n",
       "      <td>1.0</td>\n",
       "      <td>50</td>\n",
       "      <td>400</td>\n",
       "      <td>117</td>\n",
       "      <td>1</td>\n",
       "      <td>88</td>\n",
       "      <td>14</td>\n",
       "    </tr>\n",
       "    <tr>\n",
       "      <th>7</th>\n",
       "      <td>OREO Hot Cocoa Blizzard</td>\n",
       "      <td>1050</td>\n",
       "      <td>410</td>\n",
       "      <td>45</td>\n",
       "      <td>22</td>\n",
       "      <td>1.5</td>\n",
       "      <td>65</td>\n",
       "      <td>500</td>\n",
       "      <td>147</td>\n",
       "      <td>2</td>\n",
       "      <td>113</td>\n",
       "      <td>19</td>\n",
       "    </tr>\n",
       "    <tr>\n",
       "      <th>8</th>\n",
       "      <td>Reese's Peanut Butter Cups Blizzard</td>\n",
       "      <td>750</td>\n",
       "      <td>280</td>\n",
       "      <td>31</td>\n",
       "      <td>16</td>\n",
       "      <td>1.0</td>\n",
       "      <td>60</td>\n",
       "      <td>380</td>\n",
       "      <td>102</td>\n",
       "      <td>2</td>\n",
       "      <td>88</td>\n",
       "      <td>19</td>\n",
       "    </tr>\n",
       "    <tr>\n",
       "      <th>9</th>\n",
       "      <td>Reese's Take Five Blizzard</td>\n",
       "      <td>1120</td>\n",
       "      <td>440</td>\n",
       "      <td>49</td>\n",
       "      <td>21</td>\n",
       "      <td>1.0</td>\n",
       "      <td>65</td>\n",
       "      <td>860</td>\n",
       "      <td>145</td>\n",
       "      <td>5</td>\n",
       "      <td>111</td>\n",
       "      <td>29</td>\n",
       "    </tr>\n",
       "    <tr>\n",
       "      <th>10</th>\n",
       "      <td>Royal New York Cheesecake Blizzard Filled with...</td>\n",
       "      <td>1040</td>\n",
       "      <td>410</td>\n",
       "      <td>46</td>\n",
       "      <td>21</td>\n",
       "      <td>1.5</td>\n",
       "      <td>105</td>\n",
       "      <td>530</td>\n",
       "      <td>140</td>\n",
       "      <td>2</td>\n",
       "      <td>112</td>\n",
       "      <td>19</td>\n",
       "    </tr>\n",
       "    <tr>\n",
       "      <th>11</th>\n",
       "      <td>Royal Ultimate Choco Brownie Blizzard Filled w...</td>\n",
       "      <td>1040</td>\n",
       "      <td>410</td>\n",
       "      <td>45</td>\n",
       "      <td>29</td>\n",
       "      <td>1.0</td>\n",
       "      <td>65</td>\n",
       "      <td>480</td>\n",
       "      <td>146</td>\n",
       "      <td>5</td>\n",
       "      <td>117</td>\n",
       "      <td>19</td>\n",
       "    </tr>\n",
       "    <tr>\n",
       "      <th>12</th>\n",
       "      <td>Snickers Blizzard</td>\n",
       "      <td>800</td>\n",
       "      <td>250</td>\n",
       "      <td>28</td>\n",
       "      <td>15</td>\n",
       "      <td>1.0</td>\n",
       "      <td>65</td>\n",
       "      <td>340</td>\n",
       "      <td>120</td>\n",
       "      <td>1</td>\n",
       "      <td>102</td>\n",
       "      <td>19</td>\n",
       "    </tr>\n",
       "    <tr>\n",
       "      <th>13</th>\n",
       "      <td>Snickers Brownie Blizzard</td>\n",
       "      <td>1010</td>\n",
       "      <td>340</td>\n",
       "      <td>37</td>\n",
       "      <td>20</td>\n",
       "      <td>1.0</td>\n",
       "      <td>70</td>\n",
       "      <td>510</td>\n",
       "      <td>151</td>\n",
       "      <td>3</td>\n",
       "      <td>118</td>\n",
       "      <td>21</td>\n",
       "    </tr>\n",
       "    <tr>\n",
       "      <th>14</th>\n",
       "      <td>Turtle Pecan Cluster Blizzard</td>\n",
       "      <td>1020</td>\n",
       "      <td>470</td>\n",
       "      <td>52</td>\n",
       "      <td>29</td>\n",
       "      <td>1.0</td>\n",
       "      <td>65</td>\n",
       "      <td>390</td>\n",
       "      <td>123</td>\n",
       "      <td>3</td>\n",
       "      <td>99</td>\n",
       "      <td>18</td>\n",
       "    </tr>\n",
       "    <tr>\n",
       "      <th>15</th>\n",
       "      <td>Very Cherry Chip Blizzard</td>\n",
       "      <td>730</td>\n",
       "      <td>230</td>\n",
       "      <td>25</td>\n",
       "      <td>18</td>\n",
       "      <td>1.0</td>\n",
       "      <td>65</td>\n",
       "      <td>250</td>\n",
       "      <td>113</td>\n",
       "      <td>2</td>\n",
       "      <td>97</td>\n",
       "      <td>16</td>\n",
       "    </tr>\n",
       "  </tbody>\n",
       "</table>\n",
       "</div>"
      ],
      "text/plain": [
       "                       Cinnamon Roll Centers Blizzard   890  350  32  20  1.5  \\\n",
       "0                       Frosted Sugar Cookie Blizzard   960  290  42  19  1.0   \n",
       "1                               Butterfinger Blizzard   730  230  26  15  1.0   \n",
       "2                      Choco Brownie Extreme Blizzard   810  330  36  21  1.0   \n",
       "3                Chocolate Chip Cookie Dough Blizzard  1030  370  41  24  1.0   \n",
       "4                                      Heath Blizzard   860  330  37  23  1.0   \n",
       "5                      M&M's Chocolate Candy Blizzard   800  240  27  17  1.0   \n",
       "6                                OREO Cookie Blizzard   790  280  31  15  1.0   \n",
       "7                             OREO Hot Cocoa Blizzard  1050  410  45  22  1.5   \n",
       "8                 Reese's Peanut Butter Cups Blizzard   750  280  31  16  1.0   \n",
       "9                          Reese's Take Five Blizzard  1120  440  49  21  1.0   \n",
       "10  Royal New York Cheesecake Blizzard Filled with...  1040  410  46  21  1.5   \n",
       "11  Royal Ultimate Choco Brownie Blizzard Filled w...  1040  410  45  29  1.0   \n",
       "12                                  Snickers Blizzard   800  250  28  15  1.0   \n",
       "13                          Snickers Brownie Blizzard  1010  340  37  20  1.0   \n",
       "14                      Turtle Pecan Cluster Blizzard  1020  470  52  29  1.0   \n",
       "15                          Very Cherry Chip Blizzard   730  230  25  18  1.0   \n",
       "\n",
       "    120  390  132  1  106  18  \n",
       "0    75  400  129  1  100  17  \n",
       "1    55  330  107  2   81  18  \n",
       "2    55  370  111  4   87  16  \n",
       "3    60  570  151  2  111  17  \n",
       "4    65  440  119  1  106  16  \n",
       "5    60  250  124  2  107  16  \n",
       "6    50  400  117  1   88  14  \n",
       "7    65  500  147  2  113  19  \n",
       "8    60  380  102  2   88  19  \n",
       "9    65  860  145  5  111  29  \n",
       "10  105  530  140  2  112  19  \n",
       "11   65  480  146  5  117  19  \n",
       "12   65  340  120  1  102  19  \n",
       "13   70  510  151  3  118  21  \n",
       "14   65  390  123  3   99  18  \n",
       "15   65  250  113  2   97  16  "
      ]
     },
     "execution_count": 26,
     "metadata": {},
     "output_type": "execute_result"
    }
   ],
   "source": [
    "import pandas as pd\n",
    "\n",
    "blizzard_csv = pd.read_csv('DQ_Blizzard_Nutrition.csv')\n",
    "blizzard_csv"
   ]
  },
  {
   "cell_type": "markdown",
   "metadata": {},
   "source": [
    "<div class=\"alert alert-block alert-success\"><b>Problem 5 (3 pts.)</b>: As you can see from the result of reading in the csv file, the first record is appearing as the header.\n",
    "\n",
    "Read the file in again so that there is no header and all records from the file show correctly. Use the documentation as needed: __[pandas.read_csv](https://pandas.pydata.org/pandas-docs/stable/reference/api/pandas.read_csv.html)__\n",
    "</div>"
   ]
  },
  {
   "cell_type": "code",
   "execution_count": 27,
   "metadata": {},
   "outputs": [
    {
     "data": {
      "text/html": [
       "<div>\n",
       "<style scoped>\n",
       "    .dataframe tbody tr th:only-of-type {\n",
       "        vertical-align: middle;\n",
       "    }\n",
       "\n",
       "    .dataframe tbody tr th {\n",
       "        vertical-align: top;\n",
       "    }\n",
       "\n",
       "    .dataframe thead th {\n",
       "        text-align: right;\n",
       "    }\n",
       "</style>\n",
       "<table border=\"1\" class=\"dataframe\">\n",
       "  <thead>\n",
       "    <tr style=\"text-align: right;\">\n",
       "      <th></th>\n",
       "      <th>0</th>\n",
       "      <th>1</th>\n",
       "      <th>2</th>\n",
       "      <th>3</th>\n",
       "      <th>4</th>\n",
       "      <th>5</th>\n",
       "      <th>6</th>\n",
       "      <th>7</th>\n",
       "      <th>8</th>\n",
       "      <th>9</th>\n",
       "      <th>10</th>\n",
       "      <th>11</th>\n",
       "    </tr>\n",
       "  </thead>\n",
       "  <tbody>\n",
       "    <tr>\n",
       "      <th>0</th>\n",
       "      <td>Cinnamon Roll Centers Blizzard</td>\n",
       "      <td>890</td>\n",
       "      <td>350</td>\n",
       "      <td>32</td>\n",
       "      <td>20</td>\n",
       "      <td>1.5</td>\n",
       "      <td>120</td>\n",
       "      <td>390</td>\n",
       "      <td>132</td>\n",
       "      <td>1</td>\n",
       "      <td>106</td>\n",
       "      <td>18</td>\n",
       "    </tr>\n",
       "    <tr>\n",
       "      <th>1</th>\n",
       "      <td>Frosted Sugar Cookie Blizzard</td>\n",
       "      <td>960</td>\n",
       "      <td>290</td>\n",
       "      <td>42</td>\n",
       "      <td>19</td>\n",
       "      <td>1.0</td>\n",
       "      <td>75</td>\n",
       "      <td>400</td>\n",
       "      <td>129</td>\n",
       "      <td>1</td>\n",
       "      <td>100</td>\n",
       "      <td>17</td>\n",
       "    </tr>\n",
       "    <tr>\n",
       "      <th>2</th>\n",
       "      <td>Butterfinger Blizzard</td>\n",
       "      <td>730</td>\n",
       "      <td>230</td>\n",
       "      <td>26</td>\n",
       "      <td>15</td>\n",
       "      <td>1.0</td>\n",
       "      <td>55</td>\n",
       "      <td>330</td>\n",
       "      <td>107</td>\n",
       "      <td>2</td>\n",
       "      <td>81</td>\n",
       "      <td>18</td>\n",
       "    </tr>\n",
       "    <tr>\n",
       "      <th>3</th>\n",
       "      <td>Choco Brownie Extreme Blizzard</td>\n",
       "      <td>810</td>\n",
       "      <td>330</td>\n",
       "      <td>36</td>\n",
       "      <td>21</td>\n",
       "      <td>1.0</td>\n",
       "      <td>55</td>\n",
       "      <td>370</td>\n",
       "      <td>111</td>\n",
       "      <td>4</td>\n",
       "      <td>87</td>\n",
       "      <td>16</td>\n",
       "    </tr>\n",
       "    <tr>\n",
       "      <th>4</th>\n",
       "      <td>Chocolate Chip Cookie Dough Blizzard</td>\n",
       "      <td>1030</td>\n",
       "      <td>370</td>\n",
       "      <td>41</td>\n",
       "      <td>24</td>\n",
       "      <td>1.0</td>\n",
       "      <td>60</td>\n",
       "      <td>570</td>\n",
       "      <td>151</td>\n",
       "      <td>2</td>\n",
       "      <td>111</td>\n",
       "      <td>17</td>\n",
       "    </tr>\n",
       "    <tr>\n",
       "      <th>5</th>\n",
       "      <td>Heath Blizzard</td>\n",
       "      <td>860</td>\n",
       "      <td>330</td>\n",
       "      <td>37</td>\n",
       "      <td>23</td>\n",
       "      <td>1.0</td>\n",
       "      <td>65</td>\n",
       "      <td>440</td>\n",
       "      <td>119</td>\n",
       "      <td>1</td>\n",
       "      <td>106</td>\n",
       "      <td>16</td>\n",
       "    </tr>\n",
       "    <tr>\n",
       "      <th>6</th>\n",
       "      <td>M&amp;M's Chocolate Candy Blizzard</td>\n",
       "      <td>800</td>\n",
       "      <td>240</td>\n",
       "      <td>27</td>\n",
       "      <td>17</td>\n",
       "      <td>1.0</td>\n",
       "      <td>60</td>\n",
       "      <td>250</td>\n",
       "      <td>124</td>\n",
       "      <td>2</td>\n",
       "      <td>107</td>\n",
       "      <td>16</td>\n",
       "    </tr>\n",
       "    <tr>\n",
       "      <th>7</th>\n",
       "      <td>OREO Cookie Blizzard</td>\n",
       "      <td>790</td>\n",
       "      <td>280</td>\n",
       "      <td>31</td>\n",
       "      <td>15</td>\n",
       "      <td>1.0</td>\n",
       "      <td>50</td>\n",
       "      <td>400</td>\n",
       "      <td>117</td>\n",
       "      <td>1</td>\n",
       "      <td>88</td>\n",
       "      <td>14</td>\n",
       "    </tr>\n",
       "    <tr>\n",
       "      <th>8</th>\n",
       "      <td>OREO Hot Cocoa Blizzard</td>\n",
       "      <td>1050</td>\n",
       "      <td>410</td>\n",
       "      <td>45</td>\n",
       "      <td>22</td>\n",
       "      <td>1.5</td>\n",
       "      <td>65</td>\n",
       "      <td>500</td>\n",
       "      <td>147</td>\n",
       "      <td>2</td>\n",
       "      <td>113</td>\n",
       "      <td>19</td>\n",
       "    </tr>\n",
       "    <tr>\n",
       "      <th>9</th>\n",
       "      <td>Reese's Peanut Butter Cups Blizzard</td>\n",
       "      <td>750</td>\n",
       "      <td>280</td>\n",
       "      <td>31</td>\n",
       "      <td>16</td>\n",
       "      <td>1.0</td>\n",
       "      <td>60</td>\n",
       "      <td>380</td>\n",
       "      <td>102</td>\n",
       "      <td>2</td>\n",
       "      <td>88</td>\n",
       "      <td>19</td>\n",
       "    </tr>\n",
       "    <tr>\n",
       "      <th>10</th>\n",
       "      <td>Reese's Take Five Blizzard</td>\n",
       "      <td>1120</td>\n",
       "      <td>440</td>\n",
       "      <td>49</td>\n",
       "      <td>21</td>\n",
       "      <td>1.0</td>\n",
       "      <td>65</td>\n",
       "      <td>860</td>\n",
       "      <td>145</td>\n",
       "      <td>5</td>\n",
       "      <td>111</td>\n",
       "      <td>29</td>\n",
       "    </tr>\n",
       "    <tr>\n",
       "      <th>11</th>\n",
       "      <td>Royal New York Cheesecake Blizzard Filled with...</td>\n",
       "      <td>1040</td>\n",
       "      <td>410</td>\n",
       "      <td>46</td>\n",
       "      <td>21</td>\n",
       "      <td>1.5</td>\n",
       "      <td>105</td>\n",
       "      <td>530</td>\n",
       "      <td>140</td>\n",
       "      <td>2</td>\n",
       "      <td>112</td>\n",
       "      <td>19</td>\n",
       "    </tr>\n",
       "    <tr>\n",
       "      <th>12</th>\n",
       "      <td>Royal Ultimate Choco Brownie Blizzard Filled w...</td>\n",
       "      <td>1040</td>\n",
       "      <td>410</td>\n",
       "      <td>45</td>\n",
       "      <td>29</td>\n",
       "      <td>1.0</td>\n",
       "      <td>65</td>\n",
       "      <td>480</td>\n",
       "      <td>146</td>\n",
       "      <td>5</td>\n",
       "      <td>117</td>\n",
       "      <td>19</td>\n",
       "    </tr>\n",
       "    <tr>\n",
       "      <th>13</th>\n",
       "      <td>Snickers Blizzard</td>\n",
       "      <td>800</td>\n",
       "      <td>250</td>\n",
       "      <td>28</td>\n",
       "      <td>15</td>\n",
       "      <td>1.0</td>\n",
       "      <td>65</td>\n",
       "      <td>340</td>\n",
       "      <td>120</td>\n",
       "      <td>1</td>\n",
       "      <td>102</td>\n",
       "      <td>19</td>\n",
       "    </tr>\n",
       "    <tr>\n",
       "      <th>14</th>\n",
       "      <td>Snickers Brownie Blizzard</td>\n",
       "      <td>1010</td>\n",
       "      <td>340</td>\n",
       "      <td>37</td>\n",
       "      <td>20</td>\n",
       "      <td>1.0</td>\n",
       "      <td>70</td>\n",
       "      <td>510</td>\n",
       "      <td>151</td>\n",
       "      <td>3</td>\n",
       "      <td>118</td>\n",
       "      <td>21</td>\n",
       "    </tr>\n",
       "    <tr>\n",
       "      <th>15</th>\n",
       "      <td>Turtle Pecan Cluster Blizzard</td>\n",
       "      <td>1020</td>\n",
       "      <td>470</td>\n",
       "      <td>52</td>\n",
       "      <td>29</td>\n",
       "      <td>1.0</td>\n",
       "      <td>65</td>\n",
       "      <td>390</td>\n",
       "      <td>123</td>\n",
       "      <td>3</td>\n",
       "      <td>99</td>\n",
       "      <td>18</td>\n",
       "    </tr>\n",
       "    <tr>\n",
       "      <th>16</th>\n",
       "      <td>Very Cherry Chip Blizzard</td>\n",
       "      <td>730</td>\n",
       "      <td>230</td>\n",
       "      <td>25</td>\n",
       "      <td>18</td>\n",
       "      <td>1.0</td>\n",
       "      <td>65</td>\n",
       "      <td>250</td>\n",
       "      <td>113</td>\n",
       "      <td>2</td>\n",
       "      <td>97</td>\n",
       "      <td>16</td>\n",
       "    </tr>\n",
       "  </tbody>\n",
       "</table>\n",
       "</div>"
      ],
      "text/plain": [
       "                                                   0     1    2   3   4    5   \\\n",
       "0                      Cinnamon Roll Centers Blizzard   890  350  32  20  1.5   \n",
       "1                       Frosted Sugar Cookie Blizzard   960  290  42  19  1.0   \n",
       "2                               Butterfinger Blizzard   730  230  26  15  1.0   \n",
       "3                      Choco Brownie Extreme Blizzard   810  330  36  21  1.0   \n",
       "4                Chocolate Chip Cookie Dough Blizzard  1030  370  41  24  1.0   \n",
       "5                                      Heath Blizzard   860  330  37  23  1.0   \n",
       "6                      M&M's Chocolate Candy Blizzard   800  240  27  17  1.0   \n",
       "7                                OREO Cookie Blizzard   790  280  31  15  1.0   \n",
       "8                             OREO Hot Cocoa Blizzard  1050  410  45  22  1.5   \n",
       "9                 Reese's Peanut Butter Cups Blizzard   750  280  31  16  1.0   \n",
       "10                         Reese's Take Five Blizzard  1120  440  49  21  1.0   \n",
       "11  Royal New York Cheesecake Blizzard Filled with...  1040  410  46  21  1.5   \n",
       "12  Royal Ultimate Choco Brownie Blizzard Filled w...  1040  410  45  29  1.0   \n",
       "13                                  Snickers Blizzard   800  250  28  15  1.0   \n",
       "14                          Snickers Brownie Blizzard  1010  340  37  20  1.0   \n",
       "15                      Turtle Pecan Cluster Blizzard  1020  470  52  29  1.0   \n",
       "16                          Very Cherry Chip Blizzard   730  230  25  18  1.0   \n",
       "\n",
       "     6    7    8   9    10  11  \n",
       "0   120  390  132   1  106  18  \n",
       "1    75  400  129   1  100  17  \n",
       "2    55  330  107   2   81  18  \n",
       "3    55  370  111   4   87  16  \n",
       "4    60  570  151   2  111  17  \n",
       "5    65  440  119   1  106  16  \n",
       "6    60  250  124   2  107  16  \n",
       "7    50  400  117   1   88  14  \n",
       "8    65  500  147   2  113  19  \n",
       "9    60  380  102   2   88  19  \n",
       "10   65  860  145   5  111  29  \n",
       "11  105  530  140   2  112  19  \n",
       "12   65  480  146   5  117  19  \n",
       "13   65  340  120   1  102  19  \n",
       "14   70  510  151   3  118  21  \n",
       "15   65  390  123   3   99  18  \n",
       "16   65  250  113   2   97  16  "
      ]
     },
     "execution_count": 27,
     "metadata": {},
     "output_type": "execute_result"
    }
   ],
   "source": [
    "#TODO: Read in the 'DQ_Blizzard_Nutrition.csv' file without a header\n",
    "blizzard_csv = pd.read_csv('DQ_Blizzard_Nutrition.csv', header = None)\n",
    "\n",
    "#TODO: Display the file contents to confirm all records are accurate\n",
    "blizzard_csv"
   ]
  },
  {
   "cell_type": "markdown",
   "metadata": {},
   "source": [
    "### Reading Excel files with Pandas"
   ]
  },
  {
   "cell_type": "markdown",
   "metadata": {},
   "source": [
    "Next we read in an Excel file using pandas and look at the information about the file using the `info` method. Notice that `info( )` tells you how many rows, how many non-nulls per column and each variable type. After this we look at the first 5 rows of the data using the `head` method and the last 5 rows using the `tail` method."
   ]
  },
  {
   "cell_type": "code",
   "execution_count": 28,
   "metadata": {},
   "outputs": [
    {
     "name": "stdout",
     "output_type": "stream",
     "text": [
      "<class 'pandas.core.frame.DataFrame'>\n",
      "RangeIndex: 20 entries, 0 to 19\n",
      "Data columns (total 12 columns):\n",
      " #   Column                                                    Non-Null Count  Dtype \n",
      "---  ------                                                    --------------  ----- \n",
      " 0   Nutrition information for Dairy Queen Blizzard varieties  20 non-null     object\n",
      " 1   Unnamed: 1                                                18 non-null     object\n",
      " 2   Unnamed: 2                                                18 non-null     object\n",
      " 3   Unnamed: 3                                                18 non-null     object\n",
      " 4   Unnamed: 4                                                18 non-null     object\n",
      " 5   Unnamed: 5                                                18 non-null     object\n",
      " 6   Unnamed: 6                                                18 non-null     object\n",
      " 7   Unnamed: 7                                                18 non-null     object\n",
      " 8   Unnamed: 8                                                18 non-null     object\n",
      " 9   Unnamed: 9                                                18 non-null     object\n",
      " 10  Unnamed: 10                                               18 non-null     object\n",
      " 11  Unnamed: 11                                               18 non-null     object\n",
      "dtypes: object(12)\n",
      "memory usage: 2.0+ KB\n"
     ]
    }
   ],
   "source": [
    "# Read in the file named 'DQ_Blizzard_Nutrition.xlsx'\n",
    "blizzard_excel = pd.read_excel('DQ_Blizzard_Nutrition.xlsx')\n",
    "\n",
    "# Inspect the data using the info method\n",
    "blizzard_excel.info()"
   ]
  },
  {
   "cell_type": "code",
   "execution_count": 29,
   "metadata": {},
   "outputs": [
    {
     "data": {
      "text/html": [
       "<div>\n",
       "<style scoped>\n",
       "    .dataframe tbody tr th:only-of-type {\n",
       "        vertical-align: middle;\n",
       "    }\n",
       "\n",
       "    .dataframe tbody tr th {\n",
       "        vertical-align: top;\n",
       "    }\n",
       "\n",
       "    .dataframe thead th {\n",
       "        text-align: right;\n",
       "    }\n",
       "</style>\n",
       "<table border=\"1\" class=\"dataframe\">\n",
       "  <thead>\n",
       "    <tr style=\"text-align: right;\">\n",
       "      <th></th>\n",
       "      <th>Nutrition information for Dairy Queen Blizzard varieties</th>\n",
       "      <th>Unnamed: 1</th>\n",
       "      <th>Unnamed: 2</th>\n",
       "      <th>Unnamed: 3</th>\n",
       "      <th>Unnamed: 4</th>\n",
       "      <th>Unnamed: 5</th>\n",
       "      <th>Unnamed: 6</th>\n",
       "      <th>Unnamed: 7</th>\n",
       "      <th>Unnamed: 8</th>\n",
       "      <th>Unnamed: 9</th>\n",
       "      <th>Unnamed: 10</th>\n",
       "      <th>Unnamed: 11</th>\n",
       "    </tr>\n",
       "  </thead>\n",
       "  <tbody>\n",
       "    <tr>\n",
       "      <th>0</th>\n",
       "      <td>Includes fat content, cholesterol, sodium, car...</td>\n",
       "      <td>NaN</td>\n",
       "      <td>NaN</td>\n",
       "      <td>NaN</td>\n",
       "      <td>NaN</td>\n",
       "      <td>NaN</td>\n",
       "      <td>NaN</td>\n",
       "      <td>NaN</td>\n",
       "      <td>NaN</td>\n",
       "      <td>NaN</td>\n",
       "      <td>NaN</td>\n",
       "      <td>NaN</td>\n",
       "    </tr>\n",
       "    <tr>\n",
       "      <th>1</th>\n",
       "      <td>Menu Item</td>\n",
       "      <td>Calories (kcal)</td>\n",
       "      <td>Fat Calories (kcal)</td>\n",
       "      <td>Total Fat (g)</td>\n",
       "      <td>Saturated Fat (g)</td>\n",
       "      <td>Trans Fat (g)</td>\n",
       "      <td>Cholesterol (mg)</td>\n",
       "      <td>Sodium (mg)</td>\n",
       "      <td>Carbohydrates (g)</td>\n",
       "      <td>Fiber (g)</td>\n",
       "      <td>Sugars (g)</td>\n",
       "      <td>Protein (g)</td>\n",
       "    </tr>\n",
       "    <tr>\n",
       "      <th>2</th>\n",
       "      <td>Cinnamon Roll Centers Blizzard</td>\n",
       "      <td>890</td>\n",
       "      <td>350</td>\n",
       "      <td>32</td>\n",
       "      <td>20</td>\n",
       "      <td>1.5</td>\n",
       "      <td>120</td>\n",
       "      <td>390</td>\n",
       "      <td>132</td>\n",
       "      <td>1</td>\n",
       "      <td>106</td>\n",
       "      <td>18</td>\n",
       "    </tr>\n",
       "    <tr>\n",
       "      <th>3</th>\n",
       "      <td>Frosted Sugar Cookie Blizzard</td>\n",
       "      <td>960</td>\n",
       "      <td>290</td>\n",
       "      <td>42</td>\n",
       "      <td>19</td>\n",
       "      <td>1</td>\n",
       "      <td>75</td>\n",
       "      <td>400</td>\n",
       "      <td>129</td>\n",
       "      <td>1</td>\n",
       "      <td>100</td>\n",
       "      <td>17</td>\n",
       "    </tr>\n",
       "    <tr>\n",
       "      <th>4</th>\n",
       "      <td>Butterfinger Blizzard</td>\n",
       "      <td>730</td>\n",
       "      <td>230</td>\n",
       "      <td>26</td>\n",
       "      <td>15</td>\n",
       "      <td>1</td>\n",
       "      <td>55</td>\n",
       "      <td>330</td>\n",
       "      <td>107</td>\n",
       "      <td>2</td>\n",
       "      <td>81</td>\n",
       "      <td>18</td>\n",
       "    </tr>\n",
       "  </tbody>\n",
       "</table>\n",
       "</div>"
      ],
      "text/plain": [
       "  Nutrition information for Dairy Queen Blizzard varieties       Unnamed: 1  \\\n",
       "0  Includes fat content, cholesterol, sodium, car...                    NaN   \n",
       "1                                          Menu Item        Calories (kcal)   \n",
       "2                     Cinnamon Roll Centers Blizzard                    890   \n",
       "3                      Frosted Sugar Cookie Blizzard                    960   \n",
       "4                              Butterfinger Blizzard                    730   \n",
       "\n",
       "            Unnamed: 2     Unnamed: 3         Unnamed: 4     Unnamed: 5  \\\n",
       "0                  NaN            NaN                NaN            NaN   \n",
       "1  Fat Calories (kcal)  Total Fat (g)  Saturated Fat (g)  Trans Fat (g)   \n",
       "2                  350             32                 20            1.5   \n",
       "3                  290             42                 19              1   \n",
       "4                  230             26                 15              1   \n",
       "\n",
       "         Unnamed: 6   Unnamed: 7         Unnamed: 8 Unnamed: 9 Unnamed: 10  \\\n",
       "0               NaN          NaN                NaN        NaN         NaN   \n",
       "1  Cholesterol (mg)  Sodium (mg)  Carbohydrates (g)  Fiber (g)  Sugars (g)   \n",
       "2               120          390                132          1         106   \n",
       "3                75          400                129          1         100   \n",
       "4                55          330                107          2          81   \n",
       "\n",
       "   Unnamed: 11  \n",
       "0          NaN  \n",
       "1  Protein (g)  \n",
       "2           18  \n",
       "3           17  \n",
       "4           18  "
      ]
     },
     "execution_count": 29,
     "metadata": {},
     "output_type": "execute_result"
    }
   ],
   "source": [
    "# Look at the first 5 rows\n",
    "blizzard_excel.head()"
   ]
  },
  {
   "cell_type": "markdown",
   "metadata": {},
   "source": [
    "As we can see, the first two rows appear to be typed comments and are not part of the data with nutrition information. We can also use the `tail()` method to look at the last few lines of the file."
   ]
  },
  {
   "cell_type": "code",
   "execution_count": 30,
   "metadata": {},
   "outputs": [
    {
     "data": {
      "text/html": [
       "<div>\n",
       "<style scoped>\n",
       "    .dataframe tbody tr th:only-of-type {\n",
       "        vertical-align: middle;\n",
       "    }\n",
       "\n",
       "    .dataframe tbody tr th {\n",
       "        vertical-align: top;\n",
       "    }\n",
       "\n",
       "    .dataframe thead th {\n",
       "        text-align: right;\n",
       "    }\n",
       "</style>\n",
       "<table border=\"1\" class=\"dataframe\">\n",
       "  <thead>\n",
       "    <tr style=\"text-align: right;\">\n",
       "      <th></th>\n",
       "      <th>Nutrition information for Dairy Queen Blizzard varieties</th>\n",
       "      <th>Unnamed: 1</th>\n",
       "      <th>Unnamed: 2</th>\n",
       "      <th>Unnamed: 3</th>\n",
       "      <th>Unnamed: 4</th>\n",
       "      <th>Unnamed: 5</th>\n",
       "      <th>Unnamed: 6</th>\n",
       "      <th>Unnamed: 7</th>\n",
       "      <th>Unnamed: 8</th>\n",
       "      <th>Unnamed: 9</th>\n",
       "      <th>Unnamed: 10</th>\n",
       "      <th>Unnamed: 11</th>\n",
       "    </tr>\n",
       "  </thead>\n",
       "  <tbody>\n",
       "    <tr>\n",
       "      <th>15</th>\n",
       "      <td>Snickers Blizzard</td>\n",
       "      <td>800</td>\n",
       "      <td>250</td>\n",
       "      <td>28</td>\n",
       "      <td>15</td>\n",
       "      <td>1</td>\n",
       "      <td>65</td>\n",
       "      <td>340</td>\n",
       "      <td>120</td>\n",
       "      <td>1</td>\n",
       "      <td>102</td>\n",
       "      <td>19</td>\n",
       "    </tr>\n",
       "    <tr>\n",
       "      <th>16</th>\n",
       "      <td>Snickers Brownie Blizzard</td>\n",
       "      <td>1010</td>\n",
       "      <td>340</td>\n",
       "      <td>37</td>\n",
       "      <td>20</td>\n",
       "      <td>1</td>\n",
       "      <td>70</td>\n",
       "      <td>510</td>\n",
       "      <td>151</td>\n",
       "      <td>3</td>\n",
       "      <td>118</td>\n",
       "      <td>21</td>\n",
       "    </tr>\n",
       "    <tr>\n",
       "      <th>17</th>\n",
       "      <td>Turtle Pecan Cluster Blizzard</td>\n",
       "      <td>1020</td>\n",
       "      <td>470</td>\n",
       "      <td>52</td>\n",
       "      <td>29</td>\n",
       "      <td>1</td>\n",
       "      <td>65</td>\n",
       "      <td>390</td>\n",
       "      <td>123</td>\n",
       "      <td>3</td>\n",
       "      <td>99</td>\n",
       "      <td>18</td>\n",
       "    </tr>\n",
       "    <tr>\n",
       "      <th>18</th>\n",
       "      <td>Very Cherry Chip Blizzard</td>\n",
       "      <td>730</td>\n",
       "      <td>230</td>\n",
       "      <td>25</td>\n",
       "      <td>18</td>\n",
       "      <td>1</td>\n",
       "      <td>65</td>\n",
       "      <td>250</td>\n",
       "      <td>113</td>\n",
       "      <td>2</td>\n",
       "      <td>97</td>\n",
       "      <td>16</td>\n",
       "    </tr>\n",
       "    <tr>\n",
       "      <th>19</th>\n",
       "      <td>All products contain milk. Some products conta...</td>\n",
       "      <td>NaN</td>\n",
       "      <td>NaN</td>\n",
       "      <td>NaN</td>\n",
       "      <td>NaN</td>\n",
       "      <td>NaN</td>\n",
       "      <td>NaN</td>\n",
       "      <td>NaN</td>\n",
       "      <td>NaN</td>\n",
       "      <td>NaN</td>\n",
       "      <td>NaN</td>\n",
       "      <td>NaN</td>\n",
       "    </tr>\n",
       "  </tbody>\n",
       "</table>\n",
       "</div>"
      ],
      "text/plain": [
       "   Nutrition information for Dairy Queen Blizzard varieties Unnamed: 1  \\\n",
       "15                                  Snickers Blizzard              800   \n",
       "16                          Snickers Brownie Blizzard             1010   \n",
       "17                      Turtle Pecan Cluster Blizzard             1020   \n",
       "18                          Very Cherry Chip Blizzard              730   \n",
       "19  All products contain milk. Some products conta...              NaN   \n",
       "\n",
       "   Unnamed: 2 Unnamed: 3 Unnamed: 4 Unnamed: 5 Unnamed: 6 Unnamed: 7  \\\n",
       "15        250         28         15          1         65        340   \n",
       "16        340         37         20          1         70        510   \n",
       "17        470         52         29          1         65        390   \n",
       "18        230         25         18          1         65        250   \n",
       "19        NaN        NaN        NaN        NaN        NaN        NaN   \n",
       "\n",
       "   Unnamed: 8 Unnamed: 9 Unnamed: 10 Unnamed: 11  \n",
       "15        120          1         102          19  \n",
       "16        151          3         118          21  \n",
       "17        123          3          99          18  \n",
       "18        113          2          97          16  \n",
       "19        NaN        NaN         NaN         NaN  "
      ]
     },
     "execution_count": 30,
     "metadata": {},
     "output_type": "execute_result"
    }
   ],
   "source": [
    "blizzard_excel.tail()"
   ]
  },
  {
   "cell_type": "markdown",
   "metadata": {},
   "source": [
    "Again, it appears there is information in the last row that is not part of the data we're interested in. There is a way to handle unneeded rows when reading in an excel file, which will be used in the next problem. __[pandas.read_excel](https://pandas.pydata.org/pandas-docs/stable/reference/api/pandas.read_excel.html)__"
   ]
  },
  {
   "cell_type": "markdown",
   "metadata": {},
   "source": [
    "<div class=\"alert alert-block alert-success\"><b>Problem 6 (4 pts.)</b>: Read in <b>DQ_Blizzard_Nutrition.xlsx</b> again so that the header is correct, the footer is removed, and all records from the file show correctly.\n",
    "</div>"
   ]
  },
  {
   "cell_type": "code",
   "execution_count": 31,
   "metadata": {},
   "outputs": [
    {
     "data": {
      "text/html": [
       "<div>\n",
       "<style scoped>\n",
       "    .dataframe tbody tr th:only-of-type {\n",
       "        vertical-align: middle;\n",
       "    }\n",
       "\n",
       "    .dataframe tbody tr th {\n",
       "        vertical-align: top;\n",
       "    }\n",
       "\n",
       "    .dataframe thead th {\n",
       "        text-align: right;\n",
       "    }\n",
       "</style>\n",
       "<table border=\"1\" class=\"dataframe\">\n",
       "  <thead>\n",
       "    <tr style=\"text-align: right;\">\n",
       "      <th></th>\n",
       "      <th>Menu Item</th>\n",
       "      <th>Calories (kcal)</th>\n",
       "      <th>Fat Calories (kcal)</th>\n",
       "      <th>Total Fat (g)</th>\n",
       "      <th>Saturated Fat (g)</th>\n",
       "      <th>Trans Fat (g)</th>\n",
       "      <th>Cholesterol (mg)</th>\n",
       "      <th>Sodium (mg)</th>\n",
       "      <th>Carbohydrates (g)</th>\n",
       "      <th>Fiber (g)</th>\n",
       "      <th>Sugars (g)</th>\n",
       "      <th>Protein (g)</th>\n",
       "    </tr>\n",
       "  </thead>\n",
       "  <tbody>\n",
       "    <tr>\n",
       "      <th>0</th>\n",
       "      <td>Cinnamon Roll Centers Blizzard</td>\n",
       "      <td>890</td>\n",
       "      <td>350</td>\n",
       "      <td>32</td>\n",
       "      <td>20</td>\n",
       "      <td>1.5</td>\n",
       "      <td>120</td>\n",
       "      <td>390</td>\n",
       "      <td>132</td>\n",
       "      <td>1</td>\n",
       "      <td>106</td>\n",
       "      <td>18</td>\n",
       "    </tr>\n",
       "    <tr>\n",
       "      <th>1</th>\n",
       "      <td>Frosted Sugar Cookie Blizzard</td>\n",
       "      <td>960</td>\n",
       "      <td>290</td>\n",
       "      <td>42</td>\n",
       "      <td>19</td>\n",
       "      <td>1.0</td>\n",
       "      <td>75</td>\n",
       "      <td>400</td>\n",
       "      <td>129</td>\n",
       "      <td>1</td>\n",
       "      <td>100</td>\n",
       "      <td>17</td>\n",
       "    </tr>\n",
       "    <tr>\n",
       "      <th>2</th>\n",
       "      <td>Butterfinger Blizzard</td>\n",
       "      <td>730</td>\n",
       "      <td>230</td>\n",
       "      <td>26</td>\n",
       "      <td>15</td>\n",
       "      <td>1.0</td>\n",
       "      <td>55</td>\n",
       "      <td>330</td>\n",
       "      <td>107</td>\n",
       "      <td>2</td>\n",
       "      <td>81</td>\n",
       "      <td>18</td>\n",
       "    </tr>\n",
       "    <tr>\n",
       "      <th>3</th>\n",
       "      <td>Choco Brownie Extreme Blizzard</td>\n",
       "      <td>810</td>\n",
       "      <td>330</td>\n",
       "      <td>36</td>\n",
       "      <td>21</td>\n",
       "      <td>1.0</td>\n",
       "      <td>55</td>\n",
       "      <td>370</td>\n",
       "      <td>111</td>\n",
       "      <td>4</td>\n",
       "      <td>87</td>\n",
       "      <td>16</td>\n",
       "    </tr>\n",
       "    <tr>\n",
       "      <th>4</th>\n",
       "      <td>Chocolate Chip Cookie Dough Blizzard</td>\n",
       "      <td>1030</td>\n",
       "      <td>370</td>\n",
       "      <td>41</td>\n",
       "      <td>24</td>\n",
       "      <td>1.0</td>\n",
       "      <td>60</td>\n",
       "      <td>570</td>\n",
       "      <td>151</td>\n",
       "      <td>2</td>\n",
       "      <td>111</td>\n",
       "      <td>17</td>\n",
       "    </tr>\n",
       "  </tbody>\n",
       "</table>\n",
       "</div>"
      ],
      "text/plain": [
       "                              Menu Item  Calories (kcal)  Fat Calories (kcal)  \\\n",
       "0        Cinnamon Roll Centers Blizzard              890                  350   \n",
       "1         Frosted Sugar Cookie Blizzard              960                  290   \n",
       "2                 Butterfinger Blizzard              730                  230   \n",
       "3        Choco Brownie Extreme Blizzard              810                  330   \n",
       "4  Chocolate Chip Cookie Dough Blizzard             1030                  370   \n",
       "\n",
       "   Total Fat (g)  Saturated Fat (g)  Trans Fat (g)  Cholesterol (mg)  \\\n",
       "0             32                 20            1.5               120   \n",
       "1             42                 19            1.0                75   \n",
       "2             26                 15            1.0                55   \n",
       "3             36                 21            1.0                55   \n",
       "4             41                 24            1.0                60   \n",
       "\n",
       "   Sodium (mg)  Carbohydrates (g)  Fiber (g)  Sugars (g)  Protein (g)  \n",
       "0          390                132          1         106           18  \n",
       "1          400                129          1         100           17  \n",
       "2          330                107          2          81           18  \n",
       "3          370                111          4          87           16  \n",
       "4          570                151          2         111           17  "
      ]
     },
     "execution_count": 31,
     "metadata": {},
     "output_type": "execute_result"
    }
   ],
   "source": [
    "# TODO: Read in 'DQ_Blizzard_Nutrition.xlsx' so that the header is correct and the footer is removed\n",
    "blizzard_excel = pd.read_excel('DQ_Blizzard_Nutrition.xlsx', skiprows = 2, skipfooter = 1)\n",
    "\n",
    "# TODO: Display the first five rows of data\n",
    "blizzard_excel.head()"
   ]
  },
  {
   "cell_type": "markdown",
   "metadata": {},
   "source": [
    "<div class=\"alert alert-block alert-success\"><b>Problem 6 continued</b>: Display the last 3 rows of data.\n",
    "</div>"
   ]
  },
  {
   "cell_type": "code",
   "execution_count": 32,
   "metadata": {},
   "outputs": [
    {
     "data": {
      "text/html": [
       "<div>\n",
       "<style scoped>\n",
       "    .dataframe tbody tr th:only-of-type {\n",
       "        vertical-align: middle;\n",
       "    }\n",
       "\n",
       "    .dataframe tbody tr th {\n",
       "        vertical-align: top;\n",
       "    }\n",
       "\n",
       "    .dataframe thead th {\n",
       "        text-align: right;\n",
       "    }\n",
       "</style>\n",
       "<table border=\"1\" class=\"dataframe\">\n",
       "  <thead>\n",
       "    <tr style=\"text-align: right;\">\n",
       "      <th></th>\n",
       "      <th>Menu Item</th>\n",
       "      <th>Calories (kcal)</th>\n",
       "      <th>Fat Calories (kcal)</th>\n",
       "      <th>Total Fat (g)</th>\n",
       "      <th>Saturated Fat (g)</th>\n",
       "      <th>Trans Fat (g)</th>\n",
       "      <th>Cholesterol (mg)</th>\n",
       "      <th>Sodium (mg)</th>\n",
       "      <th>Carbohydrates (g)</th>\n",
       "      <th>Fiber (g)</th>\n",
       "      <th>Sugars (g)</th>\n",
       "      <th>Protein (g)</th>\n",
       "    </tr>\n",
       "  </thead>\n",
       "  <tbody>\n",
       "    <tr>\n",
       "      <th>14</th>\n",
       "      <td>Snickers Brownie Blizzard</td>\n",
       "      <td>1010</td>\n",
       "      <td>340</td>\n",
       "      <td>37</td>\n",
       "      <td>20</td>\n",
       "      <td>1.0</td>\n",
       "      <td>70</td>\n",
       "      <td>510</td>\n",
       "      <td>151</td>\n",
       "      <td>3</td>\n",
       "      <td>118</td>\n",
       "      <td>21</td>\n",
       "    </tr>\n",
       "    <tr>\n",
       "      <th>15</th>\n",
       "      <td>Turtle Pecan Cluster Blizzard</td>\n",
       "      <td>1020</td>\n",
       "      <td>470</td>\n",
       "      <td>52</td>\n",
       "      <td>29</td>\n",
       "      <td>1.0</td>\n",
       "      <td>65</td>\n",
       "      <td>390</td>\n",
       "      <td>123</td>\n",
       "      <td>3</td>\n",
       "      <td>99</td>\n",
       "      <td>18</td>\n",
       "    </tr>\n",
       "    <tr>\n",
       "      <th>16</th>\n",
       "      <td>Very Cherry Chip Blizzard</td>\n",
       "      <td>730</td>\n",
       "      <td>230</td>\n",
       "      <td>25</td>\n",
       "      <td>18</td>\n",
       "      <td>1.0</td>\n",
       "      <td>65</td>\n",
       "      <td>250</td>\n",
       "      <td>113</td>\n",
       "      <td>2</td>\n",
       "      <td>97</td>\n",
       "      <td>16</td>\n",
       "    </tr>\n",
       "  </tbody>\n",
       "</table>\n",
       "</div>"
      ],
      "text/plain": [
       "                        Menu Item  Calories (kcal)  Fat Calories (kcal)  \\\n",
       "14      Snickers Brownie Blizzard             1010                  340   \n",
       "15  Turtle Pecan Cluster Blizzard             1020                  470   \n",
       "16      Very Cherry Chip Blizzard              730                  230   \n",
       "\n",
       "    Total Fat (g)  Saturated Fat (g)  Trans Fat (g)  Cholesterol (mg)  \\\n",
       "14             37                 20            1.0                70   \n",
       "15             52                 29            1.0                65   \n",
       "16             25                 18            1.0                65   \n",
       "\n",
       "    Sodium (mg)  Carbohydrates (g)  Fiber (g)  Sugars (g)  Protein (g)  \n",
       "14          510                151          3         118           21  \n",
       "15          390                123          3          99           18  \n",
       "16          250                113          2          97           16  "
      ]
     },
     "execution_count": 32,
     "metadata": {},
     "output_type": "execute_result"
    }
   ],
   "source": [
    "# TODO: Display at the last 3 rows of data\n",
    "blizzard_excel.tail(3)"
   ]
  },
  {
   "cell_type": "markdown",
   "metadata": {},
   "source": [
    "### Read a json file\n",
    "\n",
    "Now let's look at another file type, a `json` file. If we look at the raw data in `DQ_Blizzard_Nutrition.json`, it looks like this:<br>\n",
    "\n",
    "`{\"Menu Item\":{\"0\":\"Cinnamon Roll Centers Blizzard\",\"1\":\"Frosted Sugar Cookie Blizzard\",\"2\":\"Butterfinger Blizzard\",\"3\":\"Choco Brownie Extreme Blizzard\",\"4\":\"Chocolate Chip Cookie Dough Blizzard\",\"5\":\"Heath Blizzard\",\"6\":\"M&M's Chocolate Candy Blizzard\",\"7\":\"OREO Cookie Blizzard\",\"8\":\"OREO Hot Cocoa Blizzard\",\"9\":\"Reese's Peanut Butter Cups Blizzard\",\"10\":\"Reese's Take Five Blizzard\",\"11\":\"Royal New York Cheesecake Blizzard Filled with Strawberry\",\"12\":\"Royal Ultimate Choco Brownie Blizzard Filled with Fudge\",\"13\":\"Snickers Blizzard\",\"14\":\"Snickers Brownie Blizzard\",\"15\":\"Turtle Pecan Cluster Blizzard\",\"16\":\"Very Cherry Chip Blizzard\"},\"Calories (kcal)\":{\"0\":890,\"1\":960,\"2\":730,\"3\":810,\"4\":1030,\"5\":860,\"6\":800,\"7\":790,\"8\":1050,\"9\":750,\"10\":1120,\"11\":1040,\"12\":1040,\"13\":800,\"14\":1010,\"15\":1020,\"16\":730},\"Fat Calories (kcal)\":{\"0\":350,\"1\":290,\"2\":230,\"3\":330,\"4\":370,\"5\":330,\"6\":240,\"7\":280,\"8\":410,\"9\":280,\"10\":440,\"11\":410,\"12\":410,\"13\":250,\"14\":340,\"15\":470,\"16\":230},\"Total Fat (g)\":{\"0\":32,\"1\":42,\"2\":26,\"3\":36,\"4\":41,\"5\":37,\"6\":27,\"7\":31,\"8\":45,\"9\":31,\"10\":49,\"11\":46,\"12\":45,\"13\":28,\"14\":37,\"15\":52,\"16\":25},\"Saturated Fat (g)\":{\"0\":20,\"1\":19,\"2\":15,\"3\":21,\"4\":24,\"5\":23,\"6\":17,\"7\":15,\"8\":22,\"9\":16,\"10\":21,\"11\":21,\"12\":29,\"13\":15,\"14\":20,\"15\":29,\"16\":18},\"Trans Fat (g)\":{\"0\":1.5,\"1\":1.0,\"2\":1.0,\"3\":1.0,\"4\":1.0,\"5\":1.0,\"6\":1.0,\"7\":1.0,\"8\":1.5,\"9\":1.0,\"10\":1.0,\"11\":1.5,\"12\":1.0,\"13\":1.0,\"14\":1.0,\"15\":1.0,\"16\":1.0},\"Cholesterol (mg)\":{\"0\":120,\"1\":75,\"2\":55,\"3\":55,\"4\":60,\"5\":65,\"6\":60,\"7\":50,\"8\":65,\"9\":60,\"10\":65,\"11\":105,\"12\":65,\"13\":65,\"14\":70,\"15\":65,\"16\":65},\"Sodium (mg)\":{\"0\":390,\"1\":400,\"2\":330,\"3\":370,\"4\":570,\"5\":440,\"6\":250,\"7\":400,\"8\":500,\"9\":380,\"10\":860,\"11\":530,\"12\":480,\"13\":340,\"14\":510,\"15\":390,\"16\":250},\"Carbohydrates (g)\":{\"0\":132,\"1\":129,\"2\":107,\"3\":111,\"4\":151,\"5\":119,\"6\":124,\"7\":117,\"8\":147,\"9\":102,\"10\":145,\"11\":140,\"12\":146,\"13\":120,\"14\":151,\"15\":123,\"16\":113},\"Fiber (g)\":{\"0\":1,\"1\":1,\"2\":2,\"3\":4,\"4\":2,\"5\":1,\"6\":2,\"7\":1,\"8\":2,\"9\":2,\"10\":5,\"11\":2,\"12\":5,\"13\":1,\"14\":3,\"15\":3,\"16\":2},\"Sugars (g)\":{\"0\":106,\"1\":100,\"2\":81,\"3\":87,\"4\":111,\"5\":106,\"6\":107,\"7\":88,\"8\":113,\"9\":88,\"10\":111,\"11\":112,\"12\":117,\"13\":102,\"14\":118,\"15\":99,\"16\":97},\"Protein (g)\":{\"0\":18,\"1\":17,\"2\":18,\"3\":16,\"4\":17,\"5\":16,\"6\":16,\"7\":14,\"8\":19,\"9\":19,\"10\":29,\"11\":19,\"12\":19,\"13\":19,\"14\":21,\"15\":18,\"16\":16}}`\n",
    "\n",
    "__[pandas.read_json](https://pandas.pydata.org/pandas-docs/stable/reference/api/pandas.read_json.html)__"
   ]
  },
  {
   "cell_type": "markdown",
   "metadata": {},
   "source": [
    "Next we read a `json` file in using Pandas.\n"
   ]
  },
  {
   "cell_type": "code",
   "execution_count": 33,
   "metadata": {},
   "outputs": [
    {
     "data": {
      "text/plain": [
       "pandas.core.frame.DataFrame"
      ]
     },
     "execution_count": 33,
     "metadata": {},
     "output_type": "execute_result"
    },
    {
     "data": {
      "text/html": [
       "<div>\n",
       "<style scoped>\n",
       "    .dataframe tbody tr th:only-of-type {\n",
       "        vertical-align: middle;\n",
       "    }\n",
       "\n",
       "    .dataframe tbody tr th {\n",
       "        vertical-align: top;\n",
       "    }\n",
       "\n",
       "    .dataframe thead th {\n",
       "        text-align: right;\n",
       "    }\n",
       "</style>\n",
       "<table border=\"1\" class=\"dataframe\">\n",
       "  <thead>\n",
       "    <tr style=\"text-align: right;\">\n",
       "      <th></th>\n",
       "      <th>Menu Item</th>\n",
       "      <th>Calories (kcal)</th>\n",
       "      <th>Fat Calories (kcal)</th>\n",
       "      <th>Total Fat (g)</th>\n",
       "      <th>Saturated Fat (g)</th>\n",
       "      <th>Trans Fat (g)</th>\n",
       "      <th>Cholesterol (mg)</th>\n",
       "      <th>Sodium (mg)</th>\n",
       "      <th>Carbohydrates (g)</th>\n",
       "      <th>Fiber (g)</th>\n",
       "      <th>Sugars (g)</th>\n",
       "      <th>Protein (g)</th>\n",
       "    </tr>\n",
       "  </thead>\n",
       "  <tbody>\n",
       "    <tr>\n",
       "      <th>0</th>\n",
       "      <td>Cinnamon Roll Centers Blizzard</td>\n",
       "      <td>890</td>\n",
       "      <td>350</td>\n",
       "      <td>32</td>\n",
       "      <td>20</td>\n",
       "      <td>1.5</td>\n",
       "      <td>120</td>\n",
       "      <td>390</td>\n",
       "      <td>132</td>\n",
       "      <td>1</td>\n",
       "      <td>106</td>\n",
       "      <td>18</td>\n",
       "    </tr>\n",
       "    <tr>\n",
       "      <th>1</th>\n",
       "      <td>Frosted Sugar Cookie Blizzard</td>\n",
       "      <td>960</td>\n",
       "      <td>290</td>\n",
       "      <td>42</td>\n",
       "      <td>19</td>\n",
       "      <td>1.0</td>\n",
       "      <td>75</td>\n",
       "      <td>400</td>\n",
       "      <td>129</td>\n",
       "      <td>1</td>\n",
       "      <td>100</td>\n",
       "      <td>17</td>\n",
       "    </tr>\n",
       "    <tr>\n",
       "      <th>2</th>\n",
       "      <td>Butterfinger Blizzard</td>\n",
       "      <td>730</td>\n",
       "      <td>230</td>\n",
       "      <td>26</td>\n",
       "      <td>15</td>\n",
       "      <td>1.0</td>\n",
       "      <td>55</td>\n",
       "      <td>330</td>\n",
       "      <td>107</td>\n",
       "      <td>2</td>\n",
       "      <td>81</td>\n",
       "      <td>18</td>\n",
       "    </tr>\n",
       "  </tbody>\n",
       "</table>\n",
       "</div>"
      ],
      "text/plain": [
       "                        Menu Item  Calories (kcal)  Fat Calories (kcal)  \\\n",
       "0  Cinnamon Roll Centers Blizzard              890                  350   \n",
       "1   Frosted Sugar Cookie Blizzard              960                  290   \n",
       "2           Butterfinger Blizzard              730                  230   \n",
       "\n",
       "   Total Fat (g)  Saturated Fat (g)  Trans Fat (g)  Cholesterol (mg)  \\\n",
       "0             32                 20            1.5               120   \n",
       "1             42                 19            1.0                75   \n",
       "2             26                 15            1.0                55   \n",
       "\n",
       "   Sodium (mg)  Carbohydrates (g)  Fiber (g)  Sugars (g)  Protein (g)  \n",
       "0          390                132          1         106           18  \n",
       "1          400                129          1         100           17  \n",
       "2          330                107          2          81           18  "
      ]
     },
     "execution_count": 33,
     "metadata": {},
     "output_type": "execute_result"
    },
    {
     "name": "stdout",
     "output_type": "stream",
     "text": [
      "<class 'pandas.core.frame.DataFrame'>\n",
      "Int64Index: 17 entries, 0 to 16\n",
      "Data columns (total 12 columns):\n",
      " #   Column               Non-Null Count  Dtype  \n",
      "---  ------               --------------  -----  \n",
      " 0   Menu Item            17 non-null     object \n",
      " 1   Calories (kcal)      17 non-null     int64  \n",
      " 2   Fat Calories (kcal)  17 non-null     int64  \n",
      " 3   Total Fat (g)        17 non-null     int64  \n",
      " 4   Saturated Fat (g)    17 non-null     int64  \n",
      " 5   Trans Fat (g)        17 non-null     float64\n",
      " 6   Cholesterol (mg)     17 non-null     int64  \n",
      " 7   Sodium (mg)          17 non-null     int64  \n",
      " 8   Carbohydrates (g)    17 non-null     int64  \n",
      " 9   Fiber (g)            17 non-null     int64  \n",
      " 10  Sugars (g)           17 non-null     int64  \n",
      " 11  Protein (g)          17 non-null     int64  \n",
      "dtypes: float64(1), int64(10), object(1)\n",
      "memory usage: 1.7+ KB\n"
     ]
    }
   ],
   "source": [
    "blizzard_json = pd.read_json('DQ_Blizzard_Nutrition.json')\n",
    "\n",
    "# Determine the data type of 'blizzard_json'\n",
    "type(blizzard_json)\n",
    "\n",
    "# Look at first 3 records\n",
    "blizzard_json.head(3)\n",
    "\n",
    "# Display the file info\n",
    "blizzard_json.info()"
   ]
  },
  {
   "cell_type": "markdown",
   "metadata": {},
   "source": [
    "## Adding a Column to the DataFrame\n",
    "\n",
    "We want to create a new column for the percentage of fat. We have the total calories and the fat calories for each Blizzard&#174;, so we can get the fat percentage using those two columns."
   ]
  },
  {
   "cell_type": "code",
   "execution_count": 34,
   "metadata": {},
   "outputs": [
    {
     "name": "stdout",
     "output_type": "stream",
     "text": [
      "<class 'pandas.core.frame.DataFrame'>\n",
      "Int64Index: 17 entries, 0 to 16\n",
      "Data columns (total 13 columns):\n",
      " #   Column               Non-Null Count  Dtype  \n",
      "---  ------               --------------  -----  \n",
      " 0   Menu Item            17 non-null     object \n",
      " 1   Calories (kcal)      17 non-null     int64  \n",
      " 2   Fat Calories (kcal)  17 non-null     int64  \n",
      " 3   Total Fat (g)        17 non-null     int64  \n",
      " 4   Saturated Fat (g)    17 non-null     int64  \n",
      " 5   Trans Fat (g)        17 non-null     float64\n",
      " 6   Cholesterol (mg)     17 non-null     int64  \n",
      " 7   Sodium (mg)          17 non-null     int64  \n",
      " 8   Carbohydrates (g)    17 non-null     int64  \n",
      " 9   Fiber (g)            17 non-null     int64  \n",
      " 10  Sugars (g)           17 non-null     int64  \n",
      " 11  Protein (g)          17 non-null     int64  \n",
      " 12  Fat %                17 non-null     float64\n",
      "dtypes: float64(2), int64(10), object(1)\n",
      "memory usage: 1.9+ KB\n"
     ]
    },
    {
     "data": {
      "text/html": [
       "<div>\n",
       "<style scoped>\n",
       "    .dataframe tbody tr th:only-of-type {\n",
       "        vertical-align: middle;\n",
       "    }\n",
       "\n",
       "    .dataframe tbody tr th {\n",
       "        vertical-align: top;\n",
       "    }\n",
       "\n",
       "    .dataframe thead th {\n",
       "        text-align: right;\n",
       "    }\n",
       "</style>\n",
       "<table border=\"1\" class=\"dataframe\">\n",
       "  <thead>\n",
       "    <tr style=\"text-align: right;\">\n",
       "      <th></th>\n",
       "      <th>Menu Item</th>\n",
       "      <th>Calories (kcal)</th>\n",
       "      <th>Fat Calories (kcal)</th>\n",
       "      <th>Total Fat (g)</th>\n",
       "      <th>Saturated Fat (g)</th>\n",
       "      <th>Trans Fat (g)</th>\n",
       "      <th>Cholesterol (mg)</th>\n",
       "      <th>Sodium (mg)</th>\n",
       "      <th>Carbohydrates (g)</th>\n",
       "      <th>Fiber (g)</th>\n",
       "      <th>Sugars (g)</th>\n",
       "      <th>Protein (g)</th>\n",
       "      <th>Fat %</th>\n",
       "    </tr>\n",
       "  </thead>\n",
       "  <tbody>\n",
       "    <tr>\n",
       "      <th>0</th>\n",
       "      <td>Cinnamon Roll Centers Blizzard</td>\n",
       "      <td>890</td>\n",
       "      <td>350</td>\n",
       "      <td>32</td>\n",
       "      <td>20</td>\n",
       "      <td>1.5</td>\n",
       "      <td>120</td>\n",
       "      <td>390</td>\n",
       "      <td>132</td>\n",
       "      <td>1</td>\n",
       "      <td>106</td>\n",
       "      <td>18</td>\n",
       "      <td>39.33</td>\n",
       "    </tr>\n",
       "    <tr>\n",
       "      <th>1</th>\n",
       "      <td>Frosted Sugar Cookie Blizzard</td>\n",
       "      <td>960</td>\n",
       "      <td>290</td>\n",
       "      <td>42</td>\n",
       "      <td>19</td>\n",
       "      <td>1.0</td>\n",
       "      <td>75</td>\n",
       "      <td>400</td>\n",
       "      <td>129</td>\n",
       "      <td>1</td>\n",
       "      <td>100</td>\n",
       "      <td>17</td>\n",
       "      <td>30.21</td>\n",
       "    </tr>\n",
       "    <tr>\n",
       "      <th>2</th>\n",
       "      <td>Butterfinger Blizzard</td>\n",
       "      <td>730</td>\n",
       "      <td>230</td>\n",
       "      <td>26</td>\n",
       "      <td>15</td>\n",
       "      <td>1.0</td>\n",
       "      <td>55</td>\n",
       "      <td>330</td>\n",
       "      <td>107</td>\n",
       "      <td>2</td>\n",
       "      <td>81</td>\n",
       "      <td>18</td>\n",
       "      <td>31.51</td>\n",
       "    </tr>\n",
       "    <tr>\n",
       "      <th>3</th>\n",
       "      <td>Choco Brownie Extreme Blizzard</td>\n",
       "      <td>810</td>\n",
       "      <td>330</td>\n",
       "      <td>36</td>\n",
       "      <td>21</td>\n",
       "      <td>1.0</td>\n",
       "      <td>55</td>\n",
       "      <td>370</td>\n",
       "      <td>111</td>\n",
       "      <td>4</td>\n",
       "      <td>87</td>\n",
       "      <td>16</td>\n",
       "      <td>40.74</td>\n",
       "    </tr>\n",
       "    <tr>\n",
       "      <th>4</th>\n",
       "      <td>Chocolate Chip Cookie Dough Blizzard</td>\n",
       "      <td>1030</td>\n",
       "      <td>370</td>\n",
       "      <td>41</td>\n",
       "      <td>24</td>\n",
       "      <td>1.0</td>\n",
       "      <td>60</td>\n",
       "      <td>570</td>\n",
       "      <td>151</td>\n",
       "      <td>2</td>\n",
       "      <td>111</td>\n",
       "      <td>17</td>\n",
       "      <td>35.92</td>\n",
       "    </tr>\n",
       "  </tbody>\n",
       "</table>\n",
       "</div>"
      ],
      "text/plain": [
       "                              Menu Item  Calories (kcal)  Fat Calories (kcal)  \\\n",
       "0        Cinnamon Roll Centers Blizzard              890                  350   \n",
       "1         Frosted Sugar Cookie Blizzard              960                  290   \n",
       "2                 Butterfinger Blizzard              730                  230   \n",
       "3        Choco Brownie Extreme Blizzard              810                  330   \n",
       "4  Chocolate Chip Cookie Dough Blizzard             1030                  370   \n",
       "\n",
       "   Total Fat (g)  Saturated Fat (g)  Trans Fat (g)  Cholesterol (mg)  \\\n",
       "0             32                 20            1.5               120   \n",
       "1             42                 19            1.0                75   \n",
       "2             26                 15            1.0                55   \n",
       "3             36                 21            1.0                55   \n",
       "4             41                 24            1.0                60   \n",
       "\n",
       "   Sodium (mg)  Carbohydrates (g)  Fiber (g)  Sugars (g)  Protein (g)  Fat %  \n",
       "0          390                132          1         106           18  39.33  \n",
       "1          400                129          1         100           17  30.21  \n",
       "2          330                107          2          81           18  31.51  \n",
       "3          370                111          4          87           16  40.74  \n",
       "4          570                151          2         111           17  35.92  "
      ]
     },
     "execution_count": 34,
     "metadata": {},
     "output_type": "execute_result"
    }
   ],
   "source": [
    "# Add a new column to the dataframe\n",
    "blizzard_json['Fat %'] = round(100*blizzard_json['Fat Calories (kcal)']/blizzard_json['Calories (kcal)'],2)\n",
    "\n",
    "# Inspect the dataframe to see the new column\n",
    "blizzard_json.info()\n",
    "blizzard_json.head()"
   ]
  },
  {
   "cell_type": "markdown",
   "metadata": {},
   "source": [
    "<div class=\"alert alert-block alert-success\"><b>Problem 7 (4 pts.)</b>: Create two new columns called <b><i>Saturated Fat %</i></b> and <b><i>Sugar Calories</i></b>. Round your newly calculated values to two decimals for each new column. \n",
    "    \n",
    "The calculation for the first new column would be the ratio of <b>Saturated Fat (g)</b> with <b>Total Fat (g)</b> multiplied by 100. \n",
    "    \n",
    "The calculation for the second column involves two steps (which can be combined into one):\n",
    "\n",
    "1. Convert <b>Sugars (g)</b> to calories by multiplying by 3.87.\n",
    "2. Take the ratio of the result in Step 1 with <b>Calories (kcal)</b> and multiply by 100.\n",
    "\n",
    "    \n",
    "Display the file info and the first 5 rows.\n",
    "</div>"
   ]
  },
  {
   "cell_type": "code",
   "execution_count": 35,
   "metadata": {},
   "outputs": [
    {
     "name": "stdout",
     "output_type": "stream",
     "text": [
      "<class 'pandas.core.frame.DataFrame'>\n",
      "Int64Index: 17 entries, 0 to 16\n",
      "Data columns (total 15 columns):\n",
      " #   Column               Non-Null Count  Dtype  \n",
      "---  ------               --------------  -----  \n",
      " 0   Menu Item            17 non-null     object \n",
      " 1   Calories (kcal)      17 non-null     int64  \n",
      " 2   Fat Calories (kcal)  17 non-null     int64  \n",
      " 3   Total Fat (g)        17 non-null     int64  \n",
      " 4   Saturated Fat (g)    17 non-null     int64  \n",
      " 5   Trans Fat (g)        17 non-null     float64\n",
      " 6   Cholesterol (mg)     17 non-null     int64  \n",
      " 7   Sodium (mg)          17 non-null     int64  \n",
      " 8   Carbohydrates (g)    17 non-null     int64  \n",
      " 9   Fiber (g)            17 non-null     int64  \n",
      " 10  Sugars (g)           17 non-null     int64  \n",
      " 11  Protein (g)          17 non-null     int64  \n",
      " 12  Fat %                17 non-null     float64\n",
      " 13  Saturated Fat %      17 non-null     float64\n",
      " 14  Sugar Calories       17 non-null     float64\n",
      "dtypes: float64(4), int64(10), object(1)\n",
      "memory usage: 2.1+ KB\n"
     ]
    },
    {
     "data": {
      "text/html": [
       "<div>\n",
       "<style scoped>\n",
       "    .dataframe tbody tr th:only-of-type {\n",
       "        vertical-align: middle;\n",
       "    }\n",
       "\n",
       "    .dataframe tbody tr th {\n",
       "        vertical-align: top;\n",
       "    }\n",
       "\n",
       "    .dataframe thead th {\n",
       "        text-align: right;\n",
       "    }\n",
       "</style>\n",
       "<table border=\"1\" class=\"dataframe\">\n",
       "  <thead>\n",
       "    <tr style=\"text-align: right;\">\n",
       "      <th></th>\n",
       "      <th>Menu Item</th>\n",
       "      <th>Calories (kcal)</th>\n",
       "      <th>Fat Calories (kcal)</th>\n",
       "      <th>Total Fat (g)</th>\n",
       "      <th>Saturated Fat (g)</th>\n",
       "      <th>Trans Fat (g)</th>\n",
       "      <th>Cholesterol (mg)</th>\n",
       "      <th>Sodium (mg)</th>\n",
       "      <th>Carbohydrates (g)</th>\n",
       "      <th>Fiber (g)</th>\n",
       "      <th>Sugars (g)</th>\n",
       "      <th>Protein (g)</th>\n",
       "      <th>Fat %</th>\n",
       "      <th>Saturated Fat %</th>\n",
       "      <th>Sugar Calories</th>\n",
       "    </tr>\n",
       "  </thead>\n",
       "  <tbody>\n",
       "    <tr>\n",
       "      <th>0</th>\n",
       "      <td>Cinnamon Roll Centers Blizzard</td>\n",
       "      <td>890</td>\n",
       "      <td>350</td>\n",
       "      <td>32</td>\n",
       "      <td>20</td>\n",
       "      <td>1.5</td>\n",
       "      <td>120</td>\n",
       "      <td>390</td>\n",
       "      <td>132</td>\n",
       "      <td>1</td>\n",
       "      <td>106</td>\n",
       "      <td>18</td>\n",
       "      <td>39.33</td>\n",
       "      <td>62.50</td>\n",
       "      <td>46.09</td>\n",
       "    </tr>\n",
       "    <tr>\n",
       "      <th>1</th>\n",
       "      <td>Frosted Sugar Cookie Blizzard</td>\n",
       "      <td>960</td>\n",
       "      <td>290</td>\n",
       "      <td>42</td>\n",
       "      <td>19</td>\n",
       "      <td>1.0</td>\n",
       "      <td>75</td>\n",
       "      <td>400</td>\n",
       "      <td>129</td>\n",
       "      <td>1</td>\n",
       "      <td>100</td>\n",
       "      <td>17</td>\n",
       "      <td>30.21</td>\n",
       "      <td>45.24</td>\n",
       "      <td>40.31</td>\n",
       "    </tr>\n",
       "    <tr>\n",
       "      <th>2</th>\n",
       "      <td>Butterfinger Blizzard</td>\n",
       "      <td>730</td>\n",
       "      <td>230</td>\n",
       "      <td>26</td>\n",
       "      <td>15</td>\n",
       "      <td>1.0</td>\n",
       "      <td>55</td>\n",
       "      <td>330</td>\n",
       "      <td>107</td>\n",
       "      <td>2</td>\n",
       "      <td>81</td>\n",
       "      <td>18</td>\n",
       "      <td>31.51</td>\n",
       "      <td>57.69</td>\n",
       "      <td>42.94</td>\n",
       "    </tr>\n",
       "    <tr>\n",
       "      <th>3</th>\n",
       "      <td>Choco Brownie Extreme Blizzard</td>\n",
       "      <td>810</td>\n",
       "      <td>330</td>\n",
       "      <td>36</td>\n",
       "      <td>21</td>\n",
       "      <td>1.0</td>\n",
       "      <td>55</td>\n",
       "      <td>370</td>\n",
       "      <td>111</td>\n",
       "      <td>4</td>\n",
       "      <td>87</td>\n",
       "      <td>16</td>\n",
       "      <td>40.74</td>\n",
       "      <td>58.33</td>\n",
       "      <td>41.57</td>\n",
       "    </tr>\n",
       "    <tr>\n",
       "      <th>4</th>\n",
       "      <td>Chocolate Chip Cookie Dough Blizzard</td>\n",
       "      <td>1030</td>\n",
       "      <td>370</td>\n",
       "      <td>41</td>\n",
       "      <td>24</td>\n",
       "      <td>1.0</td>\n",
       "      <td>60</td>\n",
       "      <td>570</td>\n",
       "      <td>151</td>\n",
       "      <td>2</td>\n",
       "      <td>111</td>\n",
       "      <td>17</td>\n",
       "      <td>35.92</td>\n",
       "      <td>58.54</td>\n",
       "      <td>41.71</td>\n",
       "    </tr>\n",
       "  </tbody>\n",
       "</table>\n",
       "</div>"
      ],
      "text/plain": [
       "                              Menu Item  Calories (kcal)  Fat Calories (kcal)  \\\n",
       "0        Cinnamon Roll Centers Blizzard              890                  350   \n",
       "1         Frosted Sugar Cookie Blizzard              960                  290   \n",
       "2                 Butterfinger Blizzard              730                  230   \n",
       "3        Choco Brownie Extreme Blizzard              810                  330   \n",
       "4  Chocolate Chip Cookie Dough Blizzard             1030                  370   \n",
       "\n",
       "   Total Fat (g)  Saturated Fat (g)  Trans Fat (g)  Cholesterol (mg)  \\\n",
       "0             32                 20            1.5               120   \n",
       "1             42                 19            1.0                75   \n",
       "2             26                 15            1.0                55   \n",
       "3             36                 21            1.0                55   \n",
       "4             41                 24            1.0                60   \n",
       "\n",
       "   Sodium (mg)  Carbohydrates (g)  Fiber (g)  Sugars (g)  Protein (g)  Fat %  \\\n",
       "0          390                132          1         106           18  39.33   \n",
       "1          400                129          1         100           17  30.21   \n",
       "2          330                107          2          81           18  31.51   \n",
       "3          370                111          4          87           16  40.74   \n",
       "4          570                151          2         111           17  35.92   \n",
       "\n",
       "   Saturated Fat %  Sugar Calories  \n",
       "0            62.50           46.09  \n",
       "1            45.24           40.31  \n",
       "2            57.69           42.94  \n",
       "3            58.33           41.57  \n",
       "4            58.54           41.71  "
      ]
     },
     "execution_count": 35,
     "metadata": {},
     "output_type": "execute_result"
    }
   ],
   "source": [
    "# TODO: Create a new column called 'Saturated Fat %'\n",
    "blizzard_json['Saturated Fat %'] = round(100*(blizzard_json['Saturated Fat (g)']/blizzard_json['Total Fat (g)']),2)\n",
    "\n",
    "# TODO: Create a new column called 'Sugar Calories'\n",
    "blizzard_json['Sugar Calories'] = round(100*(3.87*blizzard_json['Sugars (g)']/blizzard_json['Calories (kcal)']),2)\n",
    "\n",
    "# TODO: Show the file info\n",
    "blizzard_json.info()\n",
    "\n",
    "# TODO: Show the first five rows of your file\n",
    "blizzard_json.head()"
   ]
  },
  {
   "cell_type": "markdown",
   "metadata": {},
   "source": [
    "### Writing to a File\n",
    "\n",
    "When you create a new column and add it to your dataframe, it is a good idea to write out the new file to save it for future reference.\n"
   ]
  },
  {
   "cell_type": "markdown",
   "metadata": {},
   "source": [
    "<div class=\"alert alert-block alert-success\"><b>Problem 8 (2 pts.)</b>: Write your new file out to an <b>Excel</b> file called <b><i>blizzard_totals.xlsx</i></b>.  Upload your new file into Canvas along with the .ipynb and HTML files. \n",
    "    \n",
    "Reference: __[Pandas DataFrame to Excel File](https://pandas.pydata.org/pandas-docs/stable/reference/api/pandas.DataFrame.to_excel.html)__\n",
    "</div>"
   ]
  },
  {
   "cell_type": "code",
   "execution_count": 36,
   "metadata": {},
   "outputs": [],
   "source": [
    "# TODO: Write your file to an Excel file called 'blizzard_totals.xlsx'\n",
    "blizzard_json.to_excel('blizzard_totals.xlsx', header = True, index = False)"
   ]
  }
 ],
 "metadata": {
  "kernelspec": {
   "display_name": "Python 3 (ipykernel)",
   "language": "python",
   "name": "python3"
  },
  "language_info": {
   "codemirror_mode": {
    "name": "ipython",
    "version": 3
   },
   "file_extension": ".py",
   "mimetype": "text/x-python",
   "name": "python",
   "nbconvert_exporter": "python",
   "pygments_lexer": "ipython3",
   "version": "3.9.7"
  },
  "varInspector": {
   "cols": {
    "lenName": 16,
    "lenType": 16,
    "lenVar": 40
   },
   "kernels_config": {
    "python": {
     "delete_cmd_postfix": "",
     "delete_cmd_prefix": "del ",
     "library": "var_list.py",
     "varRefreshCmd": "print(var_dic_list())"
    },
    "r": {
     "delete_cmd_postfix": ") ",
     "delete_cmd_prefix": "rm(",
     "library": "var_list.r",
     "varRefreshCmd": "cat(var_dic_list()) "
    }
   },
   "types_to_exclude": [
    "module",
    "function",
    "builtin_function_or_method",
    "instance",
    "_Feature"
   ],
   "window_display": false
  }
 },
 "nbformat": 4,
 "nbformat_minor": 1
}
