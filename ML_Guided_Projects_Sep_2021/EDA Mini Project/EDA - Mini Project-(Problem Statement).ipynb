{
 "cells": [
  {
   "cell_type": "markdown",
   "metadata": {
    "colab_type": "text",
    "id": "pji6FHMXNB84"
   },
   "source": [
    "# ------------------------------------------ Mini Project -----------------------------------------------"
   ]
  },
  {
   "cell_type": "markdown",
   "metadata": {},
   "source": [
    "## From the given dataset this are the requirement that to be obtained by performing the exploratory data analysis."
   ]
  },
  {
   "cell_type": "markdown",
   "metadata": {},
   "source": [
    "### 1. How many categorical variables does the data contain? Please state the number of categories for each such variable.\n"
   ]
  },
  {
   "cell_type": "markdown",
   "metadata": {
    "colab_type": "text",
    "id": "gaF4uWJjNB9A"
   },
   "source": [
    "### 2. How strong is the correlation between HDI and suicides_no?\n"
   ]
  },
  {
   "cell_type": "markdown",
   "metadata": {
    "colab_type": "text",
    "id": "6EfY7a8ONB9T"
   },
   "source": [
    "### 3. Which generation has the highest number of suicides/100k pop?\n"
   ]
  },
  {
   "cell_type": "markdown",
   "metadata": {
    "colab_type": "text",
    "id": "dJJHEv6aNB9v"
   },
   "source": [
    "### 4. Which country has the least number of suicides between 1990-1995?\n"
   ]
  },
  {
   "cell_type": "markdown",
   "metadata": {
    "colab_type": "text",
    "id": "oBbx_SehNB-H"
   },
   "source": [
    "### 5. Are there any countries with no suicides recorded?  Create a new data frame which ranks these countries by HDI.\n"
   ]
  },
  {
   "cell_type": "markdown",
   "metadata": {
    "colab_type": "text",
    "id": "OlNncuWsNB-b"
   },
   "source": [
    "### 6. Generate suitable graphs for comparing suicides between men and women for the top 5 countries with the highest suicide rate per 100,000.\n"
   ]
  },
  {
   "cell_type": "markdown",
   "metadata": {
    "colab_type": "text",
    "id": "rKWfw_cTNB_R"
   },
   "source": [
    "### 7. Are there any redundant columns in the dataset? Which coulmn is it? Can that column be dropped? State your reasons.\n"
   ]
  },
  {
   "cell_type": "markdown",
   "metadata": {
    "colab_type": "text",
    "id": "0pJpCniBNB_a"
   },
   "source": [
    "### 8. Please obtain the distribution of suicides for each age group for Argentina. Plot these as graphs\n"
   ]
  },
  {
   "cell_type": "markdown",
   "metadata": {
    "colab_type": "text",
    "id": "fA_MB4F0NB_t"
   },
   "source": [
    "### 9. Generate a correlation heatmap for the dataset. Which pairs of variables are highly correlated.\n"
   ]
  },
  {
   "cell_type": "markdown",
   "metadata": {
    "colab_type": "text",
    "id": "J6yCrXtANCAA"
   },
   "source": [
    "### 10. Generate the following tables:\n",
    "\n"
   ]
  },
  {
   "cell_type": "markdown",
   "metadata": {
    "colab_type": "text",
    "id": "XDvqJuLSNCAC"
   },
   "source": [
    "#### a) A table containing the columns ‘Country’, ‘Year’, ‘Total suicides’. Total Suicides has to be calculated from the existing table."
   ]
  },
  {
   "cell_type": "markdown",
   "metadata": {
    "colab_type": "text",
    "id": "o4ylnt78NCAQ"
   },
   "source": [
    "#### b) A Table containing the columns ‘Country’, ‘Year’, ‘per capita gdp’."
   ]
  },
  {
   "cell_type": "markdown",
   "metadata": {
    "colab_type": "text",
    "id": "QW_JzmKCNCAl"
   },
   "source": [
    "#### c) Merge the above two tables using ‘Country’ as the merge column."
   ]
  },
  {
   "cell_type": "markdown",
   "metadata": {},
   "source": [
    "------------------------------"
   ]
  },
  {
   "cell_type": "markdown",
   "metadata": {
    "colab": {},
    "colab_type": "code",
    "id": "kLzpIh7sNCAs"
   },
   "source": [
    "# ----------------------------------- Happy Learning -----------------------------------------"
   ]
  }
 ],
 "metadata": {
  "colab": {
   "name": "EDA_set1_answers.ipynb",
   "provenance": [],
   "version": "0.3.2"
  },
  "kernelspec": {
   "display_name": "Python 3",
   "language": "python",
   "name": "python3"
  },
  "language_info": {
   "codemirror_mode": {
    "name": "ipython",
    "version": 3
   },
   "file_extension": ".py",
   "mimetype": "text/x-python",
   "name": "python",
   "nbconvert_exporter": "python",
   "pygments_lexer": "ipython3",
   "version": "3.8.3"
  }
 },
 "nbformat": 4,
 "nbformat_minor": 1
}
