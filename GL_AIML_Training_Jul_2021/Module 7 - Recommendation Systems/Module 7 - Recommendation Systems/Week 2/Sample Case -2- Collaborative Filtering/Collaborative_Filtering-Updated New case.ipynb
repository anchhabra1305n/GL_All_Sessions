{
 "cells": [
  {
   "cell_type": "markdown",
   "metadata": {
    "id": "o0xQdt8hZ5-t"
   },
   "source": [
    "# Generate a top-n list of books on consumer preference - Amazon books data"
   ]
  },
  {
   "cell_type": "markdown",
   "metadata": {
    "id": "6fcxO2Xks67P"
   },
   "source": [
    "**About Book Crossing Dataset**<br>\n",
    "\n",
    "This dataset has been compiled by Cai-Nicolas Ziegler in 2004, and it comprises of three tables for users, books and ratings. Explicit ratings are expressed on a scale from 1-10 (higher values denoting higher appreciation) and implicit rating is expressed by 0."
   ]
  },
  {
   "cell_type": "markdown",
   "metadata": {
    "id": "srLP2fb5s67W"
   },
   "source": [
    "Reference: http://www2.informatik.uni-freiburg.de/~cziegler/BX/ "
   ]
  },
  {
   "cell_type": "markdown",
   "metadata": {
    "id": "XEXRubqgs67X"
   },
   "source": [
    "**Objective**\n",
    "\n",
    "This project entails building a Book Recommender System for users based on user-based and item-based collaborative filtering approaches."
   ]
  },
  {
   "cell_type": "markdown",
   "metadata": {
    "id": "9hHjGwPTs67Z"
   },
   "source": [
    "#### Execute the below cell to load the datasets"
   ]
  },
  {
   "cell_type": "code",
   "execution_count": null,
   "metadata": {
    "colab": {
     "base_uri": "https://localhost:8080/",
     "height": 34
    },
    "executionInfo": {
     "elapsed": 1277,
     "status": "ok",
     "timestamp": 1589983730182,
     "user": {
      "displayName": "Garima Rahangdale",
      "photoUrl": "",
      "userId": "12135158262547382026"
     },
     "user_tz": -330
    },
    "id": "lxMXYgm1VsaZ",
    "outputId": "bd772e46-da29-496b-b9f3-112ffbe87313"
   },
   "outputs": [
    {
     "name": "stdout",
     "output_type": "stream",
     "text": [
      "Drive already mounted at /content/gdrive; to attempt to forcibly remount, call drive.mount(\"/content/gdrive\", force_remount=True).\n"
     ]
    }
   ],
   "source": [
    "from google.colab import drive\n",
    "drive.mount('/content/gdrive')"
   ]
  },
  {
   "cell_type": "code",
   "execution_count": null,
   "metadata": {
    "colab": {
     "base_uri": "https://localhost:8080/",
     "height": 71
    },
    "executionInfo": {
     "elapsed": 1612,
     "status": "ok",
     "timestamp": 1589984097972,
     "user": {
      "displayName": "Garima Rahangdale",
      "photoUrl": "",
      "userId": "12135158262547382026"
     },
     "user_tz": -330
    },
    "id": "b8w3abeUtyFT",
    "outputId": "9d0e1845-c290-48a7-92a5-b671b3901dc0"
   },
   "outputs": [
    {
     "name": "stderr",
     "output_type": "stream",
     "text": [
      "/usr/local/lib/python3.6/dist-packages/statsmodels/tools/_testing.py:19: FutureWarning: pandas.util.testing is deprecated. Use the functions in the public API at pandas.testing instead.\n",
      "  import pandas.util.testing as tm\n"
     ]
    }
   ],
   "source": [
    "#Import required libraries\n",
    "import numpy as np\n",
    "import pandas as pd\n",
    "import math\n",
    "import json\n",
    "import time\n",
    "import matplotlib.pyplot as plt\n",
    "import seaborn as sns\n",
    "from sklearn.metrics.pairwise import cosine_similarity\n",
    "from sklearn.model_selection import train_test_split\n",
    "from sklearn.neighbors import NearestNeighbors\n",
    "\n",
    "import scipy.sparse\n",
    "from scipy.sparse import csr_matrix\n",
    "import warnings; warnings.simplefilter('ignore')\n",
    "%matplotlib inline"
   ]
  },
  {
   "cell_type": "code",
   "execution_count": null,
   "metadata": {
    "colab": {
     "base_uri": "https://localhost:8080/",
     "height": 105
    },
    "executionInfo": {
     "elapsed": 4666,
     "status": "ok",
     "timestamp": 1589984101413,
     "user": {
      "displayName": "Garima Rahangdale",
      "photoUrl": "",
      "userId": "12135158262547382026"
     },
     "user_tz": -330
    },
    "id": "zpauuxODs67a",
    "outputId": "91e241d1-6cbb-481b-916c-5302175aca74",
    "scrolled": true
   },
   "outputs": [
    {
     "name": "stderr",
     "output_type": "stream",
     "text": [
      "b'Skipping line 6452: expected 8 fields, saw 9\\nSkipping line 43667: expected 8 fields, saw 10\\nSkipping line 51751: expected 8 fields, saw 9\\n'\n",
      "b'Skipping line 92038: expected 8 fields, saw 9\\nSkipping line 104319: expected 8 fields, saw 9\\nSkipping line 121768: expected 8 fields, saw 9\\n'\n",
      "b'Skipping line 144058: expected 8 fields, saw 9\\nSkipping line 150789: expected 8 fields, saw 9\\nSkipping line 157128: expected 8 fields, saw 9\\nSkipping line 180189: expected 8 fields, saw 9\\nSkipping line 185738: expected 8 fields, saw 9\\n'\n",
      "b'Skipping line 209388: expected 8 fields, saw 9\\nSkipping line 220626: expected 8 fields, saw 9\\nSkipping line 227933: expected 8 fields, saw 11\\nSkipping line 228957: expected 8 fields, saw 10\\nSkipping line 245933: expected 8 fields, saw 9\\nSkipping line 251296: expected 8 fields, saw 9\\nSkipping line 259941: expected 8 fields, saw 9\\nSkipping line 261529: expected 8 fields, saw 9\\n'\n"
     ]
    }
   ],
   "source": [
    "#Loading data\n",
    "books = pd.read_csv(\"gdrive/My Drive/AIML_RS_CSV/RS/books.csv\", sep=\";\", error_bad_lines=False, encoding=\"latin-1\")\n",
    "books.columns = ['ISBN', 'bookTitle', 'bookAuthor', 'yearOfPublication', 'publisher', 'imageUrlS', 'imageUrlM', 'imageUrlL']\n",
    "\n",
    "users = pd.read_csv('gdrive/My Drive/AIML_RS_CSV/RS/users.csv', sep=';', error_bad_lines=False, encoding=\"latin-1\")\n",
    "users.columns = ['userID', 'Location', 'Age']\n",
    "\n",
    "ratings = pd.read_csv('gdrive/My Drive/AIML_RS_CSV/RS/ratings.csv', sep=';', error_bad_lines=False, encoding=\"latin-1\")\n",
    "ratings.columns = ['userID', 'ISBN', 'bookRating']"
   ]
  },
  {
   "cell_type": "markdown",
   "metadata": {
    "id": "4SxVjyV4s67i"
   },
   "source": [
    "### Check no.of records and features given in each dataset"
   ]
  },
  {
   "cell_type": "code",
   "execution_count": null,
   "metadata": {
    "colab": {
     "base_uri": "https://localhost:8080/",
     "height": 34
    },
    "executionInfo": {
     "elapsed": 3891,
     "status": "ok",
     "timestamp": 1589984101418,
     "user": {
      "displayName": "Garima Rahangdale",
      "photoUrl": "",
      "userId": "12135158262547382026"
     },
     "user_tz": -330
    },
    "id": "P-59QtuR16aq",
    "outputId": "78a0b05e-48f5-4c0a-80f6-ce7e044f0198"
   },
   "outputs": [
    {
     "data": {
      "text/plain": [
       "(271360, 8)"
      ]
     },
     "execution_count": 4,
     "metadata": {
      "tags": []
     },
     "output_type": "execute_result"
    }
   ],
   "source": [
    "books.shape"
   ]
  },
  {
   "cell_type": "code",
   "execution_count": null,
   "metadata": {
    "colab": {
     "base_uri": "https://localhost:8080/",
     "height": 34
    },
    "executionInfo": {
     "elapsed": 3559,
     "status": "ok",
     "timestamp": 1589984101422,
     "user": {
      "displayName": "Garima Rahangdale",
      "photoUrl": "",
      "userId": "12135158262547382026"
     },
     "user_tz": -330
    },
    "id": "xvtPcNlQs67j",
    "outputId": "45add5e3-906b-492c-9c9e-df614cc358d1"
   },
   "outputs": [
    {
     "data": {
      "text/plain": [
       "(278858, 3)"
      ]
     },
     "execution_count": 5,
     "metadata": {
      "tags": []
     },
     "output_type": "execute_result"
    }
   ],
   "source": [
    "users.shape"
   ]
  },
  {
   "cell_type": "code",
   "execution_count": null,
   "metadata": {
    "colab": {
     "base_uri": "https://localhost:8080/",
     "height": 34
    },
    "executionInfo": {
     "elapsed": 3225,
     "status": "ok",
     "timestamp": 1589984101424,
     "user": {
      "displayName": "Garima Rahangdale",
      "photoUrl": "",
      "userId": "12135158262547382026"
     },
     "user_tz": -330
    },
    "id": "y8G6Y8rzs67n",
    "outputId": "ab6b1940-2624-49ef-f77b-857dec2b1749"
   },
   "outputs": [
    {
     "data": {
      "text/plain": [
       "(1149780, 3)"
      ]
     },
     "execution_count": 6,
     "metadata": {
      "tags": []
     },
     "output_type": "execute_result"
    }
   ],
   "source": [
    "ratings.shape"
   ]
  },
  {
   "cell_type": "markdown",
   "metadata": {
    "id": "ffv_Zye6s67u"
   },
   "source": [
    "## Exploring books dataset"
   ]
  },
  {
   "cell_type": "code",
   "execution_count": null,
   "metadata": {
    "colab": {
     "base_uri": "https://localhost:8080/",
     "height": 394
    },
    "executionInfo": {
     "elapsed": 2605,
     "status": "ok",
     "timestamp": 1589984101426,
     "user": {
      "displayName": "Garima Rahangdale",
      "photoUrl": "",
      "userId": "12135158262547382026"
     },
     "user_tz": -330
    },
    "id": "js-QTJvRs67v",
    "outputId": "a86dda72-60ae-4779-b23f-e83f09e717f5",
    "scrolled": false
   },
   "outputs": [
    {
     "data": {
      "text/html": [
       "<div>\n",
       "<style scoped>\n",
       "    .dataframe tbody tr th:only-of-type {\n",
       "        vertical-align: middle;\n",
       "    }\n",
       "\n",
       "    .dataframe tbody tr th {\n",
       "        vertical-align: top;\n",
       "    }\n",
       "\n",
       "    .dataframe thead th {\n",
       "        text-align: right;\n",
       "    }\n",
       "</style>\n",
       "<table border=\"1\" class=\"dataframe\">\n",
       "  <thead>\n",
       "    <tr style=\"text-align: right;\">\n",
       "      <th></th>\n",
       "      <th>ISBN</th>\n",
       "      <th>bookTitle</th>\n",
       "      <th>bookAuthor</th>\n",
       "      <th>yearOfPublication</th>\n",
       "      <th>publisher</th>\n",
       "      <th>imageUrlS</th>\n",
       "      <th>imageUrlM</th>\n",
       "      <th>imageUrlL</th>\n",
       "    </tr>\n",
       "  </thead>\n",
       "  <tbody>\n",
       "    <tr>\n",
       "      <th>0</th>\n",
       "      <td>0195153448</td>\n",
       "      <td>Classical Mythology</td>\n",
       "      <td>Mark P. O. Morford</td>\n",
       "      <td>2002</td>\n",
       "      <td>Oxford University Press</td>\n",
       "      <td>http://images.amazon.com/images/P/0195153448.0...</td>\n",
       "      <td>http://images.amazon.com/images/P/0195153448.0...</td>\n",
       "      <td>http://images.amazon.com/images/P/0195153448.0...</td>\n",
       "    </tr>\n",
       "    <tr>\n",
       "      <th>1</th>\n",
       "      <td>0002005018</td>\n",
       "      <td>Clara Callan</td>\n",
       "      <td>Richard Bruce Wright</td>\n",
       "      <td>2001</td>\n",
       "      <td>HarperFlamingo Canada</td>\n",
       "      <td>http://images.amazon.com/images/P/0002005018.0...</td>\n",
       "      <td>http://images.amazon.com/images/P/0002005018.0...</td>\n",
       "      <td>http://images.amazon.com/images/P/0002005018.0...</td>\n",
       "    </tr>\n",
       "    <tr>\n",
       "      <th>2</th>\n",
       "      <td>0060973129</td>\n",
       "      <td>Decision in Normandy</td>\n",
       "      <td>Carlo D'Este</td>\n",
       "      <td>1991</td>\n",
       "      <td>HarperPerennial</td>\n",
       "      <td>http://images.amazon.com/images/P/0060973129.0...</td>\n",
       "      <td>http://images.amazon.com/images/P/0060973129.0...</td>\n",
       "      <td>http://images.amazon.com/images/P/0060973129.0...</td>\n",
       "    </tr>\n",
       "    <tr>\n",
       "      <th>3</th>\n",
       "      <td>0374157065</td>\n",
       "      <td>Flu: The Story of the Great Influenza Pandemic...</td>\n",
       "      <td>Gina Bari Kolata</td>\n",
       "      <td>1999</td>\n",
       "      <td>Farrar Straus Giroux</td>\n",
       "      <td>http://images.amazon.com/images/P/0374157065.0...</td>\n",
       "      <td>http://images.amazon.com/images/P/0374157065.0...</td>\n",
       "      <td>http://images.amazon.com/images/P/0374157065.0...</td>\n",
       "    </tr>\n",
       "    <tr>\n",
       "      <th>4</th>\n",
       "      <td>0393045218</td>\n",
       "      <td>The Mummies of Urumchi</td>\n",
       "      <td>E. J. W. Barber</td>\n",
       "      <td>1999</td>\n",
       "      <td>W. W. Norton &amp;amp; Company</td>\n",
       "      <td>http://images.amazon.com/images/P/0393045218.0...</td>\n",
       "      <td>http://images.amazon.com/images/P/0393045218.0...</td>\n",
       "      <td>http://images.amazon.com/images/P/0393045218.0...</td>\n",
       "    </tr>\n",
       "  </tbody>\n",
       "</table>\n",
       "</div>"
      ],
      "text/plain": [
       "         ISBN  ...                                          imageUrlL\n",
       "0  0195153448  ...  http://images.amazon.com/images/P/0195153448.0...\n",
       "1  0002005018  ...  http://images.amazon.com/images/P/0002005018.0...\n",
       "2  0060973129  ...  http://images.amazon.com/images/P/0060973129.0...\n",
       "3  0374157065  ...  http://images.amazon.com/images/P/0374157065.0...\n",
       "4  0393045218  ...  http://images.amazon.com/images/P/0393045218.0...\n",
       "\n",
       "[5 rows x 8 columns]"
      ]
     },
     "execution_count": 7,
     "metadata": {
      "tags": []
     },
     "output_type": "execute_result"
    }
   ],
   "source": [
    "books.head()"
   ]
  },
  {
   "cell_type": "markdown",
   "metadata": {
    "id": "4axcsIias671"
   },
   "source": [
    "### Drop last three columns containing image URLs which will not be required for analysis"
   ]
  },
  {
   "cell_type": "code",
   "execution_count": null,
   "metadata": {
    "id": "PA33GNJZs674"
   },
   "outputs": [],
   "source": [
    "books = books.iloc[:,:5]"
   ]
  },
  {
   "cell_type": "code",
   "execution_count": null,
   "metadata": {
    "colab": {
     "base_uri": "https://localhost:8080/",
     "height": 204
    },
    "executionInfo": {
     "elapsed": 1603,
     "status": "ok",
     "timestamp": 1589984101430,
     "user": {
      "displayName": "Garima Rahangdale",
      "photoUrl": "",
      "userId": "12135158262547382026"
     },
     "user_tz": -330
    },
    "id": "KfrpLBCds677",
    "outputId": "55876fa6-5e57-40e3-aad9-03824afa2c4e",
    "scrolled": true
   },
   "outputs": [
    {
     "data": {
      "text/html": [
       "<div>\n",
       "<style scoped>\n",
       "    .dataframe tbody tr th:only-of-type {\n",
       "        vertical-align: middle;\n",
       "    }\n",
       "\n",
       "    .dataframe tbody tr th {\n",
       "        vertical-align: top;\n",
       "    }\n",
       "\n",
       "    .dataframe thead th {\n",
       "        text-align: right;\n",
       "    }\n",
       "</style>\n",
       "<table border=\"1\" class=\"dataframe\">\n",
       "  <thead>\n",
       "    <tr style=\"text-align: right;\">\n",
       "      <th></th>\n",
       "      <th>ISBN</th>\n",
       "      <th>bookTitle</th>\n",
       "      <th>bookAuthor</th>\n",
       "      <th>yearOfPublication</th>\n",
       "      <th>publisher</th>\n",
       "    </tr>\n",
       "  </thead>\n",
       "  <tbody>\n",
       "    <tr>\n",
       "      <th>0</th>\n",
       "      <td>0195153448</td>\n",
       "      <td>Classical Mythology</td>\n",
       "      <td>Mark P. O. Morford</td>\n",
       "      <td>2002</td>\n",
       "      <td>Oxford University Press</td>\n",
       "    </tr>\n",
       "    <tr>\n",
       "      <th>1</th>\n",
       "      <td>0002005018</td>\n",
       "      <td>Clara Callan</td>\n",
       "      <td>Richard Bruce Wright</td>\n",
       "      <td>2001</td>\n",
       "      <td>HarperFlamingo Canada</td>\n",
       "    </tr>\n",
       "    <tr>\n",
       "      <th>2</th>\n",
       "      <td>0060973129</td>\n",
       "      <td>Decision in Normandy</td>\n",
       "      <td>Carlo D'Este</td>\n",
       "      <td>1991</td>\n",
       "      <td>HarperPerennial</td>\n",
       "    </tr>\n",
       "    <tr>\n",
       "      <th>3</th>\n",
       "      <td>0374157065</td>\n",
       "      <td>Flu: The Story of the Great Influenza Pandemic...</td>\n",
       "      <td>Gina Bari Kolata</td>\n",
       "      <td>1999</td>\n",
       "      <td>Farrar Straus Giroux</td>\n",
       "    </tr>\n",
       "    <tr>\n",
       "      <th>4</th>\n",
       "      <td>0393045218</td>\n",
       "      <td>The Mummies of Urumchi</td>\n",
       "      <td>E. J. W. Barber</td>\n",
       "      <td>1999</td>\n",
       "      <td>W. W. Norton &amp;amp; Company</td>\n",
       "    </tr>\n",
       "  </tbody>\n",
       "</table>\n",
       "</div>"
      ],
      "text/plain": [
       "         ISBN  ...                   publisher\n",
       "0  0195153448  ...     Oxford University Press\n",
       "1  0002005018  ...       HarperFlamingo Canada\n",
       "2  0060973129  ...             HarperPerennial\n",
       "3  0374157065  ...        Farrar Straus Giroux\n",
       "4  0393045218  ...  W. W. Norton &amp; Company\n",
       "\n",
       "[5 rows x 5 columns]"
      ]
     },
     "execution_count": 9,
     "metadata": {
      "tags": []
     },
     "output_type": "execute_result"
    }
   ],
   "source": [
    "books.head()"
   ]
  },
  {
   "cell_type": "markdown",
   "metadata": {
    "id": "WYZLtYxts67_"
   },
   "source": [
    "**yearOfPublication**"
   ]
  },
  {
   "cell_type": "markdown",
   "metadata": {
    "id": "oJoCH8Ifs68B"
   },
   "source": [
    "### Check unique values of yearOfPublication\n"
   ]
  },
  {
   "cell_type": "code",
   "execution_count": null,
   "metadata": {
    "colab": {
     "base_uri": "https://localhost:8080/",
     "height": 119
    },
    "executionInfo": {
     "elapsed": 1413,
     "status": "ok",
     "timestamp": 1589984102149,
     "user": {
      "displayName": "Garima Rahangdale",
      "photoUrl": "",
      "userId": "12135158262547382026"
     },
     "user_tz": -330
    },
    "id": "wpzTW4Cx16bQ",
    "outputId": "8d60668e-8e77-491e-b4ae-6150007b520f"
   },
   "outputs": [
    {
     "data": {
      "text/plain": [
       "ISBN                 object\n",
       "bookTitle            object\n",
       "bookAuthor           object\n",
       "yearOfPublication    object\n",
       "publisher            object\n",
       "dtype: object"
      ]
     },
     "execution_count": 10,
     "metadata": {
      "tags": []
     },
     "output_type": "execute_result"
    }
   ],
   "source": [
    "books.dtypes"
   ]
  },
  {
   "cell_type": "code",
   "execution_count": null,
   "metadata": {
    "id": "QtlKoEpN16bV"
   },
   "outputs": [],
   "source": [
    "bookspub = books['yearOfPublication']"
   ]
  },
  {
   "cell_type": "code",
   "execution_count": null,
   "metadata": {
    "colab": {
     "base_uri": "https://localhost:8080/",
     "height": 408
    },
    "executionInfo": {
     "elapsed": 1550,
     "status": "ok",
     "timestamp": 1589984102929,
     "user": {
      "displayName": "Garima Rahangdale",
      "photoUrl": "",
      "userId": "12135158262547382026"
     },
     "user_tz": -330
    },
    "id": "yZhm-2w916bZ",
    "outputId": "00bd35b9-0520-4335-8f1f-499b67164547"
   },
   "outputs": [
    {
     "data": {
      "text/plain": [
       "array([2002, 2001, 1991, 1999, 2000, 1993, 1996, 1988, 2004, 1998, 1994,\n",
       "       2003, 1997, 1983, 1979, 1995, 1982, 1985, 1992, 1986, 1978, 1980,\n",
       "       1952, 1987, 1990, 1981, 1989, 1984, 0, 1968, 1961, 1958, 1974,\n",
       "       1976, 1971, 1977, 1975, 1965, 1941, 1970, 1962, 1973, 1972, 1960,\n",
       "       1966, 1920, 1956, 1959, 1953, 1951, 1942, 1963, 1964, 1969, 1954,\n",
       "       1950, 1967, 2005, 1957, 1940, 1937, 1955, 1946, 1936, 1930, 2011,\n",
       "       1925, 1948, 1943, 1947, 1945, 1923, 2020, 1939, 1926, 1938, 2030,\n",
       "       1911, 1904, 1949, 1932, 1928, 1929, 1927, 1931, 1914, 2050, 1934,\n",
       "       1910, 1933, 1902, 1924, 1921, 1900, 2038, 2026, 1944, 1917, 1901,\n",
       "       2010, 1908, 1906, 1935, 1806, 2021, '2000', '1995', '1999', '2004',\n",
       "       '2003', '1990', '1994', '1986', '1989', '2002', '1981', '1993',\n",
       "       '1983', '1982', '1976', '1991', '1977', '1998', '1992', '1996',\n",
       "       '0', '1997', '2001', '1974', '1968', '1987', '1984', '1988',\n",
       "       '1963', '1956', '1970', '1985', '1978', '1973', '1980', '1979',\n",
       "       '1975', '1969', '1961', '1965', '1939', '1958', '1950', '1953',\n",
       "       '1966', '1971', '1959', '1972', '1955', '1957', '1945', '1960',\n",
       "       '1967', '1932', '1924', '1964', '2012', '1911', '1927', '1948',\n",
       "       '1962', '2006', '1952', '1940', '1951', '1931', '1954', '2005',\n",
       "       '1930', '1941', '1944', 'DK Publishing Inc', '1943', '1938',\n",
       "       '1900', '1942', '1923', '1920', '1933', 'Gallimard', '1909',\n",
       "       '1946', '2008', '1378', '2030', '1936', '1947', '2011', '2020',\n",
       "       '1919', '1949', '1922', '1897', '2024', '1376', '1926', '2037'],\n",
       "      dtype=object)"
      ]
     },
     "execution_count": 12,
     "metadata": {
      "tags": []
     },
     "output_type": "execute_result"
    }
   ],
   "source": [
    "bookspub.unique()"
   ]
  },
  {
   "cell_type": "markdown",
   "metadata": {
    "id": "FCMdw-Ojs68J"
   },
   "source": [
    "As it can be seen from above that there are some incorrect entries in this field. It looks like Publisher names 'DK Publishing Inc' and 'Gallimard' have been incorrectly loaded as yearOfPublication in dataset due to some errors in csv file.\n",
    "\n",
    "\n",
    "Also some of the entries are strings and same years have been entered as numbers in some places. We will try to fix these things in the coming questions."
   ]
  },
  {
   "cell_type": "markdown",
   "metadata": {
    "id": "JqzIY4F2s68L"
   },
   "source": [
    "### Check the rows having 'DK Publishing Inc' as yearOfPublication"
   ]
  },
  {
   "cell_type": "code",
   "execution_count": null,
   "metadata": {
    "colab": {
     "base_uri": "https://localhost:8080/",
     "height": 111
    },
    "executionInfo": {
     "elapsed": 1432,
     "status": "ok",
     "timestamp": 1589984103722,
     "user": {
      "displayName": "Garima Rahangdale",
      "photoUrl": "",
      "userId": "12135158262547382026"
     },
     "user_tz": -330
    },
    "id": "tFr14dSss68O",
    "outputId": "57f96af1-7e41-4e74-dec0-917dea4fb443"
   },
   "outputs": [
    {
     "data": {
      "text/html": [
       "<div>\n",
       "<style scoped>\n",
       "    .dataframe tbody tr th:only-of-type {\n",
       "        vertical-align: middle;\n",
       "    }\n",
       "\n",
       "    .dataframe tbody tr th {\n",
       "        vertical-align: top;\n",
       "    }\n",
       "\n",
       "    .dataframe thead th {\n",
       "        text-align: right;\n",
       "    }\n",
       "</style>\n",
       "<table border=\"1\" class=\"dataframe\">\n",
       "  <thead>\n",
       "    <tr style=\"text-align: right;\">\n",
       "      <th></th>\n",
       "      <th>ISBN</th>\n",
       "      <th>bookTitle</th>\n",
       "      <th>bookAuthor</th>\n",
       "      <th>yearOfPublication</th>\n",
       "      <th>publisher</th>\n",
       "    </tr>\n",
       "  </thead>\n",
       "  <tbody>\n",
       "    <tr>\n",
       "      <th>209538</th>\n",
       "      <td>078946697X</td>\n",
       "      <td>DK Readers: Creating the X-Men, How It All Beg...</td>\n",
       "      <td>2000</td>\n",
       "      <td>DK Publishing Inc</td>\n",
       "      <td>http://images.amazon.com/images/P/078946697X.0...</td>\n",
       "    </tr>\n",
       "    <tr>\n",
       "      <th>221678</th>\n",
       "      <td>0789466953</td>\n",
       "      <td>DK Readers: Creating the X-Men, How Comic Book...</td>\n",
       "      <td>2000</td>\n",
       "      <td>DK Publishing Inc</td>\n",
       "      <td>http://images.amazon.com/images/P/0789466953.0...</td>\n",
       "    </tr>\n",
       "  </tbody>\n",
       "</table>\n",
       "</div>"
      ],
      "text/plain": [
       "              ISBN  ...                                          publisher\n",
       "209538  078946697X  ...  http://images.amazon.com/images/P/078946697X.0...\n",
       "221678  0789466953  ...  http://images.amazon.com/images/P/0789466953.0...\n",
       "\n",
       "[2 rows x 5 columns]"
      ]
     },
     "execution_count": 13,
     "metadata": {
      "tags": []
     },
     "output_type": "execute_result"
    }
   ],
   "source": [
    "books.loc[books.yearOfPublication == 'DK Publishing Inc',:]"
   ]
  },
  {
   "cell_type": "markdown",
   "metadata": {
    "id": "2_tlfuJ0s68X"
   },
   "source": [
    "### Drop the rows having `'DK Publishing Inc'` and `'Gallimard'` as `yearOfPublication`"
   ]
  },
  {
   "cell_type": "code",
   "execution_count": null,
   "metadata": {
    "id": "jQXTGoL3s68Y"
   },
   "outputs": [],
   "source": [
    "books = books[(books.yearOfPublication != 'DK Publishing Inc') & (books.yearOfPublication != 'Gallimard')]"
   ]
  },
  {
   "cell_type": "markdown",
   "metadata": {
    "id": "Cch8cy4Is69c"
   },
   "source": [
    "### Change the datatype of yearOfPublication to 'int'"
   ]
  },
  {
   "cell_type": "code",
   "execution_count": null,
   "metadata": {
    "id": "zJWu_4TYs6-C"
   },
   "outputs": [],
   "source": [
    "books['yearOfPublication'] = books['yearOfPublication'].astype('int32')"
   ]
  },
  {
   "cell_type": "code",
   "execution_count": null,
   "metadata": {
    "colab": {
     "base_uri": "https://localhost:8080/",
     "height": 119
    },
    "executionInfo": {
     "elapsed": 1296,
     "status": "ok",
     "timestamp": 1589984105205,
     "user": {
      "displayName": "Garima Rahangdale",
      "photoUrl": "",
      "userId": "12135158262547382026"
     },
     "user_tz": -330
    },
    "id": "mLtb51uOs7AC",
    "outputId": "002cb49a-f9a3-481c-87b3-0ba1f4443241"
   },
   "outputs": [
    {
     "data": {
      "text/plain": [
       "ISBN                 object\n",
       "bookTitle            object\n",
       "bookAuthor           object\n",
       "yearOfPublication     int32\n",
       "publisher            object\n",
       "dtype: object"
      ]
     },
     "execution_count": 16,
     "metadata": {
      "tags": []
     },
     "output_type": "execute_result"
    }
   ],
   "source": [
    "books.dtypes"
   ]
  },
  {
   "cell_type": "markdown",
   "metadata": {
    "id": "SUtxTglMs7AJ"
   },
   "source": [
    "### Drop NaNs in `'publisher'` column\n"
   ]
  },
  {
   "cell_type": "code",
   "execution_count": null,
   "metadata": {
    "colab": {
     "base_uri": "https://localhost:8080/",
     "height": 34
    },
    "executionInfo": {
     "elapsed": 1543,
     "status": "ok",
     "timestamp": 1589984105943,
     "user": {
      "displayName": "Garima Rahangdale",
      "photoUrl": "",
      "userId": "12135158262547382026"
     },
     "user_tz": -330
    },
    "id": "2JCi9Je0s7AM",
    "outputId": "6d252430-2565-4d9d-e5f2-3afd8fcd2676"
   },
   "outputs": [
    {
     "data": {
      "text/plain": [
       "0"
      ]
     },
     "execution_count": 17,
     "metadata": {
      "tags": []
     },
     "output_type": "execute_result"
    }
   ],
   "source": [
    "#drop NaNs in 'publisher' column\n",
    "books = books.dropna(subset=['publisher'])\n",
    "books.publisher.isnull().sum()"
   ]
  },
  {
   "cell_type": "markdown",
   "metadata": {
    "id": "O_ZT_MdQs7AR"
   },
   "source": [
    "## Exploring Users dataset"
   ]
  },
  {
   "cell_type": "code",
   "execution_count": null,
   "metadata": {
    "colab": {
     "base_uri": "https://localhost:8080/",
     "height": 221
    },
    "executionInfo": {
     "elapsed": 1453,
     "status": "ok",
     "timestamp": 1589984106564,
     "user": {
      "displayName": "Garima Rahangdale",
      "photoUrl": "",
      "userId": "12135158262547382026"
     },
     "user_tz": -330
    },
    "id": "Qrl6ZpFks7AS",
    "outputId": "b2d310ac-0426-475c-f596-d2225a99ffc0",
    "scrolled": true
   },
   "outputs": [
    {
     "name": "stdout",
     "output_type": "stream",
     "text": [
      "(278858, 3)\n"
     ]
    },
    {
     "data": {
      "text/html": [
       "<div>\n",
       "<style scoped>\n",
       "    .dataframe tbody tr th:only-of-type {\n",
       "        vertical-align: middle;\n",
       "    }\n",
       "\n",
       "    .dataframe tbody tr th {\n",
       "        vertical-align: top;\n",
       "    }\n",
       "\n",
       "    .dataframe thead th {\n",
       "        text-align: right;\n",
       "    }\n",
       "</style>\n",
       "<table border=\"1\" class=\"dataframe\">\n",
       "  <thead>\n",
       "    <tr style=\"text-align: right;\">\n",
       "      <th></th>\n",
       "      <th>userID</th>\n",
       "      <th>Location</th>\n",
       "      <th>Age</th>\n",
       "    </tr>\n",
       "  </thead>\n",
       "  <tbody>\n",
       "    <tr>\n",
       "      <th>0</th>\n",
       "      <td>1</td>\n",
       "      <td>nyc, new york, usa</td>\n",
       "      <td>NaN</td>\n",
       "    </tr>\n",
       "    <tr>\n",
       "      <th>1</th>\n",
       "      <td>2</td>\n",
       "      <td>stockton, california, usa</td>\n",
       "      <td>18.0</td>\n",
       "    </tr>\n",
       "    <tr>\n",
       "      <th>2</th>\n",
       "      <td>3</td>\n",
       "      <td>moscow, yukon territory, russia</td>\n",
       "      <td>NaN</td>\n",
       "    </tr>\n",
       "    <tr>\n",
       "      <th>3</th>\n",
       "      <td>4</td>\n",
       "      <td>porto, v.n.gaia, portugal</td>\n",
       "      <td>17.0</td>\n",
       "    </tr>\n",
       "    <tr>\n",
       "      <th>4</th>\n",
       "      <td>5</td>\n",
       "      <td>farnborough, hants, united kingdom</td>\n",
       "      <td>NaN</td>\n",
       "    </tr>\n",
       "  </tbody>\n",
       "</table>\n",
       "</div>"
      ],
      "text/plain": [
       "   userID                            Location   Age\n",
       "0       1                  nyc, new york, usa   NaN\n",
       "1       2           stockton, california, usa  18.0\n",
       "2       3     moscow, yukon territory, russia   NaN\n",
       "3       4           porto, v.n.gaia, portugal  17.0\n",
       "4       5  farnborough, hants, united kingdom   NaN"
      ]
     },
     "execution_count": 18,
     "metadata": {
      "tags": []
     },
     "output_type": "execute_result"
    }
   ],
   "source": [
    "print(users.shape)\n",
    "users.head()"
   ]
  },
  {
   "cell_type": "markdown",
   "metadata": {
    "id": "BReY2Ttxs7Aa"
   },
   "source": [
    "### Get all unique values in ascending order for column `Age`"
   ]
  },
  {
   "cell_type": "code",
   "execution_count": null,
   "metadata": {
    "colab": {
     "base_uri": "https://localhost:8080/",
     "height": 54
    },
    "executionInfo": {
     "elapsed": 1465,
     "status": "ok",
     "timestamp": 1589984107246,
     "user": {
      "displayName": "Garima Rahangdale",
      "photoUrl": "",
      "userId": "12135158262547382026"
     },
     "user_tz": -330
    },
    "id": "uCTGMeCvs7Ae",
    "outputId": "6961a6f8-547e-4985-d846-fb22aca541c3"
   },
   "outputs": [
    {
     "name": "stdout",
     "output_type": "stream",
     "text": [
      "[nan, 0.0, 1.0, 2.0, 3.0, 4.0, 5.0, 6.0, 7.0, 8.0, 9.0, 10.0, 11.0, 12.0, 13.0, 14.0, 15.0, 16.0, 17.0, 18.0, 19.0, 20.0, 21.0, 22.0, 23.0, 24.0, 25.0, 26.0, 27.0, 28.0, 29.0, 30.0, 31.0, 32.0, 33.0, 34.0, 35.0, 36.0, 37.0, 38.0, 39.0, 40.0, 41.0, 42.0, 43.0, 44.0, 45.0, 46.0, 47.0, 48.0, 49.0, 50.0, 51.0, 52.0, 53.0, 54.0, 55.0, 56.0, 57.0, 58.0, 59.0, 60.0, 61.0, 62.0, 63.0, 64.0, 65.0, 66.0, 67.0, 68.0, 69.0, 70.0, 71.0, 72.0, 73.0, 74.0, 75.0, 76.0, 77.0, 78.0, 79.0, 80.0, 81.0, 82.0, 83.0, 84.0, 85.0, 86.0, 87.0, 88.0, 89.0, 90.0, 91.0, 92.0, 93.0, 94.0, 95.0, 96.0, 97.0, 98.0, 99.0, 100.0, 101.0, 102.0, 103.0, 104.0, 105.0, 106.0, 107.0, 108.0, 109.0, 110.0, 111.0, 113.0, 114.0, 115.0, 116.0, 118.0, 119.0, 123.0, 124.0, 127.0, 128.0, 132.0, 133.0, 136.0, 137.0, 138.0, 140.0, 141.0, 143.0, 146.0, 147.0, 148.0, 151.0, 152.0, 156.0, 157.0, 159.0, 162.0, 168.0, 172.0, 175.0, 183.0, 186.0, 189.0, 199.0, 200.0, 201.0, 204.0, 207.0, 208.0, 209.0, 210.0, 212.0, 219.0, 220.0, 223.0, 226.0, 228.0, 229.0, 230.0, 231.0, 237.0, 239.0, 244.0]\n"
     ]
    }
   ],
   "source": [
    "print(sorted(users.Age.unique()))"
   ]
  },
  {
   "cell_type": "markdown",
   "metadata": {
    "id": "0dWWlmXMs7Ak"
   },
   "source": [
    "Age column has some invalid entries like nan, 0 and very high values like 100 and above"
   ]
  },
  {
   "cell_type": "markdown",
   "metadata": {
    "id": "nHBzo2tIs7Al"
   },
   "source": [
    "### Values below 5 and above 90 do not make much sense for our book rating case...hence replace these by NaNs"
   ]
  },
  {
   "cell_type": "code",
   "execution_count": null,
   "metadata": {
    "id": "_psyfurD16cK"
   },
   "outputs": [],
   "source": [
    "import numpy as np"
   ]
  },
  {
   "cell_type": "code",
   "execution_count": null,
   "metadata": {
    "id": "nfPcCLN6s7An"
   },
   "outputs": [],
   "source": [
    "users.loc[(users.Age > 90) | (users.Age < 5), 'Age'] = np.nan"
   ]
  },
  {
   "cell_type": "markdown",
   "metadata": {
    "id": "qBxukZOQs7Ax"
   },
   "source": [
    "### Replace null values in column `Age` with mean"
   ]
  },
  {
   "cell_type": "code",
   "execution_count": null,
   "metadata": {
    "id": "wvSMVO2-s7A3"
   },
   "outputs": [],
   "source": [
    "users['Age'] = users['Age'].fillna(users['Age'].mean())"
   ]
  },
  {
   "cell_type": "markdown",
   "metadata": {
    "id": "zne349_Ss7A9"
   },
   "source": [
    "### Change the datatype of `Age` to `int`"
   ]
  },
  {
   "cell_type": "code",
   "execution_count": null,
   "metadata": {
    "id": "A3Gbfi6qs7A-"
   },
   "outputs": [],
   "source": [
    "users['Age'] = users['Age'].astype(int)"
   ]
  },
  {
   "cell_type": "code",
   "execution_count": null,
   "metadata": {
    "colab": {
     "base_uri": "https://localhost:8080/",
     "height": 54
    },
    "executionInfo": {
     "elapsed": 1793,
     "status": "ok",
     "timestamp": 1589984110538,
     "user": {
      "displayName": "Garima Rahangdale",
      "photoUrl": "",
      "userId": "12135158262547382026"
     },
     "user_tz": -330
    },
    "id": "nBgB1uizs7BD",
    "outputId": "ff3f3df4-0c72-45d4-ee65-0d8ff71fc4e5",
    "scrolled": true
   },
   "outputs": [
    {
     "name": "stdout",
     "output_type": "stream",
     "text": [
      "[5, 6, 7, 8, 9, 10, 11, 12, 13, 14, 15, 16, 17, 18, 19, 20, 21, 22, 23, 24, 25, 26, 27, 28, 29, 30, 31, 32, 33, 34, 35, 36, 37, 38, 39, 40, 41, 42, 43, 44, 45, 46, 47, 48, 49, 50, 51, 52, 53, 54, 55, 56, 57, 58, 59, 60, 61, 62, 63, 64, 65, 66, 67, 68, 69, 70, 71, 72, 73, 74, 75, 76, 77, 78, 79, 80, 81, 82, 83, 84, 85, 86, 87, 88, 89, 90]\n"
     ]
    }
   ],
   "source": [
    "print(sorted(users.Age.unique()))"
   ]
  },
  {
   "cell_type": "markdown",
   "metadata": {
    "id": "e4q8iaGRs7Bu"
   },
   "source": [
    "## Exploring the Ratings Dataset"
   ]
  },
  {
   "cell_type": "markdown",
   "metadata": {
    "id": "CXW8MMyws7B1"
   },
   "source": [
    "### check the shape"
   ]
  },
  {
   "cell_type": "code",
   "execution_count": null,
   "metadata": {
    "colab": {
     "base_uri": "https://localhost:8080/",
     "height": 34
    },
    "executionInfo": {
     "elapsed": 1564,
     "status": "ok",
     "timestamp": 1589984111281,
     "user": {
      "displayName": "Garima Rahangdale",
      "photoUrl": "",
      "userId": "12135158262547382026"
     },
     "user_tz": -330
    },
    "id": "uKdK5kXWs7B4",
    "outputId": "dd4eb741-5958-4a44-d91d-17e4b6746b67",
    "scrolled": true
   },
   "outputs": [
    {
     "data": {
      "text/plain": [
       "(1149780, 3)"
      ]
     },
     "execution_count": 25,
     "metadata": {
      "tags": []
     },
     "output_type": "execute_result"
    }
   ],
   "source": [
    "ratings.shape"
   ]
  },
  {
   "cell_type": "code",
   "execution_count": null,
   "metadata": {
    "id": "OscRghDZs7B-"
   },
   "outputs": [],
   "source": [
    "n_users = users.shape[0]\n",
    "n_books = books.shape[0]"
   ]
  },
  {
   "cell_type": "code",
   "execution_count": null,
   "metadata": {
    "colab": {
     "base_uri": "https://localhost:8080/",
     "height": 204
    },
    "executionInfo": {
     "elapsed": 1662,
     "status": "ok",
     "timestamp": 1589984112053,
     "user": {
      "displayName": "Garima Rahangdale",
      "photoUrl": "",
      "userId": "12135158262547382026"
     },
     "user_tz": -330
    },
    "id": "nAjc28Whs7CD",
    "outputId": "bb586d68-d4d6-4422-d841-4d284880e63f",
    "scrolled": true
   },
   "outputs": [
    {
     "data": {
      "text/html": [
       "<div>\n",
       "<style scoped>\n",
       "    .dataframe tbody tr th:only-of-type {\n",
       "        vertical-align: middle;\n",
       "    }\n",
       "\n",
       "    .dataframe tbody tr th {\n",
       "        vertical-align: top;\n",
       "    }\n",
       "\n",
       "    .dataframe thead th {\n",
       "        text-align: right;\n",
       "    }\n",
       "</style>\n",
       "<table border=\"1\" class=\"dataframe\">\n",
       "  <thead>\n",
       "    <tr style=\"text-align: right;\">\n",
       "      <th></th>\n",
       "      <th>userID</th>\n",
       "      <th>ISBN</th>\n",
       "      <th>bookRating</th>\n",
       "    </tr>\n",
       "  </thead>\n",
       "  <tbody>\n",
       "    <tr>\n",
       "      <th>0</th>\n",
       "      <td>276725</td>\n",
       "      <td>034545104X</td>\n",
       "      <td>0</td>\n",
       "    </tr>\n",
       "    <tr>\n",
       "      <th>1</th>\n",
       "      <td>276726</td>\n",
       "      <td>0155061224</td>\n",
       "      <td>5</td>\n",
       "    </tr>\n",
       "    <tr>\n",
       "      <th>2</th>\n",
       "      <td>276727</td>\n",
       "      <td>0446520802</td>\n",
       "      <td>0</td>\n",
       "    </tr>\n",
       "    <tr>\n",
       "      <th>3</th>\n",
       "      <td>276729</td>\n",
       "      <td>052165615X</td>\n",
       "      <td>3</td>\n",
       "    </tr>\n",
       "    <tr>\n",
       "      <th>4</th>\n",
       "      <td>276729</td>\n",
       "      <td>0521795028</td>\n",
       "      <td>6</td>\n",
       "    </tr>\n",
       "  </tbody>\n",
       "</table>\n",
       "</div>"
      ],
      "text/plain": [
       "   userID        ISBN  bookRating\n",
       "0  276725  034545104X           0\n",
       "1  276726  0155061224           5\n",
       "2  276727  0446520802           0\n",
       "3  276729  052165615X           3\n",
       "4  276729  0521795028           6"
      ]
     },
     "execution_count": 27,
     "metadata": {
      "tags": []
     },
     "output_type": "execute_result"
    }
   ],
   "source": [
    "ratings.head(5)"
   ]
  },
  {
   "cell_type": "markdown",
   "metadata": {
    "id": "U_iCY300s7CK"
   },
   "source": [
    "### Ratings dataset should have books only which exist in our books dataset. Drop the remaining rows"
   ]
  },
  {
   "cell_type": "code",
   "execution_count": null,
   "metadata": {
    "id": "3li662whs7CL"
   },
   "outputs": [],
   "source": [
    "ratings_new = ratings[ratings.ISBN.isin(books.ISBN)]"
   ]
  },
  {
   "cell_type": "code",
   "execution_count": null,
   "metadata": {
    "colab": {
     "base_uri": "https://localhost:8080/",
     "height": 34
    },
    "executionInfo": {
     "elapsed": 2116,
     "status": "ok",
     "timestamp": 1589984113557,
     "user": {
      "displayName": "Garima Rahangdale",
      "photoUrl": "",
      "userId": "12135158262547382026"
     },
     "user_tz": -330
    },
    "id": "Tjkcyqsm16c_",
    "outputId": "15a4f310-d36d-40e8-b49b-3f4fbdff6a3a"
   },
   "outputs": [
    {
     "data": {
      "text/plain": [
       "(1031130, 3)"
      ]
     },
     "execution_count": 29,
     "metadata": {
      "tags": []
     },
     "output_type": "execute_result"
    }
   ],
   "source": [
    "ratings_new.shape"
   ]
  },
  {
   "cell_type": "markdown",
   "metadata": {
    "id": "3u05BWG5s7CO"
   },
   "source": [
    "### Ratings dataset should have ratings from users which exist in users dataset. Drop the remaining rows"
   ]
  },
  {
   "cell_type": "code",
   "execution_count": null,
   "metadata": {
    "id": "wRqd-5jus7CP"
   },
   "outputs": [],
   "source": [
    "ratings_new = ratings_new[ratings.userID.isin(users.userID)]"
   ]
  },
  {
   "cell_type": "code",
   "execution_count": null,
   "metadata": {
    "colab": {
     "base_uri": "https://localhost:8080/",
     "height": 34
    },
    "executionInfo": {
     "elapsed": 1523,
     "status": "ok",
     "timestamp": 1589984114136,
     "user": {
      "displayName": "Garima Rahangdale",
      "photoUrl": "",
      "userId": "12135158262547382026"
     },
     "user_tz": -330
    },
    "id": "GSYq2EYd16dH",
    "outputId": "01673f09-d307-458c-b254-1635ad87d7ff"
   },
   "outputs": [
    {
     "data": {
      "text/plain": [
       "(1031130, 3)"
      ]
     },
     "execution_count": 31,
     "metadata": {
      "tags": []
     },
     "output_type": "execute_result"
    }
   ],
   "source": [
    "ratings_new.shape"
   ]
  },
  {
   "cell_type": "markdown",
   "metadata": {
    "id": "RlRWGEzDs7CT"
   },
   "source": [
    "### Consider only ratings from 1-10 and leave 0s in column `bookRating`"
   ]
  },
  {
   "cell_type": "code",
   "execution_count": null,
   "metadata": {
    "colab": {
     "base_uri": "https://localhost:8080/",
     "height": 34
    },
    "executionInfo": {
     "elapsed": 1365,
     "status": "ok",
     "timestamp": 1589984114789,
     "user": {
      "displayName": "Garima Rahangdale",
      "photoUrl": "",
      "userId": "12135158262547382026"
     },
     "user_tz": -330
    },
    "id": "G-U1k2o1s7CZ",
    "outputId": "c4b98c85-9de8-403d-a761-f41743106c76"
   },
   "outputs": [
    {
     "data": {
      "text/plain": [
       "array([ 0,  5,  3,  6,  7,  9,  8, 10,  1,  4,  2])"
      ]
     },
     "execution_count": 32,
     "metadata": {
      "tags": []
     },
     "output_type": "execute_result"
    }
   ],
   "source": [
    "ratings_new['bookRating'].unique()"
   ]
  },
  {
   "cell_type": "code",
   "execution_count": null,
   "metadata": {
    "id": "pMYF2DFF16dP"
   },
   "outputs": [],
   "source": [
    "#Hence segragating implicit and explict ratings datasets\n",
    "ratings_explicit = ratings_new[ratings_new.bookRating != 0]\n",
    "ratings_implicit = ratings_new[ratings_new.bookRating == 0]"
   ]
  },
  {
   "cell_type": "code",
   "execution_count": null,
   "metadata": {
    "colab": {
     "base_uri": "https://localhost:8080/",
     "height": 68
    },
    "executionInfo": {
     "elapsed": 1108,
     "status": "ok",
     "timestamp": 1589984115365,
     "user": {
      "displayName": "Garima Rahangdale",
      "photoUrl": "",
      "userId": "12135158262547382026"
     },
     "user_tz": -330
    },
    "id": "TTZ2IDja16dT",
    "outputId": "47477fdd-b450-4f08-9b82-87411bef66a6"
   },
   "outputs": [
    {
     "name": "stdout",
     "output_type": "stream",
     "text": [
      "(1031130, 3)\n",
      "(383839, 3)\n",
      "(647291, 3)\n"
     ]
    }
   ],
   "source": [
    "print(ratings_new.shape)\n",
    "print(ratings_explicit.shape)\n",
    "print(ratings_implicit.shape)"
   ]
  },
  {
   "cell_type": "markdown",
   "metadata": {
    "id": "Ys_Upl4ms7Cq"
   },
   "source": [
    "### Find out which rating has been given highest number of times"
   ]
  },
  {
   "cell_type": "code",
   "execution_count": null,
   "metadata": {
    "colab": {
     "base_uri": "https://localhost:8080/",
     "height": 279
    },
    "executionInfo": {
     "elapsed": 1467,
     "status": "ok",
     "timestamp": 1589984116580,
     "user": {
      "displayName": "Garima Rahangdale",
      "photoUrl": "",
      "userId": "12135158262547382026"
     },
     "user_tz": -330
    },
    "id": "vyNORNDZs7Ct",
    "outputId": "ec074f7c-4e86-4e63-fe29-5dd86dbf6aaf"
   },
   "outputs": [
    {
     "data": {
      "image/png": "[encoded data removed]",
      "text/plain": [
       "<Figure size 432x288 with 1 Axes>"
      ]
     },
     "metadata": {
      "needs_background": "light",
      "tags": []
     },
     "output_type": "display_data"
    }
   ],
   "source": [
    "#plotting count of bookRating\n",
    "import seaborn as sns\n",
    "import matplotlib.pyplot as plt\n",
    "sns.countplot(data=ratings_explicit , x='bookRating')\n",
    "plt.show()"
   ]
  },
  {
   "cell_type": "code",
   "execution_count": null,
   "metadata": {
    "id": "miqGnV7816db"
   },
   "outputs": [],
   "source": [
    "#ratings_explicit['bookRating'].plot(kind = 'bar')"
   ]
  },
  {
   "cell_type": "markdown",
   "metadata": {
    "id": "Osh4VMj1s7Cy"
   },
   "source": [
    "### **Collaborative Filtering Based Recommendation Systems**"
   ]
  },
  {
   "cell_type": "markdown",
   "metadata": {
    "id": "TaS5-42Js7Cz"
   },
   "source": [
    "### For more accurate results only consider users who have rated atleast 500 books"
   ]
  },
  {
   "cell_type": "code",
   "execution_count": null,
   "metadata": {
    "id": "Ni7pdzWB16dl"
   },
   "outputs": [],
   "source": [
    "counts1 = pd.value_counts(ratings_explicit['userID'])"
   ]
  },
  {
   "cell_type": "code",
   "execution_count": null,
   "metadata": {
    "id": "ZB0rXGIv16du"
   },
   "outputs": [],
   "source": [
    "ratings_explicit = ratings_explicit[ratings_explicit['userID'].isin(counts1[counts1 >= 500].index)]"
   ]
  },
  {
   "cell_type": "code",
   "execution_count": null,
   "metadata": {
    "colab": {
     "base_uri": "https://localhost:8080/",
     "height": 111
    },
    "executionInfo": {
     "elapsed": 1515,
     "status": "ok",
     "timestamp": 1589984119843,
     "user": {
      "displayName": "Garima Rahangdale",
      "photoUrl": "",
      "userId": "12135158262547382026"
     },
     "user_tz": -330
    },
    "id": "FU_2n43X16dw",
    "outputId": "2bf9916d-c298-44b1-9fb1-3bbf4dcb87be"
   },
   "outputs": [
    {
     "data": {
      "text/html": [
       "<div>\n",
       "<style scoped>\n",
       "    .dataframe tbody tr th:only-of-type {\n",
       "        vertical-align: middle;\n",
       "    }\n",
       "\n",
       "    .dataframe tbody tr th {\n",
       "        vertical-align: top;\n",
       "    }\n",
       "\n",
       "    .dataframe thead th {\n",
       "        text-align: right;\n",
       "    }\n",
       "</style>\n",
       "<table border=\"1\" class=\"dataframe\">\n",
       "  <thead>\n",
       "    <tr style=\"text-align: right;\">\n",
       "      <th></th>\n",
       "      <th>userID</th>\n",
       "      <th>ISBN</th>\n",
       "      <th>bookRating</th>\n",
       "    </tr>\n",
       "  </thead>\n",
       "  <tbody>\n",
       "    <tr>\n",
       "      <th>45339</th>\n",
       "      <td>11676</td>\n",
       "      <td>0001944711</td>\n",
       "      <td>6</td>\n",
       "    </tr>\n",
       "    <tr>\n",
       "      <th>45340</th>\n",
       "      <td>11676</td>\n",
       "      <td>0002005018</td>\n",
       "      <td>8</td>\n",
       "    </tr>\n",
       "  </tbody>\n",
       "</table>\n",
       "</div>"
      ],
      "text/plain": [
       "       userID        ISBN  bookRating\n",
       "45339   11676  0001944711           6\n",
       "45340   11676  0002005018           8"
      ]
     },
     "execution_count": 39,
     "metadata": {
      "tags": []
     },
     "output_type": "execute_result"
    }
   ],
   "source": [
    "ratings_explicit.head(2)"
   ]
  },
  {
   "cell_type": "code",
   "execution_count": null,
   "metadata": {
    "colab": {
     "base_uri": "https://localhost:8080/",
     "height": 419
    },
    "executionInfo": {
     "elapsed": 1746,
     "status": "ok",
     "timestamp": 1589984120431,
     "user": {
      "displayName": "Garima Rahangdale",
      "photoUrl": "",
      "userId": "12135158262547382026"
     },
     "user_tz": -330
    },
    "id": "uPO6SJHL16dz",
    "outputId": "657ac440-92ee-4512-b73a-efd811adfc3c"
   },
   "outputs": [
    {
     "data": {
      "text/html": [
       "<div>\n",
       "<style scoped>\n",
       "    .dataframe tbody tr th:only-of-type {\n",
       "        vertical-align: middle;\n",
       "    }\n",
       "\n",
       "    .dataframe tbody tr th {\n",
       "        vertical-align: top;\n",
       "    }\n",
       "\n",
       "    .dataframe thead th {\n",
       "        text-align: right;\n",
       "    }\n",
       "</style>\n",
       "<table border=\"1\" class=\"dataframe\">\n",
       "  <thead>\n",
       "    <tr style=\"text-align: right;\">\n",
       "      <th></th>\n",
       "      <th>userID</th>\n",
       "      <th>ISBN</th>\n",
       "      <th>bookRating</th>\n",
       "    </tr>\n",
       "  </thead>\n",
       "  <tbody>\n",
       "    <tr>\n",
       "      <th>45339</th>\n",
       "      <td>11676</td>\n",
       "      <td>0001944711</td>\n",
       "      <td>6</td>\n",
       "    </tr>\n",
       "    <tr>\n",
       "      <th>45340</th>\n",
       "      <td>11676</td>\n",
       "      <td>0002005018</td>\n",
       "      <td>8</td>\n",
       "    </tr>\n",
       "    <tr>\n",
       "      <th>45341</th>\n",
       "      <td>11676</td>\n",
       "      <td>0002118580</td>\n",
       "      <td>9</td>\n",
       "    </tr>\n",
       "    <tr>\n",
       "      <th>45342</th>\n",
       "      <td>11676</td>\n",
       "      <td>0002176432</td>\n",
       "      <td>5</td>\n",
       "    </tr>\n",
       "    <tr>\n",
       "      <th>45343</th>\n",
       "      <td>11676</td>\n",
       "      <td>0002184974</td>\n",
       "      <td>7</td>\n",
       "    </tr>\n",
       "    <tr>\n",
       "      <th>...</th>\n",
       "      <td>...</td>\n",
       "      <td>...</td>\n",
       "      <td>...</td>\n",
       "    </tr>\n",
       "    <tr>\n",
       "      <th>1040385</th>\n",
       "      <td>248718</td>\n",
       "      <td>1891400274</td>\n",
       "      <td>8</td>\n",
       "    </tr>\n",
       "    <tr>\n",
       "      <th>1040386</th>\n",
       "      <td>248718</td>\n",
       "      <td>1892123029</td>\n",
       "      <td>10</td>\n",
       "    </tr>\n",
       "    <tr>\n",
       "      <th>1040387</th>\n",
       "      <td>248718</td>\n",
       "      <td>1892881268</td>\n",
       "      <td>10</td>\n",
       "    </tr>\n",
       "    <tr>\n",
       "      <th>1040388</th>\n",
       "      <td>248718</td>\n",
       "      <td>2843231523</td>\n",
       "      <td>9</td>\n",
       "    </tr>\n",
       "    <tr>\n",
       "      <th>1040389</th>\n",
       "      <td>248718</td>\n",
       "      <td>9728128045</td>\n",
       "      <td>10</td>\n",
       "    </tr>\n",
       "  </tbody>\n",
       "</table>\n",
       "<p>29411 rows × 3 columns</p>\n",
       "</div>"
      ],
      "text/plain": [
       "         userID        ISBN  bookRating\n",
       "45339     11676  0001944711           6\n",
       "45340     11676  0002005018           8\n",
       "45341     11676  0002118580           9\n",
       "45342     11676  0002176432           5\n",
       "45343     11676  0002184974           7\n",
       "...         ...         ...         ...\n",
       "1040385  248718  1891400274           8\n",
       "1040386  248718  1892123029          10\n",
       "1040387  248718  1892881268          10\n",
       "1040388  248718  2843231523           9\n",
       "1040389  248718  9728128045          10\n",
       "\n",
       "[29411 rows x 3 columns]"
      ]
     },
     "execution_count": 40,
     "metadata": {
      "tags": []
     },
     "output_type": "execute_result"
    }
   ],
   "source": [
    "ratings_explicit"
   ]
  },
  {
   "cell_type": "markdown",
   "metadata": {
    "id": "j9moF_SI16d4"
   },
   "source": [
    "### Transform data to surprise format"
   ]
  },
  {
   "cell_type": "code",
   "execution_count": null,
   "metadata": {
    "colab": {
     "base_uri": "https://localhost:8080/",
     "height": 119
    },
    "executionInfo": {
     "elapsed": 6186,
     "status": "ok",
     "timestamp": 1589984125678,
     "user": {
      "displayName": "Garima Rahangdale",
      "photoUrl": "",
      "userId": "12135158262547382026"
     },
     "user_tz": -330
    },
    "id": "ebibK4kbXGnv",
    "outputId": "6ce0b811-90b3-4a3c-b66c-e3b78fb98725"
   },
   "outputs": [
    {
     "name": "stdout",
     "output_type": "stream",
     "text": [
      "Requirement already satisfied: surprise in /usr/local/lib/python3.6/dist-packages (0.1)\n",
      "Requirement already satisfied: scikit-surprise in /usr/local/lib/python3.6/dist-packages (from surprise) (1.1.0)\n",
      "Requirement already satisfied: joblib>=0.11 in /usr/local/lib/python3.6/dist-packages (from scikit-surprise->surprise) (0.15.0)\n",
      "Requirement already satisfied: numpy>=1.11.2 in /usr/local/lib/python3.6/dist-packages (from scikit-surprise->surprise) (1.18.4)\n",
      "Requirement already satisfied: scipy>=1.0.0 in /usr/local/lib/python3.6/dist-packages (from scikit-surprise->surprise) (1.4.1)\n",
      "Requirement already satisfied: six>=1.10.0 in /usr/local/lib/python3.6/dist-packages (from scikit-surprise->surprise) (1.12.0)\n"
     ]
    }
   ],
   "source": [
    "!pip install surprise"
   ]
  },
  {
   "cell_type": "code",
   "execution_count": null,
   "metadata": {
    "id": "M_CbQ4W416d5"
   },
   "outputs": [],
   "source": [
    "from surprise import Dataset,Reader\n",
    "from surprise.model_selection import cross_validate\n",
    "from surprise import NormalPredictor\n",
    "\n",
    "\n",
    "reader = Reader(rating_scale=(1, 10))"
   ]
  },
  {
   "cell_type": "code",
   "execution_count": null,
   "metadata": {
    "colab": {
     "base_uri": "https://localhost:8080/",
     "height": 111
    },
    "executionInfo": {
     "elapsed": 5343,
     "status": "ok",
     "timestamp": 1589984125684,
     "user": {
      "displayName": "Garima Rahangdale",
      "photoUrl": "",
      "userId": "12135158262547382026"
     },
     "user_tz": -330
    },
    "id": "HmHfE3dQ16d8",
    "outputId": "b18194f4-bb91-4691-acd3-e1a20add3991"
   },
   "outputs": [
    {
     "data": {
      "text/html": [
       "<div>\n",
       "<style scoped>\n",
       "    .dataframe tbody tr th:only-of-type {\n",
       "        vertical-align: middle;\n",
       "    }\n",
       "\n",
       "    .dataframe tbody tr th {\n",
       "        vertical-align: top;\n",
       "    }\n",
       "\n",
       "    .dataframe thead th {\n",
       "        text-align: right;\n",
       "    }\n",
       "</style>\n",
       "<table border=\"1\" class=\"dataframe\">\n",
       "  <thead>\n",
       "    <tr style=\"text-align: right;\">\n",
       "      <th></th>\n",
       "      <th>userID</th>\n",
       "      <th>ISBN</th>\n",
       "      <th>bookRating</th>\n",
       "    </tr>\n",
       "  </thead>\n",
       "  <tbody>\n",
       "    <tr>\n",
       "      <th>45339</th>\n",
       "      <td>11676</td>\n",
       "      <td>0001944711</td>\n",
       "      <td>6</td>\n",
       "    </tr>\n",
       "    <tr>\n",
       "      <th>45340</th>\n",
       "      <td>11676</td>\n",
       "      <td>0002005018</td>\n",
       "      <td>8</td>\n",
       "    </tr>\n",
       "  </tbody>\n",
       "</table>\n",
       "</div>"
      ],
      "text/plain": [
       "       userID        ISBN  bookRating\n",
       "45339   11676  0001944711           6\n",
       "45340   11676  0002005018           8"
      ]
     },
     "execution_count": 43,
     "metadata": {
      "tags": []
     },
     "output_type": "execute_result"
    }
   ],
   "source": [
    "ratings_explicit.head(2)"
   ]
  },
  {
   "cell_type": "code",
   "execution_count": null,
   "metadata": {
    "colab": {
     "base_uri": "https://localhost:8080/",
     "height": 34
    },
    "executionInfo": {
     "elapsed": 4966,
     "status": "ok",
     "timestamp": 1589984125687,
     "user": {
      "displayName": "Garima Rahangdale",
      "photoUrl": "",
      "userId": "12135158262547382026"
     },
     "user_tz": -330
    },
    "id": "rI1OuSS4bHH8",
    "outputId": "f4d3d05d-e84a-473e-f38e-1f00a8b98fb1"
   },
   "outputs": [
    {
     "data": {
      "text/plain": [
       "(29411, 3)"
      ]
     },
     "execution_count": 44,
     "metadata": {
      "tags": []
     },
     "output_type": "execute_result"
    }
   ],
   "source": [
    "ratings_explicit.shape"
   ]
  },
  {
   "cell_type": "code",
   "execution_count": null,
   "metadata": {
    "id": "oAFTabSf16eB"
   },
   "outputs": [],
   "source": [
    "data = Dataset.load_from_df(ratings_explicit[['userID', 'ISBN', 'bookRating']], reader)"
   ]
  },
  {
   "cell_type": "code",
   "execution_count": null,
   "metadata": {
    "colab": {
     "base_uri": "https://localhost:8080/",
     "height": 111
    },
    "executionInfo": {
     "elapsed": 4159,
     "status": "ok",
     "timestamp": 1589984125690,
     "user": {
      "displayName": "Garima Rahangdale",
      "photoUrl": "",
      "userId": "12135158262547382026"
     },
     "user_tz": -330
    },
    "id": "HE9KDUwA16eG",
    "outputId": "9b1f36c1-160b-4b80-ebef-90e73961506e"
   },
   "outputs": [
    {
     "data": {
      "text/html": [
       "<div>\n",
       "<style scoped>\n",
       "    .dataframe tbody tr th:only-of-type {\n",
       "        vertical-align: middle;\n",
       "    }\n",
       "\n",
       "    .dataframe tbody tr th {\n",
       "        vertical-align: top;\n",
       "    }\n",
       "\n",
       "    .dataframe thead th {\n",
       "        text-align: right;\n",
       "    }\n",
       "</style>\n",
       "<table border=\"1\" class=\"dataframe\">\n",
       "  <thead>\n",
       "    <tr style=\"text-align: right;\">\n",
       "      <th></th>\n",
       "      <th>userID</th>\n",
       "      <th>ISBN</th>\n",
       "      <th>bookRating</th>\n",
       "    </tr>\n",
       "  </thead>\n",
       "  <tbody>\n",
       "    <tr>\n",
       "      <th>45339</th>\n",
       "      <td>11676</td>\n",
       "      <td>0001944711</td>\n",
       "      <td>6</td>\n",
       "    </tr>\n",
       "    <tr>\n",
       "      <th>45340</th>\n",
       "      <td>11676</td>\n",
       "      <td>0002005018</td>\n",
       "      <td>8</td>\n",
       "    </tr>\n",
       "  </tbody>\n",
       "</table>\n",
       "</div>"
      ],
      "text/plain": [
       "       userID        ISBN  bookRating\n",
       "45339   11676  0001944711           6\n",
       "45340   11676  0002005018           8"
      ]
     },
     "execution_count": 46,
     "metadata": {
      "tags": []
     },
     "output_type": "execute_result"
    }
   ],
   "source": [
    "data.df.head(2)"
   ]
  },
  {
   "cell_type": "markdown",
   "metadata": {
    "id": "RzAQJ83416eK"
   },
   "source": [
    "### Points to Note:\n",
    "1) Trainset is no longer a pandas dataframe. Rather, it's a specific datatypes defined by the Surprise library\n",
    "\n",
    "\n",
    "2) UserID and ISBN in the pandas dataframe can contain any value (either string/integer etc). However, Trainset convert these raw ids into numeric indexes called as \"inner id\"\n",
    "\n",
    "\n",
    "3) Methods are provided to convert rw id to inner id and vice verca"
   ]
  },
  {
   "cell_type": "markdown",
   "metadata": {
    "id": "d6WSS4al16eM"
   },
   "source": [
    "### SVD Based Recommendation System"
   ]
  },
  {
   "cell_type": "code",
   "execution_count": null,
   "metadata": {
    "id": "dTU69-hv16eN"
   },
   "outputs": [],
   "source": [
    "from surprise import Dataset,Reader\n",
    "\n",
    "reader = Reader(rating_scale=(1, 10))\n",
    "data = Dataset.load_from_df(ratings_explicit[['userID', 'ISBN', 'bookRating']], reader)"
   ]
  },
  {
   "cell_type": "code",
   "execution_count": null,
   "metadata": {
    "id": "2CowYhRf16eQ"
   },
   "outputs": [],
   "source": [
    "# Split data to train and test\n",
    "from surprise.model_selection import train_test_split\n",
    "trainset, testset = train_test_split(data, test_size=.25,random_state=123)\n",
    "\n",
    "# to build on full data\n",
    "#trainset = data.build_full_trainset()"
   ]
  },
  {
   "cell_type": "code",
   "execution_count": null,
   "metadata": {
    "colab": {
     "base_uri": "https://localhost:8080/",
     "height": 34
    },
    "executionInfo": {
     "elapsed": 2054,
     "status": "ok",
     "timestamp": 1589984125692,
     "user": {
      "displayName": "Garima Rahangdale",
      "photoUrl": "",
      "userId": "12135158262547382026"
     },
     "user_tz": -330
    },
    "id": "LUlLSwY816eT",
    "outputId": "a4337fd4-eba5-4bad-c102-494b601e934e"
   },
   "outputs": [
    {
     "data": {
      "text/plain": [
       "<generator object Trainset.all_ratings at 0x7faa13288b48>"
      ]
     },
     "execution_count": 49,
     "metadata": {
      "tags": []
     },
     "output_type": "execute_result"
    }
   ],
   "source": [
    "trainset.all_ratings()"
   ]
  },
  {
   "cell_type": "code",
   "execution_count": null,
   "metadata": {
    "colab": {
     "base_uri": "https://localhost:8080/",
     "height": 34
    },
    "executionInfo": {
     "elapsed": 1695,
     "status": "ok",
     "timestamp": 1589984125693,
     "user": {
      "displayName": "Garima Rahangdale",
      "photoUrl": "",
      "userId": "12135158262547382026"
     },
     "user_tz": -330
    },
    "id": "_q-4pDY-16ec",
    "outputId": "d29c772e-1c8b-4b2c-df00-d5ec6dc91b09"
   },
   "outputs": [
    {
     "name": "stdout",
     "output_type": "stream",
     "text": [
      "76499\n"
     ]
    }
   ],
   "source": [
    "# However the ids are the inner ids and not the raw ids\n",
    "# raw ids can be obatined as follows\n",
    "\n",
    "print(trainset.to_raw_uid(0))\n",
    "#print(trainset.to_raw_iid(1066))"
   ]
  },
  {
   "cell_type": "code",
   "execution_count": null,
   "metadata": {
    "id": "e5NxrOS-16ek"
   },
   "outputs": [],
   "source": [
    "from surprise import SVD, KNNWithMeans\n",
    "from surprise import accuracy"
   ]
  },
  {
   "cell_type": "code",
   "execution_count": null,
   "metadata": {
    "colab": {
     "base_uri": "https://localhost:8080/",
     "height": 34
    },
    "executionInfo": {
     "elapsed": 1249,
     "status": "ok",
     "timestamp": 1589984126211,
     "user": {
      "displayName": "Garima Rahangdale",
      "photoUrl": "",
      "userId": "12135158262547382026"
     },
     "user_tz": -330
    },
    "id": "aHnjepaH16em",
    "outputId": "f03839cf-f079-4670-d340-51d90e02b582"
   },
   "outputs": [
    {
     "data": {
      "text/plain": [
       "<surprise.prediction_algorithms.matrix_factorization.SVD at 0x7faa12339b00>"
      ]
     },
     "execution_count": 52,
     "metadata": {
      "tags": []
     },
     "output_type": "execute_result"
    }
   ],
   "source": [
    "svd_model = SVD(n_factors=5,biased=False)\n",
    "svd_model.fit(trainset)"
   ]
  },
  {
   "cell_type": "code",
   "execution_count": null,
   "metadata": {
    "colab": {
     "base_uri": "https://localhost:8080/",
     "height": 34
    },
    "executionInfo": {
     "elapsed": 1609,
     "status": "ok",
     "timestamp": 1589984127088,
     "user": {
      "displayName": "Garima Rahangdale",
      "photoUrl": "",
      "userId": "12135158262547382026"
     },
     "user_tz": -330
    },
    "id": "JSK8XZK-16eo",
    "outputId": "c3885772-fcf4-4806-9d69-c42e00a6b2e8"
   },
   "outputs": [
    {
     "data": {
      "text/plain": [
       "(153662, '006108185X', 9.0)"
      ]
     },
     "execution_count": 53,
     "metadata": {
      "tags": []
     },
     "output_type": "execute_result"
    }
   ],
   "source": [
    "testset[0]"
   ]
  },
  {
   "cell_type": "code",
   "execution_count": null,
   "metadata": {
    "id": "VaFE7eDL16eu"
   },
   "outputs": [],
   "source": [
    "test_pred = svd_model.test(testset)"
   ]
  },
  {
   "cell_type": "code",
   "execution_count": null,
   "metadata": {
    "colab": {
     "base_uri": "https://localhost:8080/",
     "height": 51
    },
    "executionInfo": {
     "elapsed": 1156,
     "status": "ok",
     "timestamp": 1589984127728,
     "user": {
      "displayName": "Garima Rahangdale",
      "photoUrl": "",
      "userId": "12135158262547382026"
     },
     "user_tz": -330
    },
    "id": "wpxKXY0W16ew",
    "outputId": "0c6122da-9e2e-425c-9271-638070d71fa4"
   },
   "outputs": [
    {
     "name": "stdout",
     "output_type": "stream",
     "text": [
      "RMSE: 2.1998\n"
     ]
    },
    {
     "data": {
      "text/plain": [
       "2.199845849270215"
      ]
     },
     "execution_count": 55,
     "metadata": {
      "tags": []
     },
     "output_type": "execute_result"
    }
   ],
   "source": [
    "# compute RMSE\n",
    "accuracy.rmse(test_pred)"
   ]
  },
  {
   "cell_type": "markdown",
   "metadata": {
    "id": "dPll2U2xduQh"
   },
   "source": [
    "## KNNWithMeans"
   ]
  },
  {
   "cell_type": "code",
   "execution_count": null,
   "metadata": {
    "colab": {
     "base_uri": "https://localhost:8080/",
     "height": 68
    },
    "executionInfo": {
     "elapsed": 22472,
     "status": "ok",
     "timestamp": 1589984149529,
     "user": {
      "displayName": "Garima Rahangdale",
      "photoUrl": "",
      "userId": "12135158262547382026"
     },
     "user_tz": -330
    },
    "id": "LuqNMi7HYmhJ",
    "outputId": "95e96ee6-4955-41e8-9410-2d34b506d13b"
   },
   "outputs": [
    {
     "name": "stdout",
     "output_type": "stream",
     "text": [
      "Computing the msd similarity matrix...\n",
      "Done computing similarity matrix.\n"
     ]
    },
    {
     "data": {
      "text/plain": [
       "<surprise.prediction_algorithms.knns.KNNWithMeans at 0x7faa11faa358>"
      ]
     },
     "execution_count": 56,
     "metadata": {
      "tags": []
     },
     "output_type": "execute_result"
    }
   ],
   "source": [
    "from surprise import KNNWithMeans\n",
    "from surprise import accuracy\n",
    "\n",
    "algo_i = KNNWithMeans(k=10, sim_options={ 'user_based': False})\n",
    "\n",
    "algo_i.fit(trainset)\n"
   ]
  },
  {
   "cell_type": "code",
   "execution_count": null,
   "metadata": {
    "id": "uZMLLmIwYpgS"
   },
   "outputs": [],
   "source": [
    "#from surprise.model_selection import cross_validate\n",
    "#cross_validate(algo_i, data, measures=['RMSE', 'MAE'], cv=5, verbose=True)"
   ]
  },
  {
   "cell_type": "code",
   "execution_count": null,
   "metadata": {
    "colab": {
     "base_uri": "https://localhost:8080/",
     "height": 51
    },
    "executionInfo": {
     "elapsed": 2914,
     "status": "ok",
     "timestamp": 1589984157308,
     "user": {
      "displayName": "Garima Rahangdale",
      "photoUrl": "",
      "userId": "12135158262547382026"
     },
     "user_tz": -330
    },
    "id": "4bJ6148fYxu0",
    "outputId": "780c3695-0b5e-4b10-99d0-322428ef119f"
   },
   "outputs": [
    {
     "name": "stdout",
     "output_type": "stream",
     "text": [
      "RMSE: 1.8790\n",
      "1.8789856860600966\n"
     ]
    }
   ],
   "source": [
    "test_pred=algo_i.test(testset)\n",
    "print(accuracy.rmse(test_pred))"
   ]
  },
  {
   "cell_type": "markdown",
   "metadata": {
    "id": "nBGhGhgFcPA2"
   },
   "source": [
    "## KNNWithMeans gave better results.\n",
    "\n",
    "We can try Cross validation and improve accuracy"
   ]
  },
  {
   "cell_type": "code",
   "execution_count": null,
   "metadata": {
    "colab": {
     "base_uri": "https://localhost:8080/",
     "height": 34
    },
    "executionInfo": {
     "elapsed": 1392,
     "status": "ok",
     "timestamp": 1589984329190,
     "user": {
      "displayName": "Garima Rahangdale",
      "photoUrl": "",
      "userId": "12135158262547382026"
     },
     "user_tz": -330
    },
    "id": "pWTDNgPH16ey",
    "outputId": "b345b612-84d7-454e-de0c-5aa98c63a349"
   },
   "outputs": [
    {
     "name": "stdout",
     "output_type": "stream",
     "text": [
      "user: 11676      item: 074323748X r_ui = 0.00   est = 7.73   {'was_impossible': True, 'reason': 'User and/or item is unkown.'}\n"
     ]
    }
   ],
   "source": [
    "uid = str(11676)  # raw user id (as in the ratings file). They are **strings**!\n",
    "iid = \"074323748X\"  # raw item id (as in the ratings file). They are **strings**!\n",
    "\n",
    "# get a prediction for specific users and items.\n",
    "pred = algo_i.predict(uid, iid, r_ui=0.0, verbose=True)"
   ]
  },
  {
   "cell_type": "markdown",
   "metadata": {
    "id": "fs20djV716e1"
   },
   "source": [
    "### Generating top n recommendations"
   ]
  },
  {
   "cell_type": "code",
   "execution_count": null,
   "metadata": {
    "colab": {
     "base_uri": "https://localhost:8080/",
     "height": 359
    },
    "executionInfo": {
     "elapsed": 1329,
     "status": "ok",
     "timestamp": 1589984482631,
     "user": {
      "displayName": "Garima Rahangdale",
      "photoUrl": "",
      "userId": "12135158262547382026"
     },
     "user_tz": -330
    },
    "id": "gJ-appez16e1",
    "outputId": "5f239549-6345-4f9b-d8d6-df750b44dcf6"
   },
   "outputs": [
    {
     "data": {
      "text/html": [
       "<div>\n",
       "<style scoped>\n",
       "    .dataframe tbody tr th:only-of-type {\n",
       "        vertical-align: middle;\n",
       "    }\n",
       "\n",
       "    .dataframe tbody tr th {\n",
       "        vertical-align: top;\n",
       "    }\n",
       "\n",
       "    .dataframe thead th {\n",
       "        text-align: right;\n",
       "    }\n",
       "</style>\n",
       "<table border=\"1\" class=\"dataframe\">\n",
       "  <thead>\n",
       "    <tr style=\"text-align: right;\">\n",
       "      <th></th>\n",
       "      <th>iid</th>\n",
       "      <th>r_ui</th>\n",
       "      <th>est</th>\n",
       "    </tr>\n",
       "  </thead>\n",
       "  <tbody>\n",
       "    <tr>\n",
       "      <th>965</th>\n",
       "      <td>0525460543</td>\n",
       "      <td>10.0</td>\n",
       "      <td>6.950000</td>\n",
       "    </tr>\n",
       "    <tr>\n",
       "      <th>4485</th>\n",
       "      <td>0893753564</td>\n",
       "      <td>10.0</td>\n",
       "      <td>7.533333</td>\n",
       "    </tr>\n",
       "    <tr>\n",
       "      <th>4386</th>\n",
       "      <td>0590414291</td>\n",
       "      <td>10.0</td>\n",
       "      <td>8.400000</td>\n",
       "    </tr>\n",
       "    <tr>\n",
       "      <th>1137</th>\n",
       "      <td>0452262933</td>\n",
       "      <td>10.0</td>\n",
       "      <td>7.733249</td>\n",
       "    </tr>\n",
       "    <tr>\n",
       "      <th>1131</th>\n",
       "      <td>0373484232</td>\n",
       "      <td>10.0</td>\n",
       "      <td>9.400000</td>\n",
       "    </tr>\n",
       "    <tr>\n",
       "      <th>1126</th>\n",
       "      <td>0679457313</td>\n",
       "      <td>10.0</td>\n",
       "      <td>7.733249</td>\n",
       "    </tr>\n",
       "    <tr>\n",
       "      <th>4412</th>\n",
       "      <td>0743230655</td>\n",
       "      <td>10.0</td>\n",
       "      <td>7.733249</td>\n",
       "    </tr>\n",
       "    <tr>\n",
       "      <th>1111</th>\n",
       "      <td>0821776037</td>\n",
       "      <td>10.0</td>\n",
       "      <td>8.213333</td>\n",
       "    </tr>\n",
       "    <tr>\n",
       "      <th>4442</th>\n",
       "      <td>0394587952</td>\n",
       "      <td>10.0</td>\n",
       "      <td>7.733249</td>\n",
       "    </tr>\n",
       "    <tr>\n",
       "      <th>4443</th>\n",
       "      <td>0688108059</td>\n",
       "      <td>10.0</td>\n",
       "      <td>7.733249</td>\n",
       "    </tr>\n",
       "  </tbody>\n",
       "</table>\n",
       "</div>"
      ],
      "text/plain": [
       "             iid  r_ui       est\n",
       "965   0525460543  10.0  6.950000\n",
       "4485  0893753564  10.0  7.533333\n",
       "4386  0590414291  10.0  8.400000\n",
       "1137  0452262933  10.0  7.733249\n",
       "1131  0373484232  10.0  9.400000\n",
       "1126  0679457313  10.0  7.733249\n",
       "4412  0743230655  10.0  7.733249\n",
       "1111  0821776037  10.0  8.213333\n",
       "4442  0394587952  10.0  7.733249\n",
       "4443  0688108059  10.0  7.733249"
      ]
     },
     "execution_count": 71,
     "metadata": {
      "tags": []
     },
     "output_type": "execute_result"
    }
   ],
   "source": [
    "pred = pd.DataFrame(test_pred)\n",
    "pred[pred['uid'] == 11676][['iid', 'r_ui','est']].sort_values(by = 'r_ui',ascending = False).head(10)"
   ]
  },
  {
   "cell_type": "markdown",
   "metadata": {
    "id": "7EBaqtAlavPN"
   },
   "source": [
    "Summarise your insights.\n",
    "\n",
    "Model predicts average rating wherever estimation is not possible\n",
    "\n",
    "Model-based Collaborative Filtering is a personalised recommender system, the recommendations are based on the past behavior of the user and it is not dependent on any additional information.\n",
    "\n",
    "The Popularity-based recommender system is non-personalised and the recommendations are based on frequecy counts, which may be not suitable to the user."
   ]
  },
  {
   "cell_type": "code",
   "execution_count": null,
   "metadata": {
    "id": "7lLdUOznd_h4"
   },
   "outputs": [],
   "source": []
  }
 ],
 "metadata": {
  "colab": {
   "collapsed_sections": [
    "Osh4VMj1s7Cy",
    "RzAQJ83416eK"
   ],
   "name": "Collaborative_Filtering-Updated New case.ipynb",
   "provenance": []
  },
  "kernelspec": {
   "display_name": "Python 3",
   "language": "python",
   "name": "python3"
  },
  "language_info": {
   "codemirror_mode": {
    "name": "ipython",
    "version": 3
   },
   "file_extension": ".py",
   "mimetype": "text/x-python",
   "name": "python",
   "nbconvert_exporter": "python",
   "pygments_lexer": "ipython3",
   "version": "3.8.3"
  }
 },
 "nbformat": 4,
 "nbformat_minor": 1
}
