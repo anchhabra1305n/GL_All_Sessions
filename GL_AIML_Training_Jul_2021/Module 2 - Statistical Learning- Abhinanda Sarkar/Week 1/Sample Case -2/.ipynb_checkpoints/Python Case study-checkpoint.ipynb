{
 "cells": [
  {
   "cell_type": "markdown",
   "metadata": {},
   "source": [
    "# Agenda of this Case Study\n",
    "Derive insights from the data, in doing so we will\n",
    "- learn to use python to fetch, manipulate, see and understand data\n",
    "- get familiar with some common python libraries and functions we use for EDA\n",
    "\n",
    "# Context of the dataset we are going to use\n",
    "Each year, we at Stack Overflow ask the developer community about everything from their favorite technologies to their job preferences. This year marks the eighth year we’ve published our Annual Developer Survey results—with the largest number of respondents yet. Over 100,000 developers took the 30-minute survey in January 2018.\n",
    "\n",
    "This year, we covered a few new topics ranging from artificial intelligence to ethics in coding. We also found that underrepresented groups in tech responded to our survey at even lower rates than we would expect from their participation in the workforce. Want to dive into the results yourself and see what you can learn about salaries or machine learning or diversity in tech? We look forward to seeing what you find!\n",
    "\n",
    "# Content\n",
    "This 2018 Developer Survey results are organized on Kaggle in two tables:\n",
    "\n",
    "survey_results_public contains the main survey results, one respondent per row and one column per question\n",
    "\n",
    "survey_results_schema contains each column name from the main results along with the question text corresponding to that column\n",
    "\n",
    "There are 98,855 responses in this public data release. These responses are what we consider “qualified” for analytical purposes based on completion and time spent on the survey and included at least one non-PII question. Approximately 20,000 responses were started but not included here because respondents did not answer enough questions, or only answered questions with personally identifying information. Of the qualified responses, 67,441 completed the entire survey."
   ]
  },
  {
   "cell_type": "code",
   "execution_count": 1,
   "metadata": {},
   "outputs": [],
   "source": [
    "%matplotlib inline\n",
    "import numpy as np\n",
    "import pandas as pd\n",
    "from matplotlib import pyplot as plt\n",
    "import seaborn as sns"
   ]
  },
  {
   "cell_type": "code",
   "execution_count": 2,
   "metadata": {},
   "outputs": [],
   "source": [
    "pd.set_option('display.max_rows', 500)\n",
    "pd.set_option('display.max_columns', 500)\n",
    "pd.set_option('display.width', 1000)"
   ]
  },
  {
   "cell_type": "code",
   "execution_count": 3,
   "metadata": {},
   "outputs": [
    {
     "name": "stderr",
     "output_type": "stream",
     "text": [
      "C:\\Users\\anchhabra\\Anaconda3\\lib\\site-packages\\IPython\\core\\interactiveshell.py:3071: DtypeWarning: Columns (8,12,13,14,15,16,50,51,52,53,55,56,57,58,59,60,61,62,63,64,65,66,67,68,69,70,71,72,73,74,75,76,77,78,79,80,81,82,83,84,85,93,94,95,96,97,98,99,100,101,102,103,104,105,106,107,108,109,110,111,112,113,114,115,116,117,118,119,120,121,122,123,124,125,126,127,128) have mixed types.Specify dtype option on import or set low_memory=False.\n",
      "  has_raised = await self.run_ast_nodes(code_ast.body, cell_name,\n"
     ]
    }
   ],
   "source": [
    "df = pd.read_csv('survey_results_public.csv')"
   ]
  },
  {
   "cell_type": "code",
   "execution_count": 4,
   "metadata": {
    "scrolled": true
   },
   "outputs": [
    {
     "name": "stdout",
     "output_type": "stream",
     "text": [
      "(98855, 129)\n"
     ]
    },
    {
     "data": {
      "text/html": [
       "<div>\n",
       "<style scoped>\n",
       "    .dataframe tbody tr th:only-of-type {\n",
       "        vertical-align: middle;\n",
       "    }\n",
       "\n",
       "    .dataframe tbody tr th {\n",
       "        vertical-align: top;\n",
       "    }\n",
       "\n",
       "    .dataframe thead th {\n",
       "        text-align: right;\n",
       "    }\n",
       "</style>\n",
       "<table border=\"1\" class=\"dataframe\">\n",
       "  <thead>\n",
       "    <tr style=\"text-align: right;\">\n",
       "      <th></th>\n",
       "      <th>Respondent</th>\n",
       "      <th>Hobby</th>\n",
       "      <th>OpenSource</th>\n",
       "      <th>Country</th>\n",
       "      <th>Student</th>\n",
       "      <th>Employment</th>\n",
       "      <th>FormalEducation</th>\n",
       "      <th>UndergradMajor</th>\n",
       "      <th>CompanySize</th>\n",
       "      <th>DevType</th>\n",
       "      <th>YearsCoding</th>\n",
       "      <th>YearsCodingProf</th>\n",
       "      <th>JobSatisfaction</th>\n",
       "      <th>CareerSatisfaction</th>\n",
       "      <th>HopeFiveYears</th>\n",
       "      <th>JobSearchStatus</th>\n",
       "      <th>LastNewJob</th>\n",
       "      <th>AssessJob1</th>\n",
       "      <th>AssessJob2</th>\n",
       "      <th>AssessJob3</th>\n",
       "      <th>AssessJob4</th>\n",
       "      <th>AssessJob5</th>\n",
       "      <th>AssessJob6</th>\n",
       "      <th>AssessJob7</th>\n",
       "      <th>AssessJob8</th>\n",
       "      <th>AssessJob9</th>\n",
       "      <th>AssessJob10</th>\n",
       "      <th>AssessBenefits1</th>\n",
       "      <th>AssessBenefits2</th>\n",
       "      <th>AssessBenefits3</th>\n",
       "      <th>AssessBenefits4</th>\n",
       "      <th>AssessBenefits5</th>\n",
       "      <th>AssessBenefits6</th>\n",
       "      <th>AssessBenefits7</th>\n",
       "      <th>AssessBenefits8</th>\n",
       "      <th>AssessBenefits9</th>\n",
       "      <th>AssessBenefits10</th>\n",
       "      <th>AssessBenefits11</th>\n",
       "      <th>JobContactPriorities1</th>\n",
       "      <th>JobContactPriorities2</th>\n",
       "      <th>JobContactPriorities3</th>\n",
       "      <th>JobContactPriorities4</th>\n",
       "      <th>JobContactPriorities5</th>\n",
       "      <th>JobEmailPriorities1</th>\n",
       "      <th>JobEmailPriorities2</th>\n",
       "      <th>JobEmailPriorities3</th>\n",
       "      <th>JobEmailPriorities4</th>\n",
       "      <th>JobEmailPriorities5</th>\n",
       "      <th>JobEmailPriorities6</th>\n",
       "      <th>JobEmailPriorities7</th>\n",
       "      <th>UpdateCV</th>\n",
       "      <th>Currency</th>\n",
       "      <th>Salary</th>\n",
       "      <th>SalaryType</th>\n",
       "      <th>ConvertedSalary</th>\n",
       "      <th>CurrencySymbol</th>\n",
       "      <th>CommunicationTools</th>\n",
       "      <th>TimeFullyProductive</th>\n",
       "      <th>EducationTypes</th>\n",
       "      <th>SelfTaughtTypes</th>\n",
       "      <th>TimeAfterBootcamp</th>\n",
       "      <th>HackathonReasons</th>\n",
       "      <th>AgreeDisagree1</th>\n",
       "      <th>AgreeDisagree2</th>\n",
       "      <th>AgreeDisagree3</th>\n",
       "      <th>LanguageWorkedWith</th>\n",
       "      <th>LanguageDesireNextYear</th>\n",
       "      <th>DatabaseWorkedWith</th>\n",
       "      <th>DatabaseDesireNextYear</th>\n",
       "      <th>PlatformWorkedWith</th>\n",
       "      <th>PlatformDesireNextYear</th>\n",
       "      <th>FrameworkWorkedWith</th>\n",
       "      <th>FrameworkDesireNextYear</th>\n",
       "      <th>IDE</th>\n",
       "      <th>OperatingSystem</th>\n",
       "      <th>NumberMonitors</th>\n",
       "      <th>Methodology</th>\n",
       "      <th>VersionControl</th>\n",
       "      <th>CheckInCode</th>\n",
       "      <th>AdBlocker</th>\n",
       "      <th>AdBlockerDisable</th>\n",
       "      <th>AdBlockerReasons</th>\n",
       "      <th>AdsAgreeDisagree1</th>\n",
       "      <th>AdsAgreeDisagree2</th>\n",
       "      <th>AdsAgreeDisagree3</th>\n",
       "      <th>AdsActions</th>\n",
       "      <th>AdsPriorities1</th>\n",
       "      <th>AdsPriorities2</th>\n",
       "      <th>AdsPriorities3</th>\n",
       "      <th>AdsPriorities4</th>\n",
       "      <th>AdsPriorities5</th>\n",
       "      <th>AdsPriorities6</th>\n",
       "      <th>AdsPriorities7</th>\n",
       "      <th>AIDangerous</th>\n",
       "      <th>AIInteresting</th>\n",
       "      <th>AIResponsible</th>\n",
       "      <th>AIFuture</th>\n",
       "      <th>EthicsChoice</th>\n",
       "      <th>EthicsReport</th>\n",
       "      <th>EthicsResponsible</th>\n",
       "      <th>EthicalImplications</th>\n",
       "      <th>StackOverflowRecommend</th>\n",
       "      <th>StackOverflowVisit</th>\n",
       "      <th>StackOverflowHasAccount</th>\n",
       "      <th>StackOverflowParticipate</th>\n",
       "      <th>StackOverflowJobs</th>\n",
       "      <th>StackOverflowDevStory</th>\n",
       "      <th>StackOverflowJobsRecommend</th>\n",
       "      <th>StackOverflowConsiderMember</th>\n",
       "      <th>HypotheticalTools1</th>\n",
       "      <th>HypotheticalTools2</th>\n",
       "      <th>HypotheticalTools3</th>\n",
       "      <th>HypotheticalTools4</th>\n",
       "      <th>HypotheticalTools5</th>\n",
       "      <th>WakeTime</th>\n",
       "      <th>HoursComputer</th>\n",
       "      <th>HoursOutside</th>\n",
       "      <th>SkipMeals</th>\n",
       "      <th>ErgonomicDevices</th>\n",
       "      <th>Exercise</th>\n",
       "      <th>Gender</th>\n",
       "      <th>SexualOrientation</th>\n",
       "      <th>EducationParents</th>\n",
       "      <th>RaceEthnicity</th>\n",
       "      <th>Age</th>\n",
       "      <th>Dependents</th>\n",
       "      <th>MilitaryUS</th>\n",
       "      <th>SurveyTooLong</th>\n",
       "      <th>SurveyEasy</th>\n",
       "    </tr>\n",
       "  </thead>\n",
       "  <tbody>\n",
       "    <tr>\n",
       "      <th>0</th>\n",
       "      <td>1</td>\n",
       "      <td>Yes</td>\n",
       "      <td>No</td>\n",
       "      <td>Kenya</td>\n",
       "      <td>No</td>\n",
       "      <td>Employed part-time</td>\n",
       "      <td>Bachelor’s degree (BA, BS, B.Eng., etc.)</td>\n",
       "      <td>Mathematics or statistics</td>\n",
       "      <td>20 to 99 employees</td>\n",
       "      <td>Full-stack developer</td>\n",
       "      <td>3-5 years</td>\n",
       "      <td>3-5 years</td>\n",
       "      <td>Extremely satisfied</td>\n",
       "      <td>Extremely satisfied</td>\n",
       "      <td>Working as a founder or co-founder of my own c...</td>\n",
       "      <td>I’m not actively looking, but I am open to new...</td>\n",
       "      <td>Less than a year ago</td>\n",
       "      <td>10.0</td>\n",
       "      <td>7.0</td>\n",
       "      <td>8.0</td>\n",
       "      <td>1.0</td>\n",
       "      <td>2.0</td>\n",
       "      <td>5.0</td>\n",
       "      <td>3.0</td>\n",
       "      <td>4.0</td>\n",
       "      <td>9.0</td>\n",
       "      <td>6.0</td>\n",
       "      <td>NaN</td>\n",
       "      <td>NaN</td>\n",
       "      <td>NaN</td>\n",
       "      <td>NaN</td>\n",
       "      <td>NaN</td>\n",
       "      <td>NaN</td>\n",
       "      <td>NaN</td>\n",
       "      <td>NaN</td>\n",
       "      <td>NaN</td>\n",
       "      <td>NaN</td>\n",
       "      <td>NaN</td>\n",
       "      <td>3.0</td>\n",
       "      <td>1.0</td>\n",
       "      <td>4.0</td>\n",
       "      <td>2.0</td>\n",
       "      <td>5.0</td>\n",
       "      <td>5.0</td>\n",
       "      <td>6.0</td>\n",
       "      <td>7.0</td>\n",
       "      <td>2.0</td>\n",
       "      <td>1.0</td>\n",
       "      <td>4.0</td>\n",
       "      <td>3.0</td>\n",
       "      <td>My job status or other personal status changed</td>\n",
       "      <td>NaN</td>\n",
       "      <td>NaN</td>\n",
       "      <td>Monthly</td>\n",
       "      <td>NaN</td>\n",
       "      <td>KES</td>\n",
       "      <td>Slack</td>\n",
       "      <td>One to three months</td>\n",
       "      <td>Taught yourself a new language, framework, or ...</td>\n",
       "      <td>The official documentation and/or standards fo...</td>\n",
       "      <td>NaN</td>\n",
       "      <td>To build my professional network</td>\n",
       "      <td>Strongly agree</td>\n",
       "      <td>Strongly agree</td>\n",
       "      <td>Neither Agree nor Disagree</td>\n",
       "      <td>JavaScript;Python;HTML;CSS</td>\n",
       "      <td>JavaScript;Python;HTML;CSS</td>\n",
       "      <td>Redis;SQL Server;MySQL;PostgreSQL;Amazon RDS/A...</td>\n",
       "      <td>Redis;SQL Server;MySQL;PostgreSQL;Amazon RDS/A...</td>\n",
       "      <td>AWS;Azure;Linux;Firebase</td>\n",
       "      <td>AWS;Azure;Linux;Firebase</td>\n",
       "      <td>Django;React</td>\n",
       "      <td>Django;React</td>\n",
       "      <td>Komodo;Vim;Visual Studio Code</td>\n",
       "      <td>Linux-based</td>\n",
       "      <td>1</td>\n",
       "      <td>Agile;Scrum</td>\n",
       "      <td>Git</td>\n",
       "      <td>Multiple times per day</td>\n",
       "      <td>Yes</td>\n",
       "      <td>No</td>\n",
       "      <td>NaN</td>\n",
       "      <td>Strongly agree</td>\n",
       "      <td>Strongly agree</td>\n",
       "      <td>Strongly agree</td>\n",
       "      <td>Saw an online advertisement and then researche...</td>\n",
       "      <td>1.0</td>\n",
       "      <td>5.0</td>\n",
       "      <td>4.0</td>\n",
       "      <td>7.0</td>\n",
       "      <td>2.0</td>\n",
       "      <td>6.0</td>\n",
       "      <td>3.0</td>\n",
       "      <td>Artificial intelligence surpassing human intel...</td>\n",
       "      <td>Algorithms making important decisions</td>\n",
       "      <td>The developers or the people creating the AI</td>\n",
       "      <td>I'm excited about the possibilities more than ...</td>\n",
       "      <td>No</td>\n",
       "      <td>Yes, and publicly</td>\n",
       "      <td>Upper management at the company/organization</td>\n",
       "      <td>Yes</td>\n",
       "      <td>10 (Very Likely)</td>\n",
       "      <td>Multiple times per day</td>\n",
       "      <td>Yes</td>\n",
       "      <td>I have never participated in Q&amp;A on Stack Over...</td>\n",
       "      <td>No, I knew that Stack Overflow had a jobs boar...</td>\n",
       "      <td>Yes</td>\n",
       "      <td>NaN</td>\n",
       "      <td>Yes</td>\n",
       "      <td>Extremely interested</td>\n",
       "      <td>Extremely interested</td>\n",
       "      <td>Extremely interested</td>\n",
       "      <td>Extremely interested</td>\n",
       "      <td>Extremely interested</td>\n",
       "      <td>Between 5:00 - 6:00 AM</td>\n",
       "      <td>9 - 12 hours</td>\n",
       "      <td>1 - 2 hours</td>\n",
       "      <td>Never</td>\n",
       "      <td>Standing desk</td>\n",
       "      <td>3 - 4 times per week</td>\n",
       "      <td>Male</td>\n",
       "      <td>Straight or heterosexual</td>\n",
       "      <td>Bachelor’s degree (BA, BS, B.Eng., etc.)</td>\n",
       "      <td>Black or of African descent</td>\n",
       "      <td>25 - 34 years old</td>\n",
       "      <td>Yes</td>\n",
       "      <td>NaN</td>\n",
       "      <td>The survey was an appropriate length</td>\n",
       "      <td>Very easy</td>\n",
       "    </tr>\n",
       "    <tr>\n",
       "      <th>1</th>\n",
       "      <td>3</td>\n",
       "      <td>Yes</td>\n",
       "      <td>Yes</td>\n",
       "      <td>United Kingdom</td>\n",
       "      <td>No</td>\n",
       "      <td>Employed full-time</td>\n",
       "      <td>Bachelor’s degree (BA, BS, B.Eng., etc.)</td>\n",
       "      <td>A natural science (ex. biology, chemistry, phy...</td>\n",
       "      <td>10,000 or more employees</td>\n",
       "      <td>Database administrator;DevOps specialist;Full-...</td>\n",
       "      <td>30 or more years</td>\n",
       "      <td>18-20 years</td>\n",
       "      <td>Moderately dissatisfied</td>\n",
       "      <td>Neither satisfied nor dissatisfied</td>\n",
       "      <td>Working in a different or more specialized tec...</td>\n",
       "      <td>I am actively looking for a job</td>\n",
       "      <td>More than 4 years ago</td>\n",
       "      <td>1.0</td>\n",
       "      <td>7.0</td>\n",
       "      <td>10.0</td>\n",
       "      <td>8.0</td>\n",
       "      <td>2.0</td>\n",
       "      <td>5.0</td>\n",
       "      <td>4.0</td>\n",
       "      <td>3.0</td>\n",
       "      <td>6.0</td>\n",
       "      <td>9.0</td>\n",
       "      <td>1.0</td>\n",
       "      <td>5.0</td>\n",
       "      <td>3.0</td>\n",
       "      <td>7.0</td>\n",
       "      <td>10.0</td>\n",
       "      <td>4.0</td>\n",
       "      <td>11.0</td>\n",
       "      <td>9.0</td>\n",
       "      <td>6.0</td>\n",
       "      <td>2.0</td>\n",
       "      <td>8.0</td>\n",
       "      <td>3.0</td>\n",
       "      <td>1.0</td>\n",
       "      <td>5.0</td>\n",
       "      <td>2.0</td>\n",
       "      <td>4.0</td>\n",
       "      <td>1.0</td>\n",
       "      <td>3.0</td>\n",
       "      <td>4.0</td>\n",
       "      <td>5.0</td>\n",
       "      <td>2.0</td>\n",
       "      <td>6.0</td>\n",
       "      <td>7.0</td>\n",
       "      <td>I saw an employer’s advertisement</td>\n",
       "      <td>British pounds sterling (£)</td>\n",
       "      <td>51000</td>\n",
       "      <td>Yearly</td>\n",
       "      <td>70841.0</td>\n",
       "      <td>GBP</td>\n",
       "      <td>Confluence;Office / productivity suite (Micros...</td>\n",
       "      <td>One to three months</td>\n",
       "      <td>Taught yourself a new language, framework, or ...</td>\n",
       "      <td>The official documentation and/or standards fo...</td>\n",
       "      <td>NaN</td>\n",
       "      <td>NaN</td>\n",
       "      <td>Agree</td>\n",
       "      <td>Agree</td>\n",
       "      <td>Neither Agree nor Disagree</td>\n",
       "      <td>JavaScript;Python;Bash/Shell</td>\n",
       "      <td>Go;Python</td>\n",
       "      <td>Redis;PostgreSQL;Memcached</td>\n",
       "      <td>PostgreSQL</td>\n",
       "      <td>Linux</td>\n",
       "      <td>Linux</td>\n",
       "      <td>Django</td>\n",
       "      <td>React</td>\n",
       "      <td>IPython / Jupyter;Sublime Text;Vim</td>\n",
       "      <td>Linux-based</td>\n",
       "      <td>2</td>\n",
       "      <td>NaN</td>\n",
       "      <td>Git;Subversion</td>\n",
       "      <td>A few times per week</td>\n",
       "      <td>Yes</td>\n",
       "      <td>Yes</td>\n",
       "      <td>The website I was visiting asked me to disable it</td>\n",
       "      <td>Somewhat agree</td>\n",
       "      <td>Neither agree nor disagree</td>\n",
       "      <td>Neither agree nor disagree</td>\n",
       "      <td>NaN</td>\n",
       "      <td>3.0</td>\n",
       "      <td>5.0</td>\n",
       "      <td>1.0</td>\n",
       "      <td>4.0</td>\n",
       "      <td>6.0</td>\n",
       "      <td>7.0</td>\n",
       "      <td>2.0</td>\n",
       "      <td>Increasing automation of jobs</td>\n",
       "      <td>Increasing automation of jobs</td>\n",
       "      <td>The developers or the people creating the AI</td>\n",
       "      <td>I'm excited about the possibilities more than ...</td>\n",
       "      <td>Depends on what it is</td>\n",
       "      <td>Depends on what it is</td>\n",
       "      <td>Upper management at the company/organization</td>\n",
       "      <td>Yes</td>\n",
       "      <td>10 (Very Likely)</td>\n",
       "      <td>A few times per month or weekly</td>\n",
       "      <td>Yes</td>\n",
       "      <td>A few times per month or weekly</td>\n",
       "      <td>Yes</td>\n",
       "      <td>No, I have one but it's out of date</td>\n",
       "      <td>7</td>\n",
       "      <td>Yes</td>\n",
       "      <td>A little bit interested</td>\n",
       "      <td>A little bit interested</td>\n",
       "      <td>A little bit interested</td>\n",
       "      <td>A little bit interested</td>\n",
       "      <td>A little bit interested</td>\n",
       "      <td>Between 6:01 - 7:00 AM</td>\n",
       "      <td>5 - 8 hours</td>\n",
       "      <td>30 - 59 minutes</td>\n",
       "      <td>Never</td>\n",
       "      <td>Ergonomic keyboard or mouse</td>\n",
       "      <td>Daily or almost every day</td>\n",
       "      <td>Male</td>\n",
       "      <td>Straight or heterosexual</td>\n",
       "      <td>Bachelor’s degree (BA, BS, B.Eng., etc.)</td>\n",
       "      <td>White or of European descent</td>\n",
       "      <td>35 - 44 years old</td>\n",
       "      <td>Yes</td>\n",
       "      <td>NaN</td>\n",
       "      <td>The survey was an appropriate length</td>\n",
       "      <td>Somewhat easy</td>\n",
       "    </tr>\n",
       "    <tr>\n",
       "      <th>2</th>\n",
       "      <td>4</td>\n",
       "      <td>Yes</td>\n",
       "      <td>Yes</td>\n",
       "      <td>United States</td>\n",
       "      <td>No</td>\n",
       "      <td>Employed full-time</td>\n",
       "      <td>Associate degree</td>\n",
       "      <td>Computer science, computer engineering, or sof...</td>\n",
       "      <td>20 to 99 employees</td>\n",
       "      <td>Engineering manager;Full-stack developer</td>\n",
       "      <td>24-26 years</td>\n",
       "      <td>6-8 years</td>\n",
       "      <td>Moderately satisfied</td>\n",
       "      <td>Moderately satisfied</td>\n",
       "      <td>Working as a founder or co-founder of my own c...</td>\n",
       "      <td>I’m not actively looking, but I am open to new...</td>\n",
       "      <td>Less than a year ago</td>\n",
       "      <td>NaN</td>\n",
       "      <td>NaN</td>\n",
       "      <td>NaN</td>\n",
       "      <td>NaN</td>\n",
       "      <td>NaN</td>\n",
       "      <td>NaN</td>\n",
       "      <td>NaN</td>\n",
       "      <td>NaN</td>\n",
       "      <td>NaN</td>\n",
       "      <td>NaN</td>\n",
       "      <td>NaN</td>\n",
       "      <td>NaN</td>\n",
       "      <td>NaN</td>\n",
       "      <td>NaN</td>\n",
       "      <td>NaN</td>\n",
       "      <td>NaN</td>\n",
       "      <td>NaN</td>\n",
       "      <td>NaN</td>\n",
       "      <td>NaN</td>\n",
       "      <td>NaN</td>\n",
       "      <td>NaN</td>\n",
       "      <td>NaN</td>\n",
       "      <td>NaN</td>\n",
       "      <td>NaN</td>\n",
       "      <td>NaN</td>\n",
       "      <td>NaN</td>\n",
       "      <td>NaN</td>\n",
       "      <td>NaN</td>\n",
       "      <td>NaN</td>\n",
       "      <td>NaN</td>\n",
       "      <td>NaN</td>\n",
       "      <td>NaN</td>\n",
       "      <td>NaN</td>\n",
       "      <td>NaN</td>\n",
       "      <td>NaN</td>\n",
       "      <td>NaN</td>\n",
       "      <td>NaN</td>\n",
       "      <td>NaN</td>\n",
       "      <td>NaN</td>\n",
       "      <td>NaN</td>\n",
       "      <td>NaN</td>\n",
       "      <td>NaN</td>\n",
       "      <td>NaN</td>\n",
       "      <td>NaN</td>\n",
       "      <td>NaN</td>\n",
       "      <td>NaN</td>\n",
       "      <td>NaN</td>\n",
       "      <td>NaN</td>\n",
       "      <td>NaN</td>\n",
       "      <td>NaN</td>\n",
       "      <td>NaN</td>\n",
       "      <td>NaN</td>\n",
       "      <td>NaN</td>\n",
       "      <td>NaN</td>\n",
       "      <td>NaN</td>\n",
       "      <td>NaN</td>\n",
       "      <td>NaN</td>\n",
       "      <td>NaN</td>\n",
       "      <td>NaN</td>\n",
       "      <td>NaN</td>\n",
       "      <td>NaN</td>\n",
       "      <td>NaN</td>\n",
       "      <td>NaN</td>\n",
       "      <td>NaN</td>\n",
       "      <td>NaN</td>\n",
       "      <td>NaN</td>\n",
       "      <td>NaN</td>\n",
       "      <td>NaN</td>\n",
       "      <td>NaN</td>\n",
       "      <td>NaN</td>\n",
       "      <td>NaN</td>\n",
       "      <td>NaN</td>\n",
       "      <td>NaN</td>\n",
       "      <td>NaN</td>\n",
       "      <td>NaN</td>\n",
       "      <td>NaN</td>\n",
       "      <td>NaN</td>\n",
       "      <td>NaN</td>\n",
       "      <td>NaN</td>\n",
       "      <td>NaN</td>\n",
       "      <td>NaN</td>\n",
       "      <td>NaN</td>\n",
       "      <td>NaN</td>\n",
       "      <td>NaN</td>\n",
       "      <td>NaN</td>\n",
       "      <td>NaN</td>\n",
       "      <td>NaN</td>\n",
       "      <td>NaN</td>\n",
       "      <td>NaN</td>\n",
       "      <td>NaN</td>\n",
       "      <td>NaN</td>\n",
       "      <td>NaN</td>\n",
       "      <td>NaN</td>\n",
       "      <td>NaN</td>\n",
       "      <td>NaN</td>\n",
       "      <td>NaN</td>\n",
       "      <td>NaN</td>\n",
       "      <td>NaN</td>\n",
       "      <td>NaN</td>\n",
       "      <td>NaN</td>\n",
       "      <td>NaN</td>\n",
       "      <td>NaN</td>\n",
       "      <td>NaN</td>\n",
       "      <td>NaN</td>\n",
       "      <td>NaN</td>\n",
       "      <td>NaN</td>\n",
       "      <td>NaN</td>\n",
       "      <td>NaN</td>\n",
       "      <td>NaN</td>\n",
       "      <td>NaN</td>\n",
       "      <td>NaN</td>\n",
       "      <td>NaN</td>\n",
       "    </tr>\n",
       "  </tbody>\n",
       "</table>\n",
       "</div>"
      ],
      "text/plain": [
       "   Respondent Hobby OpenSource         Country Student          Employment                           FormalEducation                                     UndergradMajor               CompanySize                                            DevType       YearsCoding YearsCodingProf          JobSatisfaction                  CareerSatisfaction                                      HopeFiveYears                                    JobSearchStatus             LastNewJob  AssessJob1  AssessJob2  AssessJob3  AssessJob4  AssessJob5  AssessJob6  AssessJob7  AssessJob8  AssessJob9  AssessJob10  AssessBenefits1  AssessBenefits2  AssessBenefits3  AssessBenefits4  AssessBenefits5  AssessBenefits6  AssessBenefits7  AssessBenefits8  AssessBenefits9  AssessBenefits10  AssessBenefits11  JobContactPriorities1  JobContactPriorities2  JobContactPriorities3  JobContactPriorities4  JobContactPriorities5  JobEmailPriorities1  JobEmailPriorities2  JobEmailPriorities3  JobEmailPriorities4  JobEmailPriorities5  \\\n",
       "0           1   Yes         No           Kenya      No  Employed part-time  Bachelor’s degree (BA, BS, B.Eng., etc.)                          Mathematics or statistics        20 to 99 employees                               Full-stack developer         3-5 years       3-5 years      Extremely satisfied                 Extremely satisfied  Working as a founder or co-founder of my own c...  I’m not actively looking, but I am open to new...   Less than a year ago        10.0         7.0         8.0         1.0         2.0         5.0         3.0         4.0         9.0          6.0              NaN              NaN              NaN              NaN              NaN              NaN              NaN              NaN              NaN               NaN               NaN                    3.0                    1.0                    4.0                    2.0                    5.0                  5.0                  6.0                  7.0                  2.0                  1.0   \n",
       "1           3   Yes        Yes  United Kingdom      No  Employed full-time  Bachelor’s degree (BA, BS, B.Eng., etc.)  A natural science (ex. biology, chemistry, phy...  10,000 or more employees  Database administrator;DevOps specialist;Full-...  30 or more years     18-20 years  Moderately dissatisfied  Neither satisfied nor dissatisfied  Working in a different or more specialized tec...                    I am actively looking for a job  More than 4 years ago         1.0         7.0        10.0         8.0         2.0         5.0         4.0         3.0         6.0          9.0              1.0              5.0              3.0              7.0             10.0              4.0             11.0              9.0              6.0               2.0               8.0                    3.0                    1.0                    5.0                    2.0                    4.0                  1.0                  3.0                  4.0                  5.0                  2.0   \n",
       "2           4   Yes        Yes   United States      No  Employed full-time                          Associate degree  Computer science, computer engineering, or sof...        20 to 99 employees           Engineering manager;Full-stack developer       24-26 years       6-8 years     Moderately satisfied                Moderately satisfied  Working as a founder or co-founder of my own c...  I’m not actively looking, but I am open to new...   Less than a year ago         NaN         NaN         NaN         NaN         NaN         NaN         NaN         NaN         NaN          NaN              NaN              NaN              NaN              NaN              NaN              NaN              NaN              NaN              NaN               NaN               NaN                    NaN                    NaN                    NaN                    NaN                    NaN                  NaN                  NaN                  NaN                  NaN                  NaN   \n",
       "\n",
       "   JobEmailPriorities6  JobEmailPriorities7                                        UpdateCV                     Currency Salary SalaryType  ConvertedSalary CurrencySymbol                                 CommunicationTools  TimeFullyProductive                                     EducationTypes                                    SelfTaughtTypes TimeAfterBootcamp                  HackathonReasons  AgreeDisagree1  AgreeDisagree2              AgreeDisagree3            LanguageWorkedWith      LanguageDesireNextYear                                 DatabaseWorkedWith                             DatabaseDesireNextYear        PlatformWorkedWith    PlatformDesireNextYear FrameworkWorkedWith FrameworkDesireNextYear                                 IDE OperatingSystem NumberMonitors  Methodology  VersionControl             CheckInCode AdBlocker AdBlockerDisable                                   AdBlockerReasons AdsAgreeDisagree1           AdsAgreeDisagree2           AdsAgreeDisagree3  \\\n",
       "0                  4.0                  3.0  My job status or other personal status changed                          NaN    NaN    Monthly              NaN            KES                                              Slack  One to three months  Taught yourself a new language, framework, or ...  The official documentation and/or standards fo...               NaN  To build my professional network  Strongly agree  Strongly agree  Neither Agree nor Disagree    JavaScript;Python;HTML;CSS  JavaScript;Python;HTML;CSS  Redis;SQL Server;MySQL;PostgreSQL;Amazon RDS/A...  Redis;SQL Server;MySQL;PostgreSQL;Amazon RDS/A...  AWS;Azure;Linux;Firebase  AWS;Azure;Linux;Firebase        Django;React            Django;React       Komodo;Vim;Visual Studio Code     Linux-based              1  Agile;Scrum             Git  Multiple times per day       Yes               No                                                NaN    Strongly agree              Strongly agree              Strongly agree   \n",
       "1                  6.0                  7.0               I saw an employer’s advertisement  British pounds sterling (£)  51000     Yearly          70841.0            GBP  Confluence;Office / productivity suite (Micros...  One to three months  Taught yourself a new language, framework, or ...  The official documentation and/or standards fo...               NaN                               NaN           Agree           Agree  Neither Agree nor Disagree  JavaScript;Python;Bash/Shell                   Go;Python                         Redis;PostgreSQL;Memcached                                         PostgreSQL                     Linux                     Linux              Django                   React  IPython / Jupyter;Sublime Text;Vim     Linux-based              2          NaN  Git;Subversion    A few times per week       Yes              Yes  The website I was visiting asked me to disable it    Somewhat agree  Neither agree nor disagree  Neither agree nor disagree   \n",
       "2                  NaN                  NaN                                             NaN                          NaN    NaN        NaN              NaN            NaN                                                NaN                  NaN                                                NaN                                                NaN               NaN                               NaN             NaN             NaN                         NaN                           NaN                         NaN                                                NaN                                                NaN                       NaN                       NaN                 NaN                     NaN                                 NaN             NaN            NaN          NaN             NaN                     NaN       NaN              NaN                                                NaN               NaN                         NaN                         NaN   \n",
       "\n",
       "                                          AdsActions  AdsPriorities1  AdsPriorities2  AdsPriorities3  AdsPriorities4  AdsPriorities5  AdsPriorities6  AdsPriorities7                                        AIDangerous                          AIInteresting                                 AIResponsible                                           AIFuture           EthicsChoice           EthicsReport                             EthicsResponsible EthicalImplications StackOverflowRecommend               StackOverflowVisit StackOverflowHasAccount                           StackOverflowParticipate                                  StackOverflowJobs                StackOverflowDevStory StackOverflowJobsRecommend StackOverflowConsiderMember       HypotheticalTools1       HypotheticalTools2       HypotheticalTools3       HypotheticalTools4       HypotheticalTools5                WakeTime HoursComputer     HoursOutside SkipMeals             ErgonomicDevices                   Exercise Gender  \\\n",
       "0  Saw an online advertisement and then researche...             1.0             5.0             4.0             7.0             2.0             6.0             3.0  Artificial intelligence surpassing human intel...  Algorithms making important decisions  The developers or the people creating the AI  I'm excited about the possibilities more than ...                     No      Yes, and publicly  Upper management at the company/organization                 Yes       10 (Very Likely)           Multiple times per day                     Yes  I have never participated in Q&A on Stack Over...  No, I knew that Stack Overflow had a jobs boar...                                  Yes                        NaN                         Yes     Extremely interested     Extremely interested     Extremely interested     Extremely interested     Extremely interested  Between 5:00 - 6:00 AM  9 - 12 hours      1 - 2 hours     Never                Standing desk       3 - 4 times per week   Male   \n",
       "1                                                NaN             3.0             5.0             1.0             4.0             6.0             7.0             2.0                      Increasing automation of jobs          Increasing automation of jobs  The developers or the people creating the AI  I'm excited about the possibilities more than ...  Depends on what it is  Depends on what it is  Upper management at the company/organization                 Yes       10 (Very Likely)  A few times per month or weekly                     Yes                    A few times per month or weekly                                                Yes  No, I have one but it's out of date                          7                         Yes  A little bit interested  A little bit interested  A little bit interested  A little bit interested  A little bit interested  Between 6:01 - 7:00 AM   5 - 8 hours  30 - 59 minutes     Never  Ergonomic keyboard or mouse  Daily or almost every day   Male   \n",
       "2                                                NaN             NaN             NaN             NaN             NaN             NaN             NaN             NaN                                                NaN                                    NaN                                           NaN                                                NaN                    NaN                    NaN                                           NaN                 NaN                    NaN                              NaN                     NaN                                                NaN                                                NaN                                  NaN                        NaN                         NaN                      NaN                      NaN                      NaN                      NaN                      NaN                     NaN           NaN              NaN       NaN                          NaN                        NaN    NaN   \n",
       "\n",
       "          SexualOrientation                          EducationParents                 RaceEthnicity                Age Dependents MilitaryUS                         SurveyTooLong     SurveyEasy  \n",
       "0  Straight or heterosexual  Bachelor’s degree (BA, BS, B.Eng., etc.)   Black or of African descent  25 - 34 years old        Yes        NaN  The survey was an appropriate length      Very easy  \n",
       "1  Straight or heterosexual  Bachelor’s degree (BA, BS, B.Eng., etc.)  White or of European descent  35 - 44 years old        Yes        NaN  The survey was an appropriate length  Somewhat easy  \n",
       "2                       NaN                                       NaN                           NaN                NaN        NaN        NaN                                   NaN            NaN  "
      ]
     },
     "execution_count": 4,
     "metadata": {},
     "output_type": "execute_result"
    }
   ],
   "source": [
    "print(df.shape)\n",
    "df.head(3) "
   ]
  },
  {
   "cell_type": "markdown",
   "metadata": {},
   "source": [
    "- we got an error above, stating that there is a mix of data types in certain columns\n",
    "- From the data above we can see that the column 'Company Size' has numbers and strings \n",
    "- Similarly it is the case for certain other columns\n",
    "- The warning message says either specify the dtype of each and every column or set low_memory = False. The latter is more feasible for this dataset having 129 columns"
   ]
  },
  {
   "cell_type": "code",
   "execution_count": 14,
   "metadata": {},
   "outputs": [],
   "source": [
    "df = pd.read_csv('survey_results_public.csv', low_memory = False)  # We do not get the same warning"
   ]
  },
  {
   "cell_type": "markdown",
   "metadata": {},
   "source": [
    "- Most warnings are often harmless but it is necessary to be cognizant of the same\n",
    "- The way to deal with these warnings is often documented in the library that we use\n",
    "\n",
    "\n",
    "_Now let's check out a few questions from the survey schema data_"
   ]
  },
  {
   "cell_type": "code",
   "execution_count": 15,
   "metadata": {
    "scrolled": true
   },
   "outputs": [],
   "source": [
    "# df.notnull().sum()"
   ]
  },
  {
   "cell_type": "code",
   "execution_count": 16,
   "metadata": {},
   "outputs": [],
   "source": [
    "questions = pd.read_csv('survey_results_schema.csv')"
   ]
  },
  {
   "cell_type": "code",
   "execution_count": 17,
   "metadata": {},
   "outputs": [
    {
     "data": {
      "text/html": [
       "<div>\n",
       "<style scoped>\n",
       "    .dataframe tbody tr th:only-of-type {\n",
       "        vertical-align: middle;\n",
       "    }\n",
       "\n",
       "    .dataframe tbody tr th {\n",
       "        vertical-align: top;\n",
       "    }\n",
       "\n",
       "    .dataframe thead th {\n",
       "        text-align: right;\n",
       "    }\n",
       "</style>\n",
       "<table border=\"1\" class=\"dataframe\">\n",
       "  <thead>\n",
       "    <tr style=\"text-align: right;\">\n",
       "      <th></th>\n",
       "      <th>Column</th>\n",
       "      <th>QuestionText</th>\n",
       "    </tr>\n",
       "  </thead>\n",
       "  <tbody>\n",
       "    <tr>\n",
       "      <th>0</th>\n",
       "      <td>Respondent</td>\n",
       "      <td>Randomized respondent ID number (not in order ...</td>\n",
       "    </tr>\n",
       "    <tr>\n",
       "      <th>1</th>\n",
       "      <td>Hobby</td>\n",
       "      <td>Do you code as a hobby?</td>\n",
       "    </tr>\n",
       "    <tr>\n",
       "      <th>2</th>\n",
       "      <td>OpenSource</td>\n",
       "      <td>Do you contribute to open source projects?</td>\n",
       "    </tr>\n",
       "    <tr>\n",
       "      <th>3</th>\n",
       "      <td>Country</td>\n",
       "      <td>In which country do you currently reside?</td>\n",
       "    </tr>\n",
       "    <tr>\n",
       "      <th>4</th>\n",
       "      <td>Student</td>\n",
       "      <td>Are you currently enrolled in a formal, degree...</td>\n",
       "    </tr>\n",
       "  </tbody>\n",
       "</table>\n",
       "</div>"
      ],
      "text/plain": [
       "       Column                                       QuestionText\n",
       "0  Respondent  Randomized respondent ID number (not in order ...\n",
       "1       Hobby                            Do you code as a hobby?\n",
       "2  OpenSource         Do you contribute to open source projects?\n",
       "3     Country          In which country do you currently reside?\n",
       "4     Student  Are you currently enrolled in a formal, degree..."
      ]
     },
     "execution_count": 17,
     "metadata": {},
     "output_type": "execute_result"
    }
   ],
   "source": [
    "questions.head() "
   ]
  },
  {
   "cell_type": "markdown",
   "metadata": {},
   "source": [
    "- We can see how the table is structured\n",
    "- Each column in df is essentially a question and the column name is an alias for that question\n",
    "- We can see any question in its entirety by featching it from the questions dataframe"
   ]
  },
  {
   "cell_type": "code",
   "execution_count": 18,
   "metadata": {},
   "outputs": [
    {
     "data": {
      "text/plain": [
       "'Are you currently enrolled in a formal, degree-granting college or university program?'"
      ]
     },
     "execution_count": 18,
     "metadata": {},
     "output_type": "execute_result"
    }
   ],
   "source": [
    "questions.loc[4,'QuestionText']"
   ]
  },
  {
   "cell_type": "markdown",
   "metadata": {},
   "source": [
    "- We used .loc[ ] to fetch a specific value from the dataframe\n",
    "- But what if we did not know the position of a certain column name whose question we want to fetch?"
   ]
  },
  {
   "cell_type": "code",
   "execution_count": 19,
   "metadata": {},
   "outputs": [
    {
     "data": {
      "text/html": [
       "<div>\n",
       "<style scoped>\n",
       "    .dataframe tbody tr th:only-of-type {\n",
       "        vertical-align: middle;\n",
       "    }\n",
       "\n",
       "    .dataframe tbody tr th {\n",
       "        vertical-align: top;\n",
       "    }\n",
       "\n",
       "    .dataframe thead th {\n",
       "        text-align: right;\n",
       "    }\n",
       "</style>\n",
       "<table border=\"1\" class=\"dataframe\">\n",
       "  <thead>\n",
       "    <tr style=\"text-align: right;\">\n",
       "      <th></th>\n",
       "      <th>QuestionText</th>\n",
       "    </tr>\n",
       "    <tr>\n",
       "      <th>Column</th>\n",
       "      <th></th>\n",
       "    </tr>\n",
       "  </thead>\n",
       "  <tbody>\n",
       "    <tr>\n",
       "      <th>Respondent</th>\n",
       "      <td>Randomized respondent ID number (not in order ...</td>\n",
       "    </tr>\n",
       "    <tr>\n",
       "      <th>Hobby</th>\n",
       "      <td>Do you code as a hobby?</td>\n",
       "    </tr>\n",
       "    <tr>\n",
       "      <th>OpenSource</th>\n",
       "      <td>Do you contribute to open source projects?</td>\n",
       "    </tr>\n",
       "    <tr>\n",
       "      <th>Country</th>\n",
       "      <td>In which country do you currently reside?</td>\n",
       "    </tr>\n",
       "    <tr>\n",
       "      <th>Student</th>\n",
       "      <td>Are you currently enrolled in a formal, degree...</td>\n",
       "    </tr>\n",
       "  </tbody>\n",
       "</table>\n",
       "</div>"
      ],
      "text/plain": [
       "                                                 QuestionText\n",
       "Column                                                       \n",
       "Respondent  Randomized respondent ID number (not in order ...\n",
       "Hobby                                 Do you code as a hobby?\n",
       "OpenSource         Do you contribute to open source projects?\n",
       "Country             In which country do you currently reside?\n",
       "Student     Are you currently enrolled in a formal, degree..."
      ]
     },
     "execution_count": 19,
     "metadata": {},
     "output_type": "execute_result"
    }
   ],
   "source": [
    "questions.set_index('Column', inplace=True)\n",
    "questions.head()"
   ]
  },
  {
   "cell_type": "markdown",
   "metadata": {},
   "source": [
    "- Now that the index has actual names, we can use .loc[ ] to index based on the column values"
   ]
  },
  {
   "cell_type": "code",
   "execution_count": 20,
   "metadata": {},
   "outputs": [
    {
     "data": {
      "text/plain": [
       "'Are you currently enrolled in a formal, degree-granting college or university program?'"
      ]
     },
     "execution_count": 20,
     "metadata": {},
     "output_type": "execute_result"
    }
   ],
   "source": [
    "questions.loc['Student', 'QuestionText']"
   ]
  },
  {
   "cell_type": "markdown",
   "metadata": {},
   "source": [
    "- Feel free to explore what other column names in 'df' mean by fetching their respective questions from the 'questions' dataframe\n",
    "\n",
    "\n",
    "_One of the first few things we do to understand the data is look at its info()_"
   ]
  },
  {
   "cell_type": "code",
   "execution_count": 21,
   "metadata": {},
   "outputs": [],
   "source": [
    "# df.info(verbose=True)"
   ]
  },
  {
   "cell_type": "markdown",
   "metadata": {},
   "source": [
    "- Of the 129 columns, 41 are float type, 1 is integer type and the rest 87 are object type data\n",
    "- We have 98855 rows in total\n",
    "- And the amount of memory this dataset is occupying on the RAM is 97.3MB\n",
    "\n",
    "_Here after, we will proceed with exploring and understanding the data without any obvious comments like we did earlier_"
   ]
  },
  {
   "cell_type": "code",
   "execution_count": 22,
   "metadata": {},
   "outputs": [
    {
     "data": {
      "text/plain": [
       "8402979"
      ]
     },
     "execution_count": 22,
     "metadata": {},
     "output_type": "execute_result"
    }
   ],
   "source": [
    "df.notnull().sum().sum()"
   ]
  },
  {
   "cell_type": "code",
   "execution_count": 23,
   "metadata": {},
   "outputs": [
    {
     "data": {
      "text/html": [
       "<div>\n",
       "<style scoped>\n",
       "    .dataframe tbody tr th:only-of-type {\n",
       "        vertical-align: middle;\n",
       "    }\n",
       "\n",
       "    .dataframe tbody tr th {\n",
       "        vertical-align: top;\n",
       "    }\n",
       "\n",
       "    .dataframe thead th {\n",
       "        text-align: right;\n",
       "    }\n",
       "</style>\n",
       "<table border=\"1\" class=\"dataframe\">\n",
       "  <thead>\n",
       "    <tr style=\"text-align: right;\">\n",
       "      <th></th>\n",
       "      <th>Respondent</th>\n",
       "      <th>Hobby</th>\n",
       "      <th>OpenSource</th>\n",
       "      <th>Country</th>\n",
       "      <th>Student</th>\n",
       "      <th>Employment</th>\n",
       "      <th>FormalEducation</th>\n",
       "      <th>UndergradMajor</th>\n",
       "      <th>CompanySize</th>\n",
       "      <th>DevType</th>\n",
       "      <th>YearsCoding</th>\n",
       "      <th>YearsCodingProf</th>\n",
       "      <th>JobSatisfaction</th>\n",
       "      <th>CareerSatisfaction</th>\n",
       "      <th>HopeFiveYears</th>\n",
       "      <th>JobSearchStatus</th>\n",
       "      <th>LastNewJob</th>\n",
       "      <th>AssessJob1</th>\n",
       "      <th>AssessJob2</th>\n",
       "      <th>AssessJob3</th>\n",
       "      <th>AssessJob4</th>\n",
       "      <th>AssessJob5</th>\n",
       "      <th>AssessJob6</th>\n",
       "      <th>AssessJob7</th>\n",
       "      <th>AssessJob8</th>\n",
       "      <th>AssessJob9</th>\n",
       "      <th>AssessJob10</th>\n",
       "      <th>AssessBenefits1</th>\n",
       "      <th>AssessBenefits2</th>\n",
       "      <th>AssessBenefits3</th>\n",
       "      <th>AssessBenefits4</th>\n",
       "      <th>AssessBenefits5</th>\n",
       "      <th>AssessBenefits6</th>\n",
       "      <th>AssessBenefits7</th>\n",
       "      <th>AssessBenefits8</th>\n",
       "      <th>AssessBenefits9</th>\n",
       "      <th>AssessBenefits10</th>\n",
       "      <th>AssessBenefits11</th>\n",
       "      <th>JobContactPriorities1</th>\n",
       "      <th>JobContactPriorities2</th>\n",
       "      <th>JobContactPriorities3</th>\n",
       "      <th>JobContactPriorities4</th>\n",
       "      <th>JobContactPriorities5</th>\n",
       "      <th>JobEmailPriorities1</th>\n",
       "      <th>JobEmailPriorities2</th>\n",
       "      <th>JobEmailPriorities3</th>\n",
       "      <th>JobEmailPriorities4</th>\n",
       "      <th>JobEmailPriorities5</th>\n",
       "      <th>JobEmailPriorities6</th>\n",
       "      <th>JobEmailPriorities7</th>\n",
       "      <th>UpdateCV</th>\n",
       "      <th>Currency</th>\n",
       "      <th>Salary</th>\n",
       "      <th>SalaryType</th>\n",
       "      <th>ConvertedSalary</th>\n",
       "      <th>CurrencySymbol</th>\n",
       "      <th>CommunicationTools</th>\n",
       "      <th>TimeFullyProductive</th>\n",
       "      <th>EducationTypes</th>\n",
       "      <th>SelfTaughtTypes</th>\n",
       "      <th>TimeAfterBootcamp</th>\n",
       "      <th>HackathonReasons</th>\n",
       "      <th>AgreeDisagree1</th>\n",
       "      <th>AgreeDisagree2</th>\n",
       "      <th>AgreeDisagree3</th>\n",
       "      <th>LanguageWorkedWith</th>\n",
       "      <th>LanguageDesireNextYear</th>\n",
       "      <th>DatabaseWorkedWith</th>\n",
       "      <th>DatabaseDesireNextYear</th>\n",
       "      <th>PlatformWorkedWith</th>\n",
       "      <th>PlatformDesireNextYear</th>\n",
       "      <th>FrameworkWorkedWith</th>\n",
       "      <th>FrameworkDesireNextYear</th>\n",
       "      <th>IDE</th>\n",
       "      <th>OperatingSystem</th>\n",
       "      <th>NumberMonitors</th>\n",
       "      <th>Methodology</th>\n",
       "      <th>VersionControl</th>\n",
       "      <th>CheckInCode</th>\n",
       "      <th>AdBlocker</th>\n",
       "      <th>AdBlockerDisable</th>\n",
       "      <th>AdBlockerReasons</th>\n",
       "      <th>AdsAgreeDisagree1</th>\n",
       "      <th>AdsAgreeDisagree2</th>\n",
       "      <th>AdsAgreeDisagree3</th>\n",
       "      <th>AdsActions</th>\n",
       "      <th>AdsPriorities1</th>\n",
       "      <th>AdsPriorities2</th>\n",
       "      <th>AdsPriorities3</th>\n",
       "      <th>AdsPriorities4</th>\n",
       "      <th>AdsPriorities5</th>\n",
       "      <th>AdsPriorities6</th>\n",
       "      <th>AdsPriorities7</th>\n",
       "      <th>AIDangerous</th>\n",
       "      <th>AIInteresting</th>\n",
       "      <th>AIResponsible</th>\n",
       "      <th>AIFuture</th>\n",
       "      <th>EthicsChoice</th>\n",
       "      <th>EthicsReport</th>\n",
       "      <th>EthicsResponsible</th>\n",
       "      <th>EthicalImplications</th>\n",
       "      <th>StackOverflowRecommend</th>\n",
       "      <th>StackOverflowVisit</th>\n",
       "      <th>StackOverflowHasAccount</th>\n",
       "      <th>StackOverflowParticipate</th>\n",
       "      <th>StackOverflowJobs</th>\n",
       "      <th>StackOverflowDevStory</th>\n",
       "      <th>StackOverflowJobsRecommend</th>\n",
       "      <th>StackOverflowConsiderMember</th>\n",
       "      <th>HypotheticalTools1</th>\n",
       "      <th>HypotheticalTools2</th>\n",
       "      <th>HypotheticalTools3</th>\n",
       "      <th>HypotheticalTools4</th>\n",
       "      <th>HypotheticalTools5</th>\n",
       "      <th>WakeTime</th>\n",
       "      <th>HoursComputer</th>\n",
       "      <th>HoursOutside</th>\n",
       "      <th>SkipMeals</th>\n",
       "      <th>ErgonomicDevices</th>\n",
       "      <th>Exercise</th>\n",
       "      <th>Gender</th>\n",
       "      <th>SexualOrientation</th>\n",
       "      <th>EducationParents</th>\n",
       "      <th>RaceEthnicity</th>\n",
       "      <th>Age</th>\n",
       "      <th>Dependents</th>\n",
       "      <th>MilitaryUS</th>\n",
       "      <th>SurveyTooLong</th>\n",
       "      <th>SurveyEasy</th>\n",
       "    </tr>\n",
       "  </thead>\n",
       "  <tbody>\n",
       "    <tr>\n",
       "      <th>False</th>\n",
       "      <td>98855.0</td>\n",
       "      <td>98855.0</td>\n",
       "      <td>98855.0</td>\n",
       "      <td>98443</td>\n",
       "      <td>94901</td>\n",
       "      <td>95321</td>\n",
       "      <td>94703</td>\n",
       "      <td>79036</td>\n",
       "      <td>71531</td>\n",
       "      <td>92098</td>\n",
       "      <td>93835</td>\n",
       "      <td>77903</td>\n",
       "      <td>69276</td>\n",
       "      <td>76504</td>\n",
       "      <td>75718</td>\n",
       "      <td>79488</td>\n",
       "      <td>78889</td>\n",
       "      <td>66985</td>\n",
       "      <td>66985</td>\n",
       "      <td>66985</td>\n",
       "      <td>66985</td>\n",
       "      <td>66985</td>\n",
       "      <td>66985</td>\n",
       "      <td>66985</td>\n",
       "      <td>66985</td>\n",
       "      <td>66985</td>\n",
       "      <td>66985</td>\n",
       "      <td>64918</td>\n",
       "      <td>64918</td>\n",
       "      <td>64918</td>\n",
       "      <td>64918</td>\n",
       "      <td>64918</td>\n",
       "      <td>64918</td>\n",
       "      <td>64918</td>\n",
       "      <td>64918</td>\n",
       "      <td>64918</td>\n",
       "      <td>64918</td>\n",
       "      <td>64917</td>\n",
       "      <td>48706</td>\n",
       "      <td>48706</td>\n",
       "      <td>48706</td>\n",
       "      <td>48706</td>\n",
       "      <td>48706</td>\n",
       "      <td>46213</td>\n",
       "      <td>46213</td>\n",
       "      <td>46213</td>\n",
       "      <td>46213</td>\n",
       "      <td>46213</td>\n",
       "      <td>46213</td>\n",
       "      <td>46213</td>\n",
       "      <td>65539</td>\n",
       "      <td>62008</td>\n",
       "      <td>50578</td>\n",
       "      <td>51070</td>\n",
       "      <td>47702</td>\n",
       "      <td>58650</td>\n",
       "      <td>56970</td>\n",
       "      <td>51872</td>\n",
       "      <td>67960</td>\n",
       "      <td>57354</td>\n",
       "      <td>6652</td>\n",
       "      <td>25691</td>\n",
       "      <td>68217</td>\n",
       "      <td>68346</td>\n",
       "      <td>68364</td>\n",
       "      <td>78334</td>\n",
       "      <td>73244</td>\n",
       "      <td>66270</td>\n",
       "      <td>57498</td>\n",
       "      <td>65999</td>\n",
       "      <td>61353</td>\n",
       "      <td>51620</td>\n",
       "      <td>55218</td>\n",
       "      <td>75398</td>\n",
       "      <td>76179</td>\n",
       "      <td>76398</td>\n",
       "      <td>58981</td>\n",
       "      <td>74298</td>\n",
       "      <td>72355</td>\n",
       "      <td>76055</td>\n",
       "      <td>54898</td>\n",
       "      <td>37745</td>\n",
       "      <td>74485</td>\n",
       "      <td>74413</td>\n",
       "      <td>74414</td>\n",
       "      <td>59514</td>\n",
       "      <td>60479</td>\n",
       "      <td>60479</td>\n",
       "      <td>60479</td>\n",
       "      <td>60479</td>\n",
       "      <td>60479</td>\n",
       "      <td>60479</td>\n",
       "      <td>60479</td>\n",
       "      <td>63115</td>\n",
       "      <td>65367</td>\n",
       "      <td>65553</td>\n",
       "      <td>69728</td>\n",
       "      <td>70782</td>\n",
       "      <td>70426</td>\n",
       "      <td>64540</td>\n",
       "      <td>69309</td>\n",
       "      <td>76489</td>\n",
       "      <td>76811</td>\n",
       "      <td>76791</td>\n",
       "      <td>65740</td>\n",
       "      <td>75297</td>\n",
       "      <td>65677</td>\n",
       "      <td>38317</td>\n",
       "      <td>76007</td>\n",
       "      <td>70068</td>\n",
       "      <td>70052</td>\n",
       "      <td>69999</td>\n",
       "      <td>69986</td>\n",
       "      <td>70045</td>\n",
       "      <td>72146</td>\n",
       "      <td>72133</td>\n",
       "      <td>72024</td>\n",
       "      <td>71946</td>\n",
       "      <td>34058</td>\n",
       "      <td>72108</td>\n",
       "      <td>64469</td>\n",
       "      <td>59765</td>\n",
       "      <td>61813</td>\n",
       "      <td>57473</td>\n",
       "      <td>64574</td>\n",
       "      <td>62596</td>\n",
       "      <td>15781</td>\n",
       "      <td>65941</td>\n",
       "      <td>65879</td>\n",
       "    </tr>\n",
       "    <tr>\n",
       "      <th>True</th>\n",
       "      <td>NaN</td>\n",
       "      <td>NaN</td>\n",
       "      <td>NaN</td>\n",
       "      <td>412</td>\n",
       "      <td>3954</td>\n",
       "      <td>3534</td>\n",
       "      <td>4152</td>\n",
       "      <td>19819</td>\n",
       "      <td>27324</td>\n",
       "      <td>6757</td>\n",
       "      <td>5020</td>\n",
       "      <td>20952</td>\n",
       "      <td>29579</td>\n",
       "      <td>22351</td>\n",
       "      <td>23137</td>\n",
       "      <td>19367</td>\n",
       "      <td>19966</td>\n",
       "      <td>31870</td>\n",
       "      <td>31870</td>\n",
       "      <td>31870</td>\n",
       "      <td>31870</td>\n",
       "      <td>31870</td>\n",
       "      <td>31870</td>\n",
       "      <td>31870</td>\n",
       "      <td>31870</td>\n",
       "      <td>31870</td>\n",
       "      <td>31870</td>\n",
       "      <td>33937</td>\n",
       "      <td>33937</td>\n",
       "      <td>33937</td>\n",
       "      <td>33937</td>\n",
       "      <td>33937</td>\n",
       "      <td>33937</td>\n",
       "      <td>33937</td>\n",
       "      <td>33937</td>\n",
       "      <td>33937</td>\n",
       "      <td>33937</td>\n",
       "      <td>33938</td>\n",
       "      <td>50149</td>\n",
       "      <td>50149</td>\n",
       "      <td>50149</td>\n",
       "      <td>50149</td>\n",
       "      <td>50149</td>\n",
       "      <td>52642</td>\n",
       "      <td>52642</td>\n",
       "      <td>52642</td>\n",
       "      <td>52642</td>\n",
       "      <td>52642</td>\n",
       "      <td>52642</td>\n",
       "      <td>52642</td>\n",
       "      <td>33316</td>\n",
       "      <td>36847</td>\n",
       "      <td>48277</td>\n",
       "      <td>47785</td>\n",
       "      <td>51153</td>\n",
       "      <td>40205</td>\n",
       "      <td>41885</td>\n",
       "      <td>46983</td>\n",
       "      <td>30895</td>\n",
       "      <td>41501</td>\n",
       "      <td>92203</td>\n",
       "      <td>73164</td>\n",
       "      <td>30638</td>\n",
       "      <td>30509</td>\n",
       "      <td>30491</td>\n",
       "      <td>20521</td>\n",
       "      <td>25611</td>\n",
       "      <td>32585</td>\n",
       "      <td>41357</td>\n",
       "      <td>32856</td>\n",
       "      <td>37502</td>\n",
       "      <td>47235</td>\n",
       "      <td>43637</td>\n",
       "      <td>23457</td>\n",
       "      <td>22676</td>\n",
       "      <td>22457</td>\n",
       "      <td>39874</td>\n",
       "      <td>24557</td>\n",
       "      <td>26500</td>\n",
       "      <td>22800</td>\n",
       "      <td>43957</td>\n",
       "      <td>61110</td>\n",
       "      <td>24370</td>\n",
       "      <td>24442</td>\n",
       "      <td>24441</td>\n",
       "      <td>39341</td>\n",
       "      <td>38376</td>\n",
       "      <td>38376</td>\n",
       "      <td>38376</td>\n",
       "      <td>38376</td>\n",
       "      <td>38376</td>\n",
       "      <td>38376</td>\n",
       "      <td>38376</td>\n",
       "      <td>35740</td>\n",
       "      <td>33488</td>\n",
       "      <td>33302</td>\n",
       "      <td>29127</td>\n",
       "      <td>28073</td>\n",
       "      <td>28429</td>\n",
       "      <td>34315</td>\n",
       "      <td>29546</td>\n",
       "      <td>22366</td>\n",
       "      <td>22044</td>\n",
       "      <td>22064</td>\n",
       "      <td>33115</td>\n",
       "      <td>23558</td>\n",
       "      <td>33178</td>\n",
       "      <td>60538</td>\n",
       "      <td>22848</td>\n",
       "      <td>28787</td>\n",
       "      <td>28803</td>\n",
       "      <td>28856</td>\n",
       "      <td>28869</td>\n",
       "      <td>28810</td>\n",
       "      <td>26709</td>\n",
       "      <td>26722</td>\n",
       "      <td>26831</td>\n",
       "      <td>26909</td>\n",
       "      <td>64797</td>\n",
       "      <td>26747</td>\n",
       "      <td>34386</td>\n",
       "      <td>39090</td>\n",
       "      <td>37042</td>\n",
       "      <td>41382</td>\n",
       "      <td>34281</td>\n",
       "      <td>36259</td>\n",
       "      <td>83074</td>\n",
       "      <td>32914</td>\n",
       "      <td>32976</td>\n",
       "    </tr>\n",
       "  </tbody>\n",
       "</table>\n",
       "</div>"
      ],
      "text/plain": [
       "       Respondent    Hobby  OpenSource  Country  Student  Employment  FormalEducation  UndergradMajor  CompanySize  DevType  YearsCoding  YearsCodingProf  JobSatisfaction  CareerSatisfaction  HopeFiveYears  JobSearchStatus  LastNewJob  AssessJob1  AssessJob2  AssessJob3  AssessJob4  AssessJob5  AssessJob6  AssessJob7  AssessJob8  AssessJob9  AssessJob10  AssessBenefits1  AssessBenefits2  AssessBenefits3  AssessBenefits4  AssessBenefits5  AssessBenefits6  AssessBenefits7  AssessBenefits8  AssessBenefits9  AssessBenefits10  AssessBenefits11  JobContactPriorities1  JobContactPriorities2  JobContactPriorities3  JobContactPriorities4  JobContactPriorities5  JobEmailPriorities1  JobEmailPriorities2  JobEmailPriorities3  JobEmailPriorities4  JobEmailPriorities5  JobEmailPriorities6  JobEmailPriorities7  UpdateCV  Currency  Salary  SalaryType  ConvertedSalary  CurrencySymbol  CommunicationTools  TimeFullyProductive  EducationTypes  SelfTaughtTypes  TimeAfterBootcamp  HackathonReasons  \\\n",
       "False     98855.0  98855.0     98855.0    98443    94901       95321            94703           79036        71531    92098        93835            77903            69276               76504          75718            79488       78889       66985       66985       66985       66985       66985       66985       66985       66985       66985        66985            64918            64918            64918            64918            64918            64918            64918            64918            64918             64918             64917                  48706                  48706                  48706                  48706                  48706                46213                46213                46213                46213                46213                46213                46213     65539     62008   50578       51070            47702           58650               56970                51872           67960            57354               6652             25691   \n",
       "True          NaN      NaN         NaN      412     3954        3534             4152           19819        27324     6757         5020            20952            29579               22351          23137            19367       19966       31870       31870       31870       31870       31870       31870       31870       31870       31870        31870            33937            33937            33937            33937            33937            33937            33937            33937            33937             33937             33938                  50149                  50149                  50149                  50149                  50149                52642                52642                52642                52642                52642                52642                52642     33316     36847   48277       47785            51153           40205               41885                46983           30895            41501              92203             73164   \n",
       "\n",
       "       AgreeDisagree1  AgreeDisagree2  AgreeDisagree3  LanguageWorkedWith  LanguageDesireNextYear  DatabaseWorkedWith  DatabaseDesireNextYear  PlatformWorkedWith  PlatformDesireNextYear  FrameworkWorkedWith  FrameworkDesireNextYear    IDE  OperatingSystem  NumberMonitors  Methodology  VersionControl  CheckInCode  AdBlocker  AdBlockerDisable  AdBlockerReasons  AdsAgreeDisagree1  AdsAgreeDisagree2  AdsAgreeDisagree3  AdsActions  AdsPriorities1  AdsPriorities2  AdsPriorities3  AdsPriorities4  AdsPriorities5  AdsPriorities6  AdsPriorities7  AIDangerous  AIInteresting  AIResponsible  AIFuture  EthicsChoice  EthicsReport  EthicsResponsible  EthicalImplications  StackOverflowRecommend  StackOverflowVisit  StackOverflowHasAccount  StackOverflowParticipate  StackOverflowJobs  StackOverflowDevStory  StackOverflowJobsRecommend  StackOverflowConsiderMember  HypotheticalTools1  HypotheticalTools2  HypotheticalTools3  HypotheticalTools4  HypotheticalTools5  WakeTime  HoursComputer  HoursOutside  \\\n",
       "False           68217           68346           68364               78334                   73244               66270                   57498               65999                   61353                51620                    55218  75398            76179           76398        58981           74298        72355      76055             54898             37745              74485              74413              74414       59514           60479           60479           60479           60479           60479           60479           60479        63115          65367          65553     69728         70782         70426              64540                69309                   76489               76811                    76791                     65740              75297                  65677                       38317                        76007               70068               70052               69999               69986               70045     72146          72133         72024   \n",
       "True            30638           30509           30491               20521                   25611               32585                   41357               32856                   37502                47235                    43637  23457            22676           22457        39874           24557        26500      22800             43957             61110              24370              24442              24441       39341           38376           38376           38376           38376           38376           38376           38376        35740          33488          33302     29127         28073         28429              34315                29546                   22366               22044                    22064                     33115              23558                  33178                       60538                        22848               28787               28803               28856               28869               28810     26709          26722         26831   \n",
       "\n",
       "       SkipMeals  ErgonomicDevices  Exercise  Gender  SexualOrientation  EducationParents  RaceEthnicity    Age  Dependents  MilitaryUS  SurveyTooLong  SurveyEasy  \n",
       "False      71946             34058     72108   64469              59765             61813          57473  64574       62596       15781          65941       65879  \n",
       "True       26909             64797     26747   34386              39090             37042          41382  34281       36259       83074          32914       32976  "
      ]
     },
     "execution_count": 23,
     "metadata": {},
     "output_type": "execute_result"
    }
   ],
   "source": [
    "df.isna().apply(pd.value_counts)"
   ]
  },
  {
   "cell_type": "markdown",
   "metadata": {},
   "source": [
    "- Number of missing values in each of the columns\n",
    "- Treating missing values is beyond the scope of this notebook, hence we will ignore it for now"
   ]
  },
  {
   "cell_type": "code",
   "execution_count": 24,
   "metadata": {},
   "outputs": [
    {
     "data": {
      "text/plain": [
       "Index(['Respondent', 'Hobby', 'OpenSource', 'Country', 'Student', 'Employment', 'FormalEducation', 'UndergradMajor', 'CompanySize', 'DevType',\n",
       "       ...\n",
       "       'Exercise', 'Gender', 'SexualOrientation', 'EducationParents', 'RaceEthnicity', 'Age', 'Dependents', 'MilitaryUS', 'SurveyTooLong', 'SurveyEasy'], dtype='object', length=129)"
      ]
     },
     "execution_count": 24,
     "metadata": {},
     "output_type": "execute_result"
    }
   ],
   "source": [
    "df.columns"
   ]
  },
  {
   "cell_type": "code",
   "execution_count": 25,
   "metadata": {},
   "outputs": [
    {
     "data": {
      "text/plain": [
       "array(['Respondent', 'Hobby', 'OpenSource', 'Country', 'Student',\n",
       "       'Employment', 'FormalEducation', 'UndergradMajor', 'CompanySize',\n",
       "       'DevType', 'YearsCoding', 'YearsCodingProf', 'JobSatisfaction',\n",
       "       'CareerSatisfaction', 'HopeFiveYears', 'JobSearchStatus',\n",
       "       'LastNewJob', 'AssessJob1', 'AssessJob2', 'AssessJob3',\n",
       "       'AssessJob4', 'AssessJob5', 'AssessJob6', 'AssessJob7',\n",
       "       'AssessJob8', 'AssessJob9', 'AssessJob10', 'AssessBenefits1',\n",
       "       'AssessBenefits2', 'AssessBenefits3', 'AssessBenefits4',\n",
       "       'AssessBenefits5', 'AssessBenefits6', 'AssessBenefits7',\n",
       "       'AssessBenefits8', 'AssessBenefits9', 'AssessBenefits10',\n",
       "       'AssessBenefits11', 'JobContactPriorities1',\n",
       "       'JobContactPriorities2', 'JobContactPriorities3',\n",
       "       'JobContactPriorities4', 'JobContactPriorities5',\n",
       "       'JobEmailPriorities1', 'JobEmailPriorities2',\n",
       "       'JobEmailPriorities3', 'JobEmailPriorities4',\n",
       "       'JobEmailPriorities5', 'JobEmailPriorities6',\n",
       "       'JobEmailPriorities7', 'UpdateCV', 'Currency', 'Salary',\n",
       "       'SalaryType', 'ConvertedSalary', 'CurrencySymbol',\n",
       "       'CommunicationTools', 'TimeFullyProductive', 'EducationTypes',\n",
       "       'SelfTaughtTypes', 'TimeAfterBootcamp', 'HackathonReasons',\n",
       "       'AgreeDisagree1', 'AgreeDisagree2', 'AgreeDisagree3',\n",
       "       'LanguageWorkedWith', 'LanguageDesireNextYear',\n",
       "       'DatabaseWorkedWith', 'DatabaseDesireNextYear',\n",
       "       'PlatformWorkedWith', 'PlatformDesireNextYear',\n",
       "       'FrameworkWorkedWith', 'FrameworkDesireNextYear', 'IDE',\n",
       "       'OperatingSystem', 'NumberMonitors', 'Methodology',\n",
       "       'VersionControl', 'CheckInCode', 'AdBlocker', 'AdBlockerDisable',\n",
       "       'AdBlockerReasons', 'AdsAgreeDisagree1', 'AdsAgreeDisagree2',\n",
       "       'AdsAgreeDisagree3', 'AdsActions', 'AdsPriorities1',\n",
       "       'AdsPriorities2', 'AdsPriorities3', 'AdsPriorities4',\n",
       "       'AdsPriorities5', 'AdsPriorities6', 'AdsPriorities7',\n",
       "       'AIDangerous', 'AIInteresting', 'AIResponsible', 'AIFuture',\n",
       "       'EthicsChoice', 'EthicsReport', 'EthicsResponsible',\n",
       "       'EthicalImplications', 'StackOverflowRecommend',\n",
       "       'StackOverflowVisit', 'StackOverflowHasAccount',\n",
       "       'StackOverflowParticipate', 'StackOverflowJobs',\n",
       "       'StackOverflowDevStory', 'StackOverflowJobsRecommend',\n",
       "       'StackOverflowConsiderMember', 'HypotheticalTools1',\n",
       "       'HypotheticalTools2', 'HypotheticalTools3', 'HypotheticalTools4',\n",
       "       'HypotheticalTools5', 'WakeTime', 'HoursComputer', 'HoursOutside',\n",
       "       'SkipMeals', 'ErgonomicDevices', 'Exercise', 'Gender',\n",
       "       'SexualOrientation', 'EducationParents', 'RaceEthnicity', 'Age',\n",
       "       'Dependents', 'MilitaryUS', 'SurveyTooLong', 'SurveyEasy'],\n",
       "      dtype=object)"
      ]
     },
     "execution_count": 25,
     "metadata": {},
     "output_type": "execute_result"
    }
   ],
   "source": [
    "np.array(df.columns)"
   ]
  },
  {
   "cell_type": "code",
   "execution_count": 26,
   "metadata": {},
   "outputs": [
    {
     "data": {
      "text/plain": [
       "Index(['Country'], dtype='object')"
      ]
     },
     "execution_count": 26,
     "metadata": {},
     "output_type": "execute_result"
    }
   ],
   "source": [
    "df_1 = pd.DataFrame(df.Country.value_counts().head(25))\n",
    "df_1.columns"
   ]
  },
  {
   "cell_type": "markdown",
   "metadata": {},
   "source": [
    "- For convinence, we have only displayed the top five countries\n",
    "- To get a broader picture, we can create a barplot"
   ]
  },
  {
   "cell_type": "code",
   "execution_count": 27,
   "metadata": {},
   "outputs": [
    {
     "data": {
      "image/png": "[encoded data removed]",
      "text/plain": [
       "<Figure size 1080x360 with 1 Axes>"
      ]
     },
     "metadata": {
      "needs_background": "light"
     },
     "output_type": "display_data"
    }
   ],
   "source": [
    "df.Country.value_counts().head(25).plot(kind = 'bar', edgecolor = 'black', color = 'lightblue', figsize = (15,5))\n",
    "plt.xlabel('Country')\n",
    "plt.ylabel('Number of users')\n",
    "plt.title('Top 25 countries in terms of userbase')\n",
    "plt.show()"
   ]
  },
  {
   "cell_type": "markdown",
   "metadata": {},
   "source": [
    "- The above are top 25 countries in terms of userbase\n",
    "- In the above plot, we can add another detail and make a stacked barchart"
   ]
  },
  {
   "cell_type": "code",
   "execution_count": 28,
   "metadata": {},
   "outputs": [
    {
     "ename": "NameError",
     "evalue": "name 'top25' is not defined",
     "output_type": "error",
     "traceback": [
      "\u001b[1;31m---------------------------------------------------------------------------\u001b[0m",
      "\u001b[1;31mNameError\u001b[0m                                 Traceback (most recent call last)",
      "\u001b[1;32m<ipython-input-28-ea9d571624e6>\u001b[0m in \u001b[0;36m<module>\u001b[1;34m\u001b[0m\n\u001b[1;32m----> 1\u001b[1;33m \u001b[0mtop25\u001b[0m\u001b[1;33m.\u001b[0m\u001b[0mhead\u001b[0m\u001b[1;33m(\u001b[0m\u001b[1;36m2\u001b[0m\u001b[1;33m)\u001b[0m\u001b[1;33m\u001b[0m\u001b[1;33m\u001b[0m\u001b[0m\n\u001b[0m",
      "\u001b[1;31mNameError\u001b[0m: name 'top25' is not defined"
     ]
    }
   ],
   "source": [
    "top25.head(2)"
   ]
  },
  {
   "cell_type": "code",
   "execution_count": 29,
   "metadata": {},
   "outputs": [
    {
     "ename": "NameError",
     "evalue": "name 'top25' is not defined",
     "output_type": "error",
     "traceback": [
      "\u001b[1;31m---------------------------------------------------------------------------\u001b[0m",
      "\u001b[1;31mNameError\u001b[0m                                 Traceback (most recent call last)",
      "\u001b[1;32m<ipython-input-29-b0524543ee07>\u001b[0m in \u001b[0;36m<module>\u001b[1;34m\u001b[0m\n\u001b[1;32m----> 1\u001b[1;33m \u001b[0mpd\u001b[0m\u001b[1;33m.\u001b[0m\u001b[0mcrosstab\u001b[0m\u001b[1;33m(\u001b[0m\u001b[0mtop25\u001b[0m\u001b[1;33m.\u001b[0m\u001b[0mCountry\u001b[0m\u001b[1;33m,\u001b[0m \u001b[0mtop25\u001b[0m\u001b[1;33m.\u001b[0m\u001b[0mOpenSource\u001b[0m\u001b[1;33m)\u001b[0m\u001b[1;33m\u001b[0m\u001b[1;33m\u001b[0m\u001b[0m\n\u001b[0m",
      "\u001b[1;31mNameError\u001b[0m: name 'top25' is not defined"
     ]
    }
   ],
   "source": [
    "pd.crosstab(top25.Country, top25.OpenSource)"
   ]
  },
  {
   "cell_type": "code",
   "execution_count": 30,
   "metadata": {},
   "outputs": [
    {
     "data": {
      "text/plain": [
       "Index(['United States', 'India', 'Germany', 'United Kingdom', 'Canada', 'Russian Federation', 'France', 'Brazil', 'Poland', 'Australia', 'Netherlands', 'Spain', 'Italy', 'Ukraine', 'Sweden', 'Pakistan', 'China', 'Switzerland', 'Turkey', 'Israel', 'Iran, Islamic Republic of...', 'Romania', 'Austria', 'Czech Republic', 'Belgium'], dtype='object')"
      ]
     },
     "execution_count": 30,
     "metadata": {},
     "output_type": "execute_result"
    }
   ],
   "source": [
    "df.Country.value_counts().head(25).index"
   ]
  },
  {
   "cell_type": "code",
   "execution_count": 31,
   "metadata": {},
   "outputs": [
    {
     "ename": "NameError",
     "evalue": "name 'top25' is not defined",
     "output_type": "error",
     "traceback": [
      "\u001b[1;31m---------------------------------------------------------------------------\u001b[0m",
      "\u001b[1;31mNameError\u001b[0m                                 Traceback (most recent call last)",
      "\u001b[1;32m<ipython-input-31-12dbcbbc4274>\u001b[0m in \u001b[0;36m<module>\u001b[1;34m\u001b[0m\n\u001b[1;32m----> 1\u001b[1;33m \u001b[0mpd\u001b[0m\u001b[1;33m.\u001b[0m\u001b[0mcrosstab\u001b[0m\u001b[1;33m(\u001b[0m\u001b[0mtop25\u001b[0m\u001b[1;33m.\u001b[0m\u001b[0mCountry\u001b[0m\u001b[1;33m,\u001b[0m \u001b[0mtop25\u001b[0m\u001b[1;33m.\u001b[0m\u001b[0mOpenSource\u001b[0m\u001b[1;33m)\u001b[0m\u001b[1;33m.\u001b[0m\u001b[0mloc\u001b[0m\u001b[1;33m[\u001b[0m\u001b[0mdf\u001b[0m\u001b[1;33m.\u001b[0m\u001b[0mCountry\u001b[0m\u001b[1;33m.\u001b[0m\u001b[0mvalue_counts\u001b[0m\u001b[1;33m(\u001b[0m\u001b[1;33m)\u001b[0m\u001b[1;33m.\u001b[0m\u001b[0mhead\u001b[0m\u001b[1;33m(\u001b[0m\u001b[1;36m25\u001b[0m\u001b[1;33m)\u001b[0m\u001b[1;33m.\u001b[0m\u001b[0mindex\u001b[0m\u001b[1;33m,\u001b[0m\u001b[1;33m:\u001b[0m\u001b[1;33m]\u001b[0m\u001b[1;33m\u001b[0m\u001b[1;33m\u001b[0m\u001b[0m\n\u001b[0m",
      "\u001b[1;31mNameError\u001b[0m: name 'top25' is not defined"
     ]
    }
   ],
   "source": [
    "pd.crosstab(top25.Country, top25.OpenSource).loc[df.Country.value_counts().head(25).index,:]"
   ]
  },
  {
   "cell_type": "code",
   "execution_count": 32,
   "metadata": {},
   "outputs": [
    {
     "data": {
      "image/png": "[encoded data removed]",
      "text/plain": [
       "<Figure size 1080x360 with 1 Axes>"
      ]
     },
     "metadata": {
      "needs_background": "light"
     },
     "output_type": "display_data"
    }
   ],
   "source": [
    "top25 = df.loc[df.Country.isin(df.Country.value_counts().head(25).index), :]\n",
    "\n",
    "# df.Country.value_counts().head(25).index gives the list of top 25 countries,\n",
    "#isin() checks if any of the list elements is present in the df.Country series\n",
    "\n",
    "\n",
    "pd.crosstab(top25.Country, top25.OpenSource).plot(kind = 'bar', edgecolor = 'black',\n",
    "                                             color = ['lightblue', 'lightgreen'], figsize = (15,5))\n",
    "plt.xlabel('Country')\n",
    "plt.ylabel('Number of users')\n",
    "plt.title('Top 25 countries in terms of userbase, segregated by their contribution to open source projects')\n",
    "plt.show()"
   ]
  },
  {
   "cell_type": "markdown",
   "metadata": {},
   "source": [
    "- The green bars indicate the population that contributes to open source projects and the blue indicates the rest\n",
    "- If we want to the bars to be sorted the same way as the earlier plot, we can index the crosstabdata in that order"
   ]
  },
  {
   "cell_type": "code",
   "execution_count": 33,
   "metadata": {},
   "outputs": [],
   "source": [
    "# df_crosstab = pd.crosstab(top25.Country, top25.OpenSource).reset_index()\n",
    "# df_crosstab.head()"
   ]
  },
  {
   "cell_type": "code",
   "execution_count": 34,
   "metadata": {},
   "outputs": [],
   "source": [
    "# df_crosstab = pd.crosstab(top25.Country, top25.OpenSource).reset_index()\n",
    "\n",
    "# # df_crosstab\n",
    "# x1 = df_crosstab.melt(id_vars=['Country'], value_vars=['No','Yes'])\n",
    "# x1.head(30)"
   ]
  },
  {
   "cell_type": "code",
   "execution_count": 35,
   "metadata": {},
   "outputs": [],
   "source": [
    "# # x1['Country']= x['Country'].astype('category')\n",
    "# plt.figure(figsize = (15,5))\n",
    "# sns.barplot(x =\"Country\", y ='value', hue= \"OpenSource\", data = x1)\n",
    "# plt.xticks(rotation = 90);"
   ]
  },
  {
   "cell_type": "code",
   "execution_count": 36,
   "metadata": {},
   "outputs": [
    {
     "data": {
      "image/png": "[encoded data removed]",
      "text/plain": [
       "<Figure size 1080x360 with 1 Axes>"
      ]
     },
     "metadata": {
      "needs_background": "light"
     },
     "output_type": "display_data"
    }
   ],
   "source": [
    "pd.crosstab(top25.Country, top25.OpenSource).loc[df.Country.value_counts().head(25).index,:].plot(kind = 'bar', \n",
    "                                                                                                  edgecolor = 'black',\n",
    "                                                                                                  color = ['lightblue',\n",
    "                                                                                                           'lightgreen'],\n",
    "                                                                                                  figsize = (15,5))\n",
    "\n",
    "\n",
    "plt.xlabel('Country')\n",
    "plt.ylabel('Number of users')\n",
    "plt.title('Top 25 countries in terms of userbase, segregated by their contribution to open source projects')\n",
    "plt.show()"
   ]
  },
  {
   "cell_type": "markdown",
   "metadata": {},
   "source": [
    "- Proportionally, Indian users seem to be contributing more for open source projects than most other countries\n",
    "- In case of Turky, the two categories are almost the same\n",
    "- In case of Iran, the open source contributors are more compared to the ones that do not contribute"
   ]
  },
  {
   "cell_type": "code",
   "execution_count": 37,
   "metadata": {},
   "outputs": [
    {
     "data": {
      "image/png": "[encoded data removed]",
      "text/plain": [
       "<Figure size 1080x360 with 1 Axes>"
      ]
     },
     "metadata": {
      "needs_background": "light"
     },
     "output_type": "display_data"
    }
   ],
   "source": [
    "pd.crosstab(top25.Country, top25.OpenSource).loc[df.Country.value_counts().head(25).index,:].plot(kind = 'bar', \n",
    "                                                                                                  stacked = True,\n",
    "                                                                                                  edgecolor = 'black',\n",
    "                                                                                                  color = ['lightblue',\n",
    "                                                                                                           'lightgreen'],\n",
    "                                                                                                  figsize = (15,5))\n",
    "\n",
    "\n",
    "plt.xlabel('Country')\n",
    "plt.ylabel('Number of users')\n",
    "plt.title('Top 25 countries in terms of userbase, segregated by their contribution to open source projects')\n",
    "plt.show()"
   ]
  },
  {
   "cell_type": "markdown",
   "metadata": {},
   "source": [
    "**Task for student**: Write a piece of code to plot the number of users who code as a hobby vs number of users who do not, by country (consider the top 10 countries in terms of user base).  use: \"Hobby\" column.\n",
    "\n",
    "_Let's explore the various job titles that users hold_"
   ]
  },
  {
   "cell_type": "code",
   "execution_count": 38,
   "metadata": {},
   "outputs": [
    {
     "data": {
      "text/plain": [
       "array(['Full-stack developer',\n",
       "       'Database administrator;DevOps specialist;Full-stack developer;System administrator',\n",
       "       'Engineering manager;Full-stack developer', ...,\n",
       "       'Back-end developer;Data or business analyst;Data scientist or machine learning specialist;Database administrator;Designer;Desktop or enterprise applications developer;Front-end developer;Mobile developer;Student;System administrator',\n",
       "       'Back-end developer;Designer;Embedded applications or devices developer;Front-end developer;Game or graphics developer',\n",
       "       'C-suite executive (CEO, CTO, etc.);Designer;Front-end developer;Product manager'],\n",
       "      dtype=object)"
      ]
     },
     "execution_count": 38,
     "metadata": {},
     "output_type": "execute_result"
    }
   ],
   "source": [
    "df.DevType.unique()"
   ]
  },
  {
   "cell_type": "markdown",
   "metadata": {},
   "source": [
    "- A lot of entries have composite job titles\n",
    "- We have to write some additional steps to seperate the titles"
   ]
  },
  {
   "cell_type": "code",
   "execution_count": 39,
   "metadata": {},
   "outputs": [
    {
     "ename": "AttributeError",
     "evalue": "'float' object has no attribute 'split'",
     "output_type": "error",
     "traceback": [
      "\u001b[1;31m---------------------------------------------------------------------------\u001b[0m",
      "\u001b[1;31mAttributeError\u001b[0m                            Traceback (most recent call last)",
      "\u001b[1;32m<ipython-input-39-9125afdcf734>\u001b[0m in \u001b[0;36m<module>\u001b[1;34m\u001b[0m\n\u001b[1;32m----> 1\u001b[1;33m \u001b[0mdf\u001b[0m\u001b[1;33m.\u001b[0m\u001b[0mDevType\u001b[0m\u001b[1;33m.\u001b[0m\u001b[0mapply\u001b[0m\u001b[1;33m(\u001b[0m\u001b[1;32mlambda\u001b[0m \u001b[0mx\u001b[0m\u001b[1;33m:\u001b[0m \u001b[0mx\u001b[0m\u001b[1;33m.\u001b[0m\u001b[0msplit\u001b[0m\u001b[1;33m(\u001b[0m\u001b[0msep\u001b[0m \u001b[1;33m=\u001b[0m \u001b[1;34m';'\u001b[0m\u001b[1;33m)\u001b[0m\u001b[1;33m)\u001b[0m\u001b[1;33m\u001b[0m\u001b[1;33m\u001b[0m\u001b[0m\n\u001b[0m",
      "\u001b[1;32m~\\Anaconda3\\lib\\site-packages\\pandas\\core\\series.py\u001b[0m in \u001b[0;36mapply\u001b[1;34m(self, func, convert_dtype, args, **kwds)\u001b[0m\n\u001b[0;32m   3846\u001b[0m             \u001b[1;32melse\u001b[0m\u001b[1;33m:\u001b[0m\u001b[1;33m\u001b[0m\u001b[1;33m\u001b[0m\u001b[0m\n\u001b[0;32m   3847\u001b[0m                 \u001b[0mvalues\u001b[0m \u001b[1;33m=\u001b[0m \u001b[0mself\u001b[0m\u001b[1;33m.\u001b[0m\u001b[0mastype\u001b[0m\u001b[1;33m(\u001b[0m\u001b[0mobject\u001b[0m\u001b[1;33m)\u001b[0m\u001b[1;33m.\u001b[0m\u001b[0mvalues\u001b[0m\u001b[1;33m\u001b[0m\u001b[1;33m\u001b[0m\u001b[0m\n\u001b[1;32m-> 3848\u001b[1;33m                 \u001b[0mmapped\u001b[0m \u001b[1;33m=\u001b[0m \u001b[0mlib\u001b[0m\u001b[1;33m.\u001b[0m\u001b[0mmap_infer\u001b[0m\u001b[1;33m(\u001b[0m\u001b[0mvalues\u001b[0m\u001b[1;33m,\u001b[0m \u001b[0mf\u001b[0m\u001b[1;33m,\u001b[0m \u001b[0mconvert\u001b[0m\u001b[1;33m=\u001b[0m\u001b[0mconvert_dtype\u001b[0m\u001b[1;33m)\u001b[0m\u001b[1;33m\u001b[0m\u001b[1;33m\u001b[0m\u001b[0m\n\u001b[0m\u001b[0;32m   3849\u001b[0m \u001b[1;33m\u001b[0m\u001b[0m\n\u001b[0;32m   3850\u001b[0m         \u001b[1;32mif\u001b[0m \u001b[0mlen\u001b[0m\u001b[1;33m(\u001b[0m\u001b[0mmapped\u001b[0m\u001b[1;33m)\u001b[0m \u001b[1;32mand\u001b[0m \u001b[0misinstance\u001b[0m\u001b[1;33m(\u001b[0m\u001b[0mmapped\u001b[0m\u001b[1;33m[\u001b[0m\u001b[1;36m0\u001b[0m\u001b[1;33m]\u001b[0m\u001b[1;33m,\u001b[0m \u001b[0mSeries\u001b[0m\u001b[1;33m)\u001b[0m\u001b[1;33m:\u001b[0m\u001b[1;33m\u001b[0m\u001b[1;33m\u001b[0m\u001b[0m\n",
      "\u001b[1;32mpandas\\_libs\\lib.pyx\u001b[0m in \u001b[0;36mpandas._libs.lib.map_infer\u001b[1;34m()\u001b[0m\n",
      "\u001b[1;32m<ipython-input-39-9125afdcf734>\u001b[0m in \u001b[0;36m<lambda>\u001b[1;34m(x)\u001b[0m\n\u001b[1;32m----> 1\u001b[1;33m \u001b[0mdf\u001b[0m\u001b[1;33m.\u001b[0m\u001b[0mDevType\u001b[0m\u001b[1;33m.\u001b[0m\u001b[0mapply\u001b[0m\u001b[1;33m(\u001b[0m\u001b[1;32mlambda\u001b[0m \u001b[0mx\u001b[0m\u001b[1;33m:\u001b[0m \u001b[0mx\u001b[0m\u001b[1;33m.\u001b[0m\u001b[0msplit\u001b[0m\u001b[1;33m(\u001b[0m\u001b[0msep\u001b[0m \u001b[1;33m=\u001b[0m \u001b[1;34m';'\u001b[0m\u001b[1;33m)\u001b[0m\u001b[1;33m)\u001b[0m\u001b[1;33m\u001b[0m\u001b[1;33m\u001b[0m\u001b[0m\n\u001b[0m",
      "\u001b[1;31mAttributeError\u001b[0m: 'float' object has no attribute 'split'"
     ]
    }
   ],
   "source": [
    "df.DevType.apply(lambda x: x.split(sep = ';'))"
   ]
  },
  {
   "cell_type": "markdown",
   "metadata": {},
   "source": [
    "- The reason for the above error is the presence of NaN values in the data\n",
    "- We can avoid it by using **try & except** block"
   ]
  },
  {
   "cell_type": "code",
   "execution_count": 42,
   "metadata": {},
   "outputs": [],
   "source": [
    "def split_title(title):\n",
    "    try:\n",
    "        return title.split(sep = ';')\n",
    "    except:\n",
    "        return []"
   ]
  },
  {
   "cell_type": "code",
   "execution_count": 43,
   "metadata": {},
   "outputs": [
    {
     "data": {
      "text/plain": [
       "0                               [Full-stack developer]\n",
       "1    [Database administrator, DevOps specialist, Fu...\n",
       "2          [Engineering manager, Full-stack developer]\n",
       "3                               [Full-stack developer]\n",
       "4    [Data or business analyst, Desktop or enterpri...\n",
       "Name: DevType, dtype: object"
      ]
     },
     "execution_count": 43,
     "metadata": {},
     "output_type": "execute_result"
    }
   ],
   "source": [
    "titles = df.DevType.apply(lambda x: split_title(x))\n",
    "titles.head()"
   ]
  },
  {
   "cell_type": "markdown",
   "metadata": {},
   "source": [
    "- What we are getting in the above code is a series of lists\n",
    "- The next step would be to combine these lists"
   ]
  },
  {
   "cell_type": "code",
   "execution_count": 44,
   "metadata": {},
   "outputs": [],
   "source": [
    "title_list = []\n",
    "\n",
    "for composite_title in df.DevType:\n",
    "    title_list.extend(split_title(composite_title))"
   ]
  },
  {
   "cell_type": "code",
   "execution_count": 45,
   "metadata": {},
   "outputs": [
    {
     "data": {
      "text/plain": [
       "20"
      ]
     },
     "execution_count": 45,
     "metadata": {},
     "output_type": "execute_result"
    }
   ],
   "source": [
    "len(np.unique(title_list))"
   ]
  },
  {
   "cell_type": "markdown",
   "metadata": {},
   "source": [
    "- The above list contains all the job titles of the user base\n",
    "- There are 20 unique job titles in the user pool\n",
    "- Beyond just the job titles we can also get the count of individual job titles and see the proportion of each job title in the user pool"
   ]
  },
  {
   "cell_type": "code",
   "execution_count": 46,
   "metadata": {},
   "outputs": [
    {
     "name": "stdout",
     "output_type": "stream",
     "text": [
      "276105\n"
     ]
    },
    {
     "data": {
      "text/plain": [
       "['Full-stack developer',\n",
       " 'Database administrator',\n",
       " 'DevOps specialist',\n",
       " 'Full-stack developer',\n",
       " 'System administrator',\n",
       " 'Engineering manager',\n",
       " 'Full-stack developer',\n",
       " 'Full-stack developer',\n",
       " 'Data or business analyst',\n",
       " 'Desktop or enterprise applications developer']"
      ]
     },
     "execution_count": 46,
     "metadata": {},
     "output_type": "execute_result"
    }
   ],
   "source": [
    "print(len(title_list))\n",
    "title_list[:10]"
   ]
  },
  {
   "cell_type": "code",
   "execution_count": 47,
   "metadata": {},
   "outputs": [
    {
     "data": {
      "text/plain": [
       "Back-end developer                               53300\n",
       "Full-stack developer                             44353\n",
       "Front-end developer                              34822\n",
       "Mobile developer                                 18804\n",
       "Desktop or enterprise applications developer     15807\n",
       "Student                                          15732\n",
       "Database administrator                           13216\n",
       "Designer                                         12019\n",
       "System administrator                             10375\n",
       "DevOps specialist                                 9549\n",
       "Data or business analyst                          7559\n",
       "Data scientist or machine learning specialist     7088\n",
       "QA or test developer                              6194\n",
       "Engineering manager                               5256\n",
       "Embedded applications or devices developer        4819\n",
       "Game or graphics developer                        4642\n",
       "Product manager                                   4316\n",
       "Educator or academic researcher                   3641\n",
       "C-suite executive (CEO, CTO, etc.)                3491\n",
       "Marketing or sales professional                   1122\n",
       "dtype: int64"
      ]
     },
     "execution_count": 47,
     "metadata": {},
     "output_type": "execute_result"
    }
   ],
   "source": [
    "series = pd.Series(title_list).value_counts()\n",
    "series"
   ]
  },
  {
   "cell_type": "code",
   "execution_count": 48,
   "metadata": {},
   "outputs": [
    {
     "data": {
      "text/plain": [
       "Back-end developer                               53300\n",
       "Full-stack developer                             44353\n",
       "Front-end developer                              34822\n",
       "Mobile developer                                 18804\n",
       "Desktop or enterprise applications developer     15807\n",
       "Student                                          15732\n",
       "Database administrator                           13216\n",
       "Designer                                         12019\n",
       "System administrator                             10375\n",
       "DevOps specialist                                 9549\n",
       "Data or business analyst                          7559\n",
       "Data scientist or machine learning specialist     7088\n",
       "QA or test developer                              6194\n",
       "Engineering manager                               5256\n",
       "Embedded applications or devices developer        4819\n",
       "Game or graphics developer                        4642\n",
       "Product manager                                   4316\n",
       "Educator or academic researcher                   3641\n",
       "C-suite executive (CEO, CTO, etc.)                3491\n",
       "Marketing or sales professional                   1122\n",
       "dtype: int64"
      ]
     },
     "execution_count": 48,
     "metadata": {},
     "output_type": "execute_result"
    }
   ],
   "source": []
  },
  {
   "cell_type": "code",
   "execution_count": 52,
   "metadata": {},
   "outputs": [
    {
     "data": {
      "image/png": "[encoded data removed]",
      "text/plain": [
       "<Figure size 1080x1080 with 1 Axes>"
      ]
     },
     "metadata": {},
     "output_type": "display_data"
    }
   ],
   "source": [
    "series = pd.Series(title_list).value_counts()\n",
    " \n",
    "explode = np.zeros(len(series))\n",
    "\n",
    "indices = series.index.isin(['Data or business analyst', 'Data scientist or machine learning specialist'])\n",
    "\n",
    "explode[indices] = 0.1\n",
    "\n",
    "plt.figure(figsize=(15,15))\n",
    "\n",
    "plt.pie(series, \n",
    "        labels = series.index, \n",
    "        autopct='%.1f%%',\n",
    "        shadow = True, \n",
    "        explode = explode,\n",
    "        textprops={'fontsize': 14}\n",
    "       )\n",
    "\n",
    "plt.show()"
   ]
  },
  {
   "cell_type": "markdown",
   "metadata": {},
   "source": [
    "- The proportion of users who are in analytics or ML field are about 5.3%\n",
    "- Close to 50% of the cohort are web developers\n",
    "- You can observe the proportion other jobs \n",
    "\n",
    "**code explanation**: We got the frequency of job titles from title_list, by converting it to series and using the pd.value_counts method. Using these frequency counts, we made a pie chart. To pop the two specific job titles, we got a boolean array of series where the value is equal to the specific job title. We used this boolean array to index an array of zeros and replace the values in the array with a non-zero number\n",
    "https://www.w3schools.com/python/matplotlib_pie_charts.asp\n",
    "\n",
    "_Let's take a subset of the data that describes only the analysts_"
   ]
  },
  {
   "cell_type": "code",
   "execution_count": 53,
   "metadata": {},
   "outputs": [],
   "source": [
    "analysts = df.loc[df.DevType.isin(['Data or business analyst', 'Data scientist or machine learning specialist']), :]"
   ]
  },
  {
   "cell_type": "code",
   "execution_count": 54,
   "metadata": {},
   "outputs": [
    {
     "data": {
      "text/plain": [
       "(1368, 129)"
      ]
     },
     "execution_count": 54,
     "metadata": {},
     "output_type": "execute_result"
    }
   ],
   "source": [
    "analysts.shape"
   ]
  },
  {
   "cell_type": "code",
   "execution_count": 57,
   "metadata": {},
   "outputs": [
    {
     "data": {
      "image/png": "[encoded data removed]",
      "text/plain": [
       "<Figure size 432x288 with 1 Axes>"
      ]
     },
     "metadata": {
      "needs_background": "light"
     },
     "output_type": "display_data"
    }
   ],
   "source": [
    "analysts.Age.value_counts().plot.barh().invert_yaxis()"
   ]
  },
  {
   "cell_type": "markdown",
   "metadata": {},
   "source": [
    "- A significant majority of the data science professionals are of the age group 25-34"
   ]
  },
  {
   "cell_type": "code",
   "execution_count": 58,
   "metadata": {},
   "outputs": [
    {
     "data": {
      "image/png": "[encoded data removed]",
      "text/plain": [
       "<Figure size 648x360 with 2 Axes>"
      ]
     },
     "metadata": {
      "needs_background": "light"
     },
     "output_type": "display_data"
    }
   ],
   "source": [
    "import seaborn as sns\n",
    "plt.figure(figsize=(9,5))\n",
    "sns.heatmap(pd.crosstab(analysts.JobSatisfaction, analysts.Age, normalize = 'columns'), cmap = 'Blues', annot = True)\n",
    "plt.show()"
   ]
  },
  {
   "cell_type": "markdown",
   "metadata": {},
   "source": [
    "- 67% of the majority age-group i.e, 18-24, are quiet satisfied with their jobs\n",
    "- Age groups 45-54 and 55-64 seem to be dissatisfied with their data science jobs"
   ]
  },
  {
   "cell_type": "code",
   "execution_count": 60,
   "metadata": {},
   "outputs": [
    {
     "data": {
      "text/html": [
       "<div>\n",
       "<style scoped>\n",
       "    .dataframe tbody tr th:only-of-type {\n",
       "        vertical-align: middle;\n",
       "    }\n",
       "\n",
       "    .dataframe tbody tr th {\n",
       "        vertical-align: top;\n",
       "    }\n",
       "\n",
       "    .dataframe thead th {\n",
       "        text-align: right;\n",
       "    }\n",
       "</style>\n",
       "<table border=\"1\" class=\"dataframe\">\n",
       "  <thead>\n",
       "    <tr style=\"text-align: right;\">\n",
       "      <th></th>\n",
       "      <th>Salary</th>\n",
       "      <th>SalaryType</th>\n",
       "      <th>Currency</th>\n",
       "      <th>ConvertedSalary</th>\n",
       "    </tr>\n",
       "  </thead>\n",
       "  <tbody>\n",
       "    <tr>\n",
       "      <th>347</th>\n",
       "      <td>113000</td>\n",
       "      <td>Yearly</td>\n",
       "      <td>U.S. dollars ($)</td>\n",
       "      <td>113000.0</td>\n",
       "    </tr>\n",
       "    <tr>\n",
       "      <th>393</th>\n",
       "      <td>2500</td>\n",
       "      <td>Monthly</td>\n",
       "      <td>Euros (€)</td>\n",
       "      <td>36720.0</td>\n",
       "    </tr>\n",
       "    <tr>\n",
       "      <th>576</th>\n",
       "      <td>34000</td>\n",
       "      <td>Yearly</td>\n",
       "      <td>Euros (€)</td>\n",
       "      <td>41612.0</td>\n",
       "    </tr>\n",
       "    <tr>\n",
       "      <th>618</th>\n",
       "      <td>30000</td>\n",
       "      <td>Yearly</td>\n",
       "      <td>U.S. dollars ($)</td>\n",
       "      <td>30000.0</td>\n",
       "    </tr>\n",
       "    <tr>\n",
       "      <th>802</th>\n",
       "      <td>300000</td>\n",
       "      <td>Yearly</td>\n",
       "      <td>U.S. dollars ($)</td>\n",
       "      <td>300000.0</td>\n",
       "    </tr>\n",
       "  </tbody>\n",
       "</table>\n",
       "</div>"
      ],
      "text/plain": [
       "     Salary SalaryType          Currency  ConvertedSalary\n",
       "347  113000     Yearly  U.S. dollars ($)         113000.0\n",
       "393    2500    Monthly         Euros (€)          36720.0\n",
       "576   34000     Yearly         Euros (€)          41612.0\n",
       "618   30000     Yearly  U.S. dollars ($)          30000.0\n",
       "802  300000     Yearly  U.S. dollars ($)         300000.0"
      ]
     },
     "execution_count": 60,
     "metadata": {},
     "output_type": "execute_result"
    }
   ],
   "source": [
    "salaries = analysts.loc[:,['Salary', 'SalaryType', 'Currency', 'ConvertedSalary']].dropna()\n",
    "salaries.head()"
   ]
  },
  {
   "cell_type": "code",
   "execution_count": 61,
   "metadata": {},
   "outputs": [
    {
     "data": {
      "text/plain": [
       "Yearly     378\n",
       "Monthly    179\n",
       "Weekly      18\n",
       "Name: SalaryType, dtype: int64"
      ]
     },
     "execution_count": 61,
     "metadata": {},
     "output_type": "execute_result"
    }
   ],
   "source": [
    "salaries.SalaryType.value_counts()"
   ]
  },
  {
   "cell_type": "code",
   "execution_count": 62,
   "metadata": {},
   "outputs": [],
   "source": [
    "salaries['monthly_salary'] = salaries.ConvertedSalary\n",
    "\n",
    "for i in salaries.index:\n",
    "    if salaries.loc[i, 'SalaryType'] == 'Yearly':\n",
    "        salaries.loc[i, 'monthly_salary'] = salaries.loc[i, 'ConvertedSalary']/12\n",
    "    elif salaries.loc[i, 'SalaryType'] == 'Weekly':\n",
    "        salaries.loc[i, 'monthly_salary'] = salaries.loc[i, 'ConvertedSalary']*4"
   ]
  },
  {
   "cell_type": "code",
   "execution_count": 63,
   "metadata": {},
   "outputs": [
    {
     "data": {
      "text/html": [
       "<div>\n",
       "<style scoped>\n",
       "    .dataframe tbody tr th:only-of-type {\n",
       "        vertical-align: middle;\n",
       "    }\n",
       "\n",
       "    .dataframe tbody tr th {\n",
       "        vertical-align: top;\n",
       "    }\n",
       "\n",
       "    .dataframe thead th {\n",
       "        text-align: right;\n",
       "    }\n",
       "</style>\n",
       "<table border=\"1\" class=\"dataframe\">\n",
       "  <thead>\n",
       "    <tr style=\"text-align: right;\">\n",
       "      <th></th>\n",
       "      <th>Salary</th>\n",
       "      <th>SalaryType</th>\n",
       "      <th>Currency</th>\n",
       "      <th>ConvertedSalary</th>\n",
       "      <th>monthly_salary</th>\n",
       "    </tr>\n",
       "  </thead>\n",
       "  <tbody>\n",
       "    <tr>\n",
       "      <th>347</th>\n",
       "      <td>113000</td>\n",
       "      <td>Yearly</td>\n",
       "      <td>U.S. dollars ($)</td>\n",
       "      <td>113000.0</td>\n",
       "      <td>9416.666667</td>\n",
       "    </tr>\n",
       "    <tr>\n",
       "      <th>393</th>\n",
       "      <td>2500</td>\n",
       "      <td>Monthly</td>\n",
       "      <td>Euros (€)</td>\n",
       "      <td>36720.0</td>\n",
       "      <td>36720.000000</td>\n",
       "    </tr>\n",
       "    <tr>\n",
       "      <th>576</th>\n",
       "      <td>34000</td>\n",
       "      <td>Yearly</td>\n",
       "      <td>Euros (€)</td>\n",
       "      <td>41612.0</td>\n",
       "      <td>3467.666667</td>\n",
       "    </tr>\n",
       "    <tr>\n",
       "      <th>618</th>\n",
       "      <td>30000</td>\n",
       "      <td>Yearly</td>\n",
       "      <td>U.S. dollars ($)</td>\n",
       "      <td>30000.0</td>\n",
       "      <td>2500.000000</td>\n",
       "    </tr>\n",
       "    <tr>\n",
       "      <th>802</th>\n",
       "      <td>300000</td>\n",
       "      <td>Yearly</td>\n",
       "      <td>U.S. dollars ($)</td>\n",
       "      <td>300000.0</td>\n",
       "      <td>25000.000000</td>\n",
       "    </tr>\n",
       "  </tbody>\n",
       "</table>\n",
       "</div>"
      ],
      "text/plain": [
       "     Salary SalaryType          Currency  ConvertedSalary  monthly_salary\n",
       "347  113000     Yearly  U.S. dollars ($)         113000.0     9416.666667\n",
       "393    2500    Monthly         Euros (€)          36720.0    36720.000000\n",
       "576   34000     Yearly         Euros (€)          41612.0     3467.666667\n",
       "618   30000     Yearly  U.S. dollars ($)          30000.0     2500.000000\n",
       "802  300000     Yearly  U.S. dollars ($)         300000.0    25000.000000"
      ]
     },
     "execution_count": 63,
     "metadata": {},
     "output_type": "execute_result"
    }
   ],
   "source": [
    "salaries.head()"
   ]
  },
  {
   "cell_type": "code",
   "execution_count": 64,
   "metadata": {},
   "outputs": [
    {
     "data": {
      "image/png": "[encoded data removed]",
      "text/plain": [
       "<Figure size 1440x360 with 2 Axes>"
      ]
     },
     "metadata": {
      "needs_background": "light"
     },
     "output_type": "display_data"
    }
   ],
   "source": [
    "fig, ax = plt.subplots(1,2,sharex = True)\n",
    "\n",
    "fig.set_figheight(5)\n",
    "fig.set_figwidth(20)\n",
    "sns.boxplot(salaries.monthly_salary, ax= ax[0])\n",
    "sns.distplot(salaries.monthly_salary, ax = ax[1])\n",
    "plt.show()"
   ]
  },
  {
   "cell_type": "markdown",
   "metadata": {},
   "source": [
    "- Histogram in this case does not give much information because of the extreme skew in the distribution\n",
    "- The data is highly skewed. Hence, we will look at the numbers"
   ]
  },
  {
   "cell_type": "code",
   "execution_count": 65,
   "metadata": {},
   "outputs": [
    {
     "data": {
      "text/plain": [
       "count        575.00\n",
       "mean      135512.06\n",
       "std       838091.65\n",
       "min            0.00\n",
       "25%         4718.96\n",
       "50%         7750.00\n",
       "75%        19140.00\n",
       "max      8000000.00\n",
       "Name: monthly_salary, dtype: object"
      ]
     },
     "execution_count": 65,
     "metadata": {},
     "output_type": "execute_result"
    }
   ],
   "source": [
    "salaries.monthly_salary.describe().apply(lambda x: format(x, '.2f'))"
   ]
  },
  {
   "cell_type": "markdown",
   "metadata": {},
   "source": [
    "- 75% of the people have salaries less than 19140 USD and the median salary for a data scientist is 7750 USD"
   ]
  },
  {
   "cell_type": "code",
   "execution_count": 66,
   "metadata": {},
   "outputs": [],
   "source": [
    "salaries['Salary'] = salaries.Salary.apply(lambda x: x.replace(',', '')).apply(float)"
   ]
  },
  {
   "cell_type": "code",
   "execution_count": 67,
   "metadata": {},
   "outputs": [
    {
     "name": "stderr",
     "output_type": "stream",
     "text": [
      "<ipython-input-67-0b9654fc8add>:2: SettingWithCopyWarning: \n",
      "A value is trying to be set on a copy of a slice from a DataFrame.\n",
      "Try using .loc[row_indexer,col_indexer] = value instead\n",
      "\n",
      "See the caveats in the documentation: https://pandas.pydata.org/pandas-docs/stable/user_guide/indexing.html#returning-a-view-versus-a-copy\n",
      "  Indian_salaries['monthly_salary'] = Indian_salaries.Salary\n",
      "C:\\Users\\anchhabra\\Anaconda3\\lib\\site-packages\\pandas\\core\\indexing.py:966: SettingWithCopyWarning: \n",
      "A value is trying to be set on a copy of a slice from a DataFrame.\n",
      "Try using .loc[row_indexer,col_indexer] = value instead\n",
      "\n",
      "See the caveats in the documentation: https://pandas.pydata.org/pandas-docs/stable/user_guide/indexing.html#returning-a-view-versus-a-copy\n",
      "  self.obj[item] = s\n"
     ]
    },
    {
     "data": {
      "text/html": [
       "<div>\n",
       "<style scoped>\n",
       "    .dataframe tbody tr th:only-of-type {\n",
       "        vertical-align: middle;\n",
       "    }\n",
       "\n",
       "    .dataframe tbody tr th {\n",
       "        vertical-align: top;\n",
       "    }\n",
       "\n",
       "    .dataframe thead th {\n",
       "        text-align: right;\n",
       "    }\n",
       "</style>\n",
       "<table border=\"1\" class=\"dataframe\">\n",
       "  <thead>\n",
       "    <tr style=\"text-align: right;\">\n",
       "      <th></th>\n",
       "      <th>Salary</th>\n",
       "      <th>SalaryType</th>\n",
       "      <th>Currency</th>\n",
       "      <th>ConvertedSalary</th>\n",
       "      <th>monthly_salary</th>\n",
       "    </tr>\n",
       "  </thead>\n",
       "  <tbody>\n",
       "    <tr>\n",
       "      <th>68384</th>\n",
       "      <td>50867.0</td>\n",
       "      <td>Monthly</td>\n",
       "      <td>Indian rupees (₹)</td>\n",
       "      <td>9552.0</td>\n",
       "      <td>50867.000000</td>\n",
       "    </tr>\n",
       "    <tr>\n",
       "      <th>58778</th>\n",
       "      <td>2500000.0</td>\n",
       "      <td>Yearly</td>\n",
       "      <td>Indian rupees (₹)</td>\n",
       "      <td>39136.0</td>\n",
       "      <td>208333.333333</td>\n",
       "    </tr>\n",
       "    <tr>\n",
       "      <th>53353</th>\n",
       "      <td>90000.0</td>\n",
       "      <td>Monthly</td>\n",
       "      <td>Indian rupees (₹)</td>\n",
       "      <td>16908.0</td>\n",
       "      <td>90000.000000</td>\n",
       "    </tr>\n",
       "    <tr>\n",
       "      <th>29697</th>\n",
       "      <td>900000.0</td>\n",
       "      <td>Yearly</td>\n",
       "      <td>Indian rupees (₹)</td>\n",
       "      <td>14089.0</td>\n",
       "      <td>75000.000000</td>\n",
       "    </tr>\n",
       "    <tr>\n",
       "      <th>8920</th>\n",
       "      <td>600000.0</td>\n",
       "      <td>Yearly</td>\n",
       "      <td>Indian rupees (₹)</td>\n",
       "      <td>9393.0</td>\n",
       "      <td>50000.000000</td>\n",
       "    </tr>\n",
       "  </tbody>\n",
       "</table>\n",
       "</div>"
      ],
      "text/plain": [
       "          Salary SalaryType           Currency  ConvertedSalary  monthly_salary\n",
       "68384    50867.0    Monthly  Indian rupees (₹)           9552.0    50867.000000\n",
       "58778  2500000.0     Yearly  Indian rupees (₹)          39136.0   208333.333333\n",
       "53353    90000.0    Monthly  Indian rupees (₹)          16908.0    90000.000000\n",
       "29697   900000.0     Yearly  Indian rupees (₹)          14089.0    75000.000000\n",
       "8920    600000.0     Yearly  Indian rupees (₹)           9393.0    50000.000000"
      ]
     },
     "execution_count": 67,
     "metadata": {},
     "output_type": "execute_result"
    }
   ],
   "source": [
    "Indian_salaries = salaries.loc[salaries.Currency.apply(lambda x: 'Indian' in x), :]\n",
    "Indian_salaries['monthly_salary'] = Indian_salaries.Salary\n",
    "\n",
    "for i in Indian_salaries.index:\n",
    "    if Indian_salaries.loc[i, 'SalaryType'] == 'Yearly':\n",
    "        Indian_salaries.loc[i, 'monthly_salary'] = Indian_salaries.loc[i, 'Salary']/12\n",
    "    elif Indian_salaries.loc[i, 'SalaryType'] == 'Weekly':\n",
    "        Indian_salaries.loc[i, 'monthly_salary'] = Indian_salaries.loc[i, 'Salary']*4\n",
    "\n",
    "Indian_salaries.sample(5)"
   ]
  },
  {
   "cell_type": "code",
   "execution_count": 68,
   "metadata": {},
   "outputs": [
    {
     "data": {
      "image/png": "[encoded data removed]",
      "text/plain": [
       "<Figure size 1440x360 with 2 Axes>"
      ]
     },
     "metadata": {
      "needs_background": "light"
     },
     "output_type": "display_data"
    }
   ],
   "source": [
    "fig, ax = plt.subplots(1,2, sharex = True)\n",
    "\n",
    "fig.set_figheight(5)\n",
    "fig.set_figwidth(20)\n",
    "sns.boxplot(Indian_salaries.monthly_salary, ax= ax[0])\n",
    "sns.distplot(Indian_salaries.monthly_salary, ax = ax[1])\n",
    "plt.show()"
   ]
  },
  {
   "cell_type": "code",
   "execution_count": 69,
   "metadata": {},
   "outputs": [
    {
     "data": {
      "text/plain": [
       "count         48\n",
       "mean      170981\n",
       "std       347704\n",
       "min            0\n",
       "25%        35000\n",
       "50%        58333\n",
       "75%       106854\n",
       "max      2000000\n",
       "Name: monthly_salary, dtype: object"
      ]
     },
     "execution_count": 69,
     "metadata": {},
     "output_type": "execute_result"
    }
   ],
   "source": [
    "Indian_salaries.monthly_salary.describe().apply(lambda x: format(x, '.0f'))"
   ]
  },
  {
   "cell_type": "markdown",
   "metadata": {},
   "source": [
    "- From the above numbers and plots we can see that the median salary for a professional in data science or business analytics field in India is about 58k per month\n",
    "- However the max value shows that it is 2Cr, which is a not a reasonable number \n",
    "- These unreasonable numbers are called outliers\n",
    "- We will learn about outliers and how to deal with them in later modules"
   ]
  },
  {
   "cell_type": "markdown",
   "metadata": {},
   "source": [
    "# Conclusion:\n",
    "Now that we got a good idea of how to plot, manipulate, draw insights and extract relevant data from a huge dataset, and we still have a lot of unexplored columns in the dataset, from here on look at the survey_schema data and explore data that you find interesting\n",
    "\n",
    "All the best!   "
   ]
  }
 ],
 "metadata": {
  "kernelspec": {
   "display_name": "Python 3",
   "language": "python",
   "name": "python3"
  },
  "language_info": {
   "codemirror_mode": {
    "name": "ipython",
    "version": 3
   },
   "file_extension": ".py",
   "mimetype": "text/x-python",
   "name": "python",
   "nbconvert_exporter": "python",
   "pygments_lexer": "ipython3",
   "version": "3.8.3"
  }
 },
 "nbformat": 4,
 "nbformat_minor": 2
}
