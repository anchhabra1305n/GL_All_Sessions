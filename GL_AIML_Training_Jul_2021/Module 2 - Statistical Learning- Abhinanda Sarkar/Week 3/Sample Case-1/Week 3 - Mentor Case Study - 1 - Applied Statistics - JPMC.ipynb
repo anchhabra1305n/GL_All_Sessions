{
 "cells": [
  {
   "cell_type": "markdown",
   "metadata": {
    "colab_type": "text",
    "id": "_4H89h1MOJ9l"
   },
   "source": [
    "# Central Limit Theorem"
   ]
  },
  {
   "cell_type": "markdown",
   "metadata": {
    "colab_type": "text",
    "id": "D2ngcmO3SfY-"
   },
   "source": [
    "### Package Version\n",
    "- seaborn==0.10.1\n",
    "- pandas==1.0.4\n",
    "- numpy==1.18.5\n",
    "- matplotlib==3.2.1"
   ]
  },
  {
   "cell_type": "code",
   "execution_count": 4,
   "metadata": {
    "colab": {
     "base_uri": "https://localhost:8080/",
     "height": 35
    },
    "colab_type": "code",
    "executionInfo": {
     "elapsed": 1814,
     "status": "ok",
     "timestamp": 1591972041401,
     "user": {
      "displayName": "Suryansh Sharma",
      "photoUrl": "https://lh3.googleusercontent.com/a-/AOh14Gi0Ht3r8_7mNSHFKhpcyEpYvjgGcD5f34Pv5sGRpA=s64",
      "userId": "03232072030227591914"
     },
     "user_tz": -330
    },
    "id": "iRGB6dHiOJ9M",
    "outputId": "ea47a3c9-5e26-4cc6-9e4e-c9702ee5c1bc"
   },
   "outputs": [
    {
     "data": {
      "text/plain": [
       "dtype('float64')"
      ]
     },
     "execution_count": 4,
     "metadata": {},
     "output_type": "execute_result"
    }
   ],
   "source": [
    "import pandas as pd\n",
    "\n",
    "df = pd.read_csv('insurance.csv')\n",
    "series1 = df.charges\n",
    "series1.dtype"
   ]
  },
  {
   "cell_type": "code",
   "execution_count": 50,
   "metadata": {},
   "outputs": [
    {
     "data": {
      "text/plain": [
       "0    16884.92400\n",
       "1     1725.55230\n",
       "2     4449.46200\n",
       "3    21984.47061\n",
       "4     3866.85520\n",
       "Name: charges, dtype: float64"
      ]
     },
     "execution_count": 50,
     "metadata": {},
     "output_type": "execute_result"
    }
   ],
   "source": [
    "series1.head()"
   ]
  },
  {
   "cell_type": "code",
   "execution_count": 7,
   "metadata": {},
   "outputs": [
    {
     "data": {
      "text/html": [
       "<div>\n",
       "<style scoped>\n",
       "    .dataframe tbody tr th:only-of-type {\n",
       "        vertical-align: middle;\n",
       "    }\n",
       "\n",
       "    .dataframe tbody tr th {\n",
       "        vertical-align: top;\n",
       "    }\n",
       "\n",
       "    .dataframe thead th {\n",
       "        text-align: right;\n",
       "    }\n",
       "</style>\n",
       "<table border=\"1\" class=\"dataframe\">\n",
       "  <thead>\n",
       "    <tr style=\"text-align: right;\">\n",
       "      <th></th>\n",
       "      <th>age</th>\n",
       "      <th>sex</th>\n",
       "      <th>bmi</th>\n",
       "      <th>children</th>\n",
       "      <th>smoker</th>\n",
       "      <th>region</th>\n",
       "      <th>charges</th>\n",
       "    </tr>\n",
       "  </thead>\n",
       "  <tbody>\n",
       "    <tr>\n",
       "      <th>0</th>\n",
       "      <td>19</td>\n",
       "      <td>female</td>\n",
       "      <td>27.900</td>\n",
       "      <td>0</td>\n",
       "      <td>yes</td>\n",
       "      <td>southwest</td>\n",
       "      <td>16884.92400</td>\n",
       "    </tr>\n",
       "    <tr>\n",
       "      <th>1</th>\n",
       "      <td>18</td>\n",
       "      <td>male</td>\n",
       "      <td>33.770</td>\n",
       "      <td>1</td>\n",
       "      <td>no</td>\n",
       "      <td>southeast</td>\n",
       "      <td>1725.55230</td>\n",
       "    </tr>\n",
       "    <tr>\n",
       "      <th>2</th>\n",
       "      <td>28</td>\n",
       "      <td>male</td>\n",
       "      <td>33.000</td>\n",
       "      <td>3</td>\n",
       "      <td>no</td>\n",
       "      <td>southeast</td>\n",
       "      <td>4449.46200</td>\n",
       "    </tr>\n",
       "    <tr>\n",
       "      <th>3</th>\n",
       "      <td>33</td>\n",
       "      <td>male</td>\n",
       "      <td>22.705</td>\n",
       "      <td>0</td>\n",
       "      <td>no</td>\n",
       "      <td>northwest</td>\n",
       "      <td>21984.47061</td>\n",
       "    </tr>\n",
       "    <tr>\n",
       "      <th>4</th>\n",
       "      <td>32</td>\n",
       "      <td>male</td>\n",
       "      <td>28.880</td>\n",
       "      <td>0</td>\n",
       "      <td>no</td>\n",
       "      <td>northwest</td>\n",
       "      <td>3866.85520</td>\n",
       "    </tr>\n",
       "  </tbody>\n",
       "</table>\n",
       "</div>"
      ],
      "text/plain": [
       "   age     sex     bmi  children smoker     region      charges\n",
       "0   19  female  27.900         0    yes  southwest  16884.92400\n",
       "1   18    male  33.770         1     no  southeast   1725.55230\n",
       "2   28    male  33.000         3     no  southeast   4449.46200\n",
       "3   33    male  22.705         0     no  northwest  21984.47061\n",
       "4   32    male  28.880         0     no  northwest   3866.85520"
      ]
     },
     "execution_count": 7,
     "metadata": {},
     "output_type": "execute_result"
    }
   ],
   "source": [
    "df.head()"
   ]
  },
  {
   "cell_type": "code",
   "execution_count": 49,
   "metadata": {},
   "outputs": [
    {
     "data": {
      "text/plain": [
       "1338"
      ]
     },
     "execution_count": 49,
     "metadata": {},
     "output_type": "execute_result"
    }
   ],
   "source": [
    "len(series1)"
   ]
  },
  {
   "cell_type": "code",
   "execution_count": 12,
   "metadata": {},
   "outputs": [
    {
     "data": {
      "text/plain": [
       "array([ 3, 17, 33, 44, 68, 70, 75, 77, 96, 99])"
      ]
     },
     "execution_count": 12,
     "metadata": {},
     "output_type": "execute_result"
    }
   ],
   "source": [
    "np.unique(np.random.randint(0, 100, size = 10))"
   ]
  },
  {
   "cell_type": "code",
   "execution_count": 51,
   "metadata": {},
   "outputs": [
    {
     "name": "stdout",
     "output_type": "stream",
     "text": [
      "i series values 0\n",
      "x values [84 91]\n",
      "series1[x] print 84    39836.51900\n",
      "91    10942.13205\n",
      "Name: charges, dtype: float64\n",
      "Print b dictionary {0: 25389.325525}\n",
      "i series values 1\n",
      "x values [59 68]\n",
      "series1[x] print 59    5989.52365\n",
      "68    5920.10410\n",
      "Name: charges, dtype: float64\n",
      "Print b dictionary {0: 25389.325525, 1: 5954.813875}\n",
      "i series values 2\n",
      "x values [27 71]\n",
      "series1[x] print 27    12268.63225\n",
      "71     6799.45800\n",
      "Name: charges, dtype: float64\n",
      "Print b dictionary {0: 25389.325525, 1: 5954.813875, 2: 9534.045125}\n",
      "C    sample          Mean\n",
      "0       0  25389.325525\n",
      "1       1   5954.813875\n",
      "2       2   9534.045125\n"
     ]
    },
    {
     "data": {
      "image/png": "[encoded data removed]",
      "text/plain": [
       "<Figure size 1080x360 with 2 Axes>"
      ]
     },
     "metadata": {
      "needs_background": "light"
     },
     "output_type": "display_data"
    }
   ],
   "source": [
    "b = {}\n",
    "\n",
    "for i in range(3):\n",
    "    print(\"i series values\",i)\n",
    "    x = np.unique(np.random.randint(0, 100, size = 2))\n",
    "    print(\"x values\",x)\n",
    "    print(\"series1[x] print\",series1[x])\n",
    "    b[i] = series1[x].mean()\n",
    "    print(\"Print b dictionary\", b)\n",
    "\n",
    "c = pd.DataFrame()\n",
    "c['sample'] = b.keys()  # Sample number \n",
    "c['Mean'] = b.values()  # mean of that particular sample\n",
    "print(\"C\",c)\n",
    "\n",
    "plt.figure(figsize= (15,5))\n",
    "plt.subplot(1,2,1)\n",
    "sns.distplot(c.Mean)\n",
    "plt.title(f\"Sampling Distribution of bmi. \\n \\u03bc = {round(c.Mean.mean(), 3)} & SE = {round(c.Mean.std(),3)}\")\n",
    "plt.xlabel('data')\n",
    "plt.ylabel('freq')\n",
    "\n",
    "plt.subplot(1,2,2)\n",
    "sns.distplot(series1)\n",
    "plt.title(f\"population Distribution of bmi. \\n \\u03bc = {round(series1.mean(), 3)} & \\u03C3 = {round(series1.std(),3)}\")\n",
    "plt.xlabel('data')\n",
    "plt.ylabel('freq')\n",
    "\n",
    "plt.show()"
   ]
  },
  {
   "cell_type": "code",
   "execution_count": 48,
   "metadata": {},
   "outputs": [
    {
     "data": {
      "text/plain": [
       "{0: 11492.0951, 1: 3357.8965749999998, 2: 9287.859975}"
      ]
     },
     "execution_count": 48,
     "metadata": {},
     "output_type": "execute_result"
    }
   ],
   "source": [
    "b"
   ]
  },
  {
   "cell_type": "code",
   "execution_count": 36,
   "metadata": {},
   "outputs": [
    {
     "data": {
      "text/html": [
       "<div>\n",
       "<style scoped>\n",
       "    .dataframe tbody tr th:only-of-type {\n",
       "        vertical-align: middle;\n",
       "    }\n",
       "\n",
       "    .dataframe tbody tr th {\n",
       "        vertical-align: top;\n",
       "    }\n",
       "\n",
       "    .dataframe thead th {\n",
       "        text-align: right;\n",
       "    }\n",
       "</style>\n",
       "<table border=\"1\" class=\"dataframe\">\n",
       "  <thead>\n",
       "    <tr style=\"text-align: right;\">\n",
       "      <th></th>\n",
       "      <th>sample</th>\n",
       "      <th>Mean</th>\n",
       "    </tr>\n",
       "  </thead>\n",
       "  <tbody>\n",
       "    <tr>\n",
       "      <th>0</th>\n",
       "      <td>0</td>\n",
       "      <td>11120.861700</td>\n",
       "    </tr>\n",
       "    <tr>\n",
       "      <th>1</th>\n",
       "      <td>1</td>\n",
       "      <td>4981.132625</td>\n",
       "    </tr>\n",
       "    <tr>\n",
       "      <th>2</th>\n",
       "      <td>2</td>\n",
       "      <td>8881.535800</td>\n",
       "    </tr>\n",
       "  </tbody>\n",
       "</table>\n",
       "</div>"
      ],
      "text/plain": [
       "   sample          Mean\n",
       "0       0  11120.861700\n",
       "1       1   4981.132625\n",
       "2       2   8881.535800"
      ]
     },
     "execution_count": 36,
     "metadata": {},
     "output_type": "execute_result"
    }
   ],
   "source": [
    "c"
   ]
  },
  {
   "cell_type": "code",
   "execution_count": 52,
   "metadata": {
    "colab": {
     "base_uri": "https://localhost:8080/",
     "height": 72
    },
    "colab_type": "code",
    "executionInfo": {
     "elapsed": 1833,
     "status": "ok",
     "timestamp": 1591972061619,
     "user": {
      "displayName": "Suryansh Sharma",
      "photoUrl": "https://lh3.googleusercontent.com/a-/AOh14Gi0Ht3r8_7mNSHFKhpcyEpYvjgGcD5f34Pv5sGRpA=s64",
      "userId": "03232072030227591914"
     },
     "user_tz": -330
    },
    "id": "Zlrdih6IOJ9n",
    "outputId": "c30b03af-52e1-4c91-e0a0-fe7131b02a1b"
   },
   "outputs": [],
   "source": [
    "import numpy as np\n",
    "import matplotlib.pyplot as plt\n",
    "import seaborn as sns\n",
    "\n",
    "def central_limit_theorem(data,n_samples = 1000, sample_size = 500, min_value = 0, max_value = 1338):\n",
    "    \"\"\" Use this function to demonstrate Central Limit Theorem. \n",
    "        data = 1D array, or a pd.Series\n",
    "        n_samples = number of samples to be created\n",
    "        sample_size = size of the individual sample\n",
    "        min_value = minimum index of the data\n",
    "        max_value = maximum index value of the data \"\"\"\n",
    "    b = {}\n",
    "    for i in range(n_samples):\n",
    "        x = np.unique(np.random.randint(min_value, max_value, size = sample_size)) # set of random numbers with a specific size\n",
    "        b[i] = data[x].mean()   # Mean of each sample\n",
    "    c = pd.DataFrame()\n",
    "    c['sample'] = b.keys()  # Sample number \n",
    "    c['Mean'] = b.values()  # mean of that particular sample\n",
    "    plt.figure(figsize= (15,5))\n",
    "\n",
    "    plt.subplot(1,2,1)\n",
    "    sns.distplot(c.Mean)\n",
    "    plt.title(f\"Sampling Distribution of bmi. \\n \\u03bc = {round(c.Mean.mean(), 3)} & SE = {round(c.Mean.std(),3)}\")\n",
    "    plt.xlabel('data')\n",
    "    plt.ylabel('freq')\n",
    "\n",
    "    plt.subplot(1,2,2)\n",
    "    sns.distplot(data)\n",
    "    plt.title(f\"population Distribution of bmi. \\n \\u03bc = {round(data.mean(), 3)} & \\u03C3 = {round(data.std(),3)}\")\n",
    "    plt.xlabel('data')\n",
    "    plt.ylabel('freq')\n",
    "\n",
    "    plt.show()"
   ]
  },
  {
   "cell_type": "code",
   "execution_count": 53,
   "metadata": {
    "colab": {
     "base_uri": "https://localhost:8080/",
     "height": 365
    },
    "colab_type": "code",
    "executionInfo": {
     "elapsed": 8743,
     "status": "ok",
     "timestamp": 1591972073233,
     "user": {
      "displayName": "Suryansh Sharma",
      "photoUrl": "https://lh3.googleusercontent.com/a-/AOh14Gi0Ht3r8_7mNSHFKhpcyEpYvjgGcD5f34Pv5sGRpA=s64",
      "userId": "03232072030227591914"
     },
     "user_tz": -330
    },
    "id": "6kV1brqfOJ9t",
    "outputId": "6f9c674b-bc0b-448a-ef6f-2742411cf560"
   },
   "outputs": [
    {
     "data": {
      "image/png": "[encoded data removed]",
      "text/plain": [
       "<Figure size 1080x360 with 2 Axes>"
      ]
     },
     "metadata": {
      "needs_background": "light"
     },
     "output_type": "display_data"
    }
   ],
   "source": [
    "central_limit_theorem(series1,n_samples = 5000, sample_size = 500)"
   ]
  },
  {
   "cell_type": "markdown",
   "metadata": {
    "colab_type": "text",
    "id": "yrplvNJ1OJ-K"
   },
   "source": [
    "## Play with the parameters(n_samples and sample_size) and see how the output changes"
   ]
  },
  {
   "cell_type": "markdown",
   "metadata": {
    "colab_type": "text",
    "id": "boj84UvZSNse"
   },
   "source": [
    "![alt text](https://drive.google.com/uc?export=view&id=1UXScsVx_Wni_JuDdB8LeTnM6jsPfIwkW)\n",
    "\n",
    "Proprietary content. © Great Learning. All Rights Reserved. Unauthorized use or distribution prohibited."
   ]
  }
 ],
 "metadata": {
  "colab": {
   "name": "Week 3 - Mentor Case Study - 1 - Applied Statistics - JPMC.ipynb",
   "provenance": [],
   "toc_visible": true
  },
  "kernelspec": {
   "display_name": "Python 3",
   "language": "python",
   "name": "python3"
  },
  "language_info": {
   "codemirror_mode": {
    "name": "ipython",
    "version": 3
   },
   "file_extension": ".py",
   "mimetype": "text/x-python",
   "name": "python",
   "nbconvert_exporter": "python",
   "pygments_lexer": "ipython3",
   "version": "3.8.3"
  }
 },
 "nbformat": 4,
 "nbformat_minor": 1
}
