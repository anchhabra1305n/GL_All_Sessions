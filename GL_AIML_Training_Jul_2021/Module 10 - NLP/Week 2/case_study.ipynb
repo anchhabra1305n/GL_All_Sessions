{
 "cells": [
  {
   "cell_type": "markdown",
   "metadata": {
    "id": "uUpQff5qfTNc"
   },
   "source": [
    "In this case study we will be implementing an elementary model that utilizes word embeddings for text classification. Word embeddings are known for encoding contextual information. In this notebook we will use a pretrained model to generate word embeddings of each word in a sentence. Further, average of all embeddings for a sentence will be the sentence representation. Each sentence representation will be classified into one of the categories. The entire process is described step by step below:\n",
    "\n",
    "1. Load the dataset from the disk\n",
    "2. Tokenize text in the dataset and create vocabulary\n",
    "3. Load the word2vec model from the disk into a python dictionary\n",
    "4. Load embeddings for each word and take average\n",
    "5. One hot encode the target labels\n",
    "6. Train the classifier"
   ]
  },
  {
   "cell_type": "code",
   "execution_count": 331,
   "metadata": {
    "colab": {
     "base_uri": "https://localhost:8080/"
    },
    "executionInfo": {
     "elapsed": 791,
     "status": "ok",
     "timestamp": 1633858740134,
     "user": {
      "displayName": "Kavitha Chetana Didugu",
      "photoUrl": "https://lh3.googleusercontent.com/a-/AOh14GiR9fFlhcAForHB-O9VkrzPpHu-cpY20ZjiXXLIyU8=s64",
      "userId": "07214785061351746681"
     },
     "user_tz": -330
    },
    "id": "uyKzNXim8jEY",
    "outputId": "b196623a-0430-45f3-ab3b-74f0f02f08c1"
   },
   "outputs": [
    {
     "name": "stdout",
     "output_type": "stream",
     "text": [
      "Drive already mounted at /content/drive; to attempt to forcibly remount, call drive.mount(\"/content/drive\", force_remount=True).\n"
     ]
    }
   ],
   "source": [
    "from google.colab import drive\n",
    "drive.mount('/content/drive')"
   ]
  },
  {
   "cell_type": "code",
   "execution_count": 332,
   "metadata": {
    "executionInfo": {
     "elapsed": 15,
     "status": "ok",
     "timestamp": 1633858740956,
     "user": {
      "displayName": "Kavitha Chetana Didugu",
      "photoUrl": "https://lh3.googleusercontent.com/a-/AOh14GiR9fFlhcAForHB-O9VkrzPpHu-cpY20ZjiXXLIyU8=s64",
      "userId": "07214785061351746681"
     },
     "user_tz": -330
    },
    "id": "zhXsYJwq7-Rs"
   },
   "outputs": [],
   "source": [
    "from nltk.tokenize import RegexpTokenizer\n",
    "import numpy as np\n",
    "import re"
   ]
  },
  {
   "cell_type": "markdown",
   "metadata": {
    "id": "KNmyqGakl-iU"
   },
   "source": [
    "### Load the dataset from the disk"
   ]
  },
  {
   "cell_type": "code",
   "execution_count": 333,
   "metadata": {
    "colab": {
     "base_uri": "https://localhost:8080/",
     "height": 202
    },
    "executionInfo": {
     "elapsed": 21,
     "status": "ok",
     "timestamp": 1633858740962,
     "user": {
      "displayName": "Kavitha Chetana Didugu",
      "photoUrl": "https://lh3.googleusercontent.com/a-/AOh14GiR9fFlhcAForHB-O9VkrzPpHu-cpY20ZjiXXLIyU8=s64",
      "userId": "07214785061351746681"
     },
     "user_tz": -330
    },
    "id": "s_Bu4lfx7-Rz",
    "outputId": "d61eb275-40ec-4760-d786-fe5fbf8ed508"
   },
   "outputs": [
    {
     "data": {
      "text/html": [
       "<div>\n",
       "<style scoped>\n",
       "    .dataframe tbody tr th:only-of-type {\n",
       "        vertical-align: middle;\n",
       "    }\n",
       "\n",
       "    .dataframe tbody tr th {\n",
       "        vertical-align: top;\n",
       "    }\n",
       "\n",
       "    .dataframe thead th {\n",
       "        text-align: right;\n",
       "    }\n",
       "</style>\n",
       "<table border=\"1\" class=\"dataframe\">\n",
       "  <thead>\n",
       "    <tr style=\"text-align: right;\">\n",
       "      <th></th>\n",
       "      <th>category</th>\n",
       "      <th>text</th>\n",
       "    </tr>\n",
       "  </thead>\n",
       "  <tbody>\n",
       "    <tr>\n",
       "      <th>0</th>\n",
       "      <td>tech</td>\n",
       "      <td>tv future in the hands of viewers with home th...</td>\n",
       "    </tr>\n",
       "    <tr>\n",
       "      <th>1</th>\n",
       "      <td>business</td>\n",
       "      <td>worldcom boss  left books alone  former worldc...</td>\n",
       "    </tr>\n",
       "    <tr>\n",
       "      <th>2</th>\n",
       "      <td>sport</td>\n",
       "      <td>tigers wary of farrell  gamble  leicester say ...</td>\n",
       "    </tr>\n",
       "    <tr>\n",
       "      <th>3</th>\n",
       "      <td>sport</td>\n",
       "      <td>yeading face newcastle in fa cup premiership s...</td>\n",
       "    </tr>\n",
       "    <tr>\n",
       "      <th>4</th>\n",
       "      <td>entertainment</td>\n",
       "      <td>ocean s twelve raids box office ocean s twelve...</td>\n",
       "    </tr>\n",
       "  </tbody>\n",
       "</table>\n",
       "</div>"
      ],
      "text/plain": [
       "        category                                               text\n",
       "0           tech  tv future in the hands of viewers with home th...\n",
       "1       business  worldcom boss  left books alone  former worldc...\n",
       "2          sport  tigers wary of farrell  gamble  leicester say ...\n",
       "3          sport  yeading face newcastle in fa cup premiership s...\n",
       "4  entertainment  ocean s twelve raids box office ocean s twelve..."
      ]
     },
     "execution_count": 333,
     "metadata": {},
     "output_type": "execute_result"
    }
   ],
   "source": [
    "import pandas as pd\n",
    "df = pd.read_csv('/content/bbc-text.csv')\n",
    "df.head()"
   ]
  },
  {
   "cell_type": "code",
   "execution_count": 334,
   "metadata": {
    "colab": {
     "base_uri": "https://localhost:8080/",
     "height": 135
    },
    "executionInfo": {
     "elapsed": 21,
     "status": "ok",
     "timestamp": 1633858740963,
     "user": {
      "displayName": "Kavitha Chetana Didugu",
      "photoUrl": "https://lh3.googleusercontent.com/a-/AOh14GiR9fFlhcAForHB-O9VkrzPpHu-cpY20ZjiXXLIyU8=s64",
      "userId": "07214785061351746681"
     },
     "user_tz": -330
    },
    "id": "v0wflxvWOvut",
    "outputId": "0a82b5af-4dda-45cc-e75b-bc8cccbc0c4d"
   },
   "outputs": [
    {
     "data": {
      "application/vnd.google.colaboratory.intrinsic+json": {
       "type": "string"
      },
      "text/plain": [
       "'tv future in the hands of viewers with home theatre systems  plasma high-definition tvs  and digital video recorders moving into the living room  the way people watch tv will be radically different in five years  time.  that is according to an expert panel which gathered at the annual consumer electronics show in las vegas to discuss how these new technologies will impact one of our favourite pastimes. with the us leading the trend  programmes and other content will be delivered to viewers via home networks  through cable  satellite  telecoms companies  and broadband service providers to front rooms and portable devices.  one of the most talked-about technologies of ces has been digital and personal video recorders (dvr and pvr). these set-top boxes  like the us s tivo and the uk s sky+ system  allow people to record  store  play  pause and forward wind tv programmes when they want.  essentially  the technology allows for much more personalised tv. they are also being built-in to high-definition tv sets  which are big business in japan and the us  but slower to take off in europe because of the lack of high-definition programming. not only can people forward wind through adverts  they can also forget about abiding by network and channel schedules  putting together their own a-la-carte entertainment. but some us networks and cable and satellite companies are worried about what it means for them in terms of advertising revenues as well as  brand identity  and viewer loyalty to channels. although the us leads in this technology at the moment  it is also a concern that is being raised in europe  particularly with the growing uptake of services like sky+.  what happens here today  we will see in nine months to a years  time in the uk   adam hume  the bbc broadcast s futurologist told the bbc news website. for the likes of the bbc  there are no issues of lost advertising revenue yet. it is a more pressing issue at the moment for commercial uk broadcasters  but brand loyalty is important for everyone.  we will be talking more about content brands rather than network brands   said tim hanlon  from brand communications firm starcom mediavest.  the reality is that with broadband connections  anybody can be the producer of content.  he added:  the challenge now is that it is hard to promote a programme with so much choice.   what this means  said stacey jolna  senior vice president of tv guide tv group  is that the way people find the content they want to watch has to be simplified for tv viewers. it means that networks  in us terms  or channels could take a leaf out of google s book and be the search engine of the future  instead of the scheduler to help people find what they want to watch. this kind of channel model might work for the younger ipod generation which is used to taking control of their gadgets and what they play on them. but it might not suit everyone  the panel recognised. older generations are more comfortable with familiar schedules and channel brands because they know what they are getting. they perhaps do not want so much of the choice put into their hands  mr hanlon suggested.  on the other end  you have the kids just out of diapers who are pushing buttons already - everything is possible and available to them   said mr hanlon.  ultimately  the consumer will tell the market they want.   of the 50 000 new gadgets and technologies being showcased at ces  many of them are about enhancing the tv-watching experience. high-definition tv sets are everywhere and many new models of lcd (liquid crystal display) tvs have been launched with dvr capability built into them  instead of being external boxes. one such example launched at the show is humax s 26-inch lcd tv with an 80-hour tivo dvr and dvd recorder. one of the us s biggest satellite tv companies  directtv  has even launched its own branded dvr at the show with 100-hours of recording capability  instant replay  and a search function. the set can pause and rewind tv for up to 90 hours. and microsoft chief bill gates announced in his pre-show keynote speech a partnership with tivo  called tivotogo  which means people can play recorded programmes on windows pcs and mobile devices. all these reflect the increasing trend of freeing up multimedia so that people can watch what they want  when they want.'"
      ]
     },
     "execution_count": 334,
     "metadata": {},
     "output_type": "execute_result"
    }
   ],
   "source": [
    "df['text'][0]"
   ]
  },
  {
   "cell_type": "markdown",
   "metadata": {
    "id": "lZRFTXec7-R7"
   },
   "source": [
    "### Tokenizer\n",
    "Regular expression based tokenizers to consider only alphabetical sequences and ignore numerical sequences."
   ]
  },
  {
   "cell_type": "code",
   "execution_count": 335,
   "metadata": {
    "executionInfo": {
     "elapsed": 20,
     "status": "ok",
     "timestamp": 1633858740963,
     "user": {
      "displayName": "Kavitha Chetana Didugu",
      "photoUrl": "https://lh3.googleusercontent.com/a-/AOh14GiR9fFlhcAForHB-O9VkrzPpHu-cpY20ZjiXXLIyU8=s64",
      "userId": "07214785061351746681"
     },
     "user_tz": -330
    },
    "id": "v6H1UTDM7-R8"
   },
   "outputs": [],
   "source": [
    "def complaint_to_words(comp):\n",
    "    \n",
    "    words = RegexpTokenizer('\\w+').tokenize(comp)\n",
    "    words = [re.sub(r'([xx]+)|([XX]+)|(\\d+)', '', w).lower() for w in words]\n",
    "    words = list(filter(lambda a: a != '', words))\n",
    "    \n",
    "    return words"
   ]
  },
  {
   "cell_type": "code",
   "execution_count": 336,
   "metadata": {
    "executionInfo": {
     "elapsed": 21,
     "status": "ok",
     "timestamp": 1633858740964,
     "user": {
      "displayName": "Kavitha Chetana Didugu",
      "photoUrl": "https://lh3.googleusercontent.com/a-/AOh14GiR9fFlhcAForHB-O9VkrzPpHu-cpY20ZjiXXLIyU8=s64",
      "userId": "07214785061351746681"
     },
     "user_tz": -330
    },
    "id": "lk9s9BPzOSuF"
   },
   "outputs": [],
   "source": [
    "text = \"I have outdated information on my credit report that I have previously disputed that has yet to be removed this information xx is XX more then seven years old and 12.1 does not meet credit reporting requirements\""
   ]
  },
  {
   "cell_type": "code",
   "execution_count": 337,
   "metadata": {
    "executionInfo": {
     "elapsed": 21,
     "status": "ok",
     "timestamp": 1633858740964,
     "user": {
      "displayName": "Kavitha Chetana Didugu",
      "photoUrl": "https://lh3.googleusercontent.com/a-/AOh14GiR9fFlhcAForHB-O9VkrzPpHu-cpY20ZjiXXLIyU8=s64",
      "userId": "07214785061351746681"
     },
     "user_tz": -330
    },
    "id": "UaAMhy4zPA3n"
   },
   "outputs": [],
   "source": [
    "words = complaint_to_words(text)"
   ]
  },
  {
   "cell_type": "code",
   "execution_count": 338,
   "metadata": {
    "colab": {
     "base_uri": "https://localhost:8080/"
    },
    "executionInfo": {
     "elapsed": 20,
     "status": "ok",
     "timestamp": 1633858740964,
     "user": {
      "displayName": "Kavitha Chetana Didugu",
      "photoUrl": "https://lh3.googleusercontent.com/a-/AOh14GiR9fFlhcAForHB-O9VkrzPpHu-cpY20ZjiXXLIyU8=s64",
      "userId": "07214785061351746681"
     },
     "user_tz": -330
    },
    "id": "WLQJF_TCPGI8",
    "outputId": "0c34d30d-1f05-4e3a-82b6-8efbd448a3d6"
   },
   "outputs": [
    {
     "data": {
      "text/plain": [
       "['i',\n",
       " 'have',\n",
       " 'outdated',\n",
       " 'information',\n",
       " 'on',\n",
       " 'my',\n",
       " 'credit',\n",
       " 'report',\n",
       " 'that',\n",
       " 'i',\n",
       " 'have',\n",
       " 'previously',\n",
       " 'disputed',\n",
       " 'that',\n",
       " 'has',\n",
       " 'yet',\n",
       " 'to',\n",
       " 'be',\n",
       " 'removed',\n",
       " 'this',\n",
       " 'information',\n",
       " 'is',\n",
       " 'more',\n",
       " 'then',\n",
       " 'seven',\n",
       " 'years',\n",
       " 'old',\n",
       " 'and',\n",
       " 'does',\n",
       " 'not',\n",
       " 'meet',\n",
       " 'credit',\n",
       " 'reporting',\n",
       " 'requirements']"
      ]
     },
     "execution_count": 338,
     "metadata": {},
     "output_type": "execute_result"
    }
   ],
   "source": [
    "words"
   ]
  },
  {
   "cell_type": "markdown",
   "metadata": {
    "id": "yafpgOxe7-SA"
   },
   "source": [
    "### Vocabulary\n",
    "Extracing all the unique words from the dataset"
   ]
  },
  {
   "cell_type": "code",
   "execution_count": 339,
   "metadata": {
    "colab": {
     "base_uri": "https://localhost:8080/"
    },
    "executionInfo": {
     "elapsed": 18,
     "status": "ok",
     "timestamp": 1633858740965,
     "user": {
      "displayName": "Kavitha Chetana Didugu",
      "photoUrl": "https://lh3.googleusercontent.com/a-/AOh14GiR9fFlhcAForHB-O9VkrzPpHu-cpY20ZjiXXLIyU8=s64",
      "userId": "07214785061351746681"
     },
     "user_tz": -330
    },
    "id": "7t_nPTF3noy-",
    "outputId": "3cf3f2a8-9f07-4d26-eb4a-ae1f4c564ea1"
   },
   "outputs": [
    {
     "data": {
      "text/plain": [
       "(2225, 2)"
      ]
     },
     "execution_count": 339,
     "metadata": {},
     "output_type": "execute_result"
    }
   ],
   "source": [
    "df.shape"
   ]
  },
  {
   "cell_type": "code",
   "execution_count": 340,
   "metadata": {
    "executionInfo": {
     "elapsed": 2303,
     "status": "ok",
     "timestamp": 1633858743253,
     "user": {
      "displayName": "Kavitha Chetana Didugu",
      "photoUrl": "https://lh3.googleusercontent.com/a-/AOh14GiR9fFlhcAForHB-O9VkrzPpHu-cpY20ZjiXXLIyU8=s64",
      "userId": "07214785061351746681"
     },
     "user_tz": -330
    },
    "id": "0RgXmo-N7-SC"
   },
   "outputs": [],
   "source": [
    "all_words = list()\n",
    "for comp in df['text']:\n",
    "    for w in complaint_to_words(comp):\n",
    "        all_words.append(w)"
   ]
  },
  {
   "cell_type": "code",
   "execution_count": 341,
   "metadata": {
    "colab": {
     "base_uri": "https://localhost:8080/"
    },
    "executionInfo": {
     "elapsed": 18,
     "status": "ok",
     "timestamp": 1633858743253,
     "user": {
      "displayName": "Kavitha Chetana Didugu",
      "photoUrl": "https://lh3.googleusercontent.com/a-/AOh14GiR9fFlhcAForHB-O9VkrzPpHu-cpY20ZjiXXLIyU8=s64",
      "userId": "07214785061351746681"
     },
     "user_tz": -330
    },
    "id": "8T_RNzwy7-SF",
    "outputId": "c8a80ee9-1cb1-40bf-f647-88050f1a1be4"
   },
   "outputs": [
    {
     "name": "stdout",
     "output_type": "stream",
     "text": [
      "Size of vocabulary: 27850\n"
     ]
    }
   ],
   "source": [
    "print('Size of vocabulary: {}'.format(len(set(all_words))))"
   ]
  },
  {
   "cell_type": "code",
   "execution_count": 342,
   "metadata": {
    "colab": {
     "base_uri": "https://localhost:8080/"
    },
    "executionInfo": {
     "elapsed": 13,
     "status": "ok",
     "timestamp": 1633858743254,
     "user": {
      "displayName": "Kavitha Chetana Didugu",
      "photoUrl": "https://lh3.googleusercontent.com/a-/AOh14GiR9fFlhcAForHB-O9VkrzPpHu-cpY20ZjiXXLIyU8=s64",
      "userId": "07214785061351746681"
     },
     "user_tz": -330
    },
    "id": "SP_SuS4tn1kF",
    "outputId": "424bd1f9-7591-4a1f-c4be-fd702c3b22b7"
   },
   "outputs": [
    {
     "data": {
      "text/plain": [
       "['player', 'more', 'of', 'the', 'same', 'in', 'future', 'please', 'he']"
      ]
     },
     "execution_count": 342,
     "metadata": {},
     "output_type": "execute_result"
    }
   ],
   "source": [
    "all_words[-10:-1]"
   ]
  },
  {
   "cell_type": "code",
   "execution_count": 343,
   "metadata": {
    "colab": {
     "base_uri": "https://localhost:8080/"
    },
    "executionInfo": {
     "elapsed": 10,
     "status": "ok",
     "timestamp": 1633858743254,
     "user": {
      "displayName": "Kavitha Chetana Didugu",
      "photoUrl": "https://lh3.googleusercontent.com/a-/AOh14GiR9fFlhcAForHB-O9VkrzPpHu-cpY20ZjiXXLIyU8=s64",
      "userId": "07214785061351746681"
     },
     "user_tz": -330
    },
    "id": "Dbh2Y10y7-SL",
    "outputId": "f520c180-a223-47f6-c14c-03a039ad7940"
   },
   "outputs": [
    {
     "name": "stdout",
     "output_type": "stream",
     "text": [
      "Complaint\n",
      " berlin cheers for anti-nazi film a german movie about an anti-nazi resistance heroine has drawn loud applause at berlin film festival.  sophie scholl - the final days portrays the final days of the member of the white rose movement. scholl  21  was arrested and beheaded with her brother  hans  in 1943 for distributing leaflets condemning the  abhorrent tyranny  of adolf hitler. director marc rothemund said:  i have a feeling of responsibility to keep the legacy of the scholls going.   we must somehow keep their ideas alive   he added.  the film drew on transcripts of gestapo interrogations and scholl s trial preserved in the archive of communist east germany s secret police. their discovery was the inspiration behind the film for rothemund  who worked closely with surviving relatives  including one of scholl s sisters  to ensure historical accuracy on the film. scholl and other members of the white rose resistance group first started distributing anti-nazi leaflets in the summer of 1942. they were arrested as they dropped leaflets at munich university calling for a  day of reckoning  with adolf hitler s regime. the film focuses on the six days from scholl s arrest to the intense trial which saw scholl initially deny the charges and ended with a defiant appearance. it is one of three german films vying for a top prize at the festival.  a south african film version of bizet s tragic opera carmen shot in cape town in the xhosa language has also premiered at the berlin festival. the film is entitled u-carmen ekhayelitsha or carmen in khayelitsha after the township in which the story is set. it is performed by a 40-strong music and theatre troupe in their debut film performance. the film is the first south african feature in 25 years and only the second to be nominated for a golden bear award. \n",
      "\n",
      "Tokens\n",
      " ['berlin', 'cheers', 'for', 'anti', 'nazi', 'film', 'a', 'german', 'movie', 'about', 'an', 'anti', 'nazi', 'resistance', 'heroine', 'has', 'drawn', 'loud', 'applause', 'at', 'berlin', 'film', 'festival', 'sophie', 'scholl', 'the', 'final', 'days', 'portrays', 'the', 'final', 'days', 'of', 'the', 'member', 'of', 'the', 'white', 'rose', 'movement', 'scholl', 'was', 'arrested', 'and', 'beheaded', 'with', 'her', 'brother', 'hans', 'in', 'for', 'distributing', 'leaflets', 'condemning', 'the', 'abhorrent', 'tyranny', 'of', 'adolf', 'hitler', 'director', 'marc', 'rothemund', 'said', 'i', 'have', 'a', 'feeling', 'of', 'responsibility', 'to', 'keep', 'the', 'legacy', 'of', 'the', 'scholls', 'going', 'we', 'must', 'somehow', 'keep', 'their', 'ideas', 'alive', 'he', 'added', 'the', 'film', 'drew', 'on', 'transcripts', 'of', 'gestapo', 'interrogations', 'and', 'scholl', 's', 'trial', 'preserved', 'in', 'the', 'archive', 'of', 'communist', 'east', 'germany', 's', 'secret', 'police', 'their', 'discovery', 'was', 'the', 'inspiration', 'behind', 'the', 'film', 'for', 'rothemund', 'who', 'worked', 'closely', 'with', 'surviving', 'relatives', 'including', 'one', 'of', 'scholl', 's', 'sisters', 'to', 'ensure', 'historical', 'accuracy', 'on', 'the', 'film', 'scholl', 'and', 'other', 'members', 'of', 'the', 'white', 'rose', 'resistance', 'group', 'first', 'started', 'distributing', 'anti', 'nazi', 'leaflets', 'in', 'the', 'summer', 'of', 'they', 'were', 'arrested', 'as', 'they', 'dropped', 'leaflets', 'at', 'munich', 'university', 'calling', 'for', 'a', 'day', 'of', 'reckoning', 'with', 'adolf', 'hitler', 's', 'regime', 'the', 'film', 'focuses', 'on', 'the', 'si', 'days', 'from', 'scholl', 's', 'arrest', 'to', 'the', 'intense', 'trial', 'which', 'saw', 'scholl', 'initially', 'deny', 'the', 'charges', 'and', 'ended', 'with', 'a', 'defiant', 'appearance', 'it', 'is', 'one', 'of', 'three', 'german', 'films', 'vying', 'for', 'a', 'top', 'prize', 'at', 'the', 'festival', 'a', 'south', 'african', 'film', 'version', 'of', 'bizet', 's', 'tragic', 'opera', 'carmen', 'shot', 'in', 'cape', 'town', 'in', 'the', 'hosa', 'language', 'has', 'also', 'premiered', 'at', 'the', 'berlin', 'festival', 'the', 'film', 'is', 'entitled', 'u', 'carmen', 'ekhayelitsha', 'or', 'carmen', 'in', 'khayelitsha', 'after', 'the', 'township', 'in', 'which', 'the', 'story', 'is', 'set', 'it', 'is', 'performed', 'by', 'a', 'strong', 'music', 'and', 'theatre', 'troupe', 'in', 'their', 'debut', 'film', 'performance', 'the', 'film', 'is', 'the', 'first', 'south', 'african', 'feature', 'in', 'years', 'and', 'only', 'the', 'second', 'to', 'be', 'nominated', 'for', 'a', 'golden', 'bear', 'award']\n"
     ]
    }
   ],
   "source": [
    "print('Complaint\\n', df['text'][10], '\\n')\n",
    "print('Tokens\\n', complaint_to_words(df['text'][10]))"
   ]
  },
  {
   "cell_type": "markdown",
   "metadata": {
    "id": "YHi4vCGX7-SU"
   },
   "source": [
    "### Indexing\n",
    "Indexing each unique word in the dataset by assigning it a unique number."
   ]
  },
  {
   "cell_type": "code",
   "execution_count": 344,
   "metadata": {
    "executionInfo": {
     "elapsed": 8,
     "status": "ok",
     "timestamp": 1633858743255,
     "user": {
      "displayName": "Kavitha Chetana Didugu",
      "photoUrl": "https://lh3.googleusercontent.com/a-/AOh14GiR9fFlhcAForHB-O9VkrzPpHu-cpY20ZjiXXLIyU8=s64",
      "userId": "07214785061351746681"
     },
     "user_tz": -330
    },
    "id": "-ClRX_y07-SW"
   },
   "outputs": [],
   "source": [
    "index_dict = dict()\n",
    "count = 1\n",
    "index_dict['<unk>'] = 0\n",
    "for word in set(all_words):\n",
    "    index_dict[word] = count\n",
    "    count += 1"
   ]
  },
  {
   "cell_type": "code",
   "execution_count": 345,
   "metadata": {
    "executionInfo": {
     "elapsed": 8,
     "status": "ok",
     "timestamp": 1633858743255,
     "user": {
      "displayName": "Kavitha Chetana Didugu",
      "photoUrl": "https://lh3.googleusercontent.com/a-/AOh14GiR9fFlhcAForHB-O9VkrzPpHu-cpY20ZjiXXLIyU8=s64",
      "userId": "07214785061351746681"
     },
     "user_tz": -330
    },
    "id": "uBjaTqz_PslQ"
   },
   "outputs": [],
   "source": [
    "#index_dict"
   ]
  },
  {
   "cell_type": "markdown",
   "metadata": {
    "id": "vv8dIbF47-Sa"
   },
   "source": [
    "### Dataset\n",
    "Utilizing indexed words to replace words by index. This makes the dataset numerical and keras readable."
   ]
  },
  {
   "cell_type": "code",
   "execution_count": 346,
   "metadata": {
    "executionInfo": {
     "elapsed": 15507,
     "status": "ok",
     "timestamp": 1633858758754,
     "user": {
      "displayName": "Kavitha Chetana Didugu",
      "photoUrl": "https://lh3.googleusercontent.com/a-/AOh14GiR9fFlhcAForHB-O9VkrzPpHu-cpY20ZjiXXLIyU8=s64",
      "userId": "07214785061351746681"
     },
     "user_tz": -330
    },
    "id": "u1OJzln_7-Sb"
   },
   "outputs": [],
   "source": [
    "embeddings_index = {}\n",
    "f = open('/content/glove.6B.300d.txt') # GLOBAL VECTOR\n",
    "for line in f:\n",
    "    values = line.split()\n",
    "    word = values[0]\n",
    "    coefs = np.asarray(values[1:], dtype='float32')\n",
    "    embeddings_index[word] = coefs\n",
    "f.close()"
   ]
  },
  {
   "cell_type": "code",
   "execution_count": 347,
   "metadata": {
    "executionInfo": {
     "elapsed": 11,
     "status": "ok",
     "timestamp": 1633858758754,
     "user": {
      "displayName": "Kavitha Chetana Didugu",
      "photoUrl": "https://lh3.googleusercontent.com/a-/AOh14GiR9fFlhcAForHB-O9VkrzPpHu-cpY20ZjiXXLIyU8=s64",
      "userId": "07214785061351746681"
     },
     "user_tz": -330
    },
    "id": "kamjYuBlps04"
   },
   "outputs": [],
   "source": [
    "#embeddings_index"
   ]
  },
  {
   "cell_type": "code",
   "execution_count": 348,
   "metadata": {
    "executionInfo": {
     "elapsed": 11,
     "status": "ok",
     "timestamp": 1633858758755,
     "user": {
      "displayName": "Kavitha Chetana Didugu",
      "photoUrl": "https://lh3.googleusercontent.com/a-/AOh14GiR9fFlhcAForHB-O9VkrzPpHu-cpY20ZjiXXLIyU8=s64",
      "userId": "07214785061351746681"
     },
     "user_tz": -330
    },
    "id": "x_2WyPwASs2A"
   },
   "outputs": [],
   "source": [
    "# emmbed_dict = {}\n",
    "# with open('/content/glove.6B.200d.txt','r') as f:\n",
    "#   for line in f:\n",
    "#     values = line.split()\n",
    "#     word = values[0]\n",
    "#     vector = np.asarray(values[1:],'float32')\n",
    "#     emmbed_dict[word]=vector"
   ]
  },
  {
   "cell_type": "code",
   "execution_count": 349,
   "metadata": {
    "executionInfo": {
     "elapsed": 10,
     "status": "ok",
     "timestamp": 1633858758755,
     "user": {
      "displayName": "Kavitha Chetana Didugu",
      "photoUrl": "https://lh3.googleusercontent.com/a-/AOh14GiR9fFlhcAForHB-O9VkrzPpHu-cpY20ZjiXXLIyU8=s64",
      "userId": "07214785061351746681"
     },
     "user_tz": -330
    },
    "id": "nspSa6MHe20Z"
   },
   "outputs": [],
   "source": [
    "from scipy import spatial"
   ]
  },
  {
   "cell_type": "code",
   "execution_count": 350,
   "metadata": {
    "executionInfo": {
     "elapsed": 10,
     "status": "ok",
     "timestamp": 1633858758755,
     "user": {
      "displayName": "Kavitha Chetana Didugu",
      "photoUrl": "https://lh3.googleusercontent.com/a-/AOh14GiR9fFlhcAForHB-O9VkrzPpHu-cpY20ZjiXXLIyU8=s64",
      "userId": "07214785061351746681"
     },
     "user_tz": -330
    },
    "id": "vZSVBmDwb_7E"
   },
   "outputs": [],
   "source": [
    "def find_similar_word(emmbedes):\n",
    "  nearest = sorted(embeddings_index.keys(), key=lambda word: spatial.distance.euclidean(embeddings_index[word], emmbedes))\n",
    "  return nearest\n"
   ]
  },
  {
   "cell_type": "code",
   "execution_count": 351,
   "metadata": {
    "executionInfo": {
     "elapsed": 12,
     "status": "ok",
     "timestamp": 1633858758757,
     "user": {
      "displayName": "Kavitha Chetana Didugu",
      "photoUrl": "https://lh3.googleusercontent.com/a-/AOh14GiR9fFlhcAForHB-O9VkrzPpHu-cpY20ZjiXXLIyU8=s64",
      "userId": "07214785061351746681"
     },
     "user_tz": -330
    },
    "id": "nXbmRCHkdZ9Q"
   },
   "outputs": [],
   "source": [
    "#find_similar_word(embeddings_index['rat'])#[0:10]"
   ]
  },
  {
   "cell_type": "code",
   "execution_count": 352,
   "metadata": {
    "executionInfo": {
     "elapsed": 12,
     "status": "ok",
     "timestamp": 1633858758757,
     "user": {
      "displayName": "Kavitha Chetana Didugu",
      "photoUrl": "https://lh3.googleusercontent.com/a-/AOh14GiR9fFlhcAForHB-O9VkrzPpHu-cpY20ZjiXXLIyU8=s64",
      "userId": "07214785061351746681"
     },
     "user_tz": -330
    },
    "id": "s5jtMKZUT_O7"
   },
   "outputs": [],
   "source": [
    "#len(embeddings_index['unk'])"
   ]
  },
  {
   "cell_type": "code",
   "execution_count": 353,
   "metadata": {
    "executionInfo": {
     "elapsed": 12,
     "status": "ok",
     "timestamp": 1633858758758,
     "user": {
      "displayName": "Kavitha Chetana Didugu",
      "photoUrl": "https://lh3.googleusercontent.com/a-/AOh14GiR9fFlhcAForHB-O9VkrzPpHu-cpY20ZjiXXLIyU8=s64",
      "userId": "07214785061351746681"
     },
     "user_tz": -330
    },
    "id": "Oc2c2R5uS7Hf"
   },
   "outputs": [],
   "source": [
    "#embeddings_list = embeddings_index.items()"
   ]
  },
  {
   "cell_type": "code",
   "execution_count": 354,
   "metadata": {
    "executionInfo": {
     "elapsed": 11,
     "status": "ok",
     "timestamp": 1633858758758,
     "user": {
      "displayName": "Kavitha Chetana Didugu",
      "photoUrl": "https://lh3.googleusercontent.com/a-/AOh14GiR9fFlhcAForHB-O9VkrzPpHu-cpY20ZjiXXLIyU8=s64",
      "userId": "07214785061351746681"
     },
     "user_tz": -330
    },
    "id": "4Z4yPjpFTNDk"
   },
   "outputs": [],
   "source": [
    "#list(embeddings_list)[99:101]"
   ]
  },
  {
   "cell_type": "markdown",
   "metadata": {
    "id": "s--9I9d5msCp"
   },
   "source": [
    "#### Taking average of all word embeddings in a sentence to generate the sentence representation."
   ]
  },
  {
   "cell_type": "code",
   "execution_count": 355,
   "metadata": {
    "executionInfo": {
     "elapsed": 4350,
     "status": "ok",
     "timestamp": 1633858763098,
     "user": {
      "displayName": "Kavitha Chetana Didugu",
      "photoUrl": "https://lh3.googleusercontent.com/a-/AOh14GiR9fFlhcAForHB-O9VkrzPpHu-cpY20ZjiXXLIyU8=s64",
      "userId": "07214785061351746681"
     },
     "user_tz": -330
    },
    "id": "aN13GyDe7-Sd"
   },
   "outputs": [],
   "source": [
    "data_list = list()\n",
    "for comp in df['text']:\n",
    "    sentence = np.zeros(300)\n",
    "    count = 0\n",
    "    for w in complaint_to_words(comp):\n",
    "        try:\n",
    "            sentence += embeddings_index[w]\n",
    "            count += 1\n",
    "        except KeyError:\n",
    "            continue\n",
    "    data_list.append(sentence / count)"
   ]
  },
  {
   "cell_type": "code",
   "execution_count": 356,
   "metadata": {
    "colab": {
     "base_uri": "https://localhost:8080/"
    },
    "executionInfo": {
     "elapsed": 30,
     "status": "ok",
     "timestamp": 1633858763104,
     "user": {
      "displayName": "Kavitha Chetana Didugu",
      "photoUrl": "https://lh3.googleusercontent.com/a-/AOh14GiR9fFlhcAForHB-O9VkrzPpHu-cpY20ZjiXXLIyU8=s64",
      "userId": "07214785061351746681"
     },
     "user_tz": -330
    },
    "id": "Y_ilSX6QTuys",
    "outputId": "b1f38842-d01b-4450-9eeb-157ef40bc441"
   },
   "outputs": [
    {
     "data": {
      "text/plain": [
       "300"
      ]
     },
     "execution_count": 356,
     "metadata": {},
     "output_type": "execute_result"
    }
   ],
   "source": [
    "len(data_list[0])"
   ]
  },
  {
   "cell_type": "markdown",
   "metadata": {
    "id": "OYZ703hVm5Cg"
   },
   "source": [
    "#### Converting categrical labels to numerical format and further one hot encoding on the numerical labels."
   ]
  },
  {
   "cell_type": "code",
   "execution_count": 357,
   "metadata": {
    "colab": {
     "base_uri": "https://localhost:8080/",
     "height": 414
    },
    "executionInfo": {
     "elapsed": 38,
     "status": "ok",
     "timestamp": 1633858763119,
     "user": {
      "displayName": "Kavitha Chetana Didugu",
      "photoUrl": "https://lh3.googleusercontent.com/a-/AOh14GiR9fFlhcAForHB-O9VkrzPpHu-cpY20ZjiXXLIyU8=s64",
      "userId": "07214785061351746681"
     },
     "user_tz": -330
    },
    "id": "tkOicZ3XkZq_",
    "outputId": "5a9833af-add0-49d9-e028-3f8714ef3ffc"
   },
   "outputs": [
    {
     "data": {
      "text/html": [
       "<div>\n",
       "<style scoped>\n",
       "    .dataframe tbody tr th:only-of-type {\n",
       "        vertical-align: middle;\n",
       "    }\n",
       "\n",
       "    .dataframe tbody tr th {\n",
       "        vertical-align: top;\n",
       "    }\n",
       "\n",
       "    .dataframe thead th {\n",
       "        text-align: right;\n",
       "    }\n",
       "</style>\n",
       "<table border=\"1\" class=\"dataframe\">\n",
       "  <thead>\n",
       "    <tr style=\"text-align: right;\">\n",
       "      <th></th>\n",
       "      <th>category</th>\n",
       "      <th>text</th>\n",
       "    </tr>\n",
       "  </thead>\n",
       "  <tbody>\n",
       "    <tr>\n",
       "      <th>0</th>\n",
       "      <td>tech</td>\n",
       "      <td>tv future in the hands of viewers with home th...</td>\n",
       "    </tr>\n",
       "    <tr>\n",
       "      <th>1</th>\n",
       "      <td>business</td>\n",
       "      <td>worldcom boss  left books alone  former worldc...</td>\n",
       "    </tr>\n",
       "    <tr>\n",
       "      <th>2</th>\n",
       "      <td>sport</td>\n",
       "      <td>tigers wary of farrell  gamble  leicester say ...</td>\n",
       "    </tr>\n",
       "    <tr>\n",
       "      <th>3</th>\n",
       "      <td>sport</td>\n",
       "      <td>yeading face newcastle in fa cup premiership s...</td>\n",
       "    </tr>\n",
       "    <tr>\n",
       "      <th>4</th>\n",
       "      <td>entertainment</td>\n",
       "      <td>ocean s twelve raids box office ocean s twelve...</td>\n",
       "    </tr>\n",
       "    <tr>\n",
       "      <th>...</th>\n",
       "      <td>...</td>\n",
       "      <td>...</td>\n",
       "    </tr>\n",
       "    <tr>\n",
       "      <th>2220</th>\n",
       "      <td>business</td>\n",
       "      <td>cars pull down us retail figures us retail sal...</td>\n",
       "    </tr>\n",
       "    <tr>\n",
       "      <th>2221</th>\n",
       "      <td>politics</td>\n",
       "      <td>kilroy unveils immigration policy ex-chatshow ...</td>\n",
       "    </tr>\n",
       "    <tr>\n",
       "      <th>2222</th>\n",
       "      <td>entertainment</td>\n",
       "      <td>rem announce new glasgow concert us band rem h...</td>\n",
       "    </tr>\n",
       "    <tr>\n",
       "      <th>2223</th>\n",
       "      <td>politics</td>\n",
       "      <td>how political squabbles snowball it s become c...</td>\n",
       "    </tr>\n",
       "    <tr>\n",
       "      <th>2224</th>\n",
       "      <td>sport</td>\n",
       "      <td>souness delight at euro progress boss graeme s...</td>\n",
       "    </tr>\n",
       "  </tbody>\n",
       "</table>\n",
       "<p>2225 rows × 2 columns</p>\n",
       "</div>"
      ],
      "text/plain": [
       "           category                                               text\n",
       "0              tech  tv future in the hands of viewers with home th...\n",
       "1          business  worldcom boss  left books alone  former worldc...\n",
       "2             sport  tigers wary of farrell  gamble  leicester say ...\n",
       "3             sport  yeading face newcastle in fa cup premiership s...\n",
       "4     entertainment  ocean s twelve raids box office ocean s twelve...\n",
       "...             ...                                                ...\n",
       "2220       business  cars pull down us retail figures us retail sal...\n",
       "2221       politics  kilroy unveils immigration policy ex-chatshow ...\n",
       "2222  entertainment  rem announce new glasgow concert us band rem h...\n",
       "2223       politics  how political squabbles snowball it s become c...\n",
       "2224          sport  souness delight at euro progress boss graeme s...\n",
       "\n",
       "[2225 rows x 2 columns]"
      ]
     },
     "execution_count": 357,
     "metadata": {},
     "output_type": "execute_result"
    }
   ],
   "source": [
    "df"
   ]
  },
  {
   "cell_type": "code",
   "execution_count": 358,
   "metadata": {
    "colab": {
     "base_uri": "https://localhost:8080/",
     "height": 552
    },
    "executionInfo": {
     "elapsed": 45,
     "status": "error",
     "timestamp": 1633858763127,
     "user": {
      "displayName": "Kavitha Chetana Didugu",
      "photoUrl": "https://lh3.googleusercontent.com/a-/AOh14GiR9fFlhcAForHB-O9VkrzPpHu-cpY20ZjiXXLIyU8=s64",
      "userId": "07214785061351746681"
     },
     "user_tz": -330
    },
    "id": "EoR79rtZ7-Sr",
    "outputId": "117ac1ae-0d5b-4bf1-afa9-595f892af739"
   },
   "outputs": [
    {
     "ename": "KeyError",
     "evalue": "ignored",
     "output_type": "error",
     "traceback": [
      "\u001b[0;31m---------------------------------------------------------------------------\u001b[0m",
      "\u001b[0;31mKeyError\u001b[0m                                  Traceback (most recent call last)",
      "\u001b[0;32m/usr/local/lib/python3.7/dist-packages/pandas/core/indexes/base.py\u001b[0m in \u001b[0;36mget_loc\u001b[0;34m(self, key, method, tolerance)\u001b[0m\n\u001b[1;32m   2897\u001b[0m             \u001b[0;32mtry\u001b[0m\u001b[0;34m:\u001b[0m\u001b[0;34m\u001b[0m\u001b[0;34m\u001b[0m\u001b[0m\n\u001b[0;32m-> 2898\u001b[0;31m                 \u001b[0;32mreturn\u001b[0m \u001b[0mself\u001b[0m\u001b[0;34m.\u001b[0m\u001b[0m_engine\u001b[0m\u001b[0;34m.\u001b[0m\u001b[0mget_loc\u001b[0m\u001b[0;34m(\u001b[0m\u001b[0mcasted_key\u001b[0m\u001b[0;34m)\u001b[0m\u001b[0;34m\u001b[0m\u001b[0;34m\u001b[0m\u001b[0m\n\u001b[0m\u001b[1;32m   2899\u001b[0m             \u001b[0;32mexcept\u001b[0m \u001b[0mKeyError\u001b[0m \u001b[0;32mas\u001b[0m \u001b[0merr\u001b[0m\u001b[0;34m:\u001b[0m\u001b[0;34m\u001b[0m\u001b[0;34m\u001b[0m\u001b[0m\n",
      "\u001b[0;32mpandas/_libs/index.pyx\u001b[0m in \u001b[0;36mpandas._libs.index.IndexEngine.get_loc\u001b[0;34m()\u001b[0m\n",
      "\u001b[0;32mpandas/_libs/index.pyx\u001b[0m in \u001b[0;36mpandas._libs.index.IndexEngine.get_loc\u001b[0;34m()\u001b[0m\n",
      "\u001b[0;32mpandas/_libs/hashtable_class_helper.pxi\u001b[0m in \u001b[0;36mpandas._libs.hashtable.PyObjectHashTable.get_item\u001b[0;34m()\u001b[0m\n",
      "\u001b[0;32mpandas/_libs/hashtable_class_helper.pxi\u001b[0m in \u001b[0;36mpandas._libs.hashtable.PyObjectHashTable.get_item\u001b[0;34m()\u001b[0m\n",
      "\u001b[0;31mKeyError\u001b[0m: 'Product'",
      "\nThe above exception was the direct cause of the following exception:\n",
      "\u001b[0;31mKeyError\u001b[0m                                  Traceback (most recent call last)",
      "\u001b[0;32m<ipython-input-358-b1719e263011>\u001b[0m in \u001b[0;36m<module>\u001b[0;34m()\u001b[0m\n\u001b[1;32m      1\u001b[0m \u001b[0;32mfrom\u001b[0m \u001b[0msklearn\u001b[0m \u001b[0;32mimport\u001b[0m \u001b[0mpreprocessing\u001b[0m\u001b[0;34m\u001b[0m\u001b[0;34m\u001b[0m\u001b[0m\n\u001b[1;32m      2\u001b[0m \u001b[0mle\u001b[0m \u001b[0;34m=\u001b[0m \u001b[0mpreprocessing\u001b[0m\u001b[0;34m.\u001b[0m\u001b[0mLabelEncoder\u001b[0m\u001b[0;34m(\u001b[0m\u001b[0;34m)\u001b[0m\u001b[0;34m\u001b[0m\u001b[0;34m\u001b[0m\u001b[0m\n\u001b[0;32m----> 3\u001b[0;31m \u001b[0mle\u001b[0m\u001b[0;34m.\u001b[0m\u001b[0mfit\u001b[0m\u001b[0;34m(\u001b[0m\u001b[0mdf\u001b[0m\u001b[0;34m[\u001b[0m\u001b[0;34m'Product'\u001b[0m\u001b[0;34m]\u001b[0m\u001b[0;34m)\u001b[0m\u001b[0;34m\u001b[0m\u001b[0;34m\u001b[0m\u001b[0m\n\u001b[0m\u001b[1;32m      4\u001b[0m \u001b[0mdf\u001b[0m\u001b[0;34m[\u001b[0m\u001b[0;34m'Target'\u001b[0m\u001b[0;34m]\u001b[0m \u001b[0;34m=\u001b[0m \u001b[0mle\u001b[0m\u001b[0;34m.\u001b[0m\u001b[0mtransform\u001b[0m\u001b[0;34m(\u001b[0m\u001b[0mdf\u001b[0m\u001b[0;34m[\u001b[0m\u001b[0;34m'category'\u001b[0m\u001b[0;34m]\u001b[0m\u001b[0;34m)\u001b[0m\u001b[0;34m\u001b[0m\u001b[0;34m\u001b[0m\u001b[0m\n\u001b[1;32m      5\u001b[0m \u001b[0mdf\u001b[0m\u001b[0;34m.\u001b[0m\u001b[0mhead\u001b[0m\u001b[0;34m(\u001b[0m\u001b[0;34m)\u001b[0m\u001b[0;34m\u001b[0m\u001b[0;34m\u001b[0m\u001b[0m\n",
      "\u001b[0;32m/usr/local/lib/python3.7/dist-packages/pandas/core/frame.py\u001b[0m in \u001b[0;36m__getitem__\u001b[0;34m(self, key)\u001b[0m\n\u001b[1;32m   2904\u001b[0m             \u001b[0;32mif\u001b[0m \u001b[0mself\u001b[0m\u001b[0;34m.\u001b[0m\u001b[0mcolumns\u001b[0m\u001b[0;34m.\u001b[0m\u001b[0mnlevels\u001b[0m \u001b[0;34m>\u001b[0m \u001b[0;36m1\u001b[0m\u001b[0;34m:\u001b[0m\u001b[0;34m\u001b[0m\u001b[0;34m\u001b[0m\u001b[0m\n\u001b[1;32m   2905\u001b[0m                 \u001b[0;32mreturn\u001b[0m \u001b[0mself\u001b[0m\u001b[0;34m.\u001b[0m\u001b[0m_getitem_multilevel\u001b[0m\u001b[0;34m(\u001b[0m\u001b[0mkey\u001b[0m\u001b[0;34m)\u001b[0m\u001b[0;34m\u001b[0m\u001b[0;34m\u001b[0m\u001b[0m\n\u001b[0;32m-> 2906\u001b[0;31m             \u001b[0mindexer\u001b[0m \u001b[0;34m=\u001b[0m \u001b[0mself\u001b[0m\u001b[0;34m.\u001b[0m\u001b[0mcolumns\u001b[0m\u001b[0;34m.\u001b[0m\u001b[0mget_loc\u001b[0m\u001b[0;34m(\u001b[0m\u001b[0mkey\u001b[0m\u001b[0;34m)\u001b[0m\u001b[0;34m\u001b[0m\u001b[0;34m\u001b[0m\u001b[0m\n\u001b[0m\u001b[1;32m   2907\u001b[0m             \u001b[0;32mif\u001b[0m \u001b[0mis_integer\u001b[0m\u001b[0;34m(\u001b[0m\u001b[0mindexer\u001b[0m\u001b[0;34m)\u001b[0m\u001b[0;34m:\u001b[0m\u001b[0;34m\u001b[0m\u001b[0;34m\u001b[0m\u001b[0m\n\u001b[1;32m   2908\u001b[0m                 \u001b[0mindexer\u001b[0m \u001b[0;34m=\u001b[0m \u001b[0;34m[\u001b[0m\u001b[0mindexer\u001b[0m\u001b[0;34m]\u001b[0m\u001b[0;34m\u001b[0m\u001b[0;34m\u001b[0m\u001b[0m\n",
      "\u001b[0;32m/usr/local/lib/python3.7/dist-packages/pandas/core/indexes/base.py\u001b[0m in \u001b[0;36mget_loc\u001b[0;34m(self, key, method, tolerance)\u001b[0m\n\u001b[1;32m   2898\u001b[0m                 \u001b[0;32mreturn\u001b[0m \u001b[0mself\u001b[0m\u001b[0;34m.\u001b[0m\u001b[0m_engine\u001b[0m\u001b[0;34m.\u001b[0m\u001b[0mget_loc\u001b[0m\u001b[0;34m(\u001b[0m\u001b[0mcasted_key\u001b[0m\u001b[0;34m)\u001b[0m\u001b[0;34m\u001b[0m\u001b[0;34m\u001b[0m\u001b[0m\n\u001b[1;32m   2899\u001b[0m             \u001b[0;32mexcept\u001b[0m \u001b[0mKeyError\u001b[0m \u001b[0;32mas\u001b[0m \u001b[0merr\u001b[0m\u001b[0;34m:\u001b[0m\u001b[0;34m\u001b[0m\u001b[0;34m\u001b[0m\u001b[0m\n\u001b[0;32m-> 2900\u001b[0;31m                 \u001b[0;32mraise\u001b[0m \u001b[0mKeyError\u001b[0m\u001b[0;34m(\u001b[0m\u001b[0mkey\u001b[0m\u001b[0;34m)\u001b[0m \u001b[0;32mfrom\u001b[0m \u001b[0merr\u001b[0m\u001b[0;34m\u001b[0m\u001b[0;34m\u001b[0m\u001b[0m\n\u001b[0m\u001b[1;32m   2901\u001b[0m \u001b[0;34m\u001b[0m\u001b[0m\n\u001b[1;32m   2902\u001b[0m         \u001b[0;32mif\u001b[0m \u001b[0mtolerance\u001b[0m \u001b[0;32mis\u001b[0m \u001b[0;32mnot\u001b[0m \u001b[0;32mNone\u001b[0m\u001b[0;34m:\u001b[0m\u001b[0;34m\u001b[0m\u001b[0;34m\u001b[0m\u001b[0m\n",
      "\u001b[0;31mKeyError\u001b[0m: 'Product'"
     ]
    }
   ],
   "source": [
    "from sklearn import preprocessing\n",
    "le = preprocessing.LabelEncoder()\n",
    "le.fit(df['Product'])\n",
    "df['Target'] = le.transform(df['category'])\n",
    "df.head()"
   ]
  },
  {
   "cell_type": "markdown",
   "metadata": {
    "id": "atXHKYN27-S0"
   },
   "source": [
    "### One hot Encoding"
   ]
  },
  {
   "cell_type": "code",
   "execution_count": null,
   "metadata": {
    "executionInfo": {
     "elapsed": 30,
     "status": "aborted",
     "timestamp": 1633858763120,
     "user": {
      "displayName": "Kavitha Chetana Didugu",
      "photoUrl": "https://lh3.googleusercontent.com/a-/AOh14GiR9fFlhcAForHB-O9VkrzPpHu-cpY20ZjiXXLIyU8=s64",
      "userId": "07214785061351746681"
     },
     "user_tz": -330
    },
    "id": "_RwGbO_L7-S4"
   },
   "outputs": [],
   "source": [
    "from sklearn.model_selection import train_test_split\n",
    "X_train, X_test, y_train, y_test = train_test_split(np.array(data_list), df.Target.values, \n",
    "    test_size=0.15, random_state=0)"
   ]
  },
  {
   "cell_type": "code",
   "execution_count": null,
   "metadata": {
    "executionInfo": {
     "elapsed": 30,
     "status": "aborted",
     "timestamp": 1633858763120,
     "user": {
      "displayName": "Kavitha Chetana Didugu",
      "photoUrl": "https://lh3.googleusercontent.com/a-/AOh14GiR9fFlhcAForHB-O9VkrzPpHu-cpY20ZjiXXLIyU8=s64",
      "userId": "07214785061351746681"
     },
     "user_tz": -330
    },
    "id": "K7XHJpLc7-S7"
   },
   "outputs": [],
   "source": [
    "print(X_train.shape)"
   ]
  },
  {
   "cell_type": "code",
   "execution_count": null,
   "metadata": {
    "executionInfo": {
     "elapsed": 31,
     "status": "aborted",
     "timestamp": 1633858763121,
     "user": {
      "displayName": "Kavitha Chetana Didugu",
      "photoUrl": "https://lh3.googleusercontent.com/a-/AOh14GiR9fFlhcAForHB-O9VkrzPpHu-cpY20ZjiXXLIyU8=s64",
      "userId": "07214785061351746681"
     },
     "user_tz": -330
    },
    "id": "ob2Az_Oq-h0x"
   },
   "outputs": [],
   "source": [
    "print(y_train.shape)"
   ]
  },
  {
   "cell_type": "markdown",
   "metadata": {
    "id": "sw7pp-WinSI5"
   },
   "source": [
    "#### Training and testing the classifier"
   ]
  },
  {
   "cell_type": "code",
   "execution_count": null,
   "metadata": {
    "executionInfo": {
     "elapsed": 32,
     "status": "aborted",
     "timestamp": 1633858763122,
     "user": {
      "displayName": "Kavitha Chetana Didugu",
      "photoUrl": "https://lh3.googleusercontent.com/a-/AOh14GiR9fFlhcAForHB-O9VkrzPpHu-cpY20ZjiXXLIyU8=s64",
      "userId": "07214785061351746681"
     },
     "user_tz": -330
    },
    "id": "--kThiN07-S_"
   },
   "outputs": [],
   "source": [
    "from sklearn.naive_bayes import BernoulliNB\n",
    "from sklearn.metrics import accuracy_score\n",
    "clf = BernoulliNB()\n",
    "clf.fit(X_train, y_train)\n",
    "pred = clf.predict(X_test)\n",
    "print(accuracy_score(y_test, pred))"
   ]
  },
  {
   "cell_type": "code",
   "execution_count": null,
   "metadata": {
    "executionInfo": {
     "elapsed": 32,
     "status": "aborted",
     "timestamp": 1633858763122,
     "user": {
      "displayName": "Kavitha Chetana Didugu",
      "photoUrl": "https://lh3.googleusercontent.com/a-/AOh14GiR9fFlhcAForHB-O9VkrzPpHu-cpY20ZjiXXLIyU8=s64",
      "userId": "07214785061351746681"
     },
     "user_tz": -330
    },
    "id": "Xpa6X2NEjvyW"
   },
   "outputs": [],
   "source": [
    "import nltk\n",
    "nltk.download('reuters')"
   ]
  },
  {
   "cell_type": "code",
   "execution_count": null,
   "metadata": {
    "executionInfo": {
     "elapsed": 33,
     "status": "aborted",
     "timestamp": 1633858763123,
     "user": {
      "displayName": "Kavitha Chetana Didugu",
      "photoUrl": "https://lh3.googleusercontent.com/a-/AOh14GiR9fFlhcAForHB-O9VkrzPpHu-cpY20ZjiXXLIyU8=s64",
      "userId": "07214785061351746681"
     },
     "user_tz": -330
    },
    "id": "a-iAlg-Lj1OB"
   },
   "outputs": [],
   "source": [
    "from nltk.corpus import reuters"
   ]
  },
  {
   "cell_type": "code",
   "execution_count": null,
   "metadata": {
    "executionInfo": {
     "elapsed": 33,
     "status": "aborted",
     "timestamp": 1633858763123,
     "user": {
      "displayName": "Kavitha Chetana Didugu",
      "photoUrl": "https://lh3.googleusercontent.com/a-/AOh14GiR9fFlhcAForHB-O9VkrzPpHu-cpY20ZjiXXLIyU8=s64",
      "userId": "07214785061351746681"
     },
     "user_tz": -330
    },
    "id": "gj4lejhNkNoz"
   },
   "outputs": [],
   "source": [
    "reuters.fileids()"
   ]
  },
  {
   "cell_type": "code",
   "execution_count": null,
   "metadata": {
    "executionInfo": {
     "elapsed": 33,
     "status": "aborted",
     "timestamp": 1633858763124,
     "user": {
      "displayName": "Kavitha Chetana Didugu",
      "photoUrl": "https://lh3.googleusercontent.com/a-/AOh14GiR9fFlhcAForHB-O9VkrzPpHu-cpY20ZjiXXLIyU8=s64",
      "userId": "07214785061351746681"
     },
     "user_tz": -330
    },
    "id": "chtAPDLJk49z"
   },
   "outputs": [],
   "source": [
    "nltk.download('reuters')"
   ]
  },
  {
   "cell_type": "code",
   "execution_count": null,
   "metadata": {
    "executionInfo": {
     "elapsed": 33,
     "status": "aborted",
     "timestamp": 1633858763124,
     "user": {
      "displayName": "Kavitha Chetana Didugu",
      "photoUrl": "https://lh3.googleusercontent.com/a-/AOh14GiR9fFlhcAForHB-O9VkrzPpHu-cpY20ZjiXXLIyU8=s64",
      "userId": "07214785061351746681"
     },
     "user_tz": -330
    },
    "id": "6ceuTHGLUwXS"
   },
   "outputs": [],
   "source": [
    "from sklearn.ensemble import RandomForestClassifier\n",
    "clf=RandomForestClassifier()\n",
    "clf.fit(X_train, y_train)\n",
    "pred = clf.predict(X_test)\n",
    "print(accuracy_score(y_test, pred))"
   ]
  },
  {
   "cell_type": "code",
   "execution_count": null,
   "metadata": {
    "executionInfo": {
     "elapsed": 34,
     "status": "aborted",
     "timestamp": 1633858763125,
     "user": {
      "displayName": "Kavitha Chetana Didugu",
      "photoUrl": "https://lh3.googleusercontent.com/a-/AOh14GiR9fFlhcAForHB-O9VkrzPpHu-cpY20ZjiXXLIyU8=s64",
      "userId": "07214785061351746681"
     },
     "user_tz": -330
    },
    "id": "aQwfI-8uXIIy"
   },
   "outputs": [],
   "source": []
  },
  {
   "cell_type": "markdown",
   "metadata": {
    "id": "B_7zOLhiaJ5k"
   },
   "source": [
    "\n",
    "\n",
    "\n",
    "\n"
   ]
  },
  {
   "cell_type": "code",
   "execution_count": null,
   "metadata": {
    "executionInfo": {
     "elapsed": 35,
     "status": "aborted",
     "timestamp": 1633858763126,
     "user": {
      "displayName": "Kavitha Chetana Didugu",
      "photoUrl": "https://lh3.googleusercontent.com/a-/AOh14GiR9fFlhcAForHB-O9VkrzPpHu-cpY20ZjiXXLIyU8=s64",
      "userId": "07214785061351746681"
     },
     "user_tz": -330
    },
    "id": "U0nE9cYWUkUX"
   },
   "outputs": [],
   "source": []
  }
 ],
 "metadata": {
  "anaconda-cloud": {},
  "colab": {
   "collapsed_sections": [],
   "name": "case_study.ipynb",
   "provenance": []
  },
  "kernelspec": {
   "display_name": "Python 3",
   "language": "python",
   "name": "python3"
  },
  "language_info": {
   "codemirror_mode": {
    "name": "ipython",
    "version": 3
   },
   "file_extension": ".py",
   "mimetype": "text/x-python",
   "name": "python",
   "nbconvert_exporter": "python",
   "pygments_lexer": "ipython3",
   "version": "3.8.3"
  }
 },
 "nbformat": 4,
 "nbformat_minor": 1
}
