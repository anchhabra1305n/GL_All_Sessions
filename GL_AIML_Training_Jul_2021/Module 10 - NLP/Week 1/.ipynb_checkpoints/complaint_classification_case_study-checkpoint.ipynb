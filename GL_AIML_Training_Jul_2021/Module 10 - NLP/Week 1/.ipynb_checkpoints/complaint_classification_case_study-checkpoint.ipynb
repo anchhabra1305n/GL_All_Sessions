{
 "cells": [
  {
   "cell_type": "markdown",
   "metadata": {
    "id": "F5RaUZ0iXBaB"
   },
   "source": [
    "## Complaint Categorization Baseline Model\n",
    "\n",
    "Fast and efficient handling of complaints on consumer forums is vital to commerce industry today. This notebook presents a baseline approach towards solving this problem. Consumer complaints on financial products is taken as the dataset to establish results.\n",
    "\n",
    "Tf-idf (term frequency times inverse document frequency) scheme to weight individual tokens is often used in information retrieval. One of the advantage of tf-idf is reduce the impact of tokens that occur very frequently, hence offering little to none in terms of information.\n",
    "The tf-idf of term 't' in document 'd' is tf-idf(d, t) = tf(t) * idf(d, t), where tf(t) is the number of times t occurs while idf is given by idf(d, t) = log [(1 + n) / (1 + df(d,t) + 1] "
   ]
  },
  {
   "cell_type": "code",
   "execution_count": 1,
   "metadata": {
    "executionInfo": {
     "elapsed": 2030,
     "status": "ok",
     "timestamp": 1629442337304,
     "user": {
      "displayName": "Swastik Nayak",
      "photoUrl": "",
      "userId": "17005119539221418060"
     },
     "user_tz": -330
    },
    "id": "KKU3Av-XXBaD"
   },
   "outputs": [],
   "source": [
    "from sklearn.feature_extraction.text import TfidfVectorizer\n",
    "from sklearn.model_selection import train_test_split\n",
    "\n",
    "# Importing pandas for operating on dataset\n",
    "import pandas as pd\n",
    "\n",
    "#df = pd.read_csv('complaints.csv')"
   ]
  },
  {
   "cell_type": "markdown",
   "metadata": {
    "id": "COwaeZO2XBaG"
   },
   "source": [
    "### Typical Complaint"
   ]
  },
  {
   "cell_type": "code",
   "execution_count": null,
   "metadata": {
    "id": "jw_3jqF5XBaH",
    "outputId": "c3001684-0236-447d-ff64-18f382d01112"
   },
   "outputs": [
    {
     "data": {
      "text/plain": [
       "'I have outdated information on my credit report that I have previously disputed that has yet to be removed this information is more then seven years old and does not meet credit reporting requirements'"
      ]
     },
     "execution_count": 2,
     "metadata": {
      "tags": []
     },
     "output_type": "execute_result"
    }
   ],
   "source": [
    "df['Consumer complaint narrative'][0]"
   ]
  },
  {
   "cell_type": "markdown",
   "metadata": {
    "id": "4QXHqmFxXBaJ"
   },
   "source": [
    "### Categories"
   ]
  },
  {
   "cell_type": "code",
   "execution_count": null,
   "metadata": {
    "id": "5xIzAd7SXBaK",
    "outputId": "a7bc8e90-6365-4c82-c245-6f7d8d422630"
   },
   "outputs": [
    {
     "name": "stdout",
     "output_type": "stream",
     "text": [
      "['Credit reporting' 'Consumer Loan' 'Debt collection' 'Mortgage'\n",
      " 'Credit card' 'Other financial service' 'Bank account or service'\n",
      " 'Student loan' 'Money transfers' 'Payday loan' 'Prepaid card'\n",
      " 'Virtual currency'\n",
      " 'Credit reporting, credit repair services, or other personal consumer reports'\n",
      " 'Credit card or prepaid card' 'Checking or savings account'\n",
      " 'Payday loan, title loan, or personal loan'\n",
      " 'Money transfer, virtual currency, or money service'\n",
      " 'Vehicle loan or lease']\n"
     ]
    }
   ],
   "source": [
    "print(df.Product.unique())"
   ]
  },
  {
   "cell_type": "markdown",
   "metadata": {
    "id": "cwS4qyhGXBaM"
   },
   "source": [
    "### Train-test split\n",
    "15% of the total data is used as validation data while the remaining as training. This leads to 152809 training instances while 26967 validation instances."
   ]
  },
  {
   "cell_type": "code",
   "execution_count": null,
   "metadata": {
    "id": "RcHsVb4GXBaN",
    "outputId": "f3ba9442-057d-467a-f518-e6ff0ddc70b9"
   },
   "outputs": [
    {
     "name": "stdout",
     "output_type": "stream",
     "text": [
      "Training utterances: 152809\n",
      "Validation utterances: 26967\n"
     ]
    }
   ],
   "source": [
    "X_train, X_test, y_train, y_test = train_test_split(\n",
    "    df['Consumer complaint narrative'].values, df['Product'].values, \n",
    "    test_size=0.15, random_state=0)\n",
    "print('Training utterances: {}'.format(X_train.shape[0]))\n",
    "print('Validation utterances: {}'.format(X_test.shape[0]))"
   ]
  },
  {
   "cell_type": "markdown",
   "metadata": {
    "id": "AxKJJZn8XBaP"
   },
   "source": [
    "### Calculating tf-idf scores\n",
    "Calculating tf-idf scores for each unique token in the dataset and creating frequency chart for each utterance in the dataset."
   ]
  },
  {
   "cell_type": "code",
   "execution_count": null,
   "metadata": {
    "id": "Ut2qdu8HXBaP",
    "outputId": "f1a62af5-5b7e-44e6-f26c-6b9cfae12525"
   },
   "outputs": [
    {
     "data": {
      "text/plain": [
       "TfidfVectorizer(analyzer='word', binary=False, decode_error='strict',\n",
       "                dtype=<class 'numpy.float64'>, encoding='utf-8',\n",
       "                input='content', lowercase=True, max_df=1.0, max_features=None,\n",
       "                min_df=1, ngram_range=(1, 1), norm='l2', preprocessor=None,\n",
       "                smooth_idf=True, stop_words=None, strip_accents=None,\n",
       "                sublinear_tf=False, token_pattern='(?u)\\\\b\\\\w\\\\w+\\\\b',\n",
       "                tokenizer=None, use_idf=True, vocabulary=None)"
      ]
     },
     "execution_count": 5,
     "metadata": {
      "tags": []
     },
     "output_type": "execute_result"
    }
   ],
   "source": [
    "vectorizer = TfidfVectorizer()\n",
    "vectorizer.fit(X_train)"
   ]
  },
  {
   "cell_type": "code",
   "execution_count": null,
   "metadata": {
    "id": "luNy0LXQXBaR",
    "outputId": "2ddb2395-44ea-4ba5-f190-e3e154a8c3e9"
   },
   "outputs": [
    {
     "data": {
      "text/plain": [
       "(<152809x76350 sparse matrix of type '<class 'numpy.float64'>'\n",
       " \twith 13864799 stored elements in Compressed Sparse Row format>,\n",
       " <26967x76350 sparse matrix of type '<class 'numpy.float64'>'\n",
       " \twith 2447784 stored elements in Compressed Sparse Row format>)"
      ]
     },
     "execution_count": 6,
     "metadata": {
      "tags": []
     },
     "output_type": "execute_result"
    }
   ],
   "source": [
    "X_train = vectorizer.transform(X_train)\n",
    "X_test = vectorizer.transform(X_test)\n",
    "X_train, X_test"
   ]
  },
  {
   "cell_type": "markdown",
   "metadata": {
    "id": "XnG6cE6GXBaT"
   },
   "source": [
    "### Feature Selection\n",
    "Chi-square test measures dependence between stochastic variables, so using this function “weeds out” the features that are the most likely to be independent of class and therefore irrelevant for classification."
   ]
  },
  {
   "cell_type": "code",
   "execution_count": null,
   "metadata": {
    "id": "9eZdPs2fXBaU",
    "outputId": "2db6881f-b2bb-49c5-eb02-f8c2765a2295"
   },
   "outputs": [
    {
     "data": {
      "text/plain": [
       "(<152809x5000 sparse matrix of type '<class 'numpy.float64'>'\n",
       " \twith 10780400 stored elements in Compressed Sparse Row format>,\n",
       " <26967x5000 sparse matrix of type '<class 'numpy.float64'>'\n",
       " \twith 1907878 stored elements in Compressed Sparse Row format>)"
      ]
     },
     "execution_count": 7,
     "metadata": {
      "tags": []
     },
     "output_type": "execute_result"
    }
   ],
   "source": [
    "from sklearn.feature_selection import SelectKBest, chi2\n",
    "\n",
    "ch2 = SelectKBest(chi2, k=5000)\n",
    "X_train = ch2.fit_transform(X_train, y_train)\n",
    "X_test = ch2.transform(X_test)\n",
    "\n",
    "X_train, X_test"
   ]
  },
  {
   "cell_type": "markdown",
   "metadata": {
    "id": "Qez31NMtXBaW"
   },
   "source": [
    "### Naive Bayes\n",
    "In multinomial naive bayes the probability of a document $d$ being in class $c$ is computed as $$P(c|d) = P(c) \\prod_{1\\le k \\le n_d}{P(t_k|c)} $$ where, $P(c)$ is the prior probablity of a document occuring in class $c$ and $P(t_k|c)$ is the conditional probability of term $t_k$ occurring in a document of class $c$."
   ]
  },
  {
   "cell_type": "code",
   "execution_count": null,
   "metadata": {
    "id": "VI4oeUxsXBaW",
    "outputId": "1a323811-5f4a-4cc8-a5ee-b0d94eb3f86c"
   },
   "outputs": [
    {
     "name": "stdout",
     "output_type": "stream",
     "text": [
      "0.7656024029369229\n"
     ]
    }
   ],
   "source": [
    "from sklearn.naive_bayes import MultinomialNB\n",
    "from sklearn.metrics import accuracy_score\n",
    "clf = MultinomialNB()\n",
    "clf.fit(X_train, y_train)\n",
    "pred = clf.predict(X_test)\n",
    "print(accuracy_score(y_test, pred))"
   ]
  }
 ],
 "metadata": {
  "colab": {
   "name": "complaint_classification_case_study.ipynb",
   "provenance": [],
   "toc_visible": true
  },
  "kernelspec": {
   "display_name": "Python 3",
   "language": "python",
   "name": "python3"
  },
  "language_info": {
   "codemirror_mode": {
    "name": "ipython",
    "version": 3
   },
   "file_extension": ".py",
   "mimetype": "text/x-python",
   "name": "python",
   "nbconvert_exporter": "python",
   "pygments_lexer": "ipython3",
   "version": "3.8.3"
  }
 },
 "nbformat": 4,
 "nbformat_minor": 1
}
