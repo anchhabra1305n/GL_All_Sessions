{
 "cells": [
  {
   "cell_type": "markdown",
   "metadata": {
    "colab_type": "text",
    "id": "K7nH8JuV4lDM"
   },
   "source": [
    "## Sequence Tagging using Sequential Models\n",
    "\n",
    "Sequence Tagging is an information extraction technique to identify and classify named entities in text. These entities can be pre-defined and generic like location names, organizations, time and etc..."
   ]
  },
  {
   "cell_type": "code",
   "execution_count": 1,
   "metadata": {
    "colab": {
     "base_uri": "https://localhost:8080/",
     "height": 52
    },
    "colab_type": "code",
    "executionInfo": {
     "elapsed": 10251,
     "status": "ok",
     "timestamp": 1578566150209,
     "user": {
      "displayName": "Suryansh Sharma",
      "photoUrl": "https://lh3.googleusercontent.com/a-/AAuE7mBy1CGO0PDyRG1nsJ6rDaUXBg-h18OkEJ86htszrw=s64",
      "userId": "03232072030227591914"
     },
     "user_tz": -330
    },
    "id": "kHeKLligaLLj",
    "outputId": "1feed862-5471-4501-9c76-1d19bd2babb2"
   },
   "outputs": [
    {
     "name": "stdout",
     "output_type": "stream",
     "text": [
      "TensorFlow 2.x selected.\n"
     ]
    },
    {
     "data": {
      "text/plain": [
       "'2.1.0-rc1'"
      ]
     },
     "execution_count": 1,
     "metadata": {
      "tags": []
     },
     "output_type": "execute_result"
    }
   ],
   "source": [
    "%tensorflow_version 2.x\n",
    "import tensorflow\n",
    "tensorflow.__version__"
   ]
  },
  {
   "cell_type": "markdown",
   "metadata": {
    "colab_type": "text",
    "id": "zSImVOFbW2FE"
   },
   "source": [
    "#### Desired Sample Output\n",
    "\n",
    "<img src=\"https://miro.medium.com/max/2400/1*8LOMipM-fmszClg-AwATkQ.png\">"
   ]
  },
  {
   "cell_type": "code",
   "execution_count": 2,
   "metadata": {
    "colab": {
     "base_uri": "https://localhost:8080/",
     "height": 125
    },
    "colab_type": "code",
    "executionInfo": {
     "elapsed": 26003,
     "status": "ok",
     "timestamp": 1578566203345,
     "user": {
      "displayName": "Suryansh Sharma",
      "photoUrl": "https://lh3.googleusercontent.com/a-/AAuE7mBy1CGO0PDyRG1nsJ6rDaUXBg-h18OkEJ86htszrw=s64",
      "userId": "03232072030227591914"
     },
     "user_tz": -330
    },
    "id": "YwoL6IvP4Csc",
    "outputId": "e61b506c-0300-4270-b155-4a7a6d037fc5"
   },
   "outputs": [
    {
     "name": "stdout",
     "output_type": "stream",
     "text": [
      "Go to this URL in a browser: https://accounts.google.com/o/oauth2/auth?client_id=947318989803-6bn6qk8qdgf4n4g3pfee6491hc0brc4i.apps.googleusercontent.com&redirect_uri=urn%3aietf%3awg%3aoauth%3a2.0%3aoob&response_type=code&scope=email%20https%3a%2f%2fwww.googleapis.com%2fauth%2fdocs.test%20https%3a%2f%2fwww.googleapis.com%2fauth%2fdrive%20https%3a%2f%2fwww.googleapis.com%2fauth%2fdrive.photos.readonly%20https%3a%2f%2fwww.googleapis.com%2fauth%2fpeopleapi.readonly\n",
      "\n",
      "Enter your authorization code:\n",
      "··········\n",
      "Mounted at /content/drive\n"
     ]
    }
   ],
   "source": [
    "from google.colab import drive\n",
    "drive.mount('/content/drive')"
   ]
  },
  {
   "cell_type": "code",
   "execution_count": 0,
   "metadata": {
    "colab": {},
    "colab_type": "code",
    "id": "OO-kltBfUonW"
   },
   "outputs": [],
   "source": [
    "project_path = '/content/drive/My Drive/Mentor decks DL-20191205T083139Z-001/Mentor decks DL/NLP - Mentor deck/Week 3 - NLP  - Mentor deck/'\n",
    "glove_file = '/content/drive/My Drive/glove.6B.zip'\n",
    "ner_dataset_file = project_path + 'ner_dataset.csv.zip'"
   ]
  },
  {
   "cell_type": "code",
   "execution_count": 0,
   "metadata": {
    "colab": {},
    "colab_type": "code",
    "id": "dq4NrhAwJSDr"
   },
   "outputs": [],
   "source": [
    "from zipfile import ZipFile\n",
    "\n",
    "with ZipFile(glove_file) as z:\n",
    "  z.extractall()"
   ]
  },
  {
   "cell_type": "code",
   "execution_count": 0,
   "metadata": {
    "colab": {},
    "colab_type": "code",
    "id": "sVPkGLN8JSKq"
   },
   "outputs": [],
   "source": [
    "with ZipFile(ner_dataset_file) as z:\n",
    "  z.extractall()"
   ]
  },
  {
   "cell_type": "code",
   "execution_count": 0,
   "metadata": {
    "colab": {},
    "colab_type": "code",
    "id": "_mwuHEpRJSOb"
   },
   "outputs": [],
   "source": [
    "# vocab_size = 27873\n",
    "# # load the whole embedding into memory\n",
    "# embeddings_index = dict()\n",
    "# f = open('./glove.6B.100d.txt')\n",
    "\n",
    "# for line in f:\n",
    "# \tvalues = line.split()\n",
    "# \tword = values[0]\n",
    "# \tcoefs = np.asarray(values[1:], dtype='float32')\n",
    "# \tembeddings_index[word] = coefs\n",
    "# f.close()\n",
    "# print('Loaded %s word vectors.' % len(embeddings_index))\n",
    "\n",
    "# # create a weight matrix for words in training docs\n",
    "# embedding_matrix = np.zeros((vocab_size, 100))\n",
    "\n",
    "\n",
    "# for word, i in t.word_index.items():\n",
    "# \tembedding_vector = embeddings_index.get(word)\n",
    "# \tif embedding_vector is not None:\n",
    "# \t\tembedding_matrix[i] = embedding_vector"
   ]
  },
  {
   "cell_type": "markdown",
   "metadata": {
    "colab_type": "text",
    "id": "tpTqKI9iXm4f"
   },
   "source": [
    "##### Take each word from the glove embedding and pass into the input layer of the model."
   ]
  },
  {
   "cell_type": "markdown",
   "metadata": {
    "colab_type": "text",
    "id": "ZoQJganAZHkl"
   },
   "source": [
    "### Files required are given in below link\n",
    "\n",
    "https://drive.google.com/drive/folders/1m9JjfsAEN50flYwFPCgZWQ5nHXGt0ZwI?usp=sharing\n",
    "\n"
   ]
  },
  {
   "cell_type": "code",
   "execution_count": 0,
   "metadata": {
    "colab": {},
    "colab_type": "code",
    "id": "Sjeai6wNhInF"
   },
   "outputs": [],
   "source": [
    "import pandas as pd\n",
    "import numpy as np\n",
    "import matplotlib.pyplot as plt\n",
    "plt.style.use(\"ggplot\")\n",
    "\n",
    "# from google.colab import drive\n",
    "# drive.mount('/content/drive/')"
   ]
  },
  {
   "cell_type": "code",
   "execution_count": 9,
   "metadata": {
    "colab": {
     "base_uri": "https://localhost:8080/",
     "height": 935
    },
    "colab_type": "code",
    "executionInfo": {
     "elapsed": 1122,
     "status": "ok",
     "timestamp": 1578566866999,
     "user": {
      "displayName": "Suryansh Sharma",
      "photoUrl": "https://lh3.googleusercontent.com/a-/AAuE7mBy1CGO0PDyRG1nsJ6rDaUXBg-h18OkEJ86htszrw=s64",
      "userId": "03232072030227591914"
     },
     "user_tz": -330
    },
    "id": "YTINlpIu3u_H",
    "outputId": "11ee8359-444a-4850-d64b-4cffb3917e16"
   },
   "outputs": [
    {
     "data": {
      "text/html": [
       "<div>\n",
       "<style scoped>\n",
       "    .dataframe tbody tr th:only-of-type {\n",
       "        vertical-align: middle;\n",
       "    }\n",
       "\n",
       "    .dataframe tbody tr th {\n",
       "        vertical-align: top;\n",
       "    }\n",
       "\n",
       "    .dataframe thead th {\n",
       "        text-align: right;\n",
       "    }\n",
       "</style>\n",
       "<table border=\"1\" class=\"dataframe\">\n",
       "  <thead>\n",
       "    <tr style=\"text-align: right;\">\n",
       "      <th></th>\n",
       "      <th>Sentence #</th>\n",
       "      <th>Word</th>\n",
       "      <th>POS</th>\n",
       "      <th>Tag</th>\n",
       "    </tr>\n",
       "  </thead>\n",
       "  <tbody>\n",
       "    <tr>\n",
       "      <th>0</th>\n",
       "      <td>Sentence: 1</td>\n",
       "      <td>Thousands</td>\n",
       "      <td>NNS</td>\n",
       "      <td>O</td>\n",
       "    </tr>\n",
       "    <tr>\n",
       "      <th>1</th>\n",
       "      <td>NaN</td>\n",
       "      <td>of</td>\n",
       "      <td>IN</td>\n",
       "      <td>O</td>\n",
       "    </tr>\n",
       "    <tr>\n",
       "      <th>2</th>\n",
       "      <td>NaN</td>\n",
       "      <td>demonstrators</td>\n",
       "      <td>NNS</td>\n",
       "      <td>O</td>\n",
       "    </tr>\n",
       "    <tr>\n",
       "      <th>3</th>\n",
       "      <td>NaN</td>\n",
       "      <td>have</td>\n",
       "      <td>VBP</td>\n",
       "      <td>O</td>\n",
       "    </tr>\n",
       "    <tr>\n",
       "      <th>4</th>\n",
       "      <td>NaN</td>\n",
       "      <td>marched</td>\n",
       "      <td>VBN</td>\n",
       "      <td>O</td>\n",
       "    </tr>\n",
       "    <tr>\n",
       "      <th>5</th>\n",
       "      <td>NaN</td>\n",
       "      <td>through</td>\n",
       "      <td>IN</td>\n",
       "      <td>O</td>\n",
       "    </tr>\n",
       "    <tr>\n",
       "      <th>6</th>\n",
       "      <td>NaN</td>\n",
       "      <td>London</td>\n",
       "      <td>NNP</td>\n",
       "      <td>B-geo</td>\n",
       "    </tr>\n",
       "    <tr>\n",
       "      <th>7</th>\n",
       "      <td>NaN</td>\n",
       "      <td>to</td>\n",
       "      <td>TO</td>\n",
       "      <td>O</td>\n",
       "    </tr>\n",
       "    <tr>\n",
       "      <th>8</th>\n",
       "      <td>NaN</td>\n",
       "      <td>protest</td>\n",
       "      <td>VB</td>\n",
       "      <td>O</td>\n",
       "    </tr>\n",
       "    <tr>\n",
       "      <th>9</th>\n",
       "      <td>NaN</td>\n",
       "      <td>the</td>\n",
       "      <td>DT</td>\n",
       "      <td>O</td>\n",
       "    </tr>\n",
       "    <tr>\n",
       "      <th>10</th>\n",
       "      <td>NaN</td>\n",
       "      <td>war</td>\n",
       "      <td>NN</td>\n",
       "      <td>O</td>\n",
       "    </tr>\n",
       "    <tr>\n",
       "      <th>11</th>\n",
       "      <td>NaN</td>\n",
       "      <td>in</td>\n",
       "      <td>IN</td>\n",
       "      <td>O</td>\n",
       "    </tr>\n",
       "    <tr>\n",
       "      <th>12</th>\n",
       "      <td>NaN</td>\n",
       "      <td>Iraq</td>\n",
       "      <td>NNP</td>\n",
       "      <td>B-geo</td>\n",
       "    </tr>\n",
       "    <tr>\n",
       "      <th>13</th>\n",
       "      <td>NaN</td>\n",
       "      <td>and</td>\n",
       "      <td>CC</td>\n",
       "      <td>O</td>\n",
       "    </tr>\n",
       "    <tr>\n",
       "      <th>14</th>\n",
       "      <td>NaN</td>\n",
       "      <td>demand</td>\n",
       "      <td>VB</td>\n",
       "      <td>O</td>\n",
       "    </tr>\n",
       "    <tr>\n",
       "      <th>15</th>\n",
       "      <td>NaN</td>\n",
       "      <td>the</td>\n",
       "      <td>DT</td>\n",
       "      <td>O</td>\n",
       "    </tr>\n",
       "    <tr>\n",
       "      <th>16</th>\n",
       "      <td>NaN</td>\n",
       "      <td>withdrawal</td>\n",
       "      <td>NN</td>\n",
       "      <td>O</td>\n",
       "    </tr>\n",
       "    <tr>\n",
       "      <th>17</th>\n",
       "      <td>NaN</td>\n",
       "      <td>of</td>\n",
       "      <td>IN</td>\n",
       "      <td>O</td>\n",
       "    </tr>\n",
       "    <tr>\n",
       "      <th>18</th>\n",
       "      <td>NaN</td>\n",
       "      <td>British</td>\n",
       "      <td>JJ</td>\n",
       "      <td>B-gpe</td>\n",
       "    </tr>\n",
       "    <tr>\n",
       "      <th>19</th>\n",
       "      <td>NaN</td>\n",
       "      <td>troops</td>\n",
       "      <td>NNS</td>\n",
       "      <td>O</td>\n",
       "    </tr>\n",
       "    <tr>\n",
       "      <th>20</th>\n",
       "      <td>NaN</td>\n",
       "      <td>from</td>\n",
       "      <td>IN</td>\n",
       "      <td>O</td>\n",
       "    </tr>\n",
       "    <tr>\n",
       "      <th>21</th>\n",
       "      <td>NaN</td>\n",
       "      <td>that</td>\n",
       "      <td>DT</td>\n",
       "      <td>O</td>\n",
       "    </tr>\n",
       "    <tr>\n",
       "      <th>22</th>\n",
       "      <td>NaN</td>\n",
       "      <td>country</td>\n",
       "      <td>NN</td>\n",
       "      <td>O</td>\n",
       "    </tr>\n",
       "    <tr>\n",
       "      <th>23</th>\n",
       "      <td>NaN</td>\n",
       "      <td>.</td>\n",
       "      <td>.</td>\n",
       "      <td>O</td>\n",
       "    </tr>\n",
       "    <tr>\n",
       "      <th>24</th>\n",
       "      <td>Sentence: 2</td>\n",
       "      <td>Families</td>\n",
       "      <td>NNS</td>\n",
       "      <td>O</td>\n",
       "    </tr>\n",
       "    <tr>\n",
       "      <th>25</th>\n",
       "      <td>NaN</td>\n",
       "      <td>of</td>\n",
       "      <td>IN</td>\n",
       "      <td>O</td>\n",
       "    </tr>\n",
       "    <tr>\n",
       "      <th>26</th>\n",
       "      <td>NaN</td>\n",
       "      <td>soldiers</td>\n",
       "      <td>NNS</td>\n",
       "      <td>O</td>\n",
       "    </tr>\n",
       "    <tr>\n",
       "      <th>27</th>\n",
       "      <td>NaN</td>\n",
       "      <td>killed</td>\n",
       "      <td>VBN</td>\n",
       "      <td>O</td>\n",
       "    </tr>\n",
       "    <tr>\n",
       "      <th>28</th>\n",
       "      <td>NaN</td>\n",
       "      <td>in</td>\n",
       "      <td>IN</td>\n",
       "      <td>O</td>\n",
       "    </tr>\n",
       "    <tr>\n",
       "      <th>29</th>\n",
       "      <td>NaN</td>\n",
       "      <td>the</td>\n",
       "      <td>DT</td>\n",
       "      <td>O</td>\n",
       "    </tr>\n",
       "  </tbody>\n",
       "</table>\n",
       "</div>"
      ],
      "text/plain": [
       "     Sentence #           Word  POS    Tag\n",
       "0   Sentence: 1      Thousands  NNS      O\n",
       "1           NaN             of   IN      O\n",
       "2           NaN  demonstrators  NNS      O\n",
       "3           NaN           have  VBP      O\n",
       "4           NaN        marched  VBN      O\n",
       "5           NaN        through   IN      O\n",
       "6           NaN         London  NNP  B-geo\n",
       "7           NaN             to   TO      O\n",
       "8           NaN        protest   VB      O\n",
       "9           NaN            the   DT      O\n",
       "10          NaN            war   NN      O\n",
       "11          NaN             in   IN      O\n",
       "12          NaN           Iraq  NNP  B-geo\n",
       "13          NaN            and   CC      O\n",
       "14          NaN         demand   VB      O\n",
       "15          NaN            the   DT      O\n",
       "16          NaN     withdrawal   NN      O\n",
       "17          NaN             of   IN      O\n",
       "18          NaN        British   JJ  B-gpe\n",
       "19          NaN         troops  NNS      O\n",
       "20          NaN           from   IN      O\n",
       "21          NaN           that   DT      O\n",
       "22          NaN        country   NN      O\n",
       "23          NaN              .    .      O\n",
       "24  Sentence: 2       Families  NNS      O\n",
       "25          NaN             of   IN      O\n",
       "26          NaN       soldiers  NNS      O\n",
       "27          NaN         killed  VBN      O\n",
       "28          NaN             in   IN      O\n",
       "29          NaN            the   DT      O"
      ]
     },
     "execution_count": 9,
     "metadata": {
      "tags": []
     },
     "output_type": "execute_result"
    }
   ],
   "source": [
    "data = pd.read_csv(\"ner_dataset.csv\", encoding=\"latin-1\")\n",
    "# data = data.drop(['POS'], axis =1)\n",
    "# data = data.fillna(method=\"ffill\")\n",
    "data.head(30)"
   ]
  },
  {
   "cell_type": "markdown",
   "metadata": {
    "colab_type": "text",
    "id": "eM1TrCKE36c-"
   },
   "source": [
    "### Fill the NaN with Sentence tag to easily identify the words of a single sentence."
   ]
  },
  {
   "cell_type": "code",
   "execution_count": 0,
   "metadata": {
    "colab": {},
    "colab_type": "code",
    "id": "DOanGnGe3vBj"
   },
   "outputs": [],
   "source": [
    "data = data.fillna(method=\"ffill\")"
   ]
  },
  {
   "cell_type": "markdown",
   "metadata": {
    "colab_type": "text",
    "id": "rAZi5z_74F3K"
   },
   "source": [
    "### Drop POS column from dataset as we are only interested in tags for sentence tagging."
   ]
  },
  {
   "cell_type": "code",
   "execution_count": 0,
   "metadata": {
    "colab": {},
    "colab_type": "code",
    "id": "Rscvylp13vDg"
   },
   "outputs": [],
   "source": [
    "data = data.drop(['POS'], axis =1)"
   ]
  },
  {
   "cell_type": "code",
   "execution_count": 12,
   "metadata": {
    "colab": {
     "base_uri": "https://localhost:8080/",
     "height": 935
    },
    "colab_type": "code",
    "executionInfo": {
     "elapsed": 1739,
     "status": "ok",
     "timestamp": 1578566874792,
     "user": {
      "displayName": "Suryansh Sharma",
      "photoUrl": "https://lh3.googleusercontent.com/a-/AAuE7mBy1CGO0PDyRG1nsJ6rDaUXBg-h18OkEJ86htszrw=s64",
      "userId": "03232072030227591914"
     },
     "user_tz": -330
    },
    "id": "HmOZxR0Q3vGW",
    "outputId": "044bfd76-e3fc-4323-fa58-06242772ddcb"
   },
   "outputs": [
    {
     "data": {
      "text/html": [
       "<div>\n",
       "<style scoped>\n",
       "    .dataframe tbody tr th:only-of-type {\n",
       "        vertical-align: middle;\n",
       "    }\n",
       "\n",
       "    .dataframe tbody tr th {\n",
       "        vertical-align: top;\n",
       "    }\n",
       "\n",
       "    .dataframe thead th {\n",
       "        text-align: right;\n",
       "    }\n",
       "</style>\n",
       "<table border=\"1\" class=\"dataframe\">\n",
       "  <thead>\n",
       "    <tr style=\"text-align: right;\">\n",
       "      <th></th>\n",
       "      <th>Sentence #</th>\n",
       "      <th>Word</th>\n",
       "      <th>Tag</th>\n",
       "    </tr>\n",
       "  </thead>\n",
       "  <tbody>\n",
       "    <tr>\n",
       "      <th>0</th>\n",
       "      <td>Sentence: 1</td>\n",
       "      <td>Thousands</td>\n",
       "      <td>O</td>\n",
       "    </tr>\n",
       "    <tr>\n",
       "      <th>1</th>\n",
       "      <td>Sentence: 1</td>\n",
       "      <td>of</td>\n",
       "      <td>O</td>\n",
       "    </tr>\n",
       "    <tr>\n",
       "      <th>2</th>\n",
       "      <td>Sentence: 1</td>\n",
       "      <td>demonstrators</td>\n",
       "      <td>O</td>\n",
       "    </tr>\n",
       "    <tr>\n",
       "      <th>3</th>\n",
       "      <td>Sentence: 1</td>\n",
       "      <td>have</td>\n",
       "      <td>O</td>\n",
       "    </tr>\n",
       "    <tr>\n",
       "      <th>4</th>\n",
       "      <td>Sentence: 1</td>\n",
       "      <td>marched</td>\n",
       "      <td>O</td>\n",
       "    </tr>\n",
       "    <tr>\n",
       "      <th>5</th>\n",
       "      <td>Sentence: 1</td>\n",
       "      <td>through</td>\n",
       "      <td>O</td>\n",
       "    </tr>\n",
       "    <tr>\n",
       "      <th>6</th>\n",
       "      <td>Sentence: 1</td>\n",
       "      <td>London</td>\n",
       "      <td>B-geo</td>\n",
       "    </tr>\n",
       "    <tr>\n",
       "      <th>7</th>\n",
       "      <td>Sentence: 1</td>\n",
       "      <td>to</td>\n",
       "      <td>O</td>\n",
       "    </tr>\n",
       "    <tr>\n",
       "      <th>8</th>\n",
       "      <td>Sentence: 1</td>\n",
       "      <td>protest</td>\n",
       "      <td>O</td>\n",
       "    </tr>\n",
       "    <tr>\n",
       "      <th>9</th>\n",
       "      <td>Sentence: 1</td>\n",
       "      <td>the</td>\n",
       "      <td>O</td>\n",
       "    </tr>\n",
       "    <tr>\n",
       "      <th>10</th>\n",
       "      <td>Sentence: 1</td>\n",
       "      <td>war</td>\n",
       "      <td>O</td>\n",
       "    </tr>\n",
       "    <tr>\n",
       "      <th>11</th>\n",
       "      <td>Sentence: 1</td>\n",
       "      <td>in</td>\n",
       "      <td>O</td>\n",
       "    </tr>\n",
       "    <tr>\n",
       "      <th>12</th>\n",
       "      <td>Sentence: 1</td>\n",
       "      <td>Iraq</td>\n",
       "      <td>B-geo</td>\n",
       "    </tr>\n",
       "    <tr>\n",
       "      <th>13</th>\n",
       "      <td>Sentence: 1</td>\n",
       "      <td>and</td>\n",
       "      <td>O</td>\n",
       "    </tr>\n",
       "    <tr>\n",
       "      <th>14</th>\n",
       "      <td>Sentence: 1</td>\n",
       "      <td>demand</td>\n",
       "      <td>O</td>\n",
       "    </tr>\n",
       "    <tr>\n",
       "      <th>15</th>\n",
       "      <td>Sentence: 1</td>\n",
       "      <td>the</td>\n",
       "      <td>O</td>\n",
       "    </tr>\n",
       "    <tr>\n",
       "      <th>16</th>\n",
       "      <td>Sentence: 1</td>\n",
       "      <td>withdrawal</td>\n",
       "      <td>O</td>\n",
       "    </tr>\n",
       "    <tr>\n",
       "      <th>17</th>\n",
       "      <td>Sentence: 1</td>\n",
       "      <td>of</td>\n",
       "      <td>O</td>\n",
       "    </tr>\n",
       "    <tr>\n",
       "      <th>18</th>\n",
       "      <td>Sentence: 1</td>\n",
       "      <td>British</td>\n",
       "      <td>B-gpe</td>\n",
       "    </tr>\n",
       "    <tr>\n",
       "      <th>19</th>\n",
       "      <td>Sentence: 1</td>\n",
       "      <td>troops</td>\n",
       "      <td>O</td>\n",
       "    </tr>\n",
       "    <tr>\n",
       "      <th>20</th>\n",
       "      <td>Sentence: 1</td>\n",
       "      <td>from</td>\n",
       "      <td>O</td>\n",
       "    </tr>\n",
       "    <tr>\n",
       "      <th>21</th>\n",
       "      <td>Sentence: 1</td>\n",
       "      <td>that</td>\n",
       "      <td>O</td>\n",
       "    </tr>\n",
       "    <tr>\n",
       "      <th>22</th>\n",
       "      <td>Sentence: 1</td>\n",
       "      <td>country</td>\n",
       "      <td>O</td>\n",
       "    </tr>\n",
       "    <tr>\n",
       "      <th>23</th>\n",
       "      <td>Sentence: 1</td>\n",
       "      <td>.</td>\n",
       "      <td>O</td>\n",
       "    </tr>\n",
       "    <tr>\n",
       "      <th>24</th>\n",
       "      <td>Sentence: 2</td>\n",
       "      <td>Families</td>\n",
       "      <td>O</td>\n",
       "    </tr>\n",
       "    <tr>\n",
       "      <th>25</th>\n",
       "      <td>Sentence: 2</td>\n",
       "      <td>of</td>\n",
       "      <td>O</td>\n",
       "    </tr>\n",
       "    <tr>\n",
       "      <th>26</th>\n",
       "      <td>Sentence: 2</td>\n",
       "      <td>soldiers</td>\n",
       "      <td>O</td>\n",
       "    </tr>\n",
       "    <tr>\n",
       "      <th>27</th>\n",
       "      <td>Sentence: 2</td>\n",
       "      <td>killed</td>\n",
       "      <td>O</td>\n",
       "    </tr>\n",
       "    <tr>\n",
       "      <th>28</th>\n",
       "      <td>Sentence: 2</td>\n",
       "      <td>in</td>\n",
       "      <td>O</td>\n",
       "    </tr>\n",
       "    <tr>\n",
       "      <th>29</th>\n",
       "      <td>Sentence: 2</td>\n",
       "      <td>the</td>\n",
       "      <td>O</td>\n",
       "    </tr>\n",
       "  </tbody>\n",
       "</table>\n",
       "</div>"
      ],
      "text/plain": [
       "     Sentence #           Word    Tag\n",
       "0   Sentence: 1      Thousands      O\n",
       "1   Sentence: 1             of      O\n",
       "2   Sentence: 1  demonstrators      O\n",
       "3   Sentence: 1           have      O\n",
       "4   Sentence: 1        marched      O\n",
       "5   Sentence: 1        through      O\n",
       "6   Sentence: 1         London  B-geo\n",
       "7   Sentence: 1             to      O\n",
       "8   Sentence: 1        protest      O\n",
       "9   Sentence: 1            the      O\n",
       "10  Sentence: 1            war      O\n",
       "11  Sentence: 1             in      O\n",
       "12  Sentence: 1           Iraq  B-geo\n",
       "13  Sentence: 1            and      O\n",
       "14  Sentence: 1         demand      O\n",
       "15  Sentence: 1            the      O\n",
       "16  Sentence: 1     withdrawal      O\n",
       "17  Sentence: 1             of      O\n",
       "18  Sentence: 1        British  B-gpe\n",
       "19  Sentence: 1         troops      O\n",
       "20  Sentence: 1           from      O\n",
       "21  Sentence: 1           that      O\n",
       "22  Sentence: 1        country      O\n",
       "23  Sentence: 1              .      O\n",
       "24  Sentence: 2       Families      O\n",
       "25  Sentence: 2             of      O\n",
       "26  Sentence: 2       soldiers      O\n",
       "27  Sentence: 2         killed      O\n",
       "28  Sentence: 2             in      O\n",
       "29  Sentence: 2            the      O"
      ]
     },
     "execution_count": 12,
     "metadata": {
      "tags": []
     },
     "output_type": "execute_result"
    }
   ],
   "source": [
    "data.head(30)"
   ]
  },
  {
   "cell_type": "markdown",
   "metadata": {
    "colab_type": "text",
    "id": "TQ0tJd8T4T3G"
   },
   "source": [
    "Now we can see from the above result that the same sentence words have same sentence id."
   ]
  },
  {
   "cell_type": "code",
   "execution_count": 13,
   "metadata": {
    "colab": {
     "base_uri": "https://localhost:8080/",
     "height": 34
    },
    "colab_type": "code",
    "executionInfo": {
     "elapsed": 1049,
     "status": "ok",
     "timestamp": 1578566878169,
     "user": {
      "displayName": "Suryansh Sharma",
      "photoUrl": "https://lh3.googleusercontent.com/a-/AAuE7mBy1CGO0PDyRG1nsJ6rDaUXBg-h18OkEJ86htszrw=s64",
      "userId": "03232072030227591914"
     },
     "user_tz": -330
    },
    "id": "5P-EYuc03vKi",
    "outputId": "21a91088-e44c-4f38-c287-3790348b1417"
   },
   "outputs": [
    {
     "data": {
      "text/plain": [
       "17"
      ]
     },
     "execution_count": 13,
     "metadata": {
      "tags": []
     },
     "output_type": "execute_result"
    }
   ],
   "source": [
    "tags = list(set(data[\"Tag\"].values))\n",
    "n_tags = len(tags)\n",
    "n_tags"
   ]
  },
  {
   "cell_type": "code",
   "execution_count": 14,
   "metadata": {
    "colab": {
     "base_uri": "https://localhost:8080/",
     "height": 54
    },
    "colab_type": "code",
    "executionInfo": {
     "elapsed": 1055,
     "status": "ok",
     "timestamp": 1578566894006,
     "user": {
      "displayName": "Suryansh Sharma",
      "photoUrl": "https://lh3.googleusercontent.com/a-/AAuE7mBy1CGO0PDyRG1nsJ6rDaUXBg-h18OkEJ86htszrw=s64",
      "userId": "03232072030227591914"
     },
     "user_tz": -330
    },
    "id": "Le11ixSL3vNH",
    "outputId": "94a001b1-ca96-4cfa-b213-910ef0629086"
   },
   "outputs": [
    {
     "name": "stdout",
     "output_type": "stream",
     "text": [
      "['I-tim', 'I-art', 'B-art', 'B-eve', 'B-gpe', 'B-org', 'B-tim', 'B-nat', 'I-per', 'I-nat', 'O', 'B-per', 'I-geo', 'I-gpe', 'I-eve', 'I-org', 'B-geo']\n"
     ]
    }
   ],
   "source": [
    "print(tags)"
   ]
  },
  {
   "cell_type": "code",
   "execution_count": 15,
   "metadata": {
    "colab": {
     "base_uri": "https://localhost:8080/",
     "height": 34
    },
    "colab_type": "code",
    "executionInfo": {
     "elapsed": 683,
     "status": "ok",
     "timestamp": 1578566895336,
     "user": {
      "displayName": "Suryansh Sharma",
      "photoUrl": "https://lh3.googleusercontent.com/a-/AAuE7mBy1CGO0PDyRG1nsJ6rDaUXBg-h18OkEJ86htszrw=s64",
      "userId": "03232072030227591914"
     },
     "user_tz": -330
    },
    "id": "8l7PJrtR8DkI",
    "outputId": "e1d3d3b9-bcf8-451e-8b42-343ddda8d53f"
   },
   "outputs": [
    {
     "data": {
      "text/plain": [
       "35179"
      ]
     },
     "execution_count": 15,
     "metadata": {
      "tags": []
     },
     "output_type": "execute_result"
    }
   ],
   "source": [
    "words = set(list(data['Word'].values))\n",
    "words.add('dummy')\n",
    "n_words = len(words)\n",
    "n_words"
   ]
  },
  {
   "cell_type": "markdown",
   "metadata": {
    "colab_type": "text",
    "id": "R1XQPptEUi3U"
   },
   "source": [
    "## Import Glove embeddings"
   ]
  },
  {
   "cell_type": "code",
   "execution_count": 0,
   "metadata": {
    "colab": {},
    "colab_type": "code",
    "id": "KeNiY0hHKo6Z"
   },
   "outputs": [],
   "source": [
    "from tensorflow.keras.preprocessing.text import Tokenizer\n",
    "MAX_NB_WORDS = 20000\n",
    "t = Tokenizer(num_words=MAX_NB_WORDS, filters='!\"#$%&()*+,-./:;<=>?@[\\\\]^_`{|}~\\t\\n', lower=True, split=' ', char_level=False, oov_token=None, document_count=0)\n",
    "# t = Tokenizer(num_words=MAX_NB_WORDS) \n",
    "t.fit_on_texts(data['Word'])"
   ]
  },
  {
   "cell_type": "code",
   "execution_count": 17,
   "metadata": {
    "colab": {
     "base_uri": "https://localhost:8080/",
     "height": 34
    },
    "colab_type": "code",
    "executionInfo": {
     "elapsed": 11686,
     "status": "ok",
     "timestamp": 1578566973289,
     "user": {
      "displayName": "Suryansh Sharma",
      "photoUrl": "https://lh3.googleusercontent.com/a-/AAuE7mBy1CGO0PDyRG1nsJ6rDaUXBg-h18OkEJ86htszrw=s64",
      "userId": "03232072030227591914"
     },
     "user_tz": -330
    },
    "id": "Wel8vUzUKXSC",
    "outputId": "19757141-92ca-425b-c7f5-f86cf28e41c3"
   },
   "outputs": [
    {
     "name": "stdout",
     "output_type": "stream",
     "text": [
      "Loaded 400000 word vectors.\n"
     ]
    }
   ],
   "source": [
    "vocab_size = n_words\n",
    "# load the whole embedding into memory\n",
    "embeddings_index = dict()\n",
    "f = open('./glove.6B.100d.txt')\n",
    "\n",
    "for line in f:\n",
    "\tvalues = line.split()\n",
    "\tword = values[0]\n",
    "\tcoefs = np.asarray(values[1:], dtype='float32')\n",
    "\tembeddings_index[word] = coefs\n",
    "f.close()\n",
    "print('Loaded %s word vectors.' % len(embeddings_index))\n",
    "\n",
    "# create a weight matrix for words in training docs\n",
    "embedding_matrix = np.zeros((vocab_size, 100))\n",
    "\n",
    "\n",
    "for word, i in t.word_index.items():\n",
    "\tembedding_vector = embeddings_index.get(word)\n",
    "\tif embedding_vector is not None:\n",
    "\t\tembedding_matrix[i] = embedding_vector"
   ]
  },
  {
   "cell_type": "markdown",
   "metadata": {
    "colab_type": "text",
    "id": "hbQrtBlW7Yj5"
   },
   "source": [
    "### Groupby sentences and combining words and tags for each setence using groupby and apply on dataframe"
   ]
  },
  {
   "cell_type": "code",
   "execution_count": 0,
   "metadata": {
    "colab": {},
    "colab_type": "code",
    "id": "9qaC7K-E0EHR"
   },
   "outputs": [],
   "source": [
    "combining_words_tags = lambda s: [(w, t) for w, t in zip(s[\"Word\"].values.tolist(),s[\"Tag\"].values.tolist())]\n",
    "d = data.groupby(\"Sentence #\").apply(combining_words_tags)"
   ]
  },
  {
   "cell_type": "code",
   "execution_count": 0,
   "metadata": {
    "colab": {},
    "colab_type": "code",
    "id": "Md7b3iM96hf1"
   },
   "outputs": [],
   "source": [
    "sentences = [s for s in d]"
   ]
  },
  {
   "cell_type": "code",
   "execution_count": 20,
   "metadata": {
    "colab": {
     "base_uri": "https://localhost:8080/",
     "height": 439
    },
    "colab_type": "code",
    "executionInfo": {
     "elapsed": 3262,
     "status": "ok",
     "timestamp": 1578566984573,
     "user": {
      "displayName": "Suryansh Sharma",
      "photoUrl": "https://lh3.googleusercontent.com/a-/AAuE7mBy1CGO0PDyRG1nsJ6rDaUXBg-h18OkEJ86htszrw=s64",
      "userId": "03232072030227591914"
     },
     "user_tz": -330
    },
    "id": "fhhzcJcq7VLu",
    "outputId": "a6519cb5-dc46-4ac4-e548-a588e143745d"
   },
   "outputs": [
    {
     "data": {
      "text/plain": [
       "[('Thousands', 'O'),\n",
       " ('of', 'O'),\n",
       " ('demonstrators', 'O'),\n",
       " ('have', 'O'),\n",
       " ('marched', 'O'),\n",
       " ('through', 'O'),\n",
       " ('London', 'B-geo'),\n",
       " ('to', 'O'),\n",
       " ('protest', 'O'),\n",
       " ('the', 'O'),\n",
       " ('war', 'O'),\n",
       " ('in', 'O'),\n",
       " ('Iraq', 'B-geo'),\n",
       " ('and', 'O'),\n",
       " ('demand', 'O'),\n",
       " ('the', 'O'),\n",
       " ('withdrawal', 'O'),\n",
       " ('of', 'O'),\n",
       " ('British', 'B-gpe'),\n",
       " ('troops', 'O'),\n",
       " ('from', 'O'),\n",
       " ('that', 'O'),\n",
       " ('country', 'O'),\n",
       " ('.', 'O')]"
      ]
     },
     "execution_count": 20,
     "metadata": {
      "tags": []
     },
     "output_type": "execute_result"
    }
   ],
   "source": [
    "sentences[0]"
   ]
  },
  {
   "cell_type": "code",
   "execution_count": 21,
   "metadata": {
    "colab": {
     "base_uri": "https://localhost:8080/",
     "height": 34
    },
    "colab_type": "code",
    "executionInfo": {
     "elapsed": 1650,
     "status": "ok",
     "timestamp": 1578566986257,
     "user": {
      "displayName": "Suryansh Sharma",
      "photoUrl": "https://lh3.googleusercontent.com/a-/AAuE7mBy1CGO0PDyRG1nsJ6rDaUXBg-h18OkEJ86htszrw=s64",
      "userId": "03232072030227591914"
     },
     "user_tz": -330
    },
    "id": "2f7YSaKO7lD4",
    "outputId": "00e89be5-ed42-4461-b778-1f0b95dea378"
   },
   "outputs": [
    {
     "name": "stdout",
     "output_type": "stream",
     "text": [
      "47959\n"
     ]
    }
   ],
   "source": [
    "print(len(sentences))\n",
    "sentences = sentences[:3200]"
   ]
  },
  {
   "cell_type": "markdown",
   "metadata": {
    "colab_type": "text",
    "id": "1GtUxCQx7zrL"
   },
   "source": [
    "### Map words and tags to integers"
   ]
  },
  {
   "cell_type": "code",
   "execution_count": 22,
   "metadata": {
    "colab": {
     "base_uri": "https://localhost:8080/",
     "height": 52
    },
    "colab_type": "code",
    "executionInfo": {
     "elapsed": 1538,
     "status": "ok",
     "timestamp": 1578566986259,
     "user": {
      "displayName": "Suryansh Sharma",
      "photoUrl": "https://lh3.googleusercontent.com/a-/AAuE7mBy1CGO0PDyRG1nsJ6rDaUXBg-h18OkEJ86htszrw=s64",
      "userId": "03232072030227591914"
     },
     "user_tz": -330
    },
    "id": "DPYT-FiW7r25",
    "outputId": "4c5dca09-1414-4ec2-c3c8-6f21b41315f1"
   },
   "outputs": [
    {
     "name": "stdout",
     "output_type": "stream",
     "text": [
      "8463\n",
      "16\n"
     ]
    }
   ],
   "source": [
    "words2index = {w:i for i,w in enumerate(words)}\n",
    "tags2index = {t:i for i,t in enumerate(tags)}\n",
    "print(words2index['India'])\n",
    "print(tags2index['B-geo'])"
   ]
  },
  {
   "cell_type": "markdown",
   "metadata": {
    "colab_type": "text",
    "id": "ESh_HoYh8R81"
   },
   "source": [
    "#### Make all sentences equal length by appending a `dummy` token at the end of the sentence if the sentence is short. And if the sentence is long consider only `max_length` number of words from that sentence. "
   ]
  },
  {
   "cell_type": "code",
   "execution_count": 0,
   "metadata": {
    "colab": {},
    "colab_type": "code",
    "id": "1sdgX2UjhlmH"
   },
   "outputs": [],
   "source": [
    "from tensorflow.keras.preprocessing.text import text_to_word_sequence\n",
    "import numpy as np\n",
    "\n",
    "data1 = np.zeros((len(sentences), 30), dtype='int32')"
   ]
  },
  {
   "cell_type": "code",
   "execution_count": 24,
   "metadata": {
    "colab": {
     "base_uri": "https://localhost:8080/",
     "height": 545
    },
    "colab_type": "code",
    "executionInfo": {
     "elapsed": 1142,
     "status": "ok",
     "timestamp": 1578566996460,
     "user": {
      "displayName": "Suryansh Sharma",
      "photoUrl": "https://lh3.googleusercontent.com/a-/AAuE7mBy1CGO0PDyRG1nsJ6rDaUXBg-h18OkEJ86htszrw=s64",
      "userId": "03232072030227591914"
     },
     "user_tz": -330
    },
    "id": "qiIxf2Ly8IKD",
    "outputId": "58898440-9944-4148-b051-4c5681fd323b"
   },
   "outputs": [
    {
     "data": {
      "text/plain": [
       "['Thousands',\n",
       " 'of',\n",
       " 'demonstrators',\n",
       " 'have',\n",
       " 'marched',\n",
       " 'through',\n",
       " 'London',\n",
       " 'to',\n",
       " 'protest',\n",
       " 'the',\n",
       " 'war',\n",
       " 'in',\n",
       " 'Iraq',\n",
       " 'and',\n",
       " 'demand',\n",
       " 'the',\n",
       " 'withdrawal',\n",
       " 'of',\n",
       " 'British',\n",
       " 'troops',\n",
       " 'from',\n",
       " 'that',\n",
       " 'country',\n",
       " '.',\n",
       " 'dummy',\n",
       " 'dummy',\n",
       " 'dummy',\n",
       " 'dummy',\n",
       " 'dummy',\n",
       " 'dummy']"
      ]
     },
     "execution_count": 24,
     "metadata": {
      "tags": []
     },
     "output_type": "execute_result"
    }
   ],
   "source": [
    "max_len = 30\n",
    "X = [[w[0]for w in s] for s in sentences]\n",
    "new_X = []\n",
    "for seq in X:\n",
    "    new_seq = []\n",
    "    for i in range(max_len):\n",
    "        try:\n",
    "            new_seq.append(seq[i])\n",
    "        except:\n",
    "            new_seq.append(\"dummy\")\n",
    "    new_X.append(new_seq)\n",
    "new_X[0]"
   ]
  },
  {
   "cell_type": "code",
   "execution_count": 0,
   "metadata": {
    "colab": {},
    "colab_type": "code",
    "id": "iVE4CyEdlsYX"
   },
   "outputs": [],
   "source": [
    "for i, sentence in enumerate(new_X):\n",
    "    for j, word in enumerate(sentence):\n",
    "        # print(word)\n",
    "        wordTokens = text_to_word_sequence(word)\n",
    "        # print(wordTokens)\n",
    "        if len(wordTokens):\n",
    "            word = wordTokens[0]\n",
    "            # print(word)\n",
    "            if word == \"dummy\":\n",
    "              data1[i,j] = 0\n",
    "            else:\n",
    "              if(j < max_len and t.word_index[word] < MAX_NB_WORDS):\n",
    "                  data1[i,j] = t.word_index[word]\n",
    "        else:\n",
    "            data1[i,j] = 0"
   ]
  },
  {
   "cell_type": "markdown",
   "metadata": {
    "colab_type": "text",
    "id": "yQHpyqsd8_rT"
   },
   "source": [
    "#### Similarly pad labels with `O` tag"
   ]
  },
  {
   "cell_type": "code",
   "execution_count": 26,
   "metadata": {
    "colab": {
     "base_uri": "https://localhost:8080/",
     "height": 52
    },
    "colab_type": "code",
    "executionInfo": {
     "elapsed": 893,
     "status": "ok",
     "timestamp": 1578567002727,
     "user": {
      "displayName": "Suryansh Sharma",
      "photoUrl": "https://lh3.googleusercontent.com/a-/AAuE7mBy1CGO0PDyRG1nsJ6rDaUXBg-h18OkEJ86htszrw=s64",
      "userId": "03232072030227591914"
     },
     "user_tz": -330
    },
    "id": "iczVpVo48nPV",
    "outputId": "9f52a92d-9981-4c3a-a649-cd60c4910798"
   },
   "outputs": [
    {
     "data": {
      "text/plain": [
       "array([10, 10, 10, 10, 10, 10, 16, 10, 10, 10, 10, 10, 16, 10, 10, 10, 10,\n",
       "       10,  4, 10, 10, 10, 10, 10, 10, 10, 10, 10, 10, 10], dtype=int32)"
      ]
     },
     "execution_count": 26,
     "metadata": {
      "tags": []
     },
     "output_type": "execute_result"
    }
   ],
   "source": [
    "from tensorflow.keras.preprocessing.sequence import pad_sequences\n",
    "y = [[tags2index[w[1]] for w in s] for s in sentences]\n",
    "y = pad_sequences(maxlen=max_len, sequences=y, padding=\"post\", value=tags2index[\"O\"])\n",
    "y[0]"
   ]
  },
  {
   "cell_type": "markdown",
   "metadata": {
    "colab_type": "text",
    "id": "pkZf3HQ29HFi"
   },
   "source": [
    "### Split the dataset into train and test sets"
   ]
  },
  {
   "cell_type": "code",
   "execution_count": 0,
   "metadata": {
    "colab": {},
    "colab_type": "code",
    "id": "2tZuy8KJ8zpH"
   },
   "outputs": [],
   "source": [
    "from sklearn.model_selection import train_test_split\n",
    "X_tr, X_te, y_tr, y_te = train_test_split(data1, y, test_size=0.2, random_state=10)"
   ]
  },
  {
   "cell_type": "code",
   "execution_count": 28,
   "metadata": {
    "colab": {
     "base_uri": "https://localhost:8080/",
     "height": 34
    },
    "colab_type": "code",
    "executionInfo": {
     "elapsed": 807,
     "status": "ok",
     "timestamp": 1578567008208,
     "user": {
      "displayName": "Suryansh Sharma",
      "photoUrl": "https://lh3.googleusercontent.com/a-/AAuE7mBy1CGO0PDyRG1nsJ6rDaUXBg-h18OkEJ86htszrw=s64",
      "userId": "03232072030227591914"
     },
     "user_tz": -330
    },
    "id": "IuE7pkUsFMb5",
    "outputId": "2337ab04-a976-4e21-d180-1b16914886c6"
   },
   "outputs": [
    {
     "data": {
      "text/plain": [
       "2560"
      ]
     },
     "execution_count": 28,
     "metadata": {
      "tags": []
     },
     "output_type": "execute_result"
    }
   ],
   "source": [
    "len(X_tr)"
   ]
  },
  {
   "cell_type": "code",
   "execution_count": 29,
   "metadata": {
    "colab": {
     "base_uri": "https://localhost:8080/",
     "height": 34
    },
    "colab_type": "code",
    "executionInfo": {
     "elapsed": 1151,
     "status": "ok",
     "timestamp": 1578567011428,
     "user": {
      "displayName": "Suryansh Sharma",
      "photoUrl": "https://lh3.googleusercontent.com/a-/AAuE7mBy1CGO0PDyRG1nsJ6rDaUXBg-h18OkEJ86htszrw=s64",
      "userId": "03232072030227591914"
     },
     "user_tz": -330
    },
    "id": "K31WCmJDGvEz",
    "outputId": "1ac49fe1-7a41-4c93-f485-4be98bdb3d4b"
   },
   "outputs": [
    {
     "data": {
      "text/plain": [
       "(2560, 30)"
      ]
     },
     "execution_count": 29,
     "metadata": {
      "tags": []
     },
     "output_type": "execute_result"
    }
   ],
   "source": [
    "np.array(X_tr).shape"
   ]
  },
  {
   "cell_type": "code",
   "execution_count": 30,
   "metadata": {
    "colab": {
     "base_uri": "https://localhost:8080/",
     "height": 34
    },
    "colab_type": "code",
    "executionInfo": {
     "elapsed": 1054,
     "status": "ok",
     "timestamp": 1578567012215,
     "user": {
      "displayName": "Suryansh Sharma",
      "photoUrl": "https://lh3.googleusercontent.com/a-/AAuE7mBy1CGO0PDyRG1nsJ6rDaUXBg-h18OkEJ86htszrw=s64",
      "userId": "03232072030227591914"
     },
     "user_tz": -330
    },
    "id": "tk86lCbYFMfI",
    "outputId": "783b4103-6310-4cb0-cc1a-bf82fec853ed"
   },
   "outputs": [
    {
     "data": {
      "text/plain": [
       "(2560, 30)"
      ]
     },
     "execution_count": 30,
     "metadata": {
      "tags": []
     },
     "output_type": "execute_result"
    }
   ],
   "source": [
    "np.array(y_tr).shape"
   ]
  },
  {
   "cell_type": "code",
   "execution_count": 0,
   "metadata": {
    "colab": {},
    "colab_type": "code",
    "id": "HV3uLPRd828x"
   },
   "outputs": [],
   "source": [
    "batch_size = 32"
   ]
  },
  {
   "cell_type": "markdown",
   "metadata": {
    "colab_type": "text",
    "id": "SPSH9Ejq9U_C"
   },
   "source": [
    "## Model"
   ]
  },
  {
   "cell_type": "code",
   "execution_count": 0,
   "metadata": {
    "colab": {},
    "colab_type": "code",
    "id": "BTDVQDrd9SSd"
   },
   "outputs": [],
   "source": [
    "from tensorflow.keras.models import Model\n",
    "from tensorflow.keras.layers import LSTM, Embedding, Dense, TimeDistributed, Dropout, Bidirectional, Lambda, Flatten, Input, Add\n",
    "from tensorflow.keras import backend as K"
   ]
  },
  {
   "cell_type": "code",
   "execution_count": 0,
   "metadata": {
    "colab": {},
    "colab_type": "code",
    "id": "T98XvSn79V7M"
   },
   "outputs": [],
   "source": [
    "input_text = Input(shape=(max_len,), dtype=tensorflow.int64)\n",
    "embedding = Embedding(vocab_size, 100, weights=[embedding_matrix], trainable=True, input_length=max_len)(input_text)\n",
    "# embedding = Lambda(ElmoEmbedding, output_shape=(max_len, 1024))(e)\n",
    "x = Bidirectional(LSTM(units=50, return_sequences=True, dropout=0.2))(embedding)\n",
    "# x = Bidirectional(LSTM(units=50, return_sequences=True))(x)\n",
    "out = TimeDistributed(Dense(n_tags, activation=\"softmax\"))(x)"
   ]
  },
  {
   "cell_type": "code",
   "execution_count": 0,
   "metadata": {
    "colab": {},
    "colab_type": "code",
    "id": "45Ma9XhItnRR"
   },
   "outputs": [],
   "source": [
    "def custom_sparse_categorical_accuracy(y_true, y_pred):\n",
    "    return K.cast(K.equal(K.max(y_true, axis=-1),\n",
    "                          K.cast(K.argmax(y_pred, axis=-1), K.floatx())),\n",
    "                  K.floatx())"
   ]
  },
  {
   "cell_type": "code",
   "execution_count": 0,
   "metadata": {
    "colab": {},
    "colab_type": "code",
    "id": "dl2VsvsO9b5L"
   },
   "outputs": [],
   "source": [
    "model = Model(input_text, out)\n",
    "model.compile(optimizer=\"adam\", loss=\"sparse_categorical_crossentropy\", metrics=[custom_sparse_categorical_accuracy])"
   ]
  },
  {
   "cell_type": "code",
   "execution_count": 0,
   "metadata": {
    "colab": {},
    "colab_type": "code",
    "id": "SGNYssNZ9d1X"
   },
   "outputs": [],
   "source": [
    "# y_tr = (np.arange(y_tr.max()+1) == y_tr[...,None]).astype(int)\n",
    "y_tr = y_tr.reshape(y_tr.shape[0], y_tr.shape[1], 1)"
   ]
  },
  {
   "cell_type": "code",
   "execution_count": 0,
   "metadata": {
    "colab": {},
    "colab_type": "code",
    "id": "1FO8JYMCxNWk"
   },
   "outputs": [],
   "source": [
    "y_te = y_te.reshape(y_te.shape[0], y_te.shape[1], 1)"
   ]
  },
  {
   "cell_type": "code",
   "execution_count": 38,
   "metadata": {
    "colab": {
     "base_uri": "https://localhost:8080/",
     "height": 34
    },
    "colab_type": "code",
    "executionInfo": {
     "elapsed": 1477,
     "status": "ok",
     "timestamp": 1578567054299,
     "user": {
      "displayName": "Suryansh Sharma",
      "photoUrl": "https://lh3.googleusercontent.com/a-/AAuE7mBy1CGO0PDyRG1nsJ6rDaUXBg-h18OkEJ86htszrw=s64",
      "userId": "03232072030227591914"
     },
     "user_tz": -330
    },
    "id": "SVD9Qq3DoV2o",
    "outputId": "8bb2e2b1-ab94-4393-fa47-18e942ac7ba7"
   },
   "outputs": [
    {
     "data": {
      "text/plain": [
       "(2560, 30, 1)"
      ]
     },
     "execution_count": 38,
     "metadata": {
      "tags": []
     },
     "output_type": "execute_result"
    }
   ],
   "source": [
    "y_tr.shape"
   ]
  },
  {
   "cell_type": "code",
   "execution_count": 39,
   "metadata": {
    "colab": {
     "base_uri": "https://localhost:8080/",
     "height": 34
    },
    "colab_type": "code",
    "executionInfo": {
     "elapsed": 1535,
     "status": "ok",
     "timestamp": 1578567056449,
     "user": {
      "displayName": "Suryansh Sharma",
      "photoUrl": "https://lh3.googleusercontent.com/a-/AAuE7mBy1CGO0PDyRG1nsJ6rDaUXBg-h18OkEJ86htszrw=s64",
      "userId": "03232072030227591914"
     },
     "user_tz": -330
    },
    "id": "W4Q1F4db5Vl_",
    "outputId": "23d7eca6-4969-4bb1-99f5-89a60c4a271a"
   },
   "outputs": [
    {
     "data": {
      "text/plain": [
       "(640, 30, 1)"
      ]
     },
     "execution_count": 39,
     "metadata": {
      "tags": []
     },
     "output_type": "execute_result"
    }
   ],
   "source": [
    "y_te.shape"
   ]
  },
  {
   "cell_type": "code",
   "execution_count": 40,
   "metadata": {
    "colab": {
     "base_uri": "https://localhost:8080/",
     "height": 70
    },
    "colab_type": "code",
    "executionInfo": {
     "elapsed": 1177,
     "status": "ok",
     "timestamp": 1578567058254,
     "user": {
      "displayName": "Suryansh Sharma",
      "photoUrl": "https://lh3.googleusercontent.com/a-/AAuE7mBy1CGO0PDyRG1nsJ6rDaUXBg-h18OkEJ86htszrw=s64",
      "userId": "03232072030227591914"
     },
     "user_tz": -330
    },
    "id": "Lkmjeopmf2sb",
    "outputId": "95b07a24-1dc6-4c6c-b2bb-0b29d680c671"
   },
   "outputs": [
    {
     "data": {
      "text/plain": [
       "array([ 351, 6047, 2032,  229,    2,  115,  247,   79, 2926, 1222,  289,\n",
       "        141,  382,    4,    5,   77,    3,  499,  676, 1334,   22,  115,\n",
       "        247,    0,    6,   79, 1435,    7, 1242,    3], dtype=int32)"
      ]
     },
     "execution_count": 40,
     "metadata": {
      "tags": []
     },
     "output_type": "execute_result"
    }
   ],
   "source": [
    "X_tr[1]"
   ]
  },
  {
   "cell_type": "code",
   "execution_count": 41,
   "metadata": {
    "colab": {
     "base_uri": "https://localhost:8080/",
     "height": 298
    },
    "colab_type": "code",
    "executionInfo": {
     "elapsed": 1167,
     "status": "ok",
     "timestamp": 1578567061101,
     "user": {
      "displayName": "Suryansh Sharma",
      "photoUrl": "https://lh3.googleusercontent.com/a-/AAuE7mBy1CGO0PDyRG1nsJ6rDaUXBg-h18OkEJ86htszrw=s64",
      "userId": "03232072030227591914"
     },
     "user_tz": -330
    },
    "id": "vss0_D6rVZHz",
    "outputId": "3ccf2770-b7cb-47b7-fa93-d2ff218503f4"
   },
   "outputs": [
    {
     "name": "stdout",
     "output_type": "stream",
     "text": [
      "Model: \"model\"\n",
      "_________________________________________________________________\n",
      "Layer (type)                 Output Shape              Param #   \n",
      "=================================================================\n",
      "input_1 (InputLayer)         [(None, 30)]              0         \n",
      "_________________________________________________________________\n",
      "embedding (Embedding)        (None, 30, 100)           3517900   \n",
      "_________________________________________________________________\n",
      "bidirectional (Bidirectional (None, 30, 100)           60400     \n",
      "_________________________________________________________________\n",
      "time_distributed (TimeDistri (None, 30, 17)            1717      \n",
      "=================================================================\n",
      "Total params: 3,580,017\n",
      "Trainable params: 3,580,017\n",
      "Non-trainable params: 0\n",
      "_________________________________________________________________\n"
     ]
    }
   ],
   "source": [
    "model.summary()"
   ]
  },
  {
   "cell_type": "code",
   "execution_count": 42,
   "metadata": {
    "colab": {
     "base_uri": "https://localhost:8080/",
     "height": 52
    },
    "colab_type": "code",
    "executionInfo": {
     "elapsed": 12177,
     "status": "ok",
     "timestamp": 1578567084309,
     "user": {
      "displayName": "Suryansh Sharma",
      "photoUrl": "https://lh3.googleusercontent.com/a-/AAuE7mBy1CGO0PDyRG1nsJ6rDaUXBg-h18OkEJ86htszrw=s64",
      "userId": "03232072030227591914"
     },
     "user_tz": -330
    },
    "id": "Mv2QW1YJ9fnC",
    "outputId": "398889e7-4c00-4875-b758-508fd19a214c"
   },
   "outputs": [
    {
     "name": "stdout",
     "output_type": "stream",
     "text": [
      "Train on 2560 samples\n",
      "2560/2560 [==============================] - 12s 5ms/sample - loss: 0.8121 - custom_sparse_categorical_accuracy: 0.8724\n"
     ]
    }
   ],
   "source": [
    "history = model.fit(np.array(X_tr), y_tr, batch_size=32, epochs=20, verbose=1)"
   ]
  },
  {
   "cell_type": "code",
   "execution_count": 43,
   "metadata": {
    "colab": {
     "base_uri": "https://localhost:8080/",
     "height": 336
    },
    "colab_type": "code",
    "executionInfo": {
     "elapsed": 8487,
     "status": "ok",
     "timestamp": 1578567142764,
     "user": {
      "displayName": "Suryansh Sharma",
      "photoUrl": "https://lh3.googleusercontent.com/a-/AAuE7mBy1CGO0PDyRG1nsJ6rDaUXBg-h18OkEJ86htszrw=s64",
      "userId": "03232072030227591914"
     },
     "user_tz": -330
    },
    "id": "RaYgTKA2cdUI",
    "outputId": "24b59fe8-831a-43b2-c9a0-fcd8e5c78426"
   },
   "outputs": [
    {
     "name": "stdout",
     "output_type": "stream",
     "text": [
      "Collecting seqeval\n",
      "  Downloading https://files.pythonhosted.org/packages/34/91/068aca8d60ce56dd9ba4506850e876aba5e66a6f2f29aa223224b50df0de/seqeval-0.0.12.tar.gz\n",
      "Requirement already satisfied: numpy>=1.14.0 in /tensorflow-2.1.0/python3.6 (from seqeval) (1.18.1)\n",
      "Requirement already satisfied: Keras>=2.2.4 in /usr/local/lib/python3.6/dist-packages (from seqeval) (2.2.5)\n",
      "Requirement already satisfied: scipy>=0.14 in /usr/local/lib/python3.6/dist-packages (from Keras>=2.2.4->seqeval) (1.4.1)\n",
      "Requirement already satisfied: h5py in /tensorflow-2.1.0/python3.6 (from Keras>=2.2.4->seqeval) (2.10.0)\n",
      "Requirement already satisfied: pyyaml in /usr/local/lib/python3.6/dist-packages (from Keras>=2.2.4->seqeval) (3.13)\n",
      "Requirement already satisfied: six>=1.9.0 in /tensorflow-2.1.0/python3.6 (from Keras>=2.2.4->seqeval) (1.13.0)\n",
      "Requirement already satisfied: keras-preprocessing>=1.1.0 in /tensorflow-2.1.0/python3.6 (from Keras>=2.2.4->seqeval) (1.1.0)\n",
      "Requirement already satisfied: keras-applications>=1.0.8 in /tensorflow-2.1.0/python3.6 (from Keras>=2.2.4->seqeval) (1.0.8)\n",
      "Building wheels for collected packages: seqeval\n",
      "  Building wheel for seqeval (setup.py) ... \u001b[?25l\u001b[?25hdone\n",
      "  Created wheel for seqeval: filename=seqeval-0.0.12-cp36-none-any.whl size=7424 sha256=150c4e294fa114638e9bd26324e3caf2e96f316a3a5a2be734a220dfce726bc7\n",
      "  Stored in directory: /root/.cache/pip/wheels/4f/32/0a/df3b340a82583566975377d65e724895b3fad101a3fb729f68\n",
      "Successfully built seqeval\n",
      "Installing collected packages: seqeval\n",
      "Successfully installed seqeval-0.0.12\n"
     ]
    }
   ],
   "source": [
    "!pip install seqeval"
   ]
  },
  {
   "cell_type": "code",
   "execution_count": 44,
   "metadata": {
    "colab": {
     "base_uri": "https://localhost:8080/",
     "height": 34
    },
    "colab_type": "code",
    "executionInfo": {
     "elapsed": 1090,
     "status": "ok",
     "timestamp": 1578567146253,
     "user": {
      "displayName": "Suryansh Sharma",
      "photoUrl": "https://lh3.googleusercontent.com/a-/AAuE7mBy1CGO0PDyRG1nsJ6rDaUXBg-h18OkEJ86htszrw=s64",
      "userId": "03232072030227591914"
     },
     "user_tz": -330
    },
    "id": "mJsCtYQbvDO7",
    "outputId": "67c632bb-e581-48f3-bf34-d91768c3a65c"
   },
   "outputs": [
    {
     "data": {
      "text/plain": [
       "(640, 30)"
      ]
     },
     "execution_count": 44,
     "metadata": {
      "tags": []
     },
     "output_type": "execute_result"
    }
   ],
   "source": [
    "np.array(X_te[:]).shape"
   ]
  },
  {
   "cell_type": "code",
   "execution_count": 0,
   "metadata": {
    "colab": {},
    "colab_type": "code",
    "id": "Yg69jziFMpjI"
   },
   "outputs": [],
   "source": [
    "idx2tag = {i: w for w, i in tags2index.items()}"
   ]
  },
  {
   "cell_type": "code",
   "execution_count": 46,
   "metadata": {
    "colab": {
     "base_uri": "https://localhost:8080/",
     "height": 34
    },
    "colab_type": "code",
    "executionInfo": {
     "elapsed": 1304,
     "status": "ok",
     "timestamp": 1578567159375,
     "user": {
      "displayName": "Suryansh Sharma",
      "photoUrl": "https://lh3.googleusercontent.com/a-/AAuE7mBy1CGO0PDyRG1nsJ6rDaUXBg-h18OkEJ86htszrw=s64",
      "userId": "03232072030227591914"
     },
     "user_tz": -330
    },
    "id": "GRDD4-LvXUic",
    "outputId": "4222b04a-14f6-4845-9c48-8995da8536ae"
   },
   "outputs": [
    {
     "name": "stdout",
     "output_type": "stream",
     "text": [
      "320/320 [==============================] - 0s 1ms/sample\n"
     ]
    }
   ],
   "source": [
    "from seqeval.metrics import precision_score, recall_score, f1_score, classification_report\n",
    "\n",
    "test_pred = model.predict(np.array(X_te[:32*10]), verbose=1)\n",
    "\n",
    "idx2tag = {i: w for w, i in tags2index.items()}\n",
    "\n",
    "def pred2label(pred):\n",
    "    out = []\n",
    "    for pred_i in pred:\n",
    "        out_i = []\n",
    "        for p in pred_i:\n",
    "            p_i = np.argmax(p)\n",
    "            out_i.append(idx2tag[p_i].replace(\"dummy\", \"O\"))\n",
    "        out.append(out_i)\n",
    "    return out"
   ]
  },
  {
   "cell_type": "code",
   "execution_count": 0,
   "metadata": {
    "colab": {},
    "colab_type": "code",
    "id": "i889iMAUABbx"
   },
   "outputs": [],
   "source": [
    "def test2label(pred):\n",
    "    out = []\n",
    "    for pred_i in pred:\n",
    "        out_i = []\n",
    "        for p in pred_i:\n",
    "            out_i.append(idx2tag[p[0]].replace(\"dummy\", \"O\"))\n",
    "        out.append(out_i)\n",
    "    return out"
   ]
  },
  {
   "cell_type": "code",
   "execution_count": 0,
   "metadata": {
    "colab": {},
    "colab_type": "code",
    "id": "4b2Kuy7nAD6O"
   },
   "outputs": [],
   "source": [
    "pred_labels = pred2label(test_pred)"
   ]
  },
  {
   "cell_type": "code",
   "execution_count": 49,
   "metadata": {
    "colab": {
     "base_uri": "https://localhost:8080/",
     "height": 263
    },
    "colab_type": "code",
    "executionInfo": {
     "elapsed": 1523,
     "status": "ok",
     "timestamp": 1578567163353,
     "user": {
      "displayName": "Suryansh Sharma",
      "photoUrl": "https://lh3.googleusercontent.com/a-/AAuE7mBy1CGO0PDyRG1nsJ6rDaUXBg-h18OkEJ86htszrw=s64",
      "userId": "03232072030227591914"
     },
     "user_tz": -330
    },
    "id": "f7P1awWg_u7o",
    "outputId": "4bafd8b2-5087-4e8d-c4d6-97a13f43c6fa"
   },
   "outputs": [
    {
     "name": "stdout",
     "output_type": "stream",
     "text": [
      "           precision    recall  f1-score   support\n",
      "\n",
      "      geo       1.00      0.00      0.01       242\n",
      "      per       0.00      0.00      0.00        95\n",
      "      org       0.00      0.00      0.00       141\n",
      "      gpe       0.00      0.00      0.00        97\n",
      "      nat       0.00      0.00      0.00         2\n",
      "      tim       0.00      0.00      0.00       138\n",
      "      art       0.00      0.00      0.00         4\n",
      "      eve       0.00      0.00      0.00         2\n",
      "\n",
      "micro avg       1.00      0.00      0.00       721\n",
      "macro avg       0.34      0.00      0.00       721\n",
      "\n"
     ]
    }
   ],
   "source": [
    "test_labels = test2label(y_te[:32*10])\n",
    "print(classification_report(test_labels, pred_labels))"
   ]
  },
  {
   "cell_type": "markdown",
   "metadata": {
    "colab_type": "text",
    "id": "pAQI4Ur4EHu7"
   },
   "source": [
    "The score can be increased by considering full train data and increasing the epochs."
   ]
  },
  {
   "cell_type": "markdown",
   "metadata": {
    "colab_type": "text",
    "id": "Ku5AtCowDtmv"
   },
   "source": [
    "### To visualize tags on text"
   ]
  },
  {
   "cell_type": "code",
   "execution_count": 50,
   "metadata": {
    "colab": {
     "base_uri": "https://localhost:8080/",
     "height": 142
    },
    "colab_type": "code",
    "executionInfo": {
     "elapsed": 5691,
     "status": "ok",
     "timestamp": 1578567180744,
     "user": {
      "displayName": "Suryansh Sharma",
      "photoUrl": "https://lh3.googleusercontent.com/a-/AAuE7mBy1CGO0PDyRG1nsJ6rDaUXBg-h18OkEJ86htszrw=s64",
      "userId": "03232072030227591914"
     },
     "user_tz": -330
    },
    "id": "ClpZ-jR-A5fp",
    "outputId": "e406109e-1b0b-401a-8bc2-991d055fe909"
   },
   "outputs": [
    {
     "name": "stdout",
     "output_type": "stream",
     "text": [
      "Collecting ipymarkup\n",
      "  Downloading https://files.pythonhosted.org/packages/d8/29/eaa1bcf649d6333dea829c05577c67f881d0555b6d77c1da72afda5c847d/ipymarkup-0.5.0-py2.py3-none-any.whl\n",
      "Requirement already satisfied: intervaltree==2.1.0 in /usr/local/lib/python3.6/dist-packages (from ipymarkup) (2.1.0)\n",
      "Requirement already satisfied: sortedcontainers in /usr/local/lib/python3.6/dist-packages (from intervaltree==2.1.0->ipymarkup) (2.1.0)\n",
      "Installing collected packages: ipymarkup\n",
      "Successfully installed ipymarkup-0.5.0\n"
     ]
    }
   ],
   "source": [
    "!pip install ipymarkup"
   ]
  },
  {
   "cell_type": "code",
   "execution_count": 0,
   "metadata": {
    "colab": {},
    "colab_type": "code",
    "id": "q6_KQvPJK69R"
   },
   "outputs": [],
   "source": [
    "from ipymarkup import show_box_markup\n",
    "from ipymarkup.palette import palette, BLUE, RED, GREEN, ORANGE, PURPLE"
   ]
  },
  {
   "cell_type": "code",
   "execution_count": 52,
   "metadata": {
    "colab": {
     "base_uri": "https://localhost:8080/",
     "height": 54
    },
    "colab_type": "code",
    "executionInfo": {
     "elapsed": 2250,
     "status": "ok",
     "timestamp": 1578567180756,
     "user": {
      "displayName": "Suryansh Sharma",
      "photoUrl": "https://lh3.googleusercontent.com/a-/AAuE7mBy1CGO0PDyRG1nsJ6rDaUXBg-h18OkEJ86htszrw=s64",
      "userId": "03232072030227591914"
     },
     "user_tz": -330
    },
    "id": "UiP4BTiUKy2v",
    "outputId": "2ced2988-6dea-4371-880e-cf9ab14efb14"
   },
   "outputs": [
    {
     "name": "stdout",
     "output_type": "stream",
     "text": [
      "['Helicopter', 'gunships', 'Saturday', 'pounded', 'militant', 'hideouts', 'in', 'the', 'Orakzai', 'tribal', 'region', ',', 'where', 'many', 'Taliban', 'militants', 'are', 'believed', 'to', 'have', 'fled', 'to', 'avoid', 'an', 'earlier', 'military', 'offensive', 'in', 'nearby', 'South']\n"
     ]
    }
   ],
   "source": [
    "test = new_X[2]\n",
    "print(test)\n",
    "\n",
    "# j = ''\n",
    "# for i in test:\n",
    "#   j = j + idx2tag[i]\n",
    "# print(j) \n",
    "text = ' '.join(test)\n",
    "\n",
    "spans = []\n",
    "current_pos2 = 0\n",
    "for index, i in enumerate(test):\n",
    "  if index<max_len and i !=\"dummy\":\n",
    "    if len(idx2tag[y_te[2][index][0]].split('-'))>1:\n",
    "      tag = idx2tag[y_te[2][index][0]].split('-')[1]\n",
    "    else:\n",
    "      tag = idx2tag[y_te[2][index][0]].split('-')[0]\n",
    "    \n",
    "    current_pos1 = current_pos2\n",
    "    current_pos2 += len(i)+1\n",
    "    if current_pos2 > current_pos1:\n",
    "      spans.append( (current_pos1, current_pos2, tag) )"
   ]
  },
  {
   "cell_type": "code",
   "execution_count": 53,
   "metadata": {
    "colab": {
     "base_uri": "https://localhost:8080/",
     "height": 545
    },
    "colab_type": "code",
    "executionInfo": {
     "elapsed": 1283,
     "status": "ok",
     "timestamp": 1578567181939,
     "user": {
      "displayName": "Suryansh Sharma",
      "photoUrl": "https://lh3.googleusercontent.com/a-/AAuE7mBy1CGO0PDyRG1nsJ6rDaUXBg-h18OkEJ86htszrw=s64",
      "userId": "03232072030227591914"
     },
     "user_tz": -330
    },
    "id": "wouWxu-9K0S_",
    "outputId": "1392d8d5-205c-4c54-9cf4-d9871cbcb7ee"
   },
   "outputs": [
    {
     "data": {
      "text/plain": [
       "[(0, 11, 'O'),\n",
       " (11, 20, 'O'),\n",
       " (20, 29, 'O'),\n",
       " (29, 37, 'O'),\n",
       " (37, 46, 'O'),\n",
       " (46, 55, 'O'),\n",
       " (55, 58, 'O'),\n",
       " (58, 62, 'O'),\n",
       " (62, 70, 'O'),\n",
       " (70, 77, 'O'),\n",
       " (77, 84, 'O'),\n",
       " (84, 86, 'tim'),\n",
       " (86, 92, 'O'),\n",
       " (92, 97, 'O'),\n",
       " (97, 105, 'O'),\n",
       " (105, 115, 'O'),\n",
       " (115, 119, 'O'),\n",
       " (119, 128, 'O'),\n",
       " (128, 131, 'geo'),\n",
       " (131, 136, 'O'),\n",
       " (136, 141, 'O'),\n",
       " (141, 144, 'O'),\n",
       " (144, 150, 'O'),\n",
       " (150, 153, 'gpe'),\n",
       " (153, 161, 'O'),\n",
       " (161, 170, 'O'),\n",
       " (170, 180, 'O'),\n",
       " (180, 183, 'O'),\n",
       " (183, 190, 'O'),\n",
       " (190, 196, 'O')]"
      ]
     },
     "execution_count": 53,
     "metadata": {
      "tags": []
     },
     "output_type": "execute_result"
    }
   ],
   "source": [
    "spans"
   ]
  },
  {
   "cell_type": "code",
   "execution_count": 54,
   "metadata": {
    "colab": {
     "base_uri": "https://localhost:8080/",
     "height": 50
    },
    "colab_type": "code",
    "executionInfo": {
     "elapsed": 1074,
     "status": "ok",
     "timestamp": 1578567182944,
     "user": {
      "displayName": "Suryansh Sharma",
      "photoUrl": "https://lh3.googleusercontent.com/a-/AAuE7mBy1CGO0PDyRG1nsJ6rDaUXBg-h18OkEJ86htszrw=s64",
      "userId": "03232072030227591914"
     },
     "user_tz": -330
    },
    "id": "KOcUqZfQK1BS",
    "outputId": "7f5b2da1-c059-4fd6-ff9b-38e9919d6993"
   },
   "outputs": [
    {
     "data": {
      "text/html": [
       "<div class=\"tex2jax_ignore\" style=\"white-space: pre-wrap\"><span style=\"padding: 2px; border-radius: 4px; border: 1px solid #d1c4e9; background: #ede7f6\">Helicopter <span style=\"vertical-align: middle; margin-left: 2px; font-size: 0.7em; color: #9575cd;\">O</span></span><span style=\"padding: 2px; border-radius: 4px; border: 1px solid #d1c4e9; background: #ede7f6\">gunships <span style=\"vertical-align: middle; margin-left: 2px; font-size: 0.7em; color: #9575cd;\">O</span></span><span style=\"padding: 2px; border-radius: 4px; border: 1px solid #d1c4e9; background: #ede7f6\">Saturday <span style=\"vertical-align: middle; margin-left: 2px; font-size: 0.7em; color: #9575cd;\">O</span></span><span style=\"padding: 2px; border-radius: 4px; border: 1px solid #d1c4e9; background: #ede7f6\">pounded <span style=\"vertical-align: middle; margin-left: 2px; font-size: 0.7em; color: #9575cd;\">O</span></span><span style=\"padding: 2px; border-radius: 4px; border: 1px solid #d1c4e9; background: #ede7f6\">militant <span style=\"vertical-align: middle; margin-left: 2px; font-size: 0.7em; color: #9575cd;\">O</span></span><span style=\"padding: 2px; border-radius: 4px; border: 1px solid #d1c4e9; background: #ede7f6\">hideouts <span style=\"vertical-align: middle; margin-left: 2px; font-size: 0.7em; color: #9575cd;\">O</span></span><span style=\"padding: 2px; border-radius: 4px; border: 1px solid #d1c4e9; background: #ede7f6\">in <span style=\"vertical-align: middle; margin-left: 2px; font-size: 0.7em; color: #9575cd;\">O</span></span><span style=\"padding: 2px; border-radius: 4px; border: 1px solid #d1c4e9; background: #ede7f6\">the <span style=\"vertical-align: middle; margin-left: 2px; font-size: 0.7em; color: #9575cd;\">O</span></span><span style=\"padding: 2px; border-radius: 4px; border: 1px solid #d1c4e9; background: #ede7f6\">Orakzai <span style=\"vertical-align: middle; margin-left: 2px; font-size: 0.7em; color: #9575cd;\">O</span></span><span style=\"padding: 2px; border-radius: 4px; border: 1px solid #d1c4e9; background: #ede7f6\">tribal <span style=\"vertical-align: middle; margin-left: 2px; font-size: 0.7em; color: #9575cd;\">O</span></span><span style=\"padding: 2px; border-radius: 4px; border: 1px solid #d1c4e9; background: #ede7f6\">region <span style=\"vertical-align: middle; margin-left: 2px; font-size: 0.7em; color: #9575cd;\">O</span></span><span style=\"padding: 2px; border-radius: 4px; border: 1px solid #bbdefb; background: #e3f2fd\">, <span style=\"vertical-align: middle; margin-left: 2px; font-size: 0.7em; color: #64b5f6;\">tim</span></span><span style=\"padding: 2px; border-radius: 4px; border: 1px solid #d1c4e9; background: #ede7f6\">where <span style=\"vertical-align: middle; margin-left: 2px; font-size: 0.7em; color: #9575cd;\">O</span></span><span style=\"padding: 2px; border-radius: 4px; border: 1px solid #d1c4e9; background: #ede7f6\">many <span style=\"vertical-align: middle; margin-left: 2px; font-size: 0.7em; color: #9575cd;\">O</span></span><span style=\"padding: 2px; border-radius: 4px; border: 1px solid #d1c4e9; background: #ede7f6\">Taliban <span style=\"vertical-align: middle; margin-left: 2px; font-size: 0.7em; color: #9575cd;\">O</span></span><span style=\"padding: 2px; border-radius: 4px; border: 1px solid #d1c4e9; background: #ede7f6\">militants <span style=\"vertical-align: middle; margin-left: 2px; font-size: 0.7em; color: #9575cd;\">O</span></span><span style=\"padding: 2px; border-radius: 4px; border: 1px solid #d1c4e9; background: #ede7f6\">are <span style=\"vertical-align: middle; margin-left: 2px; font-size: 0.7em; color: #9575cd;\">O</span></span><span style=\"padding: 2px; border-radius: 4px; border: 1px solid #d1c4e9; background: #ede7f6\">believed <span style=\"vertical-align: middle; margin-left: 2px; font-size: 0.7em; color: #9575cd;\">O</span></span><span style=\"padding: 2px; border-radius: 4px; border: 1px solid #ffcdd2; background: #ffebee\">to <span style=\"vertical-align: middle; margin-left: 2px; font-size: 0.7em; color: #e57373;\">geo</span></span><span style=\"padding: 2px; border-radius: 4px; border: 1px solid #d1c4e9; background: #ede7f6\">have <span style=\"vertical-align: middle; margin-left: 2px; font-size: 0.7em; color: #9575cd;\">O</span></span><span style=\"padding: 2px; border-radius: 4px; border: 1px solid #d1c4e9; background: #ede7f6\">fled <span style=\"vertical-align: middle; margin-left: 2px; font-size: 0.7em; color: #9575cd;\">O</span></span><span style=\"padding: 2px; border-radius: 4px; border: 1px solid #d1c4e9; background: #ede7f6\">to <span style=\"vertical-align: middle; margin-left: 2px; font-size: 0.7em; color: #9575cd;\">O</span></span><span style=\"padding: 2px; border-radius: 4px; border: 1px solid #d1c4e9; background: #ede7f6\">avoid <span style=\"vertical-align: middle; margin-left: 2px; font-size: 0.7em; color: #9575cd;\">O</span></span><span style=\"padding: 2px; border-radius: 4px; border: 1px solid #ffe0b2; background: #fff3e0\">an <span style=\"vertical-align: middle; margin-left: 2px; font-size: 0.7em; color: #ffb74d;\">gpe</span></span><span style=\"padding: 2px; border-radius: 4px; border: 1px solid #d1c4e9; background: #ede7f6\">earlier <span style=\"vertical-align: middle; margin-left: 2px; font-size: 0.7em; color: #9575cd;\">O</span></span><span style=\"padding: 2px; border-radius: 4px; border: 1px solid #d1c4e9; background: #ede7f6\">military <span style=\"vertical-align: middle; margin-left: 2px; font-size: 0.7em; color: #9575cd;\">O</span></span><span style=\"padding: 2px; border-radius: 4px; border: 1px solid #d1c4e9; background: #ede7f6\">offensive <span style=\"vertical-align: middle; margin-left: 2px; font-size: 0.7em; color: #9575cd;\">O</span></span><span style=\"padding: 2px; border-radius: 4px; border: 1px solid #d1c4e9; background: #ede7f6\">in <span style=\"vertical-align: middle; margin-left: 2px; font-size: 0.7em; color: #9575cd;\">O</span></span><span style=\"padding: 2px; border-radius: 4px; border: 1px solid #d1c4e9; background: #ede7f6\">nearby <span style=\"vertical-align: middle; margin-left: 2px; font-size: 0.7em; color: #9575cd;\">O</span></span><span style=\"padding: 2px; border-radius: 4px; border: 1px solid #d1c4e9; background: #ede7f6\">South<span style=\"vertical-align: middle; margin-left: 2px; font-size: 0.7em; color: #9575cd;\">O</span></span></div>"
      ],
      "text/plain": [
       "BoxMarkup('Helicopter gunships Saturday pounded militant hideouts in the Orakzai tribal region , where many Taliban militants are believed to have fled to avoid an earlier military offensive in nearby South',\n",
       "          [Span(0, 11, 'O'),\n",
       "           Span(11, 20, 'O'),\n",
       "           Span(20, 29, 'O'),\n",
       "           Span(29, 37, 'O'),\n",
       "           Span(37, 46, 'O'),\n",
       "           Span(46, 55, 'O'),\n",
       "           Span(55, 58, 'O'),\n",
       "           Span(58, 62, 'O'),\n",
       "           Span(62, 70, 'O'),\n",
       "           Span(70, 77, 'O'),\n",
       "           Span(77, 84, 'O'),\n",
       "           Span(84, 86, 'tim'),\n",
       "           Span(86, 92, 'O'),\n",
       "           Span(92, 97, 'O'),\n",
       "           Span(97, 105, 'O'),\n",
       "           Span(105, 115, 'O'),\n",
       "           Span(115, 119, 'O'),\n",
       "           Span(119, 128, 'O'),\n",
       "           Span(128, 131, 'geo'),\n",
       "           Span(131, 136, 'O'),\n",
       "           Span(136, 141, 'O'),\n",
       "           Span(141, 144, 'O'),\n",
       "           Span(144, 150, 'O'),\n",
       "           Span(150, 153, 'gpe'),\n",
       "           Span(153, 161, 'O'),\n",
       "           Span(161, 170, 'O'),\n",
       "           Span(170, 180, 'O'),\n",
       "           Span(180, 183, 'O'),\n",
       "           Span(183, 190, 'O'),\n",
       "           Span(190, 196, 'O')])"
      ]
     },
     "metadata": {
      "tags": []
     },
     "output_type": "display_data"
    }
   ],
   "source": [
    "show_box_markup(text, spans, palette=palette(tim=BLUE, geo=RED, gpe=ORANGE, O=PURPLE))"
   ]
  },
  {
   "cell_type": "code",
   "execution_count": 0,
   "metadata": {
    "colab": {},
    "colab_type": "code",
    "id": "OKOerYGy76U2"
   },
   "outputs": [],
   "source": []
  }
 ],
 "metadata": {
  "accelerator": "GPU",
  "colab": {
   "collapsed_sections": [],
   "name": "case_study_Sequence_Tagging_week3_nlp_aiml_online_glove.ipynb",
   "provenance": [],
   "toc_visible": true
  },
  "kernelspec": {
   "display_name": "Python 3 (ipykernel)",
   "language": "python",
   "name": "python3"
  },
  "language_info": {
   "codemirror_mode": {
    "name": "ipython",
    "version": 3
   },
   "file_extension": ".py",
   "mimetype": "text/x-python",
   "name": "python",
   "nbconvert_exporter": "python",
   "pygments_lexer": "ipython3",
   "version": "3.9.7"
  }
 },
 "nbformat": 4,
 "nbformat_minor": 1
}
