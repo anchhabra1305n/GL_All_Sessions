{
 "cells": [
  {
   "cell_type": "markdown",
   "metadata": {
    "id": "8Om-9BPi4T0-"
   },
   "source": [
    "# Context:\n",
    "    \n",
    "The dataset contains 1000 entries with 20 categorial/symbolic attributes prepared by Prof. Hofmann. In this dataset, \n",
    "each entry represents a person who takes a credit by a bank. Each person is classified as good or bad credit risks according to \n",
    "the set of attributes. The link to the dataset can be found below."
   ]
  },
  {
   "cell_type": "markdown",
   "metadata": {
    "id": "x4YovIbD4T1I"
   },
   "source": [
    "# Dataset:\n",
    "https://www.kaggle.com/renaldydermawan25/credit-data/version/1"
   ]
  },
  {
   "cell_type": "markdown",
   "metadata": {
    "id": "xwOOpV8Z4T1J"
   },
   "source": [
    "# Some Attribute information:\n",
    "    \n",
    "Age (numeric)\n",
    "\n",
    "Sex (text: male, female)\n",
    "\n",
    "Job (numeric: 0 - unskilled and non-resident, 1 - unskilled and resident, 2 - skilled, 3 - highly skilled)\n",
    "\n",
    "Housing (text: own, rent, or free)\n",
    "\n",
    "Saving accounts (text - little, moderate, quite rich, rich)\n",
    "\n",
    "Checking account (numeric, in DM - Deutsch Mark)\n",
    "\n",
    "Credit amount (numeric, in DM)\n",
    "\n",
    "Duration (numeric, in month)\n",
    "\n",
    "Purpose (text: car, furniture/equipment, radio/TV, domestic appliances, repairs, education, business, vacation/others)"
   ]
  },
  {
   "cell_type": "markdown",
   "metadata": {
    "id": "dEgsfnTx4T1K"
   },
   "source": [
    "# Objective:\n",
    "    \n",
    "To Guage Feature Importance"
   ]
  },
  {
   "cell_type": "code",
   "execution_count": 468,
   "metadata": {
    "id": "GExciXj54T1L"
   },
   "outputs": [],
   "source": [
    "# Import important library\n",
    "import numpy as np\n",
    "import pandas as pd\n",
    "import matplotlib.pyplot as plt\n",
    "import seaborn as sns\n",
    "%matplotlib inline\n",
    "import warnings\n",
    "warnings.filterwarnings('ignore')\n",
    "pd.set_option('display.max_rows', 1000)\n",
    "pd.set_option('display.max_columns', 1000)\n",
    "pd.set_option('display.width', None)\n",
    "pd.set_option('display.max_colwidth', -1)\n",
    "import numpy as np\n",
    "import pandas as pd\n",
    "import matplotlib.pyplot as plt   \n",
    "import seaborn as sns\n",
    "from sklearn.model_selection import train_test_split,GridSearchCV\n",
    "from sklearn.linear_model import LogisticRegression\n",
    "from sklearn import metrics\n",
    "from sklearn.metrics import roc_auc_score,roc_curve,classification_report,confusion_matrix,plot_confusion_matrix\n",
    "import warnings\n",
    "warnings.simplefilter(action='ignore', category=FutureWarning)"
   ]
  },
  {
   "cell_type": "code",
   "execution_count": 2,
   "metadata": {
    "id": "vBtBseyA4T1L"
   },
   "outputs": [],
   "source": [
    "from IPython.core.interactiveshell import InteractiveShell\n",
    "InteractiveShell.ast_node_interactivity = \"all\""
   ]
  },
  {
   "cell_type": "code",
   "execution_count": 3,
   "metadata": {
    "id": "7wxBvKla4T1M"
   },
   "outputs": [],
   "source": [
    "#Read input file and understand the data\n",
    "# \"default\" is my dependent variable\n",
    "df_pre = pd.read_csv(\"credit_data.csv\")"
   ]
  },
  {
   "cell_type": "code",
   "execution_count": 4,
   "metadata": {
    "id": "SmK8Ps-S4T1M",
    "outputId": "72419096-f0bb-4c69-df0d-ce424fc16bb8"
   },
   "outputs": [
    {
     "data": {
      "text/plain": [
       "(1000, 21)"
      ]
     },
     "execution_count": 4,
     "metadata": {},
     "output_type": "execute_result"
    }
   ],
   "source": [
    "df_pre.shape"
   ]
  },
  {
   "cell_type": "code",
   "execution_count": 5,
   "metadata": {
    "id": "crtkYjZ74T1O",
    "outputId": "7b07f8ff-a965-4ba7-8998-ec91bb1829ae"
   },
   "outputs": [
    {
     "name": "stdout",
     "output_type": "stream",
     "text": [
      "<class 'pandas.core.frame.DataFrame'>\n",
      "RangeIndex: 1000 entries, 0 to 999\n",
      "Data columns (total 21 columns):\n",
      " #   Column                      Non-Null Count  Dtype \n",
      "---  ------                      --------------  ----- \n",
      " 0   default                     1000 non-null   int64 \n",
      " 1   account_check_status        1000 non-null   object\n",
      " 2   duration_in_month           1000 non-null   int64 \n",
      " 3   credit_history              1000 non-null   object\n",
      " 4   purpose                     1000 non-null   object\n",
      " 5   credit_amount               1000 non-null   int64 \n",
      " 6   savings                     1000 non-null   object\n",
      " 7   present_emp_since           1000 non-null   object\n",
      " 8   installment_as_income_perc  1000 non-null   int64 \n",
      " 9   personal_status_sex         1000 non-null   object\n",
      " 10  other_debtors               1000 non-null   object\n",
      " 11  present_res_since           1000 non-null   int64 \n",
      " 12  property                    1000 non-null   object\n",
      " 13  age                         1000 non-null   int64 \n",
      " 14  other_installment_plans     1000 non-null   object\n",
      " 15  housing                     1000 non-null   object\n",
      " 16  credits_this_bank           1000 non-null   int64 \n",
      " 17  job                         1000 non-null   object\n",
      " 18  people_under_maintenance    1000 non-null   int64 \n",
      " 19  telephone                   1000 non-null   object\n",
      " 20  foreign_worker              1000 non-null   object\n",
      "dtypes: int64(8), object(13)\n",
      "memory usage: 164.2+ KB\n"
     ]
    }
   ],
   "source": [
    "df_pre.info()"
   ]
  },
  {
   "cell_type": "code",
   "execution_count": 29,
   "metadata": {
    "id": "rfcmrXOZ4T1P",
    "outputId": "dda9637f-3d22-4f4f-958d-b88981af5834"
   },
   "outputs": [
    {
     "data": {
      "text/html": [
       "<div>\n",
       "<style scoped>\n",
       "    .dataframe tbody tr th:only-of-type {\n",
       "        vertical-align: middle;\n",
       "    }\n",
       "\n",
       "    .dataframe tbody tr th {\n",
       "        vertical-align: top;\n",
       "    }\n",
       "\n",
       "    .dataframe thead th {\n",
       "        text-align: right;\n",
       "    }\n",
       "</style>\n",
       "<table border=\"1\" class=\"dataframe\">\n",
       "  <thead>\n",
       "    <tr style=\"text-align: right;\">\n",
       "      <th></th>\n",
       "      <th>default</th>\n",
       "      <th>account_check_status</th>\n",
       "      <th>duration_in_month</th>\n",
       "      <th>credit_history</th>\n",
       "      <th>purpose</th>\n",
       "      <th>credit_amount</th>\n",
       "      <th>savings</th>\n",
       "      <th>present_emp_since</th>\n",
       "      <th>installment_as_income_perc</th>\n",
       "      <th>personal_status_sex</th>\n",
       "      <th>other_debtors</th>\n",
       "      <th>present_res_since</th>\n",
       "      <th>property</th>\n",
       "      <th>age</th>\n",
       "      <th>other_installment_plans</th>\n",
       "      <th>housing</th>\n",
       "      <th>credits_this_bank</th>\n",
       "      <th>job</th>\n",
       "      <th>people_under_maintenance</th>\n",
       "      <th>telephone</th>\n",
       "      <th>foreign_worker</th>\n",
       "    </tr>\n",
       "  </thead>\n",
       "  <tbody>\n",
       "    <tr>\n",
       "      <th>0</th>\n",
       "      <td>0</td>\n",
       "      <td>&lt; 0 DM</td>\n",
       "      <td>6</td>\n",
       "      <td>critical account/ other credits existing (not at this bank)</td>\n",
       "      <td>domestic appliances</td>\n",
       "      <td>1169</td>\n",
       "      <td>unknown/ no savings account</td>\n",
       "      <td>.. &gt;= 7 years</td>\n",
       "      <td>4</td>\n",
       "      <td>male : single</td>\n",
       "      <td>none</td>\n",
       "      <td>4</td>\n",
       "      <td>real estate</td>\n",
       "      <td>67</td>\n",
       "      <td>none</td>\n",
       "      <td>own</td>\n",
       "      <td>2</td>\n",
       "      <td>skilled employee / official</td>\n",
       "      <td>1</td>\n",
       "      <td>yes, registered under the customers name</td>\n",
       "      <td>yes</td>\n",
       "    </tr>\n",
       "    <tr>\n",
       "      <th>1</th>\n",
       "      <td>1</td>\n",
       "      <td>0 &lt;= ... &lt; 200 DM</td>\n",
       "      <td>48</td>\n",
       "      <td>existing credits paid back duly till now</td>\n",
       "      <td>domestic appliances</td>\n",
       "      <td>5951</td>\n",
       "      <td>... &lt; 100 DM</td>\n",
       "      <td>1 &lt;= ... &lt; 4 years</td>\n",
       "      <td>2</td>\n",
       "      <td>female : divorced/separated/married</td>\n",
       "      <td>none</td>\n",
       "      <td>2</td>\n",
       "      <td>real estate</td>\n",
       "      <td>22</td>\n",
       "      <td>none</td>\n",
       "      <td>own</td>\n",
       "      <td>1</td>\n",
       "      <td>skilled employee / official</td>\n",
       "      <td>1</td>\n",
       "      <td>none</td>\n",
       "      <td>yes</td>\n",
       "    </tr>\n",
       "    <tr>\n",
       "      <th>2</th>\n",
       "      <td>0</td>\n",
       "      <td>no checking account</td>\n",
       "      <td>12</td>\n",
       "      <td>critical account/ other credits existing (not at this bank)</td>\n",
       "      <td>(vacation - does not exist?)</td>\n",
       "      <td>2096</td>\n",
       "      <td>... &lt; 100 DM</td>\n",
       "      <td>4 &lt;= ... &lt; 7 years</td>\n",
       "      <td>2</td>\n",
       "      <td>male : single</td>\n",
       "      <td>none</td>\n",
       "      <td>3</td>\n",
       "      <td>real estate</td>\n",
       "      <td>49</td>\n",
       "      <td>none</td>\n",
       "      <td>own</td>\n",
       "      <td>1</td>\n",
       "      <td>unskilled - resident</td>\n",
       "      <td>2</td>\n",
       "      <td>none</td>\n",
       "      <td>yes</td>\n",
       "    </tr>\n",
       "  </tbody>\n",
       "</table>\n",
       "</div>"
      ],
      "text/plain": [
       "   default account_check_status  duration_in_month  \\\n",
       "0  0        < 0 DM               6                   \n",
       "1  1        0 <= ... < 200 DM    48                  \n",
       "2  0        no checking account  12                  \n",
       "\n",
       "                                                credit_history  \\\n",
       "0  critical account/ other credits existing (not at this bank)   \n",
       "1  existing credits paid back duly till now                      \n",
       "2  critical account/ other credits existing (not at this bank)   \n",
       "\n",
       "                        purpose  credit_amount                      savings  \\\n",
       "0  domestic appliances           1169           unknown/ no savings account   \n",
       "1  domestic appliances           5951           ... < 100 DM                  \n",
       "2  (vacation - does not exist?)  2096           ... < 100 DM                  \n",
       "\n",
       "    present_emp_since  installment_as_income_perc  \\\n",
       "0  .. >= 7 years       4                            \n",
       "1  1 <= ... < 4 years  2                            \n",
       "2  4 <= ... < 7 years  2                            \n",
       "\n",
       "                   personal_status_sex other_debtors  present_res_since  \\\n",
       "0  male : single                        none          4                   \n",
       "1  female : divorced/separated/married  none          2                   \n",
       "2  male : single                        none          3                   \n",
       "\n",
       "      property  age other_installment_plans housing  credits_this_bank  \\\n",
       "0  real estate  67   none                    own     2                   \n",
       "1  real estate  22   none                    own     1                   \n",
       "2  real estate  49   none                    own     1                   \n",
       "\n",
       "                           job  people_under_maintenance  \\\n",
       "0  skilled employee / official  1                          \n",
       "1  skilled employee / official  1                          \n",
       "2  unskilled - resident         2                          \n",
       "\n",
       "                                   telephone foreign_worker  \n",
       "0  yes, registered under the customers name   yes            \n",
       "1  none                                       yes            \n",
       "2  none                                       yes            "
      ]
     },
     "execution_count": 29,
     "metadata": {},
     "output_type": "execute_result"
    }
   ],
   "source": [
    "df_pre.head(3)"
   ]
  },
  {
   "cell_type": "code",
   "execution_count": 15,
   "metadata": {
    "id": "V548QZup4T1P",
    "outputId": "42d59b07-286e-4389-f344-9589e220e60d",
    "scrolled": true
   },
   "outputs": [
    {
     "data": {
      "text/plain": [
       "Index(['default', 'account_check_status', 'duration_in_month',\n",
       "       'credit_history', 'purpose', 'credit_amount', 'savings',\n",
       "       'present_emp_since', 'installment_as_income_perc',\n",
       "       'personal_status_sex', 'other_debtors', 'present_res_since', 'property',\n",
       "       'age', 'other_installment_plans', 'housing', 'credits_this_bank', 'job',\n",
       "       'people_under_maintenance', 'telephone', 'foreign_worker'],\n",
       "      dtype='object')"
      ]
     },
     "execution_count": 15,
     "metadata": {},
     "output_type": "execute_result"
    }
   ],
   "source": [
    "df_pre.columns"
   ]
  },
  {
   "cell_type": "markdown",
   "metadata": {},
   "source": [
    "# Distribution of Target Feature"
   ]
  },
  {
   "cell_type": "code",
   "execution_count": 19,
   "metadata": {},
   "outputs": [
    {
     "data": {
      "image/png": "[encoded data removed]",
      "text/plain": [
       "<Figure size 720x432 with 1 Axes>"
      ]
     },
     "metadata": {
      "needs_background": "light"
     },
     "output_type": "display_data"
    }
   ],
   "source": [
    "plt.figure(figsize = (10,6))\n",
    "sns.countplot(x = df_pre['default']);"
   ]
  },
  {
   "cell_type": "code",
   "execution_count": 20,
   "metadata": {},
   "outputs": [
    {
     "data": {
      "text/plain": [
       "0    700\n",
       "1    300\n",
       "Name: default, dtype: int64"
      ]
     },
     "execution_count": 20,
     "metadata": {},
     "output_type": "execute_result"
    }
   ],
   "source": [
    "df_pre['default'].value_counts(dropna = False)"
   ]
  },
  {
   "cell_type": "code",
   "execution_count": 23,
   "metadata": {
    "id": "8rqtFQAI4T1Q",
    "outputId": "0a3a5ea3-fdbd-41fb-eb66-35725b53c864"
   },
   "outputs": [],
   "source": [
    "# # Randomly select 50% data for this use case\n",
    "# from sklearn.model_selection import train_test_split\n",
    "# out_data,df = train_test_split(df_pre, train_size = 0.5,random_state=5)\n",
    "# print(out_data.shape)\n",
    "# print(df.shape)"
   ]
  },
  {
   "cell_type": "code",
   "execution_count": 24,
   "metadata": {
    "id": "wOMwyJt64T1R",
    "outputId": "6bb90ee2-80dc-4f7d-cb64-8af512504018"
   },
   "outputs": [],
   "source": [
    "# # Lets build a Ensemble model but need to modify the dataset first\n",
    "# obj_df= df.select_dtypes(include=['object'])\n",
    "# obj_df.head(3)\n",
    "# obj_df.shape"
   ]
  },
  {
   "cell_type": "code",
   "execution_count": 25,
   "metadata": {
    "id": "2j4KlVsD4T1R"
   },
   "outputs": [],
   "source": [
    "# dff = pd.get_dummies(df, columns=['account_check_status','credit_history','purpose','savings',\n",
    "#                                 'present_emp_since','personal_status_sex', 'other_debtors',\n",
    "#                                 'property','other_installment_plans', 'housing','job','foreign_worker'])\n",
    "\n",
    "# dff.shape\n",
    "# # Lets check for highly correlated variables\n",
    "# cor= dff.corr()\n",
    "# cor.loc[:,:] = np.tril(cor,k=-1)\n",
    "# cor=cor.stack()\n",
    "# cor[(cor > 0.55) | (cor< -0.55)]\n",
    "# plt.figure(figsize=(40, 20))\n",
    "# sns.heatmap(dff.corr(),annot=True,vmin=-1, vmax=1, cmap='BrBG');"
   ]
  },
  {
   "cell_type": "code",
   "execution_count": null,
   "metadata": {
    "id": "vcgLgurJ4T1T"
   },
   "outputs": [],
   "source": [
    "# #Drop irrelavent data\n",
    "# dff=dff.drop([\"telephone\",\"foreign_worker_yes\",\"job_unskilled - resident\",\"housing_rent\",\"other_installment_plans_bank\",\n",
    "#               \"other_debtors_co-applicant\"],axis=1)"
   ]
  },
  {
   "cell_type": "markdown",
   "metadata": {},
   "source": [
    "# Numerical Data Analysis"
   ]
  },
  {
   "cell_type": "code",
   "execution_count": 311,
   "metadata": {},
   "outputs": [
    {
     "data": {
      "text/html": [
       "<div>\n",
       "<style scoped>\n",
       "    .dataframe tbody tr th:only-of-type {\n",
       "        vertical-align: middle;\n",
       "    }\n",
       "\n",
       "    .dataframe tbody tr th {\n",
       "        vertical-align: top;\n",
       "    }\n",
       "\n",
       "    .dataframe thead th {\n",
       "        text-align: right;\n",
       "    }\n",
       "</style>\n",
       "<table border=\"1\" class=\"dataframe\">\n",
       "  <thead>\n",
       "    <tr style=\"text-align: right;\">\n",
       "      <th></th>\n",
       "      <th>default</th>\n",
       "      <th>duration_in_month</th>\n",
       "      <th>credit_amount</th>\n",
       "      <th>installment_as_income_perc</th>\n",
       "      <th>present_res_since</th>\n",
       "      <th>age</th>\n",
       "      <th>credits_this_bank</th>\n",
       "      <th>people_under_maintenance</th>\n",
       "    </tr>\n",
       "  </thead>\n",
       "  <tbody>\n",
       "    <tr>\n",
       "      <th>0</th>\n",
       "      <td>0</td>\n",
       "      <td>6</td>\n",
       "      <td>1169</td>\n",
       "      <td>4</td>\n",
       "      <td>4</td>\n",
       "      <td>67</td>\n",
       "      <td>2</td>\n",
       "      <td>1</td>\n",
       "    </tr>\n",
       "    <tr>\n",
       "      <th>1</th>\n",
       "      <td>1</td>\n",
       "      <td>48</td>\n",
       "      <td>5951</td>\n",
       "      <td>2</td>\n",
       "      <td>2</td>\n",
       "      <td>22</td>\n",
       "      <td>1</td>\n",
       "      <td>1</td>\n",
       "    </tr>\n",
       "    <tr>\n",
       "      <th>2</th>\n",
       "      <td>0</td>\n",
       "      <td>12</td>\n",
       "      <td>2096</td>\n",
       "      <td>2</td>\n",
       "      <td>3</td>\n",
       "      <td>49</td>\n",
       "      <td>1</td>\n",
       "      <td>2</td>\n",
       "    </tr>\n",
       "    <tr>\n",
       "      <th>3</th>\n",
       "      <td>0</td>\n",
       "      <td>42</td>\n",
       "      <td>7882</td>\n",
       "      <td>2</td>\n",
       "      <td>4</td>\n",
       "      <td>45</td>\n",
       "      <td>1</td>\n",
       "      <td>2</td>\n",
       "    </tr>\n",
       "    <tr>\n",
       "      <th>4</th>\n",
       "      <td>1</td>\n",
       "      <td>24</td>\n",
       "      <td>4870</td>\n",
       "      <td>3</td>\n",
       "      <td>4</td>\n",
       "      <td>53</td>\n",
       "      <td>2</td>\n",
       "      <td>2</td>\n",
       "    </tr>\n",
       "  </tbody>\n",
       "</table>\n",
       "</div>"
      ],
      "text/plain": [
       "   default  duration_in_month  credit_amount  installment_as_income_perc  \\\n",
       "0  0        6                  1169           4                            \n",
       "1  1        48                 5951           2                            \n",
       "2  0        12                 2096           2                            \n",
       "3  0        42                 7882           2                            \n",
       "4  1        24                 4870           3                            \n",
       "\n",
       "   present_res_since  age  credits_this_bank  people_under_maintenance  \n",
       "0  4                  67   2                  1                         \n",
       "1  2                  22   1                  1                         \n",
       "2  3                  49   1                  2                         \n",
       "3  4                  45   1                  2                         \n",
       "4  4                  53   2                  2                         "
      ]
     },
     "execution_count": 311,
     "metadata": {},
     "output_type": "execute_result"
    }
   ],
   "source": [
    "num_cols = df_pre.select_dtypes(include = np.number).columns.tolist()\n",
    "num_data = df_pre[num_cols]\n",
    "num_data.head()"
   ]
  },
  {
   "cell_type": "code",
   "execution_count": 312,
   "metadata": {},
   "outputs": [
    {
     "data": {
      "image/png": "[encoded data removed]",
      "text/plain": [
       "<Figure size 1080x2160 with 16 Axes>"
      ]
     },
     "metadata": {
      "needs_background": "light"
     },
     "output_type": "display_data"
    }
   ],
   "source": [
    "a = 10  # number of rows\n",
    "b = 2  # number of columns\n",
    "c = 1  # initialize plot counter\n",
    "\n",
    "fig = plt.figure(figsize=(30,20))\n",
    "fig.set_size_inches(15, 30)\n",
    "\n",
    "for i in num_cols:\n",
    "    plt.subplot(a, b, c)\n",
    "    plt.title('{}, subplot: {}{}{}'.format(i, a, b, c))\n",
    "    plt.xlabel(i)\n",
    "    sns.boxplot(num_data[i])\n",
    "    c = c + 1\n",
    "    \n",
    "    plt.subplot(a, b, c)\n",
    "    plt.title('{} (dist), subplot: {}{}{}'.format(i, a, b, c))\n",
    "    plt.xlabel(i)\n",
    "    sns.distplot(num_data[i])\n",
    "    c = c + 1\n",
    "\n",
    "plt.tight_layout()\n",
    "plt.show();"
   ]
  },
  {
   "cell_type": "markdown",
   "metadata": {},
   "source": [
    "# Feature Engineering"
   ]
  },
  {
   "cell_type": "markdown",
   "metadata": {},
   "source": [
    "## duration_in_month"
   ]
  },
  {
   "cell_type": "code",
   "execution_count": 313,
   "metadata": {},
   "outputs": [
    {
     "data": {
      "image/png": "[encoded data removed]",
      "text/plain": [
       "<Figure size 2520x504 with 1 Axes>"
      ]
     },
     "metadata": {
      "needs_background": "light"
     },
     "output_type": "display_data"
    }
   ],
   "source": [
    "plt.figure(figsize=(35,7))\n",
    "((num_data['duration_in_month'].value_counts().sort_index()/len(num_data['duration_in_month']))*100).plot(kind='bar');"
   ]
  },
  {
   "cell_type": "code",
   "execution_count": 314,
   "metadata": {},
   "outputs": [
    {
     "data": {
      "text/plain": [
       "count    1000.000000\n",
       "mean     20.903000  \n",
       "std      12.058814  \n",
       "min      4.000000   \n",
       "25%      12.000000  \n",
       "50%      18.000000  \n",
       "75%      24.000000  \n",
       "max      72.000000  \n",
       "Name: duration_in_month, dtype: float64"
      ]
     },
     "execution_count": 314,
     "metadata": {},
     "output_type": "execute_result"
    }
   ],
   "source": [
    "num_data['duration_in_month'].describe()"
   ]
  },
  {
   "cell_type": "code",
   "execution_count": 315,
   "metadata": {},
   "outputs": [
    {
     "data": {
      "image/png": "[encoded data removed]",
      "text/plain": [
       "<Figure size 2520x720 with 1 Axes>"
      ]
     },
     "metadata": {
      "needs_background": "light"
     },
     "output_type": "display_data"
    }
   ],
   "source": [
    "num_data.duration_in_month = num_data.duration_in_month.astype('category')\n",
    "ax = pd.Series((num_data[num_data.default == 0].duration_in_month.value_counts()/len(num_data.default))*100).sort_index().plot(kind='bar',color='g',figsize=(35,10))\n",
    "pd.Series((num_data[num_data.default==1].duration_in_month.value_counts()/len(num_data.default))*100).sort_index().plot(kind='bar',color='r',alpha= 0.7,figsize=(35,10), ax=ax)\n",
    "ax.legend([\"No Default\", \"Default\"],fontsize=20);"
   ]
  },
  {
   "cell_type": "markdown",
   "metadata": {},
   "source": [
    "Since there is non linearity in the data - we will try to create a linearly replated variable with the Default"
   ]
  },
  {
   "cell_type": "code",
   "execution_count": 316,
   "metadata": {},
   "outputs": [
    {
     "data": {
      "text/plain": [
       "(10, 25]    599\n",
       "(1, 10]     171\n",
       "(25, 40]    149\n",
       "(40, 80]    81 \n",
       "Name: duration_in_month_bin, dtype: int64"
      ]
     },
     "execution_count": 316,
     "metadata": {},
     "output_type": "execute_result"
    }
   ],
   "source": [
    "bins = [1, 10, 25, 40, 80]\n",
    "num_data['duration_in_month_bin'] = pd.cut(num_data.duration_in_month,bins)\n",
    "num_data['duration_in_month_bin'].value_counts()"
   ]
  },
  {
   "cell_type": "code",
   "execution_count": 317,
   "metadata": {},
   "outputs": [
    {
     "data": {
      "image/png": "[encoded data removed]",
      "text/plain": [
       "<Figure size 576x360 with 1 Axes>"
      ]
     },
     "metadata": {
      "needs_background": "light"
     },
     "output_type": "display_data"
    }
   ],
   "source": [
    "data = pd.crosstab(num_data['duration_in_month_bin'],num_data['default'])\n",
    "data.div(data.sum(1).astype('float'),axis = 0).plot(kind = 'bar', stacked = True, figsize = (8, 5), color = ['skyblue', 'darkblue'])\n",
    "plt.title('Loan Duration v/s Default', fontsize = 20)\n",
    "plt.xlabel('Load Duration', fontsize = 20)\n",
    "plt.legend(loc=1)\n",
    "plt.show();"
   ]
  },
  {
   "cell_type": "markdown",
   "metadata": {},
   "source": [
    "## credit_amount"
   ]
  },
  {
   "cell_type": "code",
   "execution_count": 318,
   "metadata": {},
   "outputs": [
    {
     "data": {
      "text/plain": [
       "1258    0.003\n",
       "1478    0.003\n",
       "1275    0.003\n",
       "1393    0.003\n",
       "1262    0.003\n",
       "1503    0.002\n",
       "2631    0.002\n",
       "6468    0.002\n",
       "1295    0.002\n",
       "1743    0.002\n",
       "Name: credit_amount, dtype: float64"
      ]
     },
     "execution_count": 318,
     "metadata": {},
     "output_type": "execute_result"
    }
   ],
   "source": [
    "num_data.credit_amount.value_counts(normalize=True).nlargest(10)"
   ]
  },
  {
   "cell_type": "code",
   "execution_count": 319,
   "metadata": {},
   "outputs": [
    {
     "data": {
      "text/plain": [
       "7127     0.001\n",
       "3029     0.001\n",
       "2743     0.001\n",
       "2745     0.001\n",
       "12976    0.001\n",
       "4788     0.001\n",
       "691      0.001\n",
       "975      0.001\n",
       "685      0.001\n",
       "684      0.001\n",
       "Name: credit_amount, dtype: float64"
      ]
     },
     "execution_count": 319,
     "metadata": {},
     "output_type": "execute_result"
    }
   ],
   "source": [
    "num_data.credit_amount.value_counts(normalize=True).nsmallest(10)"
   ]
  },
  {
   "cell_type": "code",
   "execution_count": 320,
   "metadata": {},
   "outputs": [
    {
     "data": {
      "text/plain": [
       "count    1000.000000 \n",
       "mean     3271.258000 \n",
       "std      2822.736876 \n",
       "min      250.000000  \n",
       "1%       425.830000  \n",
       "5%       708.950000  \n",
       "50%      2319.500000 \n",
       "95%      9162.700000 \n",
       "96%      9966.680000 \n",
       "97%      10961.390000\n",
       "98%      12169.700000\n",
       "99%      14180.390000\n",
       "max      18424.000000\n",
       "Name: credit_amount, dtype: float64"
      ]
     },
     "execution_count": 320,
     "metadata": {},
     "output_type": "execute_result"
    }
   ],
   "source": [
    "num_data.credit_amount.describe(percentiles = [0.01,0.05, 0.95,0.96,0.97,0.98,0.99])"
   ]
  },
  {
   "cell_type": "code",
   "execution_count": 321,
   "metadata": {},
   "outputs": [
    {
     "data": {
      "text/plain": [
       "(0, 5000]         812\n",
       "(5000, 8000]      118\n",
       "(8000, 12000]     49 \n",
       "(12000, 20000]    21 \n",
       "Name: credit_amount_bin, dtype: int64"
      ]
     },
     "execution_count": 321,
     "metadata": {},
     "output_type": "execute_result"
    }
   ],
   "source": [
    "bins = [0, 5000, 8000, 12000,20000]\n",
    "num_data['credit_amount_bin'] = pd.cut(num_data.credit_amount,bins)\n",
    "num_data['credit_amount_bin'].value_counts()"
   ]
  },
  {
   "cell_type": "code",
   "execution_count": 322,
   "metadata": {},
   "outputs": [
    {
     "data": {
      "image/png": "[encoded data removed]",
      "text/plain": [
       "<Figure size 576x360 with 1 Axes>"
      ]
     },
     "metadata": {
      "needs_background": "light"
     },
     "output_type": "display_data"
    }
   ],
   "source": [
    "data = pd.crosstab(num_data['credit_amount_bin'],num_data['default'])\n",
    "data.div(data.sum(1).astype('float'),axis = 0).plot(kind = 'bar', stacked = True, figsize = (8, 5), color = ['skyblue', 'darkblue'])\n",
    "plt.title('Credit Amount v/s Default', fontsize = 20)\n",
    "plt.xlabel('Credit Amount', fontsize = 20)\n",
    "plt.legend(loc=1)\n",
    "plt.show();"
   ]
  },
  {
   "cell_type": "markdown",
   "metadata": {},
   "source": [
    "## installment_as_income_perc"
   ]
  },
  {
   "cell_type": "code",
   "execution_count": 323,
   "metadata": {},
   "outputs": [
    {
     "data": {
      "image/png": "[encoded data removed]",
      "text/plain": [
       "<Figure size 2520x504 with 1 Axes>"
      ]
     },
     "metadata": {
      "needs_background": "light"
     },
     "output_type": "display_data"
    }
   ],
   "source": [
    "plt.figure(figsize=(35,7))\n",
    "((num_data['installment_as_income_perc'].value_counts().sort_index()/len(num_data['installment_as_income_perc']))*100).plot(kind='bar');"
   ]
  },
  {
   "cell_type": "code",
   "execution_count": 324,
   "metadata": {},
   "outputs": [
    {
     "data": {
      "image/png": "[encoded data removed]",
      "text/plain": [
       "<Figure size 2520x720 with 1 Axes>"
      ]
     },
     "metadata": {
      "needs_background": "light"
     },
     "output_type": "display_data"
    }
   ],
   "source": [
    "num_data.installment_as_income_perc = num_data.installment_as_income_perc.astype('category')\n",
    "ax = pd.Series((num_data[num_data.default == 0].installment_as_income_perc.value_counts()/len(num_data.default))*100).sort_index().plot(kind='bar',color='g',figsize=(35,10))\n",
    "pd.Series((num_data[num_data.default==1].installment_as_income_perc.value_counts()/len(num_data.default))*100).sort_index().plot(kind='bar',color='r',alpha= 0.7,figsize=(35,10), ax=ax)\n",
    "ax.legend([\"No Default\", \"Default\"],fontsize=20);"
   ]
  },
  {
   "cell_type": "markdown",
   "metadata": {},
   "source": [
    "Since there is non linearity in the data - we will try to create a linearly replated variable with the Default"
   ]
  },
  {
   "cell_type": "code",
   "execution_count": 266,
   "metadata": {},
   "outputs": [],
   "source": [
    "# bins = [1, 3, 4]\n",
    "# num_data['installment_as_income_perc_bin'] = pd.cut(num_data.installment_as_income_perc,bins)\n",
    "# num_data['installment_as_income_perc_bin'].value_counts()"
   ]
  },
  {
   "cell_type": "code",
   "execution_count": 325,
   "metadata": {},
   "outputs": [
    {
     "data": {
      "image/png": "[encoded data removed]",
      "text/plain": [
       "<Figure size 576x360 with 1 Axes>"
      ]
     },
     "metadata": {
      "needs_background": "light"
     },
     "output_type": "display_data"
    }
   ],
   "source": [
    "data = pd.crosstab(num_data['installment_as_income_perc'],num_data['default'])\n",
    "data.div(data.sum(1).astype('float'),axis = 0).plot(kind = 'bar', stacked = True, figsize = (8, 5), color = ['skyblue', 'darkblue'])\n",
    "plt.title('installment_as_income_perc v/s Default', fontsize = 20)\n",
    "plt.xlabel('installment_as_income_perc', fontsize = 20)\n",
    "plt.legend(loc=1)\n",
    "plt.show();"
   ]
  },
  {
   "cell_type": "markdown",
   "metadata": {},
   "source": [
    "## present_res_since"
   ]
  },
  {
   "cell_type": "code",
   "execution_count": 326,
   "metadata": {},
   "outputs": [
    {
     "data": {
      "text/plain": [
       "<Figure size 2520x504 with 0 Axes>"
      ]
     },
     "execution_count": 326,
     "metadata": {},
     "output_type": "execute_result"
    },
    {
     "data": {
      "text/plain": [
       "<matplotlib.axes._subplots.AxesSubplot at 0x16255317700>"
      ]
     },
     "execution_count": 326,
     "metadata": {},
     "output_type": "execute_result"
    },
    {
     "data": {
      "image/png": "[encoded data removed]",
      "text/plain": [
       "<Figure size 2520x504 with 1 Axes>"
      ]
     },
     "metadata": {
      "needs_background": "light"
     },
     "output_type": "display_data"
    }
   ],
   "source": [
    "plt.figure(figsize=(35,7))\n",
    "((num_data['present_res_since'].value_counts().sort_index()/len(num_data['present_res_since']))*100).plot(kind='bar')"
   ]
  },
  {
   "cell_type": "code",
   "execution_count": 327,
   "metadata": {},
   "outputs": [
    {
     "data": {
      "image/png": "[encoded data removed]",
      "text/plain": [
       "<Figure size 2520x720 with 1 Axes>"
      ]
     },
     "metadata": {
      "needs_background": "light"
     },
     "output_type": "display_data"
    }
   ],
   "source": [
    "num_data.present_res_since = num_data.present_res_since.astype('category')\n",
    "ax = pd.Series((num_data[num_data.default == 0].present_res_since.value_counts()/len(num_data.default))*100).sort_index().plot(kind='bar',color='g',figsize=(35,10))\n",
    "pd.Series((num_data[num_data.default==1].present_res_since.value_counts()/len(num_data.default))*100).sort_index().plot(kind='bar',color='r',alpha= 0.7,figsize=(35,10), ax=ax)\n",
    "ax.legend([\"No Default\", \"Default\"],fontsize=20);"
   ]
  },
  {
   "cell_type": "markdown",
   "metadata": {},
   "source": [
    "Since there is non linearity in the data - we will try to create a linearly replated variable with the Default"
   ]
  },
  {
   "cell_type": "code",
   "execution_count": 328,
   "metadata": {},
   "outputs": [],
   "source": [
    "# bins = [1, 10, 25, 40, 50]\n",
    "# num_data['duration_in_month_bin'] = pd.cut(num_data.duration_in_month,bins)\n",
    "# num_data['duration_in_month_bin'].value_counts()"
   ]
  },
  {
   "cell_type": "code",
   "execution_count": 329,
   "metadata": {},
   "outputs": [
    {
     "data": {
      "image/png": "[encoded data removed]",
      "text/plain": [
       "<Figure size 576x360 with 1 Axes>"
      ]
     },
     "metadata": {
      "needs_background": "light"
     },
     "output_type": "display_data"
    }
   ],
   "source": [
    "data = pd.crosstab(num_data['present_res_since'],num_data['default'])\n",
    "data.div(data.sum(1).astype('float'),axis = 0).plot(kind = 'bar', stacked = True, figsize = (8, 5), color = ['skyblue', 'darkblue'])\n",
    "plt.title('present_res_since v/s Default', fontsize = 20)\n",
    "plt.xlabel('present_res_since', fontsize = 20)\n",
    "plt.legend(loc=1)\n",
    "plt.show();"
   ]
  },
  {
   "cell_type": "markdown",
   "metadata": {},
   "source": [
    "## age"
   ]
  },
  {
   "cell_type": "code",
   "execution_count": 330,
   "metadata": {},
   "outputs": [
    {
     "data": {
      "image/png": "[encoded data removed]",
      "text/plain": [
       "<Figure size 2520x504 with 1 Axes>"
      ]
     },
     "metadata": {
      "needs_background": "light"
     },
     "output_type": "display_data"
    }
   ],
   "source": [
    "plt.figure(figsize=(35,7))\n",
    "((num_data['age'].value_counts().sort_index()/len(num_data['age']))*100).plot(kind='bar');"
   ]
  },
  {
   "cell_type": "code",
   "execution_count": 331,
   "metadata": {},
   "outputs": [
    {
     "data": {
      "image/png": "[encoded data removed]",
      "text/plain": [
       "<Figure size 2520x720 with 1 Axes>"
      ]
     },
     "metadata": {
      "needs_background": "light"
     },
     "output_type": "display_data"
    }
   ],
   "source": [
    "num_data.present_res_since = num_data.age.astype('category')\n",
    "ax = pd.Series((num_data[num_data.default == 0].age.value_counts()/len(num_data.default))*100).sort_index().plot(kind='bar',color='g',figsize=(35,10))\n",
    "pd.Series((num_data[num_data.default==1].age.value_counts()/len(num_data.default))*100).sort_index().plot(kind='bar',color='r',alpha= 0.7,figsize=(35,10), ax=ax)\n",
    "ax.legend([\"No Default\", \"Default\"],fontsize=20);"
   ]
  },
  {
   "cell_type": "markdown",
   "metadata": {},
   "source": [
    "Since there is non linearity in the data - we will try to create a linearly replated variable with the Default"
   ]
  },
  {
   "cell_type": "code",
   "execution_count": 332,
   "metadata": {},
   "outputs": [
    {
     "data": {
      "text/plain": [
       "count    1000.000000\n",
       "mean     35.546000  \n",
       "std      11.375469  \n",
       "min      19.000000  \n",
       "25%      27.000000  \n",
       "50%      33.000000  \n",
       "75%      42.000000  \n",
       "max      75.000000  \n",
       "Name: age, dtype: float64"
      ]
     },
     "execution_count": 332,
     "metadata": {},
     "output_type": "execute_result"
    }
   ],
   "source": [
    "num_data.age.describe()"
   ]
  },
  {
   "cell_type": "code",
   "execution_count": 333,
   "metadata": {},
   "outputs": [
    {
     "data": {
      "text/plain": [
       "(25, 35]    398\n",
       "(35, 50]    299\n",
       "(0, 25]     190\n",
       "(50, 80]    113\n",
       "Name: age_bin, dtype: int64"
      ]
     },
     "execution_count": 333,
     "metadata": {},
     "output_type": "execute_result"
    }
   ],
   "source": [
    "bins = [0, 25,35,50,80]\n",
    "num_data['age_bin'] = pd.cut(num_data.age,bins)\n",
    "num_data['age_bin'].value_counts()"
   ]
  },
  {
   "cell_type": "code",
   "execution_count": 334,
   "metadata": {},
   "outputs": [
    {
     "data": {
      "image/png": "[encoded data removed]",
      "text/plain": [
       "<Figure size 576x360 with 1 Axes>"
      ]
     },
     "metadata": {
      "needs_background": "light"
     },
     "output_type": "display_data"
    }
   ],
   "source": [
    "data = pd.crosstab(num_data['age_bin'],num_data['default'])\n",
    "data.div(data.sum(1).astype('float'),axis = 0).plot(kind = 'bar', stacked = True, figsize = (8, 5), color = ['skyblue', 'darkblue'])\n",
    "plt.title('Age v/s Default', fontsize = 20)\n",
    "plt.xlabel('Age', fontsize = 20)\n",
    "plt.legend(loc=1)\n",
    "plt.show();"
   ]
  },
  {
   "cell_type": "markdown",
   "metadata": {},
   "source": [
    "## Credit_this_bank"
   ]
  },
  {
   "cell_type": "code",
   "execution_count": 335,
   "metadata": {},
   "outputs": [
    {
     "data": {
      "image/png": "[encoded data removed]",
      "text/plain": [
       "<Figure size 2520x504 with 1 Axes>"
      ]
     },
     "metadata": {
      "needs_background": "light"
     },
     "output_type": "display_data"
    }
   ],
   "source": [
    "plt.figure(figsize=(35,7))\n",
    "((num_data['credits_this_bank'].value_counts().sort_index()/len(num_data['credits_this_bank']))*100).plot(kind='bar');"
   ]
  },
  {
   "cell_type": "code",
   "execution_count": 336,
   "metadata": {},
   "outputs": [
    {
     "data": {
      "image/png": "[encoded data removed]",
      "text/plain": [
       "<Figure size 2520x720 with 1 Axes>"
      ]
     },
     "metadata": {
      "needs_background": "light"
     },
     "output_type": "display_data"
    }
   ],
   "source": [
    "num_data.credits_this_bank = num_data.credits_this_bank.astype('category')\n",
    "ax = pd.Series((num_data[num_data.default == 0].credits_this_bank.value_counts()/len(num_data.default))*100).sort_index().plot(kind='bar',color='g',figsize=(35,10))\n",
    "pd.Series((num_data[num_data.default==1].credits_this_bank.value_counts()/len(num_data.default))*100).sort_index().plot(kind='bar',color='r',alpha= 0.7,figsize=(35,10), ax=ax)\n",
    "ax.legend([\"No Default\", \"Default\"],fontsize=20);"
   ]
  },
  {
   "cell_type": "markdown",
   "metadata": {},
   "source": [
    "Since there is non linearity in the data - we will try to create a linearly replated variable with the Default"
   ]
  },
  {
   "cell_type": "code",
   "execution_count": 337,
   "metadata": {},
   "outputs": [
    {
     "data": {
      "text/plain": [
       "1    633\n",
       "2    333\n",
       "3    28 \n",
       "4    6  \n",
       "Name: credits_this_bank, dtype: int64"
      ]
     },
     "execution_count": 337,
     "metadata": {},
     "output_type": "execute_result"
    }
   ],
   "source": [
    "num_data['credits_this_bank'].value_counts()"
   ]
  },
  {
   "cell_type": "code",
   "execution_count": 338,
   "metadata": {},
   "outputs": [],
   "source": [
    "def credit_bank_bin(col):\n",
    "    if col == 1:\n",
    "        return 1\n",
    "    elif col == 2:\n",
    "        return 2\n",
    "    else:\n",
    "        return 3"
   ]
  },
  {
   "cell_type": "code",
   "execution_count": 339,
   "metadata": {},
   "outputs": [
    {
     "data": {
      "text/plain": [
       "1    633\n",
       "2    333\n",
       "3    34 \n",
       "Name: credits_this_bank_bin, dtype: int64"
      ]
     },
     "execution_count": 339,
     "metadata": {},
     "output_type": "execute_result"
    }
   ],
   "source": [
    "num_data['credits_this_bank_bin'] = num_data[['credits_this_bank']].apply(lambda x: credit_bank_bin(x['credits_this_bank']),axis=1)\n",
    "num_data['credits_this_bank_bin'].value_counts()"
   ]
  },
  {
   "cell_type": "code",
   "execution_count": 340,
   "metadata": {},
   "outputs": [],
   "source": [
    "# bins = [1,2,3,4]\n",
    "# num_data['credits_this_bank_bin'] = pd.cut(num_data.credits_this_bank,bins)\n",
    "# num_data['credits_this_bank_bin'].value_counts()"
   ]
  },
  {
   "cell_type": "code",
   "execution_count": 341,
   "metadata": {},
   "outputs": [
    {
     "data": {
      "image/png": "[encoded data removed]",
      "text/plain": [
       "<Figure size 576x360 with 1 Axes>"
      ]
     },
     "metadata": {
      "needs_background": "light"
     },
     "output_type": "display_data"
    }
   ],
   "source": [
    "data = pd.crosstab(num_data['credits_this_bank_bin'],num_data['default'])\n",
    "data.div(data.sum(1).astype('float'),axis = 0).plot(kind = 'bar', stacked = True, figsize = (8, 5), color = ['skyblue', 'darkblue'])\n",
    "plt.title('credits_this_bank v/s Default', fontsize = 20)\n",
    "plt.xlabel('credits_this_bank', fontsize = 20)\n",
    "plt.legend(loc=1)\n",
    "plt.show();"
   ]
  },
  {
   "cell_type": "markdown",
   "metadata": {},
   "source": [
    "## people_under_maintenance"
   ]
  },
  {
   "cell_type": "code",
   "execution_count": 342,
   "metadata": {},
   "outputs": [
    {
     "data": {
      "image/png": "[encoded data removed]",
      "text/plain": [
       "<Figure size 2520x504 with 1 Axes>"
      ]
     },
     "metadata": {
      "needs_background": "light"
     },
     "output_type": "display_data"
    }
   ],
   "source": [
    "plt.figure(figsize=(35,7))\n",
    "((num_data['people_under_maintenance'].value_counts().sort_index()/len(num_data['people_under_maintenance']))*100).plot(kind='bar');"
   ]
  },
  {
   "cell_type": "code",
   "execution_count": 343,
   "metadata": {},
   "outputs": [
    {
     "data": {
      "image/png": "[encoded data removed]",
      "text/plain": [
       "<Figure size 576x360 with 1 Axes>"
      ]
     },
     "metadata": {
      "needs_background": "light"
     },
     "output_type": "display_data"
    }
   ],
   "source": [
    "data = pd.crosstab(num_data['people_under_maintenance'],num_data['default'])\n",
    "data.div(data.sum(1).astype('float'),axis = 0).plot(kind = 'bar', stacked = True, figsize = (8, 5), color = ['skyblue', 'darkblue'])\n",
    "plt.title('people_under_maintenance v/s Default', fontsize = 20)\n",
    "plt.xlabel('people_under_maintenance', fontsize = 20)\n",
    "plt.legend(loc=1)\n",
    "plt.show();"
   ]
  },
  {
   "cell_type": "code",
   "execution_count": 344,
   "metadata": {},
   "outputs": [
    {
     "data": {
      "text/plain": [
       "['default',\n",
       " 'installment_as_income_perc',\n",
       " 'present_res_since',\n",
       " 'people_under_maintenance',\n",
       " 'duration_in_month_bin',\n",
       " 'credit_amount_bin',\n",
       " 'age_bin',\n",
       " 'credits_this_bank_bin']"
      ]
     },
     "execution_count": 344,
     "metadata": {},
     "output_type": "execute_result"
    }
   ],
   "source": [
    "num_data_final_cols = ['default','installment_as_income_perc','present_res_since',\n",
    "                       'people_under_maintenance','duration_in_month_bin','credit_amount_bin',\n",
    "                      'age_bin','credits_this_bank_bin']\n",
    "num_data_final_cols"
   ]
  },
  {
   "cell_type": "code",
   "execution_count": 345,
   "metadata": {},
   "outputs": [
    {
     "data": {
      "text/html": [
       "<div>\n",
       "<style scoped>\n",
       "    .dataframe tbody tr th:only-of-type {\n",
       "        vertical-align: middle;\n",
       "    }\n",
       "\n",
       "    .dataframe tbody tr th {\n",
       "        vertical-align: top;\n",
       "    }\n",
       "\n",
       "    .dataframe thead th {\n",
       "        text-align: right;\n",
       "    }\n",
       "</style>\n",
       "<table border=\"1\" class=\"dataframe\">\n",
       "  <thead>\n",
       "    <tr style=\"text-align: right;\">\n",
       "      <th></th>\n",
       "      <th>default</th>\n",
       "      <th>installment_as_income_perc</th>\n",
       "      <th>present_res_since</th>\n",
       "      <th>people_under_maintenance</th>\n",
       "      <th>duration_in_month_bin</th>\n",
       "      <th>credit_amount_bin</th>\n",
       "      <th>age_bin</th>\n",
       "      <th>credits_this_bank_bin</th>\n",
       "    </tr>\n",
       "  </thead>\n",
       "  <tbody>\n",
       "    <tr>\n",
       "      <th>0</th>\n",
       "      <td>0</td>\n",
       "      <td>4</td>\n",
       "      <td>67</td>\n",
       "      <td>1</td>\n",
       "      <td>(1, 10]</td>\n",
       "      <td>(0, 5000]</td>\n",
       "      <td>(50, 80]</td>\n",
       "      <td>2</td>\n",
       "    </tr>\n",
       "    <tr>\n",
       "      <th>1</th>\n",
       "      <td>1</td>\n",
       "      <td>2</td>\n",
       "      <td>22</td>\n",
       "      <td>1</td>\n",
       "      <td>(40, 80]</td>\n",
       "      <td>(5000, 8000]</td>\n",
       "      <td>(0, 25]</td>\n",
       "      <td>1</td>\n",
       "    </tr>\n",
       "    <tr>\n",
       "      <th>2</th>\n",
       "      <td>0</td>\n",
       "      <td>2</td>\n",
       "      <td>49</td>\n",
       "      <td>2</td>\n",
       "      <td>(10, 25]</td>\n",
       "      <td>(0, 5000]</td>\n",
       "      <td>(35, 50]</td>\n",
       "      <td>1</td>\n",
       "    </tr>\n",
       "    <tr>\n",
       "      <th>3</th>\n",
       "      <td>0</td>\n",
       "      <td>2</td>\n",
       "      <td>45</td>\n",
       "      <td>2</td>\n",
       "      <td>(40, 80]</td>\n",
       "      <td>(5000, 8000]</td>\n",
       "      <td>(35, 50]</td>\n",
       "      <td>1</td>\n",
       "    </tr>\n",
       "    <tr>\n",
       "      <th>4</th>\n",
       "      <td>1</td>\n",
       "      <td>3</td>\n",
       "      <td>53</td>\n",
       "      <td>2</td>\n",
       "      <td>(10, 25]</td>\n",
       "      <td>(0, 5000]</td>\n",
       "      <td>(50, 80]</td>\n",
       "      <td>2</td>\n",
       "    </tr>\n",
       "  </tbody>\n",
       "</table>\n",
       "</div>"
      ],
      "text/plain": [
       "   default installment_as_income_perc present_res_since  \\\n",
       "0  0        4                          67                 \n",
       "1  1        2                          22                 \n",
       "2  0        2                          49                 \n",
       "3  0        2                          45                 \n",
       "4  1        3                          53                 \n",
       "\n",
       "   people_under_maintenance duration_in_month_bin credit_amount_bin   age_bin  \\\n",
       "0  1                         (1, 10]               (0, 5000]         (50, 80]   \n",
       "1  1                         (40, 80]              (5000, 8000]      (0, 25]    \n",
       "2  2                         (10, 25]              (0, 5000]         (35, 50]   \n",
       "3  2                         (40, 80]              (5000, 8000]      (35, 50]   \n",
       "4  2                         (10, 25]              (0, 5000]         (50, 80]   \n",
       "\n",
       "   credits_this_bank_bin  \n",
       "0  2                      \n",
       "1  1                      \n",
       "2  1                      \n",
       "3  1                      \n",
       "4  2                      "
      ]
     },
     "execution_count": 345,
     "metadata": {},
     "output_type": "execute_result"
    }
   ],
   "source": [
    "num_data_final = num_data[num_data_final_cols]\n",
    "num_data_final.head()"
   ]
  },
  {
   "cell_type": "code",
   "execution_count": 348,
   "metadata": {},
   "outputs": [
    {
     "data": {
      "text/plain": [
       "['duration_in_month_bin', 'credit_amount_bin', 'age_bin']"
      ]
     },
     "execution_count": 348,
     "metadata": {},
     "output_type": "execute_result"
    }
   ],
   "source": [
    "num_data_final_cols = ['duration_in_month_bin','credit_amount_bin','age_bin']\n",
    "num_data_final_cols"
   ]
  },
  {
   "cell_type": "code",
   "execution_count": 349,
   "metadata": {},
   "outputs": [
    {
     "data": {
      "text/html": [
       "<div>\n",
       "<style scoped>\n",
       "    .dataframe tbody tr th:only-of-type {\n",
       "        vertical-align: middle;\n",
       "    }\n",
       "\n",
       "    .dataframe tbody tr th {\n",
       "        vertical-align: top;\n",
       "    }\n",
       "\n",
       "    .dataframe thead th {\n",
       "        text-align: right;\n",
       "    }\n",
       "</style>\n",
       "<table border=\"1\" class=\"dataframe\">\n",
       "  <thead>\n",
       "    <tr style=\"text-align: right;\">\n",
       "      <th></th>\n",
       "      <th>duration_in_month_bin_(10, 25]</th>\n",
       "      <th>duration_in_month_bin_(25, 40]</th>\n",
       "      <th>duration_in_month_bin_(40, 80]</th>\n",
       "      <th>credit_amount_bin_(5000, 8000]</th>\n",
       "      <th>credit_amount_bin_(8000, 12000]</th>\n",
       "      <th>credit_amount_bin_(12000, 20000]</th>\n",
       "      <th>age_bin_(25, 35]</th>\n",
       "      <th>age_bin_(35, 50]</th>\n",
       "      <th>age_bin_(50, 80]</th>\n",
       "    </tr>\n",
       "  </thead>\n",
       "  <tbody>\n",
       "    <tr>\n",
       "      <th>0</th>\n",
       "      <td>0</td>\n",
       "      <td>0</td>\n",
       "      <td>0</td>\n",
       "      <td>0</td>\n",
       "      <td>0</td>\n",
       "      <td>0</td>\n",
       "      <td>0</td>\n",
       "      <td>0</td>\n",
       "      <td>1</td>\n",
       "    </tr>\n",
       "    <tr>\n",
       "      <th>1</th>\n",
       "      <td>0</td>\n",
       "      <td>0</td>\n",
       "      <td>1</td>\n",
       "      <td>1</td>\n",
       "      <td>0</td>\n",
       "      <td>0</td>\n",
       "      <td>0</td>\n",
       "      <td>0</td>\n",
       "      <td>0</td>\n",
       "    </tr>\n",
       "    <tr>\n",
       "      <th>2</th>\n",
       "      <td>1</td>\n",
       "      <td>0</td>\n",
       "      <td>0</td>\n",
       "      <td>0</td>\n",
       "      <td>0</td>\n",
       "      <td>0</td>\n",
       "      <td>0</td>\n",
       "      <td>1</td>\n",
       "      <td>0</td>\n",
       "    </tr>\n",
       "    <tr>\n",
       "      <th>3</th>\n",
       "      <td>0</td>\n",
       "      <td>0</td>\n",
       "      <td>1</td>\n",
       "      <td>1</td>\n",
       "      <td>0</td>\n",
       "      <td>0</td>\n",
       "      <td>0</td>\n",
       "      <td>1</td>\n",
       "      <td>0</td>\n",
       "    </tr>\n",
       "    <tr>\n",
       "      <th>4</th>\n",
       "      <td>1</td>\n",
       "      <td>0</td>\n",
       "      <td>0</td>\n",
       "      <td>0</td>\n",
       "      <td>0</td>\n",
       "      <td>0</td>\n",
       "      <td>0</td>\n",
       "      <td>0</td>\n",
       "      <td>1</td>\n",
       "    </tr>\n",
       "  </tbody>\n",
       "</table>\n",
       "</div>"
      ],
      "text/plain": [
       "   duration_in_month_bin_(10, 25]  duration_in_month_bin_(25, 40]  \\\n",
       "0  0                               0                                \n",
       "1  0                               0                                \n",
       "2  1                               0                                \n",
       "3  0                               0                                \n",
       "4  1                               0                                \n",
       "\n",
       "   duration_in_month_bin_(40, 80]  credit_amount_bin_(5000, 8000]  \\\n",
       "0  0                               0                                \n",
       "1  1                               1                                \n",
       "2  0                               0                                \n",
       "3  1                               1                                \n",
       "4  0                               0                                \n",
       "\n",
       "   credit_amount_bin_(8000, 12000]  credit_amount_bin_(12000, 20000]  \\\n",
       "0  0                                0                                  \n",
       "1  0                                0                                  \n",
       "2  0                                0                                  \n",
       "3  0                                0                                  \n",
       "4  0                                0                                  \n",
       "\n",
       "   age_bin_(25, 35]  age_bin_(35, 50]  age_bin_(50, 80]  \n",
       "0  0                 0                 1                 \n",
       "1  0                 0                 0                 \n",
       "2  0                 1                 0                 \n",
       "3  0                 1                 0                 \n",
       "4  0                 0                 1                 "
      ]
     },
     "execution_count": 349,
     "metadata": {},
     "output_type": "execute_result"
    }
   ],
   "source": [
    "num_data_final_dumm = pd.get_dummies(num_data_final[num_data_final_cols],drop_first=True)\n",
    "num_data_final_dumm.head()"
   ]
  },
  {
   "cell_type": "code",
   "execution_count": 352,
   "metadata": {},
   "outputs": [
    {
     "data": {
      "text/html": [
       "<div>\n",
       "<style scoped>\n",
       "    .dataframe tbody tr th:only-of-type {\n",
       "        vertical-align: middle;\n",
       "    }\n",
       "\n",
       "    .dataframe tbody tr th {\n",
       "        vertical-align: top;\n",
       "    }\n",
       "\n",
       "    .dataframe thead th {\n",
       "        text-align: right;\n",
       "    }\n",
       "</style>\n",
       "<table border=\"1\" class=\"dataframe\">\n",
       "  <thead>\n",
       "    <tr style=\"text-align: right;\">\n",
       "      <th></th>\n",
       "      <th>default</th>\n",
       "      <th>installment_as_income_perc</th>\n",
       "      <th>present_res_since</th>\n",
       "      <th>people_under_maintenance</th>\n",
       "      <th>credits_this_bank_bin</th>\n",
       "      <th>duration_in_month_bin_(10, 25]</th>\n",
       "      <th>duration_in_month_bin_(25, 40]</th>\n",
       "      <th>duration_in_month_bin_(40, 80]</th>\n",
       "      <th>credit_amount_bin_(5000, 8000]</th>\n",
       "      <th>credit_amount_bin_(8000, 12000]</th>\n",
       "      <th>credit_amount_bin_(12000, 20000]</th>\n",
       "      <th>age_bin_(25, 35]</th>\n",
       "      <th>age_bin_(35, 50]</th>\n",
       "      <th>age_bin_(50, 80]</th>\n",
       "    </tr>\n",
       "  </thead>\n",
       "  <tbody>\n",
       "    <tr>\n",
       "      <th>0</th>\n",
       "      <td>0</td>\n",
       "      <td>4</td>\n",
       "      <td>67</td>\n",
       "      <td>1</td>\n",
       "      <td>2</td>\n",
       "      <td>0</td>\n",
       "      <td>0</td>\n",
       "      <td>0</td>\n",
       "      <td>0</td>\n",
       "      <td>0</td>\n",
       "      <td>0</td>\n",
       "      <td>0</td>\n",
       "      <td>0</td>\n",
       "      <td>1</td>\n",
       "    </tr>\n",
       "    <tr>\n",
       "      <th>1</th>\n",
       "      <td>1</td>\n",
       "      <td>2</td>\n",
       "      <td>22</td>\n",
       "      <td>1</td>\n",
       "      <td>1</td>\n",
       "      <td>0</td>\n",
       "      <td>0</td>\n",
       "      <td>1</td>\n",
       "      <td>1</td>\n",
       "      <td>0</td>\n",
       "      <td>0</td>\n",
       "      <td>0</td>\n",
       "      <td>0</td>\n",
       "      <td>0</td>\n",
       "    </tr>\n",
       "    <tr>\n",
       "      <th>2</th>\n",
       "      <td>0</td>\n",
       "      <td>2</td>\n",
       "      <td>49</td>\n",
       "      <td>2</td>\n",
       "      <td>1</td>\n",
       "      <td>1</td>\n",
       "      <td>0</td>\n",
       "      <td>0</td>\n",
       "      <td>0</td>\n",
       "      <td>0</td>\n",
       "      <td>0</td>\n",
       "      <td>0</td>\n",
       "      <td>1</td>\n",
       "      <td>0</td>\n",
       "    </tr>\n",
       "    <tr>\n",
       "      <th>3</th>\n",
       "      <td>0</td>\n",
       "      <td>2</td>\n",
       "      <td>45</td>\n",
       "      <td>2</td>\n",
       "      <td>1</td>\n",
       "      <td>0</td>\n",
       "      <td>0</td>\n",
       "      <td>1</td>\n",
       "      <td>1</td>\n",
       "      <td>0</td>\n",
       "      <td>0</td>\n",
       "      <td>0</td>\n",
       "      <td>1</td>\n",
       "      <td>0</td>\n",
       "    </tr>\n",
       "    <tr>\n",
       "      <th>4</th>\n",
       "      <td>1</td>\n",
       "      <td>3</td>\n",
       "      <td>53</td>\n",
       "      <td>2</td>\n",
       "      <td>2</td>\n",
       "      <td>1</td>\n",
       "      <td>0</td>\n",
       "      <td>0</td>\n",
       "      <td>0</td>\n",
       "      <td>0</td>\n",
       "      <td>0</td>\n",
       "      <td>0</td>\n",
       "      <td>0</td>\n",
       "      <td>1</td>\n",
       "    </tr>\n",
       "  </tbody>\n",
       "</table>\n",
       "</div>"
      ],
      "text/plain": [
       "   default installment_as_income_perc present_res_since  \\\n",
       "0  0        4                          67                 \n",
       "1  1        2                          22                 \n",
       "2  0        2                          49                 \n",
       "3  0        2                          45                 \n",
       "4  1        3                          53                 \n",
       "\n",
       "   people_under_maintenance  credits_this_bank_bin  \\\n",
       "0  1                         2                       \n",
       "1  1                         1                       \n",
       "2  2                         1                       \n",
       "3  2                         1                       \n",
       "4  2                         2                       \n",
       "\n",
       "   duration_in_month_bin_(10, 25]  duration_in_month_bin_(25, 40]  \\\n",
       "0  0                               0                                \n",
       "1  0                               0                                \n",
       "2  1                               0                                \n",
       "3  0                               0                                \n",
       "4  1                               0                                \n",
       "\n",
       "   duration_in_month_bin_(40, 80]  credit_amount_bin_(5000, 8000]  \\\n",
       "0  0                               0                                \n",
       "1  1                               1                                \n",
       "2  0                               0                                \n",
       "3  1                               1                                \n",
       "4  0                               0                                \n",
       "\n",
       "   credit_amount_bin_(8000, 12000]  credit_amount_bin_(12000, 20000]  \\\n",
       "0  0                                0                                  \n",
       "1  0                                0                                  \n",
       "2  0                                0                                  \n",
       "3  0                                0                                  \n",
       "4  0                                0                                  \n",
       "\n",
       "   age_bin_(25, 35]  age_bin_(35, 50]  age_bin_(50, 80]  \n",
       "0  0                 0                 1                 \n",
       "1  0                 0                 0                 \n",
       "2  0                 1                 0                 \n",
       "3  0                 1                 0                 \n",
       "4  0                 0                 1                 "
      ]
     },
     "execution_count": 352,
     "metadata": {},
     "output_type": "execute_result"
    }
   ],
   "source": [
    "num_data_latest = pd.concat([num_data_final[['default','installment_as_income_perc',\n",
    "                                          'present_res_since','people_under_maintenance',\n",
    "                                          'credits_this_bank_bin']],num_data_final_dumm],axis=1)\n",
    "num_data_latest.head()"
   ]
  },
  {
   "cell_type": "markdown",
   "metadata": {},
   "source": [
    "# Categorical Data Analysis"
   ]
  },
  {
   "cell_type": "code",
   "execution_count": 437,
   "metadata": {},
   "outputs": [
    {
     "data": {
      "text/html": [
       "<div>\n",
       "<style scoped>\n",
       "    .dataframe tbody tr th:only-of-type {\n",
       "        vertical-align: middle;\n",
       "    }\n",
       "\n",
       "    .dataframe tbody tr th {\n",
       "        vertical-align: top;\n",
       "    }\n",
       "\n",
       "    .dataframe thead th {\n",
       "        text-align: right;\n",
       "    }\n",
       "</style>\n",
       "<table border=\"1\" class=\"dataframe\">\n",
       "  <thead>\n",
       "    <tr style=\"text-align: right;\">\n",
       "      <th></th>\n",
       "      <th>account_check_status</th>\n",
       "      <th>credit_history</th>\n",
       "      <th>purpose</th>\n",
       "      <th>savings</th>\n",
       "      <th>present_emp_since</th>\n",
       "      <th>personal_status_sex</th>\n",
       "      <th>other_debtors</th>\n",
       "      <th>property</th>\n",
       "      <th>other_installment_plans</th>\n",
       "      <th>housing</th>\n",
       "      <th>job</th>\n",
       "      <th>telephone</th>\n",
       "      <th>foreign_worker</th>\n",
       "    </tr>\n",
       "  </thead>\n",
       "  <tbody>\n",
       "    <tr>\n",
       "      <th>0</th>\n",
       "      <td>&lt; 0 DM</td>\n",
       "      <td>critical account/ other credits existing (not at this bank)</td>\n",
       "      <td>domestic appliances</td>\n",
       "      <td>unknown/ no savings account</td>\n",
       "      <td>.. &gt;= 7 years</td>\n",
       "      <td>male : single</td>\n",
       "      <td>none</td>\n",
       "      <td>real estate</td>\n",
       "      <td>none</td>\n",
       "      <td>own</td>\n",
       "      <td>skilled employee / official</td>\n",
       "      <td>yes, registered under the customers name</td>\n",
       "      <td>yes</td>\n",
       "    </tr>\n",
       "    <tr>\n",
       "      <th>1</th>\n",
       "      <td>0 &lt;= ... &lt; 200 DM</td>\n",
       "      <td>existing credits paid back duly till now</td>\n",
       "      <td>domestic appliances</td>\n",
       "      <td>... &lt; 100 DM</td>\n",
       "      <td>1 &lt;= ... &lt; 4 years</td>\n",
       "      <td>female : divorced/separated/married</td>\n",
       "      <td>none</td>\n",
       "      <td>real estate</td>\n",
       "      <td>none</td>\n",
       "      <td>own</td>\n",
       "      <td>skilled employee / official</td>\n",
       "      <td>none</td>\n",
       "      <td>yes</td>\n",
       "    </tr>\n",
       "    <tr>\n",
       "      <th>2</th>\n",
       "      <td>no checking account</td>\n",
       "      <td>critical account/ other credits existing (not at this bank)</td>\n",
       "      <td>(vacation - does not exist?)</td>\n",
       "      <td>... &lt; 100 DM</td>\n",
       "      <td>4 &lt;= ... &lt; 7 years</td>\n",
       "      <td>male : single</td>\n",
       "      <td>none</td>\n",
       "      <td>real estate</td>\n",
       "      <td>none</td>\n",
       "      <td>own</td>\n",
       "      <td>unskilled - resident</td>\n",
       "      <td>none</td>\n",
       "      <td>yes</td>\n",
       "    </tr>\n",
       "    <tr>\n",
       "      <th>3</th>\n",
       "      <td>&lt; 0 DM</td>\n",
       "      <td>existing credits paid back duly till now</td>\n",
       "      <td>radio/television</td>\n",
       "      <td>... &lt; 100 DM</td>\n",
       "      <td>4 &lt;= ... &lt; 7 years</td>\n",
       "      <td>male : single</td>\n",
       "      <td>guarantor</td>\n",
       "      <td>if not A121 : building society savings agreement/ life insurance</td>\n",
       "      <td>none</td>\n",
       "      <td>for free</td>\n",
       "      <td>skilled employee / official</td>\n",
       "      <td>none</td>\n",
       "      <td>yes</td>\n",
       "    </tr>\n",
       "    <tr>\n",
       "      <th>4</th>\n",
       "      <td>&lt; 0 DM</td>\n",
       "      <td>delay in paying off in the past</td>\n",
       "      <td>car (new)</td>\n",
       "      <td>... &lt; 100 DM</td>\n",
       "      <td>1 &lt;= ... &lt; 4 years</td>\n",
       "      <td>male : single</td>\n",
       "      <td>none</td>\n",
       "      <td>unknown / no property</td>\n",
       "      <td>none</td>\n",
       "      <td>for free</td>\n",
       "      <td>skilled employee / official</td>\n",
       "      <td>none</td>\n",
       "      <td>yes</td>\n",
       "    </tr>\n",
       "  </tbody>\n",
       "</table>\n",
       "</div>"
      ],
      "text/plain": [
       "  account_check_status  \\\n",
       "0  < 0 DM                \n",
       "1  0 <= ... < 200 DM     \n",
       "2  no checking account   \n",
       "3  < 0 DM                \n",
       "4  < 0 DM                \n",
       "\n",
       "                                                credit_history  \\\n",
       "0  critical account/ other credits existing (not at this bank)   \n",
       "1  existing credits paid back duly till now                      \n",
       "2  critical account/ other credits existing (not at this bank)   \n",
       "3  existing credits paid back duly till now                      \n",
       "4  delay in paying off in the past                               \n",
       "\n",
       "                        purpose                      savings  \\\n",
       "0  domestic appliances           unknown/ no savings account   \n",
       "1  domestic appliances           ... < 100 DM                  \n",
       "2  (vacation - does not exist?)  ... < 100 DM                  \n",
       "3  radio/television              ... < 100 DM                  \n",
       "4  car (new)                     ... < 100 DM                  \n",
       "\n",
       "    present_emp_since                  personal_status_sex other_debtors  \\\n",
       "0  .. >= 7 years       male : single                        none           \n",
       "1  1 <= ... < 4 years  female : divorced/separated/married  none           \n",
       "2  4 <= ... < 7 years  male : single                        none           \n",
       "3  4 <= ... < 7 years  male : single                        guarantor      \n",
       "4  1 <= ... < 4 years  male : single                        none           \n",
       "\n",
       "                                                           property  \\\n",
       "0  real estate                                                        \n",
       "1  real estate                                                        \n",
       "2  real estate                                                        \n",
       "3  if not A121 : building society savings agreement/ life insurance   \n",
       "4  unknown / no property                                              \n",
       "\n",
       "  other_installment_plans   housing                          job  \\\n",
       "0  none                    own       skilled employee / official   \n",
       "1  none                    own       skilled employee / official   \n",
       "2  none                    own       unskilled - resident          \n",
       "3  none                    for free  skilled employee / official   \n",
       "4  none                    for free  skilled employee / official   \n",
       "\n",
       "                                   telephone foreign_worker  \n",
       "0  yes, registered under the customers name   yes            \n",
       "1  none                                       yes            \n",
       "2  none                                       yes            \n",
       "3  none                                       yes            \n",
       "4  none                                       yes            "
      ]
     },
     "execution_count": 437,
     "metadata": {},
     "output_type": "execute_result"
    }
   ],
   "source": [
    "cal_cols = df_pre.select_dtypes(exclude = np.number).columns.tolist()\n",
    "cat_data = df_pre[cal_cols]\n",
    "cat_data.head()"
   ]
  },
  {
   "cell_type": "code",
   "execution_count": 380,
   "metadata": {},
   "outputs": [],
   "source": [
    "def value_counts_fun(df):\n",
    "    for i in df.columns:\n",
    "        print('\\n',i, '\\n', df[i].value_counts())"
   ]
  },
  {
   "cell_type": "code",
   "execution_count": 381,
   "metadata": {},
   "outputs": [
    {
     "name": "stdout",
     "output_type": "stream",
     "text": [
      "\n",
      " account_check_status \n",
      " no checking account                                   394\n",
      "< 0 DM                                                274\n",
      "0 <= ... < 200 DM                                     269\n",
      ">= 200 DM / salary assignments for at least 1 year    63 \n",
      "Name: account_check_status, dtype: int64\n",
      "\n",
      " credit_history \n",
      " existing credits paid back duly till now                       530\n",
      "critical account/ other credits existing (not at this bank)    293\n",
      "delay in paying off in the past                                88 \n",
      "all credits at this bank paid back duly                        49 \n",
      "no credits taken/ all credits paid back duly                   40 \n",
      "Name: credit_history, dtype: int64\n",
      "\n",
      " purpose \n",
      " domestic appliances             280\n",
      "car (new)                       234\n",
      "radio/television                181\n",
      "car (used)                      103\n",
      "business                        97 \n",
      "(vacation - does not exist?)    50 \n",
      "education                       22 \n",
      "furniture/equipment             12 \n",
      "repairs                         12 \n",
      "retraining                      9  \n",
      "Name: purpose, dtype: int64\n",
      "\n",
      " savings \n",
      " ... < 100 DM                   603\n",
      "unknown/ no savings account    183\n",
      "100 <= ... < 500 DM            103\n",
      "500 <= ... < 1000 DM           63 \n",
      ".. >= 1000 DM                  48 \n",
      "Name: savings, dtype: int64\n",
      "\n",
      " present_emp_since \n",
      " 1 <= ... < 4 years    339\n",
      ".. >= 7 years         253\n",
      "4 <= ... < 7 years    174\n",
      "... < 1 year          172\n",
      "unemployed            62 \n",
      "Name: present_emp_since, dtype: int64\n",
      "\n",
      " personal_status_sex \n",
      " male : single                          548\n",
      "female : divorced/separated/married    310\n",
      "male : married/widowed                 92 \n",
      "male : divorced/separated              50 \n",
      "Name: personal_status_sex, dtype: int64\n",
      "\n",
      " other_debtors \n",
      " none            907\n",
      "guarantor       52 \n",
      "co-applicant    41 \n",
      "Name: other_debtors, dtype: int64\n",
      "\n",
      " property \n",
      " if not A121/A122 : car or other, not in attribute 6                 332\n",
      "real estate                                                         282\n",
      "if not A121 : building society savings agreement/ life insurance    232\n",
      "unknown / no property                                               154\n",
      "Name: property, dtype: int64\n",
      "\n",
      " other_installment_plans \n",
      " none      814\n",
      "bank      139\n",
      "stores    47 \n",
      "Name: other_installment_plans, dtype: int64\n",
      "\n",
      " housing \n",
      " own         713\n",
      "rent        179\n",
      "for free    108\n",
      "Name: housing, dtype: int64\n",
      "\n",
      " job \n",
      " skilled employee / official                                      630\n",
      "unskilled - resident                                             200\n",
      "management/ self-employed/ highly qualified employee/ officer    148\n",
      "unemployed/ unskilled - non-resident                             22 \n",
      "Name: job, dtype: int64\n",
      "\n",
      " telephone \n",
      " none                                         596\n",
      "yes, registered under the customers name     404\n",
      "Name: telephone, dtype: int64\n",
      "\n",
      " foreign_worker \n",
      " yes    963\n",
      "no     37 \n",
      "Name: foreign_worker, dtype: int64\n"
     ]
    }
   ],
   "source": [
    "value_counts_fun(cat_data)"
   ]
  },
  {
   "cell_type": "code",
   "execution_count": 355,
   "metadata": {},
   "outputs": [
    {
     "data": {
      "text/plain": [
       "no checking account                                   394\n",
       "< 0 DM                                                274\n",
       "0 <= ... < 200 DM                                     269\n",
       ">= 200 DM / salary assignments for at least 1 year    63 \n",
       "Name: account_check_status, dtype: int64"
      ]
     },
     "execution_count": 355,
     "metadata": {},
     "output_type": "execute_result"
    }
   ],
   "source": [
    "cat_data_final = pd.get_dummies(cat_data,drop_first=True)\n",
    "cat_data_final.head()"
   ]
  },
  {
   "cell_type": "code",
   "execution_count": 354,
   "metadata": {},
   "outputs": [
    {
     "data": {
      "text/html": [
       "<div>\n",
       "<style scoped>\n",
       "    .dataframe tbody tr th:only-of-type {\n",
       "        vertical-align: middle;\n",
       "    }\n",
       "\n",
       "    .dataframe tbody tr th {\n",
       "        vertical-align: top;\n",
       "    }\n",
       "\n",
       "    .dataframe thead th {\n",
       "        text-align: right;\n",
       "    }\n",
       "</style>\n",
       "<table border=\"1\" class=\"dataframe\">\n",
       "  <thead>\n",
       "    <tr style=\"text-align: right;\">\n",
       "      <th></th>\n",
       "      <th>account_check_status_&lt; 0 DM</th>\n",
       "      <th>account_check_status_&gt;= 200 DM / salary assignments for at least 1 year</th>\n",
       "      <th>account_check_status_no checking account</th>\n",
       "      <th>credit_history_critical account/ other credits existing (not at this bank)</th>\n",
       "      <th>credit_history_delay in paying off in the past</th>\n",
       "      <th>credit_history_existing credits paid back duly till now</th>\n",
       "      <th>credit_history_no credits taken/ all credits paid back duly</th>\n",
       "      <th>purpose_business</th>\n",
       "      <th>purpose_car (new)</th>\n",
       "      <th>purpose_car (used)</th>\n",
       "      <th>purpose_domestic appliances</th>\n",
       "      <th>purpose_education</th>\n",
       "      <th>purpose_furniture/equipment</th>\n",
       "      <th>purpose_radio/television</th>\n",
       "      <th>purpose_repairs</th>\n",
       "      <th>purpose_retraining</th>\n",
       "      <th>savings_... &lt; 100 DM</th>\n",
       "      <th>savings_100 &lt;= ... &lt; 500 DM</th>\n",
       "      <th>savings_500 &lt;= ... &lt; 1000 DM</th>\n",
       "      <th>savings_unknown/ no savings account</th>\n",
       "      <th>present_emp_since_... &lt; 1 year</th>\n",
       "      <th>present_emp_since_1 &lt;= ... &lt; 4 years</th>\n",
       "      <th>present_emp_since_4 &lt;= ... &lt; 7 years</th>\n",
       "      <th>present_emp_since_unemployed</th>\n",
       "      <th>personal_status_sex_male : divorced/separated</th>\n",
       "      <th>personal_status_sex_male : married/widowed</th>\n",
       "      <th>personal_status_sex_male : single</th>\n",
       "      <th>other_debtors_guarantor</th>\n",
       "      <th>other_debtors_none</th>\n",
       "      <th>property_if not A121/A122 : car or other, not in attribute 6</th>\n",
       "      <th>property_real estate</th>\n",
       "      <th>property_unknown / no property</th>\n",
       "      <th>other_installment_plans_none</th>\n",
       "      <th>other_installment_plans_stores</th>\n",
       "      <th>housing_own</th>\n",
       "      <th>housing_rent</th>\n",
       "      <th>job_skilled employee / official</th>\n",
       "      <th>job_unemployed/ unskilled - non-resident</th>\n",
       "      <th>job_unskilled - resident</th>\n",
       "      <th>telephone_yes, registered under the customers name</th>\n",
       "      <th>foreign_worker_yes</th>\n",
       "    </tr>\n",
       "  </thead>\n",
       "  <tbody>\n",
       "    <tr>\n",
       "      <th>0</th>\n",
       "      <td>1</td>\n",
       "      <td>0</td>\n",
       "      <td>0</td>\n",
       "      <td>1</td>\n",
       "      <td>0</td>\n",
       "      <td>0</td>\n",
       "      <td>0</td>\n",
       "      <td>0</td>\n",
       "      <td>0</td>\n",
       "      <td>0</td>\n",
       "      <td>1</td>\n",
       "      <td>0</td>\n",
       "      <td>0</td>\n",
       "      <td>0</td>\n",
       "      <td>0</td>\n",
       "      <td>0</td>\n",
       "      <td>0</td>\n",
       "      <td>0</td>\n",
       "      <td>0</td>\n",
       "      <td>1</td>\n",
       "      <td>0</td>\n",
       "      <td>0</td>\n",
       "      <td>0</td>\n",
       "      <td>0</td>\n",
       "      <td>0</td>\n",
       "      <td>0</td>\n",
       "      <td>1</td>\n",
       "      <td>0</td>\n",
       "      <td>1</td>\n",
       "      <td>0</td>\n",
       "      <td>1</td>\n",
       "      <td>0</td>\n",
       "      <td>1</td>\n",
       "      <td>0</td>\n",
       "      <td>1</td>\n",
       "      <td>0</td>\n",
       "      <td>1</td>\n",
       "      <td>0</td>\n",
       "      <td>0</td>\n",
       "      <td>1</td>\n",
       "      <td>1</td>\n",
       "    </tr>\n",
       "    <tr>\n",
       "      <th>1</th>\n",
       "      <td>0</td>\n",
       "      <td>0</td>\n",
       "      <td>0</td>\n",
       "      <td>0</td>\n",
       "      <td>0</td>\n",
       "      <td>1</td>\n",
       "      <td>0</td>\n",
       "      <td>0</td>\n",
       "      <td>0</td>\n",
       "      <td>0</td>\n",
       "      <td>1</td>\n",
       "      <td>0</td>\n",
       "      <td>0</td>\n",
       "      <td>0</td>\n",
       "      <td>0</td>\n",
       "      <td>0</td>\n",
       "      <td>1</td>\n",
       "      <td>0</td>\n",
       "      <td>0</td>\n",
       "      <td>0</td>\n",
       "      <td>0</td>\n",
       "      <td>1</td>\n",
       "      <td>0</td>\n",
       "      <td>0</td>\n",
       "      <td>0</td>\n",
       "      <td>0</td>\n",
       "      <td>0</td>\n",
       "      <td>0</td>\n",
       "      <td>1</td>\n",
       "      <td>0</td>\n",
       "      <td>1</td>\n",
       "      <td>0</td>\n",
       "      <td>1</td>\n",
       "      <td>0</td>\n",
       "      <td>1</td>\n",
       "      <td>0</td>\n",
       "      <td>1</td>\n",
       "      <td>0</td>\n",
       "      <td>0</td>\n",
       "      <td>0</td>\n",
       "      <td>1</td>\n",
       "    </tr>\n",
       "    <tr>\n",
       "      <th>2</th>\n",
       "      <td>0</td>\n",
       "      <td>0</td>\n",
       "      <td>1</td>\n",
       "      <td>1</td>\n",
       "      <td>0</td>\n",
       "      <td>0</td>\n",
       "      <td>0</td>\n",
       "      <td>0</td>\n",
       "      <td>0</td>\n",
       "      <td>0</td>\n",
       "      <td>0</td>\n",
       "      <td>0</td>\n",
       "      <td>0</td>\n",
       "      <td>0</td>\n",
       "      <td>0</td>\n",
       "      <td>0</td>\n",
       "      <td>1</td>\n",
       "      <td>0</td>\n",
       "      <td>0</td>\n",
       "      <td>0</td>\n",
       "      <td>0</td>\n",
       "      <td>0</td>\n",
       "      <td>1</td>\n",
       "      <td>0</td>\n",
       "      <td>0</td>\n",
       "      <td>0</td>\n",
       "      <td>1</td>\n",
       "      <td>0</td>\n",
       "      <td>1</td>\n",
       "      <td>0</td>\n",
       "      <td>1</td>\n",
       "      <td>0</td>\n",
       "      <td>1</td>\n",
       "      <td>0</td>\n",
       "      <td>1</td>\n",
       "      <td>0</td>\n",
       "      <td>0</td>\n",
       "      <td>0</td>\n",
       "      <td>1</td>\n",
       "      <td>0</td>\n",
       "      <td>1</td>\n",
       "    </tr>\n",
       "    <tr>\n",
       "      <th>3</th>\n",
       "      <td>1</td>\n",
       "      <td>0</td>\n",
       "      <td>0</td>\n",
       "      <td>0</td>\n",
       "      <td>0</td>\n",
       "      <td>1</td>\n",
       "      <td>0</td>\n",
       "      <td>0</td>\n",
       "      <td>0</td>\n",
       "      <td>0</td>\n",
       "      <td>0</td>\n",
       "      <td>0</td>\n",
       "      <td>0</td>\n",
       "      <td>1</td>\n",
       "      <td>0</td>\n",
       "      <td>0</td>\n",
       "      <td>1</td>\n",
       "      <td>0</td>\n",
       "      <td>0</td>\n",
       "      <td>0</td>\n",
       "      <td>0</td>\n",
       "      <td>0</td>\n",
       "      <td>1</td>\n",
       "      <td>0</td>\n",
       "      <td>0</td>\n",
       "      <td>0</td>\n",
       "      <td>1</td>\n",
       "      <td>1</td>\n",
       "      <td>0</td>\n",
       "      <td>0</td>\n",
       "      <td>0</td>\n",
       "      <td>0</td>\n",
       "      <td>1</td>\n",
       "      <td>0</td>\n",
       "      <td>0</td>\n",
       "      <td>0</td>\n",
       "      <td>1</td>\n",
       "      <td>0</td>\n",
       "      <td>0</td>\n",
       "      <td>0</td>\n",
       "      <td>1</td>\n",
       "    </tr>\n",
       "    <tr>\n",
       "      <th>4</th>\n",
       "      <td>1</td>\n",
       "      <td>0</td>\n",
       "      <td>0</td>\n",
       "      <td>0</td>\n",
       "      <td>1</td>\n",
       "      <td>0</td>\n",
       "      <td>0</td>\n",
       "      <td>0</td>\n",
       "      <td>1</td>\n",
       "      <td>0</td>\n",
       "      <td>0</td>\n",
       "      <td>0</td>\n",
       "      <td>0</td>\n",
       "      <td>0</td>\n",
       "      <td>0</td>\n",
       "      <td>0</td>\n",
       "      <td>1</td>\n",
       "      <td>0</td>\n",
       "      <td>0</td>\n",
       "      <td>0</td>\n",
       "      <td>0</td>\n",
       "      <td>1</td>\n",
       "      <td>0</td>\n",
       "      <td>0</td>\n",
       "      <td>0</td>\n",
       "      <td>0</td>\n",
       "      <td>1</td>\n",
       "      <td>0</td>\n",
       "      <td>1</td>\n",
       "      <td>0</td>\n",
       "      <td>0</td>\n",
       "      <td>1</td>\n",
       "      <td>1</td>\n",
       "      <td>0</td>\n",
       "      <td>0</td>\n",
       "      <td>0</td>\n",
       "      <td>1</td>\n",
       "      <td>0</td>\n",
       "      <td>0</td>\n",
       "      <td>0</td>\n",
       "      <td>1</td>\n",
       "    </tr>\n",
       "  </tbody>\n",
       "</table>\n",
       "</div>"
      ],
      "text/plain": [
       "   account_check_status_< 0 DM  \\\n",
       "0  1                             \n",
       "1  0                             \n",
       "2  0                             \n",
       "3  1                             \n",
       "4  1                             \n",
       "\n",
       "   account_check_status_>= 200 DM / salary assignments for at least 1 year  \\\n",
       "0  0                                                                         \n",
       "1  0                                                                         \n",
       "2  0                                                                         \n",
       "3  0                                                                         \n",
       "4  0                                                                         \n",
       "\n",
       "   account_check_status_no checking account  \\\n",
       "0  0                                          \n",
       "1  0                                          \n",
       "2  1                                          \n",
       "3  0                                          \n",
       "4  0                                          \n",
       "\n",
       "   credit_history_critical account/ other credits existing (not at this bank)  \\\n",
       "0  1                                                                            \n",
       "1  0                                                                            \n",
       "2  1                                                                            \n",
       "3  0                                                                            \n",
       "4  0                                                                            \n",
       "\n",
       "   credit_history_delay in paying off in the past  \\\n",
       "0  0                                                \n",
       "1  0                                                \n",
       "2  0                                                \n",
       "3  0                                                \n",
       "4  1                                                \n",
       "\n",
       "   credit_history_existing credits paid back duly till now  \\\n",
       "0  0                                                         \n",
       "1  1                                                         \n",
       "2  0                                                         \n",
       "3  1                                                         \n",
       "4  0                                                         \n",
       "\n",
       "   credit_history_no credits taken/ all credits paid back duly  \\\n",
       "0  0                                                             \n",
       "1  0                                                             \n",
       "2  0                                                             \n",
       "3  0                                                             \n",
       "4  0                                                             \n",
       "\n",
       "   purpose_business  purpose_car (new)  purpose_car (used)  \\\n",
       "0  0                 0                  0                    \n",
       "1  0                 0                  0                    \n",
       "2  0                 0                  0                    \n",
       "3  0                 0                  0                    \n",
       "4  0                 1                  0                    \n",
       "\n",
       "   purpose_domestic appliances  purpose_education  \\\n",
       "0  1                            0                   \n",
       "1  1                            0                   \n",
       "2  0                            0                   \n",
       "3  0                            0                   \n",
       "4  0                            0                   \n",
       "\n",
       "   purpose_furniture/equipment  purpose_radio/television  purpose_repairs  \\\n",
       "0  0                            0                         0                 \n",
       "1  0                            0                         0                 \n",
       "2  0                            0                         0                 \n",
       "3  0                            1                         0                 \n",
       "4  0                            0                         0                 \n",
       "\n",
       "   purpose_retraining  savings_... < 100 DM  savings_100 <= ... < 500 DM  \\\n",
       "0  0                   0                     0                             \n",
       "1  0                   1                     0                             \n",
       "2  0                   1                     0                             \n",
       "3  0                   1                     0                             \n",
       "4  0                   1                     0                             \n",
       "\n",
       "   savings_500 <= ... < 1000 DM   savings_unknown/ no savings account  \\\n",
       "0  0                              1                                     \n",
       "1  0                              0                                     \n",
       "2  0                              0                                     \n",
       "3  0                              0                                     \n",
       "4  0                              0                                     \n",
       "\n",
       "   present_emp_since_... < 1 year   present_emp_since_1 <= ... < 4 years  \\\n",
       "0  0                                0                                      \n",
       "1  0                                1                                      \n",
       "2  0                                0                                      \n",
       "3  0                                0                                      \n",
       "4  0                                1                                      \n",
       "\n",
       "   present_emp_since_4 <= ... < 7 years  present_emp_since_unemployed  \\\n",
       "0  0                                     0                              \n",
       "1  0                                     0                              \n",
       "2  1                                     0                              \n",
       "3  1                                     0                              \n",
       "4  0                                     0                              \n",
       "\n",
       "   personal_status_sex_male : divorced/separated  \\\n",
       "0  0                                               \n",
       "1  0                                               \n",
       "2  0                                               \n",
       "3  0                                               \n",
       "4  0                                               \n",
       "\n",
       "   personal_status_sex_male : married/widowed  \\\n",
       "0  0                                            \n",
       "1  0                                            \n",
       "2  0                                            \n",
       "3  0                                            \n",
       "4  0                                            \n",
       "\n",
       "   personal_status_sex_male : single  other_debtors_guarantor  \\\n",
       "0  1                                  0                         \n",
       "1  0                                  0                         \n",
       "2  1                                  0                         \n",
       "3  1                                  1                         \n",
       "4  1                                  0                         \n",
       "\n",
       "   other_debtors_none  \\\n",
       "0  1                    \n",
       "1  1                    \n",
       "2  1                    \n",
       "3  0                    \n",
       "4  1                    \n",
       "\n",
       "   property_if not A121/A122 : car or other, not in attribute 6  \\\n",
       "0  0                                                              \n",
       "1  0                                                              \n",
       "2  0                                                              \n",
       "3  0                                                              \n",
       "4  0                                                              \n",
       "\n",
       "   property_real estate  property_unknown / no property  \\\n",
       "0  1                     0                                \n",
       "1  1                     0                                \n",
       "2  1                     0                                \n",
       "3  0                     0                                \n",
       "4  0                     1                                \n",
       "\n",
       "   other_installment_plans_none  other_installment_plans_stores  housing_own  \\\n",
       "0  1                             0                               1             \n",
       "1  1                             0                               1             \n",
       "2  1                             0                               1             \n",
       "3  1                             0                               0             \n",
       "4  1                             0                               0             \n",
       "\n",
       "   housing_rent  job_skilled employee / official  \\\n",
       "0  0             1                                 \n",
       "1  0             1                                 \n",
       "2  0             0                                 \n",
       "3  0             1                                 \n",
       "4  0             1                                 \n",
       "\n",
       "   job_unemployed/ unskilled - non-resident  job_unskilled - resident  \\\n",
       "0  0                                         0                          \n",
       "1  0                                         0                          \n",
       "2  0                                         1                          \n",
       "3  0                                         0                          \n",
       "4  0                                         0                          \n",
       "\n",
       "   telephone_yes, registered under the customers name   foreign_worker_yes  \n",
       "0  1                                                    1                   \n",
       "1  0                                                    1                   \n",
       "2  0                                                    1                   \n",
       "3  0                                                    1                   \n",
       "4  0                                                    1                   "
      ]
     },
     "execution_count": 354,
     "metadata": {},
     "output_type": "execute_result"
    }
   ],
   "source": [
    "cat_data_final = pd.get_dummies(cat_data,drop_first=True)\n",
    "cat_data_final.head()"
   ]
  },
  {
   "cell_type": "markdown",
   "metadata": {},
   "source": [
    "# Final Data for Logistic Regression"
   ]
  },
  {
   "cell_type": "code",
   "execution_count": 382,
   "metadata": {},
   "outputs": [
    {
     "data": {
      "text/html": [
       "<div>\n",
       "<style scoped>\n",
       "    .dataframe tbody tr th:only-of-type {\n",
       "        vertical-align: middle;\n",
       "    }\n",
       "\n",
       "    .dataframe tbody tr th {\n",
       "        vertical-align: top;\n",
       "    }\n",
       "\n",
       "    .dataframe thead th {\n",
       "        text-align: right;\n",
       "    }\n",
       "</style>\n",
       "<table border=\"1\" class=\"dataframe\">\n",
       "  <thead>\n",
       "    <tr style=\"text-align: right;\">\n",
       "      <th></th>\n",
       "      <th>default</th>\n",
       "      <th>installment_as_income_perc</th>\n",
       "      <th>present_res_since</th>\n",
       "      <th>people_under_maintenance</th>\n",
       "      <th>credits_this_bank_bin</th>\n",
       "      <th>duration_in_month_bin_(10, 25]</th>\n",
       "      <th>duration_in_month_bin_(25, 40]</th>\n",
       "      <th>duration_in_month_bin_(40, 80]</th>\n",
       "      <th>credit_amount_bin_(5000, 8000]</th>\n",
       "      <th>credit_amount_bin_(8000, 12000]</th>\n",
       "      <th>credit_amount_bin_(12000, 20000]</th>\n",
       "      <th>age_bin_(25, 35]</th>\n",
       "      <th>age_bin_(35, 50]</th>\n",
       "      <th>age_bin_(50, 80]</th>\n",
       "      <th>account_check_status_&lt; 0 DM</th>\n",
       "      <th>account_check_status_&gt;= 200 DM / salary assignments for at least 1 year</th>\n",
       "      <th>account_check_status_no checking account</th>\n",
       "      <th>credit_history_critical account/ other credits existing (not at this bank)</th>\n",
       "      <th>credit_history_delay in paying off in the past</th>\n",
       "      <th>credit_history_existing credits paid back duly till now</th>\n",
       "      <th>credit_history_no credits taken/ all credits paid back duly</th>\n",
       "      <th>purpose_business</th>\n",
       "      <th>purpose_car (new)</th>\n",
       "      <th>purpose_car (used)</th>\n",
       "      <th>purpose_domestic appliances</th>\n",
       "      <th>purpose_education</th>\n",
       "      <th>purpose_furniture/equipment</th>\n",
       "      <th>purpose_radio/television</th>\n",
       "      <th>purpose_repairs</th>\n",
       "      <th>purpose_retraining</th>\n",
       "      <th>savings_... &lt; 100 DM</th>\n",
       "      <th>savings_100 &lt;= ... &lt; 500 DM</th>\n",
       "      <th>savings_500 &lt;= ... &lt; 1000 DM</th>\n",
       "      <th>savings_unknown/ no savings account</th>\n",
       "      <th>present_emp_since_... &lt; 1 year</th>\n",
       "      <th>present_emp_since_1 &lt;= ... &lt; 4 years</th>\n",
       "      <th>present_emp_since_4 &lt;= ... &lt; 7 years</th>\n",
       "      <th>present_emp_since_unemployed</th>\n",
       "      <th>personal_status_sex_male : divorced/separated</th>\n",
       "      <th>personal_status_sex_male : married/widowed</th>\n",
       "      <th>personal_status_sex_male : single</th>\n",
       "      <th>other_debtors_guarantor</th>\n",
       "      <th>other_debtors_none</th>\n",
       "      <th>property_if not A121/A122 : car or other, not in attribute 6</th>\n",
       "      <th>property_real estate</th>\n",
       "      <th>property_unknown / no property</th>\n",
       "      <th>other_installment_plans_none</th>\n",
       "      <th>other_installment_plans_stores</th>\n",
       "      <th>housing_own</th>\n",
       "      <th>housing_rent</th>\n",
       "      <th>job_skilled employee / official</th>\n",
       "      <th>job_unemployed/ unskilled - non-resident</th>\n",
       "      <th>job_unskilled - resident</th>\n",
       "      <th>telephone_yes, registered under the customers name</th>\n",
       "      <th>foreign_worker_yes</th>\n",
       "    </tr>\n",
       "  </thead>\n",
       "  <tbody>\n",
       "    <tr>\n",
       "      <th>0</th>\n",
       "      <td>0</td>\n",
       "      <td>4</td>\n",
       "      <td>67</td>\n",
       "      <td>1</td>\n",
       "      <td>2</td>\n",
       "      <td>0</td>\n",
       "      <td>0</td>\n",
       "      <td>0</td>\n",
       "      <td>0</td>\n",
       "      <td>0</td>\n",
       "      <td>0</td>\n",
       "      <td>0</td>\n",
       "      <td>0</td>\n",
       "      <td>1</td>\n",
       "      <td>1</td>\n",
       "      <td>0</td>\n",
       "      <td>0</td>\n",
       "      <td>1</td>\n",
       "      <td>0</td>\n",
       "      <td>0</td>\n",
       "      <td>0</td>\n",
       "      <td>0</td>\n",
       "      <td>0</td>\n",
       "      <td>0</td>\n",
       "      <td>1</td>\n",
       "      <td>0</td>\n",
       "      <td>0</td>\n",
       "      <td>0</td>\n",
       "      <td>0</td>\n",
       "      <td>0</td>\n",
       "      <td>0</td>\n",
       "      <td>0</td>\n",
       "      <td>0</td>\n",
       "      <td>1</td>\n",
       "      <td>0</td>\n",
       "      <td>0</td>\n",
       "      <td>0</td>\n",
       "      <td>0</td>\n",
       "      <td>0</td>\n",
       "      <td>0</td>\n",
       "      <td>1</td>\n",
       "      <td>0</td>\n",
       "      <td>1</td>\n",
       "      <td>0</td>\n",
       "      <td>1</td>\n",
       "      <td>0</td>\n",
       "      <td>1</td>\n",
       "      <td>0</td>\n",
       "      <td>1</td>\n",
       "      <td>0</td>\n",
       "      <td>1</td>\n",
       "      <td>0</td>\n",
       "      <td>0</td>\n",
       "      <td>1</td>\n",
       "      <td>1</td>\n",
       "    </tr>\n",
       "    <tr>\n",
       "      <th>1</th>\n",
       "      <td>1</td>\n",
       "      <td>2</td>\n",
       "      <td>22</td>\n",
       "      <td>1</td>\n",
       "      <td>1</td>\n",
       "      <td>0</td>\n",
       "      <td>0</td>\n",
       "      <td>1</td>\n",
       "      <td>1</td>\n",
       "      <td>0</td>\n",
       "      <td>0</td>\n",
       "      <td>0</td>\n",
       "      <td>0</td>\n",
       "      <td>0</td>\n",
       "      <td>0</td>\n",
       "      <td>0</td>\n",
       "      <td>0</td>\n",
       "      <td>0</td>\n",
       "      <td>0</td>\n",
       "      <td>1</td>\n",
       "      <td>0</td>\n",
       "      <td>0</td>\n",
       "      <td>0</td>\n",
       "      <td>0</td>\n",
       "      <td>1</td>\n",
       "      <td>0</td>\n",
       "      <td>0</td>\n",
       "      <td>0</td>\n",
       "      <td>0</td>\n",
       "      <td>0</td>\n",
       "      <td>1</td>\n",
       "      <td>0</td>\n",
       "      <td>0</td>\n",
       "      <td>0</td>\n",
       "      <td>0</td>\n",
       "      <td>1</td>\n",
       "      <td>0</td>\n",
       "      <td>0</td>\n",
       "      <td>0</td>\n",
       "      <td>0</td>\n",
       "      <td>0</td>\n",
       "      <td>0</td>\n",
       "      <td>1</td>\n",
       "      <td>0</td>\n",
       "      <td>1</td>\n",
       "      <td>0</td>\n",
       "      <td>1</td>\n",
       "      <td>0</td>\n",
       "      <td>1</td>\n",
       "      <td>0</td>\n",
       "      <td>1</td>\n",
       "      <td>0</td>\n",
       "      <td>0</td>\n",
       "      <td>0</td>\n",
       "      <td>1</td>\n",
       "    </tr>\n",
       "    <tr>\n",
       "      <th>2</th>\n",
       "      <td>0</td>\n",
       "      <td>2</td>\n",
       "      <td>49</td>\n",
       "      <td>2</td>\n",
       "      <td>1</td>\n",
       "      <td>1</td>\n",
       "      <td>0</td>\n",
       "      <td>0</td>\n",
       "      <td>0</td>\n",
       "      <td>0</td>\n",
       "      <td>0</td>\n",
       "      <td>0</td>\n",
       "      <td>1</td>\n",
       "      <td>0</td>\n",
       "      <td>0</td>\n",
       "      <td>0</td>\n",
       "      <td>1</td>\n",
       "      <td>1</td>\n",
       "      <td>0</td>\n",
       "      <td>0</td>\n",
       "      <td>0</td>\n",
       "      <td>0</td>\n",
       "      <td>0</td>\n",
       "      <td>0</td>\n",
       "      <td>0</td>\n",
       "      <td>0</td>\n",
       "      <td>0</td>\n",
       "      <td>0</td>\n",
       "      <td>0</td>\n",
       "      <td>0</td>\n",
       "      <td>1</td>\n",
       "      <td>0</td>\n",
       "      <td>0</td>\n",
       "      <td>0</td>\n",
       "      <td>0</td>\n",
       "      <td>0</td>\n",
       "      <td>1</td>\n",
       "      <td>0</td>\n",
       "      <td>0</td>\n",
       "      <td>0</td>\n",
       "      <td>1</td>\n",
       "      <td>0</td>\n",
       "      <td>1</td>\n",
       "      <td>0</td>\n",
       "      <td>1</td>\n",
       "      <td>0</td>\n",
       "      <td>1</td>\n",
       "      <td>0</td>\n",
       "      <td>1</td>\n",
       "      <td>0</td>\n",
       "      <td>0</td>\n",
       "      <td>0</td>\n",
       "      <td>1</td>\n",
       "      <td>0</td>\n",
       "      <td>1</td>\n",
       "    </tr>\n",
       "    <tr>\n",
       "      <th>3</th>\n",
       "      <td>0</td>\n",
       "      <td>2</td>\n",
       "      <td>45</td>\n",
       "      <td>2</td>\n",
       "      <td>1</td>\n",
       "      <td>0</td>\n",
       "      <td>0</td>\n",
       "      <td>1</td>\n",
       "      <td>1</td>\n",
       "      <td>0</td>\n",
       "      <td>0</td>\n",
       "      <td>0</td>\n",
       "      <td>1</td>\n",
       "      <td>0</td>\n",
       "      <td>1</td>\n",
       "      <td>0</td>\n",
       "      <td>0</td>\n",
       "      <td>0</td>\n",
       "      <td>0</td>\n",
       "      <td>1</td>\n",
       "      <td>0</td>\n",
       "      <td>0</td>\n",
       "      <td>0</td>\n",
       "      <td>0</td>\n",
       "      <td>0</td>\n",
       "      <td>0</td>\n",
       "      <td>0</td>\n",
       "      <td>1</td>\n",
       "      <td>0</td>\n",
       "      <td>0</td>\n",
       "      <td>1</td>\n",
       "      <td>0</td>\n",
       "      <td>0</td>\n",
       "      <td>0</td>\n",
       "      <td>0</td>\n",
       "      <td>0</td>\n",
       "      <td>1</td>\n",
       "      <td>0</td>\n",
       "      <td>0</td>\n",
       "      <td>0</td>\n",
       "      <td>1</td>\n",
       "      <td>1</td>\n",
       "      <td>0</td>\n",
       "      <td>0</td>\n",
       "      <td>0</td>\n",
       "      <td>0</td>\n",
       "      <td>1</td>\n",
       "      <td>0</td>\n",
       "      <td>0</td>\n",
       "      <td>0</td>\n",
       "      <td>1</td>\n",
       "      <td>0</td>\n",
       "      <td>0</td>\n",
       "      <td>0</td>\n",
       "      <td>1</td>\n",
       "    </tr>\n",
       "    <tr>\n",
       "      <th>4</th>\n",
       "      <td>1</td>\n",
       "      <td>3</td>\n",
       "      <td>53</td>\n",
       "      <td>2</td>\n",
       "      <td>2</td>\n",
       "      <td>1</td>\n",
       "      <td>0</td>\n",
       "      <td>0</td>\n",
       "      <td>0</td>\n",
       "      <td>0</td>\n",
       "      <td>0</td>\n",
       "      <td>0</td>\n",
       "      <td>0</td>\n",
       "      <td>1</td>\n",
       "      <td>1</td>\n",
       "      <td>0</td>\n",
       "      <td>0</td>\n",
       "      <td>0</td>\n",
       "      <td>1</td>\n",
       "      <td>0</td>\n",
       "      <td>0</td>\n",
       "      <td>0</td>\n",
       "      <td>1</td>\n",
       "      <td>0</td>\n",
       "      <td>0</td>\n",
       "      <td>0</td>\n",
       "      <td>0</td>\n",
       "      <td>0</td>\n",
       "      <td>0</td>\n",
       "      <td>0</td>\n",
       "      <td>1</td>\n",
       "      <td>0</td>\n",
       "      <td>0</td>\n",
       "      <td>0</td>\n",
       "      <td>0</td>\n",
       "      <td>1</td>\n",
       "      <td>0</td>\n",
       "      <td>0</td>\n",
       "      <td>0</td>\n",
       "      <td>0</td>\n",
       "      <td>1</td>\n",
       "      <td>0</td>\n",
       "      <td>1</td>\n",
       "      <td>0</td>\n",
       "      <td>0</td>\n",
       "      <td>1</td>\n",
       "      <td>1</td>\n",
       "      <td>0</td>\n",
       "      <td>0</td>\n",
       "      <td>0</td>\n",
       "      <td>1</td>\n",
       "      <td>0</td>\n",
       "      <td>0</td>\n",
       "      <td>0</td>\n",
       "      <td>1</td>\n",
       "    </tr>\n",
       "  </tbody>\n",
       "</table>\n",
       "</div>"
      ],
      "text/plain": [
       "   default installment_as_income_perc present_res_since  \\\n",
       "0  0        4                          67                 \n",
       "1  1        2                          22                 \n",
       "2  0        2                          49                 \n",
       "3  0        2                          45                 \n",
       "4  1        3                          53                 \n",
       "\n",
       "   people_under_maintenance  credits_this_bank_bin  \\\n",
       "0  1                         2                       \n",
       "1  1                         1                       \n",
       "2  2                         1                       \n",
       "3  2                         1                       \n",
       "4  2                         2                       \n",
       "\n",
       "   duration_in_month_bin_(10, 25]  duration_in_month_bin_(25, 40]  \\\n",
       "0  0                               0                                \n",
       "1  0                               0                                \n",
       "2  1                               0                                \n",
       "3  0                               0                                \n",
       "4  1                               0                                \n",
       "\n",
       "   duration_in_month_bin_(40, 80]  credit_amount_bin_(5000, 8000]  \\\n",
       "0  0                               0                                \n",
       "1  1                               1                                \n",
       "2  0                               0                                \n",
       "3  1                               1                                \n",
       "4  0                               0                                \n",
       "\n",
       "   credit_amount_bin_(8000, 12000]  credit_amount_bin_(12000, 20000]  \\\n",
       "0  0                                0                                  \n",
       "1  0                                0                                  \n",
       "2  0                                0                                  \n",
       "3  0                                0                                  \n",
       "4  0                                0                                  \n",
       "\n",
       "   age_bin_(25, 35]  age_bin_(35, 50]  age_bin_(50, 80]  \\\n",
       "0  0                 0                 1                  \n",
       "1  0                 0                 0                  \n",
       "2  0                 1                 0                  \n",
       "3  0                 1                 0                  \n",
       "4  0                 0                 1                  \n",
       "\n",
       "   account_check_status_< 0 DM  \\\n",
       "0  1                             \n",
       "1  0                             \n",
       "2  0                             \n",
       "3  1                             \n",
       "4  1                             \n",
       "\n",
       "   account_check_status_>= 200 DM / salary assignments for at least 1 year  \\\n",
       "0  0                                                                         \n",
       "1  0                                                                         \n",
       "2  0                                                                         \n",
       "3  0                                                                         \n",
       "4  0                                                                         \n",
       "\n",
       "   account_check_status_no checking account  \\\n",
       "0  0                                          \n",
       "1  0                                          \n",
       "2  1                                          \n",
       "3  0                                          \n",
       "4  0                                          \n",
       "\n",
       "   credit_history_critical account/ other credits existing (not at this bank)  \\\n",
       "0  1                                                                            \n",
       "1  0                                                                            \n",
       "2  1                                                                            \n",
       "3  0                                                                            \n",
       "4  0                                                                            \n",
       "\n",
       "   credit_history_delay in paying off in the past  \\\n",
       "0  0                                                \n",
       "1  0                                                \n",
       "2  0                                                \n",
       "3  0                                                \n",
       "4  1                                                \n",
       "\n",
       "   credit_history_existing credits paid back duly till now  \\\n",
       "0  0                                                         \n",
       "1  1                                                         \n",
       "2  0                                                         \n",
       "3  1                                                         \n",
       "4  0                                                         \n",
       "\n",
       "   credit_history_no credits taken/ all credits paid back duly  \\\n",
       "0  0                                                             \n",
       "1  0                                                             \n",
       "2  0                                                             \n",
       "3  0                                                             \n",
       "4  0                                                             \n",
       "\n",
       "   purpose_business  purpose_car (new)  purpose_car (used)  \\\n",
       "0  0                 0                  0                    \n",
       "1  0                 0                  0                    \n",
       "2  0                 0                  0                    \n",
       "3  0                 0                  0                    \n",
       "4  0                 1                  0                    \n",
       "\n",
       "   purpose_domestic appliances  purpose_education  \\\n",
       "0  1                            0                   \n",
       "1  1                            0                   \n",
       "2  0                            0                   \n",
       "3  0                            0                   \n",
       "4  0                            0                   \n",
       "\n",
       "   purpose_furniture/equipment  purpose_radio/television  purpose_repairs  \\\n",
       "0  0                            0                         0                 \n",
       "1  0                            0                         0                 \n",
       "2  0                            0                         0                 \n",
       "3  0                            1                         0                 \n",
       "4  0                            0                         0                 \n",
       "\n",
       "   purpose_retraining  savings_... < 100 DM  savings_100 <= ... < 500 DM  \\\n",
       "0  0                   0                     0                             \n",
       "1  0                   1                     0                             \n",
       "2  0                   1                     0                             \n",
       "3  0                   1                     0                             \n",
       "4  0                   1                     0                             \n",
       "\n",
       "   savings_500 <= ... < 1000 DM   savings_unknown/ no savings account  \\\n",
       "0  0                              1                                     \n",
       "1  0                              0                                     \n",
       "2  0                              0                                     \n",
       "3  0                              0                                     \n",
       "4  0                              0                                     \n",
       "\n",
       "   present_emp_since_... < 1 year   present_emp_since_1 <= ... < 4 years  \\\n",
       "0  0                                0                                      \n",
       "1  0                                1                                      \n",
       "2  0                                0                                      \n",
       "3  0                                0                                      \n",
       "4  0                                1                                      \n",
       "\n",
       "   present_emp_since_4 <= ... < 7 years  present_emp_since_unemployed  \\\n",
       "0  0                                     0                              \n",
       "1  0                                     0                              \n",
       "2  1                                     0                              \n",
       "3  1                                     0                              \n",
       "4  0                                     0                              \n",
       "\n",
       "   personal_status_sex_male : divorced/separated  \\\n",
       "0  0                                               \n",
       "1  0                                               \n",
       "2  0                                               \n",
       "3  0                                               \n",
       "4  0                                               \n",
       "\n",
       "   personal_status_sex_male : married/widowed  \\\n",
       "0  0                                            \n",
       "1  0                                            \n",
       "2  0                                            \n",
       "3  0                                            \n",
       "4  0                                            \n",
       "\n",
       "   personal_status_sex_male : single  other_debtors_guarantor  \\\n",
       "0  1                                  0                         \n",
       "1  0                                  0                         \n",
       "2  1                                  0                         \n",
       "3  1                                  1                         \n",
       "4  1                                  0                         \n",
       "\n",
       "   other_debtors_none  \\\n",
       "0  1                    \n",
       "1  1                    \n",
       "2  1                    \n",
       "3  0                    \n",
       "4  1                    \n",
       "\n",
       "   property_if not A121/A122 : car or other, not in attribute 6  \\\n",
       "0  0                                                              \n",
       "1  0                                                              \n",
       "2  0                                                              \n",
       "3  0                                                              \n",
       "4  0                                                              \n",
       "\n",
       "   property_real estate  property_unknown / no property  \\\n",
       "0  1                     0                                \n",
       "1  1                     0                                \n",
       "2  1                     0                                \n",
       "3  0                     0                                \n",
       "4  0                     1                                \n",
       "\n",
       "   other_installment_plans_none  other_installment_plans_stores  housing_own  \\\n",
       "0  1                             0                               1             \n",
       "1  1                             0                               1             \n",
       "2  1                             0                               1             \n",
       "3  1                             0                               0             \n",
       "4  1                             0                               0             \n",
       "\n",
       "   housing_rent  job_skilled employee / official  \\\n",
       "0  0             1                                 \n",
       "1  0             1                                 \n",
       "2  0             0                                 \n",
       "3  0             1                                 \n",
       "4  0             1                                 \n",
       "\n",
       "   job_unemployed/ unskilled - non-resident  job_unskilled - resident  \\\n",
       "0  0                                         0                          \n",
       "1  0                                         0                          \n",
       "2  0                                         1                          \n",
       "3  0                                         0                          \n",
       "4  0                                         0                          \n",
       "\n",
       "   telephone_yes, registered under the customers name   foreign_worker_yes  \n",
       "0  1                                                    1                   \n",
       "1  0                                                    1                   \n",
       "2  0                                                    1                   \n",
       "3  0                                                    1                   \n",
       "4  0                                                    1                   "
      ]
     },
     "execution_count": 382,
     "metadata": {},
     "output_type": "execute_result"
    }
   ],
   "source": [
    "data_prep_final = pd.concat([num_data_latest,cat_data_final],axis=1)\n",
    "data_prep_final.head()"
   ]
  },
  {
   "cell_type": "code",
   "execution_count": 383,
   "metadata": {},
   "outputs": [
    {
     "data": {
      "text/plain": [
       "Index(['default', 'installment_as_income_perc', 'present_res_since',\n",
       "       'people_under_maintenance', 'credits_this_bank_bin',\n",
       "       'duration_in_month_bin_(10, 25]', 'duration_in_month_bin_(25, 40]',\n",
       "       'duration_in_month_bin_(40, 80]', 'credit_amount_bin_(5000, 8000]',\n",
       "       'credit_amount_bin_(8000, 12000]', 'credit_amount_bin_(12000, 20000]',\n",
       "       'age_bin_(25, 35]', 'age_bin_(35, 50]', 'age_bin_(50, 80]',\n",
       "       'account_check_status_< 0 DM',\n",
       "       'account_check_status_>= 200 DM / salary assignments for at least 1 year',\n",
       "       'account_check_status_no checking account',\n",
       "       'credit_history_critical account/ other credits existing (not at this bank)',\n",
       "       'credit_history_delay in paying off in the past',\n",
       "       'credit_history_existing credits paid back duly till now',\n",
       "       'credit_history_no credits taken/ all credits paid back duly',\n",
       "       'purpose_business', 'purpose_car (new)', 'purpose_car (used)',\n",
       "       'purpose_domestic appliances', 'purpose_education',\n",
       "       'purpose_furniture/equipment', 'purpose_radio/television',\n",
       "       'purpose_repairs', 'purpose_retraining', 'savings_... < 100 DM',\n",
       "       'savings_100 <= ... < 500 DM', 'savings_500 <= ... < 1000 DM ',\n",
       "       'savings_unknown/ no savings account',\n",
       "       'present_emp_since_... < 1 year ',\n",
       "       'present_emp_since_1 <= ... < 4 years',\n",
       "       'present_emp_since_4 <= ... < 7 years', 'present_emp_since_unemployed',\n",
       "       'personal_status_sex_male : divorced/separated',\n",
       "       'personal_status_sex_male : married/widowed',\n",
       "       'personal_status_sex_male : single', 'other_debtors_guarantor',\n",
       "       'other_debtors_none',\n",
       "       'property_if not A121/A122 : car or other, not in attribute 6',\n",
       "       'property_real estate', 'property_unknown / no property',\n",
       "       'other_installment_plans_none', 'other_installment_plans_stores',\n",
       "       'housing_own', 'housing_rent', 'job_skilled employee / official',\n",
       "       'job_unemployed/ unskilled - non-resident', 'job_unskilled - resident',\n",
       "       'telephone_yes, registered under the customers name ',\n",
       "       'foreign_worker_yes'],\n",
       "      dtype='object')"
      ]
     },
     "execution_count": 383,
     "metadata": {},
     "output_type": "execute_result"
    }
   ],
   "source": [
    "data_prep_final.columns"
   ]
  },
  {
   "cell_type": "code",
   "execution_count": 384,
   "metadata": {},
   "outputs": [],
   "source": [
    "# Copy all the predictor variables into X dataframe\n",
    "X = data_prep_final.drop('default', axis=1)\n",
    "\n",
    "# Copy target into the y dataframe. \n",
    "y = data_prep_final.pop('default')"
   ]
  },
  {
   "cell_type": "code",
   "execution_count": 385,
   "metadata": {},
   "outputs": [],
   "source": [
    "# Split X and y into training and test set in 70:30 ratio\n",
    "X_train, X_test, y_train, y_test = train_test_split(X, y, test_size=0.30 , random_state=1,stratify=y)"
   ]
  },
  {
   "cell_type": "code",
   "execution_count": 388,
   "metadata": {},
   "outputs": [
    {
     "data": {
      "text/plain": [
       "0    0.7\n",
       "1    0.3\n",
       "Name: default, dtype: float64"
      ]
     },
     "execution_count": 388,
     "metadata": {},
     "output_type": "execute_result"
    }
   ],
   "source": [
    "y_train.value_counts(1)"
   ]
  },
  {
   "cell_type": "code",
   "execution_count": 389,
   "metadata": {},
   "outputs": [
    {
     "data": {
      "text/plain": [
       "0    0.7\n",
       "1    0.3\n",
       "Name: default, dtype: float64"
      ]
     },
     "execution_count": 389,
     "metadata": {},
     "output_type": "execute_result"
    }
   ],
   "source": [
    "y_test.value_counts(1)"
   ]
  },
  {
   "cell_type": "markdown",
   "metadata": {},
   "source": [
    "# Logistic Regression"
   ]
  },
  {
   "cell_type": "code",
   "execution_count": 391,
   "metadata": {},
   "outputs": [],
   "source": [
    "from sklearn.linear_model import LogisticRegression"
   ]
  },
  {
   "cell_type": "code",
   "execution_count": 392,
   "metadata": {},
   "outputs": [
    {
     "data": {
      "text/plain": [
       "LogisticRegression()"
      ]
     },
     "execution_count": 392,
     "metadata": {},
     "output_type": "execute_result"
    }
   ],
   "source": [
    "# %%time\n",
    "model = LogisticRegression()\n",
    "model.fit(X_train, y_train)"
   ]
  },
  {
   "cell_type": "code",
   "execution_count": 393,
   "metadata": {},
   "outputs": [],
   "source": [
    "ytrain_predict = model.predict(X_train)\n",
    "ytest_predict = model.predict(X_test)"
   ]
  },
  {
   "cell_type": "code",
   "execution_count": 394,
   "metadata": {},
   "outputs": [
    {
     "data": {
      "text/html": [
       "<div>\n",
       "<style scoped>\n",
       "    .dataframe tbody tr th:only-of-type {\n",
       "        vertical-align: middle;\n",
       "    }\n",
       "\n",
       "    .dataframe tbody tr th {\n",
       "        vertical-align: top;\n",
       "    }\n",
       "\n",
       "    .dataframe thead th {\n",
       "        text-align: right;\n",
       "    }\n",
       "</style>\n",
       "<table border=\"1\" class=\"dataframe\">\n",
       "  <thead>\n",
       "    <tr style=\"text-align: right;\">\n",
       "      <th></th>\n",
       "      <th>0</th>\n",
       "      <th>1</th>\n",
       "    </tr>\n",
       "  </thead>\n",
       "  <tbody>\n",
       "    <tr>\n",
       "      <th>0</th>\n",
       "      <td>0.957240</td>\n",
       "      <td>0.042760</td>\n",
       "    </tr>\n",
       "    <tr>\n",
       "      <th>1</th>\n",
       "      <td>0.170298</td>\n",
       "      <td>0.829702</td>\n",
       "    </tr>\n",
       "    <tr>\n",
       "      <th>2</th>\n",
       "      <td>0.565718</td>\n",
       "      <td>0.434282</td>\n",
       "    </tr>\n",
       "    <tr>\n",
       "      <th>3</th>\n",
       "      <td>0.906552</td>\n",
       "      <td>0.093448</td>\n",
       "    </tr>\n",
       "    <tr>\n",
       "      <th>4</th>\n",
       "      <td>0.816329</td>\n",
       "      <td>0.183671</td>\n",
       "    </tr>\n",
       "  </tbody>\n",
       "</table>\n",
       "</div>"
      ],
      "text/plain": [
       "          0         1\n",
       "0  0.957240  0.042760\n",
       "1  0.170298  0.829702\n",
       "2  0.565718  0.434282\n",
       "3  0.906552  0.093448\n",
       "4  0.816329  0.183671"
      ]
     },
     "execution_count": 394,
     "metadata": {},
     "output_type": "execute_result"
    }
   ],
   "source": [
    "ytest_predict_prob=model.predict_proba(X_test)\n",
    "pd.DataFrame(ytest_predict_prob).head()"
   ]
  },
  {
   "cell_type": "code",
   "execution_count": 395,
   "metadata": {},
   "outputs": [
    {
     "data": {
      "text/plain": [
       "0.8028571428571428"
      ]
     },
     "execution_count": 395,
     "metadata": {},
     "output_type": "execute_result"
    }
   ],
   "source": [
    "# Accuracy - Training Data\n",
    "model.score(X_train, y_train)"
   ]
  },
  {
   "cell_type": "code",
   "execution_count": 397,
   "metadata": {},
   "outputs": [],
   "source": [
    "from sklearn import metrics\n",
    "from sklearn.metrics import roc_auc_score,roc_curve,classification_report,confusion_matrix,plot_confusion_matrix\n",
    "import warnings\n",
    "warnings.simplefilter(action='ignore', category=FutureWarning)"
   ]
  },
  {
   "cell_type": "code",
   "execution_count": 398,
   "metadata": {},
   "outputs": [
    {
     "name": "stdout",
     "output_type": "stream",
     "text": [
      "AUC: 0.853\n"
     ]
    },
    {
     "data": {
      "image/png": "[encoded data removed]",
      "text/plain": [
       "<Figure size 432x288 with 1 Axes>"
      ]
     },
     "metadata": {
      "needs_background": "light"
     },
     "output_type": "display_data"
    }
   ],
   "source": [
    "# predict probabilities\n",
    "probs = model.predict_proba(X_train)\n",
    "# keep probabilities for the positive outcome only\n",
    "probs = probs[:, 1]\n",
    "# calculate AUC\n",
    "auc = roc_auc_score(y_train, probs)\n",
    "print('AUC: %.3f' % auc)\n",
    "# calculate roc curve\n",
    "train_fpr, train_tpr, train_thresholds = roc_curve(y_train, probs)\n",
    "plt.plot([0, 1], [0, 1], linestyle='--')\n",
    "# plot the roc curve for the model\n",
    "plt.plot(train_fpr, train_tpr);"
   ]
  },
  {
   "cell_type": "code",
   "execution_count": 399,
   "metadata": {},
   "outputs": [
    {
     "name": "stdout",
     "output_type": "stream",
     "text": [
      "AUC: 0.853\n"
     ]
    },
    {
     "data": {
      "image/png": "[encoded data removed]",
      "text/plain": [
       "<Figure size 432x288 with 1 Axes>"
      ]
     },
     "metadata": {
      "needs_background": "light"
     },
     "output_type": "display_data"
    }
   ],
   "source": [
    "# predict probabilities\n",
    "probs = model.predict_proba(X_test)\n",
    "# keep probabilities for the positive outcome only\n",
    "probs = probs[:, 1]\n",
    "# calculate AUC\n",
    "test_auc = roc_auc_score(y_test, probs)\n",
    "print('AUC: %.3f' % auc)\n",
    "# calculate roc curve\n",
    "test_fpr, test_tpr, test_thresholds = roc_curve(y_test, probs)\n",
    "plt.plot([0, 1], [0, 1], linestyle='--')\n",
    "# plot the roc curve for the model\n",
    "plt.plot(test_fpr, test_tpr);"
   ]
  },
  {
   "cell_type": "markdown",
   "metadata": {
    "colab_type": "text",
    "id": "2izdT6sxXL1C"
   },
   "source": [
    "### Confusion Matrix for test data"
   ]
  },
  {
   "cell_type": "code",
   "execution_count": 400,
   "metadata": {
    "ExecuteTime": {
     "end_time": "2020-07-31T09:31:30.999610Z",
     "start_time": "2020-07-31T09:31:30.949447Z"
    },
    "colab": {},
    "colab_type": "code",
    "id": "MYv8v5BOXL1E",
    "outputId": "f855f65a-e079-4153-daf8-bd9f9678a92c"
   },
   "outputs": [
    {
     "data": {
      "text/plain": [
       "array([[179,  31],\n",
       "       [ 48,  42]], dtype=int64)"
      ]
     },
     "execution_count": 400,
     "metadata": {},
     "output_type": "execute_result"
    }
   ],
   "source": [
    "confusion_matrix(y_test, ytest_predict)"
   ]
  },
  {
   "cell_type": "code",
   "execution_count": 401,
   "metadata": {
    "ExecuteTime": {
     "end_time": "2020-07-31T09:31:31.633718Z",
     "start_time": "2020-07-31T09:31:31.144634Z"
    }
   },
   "outputs": [
    {
     "data": {
      "image/png": "[encoded data removed]",
      "text/plain": [
       "<Figure size 432x288 with 2 Axes>"
      ]
     },
     "metadata": {
      "needs_background": "light"
     },
     "output_type": "display_data"
    }
   ],
   "source": [
    "plot_confusion_matrix(model,X_test,y_test);"
   ]
  },
  {
   "cell_type": "code",
   "execution_count": 402,
   "metadata": {
    "ExecuteTime": {
     "end_time": "2020-07-31T09:31:31.845843Z",
     "start_time": "2020-07-31T09:31:31.784878Z"
    },
    "colab": {},
    "colab_type": "code",
    "id": "yz9kn6OZXL1a",
    "outputId": "4c7370a2-4212-4538-b50f-ec6e43ea921d"
   },
   "outputs": [
    {
     "name": "stdout",
     "output_type": "stream",
     "text": [
      "              precision    recall  f1-score   support\n",
      "\n",
      "           0       0.79      0.85      0.82       210\n",
      "           1       0.58      0.47      0.52        90\n",
      "\n",
      "    accuracy                           0.74       300\n",
      "   macro avg       0.68      0.66      0.67       300\n",
      "weighted avg       0.72      0.74      0.73       300\n",
      "\n"
     ]
    }
   ],
   "source": [
    "print(classification_report(y_test, ytest_predict))"
   ]
  },
  {
   "cell_type": "markdown",
   "metadata": {},
   "source": [
    "# Ensemble RandomForest Classifier"
   ]
  },
  {
   "cell_type": "code",
   "execution_count": 403,
   "metadata": {},
   "outputs": [],
   "source": [
    "from sklearn.ensemble import RandomForestClassifier"
   ]
  },
  {
   "cell_type": "markdown",
   "metadata": {},
   "source": [
    "## Label Encoding for RF"
   ]
  },
  {
   "cell_type": "code",
   "execution_count": 430,
   "metadata": {},
   "outputs": [
    {
     "data": {
      "text/html": [
       "<div>\n",
       "<style scoped>\n",
       "    .dataframe tbody tr th:only-of-type {\n",
       "        vertical-align: middle;\n",
       "    }\n",
       "\n",
       "    .dataframe tbody tr th {\n",
       "        vertical-align: top;\n",
       "    }\n",
       "\n",
       "    .dataframe thead th {\n",
       "        text-align: right;\n",
       "    }\n",
       "</style>\n",
       "<table border=\"1\" class=\"dataframe\">\n",
       "  <thead>\n",
       "    <tr style=\"text-align: right;\">\n",
       "      <th></th>\n",
       "      <th>default</th>\n",
       "      <th>installment_as_income_perc</th>\n",
       "      <th>present_res_since</th>\n",
       "      <th>people_under_maintenance</th>\n",
       "      <th>duration_in_month_bin</th>\n",
       "      <th>credit_amount_bin</th>\n",
       "      <th>age_bin</th>\n",
       "      <th>credits_this_bank_bin</th>\n",
       "    </tr>\n",
       "  </thead>\n",
       "  <tbody>\n",
       "    <tr>\n",
       "      <th>0</th>\n",
       "      <td>0</td>\n",
       "      <td>4</td>\n",
       "      <td>67</td>\n",
       "      <td>1</td>\n",
       "      <td>(1, 10]</td>\n",
       "      <td>(0, 5000]</td>\n",
       "      <td>(50, 80]</td>\n",
       "      <td>2</td>\n",
       "    </tr>\n",
       "    <tr>\n",
       "      <th>1</th>\n",
       "      <td>1</td>\n",
       "      <td>2</td>\n",
       "      <td>22</td>\n",
       "      <td>1</td>\n",
       "      <td>(40, 80]</td>\n",
       "      <td>(5000, 8000]</td>\n",
       "      <td>(0, 25]</td>\n",
       "      <td>1</td>\n",
       "    </tr>\n",
       "    <tr>\n",
       "      <th>2</th>\n",
       "      <td>0</td>\n",
       "      <td>2</td>\n",
       "      <td>49</td>\n",
       "      <td>2</td>\n",
       "      <td>(10, 25]</td>\n",
       "      <td>(0, 5000]</td>\n",
       "      <td>(35, 50]</td>\n",
       "      <td>1</td>\n",
       "    </tr>\n",
       "    <tr>\n",
       "      <th>3</th>\n",
       "      <td>0</td>\n",
       "      <td>2</td>\n",
       "      <td>45</td>\n",
       "      <td>2</td>\n",
       "      <td>(40, 80]</td>\n",
       "      <td>(5000, 8000]</td>\n",
       "      <td>(35, 50]</td>\n",
       "      <td>1</td>\n",
       "    </tr>\n",
       "    <tr>\n",
       "      <th>4</th>\n",
       "      <td>1</td>\n",
       "      <td>3</td>\n",
       "      <td>53</td>\n",
       "      <td>2</td>\n",
       "      <td>(10, 25]</td>\n",
       "      <td>(0, 5000]</td>\n",
       "      <td>(50, 80]</td>\n",
       "      <td>2</td>\n",
       "    </tr>\n",
       "  </tbody>\n",
       "</table>\n",
       "</div>"
      ],
      "text/plain": [
       "   default installment_as_income_perc present_res_since  \\\n",
       "0  0        4                          67                 \n",
       "1  1        2                          22                 \n",
       "2  0        2                          49                 \n",
       "3  0        2                          45                 \n",
       "4  1        3                          53                 \n",
       "\n",
       "   people_under_maintenance duration_in_month_bin credit_amount_bin   age_bin  \\\n",
       "0  1                         (1, 10]               (0, 5000]         (50, 80]   \n",
       "1  1                         (40, 80]              (5000, 8000]      (0, 25]    \n",
       "2  2                         (10, 25]              (0, 5000]         (35, 50]   \n",
       "3  2                         (40, 80]              (5000, 8000]      (35, 50]   \n",
       "4  2                         (10, 25]              (0, 5000]         (50, 80]   \n",
       "\n",
       "   credits_this_bank_bin  \n",
       "0  2                      \n",
       "1  1                      \n",
       "2  1                      \n",
       "3  1                      \n",
       "4  2                      "
      ]
     },
     "execution_count": 430,
     "metadata": {},
     "output_type": "execute_result"
    }
   ],
   "source": [
    "num_data_final.head()"
   ]
  },
  {
   "cell_type": "code",
   "execution_count": 431,
   "metadata": {},
   "outputs": [
    {
     "data": {
      "text/plain": [
       "['duration_in_month_bin', 'credit_amount_bin', 'age_bin']"
      ]
     },
     "execution_count": 431,
     "metadata": {},
     "output_type": "execute_result"
    }
   ],
   "source": [
    "num_data_final_cols = ['duration_in_month_bin','credit_amount_bin','age_bin']\n",
    "num_data_final_cols"
   ]
  },
  {
   "cell_type": "code",
   "execution_count": 435,
   "metadata": {},
   "outputs": [],
   "source": [
    "num_data_final['duration_in_month_bin'] = pd.Categorical(num_data_final['duration_in_month_bin']).codes\n",
    "num_data_final['credit_amount_bin'] = pd.Categorical(num_data_final['credit_amount_bin']).codes\n",
    "num_data_final['age_bin'] = pd.Categorical(num_data_final['age_bin']).codes"
   ]
  },
  {
   "cell_type": "code",
   "execution_count": 436,
   "metadata": {},
   "outputs": [
    {
     "data": {
      "text/html": [
       "<div>\n",
       "<style scoped>\n",
       "    .dataframe tbody tr th:only-of-type {\n",
       "        vertical-align: middle;\n",
       "    }\n",
       "\n",
       "    .dataframe tbody tr th {\n",
       "        vertical-align: top;\n",
       "    }\n",
       "\n",
       "    .dataframe thead th {\n",
       "        text-align: right;\n",
       "    }\n",
       "</style>\n",
       "<table border=\"1\" class=\"dataframe\">\n",
       "  <thead>\n",
       "    <tr style=\"text-align: right;\">\n",
       "      <th></th>\n",
       "      <th>default</th>\n",
       "      <th>installment_as_income_perc</th>\n",
       "      <th>present_res_since</th>\n",
       "      <th>people_under_maintenance</th>\n",
       "      <th>duration_in_month_bin</th>\n",
       "      <th>credit_amount_bin</th>\n",
       "      <th>age_bin</th>\n",
       "      <th>credits_this_bank_bin</th>\n",
       "    </tr>\n",
       "  </thead>\n",
       "  <tbody>\n",
       "    <tr>\n",
       "      <th>0</th>\n",
       "      <td>0</td>\n",
       "      <td>4</td>\n",
       "      <td>67</td>\n",
       "      <td>1</td>\n",
       "      <td>0</td>\n",
       "      <td>0</td>\n",
       "      <td>3</td>\n",
       "      <td>2</td>\n",
       "    </tr>\n",
       "    <tr>\n",
       "      <th>1</th>\n",
       "      <td>1</td>\n",
       "      <td>2</td>\n",
       "      <td>22</td>\n",
       "      <td>1</td>\n",
       "      <td>3</td>\n",
       "      <td>1</td>\n",
       "      <td>0</td>\n",
       "      <td>1</td>\n",
       "    </tr>\n",
       "    <tr>\n",
       "      <th>2</th>\n",
       "      <td>0</td>\n",
       "      <td>2</td>\n",
       "      <td>49</td>\n",
       "      <td>2</td>\n",
       "      <td>1</td>\n",
       "      <td>0</td>\n",
       "      <td>2</td>\n",
       "      <td>1</td>\n",
       "    </tr>\n",
       "    <tr>\n",
       "      <th>3</th>\n",
       "      <td>0</td>\n",
       "      <td>2</td>\n",
       "      <td>45</td>\n",
       "      <td>2</td>\n",
       "      <td>3</td>\n",
       "      <td>1</td>\n",
       "      <td>2</td>\n",
       "      <td>1</td>\n",
       "    </tr>\n",
       "    <tr>\n",
       "      <th>4</th>\n",
       "      <td>1</td>\n",
       "      <td>3</td>\n",
       "      <td>53</td>\n",
       "      <td>2</td>\n",
       "      <td>1</td>\n",
       "      <td>0</td>\n",
       "      <td>3</td>\n",
       "      <td>2</td>\n",
       "    </tr>\n",
       "  </tbody>\n",
       "</table>\n",
       "</div>"
      ],
      "text/plain": [
       "   default installment_as_income_perc present_res_since  \\\n",
       "0  0        4                          67                 \n",
       "1  1        2                          22                 \n",
       "2  0        2                          49                 \n",
       "3  0        2                          45                 \n",
       "4  1        3                          53                 \n",
       "\n",
       "   people_under_maintenance  duration_in_month_bin  credit_amount_bin  \\\n",
       "0  1                         0                      0                   \n",
       "1  1                         3                      1                   \n",
       "2  2                         1                      0                   \n",
       "3  2                         3                      1                   \n",
       "4  2                         1                      0                   \n",
       "\n",
       "   age_bin  credits_this_bank_bin  \n",
       "0  3        2                      \n",
       "1  0        1                      \n",
       "2  2        1                      \n",
       "3  2        1                      \n",
       "4  3        2                      "
      ]
     },
     "execution_count": 436,
     "metadata": {},
     "output_type": "execute_result"
    }
   ],
   "source": [
    "num_data_final.head()"
   ]
  },
  {
   "cell_type": "markdown",
   "metadata": {},
   "source": [
    "## Categorical Data"
   ]
  },
  {
   "cell_type": "code",
   "execution_count": 438,
   "metadata": {},
   "outputs": [
    {
     "data": {
      "text/html": [
       "<div>\n",
       "<style scoped>\n",
       "    .dataframe tbody tr th:only-of-type {\n",
       "        vertical-align: middle;\n",
       "    }\n",
       "\n",
       "    .dataframe tbody tr th {\n",
       "        vertical-align: top;\n",
       "    }\n",
       "\n",
       "    .dataframe thead th {\n",
       "        text-align: right;\n",
       "    }\n",
       "</style>\n",
       "<table border=\"1\" class=\"dataframe\">\n",
       "  <thead>\n",
       "    <tr style=\"text-align: right;\">\n",
       "      <th></th>\n",
       "      <th>account_check_status</th>\n",
       "      <th>credit_history</th>\n",
       "      <th>purpose</th>\n",
       "      <th>savings</th>\n",
       "      <th>present_emp_since</th>\n",
       "      <th>personal_status_sex</th>\n",
       "      <th>other_debtors</th>\n",
       "      <th>property</th>\n",
       "      <th>other_installment_plans</th>\n",
       "      <th>housing</th>\n",
       "      <th>job</th>\n",
       "      <th>telephone</th>\n",
       "      <th>foreign_worker</th>\n",
       "    </tr>\n",
       "  </thead>\n",
       "  <tbody>\n",
       "    <tr>\n",
       "      <th>0</th>\n",
       "      <td>&lt; 0 DM</td>\n",
       "      <td>critical account/ other credits existing (not at this bank)</td>\n",
       "      <td>domestic appliances</td>\n",
       "      <td>unknown/ no savings account</td>\n",
       "      <td>.. &gt;= 7 years</td>\n",
       "      <td>male : single</td>\n",
       "      <td>none</td>\n",
       "      <td>real estate</td>\n",
       "      <td>none</td>\n",
       "      <td>own</td>\n",
       "      <td>skilled employee / official</td>\n",
       "      <td>yes, registered under the customers name</td>\n",
       "      <td>yes</td>\n",
       "    </tr>\n",
       "    <tr>\n",
       "      <th>1</th>\n",
       "      <td>0 &lt;= ... &lt; 200 DM</td>\n",
       "      <td>existing credits paid back duly till now</td>\n",
       "      <td>domestic appliances</td>\n",
       "      <td>... &lt; 100 DM</td>\n",
       "      <td>1 &lt;= ... &lt; 4 years</td>\n",
       "      <td>female : divorced/separated/married</td>\n",
       "      <td>none</td>\n",
       "      <td>real estate</td>\n",
       "      <td>none</td>\n",
       "      <td>own</td>\n",
       "      <td>skilled employee / official</td>\n",
       "      <td>none</td>\n",
       "      <td>yes</td>\n",
       "    </tr>\n",
       "    <tr>\n",
       "      <th>2</th>\n",
       "      <td>no checking account</td>\n",
       "      <td>critical account/ other credits existing (not at this bank)</td>\n",
       "      <td>(vacation - does not exist?)</td>\n",
       "      <td>... &lt; 100 DM</td>\n",
       "      <td>4 &lt;= ... &lt; 7 years</td>\n",
       "      <td>male : single</td>\n",
       "      <td>none</td>\n",
       "      <td>real estate</td>\n",
       "      <td>none</td>\n",
       "      <td>own</td>\n",
       "      <td>unskilled - resident</td>\n",
       "      <td>none</td>\n",
       "      <td>yes</td>\n",
       "    </tr>\n",
       "    <tr>\n",
       "      <th>3</th>\n",
       "      <td>&lt; 0 DM</td>\n",
       "      <td>existing credits paid back duly till now</td>\n",
       "      <td>radio/television</td>\n",
       "      <td>... &lt; 100 DM</td>\n",
       "      <td>4 &lt;= ... &lt; 7 years</td>\n",
       "      <td>male : single</td>\n",
       "      <td>guarantor</td>\n",
       "      <td>if not A121 : building society savings agreement/ life insurance</td>\n",
       "      <td>none</td>\n",
       "      <td>for free</td>\n",
       "      <td>skilled employee / official</td>\n",
       "      <td>none</td>\n",
       "      <td>yes</td>\n",
       "    </tr>\n",
       "    <tr>\n",
       "      <th>4</th>\n",
       "      <td>&lt; 0 DM</td>\n",
       "      <td>delay in paying off in the past</td>\n",
       "      <td>car (new)</td>\n",
       "      <td>... &lt; 100 DM</td>\n",
       "      <td>1 &lt;= ... &lt; 4 years</td>\n",
       "      <td>male : single</td>\n",
       "      <td>none</td>\n",
       "      <td>unknown / no property</td>\n",
       "      <td>none</td>\n",
       "      <td>for free</td>\n",
       "      <td>skilled employee / official</td>\n",
       "      <td>none</td>\n",
       "      <td>yes</td>\n",
       "    </tr>\n",
       "  </tbody>\n",
       "</table>\n",
       "</div>"
      ],
      "text/plain": [
       "  account_check_status  \\\n",
       "0  < 0 DM                \n",
       "1  0 <= ... < 200 DM     \n",
       "2  no checking account   \n",
       "3  < 0 DM                \n",
       "4  < 0 DM                \n",
       "\n",
       "                                                credit_history  \\\n",
       "0  critical account/ other credits existing (not at this bank)   \n",
       "1  existing credits paid back duly till now                      \n",
       "2  critical account/ other credits existing (not at this bank)   \n",
       "3  existing credits paid back duly till now                      \n",
       "4  delay in paying off in the past                               \n",
       "\n",
       "                        purpose                      savings  \\\n",
       "0  domestic appliances           unknown/ no savings account   \n",
       "1  domestic appliances           ... < 100 DM                  \n",
       "2  (vacation - does not exist?)  ... < 100 DM                  \n",
       "3  radio/television              ... < 100 DM                  \n",
       "4  car (new)                     ... < 100 DM                  \n",
       "\n",
       "    present_emp_since                  personal_status_sex other_debtors  \\\n",
       "0  .. >= 7 years       male : single                        none           \n",
       "1  1 <= ... < 4 years  female : divorced/separated/married  none           \n",
       "2  4 <= ... < 7 years  male : single                        none           \n",
       "3  4 <= ... < 7 years  male : single                        guarantor      \n",
       "4  1 <= ... < 4 years  male : single                        none           \n",
       "\n",
       "                                                           property  \\\n",
       "0  real estate                                                        \n",
       "1  real estate                                                        \n",
       "2  real estate                                                        \n",
       "3  if not A121 : building society savings agreement/ life insurance   \n",
       "4  unknown / no property                                              \n",
       "\n",
       "  other_installment_plans   housing                          job  \\\n",
       "0  none                    own       skilled employee / official   \n",
       "1  none                    own       skilled employee / official   \n",
       "2  none                    own       unskilled - resident          \n",
       "3  none                    for free  skilled employee / official   \n",
       "4  none                    for free  skilled employee / official   \n",
       "\n",
       "                                   telephone foreign_worker  \n",
       "0  yes, registered under the customers name   yes            \n",
       "1  none                                       yes            \n",
       "2  none                                       yes            \n",
       "3  none                                       yes            \n",
       "4  none                                       yes            "
      ]
     },
     "execution_count": 438,
     "metadata": {},
     "output_type": "execute_result"
    }
   ],
   "source": [
    "cat_data.head()"
   ]
  },
  {
   "cell_type": "code",
   "execution_count": 439,
   "metadata": {},
   "outputs": [],
   "source": [
    "for feature in cat_data.columns:\n",
    "    if cat_data[feature].dtype =='object':\n",
    "        cat_data[feature] = pd.Categorical(cat_data[feature]).codes"
   ]
  },
  {
   "cell_type": "code",
   "execution_count": 440,
   "metadata": {},
   "outputs": [
    {
     "data": {
      "text/html": [
       "<div>\n",
       "<style scoped>\n",
       "    .dataframe tbody tr th:only-of-type {\n",
       "        vertical-align: middle;\n",
       "    }\n",
       "\n",
       "    .dataframe tbody tr th {\n",
       "        vertical-align: top;\n",
       "    }\n",
       "\n",
       "    .dataframe thead th {\n",
       "        text-align: right;\n",
       "    }\n",
       "</style>\n",
       "<table border=\"1\" class=\"dataframe\">\n",
       "  <thead>\n",
       "    <tr style=\"text-align: right;\">\n",
       "      <th></th>\n",
       "      <th>account_check_status</th>\n",
       "      <th>credit_history</th>\n",
       "      <th>purpose</th>\n",
       "      <th>savings</th>\n",
       "      <th>present_emp_since</th>\n",
       "      <th>personal_status_sex</th>\n",
       "      <th>other_debtors</th>\n",
       "      <th>property</th>\n",
       "      <th>other_installment_plans</th>\n",
       "      <th>housing</th>\n",
       "      <th>job</th>\n",
       "      <th>telephone</th>\n",
       "      <th>foreign_worker</th>\n",
       "    </tr>\n",
       "  </thead>\n",
       "  <tbody>\n",
       "    <tr>\n",
       "      <th>0</th>\n",
       "      <td>1</td>\n",
       "      <td>1</td>\n",
       "      <td>4</td>\n",
       "      <td>4</td>\n",
       "      <td>0</td>\n",
       "      <td>3</td>\n",
       "      <td>2</td>\n",
       "      <td>2</td>\n",
       "      <td>1</td>\n",
       "      <td>1</td>\n",
       "      <td>1</td>\n",
       "      <td>1</td>\n",
       "      <td>1</td>\n",
       "    </tr>\n",
       "    <tr>\n",
       "      <th>1</th>\n",
       "      <td>0</td>\n",
       "      <td>3</td>\n",
       "      <td>4</td>\n",
       "      <td>1</td>\n",
       "      <td>2</td>\n",
       "      <td>0</td>\n",
       "      <td>2</td>\n",
       "      <td>2</td>\n",
       "      <td>1</td>\n",
       "      <td>1</td>\n",
       "      <td>1</td>\n",
       "      <td>0</td>\n",
       "      <td>1</td>\n",
       "    </tr>\n",
       "    <tr>\n",
       "      <th>2</th>\n",
       "      <td>3</td>\n",
       "      <td>1</td>\n",
       "      <td>0</td>\n",
       "      <td>1</td>\n",
       "      <td>3</td>\n",
       "      <td>3</td>\n",
       "      <td>2</td>\n",
       "      <td>2</td>\n",
       "      <td>1</td>\n",
       "      <td>1</td>\n",
       "      <td>3</td>\n",
       "      <td>0</td>\n",
       "      <td>1</td>\n",
       "    </tr>\n",
       "    <tr>\n",
       "      <th>3</th>\n",
       "      <td>1</td>\n",
       "      <td>3</td>\n",
       "      <td>7</td>\n",
       "      <td>1</td>\n",
       "      <td>3</td>\n",
       "      <td>3</td>\n",
       "      <td>1</td>\n",
       "      <td>0</td>\n",
       "      <td>1</td>\n",
       "      <td>0</td>\n",
       "      <td>1</td>\n",
       "      <td>0</td>\n",
       "      <td>1</td>\n",
       "    </tr>\n",
       "    <tr>\n",
       "      <th>4</th>\n",
       "      <td>1</td>\n",
       "      <td>2</td>\n",
       "      <td>2</td>\n",
       "      <td>1</td>\n",
       "      <td>2</td>\n",
       "      <td>3</td>\n",
       "      <td>2</td>\n",
       "      <td>3</td>\n",
       "      <td>1</td>\n",
       "      <td>0</td>\n",
       "      <td>1</td>\n",
       "      <td>0</td>\n",
       "      <td>1</td>\n",
       "    </tr>\n",
       "  </tbody>\n",
       "</table>\n",
       "</div>"
      ],
      "text/plain": [
       "   account_check_status  credit_history  purpose  savings  present_emp_since  \\\n",
       "0  1                     1               4        4        0                   \n",
       "1  0                     3               4        1        2                   \n",
       "2  3                     1               0        1        3                   \n",
       "3  1                     3               7        1        3                   \n",
       "4  1                     2               2        1        2                   \n",
       "\n",
       "   personal_status_sex  other_debtors  property  other_installment_plans  \\\n",
       "0  3                    2              2         1                         \n",
       "1  0                    2              2         1                         \n",
       "2  3                    2              2         1                         \n",
       "3  3                    1              0         1                         \n",
       "4  3                    2              3         1                         \n",
       "\n",
       "   housing  job  telephone  foreign_worker  \n",
       "0  1        1    1          1               \n",
       "1  1        1    0          1               \n",
       "2  1        3    0          1               \n",
       "3  0        1    0          1               \n",
       "4  0        1    0          1               "
      ]
     },
     "execution_count": 440,
     "metadata": {},
     "output_type": "execute_result"
    }
   ],
   "source": [
    "cat_data.head()"
   ]
  },
  {
   "cell_type": "code",
   "execution_count": 441,
   "metadata": {},
   "outputs": [
    {
     "data": {
      "text/html": [
       "<div>\n",
       "<style scoped>\n",
       "    .dataframe tbody tr th:only-of-type {\n",
       "        vertical-align: middle;\n",
       "    }\n",
       "\n",
       "    .dataframe tbody tr th {\n",
       "        vertical-align: top;\n",
       "    }\n",
       "\n",
       "    .dataframe thead th {\n",
       "        text-align: right;\n",
       "    }\n",
       "</style>\n",
       "<table border=\"1\" class=\"dataframe\">\n",
       "  <thead>\n",
       "    <tr style=\"text-align: right;\">\n",
       "      <th></th>\n",
       "      <th>default</th>\n",
       "      <th>installment_as_income_perc</th>\n",
       "      <th>present_res_since</th>\n",
       "      <th>people_under_maintenance</th>\n",
       "      <th>duration_in_month_bin</th>\n",
       "      <th>credit_amount_bin</th>\n",
       "      <th>age_bin</th>\n",
       "      <th>credits_this_bank_bin</th>\n",
       "      <th>account_check_status</th>\n",
       "      <th>credit_history</th>\n",
       "      <th>purpose</th>\n",
       "      <th>savings</th>\n",
       "      <th>present_emp_since</th>\n",
       "      <th>personal_status_sex</th>\n",
       "      <th>other_debtors</th>\n",
       "      <th>property</th>\n",
       "      <th>other_installment_plans</th>\n",
       "      <th>housing</th>\n",
       "      <th>job</th>\n",
       "      <th>telephone</th>\n",
       "      <th>foreign_worker</th>\n",
       "    </tr>\n",
       "  </thead>\n",
       "  <tbody>\n",
       "    <tr>\n",
       "      <th>0</th>\n",
       "      <td>0</td>\n",
       "      <td>4</td>\n",
       "      <td>67</td>\n",
       "      <td>1</td>\n",
       "      <td>0</td>\n",
       "      <td>0</td>\n",
       "      <td>3</td>\n",
       "      <td>2</td>\n",
       "      <td>1</td>\n",
       "      <td>1</td>\n",
       "      <td>4</td>\n",
       "      <td>4</td>\n",
       "      <td>0</td>\n",
       "      <td>3</td>\n",
       "      <td>2</td>\n",
       "      <td>2</td>\n",
       "      <td>1</td>\n",
       "      <td>1</td>\n",
       "      <td>1</td>\n",
       "      <td>1</td>\n",
       "      <td>1</td>\n",
       "    </tr>\n",
       "    <tr>\n",
       "      <th>1</th>\n",
       "      <td>1</td>\n",
       "      <td>2</td>\n",
       "      <td>22</td>\n",
       "      <td>1</td>\n",
       "      <td>3</td>\n",
       "      <td>1</td>\n",
       "      <td>0</td>\n",
       "      <td>1</td>\n",
       "      <td>0</td>\n",
       "      <td>3</td>\n",
       "      <td>4</td>\n",
       "      <td>1</td>\n",
       "      <td>2</td>\n",
       "      <td>0</td>\n",
       "      <td>2</td>\n",
       "      <td>2</td>\n",
       "      <td>1</td>\n",
       "      <td>1</td>\n",
       "      <td>1</td>\n",
       "      <td>0</td>\n",
       "      <td>1</td>\n",
       "    </tr>\n",
       "    <tr>\n",
       "      <th>2</th>\n",
       "      <td>0</td>\n",
       "      <td>2</td>\n",
       "      <td>49</td>\n",
       "      <td>2</td>\n",
       "      <td>1</td>\n",
       "      <td>0</td>\n",
       "      <td>2</td>\n",
       "      <td>1</td>\n",
       "      <td>3</td>\n",
       "      <td>1</td>\n",
       "      <td>0</td>\n",
       "      <td>1</td>\n",
       "      <td>3</td>\n",
       "      <td>3</td>\n",
       "      <td>2</td>\n",
       "      <td>2</td>\n",
       "      <td>1</td>\n",
       "      <td>1</td>\n",
       "      <td>3</td>\n",
       "      <td>0</td>\n",
       "      <td>1</td>\n",
       "    </tr>\n",
       "    <tr>\n",
       "      <th>3</th>\n",
       "      <td>0</td>\n",
       "      <td>2</td>\n",
       "      <td>45</td>\n",
       "      <td>2</td>\n",
       "      <td>3</td>\n",
       "      <td>1</td>\n",
       "      <td>2</td>\n",
       "      <td>1</td>\n",
       "      <td>1</td>\n",
       "      <td>3</td>\n",
       "      <td>7</td>\n",
       "      <td>1</td>\n",
       "      <td>3</td>\n",
       "      <td>3</td>\n",
       "      <td>1</td>\n",
       "      <td>0</td>\n",
       "      <td>1</td>\n",
       "      <td>0</td>\n",
       "      <td>1</td>\n",
       "      <td>0</td>\n",
       "      <td>1</td>\n",
       "    </tr>\n",
       "    <tr>\n",
       "      <th>4</th>\n",
       "      <td>1</td>\n",
       "      <td>3</td>\n",
       "      <td>53</td>\n",
       "      <td>2</td>\n",
       "      <td>1</td>\n",
       "      <td>0</td>\n",
       "      <td>3</td>\n",
       "      <td>2</td>\n",
       "      <td>1</td>\n",
       "      <td>2</td>\n",
       "      <td>2</td>\n",
       "      <td>1</td>\n",
       "      <td>2</td>\n",
       "      <td>3</td>\n",
       "      <td>2</td>\n",
       "      <td>3</td>\n",
       "      <td>1</td>\n",
       "      <td>0</td>\n",
       "      <td>1</td>\n",
       "      <td>0</td>\n",
       "      <td>1</td>\n",
       "    </tr>\n",
       "  </tbody>\n",
       "</table>\n",
       "</div>"
      ],
      "text/plain": [
       "   default installment_as_income_perc present_res_since  \\\n",
       "0  0        4                          67                 \n",
       "1  1        2                          22                 \n",
       "2  0        2                          49                 \n",
       "3  0        2                          45                 \n",
       "4  1        3                          53                 \n",
       "\n",
       "   people_under_maintenance  duration_in_month_bin  credit_amount_bin  \\\n",
       "0  1                         0                      0                   \n",
       "1  1                         3                      1                   \n",
       "2  2                         1                      0                   \n",
       "3  2                         3                      1                   \n",
       "4  2                         1                      0                   \n",
       "\n",
       "   age_bin  credits_this_bank_bin  account_check_status  credit_history  \\\n",
       "0  3        2                      1                     1                \n",
       "1  0        1                      0                     3                \n",
       "2  2        1                      3                     1                \n",
       "3  2        1                      1                     3                \n",
       "4  3        2                      1                     2                \n",
       "\n",
       "   purpose  savings  present_emp_since  personal_status_sex  other_debtors  \\\n",
       "0  4        4        0                  3                    2               \n",
       "1  4        1        2                  0                    2               \n",
       "2  0        1        3                  3                    2               \n",
       "3  7        1        3                  3                    1               \n",
       "4  2        1        2                  3                    2               \n",
       "\n",
       "   property  other_installment_plans  housing  job  telephone  foreign_worker  \n",
       "0  2         1                        1        1    1          1               \n",
       "1  2         1                        1        1    0          1               \n",
       "2  2         1                        1        3    0          1               \n",
       "3  0         1                        0        1    0          1               \n",
       "4  3         1                        0        1    0          1               "
      ]
     },
     "execution_count": 441,
     "metadata": {},
     "output_type": "execute_result"
    }
   ],
   "source": [
    "final_data_prep = pd.concat([num_data_final,cat_data],axis=1)\n",
    "final_data_prep.head()"
   ]
  },
  {
   "cell_type": "code",
   "execution_count": 442,
   "metadata": {},
   "outputs": [],
   "source": [
    "# Copy all the predictor variables into X dataframe\n",
    "X = final_data_prep.drop('default', axis=1)\n",
    "\n",
    "# Copy target into the y dataframe. \n",
    "y = final_data_prep.pop('default')"
   ]
  },
  {
   "cell_type": "code",
   "execution_count": 443,
   "metadata": {},
   "outputs": [],
   "source": [
    "# Split X and y into training and test set in 70:30 ratio\n",
    "X_train, X_test, y_train, y_test = train_test_split(X, y, test_size=0.30 , random_state=1,stratify=y)"
   ]
  },
  {
   "cell_type": "code",
   "execution_count": 444,
   "metadata": {},
   "outputs": [
    {
     "data": {
      "text/plain": [
       "0    0.7\n",
       "1    0.3\n",
       "Name: default, dtype: float64"
      ]
     },
     "execution_count": 444,
     "metadata": {},
     "output_type": "execute_result"
    }
   ],
   "source": [
    "y_train.value_counts(1)"
   ]
  },
  {
   "cell_type": "code",
   "execution_count": 445,
   "metadata": {},
   "outputs": [
    {
     "data": {
      "text/plain": [
       "0    0.7\n",
       "1    0.3\n",
       "Name: default, dtype: float64"
      ]
     },
     "execution_count": 445,
     "metadata": {},
     "output_type": "execute_result"
    }
   ],
   "source": [
    "y_test.value_counts(1)"
   ]
  },
  {
   "cell_type": "code",
   "execution_count": 446,
   "metadata": {},
   "outputs": [],
   "source": [
    "#Let us time every cell\n",
    "import time"
   ]
  },
  {
   "cell_type": "code",
   "execution_count": 447,
   "metadata": {},
   "outputs": [
    {
     "data": {
      "text/plain": [
       "RandomForestClassifier(max_features=6, random_state=1)"
      ]
     },
     "execution_count": 447,
     "metadata": {},
     "output_type": "execute_result"
    }
   ],
   "source": [
    "rfc1 = RandomForestClassifier(n_estimators=100,max_features = 6,random_state=1)\n",
    "rfc1"
   ]
  },
  {
   "cell_type": "code",
   "execution_count": 448,
   "metadata": {},
   "outputs": [
    {
     "data": {
      "text/plain": [
       "RandomForestClassifier(max_features=6, random_state=1)"
      ]
     },
     "execution_count": 448,
     "metadata": {},
     "output_type": "execute_result"
    },
    {
     "name": "stdout",
     "output_type": "stream",
     "text": [
      "Total Time taken is  0.27407407760620117 seconds\n"
     ]
    }
   ],
   "source": [
    "start = time.time()\n",
    "\n",
    "rfc1.fit(X_train,y_train)\n",
    "\n",
    "end = time.time()\n",
    "print(\"Total Time taken is \",(end - start), \"seconds\")"
   ]
  },
  {
   "cell_type": "code",
   "execution_count": 449,
   "metadata": {
    "scrolled": true
   },
   "outputs": [
    {
     "name": "stdout",
     "output_type": "stream",
     "text": [
      "Total Time taken is 0.043996572494506836 seconds\n"
     ]
    }
   ],
   "source": [
    "start = time.time()\n",
    "\n",
    "ytrain_predict = rfc1.predict(X_train)\n",
    "ytest_predict = rfc1.predict(X_test)\n",
    "\n",
    "end = time.time()\n",
    "print(\"Total Time taken is\",(end - start),\"seconds\")"
   ]
  },
  {
   "cell_type": "markdown",
   "metadata": {},
   "source": [
    "## Train Accuracy"
   ]
  },
  {
   "cell_type": "code",
   "execution_count": 450,
   "metadata": {},
   "outputs": [
    {
     "name": "stdout",
     "output_type": "stream",
     "text": [
      "1.0\n",
      "Total Time taken is 0.0330502986907959 seconds\n"
     ]
    }
   ],
   "source": [
    "start = time.time()\n",
    "\n",
    "print(rfc1.score(X_train,y_train))\n",
    "\n",
    "end = time.time()\n",
    "print(\"Total Time taken is\",(end - start),\"seconds\")"
   ]
  },
  {
   "cell_type": "markdown",
   "metadata": {},
   "source": [
    "### Evaluating model performance with confusion matrix"
   ]
  },
  {
   "cell_type": "code",
   "execution_count": 451,
   "metadata": {},
   "outputs": [],
   "source": [
    "from sklearn.metrics import confusion_matrix, classification_report,plot_confusion_matrix"
   ]
  },
  {
   "cell_type": "code",
   "execution_count": 452,
   "metadata": {},
   "outputs": [
    {
     "data": {
      "image/png": "[encoded data removed]",
      "text/plain": [
       "<Figure size 432x288 with 2 Axes>"
      ]
     },
     "metadata": {
      "needs_background": "light"
     },
     "output_type": "display_data"
    }
   ],
   "source": [
    "# Let us check how well our model is predicting 1's and 0's \n",
    "plot_confusion_matrix(rfc1,X_train,y_train)\n",
    "plt.show();"
   ]
  },
  {
   "cell_type": "markdown",
   "metadata": {},
   "source": [
    "Model is doing really good job in predicting 1's and 0's on training data"
   ]
  },
  {
   "cell_type": "code",
   "execution_count": 453,
   "metadata": {},
   "outputs": [
    {
     "name": "stdout",
     "output_type": "stream",
     "text": [
      "              precision    recall  f1-score   support\n",
      "\n",
      "           0       1.00      1.00      1.00       490\n",
      "           1       1.00      1.00      1.00       210\n",
      "\n",
      "    accuracy                           1.00       700\n",
      "   macro avg       1.00      1.00      1.00       700\n",
      "weighted avg       1.00      1.00      1.00       700\n",
      "\n"
     ]
    }
   ],
   "source": [
    "print(classification_report(y_train, ytrain_predict))"
   ]
  },
  {
   "cell_type": "markdown",
   "metadata": {},
   "source": [
    "Precision and Recall rate is also 100%"
   ]
  },
  {
   "cell_type": "markdown",
   "metadata": {},
   "source": [
    "## Test Accuracy"
   ]
  },
  {
   "cell_type": "code",
   "execution_count": 454,
   "metadata": {},
   "outputs": [
    {
     "data": {
      "text/plain": [
       "0.7233333333333334"
      ]
     },
     "execution_count": 454,
     "metadata": {},
     "output_type": "execute_result"
    }
   ],
   "source": [
    "rfc1.score(X_test,y_test)"
   ]
  },
  {
   "cell_type": "code",
   "execution_count": 455,
   "metadata": {},
   "outputs": [
    {
     "data": {
      "text/plain": [
       "<sklearn.metrics._plot.confusion_matrix.ConfusionMatrixDisplay at 0x162538f9490>"
      ]
     },
     "execution_count": 455,
     "metadata": {},
     "output_type": "execute_result"
    },
    {
     "data": {
      "image/png": "[encoded data removed]",
      "text/plain": [
       "<Figure size 432x288 with 2 Axes>"
      ]
     },
     "metadata": {
      "needs_background": "light"
     },
     "output_type": "display_data"
    }
   ],
   "source": [
    "plot_confusion_matrix(rfc1,X_test,y_test)"
   ]
  },
  {
   "cell_type": "code",
   "execution_count": 456,
   "metadata": {},
   "outputs": [
    {
     "name": "stdout",
     "output_type": "stream",
     "text": [
      "              precision    recall  f1-score   support\n",
      "\n",
      "           0       0.76      0.88      0.82       210\n",
      "           1       0.56      0.36      0.44        90\n",
      "\n",
      "    accuracy                           0.72       300\n",
      "   macro avg       0.66      0.62      0.63       300\n",
      "weighted avg       0.70      0.72      0.70       300\n",
      "\n"
     ]
    }
   ],
   "source": [
    "print(classification_report(y_test,ytest_predict))"
   ]
  },
  {
   "cell_type": "markdown",
   "metadata": {},
   "source": [
    "We can clearly see here that model is doing well on the training data but doing poorly on test data a perfect scenario of overfitting here in our base model. Let us move to other techniques to handle overfitting "
   ]
  },
  {
   "cell_type": "markdown",
   "metadata": {},
   "source": [
    "AUC is coming better than accuracy in test dataset - Overall its a good model. Let us try to tune our model with hyperparameters to remove overfitting scenario"
   ]
  },
  {
   "cell_type": "markdown",
   "metadata": {},
   "source": [
    "## RandomizedSearchCV"
   ]
  },
  {
   "cell_type": "code",
   "execution_count": 457,
   "metadata": {},
   "outputs": [],
   "source": [
    "from sklearn.model_selection import RandomizedSearchCV,GridSearchCV"
   ]
  },
  {
   "cell_type": "code",
   "execution_count": 458,
   "metadata": {},
   "outputs": [],
   "source": [
    "n_estimators = [100,200,300]\n",
    "max_depth = [3,4,5]\n",
    "min_samples_split = [2,5,10]"
   ]
  },
  {
   "cell_type": "code",
   "execution_count": 459,
   "metadata": {},
   "outputs": [
    {
     "name": "stdout",
     "output_type": "stream",
     "text": [
      "{'n_estimators': [100, 200, 300], 'max_depth': [3, 4, 5], 'min_samples_split': [2, 5, 10]}\n"
     ]
    }
   ],
   "source": [
    "param_grid = {\n",
    "    'n_estimators': n_estimators,\n",
    "    'max_depth': max_depth,\n",
    "    'min_samples_split':min_samples_split\n",
    "    }\n",
    "print(param_grid)"
   ]
  },
  {
   "cell_type": "code",
   "execution_count": 460,
   "metadata": {},
   "outputs": [
    {
     "name": "stdout",
     "output_type": "stream",
     "text": [
      "Fitting 5 folds for each of 10 candidates, totalling 50 fits\n"
     ]
    },
    {
     "name": "stderr",
     "output_type": "stream",
     "text": [
      "[Parallel(n_jobs=4)]: Using backend LokyBackend with 4 concurrent workers.\n",
      "[Parallel(n_jobs=4)]: Done  42 tasks      | elapsed:   10.0s\n",
      "[Parallel(n_jobs=4)]: Done  50 out of  50 | elapsed:   11.5s finished\n"
     ]
    },
    {
     "data": {
      "text/plain": [
       "RandomizedSearchCV(cv=5,\n",
       "                   estimator=RandomForestClassifier(max_features=6,\n",
       "                                                    random_state=1),\n",
       "                   n_jobs=4,\n",
       "                   param_distributions={'max_depth': [3, 4, 5],\n",
       "                                        'min_samples_split': [2, 5, 10],\n",
       "                                        'n_estimators': [100, 200, 300]},\n",
       "                   verbose=True)"
      ]
     },
     "execution_count": 460,
     "metadata": {},
     "output_type": "execute_result"
    },
    {
     "name": "stdout",
     "output_type": "stream",
     "text": [
      "Total Time taken is 11.973477840423584 seconds\n"
     ]
    }
   ],
   "source": [
    "start = time.time()\n",
    "\n",
    "rfc_randomized = RandomizedSearchCV(estimator = rfc1,\n",
    "                                    param_distributions=param_grid,\n",
    "                                    cv=5,\n",
    "                                   verbose=True,\n",
    "                                   n_jobs=4)\n",
    "\n",
    "rfc_randomized.fit(X_train,y_train)\n",
    "\n",
    "end = time.time()\n",
    "print(\"Total Time taken is\",(end - start),\"seconds\")"
   ]
  },
  {
   "cell_type": "code",
   "execution_count": 461,
   "metadata": {},
   "outputs": [
    {
     "data": {
      "text/plain": [
       "RandomForestClassifier(max_depth=5, max_features=6, min_samples_split=5,\n",
       "                       n_estimators=200, random_state=1)"
      ]
     },
     "execution_count": 461,
     "metadata": {},
     "output_type": "execute_result"
    }
   ],
   "source": [
    "rfc_randomized.best_estimator_"
   ]
  },
  {
   "cell_type": "markdown",
   "metadata": {},
   "source": [
    "## Train Accuracy"
   ]
  },
  {
   "cell_type": "code",
   "execution_count": 462,
   "metadata": {},
   "outputs": [
    {
     "data": {
      "text/plain": [
       "0.8071428571428572"
      ]
     },
     "execution_count": 462,
     "metadata": {},
     "output_type": "execute_result"
    }
   ],
   "source": [
    "rfc_randomized.score(X_train,y_train)"
   ]
  },
  {
   "cell_type": "code",
   "execution_count": 463,
   "metadata": {},
   "outputs": [
    {
     "data": {
      "text/plain": [
       "0.7266666666666667"
      ]
     },
     "execution_count": 463,
     "metadata": {},
     "output_type": "execute_result"
    }
   ],
   "source": [
    "rfc_randomized.score(X_test,y_test)"
   ]
  },
  {
   "cell_type": "code",
   "execution_count": 464,
   "metadata": {},
   "outputs": [],
   "source": [
    "best_grid = rfc_randomized.best_estimator_"
   ]
  },
  {
   "cell_type": "code",
   "execution_count": 465,
   "metadata": {},
   "outputs": [],
   "source": [
    "ytrain_predict_rscv = best_grid.predict(X_train)\n",
    "ytest_predict_rscv = best_grid.predict(X_test)"
   ]
  },
  {
   "cell_type": "code",
   "execution_count": 466,
   "metadata": {},
   "outputs": [
    {
     "data": {
      "text/plain": [
       "<sklearn.metrics._plot.confusion_matrix.ConfusionMatrixDisplay at 0x16252dd3a30>"
      ]
     },
     "execution_count": 466,
     "metadata": {},
     "output_type": "execute_result"
    },
    {
     "data": {
      "image/png": "[encoded data removed]",
      "text/plain": [
       "<Figure size 432x288 with 2 Axes>"
      ]
     },
     "metadata": {
      "needs_background": "light"
     },
     "output_type": "display_data"
    }
   ],
   "source": [
    "plot_confusion_matrix(best_grid,X_test,y_test)"
   ]
  },
  {
   "cell_type": "code",
   "execution_count": 467,
   "metadata": {},
   "outputs": [
    {
     "name": "stdout",
     "output_type": "stream",
     "text": [
      "              precision    recall  f1-score   support\n",
      "\n",
      "           0       0.74      0.94      0.83       210\n",
      "           1       0.62      0.22      0.33        90\n",
      "\n",
      "    accuracy                           0.73       300\n",
      "   macro avg       0.68      0.58      0.58       300\n",
      "weighted avg       0.70      0.73      0.68       300\n",
      "\n"
     ]
    }
   ],
   "source": [
    "print(classification_report(y_test,ytest_predict_rscv))"
   ]
  }
 ],
 "metadata": {
  "colab": {
   "name": "M5W3_FMT_CS_Credit data.ipynb",
   "provenance": []
  },
  "kernelspec": {
   "display_name": "Python 3",
   "language": "python",
   "name": "python3"
  },
  "language_info": {
   "codemirror_mode": {
    "name": "ipython",
    "version": 3
   },
   "file_extension": ".py",
   "mimetype": "text/x-python",
   "name": "python",
   "nbconvert_exporter": "python",
   "pygments_lexer": "ipython3",
   "version": "3.8.3"
  }
 },
 "nbformat": 4,
 "nbformat_minor": 1
}
