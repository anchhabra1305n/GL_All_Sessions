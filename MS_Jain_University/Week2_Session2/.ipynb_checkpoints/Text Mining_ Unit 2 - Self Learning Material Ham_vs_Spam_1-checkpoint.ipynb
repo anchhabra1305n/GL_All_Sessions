{
 "cells": [
  {
   "cell_type": "markdown",
   "metadata": {
    "id": "WY0PL2_g3cg1"
   },
   "source": [
    "# **Spam Detector**\n",
    "#### Creating a simple spam identifier with techniques from Text Preprocessing and Machine Learning"
   ]
  },
  {
   "cell_type": "markdown",
   "metadata": {
    "id": "cksLNeEVzuuO"
   },
   "source": [
    "## **Context**\n",
    "**Many users worldwide rely on email and text messages** for communication, and these have become an essential part of daily life. \n",
    "\n",
    "Emails and text messages, due to their importance to people's lives worldwide, may also however contain sensitive information that hackers could attempt to steal (data theft). As a result, it is often critical for email service providers to be able to distinguish between spam and ham (not spam) emails, to reduce the likelihood of a user suffering a data theft attack.\n",
    "\n",
    "Genuine email/text that is important to the user and informative, is referred to as ham. Spam, on the other hand, is bogus email/text sent from untrustworthy sources with malicious intent.\n",
    "\n",
    "## **Data Dictionary**\n",
    "* **Text:** Messages sent by the users\n",
    "* **Type:** Target variable which provides the label about a message being Spam or Ham"
   ]
  },
  {
   "cell_type": "markdown",
   "metadata": {
    "id": "ebYh83Ca_OSR"
   },
   "source": [
    "Due to the presence of the **Type** label, this is of course just a **Supervised Learning Classification** problem of classifying if the Text is Spam or Ham. \n",
    "\n",
    "The catch is that **we don't explicitly have features (columns) in our data** - we only have the text of each message, and we have to attempt to **\"extract\"** numerical features from this text to feed into the Machine Learning algorithms we have already learnt before, to see if that is able to identify Ham vs Spam messages. \n",
    "\n",
    "As we will see in the rest of this notebook, the text preprocessing methods we have learnt so far, do in fact give us an initial level of success in this task. "
   ]
  },
  {
   "cell_type": "code",
   "execution_count": null,
   "metadata": {
    "colab": {
     "base_uri": "https://localhost:8080/"
    },
    "id": "O0TtRkCe7JIh",
    "outputId": "bdeb0066-fdb7-4110-e3ea-7c321298eee4"
   },
   "outputs": [
    {
     "name": "stdout",
     "output_type": "stream",
     "text": [
      "Looking in indexes: https://pypi.org/simple, https://us-python.pkg.dev/colab-wheels/public/simple/\n",
      "Collecting Unidecode\n",
      "  Downloading Unidecode-1.3.6-py3-none-any.whl (235 kB)\n",
      "\u001b[2K     \u001b[90m━━━━━━━━━━━━━━━━━━━━━━━━━━━━━━━━━━━━━━━\u001b[0m \u001b[32m235.9/235.9 KB\u001b[0m \u001b[31m9.5 MB/s\u001b[0m eta \u001b[36m0:00:00\u001b[0m\n",
      "\u001b[?25hInstalling collected packages: Unidecode\n",
      "Successfully installed Unidecode-1.3.6\n",
      "Looking in indexes: https://pypi.org/simple, https://us-python.pkg.dev/colab-wheels/public/simple/\n",
      "Collecting autocorrect\n",
      "  Downloading autocorrect-2.6.1.tar.gz (622 kB)\n",
      "\u001b[2K     \u001b[90m━━━━━━━━━━━━━━━━━━━━━━━━━━━━━━━━━━━━━━\u001b[0m \u001b[32m622.8/622.8 KB\u001b[0m \u001b[31m18.2 MB/s\u001b[0m eta \u001b[36m0:00:00\u001b[0m\n",
      "\u001b[?25h  Preparing metadata (setup.py) ... \u001b[?25l\u001b[?25hdone\n",
      "Building wheels for collected packages: autocorrect\n",
      "  Building wheel for autocorrect (setup.py) ... \u001b[?25l\u001b[?25hdone\n",
      "  Created wheel for autocorrect: filename=autocorrect-2.6.1-py3-none-any.whl size=622381 sha256=bb8b4cbec9152de48448ee091a5d26ac0e4ed1edbeded3c52d17df9424938bfe\n",
      "  Stored in directory: /root/.cache/pip/wheels/72/b8/3b/a90246d13090e85394a8a44b78c8abf577c0766f29d6543c75\n",
      "Successfully built autocorrect\n",
      "Installing collected packages: autocorrect\n",
      "Successfully installed autocorrect-2.6.1\n"
     ]
    }
   ],
   "source": [
    "!pip install Unidecode\n",
    "!pip install autocorrect"
   ]
  },
  {
   "cell_type": "markdown",
   "metadata": {
    "id": "qn8jgFdvLWXh"
   },
   "source": [
    "## **Importing the necessary libraries**"
   ]
  },
  {
   "cell_type": "code",
   "execution_count": 1,
   "metadata": {
    "colab": {
     "base_uri": "https://localhost:8080/"
    },
    "id": "fZBAuHBvD4HH",
    "outputId": "0ced0806-8a80-4ced-d7bb-59f6a9e4ae33"
   },
   "outputs": [
    {
     "ename": "ModuleNotFoundError",
     "evalue": "No module named 'autocorrect'",
     "output_type": "error",
     "traceback": [
      "\u001b[0;31m---------------------------------------------------------------------------\u001b[0m",
      "\u001b[0;31mModuleNotFoundError\u001b[0m                       Traceback (most recent call last)",
      "\u001b[0;32m/var/folders/mw/79vr7p9566z6fwqnpsmrj8tc0000gq/T/ipykernel_61961/1130278036.py\u001b[0m in \u001b[0;36m<module>\u001b[0;34m\u001b[0m\n\u001b[1;32m     24\u001b[0m \u001b[0;31m# It help to correct the spellings\u001b[0m\u001b[0;34m\u001b[0m\u001b[0;34m\u001b[0m\u001b[0m\n\u001b[1;32m     25\u001b[0m \u001b[0;34m\u001b[0m\u001b[0m\n\u001b[0;32m---> 26\u001b[0;31m \u001b[0;32mfrom\u001b[0m \u001b[0mautocorrect\u001b[0m \u001b[0;32mimport\u001b[0m \u001b[0mSpeller\u001b[0m\u001b[0;34m\u001b[0m\u001b[0;34m\u001b[0m\u001b[0m\n\u001b[0m\u001b[1;32m     27\u001b[0m \u001b[0;34m\u001b[0m\u001b[0m\n\u001b[1;32m     28\u001b[0m \u001b[0;34m\u001b[0m\u001b[0m\n",
      "\u001b[0;31mModuleNotFoundError\u001b[0m: No module named 'autocorrect'"
     ]
    }
   ],
   "source": [
    "# Importing the required the libraries\n",
    "\n",
    "# To read and manipulate the data\n",
    "import pandas as pd\n",
    "pd.set_option('max_colwidth', None)\n",
    "\n",
    "# To visualise the graphs\n",
    "import matplotlib.pyplot as plt\n",
    "import seaborn as sns\n",
    "\n",
    "# Helps to display the images\n",
    "from PIL import Image\n",
    "\n",
    "# Helps to extract the data using regular expressions\n",
    "import re\n",
    "\n",
    "# Helps to remove the punctuation\n",
    "import string\n",
    "\n",
    "# It helps to remove the accented characters \n",
    "\n",
    "import unidecode\n",
    "\n",
    "# It help to correct the spellings\n",
    "\n",
    "from autocorrect import Speller\n",
    "\n",
    "\n",
    "# Importing the NLTK library\n",
    "import nltk\n",
    "\n",
    "nltk.download('stopwords')    # Loading the stopwords\n",
    "nltk.download('punkt')        # Loading the punkt module, used in Tokenization\n",
    "nltk.download('omw-1.4')      # Dependency for Tokenization\n",
    "nltk.download('wordnet')      # Loading the wordnet module, used in stemming and lemmatization\n",
    "\n",
    "from nltk.corpus import stopwords\n",
    "\n",
    "# Helps to visualize the wordcloud\n",
    "from wordcloud import WordCloud, STOPWORDS, ImageColorGenerator\n",
    "\n",
    "# Used in Stemming\n",
    "from nltk.stem.porter import PorterStemmer\n",
    "\n",
    "from nltk.stem import SnowballStemmer\n",
    "\n",
    "from nltk.stem import LancasterStemmer\n",
    "\n",
    "# Used in Lemmatization\n",
    "from nltk.stem import WordNetLemmatizer\n",
    "\n",
    "# Used in Tokenization\n",
    "from nltk.tokenize import word_tokenize, sent_tokenize\n",
    "\n",
    "# Importing the SpaCy library \n",
    "import spacy\n",
    "\n",
    "nlp = spacy.load('en_core_web_sm')  # Loading the envrionment config\n",
    "\n",
    "# Used in tokenization\n",
    "from spacy.lang.en import English\n",
    "en_nlp = English()\n",
    "\n",
    "# Helped to create train and test data\n",
    "from sklearn.model_selection import train_test_split\n",
    "\n",
    "# Importing the Random Forest model\n",
    "from sklearn.ensemble import RandomForestClassifier\n",
    "\n",
    "# Metrics to evaluate the model\n",
    "from sklearn.metrics import accuracy_score,classification_report"
   ]
  },
  {
   "cell_type": "markdown",
   "metadata": {
    "id": "D4dYhWtG0EIL"
   },
   "source": [
    "## **Loading the dataset** \n",
    "\n",
    "Important - Please note that the code for importing the dataset will vary depending on the IDE used for coding. This code is for google colab - loading csv which is stored in google drive."
   ]
  },
  {
   "cell_type": "code",
   "execution_count": null,
   "metadata": {
    "colab": {
     "base_uri": "https://localhost:8080/"
    },
    "id": "m5lDSLO3zrMy",
    "outputId": "71dc4b73-1a77-40e2-d294-f9c1d672d7c8"
   },
   "outputs": [
    {
     "name": "stdout",
     "output_type": "stream",
     "text": [
      "Drive already mounted at /content/drive; to attempt to forcibly remount, call drive.mount(\"/content/drive\", force_remount=True).\n"
     ]
    }
   ],
   "source": [
    "# mounting the google drive\n",
    "from google.colab import drive\n",
    "drive.mount('/content/drive')\n",
    "\n",
    "# Loading the data\n",
    "messages = pd.read_csv(\"/content/drive/MyDrive/1.2+sms_spam.csv\")"
   ]
  },
  {
   "cell_type": "code",
   "execution_count": null,
   "metadata": {
    "id": "s4jz3_A-7w7H"
   },
   "outputs": [],
   "source": [
    "# Creating a copy of the data frame\n",
    "data = messages.copy()"
   ]
  },
  {
   "cell_type": "markdown",
   "metadata": {
    "id": "aUdVs6oqcAT8"
   },
   "source": [
    "## **Overview of the dataset**"
   ]
  },
  {
   "cell_type": "markdown",
   "metadata": {
    "id": "GaRznU-2crhy"
   },
   "source": [
    "### **View the first and last 5 rows of the dataset**"
   ]
  },
  {
   "cell_type": "code",
   "execution_count": null,
   "metadata": {
    "colab": {
     "base_uri": "https://localhost:8080/",
     "height": 206
    },
    "id": "xQf0NcvjzrMz",
    "outputId": "4d619d7c-567c-4b41-b6b7-e6b0ff3152ec"
   },
   "outputs": [
    {
     "data": {
      "text/html": [
       "\n",
       "  <div id=\"df-adae7dd6-7947-4372-a9dc-ad8d973f6bbf\">\n",
       "    <div class=\"colab-df-container\">\n",
       "      <div>\n",
       "<style scoped>\n",
       "    .dataframe tbody tr th:only-of-type {\n",
       "        vertical-align: middle;\n",
       "    }\n",
       "\n",
       "    .dataframe tbody tr th {\n",
       "        vertical-align: top;\n",
       "    }\n",
       "\n",
       "    .dataframe thead th {\n",
       "        text-align: right;\n",
       "    }\n",
       "</style>\n",
       "<table border=\"1\" class=\"dataframe\">\n",
       "  <thead>\n",
       "    <tr style=\"text-align: right;\">\n",
       "      <th></th>\n",
       "      <th>type</th>\n",
       "      <th>text</th>\n",
       "    </tr>\n",
       "  </thead>\n",
       "  <tbody>\n",
       "    <tr>\n",
       "      <th>0</th>\n",
       "      <td>ham</td>\n",
       "      <td>Hope you are having a good week. Just checking in ñó ñó</td>\n",
       "    </tr>\n",
       "    <tr>\n",
       "      <th>1</th>\n",
       "      <td>ham</td>\n",
       "      <td>K..going bacckk to stävänger</td>\n",
       "    </tr>\n",
       "    <tr>\n",
       "      <th>2</th>\n",
       "      <td>ham</td>\n",
       "      <td>Am also dong in cbe ony. Bt have to pay</td>\n",
       "    </tr>\n",
       "    <tr>\n",
       "      <th>3</th>\n",
       "      <td>ham</td>\n",
       "      <td>Are you this much buzy</td>\n",
       "    </tr>\n",
       "    <tr>\n",
       "      <th>4</th>\n",
       "      <td>ham</td>\n",
       "      <td>Please ask mummy to call father</td>\n",
       "    </tr>\n",
       "  </tbody>\n",
       "</table>\n",
       "</div>\n",
       "      <button class=\"colab-df-convert\" onclick=\"convertToInteractive('df-adae7dd6-7947-4372-a9dc-ad8d973f6bbf')\"\n",
       "              title=\"Convert this dataframe to an interactive table.\"\n",
       "              style=\"display:none;\">\n",
       "        \n",
       "  <svg xmlns=\"http://www.w3.org/2000/svg\" height=\"24px\"viewBox=\"0 0 24 24\"\n",
       "       width=\"24px\">\n",
       "    <path d=\"M0 0h24v24H0V0z\" fill=\"none\"/>\n",
       "    <path d=\"M18.56 5.44l.94 2.06.94-2.06 2.06-.94-2.06-.94-.94-2.06-.94 2.06-2.06.94zm-11 1L8.5 8.5l.94-2.06 2.06-.94-2.06-.94L8.5 2.5l-.94 2.06-2.06.94zm10 10l.94 2.06.94-2.06 2.06-.94-2.06-.94-.94-2.06-.94 2.06-2.06.94z\"/><path d=\"M17.41 7.96l-1.37-1.37c-.4-.4-.92-.59-1.43-.59-.52 0-1.04.2-1.43.59L10.3 9.45l-7.72 7.72c-.78.78-.78 2.05 0 2.83L4 21.41c.39.39.9.59 1.41.59.51 0 1.02-.2 1.41-.59l7.78-7.78 2.81-2.81c.8-.78.8-2.07 0-2.86zM5.41 20L4 18.59l7.72-7.72 1.47 1.35L5.41 20z\"/>\n",
       "  </svg>\n",
       "      </button>\n",
       "      \n",
       "  <style>\n",
       "    .colab-df-container {\n",
       "      display:flex;\n",
       "      flex-wrap:wrap;\n",
       "      gap: 12px;\n",
       "    }\n",
       "\n",
       "    .colab-df-convert {\n",
       "      background-color: #E8F0FE;\n",
       "      border: none;\n",
       "      border-radius: 50%;\n",
       "      cursor: pointer;\n",
       "      display: none;\n",
       "      fill: #1967D2;\n",
       "      height: 32px;\n",
       "      padding: 0 0 0 0;\n",
       "      width: 32px;\n",
       "    }\n",
       "\n",
       "    .colab-df-convert:hover {\n",
       "      background-color: #E2EBFA;\n",
       "      box-shadow: 0px 1px 2px rgba(60, 64, 67, 0.3), 0px 1px 3px 1px rgba(60, 64, 67, 0.15);\n",
       "      fill: #174EA6;\n",
       "    }\n",
       "\n",
       "    [theme=dark] .colab-df-convert {\n",
       "      background-color: #3B4455;\n",
       "      fill: #D2E3FC;\n",
       "    }\n",
       "\n",
       "    [theme=dark] .colab-df-convert:hover {\n",
       "      background-color: #434B5C;\n",
       "      box-shadow: 0px 1px 3px 1px rgba(0, 0, 0, 0.15);\n",
       "      filter: drop-shadow(0px 1px 2px rgba(0, 0, 0, 0.3));\n",
       "      fill: #FFFFFF;\n",
       "    }\n",
       "  </style>\n",
       "\n",
       "      <script>\n",
       "        const buttonEl =\n",
       "          document.querySelector('#df-adae7dd6-7947-4372-a9dc-ad8d973f6bbf button.colab-df-convert');\n",
       "        buttonEl.style.display =\n",
       "          google.colab.kernel.accessAllowed ? 'block' : 'none';\n",
       "\n",
       "        async function convertToInteractive(key) {\n",
       "          const element = document.querySelector('#df-adae7dd6-7947-4372-a9dc-ad8d973f6bbf');\n",
       "          const dataTable =\n",
       "            await google.colab.kernel.invokeFunction('convertToInteractive',\n",
       "                                                     [key], {});\n",
       "          if (!dataTable) return;\n",
       "\n",
       "          const docLinkHtml = 'Like what you see? Visit the ' +\n",
       "            '<a target=\"_blank\" href=https://colab.research.google.com/notebooks/data_table.ipynb>data table notebook</a>'\n",
       "            + ' to learn more about interactive tables.';\n",
       "          element.innerHTML = '';\n",
       "          dataTable['output_type'] = 'display_data';\n",
       "          await google.colab.output.renderOutput(dataTable, element);\n",
       "          const docLink = document.createElement('div');\n",
       "          docLink.innerHTML = docLinkHtml;\n",
       "          element.appendChild(docLink);\n",
       "        }\n",
       "      </script>\n",
       "    </div>\n",
       "  </div>\n",
       "  "
      ],
      "text/plain": [
       "  type                                                     text\n",
       "0  ham  Hope you are having a good week. Just checking in ñó ñó\n",
       "1  ham                             K..going bacckk to stävänger\n",
       "2  ham                  Am also dong in cbe ony. Bt have to pay\n",
       "3  ham                                   Are you this much buzy\n",
       "4  ham                          Please ask mummy to call father"
      ]
     },
     "execution_count": 14,
     "metadata": {},
     "output_type": "execute_result"
    }
   ],
   "source": [
    "data.head()"
   ]
  },
  {
   "cell_type": "code",
   "execution_count": null,
   "metadata": {
    "colab": {
     "base_uri": "https://localhost:8080/",
     "height": 206
    },
    "id": "ybHg2f23zrM0",
    "outputId": "550ab61e-8e64-4d06-e99d-28538bff2b5e"
   },
   "outputs": [
    {
     "data": {
      "text/html": [
       "\n",
       "  <div id=\"df-426f7b89-7550-44ed-9990-eaf00df43f45\">\n",
       "    <div class=\"colab-df-container\">\n",
       "      <div>\n",
       "<style scoped>\n",
       "    .dataframe tbody tr th:only-of-type {\n",
       "        vertical-align: middle;\n",
       "    }\n",
       "\n",
       "    .dataframe tbody tr th {\n",
       "        vertical-align: top;\n",
       "    }\n",
       "\n",
       "    .dataframe thead th {\n",
       "        text-align: right;\n",
       "    }\n",
       "</style>\n",
       "<table border=\"1\" class=\"dataframe\">\n",
       "  <thead>\n",
       "    <tr style=\"text-align: right;\">\n",
       "      <th></th>\n",
       "      <th>type</th>\n",
       "      <th>text</th>\n",
       "    </tr>\n",
       "  </thead>\n",
       "  <tbody>\n",
       "    <tr>\n",
       "      <th>5055</th>\n",
       "      <td>spam</td>\n",
       "      <td>Sunshine Quiz Wkly Q! Win a top Sony DVD player if u know which country Liverpool played in mid week? Txt ansr to 82277. £1.50 SP:Tyrone</td>\n",
       "    </tr>\n",
       "    <tr>\n",
       "      <th>5056</th>\n",
       "      <td>spam</td>\n",
       "      <td>HOT LIVE FANTASIES call now 08707509020 Just 20p per min NTT Ltd, PO Box 1327 Croydon CR9 5WB 0870 is a national rate call</td>\n",
       "    </tr>\n",
       "    <tr>\n",
       "      <th>5057</th>\n",
       "      <td>spam</td>\n",
       "      <td>Ur balance is now £500. Ur next question is: Who sang 'Uptown Girl' in the 80's ? 2 answer txt ur ANSWER to 83600. Good luck!</td>\n",
       "    </tr>\n",
       "    <tr>\n",
       "      <th>5058</th>\n",
       "      <td>spam</td>\n",
       "      <td>If you don't, your prize will go to another customer. T&amp;C at www.t-c.biz 18+ 150p/min Polo Ltd Suite 373 London W1J 6HL Please call back if busy</td>\n",
       "    </tr>\n",
       "    <tr>\n",
       "      <th>5059</th>\n",
       "      <td>spam</td>\n",
       "      <td>SMS. ac JSco: Energy is high, but u may not know where 2channel it. 2day ur leadership skills r strong. Psychic? Reply ANS w/question. End? Reply END JSCO</td>\n",
       "    </tr>\n",
       "  </tbody>\n",
       "</table>\n",
       "</div>\n",
       "      <button class=\"colab-df-convert\" onclick=\"convertToInteractive('df-426f7b89-7550-44ed-9990-eaf00df43f45')\"\n",
       "              title=\"Convert this dataframe to an interactive table.\"\n",
       "              style=\"display:none;\">\n",
       "        \n",
       "  <svg xmlns=\"http://www.w3.org/2000/svg\" height=\"24px\"viewBox=\"0 0 24 24\"\n",
       "       width=\"24px\">\n",
       "    <path d=\"M0 0h24v24H0V0z\" fill=\"none\"/>\n",
       "    <path d=\"M18.56 5.44l.94 2.06.94-2.06 2.06-.94-2.06-.94-.94-2.06-.94 2.06-2.06.94zm-11 1L8.5 8.5l.94-2.06 2.06-.94-2.06-.94L8.5 2.5l-.94 2.06-2.06.94zm10 10l.94 2.06.94-2.06 2.06-.94-2.06-.94-.94-2.06-.94 2.06-2.06.94z\"/><path d=\"M17.41 7.96l-1.37-1.37c-.4-.4-.92-.59-1.43-.59-.52 0-1.04.2-1.43.59L10.3 9.45l-7.72 7.72c-.78.78-.78 2.05 0 2.83L4 21.41c.39.39.9.59 1.41.59.51 0 1.02-.2 1.41-.59l7.78-7.78 2.81-2.81c.8-.78.8-2.07 0-2.86zM5.41 20L4 18.59l7.72-7.72 1.47 1.35L5.41 20z\"/>\n",
       "  </svg>\n",
       "      </button>\n",
       "      \n",
       "  <style>\n",
       "    .colab-df-container {\n",
       "      display:flex;\n",
       "      flex-wrap:wrap;\n",
       "      gap: 12px;\n",
       "    }\n",
       "\n",
       "    .colab-df-convert {\n",
       "      background-color: #E8F0FE;\n",
       "      border: none;\n",
       "      border-radius: 50%;\n",
       "      cursor: pointer;\n",
       "      display: none;\n",
       "      fill: #1967D2;\n",
       "      height: 32px;\n",
       "      padding: 0 0 0 0;\n",
       "      width: 32px;\n",
       "    }\n",
       "\n",
       "    .colab-df-convert:hover {\n",
       "      background-color: #E2EBFA;\n",
       "      box-shadow: 0px 1px 2px rgba(60, 64, 67, 0.3), 0px 1px 3px 1px rgba(60, 64, 67, 0.15);\n",
       "      fill: #174EA6;\n",
       "    }\n",
       "\n",
       "    [theme=dark] .colab-df-convert {\n",
       "      background-color: #3B4455;\n",
       "      fill: #D2E3FC;\n",
       "    }\n",
       "\n",
       "    [theme=dark] .colab-df-convert:hover {\n",
       "      background-color: #434B5C;\n",
       "      box-shadow: 0px 1px 3px 1px rgba(0, 0, 0, 0.15);\n",
       "      filter: drop-shadow(0px 1px 2px rgba(0, 0, 0, 0.3));\n",
       "      fill: #FFFFFF;\n",
       "    }\n",
       "  </style>\n",
       "\n",
       "      <script>\n",
       "        const buttonEl =\n",
       "          document.querySelector('#df-426f7b89-7550-44ed-9990-eaf00df43f45 button.colab-df-convert');\n",
       "        buttonEl.style.display =\n",
       "          google.colab.kernel.accessAllowed ? 'block' : 'none';\n",
       "\n",
       "        async function convertToInteractive(key) {\n",
       "          const element = document.querySelector('#df-426f7b89-7550-44ed-9990-eaf00df43f45');\n",
       "          const dataTable =\n",
       "            await google.colab.kernel.invokeFunction('convertToInteractive',\n",
       "                                                     [key], {});\n",
       "          if (!dataTable) return;\n",
       "\n",
       "          const docLinkHtml = 'Like what you see? Visit the ' +\n",
       "            '<a target=\"_blank\" href=https://colab.research.google.com/notebooks/data_table.ipynb>data table notebook</a>'\n",
       "            + ' to learn more about interactive tables.';\n",
       "          element.innerHTML = '';\n",
       "          dataTable['output_type'] = 'display_data';\n",
       "          await google.colab.output.renderOutput(dataTable, element);\n",
       "          const docLink = document.createElement('div');\n",
       "          docLink.innerHTML = docLinkHtml;\n",
       "          element.appendChild(docLink);\n",
       "        }\n",
       "      </script>\n",
       "    </div>\n",
       "  </div>\n",
       "  "
      ],
      "text/plain": [
       "      type  \\\n",
       "5055  spam   \n",
       "5056  spam   \n",
       "5057  spam   \n",
       "5058  spam   \n",
       "5059  spam   \n",
       "\n",
       "                                                                                                                                                            text  \n",
       "5055                    Sunshine Quiz Wkly Q! Win a top Sony DVD player if u know which country Liverpool played in mid week? Txt ansr to 82277. £1.50 SP:Tyrone  \n",
       "5056                                  HOT LIVE FANTASIES call now 08707509020 Just 20p per min NTT Ltd, PO Box 1327 Croydon CR9 5WB 0870 is a national rate call  \n",
       "5057                               Ur balance is now £500. Ur next question is: Who sang 'Uptown Girl' in the 80's ? 2 answer txt ur ANSWER to 83600. Good luck!  \n",
       "5058           If you don't, your prize will go to another customer. T&C at www.t-c.biz 18+ 150p/min Polo Ltd Suite 373 London W1J 6HL Please call back if busy   \n",
       "5059  SMS. ac JSco: Energy is high, but u may not know where 2channel it. 2day ur leadership skills r strong. Psychic? Reply ANS w/question. End? Reply END JSCO  "
      ]
     },
     "execution_count": 15,
     "metadata": {},
     "output_type": "execute_result"
    }
   ],
   "source": [
    "data.tail()"
   ]
  },
  {
   "cell_type": "markdown",
   "metadata": {
    "id": "ZN_AbO3kc0Jx"
   },
   "source": [
    "### **Understand the shape of the dataset**"
   ]
  },
  {
   "cell_type": "code",
   "execution_count": null,
   "metadata": {
    "colab": {
     "base_uri": "https://localhost:8080/"
    },
    "id": "bU38HG7Kc1Bu",
    "outputId": "a62f391f-ca0d-45fc-c418-279739e09789"
   },
   "outputs": [
    {
     "data": {
      "text/plain": [
       "(5060, 2)"
      ]
     },
     "execution_count": 16,
     "metadata": {},
     "output_type": "execute_result"
    }
   ],
   "source": [
    "data.shape"
   ]
  },
  {
   "cell_type": "markdown",
   "metadata": {
    "id": "mA2TiZB8c5ZJ"
   },
   "source": [
    "* The dataset has 5060 rows and 2 columns. "
   ]
  },
  {
   "cell_type": "markdown",
   "metadata": {
    "id": "vq_gyYm0jMxN"
   },
   "source": [
    "### **Check the data types of the columns for the dataset**"
   ]
  },
  {
   "cell_type": "code",
   "execution_count": null,
   "metadata": {
    "colab": {
     "base_uri": "https://localhost:8080/"
    },
    "id": "XdfjLAzpjNdo",
    "outputId": "df372627-92b4-4de1-add8-9c6e4479e96c"
   },
   "outputs": [
    {
     "name": "stdout",
     "output_type": "stream",
     "text": [
      "<class 'pandas.core.frame.DataFrame'>\n",
      "RangeIndex: 5060 entries, 0 to 5059\n",
      "Data columns (total 2 columns):\n",
      " #   Column  Non-Null Count  Dtype \n",
      "---  ------  --------------  ----- \n",
      " 0   type    5060 non-null   object\n",
      " 1   text    5060 non-null   object\n",
      "dtypes: object(2)\n",
      "memory usage: 79.2+ KB\n"
     ]
    }
   ],
   "source": [
    "data.info()"
   ]
  },
  {
   "cell_type": "markdown",
   "metadata": {
    "id": "PPs_UQPcjQ5D"
   },
   "source": [
    "* Both the columns are of the object type.\n",
    "* There are no null values in the dataset, so no missing values."
   ]
  },
  {
   "cell_type": "markdown",
   "metadata": {
    "id": "UIDPOAnjgO3z"
   },
   "source": [
    "### **Checking for duplicate values**"
   ]
  },
  {
   "cell_type": "code",
   "execution_count": null,
   "metadata": {
    "colab": {
     "base_uri": "https://localhost:8080/"
    },
    "id": "eAdVjJkFdDjB",
    "outputId": "c681e613-ca17-4ca6-9e4a-c9cbe6f96a71"
   },
   "outputs": [
    {
     "data": {
      "text/plain": [
       "383"
      ]
     },
     "execution_count": 18,
     "metadata": {},
     "output_type": "execute_result"
    }
   ],
   "source": [
    "# checking for duplicate values\n",
    "data.duplicated().sum()"
   ]
  },
  {
   "cell_type": "code",
   "execution_count": null,
   "metadata": {
    "colab": {
     "base_uri": "https://localhost:8080/"
    },
    "id": "mO46NhqqgR-D",
    "outputId": "89948050-348e-4e12-f5c9-35fa2d58d942"
   },
   "outputs": [
    {
     "data": {
      "text/plain": [
       "0"
      ]
     },
     "execution_count": 19,
     "metadata": {},
     "output_type": "execute_result"
    }
   ],
   "source": [
    "# dropping the duplicates\n",
    "data = data.drop_duplicates(keep = 'first')\n",
    "\n",
    "# checking for duplicate values\n",
    "data.duplicated().sum()"
   ]
  },
  {
   "cell_type": "code",
   "execution_count": null,
   "metadata": {
    "id": "FNJKsaueF9zp"
   },
   "outputs": [],
   "source": [
    "# resetting the index of the dataframe\n",
    "data = data.reset_index(drop = True)"
   ]
  },
  {
   "cell_type": "markdown",
   "metadata": {
    "id": "uzVMHiv8hCC3"
   },
   "source": [
    "* The duplicate values have been removed."
   ]
  },
  {
   "cell_type": "markdown",
   "metadata": {
    "id": "WHn-ONC-vIdN"
   },
   "source": [
    "## **Exploratory Data Analysis**"
   ]
  },
  {
   "cell_type": "code",
   "execution_count": null,
   "metadata": {
    "colab": {
     "base_uri": "https://localhost:8080/",
     "height": 351
    },
    "id": "DhQBmnZVzrM0",
    "outputId": "42e5e38e-3c4e-427a-a61f-8df710d30eb9"
   },
   "outputs": [
    {
     "data": {
      "image/png": "[encoded data removed]",
      "text/plain": [
       "<Figure size 432x288 with 1 Axes>"
      ]
     },
     "metadata": {
      "needs_background": "light"
     },
     "output_type": "display_data"
    },
    {
     "name": "stdout",
     "output_type": "stream",
     "text": [
      "--------------------------------------------------\n",
      "ham     0.860381\n",
      "spam    0.139619\n",
      "Name: type, dtype: float64\n"
     ]
    }
   ],
   "source": [
    "# Lets look at the distribution of ham and spam messages\n",
    "sns.countplot(x = 'type', data = data)\n",
    "plt.show()\n",
    "\n",
    "print(\"-\"*50)\n",
    "\n",
    "# checking the percentage of ham and spam messages\n",
    "print(data['type'].value_counts(normalize = True))"
   ]
  },
  {
   "cell_type": "markdown",
   "metadata": {
    "id": "-tYQN4N_voO0"
   },
   "source": [
    "* 86% of the messages in the dataset are ham, so **only around 14% of the messages are actually spam.**\n",
    "* This dataset is hence highly imbalanced.\n",
    "\n",
    "This is quite reflective of the use cases where Machine Learning is generally required, even in the NLP space. **In general, the event / occurrence we're trying to identify is rare**, and that's the value of Machine Learning and AI - being able to detect that needle in the haystack; in this case detecting the one spam message from a crowd of non-spam, which would obviously be critical to the utility of a good spam detector."
   ]
  },
  {
   "cell_type": "markdown",
   "metadata": {
    "id": "5oFgqZA1KOYr"
   },
   "source": [
    "### **Let's now take a look at some of the messages in the data to get a sense for the text preprocessing required**"
   ]
  },
  {
   "cell_type": "code",
   "execution_count": null,
   "metadata": {
    "colab": {
     "base_uri": "https://localhost:8080/",
     "height": 36
    },
    "id": "IYUZBv7W01k4",
    "outputId": "6674765d-0e00-467d-fe12-ed12d4a6a2da"
   },
   "outputs": [
    {
     "data": {
      "application/vnd.google.colaboratory.intrinsic+json": {
       "type": "string"
      },
      "text/plain": [
       "'       Sure thing big man. i have hockey elections at 6, shouldn€˜t go on longer than an hour though     '"
      ]
     },
     "execution_count": 22,
     "metadata": {},
     "output_type": "execute_result"
    }
   ],
   "source": [
    "data['text'][6]"
   ]
  },
  {
   "cell_type": "code",
   "execution_count": null,
   "metadata": {
    "colab": {
     "base_uri": "https://localhost:8080/",
     "height": 36
    },
    "id": "IFjahQ0H01or",
    "outputId": "a4fc364f-5f41-4636-e57f-ebdfaad1b6e8"
   },
   "outputs": [
    {
     "data": {
      "application/vnd.google.colaboratory.intrinsic+json": {
       "type": "string"
      },
      "text/plain": [
       "'Hope you are having a good week. Just checking in ñó ñó'"
      ]
     },
     "execution_count": 23,
     "metadata": {},
     "output_type": "execute_result"
    }
   ],
   "source": [
    "data['text'][0]"
   ]
  },
  {
   "cell_type": "code",
   "execution_count": null,
   "metadata": {
    "colab": {
     "base_uri": "https://localhost:8080/",
     "height": 53
    },
    "id": "p1MqZofK1dYz",
    "outputId": "1d1dbbe2-be52-4a15-e2d9-6c747a396fa5"
   },
   "outputs": [
    {
     "data": {
      "application/vnd.google.colaboratory.intrinsic+json": {
       "type": "string"
      },
      "text/plain": [
       "'URGENT! We are trying to contact U. Todays draw shows that you have won a £800 prize GUARANTEED. Call 09050001808 from land line. Claim M95. Valid12hrs only'"
      ]
     },
     "execution_count": 24,
     "metadata": {},
     "output_type": "execute_result"
    }
   ],
   "source": [
    "data['text'][4320]"
   ]
  },
  {
   "cell_type": "code",
   "execution_count": null,
   "metadata": {
    "colab": {
     "base_uri": "https://localhost:8080/",
     "height": 53
    },
    "id": "W7-Vi6UOD6lt",
    "outputId": "a5268bc4-7b46-4e60-9499-947dbac3897d"
   },
   "outputs": [
    {
     "data": {
      "application/vnd.google.colaboratory.intrinsic+json": {
       "type": "string"
      },
      "text/plain": [
       "'Thanks for your Ringtone Order, Reference T91. You will be charged GBP 4 per week. You can unsubscribe at anytime by calling customer services on 09057039994'"
      ]
     },
     "execution_count": 25,
     "metadata": {},
     "output_type": "execute_result"
    }
   ],
   "source": [
    "data['text'][4330]"
   ]
  },
  {
   "cell_type": "markdown",
   "metadata": {
    "id": "wdkf2Yz37SFF"
   },
   "source": [
    "**From the random samples seen above, we observe that the text has:**\n",
    "\n",
    "*  Extra spaces\n",
    "\n",
    "*  Accented and Special characters\n",
    "\n",
    "*  Misspelled words\n",
    "\n",
    "*  Word inflections - can be observed in row 4320 where words like awarded and guaranteed can be reduced to their base forms.\n",
    "\n",
    "*  Lowercase and Uppercase characters\n",
    "\n",
    "\n",
    "**The presence of such unwanted text doesn't add any value and also impacts the learning of a model**, thus reducing the model's performance. \n",
    "\n",
    "Hence, we shall be removing such unwanted text."
   ]
  },
  {
   "cell_type": "markdown",
   "metadata": {
    "id": "9MCckaY6_IOx"
   },
   "source": [
    "## **Text Preprocessing Step 1**\n",
    "## **Removing accented characters from the text**\n",
    "\n",
    "* Accents are special string characters generally adapted from other languages. They are not considered a major part of English.\n",
    "* By using the unidecode library, we can transliterate any unicode string into the closest possible representation in ASCII text."
   ]
  },
  {
   "cell_type": "code",
   "execution_count": null,
   "metadata": {
    "colab": {
     "base_uri": "https://localhost:8080/"
    },
    "id": "I9rSY4Ox_Hne",
    "outputId": "032e8401-d406-4914-8894-c2e6e0db30da"
   },
   "outputs": [
    {
     "data": {
      "text/plain": [
       "0    Hope you are having a good week. Just checking in ñó ñó\n",
       "1                               K..going bacckk to stävänger\n",
       "Name: text, dtype: object"
      ]
     },
     "execution_count": 33,
     "metadata": {},
     "output_type": "execute_result"
    }
   ],
   "source": [
    "# Let's look at the first two text messages\n",
    "data['text'][0:2]"
   ]
  },
  {
   "cell_type": "markdown",
   "metadata": {
    "id": "V93mRJII_ebu"
   },
   "source": [
    "We can see above that 'no no' and 'stavanger' are words with accented characters."
   ]
  },
  {
   "cell_type": "code",
   "execution_count": null,
   "metadata": {
    "id": "UbjzzHEy_Ywq"
   },
   "outputs": [],
   "source": [
    "# defining an empty list\n",
    "text = []\n",
    "\n",
    "# looping over each message in the data\n",
    "for i in range(data.shape[0]):\n",
    "\n",
    "    t = data['text'][i].split()\n",
    "    # Applying the unicode data on a sentence and replacing the accented words to get the closest possible ASCII text\n",
    "    new_text = [unidecode.unidecode(word) for word in t]\n",
    "    \n",
    "    # Combining the seperate words into sentence\n",
    "    new_text = ' '.join(new_text)\n",
    "    # append the new_text to list text\n",
    "    text.append(new_text)\n",
    "\n",
    "data['cleaned_text'] = text"
   ]
  },
  {
   "cell_type": "code",
   "execution_count": null,
   "metadata": {
    "colab": {
     "base_uri": "https://localhost:8080/",
     "height": 174
    },
    "id": "WOwCHUW1DDik",
    "outputId": "521626a7-6741-4dac-b156-7d5450970815"
   },
   "outputs": [
    {
     "data": {
      "text/html": [
       "\n",
       "  <div id=\"df-aa557f8e-b733-47bc-8ea0-5711e4f5aad3\">\n",
       "    <div class=\"colab-df-container\">\n",
       "      <div>\n",
       "<style scoped>\n",
       "    .dataframe tbody tr th:only-of-type {\n",
       "        vertical-align: middle;\n",
       "    }\n",
       "\n",
       "    .dataframe tbody tr th {\n",
       "        vertical-align: top;\n",
       "    }\n",
       "\n",
       "    .dataframe thead th {\n",
       "        text-align: right;\n",
       "    }\n",
       "</style>\n",
       "<table border=\"1\" class=\"dataframe\">\n",
       "  <thead>\n",
       "    <tr style=\"text-align: right;\">\n",
       "      <th></th>\n",
       "      <th>text</th>\n",
       "      <th>cleaned_text</th>\n",
       "    </tr>\n",
       "  </thead>\n",
       "  <tbody>\n",
       "    <tr>\n",
       "      <th>0</th>\n",
       "      <td>Hope you are having a good week. Just checking in ñó ñó</td>\n",
       "      <td>Hope you are having a good week. Just checking in no no</td>\n",
       "    </tr>\n",
       "    <tr>\n",
       "      <th>1</th>\n",
       "      <td>K..going bacckk to stävänger</td>\n",
       "      <td>K..going bacckk to stavanger</td>\n",
       "    </tr>\n",
       "    <tr>\n",
       "      <th>2</th>\n",
       "      <td>Am also dong in cbe ony. Bt have to pay</td>\n",
       "      <td>Am also dong in cbe ony. Bt have to pay</td>\n",
       "    </tr>\n",
       "    <tr>\n",
       "      <th>3</th>\n",
       "      <td>Are you this much buzy</td>\n",
       "      <td>Are you this much buzy</td>\n",
       "    </tr>\n",
       "  </tbody>\n",
       "</table>\n",
       "</div>\n",
       "      <button class=\"colab-df-convert\" onclick=\"convertToInteractive('df-aa557f8e-b733-47bc-8ea0-5711e4f5aad3')\"\n",
       "              title=\"Convert this dataframe to an interactive table.\"\n",
       "              style=\"display:none;\">\n",
       "        \n",
       "  <svg xmlns=\"http://www.w3.org/2000/svg\" height=\"24px\"viewBox=\"0 0 24 24\"\n",
       "       width=\"24px\">\n",
       "    <path d=\"M0 0h24v24H0V0z\" fill=\"none\"/>\n",
       "    <path d=\"M18.56 5.44l.94 2.06.94-2.06 2.06-.94-2.06-.94-.94-2.06-.94 2.06-2.06.94zm-11 1L8.5 8.5l.94-2.06 2.06-.94-2.06-.94L8.5 2.5l-.94 2.06-2.06.94zm10 10l.94 2.06.94-2.06 2.06-.94-2.06-.94-.94-2.06-.94 2.06-2.06.94z\"/><path d=\"M17.41 7.96l-1.37-1.37c-.4-.4-.92-.59-1.43-.59-.52 0-1.04.2-1.43.59L10.3 9.45l-7.72 7.72c-.78.78-.78 2.05 0 2.83L4 21.41c.39.39.9.59 1.41.59.51 0 1.02-.2 1.41-.59l7.78-7.78 2.81-2.81c.8-.78.8-2.07 0-2.86zM5.41 20L4 18.59l7.72-7.72 1.47 1.35L5.41 20z\"/>\n",
       "  </svg>\n",
       "      </button>\n",
       "      \n",
       "  <style>\n",
       "    .colab-df-container {\n",
       "      display:flex;\n",
       "      flex-wrap:wrap;\n",
       "      gap: 12px;\n",
       "    }\n",
       "\n",
       "    .colab-df-convert {\n",
       "      background-color: #E8F0FE;\n",
       "      border: none;\n",
       "      border-radius: 50%;\n",
       "      cursor: pointer;\n",
       "      display: none;\n",
       "      fill: #1967D2;\n",
       "      height: 32px;\n",
       "      padding: 0 0 0 0;\n",
       "      width: 32px;\n",
       "    }\n",
       "\n",
       "    .colab-df-convert:hover {\n",
       "      background-color: #E2EBFA;\n",
       "      box-shadow: 0px 1px 2px rgba(60, 64, 67, 0.3), 0px 1px 3px 1px rgba(60, 64, 67, 0.15);\n",
       "      fill: #174EA6;\n",
       "    }\n",
       "\n",
       "    [theme=dark] .colab-df-convert {\n",
       "      background-color: #3B4455;\n",
       "      fill: #D2E3FC;\n",
       "    }\n",
       "\n",
       "    [theme=dark] .colab-df-convert:hover {\n",
       "      background-color: #434B5C;\n",
       "      box-shadow: 0px 1px 3px 1px rgba(0, 0, 0, 0.15);\n",
       "      filter: drop-shadow(0px 1px 2px rgba(0, 0, 0, 0.3));\n",
       "      fill: #FFFFFF;\n",
       "    }\n",
       "  </style>\n",
       "\n",
       "      <script>\n",
       "        const buttonEl =\n",
       "          document.querySelector('#df-aa557f8e-b733-47bc-8ea0-5711e4f5aad3 button.colab-df-convert');\n",
       "        buttonEl.style.display =\n",
       "          google.colab.kernel.accessAllowed ? 'block' : 'none';\n",
       "\n",
       "        async function convertToInteractive(key) {\n",
       "          const element = document.querySelector('#df-aa557f8e-b733-47bc-8ea0-5711e4f5aad3');\n",
       "          const dataTable =\n",
       "            await google.colab.kernel.invokeFunction('convertToInteractive',\n",
       "                                                     [key], {});\n",
       "          if (!dataTable) return;\n",
       "\n",
       "          const docLinkHtml = 'Like what you see? Visit the ' +\n",
       "            '<a target=\"_blank\" href=https://colab.research.google.com/notebooks/data_table.ipynb>data table notebook</a>'\n",
       "            + ' to learn more about interactive tables.';\n",
       "          element.innerHTML = '';\n",
       "          dataTable['output_type'] = 'display_data';\n",
       "          await google.colab.output.renderOutput(dataTable, element);\n",
       "          const docLink = document.createElement('div');\n",
       "          docLink.innerHTML = docLinkHtml;\n",
       "          element.appendChild(docLink);\n",
       "        }\n",
       "      </script>\n",
       "    </div>\n",
       "  </div>\n",
       "  "
      ],
      "text/plain": [
       "                                                      text  \\\n",
       "0  Hope you are having a good week. Just checking in ñó ñó   \n",
       "1                             K..going bacckk to stävänger   \n",
       "2                  Am also dong in cbe ony. Bt have to pay   \n",
       "3                                   Are you this much buzy   \n",
       "\n",
       "                                              cleaned_text  \n",
       "0  Hope you are having a good week. Just checking in no no  \n",
       "1                             K..going bacckk to stavanger  \n",
       "2                  Am also dong in cbe ony. Bt have to pay  \n",
       "3                                   Are you this much buzy  "
      ]
     },
     "execution_count": 35,
     "metadata": {},
     "output_type": "execute_result"
    }
   ],
   "source": [
    "data.loc[0:3,['text','cleaned_text']]"
   ]
  },
  {
   "cell_type": "markdown",
   "metadata": {
    "id": "_bIVm3JOB5IG"
   },
   "source": [
    "- We observe that the accented words are now converted to normal words i.e **stävänger** to **stavanger** and **ñó** to no.\t"
   ]
  },
  {
   "cell_type": "markdown",
   "metadata": {
    "id": "b1wNrsU7Y-AY"
   },
   "source": [
    "## **Text Preprocessing Step 2**\n",
    "## **Removing special characters from the text**"
   ]
  },
  {
   "cell_type": "markdown",
   "metadata": {
    "id": "OuqfekhJX2RW"
   },
   "source": [
    "The function **isalnum()** method returns `True` if all the characters are alphanumeric, meaning alphabet letter (a-z) and numbers (0-9). By using this function we can retrive the data which consists of only letters and numbers."
   ]
  },
  {
   "cell_type": "code",
   "execution_count": null,
   "metadata": {
    "colab": {
     "base_uri": "https://localhost:8080/",
     "height": 36
    },
    "id": "6Dqg_aGNDMiw",
    "outputId": "e03e7889-cf67-4d64-a700-243e6e1794af"
   },
   "outputs": [
    {
     "data": {
      "application/vnd.google.colaboratory.intrinsic+json": {
       "type": "string"
      },
      "text/plain": [
       "'Yup bathe liao...'"
      ]
     },
     "execution_count": 36,
     "metadata": {},
     "output_type": "execute_result"
    }
   ],
   "source": [
    "# let's consider the below example\n",
    "data['text'][75]"
   ]
  },
  {
   "cell_type": "markdown",
   "metadata": {
    "id": "1iJTVLDaDysR"
   },
   "source": [
    "* We can see that `liao...` has special symbols or extra punctuation in the text and this needs to be removed."
   ]
  },
  {
   "cell_type": "code",
   "execution_count": null,
   "metadata": {
    "colab": {
     "base_uri": "https://localhost:8080/"
    },
    "id": "Ed-Omfs2CSw3",
    "outputId": "21c89893-d339-4d7e-aef5-01cf3a173f35"
   },
   "outputs": [
    {
     "data": {
      "text/plain": [
       "['Yup', 'bathe', 'liao...']"
      ]
     },
     "execution_count": 37,
     "metadata": {},
     "output_type": "execute_result"
    }
   ],
   "source": [
    "# splitting text into separate words\n",
    "example = data['text'][75].split()\n",
    "example"
   ]
  },
  {
   "cell_type": "code",
   "execution_count": null,
   "metadata": {
    "colab": {
     "base_uri": "https://localhost:8080/"
    },
    "id": "LzZ1c8CfCmEa",
    "outputId": "091114ef-b5c3-45ff-8608-5a8d424b3b14"
   },
   "outputs": [
    {
     "name": "stdout",
     "output_type": "stream",
     "text": [
      "New list with only alphabets and numbers:  ['Yup', 'bathe']\n",
      "Original Text:  Yup bathe\n"
     ]
    }
   ],
   "source": [
    "# defining an empty list\n",
    "text = []\n",
    "\n",
    "# looping over each element of the list\n",
    "for i in example:\n",
    "  if i.isalnum():  # checking if the element is an alphabet or a number\n",
    "    new_text = i   # if the element of the list is a number assign it to variable new_text\n",
    "    text.append(new_text) # append the new_text to empty list text\n",
    "\n",
    "print('New list with only alphabets and numbers: ', text)\n",
    "\n",
    "# retriving the original text\n",
    "# join() is an inbuilt string function in Python takes all items in an iterable and joins them into one string. \n",
    "print('Original Text: ',' '.join(text))"
   ]
  },
  {
   "cell_type": "markdown",
   "metadata": {
    "id": "D9Xh5cSbFLuI"
   },
   "source": [
    "### **Now let's apply the above steps to all the messages in the dataset**"
   ]
  },
  {
   "cell_type": "code",
   "execution_count": null,
   "metadata": {
    "id": "ti4dw4xtYenu"
   },
   "outputs": [],
   "source": [
    "# defining an empty list\n",
    "text = []\n",
    "\n",
    "# looping over each message in the data\n",
    "for i in range(data.shape[0]):\n",
    "    words = data['cleaned_text'][i].split() # splitting text into separate words\n",
    "    new_text = ' '.join([element for element in words if element.isalnum()]) # looping over each element of the list and using the join() function to retrive the original text\n",
    "    text.append(new_text)  # append the new_text to empty list text\n",
    "    \n",
    "data['cleaned_text'] = text  "
   ]
  },
  {
   "cell_type": "markdown",
   "metadata": {
    "id": "jPIQwom4ZLgM"
   },
   "source": [
    "Let's take a look at some random samples to view the messages now"
   ]
  },
  {
   "cell_type": "code",
   "execution_count": null,
   "metadata": {
    "colab": {
     "base_uri": "https://localhost:8080/",
     "height": 298
    },
    "id": "KtMkuqkafmp4",
    "outputId": "9106a761-a55c-49a7-f568-00a3f78cf437"
   },
   "outputs": [
    {
     "data": {
      "text/html": [
       "\n",
       "  <div id=\"df-ce921a9f-1277-4d74-a4ae-0ba808a45f94\">\n",
       "    <div class=\"colab-df-container\">\n",
       "      <div>\n",
       "<style scoped>\n",
       "    .dataframe tbody tr th:only-of-type {\n",
       "        vertical-align: middle;\n",
       "    }\n",
       "\n",
       "    .dataframe tbody tr th {\n",
       "        vertical-align: top;\n",
       "    }\n",
       "\n",
       "    .dataframe thead th {\n",
       "        text-align: right;\n",
       "    }\n",
       "</style>\n",
       "<table border=\"1\" class=\"dataframe\">\n",
       "  <thead>\n",
       "    <tr style=\"text-align: right;\">\n",
       "      <th></th>\n",
       "      <th>text</th>\n",
       "      <th>cleaned_text</th>\n",
       "    </tr>\n",
       "  </thead>\n",
       "  <tbody>\n",
       "    <tr>\n",
       "      <th>1</th>\n",
       "      <td>K..going bacckk to stävänger</td>\n",
       "      <td>bacckk to stavanger</td>\n",
       "    </tr>\n",
       "    <tr>\n",
       "      <th>10</th>\n",
       "      <td>K I'll be sure to get up before noon and see what's what</td>\n",
       "      <td>K be sure to get up before noon and see what</td>\n",
       "    </tr>\n",
       "    <tr>\n",
       "      <th>75</th>\n",
       "      <td>Yup bathe liao...</td>\n",
       "      <td>Yup bathe</td>\n",
       "    </tr>\n",
       "    <tr>\n",
       "      <th>76</th>\n",
       "      <td>I am getting threats from your sales executive Shifad as i raised complaint against him. Its an official message.</td>\n",
       "      <td>I am getting threats from your sales executive Shifad as i raised complaint against Its an official</td>\n",
       "    </tr>\n",
       "    <tr>\n",
       "      <th>77</th>\n",
       "      <td>S.this will increase the chance of winning.</td>\n",
       "      <td>will increase the chance of</td>\n",
       "    </tr>\n",
       "    <tr>\n",
       "      <th>78</th>\n",
       "      <td>How are you doing. How's the queen. Are you going for the royal wedding</td>\n",
       "      <td>How are you the Are you going for the royal wedding</td>\n",
       "    </tr>\n",
       "  </tbody>\n",
       "</table>\n",
       "</div>\n",
       "      <button class=\"colab-df-convert\" onclick=\"convertToInteractive('df-ce921a9f-1277-4d74-a4ae-0ba808a45f94')\"\n",
       "              title=\"Convert this dataframe to an interactive table.\"\n",
       "              style=\"display:none;\">\n",
       "        \n",
       "  <svg xmlns=\"http://www.w3.org/2000/svg\" height=\"24px\"viewBox=\"0 0 24 24\"\n",
       "       width=\"24px\">\n",
       "    <path d=\"M0 0h24v24H0V0z\" fill=\"none\"/>\n",
       "    <path d=\"M18.56 5.44l.94 2.06.94-2.06 2.06-.94-2.06-.94-.94-2.06-.94 2.06-2.06.94zm-11 1L8.5 8.5l.94-2.06 2.06-.94-2.06-.94L8.5 2.5l-.94 2.06-2.06.94zm10 10l.94 2.06.94-2.06 2.06-.94-2.06-.94-.94-2.06-.94 2.06-2.06.94z\"/><path d=\"M17.41 7.96l-1.37-1.37c-.4-.4-.92-.59-1.43-.59-.52 0-1.04.2-1.43.59L10.3 9.45l-7.72 7.72c-.78.78-.78 2.05 0 2.83L4 21.41c.39.39.9.59 1.41.59.51 0 1.02-.2 1.41-.59l7.78-7.78 2.81-2.81c.8-.78.8-2.07 0-2.86zM5.41 20L4 18.59l7.72-7.72 1.47 1.35L5.41 20z\"/>\n",
       "  </svg>\n",
       "      </button>\n",
       "      \n",
       "  <style>\n",
       "    .colab-df-container {\n",
       "      display:flex;\n",
       "      flex-wrap:wrap;\n",
       "      gap: 12px;\n",
       "    }\n",
       "\n",
       "    .colab-df-convert {\n",
       "      background-color: #E8F0FE;\n",
       "      border: none;\n",
       "      border-radius: 50%;\n",
       "      cursor: pointer;\n",
       "      display: none;\n",
       "      fill: #1967D2;\n",
       "      height: 32px;\n",
       "      padding: 0 0 0 0;\n",
       "      width: 32px;\n",
       "    }\n",
       "\n",
       "    .colab-df-convert:hover {\n",
       "      background-color: #E2EBFA;\n",
       "      box-shadow: 0px 1px 2px rgba(60, 64, 67, 0.3), 0px 1px 3px 1px rgba(60, 64, 67, 0.15);\n",
       "      fill: #174EA6;\n",
       "    }\n",
       "\n",
       "    [theme=dark] .colab-df-convert {\n",
       "      background-color: #3B4455;\n",
       "      fill: #D2E3FC;\n",
       "    }\n",
       "\n",
       "    [theme=dark] .colab-df-convert:hover {\n",
       "      background-color: #434B5C;\n",
       "      box-shadow: 0px 1px 3px 1px rgba(0, 0, 0, 0.15);\n",
       "      filter: drop-shadow(0px 1px 2px rgba(0, 0, 0, 0.3));\n",
       "      fill: #FFFFFF;\n",
       "    }\n",
       "  </style>\n",
       "\n",
       "      <script>\n",
       "        const buttonEl =\n",
       "          document.querySelector('#df-ce921a9f-1277-4d74-a4ae-0ba808a45f94 button.colab-df-convert');\n",
       "        buttonEl.style.display =\n",
       "          google.colab.kernel.accessAllowed ? 'block' : 'none';\n",
       "\n",
       "        async function convertToInteractive(key) {\n",
       "          const element = document.querySelector('#df-ce921a9f-1277-4d74-a4ae-0ba808a45f94');\n",
       "          const dataTable =\n",
       "            await google.colab.kernel.invokeFunction('convertToInteractive',\n",
       "                                                     [key], {});\n",
       "          if (!dataTable) return;\n",
       "\n",
       "          const docLinkHtml = 'Like what you see? Visit the ' +\n",
       "            '<a target=\"_blank\" href=https://colab.research.google.com/notebooks/data_table.ipynb>data table notebook</a>'\n",
       "            + ' to learn more about interactive tables.';\n",
       "          element.innerHTML = '';\n",
       "          dataTable['output_type'] = 'display_data';\n",
       "          await google.colab.output.renderOutput(dataTable, element);\n",
       "          const docLink = document.createElement('div');\n",
       "          docLink.innerHTML = docLinkHtml;\n",
       "          element.appendChild(docLink);\n",
       "        }\n",
       "      </script>\n",
       "    </div>\n",
       "  </div>\n",
       "  "
      ],
      "text/plain": [
       "                                                                                                                 text  \\\n",
       "1                                                                                        K..going bacckk to stävänger   \n",
       "10                                                           K I'll be sure to get up before noon and see what's what   \n",
       "75                                                                                                  Yup bathe liao...   \n",
       "76  I am getting threats from your sales executive Shifad as i raised complaint against him. Its an official message.   \n",
       "77                                                                        S.this will increase the chance of winning.   \n",
       "78                                            How are you doing. How's the queen. Are you going for the royal wedding   \n",
       "\n",
       "                                                                                           cleaned_text  \n",
       "1                                                                                   bacckk to stavanger  \n",
       "10                                                         K be sure to get up before noon and see what  \n",
       "75                                                                                            Yup bathe  \n",
       "76  I am getting threats from your sales executive Shifad as i raised complaint against Its an official  \n",
       "77                                                                          will increase the chance of  \n",
       "78                                                  How are you the Are you going for the royal wedding  "
      ]
     },
     "execution_count": 40,
     "metadata": {},
     "output_type": "execute_result"
    }
   ],
   "source": [
    "data.loc[[1,10,75,76,77,78],['text','cleaned_text']]"
   ]
  },
  {
   "cell_type": "markdown",
   "metadata": {
    "id": "ZQBP3FLSMs_6"
   },
   "source": [
    "* **isalnum()** has removed the special characters from the text successfully.\n",
    "* If we observe the text closely, the words attached with the special characters have also been removed.\n",
    "* For example, in the text 'Yup bathe liao...' the word 'liao...' is removed as it was attached to special characters.\n",
    "* **isalnum()** is a stringent function and works well when the special characters are separated by a white space character or space.\n",
    "* Another efficient way to deal with special characters is to use the **regex** library. "
   ]
  },
  {
   "cell_type": "code",
   "execution_count": null,
   "metadata": {
    "id": "HAbOefHgIIEk"
   },
   "outputs": [],
   "source": [
    "# importing regex library\n",
    "import re\n",
    "\n",
    "\n",
    "# defining an empty list\n",
    "text = []\n",
    "\n",
    "# Specifying the pattern for regex to match a string of characters that are not a letters or numbers \n",
    "# regex will look for alphabets A to Z, a to z, and numbers 0 to 9\n",
    "pattern = '[^A-Za-z0-9]+'\n",
    "\n",
    "# looping over each message in the data\n",
    "for i in range(data.shape[0]):\n",
    "\n",
    "    words = data['cleaned_text'][i].split() # splitting text into separate words\n",
    "    new_text = ''.join(re.sub(pattern, ' ', data['cleaned_text'][i])) # finding the pattern and using the join() function to retrive the original text\n",
    "    text.append(new_text) # append the new_text to empty list text\n",
    "    \n",
    "data['cleaned_text'] = text  "
   ]
  },
  {
   "cell_type": "markdown",
   "metadata": {
    "id": "08PKI_tp-mQV"
   },
   "source": [
    "Let's take a look at some random samples to view the text now."
   ]
  },
  {
   "cell_type": "code",
   "execution_count": null,
   "metadata": {
    "colab": {
     "base_uri": "https://localhost:8080/",
     "height": 298
    },
    "id": "zw7vMP-fP16i",
    "outputId": "6a7bbf10-ebfe-46a9-b586-1982c0a2e13f"
   },
   "outputs": [
    {
     "data": {
      "text/html": [
       "\n",
       "  <div id=\"df-bc240f64-e219-4a40-a910-7d1b25735b11\">\n",
       "    <div class=\"colab-df-container\">\n",
       "      <div>\n",
       "<style scoped>\n",
       "    .dataframe tbody tr th:only-of-type {\n",
       "        vertical-align: middle;\n",
       "    }\n",
       "\n",
       "    .dataframe tbody tr th {\n",
       "        vertical-align: top;\n",
       "    }\n",
       "\n",
       "    .dataframe thead th {\n",
       "        text-align: right;\n",
       "    }\n",
       "</style>\n",
       "<table border=\"1\" class=\"dataframe\">\n",
       "  <thead>\n",
       "    <tr style=\"text-align: right;\">\n",
       "      <th></th>\n",
       "      <th>text</th>\n",
       "      <th>cleaned_text</th>\n",
       "    </tr>\n",
       "  </thead>\n",
       "  <tbody>\n",
       "    <tr>\n",
       "      <th>1</th>\n",
       "      <td>K..going bacckk to stävänger</td>\n",
       "      <td>bacckk to stavanger</td>\n",
       "    </tr>\n",
       "    <tr>\n",
       "      <th>10</th>\n",
       "      <td>K I'll be sure to get up before noon and see what's what</td>\n",
       "      <td>K be sure to get up before noon and see what</td>\n",
       "    </tr>\n",
       "    <tr>\n",
       "      <th>75</th>\n",
       "      <td>Yup bathe liao...</td>\n",
       "      <td>Yup bathe</td>\n",
       "    </tr>\n",
       "    <tr>\n",
       "      <th>76</th>\n",
       "      <td>I am getting threats from your sales executive Shifad as i raised complaint against him. Its an official message.</td>\n",
       "      <td>I am getting threats from your sales executive Shifad as i raised complaint against Its an official</td>\n",
       "    </tr>\n",
       "    <tr>\n",
       "      <th>77</th>\n",
       "      <td>S.this will increase the chance of winning.</td>\n",
       "      <td>will increase the chance of</td>\n",
       "    </tr>\n",
       "    <tr>\n",
       "      <th>78</th>\n",
       "      <td>How are you doing. How's the queen. Are you going for the royal wedding</td>\n",
       "      <td>How are you the Are you going for the royal wedding</td>\n",
       "    </tr>\n",
       "  </tbody>\n",
       "</table>\n",
       "</div>\n",
       "      <button class=\"colab-df-convert\" onclick=\"convertToInteractive('df-bc240f64-e219-4a40-a910-7d1b25735b11')\"\n",
       "              title=\"Convert this dataframe to an interactive table.\"\n",
       "              style=\"display:none;\">\n",
       "        \n",
       "  <svg xmlns=\"http://www.w3.org/2000/svg\" height=\"24px\"viewBox=\"0 0 24 24\"\n",
       "       width=\"24px\">\n",
       "    <path d=\"M0 0h24v24H0V0z\" fill=\"none\"/>\n",
       "    <path d=\"M18.56 5.44l.94 2.06.94-2.06 2.06-.94-2.06-.94-.94-2.06-.94 2.06-2.06.94zm-11 1L8.5 8.5l.94-2.06 2.06-.94-2.06-.94L8.5 2.5l-.94 2.06-2.06.94zm10 10l.94 2.06.94-2.06 2.06-.94-2.06-.94-.94-2.06-.94 2.06-2.06.94z\"/><path d=\"M17.41 7.96l-1.37-1.37c-.4-.4-.92-.59-1.43-.59-.52 0-1.04.2-1.43.59L10.3 9.45l-7.72 7.72c-.78.78-.78 2.05 0 2.83L4 21.41c.39.39.9.59 1.41.59.51 0 1.02-.2 1.41-.59l7.78-7.78 2.81-2.81c.8-.78.8-2.07 0-2.86zM5.41 20L4 18.59l7.72-7.72 1.47 1.35L5.41 20z\"/>\n",
       "  </svg>\n",
       "      </button>\n",
       "      \n",
       "  <style>\n",
       "    .colab-df-container {\n",
       "      display:flex;\n",
       "      flex-wrap:wrap;\n",
       "      gap: 12px;\n",
       "    }\n",
       "\n",
       "    .colab-df-convert {\n",
       "      background-color: #E8F0FE;\n",
       "      border: none;\n",
       "      border-radius: 50%;\n",
       "      cursor: pointer;\n",
       "      display: none;\n",
       "      fill: #1967D2;\n",
       "      height: 32px;\n",
       "      padding: 0 0 0 0;\n",
       "      width: 32px;\n",
       "    }\n",
       "\n",
       "    .colab-df-convert:hover {\n",
       "      background-color: #E2EBFA;\n",
       "      box-shadow: 0px 1px 2px rgba(60, 64, 67, 0.3), 0px 1px 3px 1px rgba(60, 64, 67, 0.15);\n",
       "      fill: #174EA6;\n",
       "    }\n",
       "\n",
       "    [theme=dark] .colab-df-convert {\n",
       "      background-color: #3B4455;\n",
       "      fill: #D2E3FC;\n",
       "    }\n",
       "\n",
       "    [theme=dark] .colab-df-convert:hover {\n",
       "      background-color: #434B5C;\n",
       "      box-shadow: 0px 1px 3px 1px rgba(0, 0, 0, 0.15);\n",
       "      filter: drop-shadow(0px 1px 2px rgba(0, 0, 0, 0.3));\n",
       "      fill: #FFFFFF;\n",
       "    }\n",
       "  </style>\n",
       "\n",
       "      <script>\n",
       "        const buttonEl =\n",
       "          document.querySelector('#df-bc240f64-e219-4a40-a910-7d1b25735b11 button.colab-df-convert');\n",
       "        buttonEl.style.display =\n",
       "          google.colab.kernel.accessAllowed ? 'block' : 'none';\n",
       "\n",
       "        async function convertToInteractive(key) {\n",
       "          const element = document.querySelector('#df-bc240f64-e219-4a40-a910-7d1b25735b11');\n",
       "          const dataTable =\n",
       "            await google.colab.kernel.invokeFunction('convertToInteractive',\n",
       "                                                     [key], {});\n",
       "          if (!dataTable) return;\n",
       "\n",
       "          const docLinkHtml = 'Like what you see? Visit the ' +\n",
       "            '<a target=\"_blank\" href=https://colab.research.google.com/notebooks/data_table.ipynb>data table notebook</a>'\n",
       "            + ' to learn more about interactive tables.';\n",
       "          element.innerHTML = '';\n",
       "          dataTable['output_type'] = 'display_data';\n",
       "          await google.colab.output.renderOutput(dataTable, element);\n",
       "          const docLink = document.createElement('div');\n",
       "          docLink.innerHTML = docLinkHtml;\n",
       "          element.appendChild(docLink);\n",
       "        }\n",
       "      </script>\n",
       "    </div>\n",
       "  </div>\n",
       "  "
      ],
      "text/plain": [
       "                                                                                                                 text  \\\n",
       "1                                                                                        K..going bacckk to stävänger   \n",
       "10                                                           K I'll be sure to get up before noon and see what's what   \n",
       "75                                                                                                  Yup bathe liao...   \n",
       "76  I am getting threats from your sales executive Shifad as i raised complaint against him. Its an official message.   \n",
       "77                                                                        S.this will increase the chance of winning.   \n",
       "78                                            How are you doing. How's the queen. Are you going for the royal wedding   \n",
       "\n",
       "                                                                                           cleaned_text  \n",
       "1                                                                                   bacckk to stavanger  \n",
       "10                                                         K be sure to get up before noon and see what  \n",
       "75                                                                                            Yup bathe  \n",
       "76  I am getting threats from your sales executive Shifad as i raised complaint against Its an official  \n",
       "77                                                                          will increase the chance of  \n",
       "78                                                  How are you the Are you going for the royal wedding  "
      ]
     },
     "execution_count": 42,
     "metadata": {},
     "output_type": "execute_result"
    }
   ],
   "source": [
    "data.loc[[1,10,75,76,77,78],['text','cleaned_text']]"
   ]
  },
  {
   "cell_type": "markdown",
   "metadata": {
    "id": "737OaaEGhf7C"
   },
   "source": [
    "- We can observe that regex simply removed the special characters and retained the alphabets and numbers."
   ]
  },
  {
   "cell_type": "markdown",
   "metadata": {
    "id": "SX3_fALPHSqL"
   },
   "source": [
    "## **Text Preprocessing Step 3**\n",
    "## **Lowercasing**"
   ]
  },
  {
   "cell_type": "markdown",
   "metadata": {
    "id": "RhVVKf-NSGP9"
   },
   "source": [
    "* **Lowercasing is an important text preprocessing technique.** The goal is to change the input text's case so that the words \"text,\" \"Text,\" and \"TEXT\" are all treated equally. Strings in Python are of course case-sensitive, so Python will not automatically do this for us.\n",
    "* Lowercasing helps reduce duplication and obtain accurate counts - it is hence an important part of various **\"feature extraction\"** approaches for text data."
   ]
  },
  {
   "cell_type": "code",
   "execution_count": null,
   "metadata": {
    "id": "iAiBsh7BcjA6"
   },
   "outputs": [],
   "source": [
    "# defining an empty list\n",
    "text = []\n",
    "\n",
    "# looping over each message in the data\n",
    "for i in range(data.shape[0]):\n",
    "    # lowecasing the text using the lower() function\n",
    "    new_text = data['cleaned_text'][i].lower()\n",
    "    text.append(new_text) # append the new_text to empty list text\n",
    "\n",
    "data['cleaned_text'] = text"
   ]
  },
  {
   "cell_type": "markdown",
   "metadata": {
    "id": "sifuorQd_PSf"
   },
   "source": [
    "Let's take a look at some random samples now:"
   ]
  },
  {
   "cell_type": "code",
   "execution_count": null,
   "metadata": {
    "colab": {
     "base_uri": "https://localhost:8080/",
     "height": 239
    },
    "id": "-KzOskMHgVaB",
    "outputId": "83615dcc-1323-45c0-ef8a-c719e4d72db1"
   },
   "outputs": [
    {
     "data": {
      "text/html": [
       "\n",
       "  <div id=\"df-98455cec-c89c-4437-991d-216ba786eae6\">\n",
       "    <div class=\"colab-df-container\">\n",
       "      <div>\n",
       "<style scoped>\n",
       "    .dataframe tbody tr th:only-of-type {\n",
       "        vertical-align: middle;\n",
       "    }\n",
       "\n",
       "    .dataframe tbody tr th {\n",
       "        vertical-align: top;\n",
       "    }\n",
       "\n",
       "    .dataframe thead th {\n",
       "        text-align: right;\n",
       "    }\n",
       "</style>\n",
       "<table border=\"1\" class=\"dataframe\">\n",
       "  <thead>\n",
       "    <tr style=\"text-align: right;\">\n",
       "      <th></th>\n",
       "      <th>text</th>\n",
       "      <th>cleaned_text</th>\n",
       "    </tr>\n",
       "  </thead>\n",
       "  <tbody>\n",
       "    <tr>\n",
       "      <th>4320</th>\n",
       "      <td>URGENT! We are trying to contact U. Todays draw shows that you have won a £800 prize GUARANTEED. Call 09050001808 from land line. Claim M95. Valid12hrs only</td>\n",
       "      <td>we are trying to contact todays draw shows that you have won a ps800 prize call 09050001808 from land claim valid12hrs only</td>\n",
       "    </tr>\n",
       "    <tr>\n",
       "      <th>4321</th>\n",
       "      <td>Bloomberg -Message center +447797706009 Why wait? Apply for your future http://careers. bloomberg.com</td>\n",
       "      <td>bloomberg center why apply for your future</td>\n",
       "    </tr>\n",
       "    <tr>\n",
       "      <th>4322</th>\n",
       "      <td>WIN a £200 Shopping spree every WEEK Starting NOW. 2 play text STORE to 88039. SkilGme. TsCs08714740323 1Winawk! age16 £1.50perweeksub.</td>\n",
       "      <td>win a ps200 shopping spree every week starting 2 play text store to tscs08714740323 age16</td>\n",
       "    </tr>\n",
       "  </tbody>\n",
       "</table>\n",
       "</div>\n",
       "      <button class=\"colab-df-convert\" onclick=\"convertToInteractive('df-98455cec-c89c-4437-991d-216ba786eae6')\"\n",
       "              title=\"Convert this dataframe to an interactive table.\"\n",
       "              style=\"display:none;\">\n",
       "        \n",
       "  <svg xmlns=\"http://www.w3.org/2000/svg\" height=\"24px\"viewBox=\"0 0 24 24\"\n",
       "       width=\"24px\">\n",
       "    <path d=\"M0 0h24v24H0V0z\" fill=\"none\"/>\n",
       "    <path d=\"M18.56 5.44l.94 2.06.94-2.06 2.06-.94-2.06-.94-.94-2.06-.94 2.06-2.06.94zm-11 1L8.5 8.5l.94-2.06 2.06-.94-2.06-.94L8.5 2.5l-.94 2.06-2.06.94zm10 10l.94 2.06.94-2.06 2.06-.94-2.06-.94-.94-2.06-.94 2.06-2.06.94z\"/><path d=\"M17.41 7.96l-1.37-1.37c-.4-.4-.92-.59-1.43-.59-.52 0-1.04.2-1.43.59L10.3 9.45l-7.72 7.72c-.78.78-.78 2.05 0 2.83L4 21.41c.39.39.9.59 1.41.59.51 0 1.02-.2 1.41-.59l7.78-7.78 2.81-2.81c.8-.78.8-2.07 0-2.86zM5.41 20L4 18.59l7.72-7.72 1.47 1.35L5.41 20z\"/>\n",
       "  </svg>\n",
       "      </button>\n",
       "      \n",
       "  <style>\n",
       "    .colab-df-container {\n",
       "      display:flex;\n",
       "      flex-wrap:wrap;\n",
       "      gap: 12px;\n",
       "    }\n",
       "\n",
       "    .colab-df-convert {\n",
       "      background-color: #E8F0FE;\n",
       "      border: none;\n",
       "      border-radius: 50%;\n",
       "      cursor: pointer;\n",
       "      display: none;\n",
       "      fill: #1967D2;\n",
       "      height: 32px;\n",
       "      padding: 0 0 0 0;\n",
       "      width: 32px;\n",
       "    }\n",
       "\n",
       "    .colab-df-convert:hover {\n",
       "      background-color: #E2EBFA;\n",
       "      box-shadow: 0px 1px 2px rgba(60, 64, 67, 0.3), 0px 1px 3px 1px rgba(60, 64, 67, 0.15);\n",
       "      fill: #174EA6;\n",
       "    }\n",
       "\n",
       "    [theme=dark] .colab-df-convert {\n",
       "      background-color: #3B4455;\n",
       "      fill: #D2E3FC;\n",
       "    }\n",
       "\n",
       "    [theme=dark] .colab-df-convert:hover {\n",
       "      background-color: #434B5C;\n",
       "      box-shadow: 0px 1px 3px 1px rgba(0, 0, 0, 0.15);\n",
       "      filter: drop-shadow(0px 1px 2px rgba(0, 0, 0, 0.3));\n",
       "      fill: #FFFFFF;\n",
       "    }\n",
       "  </style>\n",
       "\n",
       "      <script>\n",
       "        const buttonEl =\n",
       "          document.querySelector('#df-98455cec-c89c-4437-991d-216ba786eae6 button.colab-df-convert');\n",
       "        buttonEl.style.display =\n",
       "          google.colab.kernel.accessAllowed ? 'block' : 'none';\n",
       "\n",
       "        async function convertToInteractive(key) {\n",
       "          const element = document.querySelector('#df-98455cec-c89c-4437-991d-216ba786eae6');\n",
       "          const dataTable =\n",
       "            await google.colab.kernel.invokeFunction('convertToInteractive',\n",
       "                                                     [key], {});\n",
       "          if (!dataTable) return;\n",
       "\n",
       "          const docLinkHtml = 'Like what you see? Visit the ' +\n",
       "            '<a target=\"_blank\" href=https://colab.research.google.com/notebooks/data_table.ipynb>data table notebook</a>'\n",
       "            + ' to learn more about interactive tables.';\n",
       "          element.innerHTML = '';\n",
       "          dataTable['output_type'] = 'display_data';\n",
       "          await google.colab.output.renderOutput(dataTable, element);\n",
       "          const docLink = document.createElement('div');\n",
       "          docLink.innerHTML = docLinkHtml;\n",
       "          element.appendChild(docLink);\n",
       "        }\n",
       "      </script>\n",
       "    </div>\n",
       "  </div>\n",
       "  "
      ],
      "text/plain": [
       "                                                                                                                                                              text  \\\n",
       "4320  URGENT! We are trying to contact U. Todays draw shows that you have won a £800 prize GUARANTEED. Call 09050001808 from land line. Claim M95. Valid12hrs only   \n",
       "4321                                                         Bloomberg -Message center +447797706009 Why wait? Apply for your future http://careers. bloomberg.com   \n",
       "4322                       WIN a £200 Shopping spree every WEEK Starting NOW. 2 play text STORE to 88039. SkilGme. TsCs08714740323 1Winawk! age16 £1.50perweeksub.   \n",
       "\n",
       "                                                                                                                     cleaned_text  \n",
       "4320  we are trying to contact todays draw shows that you have won a ps800 prize call 09050001808 from land claim valid12hrs only  \n",
       "4321                                                                                   bloomberg center why apply for your future  \n",
       "4322                                    win a ps200 shopping spree every week starting 2 play text store to tscs08714740323 age16  "
      ]
     },
     "execution_count": 44,
     "metadata": {},
     "output_type": "execute_result"
    }
   ],
   "source": [
    "data.loc[4320:4322,['text','cleaned_text']]"
   ]
  },
  {
   "cell_type": "markdown",
   "metadata": {
    "id": "I_6t2BPsgkFL"
   },
   "source": [
    "- We can observe that, all the text has now successfully been converted to lower case."
   ]
  },
  {
   "cell_type": "markdown",
   "metadata": {
    "id": "2ZEkERIJH_Ox"
   },
   "source": [
    "## **Text Preprocessing Step 4**\n",
    "## **Stripping Extra Spaces**"
   ]
  },
  {
   "cell_type": "markdown",
   "metadata": {
    "id": "FcH6p24XzrM4"
   },
   "source": [
    "* Stripping helps remove spaces at the beginning and the end of the string/sentence. \n",
    "* The extra spaces in between the characters and the spaces at the start or end of the string do not add any value to the model, and will rather slow down its computation speed. \n",
    "\n",
    "Thus, we can remove these extra spaces to make the model more efficient and targeted during the training process."
   ]
  },
  {
   "cell_type": "code",
   "execution_count": null,
   "metadata": {
    "id": "7BitMyx9zrM4"
   },
   "outputs": [],
   "source": [
    "# defining an empty list\n",
    "text = []\n",
    "\n",
    "# looping over each message in the data\n",
    "for i in range(data.shape[0]):\n",
    "    # removing extra spaces from the text using strip() function\n",
    "    new_text = data['cleaned_text'][i].strip() \n",
    "    text.append(new_text)  # append the new_text to empty list text\n",
    "    \n",
    "data['cleaned_text'] = text"
   ]
  },
  {
   "cell_type": "code",
   "execution_count": null,
   "metadata": {
    "colab": {
     "base_uri": "https://localhost:8080/"
    },
    "id": "SuWM_LR0IVQ4",
    "outputId": "680fa703-05b1-4730-a1f6-c7f50e747973"
   },
   "outputs": [
    {
     "name": "stdout",
     "output_type": "stream",
     "text": [
      "Before stripping the text data:        Sure thing big man. i have hockey elections at 6, shouldn€˜t go on longer than an hour though     \n",
      "After stripping the text data: sure thing big i have hockey elections at go on longer than an hour though\n"
     ]
    }
   ],
   "source": [
    "print(\"Before stripping the text data:\",data['text'][6])\n",
    "print(\"After stripping the text data:\",data['cleaned_text'][6])"
   ]
  },
  {
   "cell_type": "markdown",
   "metadata": {
    "id": "PBBeMn1gIdaF"
   },
   "source": [
    "- We now see that we have eliminated redundant extra spaces from the text."
   ]
  },
  {
   "cell_type": "markdown",
   "metadata": {
    "id": "qYs1gzEA9_A4"
   },
   "source": [
    "As we have now performed lowercasing, removed the special & accented characters and numbers, and also stripped the text of its extra spaces, **this would be a good time to correct misspelled words**, since the unwanted text has now been removed."
   ]
  },
  {
   "cell_type": "markdown",
   "metadata": {
    "id": "IC9Zb-4XzrM7"
   },
   "source": [
    "## **Text Preprocessing Step 5**\n",
    "## **Spellchecking**"
   ]
  },
  {
   "cell_type": "code",
   "execution_count": null,
   "metadata": {
    "colab": {
     "base_uri": "https://localhost:8080/"
    },
    "id": "-FrtvegZzrM7",
    "outputId": "20aceb40-7d87-4c85-bd5d-9af6ae8d02d1"
   },
   "outputs": [
    {
     "name": "stdout",
     "output_type": "stream",
     "text": [
      "Looking in indexes: https://pypi.org/simple, https://us-python.pkg.dev/colab-wheels/public/simple/\n",
      "Requirement already satisfied: autocorrect in /usr/local/lib/python3.8/dist-packages (2.6.1)\n"
     ]
    }
   ],
   "source": [
    "!pip install autocorrect"
   ]
  },
  {
   "cell_type": "code",
   "execution_count": null,
   "metadata": {
    "id": "btuKJVQmzrM7"
   },
   "outputs": [],
   "source": [
    "# intializing the spellchecker and setting the language to english\n",
    "spell = Speller(lang = 'en')\n",
    "\n",
    "# defining a function which will take text as an input break\n",
    "def autospell(text):\n",
    "  '''\n",
    "  A function which takes text as an input, performs a spell check, and autocorrects misspelled words  \n",
    "  text: text input (object)\n",
    "  '''\n",
    "  word = text.split() # splitting text into separate words \n",
    "  spells = [spell(w) for w in word] # Spell checking on each word\n",
    "  return \" \".join(spells) # retriving the original text"
   ]
  },
  {
   "cell_type": "code",
   "execution_count": null,
   "metadata": {
    "id": "3Bbmv4gxzrM7"
   },
   "outputs": [],
   "source": [
    "# defining an empty list\n",
    "text = []\n",
    "\n",
    "# looping over each message in the data\n",
    "for i in range(data.shape[0]):\n",
    "    # applying the autospell function on the text messages\n",
    "    new_text = autospell(data['cleaned_text'][i]) \n",
    "    text.append(new_text) # append the new_text to empty list text\n",
    "\n",
    "data['cleaned_text'] = text"
   ]
  },
  {
   "cell_type": "code",
   "execution_count": null,
   "metadata": {
    "colab": {
     "base_uri": "https://localhost:8080/",
     "height": 143
    },
    "id": "EaXHj1ZzpILj",
    "outputId": "1b3ed6fd-fd6b-44df-f4b5-66c0b2cf4280"
   },
   "outputs": [
    {
     "data": {
      "text/html": [
       "\n",
       "  <div id=\"df-db868218-2c9f-4807-8a7d-6508b61422b6\">\n",
       "    <div class=\"colab-df-container\">\n",
       "      <div>\n",
       "<style scoped>\n",
       "    .dataframe tbody tr th:only-of-type {\n",
       "        vertical-align: middle;\n",
       "    }\n",
       "\n",
       "    .dataframe tbody tr th {\n",
       "        vertical-align: top;\n",
       "    }\n",
       "\n",
       "    .dataframe thead th {\n",
       "        text-align: right;\n",
       "    }\n",
       "</style>\n",
       "<table border=\"1\" class=\"dataframe\">\n",
       "  <thead>\n",
       "    <tr style=\"text-align: right;\">\n",
       "      <th></th>\n",
       "      <th>text</th>\n",
       "      <th>cleaned_text</th>\n",
       "    </tr>\n",
       "  </thead>\n",
       "  <tbody>\n",
       "    <tr>\n",
       "      <th>0</th>\n",
       "      <td>Hope you are having a good week. Just checking in ñó ñó</td>\n",
       "      <td>hope you are having a good just checking in no no</td>\n",
       "    </tr>\n",
       "    <tr>\n",
       "      <th>1</th>\n",
       "      <td>K..going bacckk to stävänger</td>\n",
       "      <td>bacckk to stavanger</td>\n",
       "    </tr>\n",
       "    <tr>\n",
       "      <th>2</th>\n",
       "      <td>Am also dong in cbe ony. Bt have to pay</td>\n",
       "      <td>am also dong in cbe bt have to pay</td>\n",
       "    </tr>\n",
       "  </tbody>\n",
       "</table>\n",
       "</div>\n",
       "      <button class=\"colab-df-convert\" onclick=\"convertToInteractive('df-db868218-2c9f-4807-8a7d-6508b61422b6')\"\n",
       "              title=\"Convert this dataframe to an interactive table.\"\n",
       "              style=\"display:none;\">\n",
       "        \n",
       "  <svg xmlns=\"http://www.w3.org/2000/svg\" height=\"24px\"viewBox=\"0 0 24 24\"\n",
       "       width=\"24px\">\n",
       "    <path d=\"M0 0h24v24H0V0z\" fill=\"none\"/>\n",
       "    <path d=\"M18.56 5.44l.94 2.06.94-2.06 2.06-.94-2.06-.94-.94-2.06-.94 2.06-2.06.94zm-11 1L8.5 8.5l.94-2.06 2.06-.94-2.06-.94L8.5 2.5l-.94 2.06-2.06.94zm10 10l.94 2.06.94-2.06 2.06-.94-2.06-.94-.94-2.06-.94 2.06-2.06.94z\"/><path d=\"M17.41 7.96l-1.37-1.37c-.4-.4-.92-.59-1.43-.59-.52 0-1.04.2-1.43.59L10.3 9.45l-7.72 7.72c-.78.78-.78 2.05 0 2.83L4 21.41c.39.39.9.59 1.41.59.51 0 1.02-.2 1.41-.59l7.78-7.78 2.81-2.81c.8-.78.8-2.07 0-2.86zM5.41 20L4 18.59l7.72-7.72 1.47 1.35L5.41 20z\"/>\n",
       "  </svg>\n",
       "      </button>\n",
       "      \n",
       "  <style>\n",
       "    .colab-df-container {\n",
       "      display:flex;\n",
       "      flex-wrap:wrap;\n",
       "      gap: 12px;\n",
       "    }\n",
       "\n",
       "    .colab-df-convert {\n",
       "      background-color: #E8F0FE;\n",
       "      border: none;\n",
       "      border-radius: 50%;\n",
       "      cursor: pointer;\n",
       "      display: none;\n",
       "      fill: #1967D2;\n",
       "      height: 32px;\n",
       "      padding: 0 0 0 0;\n",
       "      width: 32px;\n",
       "    }\n",
       "\n",
       "    .colab-df-convert:hover {\n",
       "      background-color: #E2EBFA;\n",
       "      box-shadow: 0px 1px 2px rgba(60, 64, 67, 0.3), 0px 1px 3px 1px rgba(60, 64, 67, 0.15);\n",
       "      fill: #174EA6;\n",
       "    }\n",
       "\n",
       "    [theme=dark] .colab-df-convert {\n",
       "      background-color: #3B4455;\n",
       "      fill: #D2E3FC;\n",
       "    }\n",
       "\n",
       "    [theme=dark] .colab-df-convert:hover {\n",
       "      background-color: #434B5C;\n",
       "      box-shadow: 0px 1px 3px 1px rgba(0, 0, 0, 0.15);\n",
       "      filter: drop-shadow(0px 1px 2px rgba(0, 0, 0, 0.3));\n",
       "      fill: #FFFFFF;\n",
       "    }\n",
       "  </style>\n",
       "\n",
       "      <script>\n",
       "        const buttonEl =\n",
       "          document.querySelector('#df-db868218-2c9f-4807-8a7d-6508b61422b6 button.colab-df-convert');\n",
       "        buttonEl.style.display =\n",
       "          google.colab.kernel.accessAllowed ? 'block' : 'none';\n",
       "\n",
       "        async function convertToInteractive(key) {\n",
       "          const element = document.querySelector('#df-db868218-2c9f-4807-8a7d-6508b61422b6');\n",
       "          const dataTable =\n",
       "            await google.colab.kernel.invokeFunction('convertToInteractive',\n",
       "                                                     [key], {});\n",
       "          if (!dataTable) return;\n",
       "\n",
       "          const docLinkHtml = 'Like what you see? Visit the ' +\n",
       "            '<a target=\"_blank\" href=https://colab.research.google.com/notebooks/data_table.ipynb>data table notebook</a>'\n",
       "            + ' to learn more about interactive tables.';\n",
       "          element.innerHTML = '';\n",
       "          dataTable['output_type'] = 'display_data';\n",
       "          await google.colab.output.renderOutput(dataTable, element);\n",
       "          const docLink = document.createElement('div');\n",
       "          docLink.innerHTML = docLinkHtml;\n",
       "          element.appendChild(docLink);\n",
       "        }\n",
       "      </script>\n",
       "    </div>\n",
       "  </div>\n",
       "  "
      ],
      "text/plain": [
       "                                                      text  \\\n",
       "0  Hope you are having a good week. Just checking in ñó ñó   \n",
       "1                             K..going bacckk to stävänger   \n",
       "2                  Am also dong in cbe ony. Bt have to pay   \n",
       "\n",
       "                                        cleaned_text  \n",
       "0  hope you are having a good just checking in no no  \n",
       "1                                bacckk to stavanger  \n",
       "2                 am also dong in cbe bt have to pay  "
      ]
     },
     "execution_count": 49,
     "metadata": {},
     "output_type": "execute_result"
    }
   ],
   "source": [
    "# Now have a look at the spell corrected words\n",
    "data.loc[0:2,['text','cleaned_text']]"
   ]
  },
  {
   "cell_type": "markdown",
   "metadata": {
    "id": "3ZMBOFjezrM7"
   },
   "source": [
    "- We observe that the spell correction seems to have worked but is not at its best. \n",
    "- For row 1, 'bacckk' was corrected to back but it didn't work well for row 2 where many misspelled words were left as is."
   ]
  },
  {
   "cell_type": "markdown",
   "metadata": {
    "id": "IQSR8NouibTS"
   },
   "source": [
    "## **Text Preprocessing Step 6**\n",
    "## **Stop word Removal**"
   ]
  },
  {
   "cell_type": "markdown",
   "metadata": {
    "id": "bVMaV8X6zrM8"
   },
   "source": [
    "* The simple idea with stop word removal is to **exclude words that appear frequently throughout** all the documents in the corpus. Pronouns and articles are typically categorized as stop words.\n",
    "\n",
    "* To implement this, we have two Python libraries that are built to be used for NLP operations. Let's have a look at them and we'll implement them through both libraries."
   ]
  },
  {
   "cell_type": "markdown",
   "metadata": {
    "id": "Tj0TDlQbJaC_"
   },
   "source": [
    "**Before removing the stop words from the text however, let's have a look at the key words from the original data through visual representation.**\n",
    "\n",
    "### **Word Cloud**\n",
    "\n",
    "A word cloud (also known as a tag cloud or text cloud) is a **visual representation of text**, in which the words appear bigger the more often they are mentioned. Word clouds are great for visualizing unstructured text data and getting insights on trends and patterns.\n",
    "\n"
   ]
  },
  {
   "cell_type": "markdown",
   "metadata": {
    "id": "rQ9AVT18KNdd"
   },
   "source": [
    "**Let's look at the top 100 unique words in original messages**"
   ]
  },
  {
   "cell_type": "code",
   "execution_count": null,
   "metadata": {
    "colab": {
     "base_uri": "https://localhost:8080/",
     "height": 272
    },
    "id": "s8nFUlNWKR0E",
    "outputId": "59903eb9-e1e8-45c3-8a71-996cfc89752a"
   },
   "outputs": [
    {
     "name": "stdout",
     "output_type": "stream",
     "text": [
      "There are 366171 words in the combination of all texts.\n"
     ]
    },
    {
     "data": {
      "image/png": "[encoded data removed]",
      "text/plain": [
       "<Figure size 576x864 with 1 Axes>"
      ]
     },
     "metadata": {
      "needs_background": "light"
     },
     "output_type": "display_data"
    }
   ],
   "source": [
    "all_texts = \" \".join(texts for texts in data.text)\n",
    "print (\"There are {} words in the combination of all texts.\".format(len(all_texts)))\n",
    "\n",
    "# lower max_font_size, change the maximum number of word and lighten the background:\n",
    "wordcloud = WordCloud(max_font_size = 40, max_words=100, background_color=\"white\").generate(all_texts)\n",
    "plt.figure(figsize=(8,12))\n",
    "plt.imshow(wordcloud)\n",
    "plt.axis(\"off\")\n",
    "plt.show()"
   ]
  },
  {
   "cell_type": "markdown",
   "metadata": {
    "id": "g0d2j2WGKKfV"
   },
   "source": [
    "**Let's look at the top 100 unique words in the messages where we have applied some text preprocessing steps**"
   ]
  },
  {
   "cell_type": "code",
   "execution_count": null,
   "metadata": {
    "colab": {
     "base_uri": "https://localhost:8080/",
     "height": 272
    },
    "id": "nSIuNonqh2jp",
    "outputId": "7c173c9e-c643-4e6f-f3de-df7d5408a8c9"
   },
   "outputs": [
    {
     "name": "stdout",
     "output_type": "stream",
     "text": [
      "There are 275444 words in the combination of all texts.\n"
     ]
    },
    {
     "data": {
      "image/png": "[encoded data removed]",
      "text/plain": [
       "<Figure size 576x864 with 1 Axes>"
      ]
     },
     "metadata": {
      "needs_background": "light"
     },
     "output_type": "display_data"
    }
   ],
   "source": [
    "all_texts = \" \".join(texts for texts in data.cleaned_text)\n",
    "print (\"There are {} words in the combination of all texts.\".format(len(all_texts)))\n",
    "\n",
    "# lower max_font_size, change the maximum number of word and lighten the background:\n",
    "wordcloud = WordCloud(max_font_size = 40, max_words=100, background_color=\"white\").generate(all_texts)\n",
    "plt.figure(figsize=(8,12))\n",
    "plt.imshow(wordcloud)\n",
    "plt.axis(\"off\")\n",
    "plt.show()"
   ]
  },
  {
   "cell_type": "markdown",
   "metadata": {
    "id": "Mtwq2AzlLVzW"
   },
   "source": [
    "- As we see, there were 366,171 words in the data before preprocessing and 274,650 words after the preprocessing."
   ]
  },
  {
   "cell_type": "markdown",
   "metadata": {
    "id": "38_s1hFyj007"
   },
   "source": [
    "### **Removing the stop words using the NLTK library**\n",
    "\n",
    "NLTK has an in-built list of stop words, and it can utilize that list to remove the stop words from the dataset."
   ]
  },
  {
   "cell_type": "code",
   "execution_count": null,
   "metadata": {
    "id": "IUEFcs57zrM8"
   },
   "outputs": [],
   "source": [
    "# defining an empty list\n",
    "text = []\n",
    "\n",
    "for i in range(data.shape[0]):\n",
    "    \n",
    "    word = data['cleaned_text'][i].split() # splitting text into separate words \n",
    "    # removing the english language stopwords from the messages\n",
    "    new_text = [w for w in word if not w in stopwords.words('english')] \n",
    "    new_text = ' '.join(new_text) #retriving the original text\n",
    "    text.append(new_text) # \n",
    "    \n",
    "data['NLTK_nostopwords_text'] = text "
   ]
  },
  {
   "cell_type": "code",
   "execution_count": null,
   "metadata": {
    "colab": {
     "base_uri": "https://localhost:8080/",
     "height": 143
    },
    "id": "JSwPpU8SzrM8",
    "outputId": "3e3e311d-4c66-4d04-c705-fc1a9bc729e6"
   },
   "outputs": [
    {
     "data": {
      "text/html": [
       "\n",
       "  <div id=\"df-1c7a5f13-6a65-4dab-9a9a-2243faf258a5\">\n",
       "    <div class=\"colab-df-container\">\n",
       "      <div>\n",
       "<style scoped>\n",
       "    .dataframe tbody tr th:only-of-type {\n",
       "        vertical-align: middle;\n",
       "    }\n",
       "\n",
       "    .dataframe tbody tr th {\n",
       "        vertical-align: top;\n",
       "    }\n",
       "\n",
       "    .dataframe thead th {\n",
       "        text-align: right;\n",
       "    }\n",
       "</style>\n",
       "<table border=\"1\" class=\"dataframe\">\n",
       "  <thead>\n",
       "    <tr style=\"text-align: right;\">\n",
       "      <th></th>\n",
       "      <th>cleaned_text</th>\n",
       "      <th>NLTK_nostopwords_text</th>\n",
       "    </tr>\n",
       "  </thead>\n",
       "  <tbody>\n",
       "    <tr>\n",
       "      <th>6</th>\n",
       "      <td>sure thing big i have hockey elections at go on longer than an hour though</td>\n",
       "      <td>sure thing big hockey elections go longer hour though</td>\n",
       "    </tr>\n",
       "    <tr>\n",
       "      <th>7</th>\n",
       "      <td>i anything</td>\n",
       "      <td>anything</td>\n",
       "    </tr>\n",
       "    <tr>\n",
       "      <th>8</th>\n",
       "      <td>by march i should be but will call you for the problem is that my capital never how far with work and the ladies</td>\n",
       "      <td>march call problem capital never far work ladies</td>\n",
       "    </tr>\n",
       "  </tbody>\n",
       "</table>\n",
       "</div>\n",
       "      <button class=\"colab-df-convert\" onclick=\"convertToInteractive('df-1c7a5f13-6a65-4dab-9a9a-2243faf258a5')\"\n",
       "              title=\"Convert this dataframe to an interactive table.\"\n",
       "              style=\"display:none;\">\n",
       "        \n",
       "  <svg xmlns=\"http://www.w3.org/2000/svg\" height=\"24px\"viewBox=\"0 0 24 24\"\n",
       "       width=\"24px\">\n",
       "    <path d=\"M0 0h24v24H0V0z\" fill=\"none\"/>\n",
       "    <path d=\"M18.56 5.44l.94 2.06.94-2.06 2.06-.94-2.06-.94-.94-2.06-.94 2.06-2.06.94zm-11 1L8.5 8.5l.94-2.06 2.06-.94-2.06-.94L8.5 2.5l-.94 2.06-2.06.94zm10 10l.94 2.06.94-2.06 2.06-.94-2.06-.94-.94-2.06-.94 2.06-2.06.94z\"/><path d=\"M17.41 7.96l-1.37-1.37c-.4-.4-.92-.59-1.43-.59-.52 0-1.04.2-1.43.59L10.3 9.45l-7.72 7.72c-.78.78-.78 2.05 0 2.83L4 21.41c.39.39.9.59 1.41.59.51 0 1.02-.2 1.41-.59l7.78-7.78 2.81-2.81c.8-.78.8-2.07 0-2.86zM5.41 20L4 18.59l7.72-7.72 1.47 1.35L5.41 20z\"/>\n",
       "  </svg>\n",
       "      </button>\n",
       "      \n",
       "  <style>\n",
       "    .colab-df-container {\n",
       "      display:flex;\n",
       "      flex-wrap:wrap;\n",
       "      gap: 12px;\n",
       "    }\n",
       "\n",
       "    .colab-df-convert {\n",
       "      background-color: #E8F0FE;\n",
       "      border: none;\n",
       "      border-radius: 50%;\n",
       "      cursor: pointer;\n",
       "      display: none;\n",
       "      fill: #1967D2;\n",
       "      height: 32px;\n",
       "      padding: 0 0 0 0;\n",
       "      width: 32px;\n",
       "    }\n",
       "\n",
       "    .colab-df-convert:hover {\n",
       "      background-color: #E2EBFA;\n",
       "      box-shadow: 0px 1px 2px rgba(60, 64, 67, 0.3), 0px 1px 3px 1px rgba(60, 64, 67, 0.15);\n",
       "      fill: #174EA6;\n",
       "    }\n",
       "\n",
       "    [theme=dark] .colab-df-convert {\n",
       "      background-color: #3B4455;\n",
       "      fill: #D2E3FC;\n",
       "    }\n",
       "\n",
       "    [theme=dark] .colab-df-convert:hover {\n",
       "      background-color: #434B5C;\n",
       "      box-shadow: 0px 1px 3px 1px rgba(0, 0, 0, 0.15);\n",
       "      filter: drop-shadow(0px 1px 2px rgba(0, 0, 0, 0.3));\n",
       "      fill: #FFFFFF;\n",
       "    }\n",
       "  </style>\n",
       "\n",
       "      <script>\n",
       "        const buttonEl =\n",
       "          document.querySelector('#df-1c7a5f13-6a65-4dab-9a9a-2243faf258a5 button.colab-df-convert');\n",
       "        buttonEl.style.display =\n",
       "          google.colab.kernel.accessAllowed ? 'block' : 'none';\n",
       "\n",
       "        async function convertToInteractive(key) {\n",
       "          const element = document.querySelector('#df-1c7a5f13-6a65-4dab-9a9a-2243faf258a5');\n",
       "          const dataTable =\n",
       "            await google.colab.kernel.invokeFunction('convertToInteractive',\n",
       "                                                     [key], {});\n",
       "          if (!dataTable) return;\n",
       "\n",
       "          const docLinkHtml = 'Like what you see? Visit the ' +\n",
       "            '<a target=\"_blank\" href=https://colab.research.google.com/notebooks/data_table.ipynb>data table notebook</a>'\n",
       "            + ' to learn more about interactive tables.';\n",
       "          element.innerHTML = '';\n",
       "          dataTable['output_type'] = 'display_data';\n",
       "          await google.colab.output.renderOutput(dataTable, element);\n",
       "          const docLink = document.createElement('div');\n",
       "          docLink.innerHTML = docLinkHtml;\n",
       "          element.appendChild(docLink);\n",
       "        }\n",
       "      </script>\n",
       "    </div>\n",
       "  </div>\n",
       "  "
      ],
      "text/plain": [
       "                                                                                                       cleaned_text  \\\n",
       "6                                        sure thing big i have hockey elections at go on longer than an hour though   \n",
       "7                                                                                                        i anything   \n",
       "8  by march i should be but will call you for the problem is that my capital never how far with work and the ladies   \n",
       "\n",
       "                                   NLTK_nostopwords_text  \n",
       "6  sure thing big hockey elections go longer hour though  \n",
       "7                                               anything  \n",
       "8       march call problem capital never far work ladies  "
      ]
     },
     "execution_count": 53,
     "metadata": {},
     "output_type": "execute_result"
    }
   ],
   "source": [
    "data.loc[6:8,['cleaned_text','NLTK_nostopwords_text']]"
   ]
  },
  {
   "cell_type": "markdown",
   "metadata": {
    "id": "NM0T0T3-zrM9"
   },
   "source": [
    "- We observe that stop words are removed from the text column. \n",
    "- For row 6, `i have`, `at` and `than an` are removed. \n",
    "- In row 7, **i** character was removed."
   ]
  },
  {
   "cell_type": "markdown",
   "metadata": {
    "id": "oUtL9NGAMEEw"
   },
   "source": [
    "### **After stop words removal**"
   ]
  },
  {
   "cell_type": "code",
   "execution_count": null,
   "metadata": {
    "colab": {
     "base_uri": "https://localhost:8080/",
     "height": 272
    },
    "id": "lcYsF_ppMIWw",
    "outputId": "4bc99bf3-ffdc-44e3-b7cb-c38be55dd9c6"
   },
   "outputs": [
    {
     "name": "stdout",
     "output_type": "stream",
     "text": [
      "There are 179643 words in the combination of all texts.\n"
     ]
    },
    {
     "data": {
      "image/png": "[encoded data removed]",
      "text/plain": [
       "<Figure size 576x864 with 1 Axes>"
      ]
     },
     "metadata": {
      "needs_background": "light"
     },
     "output_type": "display_data"
    }
   ],
   "source": [
    "all_texts1 = \" \".join(texts for texts in data.NLTK_nostopwords_text)\n",
    "\n",
    "print (\"There are {} words in the combination of all texts.\".format(len(all_texts1)))\n",
    "\n",
    "# lower max_font_size, change the maximum number of word and lighten the background:\n",
    "wordcloud = WordCloud(max_font_size = 40, max_words=100, background_color=\"white\").generate(all_texts1)\n",
    "plt.figure(figsize=(8,12))\n",
    "plt.imshow(wordcloud)\n",
    "plt.axis(\"off\")\n",
    "plt.show()"
   ]
  },
  {
   "cell_type": "markdown",
   "metadata": {
    "id": "ifo-DjO8BLpk"
   },
   "source": [
    "- We now have 177,931 words after the stop words removal from the cleaned_text."
   ]
  },
  {
   "cell_type": "markdown",
   "metadata": {
    "id": "Dtnsn4j-Brjw"
   },
   "source": [
    "### **Let's now implement the same with the spaCy library**\n",
    "\n",
    "Similar to NLTK, spaCy also has its list of stop words. Let's see how spaCy performs."
   ]
  },
  {
   "cell_type": "code",
   "execution_count": null,
   "metadata": {
    "id": "PVro_HfYBq8-"
   },
   "outputs": [],
   "source": [
    "# Loading the english language small model of spacy\n",
    "en = spacy.load('en_core_web_sm')\n",
    "\n",
    "# loading the stopwords\n",
    "spacy_stopwords = en.Defaults.stop_words"
   ]
  },
  {
   "cell_type": "code",
   "execution_count": null,
   "metadata": {
    "id": "LhaqtuNSCtyb"
   },
   "outputs": [],
   "source": [
    "# defining an empty list\n",
    "text = []\n",
    "\n",
    "# looping over each message in the data\n",
    "for i in range(data.shape[0]):\n",
    "  t = data['cleaned_text'][i].split() # splitting text into separate words \n",
    "  # Removing the words that are present in the stopwords\n",
    "  words = [word for word in t if not word in spacy_stopwords] \n",
    "  words = ' '.join(words) #retriving the original text\n",
    "  text.append(words) # append the new_text to empty list text\n",
    "    \n",
    "data['spacy_nostopwords_text'] = text "
   ]
  },
  {
   "cell_type": "markdown",
   "metadata": {
    "id": "biGRoCqqDJWA"
   },
   "source": [
    "**Let's have a comparison for both NLTK results and spaCy results to check how well they removed stop words**"
   ]
  },
  {
   "cell_type": "code",
   "execution_count": null,
   "metadata": {
    "colab": {
     "base_uri": "https://localhost:8080/",
     "height": 350
    },
    "id": "1jtWmSg5DAGL",
    "outputId": "074a9d85-c4d5-4a04-b040-5bc852248143"
   },
   "outputs": [
    {
     "data": {
      "text/html": [
       "\n",
       "  <div id=\"df-52f95cfc-7f9a-4304-a294-5bd2f85d230a\">\n",
       "    <div class=\"colab-df-container\">\n",
       "      <div>\n",
       "<style scoped>\n",
       "    .dataframe tbody tr th:only-of-type {\n",
       "        vertical-align: middle;\n",
       "    }\n",
       "\n",
       "    .dataframe tbody tr th {\n",
       "        vertical-align: top;\n",
       "    }\n",
       "\n",
       "    .dataframe thead th {\n",
       "        text-align: right;\n",
       "    }\n",
       "</style>\n",
       "<table border=\"1\" class=\"dataframe\">\n",
       "  <thead>\n",
       "    <tr style=\"text-align: right;\">\n",
       "      <th></th>\n",
       "      <th>cleaned_text</th>\n",
       "      <th>spacy_nostopwords_text</th>\n",
       "      <th>NLTK_nostopwords_text</th>\n",
       "    </tr>\n",
       "  </thead>\n",
       "  <tbody>\n",
       "    <tr>\n",
       "      <th>100</th>\n",
       "      <td>i crashed out cuddled on my</td>\n",
       "      <td>crashed cuddled</td>\n",
       "      <td>crashed cuddled</td>\n",
       "    </tr>\n",
       "    <tr>\n",
       "      <th>101</th>\n",
       "      <td>dont show how put new pictures up on</td>\n",
       "      <td>dont new pictures</td>\n",
       "      <td>dont show put new pictures</td>\n",
       "    </tr>\n",
       "    <tr>\n",
       "      <th>102</th>\n",
       "      <td>i grumpy old my mom was like you better not be then again i am always the one to play</td>\n",
       "      <td>grumpy old mom like better play</td>\n",
       "      <td>grumpy old mom like better always one play</td>\n",
       "    </tr>\n",
       "    <tr>\n",
       "      <th>103</th>\n",
       "      <td>boo on my way to my making tortilla yummmm</td>\n",
       "      <td>boo way making tortilla yummmm</td>\n",
       "      <td>boo way making tortilla yummmm</td>\n",
       "    </tr>\n",
       "    <tr>\n",
       "      <th>104</th>\n",
       "      <td>what not under</td>\n",
       "      <td></td>\n",
       "      <td></td>\n",
       "    </tr>\n",
       "    <tr>\n",
       "      <th>105</th>\n",
       "      <td>so you think i should actually talk to not call his boss in the i went to this place last year and he told me where i could go and get my car fixed he kept telling me today how much he hoped i would come back how he always regretted not getting my</td>\n",
       "      <td>think actually talk boss went place year told car fixed kept telling today hoped come regretted getting</td>\n",
       "      <td>think actually talk call boss went place last year told could go get car fixed kept telling today much hoped would come back always regretted getting</td>\n",
       "    </tr>\n",
       "  </tbody>\n",
       "</table>\n",
       "</div>\n",
       "      <button class=\"colab-df-convert\" onclick=\"convertToInteractive('df-52f95cfc-7f9a-4304-a294-5bd2f85d230a')\"\n",
       "              title=\"Convert this dataframe to an interactive table.\"\n",
       "              style=\"display:none;\">\n",
       "        \n",
       "  <svg xmlns=\"http://www.w3.org/2000/svg\" height=\"24px\"viewBox=\"0 0 24 24\"\n",
       "       width=\"24px\">\n",
       "    <path d=\"M0 0h24v24H0V0z\" fill=\"none\"/>\n",
       "    <path d=\"M18.56 5.44l.94 2.06.94-2.06 2.06-.94-2.06-.94-.94-2.06-.94 2.06-2.06.94zm-11 1L8.5 8.5l.94-2.06 2.06-.94-2.06-.94L8.5 2.5l-.94 2.06-2.06.94zm10 10l.94 2.06.94-2.06 2.06-.94-2.06-.94-.94-2.06-.94 2.06-2.06.94z\"/><path d=\"M17.41 7.96l-1.37-1.37c-.4-.4-.92-.59-1.43-.59-.52 0-1.04.2-1.43.59L10.3 9.45l-7.72 7.72c-.78.78-.78 2.05 0 2.83L4 21.41c.39.39.9.59 1.41.59.51 0 1.02-.2 1.41-.59l7.78-7.78 2.81-2.81c.8-.78.8-2.07 0-2.86zM5.41 20L4 18.59l7.72-7.72 1.47 1.35L5.41 20z\"/>\n",
       "  </svg>\n",
       "      </button>\n",
       "      \n",
       "  <style>\n",
       "    .colab-df-container {\n",
       "      display:flex;\n",
       "      flex-wrap:wrap;\n",
       "      gap: 12px;\n",
       "    }\n",
       "\n",
       "    .colab-df-convert {\n",
       "      background-color: #E8F0FE;\n",
       "      border: none;\n",
       "      border-radius: 50%;\n",
       "      cursor: pointer;\n",
       "      display: none;\n",
       "      fill: #1967D2;\n",
       "      height: 32px;\n",
       "      padding: 0 0 0 0;\n",
       "      width: 32px;\n",
       "    }\n",
       "\n",
       "    .colab-df-convert:hover {\n",
       "      background-color: #E2EBFA;\n",
       "      box-shadow: 0px 1px 2px rgba(60, 64, 67, 0.3), 0px 1px 3px 1px rgba(60, 64, 67, 0.15);\n",
       "      fill: #174EA6;\n",
       "    }\n",
       "\n",
       "    [theme=dark] .colab-df-convert {\n",
       "      background-color: #3B4455;\n",
       "      fill: #D2E3FC;\n",
       "    }\n",
       "\n",
       "    [theme=dark] .colab-df-convert:hover {\n",
       "      background-color: #434B5C;\n",
       "      box-shadow: 0px 1px 3px 1px rgba(0, 0, 0, 0.15);\n",
       "      filter: drop-shadow(0px 1px 2px rgba(0, 0, 0, 0.3));\n",
       "      fill: #FFFFFF;\n",
       "    }\n",
       "  </style>\n",
       "\n",
       "      <script>\n",
       "        const buttonEl =\n",
       "          document.querySelector('#df-52f95cfc-7f9a-4304-a294-5bd2f85d230a button.colab-df-convert');\n",
       "        buttonEl.style.display =\n",
       "          google.colab.kernel.accessAllowed ? 'block' : 'none';\n",
       "\n",
       "        async function convertToInteractive(key) {\n",
       "          const element = document.querySelector('#df-52f95cfc-7f9a-4304-a294-5bd2f85d230a');\n",
       "          const dataTable =\n",
       "            await google.colab.kernel.invokeFunction('convertToInteractive',\n",
       "                                                     [key], {});\n",
       "          if (!dataTable) return;\n",
       "\n",
       "          const docLinkHtml = 'Like what you see? Visit the ' +\n",
       "            '<a target=\"_blank\" href=https://colab.research.google.com/notebooks/data_table.ipynb>data table notebook</a>'\n",
       "            + ' to learn more about interactive tables.';\n",
       "          element.innerHTML = '';\n",
       "          dataTable['output_type'] = 'display_data';\n",
       "          await google.colab.output.renderOutput(dataTable, element);\n",
       "          const docLink = document.createElement('div');\n",
       "          docLink.innerHTML = docLinkHtml;\n",
       "          element.appendChild(docLink);\n",
       "        }\n",
       "      </script>\n",
       "    </div>\n",
       "  </div>\n",
       "  "
      ],
      "text/plain": [
       "                                                                                                                                                                                                                                                cleaned_text  \\\n",
       "100                                                                                                                                                                                                                              i crashed out cuddled on my   \n",
       "101                                                                                                                                                                                                                     dont show how put new pictures up on   \n",
       "102                                                                                                                                                                    i grumpy old my mom was like you better not be then again i am always the one to play   \n",
       "103                                                                                                                                                                                                               boo on my way to my making tortilla yummmm   \n",
       "104                                                                                                                                                                                                                                           what not under   \n",
       "105  so you think i should actually talk to not call his boss in the i went to this place last year and he told me where i could go and get my car fixed he kept telling me today how much he hoped i would come back how he always regretted not getting my   \n",
       "\n",
       "                                                                                      spacy_nostopwords_text  \\\n",
       "100                                                                                          crashed cuddled   \n",
       "101                                                                                        dont new pictures   \n",
       "102                                                                          grumpy old mom like better play   \n",
       "103                                                                           boo way making tortilla yummmm   \n",
       "104                                                                                                            \n",
       "105  think actually talk boss went place year told car fixed kept telling today hoped come regretted getting   \n",
       "\n",
       "                                                                                                                                     NLTK_nostopwords_text  \n",
       "100                                                                                                                                        crashed cuddled  \n",
       "101                                                                                                                             dont show put new pictures  \n",
       "102                                                                                                             grumpy old mom like better always one play  \n",
       "103                                                                                                                         boo way making tortilla yummmm  \n",
       "104                                                                                                                                                         \n",
       "105  think actually talk call boss went place last year told could go get car fixed kept telling today much hoped would come back always regretted getting  "
      ]
     },
     "execution_count": 57,
     "metadata": {},
     "output_type": "execute_result"
    }
   ],
   "source": [
    "data.loc[100:105,['cleaned_text','spacy_nostopwords_text','NLTK_nostopwords_text']]"
   ]
  },
  {
   "cell_type": "markdown",
   "metadata": {
    "id": "nKA95oVGNlIA"
   },
   "source": [
    "From the above results, we can see that both libraries have performed decently and have been able to remove stop words. \n",
    "\n",
    "Let's look at how many words are left in the data after removing stop words using spaCy."
   ]
  },
  {
   "cell_type": "markdown",
   "metadata": {
    "id": "LiN-ObykN5jB"
   },
   "source": [
    "### **Results of spaCy through word cloud**"
   ]
  },
  {
   "cell_type": "code",
   "execution_count": null,
   "metadata": {
    "colab": {
     "base_uri": "https://localhost:8080/",
     "height": 272
    },
    "id": "dsHXvEpbOCPS",
    "outputId": "54fa0e68-b120-43f1-852f-30470f9adc1c"
   },
   "outputs": [
    {
     "name": "stdout",
     "output_type": "stream",
     "text": [
      "There are 158697 words in the combination of all texts.\n"
     ]
    },
    {
     "data": {
      "image/png": "[encoded data removed]",
      "text/plain": [
       "<Figure size 576x864 with 1 Axes>"
      ]
     },
     "metadata": {
      "needs_background": "light"
     },
     "output_type": "display_data"
    }
   ],
   "source": [
    "all_texts2 = \" \".join(texts for texts in data.spacy_nostopwords_text)\n",
    "\n",
    "print (\"There are {} words in the combination of all texts.\".format(len(all_texts2)))\n",
    "\n",
    "# lower max_font_size, change the maximum number of word and lighten the background:\n",
    "wordcloud = WordCloud(max_font_size = 40, max_words = 200, background_color = \"white\").generate(all_texts2)\n",
    "plt.figure(figsize = (8,12))\n",
    "\n",
    "plt.imshow(wordcloud)\n",
    "plt.axis(\"off\")\n",
    "plt.show()"
   ]
  },
  {
   "cell_type": "markdown",
   "metadata": {
    "id": "PMPHDtRxCJlI"
   },
   "source": [
    "- We got 156,370 after the stop word removal from the cleaned_text.\n",
    "- We can see that spaCy has been able to remove more stop words in comparison to NLTK.\n",
    "\n",
    "We'll use text output with no stop words given by spaCy for further steps."
   ]
  },
  {
   "cell_type": "markdown",
   "metadata": {
    "id": "1v4ncbU0TeQH"
   },
   "source": [
    "Now that stop words have been removed and the text doesn't contain unnecessary characters or words. Let's now apply the **stemming** and **lemmatization** techniques to reduce words to their base forms."
   ]
  },
  {
   "cell_type": "markdown",
   "metadata": {
    "id": "ph5q5y4qmant"
   },
   "source": [
    "## **Text Preprocessing Step 7**\n",
    "## **Stemming**"
   ]
  },
  {
   "cell_type": "markdown",
   "metadata": {
    "id": "nV5hoeSazrM-"
   },
   "source": [
    "We have three types of stemmers available in the NLTK library:\n",
    "\n",
    "- **Porter Stemmer**\n",
    "- **Snowball Stemmer**\n",
    "- **Lancaster Stemmer**\n",
    "\n",
    "**Note:** spaCy doesn't contain any function for stemming - it only provides support for lemmatization.\n",
    "\n",
    "We are going to store each stemming technique's results into separate columns, so that different models can be built on these outputs and we can observe which stemming method works the best."
   ]
  },
  {
   "cell_type": "markdown",
   "metadata": {
    "id": "IvBTo90uzrM_"
   },
   "source": [
    "### **Porter Stemmer**"
   ]
  },
  {
   "cell_type": "code",
   "execution_count": null,
   "metadata": {
    "id": "wF6-6yvWzrM_"
   },
   "outputs": [],
   "source": [
    "# Initializing the Porter Stemmer\n",
    "ps = PorterStemmer()\n",
    "\n",
    "# defining empty list for porter stemmer output\n",
    "porter_stems = []\n",
    "\n",
    "# looping over each message in the data\n",
    "for i in range(data.shape[0]):\n",
    "  text = data['spacy_nostopwords_text'][i].split() # splitting text into separate words \n",
    "  new_text = [ps.stem(word) for word in text] # applying the porter stemmer on every word of a mesaage\n",
    "  new_text = ' '.join(new_text) #retriving the original text\n",
    "  porter_stems.append(new_text) # append the text with base form of words in a message to empty list text\n",
    "    \n",
    "data['porter_text'] = porter_stems"
   ]
  },
  {
   "cell_type": "code",
   "execution_count": null,
   "metadata": {
    "colab": {
     "base_uri": "https://localhost:8080/",
     "height": 206
    },
    "id": "WTgLryfqzrM_",
    "outputId": "ce98da41-c30c-4cc6-bfae-2b37c7489ac9"
   },
   "outputs": [
    {
     "data": {
      "text/html": [
       "\n",
       "  <div id=\"df-f725328c-d75d-4b97-8b12-422e5e17d364\">\n",
       "    <div class=\"colab-df-container\">\n",
       "      <div>\n",
       "<style scoped>\n",
       "    .dataframe tbody tr th:only-of-type {\n",
       "        vertical-align: middle;\n",
       "    }\n",
       "\n",
       "    .dataframe tbody tr th {\n",
       "        vertical-align: top;\n",
       "    }\n",
       "\n",
       "    .dataframe thead th {\n",
       "        text-align: right;\n",
       "    }\n",
       "</style>\n",
       "<table border=\"1\" class=\"dataframe\">\n",
       "  <thead>\n",
       "    <tr style=\"text-align: right;\">\n",
       "      <th></th>\n",
       "      <th>spacy_nostopwords_text</th>\n",
       "      <th>porter_text</th>\n",
       "    </tr>\n",
       "  </thead>\n",
       "  <tbody>\n",
       "    <tr>\n",
       "      <th>70</th>\n",
       "      <td>hey tmr maybe meet yck</td>\n",
       "      <td>hey tmr mayb meet yck</td>\n",
       "    </tr>\n",
       "    <tr>\n",
       "      <th>71</th>\n",
       "      <td>ok coming home</td>\n",
       "      <td>ok come home</td>\n",
       "    </tr>\n",
       "    <tr>\n",
       "      <th>72</th>\n",
       "      <td>u called dad</td>\n",
       "      <td>u call dad</td>\n",
       "    </tr>\n",
       "    <tr>\n",
       "      <th>73</th>\n",
       "      <td>head text meet</td>\n",
       "      <td>head text meet</td>\n",
       "    </tr>\n",
       "    <tr>\n",
       "      <th>74</th>\n",
       "      <td>miss surprised gone net cafe miss</td>\n",
       "      <td>miss surpris gone net cafe miss</td>\n",
       "    </tr>\n",
       "  </tbody>\n",
       "</table>\n",
       "</div>\n",
       "      <button class=\"colab-df-convert\" onclick=\"convertToInteractive('df-f725328c-d75d-4b97-8b12-422e5e17d364')\"\n",
       "              title=\"Convert this dataframe to an interactive table.\"\n",
       "              style=\"display:none;\">\n",
       "        \n",
       "  <svg xmlns=\"http://www.w3.org/2000/svg\" height=\"24px\"viewBox=\"0 0 24 24\"\n",
       "       width=\"24px\">\n",
       "    <path d=\"M0 0h24v24H0V0z\" fill=\"none\"/>\n",
       "    <path d=\"M18.56 5.44l.94 2.06.94-2.06 2.06-.94-2.06-.94-.94-2.06-.94 2.06-2.06.94zm-11 1L8.5 8.5l.94-2.06 2.06-.94-2.06-.94L8.5 2.5l-.94 2.06-2.06.94zm10 10l.94 2.06.94-2.06 2.06-.94-2.06-.94-.94-2.06-.94 2.06-2.06.94z\"/><path d=\"M17.41 7.96l-1.37-1.37c-.4-.4-.92-.59-1.43-.59-.52 0-1.04.2-1.43.59L10.3 9.45l-7.72 7.72c-.78.78-.78 2.05 0 2.83L4 21.41c.39.39.9.59 1.41.59.51 0 1.02-.2 1.41-.59l7.78-7.78 2.81-2.81c.8-.78.8-2.07 0-2.86zM5.41 20L4 18.59l7.72-7.72 1.47 1.35L5.41 20z\"/>\n",
       "  </svg>\n",
       "      </button>\n",
       "      \n",
       "  <style>\n",
       "    .colab-df-container {\n",
       "      display:flex;\n",
       "      flex-wrap:wrap;\n",
       "      gap: 12px;\n",
       "    }\n",
       "\n",
       "    .colab-df-convert {\n",
       "      background-color: #E8F0FE;\n",
       "      border: none;\n",
       "      border-radius: 50%;\n",
       "      cursor: pointer;\n",
       "      display: none;\n",
       "      fill: #1967D2;\n",
       "      height: 32px;\n",
       "      padding: 0 0 0 0;\n",
       "      width: 32px;\n",
       "    }\n",
       "\n",
       "    .colab-df-convert:hover {\n",
       "      background-color: #E2EBFA;\n",
       "      box-shadow: 0px 1px 2px rgba(60, 64, 67, 0.3), 0px 1px 3px 1px rgba(60, 64, 67, 0.15);\n",
       "      fill: #174EA6;\n",
       "    }\n",
       "\n",
       "    [theme=dark] .colab-df-convert {\n",
       "      background-color: #3B4455;\n",
       "      fill: #D2E3FC;\n",
       "    }\n",
       "\n",
       "    [theme=dark] .colab-df-convert:hover {\n",
       "      background-color: #434B5C;\n",
       "      box-shadow: 0px 1px 3px 1px rgba(0, 0, 0, 0.15);\n",
       "      filter: drop-shadow(0px 1px 2px rgba(0, 0, 0, 0.3));\n",
       "      fill: #FFFFFF;\n",
       "    }\n",
       "  </style>\n",
       "\n",
       "      <script>\n",
       "        const buttonEl =\n",
       "          document.querySelector('#df-f725328c-d75d-4b97-8b12-422e5e17d364 button.colab-df-convert');\n",
       "        buttonEl.style.display =\n",
       "          google.colab.kernel.accessAllowed ? 'block' : 'none';\n",
       "\n",
       "        async function convertToInteractive(key) {\n",
       "          const element = document.querySelector('#df-f725328c-d75d-4b97-8b12-422e5e17d364');\n",
       "          const dataTable =\n",
       "            await google.colab.kernel.invokeFunction('convertToInteractive',\n",
       "                                                     [key], {});\n",
       "          if (!dataTable) return;\n",
       "\n",
       "          const docLinkHtml = 'Like what you see? Visit the ' +\n",
       "            '<a target=\"_blank\" href=https://colab.research.google.com/notebooks/data_table.ipynb>data table notebook</a>'\n",
       "            + ' to learn more about interactive tables.';\n",
       "          element.innerHTML = '';\n",
       "          dataTable['output_type'] = 'display_data';\n",
       "          await google.colab.output.renderOutput(dataTable, element);\n",
       "          const docLink = document.createElement('div');\n",
       "          docLink.innerHTML = docLinkHtml;\n",
       "          element.appendChild(docLink);\n",
       "        }\n",
       "      </script>\n",
       "    </div>\n",
       "  </div>\n",
       "  "
      ],
      "text/plain": [
       "               spacy_nostopwords_text                      porter_text\n",
       "70             hey tmr maybe meet yck            hey tmr mayb meet yck\n",
       "71                     ok coming home                     ok come home\n",
       "72                       u called dad                       u call dad\n",
       "73                     head text meet                   head text meet\n",
       "74  miss surprised gone net cafe miss  miss surpris gone net cafe miss"
      ]
     },
     "execution_count": 60,
     "metadata": {},
     "output_type": "execute_result"
    }
   ],
   "source": [
    "data.loc[70:74,['spacy_nostopwords_text','porter_text']]"
   ]
  },
  {
   "cell_type": "markdown",
   "metadata": {
    "id": "syakFpj4zrM_"
   },
   "source": [
    "- If we observe the 70th and 73rd row, no word is converted into its root word since every word in the sentence already is in its base form.\n",
    "- We can observe that in the 71st row, the **coming** word is changed to **come**. In 72nd row **called** changed to **call**."
   ]
  },
  {
   "cell_type": "markdown",
   "metadata": {
    "id": "2YMAHY3UzrM_"
   },
   "source": [
    "### **Snowball Stemmer**"
   ]
  },
  {
   "cell_type": "code",
   "execution_count": null,
   "metadata": {
    "id": "xrP2qdWNzrM_"
   },
   "outputs": [],
   "source": [
    "# Initializing the Snowball Stemmer\n",
    "snowball = SnowballStemmer(language = 'english')\n",
    "\n",
    "# defining empty list for snowball stemmer output\n",
    "snow_stems = []\n",
    "\n",
    "# looping over each message in the data\n",
    "for i in range(data.shape[0]):\n",
    "  text = data['spacy_nostopwords_text'][i].split() # splitting text into separate words \n",
    "  new_text = [snowball.stem(word) for word in text]  # applying the snowball stemmer on every word of a mesaage\n",
    "  new_text = ' '.join(new_text) # retriving the original text\n",
    "  snow_stems.append(new_text) # append the text with base form of words in a message to empty list text\n",
    "    \n",
    "data['snowball_text'] = snow_stems"
   ]
  },
  {
   "cell_type": "code",
   "execution_count": null,
   "metadata": {
    "colab": {
     "base_uri": "https://localhost:8080/",
     "height": 206
    },
    "id": "KWsLJupNzrM_",
    "outputId": "b1cdc6bb-8833-495c-fa02-4598689c6f69"
   },
   "outputs": [
    {
     "data": {
      "text/html": [
       "\n",
       "  <div id=\"df-d18e02fa-f39e-49d7-a83e-0c84a6a35161\">\n",
       "    <div class=\"colab-df-container\">\n",
       "      <div>\n",
       "<style scoped>\n",
       "    .dataframe tbody tr th:only-of-type {\n",
       "        vertical-align: middle;\n",
       "    }\n",
       "\n",
       "    .dataframe tbody tr th {\n",
       "        vertical-align: top;\n",
       "    }\n",
       "\n",
       "    .dataframe thead th {\n",
       "        text-align: right;\n",
       "    }\n",
       "</style>\n",
       "<table border=\"1\" class=\"dataframe\">\n",
       "  <thead>\n",
       "    <tr style=\"text-align: right;\">\n",
       "      <th></th>\n",
       "      <th>spacy_nostopwords_text</th>\n",
       "      <th>snowball_text</th>\n",
       "    </tr>\n",
       "  </thead>\n",
       "  <tbody>\n",
       "    <tr>\n",
       "      <th>70</th>\n",
       "      <td>hey tmr maybe meet yck</td>\n",
       "      <td>hey tmr mayb meet yck</td>\n",
       "    </tr>\n",
       "    <tr>\n",
       "      <th>71</th>\n",
       "      <td>ok coming home</td>\n",
       "      <td>ok come home</td>\n",
       "    </tr>\n",
       "    <tr>\n",
       "      <th>72</th>\n",
       "      <td>u called dad</td>\n",
       "      <td>u call dad</td>\n",
       "    </tr>\n",
       "    <tr>\n",
       "      <th>73</th>\n",
       "      <td>head text meet</td>\n",
       "      <td>head text meet</td>\n",
       "    </tr>\n",
       "    <tr>\n",
       "      <th>74</th>\n",
       "      <td>miss surprised gone net cafe miss</td>\n",
       "      <td>miss surpris gone net cafe miss</td>\n",
       "    </tr>\n",
       "  </tbody>\n",
       "</table>\n",
       "</div>\n",
       "      <button class=\"colab-df-convert\" onclick=\"convertToInteractive('df-d18e02fa-f39e-49d7-a83e-0c84a6a35161')\"\n",
       "              title=\"Convert this dataframe to an interactive table.\"\n",
       "              style=\"display:none;\">\n",
       "        \n",
       "  <svg xmlns=\"http://www.w3.org/2000/svg\" height=\"24px\"viewBox=\"0 0 24 24\"\n",
       "       width=\"24px\">\n",
       "    <path d=\"M0 0h24v24H0V0z\" fill=\"none\"/>\n",
       "    <path d=\"M18.56 5.44l.94 2.06.94-2.06 2.06-.94-2.06-.94-.94-2.06-.94 2.06-2.06.94zm-11 1L8.5 8.5l.94-2.06 2.06-.94-2.06-.94L8.5 2.5l-.94 2.06-2.06.94zm10 10l.94 2.06.94-2.06 2.06-.94-2.06-.94-.94-2.06-.94 2.06-2.06.94z\"/><path d=\"M17.41 7.96l-1.37-1.37c-.4-.4-.92-.59-1.43-.59-.52 0-1.04.2-1.43.59L10.3 9.45l-7.72 7.72c-.78.78-.78 2.05 0 2.83L4 21.41c.39.39.9.59 1.41.59.51 0 1.02-.2 1.41-.59l7.78-7.78 2.81-2.81c.8-.78.8-2.07 0-2.86zM5.41 20L4 18.59l7.72-7.72 1.47 1.35L5.41 20z\"/>\n",
       "  </svg>\n",
       "      </button>\n",
       "      \n",
       "  <style>\n",
       "    .colab-df-container {\n",
       "      display:flex;\n",
       "      flex-wrap:wrap;\n",
       "      gap: 12px;\n",
       "    }\n",
       "\n",
       "    .colab-df-convert {\n",
       "      background-color: #E8F0FE;\n",
       "      border: none;\n",
       "      border-radius: 50%;\n",
       "      cursor: pointer;\n",
       "      display: none;\n",
       "      fill: #1967D2;\n",
       "      height: 32px;\n",
       "      padding: 0 0 0 0;\n",
       "      width: 32px;\n",
       "    }\n",
       "\n",
       "    .colab-df-convert:hover {\n",
       "      background-color: #E2EBFA;\n",
       "      box-shadow: 0px 1px 2px rgba(60, 64, 67, 0.3), 0px 1px 3px 1px rgba(60, 64, 67, 0.15);\n",
       "      fill: #174EA6;\n",
       "    }\n",
       "\n",
       "    [theme=dark] .colab-df-convert {\n",
       "      background-color: #3B4455;\n",
       "      fill: #D2E3FC;\n",
       "    }\n",
       "\n",
       "    [theme=dark] .colab-df-convert:hover {\n",
       "      background-color: #434B5C;\n",
       "      box-shadow: 0px 1px 3px 1px rgba(0, 0, 0, 0.15);\n",
       "      filter: drop-shadow(0px 1px 2px rgba(0, 0, 0, 0.3));\n",
       "      fill: #FFFFFF;\n",
       "    }\n",
       "  </style>\n",
       "\n",
       "      <script>\n",
       "        const buttonEl =\n",
       "          document.querySelector('#df-d18e02fa-f39e-49d7-a83e-0c84a6a35161 button.colab-df-convert');\n",
       "        buttonEl.style.display =\n",
       "          google.colab.kernel.accessAllowed ? 'block' : 'none';\n",
       "\n",
       "        async function convertToInteractive(key) {\n",
       "          const element = document.querySelector('#df-d18e02fa-f39e-49d7-a83e-0c84a6a35161');\n",
       "          const dataTable =\n",
       "            await google.colab.kernel.invokeFunction('convertToInteractive',\n",
       "                                                     [key], {});\n",
       "          if (!dataTable) return;\n",
       "\n",
       "          const docLinkHtml = 'Like what you see? Visit the ' +\n",
       "            '<a target=\"_blank\" href=https://colab.research.google.com/notebooks/data_table.ipynb>data table notebook</a>'\n",
       "            + ' to learn more about interactive tables.';\n",
       "          element.innerHTML = '';\n",
       "          dataTable['output_type'] = 'display_data';\n",
       "          await google.colab.output.renderOutput(dataTable, element);\n",
       "          const docLink = document.createElement('div');\n",
       "          docLink.innerHTML = docLinkHtml;\n",
       "          element.appendChild(docLink);\n",
       "        }\n",
       "      </script>\n",
       "    </div>\n",
       "  </div>\n",
       "  "
      ],
      "text/plain": [
       "               spacy_nostopwords_text                    snowball_text\n",
       "70             hey tmr maybe meet yck            hey tmr mayb meet yck\n",
       "71                     ok coming home                     ok come home\n",
       "72                       u called dad                       u call dad\n",
       "73                     head text meet                   head text meet\n",
       "74  miss surprised gone net cafe miss  miss surpris gone net cafe miss"
      ]
     },
     "execution_count": 62,
     "metadata": {},
     "output_type": "execute_result"
    }
   ],
   "source": [
    "data.loc[70:74,['spacy_nostopwords_text','snowball_text']]"
   ]
  },
  {
   "cell_type": "markdown",
   "metadata": {
    "id": "L1HqjHg1zrM_"
   },
   "source": [
    "- The Snowball stemmer seems to have given similar results to the Porter stemmer."
   ]
  },
  {
   "cell_type": "markdown",
   "metadata": {
    "id": "_N2ioYkLzrNA"
   },
   "source": [
    "### **Lancaster Stemmer**"
   ]
  },
  {
   "cell_type": "code",
   "execution_count": null,
   "metadata": {
    "id": "XWyJfXIdzrNA"
   },
   "outputs": [],
   "source": [
    "# Initializing the Lancaster Stemmer\n",
    "lanc = LancasterStemmer()\n",
    "\n",
    "# defining empty list for lancaster stemmer output\n",
    "lanc_stems = []\n",
    "\n",
    "# looping over each message in the data\n",
    "for i in range(data.shape[0]):\n",
    "  text = data['spacy_nostopwords_text'][i].split() # splitting text into separate words \n",
    "  new_text = [lanc.stem(word) for word in text] # applying the lancaster stemmer on every word of a mesaage\n",
    "  new_text = ' '.join(new_text) # retriving the original text\n",
    "  lanc_stems.append(new_text) # append the text with base form of words in a message to empty list text\n",
    "    \n",
    "data['lancast_text'] = lanc_stems"
   ]
  },
  {
   "cell_type": "code",
   "execution_count": null,
   "metadata": {
    "colab": {
     "base_uri": "https://localhost:8080/",
     "height": 206
    },
    "id": "-XfCXaRuzrNA",
    "outputId": "5d10c0ca-0924-489a-be4c-efc7de829541"
   },
   "outputs": [
    {
     "data": {
      "text/html": [
       "\n",
       "  <div id=\"df-9cad2c11-08d6-4d0f-b051-0fb1bf549e80\">\n",
       "    <div class=\"colab-df-container\">\n",
       "      <div>\n",
       "<style scoped>\n",
       "    .dataframe tbody tr th:only-of-type {\n",
       "        vertical-align: middle;\n",
       "    }\n",
       "\n",
       "    .dataframe tbody tr th {\n",
       "        vertical-align: top;\n",
       "    }\n",
       "\n",
       "    .dataframe thead th {\n",
       "        text-align: right;\n",
       "    }\n",
       "</style>\n",
       "<table border=\"1\" class=\"dataframe\">\n",
       "  <thead>\n",
       "    <tr style=\"text-align: right;\">\n",
       "      <th></th>\n",
       "      <th>spacy_nostopwords_text</th>\n",
       "      <th>lancast_text</th>\n",
       "    </tr>\n",
       "  </thead>\n",
       "  <tbody>\n",
       "    <tr>\n",
       "      <th>70</th>\n",
       "      <td>hey tmr maybe meet yck</td>\n",
       "      <td>hey tmr mayb meet yck</td>\n",
       "    </tr>\n",
       "    <tr>\n",
       "      <th>71</th>\n",
       "      <td>ok coming home</td>\n",
       "      <td>ok com hom</td>\n",
       "    </tr>\n",
       "    <tr>\n",
       "      <th>72</th>\n",
       "      <td>u called dad</td>\n",
       "      <td>u cal dad</td>\n",
       "    </tr>\n",
       "    <tr>\n",
       "      <th>73</th>\n",
       "      <td>head text meet</td>\n",
       "      <td>head text meet</td>\n",
       "    </tr>\n",
       "    <tr>\n",
       "      <th>74</th>\n",
       "      <td>miss surprised gone net cafe miss</td>\n",
       "      <td>miss surpr gon net caf miss</td>\n",
       "    </tr>\n",
       "  </tbody>\n",
       "</table>\n",
       "</div>\n",
       "      <button class=\"colab-df-convert\" onclick=\"convertToInteractive('df-9cad2c11-08d6-4d0f-b051-0fb1bf549e80')\"\n",
       "              title=\"Convert this dataframe to an interactive table.\"\n",
       "              style=\"display:none;\">\n",
       "        \n",
       "  <svg xmlns=\"http://www.w3.org/2000/svg\" height=\"24px\"viewBox=\"0 0 24 24\"\n",
       "       width=\"24px\">\n",
       "    <path d=\"M0 0h24v24H0V0z\" fill=\"none\"/>\n",
       "    <path d=\"M18.56 5.44l.94 2.06.94-2.06 2.06-.94-2.06-.94-.94-2.06-.94 2.06-2.06.94zm-11 1L8.5 8.5l.94-2.06 2.06-.94-2.06-.94L8.5 2.5l-.94 2.06-2.06.94zm10 10l.94 2.06.94-2.06 2.06-.94-2.06-.94-.94-2.06-.94 2.06-2.06.94z\"/><path d=\"M17.41 7.96l-1.37-1.37c-.4-.4-.92-.59-1.43-.59-.52 0-1.04.2-1.43.59L10.3 9.45l-7.72 7.72c-.78.78-.78 2.05 0 2.83L4 21.41c.39.39.9.59 1.41.59.51 0 1.02-.2 1.41-.59l7.78-7.78 2.81-2.81c.8-.78.8-2.07 0-2.86zM5.41 20L4 18.59l7.72-7.72 1.47 1.35L5.41 20z\"/>\n",
       "  </svg>\n",
       "      </button>\n",
       "      \n",
       "  <style>\n",
       "    .colab-df-container {\n",
       "      display:flex;\n",
       "      flex-wrap:wrap;\n",
       "      gap: 12px;\n",
       "    }\n",
       "\n",
       "    .colab-df-convert {\n",
       "      background-color: #E8F0FE;\n",
       "      border: none;\n",
       "      border-radius: 50%;\n",
       "      cursor: pointer;\n",
       "      display: none;\n",
       "      fill: #1967D2;\n",
       "      height: 32px;\n",
       "      padding: 0 0 0 0;\n",
       "      width: 32px;\n",
       "    }\n",
       "\n",
       "    .colab-df-convert:hover {\n",
       "      background-color: #E2EBFA;\n",
       "      box-shadow: 0px 1px 2px rgba(60, 64, 67, 0.3), 0px 1px 3px 1px rgba(60, 64, 67, 0.15);\n",
       "      fill: #174EA6;\n",
       "    }\n",
       "\n",
       "    [theme=dark] .colab-df-convert {\n",
       "      background-color: #3B4455;\n",
       "      fill: #D2E3FC;\n",
       "    }\n",
       "\n",
       "    [theme=dark] .colab-df-convert:hover {\n",
       "      background-color: #434B5C;\n",
       "      box-shadow: 0px 1px 3px 1px rgba(0, 0, 0, 0.15);\n",
       "      filter: drop-shadow(0px 1px 2px rgba(0, 0, 0, 0.3));\n",
       "      fill: #FFFFFF;\n",
       "    }\n",
       "  </style>\n",
       "\n",
       "      <script>\n",
       "        const buttonEl =\n",
       "          document.querySelector('#df-9cad2c11-08d6-4d0f-b051-0fb1bf549e80 button.colab-df-convert');\n",
       "        buttonEl.style.display =\n",
       "          google.colab.kernel.accessAllowed ? 'block' : 'none';\n",
       "\n",
       "        async function convertToInteractive(key) {\n",
       "          const element = document.querySelector('#df-9cad2c11-08d6-4d0f-b051-0fb1bf549e80');\n",
       "          const dataTable =\n",
       "            await google.colab.kernel.invokeFunction('convertToInteractive',\n",
       "                                                     [key], {});\n",
       "          if (!dataTable) return;\n",
       "\n",
       "          const docLinkHtml = 'Like what you see? Visit the ' +\n",
       "            '<a target=\"_blank\" href=https://colab.research.google.com/notebooks/data_table.ipynb>data table notebook</a>'\n",
       "            + ' to learn more about interactive tables.';\n",
       "          element.innerHTML = '';\n",
       "          dataTable['output_type'] = 'display_data';\n",
       "          await google.colab.output.renderOutput(dataTable, element);\n",
       "          const docLink = document.createElement('div');\n",
       "          docLink.innerHTML = docLinkHtml;\n",
       "          element.appendChild(docLink);\n",
       "        }\n",
       "      </script>\n",
       "    </div>\n",
       "  </div>\n",
       "  "
      ],
      "text/plain": [
       "               spacy_nostopwords_text                 lancast_text\n",
       "70             hey tmr maybe meet yck        hey tmr mayb meet yck\n",
       "71                     ok coming home                   ok com hom\n",
       "72                       u called dad                    u cal dad\n",
       "73                     head text meet               head text meet\n",
       "74  miss surprised gone net cafe miss  miss surpr gon net caf miss"
      ]
     },
     "execution_count": 64,
     "metadata": {},
     "output_type": "execute_result"
    }
   ],
   "source": [
    "data.loc[70:74,['spacy_nostopwords_text','lancast_text']]"
   ]
  },
  {
   "cell_type": "markdown",
   "metadata": {
    "id": "bwkHlmSIzrNA"
   },
   "source": [
    "- The Lancaster stemmer results are a bit different - if we observe the 71st row, **coming** and **home** are transformed into **com** and **hom**. \n",
    "- In the 74th row **surprised** was translated to **surpr**, **gone** to **gon** and **cafe** to **caf**.\n",
    "\n",
    "\n",
    "The Lancaster stemmer being an aggresive stemmer in comparison to Porter and Snowball, has resulted in very different results."
   ]
  },
  {
   "cell_type": "markdown",
   "metadata": {
    "id": "BrbSeMM3vqFr"
   },
   "source": [
    "**We have created the stem or root words for the text data using different stemming techniques. Now let's create lemmas for each word in the text using Lemmatization.**"
   ]
  },
  {
   "cell_type": "markdown",
   "metadata": {
    "id": "wkYOKl4MxLd3"
   },
   "source": [
    "## **Text Preprocessing Step 8**\n",
    "## **Lemmatization**"
   ]
  },
  {
   "cell_type": "markdown",
   "metadata": {
    "id": "3EbEwglqzrNA"
   },
   "source": [
    "### **Lemmatization using the NLTK Library**\n",
    "\n",
    "Lemmatization is the transformation that uses a dictionary to map a word’s variant back to its root format."
   ]
  },
  {
   "cell_type": "code",
   "execution_count": null,
   "metadata": {
    "id": "z0MmkSIjzrNA"
   },
   "outputs": [],
   "source": [
    "# Implemenation using NLTK\n",
    "\n",
    "# initiating Lemmatizer available in NLTK library\n",
    "lemmatizer = WordNetLemmatizer()\n",
    "\n",
    "# defining empty list for lemmatizer output\n",
    "lemma = []\n",
    "\n",
    "# looping over each message in the data\n",
    "for i in range(data.shape[0]):\n",
    "  text = data['spacy_nostopwords_text'][i].split()  # splitting text into separate words \n",
    "  new_text = [lemmatizer.lemmatize(word) for word in text] # perfoming lemmatization on every word of a mesaage\n",
    "  new_text = ' '.join(new_text) # retriving the original text\n",
    "  lemma.append(new_text) # append the text with base form of words in a message to empty list text\n",
    "\n",
    "data['NLTK_lemmatized_text'] = lemma"
   ]
  },
  {
   "cell_type": "code",
   "execution_count": null,
   "metadata": {
    "colab": {
     "base_uri": "https://localhost:8080/",
     "height": 143
    },
    "id": "dRNrTaY3zrNA",
    "outputId": "fcc2033b-7057-4175-ad3d-17d89c9abb6b"
   },
   "outputs": [
    {
     "data": {
      "text/html": [
       "\n",
       "  <div id=\"df-687552a2-0fce-41f7-abe2-caed9855a2b7\">\n",
       "    <div class=\"colab-df-container\">\n",
       "      <div>\n",
       "<style scoped>\n",
       "    .dataframe tbody tr th:only-of-type {\n",
       "        vertical-align: middle;\n",
       "    }\n",
       "\n",
       "    .dataframe tbody tr th {\n",
       "        vertical-align: top;\n",
       "    }\n",
       "\n",
       "    .dataframe thead th {\n",
       "        text-align: right;\n",
       "    }\n",
       "</style>\n",
       "<table border=\"1\" class=\"dataframe\">\n",
       "  <thead>\n",
       "    <tr style=\"text-align: right;\">\n",
       "      <th></th>\n",
       "      <th>spacy_nostopwords_text</th>\n",
       "      <th>NLTK_lemmatized_text</th>\n",
       "    </tr>\n",
       "  </thead>\n",
       "  <tbody>\n",
       "    <tr>\n",
       "      <th>55</th>\n",
       "      <td>think send love</td>\n",
       "      <td>think send love</td>\n",
       "    </tr>\n",
       "    <tr>\n",
       "      <th>56</th>\n",
       "      <td>beautiful truth read heart feels light feels heavy leaves good night</td>\n",
       "      <td>beautiful truth read heart feel light feel heavy leaf good night</td>\n",
       "    </tr>\n",
       "    <tr>\n",
       "      <th>57</th>\n",
       "      <td>love think hope day goes sleep miss long moment</td>\n",
       "      <td>love think hope day go sleep miss long moment</td>\n",
       "    </tr>\n",
       "  </tbody>\n",
       "</table>\n",
       "</div>\n",
       "      <button class=\"colab-df-convert\" onclick=\"convertToInteractive('df-687552a2-0fce-41f7-abe2-caed9855a2b7')\"\n",
       "              title=\"Convert this dataframe to an interactive table.\"\n",
       "              style=\"display:none;\">\n",
       "        \n",
       "  <svg xmlns=\"http://www.w3.org/2000/svg\" height=\"24px\"viewBox=\"0 0 24 24\"\n",
       "       width=\"24px\">\n",
       "    <path d=\"M0 0h24v24H0V0z\" fill=\"none\"/>\n",
       "    <path d=\"M18.56 5.44l.94 2.06.94-2.06 2.06-.94-2.06-.94-.94-2.06-.94 2.06-2.06.94zm-11 1L8.5 8.5l.94-2.06 2.06-.94-2.06-.94L8.5 2.5l-.94 2.06-2.06.94zm10 10l.94 2.06.94-2.06 2.06-.94-2.06-.94-.94-2.06-.94 2.06-2.06.94z\"/><path d=\"M17.41 7.96l-1.37-1.37c-.4-.4-.92-.59-1.43-.59-.52 0-1.04.2-1.43.59L10.3 9.45l-7.72 7.72c-.78.78-.78 2.05 0 2.83L4 21.41c.39.39.9.59 1.41.59.51 0 1.02-.2 1.41-.59l7.78-7.78 2.81-2.81c.8-.78.8-2.07 0-2.86zM5.41 20L4 18.59l7.72-7.72 1.47 1.35L5.41 20z\"/>\n",
       "  </svg>\n",
       "      </button>\n",
       "      \n",
       "  <style>\n",
       "    .colab-df-container {\n",
       "      display:flex;\n",
       "      flex-wrap:wrap;\n",
       "      gap: 12px;\n",
       "    }\n",
       "\n",
       "    .colab-df-convert {\n",
       "      background-color: #E8F0FE;\n",
       "      border: none;\n",
       "      border-radius: 50%;\n",
       "      cursor: pointer;\n",
       "      display: none;\n",
       "      fill: #1967D2;\n",
       "      height: 32px;\n",
       "      padding: 0 0 0 0;\n",
       "      width: 32px;\n",
       "    }\n",
       "\n",
       "    .colab-df-convert:hover {\n",
       "      background-color: #E2EBFA;\n",
       "      box-shadow: 0px 1px 2px rgba(60, 64, 67, 0.3), 0px 1px 3px 1px rgba(60, 64, 67, 0.15);\n",
       "      fill: #174EA6;\n",
       "    }\n",
       "\n",
       "    [theme=dark] .colab-df-convert {\n",
       "      background-color: #3B4455;\n",
       "      fill: #D2E3FC;\n",
       "    }\n",
       "\n",
       "    [theme=dark] .colab-df-convert:hover {\n",
       "      background-color: #434B5C;\n",
       "      box-shadow: 0px 1px 3px 1px rgba(0, 0, 0, 0.15);\n",
       "      filter: drop-shadow(0px 1px 2px rgba(0, 0, 0, 0.3));\n",
       "      fill: #FFFFFF;\n",
       "    }\n",
       "  </style>\n",
       "\n",
       "      <script>\n",
       "        const buttonEl =\n",
       "          document.querySelector('#df-687552a2-0fce-41f7-abe2-caed9855a2b7 button.colab-df-convert');\n",
       "        buttonEl.style.display =\n",
       "          google.colab.kernel.accessAllowed ? 'block' : 'none';\n",
       "\n",
       "        async function convertToInteractive(key) {\n",
       "          const element = document.querySelector('#df-687552a2-0fce-41f7-abe2-caed9855a2b7');\n",
       "          const dataTable =\n",
       "            await google.colab.kernel.invokeFunction('convertToInteractive',\n",
       "                                                     [key], {});\n",
       "          if (!dataTable) return;\n",
       "\n",
       "          const docLinkHtml = 'Like what you see? Visit the ' +\n",
       "            '<a target=\"_blank\" href=https://colab.research.google.com/notebooks/data_table.ipynb>data table notebook</a>'\n",
       "            + ' to learn more about interactive tables.';\n",
       "          element.innerHTML = '';\n",
       "          dataTable['output_type'] = 'display_data';\n",
       "          await google.colab.output.renderOutput(dataTable, element);\n",
       "          const docLink = document.createElement('div');\n",
       "          docLink.innerHTML = docLinkHtml;\n",
       "          element.appendChild(docLink);\n",
       "        }\n",
       "      </script>\n",
       "    </div>\n",
       "  </div>\n",
       "  "
      ],
      "text/plain": [
       "                                                  spacy_nostopwords_text  \\\n",
       "55                                                       think send love   \n",
       "56  beautiful truth read heart feels light feels heavy leaves good night   \n",
       "57                       love think hope day goes sleep miss long moment   \n",
       "\n",
       "                                                NLTK_lemmatized_text  \n",
       "55                                                   think send love  \n",
       "56  beautiful truth read heart feel light feel heavy leaf good night  \n",
       "57                     love think hope day go sleep miss long moment  "
      ]
     },
     "execution_count": 66,
     "metadata": {},
     "output_type": "execute_result"
    }
   ],
   "source": [
    "data.loc[55:57,['spacy_nostopwords_text','NLTK_lemmatized_text']]"
   ]
  },
  {
   "cell_type": "markdown",
   "metadata": {
    "id": "4jSSo-0lWtw6"
   },
   "source": [
    "- In row 56, **leaves** were wrongly transformed into **leaf**, since the \"leaves\" word is being used here in the context of the verb \"leave\"."
   ]
  },
  {
   "cell_type": "markdown",
   "metadata": {
    "id": "KWVyXyimXQjg"
   },
   "source": [
    "### **Lemmatization using the spaCy Library**"
   ]
  },
  {
   "cell_type": "code",
   "execution_count": null,
   "metadata": {
    "id": "jpNENFUJzrNB"
   },
   "outputs": [],
   "source": [
    "# Implemenation using SpaCy\n",
    "lemma_texts = []\n",
    "\n",
    "# looping over each message in the data\n",
    "for i in range(data.shape[0]):\n",
    "  #  \"nlp\" Object is used to create documents with linguistic annotations.\n",
    "  doc = nlp(data['spacy_nostopwords_text'][i])\n",
    "  \n",
    "  # Create list of sentence tokens\n",
    "  lemma_list = []\n",
    "  \n",
    "  for token in doc:\n",
    "    lemma_list.append(token.lemma_)\n",
    "    lemma_text = ' '.join(lemma_list)\n",
    "  \n",
    "  lemma_texts.append(lemma_text)\n",
    "\n",
    "data['spacy_lemmatized_text'] = lemma_texts "
   ]
  },
  {
   "cell_type": "code",
   "execution_count": null,
   "metadata": {
    "colab": {
     "base_uri": "https://localhost:8080/",
     "height": 143
    },
    "id": "f66enr9izrNB",
    "outputId": "ff3668dd-dd1b-4cf0-d1b1-d2383164e8ee"
   },
   "outputs": [
    {
     "data": {
      "text/html": [
       "\n",
       "  <div id=\"df-57d31a80-8b92-4529-890d-b88d88a59a13\">\n",
       "    <div class=\"colab-df-container\">\n",
       "      <div>\n",
       "<style scoped>\n",
       "    .dataframe tbody tr th:only-of-type {\n",
       "        vertical-align: middle;\n",
       "    }\n",
       "\n",
       "    .dataframe tbody tr th {\n",
       "        vertical-align: top;\n",
       "    }\n",
       "\n",
       "    .dataframe thead th {\n",
       "        text-align: right;\n",
       "    }\n",
       "</style>\n",
       "<table border=\"1\" class=\"dataframe\">\n",
       "  <thead>\n",
       "    <tr style=\"text-align: right;\">\n",
       "      <th></th>\n",
       "      <th>spacy_nostopwords_text</th>\n",
       "      <th>spacy_lemmatized_text</th>\n",
       "    </tr>\n",
       "  </thead>\n",
       "  <tbody>\n",
       "    <tr>\n",
       "      <th>55</th>\n",
       "      <td>think send love</td>\n",
       "      <td>think send love</td>\n",
       "    </tr>\n",
       "    <tr>\n",
       "      <th>56</th>\n",
       "      <td>beautiful truth read heart feels light feels heavy leaves good night</td>\n",
       "      <td>beautiful truth read heart feel light feel heavy leave good night</td>\n",
       "    </tr>\n",
       "    <tr>\n",
       "      <th>57</th>\n",
       "      <td>love think hope day goes sleep miss long moment</td>\n",
       "      <td>love think hope day go sleep miss long moment</td>\n",
       "    </tr>\n",
       "  </tbody>\n",
       "</table>\n",
       "</div>\n",
       "      <button class=\"colab-df-convert\" onclick=\"convertToInteractive('df-57d31a80-8b92-4529-890d-b88d88a59a13')\"\n",
       "              title=\"Convert this dataframe to an interactive table.\"\n",
       "              style=\"display:none;\">\n",
       "        \n",
       "  <svg xmlns=\"http://www.w3.org/2000/svg\" height=\"24px\"viewBox=\"0 0 24 24\"\n",
       "       width=\"24px\">\n",
       "    <path d=\"M0 0h24v24H0V0z\" fill=\"none\"/>\n",
       "    <path d=\"M18.56 5.44l.94 2.06.94-2.06 2.06-.94-2.06-.94-.94-2.06-.94 2.06-2.06.94zm-11 1L8.5 8.5l.94-2.06 2.06-.94-2.06-.94L8.5 2.5l-.94 2.06-2.06.94zm10 10l.94 2.06.94-2.06 2.06-.94-2.06-.94-.94-2.06-.94 2.06-2.06.94z\"/><path d=\"M17.41 7.96l-1.37-1.37c-.4-.4-.92-.59-1.43-.59-.52 0-1.04.2-1.43.59L10.3 9.45l-7.72 7.72c-.78.78-.78 2.05 0 2.83L4 21.41c.39.39.9.59 1.41.59.51 0 1.02-.2 1.41-.59l7.78-7.78 2.81-2.81c.8-.78.8-2.07 0-2.86zM5.41 20L4 18.59l7.72-7.72 1.47 1.35L5.41 20z\"/>\n",
       "  </svg>\n",
       "      </button>\n",
       "      \n",
       "  <style>\n",
       "    .colab-df-container {\n",
       "      display:flex;\n",
       "      flex-wrap:wrap;\n",
       "      gap: 12px;\n",
       "    }\n",
       "\n",
       "    .colab-df-convert {\n",
       "      background-color: #E8F0FE;\n",
       "      border: none;\n",
       "      border-radius: 50%;\n",
       "      cursor: pointer;\n",
       "      display: none;\n",
       "      fill: #1967D2;\n",
       "      height: 32px;\n",
       "      padding: 0 0 0 0;\n",
       "      width: 32px;\n",
       "    }\n",
       "\n",
       "    .colab-df-convert:hover {\n",
       "      background-color: #E2EBFA;\n",
       "      box-shadow: 0px 1px 2px rgba(60, 64, 67, 0.3), 0px 1px 3px 1px rgba(60, 64, 67, 0.15);\n",
       "      fill: #174EA6;\n",
       "    }\n",
       "\n",
       "    [theme=dark] .colab-df-convert {\n",
       "      background-color: #3B4455;\n",
       "      fill: #D2E3FC;\n",
       "    }\n",
       "\n",
       "    [theme=dark] .colab-df-convert:hover {\n",
       "      background-color: #434B5C;\n",
       "      box-shadow: 0px 1px 3px 1px rgba(0, 0, 0, 0.15);\n",
       "      filter: drop-shadow(0px 1px 2px rgba(0, 0, 0, 0.3));\n",
       "      fill: #FFFFFF;\n",
       "    }\n",
       "  </style>\n",
       "\n",
       "      <script>\n",
       "        const buttonEl =\n",
       "          document.querySelector('#df-57d31a80-8b92-4529-890d-b88d88a59a13 button.colab-df-convert');\n",
       "        buttonEl.style.display =\n",
       "          google.colab.kernel.accessAllowed ? 'block' : 'none';\n",
       "\n",
       "        async function convertToInteractive(key) {\n",
       "          const element = document.querySelector('#df-57d31a80-8b92-4529-890d-b88d88a59a13');\n",
       "          const dataTable =\n",
       "            await google.colab.kernel.invokeFunction('convertToInteractive',\n",
       "                                                     [key], {});\n",
       "          if (!dataTable) return;\n",
       "\n",
       "          const docLinkHtml = 'Like what you see? Visit the ' +\n",
       "            '<a target=\"_blank\" href=https://colab.research.google.com/notebooks/data_table.ipynb>data table notebook</a>'\n",
       "            + ' to learn more about interactive tables.';\n",
       "          element.innerHTML = '';\n",
       "          dataTable['output_type'] = 'display_data';\n",
       "          await google.colab.output.renderOutput(dataTable, element);\n",
       "          const docLink = document.createElement('div');\n",
       "          docLink.innerHTML = docLinkHtml;\n",
       "          element.appendChild(docLink);\n",
       "        }\n",
       "      </script>\n",
       "    </div>\n",
       "  </div>\n",
       "  "
      ],
      "text/plain": [
       "                                                  spacy_nostopwords_text  \\\n",
       "55                                                       think send love   \n",
       "56  beautiful truth read heart feels light feels heavy leaves good night   \n",
       "57                       love think hope day goes sleep miss long moment   \n",
       "\n",
       "                                                spacy_lemmatized_text  \n",
       "55                                                    think send love  \n",
       "56  beautiful truth read heart feel light feel heavy leave good night  \n",
       "57                      love think hope day go sleep miss long moment  "
      ]
     },
     "execution_count": 68,
     "metadata": {},
     "output_type": "execute_result"
    }
   ],
   "source": [
    "data.loc[55:57,['spacy_nostopwords_text','spacy_lemmatized_text']]"
   ]
  },
  {
   "cell_type": "markdown",
   "metadata": {
    "id": "v3ONtbUexdes"
   },
   "source": [
    "- In comparison to the NLTK library output for lemmatization, in row 56 spaCy was able to hold the context of the sentence. It transformed **leaves** to **leave** which was more suitable than **leaf**.\n"
   ]
  },
  {
   "cell_type": "markdown",
   "metadata": {
    "id": "TiQjAmc9YboH"
   },
   "source": [
    "**We have now successfully cleaned the text data and transformed it into root words using stemming and lemmatization.** \n",
    "* In order to check which of these techniques worked best for us, we can build models with each one of them. \n",
    "* We can compare the performance of the model with the Porter, Snowball, and Lancaster stemmers to see which of the stemming algorithms helped us predict Ham vs Spam the best\n",
    "* Similarly, we can compare the model perfomance results of Stemming vs Lemmatization."
   ]
  }
 ],
 "metadata": {
  "colab": {
   "collapsed_sections": [
    "8ptmxdSD8iuu"
   ],
   "provenance": []
  },
  "kernelspec": {
   "display_name": "Python 3 (ipykernel)",
   "language": "python",
   "name": "python3"
  },
  "language_info": {
   "codemirror_mode": {
    "name": "ipython",
    "version": 3
   },
   "file_extension": ".py",
   "mimetype": "text/x-python",
   "name": "python",
   "nbconvert_exporter": "python",
   "pygments_lexer": "ipython3",
   "version": "3.9.7"
  }
 },
 "nbformat": 4,
 "nbformat_minor": 1
}
