{
 "cells": [
  {
   "cell_type": "markdown",
   "metadata": {
    "id": "oPAjLP2GJE7y"
   },
   "source": [
    "#**1. Problem Context**\n",
    "Many users worldwide rely on email and text messages for communication and they have become an essential part of daily life. Emails and text messages contain a lot of sensitive information that hackers attempt to steal, which is known as data theft. As a result, it is critical to distinguish between spam and ham emails.\n",
    "\n",
    "Genuine mail/text that is important to the user and informative is referred to as ham. Spam, on the other hand, is bogus mail/text sent from untrustworthy sources with malicious intent. <br><br>\n",
    "###**1.1 Data Dictionary**\n",
    "* **Text:** Messages sent by the users\n",
    "* **Type:** Target variable which provides information about a message being Spam or Ham <br><br>\n",
    "\n",
    "###**1.2 Objective**\n",
    "Creating the vectors for the text data using the basic techniques like Bag of Words and TF-IDF."
   ]
  },
  {
   "cell_type": "markdown",
   "metadata": {
    "id": "zuG5ODUu6YIV"
   },
   "source": [
    "\n",
    "#**2. Overview of the dataset**"
   ]
  },
  {
   "cell_type": "markdown",
   "metadata": {
    "id": "vSY2GB15MC1F"
   },
   "source": [
    "### **2.1 Importing necessary libraries**\n",
    "\n"
   ]
  },
  {
   "cell_type": "code",
   "execution_count": null,
   "metadata": {
    "id": "YP8gJUdg6YIV"
   },
   "outputs": [],
   "source": [
    "# To read and manipulate the data\n",
    "import pandas as pd\n",
    "pd.set_option('max_colwidth', None)\n",
    "\n",
    "# To visualise the graphs\n",
    "import matplotlib.pyplot as plt\n",
    "from matplotlib import cycler\n",
    "colors = cycler('color',\n",
    "                ['#EE6666', '#3388BB', '#9988DD',\n",
    "                 '#EECC55', '#88BB44', '#FFBBBB'])\n",
    "plt.rc('axes', facecolor='#E6E6E6', edgecolor='none',\n",
    "       axisbelow=True, grid=True, prop_cycle=colors)\n",
    "plt.rc('grid', color='w', linestyle='solid')\n",
    "plt.rc('xtick', direction='out', color='black')\n",
    "plt.rc('ytick', direction='out', color='black')\n",
    "plt.rc('patch', edgecolor='#E6E6E6')\n",
    "plt.rc('lines', linewidth=2)\n",
    "import seaborn as sns\n",
    "\n",
    "# Helps to display the images\n",
    "from PIL import Image\n",
    "\n",
    "# Helps to remove the punctuation\n",
    "import string\n",
    "\n",
    "# Helps to create the counter \n",
    "from collections import Counter\n",
    "\n",
    "# Helped to create train and test data\n",
    "from sklearn.model_selection import train_test_split\n",
    "\n",
    "# Importing the vectorization classes\n",
    "from sklearn.feature_extraction.text import CountVectorizer,TfidfVectorizer\n",
    "\n",
    "# Importing the Random Forest model\n",
    "from sklearn.ensemble import RandomForestClassifier\n",
    "\n",
    "# Metrics to evaluate the model\n",
    "from sklearn.metrics import accuracy_score,classification_report, confusion_matrix"
   ]
  },
  {
   "cell_type": "code",
   "execution_count": null,
   "metadata": {
    "colab": {
     "base_uri": "https://localhost:8080/"
    },
    "executionInfo": {
     "elapsed": 31656,
     "status": "ok",
     "timestamp": 1668677904992,
     "user": {
      "displayName": "Suryansh",
      "userId": "03232072030227591914"
     },
     "user_tz": -330
    },
    "id": "MXwCdoxjb2Rw",
    "outputId": "1c8ee9c3-c336-4414-863f-e2aacfde83e2"
   },
   "outputs": [
    {
     "name": "stdout",
     "output_type": "stream",
     "text": [
      "Mounted at /content/drive\n"
     ]
    }
   ],
   "source": [
    "from google.colab import drive\n",
    "drive.mount('/content/drive')"
   ]
  },
  {
   "cell_type": "markdown",
   "metadata": {
    "id": "izVEV6h36YIY"
   },
   "source": [
    "### **2.2 Loading the dataset**\n",
    "\n",
    "We are loading the cleaned data from the notebook HAM vs Spam notebook, to avoid the repetative preprocessing steps. As we mentioned earlier, now let's learn and implement the vectorization techniques other than one hot encoding.\n",
    "\n",
    "Note: Here the code given for loading dataset is for google colab when the data is present in your google drive. Please use the code needed to load data as per the IDE used. "
   ]
  },
  {
   "cell_type": "code",
   "execution_count": null,
   "metadata": {
    "id": "lNhjChJ56YIY"
   },
   "outputs": [],
   "source": [
    "filepath = \"/content/drive/MyDrive/data_vertical/Final/1. Week-1: NLP/Notebooks/1.2 SMS_spam.csv\"\n",
    "\n",
    "messages = pd.read_csv(filepath, index_col = [0])"
   ]
  },
  {
   "cell_type": "code",
   "execution_count": null,
   "metadata": {
    "id": "R4DfTyD56YIZ"
   },
   "outputs": [],
   "source": [
    "# Creating the copy of the data frame\n",
    "data = messages.copy()"
   ]
  },
  {
   "cell_type": "markdown",
   "metadata": {
    "id": "0k2D_IVf6YIa"
   },
   "source": [
    "### **2.3 Understanding the dataset**"
   ]
  },
  {
   "cell_type": "code",
   "execution_count": null,
   "metadata": {
    "colab": {
     "base_uri": "https://localhost:8080/",
     "height": 206
    },
    "executionInfo": {
     "elapsed": 5,
     "status": "ok",
     "timestamp": 1669037144844,
     "user": {
      "displayName": "Avijit Saha",
      "userId": "05983986979764220862"
     },
     "user_tz": -330
    },
    "id": "VYp08HAz6YIa",
    "outputId": "1cb90dfc-c877-4ea8-f6ca-bdb7c2140a14"
   },
   "outputs": [
    {
     "data": {
      "text/html": [
       "\n",
       "  <div id=\"df-4d8fc3ed-dd94-4eb7-90c7-0b5b8edaa63e\">\n",
       "    <div class=\"colab-df-container\">\n",
       "      <div>\n",
       "<style scoped>\n",
       "    .dataframe tbody tr th:only-of-type {\n",
       "        vertical-align: middle;\n",
       "    }\n",
       "\n",
       "    .dataframe tbody tr th {\n",
       "        vertical-align: top;\n",
       "    }\n",
       "\n",
       "    .dataframe thead th {\n",
       "        text-align: right;\n",
       "    }\n",
       "</style>\n",
       "<table border=\"1\" class=\"dataframe\">\n",
       "  <thead>\n",
       "    <tr style=\"text-align: right;\">\n",
       "      <th></th>\n",
       "      <th>type</th>\n",
       "      <th>text</th>\n",
       "    </tr>\n",
       "  </thead>\n",
       "  <tbody>\n",
       "    <tr>\n",
       "      <th>0</th>\n",
       "      <td>ham</td>\n",
       "      <td>hope having good checking</td>\n",
       "    </tr>\n",
       "    <tr>\n",
       "      <th>1</th>\n",
       "      <td>ham</td>\n",
       "      <td>dong cbe bt pay</td>\n",
       "    </tr>\n",
       "    <tr>\n",
       "      <th>2</th>\n",
       "      <td>ham</td>\n",
       "      <td>ask mummy father</td>\n",
       "    </tr>\n",
       "    <tr>\n",
       "      <th>3</th>\n",
       "      <td>ham</td>\n",
       "      <td>fyi usf swing room</td>\n",
       "    </tr>\n",
       "    <tr>\n",
       "      <th>4</th>\n",
       "      <td>ham</td>\n",
       "      <td>sure thing big hockey election longer hour</td>\n",
       "    </tr>\n",
       "  </tbody>\n",
       "</table>\n",
       "</div>\n",
       "      <button class=\"colab-df-convert\" onclick=\"convertToInteractive('df-4d8fc3ed-dd94-4eb7-90c7-0b5b8edaa63e')\"\n",
       "              title=\"Convert this dataframe to an interactive table.\"\n",
       "              style=\"display:none;\">\n",
       "        \n",
       "  <svg xmlns=\"http://www.w3.org/2000/svg\" height=\"24px\"viewBox=\"0 0 24 24\"\n",
       "       width=\"24px\">\n",
       "    <path d=\"M0 0h24v24H0V0z\" fill=\"none\"/>\n",
       "    <path d=\"M18.56 5.44l.94 2.06.94-2.06 2.06-.94-2.06-.94-.94-2.06-.94 2.06-2.06.94zm-11 1L8.5 8.5l.94-2.06 2.06-.94-2.06-.94L8.5 2.5l-.94 2.06-2.06.94zm10 10l.94 2.06.94-2.06 2.06-.94-2.06-.94-.94-2.06-.94 2.06-2.06.94z\"/><path d=\"M17.41 7.96l-1.37-1.37c-.4-.4-.92-.59-1.43-.59-.52 0-1.04.2-1.43.59L10.3 9.45l-7.72 7.72c-.78.78-.78 2.05 0 2.83L4 21.41c.39.39.9.59 1.41.59.51 0 1.02-.2 1.41-.59l7.78-7.78 2.81-2.81c.8-.78.8-2.07 0-2.86zM5.41 20L4 18.59l7.72-7.72 1.47 1.35L5.41 20z\"/>\n",
       "  </svg>\n",
       "      </button>\n",
       "      \n",
       "  <style>\n",
       "    .colab-df-container {\n",
       "      display:flex;\n",
       "      flex-wrap:wrap;\n",
       "      gap: 12px;\n",
       "    }\n",
       "\n",
       "    .colab-df-convert {\n",
       "      background-color: #E8F0FE;\n",
       "      border: none;\n",
       "      border-radius: 50%;\n",
       "      cursor: pointer;\n",
       "      display: none;\n",
       "      fill: #1967D2;\n",
       "      height: 32px;\n",
       "      padding: 0 0 0 0;\n",
       "      width: 32px;\n",
       "    }\n",
       "\n",
       "    .colab-df-convert:hover {\n",
       "      background-color: #E2EBFA;\n",
       "      box-shadow: 0px 1px 2px rgba(60, 64, 67, 0.3), 0px 1px 3px 1px rgba(60, 64, 67, 0.15);\n",
       "      fill: #174EA6;\n",
       "    }\n",
       "\n",
       "    [theme=dark] .colab-df-convert {\n",
       "      background-color: #3B4455;\n",
       "      fill: #D2E3FC;\n",
       "    }\n",
       "\n",
       "    [theme=dark] .colab-df-convert:hover {\n",
       "      background-color: #434B5C;\n",
       "      box-shadow: 0px 1px 3px 1px rgba(0, 0, 0, 0.15);\n",
       "      filter: drop-shadow(0px 1px 2px rgba(0, 0, 0, 0.3));\n",
       "      fill: #FFFFFF;\n",
       "    }\n",
       "  </style>\n",
       "\n",
       "      <script>\n",
       "        const buttonEl =\n",
       "          document.querySelector('#df-4d8fc3ed-dd94-4eb7-90c7-0b5b8edaa63e button.colab-df-convert');\n",
       "        buttonEl.style.display =\n",
       "          google.colab.kernel.accessAllowed ? 'block' : 'none';\n",
       "\n",
       "        async function convertToInteractive(key) {\n",
       "          const element = document.querySelector('#df-4d8fc3ed-dd94-4eb7-90c7-0b5b8edaa63e');\n",
       "          const dataTable =\n",
       "            await google.colab.kernel.invokeFunction('convertToInteractive',\n",
       "                                                     [key], {});\n",
       "          if (!dataTable) return;\n",
       "\n",
       "          const docLinkHtml = 'Like what you see? Visit the ' +\n",
       "            '<a target=\"_blank\" href=https://colab.research.google.com/notebooks/data_table.ipynb>data table notebook</a>'\n",
       "            + ' to learn more about interactive tables.';\n",
       "          element.innerHTML = '';\n",
       "          dataTable['output_type'] = 'display_data';\n",
       "          await google.colab.output.renderOutput(dataTable, element);\n",
       "          const docLink = document.createElement('div');\n",
       "          docLink.innerHTML = docLinkHtml;\n",
       "          element.appendChild(docLink);\n",
       "        }\n",
       "      </script>\n",
       "    </div>\n",
       "  </div>\n",
       "  "
      ],
      "text/plain": [
       "  type                                        text\n",
       "0  ham                   hope having good checking\n",
       "1  ham                             dong cbe bt pay\n",
       "2  ham                            ask mummy father\n",
       "3  ham                          fyi usf swing room\n",
       "4  ham  sure thing big hockey election longer hour"
      ]
     },
     "execution_count": 4,
     "metadata": {},
     "output_type": "execute_result"
    }
   ],
   "source": [
    "# View the first 5 rows of the dataset\n",
    "data.head(5)"
   ]
  },
  {
   "cell_type": "code",
   "execution_count": null,
   "metadata": {
    "colab": {
     "base_uri": "https://localhost:8080/",
     "height": 206
    },
    "executionInfo": {
     "elapsed": 5,
     "status": "ok",
     "timestamp": 1669037147128,
     "user": {
      "displayName": "Avijit Saha",
      "userId": "05983986979764220862"
     },
     "user_tz": -330
    },
    "id": "tbg4p-5O6YIa",
    "outputId": "7915209b-0c98-4417-ef28-b89396d8ffd0"
   },
   "outputs": [
    {
     "data": {
      "text/html": [
       "\n",
       "  <div id=\"df-71c8c801-244f-4aa7-906b-b5295bb26372\">\n",
       "    <div class=\"colab-df-container\">\n",
       "      <div>\n",
       "<style scoped>\n",
       "    .dataframe tbody tr th:only-of-type {\n",
       "        vertical-align: middle;\n",
       "    }\n",
       "\n",
       "    .dataframe tbody tr th {\n",
       "        vertical-align: top;\n",
       "    }\n",
       "\n",
       "    .dataframe thead th {\n",
       "        text-align: right;\n",
       "    }\n",
       "</style>\n",
       "<table border=\"1\" class=\"dataframe\">\n",
       "  <thead>\n",
       "    <tr style=\"text-align: right;\">\n",
       "      <th></th>\n",
       "      <th>type</th>\n",
       "      <th>text</th>\n",
       "    </tr>\n",
       "  </thead>\n",
       "  <tbody>\n",
       "    <tr>\n",
       "      <th>4023</th>\n",
       "      <td>spam</td>\n",
       "      <td>cd congratulation ur awarded ps500 cd gift voucher ps125 gift guaranteed reentry 2 ps100 draw xt music 87066 tn</td>\n",
       "    </tr>\n",
       "    <tr>\n",
       "      <th>4024</th>\n",
       "      <td>spam</td>\n",
       "      <td>mobile 11myths update free orange latest colour camera mobile unlimited weekend mobile upd8 freeform 08000839402 2stoptxt</td>\n",
       "    </tr>\n",
       "    <tr>\n",
       "      <th>4025</th>\n",
       "      <td>spam</td>\n",
       "      <td>3 lion england reply lion 4 mono lion 4 4 2 original n tone 3gb network operator rate</td>\n",
       "    </tr>\n",
       "    <tr>\n",
       "      <th>4026</th>\n",
       "      <td>spam</td>\n",
       "      <td>ur balance ur question sang 2 answer txt ur answer good</td>\n",
       "    </tr>\n",
       "    <tr>\n",
       "      <th>4027</th>\n",
       "      <td>spam</td>\n",
       "      <td>ac energy u know 2channel 2day ur leadership skill r reply an reply end sco</td>\n",
       "    </tr>\n",
       "  </tbody>\n",
       "</table>\n",
       "</div>\n",
       "      <button class=\"colab-df-convert\" onclick=\"convertToInteractive('df-71c8c801-244f-4aa7-906b-b5295bb26372')\"\n",
       "              title=\"Convert this dataframe to an interactive table.\"\n",
       "              style=\"display:none;\">\n",
       "        \n",
       "  <svg xmlns=\"http://www.w3.org/2000/svg\" height=\"24px\"viewBox=\"0 0 24 24\"\n",
       "       width=\"24px\">\n",
       "    <path d=\"M0 0h24v24H0V0z\" fill=\"none\"/>\n",
       "    <path d=\"M18.56 5.44l.94 2.06.94-2.06 2.06-.94-2.06-.94-.94-2.06-.94 2.06-2.06.94zm-11 1L8.5 8.5l.94-2.06 2.06-.94-2.06-.94L8.5 2.5l-.94 2.06-2.06.94zm10 10l.94 2.06.94-2.06 2.06-.94-2.06-.94-.94-2.06-.94 2.06-2.06.94z\"/><path d=\"M17.41 7.96l-1.37-1.37c-.4-.4-.92-.59-1.43-.59-.52 0-1.04.2-1.43.59L10.3 9.45l-7.72 7.72c-.78.78-.78 2.05 0 2.83L4 21.41c.39.39.9.59 1.41.59.51 0 1.02-.2 1.41-.59l7.78-7.78 2.81-2.81c.8-.78.8-2.07 0-2.86zM5.41 20L4 18.59l7.72-7.72 1.47 1.35L5.41 20z\"/>\n",
       "  </svg>\n",
       "      </button>\n",
       "      \n",
       "  <style>\n",
       "    .colab-df-container {\n",
       "      display:flex;\n",
       "      flex-wrap:wrap;\n",
       "      gap: 12px;\n",
       "    }\n",
       "\n",
       "    .colab-df-convert {\n",
       "      background-color: #E8F0FE;\n",
       "      border: none;\n",
       "      border-radius: 50%;\n",
       "      cursor: pointer;\n",
       "      display: none;\n",
       "      fill: #1967D2;\n",
       "      height: 32px;\n",
       "      padding: 0 0 0 0;\n",
       "      width: 32px;\n",
       "    }\n",
       "\n",
       "    .colab-df-convert:hover {\n",
       "      background-color: #E2EBFA;\n",
       "      box-shadow: 0px 1px 2px rgba(60, 64, 67, 0.3), 0px 1px 3px 1px rgba(60, 64, 67, 0.15);\n",
       "      fill: #174EA6;\n",
       "    }\n",
       "\n",
       "    [theme=dark] .colab-df-convert {\n",
       "      background-color: #3B4455;\n",
       "      fill: #D2E3FC;\n",
       "    }\n",
       "\n",
       "    [theme=dark] .colab-df-convert:hover {\n",
       "      background-color: #434B5C;\n",
       "      box-shadow: 0px 1px 3px 1px rgba(0, 0, 0, 0.15);\n",
       "      filter: drop-shadow(0px 1px 2px rgba(0, 0, 0, 0.3));\n",
       "      fill: #FFFFFF;\n",
       "    }\n",
       "  </style>\n",
       "\n",
       "      <script>\n",
       "        const buttonEl =\n",
       "          document.querySelector('#df-71c8c801-244f-4aa7-906b-b5295bb26372 button.colab-df-convert');\n",
       "        buttonEl.style.display =\n",
       "          google.colab.kernel.accessAllowed ? 'block' : 'none';\n",
       "\n",
       "        async function convertToInteractive(key) {\n",
       "          const element = document.querySelector('#df-71c8c801-244f-4aa7-906b-b5295bb26372');\n",
       "          const dataTable =\n",
       "            await google.colab.kernel.invokeFunction('convertToInteractive',\n",
       "                                                     [key], {});\n",
       "          if (!dataTable) return;\n",
       "\n",
       "          const docLinkHtml = 'Like what you see? Visit the ' +\n",
       "            '<a target=\"_blank\" href=https://colab.research.google.com/notebooks/data_table.ipynb>data table notebook</a>'\n",
       "            + ' to learn more about interactive tables.';\n",
       "          element.innerHTML = '';\n",
       "          dataTable['output_type'] = 'display_data';\n",
       "          await google.colab.output.renderOutput(dataTable, element);\n",
       "          const docLink = document.createElement('div');\n",
       "          docLink.innerHTML = docLinkHtml;\n",
       "          element.appendChild(docLink);\n",
       "        }\n",
       "      </script>\n",
       "    </div>\n",
       "  </div>\n",
       "  "
      ],
      "text/plain": [
       "      type  \\\n",
       "4023  spam   \n",
       "4024  spam   \n",
       "4025  spam   \n",
       "4026  spam   \n",
       "4027  spam   \n",
       "\n",
       "                                                                                                                           text  \n",
       "4023            cd congratulation ur awarded ps500 cd gift voucher ps125 gift guaranteed reentry 2 ps100 draw xt music 87066 tn  \n",
       "4024  mobile 11myths update free orange latest colour camera mobile unlimited weekend mobile upd8 freeform 08000839402 2stoptxt  \n",
       "4025                                      3 lion england reply lion 4 mono lion 4 4 2 original n tone 3gb network operator rate  \n",
       "4026                                                                    ur balance ur question sang 2 answer txt ur answer good  \n",
       "4027                                                ac energy u know 2channel 2day ur leadership skill r reply an reply end sco  "
      ]
     },
     "execution_count": 5,
     "metadata": {},
     "output_type": "execute_result"
    }
   ],
   "source": [
    "# View the last five rows of the dataset\n",
    "data.tail(5)"
   ]
  },
  {
   "cell_type": "code",
   "execution_count": null,
   "metadata": {
    "colab": {
     "base_uri": "https://localhost:8080/"
    },
    "executionInfo": {
     "elapsed": 6,
     "status": "ok",
     "timestamp": 1669037149849,
     "user": {
      "displayName": "Avijit Saha",
      "userId": "05983986979764220862"
     },
     "user_tz": -330
    },
    "id": "YIEtKvFm6YIb",
    "outputId": "105f606e-9434-42f7-c8c5-fa4d4cc88242"
   },
   "outputs": [
    {
     "data": {
      "text/plain": [
       "(4028, 2)"
      ]
     },
     "execution_count": 6,
     "metadata": {},
     "output_type": "execute_result"
    }
   ],
   "source": [
    "# Checking the shape of the dataset\n",
    "data.shape"
   ]
  },
  {
   "cell_type": "code",
   "execution_count": null,
   "metadata": {
    "colab": {
     "base_uri": "https://localhost:8080/"
    },
    "executionInfo": {
     "elapsed": 4,
     "status": "ok",
     "timestamp": 1669037152624,
     "user": {
      "displayName": "Avijit Saha",
      "userId": "05983986979764220862"
     },
     "user_tz": -330
    },
    "id": "f6WHmWEv6YIc",
    "outputId": "482bfa12-cea1-4543-c576-5955d588c768"
   },
   "outputs": [
    {
     "name": "stdout",
     "output_type": "stream",
     "text": [
      "<class 'pandas.core.frame.DataFrame'>\n",
      "Int64Index: 4028 entries, 0 to 4027\n",
      "Data columns (total 2 columns):\n",
      " #   Column  Non-Null Count  Dtype \n",
      "---  ------  --------------  ----- \n",
      " 0   type    4028 non-null   object\n",
      " 1   text    4028 non-null   object\n",
      "dtypes: object(2)\n",
      "memory usage: 94.4+ KB\n"
     ]
    }
   ],
   "source": [
    "# Checking the datatypes and columns\n",
    "data.info()"
   ]
  },
  {
   "cell_type": "code",
   "execution_count": null,
   "metadata": {
    "colab": {
     "base_uri": "https://localhost:8080/"
    },
    "executionInfo": {
     "elapsed": 3,
     "status": "ok",
     "timestamp": 1669037155469,
     "user": {
      "displayName": "Avijit Saha",
      "userId": "05983986979764220862"
     },
     "user_tz": -330
    },
    "id": "dLz081AW6YId",
    "outputId": "5bf60f52-ccb2-42c2-bba8-71aa2bd689e4"
   },
   "outputs": [
    {
     "data": {
      "text/plain": [
       "0"
      ]
     },
     "execution_count": 8,
     "metadata": {},
     "output_type": "execute_result"
    }
   ],
   "source": [
    "# Checking for duplicate values\n",
    "data.duplicated().sum()"
   ]
  },
  {
   "cell_type": "code",
   "execution_count": null,
   "metadata": {
    "colab": {
     "base_uri": "https://localhost:8080/"
    },
    "executionInfo": {
     "elapsed": 501,
     "status": "ok",
     "timestamp": 1669037158446,
     "user": {
      "displayName": "Avijit Saha",
      "userId": "05983986979764220862"
     },
     "user_tz": -330
    },
    "id": "jtz2K5L-nY4n",
    "outputId": "a3b85668-f524-48e1-e7b7-e4138fed94c6"
   },
   "outputs": [
    {
     "data": {
      "text/plain": [
       "type    0\n",
       "text    0\n",
       "dtype: int64"
      ]
     },
     "execution_count": 9,
     "metadata": {},
     "output_type": "execute_result"
    }
   ],
   "source": [
    "# Checking for missing values\n",
    "data.isna().sum()"
   ]
  },
  {
   "cell_type": "code",
   "execution_count": null,
   "metadata": {
    "colab": {
     "base_uri": "https://localhost:8080/"
    },
    "executionInfo": {
     "elapsed": 5,
     "status": "ok",
     "timestamp": 1669037161712,
     "user": {
      "displayName": "Avijit Saha",
      "userId": "05983986979764220862"
     },
     "user_tz": -330
    },
    "id": "8I2wehn5kbZm",
    "outputId": "d5155caa-3f81-47db-8049-064e4f4bc481"
   },
   "outputs": [
    {
     "data": {
      "text/plain": [
       "ham     3414\n",
       "spam     614\n",
       "Name: type, dtype: int64"
      ]
     },
     "execution_count": 10,
     "metadata": {},
     "output_type": "execute_result"
    }
   ],
   "source": [
    "data['type'].value_counts()"
   ]
  },
  {
   "cell_type": "markdown",
   "metadata": {
    "id": "6pIZuNLt6YIc"
   },
   "source": [
    "#### **Observations:**\n",
    "* There are total **4028 rows** and **2 columns** in the dataset.\n",
    "* All the columns are **object** type.\n",
    "* There are **no duplicate values** in the data.\n",
    "* There are **no null values** in the dataset.\n",
    "* Majority of the messages(around 85%) are of **ham** class."
   ]
  },
  {
   "cell_type": "code",
   "execution_count": null,
   "metadata": {
    "colab": {
     "base_uri": "https://localhost:8080/"
    },
    "executionInfo": {
     "elapsed": 4591,
     "status": "ok",
     "timestamp": 1669037171343,
     "user": {
      "displayName": "Avijit Saha",
      "userId": "05983986979764220862"
     },
     "user_tz": -330
    },
    "id": "svYl0rZNnIFL",
    "outputId": "d09fe663-7097-42eb-bc89-58ae9ce2cc87"
   },
   "outputs": [
    {
     "name": "stdout",
     "output_type": "stream",
     "text": [
      "Looking in indexes: https://pypi.org/simple, https://us-python.pkg.dev/colab-wheels/public/simple/\n",
      "Requirement already satisfied: contractions in /usr/local/lib/python3.7/dist-packages (0.1.73)\n",
      "Requirement already satisfied: textsearch>=0.0.21 in /usr/local/lib/python3.7/dist-packages (from contractions) (0.0.24)\n",
      "Requirement already satisfied: pyahocorasick in /usr/local/lib/python3.7/dist-packages (from textsearch>=0.0.21->contractions) (1.4.4)\n",
      "Requirement already satisfied: anyascii in /usr/local/lib/python3.7/dist-packages (from textsearch>=0.0.21->contractions) (0.3.1)\n"
     ]
    }
   ],
   "source": [
    "# this library is used to expand contractions\n",
    "!pip install contractions"
   ]
  },
  {
   "cell_type": "code",
   "execution_count": null,
   "metadata": {
    "colab": {
     "base_uri": "https://localhost:8080/"
    },
    "executionInfo": {
     "elapsed": 3656,
     "status": "ok",
     "timestamp": 1669037188198,
     "user": {
      "displayName": "Avijit Saha",
      "userId": "05983986979764220862"
     },
     "user_tz": -330
    },
    "id": "tKxVZRfkS5Ou",
    "outputId": "daddcb24-9c52-47af-c4ee-1e51b4b514c5"
   },
   "outputs": [
    {
     "name": "stderr",
     "output_type": "stream",
     "text": [
      "[nltk_data] Downloading package punkt to /root/nltk_data...\n",
      "[nltk_data]   Package punkt is already up-to-date!\n",
      "[nltk_data] Downloading collection 'all'\n",
      "[nltk_data]    | \n",
      "[nltk_data]    | Downloading package abc to /root/nltk_data...\n",
      "[nltk_data]    |   Package abc is already up-to-date!\n",
      "[nltk_data]    | Downloading package alpino to /root/nltk_data...\n",
      "[nltk_data]    |   Package alpino is already up-to-date!\n",
      "[nltk_data]    | Downloading package averaged_perceptron_tagger to\n",
      "[nltk_data]    |     /root/nltk_data...\n",
      "[nltk_data]    |   Package averaged_perceptron_tagger is already up-\n",
      "[nltk_data]    |       to-date!\n",
      "[nltk_data]    | Downloading package averaged_perceptron_tagger_ru to\n",
      "[nltk_data]    |     /root/nltk_data...\n",
      "[nltk_data]    |   Package averaged_perceptron_tagger_ru is already\n",
      "[nltk_data]    |       up-to-date!\n",
      "[nltk_data]    | Downloading package basque_grammars to\n",
      "[nltk_data]    |     /root/nltk_data...\n",
      "[nltk_data]    |   Package basque_grammars is already up-to-date!\n",
      "[nltk_data]    | Downloading package biocreative_ppi to\n",
      "[nltk_data]    |     /root/nltk_data...\n",
      "[nltk_data]    |   Package biocreative_ppi is already up-to-date!\n",
      "[nltk_data]    | Downloading package bllip_wsj_no_aux to\n",
      "[nltk_data]    |     /root/nltk_data...\n",
      "[nltk_data]    |   Package bllip_wsj_no_aux is already up-to-date!\n",
      "[nltk_data]    | Downloading package book_grammars to\n",
      "[nltk_data]    |     /root/nltk_data...\n",
      "[nltk_data]    |   Package book_grammars is already up-to-date!\n",
      "[nltk_data]    | Downloading package brown to /root/nltk_data...\n",
      "[nltk_data]    |   Package brown is already up-to-date!\n",
      "[nltk_data]    | Downloading package brown_tei to /root/nltk_data...\n",
      "[nltk_data]    |   Package brown_tei is already up-to-date!\n",
      "[nltk_data]    | Downloading package cess_cat to /root/nltk_data...\n",
      "[nltk_data]    |   Package cess_cat is already up-to-date!\n",
      "[nltk_data]    | Downloading package cess_esp to /root/nltk_data...\n",
      "[nltk_data]    |   Package cess_esp is already up-to-date!\n",
      "[nltk_data]    | Downloading package chat80 to /root/nltk_data...\n",
      "[nltk_data]    |   Package chat80 is already up-to-date!\n",
      "[nltk_data]    | Downloading package city_database to\n",
      "[nltk_data]    |     /root/nltk_data...\n",
      "[nltk_data]    |   Package city_database is already up-to-date!\n",
      "[nltk_data]    | Downloading package cmudict to /root/nltk_data...\n",
      "[nltk_data]    |   Package cmudict is already up-to-date!\n",
      "[nltk_data]    | Downloading package comparative_sentences to\n",
      "[nltk_data]    |     /root/nltk_data...\n",
      "[nltk_data]    |   Package comparative_sentences is already up-to-\n",
      "[nltk_data]    |       date!\n",
      "[nltk_data]    | Downloading package comtrans to /root/nltk_data...\n",
      "[nltk_data]    |   Package comtrans is already up-to-date!\n",
      "[nltk_data]    | Downloading package conll2000 to /root/nltk_data...\n",
      "[nltk_data]    |   Package conll2000 is already up-to-date!\n",
      "[nltk_data]    | Downloading package conll2002 to /root/nltk_data...\n",
      "[nltk_data]    |   Package conll2002 is already up-to-date!\n",
      "[nltk_data]    | Downloading package conll2007 to /root/nltk_data...\n",
      "[nltk_data]    |   Package conll2007 is already up-to-date!\n",
      "[nltk_data]    | Downloading package crubadan to /root/nltk_data...\n",
      "[nltk_data]    |   Package crubadan is already up-to-date!\n",
      "[nltk_data]    | Downloading package dependency_treebank to\n",
      "[nltk_data]    |     /root/nltk_data...\n",
      "[nltk_data]    |   Package dependency_treebank is already up-to-date!\n",
      "[nltk_data]    | Downloading package dolch to /root/nltk_data...\n",
      "[nltk_data]    |   Package dolch is already up-to-date!\n",
      "[nltk_data]    | Downloading package europarl_raw to\n",
      "[nltk_data]    |     /root/nltk_data...\n",
      "[nltk_data]    |   Package europarl_raw is already up-to-date!\n",
      "[nltk_data]    | Downloading package extended_omw to\n",
      "[nltk_data]    |     /root/nltk_data...\n",
      "[nltk_data]    |   Package extended_omw is already up-to-date!\n",
      "[nltk_data]    | Downloading package floresta to /root/nltk_data...\n",
      "[nltk_data]    |   Package floresta is already up-to-date!\n",
      "[nltk_data]    | Downloading package framenet_v15 to\n",
      "[nltk_data]    |     /root/nltk_data...\n",
      "[nltk_data]    |   Package framenet_v15 is already up-to-date!\n",
      "[nltk_data]    | Downloading package framenet_v17 to\n",
      "[nltk_data]    |     /root/nltk_data...\n",
      "[nltk_data]    |   Package framenet_v17 is already up-to-date!\n",
      "[nltk_data]    | Downloading package gazetteers to /root/nltk_data...\n",
      "[nltk_data]    |   Package gazetteers is already up-to-date!\n",
      "[nltk_data]    | Downloading package genesis to /root/nltk_data...\n",
      "[nltk_data]    |   Package genesis is already up-to-date!\n",
      "[nltk_data]    | Downloading package gutenberg to /root/nltk_data...\n",
      "[nltk_data]    |   Package gutenberg is already up-to-date!\n",
      "[nltk_data]    | Downloading package ieer to /root/nltk_data...\n",
      "[nltk_data]    |   Package ieer is already up-to-date!\n",
      "[nltk_data]    | Downloading package inaugural to /root/nltk_data...\n",
      "[nltk_data]    |   Package inaugural is already up-to-date!\n",
      "[nltk_data]    | Downloading package indian to /root/nltk_data...\n",
      "[nltk_data]    |   Package indian is already up-to-date!\n",
      "[nltk_data]    | Downloading package jeita to /root/nltk_data...\n",
      "[nltk_data]    |   Package jeita is already up-to-date!\n",
      "[nltk_data]    | Downloading package kimmo to /root/nltk_data...\n",
      "[nltk_data]    |   Package kimmo is already up-to-date!\n",
      "[nltk_data]    | Downloading package knbc to /root/nltk_data...\n",
      "[nltk_data]    |   Package knbc is already up-to-date!\n",
      "[nltk_data]    | Downloading package large_grammars to\n",
      "[nltk_data]    |     /root/nltk_data...\n",
      "[nltk_data]    |   Package large_grammars is already up-to-date!\n",
      "[nltk_data]    | Downloading package lin_thesaurus to\n",
      "[nltk_data]    |     /root/nltk_data...\n",
      "[nltk_data]    |   Package lin_thesaurus is already up-to-date!\n",
      "[nltk_data]    | Downloading package mac_morpho to /root/nltk_data...\n",
      "[nltk_data]    |   Package mac_morpho is already up-to-date!\n",
      "[nltk_data]    | Downloading package machado to /root/nltk_data...\n",
      "[nltk_data]    |   Package machado is already up-to-date!\n",
      "[nltk_data]    | Downloading package masc_tagged to /root/nltk_data...\n",
      "[nltk_data]    |   Package masc_tagged is already up-to-date!\n",
      "[nltk_data]    | Downloading package maxent_ne_chunker to\n",
      "[nltk_data]    |     /root/nltk_data...\n",
      "[nltk_data]    |   Package maxent_ne_chunker is already up-to-date!\n",
      "[nltk_data]    | Downloading package maxent_treebank_pos_tagger to\n",
      "[nltk_data]    |     /root/nltk_data...\n",
      "[nltk_data]    |   Package maxent_treebank_pos_tagger is already up-\n",
      "[nltk_data]    |       to-date!\n",
      "[nltk_data]    | Downloading package moses_sample to\n",
      "[nltk_data]    |     /root/nltk_data...\n",
      "[nltk_data]    |   Package moses_sample is already up-to-date!\n",
      "[nltk_data]    | Downloading package movie_reviews to\n",
      "[nltk_data]    |     /root/nltk_data...\n",
      "[nltk_data]    |   Package movie_reviews is already up-to-date!\n",
      "[nltk_data]    | Downloading package mte_teip5 to /root/nltk_data...\n",
      "[nltk_data]    |   Package mte_teip5 is already up-to-date!\n",
      "[nltk_data]    | Downloading package mwa_ppdb to /root/nltk_data...\n",
      "[nltk_data]    |   Package mwa_ppdb is already up-to-date!\n",
      "[nltk_data]    | Downloading package names to /root/nltk_data...\n",
      "[nltk_data]    |   Package names is already up-to-date!\n",
      "[nltk_data]    | Downloading package nombank.1.0 to /root/nltk_data...\n",
      "[nltk_data]    |   Package nombank.1.0 is already up-to-date!\n",
      "[nltk_data]    | Downloading package nonbreaking_prefixes to\n",
      "[nltk_data]    |     /root/nltk_data...\n",
      "[nltk_data]    |   Package nonbreaking_prefixes is already up-to-date!\n",
      "[nltk_data]    | Downloading package nps_chat to /root/nltk_data...\n",
      "[nltk_data]    |   Package nps_chat is already up-to-date!\n",
      "[nltk_data]    | Downloading package omw to /root/nltk_data...\n",
      "[nltk_data]    |   Package omw is already up-to-date!\n",
      "[nltk_data]    | Downloading package omw-1.4 to /root/nltk_data...\n",
      "[nltk_data]    |   Package omw-1.4 is already up-to-date!\n",
      "[nltk_data]    | Downloading package opinion_lexicon to\n",
      "[nltk_data]    |     /root/nltk_data...\n",
      "[nltk_data]    |   Package opinion_lexicon is already up-to-date!\n",
      "[nltk_data]    | Downloading package panlex_swadesh to\n",
      "[nltk_data]    |     /root/nltk_data...\n",
      "[nltk_data]    |   Package panlex_swadesh is already up-to-date!\n",
      "[nltk_data]    | Downloading package paradigms to /root/nltk_data...\n",
      "[nltk_data]    |   Package paradigms is already up-to-date!\n",
      "[nltk_data]    | Downloading package pe08 to /root/nltk_data...\n",
      "[nltk_data]    |   Package pe08 is already up-to-date!\n",
      "[nltk_data]    | Downloading package perluniprops to\n",
      "[nltk_data]    |     /root/nltk_data...\n",
      "[nltk_data]    |   Package perluniprops is already up-to-date!\n",
      "[nltk_data]    | Downloading package pil to /root/nltk_data...\n",
      "[nltk_data]    |   Package pil is already up-to-date!\n",
      "[nltk_data]    | Downloading package pl196x to /root/nltk_data...\n",
      "[nltk_data]    |   Package pl196x is already up-to-date!\n",
      "[nltk_data]    | Downloading package porter_test to /root/nltk_data...\n",
      "[nltk_data]    |   Package porter_test is already up-to-date!\n",
      "[nltk_data]    | Downloading package ppattach to /root/nltk_data...\n",
      "[nltk_data]    |   Package ppattach is already up-to-date!\n",
      "[nltk_data]    | Downloading package problem_reports to\n",
      "[nltk_data]    |     /root/nltk_data...\n",
      "[nltk_data]    |   Package problem_reports is already up-to-date!\n",
      "[nltk_data]    | Downloading package product_reviews_1 to\n",
      "[nltk_data]    |     /root/nltk_data...\n",
      "[nltk_data]    |   Package product_reviews_1 is already up-to-date!\n",
      "[nltk_data]    | Downloading package product_reviews_2 to\n",
      "[nltk_data]    |     /root/nltk_data...\n",
      "[nltk_data]    |   Package product_reviews_2 is already up-to-date!\n",
      "[nltk_data]    | Downloading package propbank to /root/nltk_data...\n",
      "[nltk_data]    |   Package propbank is already up-to-date!\n",
      "[nltk_data]    | Downloading package pros_cons to /root/nltk_data...\n",
      "[nltk_data]    |   Package pros_cons is already up-to-date!\n",
      "[nltk_data]    | Downloading package ptb to /root/nltk_data...\n",
      "[nltk_data]    |   Package ptb is already up-to-date!\n",
      "[nltk_data]    | Downloading package punkt to /root/nltk_data...\n",
      "[nltk_data]    |   Package punkt is already up-to-date!\n",
      "[nltk_data]    | Downloading package qc to /root/nltk_data...\n",
      "[nltk_data]    |   Package qc is already up-to-date!\n",
      "[nltk_data]    | Downloading package reuters to /root/nltk_data...\n",
      "[nltk_data]    |   Package reuters is already up-to-date!\n",
      "[nltk_data]    | Downloading package rslp to /root/nltk_data...\n",
      "[nltk_data]    |   Package rslp is already up-to-date!\n",
      "[nltk_data]    | Downloading package rte to /root/nltk_data...\n",
      "[nltk_data]    |   Package rte is already up-to-date!\n",
      "[nltk_data]    | Downloading package sample_grammars to\n",
      "[nltk_data]    |     /root/nltk_data...\n",
      "[nltk_data]    |   Package sample_grammars is already up-to-date!\n",
      "[nltk_data]    | Downloading package semcor to /root/nltk_data...\n",
      "[nltk_data]    |   Package semcor is already up-to-date!\n",
      "[nltk_data]    | Downloading package senseval to /root/nltk_data...\n",
      "[nltk_data]    |   Package senseval is already up-to-date!\n",
      "[nltk_data]    | Downloading package sentence_polarity to\n",
      "[nltk_data]    |     /root/nltk_data...\n",
      "[nltk_data]    |   Package sentence_polarity is already up-to-date!\n",
      "[nltk_data]    | Downloading package sentiwordnet to\n",
      "[nltk_data]    |     /root/nltk_data...\n",
      "[nltk_data]    |   Package sentiwordnet is already up-to-date!\n",
      "[nltk_data]    | Downloading package shakespeare to /root/nltk_data...\n",
      "[nltk_data]    |   Package shakespeare is already up-to-date!\n",
      "[nltk_data]    | Downloading package sinica_treebank to\n",
      "[nltk_data]    |     /root/nltk_data...\n",
      "[nltk_data]    |   Package sinica_treebank is already up-to-date!\n",
      "[nltk_data]    | Downloading package smultron to /root/nltk_data...\n",
      "[nltk_data]    |   Package smultron is already up-to-date!\n",
      "[nltk_data]    | Downloading package snowball_data to\n",
      "[nltk_data]    |     /root/nltk_data...\n",
      "[nltk_data]    |   Package snowball_data is already up-to-date!\n",
      "[nltk_data]    | Downloading package spanish_grammars to\n",
      "[nltk_data]    |     /root/nltk_data...\n",
      "[nltk_data]    |   Package spanish_grammars is already up-to-date!\n",
      "[nltk_data]    | Downloading package state_union to /root/nltk_data...\n",
      "[nltk_data]    |   Package state_union is already up-to-date!\n",
      "[nltk_data]    | Downloading package stopwords to /root/nltk_data...\n",
      "[nltk_data]    |   Package stopwords is already up-to-date!\n",
      "[nltk_data]    | Downloading package subjectivity to\n",
      "[nltk_data]    |     /root/nltk_data...\n",
      "[nltk_data]    |   Package subjectivity is already up-to-date!\n",
      "[nltk_data]    | Downloading package swadesh to /root/nltk_data...\n",
      "[nltk_data]    |   Package swadesh is already up-to-date!\n",
      "[nltk_data]    | Downloading package switchboard to /root/nltk_data...\n",
      "[nltk_data]    |   Package switchboard is already up-to-date!\n",
      "[nltk_data]    | Downloading package tagsets to /root/nltk_data...\n",
      "[nltk_data]    |   Package tagsets is already up-to-date!\n",
      "[nltk_data]    | Downloading package timit to /root/nltk_data...\n",
      "[nltk_data]    |   Package timit is already up-to-date!\n",
      "[nltk_data]    | Downloading package toolbox to /root/nltk_data...\n",
      "[nltk_data]    |   Package toolbox is already up-to-date!\n",
      "[nltk_data]    | Downloading package treebank to /root/nltk_data...\n",
      "[nltk_data]    |   Package treebank is already up-to-date!\n",
      "[nltk_data]    | Downloading package twitter_samples to\n",
      "[nltk_data]    |     /root/nltk_data...\n",
      "[nltk_data]    |   Package twitter_samples is already up-to-date!\n",
      "[nltk_data]    | Downloading package udhr to /root/nltk_data...\n",
      "[nltk_data]    |   Package udhr is already up-to-date!\n",
      "[nltk_data]    | Downloading package udhr2 to /root/nltk_data...\n",
      "[nltk_data]    |   Package udhr2 is already up-to-date!\n",
      "[nltk_data]    | Downloading package unicode_samples to\n",
      "[nltk_data]    |     /root/nltk_data...\n",
      "[nltk_data]    |   Package unicode_samples is already up-to-date!\n",
      "[nltk_data]    | Downloading package universal_tagset to\n",
      "[nltk_data]    |     /root/nltk_data...\n",
      "[nltk_data]    |   Package universal_tagset is already up-to-date!\n",
      "[nltk_data]    | Downloading package universal_treebanks_v20 to\n",
      "[nltk_data]    |     /root/nltk_data...\n",
      "[nltk_data]    |   Package universal_treebanks_v20 is already up-to-\n",
      "[nltk_data]    |       date!\n",
      "[nltk_data]    | Downloading package vader_lexicon to\n",
      "[nltk_data]    |     /root/nltk_data...\n",
      "[nltk_data]    |   Package vader_lexicon is already up-to-date!\n",
      "[nltk_data]    | Downloading package verbnet to /root/nltk_data...\n",
      "[nltk_data]    |   Package verbnet is already up-to-date!\n",
      "[nltk_data]    | Downloading package verbnet3 to /root/nltk_data...\n",
      "[nltk_data]    |   Package verbnet3 is already up-to-date!\n",
      "[nltk_data]    | Downloading package webtext to /root/nltk_data...\n",
      "[nltk_data]    |   Package webtext is already up-to-date!\n",
      "[nltk_data]    | Downloading package wmt15_eval to /root/nltk_data...\n",
      "[nltk_data]    |   Package wmt15_eval is already up-to-date!\n",
      "[nltk_data]    | Downloading package word2vec_sample to\n",
      "[nltk_data]    |     /root/nltk_data...\n",
      "[nltk_data]    |   Package word2vec_sample is already up-to-date!\n",
      "[nltk_data]    | Downloading package wordnet to /root/nltk_data...\n",
      "[nltk_data]    |   Package wordnet is already up-to-date!\n",
      "[nltk_data]    | Downloading package wordnet2021 to /root/nltk_data...\n",
      "[nltk_data]    |   Package wordnet2021 is already up-to-date!\n",
      "[nltk_data]    | Downloading package wordnet31 to /root/nltk_data...\n",
      "[nltk_data]    |   Package wordnet31 is already up-to-date!\n",
      "[nltk_data]    | Downloading package wordnet_ic to /root/nltk_data...\n",
      "[nltk_data]    |   Package wordnet_ic is already up-to-date!\n",
      "[nltk_data]    | Downloading package words to /root/nltk_data...\n",
      "[nltk_data]    |   Package words is already up-to-date!\n",
      "[nltk_data]    | Downloading package ycoe to /root/nltk_data...\n",
      "[nltk_data]    |   Package ycoe is already up-to-date!\n",
      "[nltk_data]    | \n",
      "[nltk_data]  Done downloading collection all\n"
     ]
    }
   ],
   "source": [
    "# Helps to extract the data using regular expressions\n",
    "import re\n",
    "import nltk\n",
    "import contractions\n",
    "nltk.download('punkt')\n",
    "nltk.download('all')\n",
    "\n",
    "from nltk.corpus import stopwords\n",
    "from nltk import word_tokenize\n",
    "# Used in Lemmatization\n",
    "from nltk.stem import WordNetLemmatizer"
   ]
  },
  {
   "cell_type": "code",
   "execution_count": null,
   "metadata": {
    "id": "S49q7IrySQa7"
   },
   "outputs": [],
   "source": [
    "# function for text pre-processing\n",
    "def clean_text(df, punctuations=r'''!()-[]{};:'\"\\,<>./?@#$%^&*_~'''):\n",
    "    \"\"\"\n",
    "    A method to clean text \n",
    "    \"\"\"\n",
    "    # Cleaning the urls\n",
    "    string = re.sub(r'https?://\\S+|www\\.\\S+', '', df)\n",
    "\n",
    "    # Cleaning the html elements\n",
    "    string = re.sub(r'<.*?>', '', df)\n",
    "\n",
    "    # Removing the punctuations using regular expression\n",
    "    # i.e remove anything which is not word or whitespace character\n",
    "    \n",
    "    string = re.sub(r'[^\\w\\s]', '', df)\n",
    "\n",
    "    # Converting the text to lower\n",
    "    string = string.lower()\n",
    "\n",
    "    # Removing stop words\n",
    "    string = ' '.join([word for word in string.split() if word not in stopwords.words('english')])\n",
    "\n",
    "    # Cleaning the whitespaces\n",
    "    string = re.sub(r'\\s+', ' ', string).strip()\n",
    "\n",
    "    #tokenize data\n",
    "    string = word_tokenize(string)\n",
    "\n",
    "    #remove number\n",
    "    string=[s for s in string if s.isalpha()]\n",
    "\n",
    "    #lemmatize the data\n",
    "    string= [WordNetLemmatizer().lemmatize(i) for i in string]\n",
    "\n",
    "    #fix contractions (example: \"'cause\": \"because\",\"could've\": \"could have\",etc)\n",
    "    string = ' '.join([contractions.fix(word) for word in string])\n",
    "\n",
    "\n",
    "    return string \n",
    "    #return \" \".join(string)       \n"
   ]
  },
  {
   "cell_type": "code",
   "execution_count": null,
   "metadata": {
    "id": "qi2KabopSV8k"
   },
   "outputs": [],
   "source": [
    "data[\"text\"] = data[\"text\"].astype(str) \n",
    "data['clean_text'] = data['text'].apply(clean_text)"
   ]
  },
  {
   "cell_type": "markdown",
   "metadata": {
    "id": "oeo90ssJ6YIe"
   },
   "source": [
    "#**3. Exploratory Data Analysis**"
   ]
  },
  {
   "cell_type": "markdown",
   "metadata": {
    "id": "sHZa_4f56YIg"
   },
   "source": [
    "Let's have a look into the text data to understand the most frequent words -"
   ]
  },
  {
   "cell_type": "code",
   "execution_count": null,
   "metadata": {
    "id": "PgR2BTsWBOEK"
   },
   "outputs": [],
   "source": [
    "# spam messages\n",
    "data_spam = data[data['type'] == 'spam']\n",
    "\n",
    "# ham messages\n",
    "data_ham = data[data['type'] == 'ham']"
   ]
  },
  {
   "cell_type": "code",
   "execution_count": null,
   "metadata": {
    "colab": {
     "base_uri": "https://localhost:8080/",
     "height": 285
    },
    "executionInfo": {
     "elapsed": 4,
     "status": "ok",
     "timestamp": 1669037416316,
     "user": {
      "displayName": "Avijit Saha",
      "userId": "05983986979764220862"
     },
     "user_tz": -330
    },
    "id": "zDuSgTIDSHbL",
    "outputId": "9e76fb35-e1ef-4ffa-8c28-2e766ad1a21b"
   },
   "outputs": [
    {
     "data": {
      "text/html": [
       "\n",
       "  <div id=\"df-d2bfbd09-9db7-4cd3-8b4f-e1ac95d4342d\">\n",
       "    <div class=\"colab-df-container\">\n",
       "      <div>\n",
       "<style scoped>\n",
       "    .dataframe tbody tr th:only-of-type {\n",
       "        vertical-align: middle;\n",
       "    }\n",
       "\n",
       "    .dataframe tbody tr th {\n",
       "        vertical-align: top;\n",
       "    }\n",
       "\n",
       "    .dataframe thead th {\n",
       "        text-align: right;\n",
       "    }\n",
       "</style>\n",
       "<table border=\"1\" class=\"dataframe\">\n",
       "  <thead>\n",
       "    <tr style=\"text-align: right;\">\n",
       "      <th></th>\n",
       "      <th>type</th>\n",
       "      <th>text</th>\n",
       "      <th>clean_text</th>\n",
       "    </tr>\n",
       "  </thead>\n",
       "  <tbody>\n",
       "    <tr>\n",
       "      <th>3414</th>\n",
       "      <td>spam</td>\n",
       "      <td>complimentary 4 star biz holiday cash need urgent 09066364349 landing lose</td>\n",
       "      <td>complimentary star biz holiday cash need urgent landing lose</td>\n",
       "    </tr>\n",
       "    <tr>\n",
       "      <th>3415</th>\n",
       "      <td>spam</td>\n",
       "      <td>dear dave final notice collect tenerife holiday cash 09061743806 tc sae box326 cw25wx 150ppm</td>\n",
       "      <td>dear dave final notice collect tenerife holiday cash tc sae</td>\n",
       "    </tr>\n",
       "    <tr>\n",
       "      <th>3416</th>\n",
       "      <td>spam</td>\n",
       "      <td>marvel mobile play official ultimate game ur mobile right text spider 83338 game ll send u free 8ball wallpaper</td>\n",
       "      <td>marvel mobile play official ultimate game you are mobile right text spider game send you free wallpaper</td>\n",
       "    </tr>\n",
       "    <tr>\n",
       "      <th>3417</th>\n",
       "      <td>spam</td>\n",
       "      <td>u win ps100 music gift voucher week starting txt word draw 87066 sc</td>\n",
       "      <td>you win music gift voucher week starting txt word draw sc</td>\n",
       "    </tr>\n",
       "    <tr>\n",
       "      <th>3418</th>\n",
       "      <td>spam</td>\n",
       "      <td>u won nokia 6230 plus free digital u u win free send nokia 83383 16</td>\n",
       "      <td>you nokia plus free digital you you win free send nokia</td>\n",
       "    </tr>\n",
       "  </tbody>\n",
       "</table>\n",
       "</div>\n",
       "      <button class=\"colab-df-convert\" onclick=\"convertToInteractive('df-d2bfbd09-9db7-4cd3-8b4f-e1ac95d4342d')\"\n",
       "              title=\"Convert this dataframe to an interactive table.\"\n",
       "              style=\"display:none;\">\n",
       "        \n",
       "  <svg xmlns=\"http://www.w3.org/2000/svg\" height=\"24px\"viewBox=\"0 0 24 24\"\n",
       "       width=\"24px\">\n",
       "    <path d=\"M0 0h24v24H0V0z\" fill=\"none\"/>\n",
       "    <path d=\"M18.56 5.44l.94 2.06.94-2.06 2.06-.94-2.06-.94-.94-2.06-.94 2.06-2.06.94zm-11 1L8.5 8.5l.94-2.06 2.06-.94-2.06-.94L8.5 2.5l-.94 2.06-2.06.94zm10 10l.94 2.06.94-2.06 2.06-.94-2.06-.94-.94-2.06-.94 2.06-2.06.94z\"/><path d=\"M17.41 7.96l-1.37-1.37c-.4-.4-.92-.59-1.43-.59-.52 0-1.04.2-1.43.59L10.3 9.45l-7.72 7.72c-.78.78-.78 2.05 0 2.83L4 21.41c.39.39.9.59 1.41.59.51 0 1.02-.2 1.41-.59l7.78-7.78 2.81-2.81c.8-.78.8-2.07 0-2.86zM5.41 20L4 18.59l7.72-7.72 1.47 1.35L5.41 20z\"/>\n",
       "  </svg>\n",
       "      </button>\n",
       "      \n",
       "  <style>\n",
       "    .colab-df-container {\n",
       "      display:flex;\n",
       "      flex-wrap:wrap;\n",
       "      gap: 12px;\n",
       "    }\n",
       "\n",
       "    .colab-df-convert {\n",
       "      background-color: #E8F0FE;\n",
       "      border: none;\n",
       "      border-radius: 50%;\n",
       "      cursor: pointer;\n",
       "      display: none;\n",
       "      fill: #1967D2;\n",
       "      height: 32px;\n",
       "      padding: 0 0 0 0;\n",
       "      width: 32px;\n",
       "    }\n",
       "\n",
       "    .colab-df-convert:hover {\n",
       "      background-color: #E2EBFA;\n",
       "      box-shadow: 0px 1px 2px rgba(60, 64, 67, 0.3), 0px 1px 3px 1px rgba(60, 64, 67, 0.15);\n",
       "      fill: #174EA6;\n",
       "    }\n",
       "\n",
       "    [theme=dark] .colab-df-convert {\n",
       "      background-color: #3B4455;\n",
       "      fill: #D2E3FC;\n",
       "    }\n",
       "\n",
       "    [theme=dark] .colab-df-convert:hover {\n",
       "      background-color: #434B5C;\n",
       "      box-shadow: 0px 1px 3px 1px rgba(0, 0, 0, 0.15);\n",
       "      filter: drop-shadow(0px 1px 2px rgba(0, 0, 0, 0.3));\n",
       "      fill: #FFFFFF;\n",
       "    }\n",
       "  </style>\n",
       "\n",
       "      <script>\n",
       "        const buttonEl =\n",
       "          document.querySelector('#df-d2bfbd09-9db7-4cd3-8b4f-e1ac95d4342d button.colab-df-convert');\n",
       "        buttonEl.style.display =\n",
       "          google.colab.kernel.accessAllowed ? 'block' : 'none';\n",
       "\n",
       "        async function convertToInteractive(key) {\n",
       "          const element = document.querySelector('#df-d2bfbd09-9db7-4cd3-8b4f-e1ac95d4342d');\n",
       "          const dataTable =\n",
       "            await google.colab.kernel.invokeFunction('convertToInteractive',\n",
       "                                                     [key], {});\n",
       "          if (!dataTable) return;\n",
       "\n",
       "          const docLinkHtml = 'Like what you see? Visit the ' +\n",
       "            '<a target=\"_blank\" href=https://colab.research.google.com/notebooks/data_table.ipynb>data table notebook</a>'\n",
       "            + ' to learn more about interactive tables.';\n",
       "          element.innerHTML = '';\n",
       "          dataTable['output_type'] = 'display_data';\n",
       "          await google.colab.output.renderOutput(dataTable, element);\n",
       "          const docLink = document.createElement('div');\n",
       "          docLink.innerHTML = docLinkHtml;\n",
       "          element.appendChild(docLink);\n",
       "        }\n",
       "      </script>\n",
       "    </div>\n",
       "  </div>\n",
       "  "
      ],
      "text/plain": [
       "      type  \\\n",
       "3414  spam   \n",
       "3415  spam   \n",
       "3416  spam   \n",
       "3417  spam   \n",
       "3418  spam   \n",
       "\n",
       "                                                                                                                 text  \\\n",
       "3414                                       complimentary 4 star biz holiday cash need urgent 09066364349 landing lose   \n",
       "3415                     dear dave final notice collect tenerife holiday cash 09061743806 tc sae box326 cw25wx 150ppm   \n",
       "3416  marvel mobile play official ultimate game ur mobile right text spider 83338 game ll send u free 8ball wallpaper   \n",
       "3417                                              u win ps100 music gift voucher week starting txt word draw 87066 sc   \n",
       "3418                                              u won nokia 6230 plus free digital u u win free send nokia 83383 16   \n",
       "\n",
       "                                                                                                   clean_text  \n",
       "3414                                             complimentary star biz holiday cash need urgent landing lose  \n",
       "3415                                              dear dave final notice collect tenerife holiday cash tc sae  \n",
       "3416  marvel mobile play official ultimate game you are mobile right text spider game send you free wallpaper  \n",
       "3417                                                you win music gift voucher week starting txt word draw sc  \n",
       "3418                                                  you nokia plus free digital you you win free send nokia  "
      ]
     },
     "execution_count": 28,
     "metadata": {},
     "output_type": "execute_result"
    }
   ],
   "source": [
    "data_spam.head(5)"
   ]
  },
  {
   "cell_type": "code",
   "execution_count": null,
   "metadata": {
    "id": "91V1NFTUBeBH"
   },
   "outputs": [],
   "source": [
    "def top_n_ngram(corpus, n = None, ngram = 1):\n",
    "    vec = CountVectorizer(stop_words = 'english',ngram_range=(ngram,ngram)).fit(corpus)\n",
    "    bag_of_words = vec.transform(corpus)\n",
    "    sum_words = bag_of_words.sum(axis =0) \n",
    "    words_freq = [(word,sum_words[0,idx]) for word,idx in vec.vocabulary_.items()]\n",
    "    words_freq = sorted(words_freq,key = lambda x:x[1],reverse = True)\n",
    "    return words_freq[:n]"
   ]
  },
  {
   "cell_type": "markdown",
   "metadata": {
    "id": "dlcP6el9BkBO"
   },
   "source": [
    "**UNIGRAM**"
   ]
  },
  {
   "cell_type": "code",
   "execution_count": null,
   "metadata": {
    "colab": {
     "base_uri": "https://localhost:8080/",
     "height": 332
    },
    "executionInfo": {
     "elapsed": 546,
     "status": "ok",
     "timestamp": 1669037436116,
     "user": {
      "displayName": "Avijit Saha",
      "userId": "05983986979764220862"
     },
     "user_tz": -330
    },
    "id": "W0uznNoaBfxr",
    "outputId": "125248a9-9eca-427b-e075-3eaab0ce4bb5"
   },
   "outputs": [
    {
     "data": {
      "text/plain": [
       "<matplotlib.axes._subplots.AxesSubplot at 0x7f44d1daca50>"
      ]
     },
     "execution_count": 30,
     "metadata": {},
     "output_type": "execute_result"
    },
    {
     "data": {
      "image/png": "[encoded data removed]",
      "text/plain": [
       "<Figure size 432x288 with 1 Axes>"
      ]
     },
     "metadata": {
      "needs_background": "light"
     },
     "output_type": "display_data"
    }
   ],
   "source": [
    "words1 = top_n_ngram(data_spam['clean_text'], 20, 1)\n",
    "df_s = pd.DataFrame(words1, columns=['Frequent Words in Spam Texts', 'frequency'])\n",
    "df_s.plot(kind='bar', x='Frequent Words in Spam Texts')"
   ]
  },
  {
   "cell_type": "markdown",
   "metadata": {
    "id": "ISzx41_YcRNA"
   },
   "source": [
    "- A few keywords such as '**Free'**, **'Claim', 'Prize', 'Cash', 'Win'**, and so on correctly indicate that the messages sometimes contains a fake prize offering and is a scam."
   ]
  },
  {
   "cell_type": "code",
   "execution_count": null,
   "metadata": {
    "colab": {
     "base_uri": "https://localhost:8080/",
     "height": 315
    },
    "executionInfo": {
     "elapsed": 6,
     "status": "ok",
     "timestamp": 1669037440295,
     "user": {
      "displayName": "Avijit Saha",
      "userId": "05983986979764220862"
     },
     "user_tz": -330
    },
    "id": "AN2332MhB_LT",
    "outputId": "235a3315-067d-4fab-af06-5e80c42fe3a2"
   },
   "outputs": [
    {
     "data": {
      "text/plain": [
       "<matplotlib.axes._subplots.AxesSubplot at 0x7f44d1c1b350>"
      ]
     },
     "execution_count": 31,
     "metadata": {},
     "output_type": "execute_result"
    },
    {
     "data": {
      "image/png": "[encoded data removed]",
      "text/plain": [
       "<Figure size 432x288 with 1 Axes>"
      ]
     },
     "metadata": {
      "needs_background": "light"
     },
     "output_type": "display_data"
    }
   ],
   "source": [
    "words2 = top_n_ngram(data_ham['clean_text'], 20, 1)\n",
    "df_h = pd.DataFrame(words2, columns=['Frequent Words in Ham Texts', 'frequency'])\n",
    "df_h.plot(kind='bar', x='Frequent Words in Ham Texts')"
   ]
  },
  {
   "cell_type": "markdown",
   "metadata": {
    "id": "2GCicFlhdbZR"
   },
   "source": [
    "- The majority of the common words here are generic here, which is obvious for 'Ham' class."
   ]
  },
  {
   "cell_type": "code",
   "execution_count": null,
   "metadata": {
    "colab": {
     "base_uri": "https://localhost:8080/",
     "height": 315
    },
    "executionInfo": {
     "elapsed": 1420,
     "status": "ok",
     "timestamp": 1669037444879,
     "user": {
      "displayName": "Avijit Saha",
      "userId": "05983986979764220862"
     },
     "user_tz": -330
    },
    "id": "FuGnoBgvV4wP",
    "outputId": "0f5276c8-3779-448b-d4eb-3feae2e89c76"
   },
   "outputs": [
    {
     "data": {
      "text/plain": [
       "<matplotlib.axes._subplots.AxesSubplot at 0x7f44d16d52d0>"
      ]
     },
     "execution_count": 32,
     "metadata": {},
     "output_type": "execute_result"
    },
    {
     "data": {
      "image/png": "[encoded data removed]",
      "text/plain": [
       "<Figure size 432x288 with 1 Axes>"
      ]
     },
     "metadata": {
      "needs_background": "light"
     },
     "output_type": "display_data"
    }
   ],
   "source": [
    "words3 = top_n_ngram(data['clean_text'], 10, 1)\n",
    "df_w = pd.DataFrame(words3, columns=['Frequent Words in whole Texts', 'frequency'])\n",
    "df_w.plot(kind='bar', x='Frequent Words in whole Texts')"
   ]
  },
  {
   "cell_type": "markdown",
   "metadata": {
    "id": "q0c9hWeWNJ8I"
   },
   "source": [
    "- Once again, the most common words in the combined text of both Spam and ham are generic words only, which is understandable given that the majority of the entries in this dataset are of the Ham class."
   ]
  },
  {
   "cell_type": "markdown",
   "metadata": {
    "id": "mFdNFnKG6YIh"
   },
   "source": [
    "Now let's create the vectors for the text data using Bag-of-Words and TF-IDF techniques."
   ]
  },
  {
   "cell_type": "markdown",
   "metadata": {
    "id": "VGdi2gIj6YIh"
   },
   "source": [
    "### **3.1 Bag-of-Words**\n",
    "A bag of words is a representation of text that describes the occurrence of words within a document."
   ]
  },
  {
   "cell_type": "code",
   "execution_count": null,
   "metadata": {
    "id": "akaHGAGw6YIh"
   },
   "outputs": [],
   "source": [
    "# Creating the Bag of Words model\n",
    "# setting the max features to 1500\n",
    "cv = CountVectorizer(max_features = 200) #TBD"
   ]
  },
  {
   "cell_type": "markdown",
   "metadata": {
    "id": "mWgqwvf26YIi"
   },
   "source": [
    "**CountVectorizer** has several parameters that are useful to create the effective model. We mostly, use below three parameters in CountVectorizer() function.\n",
    "\n",
    "- **ngram_range:** The lower and upper bounds of the range of n-values to be extracted for distinct n-grams. All values of n such that min_n <= n <= max_n will be used. An n gram range of (1, 1), for example, denotes just unigrams, (1, 2), unigrams and bigrams, and (2, 2), only bigrams.\n",
    "\n",
    "\n",
    "- **analyzer{‘word’, ‘char’, ‘char_wb’} or callable, default=’word’:** Whether the feature should be formed out of character n-grams or word n-grams. Option 'char wb' generates character n-grams mainly from text within word boundaries; n-grams outside of word boundaries are padded with space.\n",
    "\n",
    "\n",
    "- **max_features(int), default=None:** If not None, creates a vocabulary that only considers the top max features sorted by term frequency across the corpus.\n",
    "\n",
    "\n",
    "There are other parameters which can be useful for data cleaning, refer to this <a href=\"https://scikit-learn.org/stable/modules/generated/sklearn.feature_extraction.text.CountVectorizer.html\">source</a> to explore more abput it."
   ]
  },
  {
   "cell_type": "code",
   "execution_count": null,
   "metadata": {
    "id": "moykUn1y6YIi"
   },
   "outputs": [],
   "source": [
    "# fit and transforming into vectors from the text data\n",
    "vectors = cv.fit_transform(data['clean_text']).toarray()"
   ]
  },
  {
   "cell_type": "code",
   "execution_count": null,
   "metadata": {
    "colab": {
     "base_uri": "https://localhost:8080/"
    },
    "executionInfo": {
     "elapsed": 5,
     "status": "ok",
     "timestamp": 1669038009126,
     "user": {
      "displayName": "Avijit Saha",
      "userId": "05983986979764220862"
     },
     "user_tz": -330
    },
    "id": "PZIWMqRrw-SY",
    "outputId": "ee4135c1-a088-4c9d-a8b7-9013e3e9adfc"
   },
   "outputs": [
    {
     "name": "stdout",
     "output_type": "stream",
     "text": [
      "Vocabulary:  {'hope': 69, 'good': 53, 'pay': 115, 'ask': 4, 'room': 135, 'sure': 154, 'thing': 162, 'big': 11, 'hour': 70, 'work': 191, 'night': 108, 'tell': 157, 'told': 167, 'you': 199, 'wan': 179, 'come': 27, 'coming': 28, 'wish': 189, 'gun': 57, 'sent': 140, 'think': 163, 'cost': 30, 'contact': 29, 'love': 91, 'need': 104, 'stop': 152, 'are': 3, 'today': 166, 'plan': 121, 'sleep': 144, 'said': 137, 'cannot': 17, 'wait': 177, 'hear': 62, 'text': 158, 'oh': 113, 'got': 54, 'job': 73, 'is': 72, 'yeah': 195, 'use': 174, 'help': 64, 'let': 81, 'like': 83, 'leave': 79, 'min': 97, 'pick': 119, 'tomorrow': 168, 'dun': 38, 'hey': 65, 'want': 180, 'co': 26, 'going': 51, 'enjoy': 41, 'book': 13, 'minute': 98, 'thought': 164, 'that': 161, 'soon': 147, 'mean': 93, 'time': 165, 'stuff': 153, 'phone': 118, 'look': 88, 'lot': 90, 'word': 190, 'do': 36, 'not': 110, 'holiday': 67, 'send': 139, 'heart': 63, 'feel': 43, 'day': 33, 'go': 50, 'miss': 99, 'long': 87, 'know': 75, 'remember': 132, 'wat': 182, 'meeting': 95, 'right': 134, 'home': 68, 'ok': 114, 'meet': 94, 'week': 185, 'working': 192, 'guy': 58, 'maybe': 92, 'called': 16, 'getting': 48, 'chance': 21, 'dear': 34, 'probably': 127, 'gon': 52, 'na': 103, 'bit': 12, 'way': 184, 'watching': 183, 'went': 186, 'people': 116, 'life': 82, 'da': 32, 'ya': 194, 'thanks': 160, 'lol': 86, 'babe': 7, 'eat': 39, 'thank': 159, 'happy': 61, 'late': 76, 'hi': 66, 'new': 106, 'better': 10, 'play': 122, 'actually': 1, 'talk': 156, 'place': 120, 'year': 196, 'car': 18, 'pls': 123, 'money': 101, 'did': 35, 'buy': 15, 'girl': 49, 'reply': 133, 'free': 46, 'yes': 197, 'box': 14, 'txt': 173, 'finish': 45, 'xxx': 193, 'will': 187, 'bad': 8, 'guess': 56, 'am': 2, 'real': 130, 'try': 171, 'sorry': 148, 'find': 44, 'ready': 129, 'check': 23, 'nice': 107, 'message': 96, 'run': 136, 'half': 60, 'great': 55, 'little': 84, 'left': 80, 'friend': 47, 'care': 19, 'number': 111, 'speak': 150, 'morning': 102, 'wanted': 181, 'say': 138, 'haha': 59, 'later': 77, 'looking': 89, 'start': 151, 'end': 40, 'person': 117, 'trying': 172, 'yo': 198, 'sweet': 155, 'ill': 71, 'asked': 5, 'account': 0, 'shall': 142, 'mobile': 100, 'smile': 146, 'join': 74, 'video': 175, 'offer': 112, 'tone': 169, 'class': 25, 'best': 9, 'waiting': 178, 'po': 124, 'live': 85, 'sound': 149, 'customer': 31, 'sm': 145, 'cash': 20, 'draw': 37, 'win': 188, 'tonight': 170, 'chat': 22, 'service': 141, 'reach': 128, 'show': 143, 'nokia': 109, 'receive': 131, 'pound': 125, 'network': 105, 'entry': 42, 'latest': 78, 'voucher': 176, 'awarded': 6, 'prize': 126, 'claim': 24}\n",
      "Encoded Document is:\n",
      "[[0 0 0 ... 0 0 0]\n",
      " [0 0 0 ... 0 0 0]\n",
      " [0 0 0 ... 0 0 0]\n",
      " ...\n",
      " [0 0 0 ... 0 0 0]\n",
      " [0 0 0 ... 0 0 3]\n",
      " [0 0 0 ... 0 0 2]]\n"
     ]
    }
   ],
   "source": [
    "# Printing the identified Unique words along with their indices\n",
    "print(\"Vocabulary: \", cv.vocabulary_)\n",
    "# Summarizing the Encoded Texts\n",
    "print(\"Encoded Document is:\")\n",
    "print(vectors)"
   ]
  },
  {
   "cell_type": "code",
   "execution_count": null,
   "metadata": {
    "id": "oufb9jlS6YIi"
   },
   "outputs": [],
   "source": [
    "# Function to print the classification report and get confusion matrix in a proper format\n",
    "def metrics_score(actual, predicted):\n",
    "    print(classification_report(actual, predicted))\n",
    "    \n",
    "    cm = confusion_matrix(actual, predicted)\n",
    "    \n",
    "    plt.figure(figsize = (8, 5))\n",
    "    \n",
    "    sns.heatmap(cm, annot = True,  fmt = '.2f', xticklabels = ['ham', 'spam'], yticklabels = ['ham', 'spam'])\n",
    "    \n",
    "    plt.ylabel('Actual')\n",
    "    \n",
    "    plt.xlabel('Predicted')\n",
    "    \n",
    "    plt.show()"
   ]
  },
  {
   "cell_type": "markdown",
   "metadata": {
    "id": "92GtX3zA6YIi"
   },
   "source": [
    "**Model Building**"
   ]
  },
  {
   "cell_type": "code",
   "execution_count": null,
   "metadata": {
    "id": "atS-CzlT6YIi"
   },
   "outputs": [],
   "source": [
    "# Independent feature\n",
    "X = vectors\n",
    "\n",
    "# Target feature\n",
    "y = data[\"type\"].map({'ham':0,'spam':1})"
   ]
  },
  {
   "cell_type": "code",
   "execution_count": null,
   "metadata": {
    "id": "QuOXI2NQ6YIj"
   },
   "outputs": [],
   "source": [
    "X_train, X_test, y_train, y_test = train_test_split(X, y, test_size = 0.20, random_state = 0, stratify = y)"
   ]
  },
  {
   "cell_type": "code",
   "execution_count": null,
   "metadata": {
    "colab": {
     "base_uri": "https://localhost:8080/"
    },
    "executionInfo": {
     "elapsed": 8,
     "status": "ok",
     "timestamp": 1669038018341,
     "user": {
      "displayName": "Avijit Saha",
      "userId": "05983986979764220862"
     },
     "user_tz": -330
    },
    "id": "RV_2RTLn6YIj",
    "outputId": "778be70d-f2c6-4985-b9d9-72f85662db18"
   },
   "outputs": [
    {
     "name": "stdout",
     "output_type": "stream",
     "text": [
      "Shape of Training set :  (3222, 200)\n",
      "Shape of test set :  (806, 200)\n",
      "Percentage of classes in training set:\n",
      "0    0.84761\n",
      "1    0.15239\n",
      "Name: type, dtype: float64\n",
      "Percentage of classes in test set:\n",
      "0    0.847395\n",
      "1    0.152605\n",
      "Name: type, dtype: float64\n"
     ]
    }
   ],
   "source": [
    "print(\"Shape of Training set : \", X_train.shape)\n",
    "\n",
    "print(\"Shape of test set : \", X_test.shape)\n",
    "\n",
    "print(\"Percentage of classes in training set:\")\n",
    "\n",
    "print(y_train.value_counts(normalize = True))\n",
    "\n",
    "print(\"Percentage of classes in test set:\")\n",
    "\n",
    "print(y_test.value_counts(normalize = True))"
   ]
  },
  {
   "cell_type": "code",
   "execution_count": null,
   "metadata": {
    "colab": {
     "base_uri": "https://localhost:8080/"
    },
    "executionInfo": {
     "elapsed": 1886,
     "status": "ok",
     "timestamp": 1669038022633,
     "user": {
      "displayName": "Avijit Saha",
      "userId": "05983986979764220862"
     },
     "user_tz": -330
    },
    "id": "D0uMPXwD6YIj",
    "outputId": "92b4b05d-9d2a-4c60-b0e0-2881c6db0065"
   },
   "outputs": [
    {
     "data": {
      "text/plain": [
       "RandomForestClassifier(random_state=1)"
      ]
     },
     "execution_count": 72,
     "metadata": {},
     "output_type": "execute_result"
    }
   ],
   "source": [
    "# intializing the Random Forest model\n",
    "model = RandomForestClassifier(random_state = 1)\n",
    "\n",
    "# fitting the model on training set\n",
    "model.fit(X_train, y_train)"
   ]
  },
  {
   "cell_type": "markdown",
   "metadata": {
    "id": "zyCxMZIL6YIj"
   },
   "source": [
    "**Model performance on the training data**"
   ]
  },
  {
   "cell_type": "code",
   "execution_count": null,
   "metadata": {
    "colab": {
     "base_uri": "https://localhost:8080/",
     "height": 500
    },
    "executionInfo": {
     "elapsed": 803,
     "status": "ok",
     "timestamp": 1669038027267,
     "user": {
      "displayName": "Avijit Saha",
      "userId": "05983986979764220862"
     },
     "user_tz": -330
    },
    "id": "RgXf1bIu6YIj",
    "outputId": "5288deaa-53cd-4723-ed6a-a80e20a0d02f"
   },
   "outputs": [
    {
     "name": "stdout",
     "output_type": "stream",
     "text": [
      "              precision    recall  f1-score   support\n",
      "\n",
      "           0       0.99      1.00      0.99      2731\n",
      "           1       0.99      0.93      0.96       491\n",
      "\n",
      "    accuracy                           0.99      3222\n",
      "   macro avg       0.99      0.97      0.98      3222\n",
      "weighted avg       0.99      0.99      0.99      3222\n",
      "\n"
     ]
    },
    {
     "data": {
      "image/png": "[encoded data removed]",
      "text/plain": [
       "<Figure size 576x360 with 2 Axes>"
      ]
     },
     "metadata": {
      "needs_background": "light"
     },
     "output_type": "display_data"
    }
   ],
   "source": [
    "# making predictions on the test set\n",
    "y_pred_train = model.predict(X_train)\n",
    "\n",
    "metrics_score(y_train, y_pred_train)"
   ]
  },
  {
   "cell_type": "markdown",
   "metadata": {
    "id": "HeF0wKzm6YIj"
   },
   "source": [
    "**Model performance on the testing data**"
   ]
  },
  {
   "cell_type": "code",
   "execution_count": null,
   "metadata": {
    "colab": {
     "base_uri": "https://localhost:8080/",
     "height": 500
    },
    "executionInfo": {
     "elapsed": 534,
     "status": "ok",
     "timestamp": 1669038033773,
     "user": {
      "displayName": "Avijit Saha",
      "userId": "05983986979764220862"
     },
     "user_tz": -330
    },
    "id": "cuT27kIY6YIj",
    "outputId": "5a01c619-c255-47eb-e881-89f3cf51de68"
   },
   "outputs": [
    {
     "name": "stdout",
     "output_type": "stream",
     "text": [
      "              precision    recall  f1-score   support\n",
      "\n",
      "           0       0.97      0.97      0.97       683\n",
      "           1       0.83      0.82      0.82       123\n",
      "\n",
      "    accuracy                           0.95       806\n",
      "   macro avg       0.90      0.90      0.90       806\n",
      "weighted avg       0.95      0.95      0.95       806\n",
      "\n"
     ]
    },
    {
     "data": {
      "image/png": "[encoded data removed]",
      "text/plain": [
       "<Figure size 576x360 with 2 Axes>"
      ]
     },
     "metadata": {
      "needs_background": "light"
     },
     "output_type": "display_data"
    }
   ],
   "source": [
    "# making predictions on the test set\n",
    "y_pred = model.predict(X_test)\n",
    "\n",
    "metrics_score(y_test, y_pred)"
   ]
  },
  {
   "cell_type": "markdown",
   "metadata": {
    "id": "uZnwI1GI62-l"
   },
   "source": [
    "- Random Forest model is able to perform well for both the classes present in the data on training and testing data through Bag of Words vectors.\n",
    "- The results are  generalized, model does not overfitted."
   ]
  },
  {
   "cell_type": "markdown",
   "metadata": {
    "id": "XSvydRbT6YIk"
   },
   "source": [
    "### **3.2 TF-IDF Vectorization**\n",
    "\n",
    "**TF-IDF** is an abbreviation for **Term Frequency-Inverse Document Frequency**. The process of **TF-IDF vectorization** involves computing the **TF-IDF score** for each word in your corpus in relation to that document and then storing that information in a vector.\n",
    "<br>\n",
    "<br>\n",
    "**Term Frequency (TF)**- It shows us how many times the word appears in each report in the corpus. It is the ratio of the number of times a word appears in a report to the total number of words in that record. It increases in proportion to the number of times that term appears in the record.\n",
    "<br>\n",
    "<br>\n",
    "**Inverse Data Frequency (IDF)** - It is used to calculate the occurrence of rare words across all reports in the corpus. Words that appear infrequently in the corpus have a high IDF score.\n",
    "<br>\n",
    "<br>\n",
    "When we combine these two, we get the TF-IDF score for a word in a record in the corpus."
   ]
  },
  {
   "cell_type": "code",
   "execution_count": null,
   "metadata": {
    "id": "q_0SZYRP6YIk"
   },
   "outputs": [],
   "source": [
    "# Creating the object to the TfidfVectorizer class\n",
    "\n",
    "vectorizer = TfidfVectorizer(max_features = 200)"
   ]
  },
  {
   "cell_type": "markdown",
   "metadata": {
    "id": "fB1iBDmK6YIk"
   },
   "source": [
    "**TfidfVectorizer** has several parameters that are useful to create the effective model. We mostly, use below three parameters in TfidfVectorizer() function.\n",
    "\n",
    "- **ngram_range:** The lower and upper bounds of the range of n-values to be extracted for various n-grams. All values of n such that min_n <= n <= max_n will be used. An ngram range of (1, 1), for example, denotes just unigrams, (1, 2) means unigrams and bigrams, and (2, 2), only bigrams.\n",
    "\n",
    "- **max_df(float or int), default=1.0**: When creating the vocabulary, it excludes terms with a document frequency that is strictly greater than the given threshold (corpus-specific stop words). The parameter represents a proportion of documents if it is a float in the range [0.0, 1.0], otherwise it is an integer absolute count. If vocabulary is not None, this parameter is ignored.\n",
    "\n",
    "\n",
    "- **max_features(int), default=None:** If not None, it creates a vocabulary that only considers the top max features arranged by term frequency across the corpus.\n",
    "\n",
    "\n",
    "There are other parameters which can be useful for data cleaning, refer to this <a href=\"https://scikit-learn.org/stable/modules/generated/sklearn.feature_extraction.text.TfidfVectorizer.html\">source</a> to explore more on it."
   ]
  },
  {
   "cell_type": "code",
   "execution_count": null,
   "metadata": {
    "id": "VhnuwnzT6YIk"
   },
   "outputs": [],
   "source": [
    "# fit and transforming into vectors from the text data\n",
    "tf_vectors = vectorizer.fit_transform(data['text']).toarray()"
   ]
  },
  {
   "cell_type": "code",
   "execution_count": null,
   "metadata": {
    "colab": {
     "base_uri": "https://localhost:8080/"
    },
    "executionInfo": {
     "elapsed": 654,
     "status": "ok",
     "timestamp": 1669038195402,
     "user": {
      "displayName": "Avijit Saha",
      "userId": "05983986979764220862"
     },
     "user_tz": -330
    },
    "id": "zd6VLafzztgU",
    "outputId": "d2840900-62e2-4241-bd92-fe0da3ab3665"
   },
   "outputs": [
    {
     "name": "stdout",
     "output_type": "stream",
     "text": [
      "\n",
      "Word indexes:\n",
      "{'hope': 70, 'having': 62, 'good': 52, 'pay': 116, 'ask': 5, 'room': 137, 'sure': 154, 'thing': 162, 'big': 11, 'hour': 71, 'work': 193, 'night': 110, 'tell': 157, 'told': 167, 'come': 27, 'coming': 28, 'wish': 189, 'gun': 57, 'sent': 142, 'think': 163, 'cost': 30, 'contact': 29, 'love': 92, 'need': 106, 'stop': 152, 'ur': 174, 'today': 166, 'plan': 123, 'sleep': 146, 'said': 139, 'cant': 17, 'wait': 178, 'hear': 63, 'text': 158, 'oh': 114, 'got': 53, 'job': 74, 'yeah': 197, 'use': 175, 'help': 65, 'let': 82, 'like': 84, 'leave': 80, 'min': 99, 'pick': 121, 'tomorrow': 168, 'dun': 38, 'hey': 66, 'want': 181, 'co': 26, 'going': 50, 'enjoy': 41, 'book': 13, 'minute': 100, 'thought': 164, 'thats': 161, 'soon': 148, 'mean': 95, 'time': 165, 'stuff': 153, 'phone': 119, 'look': 89, 'lot': 91, 'word': 192, 'dont': 36, 'holiday': 68, 'send': 141, 'heart': 64, 'feel': 42, 'day': 33, 'go': 49, 'miss': 101, 'long': 88, 'remember': 134, 'wat': 183, 'meeting': 97, 'right': 136, 'home': 69, 'ok': 115, 'meet': 96, 'week': 186, 'working': 194, 'guy': 58, 'maybe': 94, 'called': 16, 'getting': 47, 'chance': 21, 'dear': 34, 'probably': 128, 'gonna': 51, 'bit': 12, 'way': 185, 'watching': 184, 'went': 187, 'people': 117, 'life': 83, 'da': 32, 'ya': 196, 'know': 76, 'thanks': 160, '1st': 1, 'lol': 87, 'babe': 7, 'eat': 39, 'thank': 159, 'happy': 61, 'late': 77, 'hi': 67, 'new': 108, 'better': 10, 'play': 124, 'actually': 4, 'talk': 156, 'place': 122, 'year': 198, 'car': 18, 'pls': 125, 'money': 103, 'didnt': 35, 'buy': 15, 'girl': 48, 'reply': 135, 'free': 45, 'yes': 199, 'box': 14, 'txt': 173, 'finish': 44, 'xxx': 195, 'wont': 191, 'bad': 8, 'guess': 56, 'im': 73, 'real': 132, 'try': 171, 'sorry': 149, 'find': 43, 'ready': 131, 'check': 23, 'nice': 109, 'msg': 105, 'run': 138, 'half': 60, 'great': 54, 'ma': 93, 'little': 85, 'left': 81, 'friend': 46, 'pic': 120, 'care': 19, 'number': 112, 'speak': 150, 'morning': 104, 'wanted': 182, 'say': 140, 'message': 98, 'haha': 59, 'later': 78, 'looking': 90, 'start': 151, 'end': 40, 'person': 118, 'trying': 172, 'sweet': 155, 'ill': 72, 'account': 3, 'shall': 144, 'mobile': 102, 'smile': 147, 'join': 75, 'wanna': 180, 'video': 176, 'offer': 113, 'tone': 169, 'class': 25, 'best': 9, 'waiting': 179, 'po': 126, 'live': 86, 'customer': 31, 'cash': 20, '2nd': 2, 'draw': 37, 'win': 188, 'tonight': 170, 'chat': 22, 'service': 143, 'reach': 130, 'won': 190, 'show': 145, 'nokia': 111, 'receive': 133, 'network': 107, 'latest': 79, '150ppm': 0, 'voucher': 177, 'awarded': 6, 'prize': 127, 'claim': 24, 'guaranteed': 55, 'ps1000': 129}\n",
      "\n",
      "tf-idf values:\n",
      "[[0. 0. 0. ... 0. 0. 0.]\n",
      " [0. 0. 0. ... 0. 0. 0.]\n",
      " [0. 0. 0. ... 0. 0. 0.]\n",
      " ...\n",
      " [0. 0. 0. ... 0. 0. 0.]\n",
      " [0. 0. 0. ... 0. 0. 0.]\n",
      " [0. 0. 0. ... 0. 0. 0.]]\n"
     ]
    }
   ],
   "source": [
    "# get indexing\n",
    "print('\\nWord indexes:')\n",
    "print(vectorizer.vocabulary_)\n",
    " \n",
    "# tf-idf values\n",
    "print('\\ntf-idf values:')\n",
    "print(tf_vectors)"
   ]
  },
  {
   "cell_type": "code",
   "execution_count": null,
   "metadata": {
    "id": "CuE8mLWh6YIl"
   },
   "outputs": [],
   "source": [
    "# Independent feature\n",
    "X = tf_vectors\n",
    "\n",
    "# Target feature\n",
    "y = data[\"type\"].map({'ham':0,'spam':1})"
   ]
  },
  {
   "cell_type": "code",
   "execution_count": null,
   "metadata": {
    "id": "1NHKjBN16YIl"
   },
   "outputs": [],
   "source": [
    "# Splitting the data into train and test\n",
    "X_train, X_test, y_train, y_test = train_test_split(X, y, test_size = 0.20, random_state = 0, stratify = y)"
   ]
  },
  {
   "cell_type": "code",
   "execution_count": null,
   "metadata": {
    "colab": {
     "base_uri": "https://localhost:8080/"
    },
    "executionInfo": {
     "elapsed": 5,
     "status": "ok",
     "timestamp": 1669038203679,
     "user": {
      "displayName": "Avijit Saha",
      "userId": "05983986979764220862"
     },
     "user_tz": -330
    },
    "id": "N5NJk1RW6YIl",
    "outputId": "8b14b112-1cda-4c46-a07a-e0963eea396f"
   },
   "outputs": [
    {
     "name": "stdout",
     "output_type": "stream",
     "text": [
      "Shape of Training set :  (3222, 200)\n",
      "Shape of test set :  (806, 200)\n",
      "Percentage of classes in training set:\n",
      "0    0.84761\n",
      "1    0.15239\n",
      "Name: type, dtype: float64\n",
      "Percentage of classes in test set:\n",
      "0    0.847395\n",
      "1    0.152605\n",
      "Name: type, dtype: float64\n"
     ]
    }
   ],
   "source": [
    "print(\"Shape of Training set : \", X_train.shape)\n",
    "\n",
    "print(\"Shape of test set : \", X_test.shape)\n",
    "\n",
    "print(\"Percentage of classes in training set:\")\n",
    "\n",
    "print(y_train.value_counts(normalize = True))\n",
    "\n",
    "print(\"Percentage of classes in test set:\")\n",
    "\n",
    "print(y_test.value_counts(normalize = True))"
   ]
  },
  {
   "cell_type": "code",
   "execution_count": null,
   "metadata": {
    "colab": {
     "base_uri": "https://localhost:8080/"
    },
    "executionInfo": {
     "elapsed": 2083,
     "status": "ok",
     "timestamp": 1669038208120,
     "user": {
      "displayName": "Avijit Saha",
      "userId": "05983986979764220862"
     },
     "user_tz": -330
    },
    "id": "wn2rtd8b6YIl",
    "outputId": "ccf47b67-4d7b-4e73-9d9d-6fc0736f25b8"
   },
   "outputs": [
    {
     "data": {
      "text/plain": [
       "RandomForestClassifier(random_state=1)"
      ]
     },
     "execution_count": 81,
     "metadata": {},
     "output_type": "execute_result"
    }
   ],
   "source": [
    "# intializing the Random Forest model\n",
    "model = RandomForestClassifier(random_state = 1)\n",
    "\n",
    "# fitting the model on training set\n",
    "model.fit(X_train, y_train)"
   ]
  },
  {
   "cell_type": "markdown",
   "metadata": {
    "id": "STDAtE8M6YIl"
   },
   "source": [
    "**Model performance on the training data**"
   ]
  },
  {
   "cell_type": "code",
   "execution_count": null,
   "metadata": {
    "colab": {
     "base_uri": "https://localhost:8080/",
     "height": 500
    },
    "executionInfo": {
     "elapsed": 612,
     "status": "ok",
     "timestamp": 1669038213906,
     "user": {
      "displayName": "Avijit Saha",
      "userId": "05983986979764220862"
     },
     "user_tz": -330
    },
    "id": "4QNQV2Px6YIl",
    "outputId": "c1ff28b9-63ef-41e3-c008-001ba6f47d4d"
   },
   "outputs": [
    {
     "name": "stdout",
     "output_type": "stream",
     "text": [
      "              precision    recall  f1-score   support\n",
      "\n",
      "           0       0.99      1.00      0.99      2731\n",
      "           1       0.98      0.93      0.96       491\n",
      "\n",
      "    accuracy                           0.99      3222\n",
      "   macro avg       0.99      0.97      0.98      3222\n",
      "weighted avg       0.99      0.99      0.99      3222\n",
      "\n"
     ]
    },
    {
     "data": {
      "image/png": "[encoded data removed]",
      "text/plain": [
       "<Figure size 576x360 with 2 Axes>"
      ]
     },
     "metadata": {
      "needs_background": "light"
     },
     "output_type": "display_data"
    }
   ],
   "source": [
    "# making predictions on the test set\n",
    "y_pred_train = model.predict(X_train)\n",
    "\n",
    "metrics_score(y_train, y_pred_train)"
   ]
  },
  {
   "cell_type": "markdown",
   "metadata": {
    "id": "6v5TO8DF72f_"
   },
   "source": [
    "- The model accuracy on the training data was 99%.\n",
    "\n",
    "Let's have a look on the testing data score to verify whether the model is performing well or overfitted the data."
   ]
  },
  {
   "cell_type": "markdown",
   "metadata": {
    "id": "yysqn2hJ6YIl"
   },
   "source": [
    "**Model performance on the testing data**"
   ]
  },
  {
   "cell_type": "code",
   "execution_count": null,
   "metadata": {
    "colab": {
     "base_uri": "https://localhost:8080/",
     "height": 500
    },
    "executionInfo": {
     "elapsed": 7,
     "status": "ok",
     "timestamp": 1669038219785,
     "user": {
      "displayName": "Avijit Saha",
      "userId": "05983986979764220862"
     },
     "user_tz": -330
    },
    "id": "tAGiGnV-6YIm",
    "outputId": "b9255f07-637f-49b2-b3af-192800de28de",
    "scrolled": true
   },
   "outputs": [
    {
     "name": "stdout",
     "output_type": "stream",
     "text": [
      "              precision    recall  f1-score   support\n",
      "\n",
      "           0       0.96      0.98      0.97       683\n",
      "           1       0.86      0.78      0.82       123\n",
      "\n",
      "    accuracy                           0.95       806\n",
      "   macro avg       0.91      0.88      0.89       806\n",
      "weighted avg       0.95      0.95      0.95       806\n",
      "\n"
     ]
    },
    {
     "data": {
      "image/png": "[encoded data removed]",
      "text/plain": [
       "<Figure size 576x360 with 2 Axes>"
      ]
     },
     "metadata": {
      "needs_background": "light"
     },
     "output_type": "display_data"
    }
   ],
   "source": [
    "# making predictions on the test set\n",
    "y_pred = model.predict(X_test)\n",
    "\n",
    "metrics_score(y_test, y_pred)"
   ]
  },
  {
   "cell_type": "markdown",
   "metadata": {
    "id": "GKRtTh6O8MZO"
   },
   "source": [
    "- The testing accuracy was 95% with an macro average score of 89%.\n",
    "- The F1-score for the class 1 is 82%."
   ]
  },
  {
   "cell_type": "markdown",
   "metadata": {
    "id": "PRQfUig46YIm"
   },
   "source": [
    "# **4. Conclusion**"
   ]
  },
  {
   "cell_type": "markdown",
   "metadata": {
    "id": "g5a2q1tD6YIm"
   },
   "source": [
    "- We were able to build an effective model that can able to detect the messages either **spam** or **ham**.\n",
    "- The vectors created from Bag of Words technique were able to give 90% macro average score on the test data. Also the precision and recall scores for class 1 were more balanced.\n",
    "- Similar to Bag of Words, TFIDF technique was able to give 89% macro average score on the test data. The recall for class 1 is low as compared to the recall score given by the model through bag of words vectors."
   ]
  },
  {
   "cell_type": "code",
   "execution_count": null,
   "metadata": {
    "id": "a8VbU6KnmPZs"
   },
   "outputs": [],
   "source": []
  }
 ],
 "metadata": {
  "colab": {
   "provenance": [
    {
     "file_id": "1jiel8nd9Wm2J5DaFMDNuA516NA6aQ01e",
     "timestamp": 1664532775636
    }
   ]
  },
  "kernelspec": {
   "display_name": "Python 3 (ipykernel)",
   "language": "python",
   "name": "python3"
  },
  "language_info": {
   "codemirror_mode": {
    "name": "ipython",
    "version": 3
   },
   "file_extension": ".py",
   "mimetype": "text/x-python",
   "name": "python",
   "nbconvert_exporter": "python",
   "pygments_lexer": "ipython3",
   "version": "3.9.7"
  }
 },
 "nbformat": 4,
 "nbformat_minor": 1
}
