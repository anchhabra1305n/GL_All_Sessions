{
 "cells": [
  {
   "cell_type": "code",
   "execution_count": 15,
   "id": "1bf441d3",
   "metadata": {},
   "outputs": [],
   "source": [
    "import pandas as pd\n",
    "import numpy as np\n",
    "from sklearn.preprocessing import LabelEncoder\n",
    "from xgboost import XGBRegressor\n",
    "from sklearn.model_selection import train_test_split,KFold,cross_val_score\n",
    "from sklearn.ensemble import StackingRegressor,RandomForestRegressor,BaggingRegressor, AdaBoostRegressor, GradientBoostingRegressor, ExtraTreesRegressor\n",
    "from sklearn.metrics import median_absolute_error,mean_squared_error"
   ]
  },
  {
   "cell_type": "code",
   "execution_count": 2,
   "id": "852fab34",
   "metadata": {},
   "outputs": [],
   "source": [
    "south_df = pd.read_csv('ap-south-1.csv',names=['Date','Instance_Type','OS','Region','Price'],parse_dates=['Date'])\n",
    "cat_col = ['Instance_Type','OS','Region']"
   ]
  },
  {
   "cell_type": "code",
   "execution_count": 3,
   "id": "2f3548e1",
   "metadata": {},
   "outputs": [
    {
     "data": {
      "text/html": [
       "<div>\n",
       "<style scoped>\n",
       "    .dataframe tbody tr th:only-of-type {\n",
       "        vertical-align: middle;\n",
       "    }\n",
       "\n",
       "    .dataframe tbody tr th {\n",
       "        vertical-align: top;\n",
       "    }\n",
       "\n",
       "    .dataframe thead th {\n",
       "        text-align: right;\n",
       "    }\n",
       "</style>\n",
       "<table border=\"1\" class=\"dataframe\">\n",
       "  <thead>\n",
       "    <tr style=\"text-align: right;\">\n",
       "      <th></th>\n",
       "      <th>Date</th>\n",
       "      <th>Instance_Type</th>\n",
       "      <th>OS</th>\n",
       "      <th>Region</th>\n",
       "      <th>Price</th>\n",
       "    </tr>\n",
       "  </thead>\n",
       "  <tbody>\n",
       "    <tr>\n",
       "      <th>0</th>\n",
       "      <td>2017-03-07 16:05:01</td>\n",
       "      <td>c4.8xlarge</td>\n",
       "      <td>Windows</td>\n",
       "      <td>ap-south-1b</td>\n",
       "      <td>1.8865</td>\n",
       "    </tr>\n",
       "    <tr>\n",
       "      <th>1</th>\n",
       "      <td>2017-03-07 16:05:01</td>\n",
       "      <td>m4.xlarge</td>\n",
       "      <td>Linux/UNIX</td>\n",
       "      <td>ap-south-1b</td>\n",
       "      <td>0.0366</td>\n",
       "    </tr>\n",
       "    <tr>\n",
       "      <th>2</th>\n",
       "      <td>2017-03-07 16:05:01</td>\n",
       "      <td>m4.large</td>\n",
       "      <td>Linux/UNIX</td>\n",
       "      <td>ap-south-1a</td>\n",
       "      <td>0.0243</td>\n",
       "    </tr>\n",
       "    <tr>\n",
       "      <th>3</th>\n",
       "      <td>2017-03-07 16:05:01</td>\n",
       "      <td>m4.large</td>\n",
       "      <td>Linux/UNIX</td>\n",
       "      <td>ap-south-1b</td>\n",
       "      <td>0.0346</td>\n",
       "    </tr>\n",
       "    <tr>\n",
       "      <th>4</th>\n",
       "      <td>2017-03-07 16:05:01</td>\n",
       "      <td>c4.8xlarge</td>\n",
       "      <td>Linux/UNIX</td>\n",
       "      <td>ap-south-1a</td>\n",
       "      <td>0.2895</td>\n",
       "    </tr>\n",
       "  </tbody>\n",
       "</table>\n",
       "</div>"
      ],
      "text/plain": [
       "                 Date Instance_Type          OS       Region   Price\n",
       "0 2017-03-07 16:05:01    c4.8xlarge     Windows  ap-south-1b  1.8865\n",
       "1 2017-03-07 16:05:01     m4.xlarge  Linux/UNIX  ap-south-1b  0.0366\n",
       "2 2017-03-07 16:05:01      m4.large  Linux/UNIX  ap-south-1a  0.0243\n",
       "3 2017-03-07 16:05:01      m4.large  Linux/UNIX  ap-south-1b  0.0346\n",
       "4 2017-03-07 16:05:01    c4.8xlarge  Linux/UNIX  ap-south-1a  0.2895"
      ]
     },
     "execution_count": 3,
     "metadata": {},
     "output_type": "execute_result"
    }
   ],
   "source": [
    "south_df.head()"
   ]
  },
  {
   "cell_type": "code",
   "execution_count": 4,
   "id": "c86692fe",
   "metadata": {},
   "outputs": [],
   "source": [
    "lb,ub = np.percentile(sorted(south_df['Price']),[5,95])\n",
    "south_df['Price'] = np.where(south_df['Price']>ub,ub,south_df['Price'])"
   ]
  },
  {
   "cell_type": "code",
   "execution_count": 5,
   "id": "91258a7f",
   "metadata": {},
   "outputs": [],
   "source": [
    "label_encoder = LabelEncoder()\n",
    "cat_df = south_df[cat_col]\n",
    "for i in cat_col:\n",
    "    south_df[i] = label_encoder.fit_transform(cat_df[i])"
   ]
  },
  {
   "cell_type": "code",
   "execution_count": 6,
   "id": "87cfdcfb",
   "metadata": {},
   "outputs": [],
   "source": [
    "south_df[['year','month','day','h','m','s']] = pd.DataFrame([(x.year,x.month,x.day,x.hour,x.minute,x.second) for x in south_df['Date']])"
   ]
  },
  {
   "cell_type": "code",
   "execution_count": 7,
   "id": "939dcb35",
   "metadata": {},
   "outputs": [],
   "source": [
    "south_df = south_df.sample(frac=0.10,random_state=100)"
   ]
  },
  {
   "cell_type": "code",
   "execution_count": 8,
   "id": "85c4dc39",
   "metadata": {},
   "outputs": [],
   "source": [
    "new_cat_col = ['month','day','h','m','s']\n",
    "model_data_df = south_df.drop(['Date','year'],axis=1)"
   ]
  },
  {
   "cell_type": "code",
   "execution_count": 9,
   "id": "27558973",
   "metadata": {},
   "outputs": [
    {
     "name": "stdout",
     "output_type": "stream",
     "text": [
      "(203103, 8)\n",
      "(203103,)\n"
     ]
    }
   ],
   "source": [
    "X = model_data_df.loc[:,model_data_df.columns != 'Price']\n",
    "y = model_data_df['Price']\n",
    "print(X.shape)\n",
    "print(y.shape)"
   ]
  },
  {
   "cell_type": "code",
   "execution_count": 10,
   "id": "bc9381ee",
   "metadata": {},
   "outputs": [],
   "source": [
    "X_train,X_test,y_train,y_test = train_test_split(X,y,test_size = 0.3,random_state=100)"
   ]
  },
  {
   "cell_type": "code",
   "execution_count": 20,
   "id": "b9fbec9f",
   "metadata": {},
   "outputs": [],
   "source": [
    "def stacking_models():\n",
    "    level0 = list()\n",
    "    level0.append(('ADB',AdaBoostRegressor(random_state = 100)))\n",
    "    level0.append(('GB',GradientBoostingRegressor(min_samples_leaf=50,min_samples_split=100,n_estimators=100,random_state = 100)))\n",
    "    level0.append(('XGB',XGBRegressor(min_samples_leaf=50,min_samples_split=100,n_estimators=100,random_state = 100)))\n",
    "    level0.append(('ETB',ExtraTreesRegressor(min_samples_leaf=50,min_samples_split=100,n_estimators=100,random_state = 100)))\n",
    "    level1 = RandomForestRegressor(min_samples_leaf = 50,min_samples_split= 100,n_estimators=300,random_state=100)\n",
    "    \n",
    "    model = StackingRegressor(estimators=level0, final_estimator=level1, cv=5,verbose = 1)\n",
    "    return model"
   ]
  },
  {
   "cell_type": "code",
   "execution_count": 21,
   "id": "03fd9874",
   "metadata": {},
   "outputs": [
    {
     "name": "stderr",
     "output_type": "stream",
     "text": [
      "[Parallel(n_jobs=1)]: Using backend SequentialBackend with 1 concurrent workers.\n",
      "[Parallel(n_jobs=1)]: Done   5 out of   5 | elapsed:    3.6s finished\n",
      "[Parallel(n_jobs=1)]: Using backend SequentialBackend with 1 concurrent workers.\n",
      "[Parallel(n_jobs=1)]: Done   5 out of   5 | elapsed:   30.6s finished\n",
      "[Parallel(n_jobs=1)]: Using backend SequentialBackend with 1 concurrent workers.\n",
      "[Parallel(n_jobs=1)]: Done   5 out of   5 | elapsed:   14.1s finished\n",
      "[Parallel(n_jobs=1)]: Using backend SequentialBackend with 1 concurrent workers.\n",
      "[Parallel(n_jobs=1)]: Done   5 out of   5 | elapsed:   41.3s finished\n"
     ]
    },
    {
     "name": "stdout",
     "output_type": "stream",
     "text": [
      "Wall time: 3min 21s\n"
     ]
    },
    {
     "data": {
      "text/plain": [
       "StackingRegressor(cv=5,\n",
       "                  estimators=[('ADB',\n",
       "                               AdaBoostRegressor(base_estimator=None,\n",
       "                                                 learning_rate=1.0,\n",
       "                                                 loss='linear', n_estimators=50,\n",
       "                                                 random_state=100)),\n",
       "                              ('GB',\n",
       "                               GradientBoostingRegressor(alpha=0.9,\n",
       "                                                         ccp_alpha=0.0,\n",
       "                                                         criterion='friedman_mse',\n",
       "                                                         init=None,\n",
       "                                                         learning_rate=0.1,\n",
       "                                                         loss='ls', max_depth=3,\n",
       "                                                         max_features=None,\n",
       "                                                         max_leaf_nodes=None,\n",
       "                                                         min_impurity_decrease=0.0,\n",
       "                                                         min_impu...\n",
       "                                                        ccp_alpha=0.0,\n",
       "                                                        criterion='mse',\n",
       "                                                        max_depth=None,\n",
       "                                                        max_features='auto',\n",
       "                                                        max_leaf_nodes=None,\n",
       "                                                        max_samples=None,\n",
       "                                                        min_impurity_decrease=0.0,\n",
       "                                                        min_impurity_split=None,\n",
       "                                                        min_samples_leaf=50,\n",
       "                                                        min_samples_split=100,\n",
       "                                                        min_weight_fraction_leaf=0.0,\n",
       "                                                        n_estimators=300,\n",
       "                                                        n_jobs=None,\n",
       "                                                        oob_score=False,\n",
       "                                                        random_state=100,\n",
       "                                                        verbose=0,\n",
       "                                                        warm_start=False),\n",
       "                  n_jobs=None, passthrough=False, verbose=1)"
      ]
     },
     "execution_count": 21,
     "metadata": {},
     "output_type": "execute_result"
    }
   ],
   "source": [
    "%%time\n",
    "model = stacking_models()\n",
    "model.fit(X_train,y_train)"
   ]
  },
  {
   "cell_type": "code",
   "execution_count": 22,
   "id": "75b7de61",
   "metadata": {},
   "outputs": [],
   "source": [
    "y_pred = model.predict(X_test)"
   ]
  },
  {
   "cell_type": "code",
   "execution_count": 24,
   "id": "8a2ee180",
   "metadata": {},
   "outputs": [
    {
     "name": "stdout",
     "output_type": "stream",
     "text": [
      "0.955351896343493   0.0017246860434569397\n",
      "Wall time: 4min 32s\n"
     ]
    }
   ],
   "source": [
    "%%time\n",
    "cv_res = cross_val_score(model,X_train,y_train,cv=5,scoring='r2',n_jobs=-1)\n",
    "print(cv_res.mean(),' ',cv_res.std())"
   ]
  },
  {
   "cell_type": "code",
   "execution_count": 23,
   "id": "aa54a9e0",
   "metadata": {},
   "outputs": [
    {
     "data": {
      "text/plain": [
       "0.012978961068267956"
      ]
     },
     "execution_count": 23,
     "metadata": {},
     "output_type": "execute_result"
    }
   ],
   "source": [
    "mean_squared_error(y_test,y_pred)"
   ]
  }
 ],
 "metadata": {
  "kernelspec": {
   "display_name": "Python 3",
   "language": "python",
   "name": "python3"
  },
  "language_info": {
   "codemirror_mode": {
    "name": "ipython",
    "version": 3
   },
   "file_extension": ".py",
   "mimetype": "text/x-python",
   "name": "python",
   "nbconvert_exporter": "python",
   "pygments_lexer": "ipython3",
   "version": "3.7.10"
  }
 },
 "nbformat": 4,
 "nbformat_minor": 5
}
