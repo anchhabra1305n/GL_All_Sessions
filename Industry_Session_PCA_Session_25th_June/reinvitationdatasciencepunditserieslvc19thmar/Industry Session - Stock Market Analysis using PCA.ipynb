{
 "cells": [
  {
   "cell_type": "markdown",
   "id": "8dd49f13",
   "metadata": {},
   "source": [
    "# Stock Market Analysis using PCA"
   ]
  },
  {
   "cell_type": "markdown",
   "id": "210bb6fe",
   "metadata": {},
   "source": [
    "## Problem Statement"
   ]
  },
  {
   "cell_type": "markdown",
   "id": "cddd25c5",
   "metadata": {},
   "source": [
    "As trading becomes automated, we have seen that traders seek to use as much data as they can for their analyses. But we all know that adding more variables leads to more complications and that in turn might make it harder to come to solid conclusions. Think about it, we have more than 3000 companies in the New York Stock Exchange. A simple exercise to find pairs between them will be really computing-intensive. Wouldn’t it be wonderful if we could use a lot of variables but still somehow make it simpler?"
   ]
  },
  {
   "cell_type": "markdown",
   "id": "669771d2",
   "metadata": {},
   "source": [
    "## Business Objective"
   ]
  },
  {
   "cell_type": "markdown",
   "id": "3d3a3b54",
   "metadata": {},
   "source": [
    "Understand the use of Principal Component Analysis to identify highly correlated stocks and create a Pair Trading Strategy"
   ]
  },
  {
   "cell_type": "markdown",
   "id": "4e4d31b0",
   "metadata": {},
   "source": [
    "## Steps of Analysis\n",
    "- Generate Data\n",
    "- Prepare Data for PCA\n",
    "- Perform Assumption check for PCA\n",
    "- Perform PCA\n",
    "- Identify Pairs from PCA result\n",
    "- Create a Trading Strategy"
   ]
  },
  {
   "cell_type": "markdown",
   "id": "20880023",
   "metadata": {},
   "source": [
    "### Import Libraries"
   ]
  },
  {
   "cell_type": "code",
   "execution_count": 5,
   "id": "a48e5d89",
   "metadata": {
    "ExecuteTime": {
     "end_time": "2022-03-18T21:35:04.088291Z",
     "start_time": "2022-03-18T21:35:02.994313Z"
    }
   },
   "outputs": [],
   "source": [
    "import yfinance as yf\n",
    "import pandas as pd\n",
    "import numpy as np\n",
    "from scipy.stats import zscore\n",
    "\n",
    "import warnings\n",
    "warnings.filterwarnings('ignore')"
   ]
  },
  {
   "cell_type": "markdown",
   "id": "c45e92a4",
   "metadata": {},
   "source": [
    "### Generate Data\n",
    "We are fetching Top 20 Companies data in NSE Exchange based on their Market Capital from Yahoo Finance"
   ]
  },
  {
   "cell_type": "code",
   "execution_count": 3,
   "id": "ffb73769",
   "metadata": {
    "ExecuteTime": {
     "end_time": "2022-03-18T21:35:10.358927Z",
     "start_time": "2022-03-18T21:35:04.091284Z"
    },
    "scrolled": false
   },
   "outputs": [
    {
     "ename": "NameError",
     "evalue": "name 'pd' is not defined",
     "output_type": "error",
     "traceback": [
      "\u001b[0;31m---------------------------------------------------------------------------\u001b[0m",
      "\u001b[0;31mNameError\u001b[0m                                 Traceback (most recent call last)",
      "\u001b[0;32m/var/folders/mw/79vr7p9566z6fwqnpsmrj8tc0000gq/T/ipykernel_31200/1478328818.py\u001b[0m in \u001b[0;36m<module>\u001b[0;34m\u001b[0m\n\u001b[0;32m----> 1\u001b[0;31m \u001b[0mstock_df\u001b[0m \u001b[0;34m=\u001b[0m \u001b[0mpd\u001b[0m\u001b[0;34m.\u001b[0m\u001b[0mread_csv\u001b[0m\u001b[0;34m(\u001b[0m\u001b[0;34m'NSE.csv'\u001b[0m\u001b[0;34m)\u001b[0m\u001b[0;34m\u001b[0m\u001b[0;34m\u001b[0m\u001b[0m\n\u001b[0m\u001b[1;32m      2\u001b[0m \u001b[0mdf\u001b[0m \u001b[0;34m=\u001b[0m \u001b[0mpd\u001b[0m\u001b[0;34m.\u001b[0m\u001b[0mDataFrame\u001b[0m\u001b[0;34m(\u001b[0m\u001b[0;34m)\u001b[0m\u001b[0;34m\u001b[0m\u001b[0;34m\u001b[0m\u001b[0m\n\u001b[1;32m      3\u001b[0m \u001b[0;34m\u001b[0m\u001b[0m\n\u001b[1;32m      4\u001b[0m \u001b[0;32mfor\u001b[0m \u001b[0mticker\u001b[0m \u001b[0;32min\u001b[0m \u001b[0mstock_df\u001b[0m\u001b[0;34m.\u001b[0m\u001b[0mTicker\u001b[0m\u001b[0;34m[\u001b[0m\u001b[0;34m:\u001b[0m\u001b[0;36m20\u001b[0m\u001b[0;34m]\u001b[0m\u001b[0;34m:\u001b[0m\u001b[0;34m\u001b[0m\u001b[0;34m\u001b[0m\u001b[0m\n\u001b[1;32m      5\u001b[0m     \u001b[0mdf\u001b[0m\u001b[0;34m[\u001b[0m\u001b[0mticker\u001b[0m\u001b[0;34m]\u001b[0m \u001b[0;34m=\u001b[0m \u001b[0myf\u001b[0m\u001b[0;34m.\u001b[0m\u001b[0mdownload\u001b[0m\u001b[0;34m(\u001b[0m\u001b[0mticker\u001b[0m\u001b[0;34m,\u001b[0m \u001b[0;34m'2018-1-1'\u001b[0m\u001b[0;34m,\u001b[0m \u001b[0;34m'2022-03-15'\u001b[0m\u001b[0;34m)\u001b[0m\u001b[0;34m[\u001b[0m\u001b[0;34m'Adj Close'\u001b[0m\u001b[0;34m]\u001b[0m\u001b[0;34m\u001b[0m\u001b[0;34m\u001b[0m\u001b[0m\n",
      "\u001b[0;31mNameError\u001b[0m: name 'pd' is not defined"
     ]
    }
   ],
   "source": [
    "stock_df = pd.read_csv('NSE.csv')\n",
    "df = pd.DataFrame()\n",
    "\n",
    "for ticker in stock_df.Ticker[:20]:\n",
    "    df[ticker] = yf.download(ticker, '2018-1-1', '2022-03-15')['Adj Close']\n",
    "\n",
    "df.head()"
   ]
  },
  {
   "cell_type": "markdown",
   "id": "d75a1199",
   "metadata": {},
   "source": [
    "### Let's Normalize the data for Daily returns instead of Closing Price"
   ]
  },
  {
   "cell_type": "code",
   "execution_count": null,
   "id": "b5cdb6ce",
   "metadata": {
    "ExecuteTime": {
     "end_time": "2022-03-18T21:35:10.391065Z",
     "start_time": "2022-03-18T21:35:10.360919Z"
    }
   },
   "outputs": [],
   "source": [
    "data_daily_returns = df.pct_change()\n",
    "data_daily_returns.dropna(inplace=True)\n",
    "data_daily_returns.head()"
   ]
  },
  {
   "cell_type": "code",
   "execution_count": null,
   "id": "97e73504",
   "metadata": {
    "ExecuteTime": {
     "end_time": "2022-03-18T21:35:10.406525Z",
     "start_time": "2022-03-18T21:35:10.394023Z"
    }
   },
   "outputs": [],
   "source": [
    "data_daily_returns.shape"
   ]
  },
  {
   "cell_type": "markdown",
   "id": "89fc5158",
   "metadata": {},
   "source": [
    "We have 1000+ Days daily returns on which PCA will be done"
   ]
  },
  {
   "cell_type": "markdown",
   "id": "06fc3613",
   "metadata": {},
   "source": [
    "### Let's Check for Correlation in the Daily returns of the Stocks"
   ]
  },
  {
   "cell_type": "code",
   "execution_count": null,
   "id": "236b9f44",
   "metadata": {
    "ExecuteTime": {
     "end_time": "2022-03-18T21:35:12.806426Z",
     "start_time": "2022-03-18T21:35:10.409042Z"
    }
   },
   "outputs": [],
   "source": [
    "plt.figure(figsize=(18,8))\n",
    "sns.heatmap(data_daily_returns.corr(), annot=True)"
   ]
  },
  {
   "cell_type": "markdown",
   "id": "b7cfb2ef",
   "metadata": {},
   "source": [
    "### Let's validate the Assumptions"
   ]
  },
  {
   "cell_type": "markdown",
   "id": "a22eabd1",
   "metadata": {},
   "source": [
    "#### Bartlett test of Sphericity\n",
    "Bartlett's test of sphericity tests the hypothesis that the variables are uncorrelated in the data.\n",
    "* H0: All variables in the data are uncorrelated\n",
    "* Ha: At least one pair of variable in the data is correlated.<br><br>\n",
    "If the null hypothesis cannot be rejected then PCA is not advisable.<br><br>\n",
    "If the p-value is small, then we can reject the null hypothesis and agree that there is atleast one pair of variables in the data which are correlated hence PCA is recommended.\n"
   ]
  },
  {
   "cell_type": "code",
   "execution_count": null,
   "id": "8ee22658",
   "metadata": {
    "ExecuteTime": {
     "end_time": "2022-03-18T21:35:12.963062Z",
     "start_time": "2022-03-18T21:35:12.807929Z"
    }
   },
   "outputs": [],
   "source": [
    "from factor_analyzer.factor_analyzer import calculate_bartlett_sphericity\n",
    "chi_sq_value, p_value = calculate_bartlett_sphericity(data_daily_returns)\n",
    "p_value"
   ]
  },
  {
   "cell_type": "markdown",
   "id": "a29c2f08",
   "metadata": {},
   "source": [
    "Derived p-value is 0.0 which is less than alpha (0.05) hence we reject the null hypothesis and confirm that there's atleast one pair in the data which can be gropued."
   ]
  },
  {
   "cell_type": "markdown",
   "id": "14e6d67c",
   "metadata": {},
   "source": [
    "#### KMO Test\n",
    "The Kaiser-Meyer-Olkin (KMO) - measure of sampling adequacy (MSA) is an index used to examine how appropriate PCA is.  \n",
    "<br>Generally, if MSA is less than 0.5, *PCA is not recommended*, since no reduction is expected. On the other hand, if MSA > 0.7 is expected to provide a considerable reduction is the dimension and extraction of meaningful components."
   ]
  },
  {
   "cell_type": "code",
   "execution_count": null,
   "id": "14bd2c0f",
   "metadata": {
    "ExecuteTime": {
     "end_time": "2022-03-18T21:35:12.979082Z",
     "start_time": "2022-03-18T21:35:12.965054Z"
    }
   },
   "outputs": [],
   "source": [
    "from factor_analyzer.factor_analyzer import calculate_kmo\n",
    "kmo_all, kmo_model = calculate_kmo(data_daily_returns)\n",
    "print(kmo_model)"
   ]
  },
  {
   "cell_type": "markdown",
   "id": "9a9940cb",
   "metadata": {},
   "source": [
    "Since the MSA value is greater than 0.5 the test suggests we have sufficient data to perform PCA."
   ]
  },
  {
   "cell_type": "markdown",
   "id": "080607ca",
   "metadata": {},
   "source": [
    "### Let's Perform PCA"
   ]
  },
  {
   "cell_type": "code",
   "execution_count": null,
   "id": "0516e318",
   "metadata": {
    "ExecuteTime": {
     "end_time": "2022-03-18T21:35:13.103744Z",
     "start_time": "2022-03-18T21:35:12.981080Z"
    }
   },
   "outputs": [],
   "source": [
    "from sklearn.decomposition import PCA\n",
    "\n",
    "pca = PCA(n_components = 5)\n",
    "pca.fit_transform(data_daily_returns)"
   ]
  },
  {
   "cell_type": "markdown",
   "id": "a7a75d28",
   "metadata": {},
   "source": [
    "### Let's Check the Cummulative Variance to identify the number of Components"
   ]
  },
  {
   "cell_type": "code",
   "execution_count": null,
   "id": "e3d8f338",
   "metadata": {
    "ExecuteTime": {
     "end_time": "2022-03-18T21:35:13.119738Z",
     "start_time": "2022-03-18T21:35:13.105741Z"
    }
   },
   "outputs": [],
   "source": [
    "np.cumsum(pca.explained_variance_ratio_)"
   ]
  },
  {
   "cell_type": "markdown",
   "id": "0dc7e86f",
   "metadata": {},
   "source": [
    "We will use the first 5 components from this PCA model"
   ]
  },
  {
   "cell_type": "markdown",
   "id": "394f0e13",
   "metadata": {},
   "source": [
    "### Let's validate the Factor Loadings to identify the groups"
   ]
  },
  {
   "cell_type": "code",
   "execution_count": null,
   "id": "4d1369a9",
   "metadata": {
    "ExecuteTime": {
     "end_time": "2022-03-18T21:35:13.839939Z",
     "start_time": "2022-03-18T21:35:13.124724Z"
    }
   },
   "outputs": [],
   "source": [
    "df_comp = pd.DataFrame(pca.components_,columns=list(data_daily_returns))\n",
    "\n",
    "from matplotlib.patches import Rectangle\n",
    "fig, ax = plt.subplots(figsize=(15,4), facecolor='w', edgecolor='k')\n",
    "ax = sns.heatmap(df_comp, annot=True, vmax=1, vmin=0, cmap='Blues', cbar=False, fmt='.2g', ax=ax,\n",
    "                yticklabels=['PC0','PC1','PC2','PC3','PC4'])\n",
    "\n",
    "column_max = df_comp.abs().idxmax(axis=0)\n",
    "\n",
    "for col, variable in enumerate(df_comp.columns):\n",
    "    position = df_comp.index.get_loc(column_max[variable])\n",
    "    ax.add_patch(Rectangle((col, position), 1, 1, fill=False, edgecolor='red', lw=1))"
   ]
  },
  {
   "cell_type": "markdown",
   "id": "d14bc6c8",
   "metadata": {},
   "source": [
    "### Let's Randomly pick 2 tickers from the first component as that's explaining the most variance"
   ]
  },
  {
   "cell_type": "code",
   "execution_count": null,
   "id": "fa1af8a7",
   "metadata": {
    "ExecuteTime": {
     "end_time": "2022-03-18T21:35:13.855431Z",
     "start_time": "2022-03-18T21:35:13.841939Z"
    }
   },
   "outputs": [],
   "source": [
    "df1 = df[['HDFCBANK.NS', 'KOTAKBANK.NS']]\n",
    "df1.head()"
   ]
  },
  {
   "cell_type": "markdown",
   "id": "91f74687",
   "metadata": {},
   "source": [
    "### Let's Explore these two tickers"
   ]
  },
  {
   "cell_type": "code",
   "execution_count": null,
   "id": "2d0f7558",
   "metadata": {
    "ExecuteTime": {
     "end_time": "2022-03-18T21:35:14.167426Z",
     "start_time": "2022-03-18T21:35:13.857424Z"
    }
   },
   "outputs": [],
   "source": [
    "df1.plot(figsize=(15,6))"
   ]
  },
  {
   "cell_type": "markdown",
   "id": "bb3e8903",
   "metadata": {},
   "source": [
    "Above plot clearly explains that the two stocks moved almost in the same direction in the past 4 years, hence these can be a perfect pair to trade"
   ]
  },
  {
   "cell_type": "code",
   "execution_count": null,
   "id": "337a75d8",
   "metadata": {
    "ExecuteTime": {
     "end_time": "2022-03-18T21:35:14.183471Z",
     "start_time": "2022-03-18T21:35:14.168930Z"
    }
   },
   "outputs": [],
   "source": [
    "df1.corr()['HDFCBANK.NS']"
   ]
  },
  {
   "cell_type": "markdown",
   "id": "0d1b9416",
   "metadata": {},
   "source": [
    "Correlation between the two company's share prices is very high"
   ]
  },
  {
   "cell_type": "code",
   "execution_count": null,
   "id": "8da006ea",
   "metadata": {
    "ExecuteTime": {
     "end_time": "2022-03-18T21:35:14.451563Z",
     "start_time": "2022-03-18T21:35:14.184441Z"
    }
   },
   "outputs": [],
   "source": [
    "returns = df1.pct_change()\n",
    "returns.dropna(inplace=True)\n",
    "returns.plot(figsize=(15,6))"
   ]
  },
  {
   "cell_type": "markdown",
   "id": "4fe1134e",
   "metadata": {},
   "source": [
    "It can be seen from the above plot that the percent change in price over previous day is almost same for both the stocks and hence this also suggests that the two will make a good pair"
   ]
  },
  {
   "cell_type": "code",
   "execution_count": null,
   "id": "33c82383",
   "metadata": {
    "ExecuteTime": {
     "end_time": "2022-03-18T21:35:14.717058Z",
     "start_time": "2022-03-18T21:35:14.453558Z"
    }
   },
   "outputs": [],
   "source": [
    "df1['Ratio'] = df1['HDFCBANK.NS'] / df1['KOTAKBANK.NS']\n",
    "df1['Ratio'].plot(figsize=(15,6))"
   ]
  },
  {
   "cell_type": "markdown",
   "id": "dbd56068",
   "metadata": {},
   "source": [
    "Ratio of the two prices suggest that the maximum difference between them is 35% but we need to normalize the ratio on z scale and check if the ration ranges between -1 to +1 SD. The reason is if we want to buy one and sell other we want the prices to reverse and that's when we stand a chance to make profits."
   ]
  },
  {
   "cell_type": "code",
   "execution_count": null,
   "id": "fe1a3826",
   "metadata": {
    "ExecuteTime": {
     "end_time": "2022-03-18T21:35:14.998410Z",
     "start_time": "2022-03-18T21:35:14.719080Z"
    }
   },
   "outputs": [],
   "source": [
    "def zscore(series):\n",
    "    return (series - series.mean()) / np.std(series)\n",
    "\n",
    "\n",
    "zscore(df1['Ratio']).plot(figsize=(15,6))\n",
    "plt.axhline(zscore(df1['Ratio']).mean())\n",
    "plt.axhline(1.0, color='red')\n",
    "plt.axhline(-1.0, color='green')\n",
    "\n",
    "plt.show()"
   ]
  },
  {
   "cell_type": "markdown",
   "id": "69bf3e07",
   "metadata": {},
   "source": [
    "Above plot suggests that the ratio mostly ranges between -1 to +1 SD, hence these 2 can be considered for creating a strategy"
   ]
  },
  {
   "cell_type": "markdown",
   "id": "5a1dc24a",
   "metadata": {},
   "source": [
    "### Let's create a Trading Strategy"
   ]
  },
  {
   "cell_type": "code",
   "execution_count": null,
   "id": "fd92f057",
   "metadata": {
    "ExecuteTime": {
     "end_time": "2022-03-18T21:35:15.013702Z",
     "start_time": "2022-03-18T21:35:14.999409Z"
    },
    "hide_input": true
   },
   "outputs": [],
   "source": [
    "ratios = df1['Ratio']\n",
    "\n",
    "train = ratios[:726]\n",
    "test = ratios[726:]\n",
    "\n",
    "ratios_mavg5 = train.rolling(window=5, center=False).mean()\n",
    "ratios_mavg60 = train.rolling(window=60, center=False).mean()\n",
    "std_60 = train.rolling(window=60, center=False).std()\n",
    "zscore_60_5 = (ratios_mavg5 - ratios_mavg60)/std_60\n",
    "\n",
    "buy = train.copy()\n",
    "sell = train.copy()\n",
    "buy[zscore_60_5>-1] = 0\n",
    "sell[zscore_60_5<1] = 0"
   ]
  },
  {
   "cell_type": "code",
   "execution_count": null,
   "id": "31506077",
   "metadata": {
    "ExecuteTime": {
     "end_time": "2022-03-18T21:35:15.360222Z",
     "start_time": "2022-03-18T21:35:15.015691Z"
    }
   },
   "outputs": [],
   "source": [
    "plt.figure(figsize=(12,7))\n",
    "S1 = df1['HDFCBANK.NS'].iloc[:726]\n",
    "S2 = df1['KOTAKBANK.NS'].iloc[:726]\n",
    "\n",
    "\n",
    "S1[60:].plot(color='b')\n",
    "S2[60:].plot(color='c')\n",
    "buyR = 0*S1.copy()\n",
    "sellR = 0*S1.copy()\n",
    "\n",
    "# When you buy the ratio, you buy stock S1 and sell S2\n",
    "buyR[buy!=0] = S1[buy!=0]\n",
    "sellR[buy!=0] = S2[buy!=0]\n",
    "\n",
    "# When you sell the ratio, you sell stock S1 and buy S2\n",
    "buyR[sell!=0] = S2[sell!=0]\n",
    "sellR[sell!=0] = S1[sell!=0]\n",
    "\n",
    "buyR[60:].plot(color='g', linestyle='None', marker='^')\n",
    "sellR[60:].plot(color='r', linestyle='None', marker='^')\n",
    "x1, x2, y1, y2 = plt.axis()\n",
    "plt.axis((x1, x2, min(S1.min(), S2.min()), max(S1.max(), S2.max())))\n",
    "\n",
    "plt.legend(['HDFCBANK', 'KOTAKBANK', 'Buy Signal', 'Sell Signal'])\n",
    "plt.show()"
   ]
  },
  {
   "cell_type": "markdown",
   "id": "6a136550",
   "metadata": {},
   "source": [
    "Above plot gives an indication on historical data when to buy and when to sell these stocks"
   ]
  },
  {
   "cell_type": "markdown",
   "id": "17b855b6",
   "metadata": {},
   "source": [
    "### Areas of Improvement and Further Steps\n",
    "This is by no means a perfect strategy and the implementation of our strategy isn't the best. However, there are several things that can be improved upon. "
   ]
  },
  {
   "cell_type": "code",
   "execution_count": null,
   "id": "d6fc391e",
   "metadata": {},
   "outputs": [],
   "source": []
  },
  {
   "cell_type": "markdown",
   "id": "88793240",
   "metadata": {},
   "source": [
    "# This case study is for Educational Purpose Only. Trade at your own risk. \n",
    "# Great Learning or the Mentor will not be liable for any market risks"
   ]
  },
  {
   "cell_type": "code",
   "execution_count": null,
   "id": "a4d66dcf",
   "metadata": {},
   "outputs": [],
   "source": []
  }
 ],
 "metadata": {
  "hide_input": false,
  "kernelspec": {
   "display_name": "Python 3 (ipykernel)",
   "language": "python",
   "name": "python3"
  },
  "language_info": {
   "codemirror_mode": {
    "name": "ipython",
    "version": 3
   },
   "file_extension": ".py",
   "mimetype": "text/x-python",
   "name": "python",
   "nbconvert_exporter": "python",
   "pygments_lexer": "ipython3",
   "version": "3.9.7"
  },
  "latex_envs": {
   "LaTeX_envs_menu_present": true,
   "autoclose": false,
   "autocomplete": true,
   "bibliofile": "biblio.bib",
   "cite_by": "apalike",
   "current_citInitial": 1,
   "eqLabelWithNumbers": true,
   "eqNumInitial": 1,
   "hotkeys": {
    "equation": "Ctrl-E",
    "itemize": "Ctrl-I"
   },
   "labels_anchors": false,
   "latex_user_defs": false,
   "report_style_numbering": false,
   "user_envs_cfg": false
  },
  "varInspector": {
   "cols": {
    "lenName": 16,
    "lenType": 16,
    "lenVar": 40
   },
   "kernels_config": {
    "python": {
     "delete_cmd_postfix": "",
     "delete_cmd_prefix": "del ",
     "library": "var_list.py",
     "varRefreshCmd": "print(var_dic_list())"
    },
    "r": {
     "delete_cmd_postfix": ") ",
     "delete_cmd_prefix": "rm(",
     "library": "var_list.r",
     "varRefreshCmd": "cat(var_dic_list()) "
    }
   },
   "types_to_exclude": [
    "module",
    "function",
    "builtin_function_or_method",
    "instance",
    "_Feature"
   ],
   "window_display": false
  }
 },
 "nbformat": 4,
 "nbformat_minor": 5
}
