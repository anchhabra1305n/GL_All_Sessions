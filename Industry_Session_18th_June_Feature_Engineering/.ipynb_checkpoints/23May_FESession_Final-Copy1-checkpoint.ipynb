{
 "cells": [
  {
   "cell_type": "markdown",
   "metadata": {},
   "source": [
    "## PROBLEM STATEMENT"
   ]
  },
  {
   "cell_type": "markdown",
   "metadata": {},
   "source": [
    "AA Pvt Ltd., has retail stores across the globe. They are struggling to generate revenue through their high end product sale. The company  has hired you as a data scientist to help them to design personalised offers for their customers based on their  purchase behaviour.\n",
    "\n",
    "AA Pvt Ltd has collected demographic details of their customers like age, gender , marital status and city along with the total purchase amount in a month , to understand the purchase behaviour of high volume products.  \n",
    "\n",
    "Agenda of the Industry Session : Impact of Feature Engineering on Model Performance"
   ]
  },
  {
   "cell_type": "code",
   "execution_count": 1,
   "metadata": {},
   "outputs": [],
   "source": [
    "import numpy as np \n",
    "import pandas as pd\n",
    "import matplotlib.pyplot as plt\n",
    "import seaborn as sns\n",
    "\n",
    "import matplotlib.style\n",
    "\n",
    "import warnings\n",
    "warnings.filterwarnings(\"ignore\")\n",
    "\n",
    "import os"
   ]
  },
  {
   "cell_type": "markdown",
   "metadata": {},
   "source": [
    "## Importing Data"
   ]
  },
  {
   "cell_type": "code",
   "execution_count": 2,
   "metadata": {},
   "outputs": [],
   "source": [
    "# reading the CSV file into pandas dataframe\n",
    "df = pd.read_csv(\"C:/GL Class/Industry Session/23rd May 2021/Sales Data.csv\")  "
   ]
  },
  {
   "cell_type": "markdown",
   "metadata": {},
   "source": [
    "## Exploratory Data Analysis"
   ]
  },
  {
   "cell_type": "code",
   "execution_count": 3,
   "metadata": {},
   "outputs": [
    {
     "data": {
      "text/plain": [
       "(537577, 12)"
      ]
     },
     "execution_count": 3,
     "metadata": {},
     "output_type": "execute_result"
    }
   ],
   "source": [
    "## Total # of rows and columns/features\n",
    "df.shape"
   ]
  },
  {
   "cell_type": "code",
   "execution_count": 4,
   "metadata": {},
   "outputs": [
    {
     "data": {
      "text/html": [
       "<div>\n",
       "<style scoped>\n",
       "    .dataframe tbody tr th:only-of-type {\n",
       "        vertical-align: middle;\n",
       "    }\n",
       "\n",
       "    .dataframe tbody tr th {\n",
       "        vertical-align: top;\n",
       "    }\n",
       "\n",
       "    .dataframe thead th {\n",
       "        text-align: right;\n",
       "    }\n",
       "</style>\n",
       "<table border=\"1\" class=\"dataframe\">\n",
       "  <thead>\n",
       "    <tr style=\"text-align: right;\">\n",
       "      <th></th>\n",
       "      <th>customer_id</th>\n",
       "      <th>product_id</th>\n",
       "      <th>sex</th>\n",
       "      <th>age_group</th>\n",
       "      <th>job_code</th>\n",
       "      <th>city</th>\n",
       "      <th>living_in_current_city_since</th>\n",
       "      <th>married</th>\n",
       "      <th>product_category_1</th>\n",
       "      <th>product_category_2</th>\n",
       "      <th>product_category_3</th>\n",
       "      <th>Total_Purchase_Amount</th>\n",
       "    </tr>\n",
       "  </thead>\n",
       "  <tbody>\n",
       "    <tr>\n",
       "      <th>0</th>\n",
       "      <td>653000653</td>\n",
       "      <td>AA12069042</td>\n",
       "      <td>F</td>\n",
       "      <td>0-17</td>\n",
       "      <td>10</td>\n",
       "      <td>Delhi</td>\n",
       "      <td>2</td>\n",
       "      <td>0</td>\n",
       "      <td>3</td>\n",
       "      <td>NaN</td>\n",
       "      <td>NaN</td>\n",
       "      <td>11160.000000</td>\n",
       "    </tr>\n",
       "    <tr>\n",
       "      <th>1</th>\n",
       "      <td>653000653</td>\n",
       "      <td>AA120248942</td>\n",
       "      <td>F</td>\n",
       "      <td>0-17</td>\n",
       "      <td>10</td>\n",
       "      <td>Delhi</td>\n",
       "      <td>2</td>\n",
       "      <td>0</td>\n",
       "      <td>1</td>\n",
       "      <td>6.0</td>\n",
       "      <td>14.0</td>\n",
       "      <td>20266.666670</td>\n",
       "    </tr>\n",
       "    <tr>\n",
       "      <th>2</th>\n",
       "      <td>653000653</td>\n",
       "      <td>AA12087842</td>\n",
       "      <td>F</td>\n",
       "      <td>0-17</td>\n",
       "      <td>10</td>\n",
       "      <td>Delhi</td>\n",
       "      <td>2</td>\n",
       "      <td>0</td>\n",
       "      <td>12</td>\n",
       "      <td>NaN</td>\n",
       "      <td>NaN</td>\n",
       "      <td>1896.000000</td>\n",
       "    </tr>\n",
       "    <tr>\n",
       "      <th>3</th>\n",
       "      <td>653000653</td>\n",
       "      <td>AA12085442</td>\n",
       "      <td>F</td>\n",
       "      <td>0-17</td>\n",
       "      <td>10</td>\n",
       "      <td>Delhi</td>\n",
       "      <td>2</td>\n",
       "      <td>0</td>\n",
       "      <td>12</td>\n",
       "      <td>14.0</td>\n",
       "      <td>NaN</td>\n",
       "      <td>1409.333333</td>\n",
       "    </tr>\n",
       "    <tr>\n",
       "      <th>4</th>\n",
       "      <td>653001306</td>\n",
       "      <td>AA120285442</td>\n",
       "      <td>M</td>\n",
       "      <td>55+</td>\n",
       "      <td>16</td>\n",
       "      <td>Chennai</td>\n",
       "      <td>4+</td>\n",
       "      <td>0</td>\n",
       "      <td>8</td>\n",
       "      <td>NaN</td>\n",
       "      <td>NaN</td>\n",
       "      <td>10625.333330</td>\n",
       "    </tr>\n",
       "  </tbody>\n",
       "</table>\n",
       "</div>"
      ],
      "text/plain": [
       "   customer_id   product_id sex age_group  job_code     city  \\\n",
       "0    653000653   AA12069042   F      0-17        10    Delhi   \n",
       "1    653000653  AA120248942   F      0-17        10    Delhi   \n",
       "2    653000653   AA12087842   F      0-17        10    Delhi   \n",
       "3    653000653   AA12085442   F      0-17        10    Delhi   \n",
       "4    653001306  AA120285442   M       55+        16  Chennai   \n",
       "\n",
       "  living_in_current_city_since  married  product_category_1  \\\n",
       "0                            2        0                   3   \n",
       "1                            2        0                   1   \n",
       "2                            2        0                  12   \n",
       "3                            2        0                  12   \n",
       "4                           4+        0                   8   \n",
       "\n",
       "   product_category_2  product_category_3  Total_Purchase_Amount  \n",
       "0                 NaN                 NaN           11160.000000  \n",
       "1                 6.0                14.0           20266.666670  \n",
       "2                 NaN                 NaN            1896.000000  \n",
       "3                14.0                 NaN            1409.333333  \n",
       "4                 NaN                 NaN           10625.333330  "
      ]
     },
     "execution_count": 4,
     "metadata": {},
     "output_type": "execute_result"
    }
   ],
   "source": [
    "# Check top few records to get a feel of the data structure\n",
    "df.head()"
   ]
  },
  {
   "cell_type": "code",
   "execution_count": 5,
   "metadata": {},
   "outputs": [
    {
     "name": "stdout",
     "output_type": "stream",
     "text": [
      "<class 'pandas.core.frame.DataFrame'>\n",
      "RangeIndex: 537577 entries, 0 to 537576\n",
      "Data columns (total 12 columns):\n",
      " #   Column                        Non-Null Count   Dtype  \n",
      "---  ------                        --------------   -----  \n",
      " 0   customer_id                   537577 non-null  int64  \n",
      " 1   product_id                    537577 non-null  object \n",
      " 2   sex                           537577 non-null  object \n",
      " 3   age_group                     537577 non-null  object \n",
      " 4   job_code                      537577 non-null  int64  \n",
      " 5   city                          537577 non-null  object \n",
      " 6   living_in_current_city_since  537577 non-null  object \n",
      " 7   married                       537577 non-null  int64  \n",
      " 8   product_category_1            537577 non-null  int64  \n",
      " 9   product_category_2            370591 non-null  float64\n",
      " 10  product_category_3            164278 non-null  float64\n",
      " 11  Total_Purchase_Amount         537577 non-null  float64\n",
      "dtypes: float64(3), int64(4), object(5)\n",
      "memory usage: 49.2+ MB\n"
     ]
    }
   ],
   "source": [
    "df.info()"
   ]
  },
  {
   "cell_type": "code",
   "execution_count": 6,
   "metadata": {},
   "outputs": [],
   "source": [
    "## product_category_2 and product_category_3 have null values\n",
    "## Although count of null values is high, but before we decide to drop we should study these features considering we are looking \n",
    "## at a grocery store data and hence product category is an important feature."
   ]
  },
  {
   "cell_type": "markdown",
   "metadata": {},
   "source": [
    "## Checking for Duplicates"
   ]
  },
  {
   "cell_type": "code",
   "execution_count": 7,
   "metadata": {},
   "outputs": [
    {
     "name": "stdout",
     "output_type": "stream",
     "text": [
      "Number of duplicate rows = 0\n"
     ]
    },
    {
     "data": {
      "text/html": [
       "<div>\n",
       "<style scoped>\n",
       "    .dataframe tbody tr th:only-of-type {\n",
       "        vertical-align: middle;\n",
       "    }\n",
       "\n",
       "    .dataframe tbody tr th {\n",
       "        vertical-align: top;\n",
       "    }\n",
       "\n",
       "    .dataframe thead th {\n",
       "        text-align: right;\n",
       "    }\n",
       "</style>\n",
       "<table border=\"1\" class=\"dataframe\">\n",
       "  <thead>\n",
       "    <tr style=\"text-align: right;\">\n",
       "      <th></th>\n",
       "      <th>customer_id</th>\n",
       "      <th>product_id</th>\n",
       "      <th>sex</th>\n",
       "      <th>age_group</th>\n",
       "      <th>job_code</th>\n",
       "      <th>city</th>\n",
       "      <th>living_in_current_city_since</th>\n",
       "      <th>married</th>\n",
       "      <th>product_category_1</th>\n",
       "      <th>product_category_2</th>\n",
       "      <th>product_category_3</th>\n",
       "      <th>Total_Purchase_Amount</th>\n",
       "    </tr>\n",
       "  </thead>\n",
       "  <tbody>\n",
       "  </tbody>\n",
       "</table>\n",
       "</div>"
      ],
      "text/plain": [
       "Empty DataFrame\n",
       "Columns: [customer_id, product_id, sex, age_group, job_code, city, living_in_current_city_since, married, product_category_1, product_category_2, product_category_3, Total_Purchase_Amount]\n",
       "Index: []"
      ]
     },
     "execution_count": 7,
     "metadata": {},
     "output_type": "execute_result"
    }
   ],
   "source": [
    "# Are there any duplicates ?\n",
    "dups = df.duplicated()\n",
    "print('Number of duplicate rows = %d' % (dups.sum()))\n",
    "df[dups]"
   ]
  },
  {
   "cell_type": "code",
   "execution_count": 8,
   "metadata": {},
   "outputs": [],
   "source": [
    "## There are no duplicates "
   ]
  },
  {
   "cell_type": "markdown",
   "metadata": {},
   "source": [
    "## Checking for unique Customers and Products"
   ]
  },
  {
   "cell_type": "code",
   "execution_count": 9,
   "metadata": {},
   "outputs": [
    {
     "name": "stdout",
     "output_type": "stream",
     "text": [
      "The number of unique Customers are: 5891\n",
      "The number of unique Products are: 3623\n"
     ]
    }
   ],
   "source": [
    "#Checking for unique values\n",
    "\n",
    "print('The number of unique Customers are:',df[\"customer_id\"].nunique())\n",
    "print('The number of unique Products are:',df[\"product_id\"].nunique())"
   ]
  },
  {
   "cell_type": "markdown",
   "metadata": {},
   "source": [
    "## Unique values of each categorical/object Feature"
   ]
  },
  {
   "cell_type": "code",
   "execution_count": 10,
   "metadata": {},
   "outputs": [
    {
     "name": "stdout",
     "output_type": "stream",
     "text": [
      "PRODUCT_ID :  3623\n",
      "AA120357542       1\n",
      "AA120329842       1\n",
      "AA120133042       1\n",
      "AA120348142       1\n",
      "AA120203942       1\n",
      "               ... \n",
      "AA12057642     1430\n",
      "AA120112142    1539\n",
      "AA12025442     1586\n",
      "AA120110742    1591\n",
      "AA120265242    1858\n",
      "Name: product_id, Length: 3623, dtype: int64\n",
      "\n",
      "\n",
      "SEX :  2\n",
      "F    132197\n",
      "M    405380\n",
      "Name: sex, dtype: int64\n",
      "\n",
      "\n",
      "AGE_GROUP :  7\n",
      "0-17      14707\n",
      "55+       20903\n",
      "51-55     37618\n",
      "46-50     44526\n",
      "18-25     97634\n",
      "36-45    107499\n",
      "26-35    214690\n",
      "Name: age_group, dtype: int64\n",
      "\n",
      "\n",
      "CITY :  3\n",
      "Delhi      144638\n",
      "Chennai    166446\n",
      "Mumbai     226493\n",
      "Name: city, dtype: int64\n",
      "\n",
      "\n",
      "LIVING_IN_CURRENT_CITY_SINCE :  5\n",
      "0      72725\n",
      "4+     82889\n",
      "3      93312\n",
      "2      99459\n",
      "1     189192\n",
      "Name: living_in_current_city_since, dtype: int64\n",
      "\n",
      "\n"
     ]
    }
   ],
   "source": [
    "for column in df.columns:\n",
    "    if df[column].dtype == 'object':\n",
    "        print(column.upper(),': ',df[column].nunique())\n",
    "        print(df[column].value_counts().sort_values())\n",
    "        print('\\n')"
   ]
  },
  {
   "cell_type": "code",
   "execution_count": 11,
   "metadata": {},
   "outputs": [],
   "source": [
    "## 2 Cities, 7 Age Groups, 6 levels for living duration in a city"
   ]
  },
  {
   "cell_type": "markdown",
   "metadata": {},
   "source": [
    "## Distribution of Age Group according to Gender"
   ]
  },
  {
   "cell_type": "code",
   "execution_count": 12,
   "metadata": {},
   "outputs": [
    {
     "data": {
      "image/png": "[encoded data removed]",
      "text/plain": [
       "<Figure size 864x648 with 1 Axes>"
      ]
     },
     "metadata": {},
     "output_type": "display_data"
    }
   ],
   "source": [
    "plt.rcParams['figure.figsize'] = [12, 9]\n",
    "sns.set(style = 'whitegrid', font_scale = 1.3)\n",
    "ax = sns.countplot('age_group', hue = 'sex',data = df, order = ['0-17', '18-25', '26-35', '36-45', '46-50', '51-55', '55+']);\n",
    "ax.set(title = \"Distribution of Age group according to Gender\", xlabel = \"Age Group\", ylabel = \"Count\");"
   ]
  },
  {
   "cell_type": "code",
   "execution_count": 13,
   "metadata": {},
   "outputs": [],
   "source": [
    "## Count of Male is higher across all age groups\n",
    "## Most of the data points are pertiaining to Age Group 26-35"
   ]
  },
  {
   "cell_type": "markdown",
   "metadata": {},
   "source": [
    "## Is Average Purchase amount is also higher for Males ??"
   ]
  },
  {
   "cell_type": "code",
   "execution_count": 14,
   "metadata": {},
   "outputs": [
    {
     "name": "stdout",
     "output_type": "stream",
     "text": [
      "Purchase mean for male purchasers =  12673.02895061044\n",
      "Purchase mean for femal purchasers =  11746.348464792914\n"
     ]
    }
   ],
   "source": [
    "malesPurchaserData = df.loc[df['sex'] == 'M']\n",
    "malesPurchaseMean = np.mean(malesPurchaserData['Total_Purchase_Amount'])\n",
    "print(\"Purchase mean for male purchasers = \",malesPurchaseMean)\n",
    "\n",
    "femalsPurchaserData = df.loc[df['sex'] == 'F']\n",
    "femalsPurchaseMean = np.mean(femalsPurchaserData['Total_Purchase_Amount'])\n",
    "print(\"Purchase mean for femal purchasers = \",femalsPurchaseMean)"
   ]
  },
  {
   "cell_type": "code",
   "execution_count": 15,
   "metadata": {},
   "outputs": [],
   "source": [
    "## Yes Average Purchase amount is higher for male"
   ]
  },
  {
   "cell_type": "markdown",
   "metadata": {},
   "source": [
    "## Does Average purchase amount is different across different age groups\n"
   ]
  },
  {
   "cell_type": "code",
   "execution_count": 16,
   "metadata": {},
   "outputs": [
    {
     "data": {
      "text/html": [
       "<div>\n",
       "<style scoped>\n",
       "    .dataframe tbody tr th:only-of-type {\n",
       "        vertical-align: middle;\n",
       "    }\n",
       "\n",
       "    .dataframe tbody tr th {\n",
       "        vertical-align: top;\n",
       "    }\n",
       "\n",
       "    .dataframe thead th {\n",
       "        text-align: right;\n",
       "    }\n",
       "</style>\n",
       "<table border=\"1\" class=\"dataframe\">\n",
       "  <thead>\n",
       "    <tr style=\"text-align: right;\">\n",
       "      <th></th>\n",
       "      <th>Total_Purchase_Amount</th>\n",
       "    </tr>\n",
       "    <tr>\n",
       "      <th>age_group</th>\n",
       "      <th></th>\n",
       "    </tr>\n",
       "  </thead>\n",
       "  <tbody>\n",
       "    <tr>\n",
       "      <th>0-17</th>\n",
       "      <td>12026.835838</td>\n",
       "    </tr>\n",
       "    <tr>\n",
       "      <th>18-25</th>\n",
       "      <td>12313.596766</td>\n",
       "    </tr>\n",
       "    <tr>\n",
       "      <th>26-35</th>\n",
       "      <td>12419.451960</td>\n",
       "    </tr>\n",
       "    <tr>\n",
       "      <th>36-45</th>\n",
       "      <td>12535.305011</td>\n",
       "    </tr>\n",
       "    <tr>\n",
       "      <th>46-50</th>\n",
       "      <td>12379.829702</td>\n",
       "    </tr>\n",
       "    <tr>\n",
       "      <th>51-55</th>\n",
       "      <td>12827.488826</td>\n",
       "    </tr>\n",
       "    <tr>\n",
       "      <th>55+</th>\n",
       "      <td>12605.198106</td>\n",
       "    </tr>\n",
       "  </tbody>\n",
       "</table>\n",
       "</div>"
      ],
      "text/plain": [
       "           Total_Purchase_Amount\n",
       "age_group                       \n",
       "0-17                12026.835838\n",
       "18-25               12313.596766\n",
       "26-35               12419.451960\n",
       "36-45               12535.305011\n",
       "46-50               12379.829702\n",
       "51-55               12827.488826\n",
       "55+                 12605.198106"
      ]
     },
     "execution_count": 16,
     "metadata": {},
     "output_type": "execute_result"
    }
   ],
   "source": [
    "# Does mean purchage amount is different across different age groups\n",
    "\n",
    "df[['age_group', 'Total_Purchase_Amount']].groupby('age_group').mean()"
   ]
  },
  {
   "cell_type": "markdown",
   "metadata": {},
   "source": [
    "## Does Average purchage amount is different across job code"
   ]
  },
  {
   "cell_type": "code",
   "execution_count": 17,
   "metadata": {},
   "outputs": [
    {
     "data": {
      "text/html": [
       "<div>\n",
       "<style scoped>\n",
       "    .dataframe tbody tr th:only-of-type {\n",
       "        vertical-align: middle;\n",
       "    }\n",
       "\n",
       "    .dataframe tbody tr th {\n",
       "        vertical-align: top;\n",
       "    }\n",
       "\n",
       "    .dataframe thead th {\n",
       "        text-align: right;\n",
       "    }\n",
       "</style>\n",
       "<table border=\"1\" class=\"dataframe\">\n",
       "  <thead>\n",
       "    <tr style=\"text-align: right;\">\n",
       "      <th></th>\n",
       "      <th>Total_Purchase_Amount</th>\n",
       "    </tr>\n",
       "    <tr>\n",
       "      <th>job_code</th>\n",
       "      <th></th>\n",
       "    </tr>\n",
       "  </thead>\n",
       "  <tbody>\n",
       "    <tr>\n",
       "      <th>0</th>\n",
       "      <td>12249.262302</td>\n",
       "    </tr>\n",
       "    <tr>\n",
       "      <th>1</th>\n",
       "      <td>12023.604127</td>\n",
       "    </tr>\n",
       "    <tr>\n",
       "      <th>2</th>\n",
       "      <td>12034.585310</td>\n",
       "    </tr>\n",
       "    <tr>\n",
       "      <th>3</th>\n",
       "      <td>12317.436370</td>\n",
       "    </tr>\n",
       "    <tr>\n",
       "      <th>4</th>\n",
       "      <td>12372.035656</td>\n",
       "    </tr>\n",
       "    <tr>\n",
       "      <th>5</th>\n",
       "      <td>12518.465304</td>\n",
       "    </tr>\n",
       "    <tr>\n",
       "      <th>6</th>\n",
       "      <td>12448.504826</td>\n",
       "    </tr>\n",
       "    <tr>\n",
       "      <th>7</th>\n",
       "      <td>12669.567035</td>\n",
       "    </tr>\n",
       "    <tr>\n",
       "      <th>8</th>\n",
       "      <td>12768.678040</td>\n",
       "    </tr>\n",
       "    <tr>\n",
       "      <th>9</th>\n",
       "      <td>11619.114578</td>\n",
       "    </tr>\n",
       "    <tr>\n",
       "      <th>10</th>\n",
       "      <td>12070.448546</td>\n",
       "    </tr>\n",
       "    <tr>\n",
       "      <th>11</th>\n",
       "      <td>12399.289587</td>\n",
       "    </tr>\n",
       "    <tr>\n",
       "      <th>12</th>\n",
       "      <td>13177.403280</td>\n",
       "    </tr>\n",
       "    <tr>\n",
       "      <th>13</th>\n",
       "      <td>12565.932521</td>\n",
       "    </tr>\n",
       "    <tr>\n",
       "      <th>14</th>\n",
       "      <td>12758.048567</td>\n",
       "    </tr>\n",
       "    <tr>\n",
       "      <th>15</th>\n",
       "      <td>13154.986567</td>\n",
       "    </tr>\n",
       "    <tr>\n",
       "      <th>16</th>\n",
       "      <td>12609.510824</td>\n",
       "    </tr>\n",
       "    <tr>\n",
       "      <th>17</th>\n",
       "      <td>13208.505330</td>\n",
       "    </tr>\n",
       "    <tr>\n",
       "      <th>18</th>\n",
       "      <td>12311.561890</td>\n",
       "    </tr>\n",
       "    <tr>\n",
       "      <th>19</th>\n",
       "      <td>11672.332216</td>\n",
       "    </tr>\n",
       "    <tr>\n",
       "      <th>20</th>\n",
       "      <td>11841.466018</td>\n",
       "    </tr>\n",
       "  </tbody>\n",
       "</table>\n",
       "</div>"
      ],
      "text/plain": [
       "          Total_Purchase_Amount\n",
       "job_code                       \n",
       "0                  12249.262302\n",
       "1                  12023.604127\n",
       "2                  12034.585310\n",
       "3                  12317.436370\n",
       "4                  12372.035656\n",
       "5                  12518.465304\n",
       "6                  12448.504826\n",
       "7                  12669.567035\n",
       "8                  12768.678040\n",
       "9                  11619.114578\n",
       "10                 12070.448546\n",
       "11                 12399.289587\n",
       "12                 13177.403280\n",
       "13                 12565.932521\n",
       "14                 12758.048567\n",
       "15                 13154.986567\n",
       "16                 12609.510824\n",
       "17                 13208.505330\n",
       "18                 12311.561890\n",
       "19                 11672.332216\n",
       "20                 11841.466018"
      ]
     },
     "execution_count": 17,
     "metadata": {},
     "output_type": "execute_result"
    }
   ],
   "source": [
    "# Does mean purchage amount is different across job code\n",
    "\n",
    "df[['job_code', 'Total_Purchase_Amount']].groupby('job_code').mean()"
   ]
  },
  {
   "cell_type": "markdown",
   "metadata": {},
   "source": [
    "## Does Average purchage amount is different for married customers"
   ]
  },
  {
   "cell_type": "code",
   "execution_count": 18,
   "metadata": {},
   "outputs": [
    {
     "data": {
      "text/html": [
       "<div>\n",
       "<style scoped>\n",
       "    .dataframe tbody tr th:only-of-type {\n",
       "        vertical-align: middle;\n",
       "    }\n",
       "\n",
       "    .dataframe tbody tr th {\n",
       "        vertical-align: top;\n",
       "    }\n",
       "\n",
       "    .dataframe thead th {\n",
       "        text-align: right;\n",
       "    }\n",
       "</style>\n",
       "<table border=\"1\" class=\"dataframe\">\n",
       "  <thead>\n",
       "    <tr style=\"text-align: right;\">\n",
       "      <th></th>\n",
       "      <th>Total_Purchase_Amount</th>\n",
       "    </tr>\n",
       "    <tr>\n",
       "      <th>married</th>\n",
       "      <th></th>\n",
       "    </tr>\n",
       "  </thead>\n",
       "  <tbody>\n",
       "    <tr>\n",
       "      <th>0</th>\n",
       "      <td>12444.433956</td>\n",
       "    </tr>\n",
       "    <tr>\n",
       "      <th>1</th>\n",
       "      <td>12446.176908</td>\n",
       "    </tr>\n",
       "  </tbody>\n",
       "</table>\n",
       "</div>"
      ],
      "text/plain": [
       "         Total_Purchase_Amount\n",
       "married                       \n",
       "0                 12444.433956\n",
       "1                 12446.176908"
      ]
     },
     "execution_count": 18,
     "metadata": {},
     "output_type": "execute_result"
    }
   ],
   "source": [
    "df[['married', 'Total_Purchase_Amount']].groupby('married').mean()"
   ]
  },
  {
   "cell_type": "markdown",
   "metadata": {},
   "source": [
    "## Prpduct preference based on Gender - For Product Category 1"
   ]
  },
  {
   "cell_type": "code",
   "execution_count": 19,
   "metadata": {},
   "outputs": [
    {
     "data": {
      "image/png": "[encoded data removed]",
      "text/plain": [
       "<Figure size 1440x720 with 1 Axes>"
      ]
     },
     "metadata": {},
     "output_type": "display_data"
    }
   ],
   "source": [
    "plt.rcParams['figure.figsize'] = [20, 10]\n",
    "ax = sns.countplot('sex', hue = 'product_category_1', data = df);\n",
    "ax.set(title = \"Product_Category_1 Bargraph with respect to Gender\", xlabel = \"Gender\", ylabel = \"Count\");"
   ]
  },
  {
   "cell_type": "code",
   "execution_count": 20,
   "metadata": {},
   "outputs": [],
   "source": [
    "## High transaction count is observed for product_cateogory_1 =  1, 5 and 8 across all genders\n",
    "## For Female, count is highest Product Category 5 whereas for Male count is highest for product_cateogory_1 = 1"
   ]
  },
  {
   "cell_type": "markdown",
   "metadata": {},
   "source": [
    "## Distribution of All Product Categories"
   ]
  },
  {
   "cell_type": "code",
   "execution_count": 21,
   "metadata": {},
   "outputs": [
    {
     "data": {
      "image/png": "[encoded data removed]",
      "text/plain": [
       "<Figure size 1080x360 with 3 Axes>"
      ]
     },
     "metadata": {},
     "output_type": "display_data"
    }
   ],
   "source": [
    "\n",
    "plt.rcParams['figure.figsize'] = (15, 5)\n",
    "\n",
    "plt.subplot(131)\n",
    "sns.countplot(df['product_category_1'], palette = 'dark')\n",
    "plt.title('Distribution of different products across customers', fontsize = 20)\n",
    "plt.xlabel('Distribution of Product Category 1')\n",
    "plt.ylabel('Count')\n",
    "\n",
    "plt.subplot(132)\n",
    "sns.countplot(df['product_category_2'], palette = 'dark')\n",
    "\n",
    "plt.xlabel('Distribution of Product Category 2')\n",
    "plt.ylabel('Count')\n",
    "\n",
    "plt.subplot(133)\n",
    "sns.countplot(df['product_category_3'], palette = 'dark')\n",
    "plt.xlabel('Distribution of Product Category 3')\n",
    "plt.ylabel('Count')\n",
    "\n",
    "\n",
    "plt.show()"
   ]
  },
  {
   "cell_type": "markdown",
   "metadata": {},
   "source": [
    "## Pre-Processing"
   ]
  },
  {
   "cell_type": "code",
   "execution_count": 22,
   "metadata": {},
   "outputs": [],
   "source": [
    "## Handling missing values"
   ]
  },
  {
   "cell_type": "code",
   "execution_count": 23,
   "metadata": {},
   "outputs": [
    {
     "name": "stdout",
     "output_type": "stream",
     "text": [
      "{'0-17': 4.0, '18-25': 8.0, '26-35': 8.0, '36-45': 8.0, '46-50': 8.0, '51-55': 8.0, '55+': 8.0}\n",
      "{'0-17': 16.0, '18-25': 16.0, '26-35': 16.0, '36-45': 16.0, '46-50': 16.0, '51-55': 16.0, '55+': 16.0}\n"
     ]
    }
   ],
   "source": [
    "# Most Used product according to the age group in the given data\n",
    "prod_2 = df.groupby('age_group')['product_category_2'].agg(lambda x:x.value_counts().index[0])\n",
    "prod_2 = dict(prod_2)\n",
    "print (prod_2)\n",
    "\n",
    "prod_3 = df.groupby('age_group')['product_category_3'].agg(lambda x:x.value_counts().index[0])\n",
    "prod_3 = dict(prod_3)\n",
    "print (prod_3)"
   ]
  },
  {
   "cell_type": "markdown",
   "metadata": {},
   "source": [
    "---  Filling the null values of the product category 2, could be done based on the values identified above, for this session, fillna is used \n",
    "for i in range(len(df)):\n",
    "    if np.isnan(df.iloc[i, 9]) == True:\n",
    "        key = df.iloc[i, 3]\n",
    "        df.iloc[i, 9] = prod_2[key]"
   ]
  },
  {
   "cell_type": "code",
   "execution_count": 24,
   "metadata": {},
   "outputs": [
    {
     "name": "stdout",
     "output_type": "stream",
     "text": [
      "Null values present : \n"
     ]
    },
    {
     "data": {
      "text/plain": [
       "customer_id                     0\n",
       "product_id                      0\n",
       "sex                             0\n",
       "age_group                       0\n",
       "job_code                        0\n",
       "city                            0\n",
       "living_in_current_city_since    0\n",
       "married                         0\n",
       "product_category_1              0\n",
       "product_category_2              0\n",
       "product_category_3              0\n",
       "Total_Purchase_Amount           0\n",
       "dtype: int64"
      ]
     },
     "execution_count": 24,
     "metadata": {},
     "output_type": "execute_result"
    }
   ],
   "source": [
    "# Since the most used product in product category 3 for all age group is 16.0 , using fillna for imputation\n",
    "\n",
    "df.product_category_3.fillna (value = 16.0, inplace = True)\n",
    "\n",
    "# Since the most used product in product category 2 for all age group is 8.0 , except for one, using fillna for this feature as well\n",
    "df.product_category_2.fillna (value = 8.0, inplace = True)\n",
    "        \n",
    "df['product_category_2'] = df['product_category_2'].astype(int)\n",
    "df['product_category_3'] = df['product_category_3'].astype(int)\n",
    "\n",
    "print (\"Null values present : \")\n",
    "df.isna().sum(axis = 0)"
   ]
  },
  {
   "cell_type": "code",
   "execution_count": 25,
   "metadata": {},
   "outputs": [
    {
     "name": "stdout",
     "output_type": "stream",
     "text": [
      "<class 'pandas.core.frame.DataFrame'>\n",
      "RangeIndex: 537577 entries, 0 to 537576\n",
      "Data columns (total 12 columns):\n",
      " #   Column                        Non-Null Count   Dtype  \n",
      "---  ------                        --------------   -----  \n",
      " 0   customer_id                   537577 non-null  int64  \n",
      " 1   product_id                    537577 non-null  object \n",
      " 2   sex                           537577 non-null  object \n",
      " 3   age_group                     537577 non-null  object \n",
      " 4   job_code                      537577 non-null  int64  \n",
      " 5   city                          537577 non-null  object \n",
      " 6   living_in_current_city_since  537577 non-null  object \n",
      " 7   married                       537577 non-null  int64  \n",
      " 8   product_category_1            537577 non-null  int64  \n",
      " 9   product_category_2            537577 non-null  int32  \n",
      " 10  product_category_3            537577 non-null  int32  \n",
      " 11  Total_Purchase_Amount         537577 non-null  float64\n",
      "dtypes: float64(1), int32(2), int64(4), object(5)\n",
      "memory usage: 45.1+ MB\n"
     ]
    }
   ],
   "source": [
    "df.info()"
   ]
  },
  {
   "cell_type": "markdown",
   "metadata": {},
   "source": [
    "## Feature Engineering "
   ]
  },
  {
   "cell_type": "markdown",
   "metadata": {},
   "source": [
    "## Step 1 - Encoding of Features"
   ]
  },
  {
   "cell_type": "code",
   "execution_count": 26,
   "metadata": {},
   "outputs": [],
   "source": [
    "## Ordinal Encoding for age_group feature\n",
    "\n",
    "age_dict = {'0-17':0, '18-25':1, '26-35':2, '36-45':3, '46-50':4, '56+ ': 5, '50-55':6}\n",
    "df[\"age_group\"] =df[\"age_group\"].apply(lambda x: age_dict[x])"
   ]
  },
  {
   "cell_type": "code",
   "execution_count": 27,
   "metadata": {},
   "outputs": [
    {
     "data": {
      "text/plain": [
       "1    405380\n",
       "0    132197\n",
       "Name: sex, dtype: int64"
      ]
     },
     "execution_count": 27,
     "metadata": {},
     "output_type": "execute_result"
    }
   ],
   "source": [
    "#Turn sex binary\n",
    "sex_dict = {\"F\":0, \"M\":1}\n",
    "df[\"sex\"] = df[\"sex\"].apply(lambda line: sex_dict[line])\n",
    "df[\"sex\"].value_counts()"
   ]
  },
  {
   "cell_type": "code",
   "execution_count": 28,
   "metadata": {},
   "outputs": [],
   "source": [
    "## Encoding based on total count of values under each label category\n",
    "city_dict = {\"Delhi\":0, \"Chennai\":1, \"Mumbai\":2}\n",
    "df[\"city\"] = df[\"city\"].apply(lambda line: city_dict[line])\n"
   ]
  },
  {
   "cell_type": "code",
   "execution_count": 29,
   "metadata": {},
   "outputs": [],
   "source": [
    "## using label encoder for 'living_in_current_city_since' and 'sex'\n",
    "## converting customer_id and product_id as string so that they are not considered as numeric just because these features have values as numbers"
   ]
  },
  {
   "cell_type": "code",
   "execution_count": 30,
   "metadata": {},
   "outputs": [],
   "source": [
    "from sklearn.preprocessing import LabelEncoder\n",
    "\n",
    "df['customer_id']= df['customer_id'].astype(str)\n",
    "df['product_id']= df['product_id'].astype(str)\n",
    "\n",
    "columns_list = [\"customer_id\", \"product_id\",'living_in_current_city_since', 'sex']\n",
    "for var in columns_list:\n",
    "    LE = LabelEncoder()\n",
    "    df[var] = LE.fit_transform( df[var])\n",
    "\n",
    "df['customer_id']= df['customer_id'].astype(str)\n",
    "df['product_id']= df['product_id'].astype(str)"
   ]
  },
  {
   "cell_type": "code",
   "execution_count": 31,
   "metadata": {},
   "outputs": [],
   "source": [
    "    \n",
    "#Dummy Variables:\n",
    "df = pd.get_dummies(df, columns=['living_in_current_city_since'], drop_first=True)"
   ]
  },
  {
   "cell_type": "code",
   "execution_count": 32,
   "metadata": {},
   "outputs": [
    {
     "name": "stdout",
     "output_type": "stream",
     "text": [
      "<class 'pandas.core.frame.DataFrame'>\n",
      "RangeIndex: 537577 entries, 0 to 537576\n",
      "Data columns (total 15 columns):\n",
      " #   Column                          Non-Null Count   Dtype  \n",
      "---  ------                          --------------   -----  \n",
      " 0   customer_id                     537577 non-null  object \n",
      " 1   product_id                      537577 non-null  object \n",
      " 2   sex                             537577 non-null  int64  \n",
      " 3   age_group                       537577 non-null  int64  \n",
      " 4   job_code                        537577 non-null  int64  \n",
      " 5   city                            537577 non-null  int64  \n",
      " 6   married                         537577 non-null  int64  \n",
      " 7   product_category_1              537577 non-null  int64  \n",
      " 8   product_category_2              537577 non-null  int32  \n",
      " 9   product_category_3              537577 non-null  int32  \n",
      " 10  Total_Purchase_Amount           537577 non-null  float64\n",
      " 11  living_in_current_city_since_1  537577 non-null  uint8  \n",
      " 12  living_in_current_city_since_2  537577 non-null  uint8  \n",
      " 13  living_in_current_city_since_3  537577 non-null  uint8  \n",
      " 14  living_in_current_city_since_4  537577 non-null  uint8  \n",
      "dtypes: float64(1), int32(2), int64(6), object(2), uint8(4)\n",
      "memory usage: 43.1+ MB\n"
     ]
    }
   ],
   "source": [
    "df.info()"
   ]
  },
  {
   "cell_type": "code",
   "execution_count": 33,
   "metadata": {},
   "outputs": [],
   "source": [
    "## Train Test Split"
   ]
  },
  {
   "cell_type": "code",
   "execution_count": 34,
   "metadata": {},
   "outputs": [],
   "source": [
    "# Copy all the predictor variables into X dataframe\n",
    "X = df.drop('Total_Purchase_Amount', axis=1)\n",
    "\n",
    "# Copy target into the y dataframe. \n",
    "y = df[['Total_Purchase_Amount']]"
   ]
  },
  {
   "cell_type": "code",
   "execution_count": 35,
   "metadata": {},
   "outputs": [],
   "source": [
    "# Split X and y into training and test set in 75:25 ratio\n",
    "from sklearn.model_selection import train_test_split\n",
    "X_train, X_test, y_train, y_test = train_test_split(X, y, test_size=0.25 , random_state=1)"
   ]
  },
  {
   "cell_type": "code",
   "execution_count": 36,
   "metadata": {},
   "outputs": [],
   "source": [
    "from sklearn.tree import DecisionTreeRegressor"
   ]
  },
  {
   "cell_type": "code",
   "execution_count": 37,
   "metadata": {},
   "outputs": [],
   "source": [
    "Decision_model = DecisionTreeRegressor()\n",
    "Decision_model.fit(X_train,y_train)\n",
    "# Training Data Class Prediction with a cut-off value of 0.5\n",
    "pred_class_train = Decision_model.predict(X_train)\n",
    "\n",
    "# Test Data Class Prediction with a cut-off value of 0.5\n",
    "pred_class_test =Decision_model.predict(X_test)\n"
   ]
  },
  {
   "cell_type": "code",
   "execution_count": 38,
   "metadata": {},
   "outputs": [
    {
     "name": "stdout",
     "output_type": "stream",
     "text": [
      "RMSE Error: 5040.756611010093\n",
      "R2 Score: 0.4220134772928551\n"
     ]
    }
   ],
   "source": [
    "from sklearn.metrics import mean_squared_error, r2_score\n",
    "mse = mean_squared_error(y_test, pred_class_test)\n",
    "print(\"RMSE Error:\", np.sqrt(mse))\n",
    "r2 = r2_score(y_test, pred_class_test)\n",
    "print(\"R2 Score:\", r2)\n"
   ]
  },
  {
   "cell_type": "code",
   "execution_count": 39,
   "metadata": {},
   "outputs": [
    {
     "data": {
      "text/plain": [
       "array([0.11570507, 0.08661324, 0.00890653, 0.02939766, 0.04904134,\n",
       "       0.01190184, 0.01117013, 0.62837632, 0.01399828, 0.01012748,\n",
       "       0.0099608 , 0.00838361, 0.00864366, 0.00777403])"
      ]
     },
     "execution_count": 39,
     "metadata": {},
     "output_type": "execute_result"
    }
   ],
   "source": [
    "importance = Decision_model.feature_importances_\n",
    "importance"
   ]
  },
  {
   "cell_type": "code",
   "execution_count": 40,
   "metadata": {},
   "outputs": [
    {
     "data": {
      "text/plain": [
       "<AxesSubplot:>"
      ]
     },
     "execution_count": 40,
     "metadata": {},
     "output_type": "execute_result"
    },
    {
     "data": {
      "image/png": "[encoded data removed]",
      "text/plain": [
       "<Figure size 1080x360 with 1 Axes>"
      ]
     },
     "metadata": {},
     "output_type": "display_data"
    }
   ],
   "source": [
    "(pd.Series(importance, index=X.columns)\n",
    "   .nlargest(15)\n",
    "   .plot(kind='barh'))  "
   ]
  },
  {
   "cell_type": "code",
   "execution_count": 41,
   "metadata": {},
   "outputs": [],
   "source": [
    "## Product Category 1 is the most significant feature.. New features should be generated for this feature to understand the impact on model performance"
   ]
  },
  {
   "cell_type": "code",
   "execution_count": 42,
   "metadata": {},
   "outputs": [],
   "source": [
    "## Before generation of new features.. Let's build another model using advanced algorithms like gradient boosting.. To see \n",
    "## how boosting has helped to improve the performance "
   ]
  },
  {
   "cell_type": "code",
   "execution_count": 43,
   "metadata": {},
   "outputs": [],
   "source": [
    "from sklearn.ensemble import GradientBoostingRegressor\n",
    "\n",
    "from math import *\n",
    "\n",
    "model = GradientBoostingRegressor(n_estimators = 100, \n",
    "                                  max_depth = 5,\n",
    "                                  min_samples_split = 2,\n",
    "                                  learning_rate = 0.1)\n",
    "model.fit(X_train, y_train)\n",
    "\n",
    "y_pred = model.predict(X_test)"
   ]
  },
  {
   "cell_type": "code",
   "execution_count": 44,
   "metadata": {},
   "outputs": [
    {
     "name": "stdout",
     "output_type": "stream",
     "text": [
      "RMSE Error: 3742.196105625423\n",
      "R2 Score: 0.6814487306229982\n"
     ]
    }
   ],
   "source": [
    "\n",
    "# finding the mean_squared error\n",
    "mse = mean_squared_error(y_test, y_pred)\n",
    "print(\"RMSE Error:\", np.sqrt(mse))\n",
    "\n",
    "# finding the r2 score or the variance\n",
    "r2 = r2_score(y_test, y_pred)\n",
    "print(\"R2 Score:\", r2)"
   ]
  },
  {
   "cell_type": "code",
   "execution_count": 45,
   "metadata": {},
   "outputs": [],
   "source": [
    "## This model is better than the Decision Tree Regressor..\n",
    "\n",
    "## We should try to use some other algorithms like linear regression including regularisation technique to compare the model performance\n",
    "## before generation of any new feature"
   ]
  },
  {
   "cell_type": "markdown",
   "metadata": {},
   "source": [
    "## Step 2 - New Features"
   ]
  },
  {
   "cell_type": "code",
   "execution_count": 46,
   "metadata": {},
   "outputs": [],
   "source": [
    "## We could apply the Feature enginnering on the original data set and then split it into train and test\n",
    "## However for the session to ensure that performance is being measured on the same set of rows , feature engiinering is applied in the train \n",
    "## and then the same object is used to do a fit on the test split data frame"
   ]
  },
  {
   "cell_type": "code",
   "execution_count": 47,
   "metadata": {},
   "outputs": [],
   "source": [
    "## Full Test and Train\n",
    "\n",
    "full_train_data = X_train.copy()\n",
    "full_train_data['Total_Purchase_Amount']= y_train\n",
    "\n",
    "full_test_data = X_test.copy()\n",
    "full_test_data['Total_Purchase_Amount']= y_test"
   ]
  },
  {
   "cell_type": "code",
   "execution_count": 48,
   "metadata": {},
   "outputs": [],
   "source": [
    "## As we have multiple records for a customer id.. let's calculate the mean value for each customer and include that as a feature\n",
    "## Similarly mean value of the total purchase amount based on each product id"
   ]
  },
  {
   "cell_type": "code",
   "execution_count": 49,
   "metadata": {},
   "outputs": [],
   "source": [
    "X_train[\"customer_id_MeanPrice\"] = full_train_data.groupby(['customer_id'])['Total_Purchase_Amount'].transform('mean')\n",
    "userID_mean_dict = full_train_data.groupby(['customer_id'])['Total_Purchase_Amount'].mean().to_dict()\n",
    "X_test['customer_id_MeanPrice'] = full_test_data['customer_id'].apply(lambda x:userID_mean_dict.get(x,0))\n",
    "\n",
    "X_train[\"product_id_MeanPrice\"] = full_train_data.groupby(['product_id'])['Total_Purchase_Amount'].transform('mean')\n",
    "productID_mean_dict = full_train_data.groupby(['product_id'])['Total_Purchase_Amount'].mean().to_dict()\n",
    "X_test['product_id_MeanPrice'] = full_test_data['product_id'].apply(lambda x:productID_mean_dict.get(x,0))"
   ]
  },
  {
   "cell_type": "code",
   "execution_count": 50,
   "metadata": {},
   "outputs": [
    {
     "name": "stdout",
     "output_type": "stream",
     "text": [
      "<class 'pandas.core.frame.DataFrame'>\n",
      "Int64Index: 403182 entries, 464186 to 128037\n",
      "Data columns (total 16 columns):\n",
      " #   Column                          Non-Null Count   Dtype  \n",
      "---  ------                          --------------   -----  \n",
      " 0   customer_id                     403182 non-null  object \n",
      " 1   product_id                      403182 non-null  object \n",
      " 2   sex                             403182 non-null  int64  \n",
      " 3   age_group                       403182 non-null  int64  \n",
      " 4   job_code                        403182 non-null  int64  \n",
      " 5   city                            403182 non-null  int64  \n",
      " 6   married                         403182 non-null  int64  \n",
      " 7   product_category_1              403182 non-null  int64  \n",
      " 8   product_category_2              403182 non-null  int32  \n",
      " 9   product_category_3              403182 non-null  int32  \n",
      " 10  living_in_current_city_since_1  403182 non-null  uint8  \n",
      " 11  living_in_current_city_since_2  403182 non-null  uint8  \n",
      " 12  living_in_current_city_since_3  403182 non-null  uint8  \n",
      " 13  living_in_current_city_since_4  403182 non-null  uint8  \n",
      " 14  customer_id_MeanPrice           403182 non-null  float64\n",
      " 15  product_id_MeanPrice            403182 non-null  float64\n",
      "dtypes: float64(2), int32(2), int64(6), object(2), uint8(4)\n",
      "memory usage: 38.5+ MB\n"
     ]
    }
   ],
   "source": [
    "X_train.info()"
   ]
  },
  {
   "cell_type": "code",
   "execution_count": 51,
   "metadata": {},
   "outputs": [
    {
     "name": "stdout",
     "output_type": "stream",
     "text": [
      "<class 'pandas.core.frame.DataFrame'>\n",
      "Int64Index: 134395 entries, 94689 to 386316\n",
      "Data columns (total 16 columns):\n",
      " #   Column                          Non-Null Count   Dtype  \n",
      "---  ------                          --------------   -----  \n",
      " 0   customer_id                     134395 non-null  object \n",
      " 1   product_id                      134395 non-null  object \n",
      " 2   sex                             134395 non-null  int64  \n",
      " 3   age_group                       134395 non-null  int64  \n",
      " 4   job_code                        134395 non-null  int64  \n",
      " 5   city                            134395 non-null  int64  \n",
      " 6   married                         134395 non-null  int64  \n",
      " 7   product_category_1              134395 non-null  int64  \n",
      " 8   product_category_2              134395 non-null  int32  \n",
      " 9   product_category_3              134395 non-null  int32  \n",
      " 10  living_in_current_city_since_1  134395 non-null  uint8  \n",
      " 11  living_in_current_city_since_2  134395 non-null  uint8  \n",
      " 12  living_in_current_city_since_3  134395 non-null  uint8  \n",
      " 13  living_in_current_city_since_4  134395 non-null  uint8  \n",
      " 14  customer_id_MeanPrice           134395 non-null  float64\n",
      " 15  product_id_MeanPrice            134395 non-null  float64\n",
      "dtypes: float64(2), int32(2), int64(6), object(2), uint8(4)\n",
      "memory usage: 12.8+ MB\n"
     ]
    }
   ],
   "source": [
    "X_test.info()"
   ]
  },
  {
   "cell_type": "code",
   "execution_count": 52,
   "metadata": {},
   "outputs": [],
   "source": [
    "Decision_model_2 = DecisionTreeRegressor()\n",
    "Decision_model_2.fit(X_train,y_train)\n",
    "# Training Data Class Prediction with a cut-off value of 0.5\n",
    "pred_class_train = Decision_model_2.predict(X_train)\n",
    "\n",
    "# Test Data Class Prediction with a cut-off value of 0.5\n",
    "pred_class_test =Decision_model_2.predict(X_test)\n"
   ]
  },
  {
   "cell_type": "code",
   "execution_count": 53,
   "metadata": {},
   "outputs": [
    {
     "name": "stdout",
     "output_type": "stream",
     "text": [
      "RMSE Error: 4763.004776946169\n",
      "R2 Score: 0.4839541507444465\n"
     ]
    }
   ],
   "source": [
    "mse = mean_squared_error(y_test, pred_class_test)\n",
    "print(\"RMSE Error:\", np.sqrt(mse))\n",
    "r2 = r2_score(y_test, pred_class_test)\n",
    "print(\"R2 Score:\", r2)"
   ]
  },
  {
   "cell_type": "code",
   "execution_count": 54,
   "metadata": {},
   "outputs": [
    {
     "data": {
      "text/plain": [
       "array([0.04269468, 0.03496687, 0.00366011, 0.01440962, 0.02150015,\n",
       "       0.00827817, 0.00495498, 0.00951632, 0.01475397, 0.00939437,\n",
       "       0.00463682, 0.00390341, 0.00371361, 0.00354349, 0.06882578,\n",
       "       0.75124765])"
      ]
     },
     "execution_count": 54,
     "metadata": {},
     "output_type": "execute_result"
    }
   ],
   "source": [
    "importance = Decision_model_2.feature_importances_\n",
    "importance"
   ]
  },
  {
   "cell_type": "code",
   "execution_count": 55,
   "metadata": {},
   "outputs": [
    {
     "data": {
      "text/plain": [
       "<AxesSubplot:>"
      ]
     },
     "execution_count": 55,
     "metadata": {},
     "output_type": "execute_result"
    },
    {
     "data": {
      "image/png": "[encoded data removed]",
      "text/plain": [
       "<Figure size 1080x360 with 1 Axes>"
      ]
     },
     "metadata": {},
     "output_type": "display_data"
    }
   ],
   "source": [
    "(pd.Series(importance, index=X_train.columns)\n",
    "   .nlargest(16)\n",
    "   .plot(kind='barh'))  "
   ]
  },
  {
   "cell_type": "code",
   "execution_count": 56,
   "metadata": {},
   "outputs": [],
   "source": [
    "## Both the new created featues are significant..R2 and RMSE has improved in comparison to earlier model"
   ]
  },
  {
   "cell_type": "code",
   "execution_count": 57,
   "metadata": {},
   "outputs": [],
   "source": [
    "## Let's create features with max and min value of the total purchase amount grouped by customer id and product id as \n",
    "## the earlier created features were significant"
   ]
  },
  {
   "cell_type": "code",
   "execution_count": 58,
   "metadata": {},
   "outputs": [],
   "source": [
    "X_train[\"customer_id_MaxPrice\"] = full_train_data.groupby(['customer_id'])['Total_Purchase_Amount'].transform('max')\n",
    "userID_max_dict = full_train_data.groupby(['customer_id'])['Total_Purchase_Amount'].max().to_dict()\n",
    "X_test['customer_id_MaxPrice'] = full_test_data['customer_id'].apply(lambda x:userID_max_dict.get(x,0))\n",
    "\n",
    "X_train[\"customer_id_MinPrice\"] = full_train_data.groupby(['customer_id'])['Total_Purchase_Amount'].transform('min')\n",
    "userID_min_dict = full_train_data.groupby(['customer_id'])['Total_Purchase_Amount'].min().to_dict()\n",
    "X_test['customer_id_MinPrice'] = full_test_data['customer_id'].apply(lambda x:userID_min_dict.get(x,0))\n",
    "\n",
    "X_train[\"product_id_MaxPrice\"] = full_train_data.groupby(['product_id'])['Total_Purchase_Amount'].transform('max') \n",
    "productID_max_dict = full_train_data.groupby(['product_id'])['Total_Purchase_Amount'].max().to_dict() \n",
    "X_test['product_id_MaxPrice'] = full_test_data['product_id'].apply(lambda x:productID_max_dict.get(x,0))\n",
    "\n",
    "X_train[\"product_id_MinPrice\"] = full_train_data.groupby(['product_id'])['Total_Purchase_Amount'].transform('min')\n",
    "productID_min_dict = full_train_data.groupby(['product_id'])['Total_Purchase_Amount'].min().to_dict()\n",
    "X_test['product_id_MinPrice'] = full_test_data['product_id'].apply(lambda x:productID_min_dict.get(x,0))"
   ]
  },
  {
   "cell_type": "code",
   "execution_count": 59,
   "metadata": {},
   "outputs": [
    {
     "name": "stdout",
     "output_type": "stream",
     "text": [
      "<class 'pandas.core.frame.DataFrame'>\n",
      "Int64Index: 403182 entries, 464186 to 128037\n",
      "Data columns (total 20 columns):\n",
      " #   Column                          Non-Null Count   Dtype  \n",
      "---  ------                          --------------   -----  \n",
      " 0   customer_id                     403182 non-null  object \n",
      " 1   product_id                      403182 non-null  object \n",
      " 2   sex                             403182 non-null  int64  \n",
      " 3   age_group                       403182 non-null  int64  \n",
      " 4   job_code                        403182 non-null  int64  \n",
      " 5   city                            403182 non-null  int64  \n",
      " 6   married                         403182 non-null  int64  \n",
      " 7   product_category_1              403182 non-null  int64  \n",
      " 8   product_category_2              403182 non-null  int32  \n",
      " 9   product_category_3              403182 non-null  int32  \n",
      " 10  living_in_current_city_since_1  403182 non-null  uint8  \n",
      " 11  living_in_current_city_since_2  403182 non-null  uint8  \n",
      " 12  living_in_current_city_since_3  403182 non-null  uint8  \n",
      " 13  living_in_current_city_since_4  403182 non-null  uint8  \n",
      " 14  customer_id_MeanPrice           403182 non-null  float64\n",
      " 15  product_id_MeanPrice            403182 non-null  float64\n",
      " 16  customer_id_MaxPrice            403182 non-null  float64\n",
      " 17  customer_id_MinPrice            403182 non-null  float64\n",
      " 18  product_id_MaxPrice             403182 non-null  float64\n",
      " 19  product_id_MinPrice             403182 non-null  float64\n",
      "dtypes: float64(6), int32(2), int64(6), object(2), uint8(4)\n",
      "memory usage: 50.8+ MB\n"
     ]
    }
   ],
   "source": [
    "X_train.info()"
   ]
  },
  {
   "cell_type": "code",
   "execution_count": 60,
   "metadata": {},
   "outputs": [
    {
     "name": "stdout",
     "output_type": "stream",
     "text": [
      "<class 'pandas.core.frame.DataFrame'>\n",
      "Int64Index: 134395 entries, 94689 to 386316\n",
      "Data columns (total 20 columns):\n",
      " #   Column                          Non-Null Count   Dtype  \n",
      "---  ------                          --------------   -----  \n",
      " 0   customer_id                     134395 non-null  object \n",
      " 1   product_id                      134395 non-null  object \n",
      " 2   sex                             134395 non-null  int64  \n",
      " 3   age_group                       134395 non-null  int64  \n",
      " 4   job_code                        134395 non-null  int64  \n",
      " 5   city                            134395 non-null  int64  \n",
      " 6   married                         134395 non-null  int64  \n",
      " 7   product_category_1              134395 non-null  int64  \n",
      " 8   product_category_2              134395 non-null  int32  \n",
      " 9   product_category_3              134395 non-null  int32  \n",
      " 10  living_in_current_city_since_1  134395 non-null  uint8  \n",
      " 11  living_in_current_city_since_2  134395 non-null  uint8  \n",
      " 12  living_in_current_city_since_3  134395 non-null  uint8  \n",
      " 13  living_in_current_city_since_4  134395 non-null  uint8  \n",
      " 14  customer_id_MeanPrice           134395 non-null  float64\n",
      " 15  product_id_MeanPrice            134395 non-null  float64\n",
      " 16  customer_id_MaxPrice            134395 non-null  float64\n",
      " 17  customer_id_MinPrice            134395 non-null  float64\n",
      " 18  product_id_MaxPrice             134395 non-null  float64\n",
      " 19  product_id_MinPrice             134395 non-null  float64\n",
      "dtypes: float64(6), int32(2), int64(6), object(2), uint8(4)\n",
      "memory usage: 16.9+ MB\n"
     ]
    }
   ],
   "source": [
    "X_test.info()"
   ]
  },
  {
   "cell_type": "code",
   "execution_count": 61,
   "metadata": {},
   "outputs": [],
   "source": [
    "Decision_model_3 = DecisionTreeRegressor()\n",
    "Decision_model_3.fit(X_train,y_train)\n",
    "# Training Data Class Prediction with a cut-off value of 0.5\n",
    "pred_class_train = Decision_model_3.predict(X_train)\n",
    "\n",
    "# Test Data Class Prediction with a cut-off value of 0.5\n",
    "pred_class_test =Decision_model_3.predict(X_test)"
   ]
  },
  {
   "cell_type": "code",
   "execution_count": 62,
   "metadata": {},
   "outputs": [
    {
     "name": "stdout",
     "output_type": "stream",
     "text": [
      "RMSE Error: 4755.378650519359\n",
      "R2 Score: 0.48560532706299797\n"
     ]
    }
   ],
   "source": [
    "mse = mean_squared_error(y_test, pred_class_test)\n",
    "print(\"RMSE Error:\", np.sqrt(mse))\n",
    "r2 = r2_score(y_test, pred_class_test)\n",
    "print(\"R2 Score:\", r2)"
   ]
  },
  {
   "cell_type": "code",
   "execution_count": 63,
   "metadata": {},
   "outputs": [
    {
     "data": {
      "text/plain": [
       "<AxesSubplot:>"
      ]
     },
     "execution_count": 63,
     "metadata": {},
     "output_type": "execute_result"
    },
    {
     "data": {
      "image/png": "[encoded data removed]",
      "text/plain": [
       "<Figure size 1080x360 with 1 Axes>"
      ]
     },
     "metadata": {},
     "output_type": "display_data"
    }
   ],
   "source": [
    "importance = Decision_model_3.feature_importances_\n",
    "importance\n",
    "(pd.Series(importance, index=X_train.columns)\n",
    "   .nlargest(19)\n",
    "   .plot(kind='barh'))  "
   ]
  },
  {
   "cell_type": "code",
   "execution_count": 64,
   "metadata": {},
   "outputs": [],
   "source": [
    "## Marginal improvement in R2 and RMSE.. Newly created features are significant"
   ]
  },
  {
   "cell_type": "code",
   "execution_count": 65,
   "metadata": {},
   "outputs": [],
   "source": [
    "## As Product Category 1 was the most significant feature in the orginal dataset, lets create new feature using max, min and mean value for Total pourchase amount\n",
    "## For all categorical features, count is done for each level/category and the same is added as a new feature"
   ]
  },
  {
   "cell_type": "code",
   "execution_count": 66,
   "metadata": {},
   "outputs": [],
   "source": [
    "X_train[\"Product_Cat1_MaxPrice\"] = full_train_data.groupby(['product_category_1'])['Total_Purchase_Amount'].transform('max')\n",
    "pc1_max_dict = full_train_data.groupby(['product_category_1'])['Total_Purchase_Amount'].max().to_dict() \n",
    "X_test['Product_Cat1_MaxPrice'] = full_test_data['product_category_1'].apply(lambda x:pc1_max_dict.get(x,0))\n",
    "\n",
    "X_train[\"Product_Cat1_MinPrice\"] = full_train_data.groupby(['product_category_1'])['Total_Purchase_Amount'].transform('min') \n",
    "pc1_min_dict = full_train_data.groupby(['product_category_1'])['Total_Purchase_Amount'].min().to_dict() \n",
    "X_test['Product_Cat1_MinPrice'] = full_test_data['product_category_1'].apply(lambda x:pc1_min_dict.get(x,0))\n",
    "\n",
    "X_train[\"Product_Cat1_MeanPrice\"] = full_train_data.groupby(['product_category_1'])['Total_Purchase_Amount'].transform('mean') \n",
    "pc1_mean_dict = full_train_data.groupby(['product_category_1'])['Total_Purchase_Amount'].mean().to_dict() \n",
    "X_test['Product_Cat1_MeanPrice'] = full_test_data['product_category_1'].apply(lambda x:pc1_mean_dict.get(x,0))\n",
    "\n",
    "\n",
    "X_train[\"customer_id_Count\"] = full_train_data.groupby(['customer_id'])['customer_id'].transform('count')\n",
    "customerid_count_dict = full_train_data.groupby(['customer_id']).size().to_dict()\n",
    "X_test[' customer_id_Count'] = full_test_data['customer_id'].apply(lambda x:customerid_count_dict.get(x,0))\n",
    " \n",
    "X_train[\"Product_ID_Count\"] = full_train_data.groupby(['product_id'])['product_id'].transform('count')\n",
    "productID_count_dict = full_train_data.groupby(['product_id']).size().to_dict()\n",
    "X_test['Product_ID_Count'] = full_test_data['product_id'].apply(lambda x:productID_count_dict.get(x,0))\n",
    "\n",
    "\n",
    "X_train[\"Age_Group_Count\"] = full_train_data.groupby(['age_group'])['age_group'].transform('count')\n",
    "age_count_dict = full_train_data.groupby(['age_group']).size().to_dict()\n",
    "X_test['Age_Group_Count'] = full_test_data['age_group'].apply(lambda x:age_count_dict.get(x,0))\n",
    " \n",
    "X_train[\"job_code_Count\"] = full_train_data.groupby(['job_code'])['job_code'].transform('count')\n",
    "occupation_count_dict = full_train_data.groupby(['job_code']).size().to_dict()\n",
    "X_test['job_code_Count'] = full_test_data['job_code'].apply(lambda x:occupation_count_dict.get(x,0))\n",
    " \n",
    "X_train[\"Product_Category_2_Count\"] = full_train_data.groupby(['product_category_2'])['product_category_2'].transform('count')\n",
    "pc2_count_dict = full_train_data.groupby(['product_category_2']).size().to_dict()\n",
    "X_test['Product_Category_2_Count'] = full_test_data['product_category_2'].apply(lambda x:pc2_count_dict.get(x,0))\n",
    " \n",
    "X_train[\"Product_Category_3_Count\"] = full_train_data.groupby(['product_category_3'])['product_category_3'].transform('count')\n",
    "pc3_count_dict = full_train_data.groupby(['product_category_3']).size().to_dict()\n",
    "X_test['Product_Category_3_Count'] = full_test_data['product_category_3'].apply(lambda x:pc3_count_dict.get(x,0))\n",
    "\n",
    "\n",
    "X_train[\"Product_Category_1_Count\"] = full_train_data.groupby(['product_category_1'])['product_category_1'].transform('count')\n",
    "pc1_count_dict = full_train_data.groupby(['product_category_1']).size().to_dict()\n",
    "X_test['Product_Category_1_Count'] = full_test_data['product_category_1'].apply(lambda x:pc1_count_dict.get(x,0))"
   ]
  },
  {
   "cell_type": "code",
   "execution_count": 67,
   "metadata": {},
   "outputs": [
    {
     "data": {
      "text/html": [
       "<div>\n",
       "<style scoped>\n",
       "    .dataframe tbody tr th:only-of-type {\n",
       "        vertical-align: middle;\n",
       "    }\n",
       "\n",
       "    .dataframe tbody tr th {\n",
       "        vertical-align: top;\n",
       "    }\n",
       "\n",
       "    .dataframe thead th {\n",
       "        text-align: right;\n",
       "    }\n",
       "</style>\n",
       "<table border=\"1\" class=\"dataframe\">\n",
       "  <thead>\n",
       "    <tr style=\"text-align: right;\">\n",
       "      <th></th>\n",
       "      <th>customer_id</th>\n",
       "      <th>product_id</th>\n",
       "      <th>sex</th>\n",
       "      <th>age_group</th>\n",
       "      <th>job_code</th>\n",
       "      <th>city</th>\n",
       "      <th>married</th>\n",
       "      <th>product_category_1</th>\n",
       "      <th>product_category_2</th>\n",
       "      <th>product_category_3</th>\n",
       "      <th>...</th>\n",
       "      <th>Product_Cat1_MaxPrice</th>\n",
       "      <th>Product_Cat1_MinPrice</th>\n",
       "      <th>Product_Cat1_MeanPrice</th>\n",
       "      <th>customer_id_Count</th>\n",
       "      <th>Product_ID_Count</th>\n",
       "      <th>Age_Group_Count</th>\n",
       "      <th>job_code_Count</th>\n",
       "      <th>Product_Category_2_Count</th>\n",
       "      <th>Product_Category_3_Count</th>\n",
       "      <th>Product_Category_1_Count</th>\n",
       "    </tr>\n",
       "  </thead>\n",
       "  <tbody>\n",
       "    <tr>\n",
       "      <th>94689</th>\n",
       "      <td>2560</td>\n",
       "      <td>3548</td>\n",
       "      <td>1</td>\n",
       "      <td>6</td>\n",
       "      <td>1</td>\n",
       "      <td>0</td>\n",
       "      <td>1</td>\n",
       "      <td>8</td>\n",
       "      <td>8</td>\n",
       "      <td>16</td>\n",
       "      <td>...</td>\n",
       "      <td>13442.66667</td>\n",
       "      <td>2585.333333</td>\n",
       "      <td>9997.491109</td>\n",
       "      <td>122</td>\n",
       "      <td>182</td>\n",
       "      <td>15691</td>\n",
       "      <td>34451</td>\n",
       "      <td>172401</td>\n",
       "      <td>303962</td>\n",
       "      <td>84221</td>\n",
       "    </tr>\n",
       "    <tr>\n",
       "      <th>107751</th>\n",
       "      <td>4447</td>\n",
       "      <td>793</td>\n",
       "      <td>0</td>\n",
       "      <td>2</td>\n",
       "      <td>9</td>\n",
       "      <td>1</td>\n",
       "      <td>1</td>\n",
       "      <td>3</td>\n",
       "      <td>4</td>\n",
       "      <td>16</td>\n",
       "      <td>...</td>\n",
       "      <td>18289.33333</td>\n",
       "      <td>3517.333333</td>\n",
       "      <td>13456.565139</td>\n",
       "      <td>49</td>\n",
       "      <td>213</td>\n",
       "      <td>160885</td>\n",
       "      <td>4599</td>\n",
       "      <td>19022</td>\n",
       "      <td>303962</td>\n",
       "      <td>14991</td>\n",
       "    </tr>\n",
       "    <tr>\n",
       "      <th>254948</th>\n",
       "      <td>3272</td>\n",
       "      <td>1994</td>\n",
       "      <td>1</td>\n",
       "      <td>5</td>\n",
       "      <td>17</td>\n",
       "      <td>1</td>\n",
       "      <td>1</td>\n",
       "      <td>5</td>\n",
       "      <td>8</td>\n",
       "      <td>18</td>\n",
       "      <td>...</td>\n",
       "      <td>11876.00000</td>\n",
       "      <td>2284.000000</td>\n",
       "      <td>8320.524427</td>\n",
       "      <td>151</td>\n",
       "      <td>238</td>\n",
       "      <td>28165</td>\n",
       "      <td>29312</td>\n",
       "      <td>172401</td>\n",
       "      <td>3441</td>\n",
       "      <td>111230</td>\n",
       "    </tr>\n",
       "    <tr>\n",
       "      <th>134132</th>\n",
       "      <td>2643</td>\n",
       "      <td>3462</td>\n",
       "      <td>1</td>\n",
       "      <td>2</td>\n",
       "      <td>12</td>\n",
       "      <td>1</td>\n",
       "      <td>0</td>\n",
       "      <td>10</td>\n",
       "      <td>13</td>\n",
       "      <td>16</td>\n",
       "      <td>...</td>\n",
       "      <td>31948.00000</td>\n",
       "      <td>6165.333333</td>\n",
       "      <td>26290.523634</td>\n",
       "      <td>48</td>\n",
       "      <td>416</td>\n",
       "      <td>160885</td>\n",
       "      <td>22732</td>\n",
       "      <td>7772</td>\n",
       "      <td>303962</td>\n",
       "      <td>3794</td>\n",
       "    </tr>\n",
       "    <tr>\n",
       "      <th>481870</th>\n",
       "      <td>2084</td>\n",
       "      <td>3077</td>\n",
       "      <td>1</td>\n",
       "      <td>1</td>\n",
       "      <td>0</td>\n",
       "      <td>1</td>\n",
       "      <td>1</td>\n",
       "      <td>1</td>\n",
       "      <td>4</td>\n",
       "      <td>16</td>\n",
       "      <td>...</td>\n",
       "      <td>26277.33333</td>\n",
       "      <td>5053.333333</td>\n",
       "      <td>18153.847766</td>\n",
       "      <td>37</td>\n",
       "      <td>59</td>\n",
       "      <td>73223</td>\n",
       "      <td>51199</td>\n",
       "      <td>19022</td>\n",
       "      <td>303962</td>\n",
       "      <td>103674</td>\n",
       "    </tr>\n",
       "  </tbody>\n",
       "</table>\n",
       "<p>5 rows × 30 columns</p>\n",
       "</div>"
      ],
      "text/plain": [
       "       customer_id product_id  sex  age_group  job_code  city  married  \\\n",
       "94689         2560       3548    1          6         1     0        1   \n",
       "107751        4447        793    0          2         9     1        1   \n",
       "254948        3272       1994    1          5        17     1        1   \n",
       "134132        2643       3462    1          2        12     1        0   \n",
       "481870        2084       3077    1          1         0     1        1   \n",
       "\n",
       "        product_category_1  product_category_2  product_category_3  ...  \\\n",
       "94689                    8                   8                  16  ...   \n",
       "107751                   3                   4                  16  ...   \n",
       "254948                   5                   8                  18  ...   \n",
       "134132                  10                  13                  16  ...   \n",
       "481870                   1                   4                  16  ...   \n",
       "\n",
       "        Product_Cat1_MaxPrice  Product_Cat1_MinPrice  Product_Cat1_MeanPrice  \\\n",
       "94689             13442.66667            2585.333333             9997.491109   \n",
       "107751            18289.33333            3517.333333            13456.565139   \n",
       "254948            11876.00000            2284.000000             8320.524427   \n",
       "134132            31948.00000            6165.333333            26290.523634   \n",
       "481870            26277.33333            5053.333333            18153.847766   \n",
       "\n",
       "         customer_id_Count  Product_ID_Count  Age_Group_Count  job_code_Count  \\\n",
       "94689                  122               182            15691           34451   \n",
       "107751                  49               213           160885            4599   \n",
       "254948                 151               238            28165           29312   \n",
       "134132                  48               416           160885           22732   \n",
       "481870                  37                59            73223           51199   \n",
       "\n",
       "        Product_Category_2_Count  Product_Category_3_Count  \\\n",
       "94689                     172401                    303962   \n",
       "107751                     19022                    303962   \n",
       "254948                    172401                      3441   \n",
       "134132                      7772                    303962   \n",
       "481870                     19022                    303962   \n",
       "\n",
       "        Product_Category_1_Count  \n",
       "94689                      84221  \n",
       "107751                     14991  \n",
       "254948                    111230  \n",
       "134132                      3794  \n",
       "481870                    103674  \n",
       "\n",
       "[5 rows x 30 columns]"
      ]
     },
     "execution_count": 67,
     "metadata": {},
     "output_type": "execute_result"
    }
   ],
   "source": [
    "X_test.head()"
   ]
  },
  {
   "cell_type": "code",
   "execution_count": 68,
   "metadata": {},
   "outputs": [
    {
     "name": "stdout",
     "output_type": "stream",
     "text": [
      "<class 'pandas.core.frame.DataFrame'>\n",
      "Int64Index: 403182 entries, 464186 to 128037\n",
      "Data columns (total 30 columns):\n",
      " #   Column                          Non-Null Count   Dtype  \n",
      "---  ------                          --------------   -----  \n",
      " 0   customer_id                     403182 non-null  object \n",
      " 1   product_id                      403182 non-null  object \n",
      " 2   sex                             403182 non-null  int64  \n",
      " 3   age_group                       403182 non-null  int64  \n",
      " 4   job_code                        403182 non-null  int64  \n",
      " 5   city                            403182 non-null  int64  \n",
      " 6   married                         403182 non-null  int64  \n",
      " 7   product_category_1              403182 non-null  int64  \n",
      " 8   product_category_2              403182 non-null  int32  \n",
      " 9   product_category_3              403182 non-null  int32  \n",
      " 10  living_in_current_city_since_1  403182 non-null  uint8  \n",
      " 11  living_in_current_city_since_2  403182 non-null  uint8  \n",
      " 12  living_in_current_city_since_3  403182 non-null  uint8  \n",
      " 13  living_in_current_city_since_4  403182 non-null  uint8  \n",
      " 14  customer_id_MeanPrice           403182 non-null  float64\n",
      " 15  product_id_MeanPrice            403182 non-null  float64\n",
      " 16  customer_id_MaxPrice            403182 non-null  float64\n",
      " 17  customer_id_MinPrice            403182 non-null  float64\n",
      " 18  product_id_MaxPrice             403182 non-null  float64\n",
      " 19  product_id_MinPrice             403182 non-null  float64\n",
      " 20  Product_Cat1_MaxPrice           403182 non-null  float64\n",
      " 21  Product_Cat1_MinPrice           403182 non-null  float64\n",
      " 22  Product_Cat1_MeanPrice          403182 non-null  float64\n",
      " 23  customer_id_Count               403182 non-null  int64  \n",
      " 24  Product_ID_Count                403182 non-null  int64  \n",
      " 25  Age_Group_Count                 403182 non-null  int64  \n",
      " 26  job_code_Count                  403182 non-null  int64  \n",
      " 27  Product_Category_2_Count        403182 non-null  int64  \n",
      " 28  Product_Category_3_Count        403182 non-null  int64  \n",
      " 29  Product_Category_1_Count        403182 non-null  int64  \n",
      "dtypes: float64(9), int32(2), int64(13), object(2), uint8(4)\n",
      "memory usage: 81.5+ MB\n"
     ]
    }
   ],
   "source": [
    "X_train.info()"
   ]
  },
  {
   "cell_type": "code",
   "execution_count": 69,
   "metadata": {},
   "outputs": [
    {
     "name": "stdout",
     "output_type": "stream",
     "text": [
      "<class 'pandas.core.frame.DataFrame'>\n",
      "Int64Index: 134395 entries, 94689 to 386316\n",
      "Data columns (total 30 columns):\n",
      " #   Column                          Non-Null Count   Dtype  \n",
      "---  ------                          --------------   -----  \n",
      " 0   customer_id                     134395 non-null  object \n",
      " 1   product_id                      134395 non-null  object \n",
      " 2   sex                             134395 non-null  int64  \n",
      " 3   age_group                       134395 non-null  int64  \n",
      " 4   job_code                        134395 non-null  int64  \n",
      " 5   city                            134395 non-null  int64  \n",
      " 6   married                         134395 non-null  int64  \n",
      " 7   product_category_1              134395 non-null  int64  \n",
      " 8   product_category_2              134395 non-null  int32  \n",
      " 9   product_category_3              134395 non-null  int32  \n",
      " 10  living_in_current_city_since_1  134395 non-null  uint8  \n",
      " 11  living_in_current_city_since_2  134395 non-null  uint8  \n",
      " 12  living_in_current_city_since_3  134395 non-null  uint8  \n",
      " 13  living_in_current_city_since_4  134395 non-null  uint8  \n",
      " 14  customer_id_MeanPrice           134395 non-null  float64\n",
      " 15  product_id_MeanPrice            134395 non-null  float64\n",
      " 16  customer_id_MaxPrice            134395 non-null  float64\n",
      " 17  customer_id_MinPrice            134395 non-null  float64\n",
      " 18  product_id_MaxPrice             134395 non-null  float64\n",
      " 19  product_id_MinPrice             134395 non-null  float64\n",
      " 20  Product_Cat1_MaxPrice           134395 non-null  float64\n",
      " 21  Product_Cat1_MinPrice           134395 non-null  float64\n",
      " 22  Product_Cat1_MeanPrice          134395 non-null  float64\n",
      " 23   customer_id_Count              134395 non-null  int64  \n",
      " 24  Product_ID_Count                134395 non-null  int64  \n",
      " 25  Age_Group_Count                 134395 non-null  int64  \n",
      " 26  job_code_Count                  134395 non-null  int64  \n",
      " 27  Product_Category_2_Count        134395 non-null  int64  \n",
      " 28  Product_Category_3_Count        134395 non-null  int64  \n",
      " 29  Product_Category_1_Count        134395 non-null  int64  \n",
      "dtypes: float64(9), int32(2), int64(13), object(2), uint8(4)\n",
      "memory usage: 27.2+ MB\n"
     ]
    }
   ],
   "source": [
    "X_test.info()"
   ]
  },
  {
   "cell_type": "code",
   "execution_count": 70,
   "metadata": {},
   "outputs": [],
   "source": [
    "Decision_model_4 = DecisionTreeRegressor()\n",
    "Decision_model_4.fit(X_train,y_train)\n",
    "# Training Data Class Prediction with a cut-off value of 0.5\n",
    "pred_class_train = Decision_model_4.predict(X_train)\n",
    "\n",
    "# Test Data Class Prediction with a cut-off value of 0.5\n",
    "pred_class_test =Decision_model_4.predict(X_test)"
   ]
  },
  {
   "cell_type": "code",
   "execution_count": 71,
   "metadata": {},
   "outputs": [
    {
     "name": "stdout",
     "output_type": "stream",
     "text": [
      "RMSE Error: 4722.106620406798\n",
      "R2 Score: 0.4927782914336587\n"
     ]
    }
   ],
   "source": [
    "mse = mean_squared_error(y_test, pred_class_test)\n",
    "print(\"RMSE Error:\", np.sqrt(mse))\n",
    "r2 = r2_score(y_test, pred_class_test)\n",
    "print(\"R2 Score:\", r2)"
   ]
  },
  {
   "cell_type": "code",
   "execution_count": 72,
   "metadata": {},
   "outputs": [
    {
     "data": {
      "text/plain": [
       "<AxesSubplot:>"
      ]
     },
     "execution_count": 72,
     "metadata": {},
     "output_type": "execute_result"
    },
    {
     "data": {
      "image/png": "[encoded data removed]",
      "text/plain": [
       "<Figure size 1080x360 with 1 Axes>"
      ]
     },
     "metadata": {},
     "output_type": "display_data"
    }
   ],
   "source": [
    "importance = Decision_model_4.feature_importances_\n",
    "importance\n",
    "(pd.Series(importance, index=X_train.columns)\n",
    "   .nlargest(29)\n",
    "   .plot(kind='barh'))  "
   ]
  },
  {
   "cell_type": "code",
   "execution_count": 73,
   "metadata": {},
   "outputs": [],
   "source": [
    "## Further improvement in performance"
   ]
  },
  {
   "cell_type": "code",
   "execution_count": 74,
   "metadata": {},
   "outputs": [],
   "source": [
    "from sklearn.ensemble import GradientBoostingRegressor\n",
    "\n",
    "from math import *\n",
    "\n",
    "model = GradientBoostingRegressor(n_estimators = 100, max_depth = 5, min_samples_split = 2, learning_rate = 0.1)\n",
    "model.fit(X_train, y_train)\n",
    "\n",
    "y_pred = model.predict(X_test)"
   ]
  },
  {
   "cell_type": "code",
   "execution_count": 75,
   "metadata": {},
   "outputs": [
    {
     "name": "stdout",
     "output_type": "stream",
     "text": [
      "RMSE Error: 3395.8756127189636\n",
      "R2 Score: 0.7376809666377364\n"
     ]
    }
   ],
   "source": [
    "\n",
    "# finding the mean_squared error\n",
    "mse = mean_squared_error(y_test, y_pred)\n",
    "print(\"RMSE Error:\", np.sqrt(mse))\n",
    "\n",
    "# finding the r2 score or the variance\n",
    "r2 = r2_score(y_test, y_pred)\n",
    "print(\"R2 Score:\", r2)"
   ]
  },
  {
   "cell_type": "markdown",
   "metadata": {},
   "source": [
    "## Some more features which could be created\n",
    "\n",
    "(i) Age 26-35 is the most significant age group in the data set.. Also average purchase amount is differnt for married customers. Can these two features be combined\n",
    "\n",
    "(ii) Dummeies from Product category 1 as this was the most significant feature in the original data\n",
    "\n",
    "(ii) Convert the new  mean feature created after grouping based on customer id and total purchase amount in to categorical e.g. look at the quartile value and then define 10 category of customers\n"
   ]
  },
  {
   "cell_type": "code",
   "execution_count": 76,
   "metadata": {},
   "outputs": [],
   "source": [
    "###################################################################\n",
    "#######################################################################"
   ]
  },
  {
   "cell_type": "code",
   "execution_count": 77,
   "metadata": {},
   "outputs": [],
   "source": [
    "#### Another Way to Create FEatures ###################333"
   ]
  },
  {
   "cell_type": "markdown",
   "metadata": {},
   "source": [
    "We can create dummy for products i.e. for each product make it 1 if the user has bought it or 0 otherwise .\n",
    "\n",
    "We can do this for some seleted number of products like top 100 products (by number of transactions).\n",
    "\n",
    "Also we can select top categories like 18 categories in product_category_1\n",
    "\n",
    "So we are going to find 100 most selling products and 18 categories (by number of transactions) \n",
    "For each user, put purchase amount of this product/product category as a new feature thus  adding totally 118 new features \n"
   ]
  },
  {
   "cell_type": "code",
   "execution_count": 78,
   "metadata": {},
   "outputs": [],
   "source": [
    "new_df=df.copy()"
   ]
  },
  {
   "cell_type": "code",
   "execution_count": 79,
   "metadata": {},
   "outputs": [],
   "source": [
    "columns = ['product_id', 'product_category_1']\n",
    "for column in columns:\n",
    "    top_100 = df[column].value_counts().index[:100]    \n",
    "    user_purchase = pd.pivot_table(\n",
    "        df[['customer_id', column, 'Total_Purchase_Amount']],\n",
    "        values='Total_Purchase_Amount',\n",
    "        index='customer_id',\n",
    "        columns=column,\n",
    "        aggfunc=np.sum\n",
    "    ).fillna(0)[top_100]  \n",
    "    new_df = new_df.join(user_purchase)"
   ]
  },
  {
   "cell_type": "code",
   "execution_count": 80,
   "metadata": {},
   "outputs": [
    {
     "name": "stdout",
     "output_type": "stream",
     "text": [
      "<class 'pandas.core.frame.DataFrame'>\n",
      "Index: 537577 entries, 0 to 537576\n",
      "Columns: 133 entries, customer_id to 9\n",
      "dtypes: float64(119), int32(2), int64(6), object(2), uint8(4)\n",
      "memory usage: 551.1+ MB\n"
     ]
    }
   ],
   "source": [
    "new_df.info()"
   ]
  }
 ],
 "metadata": {
  "kernelspec": {
   "display_name": "Python 3 (ipykernel)",
   "language": "python",
   "name": "python3"
  },
  "language_info": {
   "codemirror_mode": {
    "name": "ipython",
    "version": 3
   },
   "file_extension": ".py",
   "mimetype": "text/x-python",
   "name": "python",
   "nbconvert_exporter": "python",
   "pygments_lexer": "ipython3",
   "version": "3.9.7"
  }
 },
 "nbformat": 4,
 "nbformat_minor": 4
}
