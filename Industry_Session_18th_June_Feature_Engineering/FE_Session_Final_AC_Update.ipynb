{
 "cells": [
  {
   "cell_type": "markdown",
   "metadata": {},
   "source": [
    "## PROBLEM STATEMENT"
   ]
  },
  {
   "cell_type": "markdown",
   "metadata": {},
   "source": [
    "AA Pvt Ltd., has retail stores across the globe. They are struggling to generate revenue through their high end product sale. The company  has hired you as a data scientist to help them to design personalised offers for their customers based on their  purchase behaviour.\n",
    "\n",
    "AA Pvt Ltd has collected demographic details of their customers like age, gender , marital status and city along with the total purchase amount in a month , to understand the purchase behaviour of high volume products.  \n",
    "\n",
    "Agenda of the Industry Session : Impact of Feature Engineering on Model Performance"
   ]
  },
  {
   "cell_type": "code",
   "execution_count": 160,
   "metadata": {},
   "outputs": [],
   "source": [
    "import numpy as np \n",
    "import pandas as pd\n",
    "import matplotlib.pyplot as plt\n",
    "import seaborn as sns\n",
    "\n",
    "import matplotlib.style\n",
    "\n",
    "import warnings\n",
    "warnings.filterwarnings(\"ignore\")\n",
    "\n",
    "import os"
   ]
  },
  {
   "cell_type": "markdown",
   "metadata": {},
   "source": [
    "## Importing Data"
   ]
  },
  {
   "cell_type": "code",
   "execution_count": 161,
   "metadata": {},
   "outputs": [],
   "source": [
    "# reading the CSV file into pandas dataframe\n",
    "df = pd.read_csv(\"BlackFriday.csv\")"
   ]
  },
  {
   "cell_type": "markdown",
   "metadata": {},
   "source": [
    "## Exploratory Data Analysis"
   ]
  },
  {
   "cell_type": "code",
   "execution_count": 162,
   "metadata": {},
   "outputs": [
    {
     "data": {
      "text/plain": [
       "(537577, 12)"
      ]
     },
     "execution_count": 162,
     "metadata": {},
     "output_type": "execute_result"
    }
   ],
   "source": [
    "## Total # of rows and columns/features\n",
    "df.shape"
   ]
  },
  {
   "cell_type": "code",
   "execution_count": 163,
   "metadata": {},
   "outputs": [
    {
     "data": {
      "text/html": [
       "<div>\n",
       "<style scoped>\n",
       "    .dataframe tbody tr th:only-of-type {\n",
       "        vertical-align: middle;\n",
       "    }\n",
       "\n",
       "    .dataframe tbody tr th {\n",
       "        vertical-align: top;\n",
       "    }\n",
       "\n",
       "    .dataframe thead th {\n",
       "        text-align: right;\n",
       "    }\n",
       "</style>\n",
       "<table border=\"1\" class=\"dataframe\">\n",
       "  <thead>\n",
       "    <tr style=\"text-align: right;\">\n",
       "      <th></th>\n",
       "      <th>User_ID</th>\n",
       "      <th>Product_ID</th>\n",
       "      <th>Gender</th>\n",
       "      <th>Age</th>\n",
       "      <th>Occupation</th>\n",
       "      <th>City_Category</th>\n",
       "      <th>Stay_In_Current_City_Years</th>\n",
       "      <th>Marital_Status</th>\n",
       "      <th>Product_Category_1</th>\n",
       "      <th>Product_Category_2</th>\n",
       "      <th>Product_Category_3</th>\n",
       "      <th>Purchase</th>\n",
       "    </tr>\n",
       "  </thead>\n",
       "  <tbody>\n",
       "    <tr>\n",
       "      <th>0</th>\n",
       "      <td>1000001</td>\n",
       "      <td>P00069042</td>\n",
       "      <td>F</td>\n",
       "      <td>0-17</td>\n",
       "      <td>10</td>\n",
       "      <td>A</td>\n",
       "      <td>2</td>\n",
       "      <td>0</td>\n",
       "      <td>3</td>\n",
       "      <td>NaN</td>\n",
       "      <td>NaN</td>\n",
       "      <td>8370</td>\n",
       "    </tr>\n",
       "    <tr>\n",
       "      <th>1</th>\n",
       "      <td>1000001</td>\n",
       "      <td>P00248942</td>\n",
       "      <td>F</td>\n",
       "      <td>0-17</td>\n",
       "      <td>10</td>\n",
       "      <td>A</td>\n",
       "      <td>2</td>\n",
       "      <td>0</td>\n",
       "      <td>1</td>\n",
       "      <td>6.0</td>\n",
       "      <td>14.0</td>\n",
       "      <td>15200</td>\n",
       "    </tr>\n",
       "    <tr>\n",
       "      <th>2</th>\n",
       "      <td>1000001</td>\n",
       "      <td>P00087842</td>\n",
       "      <td>F</td>\n",
       "      <td>0-17</td>\n",
       "      <td>10</td>\n",
       "      <td>A</td>\n",
       "      <td>2</td>\n",
       "      <td>0</td>\n",
       "      <td>12</td>\n",
       "      <td>NaN</td>\n",
       "      <td>NaN</td>\n",
       "      <td>1422</td>\n",
       "    </tr>\n",
       "    <tr>\n",
       "      <th>3</th>\n",
       "      <td>1000001</td>\n",
       "      <td>P00085442</td>\n",
       "      <td>F</td>\n",
       "      <td>0-17</td>\n",
       "      <td>10</td>\n",
       "      <td>A</td>\n",
       "      <td>2</td>\n",
       "      <td>0</td>\n",
       "      <td>12</td>\n",
       "      <td>14.0</td>\n",
       "      <td>NaN</td>\n",
       "      <td>1057</td>\n",
       "    </tr>\n",
       "    <tr>\n",
       "      <th>4</th>\n",
       "      <td>1000002</td>\n",
       "      <td>P00285442</td>\n",
       "      <td>M</td>\n",
       "      <td>55+</td>\n",
       "      <td>16</td>\n",
       "      <td>C</td>\n",
       "      <td>4+</td>\n",
       "      <td>0</td>\n",
       "      <td>8</td>\n",
       "      <td>NaN</td>\n",
       "      <td>NaN</td>\n",
       "      <td>7969</td>\n",
       "    </tr>\n",
       "  </tbody>\n",
       "</table>\n",
       "</div>"
      ],
      "text/plain": [
       "   User_ID Product_ID Gender   Age  Occupation City_Category  \\\n",
       "0  1000001  P00069042      F  0-17          10             A   \n",
       "1  1000001  P00248942      F  0-17          10             A   \n",
       "2  1000001  P00087842      F  0-17          10             A   \n",
       "3  1000001  P00085442      F  0-17          10             A   \n",
       "4  1000002  P00285442      M   55+          16             C   \n",
       "\n",
       "  Stay_In_Current_City_Years  Marital_Status  Product_Category_1  \\\n",
       "0                          2               0                   3   \n",
       "1                          2               0                   1   \n",
       "2                          2               0                  12   \n",
       "3                          2               0                  12   \n",
       "4                         4+               0                   8   \n",
       "\n",
       "   Product_Category_2  Product_Category_3  Purchase  \n",
       "0                 NaN                 NaN      8370  \n",
       "1                 6.0                14.0     15200  \n",
       "2                 NaN                 NaN      1422  \n",
       "3                14.0                 NaN      1057  \n",
       "4                 NaN                 NaN      7969  "
      ]
     },
     "execution_count": 163,
     "metadata": {},
     "output_type": "execute_result"
    }
   ],
   "source": [
    "# Check top few records to get a feel of the data structure\n",
    "df.head()"
   ]
  },
  {
   "cell_type": "code",
   "execution_count": 164,
   "metadata": {},
   "outputs": [
    {
     "name": "stdout",
     "output_type": "stream",
     "text": [
      "<class 'pandas.core.frame.DataFrame'>\n",
      "RangeIndex: 537577 entries, 0 to 537576\n",
      "Data columns (total 12 columns):\n",
      " #   Column                      Non-Null Count   Dtype  \n",
      "---  ------                      --------------   -----  \n",
      " 0   User_ID                     537577 non-null  int64  \n",
      " 1   Product_ID                  537577 non-null  object \n",
      " 2   Gender                      537577 non-null  object \n",
      " 3   Age                         537577 non-null  object \n",
      " 4   Occupation                  537577 non-null  int64  \n",
      " 5   City_Category               537577 non-null  object \n",
      " 6   Stay_In_Current_City_Years  537577 non-null  object \n",
      " 7   Marital_Status              537577 non-null  int64  \n",
      " 8   Product_Category_1          537577 non-null  int64  \n",
      " 9   Product_Category_2          370591 non-null  float64\n",
      " 10  Product_Category_3          164278 non-null  float64\n",
      " 11  Purchase                    537577 non-null  int64  \n",
      "dtypes: float64(2), int64(5), object(5)\n",
      "memory usage: 49.2+ MB\n"
     ]
    }
   ],
   "source": [
    "df.info()"
   ]
  },
  {
   "cell_type": "code",
   "execution_count": 76,
   "metadata": {},
   "outputs": [],
   "source": [
    "## product_category_2 and product_category_3 have null values\n",
    "## Although count of null values is high, but before we decide to drop we should study these features considering we are looking \n",
    "## at a grocery store data and hence product category is an important feature."
   ]
  },
  {
   "cell_type": "markdown",
   "metadata": {},
   "source": [
    "## Checking for Duplicates"
   ]
  },
  {
   "cell_type": "code",
   "execution_count": 165,
   "metadata": {},
   "outputs": [
    {
     "name": "stdout",
     "output_type": "stream",
     "text": [
      "Number of duplicate rows = 0\n"
     ]
    },
    {
     "data": {
      "text/html": [
       "<div>\n",
       "<style scoped>\n",
       "    .dataframe tbody tr th:only-of-type {\n",
       "        vertical-align: middle;\n",
       "    }\n",
       "\n",
       "    .dataframe tbody tr th {\n",
       "        vertical-align: top;\n",
       "    }\n",
       "\n",
       "    .dataframe thead th {\n",
       "        text-align: right;\n",
       "    }\n",
       "</style>\n",
       "<table border=\"1\" class=\"dataframe\">\n",
       "  <thead>\n",
       "    <tr style=\"text-align: right;\">\n",
       "      <th></th>\n",
       "      <th>User_ID</th>\n",
       "      <th>Product_ID</th>\n",
       "      <th>Gender</th>\n",
       "      <th>Age</th>\n",
       "      <th>Occupation</th>\n",
       "      <th>City_Category</th>\n",
       "      <th>Stay_In_Current_City_Years</th>\n",
       "      <th>Marital_Status</th>\n",
       "      <th>Product_Category_1</th>\n",
       "      <th>Product_Category_2</th>\n",
       "      <th>Product_Category_3</th>\n",
       "      <th>Purchase</th>\n",
       "    </tr>\n",
       "  </thead>\n",
       "  <tbody>\n",
       "  </tbody>\n",
       "</table>\n",
       "</div>"
      ],
      "text/plain": [
       "Empty DataFrame\n",
       "Columns: [User_ID, Product_ID, Gender, Age, Occupation, City_Category, Stay_In_Current_City_Years, Marital_Status, Product_Category_1, Product_Category_2, Product_Category_3, Purchase]\n",
       "Index: []"
      ]
     },
     "execution_count": 165,
     "metadata": {},
     "output_type": "execute_result"
    }
   ],
   "source": [
    "# Are there any duplicates ?\n",
    "dups = df.duplicated()\n",
    "print('Number of duplicate rows = %d' % (dups.sum()))\n",
    "df[dups]"
   ]
  },
  {
   "cell_type": "code",
   "execution_count": 78,
   "metadata": {},
   "outputs": [],
   "source": [
    "## There are no duplicates "
   ]
  },
  {
   "cell_type": "code",
   "execution_count": 166,
   "metadata": {},
   "outputs": [],
   "source": [
    "df.rename(columns = {\n",
    "                     'User_ID':'customer_id',\n",
    "                     'Product_ID':'product_id',\n",
    "                      'Gender': 'sex',  \n",
    "                     'Age':'age_group',\n",
    "                     'Purchase':'Total_Purchase_Amount',\n",
    "                    'Occupation':'job_code',\n",
    "                    'Marital_Status':'married',\n",
    "                    'Product_Category_1': 'product_category_1',    \n",
    "                    'Product_Category_2': 'product_category_2',\n",
    "                    'Product_Category_3': 'product_category_3'    \n",
    "                    }, \n",
    "          inplace = True)"
   ]
  },
  {
   "cell_type": "code",
   "execution_count": 167,
   "metadata": {},
   "outputs": [
    {
     "data": {
      "text/plain": [
       "Index(['customer_id', 'product_id', 'sex', 'age_group', 'job_code',\n",
       "       'City_Category', 'Stay_In_Current_City_Years', 'married',\n",
       "       'product_category_1', 'product_category_2', 'product_category_3',\n",
       "       'Total_Purchase_Amount'],\n",
       "      dtype='object')"
      ]
     },
     "execution_count": 167,
     "metadata": {},
     "output_type": "execute_result"
    }
   ],
   "source": [
    "df.columns"
   ]
  },
  {
   "cell_type": "markdown",
   "metadata": {},
   "source": [
    "## Checking for unique Customers and Products"
   ]
  },
  {
   "cell_type": "code",
   "execution_count": 168,
   "metadata": {},
   "outputs": [
    {
     "name": "stdout",
     "output_type": "stream",
     "text": [
      "The number of unique Customers are: 5891\n",
      "The number of unique Products are: 3623\n"
     ]
    }
   ],
   "source": [
    "#Checking for unique values\n",
    "print('The number of unique Customers are:',df[\"customer_id\"].nunique())\n",
    "print('The number of unique Products are:',df[\"product_id\"].nunique())"
   ]
  },
  {
   "cell_type": "markdown",
   "metadata": {},
   "source": [
    "## Unique values of each categorical/object Feature"
   ]
  },
  {
   "cell_type": "code",
   "execution_count": 169,
   "metadata": {},
   "outputs": [
    {
     "name": "stdout",
     "output_type": "stream",
     "text": [
      "PRODUCT_ID :  3623\n",
      "P00091742       1\n",
      "P00064542       1\n",
      "P00315142       1\n",
      "P00298342       1\n",
      "P00341542       1\n",
      "             ... \n",
      "P00057642    1430\n",
      "P00112142    1539\n",
      "P00025442    1586\n",
      "P00110742    1591\n",
      "P00265242    1858\n",
      "Name: product_id, Length: 3623, dtype: int64\n",
      "\n",
      "\n",
      "SEX :  2\n",
      "F    132197\n",
      "M    405380\n",
      "Name: sex, dtype: int64\n",
      "\n",
      "\n",
      "AGE_GROUP :  7\n",
      "0-17      14707\n",
      "55+       20903\n",
      "51-55     37618\n",
      "46-50     44526\n",
      "18-25     97634\n",
      "36-45    107499\n",
      "26-35    214690\n",
      "Name: age_group, dtype: int64\n",
      "\n",
      "\n",
      "CITY_CATEGORY :  3\n",
      "A    144638\n",
      "C    166446\n",
      "B    226493\n",
      "Name: City_Category, dtype: int64\n",
      "\n",
      "\n",
      "STAY_IN_CURRENT_CITY_YEARS :  5\n",
      "0      72725\n",
      "4+     82889\n",
      "3      93312\n",
      "2      99459\n",
      "1     189192\n",
      "Name: Stay_In_Current_City_Years, dtype: int64\n",
      "\n",
      "\n"
     ]
    }
   ],
   "source": [
    "for column in df.columns:\n",
    "    if df[column].dtype == 'object':\n",
    "        print(column.upper(),': ',df[column].nunique())\n",
    "        print(df[column].value_counts().sort_values())\n",
    "        print('\\n')"
   ]
  },
  {
   "cell_type": "code",
   "execution_count": 170,
   "metadata": {},
   "outputs": [],
   "source": [
    "## 2 Cities, 7 Age Groups, 5 levels for living duration in a city"
   ]
  },
  {
   "cell_type": "markdown",
   "metadata": {},
   "source": [
    "## Distribution of Age Group according to Gender"
   ]
  },
  {
   "cell_type": "code",
   "execution_count": 171,
   "metadata": {},
   "outputs": [
    {
     "data": {
      "image/png": "[encoded data removed]",
      "text/plain": [
       "<Figure size 864x648 with 1 Axes>"
      ]
     },
     "metadata": {},
     "output_type": "display_data"
    }
   ],
   "source": [
    "plt.rcParams['figure.figsize'] = [12, 9]\n",
    "sns.set(style = 'whitegrid', font_scale = 1.3)\n",
    "\n",
    "ax = sns.countplot('age_group', \n",
    "                   hue = 'sex',\n",
    "                   data = df, \n",
    "                   order = ['0-17', \n",
    "                            '18-25', \n",
    "                            '26-35', \n",
    "                            '36-45', \n",
    "                            '46-50', \n",
    "                            '51-55', '55+']);\n",
    "\n",
    "ax.set(title = \"Distribution of Age group according to Gender\", xlabel = \"Age Group\", ylabel = \"Count\");"
   ]
  },
  {
   "cell_type": "code",
   "execution_count": 85,
   "metadata": {},
   "outputs": [],
   "source": [
    "## Count of Male is higher across all age groups\n",
    "## Most of the data points are pertiaining to Age Group 26-35"
   ]
  },
  {
   "cell_type": "markdown",
   "metadata": {},
   "source": [
    "## Is Average Purchase amount is also higher for Males ??"
   ]
  },
  {
   "cell_type": "code",
   "execution_count": 86,
   "metadata": {},
   "outputs": [
    {
     "name": "stdout",
     "output_type": "stream",
     "text": [
      "Purchase mean for male purchasers =  9504.771712960679\n",
      "Purchase mean for femal purchasers =  8809.761348593387\n"
     ]
    }
   ],
   "source": [
    "malesPurchaserData = df.loc[df['sex'] == 'M']\n",
    "malesPurchaseMean = np.mean(malesPurchaserData['Total_Purchase_Amount'])\n",
    "print(\"Purchase mean for male purchasers = \",malesPurchaseMean)\n",
    "\n",
    "femalsPurchaserData = df.loc[df['sex'] == 'F']\n",
    "femalsPurchaseMean = np.mean(femalsPurchaserData['Total_Purchase_Amount'])\n",
    "print(\"Purchase mean for femal purchasers = \",femalsPurchaseMean)"
   ]
  },
  {
   "cell_type": "code",
   "execution_count": 87,
   "metadata": {},
   "outputs": [],
   "source": [
    "## Yes Average Purchase amount is higher for male"
   ]
  },
  {
   "cell_type": "markdown",
   "metadata": {},
   "source": [
    "## Does Average purchase amount is different across different age groups\n"
   ]
  },
  {
   "cell_type": "code",
   "execution_count": 172,
   "metadata": {},
   "outputs": [
    {
     "data": {
      "text/html": [
       "<div>\n",
       "<style scoped>\n",
       "    .dataframe tbody tr th:only-of-type {\n",
       "        vertical-align: middle;\n",
       "    }\n",
       "\n",
       "    .dataframe tbody tr th {\n",
       "        vertical-align: top;\n",
       "    }\n",
       "\n",
       "    .dataframe thead th {\n",
       "        text-align: right;\n",
       "    }\n",
       "</style>\n",
       "<table border=\"1\" class=\"dataframe\">\n",
       "  <thead>\n",
       "    <tr style=\"text-align: right;\">\n",
       "      <th></th>\n",
       "      <th>Total_Purchase_Amount</th>\n",
       "    </tr>\n",
       "    <tr>\n",
       "      <th>age_group</th>\n",
       "      <th></th>\n",
       "    </tr>\n",
       "  </thead>\n",
       "  <tbody>\n",
       "    <tr>\n",
       "      <th>0-17</th>\n",
       "      <td>9020.126878</td>\n",
       "    </tr>\n",
       "    <tr>\n",
       "      <th>18-25</th>\n",
       "      <td>9235.197575</td>\n",
       "    </tr>\n",
       "    <tr>\n",
       "      <th>26-35</th>\n",
       "      <td>9314.588970</td>\n",
       "    </tr>\n",
       "    <tr>\n",
       "      <th>36-45</th>\n",
       "      <td>9401.478758</td>\n",
       "    </tr>\n",
       "    <tr>\n",
       "      <th>46-50</th>\n",
       "      <td>9284.872277</td>\n",
       "    </tr>\n",
       "    <tr>\n",
       "      <th>51-55</th>\n",
       "      <td>9620.616620</td>\n",
       "    </tr>\n",
       "    <tr>\n",
       "      <th>55+</th>\n",
       "      <td>9453.898579</td>\n",
       "    </tr>\n",
       "  </tbody>\n",
       "</table>\n",
       "</div>"
      ],
      "text/plain": [
       "           Total_Purchase_Amount\n",
       "age_group                       \n",
       "0-17                 9020.126878\n",
       "18-25                9235.197575\n",
       "26-35                9314.588970\n",
       "36-45                9401.478758\n",
       "46-50                9284.872277\n",
       "51-55                9620.616620\n",
       "55+                  9453.898579"
      ]
     },
     "execution_count": 172,
     "metadata": {},
     "output_type": "execute_result"
    }
   ],
   "source": [
    "# Does mean purchage amount is different across different age groups\n",
    "df[['age_group', 'Total_Purchase_Amount']].groupby('age_group').mean()"
   ]
  },
  {
   "cell_type": "markdown",
   "metadata": {},
   "source": [
    "## Does Average purchage amount is different across job code"
   ]
  },
  {
   "cell_type": "code",
   "execution_count": 173,
   "metadata": {},
   "outputs": [
    {
     "data": {
      "text/html": [
       "<div>\n",
       "<style scoped>\n",
       "    .dataframe tbody tr th:only-of-type {\n",
       "        vertical-align: middle;\n",
       "    }\n",
       "\n",
       "    .dataframe tbody tr th {\n",
       "        vertical-align: top;\n",
       "    }\n",
       "\n",
       "    .dataframe thead th {\n",
       "        text-align: right;\n",
       "    }\n",
       "</style>\n",
       "<table border=\"1\" class=\"dataframe\">\n",
       "  <thead>\n",
       "    <tr style=\"text-align: right;\">\n",
       "      <th></th>\n",
       "      <th>Total_Purchase_Amount</th>\n",
       "    </tr>\n",
       "    <tr>\n",
       "      <th>job_code</th>\n",
       "      <th></th>\n",
       "    </tr>\n",
       "  </thead>\n",
       "  <tbody>\n",
       "    <tr>\n",
       "      <th>0</th>\n",
       "      <td>9186.946726</td>\n",
       "    </tr>\n",
       "    <tr>\n",
       "      <th>1</th>\n",
       "      <td>9017.703095</td>\n",
       "    </tr>\n",
       "    <tr>\n",
       "      <th>2</th>\n",
       "      <td>9025.938982</td>\n",
       "    </tr>\n",
       "    <tr>\n",
       "      <th>3</th>\n",
       "      <td>9238.077277</td>\n",
       "    </tr>\n",
       "    <tr>\n",
       "      <th>4</th>\n",
       "      <td>9279.026742</td>\n",
       "    </tr>\n",
       "    <tr>\n",
       "      <th>5</th>\n",
       "      <td>9388.848978</td>\n",
       "    </tr>\n",
       "    <tr>\n",
       "      <th>6</th>\n",
       "      <td>9336.378620</td>\n",
       "    </tr>\n",
       "    <tr>\n",
       "      <th>7</th>\n",
       "      <td>9502.175276</td>\n",
       "    </tr>\n",
       "    <tr>\n",
       "      <th>8</th>\n",
       "      <td>9576.508530</td>\n",
       "    </tr>\n",
       "    <tr>\n",
       "      <th>9</th>\n",
       "      <td>8714.335934</td>\n",
       "    </tr>\n",
       "    <tr>\n",
       "      <th>10</th>\n",
       "      <td>9052.836410</td>\n",
       "    </tr>\n",
       "    <tr>\n",
       "      <th>11</th>\n",
       "      <td>9299.467190</td>\n",
       "    </tr>\n",
       "    <tr>\n",
       "      <th>12</th>\n",
       "      <td>9883.052460</td>\n",
       "    </tr>\n",
       "    <tr>\n",
       "      <th>13</th>\n",
       "      <td>9424.449391</td>\n",
       "    </tr>\n",
       "    <tr>\n",
       "      <th>14</th>\n",
       "      <td>9568.536426</td>\n",
       "    </tr>\n",
       "    <tr>\n",
       "      <th>15</th>\n",
       "      <td>9866.239925</td>\n",
       "    </tr>\n",
       "    <tr>\n",
       "      <th>16</th>\n",
       "      <td>9457.133118</td>\n",
       "    </tr>\n",
       "    <tr>\n",
       "      <th>17</th>\n",
       "      <td>9906.378997</td>\n",
       "    </tr>\n",
       "    <tr>\n",
       "      <th>18</th>\n",
       "      <td>9233.671418</td>\n",
       "    </tr>\n",
       "    <tr>\n",
       "      <th>19</th>\n",
       "      <td>8754.249162</td>\n",
       "    </tr>\n",
       "    <tr>\n",
       "      <th>20</th>\n",
       "      <td>8881.099514</td>\n",
       "    </tr>\n",
       "  </tbody>\n",
       "</table>\n",
       "</div>"
      ],
      "text/plain": [
       "          Total_Purchase_Amount\n",
       "job_code                       \n",
       "0                   9186.946726\n",
       "1                   9017.703095\n",
       "2                   9025.938982\n",
       "3                   9238.077277\n",
       "4                   9279.026742\n",
       "5                   9388.848978\n",
       "6                   9336.378620\n",
       "7                   9502.175276\n",
       "8                   9576.508530\n",
       "9                   8714.335934\n",
       "10                  9052.836410\n",
       "11                  9299.467190\n",
       "12                  9883.052460\n",
       "13                  9424.449391\n",
       "14                  9568.536426\n",
       "15                  9866.239925\n",
       "16                  9457.133118\n",
       "17                  9906.378997\n",
       "18                  9233.671418\n",
       "19                  8754.249162\n",
       "20                  8881.099514"
      ]
     },
     "execution_count": 173,
     "metadata": {},
     "output_type": "execute_result"
    }
   ],
   "source": [
    "# Does mean purchage amount is different across job code\n",
    "df[['job_code', 'Total_Purchase_Amount']].groupby('job_code').mean()"
   ]
  },
  {
   "cell_type": "markdown",
   "metadata": {},
   "source": [
    "## Does Average purchage amount is different for married customers"
   ]
  },
  {
   "cell_type": "code",
   "execution_count": 174,
   "metadata": {},
   "outputs": [
    {
     "data": {
      "text/html": [
       "<div>\n",
       "<style scoped>\n",
       "    .dataframe tbody tr th:only-of-type {\n",
       "        vertical-align: middle;\n",
       "    }\n",
       "\n",
       "    .dataframe tbody tr th {\n",
       "        vertical-align: top;\n",
       "    }\n",
       "\n",
       "    .dataframe thead th {\n",
       "        text-align: right;\n",
       "    }\n",
       "</style>\n",
       "<table border=\"1\" class=\"dataframe\">\n",
       "  <thead>\n",
       "    <tr style=\"text-align: right;\">\n",
       "      <th></th>\n",
       "      <th>Total_Purchase_Amount</th>\n",
       "    </tr>\n",
       "    <tr>\n",
       "      <th>married</th>\n",
       "      <th></th>\n",
       "    </tr>\n",
       "  </thead>\n",
       "  <tbody>\n",
       "    <tr>\n",
       "      <th>0</th>\n",
       "      <td>9333.325467</td>\n",
       "    </tr>\n",
       "    <tr>\n",
       "      <th>1</th>\n",
       "      <td>9334.632681</td>\n",
       "    </tr>\n",
       "  </tbody>\n",
       "</table>\n",
       "</div>"
      ],
      "text/plain": [
       "         Total_Purchase_Amount\n",
       "married                       \n",
       "0                  9333.325467\n",
       "1                  9334.632681"
      ]
     },
     "execution_count": 174,
     "metadata": {},
     "output_type": "execute_result"
    }
   ],
   "source": [
    "df[['married', 'Total_Purchase_Amount']].groupby('married').mean()"
   ]
  },
  {
   "cell_type": "markdown",
   "metadata": {},
   "source": [
    "## Product preference based on Gender - For Product Category 1"
   ]
  },
  {
   "cell_type": "code",
   "execution_count": 175,
   "metadata": {},
   "outputs": [
    {
     "data": {
      "image/png": "[encoded data removed]",
      "text/plain": [
       "<Figure size 1440x720 with 1 Axes>"
      ]
     },
     "metadata": {},
     "output_type": "display_data"
    }
   ],
   "source": [
    "plt.rcParams['figure.figsize'] = [20, 10]\n",
    "ax = sns.countplot('sex', \n",
    "                   hue = 'product_category_1',\n",
    "                   data = df);\n",
    "ax.set(title = \"Product_Category_1 Bargraph with respect to Gender\", xlabel = \"Gender\", ylabel = \"Count\");"
   ]
  },
  {
   "cell_type": "code",
   "execution_count": 176,
   "metadata": {},
   "outputs": [],
   "source": [
    "## High transaction count is observed for product_cateogory_1 =  1, 5 and 8 across all genders\n",
    "## For Female, count is highest Product Category 5 whereas for Male count is highest for product_cateogory_1 = 1"
   ]
  },
  {
   "cell_type": "markdown",
   "metadata": {},
   "source": [
    "## Distribution of All Product Categories"
   ]
  },
  {
   "cell_type": "code",
   "execution_count": 177,
   "metadata": {},
   "outputs": [
    {
     "data": {
      "image/png": "[encoded data removed]",
      "text/plain": [
       "<Figure size 1800x432 with 3 Axes>"
      ]
     },
     "metadata": {},
     "output_type": "display_data"
    }
   ],
   "source": [
    "plt.rcParams['figure.figsize'] = (25, 6)\n",
    "\n",
    "plt.subplot(131)\n",
    "sns.countplot(df['product_category_1'], palette = 'dark')\n",
    "plt.title('Distribution of different products across customers', fontsize = 20)\n",
    "plt.xlabel('Distribution of Product Category 1')\n",
    "plt.ylabel('Count')\n",
    "\n",
    "plt.subplot(132)\n",
    "sns.countplot(df['product_category_2'], palette = 'dark')\n",
    "\n",
    "plt.xlabel('Distribution of Product Category 2')\n",
    "plt.ylabel('Count')\n",
    "\n",
    "plt.subplot(133)\n",
    "sns.countplot(df['product_category_3'], palette = 'dark')\n",
    "plt.xlabel('Distribution of Product Category 3')\n",
    "plt.ylabel('Count')\n",
    "\n",
    "\n",
    "plt.show()"
   ]
  },
  {
   "cell_type": "markdown",
   "metadata": {},
   "source": [
    "## Pre-Processing"
   ]
  },
  {
   "cell_type": "code",
   "execution_count": 94,
   "metadata": {},
   "outputs": [],
   "source": [
    "## Handling missing values"
   ]
  },
  {
   "cell_type": "code",
   "execution_count": 95,
   "metadata": {},
   "outputs": [
    {
     "name": "stdout",
     "output_type": "stream",
     "text": [
      "{'0-17': 4.0, '18-25': 8.0, '26-35': 8.0, '36-45': 8.0, '46-50': 8.0, '51-55': 8.0, '55+': 8.0}\n",
      "{'0-17': 16.0, '18-25': 16.0, '26-35': 16.0, '36-45': 16.0, '46-50': 16.0, '51-55': 16.0, '55+': 16.0}\n"
     ]
    }
   ],
   "source": [
    "# Most Used product according to the age group in the given data\n",
    "prod_2 = df.groupby('age_group')['product_category_2'].agg(lambda x:x.value_counts().index[0])\n",
    "prod_2 = dict(prod_2)\n",
    "print (prod_2)\n",
    "\n",
    "prod_3 = df.groupby('age_group')['product_category_3'].agg(lambda x:x.value_counts().index[0])\n",
    "prod_3 = dict(prod_3)\n",
    "print (prod_3)"
   ]
  },
  {
   "cell_type": "markdown",
   "metadata": {},
   "source": [
    "---  Filling the null values of the product category 2, could be done based on the values identified above, for this session, fillna is used \n",
    "for i in range(len(df)):\n",
    "    if np.isnan(df.iloc[i, 9]) == True:\n",
    "        key = df.iloc[i, 3]\n",
    "        df.iloc[i, 9] = prod_2[key]"
   ]
  },
  {
   "cell_type": "code",
   "execution_count": 178,
   "metadata": {},
   "outputs": [
    {
     "name": "stdout",
     "output_type": "stream",
     "text": [
      "Null values present : \n"
     ]
    },
    {
     "data": {
      "text/plain": [
       "customer_id                   0\n",
       "product_id                    0\n",
       "sex                           0\n",
       "age_group                     0\n",
       "job_code                      0\n",
       "City_Category                 0\n",
       "Stay_In_Current_City_Years    0\n",
       "married                       0\n",
       "product_category_1            0\n",
       "product_category_2            0\n",
       "product_category_3            0\n",
       "Total_Purchase_Amount         0\n",
       "dtype: int64"
      ]
     },
     "execution_count": 178,
     "metadata": {},
     "output_type": "execute_result"
    }
   ],
   "source": [
    "# Since the most used product in product category 3 for all age group is 16.0 , using fillna for imputation\n",
    "df.product_category_3.fillna(value = 16.0, inplace = True)\n",
    "\n",
    "# Since the most used product in product category 2 for all age group is 8.0 , except for one, using fillna for this feature as well\n",
    "df.product_category_2.fillna (value = 8.0, inplace = True)\n",
    "        \n",
    "df['product_category_2'] = df['product_category_2'].astype(int)\n",
    "df['product_category_3'] = df['product_category_3'].astype(int)\n",
    "\n",
    "print (\"Null values present : \")\n",
    "df.isna().sum(axis = 0)"
   ]
  },
  {
   "cell_type": "code",
   "execution_count": 179,
   "metadata": {},
   "outputs": [
    {
     "name": "stdout",
     "output_type": "stream",
     "text": [
      "<class 'pandas.core.frame.DataFrame'>\n",
      "RangeIndex: 537577 entries, 0 to 537576\n",
      "Data columns (total 12 columns):\n",
      " #   Column                      Non-Null Count   Dtype \n",
      "---  ------                      --------------   ----- \n",
      " 0   customer_id                 537577 non-null  int64 \n",
      " 1   product_id                  537577 non-null  object\n",
      " 2   sex                         537577 non-null  object\n",
      " 3   age_group                   537577 non-null  object\n",
      " 4   job_code                    537577 non-null  int64 \n",
      " 5   City_Category               537577 non-null  object\n",
      " 6   Stay_In_Current_City_Years  537577 non-null  object\n",
      " 7   married                     537577 non-null  int64 \n",
      " 8   product_category_1          537577 non-null  int64 \n",
      " 9   product_category_2          537577 non-null  int64 \n",
      " 10  product_category_3          537577 non-null  int64 \n",
      " 11  Total_Purchase_Amount       537577 non-null  int64 \n",
      "dtypes: int64(7), object(5)\n",
      "memory usage: 49.2+ MB\n"
     ]
    }
   ],
   "source": [
    "df.info()"
   ]
  },
  {
   "cell_type": "markdown",
   "metadata": {},
   "source": [
    "## Feature Engineering "
   ]
  },
  {
   "cell_type": "markdown",
   "metadata": {},
   "source": [
    "## Step 1 - Encoding of Features"
   ]
  },
  {
   "cell_type": "code",
   "execution_count": 180,
   "metadata": {},
   "outputs": [
    {
     "data": {
      "text/plain": [
       "26-35    214690\n",
       "36-45    107499\n",
       "18-25     97634\n",
       "46-50     44526\n",
       "51-55     37618\n",
       "55+       20903\n",
       "0-17      14707\n",
       "Name: age_group, dtype: int64"
      ]
     },
     "execution_count": 180,
     "metadata": {},
     "output_type": "execute_result"
    }
   ],
   "source": [
    "df[\"age_group\"].value_counts()"
   ]
  },
  {
   "cell_type": "code",
   "execution_count": 181,
   "metadata": {},
   "outputs": [],
   "source": [
    "## Ordinal Encoding for age_group feature\n",
    "age_dict = {'0-17':0, \n",
    "            '18-25':1, \n",
    "            '26-35':2, \n",
    "            '36-45':3, \n",
    "            '46-50':4, \n",
    "            '51-55':5,\n",
    "            '55+': 6}\n",
    "\n",
    "df[\"age_group\"] =df[\"age_group\"].apply(lambda x: age_dict[x])"
   ]
  },
  {
   "cell_type": "code",
   "execution_count": 182,
   "metadata": {},
   "outputs": [
    {
     "data": {
      "text/plain": [
       "2    214690\n",
       "3    107499\n",
       "1     97634\n",
       "4     44526\n",
       "5     37618\n",
       "6     20903\n",
       "0     14707\n",
       "Name: age_group, dtype: int64"
      ]
     },
     "execution_count": 182,
     "metadata": {},
     "output_type": "execute_result"
    }
   ],
   "source": [
    "df[\"age_group\"].value_counts()"
   ]
  },
  {
   "cell_type": "code",
   "execution_count": 183,
   "metadata": {},
   "outputs": [
    {
     "data": {
      "text/plain": [
       "1    405380\n",
       "0    132197\n",
       "Name: sex, dtype: int64"
      ]
     },
     "execution_count": 183,
     "metadata": {},
     "output_type": "execute_result"
    }
   ],
   "source": [
    "#Turn sex binary\n",
    "sex_dict = {\"F\":0, \n",
    "            \"M\":1}\n",
    "df[\"sex\"] = df[\"sex\"].apply(lambda line: sex_dict[line])\n",
    "df[\"sex\"].value_counts()"
   ]
  },
  {
   "cell_type": "code",
   "execution_count": 184,
   "metadata": {},
   "outputs": [
    {
     "data": {
      "text/html": [
       "<div>\n",
       "<style scoped>\n",
       "    .dataframe tbody tr th:only-of-type {\n",
       "        vertical-align: middle;\n",
       "    }\n",
       "\n",
       "    .dataframe tbody tr th {\n",
       "        vertical-align: top;\n",
       "    }\n",
       "\n",
       "    .dataframe thead th {\n",
       "        text-align: right;\n",
       "    }\n",
       "</style>\n",
       "<table border=\"1\" class=\"dataframe\">\n",
       "  <thead>\n",
       "    <tr style=\"text-align: right;\">\n",
       "      <th></th>\n",
       "      <th>customer_id</th>\n",
       "      <th>product_id</th>\n",
       "      <th>sex</th>\n",
       "      <th>age_group</th>\n",
       "      <th>job_code</th>\n",
       "      <th>City_Category</th>\n",
       "      <th>Stay_In_Current_City_Years</th>\n",
       "      <th>married</th>\n",
       "      <th>product_category_1</th>\n",
       "      <th>product_category_2</th>\n",
       "      <th>product_category_3</th>\n",
       "      <th>Total_Purchase_Amount</th>\n",
       "    </tr>\n",
       "  </thead>\n",
       "  <tbody>\n",
       "    <tr>\n",
       "      <th>0</th>\n",
       "      <td>1000001</td>\n",
       "      <td>P00069042</td>\n",
       "      <td>0</td>\n",
       "      <td>0</td>\n",
       "      <td>10</td>\n",
       "      <td>A</td>\n",
       "      <td>2</td>\n",
       "      <td>0</td>\n",
       "      <td>3</td>\n",
       "      <td>8</td>\n",
       "      <td>16</td>\n",
       "      <td>8370</td>\n",
       "    </tr>\n",
       "    <tr>\n",
       "      <th>1</th>\n",
       "      <td>1000001</td>\n",
       "      <td>P00248942</td>\n",
       "      <td>0</td>\n",
       "      <td>0</td>\n",
       "      <td>10</td>\n",
       "      <td>A</td>\n",
       "      <td>2</td>\n",
       "      <td>0</td>\n",
       "      <td>1</td>\n",
       "      <td>6</td>\n",
       "      <td>14</td>\n",
       "      <td>15200</td>\n",
       "    </tr>\n",
       "    <tr>\n",
       "      <th>2</th>\n",
       "      <td>1000001</td>\n",
       "      <td>P00087842</td>\n",
       "      <td>0</td>\n",
       "      <td>0</td>\n",
       "      <td>10</td>\n",
       "      <td>A</td>\n",
       "      <td>2</td>\n",
       "      <td>0</td>\n",
       "      <td>12</td>\n",
       "      <td>8</td>\n",
       "      <td>16</td>\n",
       "      <td>1422</td>\n",
       "    </tr>\n",
       "    <tr>\n",
       "      <th>3</th>\n",
       "      <td>1000001</td>\n",
       "      <td>P00085442</td>\n",
       "      <td>0</td>\n",
       "      <td>0</td>\n",
       "      <td>10</td>\n",
       "      <td>A</td>\n",
       "      <td>2</td>\n",
       "      <td>0</td>\n",
       "      <td>12</td>\n",
       "      <td>14</td>\n",
       "      <td>16</td>\n",
       "      <td>1057</td>\n",
       "    </tr>\n",
       "    <tr>\n",
       "      <th>4</th>\n",
       "      <td>1000002</td>\n",
       "      <td>P00285442</td>\n",
       "      <td>1</td>\n",
       "      <td>6</td>\n",
       "      <td>16</td>\n",
       "      <td>C</td>\n",
       "      <td>4+</td>\n",
       "      <td>0</td>\n",
       "      <td>8</td>\n",
       "      <td>8</td>\n",
       "      <td>16</td>\n",
       "      <td>7969</td>\n",
       "    </tr>\n",
       "  </tbody>\n",
       "</table>\n",
       "</div>"
      ],
      "text/plain": [
       "   customer_id product_id  sex  age_group  job_code City_Category  \\\n",
       "0      1000001  P00069042    0          0        10             A   \n",
       "1      1000001  P00248942    0          0        10             A   \n",
       "2      1000001  P00087842    0          0        10             A   \n",
       "3      1000001  P00085442    0          0        10             A   \n",
       "4      1000002  P00285442    1          6        16             C   \n",
       "\n",
       "  Stay_In_Current_City_Years  married  product_category_1  product_category_2  \\\n",
       "0                          2        0                   3                   8   \n",
       "1                          2        0                   1                   6   \n",
       "2                          2        0                  12                   8   \n",
       "3                          2        0                  12                  14   \n",
       "4                         4+        0                   8                   8   \n",
       "\n",
       "   product_category_3  Total_Purchase_Amount  \n",
       "0                  16                   8370  \n",
       "1                  14                  15200  \n",
       "2                  16                   1422  \n",
       "3                  16                   1057  \n",
       "4                  16                   7969  "
      ]
     },
     "execution_count": 184,
     "metadata": {},
     "output_type": "execute_result"
    }
   ],
   "source": [
    "df.head()"
   ]
  },
  {
   "cell_type": "code",
   "execution_count": 185,
   "metadata": {},
   "outputs": [
    {
     "data": {
      "text/plain": [
       "B    226493\n",
       "C    166446\n",
       "A    144638\n",
       "Name: City_Category, dtype: int64"
      ]
     },
     "execution_count": 185,
     "metadata": {},
     "output_type": "execute_result"
    }
   ],
   "source": [
    "df[\"City_Category\"].value_counts()"
   ]
  },
  {
   "cell_type": "code",
   "execution_count": 186,
   "metadata": {},
   "outputs": [],
   "source": [
    "## Encoding based on total count of values under each label category\n",
    "city_dict = {\"A\":0, \"B\":1, \"C\":2}\n",
    "df[\"City_Category\"] = df[\"City_Category\"].apply(lambda line: city_dict[line])"
   ]
  },
  {
   "cell_type": "code",
   "execution_count": 187,
   "metadata": {},
   "outputs": [
    {
     "data": {
      "text/plain": [
       "1    226493\n",
       "2    166446\n",
       "0    144638\n",
       "Name: City_Category, dtype: int64"
      ]
     },
     "execution_count": 187,
     "metadata": {},
     "output_type": "execute_result"
    }
   ],
   "source": [
    "df[\"City_Category\"].value_counts()"
   ]
  },
  {
   "cell_type": "code",
   "execution_count": 188,
   "metadata": {},
   "outputs": [],
   "source": [
    "## using label encoder for 'living_in_current_city_since' and 'sex'\n",
    "## converting customer_id and product_id as string so that they are not considered as numeric just because these features have values as numbers"
   ]
  },
  {
   "cell_type": "code",
   "execution_count": 189,
   "metadata": {},
   "outputs": [],
   "source": [
    "from sklearn.preprocessing import LabelEncoder\n",
    "\n",
    "df['customer_id']= df['customer_id'].astype(str)\n",
    "df['product_id']= df['product_id'].astype(str)\n",
    "\n",
    "columns_list = [\"customer_id\", \"product_id\",'Stay_In_Current_City_Years']\n",
    "\n",
    "for var in columns_list:\n",
    "    LE = LabelEncoder()\n",
    "    df[var] = LE.fit_transform( df[var])\n",
    "\n",
    "df['customer_id']= df['customer_id'].astype(str)\n",
    "df['product_id']= df['product_id'].astype(str)"
   ]
  },
  {
   "cell_type": "code",
   "execution_count": 190,
   "metadata": {},
   "outputs": [
    {
     "data": {
      "text/html": [
       "<div>\n",
       "<style scoped>\n",
       "    .dataframe tbody tr th:only-of-type {\n",
       "        vertical-align: middle;\n",
       "    }\n",
       "\n",
       "    .dataframe tbody tr th {\n",
       "        vertical-align: top;\n",
       "    }\n",
       "\n",
       "    .dataframe thead th {\n",
       "        text-align: right;\n",
       "    }\n",
       "</style>\n",
       "<table border=\"1\" class=\"dataframe\">\n",
       "  <thead>\n",
       "    <tr style=\"text-align: right;\">\n",
       "      <th></th>\n",
       "      <th>customer_id</th>\n",
       "      <th>product_id</th>\n",
       "      <th>sex</th>\n",
       "      <th>age_group</th>\n",
       "      <th>job_code</th>\n",
       "      <th>City_Category</th>\n",
       "      <th>Stay_In_Current_City_Years</th>\n",
       "      <th>married</th>\n",
       "      <th>product_category_1</th>\n",
       "      <th>product_category_2</th>\n",
       "      <th>product_category_3</th>\n",
       "      <th>Total_Purchase_Amount</th>\n",
       "    </tr>\n",
       "  </thead>\n",
       "  <tbody>\n",
       "    <tr>\n",
       "      <th>0</th>\n",
       "      <td>0</td>\n",
       "      <td>670</td>\n",
       "      <td>0</td>\n",
       "      <td>0</td>\n",
       "      <td>10</td>\n",
       "      <td>0</td>\n",
       "      <td>2</td>\n",
       "      <td>0</td>\n",
       "      <td>3</td>\n",
       "      <td>8</td>\n",
       "      <td>16</td>\n",
       "      <td>8370</td>\n",
       "    </tr>\n",
       "    <tr>\n",
       "      <th>1</th>\n",
       "      <td>0</td>\n",
       "      <td>2374</td>\n",
       "      <td>0</td>\n",
       "      <td>0</td>\n",
       "      <td>10</td>\n",
       "      <td>0</td>\n",
       "      <td>2</td>\n",
       "      <td>0</td>\n",
       "      <td>1</td>\n",
       "      <td>6</td>\n",
       "      <td>14</td>\n",
       "      <td>15200</td>\n",
       "    </tr>\n",
       "    <tr>\n",
       "      <th>2</th>\n",
       "      <td>0</td>\n",
       "      <td>850</td>\n",
       "      <td>0</td>\n",
       "      <td>0</td>\n",
       "      <td>10</td>\n",
       "      <td>0</td>\n",
       "      <td>2</td>\n",
       "      <td>0</td>\n",
       "      <td>12</td>\n",
       "      <td>8</td>\n",
       "      <td>16</td>\n",
       "      <td>1422</td>\n",
       "    </tr>\n",
       "    <tr>\n",
       "      <th>3</th>\n",
       "      <td>0</td>\n",
       "      <td>826</td>\n",
       "      <td>0</td>\n",
       "      <td>0</td>\n",
       "      <td>10</td>\n",
       "      <td>0</td>\n",
       "      <td>2</td>\n",
       "      <td>0</td>\n",
       "      <td>12</td>\n",
       "      <td>14</td>\n",
       "      <td>16</td>\n",
       "      <td>1057</td>\n",
       "    </tr>\n",
       "    <tr>\n",
       "      <th>4</th>\n",
       "      <td>1</td>\n",
       "      <td>2732</td>\n",
       "      <td>1</td>\n",
       "      <td>6</td>\n",
       "      <td>16</td>\n",
       "      <td>2</td>\n",
       "      <td>4</td>\n",
       "      <td>0</td>\n",
       "      <td>8</td>\n",
       "      <td>8</td>\n",
       "      <td>16</td>\n",
       "      <td>7969</td>\n",
       "    </tr>\n",
       "  </tbody>\n",
       "</table>\n",
       "</div>"
      ],
      "text/plain": [
       "  customer_id product_id  sex  age_group  job_code  City_Category  \\\n",
       "0           0        670    0          0        10              0   \n",
       "1           0       2374    0          0        10              0   \n",
       "2           0        850    0          0        10              0   \n",
       "3           0        826    0          0        10              0   \n",
       "4           1       2732    1          6        16              2   \n",
       "\n",
       "   Stay_In_Current_City_Years  married  product_category_1  \\\n",
       "0                           2        0                   3   \n",
       "1                           2        0                   1   \n",
       "2                           2        0                  12   \n",
       "3                           2        0                  12   \n",
       "4                           4        0                   8   \n",
       "\n",
       "   product_category_2  product_category_3  Total_Purchase_Amount  \n",
       "0                   8                  16                   8370  \n",
       "1                   6                  14                  15200  \n",
       "2                   8                  16                   1422  \n",
       "3                  14                  16                   1057  \n",
       "4                   8                  16                   7969  "
      ]
     },
     "execution_count": 190,
     "metadata": {},
     "output_type": "execute_result"
    }
   ],
   "source": [
    "df.head()"
   ]
  },
  {
   "cell_type": "code",
   "execution_count": 111,
   "metadata": {},
   "outputs": [],
   "source": [
    "# #Dummy Variables:\n",
    "# df = pd.get_dummies(df, columns=['Stay_In_Current_City_Years'], drop_first=True)"
   ]
  },
  {
   "cell_type": "code",
   "execution_count": 191,
   "metadata": {},
   "outputs": [
    {
     "name": "stdout",
     "output_type": "stream",
     "text": [
      "<class 'pandas.core.frame.DataFrame'>\n",
      "RangeIndex: 537577 entries, 0 to 537576\n",
      "Data columns (total 12 columns):\n",
      " #   Column                      Non-Null Count   Dtype \n",
      "---  ------                      --------------   ----- \n",
      " 0   customer_id                 537577 non-null  object\n",
      " 1   product_id                  537577 non-null  object\n",
      " 2   sex                         537577 non-null  int64 \n",
      " 3   age_group                   537577 non-null  int64 \n",
      " 4   job_code                    537577 non-null  int64 \n",
      " 5   City_Category               537577 non-null  int64 \n",
      " 6   Stay_In_Current_City_Years  537577 non-null  int64 \n",
      " 7   married                     537577 non-null  int64 \n",
      " 8   product_category_1          537577 non-null  int64 \n",
      " 9   product_category_2          537577 non-null  int64 \n",
      " 10  product_category_3          537577 non-null  int64 \n",
      " 11  Total_Purchase_Amount       537577 non-null  int64 \n",
      "dtypes: int64(10), object(2)\n",
      "memory usage: 49.2+ MB\n"
     ]
    }
   ],
   "source": [
    "df.info()"
   ]
  },
  {
   "cell_type": "code",
   "execution_count": 192,
   "metadata": {},
   "outputs": [],
   "source": [
    "## Train Test Split"
   ]
  },
  {
   "cell_type": "code",
   "execution_count": 193,
   "metadata": {},
   "outputs": [],
   "source": [
    "# Copy all the predictor variables into X dataframe\n",
    "X = df.drop('Total_Purchase_Amount', axis=1)\n",
    "\n",
    "# Copy target into the y dataframe. \n",
    "y = df[['Total_Purchase_Amount']]"
   ]
  },
  {
   "cell_type": "code",
   "execution_count": 194,
   "metadata": {},
   "outputs": [],
   "source": [
    "# Split X and y into training and test set in 75:25 ratio\n",
    "from sklearn.model_selection import train_test_split\n",
    "X_train, X_test, y_train, y_test = train_test_split(X, \n",
    "                                                    y, \n",
    "                                                    test_size=0.25,\n",
    "                                                    random_state=1)"
   ]
  },
  {
   "cell_type": "code",
   "execution_count": 195,
   "metadata": {},
   "outputs": [],
   "source": [
    "from sklearn.tree import DecisionTreeRegressor"
   ]
  },
  {
   "cell_type": "code",
   "execution_count": 196,
   "metadata": {},
   "outputs": [],
   "source": [
    "Decision_model = DecisionTreeRegressor()\n",
    "Decision_model.fit(X_train,y_train)\n",
    "# Training Data Class Prediction with a cut-off value of 0.5\n",
    "pred_class_train = Decision_model.predict(X_train)\n",
    "\n",
    "# Test Data Class Prediction with a cut-off value of 0.5\n",
    "pred_class_test =Decision_model.predict(X_test)\n"
   ]
  },
  {
   "cell_type": "code",
   "execution_count": 197,
   "metadata": {},
   "outputs": [
    {
     "name": "stdout",
     "output_type": "stream",
     "text": [
      "RMSE Error: 3787.524073906923\n",
      "R2 Score: 0.4198844162490114\n"
     ]
    }
   ],
   "source": [
    "from sklearn.metrics import mean_squared_error, r2_score\n",
    "mse = mean_squared_error(y_test, pred_class_test)\n",
    "print(\"RMSE Error:\", np.sqrt(mse))\n",
    "r2 = r2_score(y_test, pred_class_test)\n",
    "print(\"R2 Score:\", r2)"
   ]
  },
  {
   "cell_type": "code",
   "execution_count": 198,
   "metadata": {},
   "outputs": [
    {
     "data": {
      "text/plain": [
       "array([0.11924728, 0.0823332 , 0.00935129, 0.02927893, 0.05008244,\n",
       "       0.01532666, 0.03067094, 0.01168493, 0.62767848, 0.01285017,\n",
       "       0.01149567])"
      ]
     },
     "execution_count": 198,
     "metadata": {},
     "output_type": "execute_result"
    }
   ],
   "source": [
    "importance = Decision_model.feature_importances_\n",
    "importance"
   ]
  },
  {
   "cell_type": "code",
   "execution_count": 199,
   "metadata": {},
   "outputs": [
    {
     "data": {
      "text/plain": [
       "<AxesSubplot:>"
      ]
     },
     "execution_count": 199,
     "metadata": {},
     "output_type": "execute_result"
    },
    {
     "data": {
      "image/png": "[encoded data removed]",
      "text/plain": [
       "<Figure size 1800x432 with 1 Axes>"
      ]
     },
     "metadata": {},
     "output_type": "display_data"
    }
   ],
   "source": [
    "(pd.Series(importance, index=X.columns)\n",
    "   .nlargest(15)\n",
    "   .plot(kind='barh'))  "
   ]
  },
  {
   "cell_type": "code",
   "execution_count": 200,
   "metadata": {},
   "outputs": [],
   "source": [
    "## Product Category 1 is the most significant feature.. New features should be generated for this feature to understand the impact on model performance"
   ]
  },
  {
   "cell_type": "code",
   "execution_count": 122,
   "metadata": {},
   "outputs": [],
   "source": [
    "## Before generation of new features.. Let's build another model using advanced algorithms like gradient boosting.. To see \n",
    "## how boosting has helped to improve the performance "
   ]
  },
  {
   "cell_type": "code",
   "execution_count": 201,
   "metadata": {},
   "outputs": [],
   "source": [
    "from sklearn.ensemble import GradientBoostingRegressor\n",
    "\n",
    "from math import *\n",
    "\n",
    "model = GradientBoostingRegressor(n_estimators = 100, \n",
    "                                  max_depth = 5, \n",
    "                                  min_samples_split = 2,\n",
    "                                  learning_rate = 0.1)\n",
    "model.fit(X_train, y_train)\n",
    "\n",
    "y_pred = model.predict(X_test)"
   ]
  },
  {
   "cell_type": "code",
   "execution_count": 202,
   "metadata": {},
   "outputs": [
    {
     "name": "stdout",
     "output_type": "stream",
     "text": [
      "RMSE Error: 2807.482944270394\n",
      "R2 Score: 0.6812589628934171\n"
     ]
    }
   ],
   "source": [
    "# finding the mean_squared error\n",
    "mse = mean_squared_error(y_test, y_pred)\n",
    "print(\"RMSE Error:\", np.sqrt(mse))\n",
    "\n",
    "# finding the r2 score or the variance\n",
    "r2 = r2_score(y_test, y_pred)\n",
    "print(\"R2 Score:\", r2)"
   ]
  },
  {
   "cell_type": "code",
   "execution_count": 125,
   "metadata": {},
   "outputs": [],
   "source": [
    "## This model is better than the Decision Tree Regressor..\n",
    "\n",
    "## We should try to use some other algorithms like linear regression including regularisation technique to compare the model performance\n",
    "## before generation of any new feature"
   ]
  },
  {
   "cell_type": "markdown",
   "metadata": {},
   "source": [
    "## Step 2 - New Features"
   ]
  },
  {
   "cell_type": "code",
   "execution_count": 126,
   "metadata": {},
   "outputs": [],
   "source": [
    "## We could apply the Feature enginnering on the original data set and then split it into train and test\n",
    "## However for the session to ensure that performance is being measured on the same set of rows , feature engiinering is applied in the train \n",
    "## and then the same object is used to do a fit on the test split data frame"
   ]
  },
  {
   "cell_type": "code",
   "execution_count": 203,
   "metadata": {},
   "outputs": [],
   "source": [
    "## Full Test and Train\n",
    "full_train_data = X_train.copy()\n",
    "full_train_data['Total_Purchase_Amount'] = y_train\n",
    "\n",
    "full_test_data = X_test.copy()\n",
    "full_test_data['Total_Purchase_Amount'] = y_test"
   ]
  },
  {
   "cell_type": "code",
   "execution_count": 128,
   "metadata": {},
   "outputs": [],
   "source": [
    "## As we have multiple records for a customer id.. let's calculate the mean value for each customer and include that as a feature\n",
    "## Similarly mean value of the total purchase amount based on each product id"
   ]
  },
  {
   "cell_type": "code",
   "execution_count": 204,
   "metadata": {},
   "outputs": [],
   "source": [
    "X_train[\"customer_id_MeanPrice\"] = full_train_data.groupby(['customer_id'])['Total_Purchase_Amount'].transform('mean')"
   ]
  },
  {
   "cell_type": "code",
   "execution_count": 205,
   "metadata": {},
   "outputs": [
    {
     "data": {
      "text/html": [
       "<div>\n",
       "<style scoped>\n",
       "    .dataframe tbody tr th:only-of-type {\n",
       "        vertical-align: middle;\n",
       "    }\n",
       "\n",
       "    .dataframe tbody tr th {\n",
       "        vertical-align: top;\n",
       "    }\n",
       "\n",
       "    .dataframe thead th {\n",
       "        text-align: right;\n",
       "    }\n",
       "</style>\n",
       "<table border=\"1\" class=\"dataframe\">\n",
       "  <thead>\n",
       "    <tr style=\"text-align: right;\">\n",
       "      <th></th>\n",
       "      <th>customer_id</th>\n",
       "      <th>product_id</th>\n",
       "      <th>sex</th>\n",
       "      <th>age_group</th>\n",
       "      <th>job_code</th>\n",
       "      <th>City_Category</th>\n",
       "      <th>Stay_In_Current_City_Years</th>\n",
       "      <th>married</th>\n",
       "      <th>product_category_1</th>\n",
       "      <th>product_category_2</th>\n",
       "      <th>product_category_3</th>\n",
       "      <th>customer_id_MeanPrice</th>\n",
       "    </tr>\n",
       "  </thead>\n",
       "  <tbody>\n",
       "    <tr>\n",
       "      <th>464186</th>\n",
       "      <td>5363</td>\n",
       "      <td>2646</td>\n",
       "      <td>1</td>\n",
       "      <td>2</td>\n",
       "      <td>2</td>\n",
       "      <td>0</td>\n",
       "      <td>4</td>\n",
       "      <td>0</td>\n",
       "      <td>8</td>\n",
       "      <td>11</td>\n",
       "      <td>16</td>\n",
       "      <td>9077.777778</td>\n",
       "    </tr>\n",
       "    <tr>\n",
       "      <th>327960</th>\n",
       "      <td>2434</td>\n",
       "      <td>1776</td>\n",
       "      <td>0</td>\n",
       "      <td>2</td>\n",
       "      <td>14</td>\n",
       "      <td>0</td>\n",
       "      <td>4</td>\n",
       "      <td>0</td>\n",
       "      <td>8</td>\n",
       "      <td>14</td>\n",
       "      <td>16</td>\n",
       "      <td>7224.972222</td>\n",
       "    </tr>\n",
       "    <tr>\n",
       "      <th>429851</th>\n",
       "      <td>169</td>\n",
       "      <td>931</td>\n",
       "      <td>1</td>\n",
       "      <td>2</td>\n",
       "      <td>0</td>\n",
       "      <td>1</td>\n",
       "      <td>1</td>\n",
       "      <td>1</td>\n",
       "      <td>8</td>\n",
       "      <td>12</td>\n",
       "      <td>16</td>\n",
       "      <td>10247.024793</td>\n",
       "    </tr>\n",
       "    <tr>\n",
       "      <th>468081</th>\n",
       "      <td>78</td>\n",
       "      <td>3068</td>\n",
       "      <td>0</td>\n",
       "      <td>2</td>\n",
       "      <td>0</td>\n",
       "      <td>0</td>\n",
       "      <td>1</td>\n",
       "      <td>1</td>\n",
       "      <td>6</td>\n",
       "      <td>10</td>\n",
       "      <td>16</td>\n",
       "      <td>12291.244444</td>\n",
       "    </tr>\n",
       "    <tr>\n",
       "      <th>146929</th>\n",
       "      <td>4528</td>\n",
       "      <td>1277</td>\n",
       "      <td>1</td>\n",
       "      <td>2</td>\n",
       "      <td>0</td>\n",
       "      <td>0</td>\n",
       "      <td>0</td>\n",
       "      <td>0</td>\n",
       "      <td>5</td>\n",
       "      <td>8</td>\n",
       "      <td>16</td>\n",
       "      <td>7814.576087</td>\n",
       "    </tr>\n",
       "  </tbody>\n",
       "</table>\n",
       "</div>"
      ],
      "text/plain": [
       "       customer_id product_id  sex  age_group  job_code  City_Category  \\\n",
       "464186        5363       2646    1          2         2              0   \n",
       "327960        2434       1776    0          2        14              0   \n",
       "429851         169        931    1          2         0              1   \n",
       "468081          78       3068    0          2         0              0   \n",
       "146929        4528       1277    1          2         0              0   \n",
       "\n",
       "        Stay_In_Current_City_Years  married  product_category_1  \\\n",
       "464186                           4        0                   8   \n",
       "327960                           4        0                   8   \n",
       "429851                           1        1                   8   \n",
       "468081                           1        1                   6   \n",
       "146929                           0        0                   5   \n",
       "\n",
       "        product_category_2  product_category_3  customer_id_MeanPrice  \n",
       "464186                  11                  16            9077.777778  \n",
       "327960                  14                  16            7224.972222  \n",
       "429851                  12                  16           10247.024793  \n",
       "468081                  10                  16           12291.244444  \n",
       "146929                   8                  16            7814.576087  "
      ]
     },
     "execution_count": 205,
     "metadata": {},
     "output_type": "execute_result"
    }
   ],
   "source": [
    "X_train.head()"
   ]
  },
  {
   "cell_type": "code",
   "execution_count": 206,
   "metadata": {},
   "outputs": [],
   "source": [
    "X_train[\"customer_id_MeanPrice\"] = full_train_data.groupby(['customer_id'])['Total_Purchase_Amount'].transform('mean')\n",
    "userID_mean_dict = full_train_data.groupby(['customer_id'])['Total_Purchase_Amount'].mean().to_dict()\n",
    "X_test['customer_id_MeanPrice'] = full_test_data['customer_id'].apply(lambda x:userID_mean_dict.get(x,0))\n",
    "\n",
    "X_train[\"product_id_MeanPrice\"] = full_train_data.groupby(['product_id'])['Total_Purchase_Amount'].transform('mean')\n",
    "productID_mean_dict = full_train_data.groupby(['product_id'])['Total_Purchase_Amount'].mean().to_dict()\n",
    "X_test['product_id_MeanPrice'] = full_test_data['product_id'].apply(lambda x:productID_mean_dict.get(x,0))"
   ]
  },
  {
   "cell_type": "code",
   "execution_count": 207,
   "metadata": {},
   "outputs": [
    {
     "name": "stdout",
     "output_type": "stream",
     "text": [
      "<class 'pandas.core.frame.DataFrame'>\n",
      "Int64Index: 403182 entries, 464186 to 128037\n",
      "Data columns (total 13 columns):\n",
      " #   Column                      Non-Null Count   Dtype  \n",
      "---  ------                      --------------   -----  \n",
      " 0   customer_id                 403182 non-null  object \n",
      " 1   product_id                  403182 non-null  object \n",
      " 2   sex                         403182 non-null  int64  \n",
      " 3   age_group                   403182 non-null  int64  \n",
      " 4   job_code                    403182 non-null  int64  \n",
      " 5   City_Category               403182 non-null  int64  \n",
      " 6   Stay_In_Current_City_Years  403182 non-null  int64  \n",
      " 7   married                     403182 non-null  int64  \n",
      " 8   product_category_1          403182 non-null  int64  \n",
      " 9   product_category_2          403182 non-null  int64  \n",
      " 10  product_category_3          403182 non-null  int64  \n",
      " 11  customer_id_MeanPrice       403182 non-null  float64\n",
      " 12  product_id_MeanPrice        403182 non-null  float64\n",
      "dtypes: float64(2), int64(9), object(2)\n",
      "memory usage: 43.1+ MB\n"
     ]
    }
   ],
   "source": [
    "X_train.info()"
   ]
  },
  {
   "cell_type": "code",
   "execution_count": 208,
   "metadata": {},
   "outputs": [
    {
     "name": "stdout",
     "output_type": "stream",
     "text": [
      "<class 'pandas.core.frame.DataFrame'>\n",
      "Int64Index: 134395 entries, 94689 to 386316\n",
      "Data columns (total 13 columns):\n",
      " #   Column                      Non-Null Count   Dtype  \n",
      "---  ------                      --------------   -----  \n",
      " 0   customer_id                 134395 non-null  object \n",
      " 1   product_id                  134395 non-null  object \n",
      " 2   sex                         134395 non-null  int64  \n",
      " 3   age_group                   134395 non-null  int64  \n",
      " 4   job_code                    134395 non-null  int64  \n",
      " 5   City_Category               134395 non-null  int64  \n",
      " 6   Stay_In_Current_City_Years  134395 non-null  int64  \n",
      " 7   married                     134395 non-null  int64  \n",
      " 8   product_category_1          134395 non-null  int64  \n",
      " 9   product_category_2          134395 non-null  int64  \n",
      " 10  product_category_3          134395 non-null  int64  \n",
      " 11  customer_id_MeanPrice       134395 non-null  float64\n",
      " 12  product_id_MeanPrice        134395 non-null  float64\n",
      "dtypes: float64(2), int64(9), object(2)\n",
      "memory usage: 14.4+ MB\n"
     ]
    }
   ],
   "source": [
    "X_test.info()"
   ]
  },
  {
   "cell_type": "code",
   "execution_count": 209,
   "metadata": {},
   "outputs": [],
   "source": [
    "Decision_model_2 = DecisionTreeRegressor()\n",
    "Decision_model_2.fit(X_train,y_train)\n",
    "# Training Data Class Prediction with a cut-off value of 0.5\n",
    "pred_class_train = Decision_model_2.predict(X_train)\n",
    "\n",
    "# Test Data Class Prediction with a cut-off value of 0.5\n",
    "pred_class_test =Decision_model_2.predict(X_test)\n"
   ]
  },
  {
   "cell_type": "code",
   "execution_count": 210,
   "metadata": {},
   "outputs": [
    {
     "name": "stdout",
     "output_type": "stream",
     "text": [
      "RMSE Error: 3559.5323127308734\n",
      "R2 Score: 0.48762302218910547\n"
     ]
    }
   ],
   "source": [
    "mse = mean_squared_error(y_test, pred_class_test)\n",
    "print(\"RMSE Error:\", np.sqrt(mse))\n",
    "r2 = r2_score(y_test, pred_class_test)\n",
    "print(\"R2 Score:\", r2)"
   ]
  },
  {
   "cell_type": "code",
   "execution_count": 211,
   "metadata": {},
   "outputs": [
    {
     "data": {
      "text/plain": [
       "array([0.04313813, 0.03538111, 0.00359948, 0.01419052, 0.02224904,\n",
       "       0.00858714, 0.01391373, 0.00508123, 0.00946426, 0.01471079,\n",
       "       0.00952558, 0.06911058, 0.75104841])"
      ]
     },
     "execution_count": 211,
     "metadata": {},
     "output_type": "execute_result"
    }
   ],
   "source": [
    "importance = Decision_model_2.feature_importances_\n",
    "importance"
   ]
  },
  {
   "cell_type": "code",
   "execution_count": 212,
   "metadata": {},
   "outputs": [
    {
     "data": {
      "text/plain": [
       "<AxesSubplot:>"
      ]
     },
     "execution_count": 212,
     "metadata": {},
     "output_type": "execute_result"
    },
    {
     "data": {
      "image/png": "[encoded data removed]",
      "text/plain": [
       "<Figure size 1800x432 with 1 Axes>"
      ]
     },
     "metadata": {},
     "output_type": "display_data"
    }
   ],
   "source": [
    "(pd.Series(importance, index=X_train.columns)\n",
    "   .nlargest(16)\n",
    "   .plot(kind='barh'))  "
   ]
  },
  {
   "cell_type": "code",
   "execution_count": 213,
   "metadata": {},
   "outputs": [],
   "source": [
    "## Both the new created featues are significant..R2 and RMSE has improved in comparison to earlier model"
   ]
  },
  {
   "cell_type": "code",
   "execution_count": 214,
   "metadata": {},
   "outputs": [],
   "source": [
    "## Let's create features with max and min value of the total purchase amount grouped by customer id and product id as \n",
    "## the earlier created features were significant"
   ]
  },
  {
   "cell_type": "code",
   "execution_count": 215,
   "metadata": {},
   "outputs": [],
   "source": [
    "X_train[\"customer_id_MaxPrice\"] = full_train_data.groupby(['customer_id'])['Total_Purchase_Amount'].transform('max')\n",
    "userID_max_dict = full_train_data.groupby(['customer_id'])['Total_Purchase_Amount'].max().to_dict()\n",
    "X_test['customer_id_MaxPrice'] = full_test_data['customer_id'].apply(lambda x:userID_max_dict.get(x,0))\n",
    "\n",
    "X_train[\"customer_id_MinPrice\"] = full_train_data.groupby(['customer_id'])['Total_Purchase_Amount'].transform('min')\n",
    "userID_min_dict = full_train_data.groupby(['customer_id'])['Total_Purchase_Amount'].min().to_dict()\n",
    "X_test['customer_id_MinPrice'] = full_test_data['customer_id'].apply(lambda x:userID_min_dict.get(x,0))\n",
    "\n",
    "X_train[\"product_id_MaxPrice\"] = full_train_data.groupby(['product_id'])['Total_Purchase_Amount'].transform('max') \n",
    "productID_max_dict = full_train_data.groupby(['product_id'])['Total_Purchase_Amount'].max().to_dict() \n",
    "X_test['product_id_MaxPrice'] = full_test_data['product_id'].apply(lambda x:productID_max_dict.get(x,0))\n",
    "\n",
    "X_train[\"product_id_MinPrice\"] = full_train_data.groupby(['product_id'])['Total_Purchase_Amount'].transform('min')\n",
    "productID_min_dict = full_train_data.groupby(['product_id'])['Total_Purchase_Amount'].min().to_dict()\n",
    "X_test['product_id_MinPrice'] = full_test_data['product_id'].apply(lambda x:productID_min_dict.get(x,0))"
   ]
  },
  {
   "cell_type": "code",
   "execution_count": 216,
   "metadata": {},
   "outputs": [
    {
     "name": "stdout",
     "output_type": "stream",
     "text": [
      "<class 'pandas.core.frame.DataFrame'>\n",
      "Int64Index: 403182 entries, 464186 to 128037\n",
      "Data columns (total 17 columns):\n",
      " #   Column                      Non-Null Count   Dtype  \n",
      "---  ------                      --------------   -----  \n",
      " 0   customer_id                 403182 non-null  object \n",
      " 1   product_id                  403182 non-null  object \n",
      " 2   sex                         403182 non-null  int64  \n",
      " 3   age_group                   403182 non-null  int64  \n",
      " 4   job_code                    403182 non-null  int64  \n",
      " 5   City_Category               403182 non-null  int64  \n",
      " 6   Stay_In_Current_City_Years  403182 non-null  int64  \n",
      " 7   married                     403182 non-null  int64  \n",
      " 8   product_category_1          403182 non-null  int64  \n",
      " 9   product_category_2          403182 non-null  int64  \n",
      " 10  product_category_3          403182 non-null  int64  \n",
      " 11  customer_id_MeanPrice       403182 non-null  float64\n",
      " 12  product_id_MeanPrice        403182 non-null  float64\n",
      " 13  customer_id_MaxPrice        403182 non-null  int64  \n",
      " 14  customer_id_MinPrice        403182 non-null  int64  \n",
      " 15  product_id_MaxPrice         403182 non-null  int64  \n",
      " 16  product_id_MinPrice         403182 non-null  int64  \n",
      "dtypes: float64(2), int64(13), object(2)\n",
      "memory usage: 55.4+ MB\n"
     ]
    }
   ],
   "source": [
    "X_train.info()"
   ]
  },
  {
   "cell_type": "code",
   "execution_count": 217,
   "metadata": {},
   "outputs": [
    {
     "name": "stdout",
     "output_type": "stream",
     "text": [
      "<class 'pandas.core.frame.DataFrame'>\n",
      "Int64Index: 134395 entries, 94689 to 386316\n",
      "Data columns (total 17 columns):\n",
      " #   Column                      Non-Null Count   Dtype  \n",
      "---  ------                      --------------   -----  \n",
      " 0   customer_id                 134395 non-null  object \n",
      " 1   product_id                  134395 non-null  object \n",
      " 2   sex                         134395 non-null  int64  \n",
      " 3   age_group                   134395 non-null  int64  \n",
      " 4   job_code                    134395 non-null  int64  \n",
      " 5   City_Category               134395 non-null  int64  \n",
      " 6   Stay_In_Current_City_Years  134395 non-null  int64  \n",
      " 7   married                     134395 non-null  int64  \n",
      " 8   product_category_1          134395 non-null  int64  \n",
      " 9   product_category_2          134395 non-null  int64  \n",
      " 10  product_category_3          134395 non-null  int64  \n",
      " 11  customer_id_MeanPrice       134395 non-null  float64\n",
      " 12  product_id_MeanPrice        134395 non-null  float64\n",
      " 13  customer_id_MaxPrice        134395 non-null  int64  \n",
      " 14  customer_id_MinPrice        134395 non-null  int64  \n",
      " 15  product_id_MaxPrice         134395 non-null  int64  \n",
      " 16  product_id_MinPrice         134395 non-null  int64  \n",
      "dtypes: float64(2), int64(13), object(2)\n",
      "memory usage: 18.5+ MB\n"
     ]
    }
   ],
   "source": [
    "X_test.info()"
   ]
  },
  {
   "cell_type": "code",
   "execution_count": 218,
   "metadata": {},
   "outputs": [],
   "source": [
    "Decision_model_3 = DecisionTreeRegressor()\n",
    "Decision_model_3.fit(X_train,y_train)\n",
    "# Training Data Class Prediction with a cut-off value of 0.5\n",
    "pred_class_train = Decision_model_3.predict(X_train)\n",
    "\n",
    "# Test Data Class Prediction with a cut-off value of 0.5\n",
    "pred_class_test =Decision_model_3.predict(X_test)"
   ]
  },
  {
   "cell_type": "code",
   "execution_count": 219,
   "metadata": {},
   "outputs": [
    {
     "name": "stdout",
     "output_type": "stream",
     "text": [
      "RMSE Error: 3561.0384665075476\n",
      "R2 Score: 0.4871893237579715\n"
     ]
    }
   ],
   "source": [
    "mse = mean_squared_error(y_test, pred_class_test)\n",
    "print(\"RMSE Error:\", np.sqrt(mse))\n",
    "r2 = r2_score(y_test, pred_class_test)\n",
    "print(\"R2 Score:\", r2)"
   ]
  },
  {
   "cell_type": "code",
   "execution_count": 220,
   "metadata": {},
   "outputs": [
    {
     "data": {
      "text/plain": [
       "<AxesSubplot:>"
      ]
     },
     "execution_count": 220,
     "metadata": {},
     "output_type": "execute_result"
    },
    {
     "data": {
      "image/png": "[encoded data removed]",
      "text/plain": [
       "<Figure size 1800x432 with 1 Axes>"
      ]
     },
     "metadata": {},
     "output_type": "display_data"
    }
   ],
   "source": [
    "importance = Decision_model_3.feature_importances_\n",
    "importance\n",
    "(pd.Series(importance, index=X_train.columns)\n",
    "   .nlargest(19)\n",
    "   .plot(kind='barh'))  "
   ]
  },
  {
   "cell_type": "code",
   "execution_count": 221,
   "metadata": {},
   "outputs": [],
   "source": [
    "## Marginal improvement in R2 and RMSE.. Newly created features are significant"
   ]
  },
  {
   "cell_type": "code",
   "execution_count": 222,
   "metadata": {},
   "outputs": [],
   "source": [
    "## As Product Category 1 was the most significant feature in the orginal dataset, lets create new feature using max, min and mean value for Total pourchase amount\n",
    "## For all categorical features, count is done for each level/category and the same is added as a new feature"
   ]
  },
  {
   "cell_type": "code",
   "execution_count": 223,
   "metadata": {},
   "outputs": [],
   "source": [
    "X_train[\"Product_Cat1_MaxPrice\"] = full_train_data.groupby(['product_category_1'])['Total_Purchase_Amount'].transform('max')\n",
    "pc1_max_dict = full_train_data.groupby(['product_category_1'])['Total_Purchase_Amount'].max().to_dict() \n",
    "X_test['Product_Cat1_MaxPrice'] = full_test_data['product_category_1'].apply(lambda x:pc1_max_dict.get(x,0))\n",
    "\n",
    "X_train[\"Product_Cat1_MinPrice\"] = full_train_data.groupby(['product_category_1'])['Total_Purchase_Amount'].transform('min') \n",
    "pc1_min_dict = full_train_data.groupby(['product_category_1'])['Total_Purchase_Amount'].min().to_dict() \n",
    "X_test['Product_Cat1_MinPrice'] = full_test_data['product_category_1'].apply(lambda x:pc1_min_dict.get(x,0))\n",
    "\n",
    "X_train[\"Product_Cat1_MeanPrice\"] = full_train_data.groupby(['product_category_1'])['Total_Purchase_Amount'].transform('mean') \n",
    "pc1_mean_dict = full_train_data.groupby(['product_category_1'])['Total_Purchase_Amount'].mean().to_dict() \n",
    "X_test['Product_Cat1_MeanPrice'] = full_test_data['product_category_1'].apply(lambda x:pc1_mean_dict.get(x,0))\n",
    "\n",
    "\n",
    "X_train[\"customer_id_Count\"] = full_train_data.groupby(['customer_id'])['customer_id'].transform('count')\n",
    "customerid_count_dict = full_train_data.groupby(['customer_id']).size().to_dict()\n",
    "X_test[' customer_id_Count'] = full_test_data['customer_id'].apply(lambda x:customerid_count_dict.get(x,0))\n",
    " \n",
    "X_train[\"Product_ID_Count\"] = full_train_data.groupby(['product_id'])['product_id'].transform('count')\n",
    "productID_count_dict = full_train_data.groupby(['product_id']).size().to_dict()\n",
    "X_test['Product_ID_Count'] = full_test_data['product_id'].apply(lambda x:productID_count_dict.get(x,0))\n",
    "\n",
    "\n",
    "X_train[\"Age_Group_Count\"] = full_train_data.groupby(['age_group'])['age_group'].transform('count')\n",
    "age_count_dict = full_train_data.groupby(['age_group']).size().to_dict()\n",
    "X_test['Age_Group_Count'] = full_test_data['age_group'].apply(lambda x:age_count_dict.get(x,0))\n",
    " \n",
    "X_train[\"job_code_Count\"] = full_train_data.groupby(['job_code'])['job_code'].transform('count')\n",
    "occupation_count_dict = full_train_data.groupby(['job_code']).size().to_dict()\n",
    "X_test['job_code_Count'] = full_test_data['job_code'].apply(lambda x:occupation_count_dict.get(x,0))\n",
    " \n",
    "X_train[\"Product_Category_2_Count\"] = full_train_data.groupby(['product_category_2'])['product_category_2'].transform('count')\n",
    "pc2_count_dict = full_train_data.groupby(['product_category_2']).size().to_dict()\n",
    "X_test['Product_Category_2_Count'] = full_test_data['product_category_2'].apply(lambda x:pc2_count_dict.get(x,0))\n",
    " \n",
    "X_train[\"Product_Category_3_Count\"] = full_train_data.groupby(['product_category_3'])['product_category_3'].transform('count')\n",
    "pc3_count_dict = full_train_data.groupby(['product_category_3']).size().to_dict()\n",
    "X_test['Product_Category_3_Count'] = full_test_data['product_category_3'].apply(lambda x:pc3_count_dict.get(x,0))\n",
    "\n",
    "\n",
    "X_train[\"Product_Category_1_Count\"] = full_train_data.groupby(['product_category_1'])['product_category_1'].transform('count')\n",
    "pc1_count_dict = full_train_data.groupby(['product_category_1']).size().to_dict()\n",
    "X_test['Product_Category_1_Count'] = full_test_data['product_category_1'].apply(lambda x:pc1_count_dict.get(x,0))"
   ]
  },
  {
   "cell_type": "code",
   "execution_count": 224,
   "metadata": {},
   "outputs": [
    {
     "data": {
      "text/html": [
       "<div>\n",
       "<style scoped>\n",
       "    .dataframe tbody tr th:only-of-type {\n",
       "        vertical-align: middle;\n",
       "    }\n",
       "\n",
       "    .dataframe tbody tr th {\n",
       "        vertical-align: top;\n",
       "    }\n",
       "\n",
       "    .dataframe thead th {\n",
       "        text-align: right;\n",
       "    }\n",
       "</style>\n",
       "<table border=\"1\" class=\"dataframe\">\n",
       "  <thead>\n",
       "    <tr style=\"text-align: right;\">\n",
       "      <th></th>\n",
       "      <th>customer_id</th>\n",
       "      <th>product_id</th>\n",
       "      <th>sex</th>\n",
       "      <th>age_group</th>\n",
       "      <th>job_code</th>\n",
       "      <th>City_Category</th>\n",
       "      <th>Stay_In_Current_City_Years</th>\n",
       "      <th>married</th>\n",
       "      <th>product_category_1</th>\n",
       "      <th>product_category_2</th>\n",
       "      <th>...</th>\n",
       "      <th>Product_Cat1_MaxPrice</th>\n",
       "      <th>Product_Cat1_MinPrice</th>\n",
       "      <th>Product_Cat1_MeanPrice</th>\n",
       "      <th>customer_id_Count</th>\n",
       "      <th>Product_ID_Count</th>\n",
       "      <th>Age_Group_Count</th>\n",
       "      <th>job_code_Count</th>\n",
       "      <th>Product_Category_2_Count</th>\n",
       "      <th>Product_Category_3_Count</th>\n",
       "      <th>Product_Category_1_Count</th>\n",
       "    </tr>\n",
       "  </thead>\n",
       "  <tbody>\n",
       "    <tr>\n",
       "      <th>94689</th>\n",
       "      <td>2560</td>\n",
       "      <td>903</td>\n",
       "      <td>1</td>\n",
       "      <td>6</td>\n",
       "      <td>1</td>\n",
       "      <td>0</td>\n",
       "      <td>3</td>\n",
       "      <td>1</td>\n",
       "      <td>8</td>\n",
       "      <td>8</td>\n",
       "      <td>...</td>\n",
       "      <td>10082</td>\n",
       "      <td>1939</td>\n",
       "      <td>7498.118332</td>\n",
       "      <td>122</td>\n",
       "      <td>182</td>\n",
       "      <td>15691</td>\n",
       "      <td>34451</td>\n",
       "      <td>172401</td>\n",
       "      <td>303962</td>\n",
       "      <td>84221</td>\n",
       "    </tr>\n",
       "    <tr>\n",
       "      <th>107751</th>\n",
       "      <td>4447</td>\n",
       "      <td>1624</td>\n",
       "      <td>0</td>\n",
       "      <td>2</td>\n",
       "      <td>9</td>\n",
       "      <td>2</td>\n",
       "      <td>2</td>\n",
       "      <td>1</td>\n",
       "      <td>3</td>\n",
       "      <td>4</td>\n",
       "      <td>...</td>\n",
       "      <td>13717</td>\n",
       "      <td>2638</td>\n",
       "      <td>10092.423854</td>\n",
       "      <td>49</td>\n",
       "      <td>213</td>\n",
       "      <td>160885</td>\n",
       "      <td>4599</td>\n",
       "      <td>19022</td>\n",
       "      <td>303962</td>\n",
       "      <td>14991</td>\n",
       "    </tr>\n",
       "    <tr>\n",
       "      <th>254948</th>\n",
       "      <td>3272</td>\n",
       "      <td>2703</td>\n",
       "      <td>1</td>\n",
       "      <td>5</td>\n",
       "      <td>17</td>\n",
       "      <td>2</td>\n",
       "      <td>3</td>\n",
       "      <td>1</td>\n",
       "      <td>5</td>\n",
       "      <td>8</td>\n",
       "      <td>...</td>\n",
       "      <td>8907</td>\n",
       "      <td>1713</td>\n",
       "      <td>6240.393320</td>\n",
       "      <td>151</td>\n",
       "      <td>238</td>\n",
       "      <td>28165</td>\n",
       "      <td>29312</td>\n",
       "      <td>172401</td>\n",
       "      <td>3441</td>\n",
       "      <td>111230</td>\n",
       "    </tr>\n",
       "    <tr>\n",
       "      <th>134132</th>\n",
       "      <td>2643</td>\n",
       "      <td>825</td>\n",
       "      <td>1</td>\n",
       "      <td>2</td>\n",
       "      <td>12</td>\n",
       "      <td>2</td>\n",
       "      <td>3</td>\n",
       "      <td>0</td>\n",
       "      <td>10</td>\n",
       "      <td>13</td>\n",
       "      <td>...</td>\n",
       "      <td>23961</td>\n",
       "      <td>4624</td>\n",
       "      <td>19717.892725</td>\n",
       "      <td>48</td>\n",
       "      <td>416</td>\n",
       "      <td>160885</td>\n",
       "      <td>22732</td>\n",
       "      <td>7772</td>\n",
       "      <td>303962</td>\n",
       "      <td>3794</td>\n",
       "    </tr>\n",
       "    <tr>\n",
       "      <th>481870</th>\n",
       "      <td>2084</td>\n",
       "      <td>480</td>\n",
       "      <td>1</td>\n",
       "      <td>1</td>\n",
       "      <td>0</td>\n",
       "      <td>2</td>\n",
       "      <td>1</td>\n",
       "      <td>1</td>\n",
       "      <td>1</td>\n",
       "      <td>4</td>\n",
       "      <td>...</td>\n",
       "      <td>19708</td>\n",
       "      <td>3790</td>\n",
       "      <td>13615.385825</td>\n",
       "      <td>37</td>\n",
       "      <td>59</td>\n",
       "      <td>73223</td>\n",
       "      <td>51199</td>\n",
       "      <td>19022</td>\n",
       "      <td>303962</td>\n",
       "      <td>103674</td>\n",
       "    </tr>\n",
       "  </tbody>\n",
       "</table>\n",
       "<p>5 rows × 27 columns</p>\n",
       "</div>"
      ],
      "text/plain": [
       "       customer_id product_id  sex  age_group  job_code  City_Category  \\\n",
       "94689         2560        903    1          6         1              0   \n",
       "107751        4447       1624    0          2         9              2   \n",
       "254948        3272       2703    1          5        17              2   \n",
       "134132        2643        825    1          2        12              2   \n",
       "481870        2084        480    1          1         0              2   \n",
       "\n",
       "        Stay_In_Current_City_Years  married  product_category_1  \\\n",
       "94689                            3        1                   8   \n",
       "107751                           2        1                   3   \n",
       "254948                           3        1                   5   \n",
       "134132                           3        0                  10   \n",
       "481870                           1        1                   1   \n",
       "\n",
       "        product_category_2  ...  Product_Cat1_MaxPrice  Product_Cat1_MinPrice  \\\n",
       "94689                    8  ...                  10082                   1939   \n",
       "107751                   4  ...                  13717                   2638   \n",
       "254948                   8  ...                   8907                   1713   \n",
       "134132                  13  ...                  23961                   4624   \n",
       "481870                   4  ...                  19708                   3790   \n",
       "\n",
       "        Product_Cat1_MeanPrice   customer_id_Count  Product_ID_Count  \\\n",
       "94689              7498.118332                 122               182   \n",
       "107751            10092.423854                  49               213   \n",
       "254948             6240.393320                 151               238   \n",
       "134132            19717.892725                  48               416   \n",
       "481870            13615.385825                  37                59   \n",
       "\n",
       "        Age_Group_Count  job_code_Count  Product_Category_2_Count  \\\n",
       "94689             15691           34451                    172401   \n",
       "107751           160885            4599                     19022   \n",
       "254948            28165           29312                    172401   \n",
       "134132           160885           22732                      7772   \n",
       "481870            73223           51199                     19022   \n",
       "\n",
       "        Product_Category_3_Count  Product_Category_1_Count  \n",
       "94689                     303962                     84221  \n",
       "107751                    303962                     14991  \n",
       "254948                      3441                    111230  \n",
       "134132                    303962                      3794  \n",
       "481870                    303962                    103674  \n",
       "\n",
       "[5 rows x 27 columns]"
      ]
     },
     "execution_count": 224,
     "metadata": {},
     "output_type": "execute_result"
    }
   ],
   "source": [
    "X_test.head()"
   ]
  },
  {
   "cell_type": "code",
   "execution_count": 152,
   "metadata": {},
   "outputs": [
    {
     "name": "stdout",
     "output_type": "stream",
     "text": [
      "<class 'pandas.core.frame.DataFrame'>\n",
      "Int64Index: 403182 entries, 464186 to 128037\n",
      "Data columns (total 30 columns):\n",
      " #   Column                        Non-Null Count   Dtype  \n",
      "---  ------                        --------------   -----  \n",
      " 0   customer_id                   403182 non-null  object \n",
      " 1   product_id                    403182 non-null  object \n",
      " 2   sex                           403182 non-null  int64  \n",
      " 3   age_group                     403182 non-null  int64  \n",
      " 4   job_code                      403182 non-null  int64  \n",
      " 5   City_Category                 403182 non-null  int64  \n",
      " 6   married                       403182 non-null  int64  \n",
      " 7   product_category_1            403182 non-null  int64  \n",
      " 8   product_category_2            403182 non-null  int64  \n",
      " 9   product_category_3            403182 non-null  int64  \n",
      " 10  Stay_In_Current_City_Years_1  403182 non-null  uint8  \n",
      " 11  Stay_In_Current_City_Years_2  403182 non-null  uint8  \n",
      " 12  Stay_In_Current_City_Years_3  403182 non-null  uint8  \n",
      " 13  Stay_In_Current_City_Years_4  403182 non-null  uint8  \n",
      " 14  customer_id_MeanPrice         403182 non-null  float64\n",
      " 15  product_id_MeanPrice          403182 non-null  float64\n",
      " 16  customer_id_MaxPrice          403182 non-null  int64  \n",
      " 17  customer_id_MinPrice          403182 non-null  int64  \n",
      " 18  product_id_MaxPrice           403182 non-null  int64  \n",
      " 19  product_id_MinPrice           403182 non-null  int64  \n",
      " 20  Product_Cat1_MaxPrice         403182 non-null  int64  \n",
      " 21  Product_Cat1_MinPrice         403182 non-null  int64  \n",
      " 22  Product_Cat1_MeanPrice        403182 non-null  float64\n",
      " 23  customer_id_Count             403182 non-null  int64  \n",
      " 24  Product_ID_Count              403182 non-null  int64  \n",
      " 25  Age_Group_Count               403182 non-null  int64  \n",
      " 26  job_code_Count                403182 non-null  int64  \n",
      " 27  Product_Category_2_Count      403182 non-null  int64  \n",
      " 28  Product_Category_3_Count      403182 non-null  int64  \n",
      " 29  Product_Category_1_Count      403182 non-null  int64  \n",
      "dtypes: float64(3), int64(21), object(2), uint8(4)\n",
      "memory usage: 84.6+ MB\n"
     ]
    }
   ],
   "source": [
    "X_train.info()"
   ]
  },
  {
   "cell_type": "code",
   "execution_count": 225,
   "metadata": {},
   "outputs": [
    {
     "name": "stdout",
     "output_type": "stream",
     "text": [
      "<class 'pandas.core.frame.DataFrame'>\n",
      "Int64Index: 134395 entries, 94689 to 386316\n",
      "Data columns (total 27 columns):\n",
      " #   Column                      Non-Null Count   Dtype  \n",
      "---  ------                      --------------   -----  \n",
      " 0   customer_id                 134395 non-null  object \n",
      " 1   product_id                  134395 non-null  object \n",
      " 2   sex                         134395 non-null  int64  \n",
      " 3   age_group                   134395 non-null  int64  \n",
      " 4   job_code                    134395 non-null  int64  \n",
      " 5   City_Category               134395 non-null  int64  \n",
      " 6   Stay_In_Current_City_Years  134395 non-null  int64  \n",
      " 7   married                     134395 non-null  int64  \n",
      " 8   product_category_1          134395 non-null  int64  \n",
      " 9   product_category_2          134395 non-null  int64  \n",
      " 10  product_category_3          134395 non-null  int64  \n",
      " 11  customer_id_MeanPrice       134395 non-null  float64\n",
      " 12  product_id_MeanPrice        134395 non-null  float64\n",
      " 13  customer_id_MaxPrice        134395 non-null  int64  \n",
      " 14  customer_id_MinPrice        134395 non-null  int64  \n",
      " 15  product_id_MaxPrice         134395 non-null  int64  \n",
      " 16  product_id_MinPrice         134395 non-null  int64  \n",
      " 17  Product_Cat1_MaxPrice       134395 non-null  int64  \n",
      " 18  Product_Cat1_MinPrice       134395 non-null  int64  \n",
      " 19  Product_Cat1_MeanPrice      134395 non-null  float64\n",
      " 20   customer_id_Count          134395 non-null  int64  \n",
      " 21  Product_ID_Count            134395 non-null  int64  \n",
      " 22  Age_Group_Count             134395 non-null  int64  \n",
      " 23  job_code_Count              134395 non-null  int64  \n",
      " 24  Product_Category_2_Count    134395 non-null  int64  \n",
      " 25  Product_Category_3_Count    134395 non-null  int64  \n",
      " 26  Product_Category_1_Count    134395 non-null  int64  \n",
      "dtypes: float64(3), int64(22), object(2)\n",
      "memory usage: 28.7+ MB\n"
     ]
    }
   ],
   "source": [
    "X_test.info()"
   ]
  },
  {
   "cell_type": "code",
   "execution_count": 226,
   "metadata": {},
   "outputs": [],
   "source": [
    "Decision_model_4 = DecisionTreeRegressor()\n",
    "Decision_model_4.fit(X_train,y_train)\n",
    "# Training Data Class Prediction with a cut-off value of 0.5\n",
    "pred_class_train = Decision_model_4.predict(X_train)\n",
    "\n",
    "# Test Data Class Prediction with a cut-off value of 0.5\n",
    "pred_class_test =Decision_model_4.predict(X_test)"
   ]
  },
  {
   "cell_type": "code",
   "execution_count": 227,
   "metadata": {},
   "outputs": [
    {
     "name": "stdout",
     "output_type": "stream",
     "text": [
      "RMSE Error: 3548.3734833166595\n",
      "R2 Score: 0.4908305027287133\n"
     ]
    }
   ],
   "source": [
    "mse = mean_squared_error(y_test, pred_class_test)\n",
    "print(\"RMSE Error:\", np.sqrt(mse))\n",
    "r2 = r2_score(y_test, pred_class_test)\n",
    "print(\"R2 Score:\", r2)"
   ]
  },
  {
   "cell_type": "code",
   "execution_count": 228,
   "metadata": {},
   "outputs": [
    {
     "data": {
      "text/plain": [
       "<AxesSubplot:>"
      ]
     },
     "execution_count": 228,
     "metadata": {},
     "output_type": "execute_result"
    },
    {
     "data": {
      "image/png": "[encoded data removed]",
      "text/plain": [
       "<Figure size 1800x432 with 1 Axes>"
      ]
     },
     "metadata": {},
     "output_type": "display_data"
    }
   ],
   "source": [
    "importance = Decision_model_4.feature_importances_\n",
    "importance\n",
    "(pd.Series(importance, index=X_train.columns)\n",
    "   .nlargest(29)\n",
    "   .plot(kind='barh'))  "
   ]
  },
  {
   "cell_type": "code",
   "execution_count": 229,
   "metadata": {},
   "outputs": [],
   "source": [
    "## Further improvement in performance"
   ]
  },
  {
   "cell_type": "code",
   "execution_count": 158,
   "metadata": {},
   "outputs": [],
   "source": [
    "from sklearn.ensemble import GradientBoostingRegressor\n",
    "\n",
    "from math import *\n",
    "\n",
    "model = GradientBoostingRegressor(n_estimators = 100, \n",
    "                                  max_depth = 5, \n",
    "                                  min_samples_split = 2, \n",
    "                                  learning_rate = 0.1)\n",
    "model.fit(X_train, y_train)\n",
    "\n",
    "y_pred = model.predict(X_test)"
   ]
  },
  {
   "cell_type": "code",
   "execution_count": 159,
   "metadata": {},
   "outputs": [
    {
     "name": "stdout",
     "output_type": "stream",
     "text": [
      "RMSE Error: 2546.1206273725306\n",
      "R2 Score: 0.7378428669475615\n"
     ]
    }
   ],
   "source": [
    "\n",
    "# finding the mean_squared error\n",
    "mse = mean_squared_error(y_test, y_pred)\n",
    "print(\"RMSE Error:\", np.sqrt(mse))\n",
    "\n",
    "# finding the r2 score or the variance\n",
    "r2 = r2_score(y_test, y_pred)\n",
    "print(\"R2 Score:\", r2)"
   ]
  },
  {
   "cell_type": "markdown",
   "metadata": {},
   "source": [
    "## Some more features which could be created\n",
    "\n",
    "(i) Age 26-35 is the most significant age group in the data set.. Also average purchase amount is differnt for married customers. Can these two features be combined\n",
    "\n",
    "(ii) Dummeies from Product category 1 as this was the most significant feature in the original data\n",
    "\n",
    "(ii) Convert the new  mean feature created after grouping based on customer id and total purchase amount in to categorical e.g. look at the quartile value and then define 10 category of customers\n"
   ]
  },
  {
   "cell_type": "code",
   "execution_count": 76,
   "metadata": {},
   "outputs": [],
   "source": [
    "###################################################################\n",
    "#######################################################################"
   ]
  },
  {
   "cell_type": "code",
   "execution_count": 77,
   "metadata": {},
   "outputs": [],
   "source": [
    "#### Another Way to Create FEatures ###################333"
   ]
  },
  {
   "cell_type": "markdown",
   "metadata": {},
   "source": [
    "We can create dummy for products i.e. for each product make it 1 if the user has bought it or 0 otherwise .\n",
    "\n",
    "We can do this for some seleted number of products like top 100 products (by number of transactions).\n",
    "\n",
    "Also we can select top categories like 18 categories in product_category_1\n",
    "\n",
    "So we are going to find 100 most selling products and 18 categories (by number of transactions) \n",
    "For each user, put purchase amount of this product/product category as a new feature thus  adding totally 118 new features \n"
   ]
  },
  {
   "cell_type": "code",
   "execution_count": 40,
   "metadata": {},
   "outputs": [],
   "source": [
    "new_df=df.copy()"
   ]
  },
  {
   "cell_type": "code",
   "execution_count": 41,
   "metadata": {},
   "outputs": [
    {
     "data": {
      "text/html": [
       "<div>\n",
       "<style scoped>\n",
       "    .dataframe tbody tr th:only-of-type {\n",
       "        vertical-align: middle;\n",
       "    }\n",
       "\n",
       "    .dataframe tbody tr th {\n",
       "        vertical-align: top;\n",
       "    }\n",
       "\n",
       "    .dataframe thead th {\n",
       "        text-align: right;\n",
       "    }\n",
       "</style>\n",
       "<table border=\"1\" class=\"dataframe\">\n",
       "  <thead>\n",
       "    <tr style=\"text-align: right;\">\n",
       "      <th></th>\n",
       "      <th>customer_id</th>\n",
       "      <th>product_id</th>\n",
       "      <th>Gender</th>\n",
       "      <th>age_group</th>\n",
       "      <th>job_code</th>\n",
       "      <th>City_Category</th>\n",
       "      <th>Stay_In_Current_City_Years</th>\n",
       "      <th>married</th>\n",
       "      <th>Product_Category_1</th>\n",
       "      <th>Product_Category_2</th>\n",
       "      <th>Product_Category_3</th>\n",
       "      <th>Total_Purchase_Amount</th>\n",
       "    </tr>\n",
       "  </thead>\n",
       "  <tbody>\n",
       "    <tr>\n",
       "      <th>0</th>\n",
       "      <td>1000001</td>\n",
       "      <td>P00069042</td>\n",
       "      <td>F</td>\n",
       "      <td>0-17</td>\n",
       "      <td>10</td>\n",
       "      <td>A</td>\n",
       "      <td>2</td>\n",
       "      <td>0</td>\n",
       "      <td>3</td>\n",
       "      <td>NaN</td>\n",
       "      <td>NaN</td>\n",
       "      <td>8370</td>\n",
       "    </tr>\n",
       "    <tr>\n",
       "      <th>1</th>\n",
       "      <td>1000001</td>\n",
       "      <td>P00248942</td>\n",
       "      <td>F</td>\n",
       "      <td>0-17</td>\n",
       "      <td>10</td>\n",
       "      <td>A</td>\n",
       "      <td>2</td>\n",
       "      <td>0</td>\n",
       "      <td>1</td>\n",
       "      <td>6.0</td>\n",
       "      <td>14.0</td>\n",
       "      <td>15200</td>\n",
       "    </tr>\n",
       "    <tr>\n",
       "      <th>2</th>\n",
       "      <td>1000001</td>\n",
       "      <td>P00087842</td>\n",
       "      <td>F</td>\n",
       "      <td>0-17</td>\n",
       "      <td>10</td>\n",
       "      <td>A</td>\n",
       "      <td>2</td>\n",
       "      <td>0</td>\n",
       "      <td>12</td>\n",
       "      <td>NaN</td>\n",
       "      <td>NaN</td>\n",
       "      <td>1422</td>\n",
       "    </tr>\n",
       "    <tr>\n",
       "      <th>3</th>\n",
       "      <td>1000001</td>\n",
       "      <td>P00085442</td>\n",
       "      <td>F</td>\n",
       "      <td>0-17</td>\n",
       "      <td>10</td>\n",
       "      <td>A</td>\n",
       "      <td>2</td>\n",
       "      <td>0</td>\n",
       "      <td>12</td>\n",
       "      <td>14.0</td>\n",
       "      <td>NaN</td>\n",
       "      <td>1057</td>\n",
       "    </tr>\n",
       "    <tr>\n",
       "      <th>4</th>\n",
       "      <td>1000002</td>\n",
       "      <td>P00285442</td>\n",
       "      <td>M</td>\n",
       "      <td>55+</td>\n",
       "      <td>16</td>\n",
       "      <td>C</td>\n",
       "      <td>4+</td>\n",
       "      <td>0</td>\n",
       "      <td>8</td>\n",
       "      <td>NaN</td>\n",
       "      <td>NaN</td>\n",
       "      <td>7969</td>\n",
       "    </tr>\n",
       "  </tbody>\n",
       "</table>\n",
       "</div>"
      ],
      "text/plain": [
       "   customer_id product_id Gender age_group  job_code City_Category  \\\n",
       "0      1000001  P00069042      F      0-17        10             A   \n",
       "1      1000001  P00248942      F      0-17        10             A   \n",
       "2      1000001  P00087842      F      0-17        10             A   \n",
       "3      1000001  P00085442      F      0-17        10             A   \n",
       "4      1000002  P00285442      M       55+        16             C   \n",
       "\n",
       "  Stay_In_Current_City_Years  married  Product_Category_1  Product_Category_2  \\\n",
       "0                          2        0                   3                 NaN   \n",
       "1                          2        0                   1                 6.0   \n",
       "2                          2        0                  12                 NaN   \n",
       "3                          2        0                  12                14.0   \n",
       "4                         4+        0                   8                 NaN   \n",
       "\n",
       "   Product_Category_3  Total_Purchase_Amount  \n",
       "0                 NaN                   8370  \n",
       "1                14.0                  15200  \n",
       "2                 NaN                   1422  \n",
       "3                 NaN                   1057  \n",
       "4                 NaN                   7969  "
      ]
     },
     "execution_count": 41,
     "metadata": {},
     "output_type": "execute_result"
    }
   ],
   "source": [
    "new_df.head()"
   ]
  },
  {
   "cell_type": "code",
   "execution_count": 42,
   "metadata": {},
   "outputs": [],
   "source": [
    "columns = ['product_id', 'Product_Category_1']\n",
    "for column in columns:\n",
    "    top_100 = df[column].value_counts().index[:100]    \n",
    "    user_purchase = pd.pivot_table(\n",
    "        df[['customer_id', column, 'Total_Purchase_Amount']],\n",
    "        values='Total_Purchase_Amount',\n",
    "        index='customer_id',\n",
    "        columns=column,\n",
    "        aggfunc=np.sum\n",
    "    ).fillna(0)[top_100]  \n",
    "    new_df = new_df.join(user_purchase)"
   ]
  },
  {
   "cell_type": "code",
   "execution_count": 43,
   "metadata": {},
   "outputs": [
    {
     "name": "stdout",
     "output_type": "stream",
     "text": [
      "<class 'pandas.core.frame.DataFrame'>\n",
      "RangeIndex: 537577 entries, 0 to 537576\n",
      "Columns: 130 entries, customer_id to 9\n",
      "dtypes: float64(120), int64(5), object(5)\n",
      "memory usage: 533.2+ MB\n"
     ]
    }
   ],
   "source": [
    "new_df.info()"
   ]
  }
 ],
 "metadata": {
  "kernelspec": {
   "display_name": "Python 3 (ipykernel)",
   "language": "python",
   "name": "python3"
  },
  "language_info": {
   "codemirror_mode": {
    "name": "ipython",
    "version": 3
   },
   "file_extension": ".py",
   "mimetype": "text/x-python",
   "name": "python",
   "nbconvert_exporter": "python",
   "pygments_lexer": "ipython3",
   "version": "3.9.7"
  }
 },
 "nbformat": 4,
 "nbformat_minor": 4
}
