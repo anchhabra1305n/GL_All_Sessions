{
 "cells": [
  {
   "cell_type": "markdown",
   "id": "2c886ab4",
   "metadata": {},
   "source": [
    "### Importing Required Libraries"
   ]
  },
  {
   "cell_type": "code",
   "execution_count": 1,
   "id": "ec40de7d",
   "metadata": {},
   "outputs": [],
   "source": [
    "import numpy as np\n",
    "import pandas as pd\n",
    "import matplotlib.pyplot as plt\n",
    "import seaborn as sns"
   ]
  },
  {
   "cell_type": "code",
   "execution_count": 2,
   "id": "b9c6b6ec",
   "metadata": {},
   "outputs": [],
   "source": [
    "from warnings import filterwarnings\n",
    "filterwarnings('ignore')"
   ]
  },
  {
   "cell_type": "markdown",
   "id": "9aba01ca",
   "metadata": {},
   "source": [
    "### Importing Data Set"
   ]
  },
  {
   "cell_type": "code",
   "execution_count": 3,
   "id": "2c1348aa",
   "metadata": {
    "scrolled": true
   },
   "outputs": [
    {
     "data": {
      "text/html": [
       "<div>\n",
       "<style scoped>\n",
       "    .dataframe tbody tr th:only-of-type {\n",
       "        vertical-align: middle;\n",
       "    }\n",
       "\n",
       "    .dataframe tbody tr th {\n",
       "        vertical-align: top;\n",
       "    }\n",
       "\n",
       "    .dataframe thead th {\n",
       "        text-align: right;\n",
       "    }\n",
       "</style>\n",
       "<table border=\"1\" class=\"dataframe\">\n",
       "  <thead>\n",
       "    <tr style=\"text-align: right;\">\n",
       "      <th></th>\n",
       "      <th>Game_number</th>\n",
       "      <th>Result</th>\n",
       "      <th>Avg_team_Age</th>\n",
       "      <th>Match_light_type</th>\n",
       "      <th>Match_format</th>\n",
       "      <th>Bowlers_in_team</th>\n",
       "      <th>Wicket_keeper_in_team</th>\n",
       "      <th>All_rounder_in_team</th>\n",
       "      <th>First_selection</th>\n",
       "      <th>Opponent</th>\n",
       "      <th>...</th>\n",
       "      <th>Max_run_scored_1over</th>\n",
       "      <th>Max_wicket_taken_1over</th>\n",
       "      <th>Extra_bowls_bowled</th>\n",
       "      <th>Min_run_given_1over</th>\n",
       "      <th>Min_run_scored_1over</th>\n",
       "      <th>Max_run_given_1over</th>\n",
       "      <th>extra_bowls_opponent</th>\n",
       "      <th>player_highest_run</th>\n",
       "      <th>Players_scored_zero</th>\n",
       "      <th>player_highest_wicket</th>\n",
       "    </tr>\n",
       "  </thead>\n",
       "  <tbody>\n",
       "    <tr>\n",
       "      <th>0</th>\n",
       "      <td>Game_1</td>\n",
       "      <td>Loss</td>\n",
       "      <td>18.0</td>\n",
       "      <td>Day</td>\n",
       "      <td>ODI</td>\n",
       "      <td>3.0</td>\n",
       "      <td>1</td>\n",
       "      <td>3.0</td>\n",
       "      <td>Bowling</td>\n",
       "      <td>Srilanka</td>\n",
       "      <td>...</td>\n",
       "      <td>13.0</td>\n",
       "      <td>3</td>\n",
       "      <td>0.0</td>\n",
       "      <td>2</td>\n",
       "      <td>3.0</td>\n",
       "      <td>6.0</td>\n",
       "      <td>0</td>\n",
       "      <td>54.0</td>\n",
       "      <td>3</td>\n",
       "      <td>1</td>\n",
       "    </tr>\n",
       "    <tr>\n",
       "      <th>1</th>\n",
       "      <td>Game_2</td>\n",
       "      <td>Win</td>\n",
       "      <td>24.0</td>\n",
       "      <td>Day</td>\n",
       "      <td>T20</td>\n",
       "      <td>3.0</td>\n",
       "      <td>1</td>\n",
       "      <td>4.0</td>\n",
       "      <td>Batting</td>\n",
       "      <td>Zimbabwe</td>\n",
       "      <td>...</td>\n",
       "      <td>12.0</td>\n",
       "      <td>1</td>\n",
       "      <td>0.0</td>\n",
       "      <td>0</td>\n",
       "      <td>3.0</td>\n",
       "      <td>6.0</td>\n",
       "      <td>0</td>\n",
       "      <td>69.0</td>\n",
       "      <td>2</td>\n",
       "      <td>1</td>\n",
       "    </tr>\n",
       "    <tr>\n",
       "      <th>2</th>\n",
       "      <td>Game_3</td>\n",
       "      <td>Loss</td>\n",
       "      <td>24.0</td>\n",
       "      <td>Day and Night</td>\n",
       "      <td>T20</td>\n",
       "      <td>3.0</td>\n",
       "      <td>1</td>\n",
       "      <td>2.0</td>\n",
       "      <td>Bowling</td>\n",
       "      <td>Zimbabwe</td>\n",
       "      <td>...</td>\n",
       "      <td>14.0</td>\n",
       "      <td>4</td>\n",
       "      <td>0.0</td>\n",
       "      <td>0</td>\n",
       "      <td>3.0</td>\n",
       "      <td>6.0</td>\n",
       "      <td>0</td>\n",
       "      <td>69.0</td>\n",
       "      <td>3</td>\n",
       "      <td>1</td>\n",
       "    </tr>\n",
       "    <tr>\n",
       "      <th>3</th>\n",
       "      <td>Game_4</td>\n",
       "      <td>Win</td>\n",
       "      <td>24.0</td>\n",
       "      <td>NaN</td>\n",
       "      <td>ODI</td>\n",
       "      <td>2.0</td>\n",
       "      <td>1</td>\n",
       "      <td>2.0</td>\n",
       "      <td>Bowling</td>\n",
       "      <td>Kenya</td>\n",
       "      <td>...</td>\n",
       "      <td>15.0</td>\n",
       "      <td>4</td>\n",
       "      <td>0.0</td>\n",
       "      <td>2</td>\n",
       "      <td>3.0</td>\n",
       "      <td>6.0</td>\n",
       "      <td>0</td>\n",
       "      <td>73.0</td>\n",
       "      <td>3</td>\n",
       "      <td>1</td>\n",
       "    </tr>\n",
       "    <tr>\n",
       "      <th>4</th>\n",
       "      <td>Game_5</td>\n",
       "      <td>Loss</td>\n",
       "      <td>24.0</td>\n",
       "      <td>Night</td>\n",
       "      <td>ODI</td>\n",
       "      <td>1.0</td>\n",
       "      <td>1</td>\n",
       "      <td>3.0</td>\n",
       "      <td>Bowling</td>\n",
       "      <td>Srilanka</td>\n",
       "      <td>...</td>\n",
       "      <td>12.0</td>\n",
       "      <td>4</td>\n",
       "      <td>0.0</td>\n",
       "      <td>0</td>\n",
       "      <td>3.0</td>\n",
       "      <td>6.0</td>\n",
       "      <td>0</td>\n",
       "      <td>80.0</td>\n",
       "      <td>3</td>\n",
       "      <td>1</td>\n",
       "    </tr>\n",
       "  </tbody>\n",
       "</table>\n",
       "<p>5 rows × 23 columns</p>\n",
       "</div>"
      ],
      "text/plain": [
       "  Game_number Result  Avg_team_Age Match_light_type Match_format  \\\n",
       "0      Game_1   Loss          18.0              Day          ODI   \n",
       "1      Game_2    Win          24.0              Day          T20   \n",
       "2      Game_3   Loss          24.0    Day and Night          T20   \n",
       "3      Game_4    Win          24.0              NaN          ODI   \n",
       "4      Game_5   Loss          24.0            Night          ODI   \n",
       "\n",
       "   Bowlers_in_team  Wicket_keeper_in_team  All_rounder_in_team  \\\n",
       "0              3.0                      1                  3.0   \n",
       "1              3.0                      1                  4.0   \n",
       "2              3.0                      1                  2.0   \n",
       "3              2.0                      1                  2.0   \n",
       "4              1.0                      1                  3.0   \n",
       "\n",
       "  First_selection  Opponent  ... Max_run_scored_1over  Max_wicket_taken_1over  \\\n",
       "0         Bowling  Srilanka  ...                 13.0                       3   \n",
       "1         Batting  Zimbabwe  ...                 12.0                       1   \n",
       "2         Bowling  Zimbabwe  ...                 14.0                       4   \n",
       "3         Bowling     Kenya  ...                 15.0                       4   \n",
       "4         Bowling  Srilanka  ...                 12.0                       4   \n",
       "\n",
       "  Extra_bowls_bowled  Min_run_given_1over  Min_run_scored_1over  \\\n",
       "0                0.0                    2                   3.0   \n",
       "1                0.0                    0                   3.0   \n",
       "2                0.0                    0                   3.0   \n",
       "3                0.0                    2                   3.0   \n",
       "4                0.0                    0                   3.0   \n",
       "\n",
       "   Max_run_given_1over  extra_bowls_opponent  player_highest_run  \\\n",
       "0                  6.0                     0                54.0   \n",
       "1                  6.0                     0                69.0   \n",
       "2                  6.0                     0                69.0   \n",
       "3                  6.0                     0                73.0   \n",
       "4                  6.0                     0                80.0   \n",
       "\n",
       "   Players_scored_zero  player_highest_wicket  \n",
       "0                    3                      1  \n",
       "1                    2                      1  \n",
       "2                    3                      1  \n",
       "3                    3                      1  \n",
       "4                    3                      1  \n",
       "\n",
       "[5 rows x 23 columns]"
      ]
     },
     "execution_count": 3,
     "metadata": {},
     "output_type": "execute_result"
    }
   ],
   "source": [
    "df = pd.read_excel(\"Sports Data.xlsx\",sheet_name = \"Sports data for DSBA\")\n",
    "df.head()"
   ]
  },
  {
   "cell_type": "code",
   "execution_count": 4,
   "id": "e28140a0",
   "metadata": {},
   "outputs": [
    {
     "data": {
      "text/html": [
       "<div>\n",
       "<style scoped>\n",
       "    .dataframe tbody tr th:only-of-type {\n",
       "        vertical-align: middle;\n",
       "    }\n",
       "\n",
       "    .dataframe tbody tr th {\n",
       "        vertical-align: top;\n",
       "    }\n",
       "\n",
       "    .dataframe thead th {\n",
       "        text-align: right;\n",
       "    }\n",
       "</style>\n",
       "<table border=\"1\" class=\"dataframe\">\n",
       "  <thead>\n",
       "    <tr style=\"text-align: right;\">\n",
       "      <th></th>\n",
       "      <th>Game_number</th>\n",
       "      <th>Result</th>\n",
       "      <th>Avg_team_Age</th>\n",
       "      <th>Match_light_type</th>\n",
       "      <th>Match_format</th>\n",
       "      <th>Bowlers_in_team</th>\n",
       "      <th>Wicket_keeper_in_team</th>\n",
       "      <th>All_rounder_in_team</th>\n",
       "      <th>First_selection</th>\n",
       "      <th>Opponent</th>\n",
       "      <th>...</th>\n",
       "      <th>Max_run_scored_1over</th>\n",
       "      <th>Max_wicket_taken_1over</th>\n",
       "      <th>Extra_bowls_bowled</th>\n",
       "      <th>Min_run_given_1over</th>\n",
       "      <th>Min_run_scored_1over</th>\n",
       "      <th>Max_run_given_1over</th>\n",
       "      <th>extra_bowls_opponent</th>\n",
       "      <th>player_highest_run</th>\n",
       "      <th>Players_scored_zero</th>\n",
       "      <th>player_highest_wicket</th>\n",
       "    </tr>\n",
       "  </thead>\n",
       "  <tbody>\n",
       "    <tr>\n",
       "      <th>2925</th>\n",
       "      <td>Game_2926</td>\n",
       "      <td>Win</td>\n",
       "      <td>30.0</td>\n",
       "      <td>Day</td>\n",
       "      <td>T20</td>\n",
       "      <td>3.0</td>\n",
       "      <td>1</td>\n",
       "      <td>4.0</td>\n",
       "      <td>Batting</td>\n",
       "      <td>South Africa</td>\n",
       "      <td>...</td>\n",
       "      <td>15.0</td>\n",
       "      <td>3</td>\n",
       "      <td>8.0</td>\n",
       "      <td>0</td>\n",
       "      <td>3.0</td>\n",
       "      <td>6.0</td>\n",
       "      <td>3</td>\n",
       "      <td>50.0</td>\n",
       "      <td>3</td>\n",
       "      <td>2</td>\n",
       "    </tr>\n",
       "    <tr>\n",
       "      <th>2926</th>\n",
       "      <td>Game_2927</td>\n",
       "      <td>Win</td>\n",
       "      <td>30.0</td>\n",
       "      <td>Day</td>\n",
       "      <td>ODI</td>\n",
       "      <td>4.0</td>\n",
       "      <td>1</td>\n",
       "      <td>3.0</td>\n",
       "      <td>Bowling</td>\n",
       "      <td>Kenya</td>\n",
       "      <td>...</td>\n",
       "      <td>14.0</td>\n",
       "      <td>4</td>\n",
       "      <td>8.0</td>\n",
       "      <td>2</td>\n",
       "      <td>3.0</td>\n",
       "      <td>6.0</td>\n",
       "      <td>2</td>\n",
       "      <td>52.0</td>\n",
       "      <td>2</td>\n",
       "      <td>1</td>\n",
       "    </tr>\n",
       "    <tr>\n",
       "      <th>2927</th>\n",
       "      <td>Game_2928</td>\n",
       "      <td>Win</td>\n",
       "      <td>30.0</td>\n",
       "      <td>Day and Night</td>\n",
       "      <td>ODI</td>\n",
       "      <td>4.0</td>\n",
       "      <td>1</td>\n",
       "      <td>3.0</td>\n",
       "      <td>Bowling</td>\n",
       "      <td>Pakistan</td>\n",
       "      <td>...</td>\n",
       "      <td>14.0</td>\n",
       "      <td>4</td>\n",
       "      <td>10.0</td>\n",
       "      <td>2</td>\n",
       "      <td>4.0</td>\n",
       "      <td>10.0</td>\n",
       "      <td>2</td>\n",
       "      <td>80.0</td>\n",
       "      <td>3</td>\n",
       "      <td>2</td>\n",
       "    </tr>\n",
       "    <tr>\n",
       "      <th>2928</th>\n",
       "      <td>Game_2929</td>\n",
       "      <td>Win</td>\n",
       "      <td>30.0</td>\n",
       "      <td>Day</td>\n",
       "      <td>ODI</td>\n",
       "      <td>4.0</td>\n",
       "      <td>1</td>\n",
       "      <td>3.0</td>\n",
       "      <td>Batting</td>\n",
       "      <td>Kenya</td>\n",
       "      <td>...</td>\n",
       "      <td>14.0</td>\n",
       "      <td>2</td>\n",
       "      <td>20.0</td>\n",
       "      <td>2</td>\n",
       "      <td>3.0</td>\n",
       "      <td>6.0</td>\n",
       "      <td>3</td>\n",
       "      <td>98.0</td>\n",
       "      <td>3</td>\n",
       "      <td>1</td>\n",
       "    </tr>\n",
       "    <tr>\n",
       "      <th>2929</th>\n",
       "      <td>Game_2930</td>\n",
       "      <td>Win</td>\n",
       "      <td>30.0</td>\n",
       "      <td>Day</td>\n",
       "      <td>ODI</td>\n",
       "      <td>4.0</td>\n",
       "      <td>1</td>\n",
       "      <td>3.0</td>\n",
       "      <td>Batting</td>\n",
       "      <td>Kenya</td>\n",
       "      <td>...</td>\n",
       "      <td>12.0</td>\n",
       "      <td>4</td>\n",
       "      <td>4.0</td>\n",
       "      <td>5</td>\n",
       "      <td>3.0</td>\n",
       "      <td>6.0</td>\n",
       "      <td>3</td>\n",
       "      <td>62.0</td>\n",
       "      <td>1</td>\n",
       "      <td>1</td>\n",
       "    </tr>\n",
       "  </tbody>\n",
       "</table>\n",
       "<p>5 rows × 23 columns</p>\n",
       "</div>"
      ],
      "text/plain": [
       "     Game_number Result  Avg_team_Age Match_light_type Match_format  \\\n",
       "2925   Game_2926    Win          30.0              Day          T20   \n",
       "2926   Game_2927    Win          30.0              Day          ODI   \n",
       "2927   Game_2928    Win          30.0    Day and Night          ODI   \n",
       "2928   Game_2929    Win          30.0              Day          ODI   \n",
       "2929   Game_2930    Win          30.0              Day          ODI   \n",
       "\n",
       "      Bowlers_in_team  Wicket_keeper_in_team  All_rounder_in_team  \\\n",
       "2925              3.0                      1                  4.0   \n",
       "2926              4.0                      1                  3.0   \n",
       "2927              4.0                      1                  3.0   \n",
       "2928              4.0                      1                  3.0   \n",
       "2929              4.0                      1                  3.0   \n",
       "\n",
       "     First_selection      Opponent  ... Max_run_scored_1over  \\\n",
       "2925         Batting  South Africa  ...                 15.0   \n",
       "2926         Bowling         Kenya  ...                 14.0   \n",
       "2927         Bowling      Pakistan  ...                 14.0   \n",
       "2928         Batting         Kenya  ...                 14.0   \n",
       "2929         Batting         Kenya  ...                 12.0   \n",
       "\n",
       "      Max_wicket_taken_1over Extra_bowls_bowled  Min_run_given_1over  \\\n",
       "2925                       3                8.0                    0   \n",
       "2926                       4                8.0                    2   \n",
       "2927                       4               10.0                    2   \n",
       "2928                       2               20.0                    2   \n",
       "2929                       4                4.0                    5   \n",
       "\n",
       "      Min_run_scored_1over  Max_run_given_1over  extra_bowls_opponent  \\\n",
       "2925                   3.0                  6.0                     3   \n",
       "2926                   3.0                  6.0                     2   \n",
       "2927                   4.0                 10.0                     2   \n",
       "2928                   3.0                  6.0                     3   \n",
       "2929                   3.0                  6.0                     3   \n",
       "\n",
       "      player_highest_run  Players_scored_zero  player_highest_wicket  \n",
       "2925                50.0                    3                      2  \n",
       "2926                52.0                    2                      1  \n",
       "2927                80.0                    3                      2  \n",
       "2928                98.0                    3                      1  \n",
       "2929                62.0                    1                      1  \n",
       "\n",
       "[5 rows x 23 columns]"
      ]
     },
     "execution_count": 4,
     "metadata": {},
     "output_type": "execute_result"
    }
   ],
   "source": [
    "df.tail()"
   ]
  },
  {
   "cell_type": "code",
   "execution_count": 5,
   "id": "6f0362a4",
   "metadata": {},
   "outputs": [
    {
     "data": {
      "text/html": [
       "<div>\n",
       "<style scoped>\n",
       "    .dataframe tbody tr th:only-of-type {\n",
       "        vertical-align: middle;\n",
       "    }\n",
       "\n",
       "    .dataframe tbody tr th {\n",
       "        vertical-align: top;\n",
       "    }\n",
       "\n",
       "    .dataframe thead th {\n",
       "        text-align: right;\n",
       "    }\n",
       "</style>\n",
       "<table border=\"1\" class=\"dataframe\">\n",
       "  <thead>\n",
       "    <tr style=\"text-align: right;\">\n",
       "      <th></th>\n",
       "      <th>Game_number</th>\n",
       "      <th>Result</th>\n",
       "      <th>Avg_team_Age</th>\n",
       "      <th>Match_light_type</th>\n",
       "      <th>Match_format</th>\n",
       "      <th>Bowlers_in_team</th>\n",
       "      <th>Wicket_keeper_in_team</th>\n",
       "      <th>All_rounder_in_team</th>\n",
       "      <th>First_selection</th>\n",
       "      <th>Opponent</th>\n",
       "      <th>...</th>\n",
       "      <th>Max_run_scored_1over</th>\n",
       "      <th>Max_wicket_taken_1over</th>\n",
       "      <th>Extra_bowls_bowled</th>\n",
       "      <th>Min_run_given_1over</th>\n",
       "      <th>Min_run_scored_1over</th>\n",
       "      <th>Max_run_given_1over</th>\n",
       "      <th>extra_bowls_opponent</th>\n",
       "      <th>player_highest_run</th>\n",
       "      <th>Players_scored_zero</th>\n",
       "      <th>player_highest_wicket</th>\n",
       "    </tr>\n",
       "  </thead>\n",
       "  <tbody>\n",
       "    <tr>\n",
       "      <th>0</th>\n",
       "      <td>Game_1</td>\n",
       "      <td>Loss</td>\n",
       "      <td>18.0</td>\n",
       "      <td>Day</td>\n",
       "      <td>ODI</td>\n",
       "      <td>3.0</td>\n",
       "      <td>1</td>\n",
       "      <td>3.0</td>\n",
       "      <td>Bowling</td>\n",
       "      <td>Srilanka</td>\n",
       "      <td>...</td>\n",
       "      <td>13.0</td>\n",
       "      <td>3</td>\n",
       "      <td>0.0</td>\n",
       "      <td>2</td>\n",
       "      <td>3.0</td>\n",
       "      <td>6.0</td>\n",
       "      <td>0</td>\n",
       "      <td>54.0</td>\n",
       "      <td>3</td>\n",
       "      <td>1</td>\n",
       "    </tr>\n",
       "    <tr>\n",
       "      <th>1</th>\n",
       "      <td>Game_2</td>\n",
       "      <td>Win</td>\n",
       "      <td>24.0</td>\n",
       "      <td>Day</td>\n",
       "      <td>T20</td>\n",
       "      <td>3.0</td>\n",
       "      <td>1</td>\n",
       "      <td>4.0</td>\n",
       "      <td>Batting</td>\n",
       "      <td>Zimbabwe</td>\n",
       "      <td>...</td>\n",
       "      <td>12.0</td>\n",
       "      <td>1</td>\n",
       "      <td>0.0</td>\n",
       "      <td>0</td>\n",
       "      <td>3.0</td>\n",
       "      <td>6.0</td>\n",
       "      <td>0</td>\n",
       "      <td>69.0</td>\n",
       "      <td>2</td>\n",
       "      <td>1</td>\n",
       "    </tr>\n",
       "    <tr>\n",
       "      <th>2</th>\n",
       "      <td>Game_3</td>\n",
       "      <td>Loss</td>\n",
       "      <td>24.0</td>\n",
       "      <td>Day and Night</td>\n",
       "      <td>T20</td>\n",
       "      <td>3.0</td>\n",
       "      <td>1</td>\n",
       "      <td>2.0</td>\n",
       "      <td>Bowling</td>\n",
       "      <td>Zimbabwe</td>\n",
       "      <td>...</td>\n",
       "      <td>14.0</td>\n",
       "      <td>4</td>\n",
       "      <td>0.0</td>\n",
       "      <td>0</td>\n",
       "      <td>3.0</td>\n",
       "      <td>6.0</td>\n",
       "      <td>0</td>\n",
       "      <td>69.0</td>\n",
       "      <td>3</td>\n",
       "      <td>1</td>\n",
       "    </tr>\n",
       "    <tr>\n",
       "      <th>3</th>\n",
       "      <td>Game_4</td>\n",
       "      <td>Win</td>\n",
       "      <td>24.0</td>\n",
       "      <td>NaN</td>\n",
       "      <td>ODI</td>\n",
       "      <td>2.0</td>\n",
       "      <td>1</td>\n",
       "      <td>2.0</td>\n",
       "      <td>Bowling</td>\n",
       "      <td>Kenya</td>\n",
       "      <td>...</td>\n",
       "      <td>15.0</td>\n",
       "      <td>4</td>\n",
       "      <td>0.0</td>\n",
       "      <td>2</td>\n",
       "      <td>3.0</td>\n",
       "      <td>6.0</td>\n",
       "      <td>0</td>\n",
       "      <td>73.0</td>\n",
       "      <td>3</td>\n",
       "      <td>1</td>\n",
       "    </tr>\n",
       "    <tr>\n",
       "      <th>4</th>\n",
       "      <td>Game_5</td>\n",
       "      <td>Loss</td>\n",
       "      <td>24.0</td>\n",
       "      <td>Night</td>\n",
       "      <td>ODI</td>\n",
       "      <td>1.0</td>\n",
       "      <td>1</td>\n",
       "      <td>3.0</td>\n",
       "      <td>Bowling</td>\n",
       "      <td>Srilanka</td>\n",
       "      <td>...</td>\n",
       "      <td>12.0</td>\n",
       "      <td>4</td>\n",
       "      <td>0.0</td>\n",
       "      <td>0</td>\n",
       "      <td>3.0</td>\n",
       "      <td>6.0</td>\n",
       "      <td>0</td>\n",
       "      <td>80.0</td>\n",
       "      <td>3</td>\n",
       "      <td>1</td>\n",
       "    </tr>\n",
       "  </tbody>\n",
       "</table>\n",
       "<p>5 rows × 23 columns</p>\n",
       "</div>"
      ],
      "text/plain": [
       "  Game_number Result  Avg_team_Age Match_light_type Match_format  \\\n",
       "0      Game_1   Loss          18.0              Day          ODI   \n",
       "1      Game_2    Win          24.0              Day          T20   \n",
       "2      Game_3   Loss          24.0    Day and Night          T20   \n",
       "3      Game_4    Win          24.0              NaN          ODI   \n",
       "4      Game_5   Loss          24.0            Night          ODI   \n",
       "\n",
       "   Bowlers_in_team  Wicket_keeper_in_team  All_rounder_in_team  \\\n",
       "0              3.0                      1                  3.0   \n",
       "1              3.0                      1                  4.0   \n",
       "2              3.0                      1                  2.0   \n",
       "3              2.0                      1                  2.0   \n",
       "4              1.0                      1                  3.0   \n",
       "\n",
       "  First_selection  Opponent  ... Max_run_scored_1over  Max_wicket_taken_1over  \\\n",
       "0         Bowling  Srilanka  ...                 13.0                       3   \n",
       "1         Batting  Zimbabwe  ...                 12.0                       1   \n",
       "2         Bowling  Zimbabwe  ...                 14.0                       4   \n",
       "3         Bowling     Kenya  ...                 15.0                       4   \n",
       "4         Bowling  Srilanka  ...                 12.0                       4   \n",
       "\n",
       "  Extra_bowls_bowled  Min_run_given_1over  Min_run_scored_1over  \\\n",
       "0                0.0                    2                   3.0   \n",
       "1                0.0                    0                   3.0   \n",
       "2                0.0                    0                   3.0   \n",
       "3                0.0                    2                   3.0   \n",
       "4                0.0                    0                   3.0   \n",
       "\n",
       "   Max_run_given_1over  extra_bowls_opponent  player_highest_run  \\\n",
       "0                  6.0                     0                54.0   \n",
       "1                  6.0                     0                69.0   \n",
       "2                  6.0                     0                69.0   \n",
       "3                  6.0                     0                73.0   \n",
       "4                  6.0                     0                80.0   \n",
       "\n",
       "   Players_scored_zero  player_highest_wicket  \n",
       "0                    3                      1  \n",
       "1                    2                      1  \n",
       "2                    3                      1  \n",
       "3                    3                      1  \n",
       "4                    3                      1  \n",
       "\n",
       "[5 rows x 23 columns]"
      ]
     },
     "execution_count": 5,
     "metadata": {},
     "output_type": "execute_result"
    }
   ],
   "source": [
    "df2 = df.copy()\n",
    "df2.head()"
   ]
  },
  {
   "cell_type": "markdown",
   "id": "f84ca391",
   "metadata": {},
   "source": [
    "### Finding the shape, Info, dimensions and Desciprtion of the data set"
   ]
  },
  {
   "cell_type": "code",
   "execution_count": 6,
   "id": "f47da59d",
   "metadata": {
    "scrolled": true
   },
   "outputs": [
    {
     "name": "stdout",
     "output_type": "stream",
     "text": [
      "No. of rows in the dataset 2930\n",
      "No. of columns in the dataset 23\n"
     ]
    }
   ],
   "source": [
    "print(\"No. of rows in the dataset\", df.shape[0])\n",
    "print(\"No. of columns in the dataset\", df.shape[1])"
   ]
  },
  {
   "cell_type": "code",
   "execution_count": 7,
   "id": "c8906c05",
   "metadata": {},
   "outputs": [
    {
     "name": "stdout",
     "output_type": "stream",
     "text": [
      "<class 'pandas.core.frame.DataFrame'>\n",
      "RangeIndex: 2930 entries, 0 to 2929\n",
      "Data columns (total 23 columns):\n",
      " #   Column                  Non-Null Count  Dtype  \n",
      "---  ------                  --------------  -----  \n",
      " 0   Game_number             2930 non-null   object \n",
      " 1   Result                  2930 non-null   object \n",
      " 2   Avg_team_Age            2833 non-null   float64\n",
      " 3   Match_light_type        2878 non-null   object \n",
      " 4   Match_format            2860 non-null   object \n",
      " 5   Bowlers_in_team         2848 non-null   float64\n",
      " 6   Wicket_keeper_in_team   2930 non-null   int64  \n",
      " 7   All_rounder_in_team     2890 non-null   float64\n",
      " 8   First_selection         2871 non-null   object \n",
      " 9   Opponent                2894 non-null   object \n",
      " 10  Season                  2868 non-null   object \n",
      " 11  Audience_number         2849 non-null   float64\n",
      " 12  Offshore                2866 non-null   object \n",
      " 13  Max_run_scored_1over    2902 non-null   float64\n",
      " 14  Max_wicket_taken_1over  2930 non-null   int64  \n",
      " 15  Extra_bowls_bowled      2901 non-null   float64\n",
      " 16  Min_run_given_1over     2930 non-null   int64  \n",
      " 17  Min_run_scored_1over    2903 non-null   float64\n",
      " 18  Max_run_given_1over     2896 non-null   float64\n",
      " 19  extra_bowls_opponent    2930 non-null   int64  \n",
      " 20  player_highest_run      2902 non-null   float64\n",
      " 21  Players_scored_zero     2930 non-null   object \n",
      " 22  player_highest_wicket   2930 non-null   object \n",
      "dtypes: float64(9), int64(4), object(10)\n",
      "memory usage: 526.6+ KB\n"
     ]
    }
   ],
   "source": [
    "df.info()"
   ]
  },
  {
   "cell_type": "markdown",
   "id": "24e1bd6b",
   "metadata": {},
   "source": [
    "#### Descirptive stats"
   ]
  },
  {
   "cell_type": "code",
   "execution_count": 8,
   "id": "c0712111",
   "metadata": {
    "scrolled": true
   },
   "outputs": [
    {
     "data": {
      "text/html": [
       "<div>\n",
       "<style scoped>\n",
       "    .dataframe tbody tr th:only-of-type {\n",
       "        vertical-align: middle;\n",
       "    }\n",
       "\n",
       "    .dataframe tbody tr th {\n",
       "        vertical-align: top;\n",
       "    }\n",
       "\n",
       "    .dataframe thead th {\n",
       "        text-align: right;\n",
       "    }\n",
       "</style>\n",
       "<table border=\"1\" class=\"dataframe\">\n",
       "  <thead>\n",
       "    <tr style=\"text-align: right;\">\n",
       "      <th></th>\n",
       "      <th>count</th>\n",
       "      <th>mean</th>\n",
       "      <th>std</th>\n",
       "      <th>min</th>\n",
       "      <th>25%</th>\n",
       "      <th>50%</th>\n",
       "      <th>75%</th>\n",
       "      <th>max</th>\n",
       "    </tr>\n",
       "  </thead>\n",
       "  <tbody>\n",
       "    <tr>\n",
       "      <th>Avg_team_Age</th>\n",
       "      <td>2833.0</td>\n",
       "      <td>29.242852</td>\n",
       "      <td>2.264230</td>\n",
       "      <td>12.0</td>\n",
       "      <td>30.0</td>\n",
       "      <td>30.0</td>\n",
       "      <td>30.00</td>\n",
       "      <td>70.0</td>\n",
       "    </tr>\n",
       "    <tr>\n",
       "      <th>Bowlers_in_team</th>\n",
       "      <td>2848.0</td>\n",
       "      <td>2.913624</td>\n",
       "      <td>1.023907</td>\n",
       "      <td>1.0</td>\n",
       "      <td>2.0</td>\n",
       "      <td>3.0</td>\n",
       "      <td>4.00</td>\n",
       "      <td>5.0</td>\n",
       "    </tr>\n",
       "    <tr>\n",
       "      <th>Wicket_keeper_in_team</th>\n",
       "      <td>2930.0</td>\n",
       "      <td>1.000000</td>\n",
       "      <td>0.000000</td>\n",
       "      <td>1.0</td>\n",
       "      <td>1.0</td>\n",
       "      <td>1.0</td>\n",
       "      <td>1.00</td>\n",
       "      <td>1.0</td>\n",
       "    </tr>\n",
       "    <tr>\n",
       "      <th>All_rounder_in_team</th>\n",
       "      <td>2890.0</td>\n",
       "      <td>2.722491</td>\n",
       "      <td>1.092699</td>\n",
       "      <td>1.0</td>\n",
       "      <td>2.0</td>\n",
       "      <td>3.0</td>\n",
       "      <td>4.00</td>\n",
       "      <td>4.0</td>\n",
       "    </tr>\n",
       "    <tr>\n",
       "      <th>Audience_number</th>\n",
       "      <td>2849.0</td>\n",
       "      <td>46267.960688</td>\n",
       "      <td>48599.581459</td>\n",
       "      <td>7063.0</td>\n",
       "      <td>20363.0</td>\n",
       "      <td>34349.0</td>\n",
       "      <td>57876.00</td>\n",
       "      <td>1399930.0</td>\n",
       "    </tr>\n",
       "    <tr>\n",
       "      <th>Max_run_scored_1over</th>\n",
       "      <td>2902.0</td>\n",
       "      <td>15.199862</td>\n",
       "      <td>3.661010</td>\n",
       "      <td>11.0</td>\n",
       "      <td>12.0</td>\n",
       "      <td>14.0</td>\n",
       "      <td>18.00</td>\n",
       "      <td>25.0</td>\n",
       "    </tr>\n",
       "    <tr>\n",
       "      <th>Max_wicket_taken_1over</th>\n",
       "      <td>2930.0</td>\n",
       "      <td>2.713993</td>\n",
       "      <td>1.080623</td>\n",
       "      <td>1.0</td>\n",
       "      <td>2.0</td>\n",
       "      <td>3.0</td>\n",
       "      <td>4.00</td>\n",
       "      <td>4.0</td>\n",
       "    </tr>\n",
       "    <tr>\n",
       "      <th>Extra_bowls_bowled</th>\n",
       "      <td>2901.0</td>\n",
       "      <td>11.252671</td>\n",
       "      <td>7.780829</td>\n",
       "      <td>0.0</td>\n",
       "      <td>6.0</td>\n",
       "      <td>10.0</td>\n",
       "      <td>15.00</td>\n",
       "      <td>40.0</td>\n",
       "    </tr>\n",
       "    <tr>\n",
       "      <th>Min_run_given_1over</th>\n",
       "      <td>2930.0</td>\n",
       "      <td>1.952560</td>\n",
       "      <td>1.678332</td>\n",
       "      <td>0.0</td>\n",
       "      <td>0.0</td>\n",
       "      <td>2.0</td>\n",
       "      <td>3.00</td>\n",
       "      <td>6.0</td>\n",
       "    </tr>\n",
       "    <tr>\n",
       "      <th>Min_run_scored_1over</th>\n",
       "      <td>2903.0</td>\n",
       "      <td>2.762659</td>\n",
       "      <td>0.705759</td>\n",
       "      <td>1.0</td>\n",
       "      <td>2.0</td>\n",
       "      <td>3.0</td>\n",
       "      <td>3.00</td>\n",
       "      <td>4.0</td>\n",
       "    </tr>\n",
       "    <tr>\n",
       "      <th>Max_run_given_1over</th>\n",
       "      <td>2896.0</td>\n",
       "      <td>8.669199</td>\n",
       "      <td>5.003525</td>\n",
       "      <td>6.0</td>\n",
       "      <td>6.0</td>\n",
       "      <td>6.0</td>\n",
       "      <td>9.25</td>\n",
       "      <td>40.0</td>\n",
       "    </tr>\n",
       "    <tr>\n",
       "      <th>extra_bowls_opponent</th>\n",
       "      <td>2930.0</td>\n",
       "      <td>4.229693</td>\n",
       "      <td>3.626108</td>\n",
       "      <td>0.0</td>\n",
       "      <td>2.0</td>\n",
       "      <td>3.0</td>\n",
       "      <td>7.00</td>\n",
       "      <td>18.0</td>\n",
       "    </tr>\n",
       "    <tr>\n",
       "      <th>player_highest_run</th>\n",
       "      <td>2902.0</td>\n",
       "      <td>65.889387</td>\n",
       "      <td>20.331614</td>\n",
       "      <td>30.0</td>\n",
       "      <td>48.0</td>\n",
       "      <td>66.0</td>\n",
       "      <td>84.00</td>\n",
       "      <td>100.0</td>\n",
       "    </tr>\n",
       "  </tbody>\n",
       "</table>\n",
       "</div>"
      ],
      "text/plain": [
       "                         count          mean           std     min      25%  \\\n",
       "Avg_team_Age            2833.0     29.242852      2.264230    12.0     30.0   \n",
       "Bowlers_in_team         2848.0      2.913624      1.023907     1.0      2.0   \n",
       "Wicket_keeper_in_team   2930.0      1.000000      0.000000     1.0      1.0   \n",
       "All_rounder_in_team     2890.0      2.722491      1.092699     1.0      2.0   \n",
       "Audience_number         2849.0  46267.960688  48599.581459  7063.0  20363.0   \n",
       "Max_run_scored_1over    2902.0     15.199862      3.661010    11.0     12.0   \n",
       "Max_wicket_taken_1over  2930.0      2.713993      1.080623     1.0      2.0   \n",
       "Extra_bowls_bowled      2901.0     11.252671      7.780829     0.0      6.0   \n",
       "Min_run_given_1over     2930.0      1.952560      1.678332     0.0      0.0   \n",
       "Min_run_scored_1over    2903.0      2.762659      0.705759     1.0      2.0   \n",
       "Max_run_given_1over     2896.0      8.669199      5.003525     6.0      6.0   \n",
       "extra_bowls_opponent    2930.0      4.229693      3.626108     0.0      2.0   \n",
       "player_highest_run      2902.0     65.889387     20.331614    30.0     48.0   \n",
       "\n",
       "                            50%       75%        max  \n",
       "Avg_team_Age               30.0     30.00       70.0  \n",
       "Bowlers_in_team             3.0      4.00        5.0  \n",
       "Wicket_keeper_in_team       1.0      1.00        1.0  \n",
       "All_rounder_in_team         3.0      4.00        4.0  \n",
       "Audience_number         34349.0  57876.00  1399930.0  \n",
       "Max_run_scored_1over       14.0     18.00       25.0  \n",
       "Max_wicket_taken_1over      3.0      4.00        4.0  \n",
       "Extra_bowls_bowled         10.0     15.00       40.0  \n",
       "Min_run_given_1over         2.0      3.00        6.0  \n",
       "Min_run_scored_1over        3.0      3.00        4.0  \n",
       "Max_run_given_1over         6.0      9.25       40.0  \n",
       "extra_bowls_opponent        3.0      7.00       18.0  \n",
       "player_highest_run         66.0     84.00      100.0  "
      ]
     },
     "execution_count": 8,
     "metadata": {},
     "output_type": "execute_result"
    }
   ],
   "source": [
    "df.describe().T"
   ]
  },
  {
   "cell_type": "code",
   "execution_count": 9,
   "id": "9c3fb336",
   "metadata": {},
   "outputs": [
    {
     "data": {
      "text/plain": [
       "752     Loss\n",
       "1112    Loss\n",
       "1896    Loss\n",
       "2256    Loss\n",
       "Name: Result, dtype: object"
      ]
     },
     "execution_count": 9,
     "metadata": {},
     "output_type": "execute_result"
    }
   ],
   "source": [
    "df[df['Extra_bowls_bowled']==40.0]['Result']"
   ]
  },
  {
   "cell_type": "code",
   "execution_count": 10,
   "id": "9f2ceba1",
   "metadata": {
    "scrolled": true
   },
   "outputs": [
    {
     "data": {
      "text/html": [
       "<div>\n",
       "<style scoped>\n",
       "    .dataframe tbody tr th:only-of-type {\n",
       "        vertical-align: middle;\n",
       "    }\n",
       "\n",
       "    .dataframe tbody tr th {\n",
       "        vertical-align: top;\n",
       "    }\n",
       "\n",
       "    .dataframe thead th {\n",
       "        text-align: right;\n",
       "    }\n",
       "</style>\n",
       "<table border=\"1\" class=\"dataframe\">\n",
       "  <thead>\n",
       "    <tr style=\"text-align: right;\">\n",
       "      <th></th>\n",
       "      <th>count</th>\n",
       "      <th>unique</th>\n",
       "      <th>top</th>\n",
       "      <th>freq</th>\n",
       "      <th>mean</th>\n",
       "      <th>std</th>\n",
       "      <th>min</th>\n",
       "      <th>25%</th>\n",
       "      <th>50%</th>\n",
       "      <th>75%</th>\n",
       "      <th>max</th>\n",
       "    </tr>\n",
       "  </thead>\n",
       "  <tbody>\n",
       "    <tr>\n",
       "      <th>Game_number</th>\n",
       "      <td>2930</td>\n",
       "      <td>2930</td>\n",
       "      <td>Game_1</td>\n",
       "      <td>1</td>\n",
       "      <td>NaN</td>\n",
       "      <td>NaN</td>\n",
       "      <td>NaN</td>\n",
       "      <td>NaN</td>\n",
       "      <td>NaN</td>\n",
       "      <td>NaN</td>\n",
       "      <td>NaN</td>\n",
       "    </tr>\n",
       "    <tr>\n",
       "      <th>Result</th>\n",
       "      <td>2930</td>\n",
       "      <td>2</td>\n",
       "      <td>Win</td>\n",
       "      <td>2457</td>\n",
       "      <td>NaN</td>\n",
       "      <td>NaN</td>\n",
       "      <td>NaN</td>\n",
       "      <td>NaN</td>\n",
       "      <td>NaN</td>\n",
       "      <td>NaN</td>\n",
       "      <td>NaN</td>\n",
       "    </tr>\n",
       "    <tr>\n",
       "      <th>Avg_team_Age</th>\n",
       "      <td>2833.0</td>\n",
       "      <td>NaN</td>\n",
       "      <td>NaN</td>\n",
       "      <td>NaN</td>\n",
       "      <td>29.242852</td>\n",
       "      <td>2.26423</td>\n",
       "      <td>12.0</td>\n",
       "      <td>30.0</td>\n",
       "      <td>30.0</td>\n",
       "      <td>30.0</td>\n",
       "      <td>70.0</td>\n",
       "    </tr>\n",
       "    <tr>\n",
       "      <th>Match_light_type</th>\n",
       "      <td>2878</td>\n",
       "      <td>3</td>\n",
       "      <td>Day</td>\n",
       "      <td>2041</td>\n",
       "      <td>NaN</td>\n",
       "      <td>NaN</td>\n",
       "      <td>NaN</td>\n",
       "      <td>NaN</td>\n",
       "      <td>NaN</td>\n",
       "      <td>NaN</td>\n",
       "      <td>NaN</td>\n",
       "    </tr>\n",
       "    <tr>\n",
       "      <th>Match_format</th>\n",
       "      <td>2860</td>\n",
       "      <td>4</td>\n",
       "      <td>ODI</td>\n",
       "      <td>1865</td>\n",
       "      <td>NaN</td>\n",
       "      <td>NaN</td>\n",
       "      <td>NaN</td>\n",
       "      <td>NaN</td>\n",
       "      <td>NaN</td>\n",
       "      <td>NaN</td>\n",
       "      <td>NaN</td>\n",
       "    </tr>\n",
       "    <tr>\n",
       "      <th>Bowlers_in_team</th>\n",
       "      <td>2848.0</td>\n",
       "      <td>NaN</td>\n",
       "      <td>NaN</td>\n",
       "      <td>NaN</td>\n",
       "      <td>2.913624</td>\n",
       "      <td>1.023907</td>\n",
       "      <td>1.0</td>\n",
       "      <td>2.0</td>\n",
       "      <td>3.0</td>\n",
       "      <td>4.0</td>\n",
       "      <td>5.0</td>\n",
       "    </tr>\n",
       "    <tr>\n",
       "      <th>Wicket_keeper_in_team</th>\n",
       "      <td>2930.0</td>\n",
       "      <td>NaN</td>\n",
       "      <td>NaN</td>\n",
       "      <td>NaN</td>\n",
       "      <td>1.0</td>\n",
       "      <td>0.0</td>\n",
       "      <td>1.0</td>\n",
       "      <td>1.0</td>\n",
       "      <td>1.0</td>\n",
       "      <td>1.0</td>\n",
       "      <td>1.0</td>\n",
       "    </tr>\n",
       "    <tr>\n",
       "      <th>All_rounder_in_team</th>\n",
       "      <td>2890.0</td>\n",
       "      <td>NaN</td>\n",
       "      <td>NaN</td>\n",
       "      <td>NaN</td>\n",
       "      <td>2.722491</td>\n",
       "      <td>1.092699</td>\n",
       "      <td>1.0</td>\n",
       "      <td>2.0</td>\n",
       "      <td>3.0</td>\n",
       "      <td>4.0</td>\n",
       "      <td>4.0</td>\n",
       "    </tr>\n",
       "    <tr>\n",
       "      <th>First_selection</th>\n",
       "      <td>2871</td>\n",
       "      <td>3</td>\n",
       "      <td>Bowling</td>\n",
       "      <td>1722</td>\n",
       "      <td>NaN</td>\n",
       "      <td>NaN</td>\n",
       "      <td>NaN</td>\n",
       "      <td>NaN</td>\n",
       "      <td>NaN</td>\n",
       "      <td>NaN</td>\n",
       "      <td>NaN</td>\n",
       "    </tr>\n",
       "    <tr>\n",
       "      <th>Opponent</th>\n",
       "      <td>2894</td>\n",
       "      <td>9</td>\n",
       "      <td>South Africa</td>\n",
       "      <td>640</td>\n",
       "      <td>NaN</td>\n",
       "      <td>NaN</td>\n",
       "      <td>NaN</td>\n",
       "      <td>NaN</td>\n",
       "      <td>NaN</td>\n",
       "      <td>NaN</td>\n",
       "      <td>NaN</td>\n",
       "    </tr>\n",
       "    <tr>\n",
       "      <th>Season</th>\n",
       "      <td>2868</td>\n",
       "      <td>3</td>\n",
       "      <td>Rainy</td>\n",
       "      <td>1309</td>\n",
       "      <td>NaN</td>\n",
       "      <td>NaN</td>\n",
       "      <td>NaN</td>\n",
       "      <td>NaN</td>\n",
       "      <td>NaN</td>\n",
       "      <td>NaN</td>\n",
       "      <td>NaN</td>\n",
       "    </tr>\n",
       "    <tr>\n",
       "      <th>Audience_number</th>\n",
       "      <td>2849.0</td>\n",
       "      <td>NaN</td>\n",
       "      <td>NaN</td>\n",
       "      <td>NaN</td>\n",
       "      <td>46267.960688</td>\n",
       "      <td>48599.581459</td>\n",
       "      <td>7063.0</td>\n",
       "      <td>20363.0</td>\n",
       "      <td>34349.0</td>\n",
       "      <td>57876.0</td>\n",
       "      <td>1399930.0</td>\n",
       "    </tr>\n",
       "    <tr>\n",
       "      <th>Offshore</th>\n",
       "      <td>2866</td>\n",
       "      <td>2</td>\n",
       "      <td>No</td>\n",
       "      <td>2057</td>\n",
       "      <td>NaN</td>\n",
       "      <td>NaN</td>\n",
       "      <td>NaN</td>\n",
       "      <td>NaN</td>\n",
       "      <td>NaN</td>\n",
       "      <td>NaN</td>\n",
       "      <td>NaN</td>\n",
       "    </tr>\n",
       "    <tr>\n",
       "      <th>Max_run_scored_1over</th>\n",
       "      <td>2902.0</td>\n",
       "      <td>NaN</td>\n",
       "      <td>NaN</td>\n",
       "      <td>NaN</td>\n",
       "      <td>15.199862</td>\n",
       "      <td>3.66101</td>\n",
       "      <td>11.0</td>\n",
       "      <td>12.0</td>\n",
       "      <td>14.0</td>\n",
       "      <td>18.0</td>\n",
       "      <td>25.0</td>\n",
       "    </tr>\n",
       "    <tr>\n",
       "      <th>Max_wicket_taken_1over</th>\n",
       "      <td>2930.0</td>\n",
       "      <td>NaN</td>\n",
       "      <td>NaN</td>\n",
       "      <td>NaN</td>\n",
       "      <td>2.713993</td>\n",
       "      <td>1.080623</td>\n",
       "      <td>1.0</td>\n",
       "      <td>2.0</td>\n",
       "      <td>3.0</td>\n",
       "      <td>4.0</td>\n",
       "      <td>4.0</td>\n",
       "    </tr>\n",
       "    <tr>\n",
       "      <th>Extra_bowls_bowled</th>\n",
       "      <td>2901.0</td>\n",
       "      <td>NaN</td>\n",
       "      <td>NaN</td>\n",
       "      <td>NaN</td>\n",
       "      <td>11.252671</td>\n",
       "      <td>7.780829</td>\n",
       "      <td>0.0</td>\n",
       "      <td>6.0</td>\n",
       "      <td>10.0</td>\n",
       "      <td>15.0</td>\n",
       "      <td>40.0</td>\n",
       "    </tr>\n",
       "    <tr>\n",
       "      <th>Min_run_given_1over</th>\n",
       "      <td>2930.0</td>\n",
       "      <td>NaN</td>\n",
       "      <td>NaN</td>\n",
       "      <td>NaN</td>\n",
       "      <td>1.95256</td>\n",
       "      <td>1.678332</td>\n",
       "      <td>0.0</td>\n",
       "      <td>0.0</td>\n",
       "      <td>2.0</td>\n",
       "      <td>3.0</td>\n",
       "      <td>6.0</td>\n",
       "    </tr>\n",
       "    <tr>\n",
       "      <th>Min_run_scored_1over</th>\n",
       "      <td>2903.0</td>\n",
       "      <td>NaN</td>\n",
       "      <td>NaN</td>\n",
       "      <td>NaN</td>\n",
       "      <td>2.762659</td>\n",
       "      <td>0.705759</td>\n",
       "      <td>1.0</td>\n",
       "      <td>2.0</td>\n",
       "      <td>3.0</td>\n",
       "      <td>3.0</td>\n",
       "      <td>4.0</td>\n",
       "    </tr>\n",
       "    <tr>\n",
       "      <th>Max_run_given_1over</th>\n",
       "      <td>2896.0</td>\n",
       "      <td>NaN</td>\n",
       "      <td>NaN</td>\n",
       "      <td>NaN</td>\n",
       "      <td>8.669199</td>\n",
       "      <td>5.003525</td>\n",
       "      <td>6.0</td>\n",
       "      <td>6.0</td>\n",
       "      <td>6.0</td>\n",
       "      <td>9.25</td>\n",
       "      <td>40.0</td>\n",
       "    </tr>\n",
       "    <tr>\n",
       "      <th>extra_bowls_opponent</th>\n",
       "      <td>2930.0</td>\n",
       "      <td>NaN</td>\n",
       "      <td>NaN</td>\n",
       "      <td>NaN</td>\n",
       "      <td>4.229693</td>\n",
       "      <td>3.626108</td>\n",
       "      <td>0.0</td>\n",
       "      <td>2.0</td>\n",
       "      <td>3.0</td>\n",
       "      <td>7.0</td>\n",
       "      <td>18.0</td>\n",
       "    </tr>\n",
       "    <tr>\n",
       "      <th>player_highest_run</th>\n",
       "      <td>2902.0</td>\n",
       "      <td>NaN</td>\n",
       "      <td>NaN</td>\n",
       "      <td>NaN</td>\n",
       "      <td>65.889387</td>\n",
       "      <td>20.331614</td>\n",
       "      <td>30.0</td>\n",
       "      <td>48.0</td>\n",
       "      <td>66.0</td>\n",
       "      <td>84.0</td>\n",
       "      <td>100.0</td>\n",
       "    </tr>\n",
       "    <tr>\n",
       "      <th>Players_scored_zero</th>\n",
       "      <td>2930.0</td>\n",
       "      <td>5.0</td>\n",
       "      <td>3.0</td>\n",
       "      <td>1730.0</td>\n",
       "      <td>NaN</td>\n",
       "      <td>NaN</td>\n",
       "      <td>NaN</td>\n",
       "      <td>NaN</td>\n",
       "      <td>NaN</td>\n",
       "      <td>NaN</td>\n",
       "      <td>NaN</td>\n",
       "    </tr>\n",
       "    <tr>\n",
       "      <th>player_highest_wicket</th>\n",
       "      <td>2930.0</td>\n",
       "      <td>6.0</td>\n",
       "      <td>1.0</td>\n",
       "      <td>1084.0</td>\n",
       "      <td>NaN</td>\n",
       "      <td>NaN</td>\n",
       "      <td>NaN</td>\n",
       "      <td>NaN</td>\n",
       "      <td>NaN</td>\n",
       "      <td>NaN</td>\n",
       "      <td>NaN</td>\n",
       "    </tr>\n",
       "  </tbody>\n",
       "</table>\n",
       "</div>"
      ],
      "text/plain": [
       "                         count unique           top    freq          mean  \\\n",
       "Game_number               2930   2930        Game_1       1           NaN   \n",
       "Result                    2930      2           Win    2457           NaN   \n",
       "Avg_team_Age            2833.0    NaN           NaN     NaN     29.242852   \n",
       "Match_light_type          2878      3           Day    2041           NaN   \n",
       "Match_format              2860      4           ODI    1865           NaN   \n",
       "Bowlers_in_team         2848.0    NaN           NaN     NaN      2.913624   \n",
       "Wicket_keeper_in_team   2930.0    NaN           NaN     NaN           1.0   \n",
       "All_rounder_in_team     2890.0    NaN           NaN     NaN      2.722491   \n",
       "First_selection           2871      3       Bowling    1722           NaN   \n",
       "Opponent                  2894      9  South Africa     640           NaN   \n",
       "Season                    2868      3         Rainy    1309           NaN   \n",
       "Audience_number         2849.0    NaN           NaN     NaN  46267.960688   \n",
       "Offshore                  2866      2            No    2057           NaN   \n",
       "Max_run_scored_1over    2902.0    NaN           NaN     NaN     15.199862   \n",
       "Max_wicket_taken_1over  2930.0    NaN           NaN     NaN      2.713993   \n",
       "Extra_bowls_bowled      2901.0    NaN           NaN     NaN     11.252671   \n",
       "Min_run_given_1over     2930.0    NaN           NaN     NaN       1.95256   \n",
       "Min_run_scored_1over    2903.0    NaN           NaN     NaN      2.762659   \n",
       "Max_run_given_1over     2896.0    NaN           NaN     NaN      8.669199   \n",
       "extra_bowls_opponent    2930.0    NaN           NaN     NaN      4.229693   \n",
       "player_highest_run      2902.0    NaN           NaN     NaN     65.889387   \n",
       "Players_scored_zero     2930.0    5.0           3.0  1730.0           NaN   \n",
       "player_highest_wicket   2930.0    6.0           1.0  1084.0           NaN   \n",
       "\n",
       "                                 std     min      25%      50%      75%  \\\n",
       "Game_number                      NaN     NaN      NaN      NaN      NaN   \n",
       "Result                           NaN     NaN      NaN      NaN      NaN   \n",
       "Avg_team_Age                 2.26423    12.0     30.0     30.0     30.0   \n",
       "Match_light_type                 NaN     NaN      NaN      NaN      NaN   \n",
       "Match_format                     NaN     NaN      NaN      NaN      NaN   \n",
       "Bowlers_in_team             1.023907     1.0      2.0      3.0      4.0   \n",
       "Wicket_keeper_in_team            0.0     1.0      1.0      1.0      1.0   \n",
       "All_rounder_in_team         1.092699     1.0      2.0      3.0      4.0   \n",
       "First_selection                  NaN     NaN      NaN      NaN      NaN   \n",
       "Opponent                         NaN     NaN      NaN      NaN      NaN   \n",
       "Season                           NaN     NaN      NaN      NaN      NaN   \n",
       "Audience_number         48599.581459  7063.0  20363.0  34349.0  57876.0   \n",
       "Offshore                         NaN     NaN      NaN      NaN      NaN   \n",
       "Max_run_scored_1over         3.66101    11.0     12.0     14.0     18.0   \n",
       "Max_wicket_taken_1over      1.080623     1.0      2.0      3.0      4.0   \n",
       "Extra_bowls_bowled          7.780829     0.0      6.0     10.0     15.0   \n",
       "Min_run_given_1over         1.678332     0.0      0.0      2.0      3.0   \n",
       "Min_run_scored_1over        0.705759     1.0      2.0      3.0      3.0   \n",
       "Max_run_given_1over         5.003525     6.0      6.0      6.0     9.25   \n",
       "extra_bowls_opponent        3.626108     0.0      2.0      3.0      7.0   \n",
       "player_highest_run         20.331614    30.0     48.0     66.0     84.0   \n",
       "Players_scored_zero              NaN     NaN      NaN      NaN      NaN   \n",
       "player_highest_wicket            NaN     NaN      NaN      NaN      NaN   \n",
       "\n",
       "                              max  \n",
       "Game_number                   NaN  \n",
       "Result                        NaN  \n",
       "Avg_team_Age                 70.0  \n",
       "Match_light_type              NaN  \n",
       "Match_format                  NaN  \n",
       "Bowlers_in_team               5.0  \n",
       "Wicket_keeper_in_team         1.0  \n",
       "All_rounder_in_team           4.0  \n",
       "First_selection               NaN  \n",
       "Opponent                      NaN  \n",
       "Season                        NaN  \n",
       "Audience_number         1399930.0  \n",
       "Offshore                      NaN  \n",
       "Max_run_scored_1over         25.0  \n",
       "Max_wicket_taken_1over        4.0  \n",
       "Extra_bowls_bowled           40.0  \n",
       "Min_run_given_1over           6.0  \n",
       "Min_run_scored_1over          4.0  \n",
       "Max_run_given_1over          40.0  \n",
       "extra_bowls_opponent         18.0  \n",
       "player_highest_run          100.0  \n",
       "Players_scored_zero           NaN  \n",
       "player_highest_wicket         NaN  "
      ]
     },
     "execution_count": 10,
     "metadata": {},
     "output_type": "execute_result"
    }
   ],
   "source": [
    "df.describe(include='all').T"
   ]
  },
  {
   "cell_type": "markdown",
   "id": "b44b89cb",
   "metadata": {},
   "source": [
    "### Checking for null values in the data set"
   ]
  },
  {
   "cell_type": "code",
   "execution_count": 11,
   "id": "43cd06ed",
   "metadata": {},
   "outputs": [
    {
     "data": {
      "text/plain": [
       "Avg_team_Age              97\n",
       "Bowlers_in_team           82\n",
       "Audience_number           81\n",
       "Match_format              70\n",
       "Offshore                  64\n",
       "Season                    62\n",
       "First_selection           59\n",
       "Match_light_type          52\n",
       "All_rounder_in_team       40\n",
       "Opponent                  36\n",
       "Max_run_given_1over       34\n",
       "Extra_bowls_bowled        29\n",
       "player_highest_run        28\n",
       "Max_run_scored_1over      28\n",
       "Min_run_scored_1over      27\n",
       "Players_scored_zero        0\n",
       "extra_bowls_opponent       0\n",
       "Game_number                0\n",
       "Min_run_given_1over        0\n",
       "Max_wicket_taken_1over     0\n",
       "Result                     0\n",
       "Wicket_keeper_in_team      0\n",
       "player_highest_wicket      0\n",
       "dtype: int64"
      ]
     },
     "execution_count": 11,
     "metadata": {},
     "output_type": "execute_result"
    }
   ],
   "source": [
    "df.isnull().sum().sort_values(ascending=False)"
   ]
  },
  {
   "cell_type": "code",
   "execution_count": 12,
   "id": "2e0f8a3d",
   "metadata": {},
   "outputs": [
    {
     "data": {
      "text/plain": [
       "789"
      ]
     },
     "execution_count": 12,
     "metadata": {},
     "output_type": "execute_result"
    }
   ],
   "source": [
    "df.isnull().sum().sum()"
   ]
  },
  {
   "cell_type": "code",
   "execution_count": 13,
   "id": "c247fbb7",
   "metadata": {},
   "outputs": [
    {
     "data": {
      "text/plain": [
       "67390"
      ]
     },
     "execution_count": 13,
     "metadata": {},
     "output_type": "execute_result"
    }
   ],
   "source": [
    "df.size"
   ]
  },
  {
   "cell_type": "code",
   "execution_count": 14,
   "id": "b1a3bbd9",
   "metadata": {
    "scrolled": false
   },
   "outputs": [
    {
     "name": "stdout",
     "output_type": "stream",
     "text": [
      "Percentage of missing values in the dataset is: 1.1707968541326605\n"
     ]
    }
   ],
   "source": [
    "tot_missing_values = df.isnull().sum().sum()/df.size\n",
    "print(\"Percentage of missing values in the dataset is:\", (tot_missing_values*100))"
   ]
  },
  {
   "cell_type": "markdown",
   "id": "fb40785d",
   "metadata": {},
   "source": [
    "### Dropping Game_Number variable"
   ]
  },
  {
   "cell_type": "code",
   "execution_count": 15,
   "id": "31944ca6",
   "metadata": {
    "scrolled": true
   },
   "outputs": [
    {
     "data": {
      "text/html": [
       "<div>\n",
       "<style scoped>\n",
       "    .dataframe tbody tr th:only-of-type {\n",
       "        vertical-align: middle;\n",
       "    }\n",
       "\n",
       "    .dataframe tbody tr th {\n",
       "        vertical-align: top;\n",
       "    }\n",
       "\n",
       "    .dataframe thead th {\n",
       "        text-align: right;\n",
       "    }\n",
       "</style>\n",
       "<table border=\"1\" class=\"dataframe\">\n",
       "  <thead>\n",
       "    <tr style=\"text-align: right;\">\n",
       "      <th></th>\n",
       "      <th>Result</th>\n",
       "      <th>Avg_team_Age</th>\n",
       "      <th>Match_light_type</th>\n",
       "      <th>Match_format</th>\n",
       "      <th>Bowlers_in_team</th>\n",
       "      <th>Wicket_keeper_in_team</th>\n",
       "      <th>All_rounder_in_team</th>\n",
       "      <th>First_selection</th>\n",
       "      <th>Opponent</th>\n",
       "      <th>Season</th>\n",
       "      <th>...</th>\n",
       "      <th>Max_run_scored_1over</th>\n",
       "      <th>Max_wicket_taken_1over</th>\n",
       "      <th>Extra_bowls_bowled</th>\n",
       "      <th>Min_run_given_1over</th>\n",
       "      <th>Min_run_scored_1over</th>\n",
       "      <th>Max_run_given_1over</th>\n",
       "      <th>extra_bowls_opponent</th>\n",
       "      <th>player_highest_run</th>\n",
       "      <th>Players_scored_zero</th>\n",
       "      <th>player_highest_wicket</th>\n",
       "    </tr>\n",
       "  </thead>\n",
       "  <tbody>\n",
       "    <tr>\n",
       "      <th>0</th>\n",
       "      <td>Loss</td>\n",
       "      <td>18.0</td>\n",
       "      <td>Day</td>\n",
       "      <td>ODI</td>\n",
       "      <td>3.0</td>\n",
       "      <td>1</td>\n",
       "      <td>3.0</td>\n",
       "      <td>Bowling</td>\n",
       "      <td>Srilanka</td>\n",
       "      <td>Summer</td>\n",
       "      <td>...</td>\n",
       "      <td>13.0</td>\n",
       "      <td>3</td>\n",
       "      <td>0.0</td>\n",
       "      <td>2</td>\n",
       "      <td>3.0</td>\n",
       "      <td>6.0</td>\n",
       "      <td>0</td>\n",
       "      <td>54.0</td>\n",
       "      <td>3</td>\n",
       "      <td>1</td>\n",
       "    </tr>\n",
       "    <tr>\n",
       "      <th>1</th>\n",
       "      <td>Win</td>\n",
       "      <td>24.0</td>\n",
       "      <td>Day</td>\n",
       "      <td>T20</td>\n",
       "      <td>3.0</td>\n",
       "      <td>1</td>\n",
       "      <td>4.0</td>\n",
       "      <td>Batting</td>\n",
       "      <td>Zimbabwe</td>\n",
       "      <td>Summer</td>\n",
       "      <td>...</td>\n",
       "      <td>12.0</td>\n",
       "      <td>1</td>\n",
       "      <td>0.0</td>\n",
       "      <td>0</td>\n",
       "      <td>3.0</td>\n",
       "      <td>6.0</td>\n",
       "      <td>0</td>\n",
       "      <td>69.0</td>\n",
       "      <td>2</td>\n",
       "      <td>1</td>\n",
       "    </tr>\n",
       "    <tr>\n",
       "      <th>2</th>\n",
       "      <td>Loss</td>\n",
       "      <td>24.0</td>\n",
       "      <td>Day and Night</td>\n",
       "      <td>T20</td>\n",
       "      <td>3.0</td>\n",
       "      <td>1</td>\n",
       "      <td>2.0</td>\n",
       "      <td>Bowling</td>\n",
       "      <td>Zimbabwe</td>\n",
       "      <td>NaN</td>\n",
       "      <td>...</td>\n",
       "      <td>14.0</td>\n",
       "      <td>4</td>\n",
       "      <td>0.0</td>\n",
       "      <td>0</td>\n",
       "      <td>3.0</td>\n",
       "      <td>6.0</td>\n",
       "      <td>0</td>\n",
       "      <td>69.0</td>\n",
       "      <td>3</td>\n",
       "      <td>1</td>\n",
       "    </tr>\n",
       "    <tr>\n",
       "      <th>3</th>\n",
       "      <td>Win</td>\n",
       "      <td>24.0</td>\n",
       "      <td>NaN</td>\n",
       "      <td>ODI</td>\n",
       "      <td>2.0</td>\n",
       "      <td>1</td>\n",
       "      <td>2.0</td>\n",
       "      <td>Bowling</td>\n",
       "      <td>Kenya</td>\n",
       "      <td>Summer</td>\n",
       "      <td>...</td>\n",
       "      <td>15.0</td>\n",
       "      <td>4</td>\n",
       "      <td>0.0</td>\n",
       "      <td>2</td>\n",
       "      <td>3.0</td>\n",
       "      <td>6.0</td>\n",
       "      <td>0</td>\n",
       "      <td>73.0</td>\n",
       "      <td>3</td>\n",
       "      <td>1</td>\n",
       "    </tr>\n",
       "    <tr>\n",
       "      <th>4</th>\n",
       "      <td>Loss</td>\n",
       "      <td>24.0</td>\n",
       "      <td>Night</td>\n",
       "      <td>ODI</td>\n",
       "      <td>1.0</td>\n",
       "      <td>1</td>\n",
       "      <td>3.0</td>\n",
       "      <td>Bowling</td>\n",
       "      <td>Srilanka</td>\n",
       "      <td>Summer</td>\n",
       "      <td>...</td>\n",
       "      <td>12.0</td>\n",
       "      <td>4</td>\n",
       "      <td>0.0</td>\n",
       "      <td>0</td>\n",
       "      <td>3.0</td>\n",
       "      <td>6.0</td>\n",
       "      <td>0</td>\n",
       "      <td>80.0</td>\n",
       "      <td>3</td>\n",
       "      <td>1</td>\n",
       "    </tr>\n",
       "  </tbody>\n",
       "</table>\n",
       "<p>5 rows × 22 columns</p>\n",
       "</div>"
      ],
      "text/plain": [
       "  Result  Avg_team_Age Match_light_type Match_format  Bowlers_in_team  \\\n",
       "0   Loss          18.0              Day          ODI              3.0   \n",
       "1    Win          24.0              Day          T20              3.0   \n",
       "2   Loss          24.0    Day and Night          T20              3.0   \n",
       "3    Win          24.0              NaN          ODI              2.0   \n",
       "4   Loss          24.0            Night          ODI              1.0   \n",
       "\n",
       "   Wicket_keeper_in_team  All_rounder_in_team First_selection  Opponent  \\\n",
       "0                      1                  3.0         Bowling  Srilanka   \n",
       "1                      1                  4.0         Batting  Zimbabwe   \n",
       "2                      1                  2.0         Bowling  Zimbabwe   \n",
       "3                      1                  2.0         Bowling     Kenya   \n",
       "4                      1                  3.0         Bowling  Srilanka   \n",
       "\n",
       "   Season  ...  Max_run_scored_1over Max_wicket_taken_1over  \\\n",
       "0  Summer  ...                  13.0                      3   \n",
       "1  Summer  ...                  12.0                      1   \n",
       "2     NaN  ...                  14.0                      4   \n",
       "3  Summer  ...                  15.0                      4   \n",
       "4  Summer  ...                  12.0                      4   \n",
       "\n",
       "   Extra_bowls_bowled  Min_run_given_1over  Min_run_scored_1over  \\\n",
       "0                 0.0                    2                   3.0   \n",
       "1                 0.0                    0                   3.0   \n",
       "2                 0.0                    0                   3.0   \n",
       "3                 0.0                    2                   3.0   \n",
       "4                 0.0                    0                   3.0   \n",
       "\n",
       "   Max_run_given_1over  extra_bowls_opponent  player_highest_run  \\\n",
       "0                  6.0                     0                54.0   \n",
       "1                  6.0                     0                69.0   \n",
       "2                  6.0                     0                69.0   \n",
       "3                  6.0                     0                73.0   \n",
       "4                  6.0                     0                80.0   \n",
       "\n",
       "   Players_scored_zero  player_highest_wicket  \n",
       "0                    3                      1  \n",
       "1                    2                      1  \n",
       "2                    3                      1  \n",
       "3                    3                      1  \n",
       "4                    3                      1  \n",
       "\n",
       "[5 rows x 22 columns]"
      ]
     },
     "execution_count": 15,
     "metadata": {},
     "output_type": "execute_result"
    }
   ],
   "source": [
    "df.drop('Game_number', axis=1, inplace=True)\n",
    "df.head()"
   ]
  },
  {
   "cell_type": "code",
   "execution_count": 16,
   "id": "602fdb6c",
   "metadata": {},
   "outputs": [
    {
     "data": {
      "text/plain": [
       "array(['Loss', 'Win'], dtype=object)"
      ]
     },
     "execution_count": 16,
     "metadata": {},
     "output_type": "execute_result"
    }
   ],
   "source": [
    "df['Result'].unique()"
   ]
  },
  {
   "cell_type": "markdown",
   "id": "b1ffe26c",
   "metadata": {},
   "source": [
    "Match format type T20 has two ways of entry: T20 and 20-20\n",
    "\n",
    "First_Selection has two ways of entry for batting: Batting and Bat\n",
    "\n",
    "Player_scored_Zero has two ways of entry for three members: 3 an Three\n",
    "\n",
    "Player_Highest_Wicket has two ways of entry for three : 3 an Three"
   ]
  },
  {
   "cell_type": "markdown",
   "id": "45b690d9",
   "metadata": {},
   "source": [
    "#### Renaming the variables"
   ]
  },
  {
   "cell_type": "code",
   "execution_count": 17,
   "id": "d27817f2",
   "metadata": {},
   "outputs": [],
   "source": [
    "df['Match_format'] = np.where(df['Match_format']=='20-20','T20',df['Match_format'])\n",
    "df['First_selection'] = np.where(df['First_selection']=='Bat','Batting',df['First_selection'])\n",
    "df['Players_scored_zero'] = np.where(df['Players_scored_zero']=='Three',3, df['Players_scored_zero'])\n",
    "df['player_highest_wicket'] = np.where(df['player_highest_wicket']=='Three', 3, df['player_highest_wicket'])"
   ]
  },
  {
   "cell_type": "code",
   "execution_count": 18,
   "id": "e2b53243",
   "metadata": {},
   "outputs": [
    {
     "name": "stdout",
     "output_type": "stream",
     "text": [
      "RESULT\n",
      "['Loss' 'Win']\n",
      "\n",
      "\n",
      "AVG_TEAM_AGE\n",
      "[18. 24. nan 17. 12. 25. 26. 27. 28. 29. 30. 70. 69. 50.]\n",
      "\n",
      "\n",
      "MATCH_LIGHT_TYPE\n",
      "['Day' 'Day and Night' nan 'Night']\n",
      "\n",
      "\n",
      "MATCH_FORMAT\n",
      "['ODI' 'T20' 'Test' nan]\n",
      "\n",
      "\n",
      "BOWLERS_IN_TEAM\n",
      "[ 3.  2.  1. nan  4.  5.]\n",
      "\n",
      "\n",
      "WICKET_KEEPER_IN_TEAM\n",
      "[1]\n",
      "\n",
      "\n",
      "ALL_ROUNDER_IN_TEAM\n",
      "[ 3.  4.  2.  1. nan]\n",
      "\n",
      "\n",
      "FIRST_SELECTION\n",
      "['Bowling' 'Batting' nan]\n",
      "\n",
      "\n",
      "OPPONENT\n",
      "['Srilanka' 'Zimbabwe' 'Kenya' 'Australia' 'England' 'South Africa'\n",
      " 'Pakistan' 'West Indies' 'Bangladesh' nan]\n",
      "\n",
      "\n",
      "SEASON\n",
      "['Summer' nan 'Winter' 'Rainy']\n",
      "\n",
      "\n",
      "AUDIENCE_NUMBER\n",
      "[ 9940.  8400. 13146. ... 20937. 28756. 14007.]\n",
      "\n",
      "\n",
      "OFFSHORE\n",
      "['No' 'Yes' nan]\n",
      "\n",
      "\n",
      "MAX_RUN_SCORED_1OVER\n",
      "[13. 12. 14. 15. 16. 19. 21. 22. 25. 18. 11. 17. 24. 20. nan 23.]\n",
      "\n",
      "\n",
      "MAX_WICKET_TAKEN_1OVER\n",
      "[3 1 4 2]\n",
      "\n",
      "\n",
      "EXTRA_BOWLS_BOWLED\n",
      "[ 0.  1.  2.  3.  4.  5.  6.  7.  8.  9. 10. 11. 12. 17. 31. 13. 26. 24.\n",
      " 22. 19. 23. 14. 15. 29. 28. 21. 25. 20. 16. 37. 38. 30. 40. 18. 36. 34.\n",
      " 32. 33. nan 35. 27.]\n",
      "\n",
      "\n",
      "MIN_RUN_GIVEN_1OVER\n",
      "[2 0 5 4 3 6 1]\n",
      "\n",
      "\n",
      "MIN_RUN_SCORED_1OVER\n",
      "[ 3.  4.  1.  2. nan]\n",
      "\n",
      "\n",
      "MAX_RUN_GIVEN_1OVER\n",
      "[ 6.  7.  8.  9. 10. 11. 25. 12. 14. 22. 15. 27. 21. 17. 13. 37. 16. 20.\n",
      " 40. 24. 33. 19. 36. 18. 29. 31. 32. 34. 26. 30. nan 23.]\n",
      "\n",
      "\n",
      "EXTRA_BOWLS_OPPONENT\n",
      "[ 0  1  2  3  4  5  7  8  6  9 10 13 15 14 16 11 12 18 17]\n",
      "\n",
      "\n",
      "PLAYER_HIGHEST_RUN\n",
      "[ 54.  69.  73.  80.  97.  70.  33.  50.  79. 100.  47.  52.  37.  96.\n",
      "  57.  66.  83.  32.  49.  84.  98.  87.  43.  31.  99.  39.  90.  65.\n",
      "  36.  45.  58.  59.  60.  34.  94.  48.  85.  75.  63.  62.  93.  51.\n",
      "  78.  61.  77.  38.  89.  55.  46.  41.  42.  91.  64.  40.  67.  81.\n",
      "  68.  82.  71.  88.  53.  76.  95.  30.  74.  56.  86.  44.  92.  72.\n",
      "  35.  nan]\n",
      "\n",
      "\n",
      "PLAYERS_SCORED_ZERO\n",
      "[3 2 1 4]\n",
      "\n",
      "\n",
      "PLAYER_HIGHEST_WICKET\n",
      "[1 2 3 4 5]\n",
      "\n",
      "\n"
     ]
    }
   ],
   "source": [
    "for col in df.columns:\n",
    "    print(col.upper())\n",
    "    print(df[col].unique())\n",
    "    print(\"\\n\")"
   ]
  },
  {
   "cell_type": "markdown",
   "id": "0be8c633",
   "metadata": {},
   "source": [
    "### Univariate Analysis"
   ]
  },
  {
   "cell_type": "code",
   "execution_count": 19,
   "id": "fc06b83c",
   "metadata": {},
   "outputs": [],
   "source": [
    "%matplotlib inline"
   ]
  },
  {
   "cell_type": "code",
   "execution_count": 20,
   "id": "c0553307",
   "metadata": {},
   "outputs": [],
   "source": [
    "df['Avg_team_Age'] = df['Avg_team_Age'].fillna(df['Avg_team_Age'].median())"
   ]
  },
  {
   "cell_type": "code",
   "execution_count": 21,
   "id": "a9d3ccd9",
   "metadata": {},
   "outputs": [],
   "source": [
    "def remove_outliers(col):\n",
    "    sorted(col)\n",
    "    Q1, Q3 = np.percentile(col,[25,75])\n",
    "    IQR = Q3-Q1\n",
    "    lower_range = Q1 - (1.5*IQR)\n",
    "    upper_range = Q3 + (1.5*IQR)\n",
    "    return lower_range, upper_range"
   ]
  },
  {
   "cell_type": "code",
   "execution_count": 22,
   "id": "0331ac93",
   "metadata": {},
   "outputs": [
    {
     "name": "stdout",
     "output_type": "stream",
     "text": [
      "30.0 30.0\n"
     ]
    }
   ],
   "source": [
    "lr,ur = remove_outliers(df['Avg_team_Age'])\n",
    "print(lr,ur)\n",
    "df['Avg_team_Age'] = np.where(df['Avg_team_Age']< lr, lr, df['Avg_team_Age'])\n",
    "df['Avg_team_Age'] = np.where(df['Avg_team_Age']> ur, ur, df['Avg_team_Age'])"
   ]
  },
  {
   "cell_type": "code",
   "execution_count": 23,
   "id": "f5006ca0",
   "metadata": {},
   "outputs": [
    {
     "data": {
      "text/plain": [
       "<AxesSubplot:>"
      ]
     },
     "execution_count": 23,
     "metadata": {},
     "output_type": "execute_result"
    },
    {
     "data": {
      "image/png": "[encoded data removed]",
      "text/plain": [
       "<Figure size 432x288 with 1 Axes>"
      ]
     },
     "metadata": {
      "needs_background": "light"
     },
     "output_type": "display_data"
    }
   ],
   "source": [
    "sns.boxplot(data=df['Avg_team_Age'])"
   ]
  },
  {
   "cell_type": "code",
   "execution_count": 24,
   "id": "ed564b8a",
   "metadata": {},
   "outputs": [
    {
     "data": {
      "text/plain": [
       "Result                     0\n",
       "Avg_team_Age               0\n",
       "Match_light_type          52\n",
       "Match_format              70\n",
       "Bowlers_in_team           82\n",
       "Wicket_keeper_in_team      0\n",
       "All_rounder_in_team       40\n",
       "First_selection           59\n",
       "Opponent                  36\n",
       "Season                    62\n",
       "Audience_number           81\n",
       "Offshore                  64\n",
       "Max_run_scored_1over      28\n",
       "Max_wicket_taken_1over     0\n",
       "Extra_bowls_bowled        29\n",
       "Min_run_given_1over        0\n",
       "Min_run_scored_1over      27\n",
       "Max_run_given_1over       34\n",
       "extra_bowls_opponent       0\n",
       "player_highest_run        28\n",
       "Players_scored_zero        0\n",
       "player_highest_wicket      0\n",
       "dtype: int64"
      ]
     },
     "execution_count": 24,
     "metadata": {},
     "output_type": "execute_result"
    }
   ],
   "source": [
    "df.isnull().sum()"
   ]
  },
  {
   "cell_type": "markdown",
   "id": "790c0aa6",
   "metadata": {},
   "source": [
    "### Imputing Null values"
   ]
  },
  {
   "cell_type": "code",
   "execution_count": 25,
   "id": "a88de8c4",
   "metadata": {},
   "outputs": [],
   "source": [
    "import statistics\n",
    "for col in df.columns:\n",
    "    if(df[col].dtypes == 'object'):\n",
    "        df[col] = df[col].replace(np.NaN, statistics.mode(df[col]))\n"
   ]
  },
  {
   "cell_type": "code",
   "execution_count": 26,
   "id": "2911d4c4",
   "metadata": {},
   "outputs": [],
   "source": [
    "for col in df.columns:\n",
    "    if(df[col].dtypes != 'object'):\n",
    "        df[col] = df[col].fillna(df[col].median())"
   ]
  },
  {
   "cell_type": "code",
   "execution_count": 27,
   "id": "1492c8cc",
   "metadata": {
    "scrolled": true
   },
   "outputs": [
    {
     "data": {
      "text/plain": [
       "Result                    0\n",
       "Avg_team_Age              0\n",
       "Match_light_type          0\n",
       "Match_format              0\n",
       "Bowlers_in_team           0\n",
       "Wicket_keeper_in_team     0\n",
       "All_rounder_in_team       0\n",
       "First_selection           0\n",
       "Opponent                  0\n",
       "Season                    0\n",
       "Audience_number           0\n",
       "Offshore                  0\n",
       "Max_run_scored_1over      0\n",
       "Max_wicket_taken_1over    0\n",
       "Extra_bowls_bowled        0\n",
       "Min_run_given_1over       0\n",
       "Min_run_scored_1over      0\n",
       "Max_run_given_1over       0\n",
       "extra_bowls_opponent      0\n",
       "player_highest_run        0\n",
       "Players_scored_zero       0\n",
       "player_highest_wicket     0\n",
       "dtype: int64"
      ]
     },
     "execution_count": 27,
     "metadata": {},
     "output_type": "execute_result"
    }
   ],
   "source": [
    "df.isnull().sum()"
   ]
  },
  {
   "cell_type": "markdown",
   "id": "e75154a0",
   "metadata": {},
   "source": [
    "### data set back up"
   ]
  },
  {
   "cell_type": "code",
   "execution_count": 28,
   "id": "77f987cb",
   "metadata": {},
   "outputs": [
    {
     "data": {
      "text/html": [
       "<div>\n",
       "<style scoped>\n",
       "    .dataframe tbody tr th:only-of-type {\n",
       "        vertical-align: middle;\n",
       "    }\n",
       "\n",
       "    .dataframe tbody tr th {\n",
       "        vertical-align: top;\n",
       "    }\n",
       "\n",
       "    .dataframe thead th {\n",
       "        text-align: right;\n",
       "    }\n",
       "</style>\n",
       "<table border=\"1\" class=\"dataframe\">\n",
       "  <thead>\n",
       "    <tr style=\"text-align: right;\">\n",
       "      <th></th>\n",
       "      <th>Result</th>\n",
       "      <th>Avg_team_Age</th>\n",
       "      <th>Match_light_type</th>\n",
       "      <th>Match_format</th>\n",
       "      <th>Bowlers_in_team</th>\n",
       "      <th>Wicket_keeper_in_team</th>\n",
       "      <th>All_rounder_in_team</th>\n",
       "      <th>First_selection</th>\n",
       "      <th>Opponent</th>\n",
       "      <th>Season</th>\n",
       "      <th>...</th>\n",
       "      <th>Max_run_scored_1over</th>\n",
       "      <th>Max_wicket_taken_1over</th>\n",
       "      <th>Extra_bowls_bowled</th>\n",
       "      <th>Min_run_given_1over</th>\n",
       "      <th>Min_run_scored_1over</th>\n",
       "      <th>Max_run_given_1over</th>\n",
       "      <th>extra_bowls_opponent</th>\n",
       "      <th>player_highest_run</th>\n",
       "      <th>Players_scored_zero</th>\n",
       "      <th>player_highest_wicket</th>\n",
       "    </tr>\n",
       "  </thead>\n",
       "  <tbody>\n",
       "    <tr>\n",
       "      <th>0</th>\n",
       "      <td>Loss</td>\n",
       "      <td>30.0</td>\n",
       "      <td>Day</td>\n",
       "      <td>ODI</td>\n",
       "      <td>3.0</td>\n",
       "      <td>1</td>\n",
       "      <td>3.0</td>\n",
       "      <td>Bowling</td>\n",
       "      <td>Srilanka</td>\n",
       "      <td>Summer</td>\n",
       "      <td>...</td>\n",
       "      <td>13.0</td>\n",
       "      <td>3</td>\n",
       "      <td>0.0</td>\n",
       "      <td>2</td>\n",
       "      <td>3.0</td>\n",
       "      <td>6.0</td>\n",
       "      <td>0</td>\n",
       "      <td>54.0</td>\n",
       "      <td>3</td>\n",
       "      <td>1</td>\n",
       "    </tr>\n",
       "    <tr>\n",
       "      <th>1</th>\n",
       "      <td>Win</td>\n",
       "      <td>30.0</td>\n",
       "      <td>Day</td>\n",
       "      <td>T20</td>\n",
       "      <td>3.0</td>\n",
       "      <td>1</td>\n",
       "      <td>4.0</td>\n",
       "      <td>Batting</td>\n",
       "      <td>Zimbabwe</td>\n",
       "      <td>Summer</td>\n",
       "      <td>...</td>\n",
       "      <td>12.0</td>\n",
       "      <td>1</td>\n",
       "      <td>0.0</td>\n",
       "      <td>0</td>\n",
       "      <td>3.0</td>\n",
       "      <td>6.0</td>\n",
       "      <td>0</td>\n",
       "      <td>69.0</td>\n",
       "      <td>2</td>\n",
       "      <td>1</td>\n",
       "    </tr>\n",
       "    <tr>\n",
       "      <th>2</th>\n",
       "      <td>Loss</td>\n",
       "      <td>30.0</td>\n",
       "      <td>Day and Night</td>\n",
       "      <td>T20</td>\n",
       "      <td>3.0</td>\n",
       "      <td>1</td>\n",
       "      <td>2.0</td>\n",
       "      <td>Bowling</td>\n",
       "      <td>Zimbabwe</td>\n",
       "      <td>Rainy</td>\n",
       "      <td>...</td>\n",
       "      <td>14.0</td>\n",
       "      <td>4</td>\n",
       "      <td>0.0</td>\n",
       "      <td>0</td>\n",
       "      <td>3.0</td>\n",
       "      <td>6.0</td>\n",
       "      <td>0</td>\n",
       "      <td>69.0</td>\n",
       "      <td>3</td>\n",
       "      <td>1</td>\n",
       "    </tr>\n",
       "    <tr>\n",
       "      <th>3</th>\n",
       "      <td>Win</td>\n",
       "      <td>30.0</td>\n",
       "      <td>Day</td>\n",
       "      <td>ODI</td>\n",
       "      <td>2.0</td>\n",
       "      <td>1</td>\n",
       "      <td>2.0</td>\n",
       "      <td>Bowling</td>\n",
       "      <td>Kenya</td>\n",
       "      <td>Summer</td>\n",
       "      <td>...</td>\n",
       "      <td>15.0</td>\n",
       "      <td>4</td>\n",
       "      <td>0.0</td>\n",
       "      <td>2</td>\n",
       "      <td>3.0</td>\n",
       "      <td>6.0</td>\n",
       "      <td>0</td>\n",
       "      <td>73.0</td>\n",
       "      <td>3</td>\n",
       "      <td>1</td>\n",
       "    </tr>\n",
       "    <tr>\n",
       "      <th>4</th>\n",
       "      <td>Loss</td>\n",
       "      <td>30.0</td>\n",
       "      <td>Night</td>\n",
       "      <td>ODI</td>\n",
       "      <td>1.0</td>\n",
       "      <td>1</td>\n",
       "      <td>3.0</td>\n",
       "      <td>Bowling</td>\n",
       "      <td>Srilanka</td>\n",
       "      <td>Summer</td>\n",
       "      <td>...</td>\n",
       "      <td>12.0</td>\n",
       "      <td>4</td>\n",
       "      <td>0.0</td>\n",
       "      <td>0</td>\n",
       "      <td>3.0</td>\n",
       "      <td>6.0</td>\n",
       "      <td>0</td>\n",
       "      <td>80.0</td>\n",
       "      <td>3</td>\n",
       "      <td>1</td>\n",
       "    </tr>\n",
       "  </tbody>\n",
       "</table>\n",
       "<p>5 rows × 22 columns</p>\n",
       "</div>"
      ],
      "text/plain": [
       "  Result  Avg_team_Age Match_light_type Match_format  Bowlers_in_team  \\\n",
       "0   Loss          30.0              Day          ODI              3.0   \n",
       "1    Win          30.0              Day          T20              3.0   \n",
       "2   Loss          30.0    Day and Night          T20              3.0   \n",
       "3    Win          30.0              Day          ODI              2.0   \n",
       "4   Loss          30.0            Night          ODI              1.0   \n",
       "\n",
       "   Wicket_keeper_in_team  All_rounder_in_team First_selection  Opponent  \\\n",
       "0                      1                  3.0         Bowling  Srilanka   \n",
       "1                      1                  4.0         Batting  Zimbabwe   \n",
       "2                      1                  2.0         Bowling  Zimbabwe   \n",
       "3                      1                  2.0         Bowling     Kenya   \n",
       "4                      1                  3.0         Bowling  Srilanka   \n",
       "\n",
       "   Season  ...  Max_run_scored_1over Max_wicket_taken_1over  \\\n",
       "0  Summer  ...                  13.0                      3   \n",
       "1  Summer  ...                  12.0                      1   \n",
       "2   Rainy  ...                  14.0                      4   \n",
       "3  Summer  ...                  15.0                      4   \n",
       "4  Summer  ...                  12.0                      4   \n",
       "\n",
       "   Extra_bowls_bowled  Min_run_given_1over  Min_run_scored_1over  \\\n",
       "0                 0.0                    2                   3.0   \n",
       "1                 0.0                    0                   3.0   \n",
       "2                 0.0                    0                   3.0   \n",
       "3                 0.0                    2                   3.0   \n",
       "4                 0.0                    0                   3.0   \n",
       "\n",
       "   Max_run_given_1over  extra_bowls_opponent  player_highest_run  \\\n",
       "0                  6.0                     0                54.0   \n",
       "1                  6.0                     0                69.0   \n",
       "2                  6.0                     0                69.0   \n",
       "3                  6.0                     0                73.0   \n",
       "4                  6.0                     0                80.0   \n",
       "\n",
       "   Players_scored_zero  player_highest_wicket  \n",
       "0                    3                      1  \n",
       "1                    2                      1  \n",
       "2                    3                      1  \n",
       "3                    3                      1  \n",
       "4                    3                      1  \n",
       "\n",
       "[5 rows x 22 columns]"
      ]
     },
     "execution_count": 28,
     "metadata": {},
     "output_type": "execute_result"
    }
   ],
   "source": [
    "df_new = df.copy()\n",
    "df_new.head()"
   ]
  },
  {
   "cell_type": "code",
   "execution_count": 29,
   "id": "7e27fa4a",
   "metadata": {},
   "outputs": [],
   "source": [
    "from statsmodels.stats.outliers_influence import variance_inflation_factor"
   ]
  },
  {
   "cell_type": "code",
   "execution_count": 30,
   "id": "a23f1845",
   "metadata": {},
   "outputs": [],
   "source": [
    "from sklearn.preprocessing import LabelEncoder"
   ]
  },
  {
   "cell_type": "markdown",
   "id": "9d677f0b",
   "metadata": {},
   "source": [
    "### Dropping Wicket_keeper_in_team, and Audience_number variable"
   ]
  },
  {
   "cell_type": "code",
   "execution_count": 31,
   "id": "95e5dbb9",
   "metadata": {},
   "outputs": [
    {
     "data": {
      "text/html": [
       "<div>\n",
       "<style scoped>\n",
       "    .dataframe tbody tr th:only-of-type {\n",
       "        vertical-align: middle;\n",
       "    }\n",
       "\n",
       "    .dataframe tbody tr th {\n",
       "        vertical-align: top;\n",
       "    }\n",
       "\n",
       "    .dataframe thead th {\n",
       "        text-align: right;\n",
       "    }\n",
       "</style>\n",
       "<table border=\"1\" class=\"dataframe\">\n",
       "  <thead>\n",
       "    <tr style=\"text-align: right;\">\n",
       "      <th></th>\n",
       "      <th>Result</th>\n",
       "      <th>Avg_team_Age</th>\n",
       "      <th>Match_light_type</th>\n",
       "      <th>Match_format</th>\n",
       "      <th>Bowlers_in_team</th>\n",
       "      <th>All_rounder_in_team</th>\n",
       "      <th>First_selection</th>\n",
       "      <th>Opponent</th>\n",
       "      <th>Season</th>\n",
       "      <th>Offshore</th>\n",
       "      <th>Max_run_scored_1over</th>\n",
       "      <th>Max_wicket_taken_1over</th>\n",
       "      <th>Extra_bowls_bowled</th>\n",
       "      <th>Min_run_given_1over</th>\n",
       "      <th>Min_run_scored_1over</th>\n",
       "      <th>Max_run_given_1over</th>\n",
       "      <th>extra_bowls_opponent</th>\n",
       "      <th>player_highest_run</th>\n",
       "      <th>Players_scored_zero</th>\n",
       "      <th>player_highest_wicket</th>\n",
       "    </tr>\n",
       "  </thead>\n",
       "  <tbody>\n",
       "    <tr>\n",
       "      <th>0</th>\n",
       "      <td>Loss</td>\n",
       "      <td>30.0</td>\n",
       "      <td>Day</td>\n",
       "      <td>ODI</td>\n",
       "      <td>3.0</td>\n",
       "      <td>3.0</td>\n",
       "      <td>Bowling</td>\n",
       "      <td>Srilanka</td>\n",
       "      <td>Summer</td>\n",
       "      <td>No</td>\n",
       "      <td>13.0</td>\n",
       "      <td>3</td>\n",
       "      <td>0.0</td>\n",
       "      <td>2</td>\n",
       "      <td>3.0</td>\n",
       "      <td>6.0</td>\n",
       "      <td>0</td>\n",
       "      <td>54.0</td>\n",
       "      <td>3</td>\n",
       "      <td>1</td>\n",
       "    </tr>\n",
       "    <tr>\n",
       "      <th>1</th>\n",
       "      <td>Win</td>\n",
       "      <td>30.0</td>\n",
       "      <td>Day</td>\n",
       "      <td>T20</td>\n",
       "      <td>3.0</td>\n",
       "      <td>4.0</td>\n",
       "      <td>Batting</td>\n",
       "      <td>Zimbabwe</td>\n",
       "      <td>Summer</td>\n",
       "      <td>No</td>\n",
       "      <td>12.0</td>\n",
       "      <td>1</td>\n",
       "      <td>0.0</td>\n",
       "      <td>0</td>\n",
       "      <td>3.0</td>\n",
       "      <td>6.0</td>\n",
       "      <td>0</td>\n",
       "      <td>69.0</td>\n",
       "      <td>2</td>\n",
       "      <td>1</td>\n",
       "    </tr>\n",
       "    <tr>\n",
       "      <th>2</th>\n",
       "      <td>Loss</td>\n",
       "      <td>30.0</td>\n",
       "      <td>Day and Night</td>\n",
       "      <td>T20</td>\n",
       "      <td>3.0</td>\n",
       "      <td>2.0</td>\n",
       "      <td>Bowling</td>\n",
       "      <td>Zimbabwe</td>\n",
       "      <td>Rainy</td>\n",
       "      <td>Yes</td>\n",
       "      <td>14.0</td>\n",
       "      <td>4</td>\n",
       "      <td>0.0</td>\n",
       "      <td>0</td>\n",
       "      <td>3.0</td>\n",
       "      <td>6.0</td>\n",
       "      <td>0</td>\n",
       "      <td>69.0</td>\n",
       "      <td>3</td>\n",
       "      <td>1</td>\n",
       "    </tr>\n",
       "    <tr>\n",
       "      <th>3</th>\n",
       "      <td>Win</td>\n",
       "      <td>30.0</td>\n",
       "      <td>Day</td>\n",
       "      <td>ODI</td>\n",
       "      <td>2.0</td>\n",
       "      <td>2.0</td>\n",
       "      <td>Bowling</td>\n",
       "      <td>Kenya</td>\n",
       "      <td>Summer</td>\n",
       "      <td>No</td>\n",
       "      <td>15.0</td>\n",
       "      <td>4</td>\n",
       "      <td>0.0</td>\n",
       "      <td>2</td>\n",
       "      <td>3.0</td>\n",
       "      <td>6.0</td>\n",
       "      <td>0</td>\n",
       "      <td>73.0</td>\n",
       "      <td>3</td>\n",
       "      <td>1</td>\n",
       "    </tr>\n",
       "    <tr>\n",
       "      <th>4</th>\n",
       "      <td>Loss</td>\n",
       "      <td>30.0</td>\n",
       "      <td>Night</td>\n",
       "      <td>ODI</td>\n",
       "      <td>1.0</td>\n",
       "      <td>3.0</td>\n",
       "      <td>Bowling</td>\n",
       "      <td>Srilanka</td>\n",
       "      <td>Summer</td>\n",
       "      <td>No</td>\n",
       "      <td>12.0</td>\n",
       "      <td>4</td>\n",
       "      <td>0.0</td>\n",
       "      <td>0</td>\n",
       "      <td>3.0</td>\n",
       "      <td>6.0</td>\n",
       "      <td>0</td>\n",
       "      <td>80.0</td>\n",
       "      <td>3</td>\n",
       "      <td>1</td>\n",
       "    </tr>\n",
       "  </tbody>\n",
       "</table>\n",
       "</div>"
      ],
      "text/plain": [
       "  Result  Avg_team_Age Match_light_type Match_format  Bowlers_in_team  \\\n",
       "0   Loss          30.0              Day          ODI              3.0   \n",
       "1    Win          30.0              Day          T20              3.0   \n",
       "2   Loss          30.0    Day and Night          T20              3.0   \n",
       "3    Win          30.0              Day          ODI              2.0   \n",
       "4   Loss          30.0            Night          ODI              1.0   \n",
       "\n",
       "   All_rounder_in_team First_selection  Opponent  Season Offshore  \\\n",
       "0                  3.0         Bowling  Srilanka  Summer       No   \n",
       "1                  4.0         Batting  Zimbabwe  Summer       No   \n",
       "2                  2.0         Bowling  Zimbabwe   Rainy      Yes   \n",
       "3                  2.0         Bowling     Kenya  Summer       No   \n",
       "4                  3.0         Bowling  Srilanka  Summer       No   \n",
       "\n",
       "   Max_run_scored_1over  Max_wicket_taken_1over  Extra_bowls_bowled  \\\n",
       "0                  13.0                       3                 0.0   \n",
       "1                  12.0                       1                 0.0   \n",
       "2                  14.0                       4                 0.0   \n",
       "3                  15.0                       4                 0.0   \n",
       "4                  12.0                       4                 0.0   \n",
       "\n",
       "   Min_run_given_1over  Min_run_scored_1over  Max_run_given_1over  \\\n",
       "0                    2                   3.0                  6.0   \n",
       "1                    0                   3.0                  6.0   \n",
       "2                    0                   3.0                  6.0   \n",
       "3                    2                   3.0                  6.0   \n",
       "4                    0                   3.0                  6.0   \n",
       "\n",
       "   extra_bowls_opponent  player_highest_run Players_scored_zero  \\\n",
       "0                     0                54.0                   3   \n",
       "1                     0                69.0                   2   \n",
       "2                     0                69.0                   3   \n",
       "3                     0                73.0                   3   \n",
       "4                     0                80.0                   3   \n",
       "\n",
       "  player_highest_wicket  \n",
       "0                     1  \n",
       "1                     1  \n",
       "2                     1  \n",
       "3                     1  \n",
       "4                     1  "
      ]
     },
     "execution_count": 31,
     "metadata": {},
     "output_type": "execute_result"
    }
   ],
   "source": [
    "df.drop(['Wicket_keeper_in_team', 'Audience_number'], axis=1, inplace=True)\n",
    "df.head()"
   ]
  },
  {
   "cell_type": "code",
   "execution_count": 32,
   "id": "4aad9d6b",
   "metadata": {},
   "outputs": [
    {
     "name": "stdout",
     "output_type": "stream",
     "text": [
      "<class 'pandas.core.frame.DataFrame'>\n",
      "RangeIndex: 2930 entries, 0 to 2929\n",
      "Data columns (total 20 columns):\n",
      " #   Column                  Non-Null Count  Dtype  \n",
      "---  ------                  --------------  -----  \n",
      " 0   Result                  2930 non-null   object \n",
      " 1   Avg_team_Age            2930 non-null   float64\n",
      " 2   Match_light_type        2930 non-null   object \n",
      " 3   Match_format            2930 non-null   object \n",
      " 4   Bowlers_in_team         2930 non-null   float64\n",
      " 5   All_rounder_in_team     2930 non-null   float64\n",
      " 6   First_selection         2930 non-null   object \n",
      " 7   Opponent                2930 non-null   object \n",
      " 8   Season                  2930 non-null   object \n",
      " 9   Offshore                2930 non-null   object \n",
      " 10  Max_run_scored_1over    2930 non-null   float64\n",
      " 11  Max_wicket_taken_1over  2930 non-null   int64  \n",
      " 12  Extra_bowls_bowled      2930 non-null   float64\n",
      " 13  Min_run_given_1over     2930 non-null   int64  \n",
      " 14  Min_run_scored_1over    2930 non-null   float64\n",
      " 15  Max_run_given_1over     2930 non-null   float64\n",
      " 16  extra_bowls_opponent    2930 non-null   int64  \n",
      " 17  player_highest_run      2930 non-null   float64\n",
      " 18  Players_scored_zero     2930 non-null   object \n",
      " 19  player_highest_wicket   2930 non-null   object \n",
      "dtypes: float64(8), int64(3), object(9)\n",
      "memory usage: 457.9+ KB\n"
     ]
    }
   ],
   "source": [
    "df.info()"
   ]
  },
  {
   "cell_type": "code",
   "execution_count": 33,
   "id": "c82e5b5e",
   "metadata": {},
   "outputs": [
    {
     "name": "stdout",
     "output_type": "stream",
     "text": [
      "<class 'pandas.core.frame.DataFrame'>\n",
      "RangeIndex: 2930 entries, 0 to 2929\n",
      "Data columns (total 20 columns):\n",
      " #   Column                  Non-Null Count  Dtype  \n",
      "---  ------                  --------------  -----  \n",
      " 0   Result                  2930 non-null   object \n",
      " 1   Avg_team_Age            2930 non-null   float64\n",
      " 2   Match_light_type        2930 non-null   object \n",
      " 3   Match_format            2930 non-null   object \n",
      " 4   Bowlers_in_team         2930 non-null   object \n",
      " 5   All_rounder_in_team     2930 non-null   object \n",
      " 6   First_selection         2930 non-null   object \n",
      " 7   Opponent                2930 non-null   object \n",
      " 8   Season                  2930 non-null   object \n",
      " 9   Offshore                2930 non-null   object \n",
      " 10  Max_run_scored_1over    2930 non-null   float64\n",
      " 11  Max_wicket_taken_1over  2930 non-null   object \n",
      " 12  Extra_bowls_bowled      2930 non-null   float64\n",
      " 13  Min_run_given_1over     2930 non-null   int64  \n",
      " 14  Min_run_scored_1over    2930 non-null   float64\n",
      " 15  Max_run_given_1over     2930 non-null   float64\n",
      " 16  extra_bowls_opponent    2930 non-null   int64  \n",
      " 17  player_highest_run      2930 non-null   float64\n",
      " 18  Players_scored_zero     2930 non-null   object \n",
      " 19  player_highest_wicket   2930 non-null   object \n",
      "dtypes: float64(6), int64(2), object(12)\n",
      "memory usage: 457.9+ KB\n"
     ]
    }
   ],
   "source": [
    "df['Bowlers_in_team'] = df['Bowlers_in_team'].astype('object')\n",
    "df['All_rounder_in_team'] = df['All_rounder_in_team'].astype('object')\n",
    "df['Max_wicket_taken_1over'] = df['Max_wicket_taken_1over'].astype('object')\n",
    "df.info()"
   ]
  },
  {
   "cell_type": "code",
   "execution_count": 34,
   "id": "44ba6505",
   "metadata": {},
   "outputs": [],
   "source": [
    "X = df.drop('Result',axis=1,inplace=False)\n",
    "Y = df['Result']"
   ]
  },
  {
   "cell_type": "code",
   "execution_count": 35,
   "id": "c91b646b",
   "metadata": {},
   "outputs": [
    {
     "name": "stdout",
     "output_type": "stream",
     "text": [
      "<class 'pandas.core.frame.DataFrame'>\n",
      "RangeIndex: 2930 entries, 0 to 2929\n",
      "Data columns (total 41 columns):\n",
      " #   Column                          Non-Null Count  Dtype  \n",
      "---  ------                          --------------  -----  \n",
      " 0   Avg_team_Age                    2930 non-null   float64\n",
      " 1   Max_run_scored_1over            2930 non-null   float64\n",
      " 2   Extra_bowls_bowled              2930 non-null   float64\n",
      " 3   Min_run_given_1over             2930 non-null   int64  \n",
      " 4   Min_run_scored_1over            2930 non-null   float64\n",
      " 5   Max_run_given_1over             2930 non-null   float64\n",
      " 6   extra_bowls_opponent            2930 non-null   int64  \n",
      " 7   player_highest_run              2930 non-null   float64\n",
      " 8   Match_light_type_Day and Night  2930 non-null   uint8  \n",
      " 9   Match_light_type_Night          2930 non-null   uint8  \n",
      " 10  Match_format_T20                2930 non-null   uint8  \n",
      " 11  Match_format_Test               2930 non-null   uint8  \n",
      " 12  Bowlers_in_team_2.0             2930 non-null   uint8  \n",
      " 13  Bowlers_in_team_3.0             2930 non-null   uint8  \n",
      " 14  Bowlers_in_team_4.0             2930 non-null   uint8  \n",
      " 15  Bowlers_in_team_5.0             2930 non-null   uint8  \n",
      " 16  All_rounder_in_team_2.0         2930 non-null   uint8  \n",
      " 17  All_rounder_in_team_3.0         2930 non-null   uint8  \n",
      " 18  All_rounder_in_team_4.0         2930 non-null   uint8  \n",
      " 19  First_selection_Bowling         2930 non-null   uint8  \n",
      " 20  Opponent_Bangladesh             2930 non-null   uint8  \n",
      " 21  Opponent_England                2930 non-null   uint8  \n",
      " 22  Opponent_Kenya                  2930 non-null   uint8  \n",
      " 23  Opponent_Pakistan               2930 non-null   uint8  \n",
      " 24  Opponent_South Africa           2930 non-null   uint8  \n",
      " 25  Opponent_Srilanka               2930 non-null   uint8  \n",
      " 26  Opponent_West Indies            2930 non-null   uint8  \n",
      " 27  Opponent_Zimbabwe               2930 non-null   uint8  \n",
      " 28  Season_Summer                   2930 non-null   uint8  \n",
      " 29  Season_Winter                   2930 non-null   uint8  \n",
      " 30  Offshore_Yes                    2930 non-null   uint8  \n",
      " 31  Max_wicket_taken_1over_2        2930 non-null   uint8  \n",
      " 32  Max_wicket_taken_1over_3        2930 non-null   uint8  \n",
      " 33  Max_wicket_taken_1over_4        2930 non-null   uint8  \n",
      " 34  Players_scored_zero_2           2930 non-null   uint8  \n",
      " 35  Players_scored_zero_3           2930 non-null   uint8  \n",
      " 36  Players_scored_zero_4           2930 non-null   uint8  \n",
      " 37  player_highest_wicket_2         2930 non-null   uint8  \n",
      " 38  player_highest_wicket_3         2930 non-null   uint8  \n",
      " 39  player_highest_wicket_4         2930 non-null   uint8  \n",
      " 40  player_highest_wicket_5         2930 non-null   uint8  \n",
      "dtypes: float64(6), int64(2), uint8(33)\n",
      "memory usage: 277.7 KB\n"
     ]
    }
   ],
   "source": [
    "X = pd.get_dummies(X,columns=None,drop_first = True)\n",
    "X.info()"
   ]
  },
  {
   "cell_type": "code",
   "execution_count": 36,
   "id": "c8832569",
   "metadata": {},
   "outputs": [],
   "source": [
    "from sklearn.preprocessing import LabelEncoder"
   ]
  },
  {
   "cell_type": "code",
   "execution_count": 37,
   "id": "514d3fc1",
   "metadata": {},
   "outputs": [
    {
     "data": {
      "text/plain": [
       "array([0, 1, 0, ..., 1, 1, 1])"
      ]
     },
     "execution_count": 37,
     "metadata": {},
     "output_type": "execute_result"
    }
   ],
   "source": [
    "LE = LabelEncoder()\n",
    "Y = LE.fit_transform(df['Result'])\n",
    "Y"
   ]
  },
  {
   "cell_type": "markdown",
   "id": "d4ca2cf6",
   "metadata": {},
   "source": [
    "### Test Train split of the data"
   ]
  },
  {
   "cell_type": "code",
   "execution_count": 38,
   "id": "da87a901",
   "metadata": {},
   "outputs": [],
   "source": [
    "from sklearn import tree\n",
    "from sklearn.tree import DecisionTreeClassifier\n",
    "from sklearn.ensemble import RandomForestClassifier\n",
    "from sklearn.neural_network import MLPClassifier\n",
    "from sklearn.model_selection import train_test_split\n",
    "from sklearn.metrics import roc_auc_score,roc_curve,classification_report,confusion_matrix\n",
    "from sklearn.preprocessing import StandardScaler\n",
    "from sklearn.model_selection import GridSearchCV"
   ]
  },
  {
   "cell_type": "code",
   "execution_count": 39,
   "id": "a516542f",
   "metadata": {},
   "outputs": [],
   "source": [
    "X_train, X_test, train_labels, test_labels = train_test_split(X, Y, test_size=.30, random_state=5)"
   ]
  },
  {
   "cell_type": "code",
   "execution_count": 127,
   "id": "44142a15",
   "metadata": {},
   "outputs": [
    {
     "data": {
      "text/html": [
       "<div>\n",
       "<style scoped>\n",
       "    .dataframe tbody tr th:only-of-type {\n",
       "        vertical-align: middle;\n",
       "    }\n",
       "\n",
       "    .dataframe tbody tr th {\n",
       "        vertical-align: top;\n",
       "    }\n",
       "\n",
       "    .dataframe thead th {\n",
       "        text-align: right;\n",
       "    }\n",
       "</style>\n",
       "<table border=\"1\" class=\"dataframe\">\n",
       "  <thead>\n",
       "    <tr style=\"text-align: right;\">\n",
       "      <th></th>\n",
       "      <th>Avg_team_Age</th>\n",
       "      <th>Max_run_scored_1over</th>\n",
       "      <th>Extra_bowls_bowled</th>\n",
       "      <th>Min_run_given_1over</th>\n",
       "      <th>Min_run_scored_1over</th>\n",
       "      <th>Max_run_given_1over</th>\n",
       "      <th>extra_bowls_opponent</th>\n",
       "      <th>player_highest_run</th>\n",
       "      <th>Match_light_type_Day and Night</th>\n",
       "      <th>Match_light_type_Night</th>\n",
       "      <th>...</th>\n",
       "      <th>Max_wicket_taken_1over_2</th>\n",
       "      <th>Max_wicket_taken_1over_3</th>\n",
       "      <th>Max_wicket_taken_1over_4</th>\n",
       "      <th>Players_scored_zero_2</th>\n",
       "      <th>Players_scored_zero_3</th>\n",
       "      <th>Players_scored_zero_4</th>\n",
       "      <th>player_highest_wicket_2</th>\n",
       "      <th>player_highest_wicket_3</th>\n",
       "      <th>player_highest_wicket_4</th>\n",
       "      <th>player_highest_wicket_5</th>\n",
       "    </tr>\n",
       "  </thead>\n",
       "  <tbody>\n",
       "    <tr>\n",
       "      <th>2263</th>\n",
       "      <td>30.0</td>\n",
       "      <td>14.0</td>\n",
       "      <td>1.0</td>\n",
       "      <td>3</td>\n",
       "      <td>3.0</td>\n",
       "      <td>6.0</td>\n",
       "      <td>0</td>\n",
       "      <td>95.0</td>\n",
       "      <td>0</td>\n",
       "      <td>0</td>\n",
       "      <td>...</td>\n",
       "      <td>0</td>\n",
       "      <td>0</td>\n",
       "      <td>1</td>\n",
       "      <td>1</td>\n",
       "      <td>0</td>\n",
       "      <td>0</td>\n",
       "      <td>0</td>\n",
       "      <td>0</td>\n",
       "      <td>0</td>\n",
       "      <td>0</td>\n",
       "    </tr>\n",
       "    <tr>\n",
       "      <th>421</th>\n",
       "      <td>30.0</td>\n",
       "      <td>11.0</td>\n",
       "      <td>5.0</td>\n",
       "      <td>2</td>\n",
       "      <td>1.0</td>\n",
       "      <td>6.0</td>\n",
       "      <td>2</td>\n",
       "      <td>42.0</td>\n",
       "      <td>0</td>\n",
       "      <td>0</td>\n",
       "      <td>...</td>\n",
       "      <td>0</td>\n",
       "      <td>1</td>\n",
       "      <td>0</td>\n",
       "      <td>0</td>\n",
       "      <td>1</td>\n",
       "      <td>0</td>\n",
       "      <td>0</td>\n",
       "      <td>0</td>\n",
       "      <td>0</td>\n",
       "      <td>0</td>\n",
       "    </tr>\n",
       "    <tr>\n",
       "      <th>1639</th>\n",
       "      <td>30.0</td>\n",
       "      <td>11.0</td>\n",
       "      <td>5.0</td>\n",
       "      <td>3</td>\n",
       "      <td>3.0</td>\n",
       "      <td>6.0</td>\n",
       "      <td>4</td>\n",
       "      <td>40.0</td>\n",
       "      <td>0</td>\n",
       "      <td>0</td>\n",
       "      <td>...</td>\n",
       "      <td>1</td>\n",
       "      <td>0</td>\n",
       "      <td>0</td>\n",
       "      <td>1</td>\n",
       "      <td>0</td>\n",
       "      <td>0</td>\n",
       "      <td>0</td>\n",
       "      <td>0</td>\n",
       "      <td>0</td>\n",
       "      <td>0</td>\n",
       "    </tr>\n",
       "    <tr>\n",
       "      <th>1848</th>\n",
       "      <td>30.0</td>\n",
       "      <td>13.0</td>\n",
       "      <td>5.0</td>\n",
       "      <td>2</td>\n",
       "      <td>2.0</td>\n",
       "      <td>6.0</td>\n",
       "      <td>2</td>\n",
       "      <td>79.0</td>\n",
       "      <td>1</td>\n",
       "      <td>0</td>\n",
       "      <td>...</td>\n",
       "      <td>0</td>\n",
       "      <td>0</td>\n",
       "      <td>1</td>\n",
       "      <td>0</td>\n",
       "      <td>1</td>\n",
       "      <td>0</td>\n",
       "      <td>0</td>\n",
       "      <td>0</td>\n",
       "      <td>0</td>\n",
       "      <td>0</td>\n",
       "    </tr>\n",
       "    <tr>\n",
       "      <th>343</th>\n",
       "      <td>30.0</td>\n",
       "      <td>19.0</td>\n",
       "      <td>9.0</td>\n",
       "      <td>2</td>\n",
       "      <td>1.0</td>\n",
       "      <td>7.0</td>\n",
       "      <td>6</td>\n",
       "      <td>55.0</td>\n",
       "      <td>0</td>\n",
       "      <td>0</td>\n",
       "      <td>...</td>\n",
       "      <td>0</td>\n",
       "      <td>0</td>\n",
       "      <td>0</td>\n",
       "      <td>1</td>\n",
       "      <td>0</td>\n",
       "      <td>0</td>\n",
       "      <td>1</td>\n",
       "      <td>0</td>\n",
       "      <td>0</td>\n",
       "      <td>0</td>\n",
       "    </tr>\n",
       "  </tbody>\n",
       "</table>\n",
       "<p>5 rows × 41 columns</p>\n",
       "</div>"
      ],
      "text/plain": [
       "      Avg_team_Age  Max_run_scored_1over  Extra_bowls_bowled  \\\n",
       "2263          30.0                  14.0                 1.0   \n",
       "421           30.0                  11.0                 5.0   \n",
       "1639          30.0                  11.0                 5.0   \n",
       "1848          30.0                  13.0                 5.0   \n",
       "343           30.0                  19.0                 9.0   \n",
       "\n",
       "      Min_run_given_1over  Min_run_scored_1over  Max_run_given_1over  \\\n",
       "2263                    3                   3.0                  6.0   \n",
       "421                     2                   1.0                  6.0   \n",
       "1639                    3                   3.0                  6.0   \n",
       "1848                    2                   2.0                  6.0   \n",
       "343                     2                   1.0                  7.0   \n",
       "\n",
       "      extra_bowls_opponent  player_highest_run  \\\n",
       "2263                     0                95.0   \n",
       "421                      2                42.0   \n",
       "1639                     4                40.0   \n",
       "1848                     2                79.0   \n",
       "343                      6                55.0   \n",
       "\n",
       "      Match_light_type_Day and Night  Match_light_type_Night  ...  \\\n",
       "2263                               0                       0  ...   \n",
       "421                                0                       0  ...   \n",
       "1639                               0                       0  ...   \n",
       "1848                               1                       0  ...   \n",
       "343                                0                       0  ...   \n",
       "\n",
       "      Max_wicket_taken_1over_2  Max_wicket_taken_1over_3  \\\n",
       "2263                         0                         0   \n",
       "421                          0                         1   \n",
       "1639                         1                         0   \n",
       "1848                         0                         0   \n",
       "343                          0                         0   \n",
       "\n",
       "      Max_wicket_taken_1over_4  Players_scored_zero_2  Players_scored_zero_3  \\\n",
       "2263                         1                      1                      0   \n",
       "421                          0                      0                      1   \n",
       "1639                         0                      1                      0   \n",
       "1848                         1                      0                      1   \n",
       "343                          0                      1                      0   \n",
       "\n",
       "      Players_scored_zero_4  player_highest_wicket_2  player_highest_wicket_3  \\\n",
       "2263                      0                        0                        0   \n",
       "421                       0                        0                        0   \n",
       "1639                      0                        0                        0   \n",
       "1848                      0                        0                        0   \n",
       "343                       0                        1                        0   \n",
       "\n",
       "      player_highest_wicket_4  player_highest_wicket_5  \n",
       "2263                        0                        0  \n",
       "421                         0                        0  \n",
       "1639                        0                        0  \n",
       "1848                        0                        0  \n",
       "343                         0                        0  \n",
       "\n",
       "[5 rows x 41 columns]"
      ]
     },
     "execution_count": 127,
     "metadata": {},
     "output_type": "execute_result"
    }
   ],
   "source": [
    "X_train.head()"
   ]
  },
  {
   "cell_type": "code",
   "execution_count": 129,
   "id": "472fcace",
   "metadata": {},
   "outputs": [
    {
     "data": {
      "text/plain": [
       "array([1, 1, 1, ..., 1, 1, 0])"
      ]
     },
     "execution_count": 129,
     "metadata": {},
     "output_type": "execute_result"
    }
   ],
   "source": [
    "train_labels"
   ]
  },
  {
   "cell_type": "code",
   "execution_count": 132,
   "id": "7b57fdd3",
   "metadata": {
    "scrolled": false
   },
   "outputs": [
    {
     "data": {
      "text/html": [
       "<div>\n",
       "<style scoped>\n",
       "    .dataframe tbody tr th:only-of-type {\n",
       "        vertical-align: middle;\n",
       "    }\n",
       "\n",
       "    .dataframe tbody tr th {\n",
       "        vertical-align: top;\n",
       "    }\n",
       "\n",
       "    .dataframe thead th {\n",
       "        text-align: right;\n",
       "    }\n",
       "</style>\n",
       "<table border=\"1\" class=\"dataframe\">\n",
       "  <thead>\n",
       "    <tr style=\"text-align: right;\">\n",
       "      <th></th>\n",
       "      <th>Avg_team_Age</th>\n",
       "      <th>Max_run_scored_1over</th>\n",
       "      <th>Extra_bowls_bowled</th>\n",
       "      <th>Min_run_given_1over</th>\n",
       "      <th>Min_run_scored_1over</th>\n",
       "      <th>Max_run_given_1over</th>\n",
       "      <th>extra_bowls_opponent</th>\n",
       "      <th>player_highest_run</th>\n",
       "      <th>Match_light_type_Day and Night</th>\n",
       "      <th>Match_light_type_Night</th>\n",
       "      <th>...</th>\n",
       "      <th>Max_wicket_taken_1over_3</th>\n",
       "      <th>Max_wicket_taken_1over_4</th>\n",
       "      <th>Players_scored_zero_2</th>\n",
       "      <th>Players_scored_zero_3</th>\n",
       "      <th>Players_scored_zero_4</th>\n",
       "      <th>player_highest_wicket_2</th>\n",
       "      <th>player_highest_wicket_3</th>\n",
       "      <th>player_highest_wicket_4</th>\n",
       "      <th>player_highest_wicket_5</th>\n",
       "      <th>Result</th>\n",
       "    </tr>\n",
       "  </thead>\n",
       "  <tbody>\n",
       "    <tr>\n",
       "      <th>2263</th>\n",
       "      <td>30.0</td>\n",
       "      <td>14.0</td>\n",
       "      <td>1.0</td>\n",
       "      <td>3</td>\n",
       "      <td>3.0</td>\n",
       "      <td>6.0</td>\n",
       "      <td>0</td>\n",
       "      <td>95.0</td>\n",
       "      <td>0</td>\n",
       "      <td>0</td>\n",
       "      <td>...</td>\n",
       "      <td>0</td>\n",
       "      <td>1</td>\n",
       "      <td>1</td>\n",
       "      <td>0</td>\n",
       "      <td>0</td>\n",
       "      <td>0</td>\n",
       "      <td>0</td>\n",
       "      <td>0</td>\n",
       "      <td>0</td>\n",
       "      <td>1</td>\n",
       "    </tr>\n",
       "    <tr>\n",
       "      <th>421</th>\n",
       "      <td>30.0</td>\n",
       "      <td>11.0</td>\n",
       "      <td>5.0</td>\n",
       "      <td>2</td>\n",
       "      <td>1.0</td>\n",
       "      <td>6.0</td>\n",
       "      <td>2</td>\n",
       "      <td>42.0</td>\n",
       "      <td>0</td>\n",
       "      <td>0</td>\n",
       "      <td>...</td>\n",
       "      <td>1</td>\n",
       "      <td>0</td>\n",
       "      <td>0</td>\n",
       "      <td>1</td>\n",
       "      <td>0</td>\n",
       "      <td>0</td>\n",
       "      <td>0</td>\n",
       "      <td>0</td>\n",
       "      <td>0</td>\n",
       "      <td>1</td>\n",
       "    </tr>\n",
       "    <tr>\n",
       "      <th>1639</th>\n",
       "      <td>30.0</td>\n",
       "      <td>11.0</td>\n",
       "      <td>5.0</td>\n",
       "      <td>3</td>\n",
       "      <td>3.0</td>\n",
       "      <td>6.0</td>\n",
       "      <td>4</td>\n",
       "      <td>40.0</td>\n",
       "      <td>0</td>\n",
       "      <td>0</td>\n",
       "      <td>...</td>\n",
       "      <td>0</td>\n",
       "      <td>0</td>\n",
       "      <td>1</td>\n",
       "      <td>0</td>\n",
       "      <td>0</td>\n",
       "      <td>0</td>\n",
       "      <td>0</td>\n",
       "      <td>0</td>\n",
       "      <td>0</td>\n",
       "      <td>1</td>\n",
       "    </tr>\n",
       "    <tr>\n",
       "      <th>1848</th>\n",
       "      <td>30.0</td>\n",
       "      <td>13.0</td>\n",
       "      <td>5.0</td>\n",
       "      <td>2</td>\n",
       "      <td>2.0</td>\n",
       "      <td>6.0</td>\n",
       "      <td>2</td>\n",
       "      <td>79.0</td>\n",
       "      <td>1</td>\n",
       "      <td>0</td>\n",
       "      <td>...</td>\n",
       "      <td>0</td>\n",
       "      <td>1</td>\n",
       "      <td>0</td>\n",
       "      <td>1</td>\n",
       "      <td>0</td>\n",
       "      <td>0</td>\n",
       "      <td>0</td>\n",
       "      <td>0</td>\n",
       "      <td>0</td>\n",
       "      <td>1</td>\n",
       "    </tr>\n",
       "    <tr>\n",
       "      <th>343</th>\n",
       "      <td>30.0</td>\n",
       "      <td>19.0</td>\n",
       "      <td>9.0</td>\n",
       "      <td>2</td>\n",
       "      <td>1.0</td>\n",
       "      <td>7.0</td>\n",
       "      <td>6</td>\n",
       "      <td>55.0</td>\n",
       "      <td>0</td>\n",
       "      <td>0</td>\n",
       "      <td>...</td>\n",
       "      <td>0</td>\n",
       "      <td>0</td>\n",
       "      <td>1</td>\n",
       "      <td>0</td>\n",
       "      <td>0</td>\n",
       "      <td>1</td>\n",
       "      <td>0</td>\n",
       "      <td>0</td>\n",
       "      <td>0</td>\n",
       "      <td>1</td>\n",
       "    </tr>\n",
       "  </tbody>\n",
       "</table>\n",
       "<p>5 rows × 42 columns</p>\n",
       "</div>"
      ],
      "text/plain": [
       "      Avg_team_Age  Max_run_scored_1over  Extra_bowls_bowled  \\\n",
       "2263          30.0                  14.0                 1.0   \n",
       "421           30.0                  11.0                 5.0   \n",
       "1639          30.0                  11.0                 5.0   \n",
       "1848          30.0                  13.0                 5.0   \n",
       "343           30.0                  19.0                 9.0   \n",
       "\n",
       "      Min_run_given_1over  Min_run_scored_1over  Max_run_given_1over  \\\n",
       "2263                    3                   3.0                  6.0   \n",
       "421                     2                   1.0                  6.0   \n",
       "1639                    3                   3.0                  6.0   \n",
       "1848                    2                   2.0                  6.0   \n",
       "343                     2                   1.0                  7.0   \n",
       "\n",
       "      extra_bowls_opponent  player_highest_run  \\\n",
       "2263                     0                95.0   \n",
       "421                      2                42.0   \n",
       "1639                     4                40.0   \n",
       "1848                     2                79.0   \n",
       "343                      6                55.0   \n",
       "\n",
       "      Match_light_type_Day and Night  Match_light_type_Night  ...  \\\n",
       "2263                               0                       0  ...   \n",
       "421                                0                       0  ...   \n",
       "1639                               0                       0  ...   \n",
       "1848                               1                       0  ...   \n",
       "343                                0                       0  ...   \n",
       "\n",
       "      Max_wicket_taken_1over_3  Max_wicket_taken_1over_4  \\\n",
       "2263                         0                         1   \n",
       "421                          1                         0   \n",
       "1639                         0                         0   \n",
       "1848                         0                         1   \n",
       "343                          0                         0   \n",
       "\n",
       "      Players_scored_zero_2  Players_scored_zero_3  Players_scored_zero_4  \\\n",
       "2263                      1                      0                      0   \n",
       "421                       0                      1                      0   \n",
       "1639                      1                      0                      0   \n",
       "1848                      0                      1                      0   \n",
       "343                       1                      0                      0   \n",
       "\n",
       "      player_highest_wicket_2  player_highest_wicket_3  \\\n",
       "2263                        0                        0   \n",
       "421                         0                        0   \n",
       "1639                        0                        0   \n",
       "1848                        0                        0   \n",
       "343                         1                        0   \n",
       "\n",
       "      player_highest_wicket_4  player_highest_wicket_5  Result  \n",
       "2263                        0                        0       1  \n",
       "421                         0                        0       1  \n",
       "1639                        0                        0       1  \n",
       "1848                        0                        0       1  \n",
       "343                         0                        0       1  \n",
       "\n",
       "[5 rows x 42 columns]"
      ]
     },
     "execution_count": 132,
     "metadata": {},
     "output_type": "execute_result"
    }
   ],
   "source": [
    "train_df = X_train.copy()\n",
    "train_df['Result'] = train_labels\n",
    "train_df.head()"
   ]
  },
  {
   "cell_type": "code",
   "execution_count": 133,
   "id": "642b6f50",
   "metadata": {},
   "outputs": [],
   "source": [
    "train_df.to_csv('Train_data.csv', encoding='utf-8')"
   ]
  },
  {
   "cell_type": "code",
   "execution_count": 134,
   "id": "886044dc",
   "metadata": {},
   "outputs": [
    {
     "data": {
      "text/html": [
       "<div>\n",
       "<style scoped>\n",
       "    .dataframe tbody tr th:only-of-type {\n",
       "        vertical-align: middle;\n",
       "    }\n",
       "\n",
       "    .dataframe tbody tr th {\n",
       "        vertical-align: top;\n",
       "    }\n",
       "\n",
       "    .dataframe thead th {\n",
       "        text-align: right;\n",
       "    }\n",
       "</style>\n",
       "<table border=\"1\" class=\"dataframe\">\n",
       "  <thead>\n",
       "    <tr style=\"text-align: right;\">\n",
       "      <th></th>\n",
       "      <th>Avg_team_Age</th>\n",
       "      <th>Max_run_scored_1over</th>\n",
       "      <th>Extra_bowls_bowled</th>\n",
       "      <th>Min_run_given_1over</th>\n",
       "      <th>Min_run_scored_1over</th>\n",
       "      <th>Max_run_given_1over</th>\n",
       "      <th>extra_bowls_opponent</th>\n",
       "      <th>player_highest_run</th>\n",
       "      <th>Match_light_type_Day and Night</th>\n",
       "      <th>Match_light_type_Night</th>\n",
       "      <th>...</th>\n",
       "      <th>Max_wicket_taken_1over_3</th>\n",
       "      <th>Max_wicket_taken_1over_4</th>\n",
       "      <th>Players_scored_zero_2</th>\n",
       "      <th>Players_scored_zero_3</th>\n",
       "      <th>Players_scored_zero_4</th>\n",
       "      <th>player_highest_wicket_2</th>\n",
       "      <th>player_highest_wicket_3</th>\n",
       "      <th>player_highest_wicket_4</th>\n",
       "      <th>player_highest_wicket_5</th>\n",
       "      <th>Result</th>\n",
       "    </tr>\n",
       "  </thead>\n",
       "  <tbody>\n",
       "    <tr>\n",
       "      <th>1356</th>\n",
       "      <td>30.0</td>\n",
       "      <td>24.0</td>\n",
       "      <td>31.0</td>\n",
       "      <td>0</td>\n",
       "      <td>2.0</td>\n",
       "      <td>29.0</td>\n",
       "      <td>10</td>\n",
       "      <td>83.0</td>\n",
       "      <td>1</td>\n",
       "      <td>0</td>\n",
       "      <td>...</td>\n",
       "      <td>0</td>\n",
       "      <td>0</td>\n",
       "      <td>0</td>\n",
       "      <td>1</td>\n",
       "      <td>0</td>\n",
       "      <td>0</td>\n",
       "      <td>0</td>\n",
       "      <td>0</td>\n",
       "      <td>1</td>\n",
       "      <td>1</td>\n",
       "    </tr>\n",
       "    <tr>\n",
       "      <th>2679</th>\n",
       "      <td>30.0</td>\n",
       "      <td>12.0</td>\n",
       "      <td>6.0</td>\n",
       "      <td>3</td>\n",
       "      <td>2.0</td>\n",
       "      <td>6.0</td>\n",
       "      <td>4</td>\n",
       "      <td>48.0</td>\n",
       "      <td>0</td>\n",
       "      <td>0</td>\n",
       "      <td>...</td>\n",
       "      <td>0</td>\n",
       "      <td>0</td>\n",
       "      <td>1</td>\n",
       "      <td>0</td>\n",
       "      <td>0</td>\n",
       "      <td>0</td>\n",
       "      <td>0</td>\n",
       "      <td>0</td>\n",
       "      <td>0</td>\n",
       "      <td>1</td>\n",
       "    </tr>\n",
       "    <tr>\n",
       "      <th>2480</th>\n",
       "      <td>30.0</td>\n",
       "      <td>17.0</td>\n",
       "      <td>20.0</td>\n",
       "      <td>6</td>\n",
       "      <td>3.0</td>\n",
       "      <td>6.0</td>\n",
       "      <td>0</td>\n",
       "      <td>60.0</td>\n",
       "      <td>1</td>\n",
       "      <td>0</td>\n",
       "      <td>...</td>\n",
       "      <td>1</td>\n",
       "      <td>0</td>\n",
       "      <td>0</td>\n",
       "      <td>1</td>\n",
       "      <td>0</td>\n",
       "      <td>0</td>\n",
       "      <td>1</td>\n",
       "      <td>0</td>\n",
       "      <td>0</td>\n",
       "      <td>1</td>\n",
       "    </tr>\n",
       "    <tr>\n",
       "      <th>163</th>\n",
       "      <td>30.0</td>\n",
       "      <td>16.0</td>\n",
       "      <td>5.0</td>\n",
       "      <td>1</td>\n",
       "      <td>3.0</td>\n",
       "      <td>6.0</td>\n",
       "      <td>3</td>\n",
       "      <td>62.0</td>\n",
       "      <td>0</td>\n",
       "      <td>0</td>\n",
       "      <td>...</td>\n",
       "      <td>0</td>\n",
       "      <td>1</td>\n",
       "      <td>0</td>\n",
       "      <td>0</td>\n",
       "      <td>1</td>\n",
       "      <td>0</td>\n",
       "      <td>0</td>\n",
       "      <td>0</td>\n",
       "      <td>0</td>\n",
       "      <td>1</td>\n",
       "    </tr>\n",
       "    <tr>\n",
       "      <th>1373</th>\n",
       "      <td>30.0</td>\n",
       "      <td>13.0</td>\n",
       "      <td>6.0</td>\n",
       "      <td>2</td>\n",
       "      <td>3.0</td>\n",
       "      <td>6.0</td>\n",
       "      <td>2</td>\n",
       "      <td>93.0</td>\n",
       "      <td>0</td>\n",
       "      <td>0</td>\n",
       "      <td>...</td>\n",
       "      <td>0</td>\n",
       "      <td>0</td>\n",
       "      <td>0</td>\n",
       "      <td>1</td>\n",
       "      <td>0</td>\n",
       "      <td>0</td>\n",
       "      <td>0</td>\n",
       "      <td>0</td>\n",
       "      <td>0</td>\n",
       "      <td>0</td>\n",
       "    </tr>\n",
       "  </tbody>\n",
       "</table>\n",
       "<p>5 rows × 42 columns</p>\n",
       "</div>"
      ],
      "text/plain": [
       "      Avg_team_Age  Max_run_scored_1over  Extra_bowls_bowled  \\\n",
       "1356          30.0                  24.0                31.0   \n",
       "2679          30.0                  12.0                 6.0   \n",
       "2480          30.0                  17.0                20.0   \n",
       "163           30.0                  16.0                 5.0   \n",
       "1373          30.0                  13.0                 6.0   \n",
       "\n",
       "      Min_run_given_1over  Min_run_scored_1over  Max_run_given_1over  \\\n",
       "1356                    0                   2.0                 29.0   \n",
       "2679                    3                   2.0                  6.0   \n",
       "2480                    6                   3.0                  6.0   \n",
       "163                     1                   3.0                  6.0   \n",
       "1373                    2                   3.0                  6.0   \n",
       "\n",
       "      extra_bowls_opponent  player_highest_run  \\\n",
       "1356                    10                83.0   \n",
       "2679                     4                48.0   \n",
       "2480                     0                60.0   \n",
       "163                      3                62.0   \n",
       "1373                     2                93.0   \n",
       "\n",
       "      Match_light_type_Day and Night  Match_light_type_Night  ...  \\\n",
       "1356                               1                       0  ...   \n",
       "2679                               0                       0  ...   \n",
       "2480                               1                       0  ...   \n",
       "163                                0                       0  ...   \n",
       "1373                               0                       0  ...   \n",
       "\n",
       "      Max_wicket_taken_1over_3  Max_wicket_taken_1over_4  \\\n",
       "1356                         0                         0   \n",
       "2679                         0                         0   \n",
       "2480                         1                         0   \n",
       "163                          0                         1   \n",
       "1373                         0                         0   \n",
       "\n",
       "      Players_scored_zero_2  Players_scored_zero_3  Players_scored_zero_4  \\\n",
       "1356                      0                      1                      0   \n",
       "2679                      1                      0                      0   \n",
       "2480                      0                      1                      0   \n",
       "163                       0                      0                      1   \n",
       "1373                      0                      1                      0   \n",
       "\n",
       "      player_highest_wicket_2  player_highest_wicket_3  \\\n",
       "1356                        0                        0   \n",
       "2679                        0                        0   \n",
       "2480                        0                        1   \n",
       "163                         0                        0   \n",
       "1373                        0                        0   \n",
       "\n",
       "      player_highest_wicket_4  player_highest_wicket_5  Result  \n",
       "1356                        0                        1       1  \n",
       "2679                        0                        0       1  \n",
       "2480                        0                        0       1  \n",
       "163                         0                        0       1  \n",
       "1373                        0                        0       0  \n",
       "\n",
       "[5 rows x 42 columns]"
      ]
     },
     "execution_count": 134,
     "metadata": {},
     "output_type": "execute_result"
    }
   ],
   "source": [
    "test_df = X_test.copy()\n",
    "test_df['Result'] = test_labels\n",
    "test_df.head()"
   ]
  },
  {
   "cell_type": "code",
   "execution_count": 135,
   "id": "95daadbf",
   "metadata": {},
   "outputs": [],
   "source": [
    "test_df.to_csv('Test_data.csv', encoding='utf-8')"
   ]
  },
  {
   "cell_type": "code",
   "execution_count": 40,
   "id": "518923a8",
   "metadata": {},
   "outputs": [],
   "source": [
    "#Building a Decision Tree Classifier\n",
    "param_grid_dtcl = {\n",
    "    'criterion': ['gini'],\n",
    "    'max_depth': [10,20,30,50],\n",
    "    'min_samples_leaf': [50,100,150], \n",
    "    'min_samples_split': [150,300,450],\n",
    "}\n",
    "dtcl = DecisionTreeClassifier(random_state=1)\n",
    "\n",
    "grid_search_dtcl = GridSearchCV(estimator = dtcl, param_grid = param_grid_dtcl, cv = 10)"
   ]
  },
  {
   "cell_type": "code",
   "execution_count": 41,
   "id": "d0cda920",
   "metadata": {},
   "outputs": [
    {
     "name": "stdout",
     "output_type": "stream",
     "text": [
      "{'criterion': 'gini', 'max_depth': 10, 'min_samples_leaf': 100, 'min_samples_split': 150}\n"
     ]
    },
    {
     "data": {
      "text/plain": [
       "DecisionTreeClassifier(max_depth=10, min_samples_leaf=100,\n",
       "                       min_samples_split=150, random_state=1)"
      ]
     },
     "execution_count": 41,
     "metadata": {},
     "output_type": "execute_result"
    }
   ],
   "source": [
    "grid_search_dtcl.fit(X_train, train_labels)\n",
    "print(grid_search_dtcl.best_params_)\n",
    "best_grid_dtcl = grid_search_dtcl.best_estimator_\n",
    "best_grid_dtcl"
   ]
  },
  {
   "cell_type": "code",
   "execution_count": 42,
   "id": "c4471a82",
   "metadata": {},
   "outputs": [],
   "source": [
    "param_grid_dtcl = {\n",
    "    'criterion': ['gini'],\n",
    "    'max_depth': [9, 10,12,14],\n",
    "    'min_samples_leaf': [90, 95, 100, 105, 110], \n",
    "    'min_samples_split': [145, 148, 150, 152, 155],\n",
    "}\n",
    "\n",
    "dtcl = DecisionTreeClassifier(random_state=1)\n",
    "\n",
    "grid_search_dtcl = GridSearchCV(estimator = dtcl, param_grid = param_grid_dtcl, cv = 10)"
   ]
  },
  {
   "cell_type": "code",
   "execution_count": 43,
   "id": "bd3b9ae3",
   "metadata": {},
   "outputs": [
    {
     "name": "stdout",
     "output_type": "stream",
     "text": [
      "{'criterion': 'gini', 'max_depth': 9, 'min_samples_leaf': 90, 'min_samples_split': 145}\n"
     ]
    },
    {
     "data": {
      "text/plain": [
       "DecisionTreeClassifier(max_depth=9, min_samples_leaf=90, min_samples_split=145,\n",
       "                       random_state=1)"
      ]
     },
     "execution_count": 43,
     "metadata": {},
     "output_type": "execute_result"
    }
   ],
   "source": [
    "grid_search_dtcl.fit(X_train, train_labels)\n",
    "print(grid_search_dtcl.best_params_)\n",
    "best_grid_dtcl = grid_search_dtcl.best_estimator_\n",
    "best_grid_dtcl"
   ]
  },
  {
   "cell_type": "code",
   "execution_count": 44,
   "id": "b2a9ca87",
   "metadata": {},
   "outputs": [],
   "source": [
    "param_grid_dtcl = {\n",
    "    'criterion': ['gini'],\n",
    "    'max_depth': [8, 8.5, 9, 9.5],\n",
    "    'min_samples_leaf': [85, 88, 92, 95], \n",
    "    'min_samples_split': [140, 142, 146, 148],\n",
    "}\n",
    "\n",
    "dtcl = DecisionTreeClassifier(random_state=1)\n",
    "\n",
    "grid_search_dtcl = GridSearchCV(estimator = dtcl, param_grid = param_grid_dtcl, cv = 10)"
   ]
  },
  {
   "cell_type": "code",
   "execution_count": 45,
   "id": "6ca5c330",
   "metadata": {},
   "outputs": [
    {
     "name": "stdout",
     "output_type": "stream",
     "text": [
      "{'criterion': 'gini', 'max_depth': 8, 'min_samples_leaf': 85, 'min_samples_split': 140}\n"
     ]
    },
    {
     "data": {
      "text/plain": [
       "DecisionTreeClassifier(max_depth=8, min_samples_leaf=85, min_samples_split=140,\n",
       "                       random_state=1)"
      ]
     },
     "execution_count": 45,
     "metadata": {},
     "output_type": "execute_result"
    }
   ],
   "source": [
    "grid_search_dtcl.fit(X_train, train_labels)\n",
    "print(grid_search_dtcl.best_params_)\n",
    "best_grid_dtcl = grid_search_dtcl.best_estimator_\n",
    "best_grid_dtcl"
   ]
  },
  {
   "cell_type": "code",
   "execution_count": 46,
   "id": "3e1fefdc",
   "metadata": {},
   "outputs": [],
   "source": [
    "train_char_label = ['no', 'yes']\n",
    "tree_regularized = open('tree_regularized.dot','w')\n",
    "dot_data = tree.export_graphviz(best_grid_dtcl, out_file= tree_regularized ,\n",
    "                                feature_names = list(X_train),\n",
    "                                class_names = list(train_char_label))\n",
    "\n",
    "tree_regularized.close()\n",
    "dot_data"
   ]
  },
  {
   "cell_type": "code",
   "execution_count": 47,
   "id": "1f5646a8",
   "metadata": {},
   "outputs": [
    {
     "name": "stdout",
     "output_type": "stream",
     "text": [
      "                                     Imp\n",
      "Extra_bowls_bowled              0.451664\n",
      "Offshore_Yes                    0.381634\n",
      "Min_run_given_1over             0.066653\n",
      "Season_Summer                   0.037885\n",
      "Match_light_type_Day and Night  0.026127\n",
      "Bowlers_in_team_3.0             0.016400\n",
      "player_highest_run              0.008302\n",
      "Max_run_scored_1over            0.006149\n",
      "Max_run_given_1over             0.005186\n",
      "Avg_team_Age                    0.000000\n",
      "Max_wicket_taken_1over_3        0.000000\n",
      "Opponent_West Indies            0.000000\n",
      "Opponent_Zimbabwe               0.000000\n",
      "Season_Winter                   0.000000\n",
      "Max_wicket_taken_1over_2        0.000000\n",
      "Players_scored_zero_2           0.000000\n",
      "Max_wicket_taken_1over_4        0.000000\n",
      "Opponent_South Africa           0.000000\n",
      "Players_scored_zero_3           0.000000\n",
      "Players_scored_zero_4           0.000000\n",
      "player_highest_wicket_2         0.000000\n",
      "player_highest_wicket_3         0.000000\n",
      "player_highest_wicket_4         0.000000\n",
      "Opponent_Srilanka               0.000000\n",
      "Opponent_Bangladesh             0.000000\n",
      "Opponent_Pakistan               0.000000\n",
      "Opponent_Kenya                  0.000000\n",
      "Opponent_England                0.000000\n",
      "First_selection_Bowling         0.000000\n",
      "All_rounder_in_team_4.0         0.000000\n",
      "All_rounder_in_team_3.0         0.000000\n",
      "All_rounder_in_team_2.0         0.000000\n",
      "Bowlers_in_team_5.0             0.000000\n",
      "Bowlers_in_team_4.0             0.000000\n",
      "Bowlers_in_team_2.0             0.000000\n",
      "Match_format_Test               0.000000\n",
      "Match_format_T20                0.000000\n",
      "Match_light_type_Night          0.000000\n",
      "extra_bowls_opponent            0.000000\n",
      "Min_run_scored_1over            0.000000\n",
      "player_highest_wicket_5         0.000000\n"
     ]
    }
   ],
   "source": [
    "print (pd.DataFrame(best_grid_dtcl.feature_importances_, columns = [\"Imp\"], \n",
    "                    index = X_train.columns).sort_values('Imp',ascending=False))"
   ]
  },
  {
   "cell_type": "code",
   "execution_count": 48,
   "id": "dd95d3e0",
   "metadata": {},
   "outputs": [],
   "source": [
    "#Predicting on Training and Test dataset\n",
    "ytrain_predict_dtcl = best_grid_dtcl.predict(X_train)\n",
    "ytest_predict_dtcl = best_grid_dtcl.predict(X_test)"
   ]
  },
  {
   "cell_type": "code",
   "execution_count": 49,
   "id": "45c4d6b8",
   "metadata": {},
   "outputs": [
    {
     "data": {
      "text/html": [
       "<div>\n",
       "<style scoped>\n",
       "    .dataframe tbody tr th:only-of-type {\n",
       "        vertical-align: middle;\n",
       "    }\n",
       "\n",
       "    .dataframe tbody tr th {\n",
       "        vertical-align: top;\n",
       "    }\n",
       "\n",
       "    .dataframe thead th {\n",
       "        text-align: right;\n",
       "    }\n",
       "</style>\n",
       "<table border=\"1\" class=\"dataframe\">\n",
       "  <thead>\n",
       "    <tr style=\"text-align: right;\">\n",
       "      <th></th>\n",
       "      <th>0</th>\n",
       "      <th>1</th>\n",
       "    </tr>\n",
       "  </thead>\n",
       "  <tbody>\n",
       "    <tr>\n",
       "      <th>0</th>\n",
       "      <td>0.330097</td>\n",
       "      <td>0.669903</td>\n",
       "    </tr>\n",
       "    <tr>\n",
       "      <th>1</th>\n",
       "      <td>0.034483</td>\n",
       "      <td>0.965517</td>\n",
       "    </tr>\n",
       "    <tr>\n",
       "      <th>2</th>\n",
       "      <td>0.073529</td>\n",
       "      <td>0.926471</td>\n",
       "    </tr>\n",
       "    <tr>\n",
       "      <th>3</th>\n",
       "      <td>0.034483</td>\n",
       "      <td>0.965517</td>\n",
       "    </tr>\n",
       "    <tr>\n",
       "      <th>4</th>\n",
       "      <td>0.068627</td>\n",
       "      <td>0.931373</td>\n",
       "    </tr>\n",
       "  </tbody>\n",
       "</table>\n",
       "</div>"
      ],
      "text/plain": [
       "          0         1\n",
       "0  0.330097  0.669903\n",
       "1  0.034483  0.965517\n",
       "2  0.073529  0.926471\n",
       "3  0.034483  0.965517\n",
       "4  0.068627  0.931373"
      ]
     },
     "execution_count": 49,
     "metadata": {},
     "output_type": "execute_result"
    }
   ],
   "source": [
    "ytest_predict_dtcl\n",
    "ytest_predict_prob_dtcl=best_grid_dtcl.predict_proba(X_test)\n",
    "ytest_predict_prob_dtcl\n",
    "pd.DataFrame(ytest_predict_prob_dtcl).head()"
   ]
  },
  {
   "cell_type": "markdown",
   "id": "c28670eb",
   "metadata": {},
   "source": [
    "### Building Random Forest Classifier"
   ]
  },
  {
   "cell_type": "code",
   "execution_count": 50,
   "id": "5fb6e941",
   "metadata": {},
   "outputs": [],
   "source": [
    "param_grid_rfcl = {\n",
    "    'max_depth': [4,5],\n",
    "    'max_features': [2,3],\n",
    "    'min_samples_leaf': [8,9],\n",
    "    'min_samples_split': [46,50], \n",
    "    'n_estimators': [290]\n",
    "}\n",
    "\n",
    "rfcl = RandomForestClassifier(random_state=1)\n",
    "\n",
    "grid_search_rfcl = GridSearchCV(estimator = rfcl, param_grid = param_grid_rfcl)"
   ]
  },
  {
   "cell_type": "code",
   "execution_count": 51,
   "id": "5bbe18f6",
   "metadata": {},
   "outputs": [
    {
     "name": "stdout",
     "output_type": "stream",
     "text": [
      "{'max_depth': 4, 'max_features': 2, 'min_samples_leaf': 8, 'min_samples_split': 46, 'n_estimators': 290}\n"
     ]
    },
    {
     "data": {
      "text/plain": [
       "RandomForestClassifier(max_depth=4, max_features=2, min_samples_leaf=8,\n",
       "                       min_samples_split=46, n_estimators=290, random_state=1)"
      ]
     },
     "execution_count": 51,
     "metadata": {},
     "output_type": "execute_result"
    }
   ],
   "source": [
    "grid_search_rfcl.fit(X_train, train_labels)\n",
    "print(grid_search_rfcl.best_params_)\n",
    "best_grid_rfcl = grid_search_rfcl.best_estimator_\n",
    "best_grid_rfcl"
   ]
  },
  {
   "cell_type": "code",
   "execution_count": 52,
   "id": "b7bd6ed6",
   "metadata": {},
   "outputs": [],
   "source": [
    "#Predicting the Training and Testing data\n",
    "ytrain_predict_rfcl = best_grid_rfcl.predict(X_train)\n",
    "ytest_predict_rfcl = best_grid_rfcl.predict(X_test)"
   ]
  },
  {
   "cell_type": "code",
   "execution_count": 53,
   "id": "0005842e",
   "metadata": {},
   "outputs": [
    {
     "data": {
      "text/html": [
       "<div>\n",
       "<style scoped>\n",
       "    .dataframe tbody tr th:only-of-type {\n",
       "        vertical-align: middle;\n",
       "    }\n",
       "\n",
       "    .dataframe tbody tr th {\n",
       "        vertical-align: top;\n",
       "    }\n",
       "\n",
       "    .dataframe thead th {\n",
       "        text-align: right;\n",
       "    }\n",
       "</style>\n",
       "<table border=\"1\" class=\"dataframe\">\n",
       "  <thead>\n",
       "    <tr style=\"text-align: right;\">\n",
       "      <th></th>\n",
       "      <th>0</th>\n",
       "      <th>1</th>\n",
       "    </tr>\n",
       "  </thead>\n",
       "  <tbody>\n",
       "    <tr>\n",
       "      <th>0</th>\n",
       "      <td>0.163426</td>\n",
       "      <td>0.836574</td>\n",
       "    </tr>\n",
       "    <tr>\n",
       "      <th>1</th>\n",
       "      <td>0.142792</td>\n",
       "      <td>0.857208</td>\n",
       "    </tr>\n",
       "    <tr>\n",
       "      <th>2</th>\n",
       "      <td>0.171001</td>\n",
       "      <td>0.828999</td>\n",
       "    </tr>\n",
       "    <tr>\n",
       "      <th>3</th>\n",
       "      <td>0.134837</td>\n",
       "      <td>0.865163</td>\n",
       "    </tr>\n",
       "    <tr>\n",
       "      <th>4</th>\n",
       "      <td>0.158752</td>\n",
       "      <td>0.841248</td>\n",
       "    </tr>\n",
       "  </tbody>\n",
       "</table>\n",
       "</div>"
      ],
      "text/plain": [
       "          0         1\n",
       "0  0.163426  0.836574\n",
       "1  0.142792  0.857208\n",
       "2  0.171001  0.828999\n",
       "3  0.134837  0.865163\n",
       "4  0.158752  0.841248"
      ]
     },
     "execution_count": 53,
     "metadata": {},
     "output_type": "execute_result"
    }
   ],
   "source": [
    "#Getting the Predicted Classes and Probs\n",
    "ytest_predict_rfcl\n",
    "ytest_predict_prob_rfcl=best_grid_rfcl.predict_proba(X_test)\n",
    "ytest_predict_prob_rfcl\n",
    "pd.DataFrame(ytest_predict_prob_rfcl).head()"
   ]
  },
  {
   "cell_type": "code",
   "execution_count": 54,
   "id": "509d06c4",
   "metadata": {},
   "outputs": [
    {
     "name": "stdout",
     "output_type": "stream",
     "text": [
      "                                     Imp\n",
      "Offshore_Yes                    0.140749\n",
      "Extra_bowls_bowled              0.117486\n",
      "extra_bowls_opponent            0.072892\n",
      "Season_Summer                   0.057183\n",
      "Opponent_Zimbabwe               0.055615\n",
      "Match_light_type_Day and Night  0.053709\n",
      "Min_run_scored_1over            0.044809\n",
      "player_highest_wicket_2         0.040729\n",
      "Max_run_given_1over             0.036596\n",
      "Min_run_given_1over             0.033040\n",
      "Max_run_scored_1over            0.031293\n",
      "player_highest_run              0.030113\n",
      "Opponent_England                0.023456\n",
      "Opponent_Srilanka               0.023328\n",
      "Opponent_West Indies            0.019474\n",
      "Opponent_Bangladesh             0.017234\n",
      "Match_light_type_Night          0.017015\n",
      "All_rounder_in_team_3.0         0.015806\n",
      "Players_scored_zero_4           0.014973\n",
      "player_highest_wicket_4         0.013967\n",
      "Season_Winter                   0.013922\n",
      "Players_scored_zero_3           0.013465\n",
      "Players_scored_zero_2           0.010923\n",
      "Opponent_Pakistan               0.009320\n",
      "Match_format_T20                0.009007\n",
      "First_selection_Bowling         0.009000\n",
      "Match_format_Test               0.007992\n",
      "player_highest_wicket_3         0.007692\n",
      "player_highest_wicket_5         0.007550\n",
      "All_rounder_in_team_4.0         0.006593\n",
      "Bowlers_in_team_3.0             0.006001\n",
      "Max_wicket_taken_1over_4        0.005541\n",
      "All_rounder_in_team_2.0         0.005205\n",
      "Opponent_Kenya                  0.005117\n",
      "Opponent_South Africa           0.004784\n",
      "Max_wicket_taken_1over_3        0.004356\n",
      "Max_wicket_taken_1over_2        0.003914\n",
      "Bowlers_in_team_2.0             0.003786\n",
      "Bowlers_in_team_4.0             0.003462\n",
      "Bowlers_in_team_5.0             0.002908\n",
      "Avg_team_Age                    0.000000\n"
     ]
    }
   ],
   "source": [
    "#Feature Importance via RF\n",
    "print (pd.DataFrame(best_grid_rfcl.feature_importances_, \n",
    "                    columns = [\"Imp\"], \n",
    "                    index = X_train.columns).sort_values('Imp',ascending=False))"
   ]
  },
  {
   "cell_type": "markdown",
   "id": "8b89000b",
   "metadata": {},
   "source": [
    "### Building a Neural Network Classifier"
   ]
  },
  {
   "cell_type": "code",
   "execution_count": 55,
   "id": "56fceee1",
   "metadata": {},
   "outputs": [],
   "source": [
    "\n",
    "param_grid_nncl = {\n",
    "    'hidden_layer_sizes': [50,100,200],\n",
    "    'max_iter': [2500,3000,4000],\n",
    "    'solver': ['adam'],\n",
    "    'tol': [0.01], \n",
    "}\n",
    "\n",
    "nncl = MLPClassifier(random_state=1)\n",
    "\n",
    "grid_search_nncl = GridSearchCV(estimator = nncl, param_grid = param_grid_nncl, cv = 10)"
   ]
  },
  {
   "cell_type": "code",
   "execution_count": 56,
   "id": "c252f961",
   "metadata": {},
   "outputs": [
    {
     "data": {
      "text/plain": [
       "MLPClassifier(hidden_layer_sizes=100, max_iter=2500, random_state=1, tol=0.01)"
      ]
     },
     "execution_count": 56,
     "metadata": {},
     "output_type": "execute_result"
    }
   ],
   "source": [
    "grid_search_nncl.fit(X_train, train_labels)\n",
    "grid_search_nncl.best_params_\n",
    "best_grid_nncl = grid_search_nncl.best_estimator_\n",
    "best_grid_nncl"
   ]
  },
  {
   "cell_type": "code",
   "execution_count": 57,
   "id": "8c72a196",
   "metadata": {},
   "outputs": [],
   "source": [
    "#Predicting the Training and Testing data\n",
    "ytrain_predict_nncl = best_grid_nncl.predict(X_train)\n",
    "ytest_predict_nncl = best_grid_nncl.predict(X_test)"
   ]
  },
  {
   "cell_type": "code",
   "execution_count": 58,
   "id": "aec9e91f",
   "metadata": {},
   "outputs": [
    {
     "data": {
      "text/html": [
       "<div>\n",
       "<style scoped>\n",
       "    .dataframe tbody tr th:only-of-type {\n",
       "        vertical-align: middle;\n",
       "    }\n",
       "\n",
       "    .dataframe tbody tr th {\n",
       "        vertical-align: top;\n",
       "    }\n",
       "\n",
       "    .dataframe thead th {\n",
       "        text-align: right;\n",
       "    }\n",
       "</style>\n",
       "<table border=\"1\" class=\"dataframe\">\n",
       "  <thead>\n",
       "    <tr style=\"text-align: right;\">\n",
       "      <th></th>\n",
       "      <th>0</th>\n",
       "      <th>1</th>\n",
       "    </tr>\n",
       "  </thead>\n",
       "  <tbody>\n",
       "    <tr>\n",
       "      <th>0</th>\n",
       "      <td>0.359651</td>\n",
       "      <td>0.640349</td>\n",
       "    </tr>\n",
       "    <tr>\n",
       "      <th>1</th>\n",
       "      <td>0.193647</td>\n",
       "      <td>0.806353</td>\n",
       "    </tr>\n",
       "    <tr>\n",
       "      <th>2</th>\n",
       "      <td>0.052684</td>\n",
       "      <td>0.947316</td>\n",
       "    </tr>\n",
       "    <tr>\n",
       "      <th>3</th>\n",
       "      <td>0.103028</td>\n",
       "      <td>0.896972</td>\n",
       "    </tr>\n",
       "    <tr>\n",
       "      <th>4</th>\n",
       "      <td>0.249133</td>\n",
       "      <td>0.750867</td>\n",
       "    </tr>\n",
       "  </tbody>\n",
       "</table>\n",
       "</div>"
      ],
      "text/plain": [
       "          0         1\n",
       "0  0.359651  0.640349\n",
       "1  0.193647  0.806353\n",
       "2  0.052684  0.947316\n",
       "3  0.103028  0.896972\n",
       "4  0.249133  0.750867"
      ]
     },
     "execution_count": 58,
     "metadata": {},
     "output_type": "execute_result"
    }
   ],
   "source": [
    "#Getting the Predicted Classes and Probs\n",
    "ytest_predict_nncl\n",
    "ytest_predict_prob_nncl=best_grid_nncl.predict_proba(X_test)\n",
    "ytest_predict_prob_nncl\n",
    "pd.DataFrame(ytest_predict_prob_nncl).head()"
   ]
  },
  {
   "cell_type": "markdown",
   "id": "de9a5ff9",
   "metadata": {},
   "source": [
    "### CART - AUC and ROC for the training data"
   ]
  },
  {
   "cell_type": "code",
   "execution_count": 59,
   "id": "7e8f600a",
   "metadata": {},
   "outputs": [
    {
     "name": "stdout",
     "output_type": "stream",
     "text": [
      "AUC: 0.787\n"
     ]
    },
    {
     "data": {
      "text/plain": [
       "[<matplotlib.lines.Line2D at 0x206b86c5bb0>]"
      ]
     },
     "execution_count": 59,
     "metadata": {},
     "output_type": "execute_result"
    },
    {
     "data": {
      "image/png": "[encoded data removed]",
      "text/plain": [
       "<Figure size 432x288 with 1 Axes>"
      ]
     },
     "metadata": {
      "needs_background": "light"
     },
     "output_type": "display_data"
    }
   ],
   "source": [
    "probs_cart = best_grid_dtcl.predict_proba(X_train)\n",
    "# keep probabilities for the positive outcome only\n",
    "probs_cart = probs_cart[:, 1]\n",
    "# calculate AUC\n",
    "cart_train_auc = roc_auc_score(train_labels, probs_cart)\n",
    "print('AUC: %.3f' % cart_train_auc)\n",
    "# calculate roc curve\n",
    "cart_train_fpr, cart_train_tpr, cart_train_thresholds = roc_curve(train_labels, probs_cart)\n",
    "plt.plot([0, 1], [0, 1], linestyle='--')\n",
    "# plot the roc curve for the model\n",
    "plt.plot(cart_train_fpr, cart_train_tpr)"
   ]
  },
  {
   "cell_type": "code",
   "execution_count": 60,
   "id": "4d23edc2",
   "metadata": {},
   "outputs": [
    {
     "name": "stdout",
     "output_type": "stream",
     "text": [
      "AUC: 0.754\n"
     ]
    },
    {
     "data": {
      "text/plain": [
       "[<matplotlib.lines.Line2D at 0x206ba92ba00>]"
      ]
     },
     "execution_count": 60,
     "metadata": {},
     "output_type": "execute_result"
    },
    {
     "data": {
      "image/png": "[encoded data removed]",
      "text/plain": [
       "<Figure size 432x288 with 1 Axes>"
      ]
     },
     "metadata": {
      "needs_background": "light"
     },
     "output_type": "display_data"
    }
   ],
   "source": [
    "probs_cart = best_grid_dtcl.predict_proba(X_test)\n",
    "# keep probabilities for the positive outcome only\n",
    "probs_cart = probs_cart[:, 1]\n",
    "# calculate AUC\n",
    "cart_test_auc = roc_auc_score(test_labels, probs_cart)\n",
    "print('AUC: %.3f' % cart_test_auc)\n",
    "# calculate roc curve\n",
    "cart_test_fpr, cart_test_tpr, cart_testthresholds = roc_curve(test_labels, probs_cart)\n",
    "plt.plot([0, 1], [0, 1], linestyle='--')\n",
    "# plot the roc curve for the model\n",
    "plt.plot(cart_test_fpr, cart_test_tpr)"
   ]
  },
  {
   "cell_type": "code",
   "execution_count": 61,
   "id": "0b181773",
   "metadata": {},
   "outputs": [
    {
     "data": {
      "text/plain": [
       "array([[  64,  260],\n",
       "       [  52, 1675]], dtype=int64)"
      ]
     },
     "execution_count": 61,
     "metadata": {},
     "output_type": "execute_result"
    }
   ],
   "source": [
    "confusion_matrix(train_labels, ytrain_predict_dtcl)"
   ]
  },
  {
   "cell_type": "code",
   "execution_count": 62,
   "id": "afcff5fa",
   "metadata": {},
   "outputs": [
    {
     "data": {
      "text/plain": [
       "0.8478790833739639"
      ]
     },
     "execution_count": 62,
     "metadata": {},
     "output_type": "execute_result"
    }
   ],
   "source": [
    "#Train Data Accuracy\n",
    "cart_train_acc=best_grid_dtcl.score(X_train,train_labels) \n",
    "cart_train_acc"
   ]
  },
  {
   "cell_type": "code",
   "execution_count": 63,
   "id": "c1840433",
   "metadata": {},
   "outputs": [
    {
     "name": "stdout",
     "output_type": "stream",
     "text": [
      "              precision    recall  f1-score   support\n",
      "\n",
      "           0       0.55      0.20      0.29       324\n",
      "           1       0.87      0.97      0.91      1727\n",
      "\n",
      "    accuracy                           0.85      2051\n",
      "   macro avg       0.71      0.58      0.60      2051\n",
      "weighted avg       0.82      0.85      0.82      2051\n",
      "\n"
     ]
    }
   ],
   "source": [
    "print(classification_report(train_labels, ytrain_predict_dtcl))"
   ]
  },
  {
   "cell_type": "code",
   "execution_count": 64,
   "id": "990e61c4",
   "metadata": {},
   "outputs": [
    {
     "name": "stdout",
     "output_type": "stream",
     "text": [
      "cart_train_precision  0.87\n",
      "cart_train_recall  0.97\n",
      "cart_train_f1  0.91\n"
     ]
    }
   ],
   "source": [
    "cart_metrics=classification_report(train_labels, ytrain_predict_dtcl,output_dict=True)\n",
    "df=pd.DataFrame(cart_metrics).transpose()\n",
    "cart_train_f1=round(df.loc[\"1\"][2],2)\n",
    "cart_train_recall=round(df.loc[\"1\"][1],2)\n",
    "cart_train_precision=round(df.loc[\"1\"][0],2)\n",
    "print ('cart_train_precision ',cart_train_precision)\n",
    "print ('cart_train_recall ',cart_train_recall)\n",
    "print ('cart_train_f1 ',cart_train_f1)"
   ]
  },
  {
   "cell_type": "markdown",
   "id": "bed41efd",
   "metadata": {},
   "source": [
    "### CART Confusion Matrix and Classification Report for the testing data"
   ]
  },
  {
   "cell_type": "code",
   "execution_count": 65,
   "id": "f2b20ebc",
   "metadata": {},
   "outputs": [
    {
     "data": {
      "text/plain": [
       "array([[ 36, 113],\n",
       "       [ 25, 705]], dtype=int64)"
      ]
     },
     "execution_count": 65,
     "metadata": {},
     "output_type": "execute_result"
    }
   ],
   "source": [
    "confusion_matrix(test_labels, ytest_predict_dtcl)"
   ]
  },
  {
   "cell_type": "code",
   "execution_count": 66,
   "id": "38b659ba",
   "metadata": {},
   "outputs": [
    {
     "data": {
      "text/plain": [
       "0.8430034129692833"
      ]
     },
     "execution_count": 66,
     "metadata": {},
     "output_type": "execute_result"
    }
   ],
   "source": [
    "#Test Data Accuracy\n",
    "cart_test_acc=best_grid_dtcl.score(X_test,test_labels)\n",
    "cart_test_acc"
   ]
  },
  {
   "cell_type": "code",
   "execution_count": 67,
   "id": "af38db32",
   "metadata": {},
   "outputs": [
    {
     "name": "stdout",
     "output_type": "stream",
     "text": [
      "              precision    recall  f1-score   support\n",
      "\n",
      "           0       0.59      0.24      0.34       149\n",
      "           1       0.86      0.97      0.91       730\n",
      "\n",
      "    accuracy                           0.84       879\n",
      "   macro avg       0.73      0.60      0.63       879\n",
      "weighted avg       0.82      0.84      0.81       879\n",
      "\n"
     ]
    }
   ],
   "source": [
    "print(classification_report(test_labels, ytest_predict_dtcl))"
   ]
  },
  {
   "cell_type": "code",
   "execution_count": 68,
   "id": "57b36d7d",
   "metadata": {},
   "outputs": [
    {
     "name": "stdout",
     "output_type": "stream",
     "text": [
      "cart_test_precision  0.86\n",
      "cart_test_recall  0.97\n",
      "cart_test_f1  0.91\n"
     ]
    }
   ],
   "source": [
    "cart_metrics=classification_report(test_labels, ytest_predict_dtcl,output_dict=True)\n",
    "df=pd.DataFrame(cart_metrics).transpose()\n",
    "cart_test_precision=round(df.loc[\"1\"][0],2)\n",
    "cart_test_recall=round(df.loc[\"1\"][1],2)\n",
    "cart_test_f1=round(df.loc[\"1\"][2],2)\n",
    "print ('cart_test_precision ',cart_test_precision)\n",
    "print ('cart_test_recall ',cart_test_recall)\n",
    "print ('cart_test_f1 ',cart_test_f1)"
   ]
  },
  {
   "cell_type": "markdown",
   "id": "ba8bc7b7",
   "metadata": {},
   "source": [
    "### RF Model Performance Evaluation on Training data"
   ]
  },
  {
   "cell_type": "code",
   "execution_count": 69,
   "id": "3e77de0f",
   "metadata": {},
   "outputs": [
    {
     "data": {
      "text/plain": [
       "array([[   0,  324],\n",
       "       [   0, 1727]], dtype=int64)"
      ]
     },
     "execution_count": 69,
     "metadata": {},
     "output_type": "execute_result"
    }
   ],
   "source": [
    "confusion_matrix(train_labels,ytrain_predict_rfcl)"
   ]
  },
  {
   "cell_type": "code",
   "execution_count": 70,
   "id": "46c6b758",
   "metadata": {},
   "outputs": [
    {
     "data": {
      "text/plain": [
       "0.8420282788883472"
      ]
     },
     "execution_count": 70,
     "metadata": {},
     "output_type": "execute_result"
    }
   ],
   "source": [
    "rf_train_acc=best_grid_rfcl.score(X_train,train_labels) \n",
    "rf_train_acc"
   ]
  },
  {
   "cell_type": "code",
   "execution_count": 71,
   "id": "18018627",
   "metadata": {},
   "outputs": [
    {
     "name": "stdout",
     "output_type": "stream",
     "text": [
      "              precision    recall  f1-score   support\n",
      "\n",
      "           0       0.00      0.00      0.00       324\n",
      "           1       0.84      1.00      0.91      1727\n",
      "\n",
      "    accuracy                           0.84      2051\n",
      "   macro avg       0.42      0.50      0.46      2051\n",
      "weighted avg       0.71      0.84      0.77      2051\n",
      "\n"
     ]
    }
   ],
   "source": [
    "print(classification_report(train_labels,ytrain_predict_rfcl))"
   ]
  },
  {
   "cell_type": "code",
   "execution_count": 72,
   "id": "44aeff16",
   "metadata": {},
   "outputs": [
    {
     "name": "stdout",
     "output_type": "stream",
     "text": [
      "rf_train_precision  0.84\n",
      "rf_train_recall  1.0\n",
      "rf_train_f1  0.91\n"
     ]
    }
   ],
   "source": [
    "rf_metrics=classification_report(train_labels, ytrain_predict_rfcl,output_dict=True)\n",
    "df=pd.DataFrame(rf_metrics).transpose()\n",
    "rf_train_precision=round(df.loc[\"1\"][0],2)\n",
    "rf_train_recall=round(df.loc[\"1\"][1],2)\n",
    "rf_train_f1=round(df.loc[\"1\"][2],2)\n",
    "print ('rf_train_precision ',rf_train_precision)\n",
    "print ('rf_train_recall ',rf_train_recall)\n",
    "print ('rf_train_f1 ',rf_train_f1)"
   ]
  },
  {
   "cell_type": "code",
   "execution_count": 73,
   "id": "47b0c9bb",
   "metadata": {},
   "outputs": [
    {
     "name": "stdout",
     "output_type": "stream",
     "text": [
      "Area under Curve is 0.849857384889232\n"
     ]
    },
    {
     "data": {
      "image/png": "[encoded data removed]",
      "text/plain": [
       "<Figure size 432x288 with 1 Axes>"
      ]
     },
     "metadata": {
      "needs_background": "light"
     },
     "output_type": "display_data"
    }
   ],
   "source": [
    "rf_train_fpr, rf_train_tpr,_=roc_curve(train_labels,best_grid_rfcl.predict_proba(X_train)[:,1])\n",
    "plt.plot(rf_train_fpr,rf_train_tpr,color='green')\n",
    "plt.plot([0, 1], [0, 1], linestyle='--')\n",
    "plt.xlabel('False Positive Rate')\n",
    "plt.ylabel('True Positive Rate')\n",
    "plt.title('ROC')\n",
    "rf_train_auc=roc_auc_score(train_labels,best_grid_rfcl.predict_proba(X_train)[:,1])\n",
    "print('Area under Curve is', rf_train_auc)"
   ]
  },
  {
   "cell_type": "markdown",
   "id": "f25c2c85",
   "metadata": {},
   "source": [
    "#### RF Model Performance Evaluation on Test data"
   ]
  },
  {
   "cell_type": "code",
   "execution_count": 74,
   "id": "d697976c",
   "metadata": {},
   "outputs": [
    {
     "data": {
      "text/plain": [
       "array([[  0, 149],\n",
       "       [  0, 730]], dtype=int64)"
      ]
     },
     "execution_count": 74,
     "metadata": {},
     "output_type": "execute_result"
    }
   ],
   "source": [
    "confusion_matrix(test_labels,ytest_predict_rfcl)"
   ]
  },
  {
   "cell_type": "code",
   "execution_count": 75,
   "id": "5b6a41d3",
   "metadata": {},
   "outputs": [
    {
     "data": {
      "text/plain": [
       "0.8304891922639362"
      ]
     },
     "execution_count": 75,
     "metadata": {},
     "output_type": "execute_result"
    }
   ],
   "source": [
    "rf_test_acc=best_grid_rfcl.score(X_test,test_labels)\n",
    "rf_test_acc"
   ]
  },
  {
   "cell_type": "code",
   "execution_count": 76,
   "id": "b18cbaff",
   "metadata": {},
   "outputs": [
    {
     "name": "stdout",
     "output_type": "stream",
     "text": [
      "              precision    recall  f1-score   support\n",
      "\n",
      "           0       0.00      0.00      0.00       149\n",
      "           1       0.83      1.00      0.91       730\n",
      "\n",
      "    accuracy                           0.83       879\n",
      "   macro avg       0.42      0.50      0.45       879\n",
      "weighted avg       0.69      0.83      0.75       879\n",
      "\n"
     ]
    }
   ],
   "source": [
    "print(classification_report(test_labels,ytest_predict_rfcl))"
   ]
  },
  {
   "cell_type": "code",
   "execution_count": 77,
   "id": "f5f1debd",
   "metadata": {},
   "outputs": [
    {
     "name": "stdout",
     "output_type": "stream",
     "text": [
      "rf_test_precision  0.83\n",
      "rf_test_recall  1.0\n",
      "rf_test_f1  0.91\n"
     ]
    }
   ],
   "source": [
    "rf_metrics=classification_report(test_labels, ytest_predict_rfcl,output_dict=True)\n",
    "df=pd.DataFrame(rf_metrics).transpose()\n",
    "rf_test_precision=round(df.loc[\"1\"][0],2)\n",
    "rf_test_recall=round(df.loc[\"1\"][1],2)\n",
    "rf_test_f1=round(df.loc[\"1\"][2],2)\n",
    "print ('rf_test_precision ',rf_test_precision)\n",
    "print ('rf_test_recall ',rf_test_recall)\n",
    "print ('rf_test_f1 ',rf_test_f1)"
   ]
  },
  {
   "cell_type": "code",
   "execution_count": 78,
   "id": "df9653af",
   "metadata": {},
   "outputs": [
    {
     "name": "stdout",
     "output_type": "stream",
     "text": [
      "Area under Curve is 0.8311299071435136\n"
     ]
    },
    {
     "data": {
      "image/png": "[encoded data removed]",
      "text/plain": [
       "<Figure size 432x288 with 1 Axes>"
      ]
     },
     "metadata": {
      "needs_background": "light"
     },
     "output_type": "display_data"
    }
   ],
   "source": [
    "rf_test_fpr, rf_test_tpr,_=roc_curve(test_labels,best_grid_rfcl.predict_proba(X_test)[:,1])\n",
    "plt.plot(rf_test_fpr,rf_test_tpr,color='green')\n",
    "plt.plot([0, 1], [0, 1], linestyle='--')\n",
    "plt.xlabel('False Positive Rate')\n",
    "plt.ylabel('True Positive Rate')\n",
    "plt.title('ROC')\n",
    "rf_test_auc=roc_auc_score(test_labels,best_grid_rfcl.predict_proba(X_test)[:,1])\n",
    "print('Area under Curve is', rf_test_auc)"
   ]
  },
  {
   "cell_type": "markdown",
   "id": "3e5ec511",
   "metadata": {},
   "source": [
    "### NN Model Performance Evaluation on Training data"
   ]
  },
  {
   "cell_type": "code",
   "execution_count": 79,
   "id": "3a048b2b",
   "metadata": {},
   "outputs": [
    {
     "data": {
      "text/plain": [
       "array([[ 104,  220],\n",
       "       [  41, 1686]], dtype=int64)"
      ]
     },
     "execution_count": 79,
     "metadata": {},
     "output_type": "execute_result"
    }
   ],
   "source": [
    "confusion_matrix(train_labels,ytrain_predict_nncl)"
   ]
  },
  {
   "cell_type": "code",
   "execution_count": 80,
   "id": "aa2870f4",
   "metadata": {},
   "outputs": [
    {
     "data": {
      "text/plain": [
       "0.8727450024378351"
      ]
     },
     "execution_count": 80,
     "metadata": {},
     "output_type": "execute_result"
    }
   ],
   "source": [
    "nn_train_acc=best_grid_nncl.score(X_train,train_labels) \n",
    "nn_train_acc"
   ]
  },
  {
   "cell_type": "code",
   "execution_count": 81,
   "id": "ef2971be",
   "metadata": {},
   "outputs": [
    {
     "name": "stdout",
     "output_type": "stream",
     "text": [
      "              precision    recall  f1-score   support\n",
      "\n",
      "           0       0.72      0.32      0.44       324\n",
      "           1       0.88      0.98      0.93      1727\n",
      "\n",
      "    accuracy                           0.87      2051\n",
      "   macro avg       0.80      0.65      0.69      2051\n",
      "weighted avg       0.86      0.87      0.85      2051\n",
      "\n"
     ]
    }
   ],
   "source": [
    "print(classification_report(train_labels,ytrain_predict_nncl))"
   ]
  },
  {
   "cell_type": "code",
   "execution_count": 82,
   "id": "8febc053",
   "metadata": {},
   "outputs": [
    {
     "name": "stdout",
     "output_type": "stream",
     "text": [
      "nn_train_precision  0.88\n",
      "nn_train_recall  0.98\n",
      "nn_train_f1  0.93\n"
     ]
    }
   ],
   "source": [
    "nn_metrics=classification_report(train_labels, ytrain_predict_nncl,output_dict=True)\n",
    "df=pd.DataFrame(nn_metrics).transpose()\n",
    "nn_train_precision=round(df.loc[\"1\"][0],2)\n",
    "nn_train_recall=round(df.loc[\"1\"][1],2)\n",
    "nn_train_f1=round(df.loc[\"1\"][2],2)\n",
    "print ('nn_train_precision ',nn_train_precision)\n",
    "print ('nn_train_recall ',nn_train_recall)\n",
    "print ('nn_train_f1 ',nn_train_f1)"
   ]
  },
  {
   "cell_type": "code",
   "execution_count": 83,
   "id": "3cf292be",
   "metadata": {},
   "outputs": [
    {
     "name": "stdout",
     "output_type": "stream",
     "text": [
      "Area under Curve is 0.8437703289083331\n"
     ]
    },
    {
     "data": {
      "image/png": "[encoded data removed]",
      "text/plain": [
       "<Figure size 432x288 with 1 Axes>"
      ]
     },
     "metadata": {
      "needs_background": "light"
     },
     "output_type": "display_data"
    }
   ],
   "source": [
    "nn_train_fpr, nn_train_tpr,_=roc_curve(train_labels,best_grid_nncl.predict_proba(X_train)[:,1])\n",
    "plt.plot(nn_train_fpr,nn_train_tpr,color='black')\n",
    "plt.plot([0, 1], [0, 1], linestyle='--')\n",
    "plt.xlabel('False Positive Rate')\n",
    "plt.ylabel('True Positive Rate')\n",
    "plt.title('ROC')\n",
    "nn_train_auc=roc_auc_score(train_labels,best_grid_nncl.predict_proba(X_train)[:,1])\n",
    "print('Area under Curve is', nn_train_auc)"
   ]
  },
  {
   "cell_type": "markdown",
   "id": "c12ee3ed",
   "metadata": {},
   "source": [
    "### NN Model Performance Evaluation on Test data"
   ]
  },
  {
   "cell_type": "code",
   "execution_count": 84,
   "id": "2311928e",
   "metadata": {},
   "outputs": [
    {
     "data": {
      "text/plain": [
       "array([[ 59,  90],\n",
       "       [ 20, 710]], dtype=int64)"
      ]
     },
     "execution_count": 84,
     "metadata": {},
     "output_type": "execute_result"
    }
   ],
   "source": [
    "confusion_matrix(test_labels,ytest_predict_nncl)"
   ]
  },
  {
   "cell_type": "code",
   "execution_count": 85,
   "id": "4ef66649",
   "metadata": {},
   "outputs": [
    {
     "data": {
      "text/plain": [
       "0.8748577929465301"
      ]
     },
     "execution_count": 85,
     "metadata": {},
     "output_type": "execute_result"
    }
   ],
   "source": [
    "nn_test_acc=best_grid_nncl.score(X_test,test_labels)\n",
    "nn_test_acc"
   ]
  },
  {
   "cell_type": "code",
   "execution_count": 86,
   "id": "64fcbed1",
   "metadata": {},
   "outputs": [
    {
     "name": "stdout",
     "output_type": "stream",
     "text": [
      "              precision    recall  f1-score   support\n",
      "\n",
      "           0       0.75      0.40      0.52       149\n",
      "           1       0.89      0.97      0.93       730\n",
      "\n",
      "    accuracy                           0.87       879\n",
      "   macro avg       0.82      0.68      0.72       879\n",
      "weighted avg       0.86      0.87      0.86       879\n",
      "\n"
     ]
    }
   ],
   "source": [
    "print(classification_report(test_labels,ytest_predict_nncl))"
   ]
  },
  {
   "cell_type": "code",
   "execution_count": 87,
   "id": "c79dacfb",
   "metadata": {},
   "outputs": [
    {
     "name": "stdout",
     "output_type": "stream",
     "text": [
      "nn_test_precision  0.89\n",
      "nn_test_recall  0.97\n",
      "nn_test_f1  0.93\n"
     ]
    }
   ],
   "source": [
    "nn_metrics=classification_report(test_labels, ytest_predict_nncl,output_dict=True)\n",
    "df=pd.DataFrame(nn_metrics).transpose()\n",
    "nn_test_precision=round(df.loc[\"1\"][0],2)\n",
    "nn_test_recall=round(df.loc[\"1\"][1],2)\n",
    "nn_test_f1=round(df.loc[\"1\"][2],2)\n",
    "print ('nn_test_precision ',nn_test_precision)\n",
    "print ('nn_test_recall ',nn_test_recall)\n",
    "print ('nn_test_f1 ',nn_test_f1)"
   ]
  },
  {
   "cell_type": "code",
   "execution_count": 88,
   "id": "5dfb18fe",
   "metadata": {},
   "outputs": [
    {
     "name": "stdout",
     "output_type": "stream",
     "text": [
      "Area under Curve is 0.8407465293739083\n"
     ]
    },
    {
     "data": {
      "image/png": "[encoded data removed]",
      "text/plain": [
       "<Figure size 432x288 with 1 Axes>"
      ]
     },
     "metadata": {
      "needs_background": "light"
     },
     "output_type": "display_data"
    }
   ],
   "source": [
    "nn_test_fpr, nn_test_tpr,_=roc_curve(test_labels,best_grid_nncl.predict_proba(X_test)[:,1])\n",
    "plt.plot(nn_test_fpr,nn_test_tpr,color='black')\n",
    "plt.plot([0, 1], [0, 1], linestyle='--')\n",
    "plt.xlabel('False Positive Rate')\n",
    "plt.ylabel('True Positive Rate')\n",
    "plt.title('ROC')\n",
    "nn_test_auc=roc_auc_score(test_labels,best_grid_nncl.predict_proba(X_test)[:,1])\n",
    "print('Area under Curve is', nn_test_auc)"
   ]
  },
  {
   "cell_type": "markdown",
   "id": "860a16b8",
   "metadata": {},
   "source": [
    "#### Logistic Regression using sklearn library"
   ]
  },
  {
   "cell_type": "code",
   "execution_count": 89,
   "id": "f0ef0823",
   "metadata": {},
   "outputs": [],
   "source": [
    "grid={'penalty':['elasticnet','l2','none'],\n",
    "      'solver':['newton-cg', 'saga'],\n",
    "      'tol':[0.001,0.00001]}"
   ]
  },
  {
   "cell_type": "code",
   "execution_count": 90,
   "id": "01dafefe",
   "metadata": {},
   "outputs": [],
   "source": [
    "from sklearn.linear_model import LogisticRegression\n",
    "log_model = LogisticRegression(max_iter=100000,n_jobs=1)"
   ]
  },
  {
   "cell_type": "code",
   "execution_count": 91,
   "id": "0a6f8dc8",
   "metadata": {},
   "outputs": [],
   "source": [
    "from sklearn.model_selection import GridSearchCV\n",
    "grid_search = GridSearchCV(estimator = log_model, param_grid = grid, cv = 3,n_jobs=1,scoring='f1')"
   ]
  },
  {
   "cell_type": "code",
   "execution_count": 92,
   "id": "f1ce4a31",
   "metadata": {
    "scrolled": true
   },
   "outputs": [
    {
     "data": {
      "text/plain": [
       "GridSearchCV(cv=3, estimator=LogisticRegression(max_iter=100000, n_jobs=1),\n",
       "             n_jobs=1,\n",
       "             param_grid={'penalty': ['elasticnet', 'l2', 'none'],\n",
       "                         'solver': ['newton-cg', 'saga'],\n",
       "                         'tol': [0.001, 1e-05]},\n",
       "             scoring='f1')"
      ]
     },
     "execution_count": 92,
     "metadata": {},
     "output_type": "execute_result"
    }
   ],
   "source": [
    "grid_search.fit(X_train, train_labels)"
   ]
  },
  {
   "cell_type": "code",
   "execution_count": 93,
   "id": "69acd902",
   "metadata": {},
   "outputs": [
    {
     "name": "stdout",
     "output_type": "stream",
     "text": [
      "{'penalty': 'l2', 'solver': 'saga', 'tol': 1e-05} \n",
      "\n",
      "LogisticRegression(max_iter=100000, n_jobs=1, solver='saga', tol=1e-05)\n"
     ]
    }
   ],
   "source": [
    "print(grid_search.best_params_,'\\n')\n",
    "print(grid_search.best_estimator_)"
   ]
  },
  {
   "cell_type": "code",
   "execution_count": 94,
   "id": "56a3ed56",
   "metadata": {},
   "outputs": [],
   "source": [
    "best_model = grid_search.best_estimator_"
   ]
  },
  {
   "cell_type": "code",
   "execution_count": 98,
   "id": "7e44c1e7",
   "metadata": {},
   "outputs": [],
   "source": [
    "ytrain_predict_log = best_model.predict(X_train)\n",
    "ytest_predict_log = best_model.predict(X_test)"
   ]
  },
  {
   "cell_type": "code",
   "execution_count": 96,
   "id": "ff030983",
   "metadata": {},
   "outputs": [],
   "source": [
    "\n",
    "ytest_predict_prob=best_model.predict_proba(X_test)"
   ]
  },
  {
   "cell_type": "code",
   "execution_count": 97,
   "id": "400420d8",
   "metadata": {},
   "outputs": [
    {
     "data": {
      "text/plain": [
       "array([-0.00173828])"
      ]
     },
     "execution_count": 97,
     "metadata": {},
     "output_type": "execute_result"
    }
   ],
   "source": [
    "best_model.intercept_"
   ]
  },
  {
   "cell_type": "markdown",
   "id": "780074ea",
   "metadata": {},
   "source": [
    "#### Logistic Model via Sklearn Metrics on Train data"
   ]
  },
  {
   "cell_type": "code",
   "execution_count": 99,
   "id": "9f706b96",
   "metadata": {},
   "outputs": [
    {
     "data": {
      "text/plain": [
       "array([[  93,  231],\n",
       "       [  35, 1692]], dtype=int64)"
      ]
     },
     "execution_count": 99,
     "metadata": {},
     "output_type": "execute_result"
    }
   ],
   "source": [
    "confusion_matrix(train_labels,ytrain_predict_log)"
   ]
  },
  {
   "cell_type": "code",
   "execution_count": 100,
   "id": "db7b5a00",
   "metadata": {},
   "outputs": [
    {
     "data": {
      "text/plain": [
       "0.8703071672354948"
      ]
     },
     "execution_count": 100,
     "metadata": {},
     "output_type": "execute_result"
    }
   ],
   "source": [
    "log_train_acc=best_model.score(X_train,train_labels) \n",
    "log_train_acc"
   ]
  },
  {
   "cell_type": "code",
   "execution_count": 101,
   "id": "e9592076",
   "metadata": {},
   "outputs": [
    {
     "name": "stdout",
     "output_type": "stream",
     "text": [
      "              precision    recall  f1-score   support\n",
      "\n",
      "           0       0.73      0.29      0.41       324\n",
      "           1       0.88      0.98      0.93      1727\n",
      "\n",
      "    accuracy                           0.87      2051\n",
      "   macro avg       0.80      0.63      0.67      2051\n",
      "weighted avg       0.86      0.87      0.85      2051\n",
      "\n"
     ]
    }
   ],
   "source": [
    "print(classification_report(train_labels,ytrain_predict_log))"
   ]
  },
  {
   "cell_type": "code",
   "execution_count": 102,
   "id": "1a25e815",
   "metadata": {},
   "outputs": [
    {
     "name": "stdout",
     "output_type": "stream",
     "text": [
      "log_train_precision  0.88\n",
      "log_train_recall  0.98\n",
      "log_train_f1  0.93\n"
     ]
    }
   ],
   "source": [
    "log_metrics=classification_report(train_labels, ytrain_predict_log,output_dict=True)\n",
    "df=pd.DataFrame(log_metrics).transpose()\n",
    "log_train_precision=round(df.loc[\"1\"][0],2)\n",
    "log_train_recall=round(df.loc[\"1\"][1],2)\n",
    "log_train_f1=round(df.loc[\"1\"][2],2)\n",
    "print ('log_train_precision ',log_train_precision)\n",
    "print ('log_train_recall ',log_train_recall)\n",
    "print ('log_train_f1 ',log_train_f1)"
   ]
  },
  {
   "cell_type": "code",
   "execution_count": 103,
   "id": "30e5c3d3",
   "metadata": {},
   "outputs": [
    {
     "name": "stdout",
     "output_type": "stream",
     "text": [
      "Area under Curve is 0.8436237820526569\n"
     ]
    },
    {
     "data": {
      "image/png": "[encoded data removed]",
      "text/plain": [
       "<Figure size 432x288 with 1 Axes>"
      ]
     },
     "metadata": {
      "needs_background": "light"
     },
     "output_type": "display_data"
    }
   ],
   "source": [
    "log_train_fpr, log_train_tpr,_=roc_curve(train_labels,best_model.predict_proba(X_train)[:,1])\n",
    "plt.plot(log_train_fpr,log_train_tpr,color='black')\n",
    "plt.plot([0, 1], [0, 1], linestyle='--')\n",
    "plt.xlabel('False Positive Rate')\n",
    "plt.ylabel('True Positive Rate')\n",
    "plt.title('ROC')\n",
    "log_train_auc=roc_auc_score(train_labels,best_model.predict_proba(X_train)[:,1])\n",
    "print('Area under Curve is', log_train_auc)"
   ]
  },
  {
   "cell_type": "markdown",
   "id": "d834326c",
   "metadata": {},
   "source": [
    "### Sklearn Logistic Model performance metrics on Test data"
   ]
  },
  {
   "cell_type": "code",
   "execution_count": 104,
   "id": "22a56b21",
   "metadata": {},
   "outputs": [
    {
     "data": {
      "text/plain": [
       "array([[ 60,  89],\n",
       "       [ 22, 708]], dtype=int64)"
      ]
     },
     "execution_count": 104,
     "metadata": {},
     "output_type": "execute_result"
    }
   ],
   "source": [
    "confusion_matrix(test_labels,ytest_predict_log)"
   ]
  },
  {
   "cell_type": "code",
   "execution_count": 105,
   "id": "6baff9f4",
   "metadata": {},
   "outputs": [
    {
     "data": {
      "text/plain": [
       "0.8737201365187713"
      ]
     },
     "execution_count": 105,
     "metadata": {},
     "output_type": "execute_result"
    }
   ],
   "source": [
    "log_test_acc=best_model.score(X_test,test_labels)\n",
    "log_test_acc"
   ]
  },
  {
   "cell_type": "code",
   "execution_count": 106,
   "id": "c631c9e8",
   "metadata": {},
   "outputs": [
    {
     "name": "stdout",
     "output_type": "stream",
     "text": [
      "              precision    recall  f1-score   support\n",
      "\n",
      "           0       0.73      0.40      0.52       149\n",
      "           1       0.89      0.97      0.93       730\n",
      "\n",
      "    accuracy                           0.87       879\n",
      "   macro avg       0.81      0.69      0.72       879\n",
      "weighted avg       0.86      0.87      0.86       879\n",
      "\n"
     ]
    }
   ],
   "source": [
    "print(classification_report(test_labels,ytest_predict_log))"
   ]
  },
  {
   "cell_type": "code",
   "execution_count": 107,
   "id": "3d0b765f",
   "metadata": {},
   "outputs": [
    {
     "name": "stdout",
     "output_type": "stream",
     "text": [
      "log_test_precision  0.89\n",
      "log_test_recall  0.97\n",
      "log_test_f1  0.93\n"
     ]
    }
   ],
   "source": [
    "log_metrics=classification_report(test_labels, ytest_predict_log,output_dict=True)\n",
    "df=pd.DataFrame(log_metrics).transpose()\n",
    "log_test_precision=round(df.loc[\"1\"][0],2)\n",
    "log_test_recall=round(df.loc[\"1\"][1],2)\n",
    "log_test_f1=round(df.loc[\"1\"][2],2)\n",
    "print ('log_test_precision ',log_test_precision)\n",
    "print ('log_test_recall ',log_test_recall)\n",
    "print ('log_test_f1 ',log_test_f1)"
   ]
  },
  {
   "cell_type": "code",
   "execution_count": 108,
   "id": "3e35ab55",
   "metadata": {},
   "outputs": [
    {
     "name": "stdout",
     "output_type": "stream",
     "text": [
      "Area under Curve is 0.8432839937482762\n"
     ]
    },
    {
     "data": {
      "image/png": "[encoded data removed]",
      "text/plain": [
       "<Figure size 432x288 with 1 Axes>"
      ]
     },
     "metadata": {
      "needs_background": "light"
     },
     "output_type": "display_data"
    }
   ],
   "source": [
    "log_test_fpr, log_test_tpr,_=roc_curve(test_labels,best_model.predict_proba(X_test)[:,1])\n",
    "plt.plot(log_test_fpr,log_test_tpr,color='black')\n",
    "plt.plot([0, 1], [0, 1], linestyle='--')\n",
    "plt.xlabel('False Positive Rate')\n",
    "plt.ylabel('True Positive Rate')\n",
    "plt.title('ROC')\n",
    "log_test_auc=roc_auc_score(test_labels,best_model.predict_proba(X_test)[:,1])\n",
    "print('Area under Curve is', log_test_auc)"
   ]
  },
  {
   "cell_type": "markdown",
   "id": "13ae5c9b",
   "metadata": {},
   "source": [
    "### Comparison of the performance metrics from the 4 models"
   ]
  },
  {
   "cell_type": "code",
   "execution_count": 109,
   "id": "e92f1ff1",
   "metadata": {},
   "outputs": [
    {
     "data": {
      "text/html": [
       "<div>\n",
       "<style scoped>\n",
       "    .dataframe tbody tr th:only-of-type {\n",
       "        vertical-align: middle;\n",
       "    }\n",
       "\n",
       "    .dataframe tbody tr th {\n",
       "        vertical-align: top;\n",
       "    }\n",
       "\n",
       "    .dataframe thead th {\n",
       "        text-align: right;\n",
       "    }\n",
       "</style>\n",
       "<table border=\"1\" class=\"dataframe\">\n",
       "  <thead>\n",
       "    <tr style=\"text-align: right;\">\n",
       "      <th></th>\n",
       "      <th>CART Train</th>\n",
       "      <th>CART Test</th>\n",
       "      <th>Random Forest Train</th>\n",
       "      <th>Random Forest Test</th>\n",
       "      <th>Neural Network Train</th>\n",
       "      <th>Neural Network Test</th>\n",
       "      <th>Logistic(SK) Train</th>\n",
       "      <th>Logistic(SK) Test</th>\n",
       "    </tr>\n",
       "  </thead>\n",
       "  <tbody>\n",
       "    <tr>\n",
       "      <th>Accuracy</th>\n",
       "      <td>0.85</td>\n",
       "      <td>0.84</td>\n",
       "      <td>0.84</td>\n",
       "      <td>0.83</td>\n",
       "      <td>0.87</td>\n",
       "      <td>0.87</td>\n",
       "      <td>0.87</td>\n",
       "      <td>0.87</td>\n",
       "    </tr>\n",
       "    <tr>\n",
       "      <th>AUC</th>\n",
       "      <td>0.79</td>\n",
       "      <td>0.75</td>\n",
       "      <td>0.85</td>\n",
       "      <td>0.83</td>\n",
       "      <td>0.84</td>\n",
       "      <td>0.84</td>\n",
       "      <td>0.84</td>\n",
       "      <td>0.84</td>\n",
       "    </tr>\n",
       "    <tr>\n",
       "      <th>Recall</th>\n",
       "      <td>0.97</td>\n",
       "      <td>0.97</td>\n",
       "      <td>1.00</td>\n",
       "      <td>1.00</td>\n",
       "      <td>0.98</td>\n",
       "      <td>0.97</td>\n",
       "      <td>0.98</td>\n",
       "      <td>0.97</td>\n",
       "    </tr>\n",
       "    <tr>\n",
       "      <th>Precision</th>\n",
       "      <td>0.87</td>\n",
       "      <td>0.86</td>\n",
       "      <td>0.84</td>\n",
       "      <td>0.83</td>\n",
       "      <td>0.88</td>\n",
       "      <td>0.89</td>\n",
       "      <td>0.88</td>\n",
       "      <td>0.89</td>\n",
       "    </tr>\n",
       "    <tr>\n",
       "      <th>F1 Score</th>\n",
       "      <td>0.91</td>\n",
       "      <td>0.91</td>\n",
       "      <td>0.91</td>\n",
       "      <td>0.91</td>\n",
       "      <td>0.93</td>\n",
       "      <td>0.93</td>\n",
       "      <td>0.93</td>\n",
       "      <td>0.93</td>\n",
       "    </tr>\n",
       "  </tbody>\n",
       "</table>\n",
       "</div>"
      ],
      "text/plain": [
       "           CART Train  CART Test  Random Forest Train  Random Forest Test  \\\n",
       "Accuracy         0.85       0.84                 0.84                0.83   \n",
       "AUC              0.79       0.75                 0.85                0.83   \n",
       "Recall           0.97       0.97                 1.00                1.00   \n",
       "Precision        0.87       0.86                 0.84                0.83   \n",
       "F1 Score         0.91       0.91                 0.91                0.91   \n",
       "\n",
       "           Neural Network Train  Neural Network Test  Logistic(SK) Train  \\\n",
       "Accuracy                   0.87                 0.87                0.87   \n",
       "AUC                        0.84                 0.84                0.84   \n",
       "Recall                     0.98                 0.97                0.98   \n",
       "Precision                  0.88                 0.89                0.88   \n",
       "F1 Score                   0.93                 0.93                0.93   \n",
       "\n",
       "           Logistic(SK) Test  \n",
       "Accuracy                0.87  \n",
       "AUC                     0.84  \n",
       "Recall                  0.97  \n",
       "Precision               0.89  \n",
       "F1 Score                0.93  "
      ]
     },
     "execution_count": 109,
     "metadata": {},
     "output_type": "execute_result"
    }
   ],
   "source": [
    "index=['Accuracy', 'AUC', 'Recall','Precision','F1 Score']\n",
    "data = pd.DataFrame({'CART Train':[cart_train_acc,cart_train_auc,cart_train_recall,cart_train_precision,cart_train_f1],\n",
    "        'CART Test':[cart_test_acc,cart_test_auc,cart_test_recall,cart_test_precision,cart_test_f1],\n",
    "       'Random Forest Train':[rf_train_acc,rf_train_auc,rf_train_recall,rf_train_precision,rf_train_f1],\n",
    "        'Random Forest Test':[rf_test_acc,rf_test_auc,rf_test_recall,rf_test_precision,rf_test_f1],\n",
    "       'Neural Network Train':[nn_train_acc,nn_train_auc,nn_train_recall,nn_train_precision,nn_train_f1],\n",
    "        'Neural Network Test':[nn_test_acc,nn_test_auc,nn_test_recall,nn_test_precision,nn_test_f1],\n",
    "        'Logistic(SK) Train':[log_train_acc,log_train_auc,log_train_recall,log_train_precision,log_train_f1],\n",
    "         'Logistic(SK) Test':[log_test_acc,log_test_auc,log_test_recall,log_test_precision,log_test_f1]},index=index)\n",
    "round(data,2)"
   ]
  },
  {
   "cell_type": "markdown",
   "id": "e805ff6e",
   "metadata": {},
   "source": [
    "### Building logistic model using stats method"
   ]
  },
  {
   "cell_type": "code",
   "execution_count": 111,
   "id": "e54c1da7",
   "metadata": {},
   "outputs": [],
   "source": [
    "from statsmodels.sandbox.regression.predstd import wls_prediction_std\n",
    "import statsmodels.api as sm"
   ]
  },
  {
   "cell_type": "markdown",
   "id": "50ad48e9",
   "metadata": {},
   "source": [
    "### Including Constant to the model"
   ]
  },
  {
   "cell_type": "code",
   "execution_count": 112,
   "id": "bfedbb76",
   "metadata": {},
   "outputs": [],
   "source": [
    "X = sm.add_constant(X, has_constant='add')"
   ]
  },
  {
   "cell_type": "code",
   "execution_count": 113,
   "id": "2bf2c67f",
   "metadata": {
    "scrolled": false
   },
   "outputs": [
    {
     "name": "stdout",
     "output_type": "stream",
     "text": [
      "Optimization terminated successfully.\n",
      "         Current function value: 0.314479\n",
      "         Iterations 8\n",
      "                                Results: Logit\n",
      "===============================================================================\n",
      "Model:                   Logit                Pseudo R-squared:     0.289      \n",
      "Dependent Variable:      y                    AIC:                  1924.8445  \n",
      "Date:                    2022-05-13 17:28     BIC:                  2170.1376  \n",
      "No. Observations:        2930                 Log-Likelihood:       -921.42    \n",
      "Df Model:                40                   LL-Null:              -1295.2    \n",
      "Df Residuals:            2889                 LLR p-value:          3.1468e-131\n",
      "Converged:               1.0000               Scale:                1.0000     \n",
      "No. Iterations:          8.0000                                                \n",
      "-------------------------------------------------------------------------------\n",
      "                                Coef.  Std.Err.    z     P>|z|   [0.025  0.975]\n",
      "-------------------------------------------------------------------------------\n",
      "const                          -0.0040      nan      nan    nan     nan     nan\n",
      "Avg_team_Age                   -0.1212      nan      nan    nan     nan     nan\n",
      "Max_run_scored_1over            0.0263   0.0169   1.5567 0.1195 -0.0068  0.0594\n",
      "Extra_bowls_bowled              0.0509   0.0157   3.2439 0.0012  0.0202  0.0817\n",
      "Min_run_given_1over             0.2316   0.0612   3.7818 0.0002  0.1115  0.3516\n",
      "Min_run_scored_1over            0.2597   0.0850   3.0545 0.0023  0.0931  0.4264\n",
      "Max_run_given_1over            -0.0981   0.0227  -4.3169 0.0000 -0.1426 -0.0536\n",
      "extra_bowls_opponent            0.1334   0.0260   5.1388 0.0000  0.0825  0.1843\n",
      "player_highest_run             -0.0016   0.0030  -0.5448 0.5859 -0.0075  0.0042\n",
      "Match_light_type_Day and Night -0.6957   0.1412  -4.9274 0.0000 -0.9724 -0.4189\n",
      "Match_light_type_Night          0.8675   0.2559   3.3904 0.0007  0.3660  1.3690\n",
      "Match_format_T20                0.3273   0.4220   0.7757 0.4379 -0.4997  1.1543\n",
      "Match_format_Test               1.2747   1.2988   0.9815 0.3263 -1.2708  3.8202\n",
      "Bowlers_in_team_2.0            -0.1917   0.2227  -0.8611 0.3892 -0.6282  0.2447\n",
      "Bowlers_in_team_3.0            -0.2459   0.1958  -1.2561 0.2091 -0.6297  0.1378\n",
      "Bowlers_in_team_4.0            -0.2275   0.2137  -1.0645 0.2871 -0.6463  0.1913\n",
      "Bowlers_in_team_5.0            -0.0339   0.4325  -0.0785 0.9374 -0.8817  0.8138\n",
      "All_rounder_in_team_2.0         0.9284   0.1870   4.9636 0.0000  0.5618  1.2950\n",
      "All_rounder_in_team_3.0         0.9834   0.1654   5.9472 0.0000  0.6593  1.3075\n",
      "All_rounder_in_team_4.0         1.1724   0.1724   6.8003 0.0000  0.8345  1.5103\n",
      "First_selection_Bowling        -0.2400   0.1260  -1.9049 0.0568 -0.4870  0.0069\n",
      "Opponent_Bangladesh             3.0819   1.4246   2.1633 0.0305  0.2897  5.8740\n",
      "Opponent_England                1.9641   1.3502   1.4547 0.1458 -0.6822  4.6105\n",
      "Opponent_Kenya                  2.3951   1.3118   1.8258 0.0679 -0.1759  4.9661\n",
      "Opponent_Pakistan               1.9206   1.3513   1.4213 0.1552 -0.7278  4.5691\n",
      "Opponent_South Africa           1.1236   1.3413   0.8377 0.4022 -1.5054  3.7526\n",
      "Opponent_Srilanka               1.4945   1.3105   1.1404 0.2541 -1.0741  4.0631\n",
      "Opponent_West Indies            3.9369   1.5018   2.6215 0.0088  0.9935  6.8803\n",
      "Opponent_Zimbabwe               1.3784   1.3418   1.0273 0.3043 -1.2514  4.0083\n",
      "Season_Summer                  -0.9132   0.1326  -6.8885 0.0000 -1.1731 -0.6534\n",
      "Season_Winter                   0.4186   0.1791   2.3373 0.0194  0.0676  0.7697\n",
      "Offshore_Yes                   -1.7809   0.1291 -13.7935 0.0000 -2.0340 -1.5279\n",
      "Max_wicket_taken_1over_2        0.6545   0.1918   3.4123 0.0006  0.2786  1.0304\n",
      "Max_wicket_taken_1over_3        0.7126   0.1692   4.2107 0.0000  0.3809  1.0442\n",
      "Max_wicket_taken_1over_4        0.6277   0.1702   3.6878 0.0002  0.2941  0.9614\n",
      "Players_scored_zero_2           1.1283   0.2363   4.7743 0.0000  0.6651  1.5914\n",
      "Players_scored_zero_3           1.4449   0.2228   6.4843 0.0000  1.0081  1.8816\n",
      "Players_scored_zero_4           2.0120   0.3117   6.4545 0.0000  1.4011  2.6230\n",
      "player_highest_wicket_2         1.5379   0.2769   5.5544 0.0000  0.9952  2.0805\n",
      "player_highest_wicket_3         0.4856   0.3438   1.4126 0.1578 -0.1882  1.1595\n",
      "player_highest_wicket_4         1.3768   0.6039   2.2798 0.0226  0.1932  2.5605\n",
      "player_highest_wicket_5        -0.2782   0.8374  -0.3322 0.7397 -1.9194  1.3631\n",
      "===============================================================================\n",
      "\n",
      "const                            -0.004039\n",
      "Avg_team_Age                     -0.121176\n",
      "Max_run_scored_1over              0.026297\n",
      "Extra_bowls_bowled                0.050913\n",
      "Min_run_given_1over               0.231555\n",
      "Min_run_scored_1over              0.259709\n",
      "Max_run_given_1over              -0.098089\n",
      "extra_bowls_opponent              0.133405\n",
      "player_highest_run               -0.001629\n",
      "Match_light_type_Day and Night   -0.695652\n",
      "Match_light_type_Night            0.867498\n",
      "Match_format_T20                  0.327315\n",
      "Match_format_Test                 1.274724\n",
      "Bowlers_in_team_2.0              -0.191741\n",
      "Bowlers_in_team_3.0              -0.245925\n",
      "Bowlers_in_team_4.0              -0.227478\n",
      "Bowlers_in_team_5.0              -0.033944\n",
      "All_rounder_in_team_2.0           0.928440\n",
      "All_rounder_in_team_3.0           0.983386\n",
      "All_rounder_in_team_4.0           1.172375\n",
      "First_selection_Bowling          -0.240021\n",
      "Opponent_Bangladesh               3.081863\n",
      "Opponent_England                  1.964104\n",
      "Opponent_Kenya                    2.395059\n",
      "Opponent_Pakistan                 1.920619\n",
      "Opponent_South Africa             1.123604\n",
      "Opponent_Srilanka                 1.494509\n",
      "Opponent_West Indies              3.936910\n",
      "Opponent_Zimbabwe                 1.378437\n",
      "Season_Summer                    -0.913246\n",
      "Season_Winter                     0.418619\n",
      "Offshore_Yes                     -1.780912\n",
      "Max_wicket_taken_1over_2          0.654473\n",
      "Max_wicket_taken_1over_3          0.712560\n",
      "Max_wicket_taken_1over_4          0.627735\n",
      "Players_scored_zero_2             1.128264\n",
      "Players_scored_zero_3             1.444854\n",
      "Players_scored_zero_4             2.012039\n",
      "player_highest_wicket_2           1.537862\n",
      "player_highest_wicket_3           0.485644\n",
      "player_highest_wicket_4           1.376814\n",
      "player_highest_wicket_5          -0.278176\n",
      "dtype: float64\n"
     ]
    }
   ],
   "source": [
    "logit_model = sm.Logit(Y,X)\n",
    "result=logit_model.fit()\n",
    "print(result.summary2())\n",
    "print(result.params)"
   ]
  },
  {
   "cell_type": "code",
   "execution_count": 114,
   "id": "2e0184a5",
   "metadata": {},
   "outputs": [
    {
     "name": "stdout",
     "output_type": "stream",
     "text": [
      "Optimization terminated successfully.\n",
      "         Current function value: 0.314480\n",
      "         Iterations 13\n",
      "                                Results: Logit\n",
      "===============================================================================\n",
      "Model:                   Logit                Pseudo R-squared:     0.289      \n",
      "Dependent Variable:      y                    AIC:                  1922.8507  \n",
      "Date:                    2022-05-13 18:16     BIC:                  2162.1610  \n",
      "No. Observations:        2930                 Log-Likelihood:       -921.43    \n",
      "Df Model:                39                   LL-Null:              -1295.2    \n",
      "Df Residuals:            2890                 LLR p-value:          7.1527e-132\n",
      "Converged:               1.0000               Scale:                1.0000     \n",
      "No. Iterations:          13.0000                                               \n",
      "-------------------------------------------------------------------------------\n",
      "                                Coef.  Std.Err.    z     P>|z|   [0.025  0.975]\n",
      "-------------------------------------------------------------------------------\n",
      "const                          -0.0040      nan      nan    nan     nan     nan\n",
      "Avg_team_Age                   -0.1213      nan      nan    nan     nan     nan\n",
      "Max_run_scored_1over            0.0263   0.0169   1.5557 0.1198 -0.0068  0.0594\n",
      "Extra_bowls_bowled              0.0509   0.0157   3.2431 0.0012  0.0201  0.0816\n",
      "Min_run_given_1over             0.2314   0.0612   3.7807 0.0002  0.1115  0.3514\n",
      "Min_run_scored_1over            0.2597   0.0850   3.0546 0.0023  0.0931  0.4263\n",
      "Max_run_given_1over            -0.0982   0.0227  -4.3257 0.0000 -0.1427 -0.0537\n",
      "extra_bowls_opponent            0.1335   0.0260   5.1423 0.0000  0.0826  0.1843\n",
      "player_highest_run             -0.0016   0.0030  -0.5452 0.5856 -0.0075  0.0042\n",
      "Match_light_type_Day and Night -0.6957   0.1412  -4.9281 0.0000 -0.9724 -0.4190\n",
      "Match_light_type_Night          0.8672   0.2558   3.3897 0.0007  0.3658  1.3685\n",
      "Match_format_T20                0.3272   0.4220   0.7753 0.4382 -0.4999  1.1542\n",
      "Match_format_Test               1.2753   1.2986   0.9821 0.3261 -1.2699  3.8206\n",
      "Bowlers_in_team_2.0            -0.1862   0.2111  -0.8822 0.3777 -0.5999  0.2275\n",
      "Bowlers_in_team_3.0            -0.2405   0.1832  -1.3129 0.1892 -0.5996  0.1186\n",
      "Bowlers_in_team_4.0            -0.2218   0.2009  -1.1039 0.2696 -0.6156  0.1720\n",
      "All_rounder_in_team_2.0         0.9285   0.1871   4.9637 0.0000  0.5619  1.2951\n",
      "All_rounder_in_team_3.0         0.9836   0.1653   5.9489 0.0000  0.6595  1.3076\n",
      "All_rounder_in_team_4.0         1.1725   0.1724   6.8013 0.0000  0.8346  1.5104\n",
      "First_selection_Bowling        -0.2401   0.1260  -1.9061 0.0566 -0.4871  0.0068\n",
      "Opponent_Bangladesh             3.0832   1.4241   2.1651 0.0304  0.2921  5.8744\n",
      "Opponent_England                1.9663   1.3498   1.4567 0.1452 -0.6793  4.6119\n",
      "Opponent_Kenya                  2.3961   1.3116   1.8269 0.0677 -0.1746  4.9667\n",
      "Opponent_Pakistan               1.9231   1.3508   1.4237 0.1545 -0.7244  4.5706\n",
      "Opponent_South Africa           1.1256   1.3410   0.8393 0.4013 -1.5027  3.7539\n",
      "Opponent_Srilanka               1.4957   1.3103   1.1415 0.2537 -1.0725  4.0639\n",
      "Opponent_West Indies            3.9338   1.5009   2.6210 0.0088  0.9921  6.8755\n",
      "Opponent_Zimbabwe               1.3801   1.3415   1.0288 0.3036 -1.2491  4.0094\n",
      "Season_Summer                  -0.9129   0.1325  -6.8900 0.0000 -1.1726 -0.6532\n",
      "Season_Winter                   0.4190   0.1790   2.3403 0.0193  0.0681  0.7699\n",
      "Offshore_Yes                   -1.7809   0.1291 -13.7936 0.0000 -2.0340 -1.5279\n",
      "Max_wicket_taken_1over_2        0.6539   0.1917   3.4118 0.0006  0.2782  1.0295\n",
      "Max_wicket_taken_1over_3        0.7124   0.1692   4.2098 0.0000  0.3807  1.0440\n",
      "Max_wicket_taken_1over_4        0.6278   0.1702   3.6881 0.0002  0.2942  0.9614\n",
      "Players_scored_zero_2           1.1288   0.2362   4.7787 0.0000  0.6658  1.5918\n",
      "Players_scored_zero_3           1.4453   0.2228   6.4884 0.0000  1.0087  1.8819\n",
      "Players_scored_zero_4           2.0112   0.3116   6.4552 0.0000  1.4006  2.6219\n",
      "player_highest_wicket_2         1.5363   0.2761   5.5646 0.0000  0.9952  2.0774\n",
      "player_highest_wicket_3         0.4842   0.3433   1.4105 0.1584 -0.1886  1.1571\n",
      "player_highest_wicket_4         1.3741   0.6029   2.2792 0.0227  0.1925  2.5558\n",
      "player_highest_wicket_5        -0.2762   0.8366  -0.3301 0.7413 -1.9159  1.3635\n",
      "===============================================================================\n",
      "\n"
     ]
    }
   ],
   "source": [
    "X1 = X.drop('Bowlers_in_team_5.0', axis=1, inplace=False)\n",
    "X1 = sm.add_constant(X1)\n",
    "logit_model = sm.Logit(Y,X1)\n",
    "result=logit_model.fit()\n",
    "print(result.summary2())"
   ]
  },
  {
   "cell_type": "code",
   "execution_count": 116,
   "id": "6fc0a09d",
   "metadata": {},
   "outputs": [
    {
     "name": "stdout",
     "output_type": "stream",
     "text": [
      "Optimization terminated successfully.\n",
      "         Current function value: 0.314498\n",
      "         Iterations 22\n",
      "                                Results: Logit\n",
      "===============================================================================\n",
      "Model:                   Logit                Pseudo R-squared:     0.289      \n",
      "Dependent Variable:      y                    AIC:                  1920.9603  \n",
      "Date:                    2022-05-13 18:21     BIC:                  2154.2878  \n",
      "No. Observations:        2930                 Log-Likelihood:       -921.48    \n",
      "Df Model:                38                   LL-Null:              -1295.2    \n",
      "Df Residuals:            2891                 LLR p-value:          1.6856e-132\n",
      "Converged:               1.0000               Scale:                1.0000     \n",
      "No. Iterations:          22.0000                                               \n",
      "-------------------------------------------------------------------------------\n",
      "                                Coef.  Std.Err.    z     P>|z|   [0.025  0.975]\n",
      "-------------------------------------------------------------------------------\n",
      "const                          -0.0040      nan      nan    nan     nan     nan\n",
      "Avg_team_Age                   -0.1209      nan      nan    nan     nan     nan\n",
      "Max_run_scored_1over            0.0263   0.0169   1.5586 0.1191 -0.0068  0.0594\n",
      "Extra_bowls_bowled              0.0493   0.0149   3.3085 0.0009  0.0201  0.0784\n",
      "Min_run_given_1over             0.2317   0.0612   3.7838 0.0002  0.1117  0.3517\n",
      "Min_run_scored_1over            0.2592   0.0850   3.0498 0.0023  0.0926  0.4257\n",
      "Max_run_given_1over            -0.0995   0.0224  -4.4519 0.0000 -0.1433 -0.0557\n",
      "extra_bowls_opponent            0.1344   0.0258   5.2130 0.0000  0.0839  0.1849\n",
      "player_highest_run             -0.0016   0.0030  -0.5359 0.5920 -0.0075  0.0043\n",
      "Match_light_type_Day and Night -0.6964   0.1412  -4.9315 0.0000 -0.9731 -0.4196\n",
      "Match_light_type_Night          0.8678   0.2558   3.3919 0.0007  0.3663  1.3692\n",
      "Match_format_T20                0.3253   0.4218   0.7713 0.4405 -0.5014  1.1520\n",
      "Match_format_Test               1.2659   1.2968   0.9762 0.3290 -1.2757  3.8075\n",
      "Bowlers_in_team_2.0            -0.1857   0.2111  -0.8799 0.3789 -0.5995  0.2280\n",
      "Bowlers_in_team_3.0            -0.2425   0.1832  -1.3238 0.1856 -0.6014  0.1165\n",
      "Bowlers_in_team_4.0            -0.2202   0.2008  -1.0962 0.2730 -0.6138  0.1735\n",
      "All_rounder_in_team_2.0         0.9269   0.1870   4.9567 0.0000  0.5604  1.2934\n",
      "All_rounder_in_team_3.0         0.9827   0.1653   5.9442 0.0000  0.6586  1.3067\n",
      "All_rounder_in_team_4.0         1.1728   0.1724   6.8023 0.0000  0.8349  1.5107\n",
      "First_selection_Bowling        -0.2416   0.1259  -1.9182 0.0551 -0.4884  0.0053\n",
      "Opponent_Bangladesh             2.9113   1.3191   2.2070 0.0273  0.3259  5.4968\n",
      "Opponent_England                1.9325   1.3447   1.4372 0.1507 -0.7030  4.5681\n",
      "Opponent_Kenya                  2.3954   1.3101   1.8284 0.0675 -0.1724  4.9631\n",
      "Opponent_Pakistan               1.8899   1.3458   1.4043 0.1602 -0.7478  4.5277\n",
      "Opponent_South Africa           1.0933   1.3356   0.8186 0.4130 -1.5245  3.7111\n",
      "Opponent_Srilanka               1.4936   1.3088   1.1412 0.2538 -1.0716  4.0589\n",
      "Opponent_West Indies            3.7946   1.4367   2.6413 0.0083  0.9789  6.6104\n",
      "Opponent_Zimbabwe               1.3791   1.3395   1.0295 0.3032 -1.2464  4.0046\n",
      "Season_Summer                  -0.9136   0.1325  -6.8964 0.0000 -1.1732 -0.6540\n",
      "Season_Winter                   0.4188   0.1791   2.3386 0.0194  0.0678  0.7697\n",
      "Offshore_Yes                   -1.7808   0.1291 -13.7964 0.0000 -2.0338 -1.5279\n",
      "Max_wicket_taken_1over_2        0.6559   0.1916   3.4233 0.0006  0.2804  1.0314\n",
      "Max_wicket_taken_1over_3        0.7149   0.1690   4.2290 0.0000  0.3836  1.0462\n",
      "Max_wicket_taken_1over_4        0.6289   0.1702   3.6948 0.0002  0.2953  0.9626\n",
      "Players_scored_zero_2           1.1275   0.2361   4.7746 0.0000  0.6647  1.5903\n",
      "Players_scored_zero_3           1.4455   0.2227   6.4907 0.0000  1.0090  1.8819\n",
      "Players_scored_zero_4           2.0109   0.3115   6.4566 0.0000  1.4005  2.6214\n",
      "player_highest_wicket_2         1.5720   0.2550   6.1636 0.0000  1.0721  2.0718\n",
      "player_highest_wicket_3         0.5394   0.3003   1.7965 0.0724 -0.0491  1.1279\n",
      "player_highest_wicket_4         1.4870   0.4972   2.9908 0.0028  0.5125  2.4615\n",
      "===============================================================================\n",
      "\n"
     ]
    }
   ],
   "source": [
    "X2 = X1.drop('player_highest_wicket_5', axis=1, inplace=False)\n",
    "X2 = sm.add_constant(X2)\n",
    "logit_model = sm.Logit(Y,X2)\n",
    "result=logit_model.fit()\n",
    "print(result.summary2())"
   ]
  },
  {
   "cell_type": "code",
   "execution_count": 117,
   "id": "46872380",
   "metadata": {},
   "outputs": [
    {
     "name": "stdout",
     "output_type": "stream",
     "text": [
      "Optimization terminated successfully.\n",
      "         Current function value: 0.315063\n",
      "         Iterations 9\n",
      "                                Results: Logit\n",
      "===============================================================================\n",
      "Model:                   Logit                Pseudo R-squared:     0.287      \n",
      "Dependent Variable:      y                    AIC:                  1922.2702  \n",
      "Date:                    2022-05-13 18:22     BIC:                  2149.6150  \n",
      "No. Observations:        2930                 Log-Likelihood:       -923.14    \n",
      "Df Model:                37                   LL-Null:              -1295.2    \n",
      "Df Residuals:            2892                 LLR p-value:          1.8015e-132\n",
      "Converged:               1.0000               Scale:                1.0000     \n",
      "No. Iterations:          9.0000                                                \n",
      "-------------------------------------------------------------------------------\n",
      "                                Coef.  Std.Err.    z     P>|z|   [0.025  0.975]\n",
      "-------------------------------------------------------------------------------\n",
      "const                          -0.0039      nan      nan    nan     nan     nan\n",
      "Avg_team_Age                   -0.1182      nan      nan    nan     nan     nan\n",
      "Max_run_scored_1over            0.0261   0.0169   1.5450 0.1223 -0.0070  0.0591\n",
      "Extra_bowls_bowled              0.0568   0.0143   3.9688 0.0001  0.0287  0.0848\n",
      "Min_run_given_1over             0.2285   0.0611   3.7407 0.0002  0.1088  0.3483\n",
      "Min_run_scored_1over            0.2622   0.0848   3.0928 0.0020  0.0960  0.4284\n",
      "Max_run_given_1over            -0.1031   0.0224  -4.6110 0.0000 -0.1469 -0.0593\n",
      "extra_bowls_opponent            0.1403   0.0255   5.4960 0.0000  0.0903  0.1904\n",
      "player_highest_run             -0.0016   0.0030  -0.5250 0.5996 -0.0074  0.0043\n",
      "Match_light_type_Day and Night -0.6907   0.1410  -4.8971 0.0000 -0.9671 -0.4142\n",
      "Match_light_type_Night          0.8772   0.2552   3.4371 0.0006  0.3770  1.3774\n",
      "Match_format_T20                0.3568   0.4192   0.8510 0.3947 -0.4649  1.1784\n",
      "Match_format_Test               1.2770   1.3186   0.9684 0.3328 -1.3075  3.8615\n",
      "Bowlers_in_team_2.0            -0.1878   0.2109  -0.8903 0.3733 -0.6012  0.2256\n",
      "Bowlers_in_team_3.0            -0.2461   0.1831  -1.3440 0.1790 -0.6051  0.1128\n",
      "Bowlers_in_team_4.0            -0.2322   0.2007  -1.1573 0.2471 -0.6256  0.1611\n",
      "All_rounder_in_team_2.0         0.9219   0.1867   4.9380 0.0000  0.5560  1.2878\n",
      "All_rounder_in_team_3.0         0.9820   0.1652   5.9431 0.0000  0.6582  1.3059\n",
      "All_rounder_in_team_4.0         1.1589   0.1720   6.7384 0.0000  0.8218  1.4960\n",
      "First_selection_Bowling        -0.2408   0.1258  -1.9140 0.0556 -0.4873  0.0058\n",
      "Opponent_Bangladesh             2.8432   1.3370   2.1265 0.0335  0.2227  5.4636\n",
      "Opponent_England                2.2004   1.3565   1.6221 0.1048 -0.4583  4.8592\n",
      "Opponent_Kenya                  2.3135   1.3306   1.7386 0.0821 -0.2945  4.9215\n",
      "Opponent_Pakistan               2.1499   1.3578   1.5834 0.1133 -0.5113  4.8111\n",
      "Opponent_South Africa           1.3058   1.3509   0.9666 0.3337 -1.3419  3.9535\n",
      "Opponent_Srilanka               1.4323   1.3298   1.0771 0.2814 -1.1740  4.0385\n",
      "Opponent_West Indies            3.8450   1.4539   2.6446 0.0082  0.9954  6.6945\n",
      "Opponent_Zimbabwe               1.2744   1.3590   0.9378 0.3483 -1.3891  3.9379\n",
      "Season_Summer                  -0.9106   0.1325  -6.8716 0.0000 -1.1704 -0.6509\n",
      "Season_Winter                   0.4138   0.1786   2.3172 0.0205  0.0638  0.7638\n",
      "Offshore_Yes                   -1.7796   0.1290 -13.7945 0.0000 -2.0324 -1.5267\n",
      "Max_wicket_taken_1over_2        0.6477   0.1913   3.3856 0.0007  0.2727  1.0226\n",
      "Max_wicket_taken_1over_3        0.7099   0.1690   4.2012 0.0000  0.3787  1.0410\n",
      "Max_wicket_taken_1over_4        0.6298   0.1702   3.7000 0.0002  0.2962  0.9634\n",
      "Players_scored_zero_2           1.1291   0.2360   4.7850 0.0000  0.6666  1.5915\n",
      "Players_scored_zero_3           1.4404   0.2224   6.4753 0.0000  1.0044  1.8763\n",
      "Players_scored_zero_4           1.9956   0.3110   6.4172 0.0000  1.3861  2.6051\n",
      "player_highest_wicket_2         1.2434   0.1701   7.3117 0.0000  0.9101  1.5767\n",
      "player_highest_wicket_4         1.0845   0.4408   2.4602 0.0139  0.2205  1.9484\n",
      "===============================================================================\n",
      "\n"
     ]
    }
   ],
   "source": [
    "X3 = X2.drop('player_highest_wicket_3', axis=1, inplace=False)\n",
    "X3 = sm.add_constant(X3)\n",
    "logit_model = sm.Logit(Y,X3)\n",
    "result=logit_model.fit()\n",
    "print(result.summary2())"
   ]
  },
  {
   "cell_type": "code",
   "execution_count": 118,
   "id": "144f4b07",
   "metadata": {},
   "outputs": [
    {
     "name": "stdout",
     "output_type": "stream",
     "text": [
      "Optimization terminated successfully.\n",
      "         Current function value: 0.315110\n",
      "         Iterations 31\n",
      "                                        Results: Logit\n",
      "==============================================================================================\n",
      "Model:                        Logit                     Pseudo R-squared:          0.287      \n",
      "Dependent Variable:           y                         AIC:                       1920.5460  \n",
      "Date:                         2022-05-13 18:25          BIC:                       2141.9080  \n",
      "No. Observations:             2930                      Log-Likelihood:            -923.27    \n",
      "Df Model:                     36                        LL-Null:                   -1295.2    \n",
      "Df Residuals:                 2893                      LLR p-value:               4.4823e-133\n",
      "Converged:                    1.0000                    Scale:                     1.0000     \n",
      "No. Iterations:               31.0000                                                         \n",
      "----------------------------------------------------------------------------------------------\n",
      "                                Coef.    Std.Err.      z     P>|z|      [0.025       0.975]   \n",
      "----------------------------------------------------------------------------------------------\n",
      "const                          -0.0040 3450098.2092  -0.0000 1.0000 -6762068.2372 6762068.2292\n",
      "Avg_team_Age                   -0.1210  115003.2736  -0.0000 1.0000  -225402.3955  225402.1534\n",
      "Max_run_scored_1over            0.0262       0.0169   1.5528 0.1205       -0.0069       0.0592\n",
      "Extra_bowls_bowled              0.0566       0.0143   3.9594 0.0001        0.0286       0.0846\n",
      "Min_run_given_1over             0.2289       0.0611   3.7437 0.0002        0.1091       0.3487\n",
      "Min_run_scored_1over            0.2627       0.0847   3.0996 0.0019        0.0966       0.4288\n",
      "Max_run_given_1over            -0.1028       0.0223  -4.6053 0.0000       -0.1466      -0.0591\n",
      "extra_bowls_opponent            0.1405       0.0255   5.5047 0.0000        0.0905       0.1905\n",
      "Match_light_type_Day and Night -0.6885       0.1409  -4.8849 0.0000       -0.9648      -0.4123\n",
      "Match_light_type_Night          0.8750       0.2553   3.4274 0.0006        0.3746       1.3753\n",
      "Match_format_T20                0.3520       0.4189   0.8402 0.4008       -0.4691       1.1730\n",
      "Match_format_Test               1.2588       1.3163   0.9563 0.3389       -1.3211       3.8388\n",
      "Bowlers_in_team_2.0            -0.1866       0.2109  -0.8848 0.3762       -0.6000       0.2268\n",
      "Bowlers_in_team_3.0            -0.2450       0.1831  -1.3384 0.1808       -0.6039       0.1138\n",
      "Bowlers_in_team_4.0            -0.2313       0.2006  -1.1530 0.2489       -0.6244       0.1619\n",
      "All_rounder_in_team_2.0         0.9200       0.1866   4.9303 0.0000        0.5543       1.2857\n",
      "All_rounder_in_team_3.0         0.9796       0.1651   5.9319 0.0000        0.6559       1.3033\n",
      "All_rounder_in_team_4.0         1.1596       0.1719   6.7450 0.0000        0.8227       1.4966\n",
      "First_selection_Bowling        -0.2367       0.1255  -1.8859 0.0593       -0.4828       0.0093\n",
      "Opponent_Bangladesh             2.8136       1.3336   2.1098 0.0349        0.1998       5.4274\n",
      "Opponent_England                2.1792       1.3541   1.6094 0.1075       -0.4747       4.8332\n",
      "Opponent_Kenya                  2.2883       1.3280   1.7231 0.0849       -0.3146       4.8911\n",
      "Opponent_Pakistan               2.1274       1.3553   1.5697 0.1165       -0.5289       4.7838\n",
      "Opponent_South Africa           1.2911       1.3487   0.9573 0.3384       -1.3523       3.9345\n",
      "Opponent_Srilanka               1.4091       1.3272   1.0617 0.2884       -1.1922       4.0104\n",
      "Opponent_West Indies            3.8187       1.4506   2.6325 0.0085        0.9755       6.6619\n",
      "Opponent_Zimbabwe               1.2587       1.3568   0.9277 0.3536       -1.4005       3.9179\n",
      "Season_Summer                  -0.9087       0.1324  -6.8613 0.0000       -1.1683      -0.6491\n",
      "Season_Winter                   0.4188       0.1785   2.3461 0.0190        0.0689       0.7686\n",
      "Offshore_Yes                   -1.7785       0.1289 -13.7927 0.0000       -2.0312      -1.5257\n",
      "Max_wicket_taken_1over_2        0.6410       0.1908   3.3591 0.0008        0.2670       1.0149\n",
      "Max_wicket_taken_1over_3        0.7091       0.1689   4.1986 0.0000        0.3781       1.0401\n",
      "Max_wicket_taken_1over_4        0.6258       0.1700   3.6815 0.0002        0.2927       0.9590\n",
      "Players_scored_zero_2           1.1266       0.2358   4.7778 0.0000        0.6644       1.5888\n",
      "Players_scored_zero_3           1.4365       0.2222   6.4651 0.0000        1.0010       1.8720\n",
      "Players_scored_zero_4           1.9831       0.3100   6.3966 0.0000        1.3755       2.5907\n",
      "player_highest_wicket_2         1.2414       0.1699   7.3078 0.0000        0.9085       1.5744\n",
      "player_highest_wicket_4         1.0818       0.4405   2.4558 0.0141        0.2184       1.9452\n",
      "==============================================================================================\n",
      "\n"
     ]
    }
   ],
   "source": [
    "X4 = X3.drop('player_highest_run', axis=1, inplace=False)\n",
    "X4 = sm.add_constant(X4)\n",
    "logit_model = sm.Logit(Y,X4)\n",
    "result=logit_model.fit()\n",
    "print(result.summary2())"
   ]
  },
  {
   "cell_type": "code",
   "execution_count": 119,
   "id": "0c175e56",
   "metadata": {},
   "outputs": [
    {
     "name": "stdout",
     "output_type": "stream",
     "text": [
      "Optimization terminated successfully.\n",
      "         Current function value: 0.315110\n",
      "         Iterations 8\n",
      "                                Results: Logit\n",
      "===============================================================================\n",
      "Model:                   Logit                Pseudo R-squared:     0.287      \n",
      "Dependent Variable:      y                    AIC:                  1920.5460  \n",
      "Date:                    2022-05-13 18:27     BIC:                  2141.9080  \n",
      "No. Observations:        2930                 Log-Likelihood:       -923.27    \n",
      "Df Model:                36                   LL-Null:              -1295.2    \n",
      "Df Residuals:            2893                 LLR p-value:          4.4823e-133\n",
      "Converged:               1.0000               Scale:                1.0000     \n",
      "No. Iterations:          8.0000                                                \n",
      "-------------------------------------------------------------------------------\n",
      "                                Coef.  Std.Err.    z     P>|z|   [0.025  0.975]\n",
      "-------------------------------------------------------------------------------\n",
      "const                          -3.6344   1.4119  -2.5741 0.0101 -6.4017 -0.8671\n",
      "Max_run_scored_1over            0.0262   0.0169   1.5528 0.1205 -0.0069  0.0592\n",
      "Extra_bowls_bowled              0.0566   0.0143   3.9594 0.0001  0.0286  0.0846\n",
      "Min_run_given_1over             0.2289   0.0611   3.7437 0.0002  0.1091  0.3487\n",
      "Min_run_scored_1over            0.2627   0.0847   3.0996 0.0019  0.0966  0.4288\n",
      "Max_run_given_1over            -0.1028   0.0223  -4.6053 0.0000 -0.1466 -0.0591\n",
      "extra_bowls_opponent            0.1405   0.0255   5.5047 0.0000  0.0905  0.1905\n",
      "Match_light_type_Day and Night -0.6885   0.1409  -4.8849 0.0000 -0.9648 -0.4123\n",
      "Match_light_type_Night          0.8750   0.2553   3.4274 0.0006  0.3746  1.3753\n",
      "Match_format_T20                0.3520   0.4189   0.8402 0.4008 -0.4691  1.1730\n",
      "Match_format_Test               1.2588   1.3163   0.9563 0.3389 -1.3211  3.8388\n",
      "Bowlers_in_team_2.0            -0.1866   0.2109  -0.8848 0.3762 -0.6000  0.2268\n",
      "Bowlers_in_team_3.0            -0.2450   0.1831  -1.3384 0.1808 -0.6039  0.1138\n",
      "Bowlers_in_team_4.0            -0.2313   0.2006  -1.1530 0.2489 -0.6244  0.1619\n",
      "All_rounder_in_team_2.0         0.9200   0.1866   4.9303 0.0000  0.5543  1.2857\n",
      "All_rounder_in_team_3.0         0.9796   0.1651   5.9319 0.0000  0.6559  1.3033\n",
      "All_rounder_in_team_4.0         1.1596   0.1719   6.7450 0.0000  0.8227  1.4966\n",
      "First_selection_Bowling        -0.2367   0.1255  -1.8859 0.0593 -0.4828  0.0093\n",
      "Opponent_Bangladesh             2.8136   1.3336   2.1098 0.0349  0.1998  5.4274\n",
      "Opponent_England                2.1792   1.3541   1.6094 0.1075 -0.4747  4.8332\n",
      "Opponent_Kenya                  2.2883   1.3280   1.7231 0.0849 -0.3146  4.8911\n",
      "Opponent_Pakistan               2.1274   1.3553   1.5697 0.1165 -0.5289  4.7838\n",
      "Opponent_South Africa           1.2911   1.3487   0.9573 0.3384 -1.3523  3.9345\n",
      "Opponent_Srilanka               1.4091   1.3272   1.0617 0.2884 -1.1922  4.0104\n",
      "Opponent_West Indies            3.8187   1.4506   2.6325 0.0085  0.9755  6.6619\n",
      "Opponent_Zimbabwe               1.2587   1.3568   0.9277 0.3536 -1.4005  3.9179\n",
      "Season_Summer                  -0.9087   0.1324  -6.8613 0.0000 -1.1683 -0.6491\n",
      "Season_Winter                   0.4188   0.1785   2.3461 0.0190  0.0689  0.7686\n",
      "Offshore_Yes                   -1.7785   0.1289 -13.7927 0.0000 -2.0312 -1.5257\n",
      "Max_wicket_taken_1over_2        0.6410   0.1908   3.3591 0.0008  0.2670  1.0149\n",
      "Max_wicket_taken_1over_3        0.7091   0.1689   4.1986 0.0000  0.3781  1.0401\n",
      "Max_wicket_taken_1over_4        0.6258   0.1700   3.6815 0.0002  0.2927  0.9590\n",
      "Players_scored_zero_2           1.1266   0.2358   4.7778 0.0000  0.6644  1.5888\n",
      "Players_scored_zero_3           1.4365   0.2222   6.4651 0.0000  1.0010  1.8720\n",
      "Players_scored_zero_4           1.9831   0.3100   6.3966 0.0000  1.3755  2.5907\n",
      "player_highest_wicket_2         1.2414   0.1699   7.3078 0.0000  0.9085  1.5744\n",
      "player_highest_wicket_4         1.0818   0.4405   2.4558 0.0141  0.2184  1.9452\n",
      "===============================================================================\n",
      "\n"
     ]
    }
   ],
   "source": [
    "X5 = X4.drop('Avg_team_Age', axis=1, inplace=False)\n",
    "X5 = sm.add_constant(X5)\n",
    "logit_model = sm.Logit(Y,X5)\n",
    "result=logit_model.fit()\n",
    "print(result.summary2())"
   ]
  },
  {
   "cell_type": "code",
   "execution_count": 122,
   "id": "4850b9b5",
   "metadata": {},
   "outputs": [
    {
     "name": "stdout",
     "output_type": "stream",
     "text": [
      "Optimization terminated successfully.\n",
      "         Current function value: 0.315527\n",
      "         Iterations 8\n",
      "                                Results: Logit\n",
      "===============================================================================\n",
      "Model:                   Logit                Pseudo R-squared:     0.286      \n",
      "Dependent Variable:      y                    AIC:                  1920.9857  \n",
      "Date:                    2022-05-13 20:09     BIC:                  2136.3649  \n",
      "No. Observations:        2930                 Log-Likelihood:       -924.49    \n",
      "Df Model:                35                   LL-Null:              -1295.2    \n",
      "Df Residuals:            2894                 LLR p-value:          3.0931e-133\n",
      "Converged:               1.0000               Scale:                1.0000     \n",
      "No. Iterations:          8.0000                                                \n",
      "-------------------------------------------------------------------------------\n",
      "                                Coef.  Std.Err.    z     P>|z|   [0.025  0.975]\n",
      "-------------------------------------------------------------------------------\n",
      "const                          -3.1779   1.3729  -2.3147 0.0206 -5.8688 -0.4870\n",
      "Extra_bowls_bowled              0.0568   0.0143   3.9676 0.0001  0.0288  0.0849\n",
      "Min_run_given_1over             0.2255   0.0611   3.6902 0.0002  0.1057  0.3453\n",
      "Min_run_scored_1over            0.2612   0.0847   3.0826 0.0021  0.0951  0.4272\n",
      "Max_run_given_1over            -0.1033   0.0224  -4.6190 0.0000 -0.1472 -0.0595\n",
      "extra_bowls_opponent            0.1411   0.0255   5.5266 0.0000  0.0910  0.1911\n",
      "Match_light_type_Day and Night -0.6886   0.1408  -4.8893 0.0000 -0.9646 -0.4126\n",
      "Match_light_type_Night          0.9006   0.2560   3.5181 0.0004  0.3989  1.4023\n",
      "Match_format_T20                0.3667   0.4181   0.8772 0.3804 -0.4527  1.1861\n",
      "Match_format_Test               1.2204   1.3074   0.9334 0.3506 -1.3421  3.7829\n",
      "Bowlers_in_team_2.0            -0.1827   0.2106  -0.8676 0.3856 -0.5954  0.2300\n",
      "Bowlers_in_team_3.0            -0.2369   0.1826  -1.2972 0.1946 -0.5949  0.1211\n",
      "Bowlers_in_team_4.0            -0.2250   0.2001  -1.1243 0.2609 -0.6172  0.1672\n",
      "All_rounder_in_team_2.0         0.9125   0.1863   4.8978 0.0000  0.5474  1.2777\n",
      "All_rounder_in_team_3.0         0.9718   0.1648   5.8960 0.0000  0.6487  1.2948\n",
      "All_rounder_in_team_4.0         1.1502   0.1717   6.6979 0.0000  0.8137  1.4868\n",
      "First_selection_Bowling        -0.2380   0.1255  -1.8969 0.0578 -0.4839  0.0079\n",
      "Opponent_Bangladesh             2.7843   1.3238   2.1033 0.0354  0.1897  5.3789\n",
      "Opponent_England                2.1560   1.3457   1.6022 0.1091 -0.4815  4.7935\n",
      "Opponent_Kenya                  2.2609   1.3196   1.7134 0.0866 -0.3254  4.8472\n",
      "Opponent_Pakistan               2.0976   1.3470   1.5572 0.1194 -0.5425  4.7376\n",
      "Opponent_South Africa           1.2239   1.3390   0.9140 0.3607 -1.4006  3.8484\n",
      "Opponent_Srilanka               1.3811   1.3187   1.0473 0.2949 -1.2034  3.9657\n",
      "Opponent_West Indies            3.7662   1.4422   2.6114 0.0090  0.9395  6.5929\n",
      "Opponent_Zimbabwe               1.2281   1.3475   0.9114 0.3621 -1.4129  3.8692\n",
      "Season_Summer                  -0.9092   0.1322  -6.8760 0.0000 -1.1684 -0.6500\n",
      "Season_Winter                   0.4194   0.1786   2.3486 0.0188  0.0694  0.7693\n",
      "Offshore_Yes                   -1.7707   0.1287 -13.7625 0.0000 -2.0228 -1.5185\n",
      "Max_wicket_taken_1over_2        0.6360   0.1906   3.3371 0.0008  0.2624  1.0095\n",
      "Max_wicket_taken_1over_3        0.6970   0.1684   4.1386 0.0000  0.3669  1.0272\n",
      "Max_wicket_taken_1over_4        0.6178   0.1697   3.6412 0.0003  0.2853  0.9504\n",
      "Players_scored_zero_2           1.1103   0.2350   4.7255 0.0000  0.6498  1.5708\n",
      "Players_scored_zero_3           1.4217   0.2214   6.4207 0.0000  0.9877  1.8557\n",
      "Players_scored_zero_4           1.9702   0.3097   6.3617 0.0000  1.3632  2.5772\n",
      "player_highest_wicket_2         1.2434   0.1700   7.3143 0.0000  0.9102  1.5766\n",
      "player_highest_wicket_4         1.0549   0.4394   2.4008 0.0164  0.1937  1.9161\n",
      "===============================================================================\n",
      "\n"
     ]
    }
   ],
   "source": [
    "X6 = X5.drop('Max_run_scored_1over', axis=1, inplace=False)\n",
    "X6 = sm.add_constant(X6)\n",
    "logit_model = sm.Logit(Y,X6)\n",
    "result=logit_model.fit()\n",
    "print(result.summary2())"
   ]
  },
  {
   "cell_type": "code",
   "execution_count": 121,
   "id": "1bd64aeb",
   "metadata": {},
   "outputs": [
    {
     "name": "stdout",
     "output_type": "stream",
     "text": [
      "Optimization terminated successfully.\n",
      "         Current function value: 0.315655\n",
      "         Iterations 8\n",
      "                                Results: Logit\n",
      "===============================================================================\n",
      "Model:                   Logit                Pseudo R-squared:     0.286      \n",
      "Dependent Variable:      y                    AIC:                  1919.7409  \n",
      "Date:                    2022-05-13 20:07     BIC:                  2129.1374  \n",
      "No. Observations:        2930                 Log-Likelihood:       -924.87    \n",
      "Df Model:                34                   LL-Null:              -1295.2    \n",
      "Df Residuals:            2895                 LLR p-value:          9.4244e-134\n",
      "Converged:               1.0000               Scale:                1.0000     \n",
      "No. Iterations:          8.0000                                                \n",
      "-------------------------------------------------------------------------------\n",
      "                                Coef.  Std.Err.    z     P>|z|   [0.025  0.975]\n",
      "-------------------------------------------------------------------------------\n",
      "const                          -3.2942   1.3838  -2.3806 0.0173 -6.0064 -0.5820\n",
      "Extra_bowls_bowled              0.0558   0.0143   3.9108 0.0001  0.0278  0.0838\n",
      "Min_run_given_1over             0.2257   0.0611   3.6946 0.0002  0.1060  0.3454\n",
      "Min_run_scored_1over            0.2617   0.0847   3.0881 0.0020  0.0956  0.4277\n",
      "Max_run_given_1over            -0.1022   0.0223  -4.5815 0.0000 -0.1459 -0.0585\n",
      "extra_bowls_opponent            0.1413   0.0256   5.5305 0.0000  0.0912  0.1914\n",
      "Match_light_type_Day and Night -0.6883   0.1408  -4.8880 0.0000 -0.9643 -0.4123\n",
      "Match_light_type_Night          0.8854   0.2549   3.4729 0.0005  0.3857  1.3851\n",
      "Match_format_T20                0.3592   0.4172   0.8608 0.3893 -0.4586  1.1770\n",
      "Match_format_Test               1.2361   1.3259   0.9322 0.3512 -1.3628  3.8349\n",
      "Bowlers_in_team_3.0            -0.1376   0.1406  -0.9784 0.3279 -0.4132  0.1380\n",
      "Bowlers_in_team_4.0            -0.1235   0.1608  -0.7680 0.4425 -0.4387  0.1917\n",
      "All_rounder_in_team_2.0         0.9166   0.1862   4.9234 0.0000  0.5517  1.2815\n",
      "All_rounder_in_team_3.0         0.9787   0.1646   5.9452 0.0000  0.6560  1.3013\n",
      "All_rounder_in_team_4.0         1.1555   0.1716   6.7323 0.0000  0.8191  1.4919\n",
      "First_selection_Bowling        -0.2334   0.1253  -1.8629 0.0625 -0.4790  0.0122\n",
      "Opponent_Bangladesh             2.8069   1.3425   2.0908 0.0365  0.1756  5.4382\n",
      "Opponent_England                2.1755   1.3634   1.5957 0.1106 -0.4966  4.8477\n",
      "Opponent_Kenya                  2.2833   1.3375   1.7072 0.0878 -0.3381  4.9047\n",
      "Opponent_Pakistan               2.1238   1.3646   1.5564 0.1196 -0.5507  4.7983\n",
      "Opponent_South Africa           1.2451   1.3568   0.9177 0.3588 -1.4141  3.9043\n",
      "Opponent_Srilanka               1.3982   1.3367   1.0460 0.2956 -1.2217  4.0181\n",
      "Opponent_West Indies            3.7910   1.4590   2.5982 0.0094  0.9313  6.6506\n",
      "Opponent_Zimbabwe               1.2564   1.3649   0.9205 0.3573 -1.4188  3.9316\n",
      "Season_Summer                  -0.9075   0.1321  -6.8671 0.0000 -1.1665 -0.6485\n",
      "Season_Winter                   0.4164   0.1785   2.3323 0.0197  0.0665  0.7663\n",
      "Offshore_Yes                   -1.7711   0.1286 -13.7673 0.0000 -2.0232 -1.5189\n",
      "Max_wicket_taken_1over_2        0.6373   0.1905   3.3451 0.0008  0.2639  1.0108\n",
      "Max_wicket_taken_1over_3        0.6959   0.1684   4.1330 0.0000  0.3659  1.0259\n",
      "Max_wicket_taken_1over_4        0.6189   0.1698   3.6448 0.0003  0.2861  0.9517\n",
      "Players_scored_zero_2           1.0936   0.2342   4.6703 0.0000  0.6347  1.5526\n",
      "Players_scored_zero_3           1.4148   0.2214   6.3908 0.0000  0.9809  1.8487\n",
      "Players_scored_zero_4           1.9580   0.3093   6.3313 0.0000  1.3518  2.5641\n",
      "player_highest_wicket_2         1.2366   0.1698   7.2843 0.0000  0.9039  1.5694\n",
      "player_highest_wicket_4         1.0624   0.4395   2.4172 0.0156  0.2010  1.9238\n",
      "===============================================================================\n",
      "\n"
     ]
    }
   ],
   "source": [
    "X7 = X6.drop('Bowlers_in_team_2.0', axis=1, inplace=False)\n",
    "X7 = sm.add_constant(X7)\n",
    "logit_model = sm.Logit(Y,X7)\n",
    "result=logit_model.fit()\n",
    "print(result.summary2())"
   ]
  },
  {
   "cell_type": "code",
   "execution_count": 123,
   "id": "53fb5e24",
   "metadata": {},
   "outputs": [
    {
     "name": "stdout",
     "output_type": "stream",
     "text": [
      "Optimization terminated successfully.\n",
      "         Current function value: 0.315756\n",
      "         Iterations 8\n",
      "                                Results: Logit\n",
      "===============================================================================\n",
      "Model:                   Logit                Pseudo R-squared:     0.286      \n",
      "Dependent Variable:      y                    AIC:                  1918.3298  \n",
      "Date:                    2022-05-13 20:10     BIC:                  2121.7435  \n",
      "No. Observations:        2930                 Log-Likelihood:       -925.16    \n",
      "Df Model:                33                   LL-Null:              -1295.2    \n",
      "Df Residuals:            2896                 LLR p-value:          2.6142e-134\n",
      "Converged:               1.0000               Scale:                1.0000     \n",
      "No. Iterations:          8.0000                                                \n",
      "-------------------------------------------------------------------------------\n",
      "                                Coef.  Std.Err.    z     P>|z|   [0.025  0.975]\n",
      "-------------------------------------------------------------------------------\n",
      "const                          -3.3208   1.3740  -2.4168 0.0157 -6.0139 -0.6278\n",
      "Extra_bowls_bowled              0.0551   0.0142   3.8765 0.0001  0.0273  0.0830\n",
      "Min_run_given_1over             0.2257   0.0611   3.6967 0.0002  0.1060  0.3454\n",
      "Min_run_scored_1over            0.2600   0.0847   3.0703 0.0021  0.0940  0.4261\n",
      "Max_run_given_1over            -0.1019   0.0223  -4.5726 0.0000 -0.1455 -0.0582\n",
      "extra_bowls_opponent            0.1405   0.0255   5.5095 0.0000  0.0905  0.1905\n",
      "Match_light_type_Day and Night -0.6890   0.1408  -4.8928 0.0000 -0.9649 -0.4130\n",
      "Match_light_type_Night          0.8907   0.2552   3.4903 0.0005  0.3905  1.3909\n",
      "Match_format_T20                0.3708   0.4165   0.8903 0.3733 -0.4455  1.1871\n",
      "Match_format_Test               1.2298   1.3160   0.9345 0.3501 -1.3496  3.8092\n",
      "Bowlers_in_team_3.0            -0.0863   0.1232  -0.7005 0.4836 -0.3277  0.1551\n",
      "All_rounder_in_team_2.0         0.9273   0.1857   4.9947 0.0000  0.5634  1.2912\n",
      "All_rounder_in_team_3.0         0.9846   0.1645   5.9871 0.0000  0.6623  1.3069\n",
      "All_rounder_in_team_4.0         1.1646   0.1712   6.8014 0.0000  0.8290  1.5002\n",
      "First_selection_Bowling        -0.2365   0.1253  -1.8881 0.0590 -0.4820  0.0090\n",
      "Opponent_Bangladesh             2.7951   1.3326   2.0975 0.0360  0.1832  5.4069\n",
      "Opponent_England                2.1673   1.3537   1.6010 0.1094 -0.4860  4.8206\n",
      "Opponent_Kenya                  2.2732   1.3278   1.7120 0.0869 -0.3292  4.8755\n",
      "Opponent_Pakistan               2.1173   1.3551   1.5624 0.1182 -0.5387  4.7732\n",
      "Opponent_South Africa           1.2210   1.3467   0.9066 0.3646 -1.4185  3.8605\n",
      "Opponent_Srilanka               1.3946   1.3270   1.0510 0.2933 -1.2062  3.9955\n",
      "Opponent_West Indies            3.7920   1.4512   2.6131 0.0090  0.9478  6.6362\n",
      "Opponent_Zimbabwe               1.2402   1.3552   0.9152 0.3601 -1.4159  3.8964\n",
      "Season_Summer                  -0.9056   0.1321  -6.8551 0.0000 -1.1645 -0.6467\n",
      "Season_Winter                   0.4182   0.1784   2.3440 0.0191  0.0685  0.7678\n",
      "Offshore_Yes                   -1.7708   0.1287 -13.7620 0.0000 -2.0229 -1.5186\n",
      "Max_wicket_taken_1over_2        0.6216   0.1894   3.2817 0.0010  0.2503  0.9928\n",
      "Max_wicket_taken_1over_3        0.6849   0.1677   4.0831 0.0000  0.3561  1.0137\n",
      "Max_wicket_taken_1over_4        0.6105   0.1694   3.6040 0.0003  0.2785  0.9425\n",
      "Players_scored_zero_2           1.0907   0.2343   4.6555 0.0000  0.6315  1.5498\n",
      "Players_scored_zero_3           1.4108   0.2215   6.3706 0.0000  0.9767  1.8448\n",
      "Players_scored_zero_4           1.9527   0.3090   6.3185 0.0000  1.3470  2.5584\n",
      "player_highest_wicket_2         1.2361   0.1697   7.2842 0.0000  0.9035  1.5687\n",
      "player_highest_wicket_4         1.0678   0.4391   2.4319 0.0150  0.2072  1.9285\n",
      "===============================================================================\n",
      "\n"
     ]
    }
   ],
   "source": [
    "X8 = X7.drop('Bowlers_in_team_4.0', axis=1, inplace=False)\n",
    "X8 = sm.add_constant(X8)\n",
    "logit_model = sm.Logit(Y,X8)\n",
    "result=logit_model.fit()\n",
    "print(result.summary2())"
   ]
  },
  {
   "cell_type": "code",
   "execution_count": 124,
   "id": "a83f78f4",
   "metadata": {},
   "outputs": [
    {
     "name": "stdout",
     "output_type": "stream",
     "text": [
      "Optimization terminated successfully.\n",
      "         Current function value: 0.315840\n",
      "         Iterations 8\n",
      "                                Results: Logit\n",
      "===============================================================================\n",
      "Model:                   Logit                Pseudo R-squared:     0.285      \n",
      "Dependent Variable:      y                    AIC:                  1916.8197  \n",
      "Date:                    2022-05-13 20:11     BIC:                  2114.2507  \n",
      "No. Observations:        2930                 Log-Likelihood:       -925.41    \n",
      "Df Model:                32                   LL-Null:              -1295.2    \n",
      "Df Residuals:            2897                 LLR p-value:          6.8135e-135\n",
      "Converged:               1.0000               Scale:                1.0000     \n",
      "No. Iterations:          8.0000                                                \n",
      "-------------------------------------------------------------------------------\n",
      "                                Coef.  Std.Err.    z     P>|z|   [0.025  0.975]\n",
      "-------------------------------------------------------------------------------\n",
      "const                          -3.3434   1.3710  -2.4387 0.0147 -6.0305 -0.6563\n",
      "Extra_bowls_bowled              0.0549   0.0142   3.8638 0.0001  0.0271  0.0828\n",
      "Min_run_given_1over             0.2269   0.0610   3.7174 0.0002  0.1073  0.3465\n",
      "Min_run_scored_1over            0.2617   0.0846   3.0952 0.0020  0.0960  0.4274\n",
      "Max_run_given_1over            -0.1014   0.0222  -4.5606 0.0000 -0.1450 -0.0578\n",
      "extra_bowls_opponent            0.1407   0.0255   5.5172 0.0000  0.0907  0.1907\n",
      "Match_light_type_Day and Night -0.6906   0.1407  -4.9066 0.0000 -0.9664 -0.4147\n",
      "Match_light_type_Night          0.8977   0.2551   3.5187 0.0004  0.3977  1.3977\n",
      "Match_format_T20                0.3719   0.4159   0.8941 0.3713 -0.4433  1.1871\n",
      "Match_format_Test               1.2060   1.3126   0.9188 0.3582 -1.3666  3.7786\n",
      "All_rounder_in_team_2.0         0.9306   0.1855   5.0155 0.0000  0.5669  1.2942\n",
      "All_rounder_in_team_3.0         0.9812   0.1643   5.9718 0.0000  0.6592  1.3033\n",
      "All_rounder_in_team_4.0         1.1625   0.1711   6.7925 0.0000  0.8271  1.4980\n",
      "First_selection_Bowling        -0.2314   0.1250  -1.8507 0.0642 -0.4764  0.0137\n",
      "Opponent_Bangladesh             2.7683   1.3285   2.0838 0.0372  0.1646  5.3721\n",
      "Opponent_England                2.1328   1.3500   1.5798 0.1142 -0.5132  4.7787\n",
      "Opponent_Kenya                  2.2480   1.3244   1.6974 0.0896 -0.3477  4.8437\n",
      "Opponent_Pakistan               2.0897   1.3518   1.5459 0.1221 -0.5598  4.7391\n",
      "Opponent_South Africa           1.1964   1.3431   0.8907 0.3731 -1.4361  3.8289\n",
      "Opponent_Srilanka               1.3710   1.3236   1.0358 0.3003 -1.2232  3.9653\n",
      "Opponent_West Indies            3.7791   1.4483   2.6094 0.0091  0.9405  6.6177\n",
      "Opponent_Zimbabwe               1.2177   1.3516   0.9009 0.3677 -1.4315  3.8668\n",
      "Season_Summer                  -0.9104   0.1319  -6.9014 0.0000 -1.1689 -0.6518\n",
      "Season_Winter                   0.4127   0.1781   2.3173 0.0205  0.0636  0.7617\n",
      "Offshore_Yes                   -1.7658   0.1284 -13.7519 0.0000 -2.0175 -1.5141\n",
      "Max_wicket_taken_1over_2        0.6215   0.1893   3.2834 0.0010  0.2505  0.9924\n",
      "Max_wicket_taken_1over_3        0.6853   0.1677   4.0851 0.0000  0.3565  1.0140\n",
      "Max_wicket_taken_1over_4        0.6143   0.1693   3.6283 0.0003  0.2825  0.9462\n",
      "Players_scored_zero_2           1.0886   0.2345   4.6432 0.0000  0.6291  1.5481\n",
      "Players_scored_zero_3           1.4060   0.2215   6.3466 0.0000  0.9718  1.8401\n",
      "Players_scored_zero_4           1.9436   0.3089   6.2920 0.0000  1.3382  2.5490\n",
      "player_highest_wicket_2         1.2502   0.1686   7.4156 0.0000  0.9197  1.5806\n",
      "player_highest_wicket_4         1.0713   0.4384   2.4438 0.0145  0.2121  1.9306\n",
      "===============================================================================\n",
      "\n"
     ]
    }
   ],
   "source": [
    "X9 = X8.drop('Bowlers_in_team_3.0', axis=1, inplace=False)\n",
    "X9 = sm.add_constant(X9)\n",
    "logit_model = sm.Logit(Y,X9)\n",
    "result=logit_model.fit()\n",
    "print(result.summary2())"
   ]
  },
  {
   "cell_type": "code",
   "execution_count": null,
   "id": "93842f71",
   "metadata": {},
   "outputs": [],
   "source": []
  }
 ],
 "metadata": {
  "kernelspec": {
   "display_name": "Python 3 (ipykernel)",
   "language": "python",
   "name": "python3"
  },
  "language_info": {
   "codemirror_mode": {
    "name": "ipython",
    "version": 3
   },
   "file_extension": ".py",
   "mimetype": "text/x-python",
   "name": "python",
   "nbconvert_exporter": "python",
   "pygments_lexer": "ipython3",
   "version": "3.9.7"
  }
 },
 "nbformat": 4,
 "nbformat_minor": 5
}
