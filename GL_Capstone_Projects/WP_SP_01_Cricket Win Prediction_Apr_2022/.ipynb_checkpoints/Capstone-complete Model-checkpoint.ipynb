{
 "cells": [
  {
   "cell_type": "markdown",
   "id": "2c886ab4",
   "metadata": {},
   "source": [
    "### Importing Required Libraries"
   ]
  },
  {
   "cell_type": "code",
   "execution_count": 1,
   "id": "ec40de7d",
   "metadata": {},
   "outputs": [],
   "source": [
    "import numpy as np\n",
    "import pandas as pd\n",
    "import matplotlib.pyplot as plt\n",
    "import seaborn as sns"
   ]
  },
  {
   "cell_type": "code",
   "execution_count": 2,
   "id": "b9c6b6ec",
   "metadata": {},
   "outputs": [],
   "source": [
    "from warnings import filterwarnings\n",
    "filterwarnings('ignore')"
   ]
  },
  {
   "cell_type": "markdown",
   "id": "9aba01ca",
   "metadata": {},
   "source": [
    "### Importing Data Set"
   ]
  },
  {
   "cell_type": "code",
   "execution_count": null,
   "id": "2c1348aa",
   "metadata": {
    "scrolled": true
   },
   "outputs": [],
   "source": [
    "df = pd.read_excel(\"Sports Data.xlsx\",sheet_name = \"Sports data for DSBA\")\n",
    "df.head()"
   ]
  },
  {
   "cell_type": "code",
   "execution_count": null,
   "id": "e28140a0",
   "metadata": {},
   "outputs": [],
   "source": [
    "df.tail()"
   ]
  },
  {
   "cell_type": "code",
   "execution_count": null,
   "id": "8d28fdba",
   "metadata": {},
   "outputs": [],
   "source": [
    "df2 = df.copy()\n",
    "df2.head()"
   ]
  },
  {
   "cell_type": "markdown",
   "id": "f84ca391",
   "metadata": {},
   "source": [
    "### Finding the shape, Info, dimensions and Desciprtion of the data set"
   ]
  },
  {
   "cell_type": "code",
   "execution_count": null,
   "id": "f47da59d",
   "metadata": {
    "scrolled": true
   },
   "outputs": [],
   "source": [
    "print(\"No. of rows in the dataset\", df.shape[0])\n",
    "print(\"No. of columns in the dataset\", df.shape[1])"
   ]
  },
  {
   "cell_type": "code",
   "execution_count": null,
   "id": "c8906c05",
   "metadata": {},
   "outputs": [],
   "source": [
    "df.info()"
   ]
  },
  {
   "cell_type": "markdown",
   "id": "24e1bd6b",
   "metadata": {},
   "source": [
    "#### Descirptive stats"
   ]
  },
  {
   "cell_type": "code",
   "execution_count": null,
   "id": "c0712111",
   "metadata": {
    "scrolled": true
   },
   "outputs": [],
   "source": [
    "df.describe().T"
   ]
  },
  {
   "cell_type": "code",
   "execution_count": null,
   "id": "9c3fb336",
   "metadata": {},
   "outputs": [],
   "source": [
    "df[df['Extra_bowls_bowled']==40.0]['Result']"
   ]
  },
  {
   "cell_type": "code",
   "execution_count": null,
   "id": "9f2ceba1",
   "metadata": {
    "scrolled": true
   },
   "outputs": [],
   "source": [
    "df.describe(include='all').T"
   ]
  },
  {
   "cell_type": "markdown",
   "id": "b44b89cb",
   "metadata": {},
   "source": [
    "### Checking for null values in the data set"
   ]
  },
  {
   "cell_type": "code",
   "execution_count": null,
   "id": "43cd06ed",
   "metadata": {},
   "outputs": [],
   "source": [
    "df.isnull().sum().sort_values(ascending=False)"
   ]
  },
  {
   "cell_type": "code",
   "execution_count": null,
   "id": "2e0f8a3d",
   "metadata": {},
   "outputs": [],
   "source": [
    "df.isnull().sum().sum()"
   ]
  },
  {
   "cell_type": "code",
   "execution_count": null,
   "id": "c247fbb7",
   "metadata": {},
   "outputs": [],
   "source": [
    "df.size"
   ]
  },
  {
   "cell_type": "code",
   "execution_count": null,
   "id": "b1a3bbd9",
   "metadata": {
    "scrolled": false
   },
   "outputs": [],
   "source": [
    "tot_missing_values = df.isnull().sum().sum()/df.size\n",
    "print(\"Percentage of missing values in the dataset is:\", (tot_missing_values*100))"
   ]
  },
  {
   "cell_type": "markdown",
   "id": "fb40785d",
   "metadata": {},
   "source": [
    "### Dropping Game_Number variable"
   ]
  },
  {
   "cell_type": "code",
   "execution_count": null,
   "id": "31944ca6",
   "metadata": {
    "scrolled": true
   },
   "outputs": [],
   "source": [
    "df.drop('Game_number', axis=1, inplace=True)\n",
    "df.head()"
   ]
  },
  {
   "cell_type": "code",
   "execution_count": null,
   "id": "602fdb6c",
   "metadata": {},
   "outputs": [],
   "source": [
    "df['Result'].unique()"
   ]
  },
  {
   "cell_type": "markdown",
   "id": "b1ffe26c",
   "metadata": {},
   "source": [
    "Match format type T20 has two ways of entry: T20 and 20-20\n",
    "\n",
    "First_Selection has two ways of entry for batting: Batting and Bat\n",
    "\n",
    "Player_scored_Zero has two ways of entry for three members: 3 an Three\n",
    "\n",
    "Player_Highest_Wicket has two ways of entry for three : 3 an Three"
   ]
  },
  {
   "cell_type": "markdown",
   "id": "45b690d9",
   "metadata": {},
   "source": [
    "#### Renaming the variables"
   ]
  },
  {
   "cell_type": "code",
   "execution_count": null,
   "id": "d27817f2",
   "metadata": {},
   "outputs": [],
   "source": [
    "df['Match_format'] = np.where(df['Match_format']=='20-20','T20',df['Match_format'])\n",
    "df['First_selection'] = np.where(df['First_selection']=='Bat','Batting',df['First_selection'])\n",
    "df['Players_scored_zero'] = np.where(df['Players_scored_zero']=='Three',3, df['Players_scored_zero'])\n",
    "df['player_highest_wicket'] = np.where(df['player_highest_wicket']=='Three', 3, df['player_highest_wicket'])"
   ]
  },
  {
   "cell_type": "code",
   "execution_count": null,
   "id": "e2b53243",
   "metadata": {},
   "outputs": [],
   "source": [
    "for col in df.columns:\n",
    "    print(col.upper())\n",
    "    print(df[col].unique())\n",
    "    print(\"\\n\")"
   ]
  },
  {
   "cell_type": "markdown",
   "id": "0be8c633",
   "metadata": {},
   "source": [
    "### Univariate Analysis"
   ]
  },
  {
   "cell_type": "code",
   "execution_count": null,
   "id": "fc06b83c",
   "metadata": {},
   "outputs": [],
   "source": [
    "%matplotlib inline"
   ]
  },
  {
   "cell_type": "code",
   "execution_count": null,
   "id": "c0553307",
   "metadata": {},
   "outputs": [],
   "source": [
    "df['Avg_team_Age'] = df['Avg_team_Age'].fillna(df['Avg_team_Age'].median())"
   ]
  },
  {
   "cell_type": "code",
   "execution_count": null,
   "id": "a9d3ccd9",
   "metadata": {},
   "outputs": [],
   "source": [
    "def remove_outliers(col):\n",
    "    sorted(col)\n",
    "    Q1, Q3 = np.percentile(col,[25,75])\n",
    "    IQR = Q3-Q1\n",
    "    lower_range = Q1 - (1.5*IQR)\n",
    "    upper_range = Q3 + (1.5*IQR)\n",
    "    return lower_range, upper_range"
   ]
  },
  {
   "cell_type": "code",
   "execution_count": null,
   "id": "0331ac93",
   "metadata": {},
   "outputs": [],
   "source": [
    "lr,ur = remove_outliers(df['Avg_team_Age'])\n",
    "print(lr,ur)\n",
    "df['Avg_team_Age'] = np.where(df['Avg_team_Age']< lr, lr, df['Avg_team_Age'])\n",
    "df['Avg_team_Age'] = np.where(df['Avg_team_Age']> ur, ur, df['Avg_team_Age'])"
   ]
  },
  {
   "cell_type": "code",
   "execution_count": null,
   "id": "f5006ca0",
   "metadata": {},
   "outputs": [],
   "source": [
    "sns.boxplot(data=df['Avg_team_Age'])"
   ]
  },
  {
   "cell_type": "code",
   "execution_count": null,
   "id": "ed564b8a",
   "metadata": {},
   "outputs": [],
   "source": [
    "df.isnull().sum()"
   ]
  },
  {
   "cell_type": "markdown",
   "id": "790c0aa6",
   "metadata": {},
   "source": [
    "### Imputing Null values"
   ]
  },
  {
   "cell_type": "code",
   "execution_count": null,
   "id": "a88de8c4",
   "metadata": {},
   "outputs": [],
   "source": [
    "import statistics\n",
    "for col in df.columns:\n",
    "    if(df[col].dtypes == 'object'):\n",
    "        df[col] = df[col].replace(np.NaN, statistics.mode(df[col]))\n"
   ]
  },
  {
   "cell_type": "code",
   "execution_count": null,
   "id": "2911d4c4",
   "metadata": {},
   "outputs": [],
   "source": [
    "for col in df.columns:\n",
    "    if(df[col].dtypes != 'object'):\n",
    "        df[col] = df[col].fillna(df[col].median())"
   ]
  },
  {
   "cell_type": "code",
   "execution_count": null,
   "id": "1492c8cc",
   "metadata": {
    "scrolled": true
   },
   "outputs": [],
   "source": [
    "df.isnull().sum()"
   ]
  },
  {
   "cell_type": "markdown",
   "id": "e75154a0",
   "metadata": {},
   "source": [
    "### data set back up"
   ]
  },
  {
   "cell_type": "code",
   "execution_count": null,
   "id": "77f987cb",
   "metadata": {},
   "outputs": [],
   "source": [
    "df_new = df.copy()\n",
    "df_new.head()"
   ]
  },
  {
   "cell_type": "code",
   "execution_count": null,
   "id": "7e27fa4a",
   "metadata": {},
   "outputs": [],
   "source": [
    "from statsmodels.stats.outliers_influence import variance_inflation_factor"
   ]
  },
  {
   "cell_type": "code",
   "execution_count": null,
   "id": "a23f1845",
   "metadata": {},
   "outputs": [],
   "source": [
    "from sklearn.preprocessing import LabelEncoder"
   ]
  },
  {
   "cell_type": "markdown",
   "id": "9d677f0b",
   "metadata": {},
   "source": [
    "### Dropping Wicket_keeper_in_team, and Audience_number variable"
   ]
  },
  {
   "cell_type": "code",
   "execution_count": null,
   "id": "95e5dbb9",
   "metadata": {},
   "outputs": [],
   "source": [
    "df.drop(['Wicket_keeper_in_team', 'Audience_number'], axis=1, inplace=True)\n",
    "df.head()"
   ]
  },
  {
   "cell_type": "markdown",
   "id": "7c917eb9",
   "metadata": {},
   "source": [
    "### Using Label encoder to encode the variables for the Decsision Treee, Random Forest, ANN"
   ]
  },
  {
   "cell_type": "code",
   "execution_count": null,
   "id": "c2a904f0",
   "metadata": {},
   "outputs": [],
   "source": []
  },
  {
   "cell_type": "code",
   "execution_count": null,
   "id": "98453ca2",
   "metadata": {},
   "outputs": [],
   "source": [
    "LE = LabelEncoder()\n",
    "for col in df.columns:\n",
    "    if(df[col].dtype == 'object'):\n",
    "        df[col] = LE.fit_transform(df[col])\n",
    "df.head()"
   ]
  },
  {
   "cell_type": "code",
   "execution_count": null,
   "id": "b41b3851",
   "metadata": {},
   "outputs": [],
   "source": [
    "df.info()"
   ]
  },
  {
   "cell_type": "markdown",
   "id": "a475d8e8",
   "metadata": {},
   "source": [
    "### splitting data into three datafarames according to the match format\n",
    "### After label encoding ODI = '0', T20 = '1' and Test = '2'"
   ]
  },
  {
   "cell_type": "code",
   "execution_count": null,
   "id": "17fea2f0",
   "metadata": {},
   "outputs": [],
   "source": [
    "df_ODI = df[df['Match_format']==0]\n",
    "df_ODI.head()"
   ]
  },
  {
   "cell_type": "code",
   "execution_count": null,
   "id": "79efc295",
   "metadata": {},
   "outputs": [],
   "source": [
    "df_T20 = df[df['Match_format']==1]\n",
    "df_T20.head()"
   ]
  },
  {
   "cell_type": "code",
   "execution_count": null,
   "id": "46f74706",
   "metadata": {},
   "outputs": [],
   "source": [
    "df_Test = df[df['Match_format']==2]\n",
    "df_Test.head()"
   ]
  },
  {
   "cell_type": "markdown",
   "id": "d082009d",
   "metadata": {},
   "source": [
    "### We are creating individual models for each format\n",
    "### so there is no significance for Match_format variable. Therefore dropping them from respective data sets"
   ]
  },
  {
   "cell_type": "code",
   "execution_count": null,
   "id": "b6a13b7e",
   "metadata": {},
   "outputs": [],
   "source": [
    "temp_list = [df_ODI,df_T20,df_Test]\n",
    "for item in temp_list:\n",
    "    item.drop('Match_format',axis=1, inplace=True)\n",
    "    print(item.head())\n",
    "    print('\\n')"
   ]
  },
  {
   "cell_type": "code",
   "execution_count": null,
   "id": "84f74fff",
   "metadata": {},
   "outputs": [],
   "source": [
    "for item in temp_list:\n",
    "    print(item['Result'].value_counts(normalize=True))\n",
    "    print('\\n')    "
   ]
  },
  {
   "cell_type": "markdown",
   "id": "bb47b555",
   "metadata": {},
   "source": [
    "#### only ODI data set little unbalance data with ratios as 86% win and 13% loss"
   ]
  },
  {
   "cell_type": "code",
   "execution_count": null,
   "id": "15c9b5cd",
   "metadata": {},
   "outputs": [],
   "source": [
    "from sklearn.model_selection import train_test_split"
   ]
  },
  {
   "cell_type": "code",
   "execution_count": null,
   "id": "8c8b76e2",
   "metadata": {},
   "outputs": [],
   "source": [
    "X_ODI = df_ODI.drop('Result', axis=1, inplace=False)\n",
    "Y_ODI = df_ODI['Result']\n",
    "print(X_ODI.head())\n",
    "Y_ODI.head()"
   ]
  },
  {
   "cell_type": "code",
   "execution_count": null,
   "id": "229c5518",
   "metadata": {},
   "outputs": [],
   "source": [
    "X_T20 = df_T20.drop('Result', axis=1, inplace=False)\n",
    "Y_T20 = df_T20['Result']\n",
    "print(X_T20.head())\n",
    "Y_T20.head()"
   ]
  },
  {
   "cell_type": "code",
   "execution_count": null,
   "id": "9a6f6eb8",
   "metadata": {},
   "outputs": [],
   "source": [
    "X_Test = df_Test.drop('Result', axis=1, inplace=False)\n",
    "Y_Test = df_Test['Result']\n",
    "print(X_Test.head())\n",
    "Y_Test.head()"
   ]
  },
  {
   "cell_type": "markdown",
   "id": "ddcd07a6",
   "metadata": {},
   "source": [
    "#### Creating model for ODI format and splitting the data accordingly"
   ]
  },
  {
   "cell_type": "code",
   "execution_count": null,
   "id": "877faa00",
   "metadata": {},
   "outputs": [],
   "source": [
    "X = df.drop('Result',axis=1,inplace=False)\n",
    "Y = df['Result']\n",
    "print(X.head())\n",
    "Y.head()"
   ]
  },
  {
   "cell_type": "markdown",
   "id": "e35f4fa9",
   "metadata": {},
   "source": [
    "### Building model for ODI Format"
   ]
  },
  {
   "cell_type": "code",
   "execution_count": null,
   "id": "a516542f",
   "metadata": {},
   "outputs": [],
   "source": [
    "X_train, X_test, train_labels, test_labels = train_test_split(X_ODI, Y_ODI, test_size=.30, random_state=5)"
   ]
  },
  {
   "cell_type": "code",
   "execution_count": null,
   "id": "282f7234",
   "metadata": {},
   "outputs": [],
   "source": [
    "from sklearn import tree\n",
    "from sklearn.tree import DecisionTreeClassifier\n",
    "from sklearn.ensemble import RandomForestClassifier\n",
    "from sklearn.neural_network import MLPClassifier\n",
    "from sklearn.model_selection import train_test_split\n",
    "from sklearn.metrics import roc_auc_score,roc_curve,classification_report,confusion_matrix\n",
    "from sklearn.preprocessing import StandardScaler\n",
    "from sklearn.model_selection import GridSearchCV"
   ]
  },
  {
   "cell_type": "code",
   "execution_count": null,
   "id": "518923a8",
   "metadata": {},
   "outputs": [],
   "source": [
    "#Building a Decision Tree Classifier\n",
    "param_grid_dtcl = {\n",
    "    'criterion': ['gini'],\n",
    "    'max_depth': [10,20,30,50],\n",
    "    'min_samples_leaf': [50,100,150], \n",
    "    'min_samples_split': [150,300,450],\n",
    "}\n",
    "dtcl = DecisionTreeClassifier(random_state=1)\n",
    "\n",
    "grid_search_dtcl = GridSearchCV(estimator = dtcl, param_grid = param_grid_dtcl, cv = 10)"
   ]
  },
  {
   "cell_type": "code",
   "execution_count": null,
   "id": "d0cda920",
   "metadata": {},
   "outputs": [],
   "source": [
    "grid_search_dtcl.fit(X_train, train_labels)\n",
    "print(grid_search_dtcl.best_params_)\n",
    "best_grid_dtcl = grid_search_dtcl.best_estimator_\n",
    "best_grid_dtcl"
   ]
  },
  {
   "cell_type": "code",
   "execution_count": null,
   "id": "c4471a82",
   "metadata": {},
   "outputs": [],
   "source": [
    "param_grid_dtcl = {\n",
    "    'criterion': ['gini'],\n",
    "    'max_depth': [3.5,4.0,4.5, 5.0,5.5],\n",
    "    'min_samples_leaf': [40, 42, 44,46,48,50,52,54], \n",
    "    'min_samples_split': [250, 270, 280, 290, 300,310],\n",
    "}\n",
    "\n",
    "dtcl = DecisionTreeClassifier(random_state=1)\n",
    "\n",
    "grid_search_dtcl = GridSearchCV(estimator = dtcl, param_grid = param_grid_dtcl, cv = 10)"
   ]
  },
  {
   "cell_type": "code",
   "execution_count": null,
   "id": "bd3b9ae3",
   "metadata": {},
   "outputs": [],
   "source": [
    "grid_search_dtcl.fit(X_train, train_labels)\n",
    "print(grid_search_dtcl.best_params_)\n",
    "best_grid_dtcl = grid_search_dtcl.best_estimator_\n",
    "best_grid_dtcl"
   ]
  },
  {
   "cell_type": "code",
   "execution_count": null,
   "id": "b2a9ca87",
   "metadata": {},
   "outputs": [],
   "source": [
    "param_grid_dtcl = {\n",
    "    'criterion': ['gini'],\n",
    "    'max_depth': [4.85, 4.90,4.95, 5.0,5.05,5.10,5.15],\n",
    "    'min_samples_leaf': [40, 41, 42, 43, 44], \n",
    "    'min_samples_split': [150, 175, 200, 210, 220, 230, 240, 250, 260, 270],\n",
    "}\n",
    "\n",
    "dtcl = DecisionTreeClassifier(random_state=1)\n",
    "\n",
    "grid_search_dtcl = GridSearchCV(estimator = dtcl, param_grid = param_grid_dtcl, cv = 10)"
   ]
  },
  {
   "cell_type": "code",
   "execution_count": null,
   "id": "6ca5c330",
   "metadata": {},
   "outputs": [],
   "source": [
    "grid_search_dtcl.fit(X_train, train_labels)\n",
    "print(grid_search_dtcl.best_params_)\n",
    "best_grid_dtcl = grid_search_dtcl.best_estimator_\n",
    "best_grid_dtcl"
   ]
  },
  {
   "cell_type": "code",
   "execution_count": null,
   "id": "3e1fefdc",
   "metadata": {},
   "outputs": [],
   "source": [
    "train_char_label = ['no', 'yes']\n",
    "tree_regularized = open('tree_regularized.dot','w')\n",
    "dot_data = tree.export_graphviz(best_grid_dtcl, out_file= tree_regularized ,\n",
    "                                feature_names = list(X_train),\n",
    "                                class_names = list(train_char_label))\n",
    "\n",
    "tree_regularized.close()\n",
    "dot_data"
   ]
  },
  {
   "cell_type": "code",
   "execution_count": null,
   "id": "1f5646a8",
   "metadata": {},
   "outputs": [],
   "source": [
    "print (pd.DataFrame(best_grid_dtcl.feature_importances_, columns = [\"Imp\"], \n",
    "                    index = X_train.columns).sort_values('Imp',ascending=False))"
   ]
  },
  {
   "cell_type": "code",
   "execution_count": null,
   "id": "dd95d3e0",
   "metadata": {},
   "outputs": [],
   "source": [
    "#Predicting on Training and Test dataset\n",
    "ytrain_predict_dtcl = best_grid_dtcl.predict(X_train)\n",
    "ytest_predict_dtcl = best_grid_dtcl.predict(X_test)"
   ]
  },
  {
   "cell_type": "code",
   "execution_count": null,
   "id": "45c4d6b8",
   "metadata": {},
   "outputs": [],
   "source": [
    "ytest_predict_dtcl\n",
    "ytest_predict_prob_dtcl=best_grid_dtcl.predict_proba(X_test)\n",
    "ytest_predict_prob_dtcl\n",
    "pd.DataFrame(ytest_predict_prob_dtcl).head()"
   ]
  },
  {
   "cell_type": "markdown",
   "id": "c28670eb",
   "metadata": {},
   "source": [
    "### Building Random Forest Classifier"
   ]
  },
  {
   "cell_type": "code",
   "execution_count": null,
   "id": "5fb6e941",
   "metadata": {},
   "outputs": [],
   "source": [
    "param_grid_rfcl = {\n",
    "    'max_depth': [4,5],\n",
    "    'max_features': [2,3],\n",
    "    'min_samples_leaf': [8,9],\n",
    "    'min_samples_split': [46,50], \n",
    "    'n_estimators': [290]\n",
    "}\n",
    "\n",
    "rfcl = RandomForestClassifier(random_state=1)\n",
    "\n",
    "grid_search_rfcl = GridSearchCV(estimator = rfcl, param_grid = param_grid_rfcl)"
   ]
  },
  {
   "cell_type": "code",
   "execution_count": null,
   "id": "5bbe18f6",
   "metadata": {},
   "outputs": [],
   "source": [
    "grid_search_rfcl.fit(X_train, train_labels)\n",
    "print(grid_search_rfcl.best_params_)\n",
    "best_grid_rfcl = grid_search_rfcl.best_estimator_\n",
    "best_grid_rfcl"
   ]
  },
  {
   "cell_type": "code",
   "execution_count": null,
   "id": "b7bd6ed6",
   "metadata": {},
   "outputs": [],
   "source": [
    "#Predicting the Training and Testing data\n",
    "ytrain_predict_rfcl = best_grid_rfcl.predict(X_train)\n",
    "ytest_predict_rfcl = best_grid_rfcl.predict(X_test)"
   ]
  },
  {
   "cell_type": "code",
   "execution_count": null,
   "id": "0005842e",
   "metadata": {},
   "outputs": [],
   "source": [
    "#Getting the Predicted Classes and Probs\n",
    "ytest_predict_rfcl\n",
    "ytest_predict_prob_rfcl=best_grid_rfcl.predict_proba(X_test)\n",
    "ytest_predict_prob_rfcl\n",
    "pd.DataFrame(ytest_predict_prob_rfcl).head()"
   ]
  },
  {
   "cell_type": "code",
   "execution_count": null,
   "id": "509d06c4",
   "metadata": {},
   "outputs": [],
   "source": [
    "#Feature Importance via RF\n",
    "print (pd.DataFrame(best_grid_rfcl.feature_importances_, \n",
    "                    columns = [\"Imp\"], \n",
    "                    index = X_train.columns).sort_values('Imp',ascending=False))"
   ]
  },
  {
   "cell_type": "markdown",
   "id": "8b89000b",
   "metadata": {},
   "source": [
    "### Building a Neural Network Classifier"
   ]
  },
  {
   "cell_type": "code",
   "execution_count": null,
   "id": "56fceee1",
   "metadata": {},
   "outputs": [],
   "source": [
    "\n",
    "param_grid_nncl = {\n",
    "    'hidden_layer_sizes': [50,100,200],\n",
    "    'max_iter': [2500,3000,4000],\n",
    "    'solver': ['adam'],\n",
    "    'tol': [0.01], \n",
    "}\n",
    "\n",
    "nncl = MLPClassifier(random_state=1)\n",
    "\n",
    "grid_search_nncl = GridSearchCV(estimator = nncl, param_grid = param_grid_nncl, cv = 10)"
   ]
  },
  {
   "cell_type": "code",
   "execution_count": null,
   "id": "c252f961",
   "metadata": {},
   "outputs": [],
   "source": [
    "grid_search_nncl.fit(X_train, train_labels)\n",
    "grid_search_nncl.best_params_\n",
    "best_grid_nncl = grid_search_nncl.best_estimator_\n",
    "best_grid_nncl"
   ]
  },
  {
   "cell_type": "code",
   "execution_count": null,
   "id": "8c72a196",
   "metadata": {},
   "outputs": [],
   "source": [
    "#Predicting the Training and Testing data\n",
    "ytrain_predict_nncl = best_grid_nncl.predict(X_train)\n",
    "ytest_predict_nncl = best_grid_nncl.predict(X_test)"
   ]
  },
  {
   "cell_type": "code",
   "execution_count": null,
   "id": "aec9e91f",
   "metadata": {},
   "outputs": [],
   "source": [
    "#Getting the Predicted Classes and Probs\n",
    "ytest_predict_nncl\n",
    "ytest_predict_prob_nncl=best_grid_nncl.predict_proba(X_test)\n",
    "ytest_predict_prob_nncl\n",
    "pd.DataFrame(ytest_predict_prob_nncl).head()"
   ]
  },
  {
   "cell_type": "markdown",
   "id": "de9a5ff9",
   "metadata": {},
   "source": [
    "### CART - AUC and ROC for the training data"
   ]
  },
  {
   "cell_type": "code",
   "execution_count": null,
   "id": "7e8f600a",
   "metadata": {},
   "outputs": [],
   "source": [
    "probs_cart = best_grid_dtcl.predict_proba(X_train)\n",
    "# keep probabilities for the positive outcome only\n",
    "probs_cart = probs_cart[:, 1]\n",
    "# calculate AUC\n",
    "cart_train_auc = roc_auc_score(train_labels, probs_cart)\n",
    "print('AUC: %.3f' % cart_train_auc)\n",
    "# calculate roc curve\n",
    "cart_train_fpr, cart_train_tpr, cart_train_thresholds = roc_curve(train_labels, probs_cart)\n",
    "plt.plot([0, 1], [0, 1], linestyle='--')\n",
    "# plot the roc curve for the model\n",
    "plt.plot(cart_train_fpr, cart_train_tpr)"
   ]
  },
  {
   "cell_type": "code",
   "execution_count": null,
   "id": "4d23edc2",
   "metadata": {},
   "outputs": [],
   "source": [
    "probs_cart = best_grid_dtcl.predict_proba(X_test)\n",
    "# keep probabilities for the positive outcome only\n",
    "probs_cart = probs_cart[:, 1]\n",
    "# calculate AUC\n",
    "cart_test_auc = roc_auc_score(test_labels, probs_cart)\n",
    "print('AUC: %.3f' % cart_test_auc)\n",
    "# calculate roc curve\n",
    "cart_test_fpr, cart_test_tpr, cart_testthresholds = roc_curve(test_labels, probs_cart)\n",
    "plt.plot([0, 1], [0, 1], linestyle='--')\n",
    "# plot the roc curve for the model\n",
    "plt.plot(cart_test_fpr, cart_test_tpr)"
   ]
  },
  {
   "cell_type": "code",
   "execution_count": null,
   "id": "0b181773",
   "metadata": {},
   "outputs": [],
   "source": [
    "confusion_matrix(train_labels, ytrain_predict_dtcl)"
   ]
  },
  {
   "cell_type": "code",
   "execution_count": null,
   "id": "afcff5fa",
   "metadata": {},
   "outputs": [],
   "source": [
    "#Train Data Accuracy\n",
    "cart_train_acc=best_grid_dtcl.score(X_train,train_labels) \n",
    "cart_train_acc"
   ]
  },
  {
   "cell_type": "code",
   "execution_count": null,
   "id": "c1840433",
   "metadata": {},
   "outputs": [],
   "source": [
    "print(classification_report(train_labels, ytrain_predict_dtcl))"
   ]
  },
  {
   "cell_type": "code",
   "execution_count": null,
   "id": "990e61c4",
   "metadata": {},
   "outputs": [],
   "source": [
    "cart_metrics=classification_report(train_labels, ytrain_predict_dtcl,output_dict=True)\n",
    "df=pd.DataFrame(cart_metrics).transpose()\n",
    "cart_train_f1=round(df.loc[\"1\"][2],2)\n",
    "cart_train_recall=round(df.loc[\"1\"][1],2)\n",
    "cart_train_precision=round(df.loc[\"1\"][0],2)\n",
    "print ('cart_train_precision ',cart_train_precision)\n",
    "print ('cart_train_recall ',cart_train_recall)\n",
    "print ('cart_train_f1 ',cart_train_f1)"
   ]
  },
  {
   "cell_type": "markdown",
   "id": "bed41efd",
   "metadata": {},
   "source": [
    "### CART Confusion Matrix and Classification Report for the testing data"
   ]
  },
  {
   "cell_type": "code",
   "execution_count": null,
   "id": "f2b20ebc",
   "metadata": {},
   "outputs": [],
   "source": [
    "confusion_matrix(test_labels, ytest_predict_dtcl)"
   ]
  },
  {
   "cell_type": "code",
   "execution_count": null,
   "id": "38b659ba",
   "metadata": {},
   "outputs": [],
   "source": [
    "#Test Data Accuracy\n",
    "cart_test_acc=best_grid_dtcl.score(X_test,test_labels)\n",
    "cart_test_acc"
   ]
  },
  {
   "cell_type": "code",
   "execution_count": null,
   "id": "af38db32",
   "metadata": {},
   "outputs": [],
   "source": [
    "print(classification_report(test_labels, ytest_predict_dtcl))"
   ]
  },
  {
   "cell_type": "code",
   "execution_count": null,
   "id": "57b36d7d",
   "metadata": {},
   "outputs": [],
   "source": [
    "cart_metrics=classification_report(test_labels, ytest_predict_dtcl,output_dict=True)\n",
    "df=pd.DataFrame(cart_metrics).transpose()\n",
    "cart_test_precision=round(df.loc[\"1\"][0],2)\n",
    "cart_test_recall=round(df.loc[\"1\"][1],2)\n",
    "cart_test_f1=round(df.loc[\"1\"][2],2)\n",
    "print ('cart_test_precision ',cart_test_precision)\n",
    "print ('cart_test_recall ',cart_test_recall)\n",
    "print ('cart_test_f1 ',cart_test_f1)"
   ]
  },
  {
   "cell_type": "markdown",
   "id": "ba8bc7b7",
   "metadata": {},
   "source": [
    "### RF Model Performance Evaluation on Training data"
   ]
  },
  {
   "cell_type": "code",
   "execution_count": null,
   "id": "3e77de0f",
   "metadata": {},
   "outputs": [],
   "source": [
    "confusion_matrix(train_labels,ytrain_predict_rfcl)"
   ]
  },
  {
   "cell_type": "code",
   "execution_count": null,
   "id": "46c6b758",
   "metadata": {},
   "outputs": [],
   "source": [
    "rf_train_acc=best_grid_rfcl.score(X_train,train_labels) \n",
    "rf_train_acc"
   ]
  },
  {
   "cell_type": "code",
   "execution_count": null,
   "id": "18018627",
   "metadata": {},
   "outputs": [],
   "source": [
    "print(classification_report(train_labels,ytrain_predict_rfcl))"
   ]
  },
  {
   "cell_type": "code",
   "execution_count": null,
   "id": "44aeff16",
   "metadata": {},
   "outputs": [],
   "source": [
    "rf_metrics=classification_report(train_labels, ytrain_predict_rfcl,output_dict=True)\n",
    "df=pd.DataFrame(rf_metrics).transpose()\n",
    "rf_train_precision=round(df.loc[\"1\"][0],2)\n",
    "rf_train_recall=round(df.loc[\"1\"][1],2)\n",
    "rf_train_f1=round(df.loc[\"1\"][2],2)\n",
    "print ('rf_train_precision ',rf_train_precision)\n",
    "print ('rf_train_recall ',rf_train_recall)\n",
    "print ('rf_train_f1 ',rf_train_f1)"
   ]
  },
  {
   "cell_type": "code",
   "execution_count": null,
   "id": "47b0c9bb",
   "metadata": {},
   "outputs": [],
   "source": [
    "rf_train_fpr, rf_train_tpr,_=roc_curve(train_labels,best_grid_rfcl.predict_proba(X_train)[:,1])\n",
    "plt.plot(rf_train_fpr,rf_train_tpr,color='green')\n",
    "plt.plot([0, 1], [0, 1], linestyle='--')\n",
    "plt.xlabel('False Positive Rate')\n",
    "plt.ylabel('True Positive Rate')\n",
    "plt.title('ROC')\n",
    "rf_train_auc=roc_auc_score(train_labels,best_grid_rfcl.predict_proba(X_train)[:,1])\n",
    "print('Area under Curve is', rf_train_auc)"
   ]
  },
  {
   "cell_type": "markdown",
   "id": "f25c2c85",
   "metadata": {},
   "source": [
    "#### RF Model Performance Evaluation on Test data"
   ]
  },
  {
   "cell_type": "code",
   "execution_count": null,
   "id": "d697976c",
   "metadata": {},
   "outputs": [],
   "source": [
    "confusion_matrix(test_labels,ytest_predict_rfcl)"
   ]
  },
  {
   "cell_type": "code",
   "execution_count": null,
   "id": "5b6a41d3",
   "metadata": {},
   "outputs": [],
   "source": [
    "rf_test_acc=best_grid_rfcl.score(X_test,test_labels)\n",
    "rf_test_acc"
   ]
  },
  {
   "cell_type": "code",
   "execution_count": null,
   "id": "b18cbaff",
   "metadata": {},
   "outputs": [],
   "source": [
    "print(classification_report(test_labels,ytest_predict_rfcl))"
   ]
  },
  {
   "cell_type": "code",
   "execution_count": null,
   "id": "f5f1debd",
   "metadata": {},
   "outputs": [],
   "source": [
    "rf_metrics=classification_report(test_labels, ytest_predict_rfcl,output_dict=True)\n",
    "df=pd.DataFrame(rf_metrics).transpose()\n",
    "rf_test_precision=round(df.loc[\"1\"][0],2)\n",
    "rf_test_recall=round(df.loc[\"1\"][1],2)\n",
    "rf_test_f1=round(df.loc[\"1\"][2],2)\n",
    "print ('rf_test_precision ',rf_test_precision)\n",
    "print ('rf_test_recall ',rf_test_recall)\n",
    "print ('rf_test_f1 ',rf_test_f1)"
   ]
  },
  {
   "cell_type": "code",
   "execution_count": null,
   "id": "df9653af",
   "metadata": {},
   "outputs": [],
   "source": [
    "rf_test_fpr, rf_test_tpr,_=roc_curve(test_labels,best_grid_rfcl.predict_proba(X_test)[:,1])\n",
    "plt.plot(rf_test_fpr,rf_test_tpr,color='green')\n",
    "plt.plot([0, 1], [0, 1], linestyle='--')\n",
    "plt.xlabel('False Positive Rate')\n",
    "plt.ylabel('True Positive Rate')\n",
    "plt.title('ROC')\n",
    "rf_test_auc=roc_auc_score(test_labels,best_grid_rfcl.predict_proba(X_test)[:,1])\n",
    "print('Area under Curve is', rf_test_auc)"
   ]
  },
  {
   "cell_type": "markdown",
   "id": "3e5ec511",
   "metadata": {},
   "source": [
    "### NN Model Performance Evaluation on Training data"
   ]
  },
  {
   "cell_type": "code",
   "execution_count": null,
   "id": "3a048b2b",
   "metadata": {},
   "outputs": [],
   "source": [
    "confusion_matrix(train_labels,ytrain_predict_nncl)"
   ]
  },
  {
   "cell_type": "code",
   "execution_count": null,
   "id": "aa2870f4",
   "metadata": {},
   "outputs": [],
   "source": [
    "nn_train_acc=best_grid_nncl.score(X_train,train_labels) \n",
    "nn_train_acc"
   ]
  },
  {
   "cell_type": "code",
   "execution_count": null,
   "id": "ef2971be",
   "metadata": {},
   "outputs": [],
   "source": [
    "print(classification_report(train_labels,ytrain_predict_nncl))"
   ]
  },
  {
   "cell_type": "code",
   "execution_count": null,
   "id": "8febc053",
   "metadata": {},
   "outputs": [],
   "source": [
    "nn_metrics=classification_report(train_labels, ytrain_predict_nncl,output_dict=True)\n",
    "df=pd.DataFrame(nn_metrics).transpose()\n",
    "nn_train_precision=round(df.loc[\"1\"][0],2)\n",
    "nn_train_recall=round(df.loc[\"1\"][1],2)\n",
    "nn_train_f1=round(df.loc[\"1\"][2],2)\n",
    "print ('nn_train_precision ',nn_train_precision)\n",
    "print ('nn_train_recall ',nn_train_recall)\n",
    "print ('nn_train_f1 ',nn_train_f1)"
   ]
  },
  {
   "cell_type": "code",
   "execution_count": null,
   "id": "3cf292be",
   "metadata": {},
   "outputs": [],
   "source": [
    "nn_train_fpr, nn_train_tpr,_=roc_curve(train_labels,best_grid_nncl.predict_proba(X_train)[:,1])\n",
    "plt.plot(nn_train_fpr,nn_train_tpr,color='black')\n",
    "plt.plot([0, 1], [0, 1], linestyle='--')\n",
    "plt.xlabel('False Positive Rate')\n",
    "plt.ylabel('True Positive Rate')\n",
    "plt.title('ROC')\n",
    "nn_train_auc=roc_auc_score(train_labels,best_grid_nncl.predict_proba(X_train)[:,1])\n",
    "print('Area under Curve is', nn_train_auc)"
   ]
  },
  {
   "cell_type": "markdown",
   "id": "c12ee3ed",
   "metadata": {},
   "source": [
    "### NN Model Performance Evaluation on Test data"
   ]
  },
  {
   "cell_type": "code",
   "execution_count": null,
   "id": "2311928e",
   "metadata": {},
   "outputs": [],
   "source": [
    "confusion_matrix(test_labels,ytest_predict_nncl)"
   ]
  },
  {
   "cell_type": "code",
   "execution_count": null,
   "id": "4ef66649",
   "metadata": {},
   "outputs": [],
   "source": [
    "nn_test_acc=best_grid_nncl.score(X_test,test_labels)\n",
    "nn_test_acc"
   ]
  },
  {
   "cell_type": "code",
   "execution_count": null,
   "id": "64fcbed1",
   "metadata": {},
   "outputs": [],
   "source": [
    "print(classification_report(test_labels,ytest_predict_nncl))"
   ]
  },
  {
   "cell_type": "code",
   "execution_count": null,
   "id": "c79dacfb",
   "metadata": {},
   "outputs": [],
   "source": [
    "nn_metrics=classification_report(test_labels, ytest_predict_nncl,output_dict=True)\n",
    "df=pd.DataFrame(nn_metrics).transpose()\n",
    "nn_test_precision=round(df.loc[\"1\"][0],2)\n",
    "nn_test_recall=round(df.loc[\"1\"][1],2)\n",
    "nn_test_f1=round(df.loc[\"1\"][2],2)\n",
    "print ('nn_test_precision ',nn_test_precision)\n",
    "print ('nn_test_recall ',nn_test_recall)\n",
    "print ('nn_test_f1 ',nn_test_f1)"
   ]
  },
  {
   "cell_type": "code",
   "execution_count": null,
   "id": "5dfb18fe",
   "metadata": {},
   "outputs": [],
   "source": [
    "nn_test_fpr, nn_test_tpr,_=roc_curve(test_labels,best_grid_nncl.predict_proba(X_test)[:,1])\n",
    "plt.plot(nn_test_fpr,nn_test_tpr,color='black')\n",
    "plt.plot([0, 1], [0, 1], linestyle='--')\n",
    "plt.xlabel('False Positive Rate')\n",
    "plt.ylabel('True Positive Rate')\n",
    "plt.title('ROC')\n",
    "nn_test_auc=roc_auc_score(test_labels,best_grid_nncl.predict_proba(X_test)[:,1])\n",
    "print('Area under Curve is', nn_test_auc)"
   ]
  },
  {
   "cell_type": "markdown",
   "id": "860a16b8",
   "metadata": {},
   "source": [
    "#### Logistic Regression using sklearn library"
   ]
  },
  {
   "cell_type": "code",
   "execution_count": null,
   "id": "f0ef0823",
   "metadata": {},
   "outputs": [],
   "source": [
    "grid={'penalty':['elasticnet','l2','none'],\n",
    "      'solver':['newton-cg', 'saga'],\n",
    "      'tol':[0.001,0.00001]}"
   ]
  },
  {
   "cell_type": "code",
   "execution_count": null,
   "id": "01dafefe",
   "metadata": {},
   "outputs": [],
   "source": [
    "from sklearn.linear_model import LogisticRegression\n",
    "log_model = LogisticRegression(max_iter=100000,n_jobs=1)"
   ]
  },
  {
   "cell_type": "code",
   "execution_count": null,
   "id": "0a6f8dc8",
   "metadata": {},
   "outputs": [],
   "source": [
    "from sklearn.model_selection import GridSearchCV\n",
    "grid_search = GridSearchCV(estimator = log_model, param_grid = grid, cv = 3,n_jobs=1,scoring='f1')"
   ]
  },
  {
   "cell_type": "code",
   "execution_count": null,
   "id": "f1ce4a31",
   "metadata": {
    "scrolled": true
   },
   "outputs": [],
   "source": [
    "grid_search.fit(X_train, train_labels)"
   ]
  },
  {
   "cell_type": "code",
   "execution_count": null,
   "id": "69acd902",
   "metadata": {},
   "outputs": [],
   "source": [
    "print(grid_search.best_params_,'\\n')\n",
    "print(grid_search.best_estimator_)"
   ]
  },
  {
   "cell_type": "code",
   "execution_count": null,
   "id": "56a3ed56",
   "metadata": {},
   "outputs": [],
   "source": [
    "best_model = grid_search.best_estimator_"
   ]
  },
  {
   "cell_type": "code",
   "execution_count": null,
   "id": "7e44c1e7",
   "metadata": {},
   "outputs": [],
   "source": [
    "ytrain_predict = best_model.predict(X_train)\n",
    "ytest_predict = best_model.predict(X_test)"
   ]
  },
  {
   "cell_type": "code",
   "execution_count": null,
   "id": "ff030983",
   "metadata": {},
   "outputs": [],
   "source": [
    "ytest_predict_prob=best_model.predict_proba(X_test)"
   ]
  },
  {
   "cell_type": "code",
   "execution_count": null,
   "id": "13270b4d",
   "metadata": {},
   "outputs": [],
   "source": [
    "from sklearn.metrics import roc_auc_score, roc_curve, classification_report, confusion_matrix, plot_confusion_matrix\n",
    "plot_confusion_matrix(best_model,X_train,train_labels)\n",
    "print(classification_report(train_labels, ytrain_predict),'\\n');"
   ]
  },
  {
   "cell_type": "code",
   "execution_count": null,
   "id": "d4552acb",
   "metadata": {},
   "outputs": [],
   "source": [
    "plot_confusion_matrix(best_model,X_test,test_labels)\n",
    "print(classification_report(test_labels, ytest_predict),'\\n');"
   ]
  },
  {
   "cell_type": "code",
   "execution_count": null,
   "id": "a5bc33dd",
   "metadata": {},
   "outputs": [],
   "source": [
    "acc_score = best_model.score(X_train, train_labels)\n",
    "acc_score"
   ]
  },
  {
   "cell_type": "code",
   "execution_count": null,
   "id": "462386fc",
   "metadata": {},
   "outputs": [],
   "source": [
    "probs = best_model.predict_proba(X_train)\n",
    "probs = probs[:, 1]\n",
    "\n",
    "auc_train = roc_auc_score(train_labels, probs)\n",
    "print('AUC:', auc_train)\n",
    "\n",
    "train_fpr, train_tpr, train_thresholds = roc_curve(train_labels, probs)\n",
    "plt.plot([0, 1], [0, 1], linestyle='solid')\n",
    "\n",
    "plt.plot(train_fpr, train_tpr);"
   ]
  },
  {
   "cell_type": "code",
   "execution_count": null,
   "id": "0027f97e",
   "metadata": {},
   "outputs": [],
   "source": [
    "acc_score_test = best_model.score(X_test, test_labels)\n",
    "acc_score_test"
   ]
  },
  {
   "cell_type": "code",
   "execution_count": null,
   "id": "3470718d",
   "metadata": {},
   "outputs": [],
   "source": [
    "probs = best_model.predict_proba(X_test)\n",
    "probs = probs[:, 1]\n",
    "\n",
    "auc_test = roc_auc_score(test_labels, probs)\n",
    "print('AUC:', auc_test)\n",
    "\n",
    "test_fpr, test_tpr, test_thresholds = roc_curve(test_labels, probs)\n",
    "plt.plot([0, 1], [0, 1], linestyle='solid')\n",
    "\n",
    "plt.plot(test_fpr, test_tpr);"
   ]
  },
  {
   "cell_type": "code",
   "execution_count": null,
   "id": "e0432878",
   "metadata": {},
   "outputs": [],
   "source": [
    "best_model.intercept_"
   ]
  },
  {
   "cell_type": "markdown",
   "id": "e805ff6e",
   "metadata": {},
   "source": [
    "### Building logistic model using stats method"
   ]
  },
  {
   "cell_type": "code",
   "execution_count": null,
   "id": "9b858c82",
   "metadata": {},
   "outputs": [],
   "source": [
    "df_new.info()"
   ]
  },
  {
   "cell_type": "markdown",
   "id": "2e24e9eb",
   "metadata": {},
   "source": [
    "### One hot encoding for the data set"
   ]
  },
  {
   "cell_type": "code",
   "execution_count": null,
   "id": "3191fa47",
   "metadata": {},
   "outputs": [],
   "source": [
    "df1 = df_new.copy()\n",
    "df1.head()"
   ]
  },
  {
   "cell_type": "code",
   "execution_count": null,
   "id": "92e98d19",
   "metadata": {},
   "outputs": [],
   "source": []
  },
  {
   "cell_type": "markdown",
   "id": "78cc0c24",
   "metadata": {},
   "source": [
    "### extracting ODI Match format for logit regression"
   ]
  },
  {
   "cell_type": "code",
   "execution_count": null,
   "id": "fd9c33a8",
   "metadata": {},
   "outputs": [],
   "source": [
    "df1_model = df1[df1['Match_format']=='ODI']\n",
    "df1_model.head()"
   ]
  },
  {
   "cell_type": "markdown",
   "id": "f9114eff",
   "metadata": {},
   "source": [
    "### Since we have seperated Match format, no siginificance for 'Mactch_Format' variable"
   ]
  },
  {
   "cell_type": "code",
   "execution_count": null,
   "id": "b14a756d",
   "metadata": {},
   "outputs": [],
   "source": [
    "df1_model.drop('Match_format',axis=1, inplace=True)"
   ]
  },
  {
   "cell_type": "code",
   "execution_count": null,
   "id": "a0aa808e",
   "metadata": {},
   "outputs": [],
   "source": [
    "df1_model.info()"
   ]
  },
  {
   "cell_type": "code",
   "execution_count": null,
   "id": "9a03a611",
   "metadata": {},
   "outputs": [],
   "source": [
    "df1_model = pd.get_dummies(df1_model,columns=None,drop_first = True)\n",
    "df1_model.head()"
   ]
  },
  {
   "cell_type": "code",
   "execution_count": null,
   "id": "e7e9bba4",
   "metadata": {},
   "outputs": [],
   "source": [
    "df1_model.info()"
   ]
  },
  {
   "cell_type": "code",
   "execution_count": null,
   "id": "362dc87c",
   "metadata": {},
   "outputs": [],
   "source": [
    "X=df1_model.drop('Result_Win', axis=1)\n",
    "Y = df1_model['Result_Win']"
   ]
  },
  {
   "cell_type": "code",
   "execution_count": null,
   "id": "38dd2e80",
   "metadata": {},
   "outputs": [],
   "source": [
    "from statsmodels.sandbox.regression.predstd import wls_prediction_std\n",
    "X = sm.add_constant(X)"
   ]
  },
  {
   "cell_type": "code",
   "execution_count": null,
   "id": "2bf2c67f",
   "metadata": {},
   "outputs": [],
   "source": [
    "import statsmodels.api as sm\n",
    "logit_model = sm.Logit(Y,X)\n",
    "result=logit_model.fit()\n",
    "print(result.summary2())\n",
    "print(result.params)"
   ]
  },
  {
   "cell_type": "markdown",
   "id": "1e1cc941",
   "metadata": {},
   "source": [
    "### One hot encoding + Sklearn"
   ]
  },
  {
   "cell_type": "code",
   "execution_count": null,
   "id": "beb390fb",
   "metadata": {},
   "outputs": [],
   "source": [
    "grid={'penalty':['elasticnet','l2','none'],\n",
    "      'solver':['newton-cg', 'saga'],\n",
    "      'tol':[0.001,0.00001]}"
   ]
  },
  {
   "cell_type": "code",
   "execution_count": null,
   "id": "fc6433c6",
   "metadata": {},
   "outputs": [],
   "source": [
    "from sklearn.linear_model import LogisticRegression\n",
    "log_model = LogisticRegression(max_iter=100000,n_jobs=1)"
   ]
  },
  {
   "cell_type": "code",
   "execution_count": null,
   "id": "e34e236b",
   "metadata": {},
   "outputs": [],
   "source": [
    "from sklearn.model_selection import GridSearchCV\n",
    "grid_search = GridSearchCV(estimator = log_model, param_grid = grid, cv = 3,n_jobs=1,scoring='f1')"
   ]
  },
  {
   "cell_type": "code",
   "execution_count": null,
   "id": "301a30fa",
   "metadata": {},
   "outputs": [],
   "source": [
    "X_ODI =df1_model.drop('Result_Win', axis=1)\n",
    "Y_ODI = df1_model['Result_Win']"
   ]
  },
  {
   "cell_type": "code",
   "execution_count": null,
   "id": "085bbf9f",
   "metadata": {},
   "outputs": [],
   "source": [
    "X_train, X_test, train_labels, test_labels = train_test_split(X_ODI, Y_ODI, test_size=.30, random_state=5)"
   ]
  },
  {
   "cell_type": "code",
   "execution_count": null,
   "id": "0fdfed7f",
   "metadata": {},
   "outputs": [],
   "source": [
    "grid_search.fit(X_train, train_labels)"
   ]
  },
  {
   "cell_type": "code",
   "execution_count": null,
   "id": "7989a427",
   "metadata": {},
   "outputs": [],
   "source": [
    "print(grid_search.best_params_,'\\n')\n",
    "print(grid_search.best_estimator_)"
   ]
  },
  {
   "cell_type": "code",
   "execution_count": null,
   "id": "cd0b6b4e",
   "metadata": {},
   "outputs": [],
   "source": [
    "best_model = grid_search.best_estimator_"
   ]
  },
  {
   "cell_type": "code",
   "execution_count": null,
   "id": "cc2b52d2",
   "metadata": {},
   "outputs": [],
   "source": [
    "ytrain_predict = best_model.predict(X_train)\n",
    "ytest_predict = best_model.predict(X_test)"
   ]
  },
  {
   "cell_type": "code",
   "execution_count": null,
   "id": "7283f34c",
   "metadata": {},
   "outputs": [],
   "source": [
    "ytest_predict_prob=best_model.predict_proba(X_test)"
   ]
  },
  {
   "cell_type": "code",
   "execution_count": null,
   "id": "0ef5e875",
   "metadata": {},
   "outputs": [],
   "source": [
    "from sklearn.metrics import roc_auc_score, roc_curve, classification_report, confusion_matrix, plot_confusion_matrix\n",
    "plot_confusion_matrix(best_model,X_train,train_labels)\n",
    "print(classification_report(train_labels, ytrain_predict),'\\n');"
   ]
  },
  {
   "cell_type": "code",
   "execution_count": null,
   "id": "7c8745f9",
   "metadata": {},
   "outputs": [],
   "source": [
    "plot_confusion_matrix(best_model,X_test,test_labels)\n",
    "print(classification_report(test_labels, ytest_predict),'\\n');"
   ]
  },
  {
   "cell_type": "code",
   "execution_count": null,
   "id": "d67b4471",
   "metadata": {},
   "outputs": [],
   "source": [
    "acc_score = best_model.score(X_train, train_labels)\n",
    "acc_score"
   ]
  },
  {
   "cell_type": "code",
   "execution_count": null,
   "id": "c834844a",
   "metadata": {},
   "outputs": [],
   "source": [
    "probs = best_model.predict_proba(X_train)\n",
    "probs = probs[:, 1]\n",
    "\n",
    "auc_train = roc_auc_score(train_labels, probs)\n",
    "print('AUC:', auc_train)\n",
    "\n",
    "train_fpr, train_tpr, train_thresholds = roc_curve(train_labels, probs)\n",
    "plt.plot([0, 1], [0, 1], linestyle='solid')\n",
    "\n",
    "plt.plot(train_fpr, train_tpr);"
   ]
  },
  {
   "cell_type": "code",
   "execution_count": null,
   "id": "a99fec23",
   "metadata": {},
   "outputs": [],
   "source": [
    "acc_score_test = best_model.score(X_test, test_labels)\n",
    "acc_score_test"
   ]
  },
  {
   "cell_type": "code",
   "execution_count": null,
   "id": "7caa651c",
   "metadata": {},
   "outputs": [],
   "source": [
    "probs = best_model.predict_proba(X_test)\n",
    "probs = probs[:, 1]\n",
    "\n",
    "auc_test = roc_auc_score(test_labels, probs)\n",
    "print('AUC:', auc_test)\n",
    "\n",
    "test_fpr, test_tpr, test_thresholds = roc_curve(test_labels, probs)\n",
    "plt.plot([0, 1], [0, 1], linestyle='solid')\n",
    "\n",
    "plt.plot(test_fpr, test_tpr);"
   ]
  },
  {
   "cell_type": "code",
   "execution_count": null,
   "id": "3fa9dcbe",
   "metadata": {},
   "outputs": [],
   "source": []
  },
  {
   "cell_type": "code",
   "execution_count": null,
   "id": "866e4d23",
   "metadata": {},
   "outputs": [],
   "source": []
  },
  {
   "cell_type": "code",
   "execution_count": null,
   "id": "c7e6099d",
   "metadata": {},
   "outputs": [],
   "source": []
  },
  {
   "cell_type": "code",
   "execution_count": null,
   "id": "9756ba31",
   "metadata": {},
   "outputs": [],
   "source": [
    "#for idx, col_name in enumerate(X_train_rfe.columns):\n",
    "#    print(\"The coefficient for {} is {}\".format(col_name, lm_model.coef_[idx]))"
   ]
  }
 ],
 "metadata": {
  "kernelspec": {
   "display_name": "Python 3 (ipykernel)",
   "language": "python",
   "name": "python3"
  },
  "language_info": {
   "codemirror_mode": {
    "name": "ipython",
    "version": 3
   },
   "file_extension": ".py",
   "mimetype": "text/x-python",
   "name": "python",
   "nbconvert_exporter": "python",
   "pygments_lexer": "ipython3",
   "version": "3.9.7"
  }
 },
 "nbformat": 4,
 "nbformat_minor": 5
}
