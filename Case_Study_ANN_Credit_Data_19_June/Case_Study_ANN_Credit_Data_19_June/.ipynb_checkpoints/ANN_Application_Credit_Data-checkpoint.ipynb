{
 "cells": [
  {
   "cell_type": "markdown",
   "metadata": {
    "id": "956uh1DQabns"
   },
   "source": [
    "# **Load Packages**\n",
    "\n"
   ]
  },
  {
   "cell_type": "code",
   "execution_count": null,
   "metadata": {
    "id": "OUrckk_HZ25i"
   },
   "outputs": [],
   "source": [
    "# Ignore the warnings\n",
    "import warnings\n",
    "warnings.filterwarnings('ignore')\n",
    "\n",
    "import numpy as np\n",
    "from numpy import expand_dims\n",
    "import pandas as pd\n",
    "import matplotlib.pyplot as plt\n",
    "import seaborn as sns\n",
    "\n",
    "from sklearn.model_selection import train_test_split\n",
    "from sklearn.metrics import accuracy_score,confusion_matrix, classification_report\n",
    "from sklearn.preprocessing import StandardScaler, MinMaxScaler\n",
    "from sklearn.datasets import load_digits\n",
    "\n",
    "from keras.layers import Dense,Activation\n",
    "from keras.models import Sequential\n",
    "from keras.optimizers import Adam, SGD"
   ]
  },
  {
   "cell_type": "markdown",
   "metadata": {
    "id": "eW6NKrpNau4A"
   },
   "source": [
    "# **Load Dataset**"
   ]
  },
  {
   "cell_type": "code",
   "execution_count": null,
   "metadata": {
    "colab": {
     "base_uri": "https://localhost:8080/",
     "height": 223
    },
    "executionInfo": {
     "elapsed": 514,
     "status": "ok",
     "timestamp": 1623975964737,
     "user": {
      "displayName": "Aniket Chhabra",
      "photoUrl": "https://lh3.googleusercontent.com/a-/AOh14Gh4750K16oah3CCSd7jmNjyHr23ob4sQFELlC0o=s64",
      "userId": "13194987590931587864"
     },
     "user_tz": -330
    },
    "id": "xfW8P1bYaaoG",
    "outputId": "b3de9af7-647d-4b3c-c5bf-a2e9bfd9064f"
   },
   "outputs": [
    {
     "data": {
      "text/html": [
       "<div>\n",
       "<style scoped>\n",
       "    .dataframe tbody tr th:only-of-type {\n",
       "        vertical-align: middle;\n",
       "    }\n",
       "\n",
       "    .dataframe tbody tr th {\n",
       "        vertical-align: top;\n",
       "    }\n",
       "\n",
       "    .dataframe thead th {\n",
       "        text-align: right;\n",
       "    }\n",
       "</style>\n",
       "<table border=\"1\" class=\"dataframe\">\n",
       "  <thead>\n",
       "    <tr style=\"text-align: right;\">\n",
       "      <th></th>\n",
       "      <th>Status_of_existing_checking_account</th>\n",
       "      <th>Duration_in_month</th>\n",
       "      <th>Credit_history</th>\n",
       "      <th>Purpose</th>\n",
       "      <th>Credit_amount</th>\n",
       "      <th>Savings_Account</th>\n",
       "      <th>Present_Employment_since</th>\n",
       "      <th>Installment_rate_in_percentage_of_disposable_income</th>\n",
       "      <th>Personal_status_and_sex</th>\n",
       "      <th>Other_debtors</th>\n",
       "      <th>Present_residence_since</th>\n",
       "      <th>Property</th>\n",
       "      <th>Age_in_years</th>\n",
       "      <th>Other_installment_plans</th>\n",
       "      <th>Housing</th>\n",
       "      <th>Number_of_existing_credits_at_this_bank</th>\n",
       "      <th>Job</th>\n",
       "      <th>Number_of_People_being_liable_to_provide_maintenance_for</th>\n",
       "      <th>Telephone</th>\n",
       "      <th>Foreign_worker</th>\n",
       "      <th>class</th>\n",
       "    </tr>\n",
       "  </thead>\n",
       "  <tbody>\n",
       "    <tr>\n",
       "      <th>0</th>\n",
       "      <td>A11</td>\n",
       "      <td>6</td>\n",
       "      <td>A34</td>\n",
       "      <td>A43</td>\n",
       "      <td>1169</td>\n",
       "      <td>A65</td>\n",
       "      <td>A75</td>\n",
       "      <td>4</td>\n",
       "      <td>A93</td>\n",
       "      <td>A101</td>\n",
       "      <td>4</td>\n",
       "      <td>A121</td>\n",
       "      <td>67</td>\n",
       "      <td>A143</td>\n",
       "      <td>A152</td>\n",
       "      <td>2</td>\n",
       "      <td>A173</td>\n",
       "      <td>1</td>\n",
       "      <td>A192</td>\n",
       "      <td>A201</td>\n",
       "      <td>1</td>\n",
       "    </tr>\n",
       "    <tr>\n",
       "      <th>1</th>\n",
       "      <td>A12</td>\n",
       "      <td>48</td>\n",
       "      <td>A32</td>\n",
       "      <td>A43</td>\n",
       "      <td>5951</td>\n",
       "      <td>A61</td>\n",
       "      <td>A73</td>\n",
       "      <td>2</td>\n",
       "      <td>A92</td>\n",
       "      <td>A101</td>\n",
       "      <td>2</td>\n",
       "      <td>A121</td>\n",
       "      <td>22</td>\n",
       "      <td>A143</td>\n",
       "      <td>A152</td>\n",
       "      <td>1</td>\n",
       "      <td>A173</td>\n",
       "      <td>1</td>\n",
       "      <td>A191</td>\n",
       "      <td>A201</td>\n",
       "      <td>2</td>\n",
       "    </tr>\n",
       "    <tr>\n",
       "      <th>2</th>\n",
       "      <td>A14</td>\n",
       "      <td>12</td>\n",
       "      <td>A34</td>\n",
       "      <td>A46</td>\n",
       "      <td>2096</td>\n",
       "      <td>A61</td>\n",
       "      <td>A74</td>\n",
       "      <td>2</td>\n",
       "      <td>A93</td>\n",
       "      <td>A101</td>\n",
       "      <td>3</td>\n",
       "      <td>A121</td>\n",
       "      <td>49</td>\n",
       "      <td>A143</td>\n",
       "      <td>A152</td>\n",
       "      <td>1</td>\n",
       "      <td>A172</td>\n",
       "      <td>2</td>\n",
       "      <td>A191</td>\n",
       "      <td>A201</td>\n",
       "      <td>1</td>\n",
       "    </tr>\n",
       "    <tr>\n",
       "      <th>3</th>\n",
       "      <td>A11</td>\n",
       "      <td>42</td>\n",
       "      <td>A32</td>\n",
       "      <td>A42</td>\n",
       "      <td>7882</td>\n",
       "      <td>A61</td>\n",
       "      <td>A74</td>\n",
       "      <td>2</td>\n",
       "      <td>A93</td>\n",
       "      <td>A103</td>\n",
       "      <td>4</td>\n",
       "      <td>A122</td>\n",
       "      <td>45</td>\n",
       "      <td>A143</td>\n",
       "      <td>A153</td>\n",
       "      <td>1</td>\n",
       "      <td>A173</td>\n",
       "      <td>2</td>\n",
       "      <td>A191</td>\n",
       "      <td>A201</td>\n",
       "      <td>1</td>\n",
       "    </tr>\n",
       "    <tr>\n",
       "      <th>4</th>\n",
       "      <td>A11</td>\n",
       "      <td>24</td>\n",
       "      <td>A33</td>\n",
       "      <td>A40</td>\n",
       "      <td>4870</td>\n",
       "      <td>A61</td>\n",
       "      <td>A73</td>\n",
       "      <td>3</td>\n",
       "      <td>A93</td>\n",
       "      <td>A101</td>\n",
       "      <td>4</td>\n",
       "      <td>A124</td>\n",
       "      <td>53</td>\n",
       "      <td>A143</td>\n",
       "      <td>A153</td>\n",
       "      <td>2</td>\n",
       "      <td>A173</td>\n",
       "      <td>2</td>\n",
       "      <td>A191</td>\n",
       "      <td>A201</td>\n",
       "      <td>2</td>\n",
       "    </tr>\n",
       "  </tbody>\n",
       "</table>\n",
       "</div>"
      ],
      "text/plain": [
       "  Status_of_existing_checking_account  Duration_in_month  ... Foreign_worker class\n",
       "0                                 A11                  6  ...           A201     1\n",
       "1                                 A12                 48  ...           A201     2\n",
       "2                                 A14                 12  ...           A201     1\n",
       "3                                 A11                 42  ...           A201     1\n",
       "4                                 A11                 24  ...           A201     2\n",
       "\n",
       "[5 rows x 21 columns]"
      ]
     },
     "execution_count": 2,
     "metadata": {
      "tags": []
     },
     "output_type": "execute_result"
    }
   ],
   "source": [
    "# Mount the drive\n",
    "credit_data = pd.read_csv(\"/content/drive/MyDrive/Industry_Session_19_June_2021/credit_data.csv\")\n",
    "credit_data.head()"
   ]
  },
  {
   "cell_type": "code",
   "execution_count": null,
   "metadata": {
    "colab": {
     "base_uri": "https://localhost:8080/"
    },
    "executionInfo": {
     "elapsed": 3,
     "status": "ok",
     "timestamp": 1623975967421,
     "user": {
      "displayName": "Aniket Chhabra",
      "photoUrl": "https://lh3.googleusercontent.com/a-/AOh14Gh4750K16oah3CCSd7jmNjyHr23ob4sQFELlC0o=s64",
      "userId": "13194987590931587864"
     },
     "user_tz": -330
    },
    "id": "KXiKTMTHbD9u",
    "outputId": "1e1cb9bd-9f32-4d8d-8483-8338e5c12469"
   },
   "outputs": [
    {
     "data": {
      "text/plain": [
       "(1007, 21)"
      ]
     },
     "execution_count": 3,
     "metadata": {
      "tags": []
     },
     "output_type": "execute_result"
    }
   ],
   "source": [
    "credit_data['class'] = credit_data['class']-1\n",
    "credit_data.shape"
   ]
  },
  {
   "cell_type": "code",
   "execution_count": null,
   "metadata": {
    "colab": {
     "base_uri": "https://localhost:8080/"
    },
    "executionInfo": {
     "elapsed": 4,
     "status": "ok",
     "timestamp": 1623975968809,
     "user": {
      "displayName": "Aniket Chhabra",
      "photoUrl": "https://lh3.googleusercontent.com/a-/AOh14Gh4750K16oah3CCSd7jmNjyHr23ob4sQFELlC0o=s64",
      "userId": "13194987590931587864"
     },
     "user_tz": -330
    },
    "id": "hfx6oiNhbURH",
    "outputId": "162d195f-65cb-44b3-91a1-5f669a6b624f"
   },
   "outputs": [
    {
     "data": {
      "text/plain": [
       "0    0.707051\n",
       "1    0.292949\n",
       "Name: class, dtype: float64"
      ]
     },
     "execution_count": 4,
     "metadata": {
      "tags": []
     },
     "output_type": "execute_result"
    }
   ],
   "source": [
    "# Dataset class distribution\n",
    "credit_data['class'].value_counts()/len(credit_data)"
   ]
  },
  {
   "cell_type": "code",
   "execution_count": null,
   "metadata": {
    "colab": {
     "base_uri": "https://localhost:8080/"
    },
    "executionInfo": {
     "elapsed": 5,
     "status": "ok",
     "timestamp": 1623975970828,
     "user": {
      "displayName": "Aniket Chhabra",
      "photoUrl": "https://lh3.googleusercontent.com/a-/AOh14Gh4750K16oah3CCSd7jmNjyHr23ob4sQFELlC0o=s64",
      "userId": "13194987590931587864"
     },
     "user_tz": -330
    },
    "id": "PnzfrLYCbcCY",
    "outputId": "3fdf5882-e32d-411c-c7f4-5799a313e6a7"
   },
   "outputs": [
    {
     "name": "stdout",
     "output_type": "stream",
     "text": [
      "<class 'pandas.core.frame.DataFrame'>\n",
      "RangeIndex: 1007 entries, 0 to 1006\n",
      "Data columns (total 21 columns):\n",
      " #   Column                                                    Non-Null Count  Dtype \n",
      "---  ------                                                    --------------  ----- \n",
      " 0   Status_of_existing_checking_account                       1007 non-null   object\n",
      " 1   Duration_in_month                                         1007 non-null   int64 \n",
      " 2   Credit_history                                            1007 non-null   object\n",
      " 3   Purpose                                                   1007 non-null   object\n",
      " 4   Credit_amount                                             1007 non-null   int64 \n",
      " 5   Savings_Account                                           1007 non-null   object\n",
      " 6   Present_Employment_since                                  1007 non-null   object\n",
      " 7   Installment_rate_in_percentage_of_disposable_income       1007 non-null   int64 \n",
      " 8   Personal_status_and_sex                                   1007 non-null   object\n",
      " 9   Other_debtors                                             1007 non-null   object\n",
      " 10  Present_residence_since                                   1007 non-null   int64 \n",
      " 11  Property                                                  1007 non-null   object\n",
      " 12  Age_in_years                                              1007 non-null   int64 \n",
      " 13  Other_installment_plans                                   1007 non-null   object\n",
      " 14  Housing                                                   1007 non-null   object\n",
      " 15  Number_of_existing_credits_at_this_bank                   1007 non-null   int64 \n",
      " 16  Job                                                       1007 non-null   object\n",
      " 17  Number_of_People_being_liable_to_provide_maintenance_for  1007 non-null   int64 \n",
      " 18  Telephone                                                 1007 non-null   object\n",
      " 19  Foreign_worker                                            1007 non-null   object\n",
      " 20  class                                                     1007 non-null   int64 \n",
      "dtypes: int64(8), object(13)\n",
      "memory usage: 165.3+ KB\n"
     ]
    }
   ],
   "source": [
    "credit_data.info()"
   ]
  },
  {
   "cell_type": "markdown",
   "metadata": {
    "id": "IjYtcEpEqkzT"
   },
   "source": [
    "# **1. Data Preprocessing - EDA**"
   ]
  },
  {
   "cell_type": "code",
   "execution_count": null,
   "metadata": {
    "colab": {
     "base_uri": "https://localhost:8080/"
    },
    "executionInfo": {
     "elapsed": 6,
     "status": "ok",
     "timestamp": 1623975974615,
     "user": {
      "displayName": "Aniket Chhabra",
      "photoUrl": "https://lh3.googleusercontent.com/a-/AOh14Gh4750K16oah3CCSd7jmNjyHr23ob4sQFELlC0o=s64",
      "userId": "13194987590931587864"
     },
     "user_tz": -330
    },
    "id": "vayKvnQMqqy8",
    "outputId": "f653bea2-f42e-48f2-f5a8-7f78b96a731a"
   },
   "outputs": [
    {
     "data": {
      "text/plain": [
       "Status_of_existing_checking_account                         0\n",
       "Duration_in_month                                           0\n",
       "Credit_history                                              0\n",
       "Purpose                                                     0\n",
       "Credit_amount                                               0\n",
       "Savings_Account                                             0\n",
       "Present_Employment_since                                    0\n",
       "Installment_rate_in_percentage_of_disposable_income         0\n",
       "Personal_status_and_sex                                     0\n",
       "Other_debtors                                               0\n",
       "Present_residence_since                                     0\n",
       "Property                                                    0\n",
       "Age_in_years                                                0\n",
       "Other_installment_plans                                     0\n",
       "Housing                                                     0\n",
       "Number_of_existing_credits_at_this_bank                     0\n",
       "Job                                                         0\n",
       "Number_of_People_being_liable_to_provide_maintenance_for    0\n",
       "Telephone                                                   0\n",
       "Foreign_worker                                              0\n",
       "class                                                       0\n",
       "dtype: int64"
      ]
     },
     "execution_count": 6,
     "metadata": {
      "tags": []
     },
     "output_type": "execute_result"
    }
   ],
   "source": [
    "credit_data.isnull().sum()"
   ]
  },
  {
   "cell_type": "markdown",
   "metadata": {
    "id": "XTU0fbrmqwE0"
   },
   "source": [
    "No missing values present"
   ]
  },
  {
   "cell_type": "code",
   "execution_count": null,
   "metadata": {
    "colab": {
     "base_uri": "https://localhost:8080/",
     "height": 223
    },
    "executionInfo": {
     "elapsed": 373,
     "status": "ok",
     "timestamp": 1623976524264,
     "user": {
      "displayName": "Aniket Chhabra",
      "photoUrl": "https://lh3.googleusercontent.com/a-/AOh14Gh4750K16oah3CCSd7jmNjyHr23ob4sQFELlC0o=s64",
      "userId": "13194987590931587864"
     },
     "user_tz": -330
    },
    "id": "pYGOF-JUyKFW",
    "outputId": "068d028a-a2eb-4ebd-8e98-c67136067778"
   },
   "outputs": [
    {
     "data": {
      "text/html": [
       "<div>\n",
       "<style scoped>\n",
       "    .dataframe tbody tr th:only-of-type {\n",
       "        vertical-align: middle;\n",
       "    }\n",
       "\n",
       "    .dataframe tbody tr th {\n",
       "        vertical-align: top;\n",
       "    }\n",
       "\n",
       "    .dataframe thead th {\n",
       "        text-align: right;\n",
       "    }\n",
       "</style>\n",
       "<table border=\"1\" class=\"dataframe\">\n",
       "  <thead>\n",
       "    <tr style=\"text-align: right;\">\n",
       "      <th></th>\n",
       "      <th>Status_of_existing_checking_account</th>\n",
       "      <th>Duration_in_month</th>\n",
       "      <th>Credit_history</th>\n",
       "      <th>Purpose</th>\n",
       "      <th>Credit_amount</th>\n",
       "      <th>Savings_Account</th>\n",
       "      <th>Present_Employment_since</th>\n",
       "      <th>Installment_rate_in_percentage_of_disposable_income</th>\n",
       "      <th>Personal_status_and_sex</th>\n",
       "      <th>Other_debtors</th>\n",
       "      <th>Present_residence_since</th>\n",
       "      <th>Property</th>\n",
       "      <th>Age_in_years</th>\n",
       "      <th>Other_installment_plans</th>\n",
       "      <th>Housing</th>\n",
       "      <th>Number_of_existing_credits_at_this_bank</th>\n",
       "      <th>Job</th>\n",
       "      <th>Number_of_People_being_liable_to_provide_maintenance_for</th>\n",
       "      <th>Telephone</th>\n",
       "      <th>Foreign_worker</th>\n",
       "      <th>class</th>\n",
       "    </tr>\n",
       "  </thead>\n",
       "  <tbody>\n",
       "    <tr>\n",
       "      <th>0</th>\n",
       "      <td>A11</td>\n",
       "      <td>6</td>\n",
       "      <td>A34</td>\n",
       "      <td>A43</td>\n",
       "      <td>1169</td>\n",
       "      <td>A65</td>\n",
       "      <td>A75</td>\n",
       "      <td>4</td>\n",
       "      <td>A93</td>\n",
       "      <td>A101</td>\n",
       "      <td>4</td>\n",
       "      <td>A121</td>\n",
       "      <td>67</td>\n",
       "      <td>A143</td>\n",
       "      <td>A152</td>\n",
       "      <td>2</td>\n",
       "      <td>A173</td>\n",
       "      <td>1</td>\n",
       "      <td>A192</td>\n",
       "      <td>A201</td>\n",
       "      <td>0</td>\n",
       "    </tr>\n",
       "    <tr>\n",
       "      <th>1</th>\n",
       "      <td>A12</td>\n",
       "      <td>48</td>\n",
       "      <td>A32</td>\n",
       "      <td>A43</td>\n",
       "      <td>5951</td>\n",
       "      <td>A61</td>\n",
       "      <td>A73</td>\n",
       "      <td>2</td>\n",
       "      <td>A92</td>\n",
       "      <td>A101</td>\n",
       "      <td>2</td>\n",
       "      <td>A121</td>\n",
       "      <td>22</td>\n",
       "      <td>A143</td>\n",
       "      <td>A152</td>\n",
       "      <td>1</td>\n",
       "      <td>A173</td>\n",
       "      <td>1</td>\n",
       "      <td>A191</td>\n",
       "      <td>A201</td>\n",
       "      <td>1</td>\n",
       "    </tr>\n",
       "    <tr>\n",
       "      <th>2</th>\n",
       "      <td>A14</td>\n",
       "      <td>12</td>\n",
       "      <td>A34</td>\n",
       "      <td>A46</td>\n",
       "      <td>2096</td>\n",
       "      <td>A61</td>\n",
       "      <td>A74</td>\n",
       "      <td>2</td>\n",
       "      <td>A93</td>\n",
       "      <td>A101</td>\n",
       "      <td>3</td>\n",
       "      <td>A121</td>\n",
       "      <td>49</td>\n",
       "      <td>A143</td>\n",
       "      <td>A152</td>\n",
       "      <td>1</td>\n",
       "      <td>A172</td>\n",
       "      <td>2</td>\n",
       "      <td>A191</td>\n",
       "      <td>A201</td>\n",
       "      <td>0</td>\n",
       "    </tr>\n",
       "    <tr>\n",
       "      <th>3</th>\n",
       "      <td>A11</td>\n",
       "      <td>42</td>\n",
       "      <td>A32</td>\n",
       "      <td>A42</td>\n",
       "      <td>7882</td>\n",
       "      <td>A61</td>\n",
       "      <td>A74</td>\n",
       "      <td>2</td>\n",
       "      <td>A93</td>\n",
       "      <td>A103</td>\n",
       "      <td>4</td>\n",
       "      <td>A122</td>\n",
       "      <td>45</td>\n",
       "      <td>A143</td>\n",
       "      <td>A153</td>\n",
       "      <td>1</td>\n",
       "      <td>A173</td>\n",
       "      <td>2</td>\n",
       "      <td>A191</td>\n",
       "      <td>A201</td>\n",
       "      <td>0</td>\n",
       "    </tr>\n",
       "    <tr>\n",
       "      <th>4</th>\n",
       "      <td>A11</td>\n",
       "      <td>24</td>\n",
       "      <td>A33</td>\n",
       "      <td>A40</td>\n",
       "      <td>4870</td>\n",
       "      <td>A61</td>\n",
       "      <td>A73</td>\n",
       "      <td>3</td>\n",
       "      <td>A93</td>\n",
       "      <td>A101</td>\n",
       "      <td>4</td>\n",
       "      <td>A124</td>\n",
       "      <td>53</td>\n",
       "      <td>A143</td>\n",
       "      <td>A153</td>\n",
       "      <td>2</td>\n",
       "      <td>A173</td>\n",
       "      <td>2</td>\n",
       "      <td>A191</td>\n",
       "      <td>A201</td>\n",
       "      <td>1</td>\n",
       "    </tr>\n",
       "  </tbody>\n",
       "</table>\n",
       "</div>"
      ],
      "text/plain": [
       "  Status_of_existing_checking_account  Duration_in_month  ... Foreign_worker class\n",
       "0                                 A11                  6  ...           A201     0\n",
       "1                                 A12                 48  ...           A201     1\n",
       "2                                 A14                 12  ...           A201     0\n",
       "3                                 A11                 42  ...           A201     0\n",
       "4                                 A11                 24  ...           A201     1\n",
       "\n",
       "[5 rows x 21 columns]"
      ]
     },
     "execution_count": 25,
     "metadata": {
      "tags": []
     },
     "output_type": "execute_result"
    }
   ],
   "source": [
    "credit_data.head()"
   ]
  },
  {
   "cell_type": "code",
   "execution_count": null,
   "metadata": {
    "colab": {
     "base_uri": "https://localhost:8080/"
    },
    "executionInfo": {
     "elapsed": 5,
     "status": "ok",
     "timestamp": 1623976526352,
     "user": {
      "displayName": "Aniket Chhabra",
      "photoUrl": "https://lh3.googleusercontent.com/a-/AOh14Gh4750K16oah3CCSd7jmNjyHr23ob4sQFELlC0o=s64",
      "userId": "13194987590931587864"
     },
     "user_tz": -330
    },
    "id": "7ifNni5V3zTU",
    "outputId": "75d54540-8797-48bc-cf20-debfcaaadc6c"
   },
   "outputs": [
    {
     "data": {
      "text/plain": [
       "(1007,)"
      ]
     },
     "execution_count": 26,
     "metadata": {
      "tags": []
     },
     "output_type": "execute_result"
    }
   ],
   "source": [
    "y = credit_data['class']\n",
    "y.shape"
   ]
  },
  {
   "cell_type": "markdown",
   "metadata": {
    "id": "-NFQJpFqwcq8"
   },
   "source": [
    "## **Encoding Categorical Data**"
   ]
  },
  {
   "cell_type": "code",
   "execution_count": null,
   "metadata": {
    "colab": {
     "base_uri": "https://localhost:8080/"
    },
    "executionInfo": {
     "elapsed": 1363,
     "status": "ok",
     "timestamp": 1623979066916,
     "user": {
      "displayName": "Aniket Chhabra",
      "photoUrl": "https://lh3.googleusercontent.com/a-/AOh14Gh4750K16oah3CCSd7jmNjyHr23ob4sQFELlC0o=s64",
      "userId": "13194987590931587864"
     },
     "user_tz": -330
    },
    "id": "Nfo5l7j9rKUN",
    "outputId": "2d5b52f3-f41c-4ab4-993d-07ac5027128b"
   },
   "outputs": [
    {
     "name": "stdout",
     "output_type": "stream",
     "text": [
      "['Status_of_existing_checking_account', 'Credit_history', 'Purpose', 'Savings_Account', 'Present_Employment_since', 'Personal_status_and_sex', 'Other_debtors', 'Property', 'Other_installment_plans', 'Housing', 'Job', 'Telephone', 'Foreign_worker']\n"
     ]
    }
   ],
   "source": [
    "cat_cols = credit_data.select_dtypes(include=\"object\").columns.tolist()\n",
    "print(cat_cols)"
   ]
  },
  {
   "cell_type": "code",
   "execution_count": null,
   "metadata": {
    "colab": {
     "base_uri": "https://localhost:8080/",
     "height": 223
    },
    "executionInfo": {
     "elapsed": 474,
     "status": "ok",
     "timestamp": 1623979071133,
     "user": {
      "displayName": "Aniket Chhabra",
      "photoUrl": "https://lh3.googleusercontent.com/a-/AOh14Gh4750K16oah3CCSd7jmNjyHr23ob4sQFELlC0o=s64",
      "userId": "13194987590931587864"
     },
     "user_tz": -330
    },
    "id": "iSXRv1jwsgZ9",
    "outputId": "5d96ecf5-a075-4c14-f803-29db8221e920"
   },
   "outputs": [
    {
     "data": {
      "text/html": [
       "<div>\n",
       "<style scoped>\n",
       "    .dataframe tbody tr th:only-of-type {\n",
       "        vertical-align: middle;\n",
       "    }\n",
       "\n",
       "    .dataframe tbody tr th {\n",
       "        vertical-align: top;\n",
       "    }\n",
       "\n",
       "    .dataframe thead th {\n",
       "        text-align: right;\n",
       "    }\n",
       "</style>\n",
       "<table border=\"1\" class=\"dataframe\">\n",
       "  <thead>\n",
       "    <tr style=\"text-align: right;\">\n",
       "      <th></th>\n",
       "      <th>Status_of_existing_checking_account</th>\n",
       "      <th>Credit_history</th>\n",
       "      <th>Purpose</th>\n",
       "      <th>Savings_Account</th>\n",
       "      <th>Present_Employment_since</th>\n",
       "      <th>Personal_status_and_sex</th>\n",
       "      <th>Other_debtors</th>\n",
       "      <th>Property</th>\n",
       "      <th>Other_installment_plans</th>\n",
       "      <th>Housing</th>\n",
       "      <th>Job</th>\n",
       "      <th>Telephone</th>\n",
       "      <th>Foreign_worker</th>\n",
       "    </tr>\n",
       "  </thead>\n",
       "  <tbody>\n",
       "    <tr>\n",
       "      <th>0</th>\n",
       "      <td>A11</td>\n",
       "      <td>A34</td>\n",
       "      <td>A43</td>\n",
       "      <td>A65</td>\n",
       "      <td>A75</td>\n",
       "      <td>A93</td>\n",
       "      <td>A101</td>\n",
       "      <td>A121</td>\n",
       "      <td>A143</td>\n",
       "      <td>A152</td>\n",
       "      <td>A173</td>\n",
       "      <td>A192</td>\n",
       "      <td>A201</td>\n",
       "    </tr>\n",
       "    <tr>\n",
       "      <th>1</th>\n",
       "      <td>A12</td>\n",
       "      <td>A32</td>\n",
       "      <td>A43</td>\n",
       "      <td>A61</td>\n",
       "      <td>A73</td>\n",
       "      <td>A92</td>\n",
       "      <td>A101</td>\n",
       "      <td>A121</td>\n",
       "      <td>A143</td>\n",
       "      <td>A152</td>\n",
       "      <td>A173</td>\n",
       "      <td>A191</td>\n",
       "      <td>A201</td>\n",
       "    </tr>\n",
       "    <tr>\n",
       "      <th>2</th>\n",
       "      <td>A14</td>\n",
       "      <td>A34</td>\n",
       "      <td>A46</td>\n",
       "      <td>A61</td>\n",
       "      <td>A74</td>\n",
       "      <td>A93</td>\n",
       "      <td>A101</td>\n",
       "      <td>A121</td>\n",
       "      <td>A143</td>\n",
       "      <td>A152</td>\n",
       "      <td>A172</td>\n",
       "      <td>A191</td>\n",
       "      <td>A201</td>\n",
       "    </tr>\n",
       "    <tr>\n",
       "      <th>3</th>\n",
       "      <td>A11</td>\n",
       "      <td>A32</td>\n",
       "      <td>A42</td>\n",
       "      <td>A61</td>\n",
       "      <td>A74</td>\n",
       "      <td>A93</td>\n",
       "      <td>A103</td>\n",
       "      <td>A122</td>\n",
       "      <td>A143</td>\n",
       "      <td>A153</td>\n",
       "      <td>A173</td>\n",
       "      <td>A191</td>\n",
       "      <td>A201</td>\n",
       "    </tr>\n",
       "    <tr>\n",
       "      <th>4</th>\n",
       "      <td>A11</td>\n",
       "      <td>A33</td>\n",
       "      <td>A40</td>\n",
       "      <td>A61</td>\n",
       "      <td>A73</td>\n",
       "      <td>A93</td>\n",
       "      <td>A101</td>\n",
       "      <td>A124</td>\n",
       "      <td>A143</td>\n",
       "      <td>A153</td>\n",
       "      <td>A173</td>\n",
       "      <td>A191</td>\n",
       "      <td>A201</td>\n",
       "    </tr>\n",
       "  </tbody>\n",
       "</table>\n",
       "</div>"
      ],
      "text/plain": [
       "  Status_of_existing_checking_account Credit_history  ... Telephone Foreign_worker\n",
       "0                                 A11            A34  ...      A192           A201\n",
       "1                                 A12            A32  ...      A191           A201\n",
       "2                                 A14            A34  ...      A191           A201\n",
       "3                                 A11            A32  ...      A191           A201\n",
       "4                                 A11            A33  ...      A191           A201\n",
       "\n",
       "[5 rows x 13 columns]"
      ]
     },
     "execution_count": 53,
     "metadata": {
      "tags": []
     },
     "output_type": "execute_result"
    }
   ],
   "source": [
    "cat_data = credit_data[cat_cols]\n",
    "cat_data.head()"
   ]
  },
  {
   "cell_type": "code",
   "execution_count": null,
   "metadata": {
    "colab": {
     "base_uri": "https://localhost:8080/"
    },
    "executionInfo": {
     "elapsed": 1396,
     "status": "ok",
     "timestamp": 1623982019717,
     "user": {
      "displayName": "Aniket Chhabra",
      "photoUrl": "https://lh3.googleusercontent.com/a-/AOh14Gh4750K16oah3CCSd7jmNjyHr23ob4sQFELlC0o=s64",
      "userId": "13194987590931587864"
     },
     "user_tz": -330
    },
    "id": "IfWwDsHCpjGO",
    "outputId": "64a2584d-6e79-4c22-80dc-2caab70785f7"
   },
   "outputs": [
    {
     "name": "stdout",
     "output_type": "stream",
     "text": [
      "(1007, 13)\n",
      "(1007, 54)\n"
     ]
    }
   ],
   "source": [
    "#convert categorical variable into dummy\n",
    "cat_df = pd.get_dummies(cat_data)\n",
    "print(cat_data.shape)\n",
    "print(cat_df.shape)"
   ]
  },
  {
   "cell_type": "code",
   "execution_count": null,
   "metadata": {
    "colab": {
     "base_uri": "https://localhost:8080/"
    },
    "executionInfo": {
     "elapsed": 1187,
     "status": "ok",
     "timestamp": 1623982027755,
     "user": {
      "displayName": "Aniket Chhabra",
      "photoUrl": "https://lh3.googleusercontent.com/a-/AOh14Gh4750K16oah3CCSd7jmNjyHr23ob4sQFELlC0o=s64",
      "userId": "13194987590931587864"
     },
     "user_tz": -330
    },
    "id": "fGXvQUkds7W8",
    "outputId": "0b35df3c-f244-4cb2-dc16-bcdaedaaddd0"
   },
   "outputs": [
    {
     "data": {
      "text/plain": [
       "(1007, 62)"
      ]
     },
     "execution_count": 126,
     "metadata": {
      "tags": []
     },
     "output_type": "execute_result"
    }
   ],
   "source": [
    "credit_data_encoded = pd.concat([cat_df, credit_data.drop(cat_cols,axis=1)],axis=1)\n",
    "credit_data_encoded.shape"
   ]
  },
  {
   "cell_type": "code",
   "execution_count": null,
   "metadata": {
    "colab": {
     "base_uri": "https://localhost:8080/",
     "height": 223
    },
    "executionInfo": {
     "elapsed": 1506,
     "status": "ok",
     "timestamp": 1623982048641,
     "user": {
      "displayName": "Aniket Chhabra",
      "photoUrl": "https://lh3.googleusercontent.com/a-/AOh14Gh4750K16oah3CCSd7jmNjyHr23ob4sQFELlC0o=s64",
      "userId": "13194987590931587864"
     },
     "user_tz": -330
    },
    "id": "AyM2ZMF6tpnF",
    "outputId": "92770532-b86e-4195-f725-14f82ae42a4c"
   },
   "outputs": [
    {
     "data": {
      "text/html": [
       "<div>\n",
       "<style scoped>\n",
       "    .dataframe tbody tr th:only-of-type {\n",
       "        vertical-align: middle;\n",
       "    }\n",
       "\n",
       "    .dataframe tbody tr th {\n",
       "        vertical-align: top;\n",
       "    }\n",
       "\n",
       "    .dataframe thead th {\n",
       "        text-align: right;\n",
       "    }\n",
       "</style>\n",
       "<table border=\"1\" class=\"dataframe\">\n",
       "  <thead>\n",
       "    <tr style=\"text-align: right;\">\n",
       "      <th></th>\n",
       "      <th>Status_of_existing_checking_account_A11</th>\n",
       "      <th>Status_of_existing_checking_account_A12</th>\n",
       "      <th>Status_of_existing_checking_account_A13</th>\n",
       "      <th>Status_of_existing_checking_account_A14</th>\n",
       "      <th>Credit_history_A30</th>\n",
       "      <th>Credit_history_A31</th>\n",
       "      <th>Credit_history_A32</th>\n",
       "      <th>Credit_history_A33</th>\n",
       "      <th>Credit_history_A34</th>\n",
       "      <th>Purpose_A40</th>\n",
       "      <th>Purpose_A41</th>\n",
       "      <th>Purpose_A410</th>\n",
       "      <th>Purpose_A42</th>\n",
       "      <th>Purpose_A43</th>\n",
       "      <th>Purpose_A44</th>\n",
       "      <th>Purpose_A45</th>\n",
       "      <th>Purpose_A46</th>\n",
       "      <th>Purpose_A48</th>\n",
       "      <th>Purpose_A49</th>\n",
       "      <th>Savings_Account_A61</th>\n",
       "      <th>Savings_Account_A62</th>\n",
       "      <th>Savings_Account_A63</th>\n",
       "      <th>Savings_Account_A64</th>\n",
       "      <th>Savings_Account_A65</th>\n",
       "      <th>Present_Employment_since_A71</th>\n",
       "      <th>Present_Employment_since_A72</th>\n",
       "      <th>Present_Employment_since_A73</th>\n",
       "      <th>Present_Employment_since_A74</th>\n",
       "      <th>Present_Employment_since_A75</th>\n",
       "      <th>Personal_status_and_sex_A91</th>\n",
       "      <th>Personal_status_and_sex_A92</th>\n",
       "      <th>Personal_status_and_sex_A93</th>\n",
       "      <th>Personal_status_and_sex_A94</th>\n",
       "      <th>Other_debtors_A101</th>\n",
       "      <th>Other_debtors_A102</th>\n",
       "      <th>Other_debtors_A103</th>\n",
       "      <th>Property_A121</th>\n",
       "      <th>Property_A122</th>\n",
       "      <th>Property_A123</th>\n",
       "      <th>Property_A124</th>\n",
       "      <th>Other_installment_plans_A141</th>\n",
       "      <th>Other_installment_plans_A142</th>\n",
       "      <th>Other_installment_plans_A143</th>\n",
       "      <th>Housing_A151</th>\n",
       "      <th>Housing_A152</th>\n",
       "      <th>Housing_A153</th>\n",
       "      <th>Job_A171</th>\n",
       "      <th>Job_A172</th>\n",
       "      <th>Job_A173</th>\n",
       "      <th>Job_A174</th>\n",
       "      <th>Telephone_A191</th>\n",
       "      <th>Telephone_A192</th>\n",
       "      <th>Foreign_worker_A201</th>\n",
       "      <th>Foreign_worker_A202</th>\n",
       "      <th>Duration_in_month</th>\n",
       "      <th>Credit_amount</th>\n",
       "      <th>Installment_rate_in_percentage_of_disposable_income</th>\n",
       "      <th>Present_residence_since</th>\n",
       "      <th>Age_in_years</th>\n",
       "      <th>Number_of_existing_credits_at_this_bank</th>\n",
       "      <th>Number_of_People_being_liable_to_provide_maintenance_for</th>\n",
       "      <th>class</th>\n",
       "    </tr>\n",
       "  </thead>\n",
       "  <tbody>\n",
       "    <tr>\n",
       "      <th>0</th>\n",
       "      <td>1</td>\n",
       "      <td>0</td>\n",
       "      <td>0</td>\n",
       "      <td>0</td>\n",
       "      <td>0</td>\n",
       "      <td>0</td>\n",
       "      <td>0</td>\n",
       "      <td>0</td>\n",
       "      <td>1</td>\n",
       "      <td>0</td>\n",
       "      <td>0</td>\n",
       "      <td>0</td>\n",
       "      <td>0</td>\n",
       "      <td>1</td>\n",
       "      <td>0</td>\n",
       "      <td>0</td>\n",
       "      <td>0</td>\n",
       "      <td>0</td>\n",
       "      <td>0</td>\n",
       "      <td>0</td>\n",
       "      <td>0</td>\n",
       "      <td>0</td>\n",
       "      <td>0</td>\n",
       "      <td>1</td>\n",
       "      <td>0</td>\n",
       "      <td>0</td>\n",
       "      <td>0</td>\n",
       "      <td>0</td>\n",
       "      <td>1</td>\n",
       "      <td>0</td>\n",
       "      <td>0</td>\n",
       "      <td>1</td>\n",
       "      <td>0</td>\n",
       "      <td>1</td>\n",
       "      <td>0</td>\n",
       "      <td>0</td>\n",
       "      <td>1</td>\n",
       "      <td>0</td>\n",
       "      <td>0</td>\n",
       "      <td>0</td>\n",
       "      <td>0</td>\n",
       "      <td>0</td>\n",
       "      <td>1</td>\n",
       "      <td>0</td>\n",
       "      <td>1</td>\n",
       "      <td>0</td>\n",
       "      <td>0</td>\n",
       "      <td>0</td>\n",
       "      <td>1</td>\n",
       "      <td>0</td>\n",
       "      <td>0</td>\n",
       "      <td>1</td>\n",
       "      <td>1</td>\n",
       "      <td>0</td>\n",
       "      <td>6</td>\n",
       "      <td>1169</td>\n",
       "      <td>4</td>\n",
       "      <td>4</td>\n",
       "      <td>67</td>\n",
       "      <td>2</td>\n",
       "      <td>1</td>\n",
       "      <td>0</td>\n",
       "    </tr>\n",
       "    <tr>\n",
       "      <th>1</th>\n",
       "      <td>0</td>\n",
       "      <td>1</td>\n",
       "      <td>0</td>\n",
       "      <td>0</td>\n",
       "      <td>0</td>\n",
       "      <td>0</td>\n",
       "      <td>1</td>\n",
       "      <td>0</td>\n",
       "      <td>0</td>\n",
       "      <td>0</td>\n",
       "      <td>0</td>\n",
       "      <td>0</td>\n",
       "      <td>0</td>\n",
       "      <td>1</td>\n",
       "      <td>0</td>\n",
       "      <td>0</td>\n",
       "      <td>0</td>\n",
       "      <td>0</td>\n",
       "      <td>0</td>\n",
       "      <td>1</td>\n",
       "      <td>0</td>\n",
       "      <td>0</td>\n",
       "      <td>0</td>\n",
       "      <td>0</td>\n",
       "      <td>0</td>\n",
       "      <td>0</td>\n",
       "      <td>1</td>\n",
       "      <td>0</td>\n",
       "      <td>0</td>\n",
       "      <td>0</td>\n",
       "      <td>1</td>\n",
       "      <td>0</td>\n",
       "      <td>0</td>\n",
       "      <td>1</td>\n",
       "      <td>0</td>\n",
       "      <td>0</td>\n",
       "      <td>1</td>\n",
       "      <td>0</td>\n",
       "      <td>0</td>\n",
       "      <td>0</td>\n",
       "      <td>0</td>\n",
       "      <td>0</td>\n",
       "      <td>1</td>\n",
       "      <td>0</td>\n",
       "      <td>1</td>\n",
       "      <td>0</td>\n",
       "      <td>0</td>\n",
       "      <td>0</td>\n",
       "      <td>1</td>\n",
       "      <td>0</td>\n",
       "      <td>1</td>\n",
       "      <td>0</td>\n",
       "      <td>1</td>\n",
       "      <td>0</td>\n",
       "      <td>48</td>\n",
       "      <td>5951</td>\n",
       "      <td>2</td>\n",
       "      <td>2</td>\n",
       "      <td>22</td>\n",
       "      <td>1</td>\n",
       "      <td>1</td>\n",
       "      <td>1</td>\n",
       "    </tr>\n",
       "    <tr>\n",
       "      <th>2</th>\n",
       "      <td>0</td>\n",
       "      <td>0</td>\n",
       "      <td>0</td>\n",
       "      <td>1</td>\n",
       "      <td>0</td>\n",
       "      <td>0</td>\n",
       "      <td>0</td>\n",
       "      <td>0</td>\n",
       "      <td>1</td>\n",
       "      <td>0</td>\n",
       "      <td>0</td>\n",
       "      <td>0</td>\n",
       "      <td>0</td>\n",
       "      <td>0</td>\n",
       "      <td>0</td>\n",
       "      <td>0</td>\n",
       "      <td>1</td>\n",
       "      <td>0</td>\n",
       "      <td>0</td>\n",
       "      <td>1</td>\n",
       "      <td>0</td>\n",
       "      <td>0</td>\n",
       "      <td>0</td>\n",
       "      <td>0</td>\n",
       "      <td>0</td>\n",
       "      <td>0</td>\n",
       "      <td>0</td>\n",
       "      <td>1</td>\n",
       "      <td>0</td>\n",
       "      <td>0</td>\n",
       "      <td>0</td>\n",
       "      <td>1</td>\n",
       "      <td>0</td>\n",
       "      <td>1</td>\n",
       "      <td>0</td>\n",
       "      <td>0</td>\n",
       "      <td>1</td>\n",
       "      <td>0</td>\n",
       "      <td>0</td>\n",
       "      <td>0</td>\n",
       "      <td>0</td>\n",
       "      <td>0</td>\n",
       "      <td>1</td>\n",
       "      <td>0</td>\n",
       "      <td>1</td>\n",
       "      <td>0</td>\n",
       "      <td>0</td>\n",
       "      <td>1</td>\n",
       "      <td>0</td>\n",
       "      <td>0</td>\n",
       "      <td>1</td>\n",
       "      <td>0</td>\n",
       "      <td>1</td>\n",
       "      <td>0</td>\n",
       "      <td>12</td>\n",
       "      <td>2096</td>\n",
       "      <td>2</td>\n",
       "      <td>3</td>\n",
       "      <td>49</td>\n",
       "      <td>1</td>\n",
       "      <td>2</td>\n",
       "      <td>0</td>\n",
       "    </tr>\n",
       "    <tr>\n",
       "      <th>3</th>\n",
       "      <td>1</td>\n",
       "      <td>0</td>\n",
       "      <td>0</td>\n",
       "      <td>0</td>\n",
       "      <td>0</td>\n",
       "      <td>0</td>\n",
       "      <td>1</td>\n",
       "      <td>0</td>\n",
       "      <td>0</td>\n",
       "      <td>0</td>\n",
       "      <td>0</td>\n",
       "      <td>0</td>\n",
       "      <td>1</td>\n",
       "      <td>0</td>\n",
       "      <td>0</td>\n",
       "      <td>0</td>\n",
       "      <td>0</td>\n",
       "      <td>0</td>\n",
       "      <td>0</td>\n",
       "      <td>1</td>\n",
       "      <td>0</td>\n",
       "      <td>0</td>\n",
       "      <td>0</td>\n",
       "      <td>0</td>\n",
       "      <td>0</td>\n",
       "      <td>0</td>\n",
       "      <td>0</td>\n",
       "      <td>1</td>\n",
       "      <td>0</td>\n",
       "      <td>0</td>\n",
       "      <td>0</td>\n",
       "      <td>1</td>\n",
       "      <td>0</td>\n",
       "      <td>0</td>\n",
       "      <td>0</td>\n",
       "      <td>1</td>\n",
       "      <td>0</td>\n",
       "      <td>1</td>\n",
       "      <td>0</td>\n",
       "      <td>0</td>\n",
       "      <td>0</td>\n",
       "      <td>0</td>\n",
       "      <td>1</td>\n",
       "      <td>0</td>\n",
       "      <td>0</td>\n",
       "      <td>1</td>\n",
       "      <td>0</td>\n",
       "      <td>0</td>\n",
       "      <td>1</td>\n",
       "      <td>0</td>\n",
       "      <td>1</td>\n",
       "      <td>0</td>\n",
       "      <td>1</td>\n",
       "      <td>0</td>\n",
       "      <td>42</td>\n",
       "      <td>7882</td>\n",
       "      <td>2</td>\n",
       "      <td>4</td>\n",
       "      <td>45</td>\n",
       "      <td>1</td>\n",
       "      <td>2</td>\n",
       "      <td>0</td>\n",
       "    </tr>\n",
       "    <tr>\n",
       "      <th>4</th>\n",
       "      <td>1</td>\n",
       "      <td>0</td>\n",
       "      <td>0</td>\n",
       "      <td>0</td>\n",
       "      <td>0</td>\n",
       "      <td>0</td>\n",
       "      <td>0</td>\n",
       "      <td>1</td>\n",
       "      <td>0</td>\n",
       "      <td>1</td>\n",
       "      <td>0</td>\n",
       "      <td>0</td>\n",
       "      <td>0</td>\n",
       "      <td>0</td>\n",
       "      <td>0</td>\n",
       "      <td>0</td>\n",
       "      <td>0</td>\n",
       "      <td>0</td>\n",
       "      <td>0</td>\n",
       "      <td>1</td>\n",
       "      <td>0</td>\n",
       "      <td>0</td>\n",
       "      <td>0</td>\n",
       "      <td>0</td>\n",
       "      <td>0</td>\n",
       "      <td>0</td>\n",
       "      <td>1</td>\n",
       "      <td>0</td>\n",
       "      <td>0</td>\n",
       "      <td>0</td>\n",
       "      <td>0</td>\n",
       "      <td>1</td>\n",
       "      <td>0</td>\n",
       "      <td>1</td>\n",
       "      <td>0</td>\n",
       "      <td>0</td>\n",
       "      <td>0</td>\n",
       "      <td>0</td>\n",
       "      <td>0</td>\n",
       "      <td>1</td>\n",
       "      <td>0</td>\n",
       "      <td>0</td>\n",
       "      <td>1</td>\n",
       "      <td>0</td>\n",
       "      <td>0</td>\n",
       "      <td>1</td>\n",
       "      <td>0</td>\n",
       "      <td>0</td>\n",
       "      <td>1</td>\n",
       "      <td>0</td>\n",
       "      <td>1</td>\n",
       "      <td>0</td>\n",
       "      <td>1</td>\n",
       "      <td>0</td>\n",
       "      <td>24</td>\n",
       "      <td>4870</td>\n",
       "      <td>3</td>\n",
       "      <td>4</td>\n",
       "      <td>53</td>\n",
       "      <td>2</td>\n",
       "      <td>2</td>\n",
       "      <td>1</td>\n",
       "    </tr>\n",
       "  </tbody>\n",
       "</table>\n",
       "</div>"
      ],
      "text/plain": [
       "   Status_of_existing_checking_account_A11  ...  class\n",
       "0                                        1  ...      0\n",
       "1                                        0  ...      1\n",
       "2                                        0  ...      0\n",
       "3                                        1  ...      0\n",
       "4                                        1  ...      1\n",
       "\n",
       "[5 rows x 62 columns]"
      ]
     },
     "execution_count": 127,
     "metadata": {
      "tags": []
     },
     "output_type": "execute_result"
    }
   ],
   "source": [
    "credit_data_encoded.head()"
   ]
  },
  {
   "cell_type": "markdown",
   "metadata": {
    "id": "yUkjVY4h4xMl"
   },
   "source": [
    "## **Train Test Split**"
   ]
  },
  {
   "cell_type": "code",
   "execution_count": null,
   "metadata": {
    "colab": {
     "base_uri": "https://localhost:8080/"
    },
    "executionInfo": {
     "elapsed": 422,
     "status": "ok",
     "timestamp": 1623982062985,
     "user": {
      "displayName": "Aniket Chhabra",
      "photoUrl": "https://lh3.googleusercontent.com/a-/AOh14Gh4750K16oah3CCSd7jmNjyHr23ob4sQFELlC0o=s64",
      "userId": "13194987590931587864"
     },
     "user_tz": -330
    },
    "id": "N36QYsT3xqt-",
    "outputId": "1a94d027-b059-4492-f933-8b2617a07a0b"
   },
   "outputs": [
    {
     "name": "stdout",
     "output_type": "stream",
     "text": [
      "Df x train shape (704, 61)\n",
      "Df x test shape (303, 61)\n",
      "Df y train shape (704,)\n",
      "Df y test shape (303,)\n"
     ]
    }
   ],
   "source": [
    "# Need to scale the continuous variables and combine for later processing\n",
    "df_x_train, df_x_test, df_y_train,df_y_test = train_test_split(credit_data_encoded.drop('class',axis=1),\n",
    "                                                                y, \n",
    "                                                                train_size=0.7,\n",
    "                                                                random_state=42)\n",
    "\n",
    "print(\"Df x train shape\", df_x_train.shape)\n",
    "print(\"Df x test shape\", df_x_test.shape)\n",
    "print(\"Df y train shape\", df_y_train.shape)\n",
    "print(\"Df y test shape\", df_y_test.shape)"
   ]
  },
  {
   "cell_type": "code",
   "execution_count": null,
   "metadata": {
    "colab": {
     "base_uri": "https://localhost:8080/"
    },
    "executionInfo": {
     "elapsed": 2,
     "status": "ok",
     "timestamp": 1623982066623,
     "user": {
      "displayName": "Aniket Chhabra",
      "photoUrl": "https://lh3.googleusercontent.com/a-/AOh14Gh4750K16oah3CCSd7jmNjyHr23ob4sQFELlC0o=s64",
      "userId": "13194987590931587864"
     },
     "user_tz": -330
    },
    "id": "1ucKu8A-uY1q",
    "outputId": "dd5b26c0-a721-48a6-ebdd-17645f76ea2d"
   },
   "outputs": [
    {
     "name": "stdout",
     "output_type": "stream",
     "text": [
      "0    0.711648\n",
      "1    0.288352\n",
      "Name: class, dtype: float64\n",
      "0    0.69637\n",
      "1    0.30363\n",
      "Name: class, dtype: float64\n"
     ]
    }
   ],
   "source": [
    "print(pd.Series(df_y_train).value_counts(normalize=True))\n",
    "print(pd.Series(df_y_test).value_counts(normalize=True))"
   ]
  },
  {
   "cell_type": "code",
   "execution_count": null,
   "metadata": {
    "id": "BgI06iCnuqVh"
   },
   "outputs": [],
   "source": [
    "df_x_train, df_x_test, df_y_train,df_y_test = train_test_split(credit_data_encoded.drop('class',axis=1),\n",
    "                                                                y, stratify = y,\n",
    "                                                                train_size=0.7,\n",
    "                                                                random_state=42)"
   ]
  },
  {
   "cell_type": "code",
   "execution_count": null,
   "metadata": {
    "colab": {
     "base_uri": "https://localhost:8080/"
    },
    "executionInfo": {
     "elapsed": 2,
     "status": "ok",
     "timestamp": 1623982072719,
     "user": {
      "displayName": "Aniket Chhabra",
      "photoUrl": "https://lh3.googleusercontent.com/a-/AOh14Gh4750K16oah3CCSd7jmNjyHr23ob4sQFELlC0o=s64",
      "userId": "13194987590931587864"
     },
     "user_tz": -330
    },
    "id": "Os7rNHq5uxOY",
    "outputId": "b87dc61e-543b-45da-807b-8101300880f0"
   },
   "outputs": [
    {
     "name": "stdout",
     "output_type": "stream",
     "text": [
      "0    0.707386\n",
      "1    0.292614\n",
      "Name: class, dtype: float64\n",
      "0    0.706271\n",
      "1    0.293729\n",
      "Name: class, dtype: float64\n"
     ]
    }
   ],
   "source": [
    "print(pd.Series(df_y_train).value_counts(normalize=True))\n",
    "print(pd.Series(df_y_test).value_counts(normalize=True))"
   ]
  },
  {
   "cell_type": "code",
   "execution_count": null,
   "metadata": {
    "colab": {
     "base_uri": "https://localhost:8080/",
     "height": 223
    },
    "executionInfo": {
     "elapsed": 5,
     "status": "ok",
     "timestamp": 1623982077159,
     "user": {
      "displayName": "Aniket Chhabra",
      "photoUrl": "https://lh3.googleusercontent.com/a-/AOh14Gh4750K16oah3CCSd7jmNjyHr23ob4sQFELlC0o=s64",
      "userId": "13194987590931587864"
     },
     "user_tz": -330
    },
    "id": "W2T80QRAyi04",
    "outputId": "89cc2929-5338-415a-f058-cda0016ad8bd"
   },
   "outputs": [
    {
     "data": {
      "text/html": [
       "<div>\n",
       "<style scoped>\n",
       "    .dataframe tbody tr th:only-of-type {\n",
       "        vertical-align: middle;\n",
       "    }\n",
       "\n",
       "    .dataframe tbody tr th {\n",
       "        vertical-align: top;\n",
       "    }\n",
       "\n",
       "    .dataframe thead th {\n",
       "        text-align: right;\n",
       "    }\n",
       "</style>\n",
       "<table border=\"1\" class=\"dataframe\">\n",
       "  <thead>\n",
       "    <tr style=\"text-align: right;\">\n",
       "      <th></th>\n",
       "      <th>Status_of_existing_checking_account_A11</th>\n",
       "      <th>Status_of_existing_checking_account_A12</th>\n",
       "      <th>Status_of_existing_checking_account_A13</th>\n",
       "      <th>Status_of_existing_checking_account_A14</th>\n",
       "      <th>Credit_history_A30</th>\n",
       "      <th>Credit_history_A31</th>\n",
       "      <th>Credit_history_A32</th>\n",
       "      <th>Credit_history_A33</th>\n",
       "      <th>Credit_history_A34</th>\n",
       "      <th>Purpose_A40</th>\n",
       "      <th>Purpose_A41</th>\n",
       "      <th>Purpose_A410</th>\n",
       "      <th>Purpose_A42</th>\n",
       "      <th>Purpose_A43</th>\n",
       "      <th>Purpose_A44</th>\n",
       "      <th>Purpose_A45</th>\n",
       "      <th>Purpose_A46</th>\n",
       "      <th>Purpose_A48</th>\n",
       "      <th>Purpose_A49</th>\n",
       "      <th>Savings_Account_A61</th>\n",
       "      <th>Savings_Account_A62</th>\n",
       "      <th>Savings_Account_A63</th>\n",
       "      <th>Savings_Account_A64</th>\n",
       "      <th>Savings_Account_A65</th>\n",
       "      <th>Present_Employment_since_A71</th>\n",
       "      <th>Present_Employment_since_A72</th>\n",
       "      <th>Present_Employment_since_A73</th>\n",
       "      <th>Present_Employment_since_A74</th>\n",
       "      <th>Present_Employment_since_A75</th>\n",
       "      <th>Personal_status_and_sex_A91</th>\n",
       "      <th>Personal_status_and_sex_A92</th>\n",
       "      <th>Personal_status_and_sex_A93</th>\n",
       "      <th>Personal_status_and_sex_A94</th>\n",
       "      <th>Other_debtors_A101</th>\n",
       "      <th>Other_debtors_A102</th>\n",
       "      <th>Other_debtors_A103</th>\n",
       "      <th>Property_A121</th>\n",
       "      <th>Property_A122</th>\n",
       "      <th>Property_A123</th>\n",
       "      <th>Property_A124</th>\n",
       "      <th>Other_installment_plans_A141</th>\n",
       "      <th>Other_installment_plans_A142</th>\n",
       "      <th>Other_installment_plans_A143</th>\n",
       "      <th>Housing_A151</th>\n",
       "      <th>Housing_A152</th>\n",
       "      <th>Housing_A153</th>\n",
       "      <th>Job_A171</th>\n",
       "      <th>Job_A172</th>\n",
       "      <th>Job_A173</th>\n",
       "      <th>Job_A174</th>\n",
       "      <th>Telephone_A191</th>\n",
       "      <th>Telephone_A192</th>\n",
       "      <th>Foreign_worker_A201</th>\n",
       "      <th>Foreign_worker_A202</th>\n",
       "      <th>Duration_in_month</th>\n",
       "      <th>Credit_amount</th>\n",
       "      <th>Installment_rate_in_percentage_of_disposable_income</th>\n",
       "      <th>Present_residence_since</th>\n",
       "      <th>Age_in_years</th>\n",
       "      <th>Number_of_existing_credits_at_this_bank</th>\n",
       "      <th>Number_of_People_being_liable_to_provide_maintenance_for</th>\n",
       "    </tr>\n",
       "  </thead>\n",
       "  <tbody>\n",
       "    <tr>\n",
       "      <th>201</th>\n",
       "      <td>1</td>\n",
       "      <td>0</td>\n",
       "      <td>0</td>\n",
       "      <td>0</td>\n",
       "      <td>0</td>\n",
       "      <td>0</td>\n",
       "      <td>1</td>\n",
       "      <td>0</td>\n",
       "      <td>0</td>\n",
       "      <td>1</td>\n",
       "      <td>0</td>\n",
       "      <td>0</td>\n",
       "      <td>0</td>\n",
       "      <td>0</td>\n",
       "      <td>0</td>\n",
       "      <td>0</td>\n",
       "      <td>0</td>\n",
       "      <td>0</td>\n",
       "      <td>0</td>\n",
       "      <td>1</td>\n",
       "      <td>0</td>\n",
       "      <td>0</td>\n",
       "      <td>0</td>\n",
       "      <td>0</td>\n",
       "      <td>0</td>\n",
       "      <td>0</td>\n",
       "      <td>1</td>\n",
       "      <td>0</td>\n",
       "      <td>0</td>\n",
       "      <td>0</td>\n",
       "      <td>0</td>\n",
       "      <td>0</td>\n",
       "      <td>1</td>\n",
       "      <td>1</td>\n",
       "      <td>0</td>\n",
       "      <td>0</td>\n",
       "      <td>1</td>\n",
       "      <td>0</td>\n",
       "      <td>0</td>\n",
       "      <td>0</td>\n",
       "      <td>0</td>\n",
       "      <td>0</td>\n",
       "      <td>1</td>\n",
       "      <td>0</td>\n",
       "      <td>1</td>\n",
       "      <td>0</td>\n",
       "      <td>0</td>\n",
       "      <td>1</td>\n",
       "      <td>0</td>\n",
       "      <td>0</td>\n",
       "      <td>1</td>\n",
       "      <td>0</td>\n",
       "      <td>1</td>\n",
       "      <td>0</td>\n",
       "      <td>12</td>\n",
       "      <td>1168</td>\n",
       "      <td>4</td>\n",
       "      <td>3</td>\n",
       "      <td>27</td>\n",
       "      <td>1</td>\n",
       "      <td>1</td>\n",
       "    </tr>\n",
       "    <tr>\n",
       "      <th>442</th>\n",
       "      <td>0</td>\n",
       "      <td>1</td>\n",
       "      <td>0</td>\n",
       "      <td>0</td>\n",
       "      <td>0</td>\n",
       "      <td>0</td>\n",
       "      <td>0</td>\n",
       "      <td>1</td>\n",
       "      <td>0</td>\n",
       "      <td>0</td>\n",
       "      <td>0</td>\n",
       "      <td>1</td>\n",
       "      <td>0</td>\n",
       "      <td>0</td>\n",
       "      <td>0</td>\n",
       "      <td>0</td>\n",
       "      <td>0</td>\n",
       "      <td>0</td>\n",
       "      <td>0</td>\n",
       "      <td>1</td>\n",
       "      <td>0</td>\n",
       "      <td>0</td>\n",
       "      <td>0</td>\n",
       "      <td>0</td>\n",
       "      <td>0</td>\n",
       "      <td>0</td>\n",
       "      <td>1</td>\n",
       "      <td>0</td>\n",
       "      <td>0</td>\n",
       "      <td>0</td>\n",
       "      <td>0</td>\n",
       "      <td>1</td>\n",
       "      <td>0</td>\n",
       "      <td>1</td>\n",
       "      <td>0</td>\n",
       "      <td>0</td>\n",
       "      <td>0</td>\n",
       "      <td>0</td>\n",
       "      <td>1</td>\n",
       "      <td>0</td>\n",
       "      <td>1</td>\n",
       "      <td>0</td>\n",
       "      <td>0</td>\n",
       "      <td>0</td>\n",
       "      <td>1</td>\n",
       "      <td>0</td>\n",
       "      <td>0</td>\n",
       "      <td>0</td>\n",
       "      <td>1</td>\n",
       "      <td>0</td>\n",
       "      <td>0</td>\n",
       "      <td>1</td>\n",
       "      <td>1</td>\n",
       "      <td>0</td>\n",
       "      <td>20</td>\n",
       "      <td>2629</td>\n",
       "      <td>2</td>\n",
       "      <td>3</td>\n",
       "      <td>29</td>\n",
       "      <td>2</td>\n",
       "      <td>1</td>\n",
       "    </tr>\n",
       "    <tr>\n",
       "      <th>916</th>\n",
       "      <td>0</td>\n",
       "      <td>1</td>\n",
       "      <td>0</td>\n",
       "      <td>0</td>\n",
       "      <td>0</td>\n",
       "      <td>1</td>\n",
       "      <td>0</td>\n",
       "      <td>0</td>\n",
       "      <td>0</td>\n",
       "      <td>0</td>\n",
       "      <td>1</td>\n",
       "      <td>0</td>\n",
       "      <td>0</td>\n",
       "      <td>0</td>\n",
       "      <td>0</td>\n",
       "      <td>0</td>\n",
       "      <td>0</td>\n",
       "      <td>0</td>\n",
       "      <td>0</td>\n",
       "      <td>1</td>\n",
       "      <td>0</td>\n",
       "      <td>0</td>\n",
       "      <td>0</td>\n",
       "      <td>0</td>\n",
       "      <td>0</td>\n",
       "      <td>0</td>\n",
       "      <td>0</td>\n",
       "      <td>0</td>\n",
       "      <td>1</td>\n",
       "      <td>0</td>\n",
       "      <td>1</td>\n",
       "      <td>0</td>\n",
       "      <td>0</td>\n",
       "      <td>1</td>\n",
       "      <td>0</td>\n",
       "      <td>0</td>\n",
       "      <td>0</td>\n",
       "      <td>0</td>\n",
       "      <td>0</td>\n",
       "      <td>1</td>\n",
       "      <td>1</td>\n",
       "      <td>0</td>\n",
       "      <td>0</td>\n",
       "      <td>0</td>\n",
       "      <td>0</td>\n",
       "      <td>1</td>\n",
       "      <td>0</td>\n",
       "      <td>0</td>\n",
       "      <td>0</td>\n",
       "      <td>1</td>\n",
       "      <td>0</td>\n",
       "      <td>1</td>\n",
       "      <td>1</td>\n",
       "      <td>0</td>\n",
       "      <td>9</td>\n",
       "      <td>5129</td>\n",
       "      <td>2</td>\n",
       "      <td>4</td>\n",
       "      <td>74</td>\n",
       "      <td>1</td>\n",
       "      <td>2</td>\n",
       "    </tr>\n",
       "    <tr>\n",
       "      <th>848</th>\n",
       "      <td>1</td>\n",
       "      <td>0</td>\n",
       "      <td>0</td>\n",
       "      <td>0</td>\n",
       "      <td>0</td>\n",
       "      <td>0</td>\n",
       "      <td>0</td>\n",
       "      <td>0</td>\n",
       "      <td>1</td>\n",
       "      <td>0</td>\n",
       "      <td>0</td>\n",
       "      <td>0</td>\n",
       "      <td>1</td>\n",
       "      <td>0</td>\n",
       "      <td>0</td>\n",
       "      <td>0</td>\n",
       "      <td>0</td>\n",
       "      <td>0</td>\n",
       "      <td>0</td>\n",
       "      <td>0</td>\n",
       "      <td>0</td>\n",
       "      <td>1</td>\n",
       "      <td>0</td>\n",
       "      <td>0</td>\n",
       "      <td>0</td>\n",
       "      <td>0</td>\n",
       "      <td>1</td>\n",
       "      <td>0</td>\n",
       "      <td>0</td>\n",
       "      <td>0</td>\n",
       "      <td>1</td>\n",
       "      <td>0</td>\n",
       "      <td>0</td>\n",
       "      <td>1</td>\n",
       "      <td>0</td>\n",
       "      <td>0</td>\n",
       "      <td>0</td>\n",
       "      <td>0</td>\n",
       "      <td>1</td>\n",
       "      <td>0</td>\n",
       "      <td>0</td>\n",
       "      <td>0</td>\n",
       "      <td>1</td>\n",
       "      <td>0</td>\n",
       "      <td>1</td>\n",
       "      <td>0</td>\n",
       "      <td>0</td>\n",
       "      <td>0</td>\n",
       "      <td>1</td>\n",
       "      <td>0</td>\n",
       "      <td>1</td>\n",
       "      <td>0</td>\n",
       "      <td>1</td>\n",
       "      <td>0</td>\n",
       "      <td>33</td>\n",
       "      <td>4281</td>\n",
       "      <td>1</td>\n",
       "      <td>4</td>\n",
       "      <td>23</td>\n",
       "      <td>2</td>\n",
       "      <td>1</td>\n",
       "    </tr>\n",
       "    <tr>\n",
       "      <th>618</th>\n",
       "      <td>0</td>\n",
       "      <td>1</td>\n",
       "      <td>0</td>\n",
       "      <td>0</td>\n",
       "      <td>0</td>\n",
       "      <td>0</td>\n",
       "      <td>1</td>\n",
       "      <td>0</td>\n",
       "      <td>0</td>\n",
       "      <td>0</td>\n",
       "      <td>0</td>\n",
       "      <td>0</td>\n",
       "      <td>1</td>\n",
       "      <td>0</td>\n",
       "      <td>0</td>\n",
       "      <td>0</td>\n",
       "      <td>0</td>\n",
       "      <td>0</td>\n",
       "      <td>0</td>\n",
       "      <td>0</td>\n",
       "      <td>1</td>\n",
       "      <td>0</td>\n",
       "      <td>0</td>\n",
       "      <td>0</td>\n",
       "      <td>0</td>\n",
       "      <td>0</td>\n",
       "      <td>1</td>\n",
       "      <td>0</td>\n",
       "      <td>0</td>\n",
       "      <td>0</td>\n",
       "      <td>1</td>\n",
       "      <td>0</td>\n",
       "      <td>0</td>\n",
       "      <td>0</td>\n",
       "      <td>1</td>\n",
       "      <td>0</td>\n",
       "      <td>0</td>\n",
       "      <td>0</td>\n",
       "      <td>1</td>\n",
       "      <td>0</td>\n",
       "      <td>0</td>\n",
       "      <td>0</td>\n",
       "      <td>1</td>\n",
       "      <td>1</td>\n",
       "      <td>0</td>\n",
       "      <td>0</td>\n",
       "      <td>0</td>\n",
       "      <td>0</td>\n",
       "      <td>1</td>\n",
       "      <td>0</td>\n",
       "      <td>1</td>\n",
       "      <td>0</td>\n",
       "      <td>1</td>\n",
       "      <td>0</td>\n",
       "      <td>30</td>\n",
       "      <td>3441</td>\n",
       "      <td>2</td>\n",
       "      <td>4</td>\n",
       "      <td>21</td>\n",
       "      <td>1</td>\n",
       "      <td>1</td>\n",
       "    </tr>\n",
       "  </tbody>\n",
       "</table>\n",
       "</div>"
      ],
      "text/plain": [
       "     Status_of_existing_checking_account_A11  ...  Number_of_People_being_liable_to_provide_maintenance_for\n",
       "201                                        1  ...                                                  1       \n",
       "442                                        0  ...                                                  1       \n",
       "916                                        0  ...                                                  2       \n",
       "848                                        1  ...                                                  1       \n",
       "618                                        0  ...                                                  1       \n",
       "\n",
       "[5 rows x 61 columns]"
      ]
     },
     "execution_count": 132,
     "metadata": {
      "tags": []
     },
     "output_type": "execute_result"
    }
   ],
   "source": [
    "df_x_train.head()"
   ]
  },
  {
   "cell_type": "code",
   "execution_count": null,
   "metadata": {
    "colab": {
     "base_uri": "https://localhost:8080/",
     "height": 223
    },
    "executionInfo": {
     "elapsed": 3,
     "status": "ok",
     "timestamp": 1623982081015,
     "user": {
      "displayName": "Aniket Chhabra",
      "photoUrl": "https://lh3.googleusercontent.com/a-/AOh14Gh4750K16oah3CCSd7jmNjyHr23ob4sQFELlC0o=s64",
      "userId": "13194987590931587864"
     },
     "user_tz": -330
    },
    "id": "MtrnD8Bsyqv0",
    "outputId": "dba7aa8d-f57e-4671-fbff-56e7843cde28"
   },
   "outputs": [
    {
     "data": {
      "text/html": [
       "<div>\n",
       "<style scoped>\n",
       "    .dataframe tbody tr th:only-of-type {\n",
       "        vertical-align: middle;\n",
       "    }\n",
       "\n",
       "    .dataframe tbody tr th {\n",
       "        vertical-align: top;\n",
       "    }\n",
       "\n",
       "    .dataframe thead th {\n",
       "        text-align: right;\n",
       "    }\n",
       "</style>\n",
       "<table border=\"1\" class=\"dataframe\">\n",
       "  <thead>\n",
       "    <tr style=\"text-align: right;\">\n",
       "      <th></th>\n",
       "      <th>Status_of_existing_checking_account_A11</th>\n",
       "      <th>Status_of_existing_checking_account_A12</th>\n",
       "      <th>Status_of_existing_checking_account_A13</th>\n",
       "      <th>Status_of_existing_checking_account_A14</th>\n",
       "      <th>Credit_history_A30</th>\n",
       "      <th>Credit_history_A31</th>\n",
       "      <th>Credit_history_A32</th>\n",
       "      <th>Credit_history_A33</th>\n",
       "      <th>Credit_history_A34</th>\n",
       "      <th>Purpose_A40</th>\n",
       "      <th>Purpose_A41</th>\n",
       "      <th>Purpose_A410</th>\n",
       "      <th>Purpose_A42</th>\n",
       "      <th>Purpose_A43</th>\n",
       "      <th>Purpose_A44</th>\n",
       "      <th>Purpose_A45</th>\n",
       "      <th>Purpose_A46</th>\n",
       "      <th>Purpose_A48</th>\n",
       "      <th>Purpose_A49</th>\n",
       "      <th>Savings_Account_A61</th>\n",
       "      <th>Savings_Account_A62</th>\n",
       "      <th>Savings_Account_A63</th>\n",
       "      <th>Savings_Account_A64</th>\n",
       "      <th>Savings_Account_A65</th>\n",
       "      <th>Present_Employment_since_A71</th>\n",
       "      <th>Present_Employment_since_A72</th>\n",
       "      <th>Present_Employment_since_A73</th>\n",
       "      <th>Present_Employment_since_A74</th>\n",
       "      <th>Present_Employment_since_A75</th>\n",
       "      <th>Personal_status_and_sex_A91</th>\n",
       "      <th>Personal_status_and_sex_A92</th>\n",
       "      <th>Personal_status_and_sex_A93</th>\n",
       "      <th>Personal_status_and_sex_A94</th>\n",
       "      <th>Other_debtors_A101</th>\n",
       "      <th>Other_debtors_A102</th>\n",
       "      <th>Other_debtors_A103</th>\n",
       "      <th>Property_A121</th>\n",
       "      <th>Property_A122</th>\n",
       "      <th>Property_A123</th>\n",
       "      <th>Property_A124</th>\n",
       "      <th>Other_installment_plans_A141</th>\n",
       "      <th>Other_installment_plans_A142</th>\n",
       "      <th>Other_installment_plans_A143</th>\n",
       "      <th>Housing_A151</th>\n",
       "      <th>Housing_A152</th>\n",
       "      <th>Housing_A153</th>\n",
       "      <th>Job_A171</th>\n",
       "      <th>Job_A172</th>\n",
       "      <th>Job_A173</th>\n",
       "      <th>Job_A174</th>\n",
       "      <th>Telephone_A191</th>\n",
       "      <th>Telephone_A192</th>\n",
       "      <th>Foreign_worker_A201</th>\n",
       "      <th>Foreign_worker_A202</th>\n",
       "      <th>Duration_in_month</th>\n",
       "      <th>Credit_amount</th>\n",
       "      <th>Installment_rate_in_percentage_of_disposable_income</th>\n",
       "      <th>Present_residence_since</th>\n",
       "      <th>Age_in_years</th>\n",
       "      <th>Number_of_existing_credits_at_this_bank</th>\n",
       "      <th>Number_of_People_being_liable_to_provide_maintenance_for</th>\n",
       "    </tr>\n",
       "  </thead>\n",
       "  <tbody>\n",
       "    <tr>\n",
       "      <th>142</th>\n",
       "      <td>1</td>\n",
       "      <td>0</td>\n",
       "      <td>0</td>\n",
       "      <td>0</td>\n",
       "      <td>0</td>\n",
       "      <td>0</td>\n",
       "      <td>1</td>\n",
       "      <td>0</td>\n",
       "      <td>0</td>\n",
       "      <td>0</td>\n",
       "      <td>0</td>\n",
       "      <td>0</td>\n",
       "      <td>0</td>\n",
       "      <td>1</td>\n",
       "      <td>0</td>\n",
       "      <td>0</td>\n",
       "      <td>0</td>\n",
       "      <td>0</td>\n",
       "      <td>0</td>\n",
       "      <td>1</td>\n",
       "      <td>0</td>\n",
       "      <td>0</td>\n",
       "      <td>0</td>\n",
       "      <td>0</td>\n",
       "      <td>0</td>\n",
       "      <td>0</td>\n",
       "      <td>1</td>\n",
       "      <td>0</td>\n",
       "      <td>0</td>\n",
       "      <td>0</td>\n",
       "      <td>0</td>\n",
       "      <td>1</td>\n",
       "      <td>0</td>\n",
       "      <td>1</td>\n",
       "      <td>0</td>\n",
       "      <td>0</td>\n",
       "      <td>0</td>\n",
       "      <td>0</td>\n",
       "      <td>1</td>\n",
       "      <td>0</td>\n",
       "      <td>0</td>\n",
       "      <td>0</td>\n",
       "      <td>1</td>\n",
       "      <td>0</td>\n",
       "      <td>1</td>\n",
       "      <td>0</td>\n",
       "      <td>0</td>\n",
       "      <td>0</td>\n",
       "      <td>0</td>\n",
       "      <td>1</td>\n",
       "      <td>1</td>\n",
       "      <td>0</td>\n",
       "      <td>1</td>\n",
       "      <td>0</td>\n",
       "      <td>27</td>\n",
       "      <td>3416</td>\n",
       "      <td>3</td>\n",
       "      <td>2</td>\n",
       "      <td>27</td>\n",
       "      <td>1</td>\n",
       "      <td>1</td>\n",
       "    </tr>\n",
       "    <tr>\n",
       "      <th>370</th>\n",
       "      <td>0</td>\n",
       "      <td>0</td>\n",
       "      <td>0</td>\n",
       "      <td>1</td>\n",
       "      <td>0</td>\n",
       "      <td>0</td>\n",
       "      <td>1</td>\n",
       "      <td>0</td>\n",
       "      <td>0</td>\n",
       "      <td>1</td>\n",
       "      <td>0</td>\n",
       "      <td>0</td>\n",
       "      <td>0</td>\n",
       "      <td>0</td>\n",
       "      <td>0</td>\n",
       "      <td>0</td>\n",
       "      <td>0</td>\n",
       "      <td>0</td>\n",
       "      <td>0</td>\n",
       "      <td>0</td>\n",
       "      <td>0</td>\n",
       "      <td>0</td>\n",
       "      <td>0</td>\n",
       "      <td>1</td>\n",
       "      <td>0</td>\n",
       "      <td>0</td>\n",
       "      <td>1</td>\n",
       "      <td>0</td>\n",
       "      <td>0</td>\n",
       "      <td>0</td>\n",
       "      <td>0</td>\n",
       "      <td>1</td>\n",
       "      <td>0</td>\n",
       "      <td>1</td>\n",
       "      <td>0</td>\n",
       "      <td>0</td>\n",
       "      <td>1</td>\n",
       "      <td>0</td>\n",
       "      <td>0</td>\n",
       "      <td>0</td>\n",
       "      <td>0</td>\n",
       "      <td>0</td>\n",
       "      <td>1</td>\n",
       "      <td>0</td>\n",
       "      <td>1</td>\n",
       "      <td>0</td>\n",
       "      <td>0</td>\n",
       "      <td>0</td>\n",
       "      <td>1</td>\n",
       "      <td>0</td>\n",
       "      <td>1</td>\n",
       "      <td>0</td>\n",
       "      <td>1</td>\n",
       "      <td>0</td>\n",
       "      <td>36</td>\n",
       "      <td>3079</td>\n",
       "      <td>4</td>\n",
       "      <td>4</td>\n",
       "      <td>36</td>\n",
       "      <td>1</td>\n",
       "      <td>1</td>\n",
       "    </tr>\n",
       "    <tr>\n",
       "      <th>409</th>\n",
       "      <td>0</td>\n",
       "      <td>0</td>\n",
       "      <td>1</td>\n",
       "      <td>0</td>\n",
       "      <td>0</td>\n",
       "      <td>0</td>\n",
       "      <td>0</td>\n",
       "      <td>0</td>\n",
       "      <td>1</td>\n",
       "      <td>1</td>\n",
       "      <td>0</td>\n",
       "      <td>0</td>\n",
       "      <td>0</td>\n",
       "      <td>0</td>\n",
       "      <td>0</td>\n",
       "      <td>0</td>\n",
       "      <td>0</td>\n",
       "      <td>0</td>\n",
       "      <td>0</td>\n",
       "      <td>0</td>\n",
       "      <td>0</td>\n",
       "      <td>1</td>\n",
       "      <td>0</td>\n",
       "      <td>0</td>\n",
       "      <td>0</td>\n",
       "      <td>0</td>\n",
       "      <td>0</td>\n",
       "      <td>1</td>\n",
       "      <td>0</td>\n",
       "      <td>0</td>\n",
       "      <td>0</td>\n",
       "      <td>0</td>\n",
       "      <td>1</td>\n",
       "      <td>1</td>\n",
       "      <td>0</td>\n",
       "      <td>0</td>\n",
       "      <td>1</td>\n",
       "      <td>0</td>\n",
       "      <td>0</td>\n",
       "      <td>0</td>\n",
       "      <td>0</td>\n",
       "      <td>0</td>\n",
       "      <td>1</td>\n",
       "      <td>0</td>\n",
       "      <td>1</td>\n",
       "      <td>0</td>\n",
       "      <td>0</td>\n",
       "      <td>0</td>\n",
       "      <td>1</td>\n",
       "      <td>0</td>\n",
       "      <td>0</td>\n",
       "      <td>1</td>\n",
       "      <td>1</td>\n",
       "      <td>0</td>\n",
       "      <td>12</td>\n",
       "      <td>939</td>\n",
       "      <td>4</td>\n",
       "      <td>2</td>\n",
       "      <td>28</td>\n",
       "      <td>3</td>\n",
       "      <td>1</td>\n",
       "    </tr>\n",
       "    <tr>\n",
       "      <th>338</th>\n",
       "      <td>1</td>\n",
       "      <td>0</td>\n",
       "      <td>0</td>\n",
       "      <td>0</td>\n",
       "      <td>0</td>\n",
       "      <td>0</td>\n",
       "      <td>1</td>\n",
       "      <td>0</td>\n",
       "      <td>0</td>\n",
       "      <td>0</td>\n",
       "      <td>0</td>\n",
       "      <td>0</td>\n",
       "      <td>1</td>\n",
       "      <td>0</td>\n",
       "      <td>0</td>\n",
       "      <td>0</td>\n",
       "      <td>0</td>\n",
       "      <td>0</td>\n",
       "      <td>0</td>\n",
       "      <td>1</td>\n",
       "      <td>0</td>\n",
       "      <td>0</td>\n",
       "      <td>0</td>\n",
       "      <td>0</td>\n",
       "      <td>0</td>\n",
       "      <td>0</td>\n",
       "      <td>1</td>\n",
       "      <td>0</td>\n",
       "      <td>0</td>\n",
       "      <td>0</td>\n",
       "      <td>0</td>\n",
       "      <td>1</td>\n",
       "      <td>0</td>\n",
       "      <td>1</td>\n",
       "      <td>0</td>\n",
       "      <td>0</td>\n",
       "      <td>0</td>\n",
       "      <td>1</td>\n",
       "      <td>0</td>\n",
       "      <td>0</td>\n",
       "      <td>0</td>\n",
       "      <td>0</td>\n",
       "      <td>1</td>\n",
       "      <td>0</td>\n",
       "      <td>1</td>\n",
       "      <td>0</td>\n",
       "      <td>0</td>\n",
       "      <td>0</td>\n",
       "      <td>1</td>\n",
       "      <td>0</td>\n",
       "      <td>1</td>\n",
       "      <td>0</td>\n",
       "      <td>1</td>\n",
       "      <td>0</td>\n",
       "      <td>24</td>\n",
       "      <td>4169</td>\n",
       "      <td>4</td>\n",
       "      <td>4</td>\n",
       "      <td>28</td>\n",
       "      <td>1</td>\n",
       "      <td>1</td>\n",
       "    </tr>\n",
       "    <tr>\n",
       "      <th>254</th>\n",
       "      <td>0</td>\n",
       "      <td>1</td>\n",
       "      <td>0</td>\n",
       "      <td>0</td>\n",
       "      <td>0</td>\n",
       "      <td>0</td>\n",
       "      <td>1</td>\n",
       "      <td>0</td>\n",
       "      <td>0</td>\n",
       "      <td>0</td>\n",
       "      <td>0</td>\n",
       "      <td>0</td>\n",
       "      <td>1</td>\n",
       "      <td>0</td>\n",
       "      <td>0</td>\n",
       "      <td>0</td>\n",
       "      <td>0</td>\n",
       "      <td>0</td>\n",
       "      <td>0</td>\n",
       "      <td>0</td>\n",
       "      <td>0</td>\n",
       "      <td>0</td>\n",
       "      <td>0</td>\n",
       "      <td>1</td>\n",
       "      <td>0</td>\n",
       "      <td>0</td>\n",
       "      <td>0</td>\n",
       "      <td>1</td>\n",
       "      <td>0</td>\n",
       "      <td>0</td>\n",
       "      <td>0</td>\n",
       "      <td>1</td>\n",
       "      <td>0</td>\n",
       "      <td>1</td>\n",
       "      <td>0</td>\n",
       "      <td>0</td>\n",
       "      <td>0</td>\n",
       "      <td>0</td>\n",
       "      <td>1</td>\n",
       "      <td>0</td>\n",
       "      <td>0</td>\n",
       "      <td>0</td>\n",
       "      <td>1</td>\n",
       "      <td>0</td>\n",
       "      <td>1</td>\n",
       "      <td>0</td>\n",
       "      <td>0</td>\n",
       "      <td>0</td>\n",
       "      <td>1</td>\n",
       "      <td>0</td>\n",
       "      <td>0</td>\n",
       "      <td>1</td>\n",
       "      <td>1</td>\n",
       "      <td>0</td>\n",
       "      <td>9</td>\n",
       "      <td>2030</td>\n",
       "      <td>2</td>\n",
       "      <td>1</td>\n",
       "      <td>24</td>\n",
       "      <td>1</td>\n",
       "      <td>1</td>\n",
       "    </tr>\n",
       "  </tbody>\n",
       "</table>\n",
       "</div>"
      ],
      "text/plain": [
       "     Status_of_existing_checking_account_A11  ...  Number_of_People_being_liable_to_provide_maintenance_for\n",
       "142                                        1  ...                                                  1       \n",
       "370                                        0  ...                                                  1       \n",
       "409                                        0  ...                                                  1       \n",
       "338                                        1  ...                                                  1       \n",
       "254                                        0  ...                                                  1       \n",
       "\n",
       "[5 rows x 61 columns]"
      ]
     },
     "execution_count": 133,
     "metadata": {
      "tags": []
     },
     "output_type": "execute_result"
    }
   ],
   "source": [
    "df_x_test.head()"
   ]
  },
  {
   "cell_type": "markdown",
   "metadata": {
    "id": "XtzJuKmgwYzy"
   },
   "source": [
    "## **Scaling Numercial Data**"
   ]
  },
  {
   "cell_type": "code",
   "execution_count": null,
   "metadata": {
    "colab": {
     "base_uri": "https://localhost:8080/"
    },
    "executionInfo": {
     "elapsed": 1244,
     "status": "ok",
     "timestamp": 1623982102924,
     "user": {
      "displayName": "Aniket Chhabra",
      "photoUrl": "https://lh3.googleusercontent.com/a-/AOh14Gh4750K16oah3CCSd7jmNjyHr23ob4sQFELlC0o=s64",
      "userId": "13194987590931587864"
     },
     "user_tz": -330
    },
    "id": "HSytR76djvUu",
    "outputId": "9653697b-7d73-4080-ccca-0dd1653b8ef9"
   },
   "outputs": [
    {
     "data": {
      "text/plain": [
       "['Duration_in_month',\n",
       " 'Credit_amount',\n",
       " 'Installment_rate_in_percentage_of_disposable_income',\n",
       " 'Present_residence_since',\n",
       " 'Age_in_years',\n",
       " 'Number_of_existing_credits_at_this_bank',\n",
       " 'Number_of_People_being_liable_to_provide_maintenance_for']"
      ]
     },
     "execution_count": 135,
     "metadata": {
      "tags": []
     },
     "output_type": "execute_result"
    }
   ],
   "source": [
    "# remove the class column from credit data\n",
    "num_cols = credit_data.iloc[:,:-1].select_dtypes(include = np.number).columns.tolist()\n",
    "num_cols"
   ]
  },
  {
   "cell_type": "code",
   "execution_count": null,
   "metadata": {
    "colab": {
     "base_uri": "https://localhost:8080/",
     "height": 223
    },
    "executionInfo": {
     "elapsed": 1397,
     "status": "ok",
     "timestamp": 1623982108323,
     "user": {
      "displayName": "Aniket Chhabra",
      "photoUrl": "https://lh3.googleusercontent.com/a-/AOh14Gh4750K16oah3CCSd7jmNjyHr23ob4sQFELlC0o=s64",
      "userId": "13194987590931587864"
     },
     "user_tz": -330
    },
    "id": "wg6GPGBZw1Fk",
    "outputId": "33169f41-12d2-4bb0-c59e-25823359cb4a"
   },
   "outputs": [
    {
     "data": {
      "text/html": [
       "<div>\n",
       "<style scoped>\n",
       "    .dataframe tbody tr th:only-of-type {\n",
       "        vertical-align: middle;\n",
       "    }\n",
       "\n",
       "    .dataframe tbody tr th {\n",
       "        vertical-align: top;\n",
       "    }\n",
       "\n",
       "    .dataframe thead th {\n",
       "        text-align: right;\n",
       "    }\n",
       "</style>\n",
       "<table border=\"1\" class=\"dataframe\">\n",
       "  <thead>\n",
       "    <tr style=\"text-align: right;\">\n",
       "      <th></th>\n",
       "      <th>Duration_in_month</th>\n",
       "      <th>Credit_amount</th>\n",
       "      <th>Installment_rate_in_percentage_of_disposable_income</th>\n",
       "      <th>Present_residence_since</th>\n",
       "      <th>Age_in_years</th>\n",
       "      <th>Number_of_existing_credits_at_this_bank</th>\n",
       "      <th>Number_of_People_being_liable_to_provide_maintenance_for</th>\n",
       "    </tr>\n",
       "  </thead>\n",
       "  <tbody>\n",
       "    <tr>\n",
       "      <th>201</th>\n",
       "      <td>12</td>\n",
       "      <td>1168</td>\n",
       "      <td>4</td>\n",
       "      <td>3</td>\n",
       "      <td>27</td>\n",
       "      <td>1</td>\n",
       "      <td>1</td>\n",
       "    </tr>\n",
       "    <tr>\n",
       "      <th>442</th>\n",
       "      <td>20</td>\n",
       "      <td>2629</td>\n",
       "      <td>2</td>\n",
       "      <td>3</td>\n",
       "      <td>29</td>\n",
       "      <td>2</td>\n",
       "      <td>1</td>\n",
       "    </tr>\n",
       "    <tr>\n",
       "      <th>916</th>\n",
       "      <td>9</td>\n",
       "      <td>5129</td>\n",
       "      <td>2</td>\n",
       "      <td>4</td>\n",
       "      <td>74</td>\n",
       "      <td>1</td>\n",
       "      <td>2</td>\n",
       "    </tr>\n",
       "    <tr>\n",
       "      <th>848</th>\n",
       "      <td>33</td>\n",
       "      <td>4281</td>\n",
       "      <td>1</td>\n",
       "      <td>4</td>\n",
       "      <td>23</td>\n",
       "      <td>2</td>\n",
       "      <td>1</td>\n",
       "    </tr>\n",
       "    <tr>\n",
       "      <th>618</th>\n",
       "      <td>30</td>\n",
       "      <td>3441</td>\n",
       "      <td>2</td>\n",
       "      <td>4</td>\n",
       "      <td>21</td>\n",
       "      <td>1</td>\n",
       "      <td>1</td>\n",
       "    </tr>\n",
       "  </tbody>\n",
       "</table>\n",
       "</div>"
      ],
      "text/plain": [
       "     Duration_in_month  ...  Number_of_People_being_liable_to_provide_maintenance_for\n",
       "201                 12  ...                                                  1       \n",
       "442                 20  ...                                                  1       \n",
       "916                  9  ...                                                  2       \n",
       "848                 33  ...                                                  1       \n",
       "618                 30  ...                                                  1       \n",
       "\n",
       "[5 rows x 7 columns]"
      ]
     },
     "execution_count": 136,
     "metadata": {
      "tags": []
     },
     "output_type": "execute_result"
    }
   ],
   "source": [
    "# Trianing numerical data\n",
    "train_num_data = df_x_train[num_cols]\n",
    "train_num_data.head()"
   ]
  },
  {
   "cell_type": "markdown",
   "metadata": {
    "id": "V2mf7sPRkQAP"
   },
   "source": [
    "### **Train Data fit_transformation**"
   ]
  },
  {
   "cell_type": "code",
   "execution_count": null,
   "metadata": {
    "colab": {
     "base_uri": "https://localhost:8080/",
     "height": 223
    },
    "executionInfo": {
     "elapsed": 1336,
     "status": "ok",
     "timestamp": 1623982115408,
     "user": {
      "displayName": "Aniket Chhabra",
      "photoUrl": "https://lh3.googleusercontent.com/a-/AOh14Gh4750K16oah3CCSd7jmNjyHr23ob4sQFELlC0o=s64",
      "userId": "13194987590931587864"
     },
     "user_tz": -330
    },
    "id": "S9i6CkicwSX7",
    "outputId": "59bd02d9-3d9c-4568-f612-7acf54299cda"
   },
   "outputs": [
    {
     "data": {
      "text/html": [
       "<div>\n",
       "<style scoped>\n",
       "    .dataframe tbody tr th:only-of-type {\n",
       "        vertical-align: middle;\n",
       "    }\n",
       "\n",
       "    .dataframe tbody tr th {\n",
       "        vertical-align: top;\n",
       "    }\n",
       "\n",
       "    .dataframe thead th {\n",
       "        text-align: right;\n",
       "    }\n",
       "</style>\n",
       "<table border=\"1\" class=\"dataframe\">\n",
       "  <thead>\n",
       "    <tr style=\"text-align: right;\">\n",
       "      <th></th>\n",
       "      <th>Duration_in_month</th>\n",
       "      <th>Credit_amount</th>\n",
       "      <th>Installment_rate_in_percentage_of_disposable_income</th>\n",
       "      <th>Present_residence_since</th>\n",
       "      <th>Age_in_years</th>\n",
       "      <th>Number_of_existing_credits_at_this_bank</th>\n",
       "      <th>Number_of_People_being_liable_to_provide_maintenance_for</th>\n",
       "    </tr>\n",
       "  </thead>\n",
       "  <tbody>\n",
       "    <tr>\n",
       "      <th>201</th>\n",
       "      <td>0.142857</td>\n",
       "      <td>0.053181</td>\n",
       "      <td>1.000000</td>\n",
       "      <td>0.666667</td>\n",
       "      <td>0.142857</td>\n",
       "      <td>0.000000</td>\n",
       "      <td>0.0</td>\n",
       "    </tr>\n",
       "    <tr>\n",
       "      <th>442</th>\n",
       "      <td>0.285714</td>\n",
       "      <td>0.146793</td>\n",
       "      <td>0.333333</td>\n",
       "      <td>0.666667</td>\n",
       "      <td>0.178571</td>\n",
       "      <td>0.333333</td>\n",
       "      <td>0.0</td>\n",
       "    </tr>\n",
       "    <tr>\n",
       "      <th>916</th>\n",
       "      <td>0.089286</td>\n",
       "      <td>0.306978</td>\n",
       "      <td>0.333333</td>\n",
       "      <td>1.000000</td>\n",
       "      <td>0.982143</td>\n",
       "      <td>0.000000</td>\n",
       "      <td>1.0</td>\n",
       "    </tr>\n",
       "    <tr>\n",
       "      <th>848</th>\n",
       "      <td>0.517857</td>\n",
       "      <td>0.252643</td>\n",
       "      <td>0.000000</td>\n",
       "      <td>1.000000</td>\n",
       "      <td>0.071429</td>\n",
       "      <td>0.333333</td>\n",
       "      <td>0.0</td>\n",
       "    </tr>\n",
       "    <tr>\n",
       "      <th>618</th>\n",
       "      <td>0.464286</td>\n",
       "      <td>0.198821</td>\n",
       "      <td>0.333333</td>\n",
       "      <td>1.000000</td>\n",
       "      <td>0.035714</td>\n",
       "      <td>0.000000</td>\n",
       "      <td>0.0</td>\n",
       "    </tr>\n",
       "  </tbody>\n",
       "</table>\n",
       "</div>"
      ],
      "text/plain": [
       "     Duration_in_month  ...  Number_of_People_being_liable_to_provide_maintenance_for\n",
       "201           0.142857  ...                                                0.0       \n",
       "442           0.285714  ...                                                0.0       \n",
       "916           0.089286  ...                                                1.0       \n",
       "848           0.517857  ...                                                0.0       \n",
       "618           0.464286  ...                                                0.0       \n",
       "\n",
       "[5 rows x 7 columns]"
      ]
     },
     "execution_count": 137,
     "metadata": {
      "tags": []
     },
     "output_type": "execute_result"
    }
   ],
   "source": [
    "scaler = MinMaxScaler()\n",
    "train_num_data_scaled = scaler.fit_transform(train_num_data)\n",
    "train_num_df_scaled = pd.DataFrame(train_num_data_scaled, \n",
    "                                  index=train_num_data.index,\n",
    "                                  columns=num_cols)\n",
    "train_num_df_scaled.head()"
   ]
  },
  {
   "cell_type": "markdown",
   "metadata": {
    "id": "Uz_p8he5kT_k"
   },
   "source": [
    "### **Test data transformation**"
   ]
  },
  {
   "cell_type": "code",
   "execution_count": null,
   "metadata": {
    "colab": {
     "base_uri": "https://localhost:8080/",
     "height": 223
    },
    "executionInfo": {
     "elapsed": 1362,
     "status": "ok",
     "timestamp": 1623982121512,
     "user": {
      "displayName": "Aniket Chhabra",
      "photoUrl": "https://lh3.googleusercontent.com/a-/AOh14Gh4750K16oah3CCSd7jmNjyHr23ob4sQFELlC0o=s64",
      "userId": "13194987590931587864"
     },
     "user_tz": -330
    },
    "id": "CpfPVFz6kfeG",
    "outputId": "b729111c-7474-4dc2-c726-5531b82555ee"
   },
   "outputs": [
    {
     "data": {
      "text/html": [
       "<div>\n",
       "<style scoped>\n",
       "    .dataframe tbody tr th:only-of-type {\n",
       "        vertical-align: middle;\n",
       "    }\n",
       "\n",
       "    .dataframe tbody tr th {\n",
       "        vertical-align: top;\n",
       "    }\n",
       "\n",
       "    .dataframe thead th {\n",
       "        text-align: right;\n",
       "    }\n",
       "</style>\n",
       "<table border=\"1\" class=\"dataframe\">\n",
       "  <thead>\n",
       "    <tr style=\"text-align: right;\">\n",
       "      <th></th>\n",
       "      <th>Duration_in_month</th>\n",
       "      <th>Credit_amount</th>\n",
       "      <th>Installment_rate_in_percentage_of_disposable_income</th>\n",
       "      <th>Present_residence_since</th>\n",
       "      <th>Age_in_years</th>\n",
       "      <th>Number_of_existing_credits_at_this_bank</th>\n",
       "      <th>Number_of_People_being_liable_to_provide_maintenance_for</th>\n",
       "    </tr>\n",
       "  </thead>\n",
       "  <tbody>\n",
       "    <tr>\n",
       "      <th>142</th>\n",
       "      <td>27</td>\n",
       "      <td>3416</td>\n",
       "      <td>3</td>\n",
       "      <td>2</td>\n",
       "      <td>27</td>\n",
       "      <td>1</td>\n",
       "      <td>1</td>\n",
       "    </tr>\n",
       "    <tr>\n",
       "      <th>370</th>\n",
       "      <td>36</td>\n",
       "      <td>3079</td>\n",
       "      <td>4</td>\n",
       "      <td>4</td>\n",
       "      <td>36</td>\n",
       "      <td>1</td>\n",
       "      <td>1</td>\n",
       "    </tr>\n",
       "    <tr>\n",
       "      <th>409</th>\n",
       "      <td>12</td>\n",
       "      <td>939</td>\n",
       "      <td>4</td>\n",
       "      <td>2</td>\n",
       "      <td>28</td>\n",
       "      <td>3</td>\n",
       "      <td>1</td>\n",
       "    </tr>\n",
       "    <tr>\n",
       "      <th>338</th>\n",
       "      <td>24</td>\n",
       "      <td>4169</td>\n",
       "      <td>4</td>\n",
       "      <td>4</td>\n",
       "      <td>28</td>\n",
       "      <td>1</td>\n",
       "      <td>1</td>\n",
       "    </tr>\n",
       "    <tr>\n",
       "      <th>254</th>\n",
       "      <td>9</td>\n",
       "      <td>2030</td>\n",
       "      <td>2</td>\n",
       "      <td>1</td>\n",
       "      <td>24</td>\n",
       "      <td>1</td>\n",
       "      <td>1</td>\n",
       "    </tr>\n",
       "  </tbody>\n",
       "</table>\n",
       "</div>"
      ],
      "text/plain": [
       "     Duration_in_month  ...  Number_of_People_being_liable_to_provide_maintenance_for\n",
       "142                 27  ...                                                  1       \n",
       "370                 36  ...                                                  1       \n",
       "409                 12  ...                                                  1       \n",
       "338                 24  ...                                                  1       \n",
       "254                  9  ...                                                  1       \n",
       "\n",
       "[5 rows x 7 columns]"
      ]
     },
     "execution_count": 138,
     "metadata": {
      "tags": []
     },
     "output_type": "execute_result"
    }
   ],
   "source": [
    "# Trianing numerical data\n",
    "test_num_data = df_x_test[num_cols]\n",
    "test_num_data.head()"
   ]
  },
  {
   "cell_type": "code",
   "execution_count": null,
   "metadata": {
    "colab": {
     "base_uri": "https://localhost:8080/",
     "height": 223
    },
    "executionInfo": {
     "elapsed": 4,
     "status": "ok",
     "timestamp": 1623982123891,
     "user": {
      "displayName": "Aniket Chhabra",
      "photoUrl": "https://lh3.googleusercontent.com/a-/AOh14Gh4750K16oah3CCSd7jmNjyHr23ob4sQFELlC0o=s64",
      "userId": "13194987590931587864"
     },
     "user_tz": -330
    },
    "id": "BMFYQqy7kNwj",
    "outputId": "de0e4bf6-c96c-4d17-bcaa-ebb91ac3db6f"
   },
   "outputs": [
    {
     "data": {
      "text/html": [
       "<div>\n",
       "<style scoped>\n",
       "    .dataframe tbody tr th:only-of-type {\n",
       "        vertical-align: middle;\n",
       "    }\n",
       "\n",
       "    .dataframe tbody tr th {\n",
       "        vertical-align: top;\n",
       "    }\n",
       "\n",
       "    .dataframe thead th {\n",
       "        text-align: right;\n",
       "    }\n",
       "</style>\n",
       "<table border=\"1\" class=\"dataframe\">\n",
       "  <thead>\n",
       "    <tr style=\"text-align: right;\">\n",
       "      <th></th>\n",
       "      <th>Duration_in_month</th>\n",
       "      <th>Credit_amount</th>\n",
       "      <th>Installment_rate_in_percentage_of_disposable_income</th>\n",
       "      <th>Present_residence_since</th>\n",
       "      <th>Age_in_years</th>\n",
       "      <th>Number_of_existing_credits_at_this_bank</th>\n",
       "      <th>Number_of_People_being_liable_to_provide_maintenance_for</th>\n",
       "    </tr>\n",
       "  </thead>\n",
       "  <tbody>\n",
       "    <tr>\n",
       "      <th>142</th>\n",
       "      <td>0.410714</td>\n",
       "      <td>0.197219</td>\n",
       "      <td>0.666667</td>\n",
       "      <td>0.333333</td>\n",
       "      <td>0.142857</td>\n",
       "      <td>0.000000</td>\n",
       "      <td>0.0</td>\n",
       "    </tr>\n",
       "    <tr>\n",
       "      <th>370</th>\n",
       "      <td>0.571429</td>\n",
       "      <td>0.175626</td>\n",
       "      <td>1.000000</td>\n",
       "      <td>1.000000</td>\n",
       "      <td>0.303571</td>\n",
       "      <td>0.000000</td>\n",
       "      <td>0.0</td>\n",
       "    </tr>\n",
       "    <tr>\n",
       "      <th>409</th>\n",
       "      <td>0.142857</td>\n",
       "      <td>0.038508</td>\n",
       "      <td>1.000000</td>\n",
       "      <td>0.333333</td>\n",
       "      <td>0.160714</td>\n",
       "      <td>0.666667</td>\n",
       "      <td>0.0</td>\n",
       "    </tr>\n",
       "    <tr>\n",
       "      <th>338</th>\n",
       "      <td>0.357143</td>\n",
       "      <td>0.245467</td>\n",
       "      <td>1.000000</td>\n",
       "      <td>1.000000</td>\n",
       "      <td>0.160714</td>\n",
       "      <td>0.000000</td>\n",
       "      <td>0.0</td>\n",
       "    </tr>\n",
       "    <tr>\n",
       "      <th>254</th>\n",
       "      <td>0.089286</td>\n",
       "      <td>0.108413</td>\n",
       "      <td>0.333333</td>\n",
       "      <td>0.000000</td>\n",
       "      <td>0.089286</td>\n",
       "      <td>0.000000</td>\n",
       "      <td>0.0</td>\n",
       "    </tr>\n",
       "  </tbody>\n",
       "</table>\n",
       "</div>"
      ],
      "text/plain": [
       "     Duration_in_month  ...  Number_of_People_being_liable_to_provide_maintenance_for\n",
       "142           0.410714  ...                                                0.0       \n",
       "370           0.571429  ...                                                0.0       \n",
       "409           0.142857  ...                                                0.0       \n",
       "338           0.357143  ...                                                0.0       \n",
       "254           0.089286  ...                                                0.0       \n",
       "\n",
       "[5 rows x 7 columns]"
      ]
     },
     "execution_count": 139,
     "metadata": {
      "tags": []
     },
     "output_type": "execute_result"
    }
   ],
   "source": [
    "test_num_data_scaled = scaler.transform(num_data_test)\n",
    "test_num_df_scaled = pd.DataFrame(test_num_data_scaled, \n",
    "                                  index=test_num_data.index,\n",
    "                                  columns=num_cols)\n",
    "test_num_df_scaled.head()"
   ]
  },
  {
   "cell_type": "markdown",
   "metadata": {
    "id": "5rALO2p0vfmZ"
   },
   "source": [
    "## **Final Train and Test Datasets**"
   ]
  },
  {
   "cell_type": "code",
   "execution_count": null,
   "metadata": {
    "id": "KI7w04MyvecQ"
   },
   "outputs": [],
   "source": [
    "X_train_df = pd.concat([train_num_df_scaled, df_x_train.drop(num_cols,axis=1)],axis=1)\n",
    "X_test_df = pd.concat([test_num_df_scaled, df_x_test.drop(num_cols,axis=1)],axis=1)\n",
    "y_train_df = df_y_train\n",
    "y_test_df = df_y_test"
   ]
  },
  {
   "cell_type": "code",
   "execution_count": null,
   "metadata": {
    "colab": {
     "base_uri": "https://localhost:8080/"
    },
    "executionInfo": {
     "elapsed": 2,
     "status": "ok",
     "timestamp": 1623982129615,
     "user": {
      "displayName": "Aniket Chhabra",
      "photoUrl": "https://lh3.googleusercontent.com/a-/AOh14Gh4750K16oah3CCSd7jmNjyHr23ob4sQFELlC0o=s64",
      "userId": "13194987590931587864"
     },
     "user_tz": -330
    },
    "id": "GXN1uuo_w93O",
    "outputId": "8b659dc9-8bac-4793-f706-62bc903f5a71"
   },
   "outputs": [
    {
     "name": "stdout",
     "output_type": "stream",
     "text": [
      "X train shape (704, 61)\n",
      "X test shape (303, 61)\n",
      "y train shape (704,)\n",
      "y test shape (303,)\n"
     ]
    }
   ],
   "source": [
    "print(\"X train shape\", X_train_df.shape)\n",
    "print(\"X test shape\", X_test_df.shape)\n",
    "print(\"y train shape\", y_train_df.shape)\n",
    "print(\"y test shape\", y_test_df.shape)"
   ]
  },
  {
   "cell_type": "markdown",
   "metadata": {
    "id": "JdYoKkmY5TEx"
   },
   "source": [
    "## **Coverting data to Array**"
   ]
  },
  {
   "cell_type": "code",
   "execution_count": null,
   "metadata": {
    "colab": {
     "base_uri": "https://localhost:8080/"
    },
    "executionInfo": {
     "elapsed": 422,
     "status": "ok",
     "timestamp": 1623982135161,
     "user": {
      "displayName": "Aniket Chhabra",
      "photoUrl": "https://lh3.googleusercontent.com/a-/AOh14Gh4750K16oah3CCSd7jmNjyHr23ob4sQFELlC0o=s64",
      "userId": "13194987590931587864"
     },
     "user_tz": -330
    },
    "id": "tMzIPSDY5OZz",
    "outputId": "59e7b4d8-9724-46b4-e93b-4fd658b0a07f"
   },
   "outputs": [
    {
     "name": "stdout",
     "output_type": "stream",
     "text": [
      "X train shape (704, 61)\n",
      "X test shape (303, 61)\n",
      "y train shape (704, 1)\n",
      "y test shape (303, 1)\n"
     ]
    }
   ],
   "source": [
    "X_train = np.array(X_train_df)\n",
    "X_test = np.array(X_test_df)\n",
    "y_train = expand_dims(y_train_df, axis=1)\n",
    "y_test = expand_dims(y_test_df, axis=1)\n",
    "\n",
    "print(\"X train shape\", X_train.shape)\n",
    "print(\"X test shape\", X_test.shape)\n",
    "print(\"y train shape\", y_train.shape)\n",
    "print(\"y test shape\", y_test.shape)"
   ]
  },
  {
   "cell_type": "code",
   "execution_count": null,
   "metadata": {
    "colab": {
     "base_uri": "https://localhost:8080/"
    },
    "executionInfo": {
     "elapsed": 2,
     "status": "ok",
     "timestamp": 1623982139719,
     "user": {
      "displayName": "Aniket Chhabra",
      "photoUrl": "https://lh3.googleusercontent.com/a-/AOh14Gh4750K16oah3CCSd7jmNjyHr23ob4sQFELlC0o=s64",
      "userId": "13194987590931587864"
     },
     "user_tz": -330
    },
    "id": "z1UldNkg6BpW",
    "outputId": "9548a3d5-f7bd-4986-dc6f-6b73f6853548"
   },
   "outputs": [
    {
     "name": "stdout",
     "output_type": "stream",
     "text": [
      "[[0.14285714 0.05318126 1.         0.66666667 0.14285714 0.\n",
      "  0.         1.         0.         0.         0.         0.\n",
      "  0.         1.         0.         0.         1.         0.\n",
      "  0.         0.         0.         0.         0.         0.\n",
      "  0.         0.         1.         0.         0.         0.\n",
      "  0.         0.         0.         1.         0.         0.\n",
      "  0.         0.         0.         1.         1.         0.\n",
      "  0.         1.         0.         0.         0.         0.\n",
      "  0.         1.         0.         1.         0.         0.\n",
      "  1.         0.         0.         1.         0.         1.\n",
      "  0.        ]]\n",
      "[[0]\n",
      " [0]\n",
      " [1]\n",
      " [0]\n",
      " [0]]\n"
     ]
    }
   ],
   "source": [
    "print(X_train[:1])\n",
    "print(y_test[:5])"
   ]
  },
  {
   "cell_type": "code",
   "execution_count": null,
   "metadata": {
    "colab": {
     "base_uri": "https://localhost:8080/"
    },
    "executionInfo": {
     "elapsed": 3,
     "status": "ok",
     "timestamp": 1623982144556,
     "user": {
      "displayName": "Aniket Chhabra",
      "photoUrl": "https://lh3.googleusercontent.com/a-/AOh14Gh4750K16oah3CCSd7jmNjyHr23ob4sQFELlC0o=s64",
      "userId": "13194987590931587864"
     },
     "user_tz": -330
    },
    "id": "TEDjkfiW6D0j",
    "outputId": "fa4e3a1e-041a-4ace-b574-7dee5721f95f"
   },
   "outputs": [
    {
     "data": {
      "text/plain": [
       "numpy.ndarray"
      ]
     },
     "execution_count": 144,
     "metadata": {
      "tags": []
     },
     "output_type": "execute_result"
    }
   ],
   "source": [
    "type(X_train)"
   ]
  },
  {
   "cell_type": "markdown",
   "metadata": {
    "id": "KfP4nDMQ7Wgd"
   },
   "source": [
    "# **2. Define & Compile Keras Model**"
   ]
  },
  {
   "cell_type": "code",
   "execution_count": null,
   "metadata": {
    "id": "E5zW-s9r7RbK"
   },
   "outputs": [],
   "source": [
    "def DNN_Binary_Classification_KS(_input_dim,metrics):\n",
    "    \n",
    "    # Layer 1\n",
    "    model = Sequential()\n",
    "    model.add(Dense(10,input_shape=(_input_dim,)))\n",
    "    model.add(Activation('relu'))\n",
    "    \n",
    "    # Layer 2\n",
    "    model.add(Dense(10))\n",
    "    model.add(Activation('relu'))\n",
    "    \n",
    "    # Layer 3\n",
    "    model.add(Dense(1))\n",
    "    model.add(Activation('sigmoid'))\n",
    "\n",
    "    \n",
    "    adam_opt = Adam(lr=0.01)\n",
    "\n",
    "    print(model.summary)\n",
    "    \n",
    "    # Model compilation\n",
    "    model.compile(loss='binary_crossentropy',optimizer = adam_opt,metrics=metrics)\n",
    "\n",
    "    return model"
   ]
  },
  {
   "cell_type": "markdown",
   "metadata": {
    "id": "BfBcERW-7ne9"
   },
   "source": [
    "# **3. Fit Keras Model**"
   ]
  },
  {
   "cell_type": "code",
   "execution_count": null,
   "metadata": {
    "id": "8qiUKXPr7kyp"
   },
   "outputs": [],
   "source": [
    "# Model training\n",
    "input_dim = 61\n",
    "training_epochs = 50\n",
    "batch_size = 32\n",
    "metrics = [\"accuracy\"]\n",
    "valid_set = (X_test, y_test)"
   ]
  },
  {
   "cell_type": "code",
   "execution_count": null,
   "metadata": {
    "colab": {
     "base_uri": "https://localhost:8080/"
    },
    "executionInfo": {
     "elapsed": 12,
     "status": "ok",
     "timestamp": 1623982156255,
     "user": {
      "displayName": "Aniket Chhabra",
      "photoUrl": "https://lh3.googleusercontent.com/a-/AOh14Gh4750K16oah3CCSd7jmNjyHr23ob4sQFELlC0o=s64",
      "userId": "13194987590931587864"
     },
     "user_tz": -330
    },
    "id": "lAhqRmszAJT0",
    "outputId": "2a2d40e8-771e-481b-9689-f34234c3f14d"
   },
   "outputs": [
    {
     "name": "stdout",
     "output_type": "stream",
     "text": [
      "<bound method Model.summary of <keras.engine.sequential.Sequential object at 0x7f1b81d00810>>\n",
      "Model: \"sequential_6\"\n",
      "_________________________________________________________________\n",
      "Layer (type)                 Output Shape              Param #   \n",
      "=================================================================\n",
      "dense_18 (Dense)             (None, 10)                620       \n",
      "_________________________________________________________________\n",
      "activation_18 (Activation)   (None, 10)                0         \n",
      "_________________________________________________________________\n",
      "dense_19 (Dense)             (None, 10)                110       \n",
      "_________________________________________________________________\n",
      "activation_19 (Activation)   (None, 10)                0         \n",
      "_________________________________________________________________\n",
      "dense_20 (Dense)             (None, 1)                 11        \n",
      "_________________________________________________________________\n",
      "activation_20 (Activation)   (None, 1)                 0         \n",
      "=================================================================\n",
      "Total params: 741\n",
      "Trainable params: 741\n",
      "Non-trainable params: 0\n",
      "_________________________________________________________________\n"
     ]
    }
   ],
   "source": [
    "DNN_Binary_Classification_KS(61,metrics).summary()"
   ]
  },
  {
   "cell_type": "code",
   "execution_count": null,
   "metadata": {
    "colab": {
     "base_uri": "https://localhost:8080/"
    },
    "executionInfo": {
     "elapsed": 4951,
     "status": "ok",
     "timestamp": 1623982164565,
     "user": {
      "displayName": "Aniket Chhabra",
      "photoUrl": "https://lh3.googleusercontent.com/a-/AOh14Gh4750K16oah3CCSd7jmNjyHr23ob4sQFELlC0o=s64",
      "userId": "13194987590931587864"
     },
     "user_tz": -330
    },
    "id": "5WCQAYsF70UT",
    "outputId": "f1d6d63c-5cf6-4ac2-8c95-9fefcc83d8dd"
   },
   "outputs": [
    {
     "name": "stdout",
     "output_type": "stream",
     "text": [
      "<bound method Model.summary of <keras.engine.sequential.Sequential object at 0x7f1b81cff9d0>>\n",
      "Epoch 1/50\n",
      "22/22 [==============================] - 1s 16ms/step - loss: 0.6033 - accuracy: 0.7167 - val_loss: 0.5594 - val_accuracy: 0.6997\n",
      "Epoch 2/50\n",
      "22/22 [==============================] - 0s 3ms/step - loss: 0.5162 - accuracy: 0.7542 - val_loss: 0.4921 - val_accuracy: 0.7360\n",
      "Epoch 3/50\n",
      "22/22 [==============================] - 0s 3ms/step - loss: 0.4712 - accuracy: 0.7505 - val_loss: 0.4731 - val_accuracy: 0.7756\n",
      "Epoch 4/50\n",
      "22/22 [==============================] - 0s 3ms/step - loss: 0.4231 - accuracy: 0.7936 - val_loss: 0.4546 - val_accuracy: 0.8086\n",
      "Epoch 5/50\n",
      "22/22 [==============================] - 0s 3ms/step - loss: 0.3781 - accuracy: 0.8039 - val_loss: 0.4476 - val_accuracy: 0.8119\n",
      "Epoch 6/50\n",
      "22/22 [==============================] - 0s 3ms/step - loss: 0.3784 - accuracy: 0.8186 - val_loss: 0.4462 - val_accuracy: 0.8086\n",
      "Epoch 7/50\n",
      "22/22 [==============================] - 0s 3ms/step - loss: 0.3544 - accuracy: 0.8524 - val_loss: 0.4373 - val_accuracy: 0.8020\n",
      "Epoch 8/50\n",
      "22/22 [==============================] - 0s 3ms/step - loss: 0.3097 - accuracy: 0.8743 - val_loss: 0.4320 - val_accuracy: 0.8086\n",
      "Epoch 9/50\n",
      "22/22 [==============================] - 0s 3ms/step - loss: 0.2799 - accuracy: 0.8804 - val_loss: 0.4094 - val_accuracy: 0.8251\n",
      "Epoch 10/50\n",
      "22/22 [==============================] - 0s 3ms/step - loss: 0.2783 - accuracy: 0.8814 - val_loss: 0.4687 - val_accuracy: 0.8053\n",
      "Epoch 11/50\n",
      "22/22 [==============================] - 0s 3ms/step - loss: 0.2863 - accuracy: 0.8691 - val_loss: 0.4114 - val_accuracy: 0.8218\n",
      "Epoch 12/50\n",
      "22/22 [==============================] - 0s 3ms/step - loss: 0.2248 - accuracy: 0.9040 - val_loss: 0.4078 - val_accuracy: 0.8317\n",
      "Epoch 13/50\n",
      "22/22 [==============================] - 0s 3ms/step - loss: 0.1924 - accuracy: 0.9246 - val_loss: 0.4037 - val_accuracy: 0.8317\n",
      "Epoch 14/50\n",
      "22/22 [==============================] - 0s 3ms/step - loss: 0.1963 - accuracy: 0.9253 - val_loss: 0.4445 - val_accuracy: 0.8416\n",
      "Epoch 15/50\n",
      "22/22 [==============================] - 0s 3ms/step - loss: 0.1787 - accuracy: 0.9270 - val_loss: 0.4410 - val_accuracy: 0.8185\n",
      "Epoch 16/50\n",
      "22/22 [==============================] - 0s 3ms/step - loss: 0.1570 - accuracy: 0.9340 - val_loss: 0.4457 - val_accuracy: 0.8416\n",
      "Epoch 17/50\n",
      "22/22 [==============================] - 0s 3ms/step - loss: 0.1492 - accuracy: 0.9527 - val_loss: 0.4503 - val_accuracy: 0.8185\n",
      "Epoch 18/50\n",
      "22/22 [==============================] - 0s 3ms/step - loss: 0.1551 - accuracy: 0.9336 - val_loss: 0.5087 - val_accuracy: 0.8020\n",
      "Epoch 19/50\n",
      "22/22 [==============================] - 0s 2ms/step - loss: 0.1814 - accuracy: 0.9271 - val_loss: 0.4719 - val_accuracy: 0.8449\n",
      "Epoch 20/50\n",
      "22/22 [==============================] - 0s 3ms/step - loss: 0.1620 - accuracy: 0.9343 - val_loss: 0.4866 - val_accuracy: 0.8317\n",
      "Epoch 21/50\n",
      "22/22 [==============================] - 0s 3ms/step - loss: 0.1045 - accuracy: 0.9633 - val_loss: 0.4991 - val_accuracy: 0.8515\n",
      "Epoch 22/50\n",
      "22/22 [==============================] - 0s 3ms/step - loss: 0.0961 - accuracy: 0.9668 - val_loss: 0.5002 - val_accuracy: 0.8317\n",
      "Epoch 23/50\n",
      "22/22 [==============================] - 0s 3ms/step - loss: 0.0951 - accuracy: 0.9685 - val_loss: 0.4958 - val_accuracy: 0.8119\n",
      "Epoch 24/50\n",
      "22/22 [==============================] - 0s 3ms/step - loss: 0.0923 - accuracy: 0.9772 - val_loss: 0.5462 - val_accuracy: 0.8152\n",
      "Epoch 25/50\n",
      "22/22 [==============================] - 0s 3ms/step - loss: 0.0773 - accuracy: 0.9760 - val_loss: 0.5832 - val_accuracy: 0.8350\n",
      "Epoch 26/50\n",
      "22/22 [==============================] - 0s 2ms/step - loss: 0.0896 - accuracy: 0.9742 - val_loss: 0.5572 - val_accuracy: 0.8185\n",
      "Epoch 27/50\n",
      "22/22 [==============================] - 0s 3ms/step - loss: 0.1046 - accuracy: 0.9759 - val_loss: 0.5755 - val_accuracy: 0.8416\n",
      "Epoch 28/50\n",
      "22/22 [==============================] - 0s 4ms/step - loss: 0.0910 - accuracy: 0.9793 - val_loss: 0.5753 - val_accuracy: 0.8350\n",
      "Epoch 29/50\n",
      "22/22 [==============================] - 0s 3ms/step - loss: 0.0799 - accuracy: 0.9767 - val_loss: 0.6385 - val_accuracy: 0.8416\n",
      "Epoch 30/50\n",
      "22/22 [==============================] - 0s 3ms/step - loss: 0.0629 - accuracy: 0.9797 - val_loss: 0.6408 - val_accuracy: 0.8317\n",
      "Epoch 31/50\n",
      "22/22 [==============================] - 0s 3ms/step - loss: 0.0853 - accuracy: 0.9758 - val_loss: 0.6489 - val_accuracy: 0.8317\n",
      "Epoch 32/50\n",
      "22/22 [==============================] - 0s 3ms/step - loss: 0.0569 - accuracy: 0.9886 - val_loss: 0.6755 - val_accuracy: 0.8317\n",
      "Epoch 33/50\n",
      "22/22 [==============================] - 0s 3ms/step - loss: 0.0419 - accuracy: 0.9948 - val_loss: 0.7044 - val_accuracy: 0.8251\n",
      "Epoch 34/50\n",
      "22/22 [==============================] - 0s 3ms/step - loss: 0.0516 - accuracy: 0.9913 - val_loss: 0.7212 - val_accuracy: 0.8284\n",
      "Epoch 35/50\n",
      "22/22 [==============================] - 0s 3ms/step - loss: 0.0363 - accuracy: 0.9911 - val_loss: 0.7500 - val_accuracy: 0.8251\n",
      "Epoch 36/50\n",
      "22/22 [==============================] - 0s 3ms/step - loss: 0.0337 - accuracy: 0.9952 - val_loss: 0.7663 - val_accuracy: 0.8152\n",
      "Epoch 37/50\n",
      "22/22 [==============================] - 0s 3ms/step - loss: 0.0287 - accuracy: 0.9974 - val_loss: 0.7927 - val_accuracy: 0.8251\n",
      "Epoch 38/50\n",
      "22/22 [==============================] - 0s 3ms/step - loss: 0.0290 - accuracy: 0.9934 - val_loss: 0.8279 - val_accuracy: 0.8251\n",
      "Epoch 39/50\n",
      "22/22 [==============================] - 0s 3ms/step - loss: 0.0440 - accuracy: 0.9923 - val_loss: 0.8460 - val_accuracy: 0.8317\n",
      "Epoch 40/50\n",
      "22/22 [==============================] - 0s 3ms/step - loss: 0.0301 - accuracy: 0.9893 - val_loss: 0.8498 - val_accuracy: 0.8119\n",
      "Epoch 41/50\n",
      "22/22 [==============================] - 0s 3ms/step - loss: 0.0323 - accuracy: 0.9942 - val_loss: 0.8703 - val_accuracy: 0.8251\n",
      "Epoch 42/50\n",
      "22/22 [==============================] - 0s 3ms/step - loss: 0.0431 - accuracy: 0.9888 - val_loss: 0.8488 - val_accuracy: 0.8284\n",
      "Epoch 43/50\n",
      "22/22 [==============================] - 0s 3ms/step - loss: 0.0321 - accuracy: 0.9967 - val_loss: 0.8684 - val_accuracy: 0.8185\n",
      "Epoch 44/50\n",
      "22/22 [==============================] - 0s 3ms/step - loss: 0.0269 - accuracy: 0.9957 - val_loss: 0.8796 - val_accuracy: 0.8152\n",
      "Epoch 45/50\n",
      "22/22 [==============================] - 0s 3ms/step - loss: 0.0310 - accuracy: 0.9898 - val_loss: 0.9270 - val_accuracy: 0.8317\n",
      "Epoch 46/50\n",
      "22/22 [==============================] - 0s 3ms/step - loss: 0.0340 - accuracy: 0.9850 - val_loss: 0.8985 - val_accuracy: 0.8185\n",
      "Epoch 47/50\n",
      "22/22 [==============================] - 0s 3ms/step - loss: 0.0251 - accuracy: 0.9948 - val_loss: 0.9246 - val_accuracy: 0.8152\n",
      "Epoch 48/50\n",
      "22/22 [==============================] - 0s 3ms/step - loss: 0.0301 - accuracy: 0.9905 - val_loss: 1.0025 - val_accuracy: 0.8251\n",
      "Epoch 49/50\n",
      "22/22 [==============================] - 0s 3ms/step - loss: 0.0310 - accuracy: 0.9883 - val_loss: 1.0018 - val_accuracy: 0.8251\n",
      "Epoch 50/50\n",
      "22/22 [==============================] - 0s 3ms/step - loss: 0.0169 - accuracy: 0.9983 - val_loss: 1.0000 - val_accuracy: 0.8185\n",
      "CPU times: user 4.71 s, sys: 302 ms, total: 5.01 s\n",
      "Wall time: 4.68 s\n"
     ]
    }
   ],
   "source": [
    "%%time\n",
    "bin_class_model = DNN_Binary_Classification_KS(input_dim,metrics)\n",
    "\n",
    "# fit the model\n",
    "history = bin_class_model.fit(X_train,y_train,\n",
    "                              validation_data = valid_set,\n",
    "                              batch_size=batch_size,\n",
    "                              epochs=training_epochs)"
   ]
  },
  {
   "cell_type": "markdown",
   "metadata": {
    "id": "5V2f-Vov9Gyn"
   },
   "source": [
    "# **4. Save Model**"
   ]
  },
  {
   "cell_type": "code",
   "execution_count": null,
   "metadata": {
    "id": "1jAADsEH9I83"
   },
   "outputs": [],
   "source": [
    "import time\n",
    "import os\n",
    "\n",
    "def saveModel_path(model_dir=\"/content/drive/MyDrive/Industry_Session_19_June_2021/saved_models\"):\n",
    "    os.makedirs(model_dir, exist_ok=True)\n",
    "    fileName = time.strftime(\"Credit_Model_%Y_%m_%d_%H_%M_%S_.h5\")    \n",
    "    model_path = os.path.join(model_dir, fileName)\n",
    "    print(f\"your model will be saved at the following location\\n{model_path}\")\n",
    "    return model_path"
   ]
  },
  {
   "cell_type": "code",
   "execution_count": null,
   "metadata": {
    "colab": {
     "base_uri": "https://localhost:8080/"
    },
    "executionInfo": {
     "elapsed": 3,
     "status": "ok",
     "timestamp": 1623982176646,
     "user": {
      "displayName": "Aniket Chhabra",
      "photoUrl": "https://lh3.googleusercontent.com/a-/AOh14Gh4750K16oah3CCSd7jmNjyHr23ob4sQFELlC0o=s64",
      "userId": "13194987590931587864"
     },
     "user_tz": -330
    },
    "id": "5nF1TxRg9LGi",
    "outputId": "2a197080-5c3a-4cf3-da5b-987b388f7c8d"
   },
   "outputs": [
    {
     "name": "stdout",
     "output_type": "stream",
     "text": [
      "your model will be saved at the following location\n",
      "/content/drive/MyDrive/Industry_Session_19_June_2021/saved_models/Credit_Model_2021_06_18_02_09_34_.h5\n"
     ]
    }
   ],
   "source": [
    "unique_path = bin_class_model.save(saveModel_path())\n",
    "unique_path"
   ]
  },
  {
   "cell_type": "markdown",
   "metadata": {
    "id": "dhmkulT78uuO"
   },
   "source": [
    "# **5. Predictions**"
   ]
  },
  {
   "cell_type": "code",
   "execution_count": null,
   "metadata": {
    "id": "_gICTU4E8L1_"
   },
   "outputs": [],
   "source": [
    "y_train_pred = bin_class_model.predict_classes(X_train)\n",
    "y_test_pred = bin_class_model.predict_classes(X_test)"
   ]
  },
  {
   "cell_type": "code",
   "execution_count": null,
   "metadata": {
    "colab": {
     "base_uri": "https://localhost:8080/"
    },
    "executionInfo": {
     "elapsed": 3,
     "status": "ok",
     "timestamp": 1623982185011,
     "user": {
      "displayName": "Aniket Chhabra",
      "photoUrl": "https://lh3.googleusercontent.com/a-/AOh14Gh4750K16oah3CCSd7jmNjyHr23ob4sQFELlC0o=s64",
      "userId": "13194987590931587864"
     },
     "user_tz": -330
    },
    "id": "8tF7KYJo9CO9",
    "outputId": "de7a244a-8f98-4f2a-c114-ed9711ee474d"
   },
   "outputs": [
    {
     "name": "stdout",
     "output_type": "stream",
     "text": [
      "              precision    recall  f1-score   support\n",
      "\n",
      "           0       0.99      1.00      1.00       498\n",
      "           1       1.00      0.99      0.99       206\n",
      "\n",
      "    accuracy                           1.00       704\n",
      "   macro avg       1.00      0.99      0.99       704\n",
      "weighted avg       1.00      1.00      1.00       704\n",
      "\n"
     ]
    }
   ],
   "source": [
    "# training accuracy\n",
    "print(classification_report(y_train, y_train_pred))"
   ]
  },
  {
   "cell_type": "code",
   "execution_count": null,
   "metadata": {
    "colab": {
     "base_uri": "https://localhost:8080/"
    },
    "executionInfo": {
     "elapsed": 392,
     "status": "ok",
     "timestamp": 1623982187788,
     "user": {
      "displayName": "Aniket Chhabra",
      "photoUrl": "https://lh3.googleusercontent.com/a-/AOh14Gh4750K16oah3CCSd7jmNjyHr23ob4sQFELlC0o=s64",
      "userId": "13194987590931587864"
     },
     "user_tz": -330
    },
    "id": "xN7Wil-19pF0",
    "outputId": "19033b2b-ce7e-4389-ef9b-0037ad7c2d82"
   },
   "outputs": [
    {
     "name": "stdout",
     "output_type": "stream",
     "text": [
      "              precision    recall  f1-score   support\n",
      "\n",
      "           0       0.87      0.87      0.87       214\n",
      "           1       0.69      0.69      0.69        89\n",
      "\n",
      "    accuracy                           0.82       303\n",
      "   macro avg       0.78      0.78      0.78       303\n",
      "weighted avg       0.82      0.82      0.82       303\n",
      "\n"
     ]
    }
   ],
   "source": [
    "# test accuracy\n",
    "print(classification_report(y_test, y_test_pred))"
   ]
  },
  {
   "cell_type": "markdown",
   "metadata": {
    "id": "NglN1W6v-iMX"
   },
   "source": [
    "Overfitting model or not"
   ]
  },
  {
   "cell_type": "code",
   "execution_count": null,
   "metadata": {
    "colab": {
     "base_uri": "https://localhost:8080/",
     "height": 1000
    },
    "executionInfo": {
     "elapsed": 490,
     "status": "ok",
     "timestamp": 1623982205996,
     "user": {
      "displayName": "Aniket Chhabra",
      "photoUrl": "https://lh3.googleusercontent.com/a-/AOh14Gh4750K16oah3CCSd7jmNjyHr23ob4sQFELlC0o=s64",
      "userId": "13194987590931587864"
     },
     "user_tz": -330
    },
    "id": "Sb3bMZTS_T4a",
    "outputId": "49c73354-e576-4b82-aec7-21b585897c38"
   },
   "outputs": [
    {
     "data": {
      "text/html": [
       "<div>\n",
       "<style scoped>\n",
       "    .dataframe tbody tr th:only-of-type {\n",
       "        vertical-align: middle;\n",
       "    }\n",
       "\n",
       "    .dataframe tbody tr th {\n",
       "        vertical-align: top;\n",
       "    }\n",
       "\n",
       "    .dataframe thead th {\n",
       "        text-align: right;\n",
       "    }\n",
       "</style>\n",
       "<table border=\"1\" class=\"dataframe\">\n",
       "  <thead>\n",
       "    <tr style=\"text-align: right;\">\n",
       "      <th></th>\n",
       "      <th>loss</th>\n",
       "      <th>accuracy</th>\n",
       "      <th>val_loss</th>\n",
       "      <th>val_accuracy</th>\n",
       "    </tr>\n",
       "  </thead>\n",
       "  <tbody>\n",
       "    <tr>\n",
       "      <th>0</th>\n",
       "      <td>0.593062</td>\n",
       "      <td>0.701705</td>\n",
       "      <td>0.559413</td>\n",
       "      <td>0.699670</td>\n",
       "    </tr>\n",
       "    <tr>\n",
       "      <th>1</th>\n",
       "      <td>0.498240</td>\n",
       "      <td>0.768466</td>\n",
       "      <td>0.492122</td>\n",
       "      <td>0.735974</td>\n",
       "    </tr>\n",
       "    <tr>\n",
       "      <th>2</th>\n",
       "      <td>0.443708</td>\n",
       "      <td>0.772727</td>\n",
       "      <td>0.473059</td>\n",
       "      <td>0.775578</td>\n",
       "    </tr>\n",
       "    <tr>\n",
       "      <th>3</th>\n",
       "      <td>0.418252</td>\n",
       "      <td>0.795455</td>\n",
       "      <td>0.454618</td>\n",
       "      <td>0.808581</td>\n",
       "    </tr>\n",
       "    <tr>\n",
       "      <th>4</th>\n",
       "      <td>0.385239</td>\n",
       "      <td>0.808239</td>\n",
       "      <td>0.447566</td>\n",
       "      <td>0.811881</td>\n",
       "    </tr>\n",
       "    <tr>\n",
       "      <th>5</th>\n",
       "      <td>0.365556</td>\n",
       "      <td>0.828125</td>\n",
       "      <td>0.446209</td>\n",
       "      <td>0.808581</td>\n",
       "    </tr>\n",
       "    <tr>\n",
       "      <th>6</th>\n",
       "      <td>0.345181</td>\n",
       "      <td>0.855114</td>\n",
       "      <td>0.437343</td>\n",
       "      <td>0.801980</td>\n",
       "    </tr>\n",
       "    <tr>\n",
       "      <th>7</th>\n",
       "      <td>0.312307</td>\n",
       "      <td>0.872159</td>\n",
       "      <td>0.432041</td>\n",
       "      <td>0.808581</td>\n",
       "    </tr>\n",
       "    <tr>\n",
       "      <th>8</th>\n",
       "      <td>0.287230</td>\n",
       "      <td>0.867898</td>\n",
       "      <td>0.409356</td>\n",
       "      <td>0.825082</td>\n",
       "    </tr>\n",
       "    <tr>\n",
       "      <th>9</th>\n",
       "      <td>0.300413</td>\n",
       "      <td>0.863636</td>\n",
       "      <td>0.468696</td>\n",
       "      <td>0.805281</td>\n",
       "    </tr>\n",
       "    <tr>\n",
       "      <th>10</th>\n",
       "      <td>0.279029</td>\n",
       "      <td>0.873580</td>\n",
       "      <td>0.411409</td>\n",
       "      <td>0.821782</td>\n",
       "    </tr>\n",
       "    <tr>\n",
       "      <th>11</th>\n",
       "      <td>0.232222</td>\n",
       "      <td>0.901989</td>\n",
       "      <td>0.407766</td>\n",
       "      <td>0.831683</td>\n",
       "    </tr>\n",
       "    <tr>\n",
       "      <th>12</th>\n",
       "      <td>0.214039</td>\n",
       "      <td>0.911932</td>\n",
       "      <td>0.403693</td>\n",
       "      <td>0.831683</td>\n",
       "    </tr>\n",
       "    <tr>\n",
       "      <th>13</th>\n",
       "      <td>0.207035</td>\n",
       "      <td>0.916193</td>\n",
       "      <td>0.444536</td>\n",
       "      <td>0.841584</td>\n",
       "    </tr>\n",
       "    <tr>\n",
       "      <th>14</th>\n",
       "      <td>0.184131</td>\n",
       "      <td>0.927557</td>\n",
       "      <td>0.441036</td>\n",
       "      <td>0.818482</td>\n",
       "    </tr>\n",
       "    <tr>\n",
       "      <th>15</th>\n",
       "      <td>0.169961</td>\n",
       "      <td>0.930398</td>\n",
       "      <td>0.445730</td>\n",
       "      <td>0.841584</td>\n",
       "    </tr>\n",
       "    <tr>\n",
       "      <th>16</th>\n",
       "      <td>0.153135</td>\n",
       "      <td>0.944602</td>\n",
       "      <td>0.450315</td>\n",
       "      <td>0.818482</td>\n",
       "    </tr>\n",
       "    <tr>\n",
       "      <th>17</th>\n",
       "      <td>0.174499</td>\n",
       "      <td>0.926136</td>\n",
       "      <td>0.508691</td>\n",
       "      <td>0.801980</td>\n",
       "    </tr>\n",
       "    <tr>\n",
       "      <th>18</th>\n",
       "      <td>0.178987</td>\n",
       "      <td>0.930398</td>\n",
       "      <td>0.471913</td>\n",
       "      <td>0.844885</td>\n",
       "    </tr>\n",
       "    <tr>\n",
       "      <th>19</th>\n",
       "      <td>0.142242</td>\n",
       "      <td>0.937500</td>\n",
       "      <td>0.486567</td>\n",
       "      <td>0.831683</td>\n",
       "    </tr>\n",
       "    <tr>\n",
       "      <th>20</th>\n",
       "      <td>0.118373</td>\n",
       "      <td>0.961648</td>\n",
       "      <td>0.499082</td>\n",
       "      <td>0.851485</td>\n",
       "    </tr>\n",
       "    <tr>\n",
       "      <th>21</th>\n",
       "      <td>0.114008</td>\n",
       "      <td>0.957386</td>\n",
       "      <td>0.500249</td>\n",
       "      <td>0.831683</td>\n",
       "    </tr>\n",
       "    <tr>\n",
       "      <th>22</th>\n",
       "      <td>0.097424</td>\n",
       "      <td>0.970170</td>\n",
       "      <td>0.495780</td>\n",
       "      <td>0.811881</td>\n",
       "    </tr>\n",
       "    <tr>\n",
       "      <th>23</th>\n",
       "      <td>0.088463</td>\n",
       "      <td>0.975852</td>\n",
       "      <td>0.546205</td>\n",
       "      <td>0.815181</td>\n",
       "    </tr>\n",
       "    <tr>\n",
       "      <th>24</th>\n",
       "      <td>0.093767</td>\n",
       "      <td>0.968750</td>\n",
       "      <td>0.583168</td>\n",
       "      <td>0.834984</td>\n",
       "    </tr>\n",
       "    <tr>\n",
       "      <th>25</th>\n",
       "      <td>0.086417</td>\n",
       "      <td>0.965909</td>\n",
       "      <td>0.557194</td>\n",
       "      <td>0.818482</td>\n",
       "    </tr>\n",
       "    <tr>\n",
       "      <th>26</th>\n",
       "      <td>0.092291</td>\n",
       "      <td>0.967330</td>\n",
       "      <td>0.575502</td>\n",
       "      <td>0.841584</td>\n",
       "    </tr>\n",
       "    <tr>\n",
       "      <th>27</th>\n",
       "      <td>0.101267</td>\n",
       "      <td>0.968750</td>\n",
       "      <td>0.575344</td>\n",
       "      <td>0.834984</td>\n",
       "    </tr>\n",
       "    <tr>\n",
       "      <th>28</th>\n",
       "      <td>0.075956</td>\n",
       "      <td>0.975852</td>\n",
       "      <td>0.638468</td>\n",
       "      <td>0.841584</td>\n",
       "    </tr>\n",
       "    <tr>\n",
       "      <th>29</th>\n",
       "      <td>0.061674</td>\n",
       "      <td>0.981534</td>\n",
       "      <td>0.640755</td>\n",
       "      <td>0.831683</td>\n",
       "    </tr>\n",
       "    <tr>\n",
       "      <th>30</th>\n",
       "      <td>0.052895</td>\n",
       "      <td>0.987216</td>\n",
       "      <td>0.648853</td>\n",
       "      <td>0.831683</td>\n",
       "    </tr>\n",
       "    <tr>\n",
       "      <th>31</th>\n",
       "      <td>0.047800</td>\n",
       "      <td>0.990057</td>\n",
       "      <td>0.675474</td>\n",
       "      <td>0.831683</td>\n",
       "    </tr>\n",
       "    <tr>\n",
       "      <th>32</th>\n",
       "      <td>0.042327</td>\n",
       "      <td>0.992898</td>\n",
       "      <td>0.704370</td>\n",
       "      <td>0.825082</td>\n",
       "    </tr>\n",
       "    <tr>\n",
       "      <th>33</th>\n",
       "      <td>0.047129</td>\n",
       "      <td>0.988636</td>\n",
       "      <td>0.721173</td>\n",
       "      <td>0.828383</td>\n",
       "    </tr>\n",
       "    <tr>\n",
       "      <th>34</th>\n",
       "      <td>0.041045</td>\n",
       "      <td>0.990057</td>\n",
       "      <td>0.750010</td>\n",
       "      <td>0.825082</td>\n",
       "    </tr>\n",
       "    <tr>\n",
       "      <th>35</th>\n",
       "      <td>0.040469</td>\n",
       "      <td>0.990057</td>\n",
       "      <td>0.766302</td>\n",
       "      <td>0.815181</td>\n",
       "    </tr>\n",
       "    <tr>\n",
       "      <th>36</th>\n",
       "      <td>0.037792</td>\n",
       "      <td>0.992898</td>\n",
       "      <td>0.792689</td>\n",
       "      <td>0.825082</td>\n",
       "    </tr>\n",
       "    <tr>\n",
       "      <th>37</th>\n",
       "      <td>0.034303</td>\n",
       "      <td>0.991477</td>\n",
       "      <td>0.827947</td>\n",
       "      <td>0.825082</td>\n",
       "    </tr>\n",
       "    <tr>\n",
       "      <th>38</th>\n",
       "      <td>0.037747</td>\n",
       "      <td>0.992898</td>\n",
       "      <td>0.846020</td>\n",
       "      <td>0.831683</td>\n",
       "    </tr>\n",
       "    <tr>\n",
       "      <th>39</th>\n",
       "      <td>0.036640</td>\n",
       "      <td>0.990057</td>\n",
       "      <td>0.849815</td>\n",
       "      <td>0.811881</td>\n",
       "    </tr>\n",
       "    <tr>\n",
       "      <th>40</th>\n",
       "      <td>0.029614</td>\n",
       "      <td>0.992898</td>\n",
       "      <td>0.870319</td>\n",
       "      <td>0.825082</td>\n",
       "    </tr>\n",
       "    <tr>\n",
       "      <th>41</th>\n",
       "      <td>0.035599</td>\n",
       "      <td>0.987216</td>\n",
       "      <td>0.848846</td>\n",
       "      <td>0.828383</td>\n",
       "    </tr>\n",
       "    <tr>\n",
       "      <th>42</th>\n",
       "      <td>0.032670</td>\n",
       "      <td>0.995739</td>\n",
       "      <td>0.868411</td>\n",
       "      <td>0.818482</td>\n",
       "    </tr>\n",
       "    <tr>\n",
       "      <th>43</th>\n",
       "      <td>0.032223</td>\n",
       "      <td>0.992898</td>\n",
       "      <td>0.879597</td>\n",
       "      <td>0.815181</td>\n",
       "    </tr>\n",
       "    <tr>\n",
       "      <th>44</th>\n",
       "      <td>0.029657</td>\n",
       "      <td>0.994318</td>\n",
       "      <td>0.927036</td>\n",
       "      <td>0.831683</td>\n",
       "    </tr>\n",
       "    <tr>\n",
       "      <th>45</th>\n",
       "      <td>0.027439</td>\n",
       "      <td>0.990057</td>\n",
       "      <td>0.898504</td>\n",
       "      <td>0.818482</td>\n",
       "    </tr>\n",
       "    <tr>\n",
       "      <th>46</th>\n",
       "      <td>0.026001</td>\n",
       "      <td>0.994318</td>\n",
       "      <td>0.924578</td>\n",
       "      <td>0.815181</td>\n",
       "    </tr>\n",
       "    <tr>\n",
       "      <th>47</th>\n",
       "      <td>0.030492</td>\n",
       "      <td>0.987216</td>\n",
       "      <td>1.002491</td>\n",
       "      <td>0.825082</td>\n",
       "    </tr>\n",
       "    <tr>\n",
       "      <th>48</th>\n",
       "      <td>0.028060</td>\n",
       "      <td>0.991477</td>\n",
       "      <td>1.001832</td>\n",
       "      <td>0.825082</td>\n",
       "    </tr>\n",
       "    <tr>\n",
       "      <th>49</th>\n",
       "      <td>0.023907</td>\n",
       "      <td>0.995739</td>\n",
       "      <td>1.000027</td>\n",
       "      <td>0.818482</td>\n",
       "    </tr>\n",
       "  </tbody>\n",
       "</table>\n",
       "</div>"
      ],
      "text/plain": [
       "        loss  accuracy  val_loss  val_accuracy\n",
       "0   0.593062  0.701705  0.559413      0.699670\n",
       "1   0.498240  0.768466  0.492122      0.735974\n",
       "2   0.443708  0.772727  0.473059      0.775578\n",
       "3   0.418252  0.795455  0.454618      0.808581\n",
       "4   0.385239  0.808239  0.447566      0.811881\n",
       "5   0.365556  0.828125  0.446209      0.808581\n",
       "6   0.345181  0.855114  0.437343      0.801980\n",
       "7   0.312307  0.872159  0.432041      0.808581\n",
       "8   0.287230  0.867898  0.409356      0.825082\n",
       "9   0.300413  0.863636  0.468696      0.805281\n",
       "10  0.279029  0.873580  0.411409      0.821782\n",
       "11  0.232222  0.901989  0.407766      0.831683\n",
       "12  0.214039  0.911932  0.403693      0.831683\n",
       "13  0.207035  0.916193  0.444536      0.841584\n",
       "14  0.184131  0.927557  0.441036      0.818482\n",
       "15  0.169961  0.930398  0.445730      0.841584\n",
       "16  0.153135  0.944602  0.450315      0.818482\n",
       "17  0.174499  0.926136  0.508691      0.801980\n",
       "18  0.178987  0.930398  0.471913      0.844885\n",
       "19  0.142242  0.937500  0.486567      0.831683\n",
       "20  0.118373  0.961648  0.499082      0.851485\n",
       "21  0.114008  0.957386  0.500249      0.831683\n",
       "22  0.097424  0.970170  0.495780      0.811881\n",
       "23  0.088463  0.975852  0.546205      0.815181\n",
       "24  0.093767  0.968750  0.583168      0.834984\n",
       "25  0.086417  0.965909  0.557194      0.818482\n",
       "26  0.092291  0.967330  0.575502      0.841584\n",
       "27  0.101267  0.968750  0.575344      0.834984\n",
       "28  0.075956  0.975852  0.638468      0.841584\n",
       "29  0.061674  0.981534  0.640755      0.831683\n",
       "30  0.052895  0.987216  0.648853      0.831683\n",
       "31  0.047800  0.990057  0.675474      0.831683\n",
       "32  0.042327  0.992898  0.704370      0.825082\n",
       "33  0.047129  0.988636  0.721173      0.828383\n",
       "34  0.041045  0.990057  0.750010      0.825082\n",
       "35  0.040469  0.990057  0.766302      0.815181\n",
       "36  0.037792  0.992898  0.792689      0.825082\n",
       "37  0.034303  0.991477  0.827947      0.825082\n",
       "38  0.037747  0.992898  0.846020      0.831683\n",
       "39  0.036640  0.990057  0.849815      0.811881\n",
       "40  0.029614  0.992898  0.870319      0.825082\n",
       "41  0.035599  0.987216  0.848846      0.828383\n",
       "42  0.032670  0.995739  0.868411      0.818482\n",
       "43  0.032223  0.992898  0.879597      0.815181\n",
       "44  0.029657  0.994318  0.927036      0.831683\n",
       "45  0.027439  0.990057  0.898504      0.818482\n",
       "46  0.026001  0.994318  0.924578      0.815181\n",
       "47  0.030492  0.987216  1.002491      0.825082\n",
       "48  0.028060  0.991477  1.001832      0.825082\n",
       "49  0.023907  0.995739  1.000027      0.818482"
      ]
     },
     "execution_count": 154,
     "metadata": {
      "tags": []
     },
     "output_type": "execute_result"
    }
   ],
   "source": [
    "pd.DataFrame(history.history)"
   ]
  },
  {
   "cell_type": "code",
   "execution_count": null,
   "metadata": {
    "colab": {
     "base_uri": "https://localhost:8080/",
     "height": 324
    },
    "executionInfo": {
     "elapsed": 1512,
     "status": "ok",
     "timestamp": 1623982213903,
     "user": {
      "displayName": "Aniket Chhabra",
      "photoUrl": "https://lh3.googleusercontent.com/a-/AOh14Gh4750K16oah3CCSd7jmNjyHr23ob4sQFELlC0o=s64",
      "userId": "13194987590931587864"
     },
     "user_tz": -330
    },
    "id": "sRq3RFMo_Wjr",
    "outputId": "a19a7600-d43b-4d92-99c1-a14cabb06f14"
   },
   "outputs": [
    {
     "data": {
      "image/png": "[encoded data removed]",
      "text/plain": [
       "<Figure size 576x360 with 1 Axes>"
      ]
     },
     "metadata": {
      "needs_background": "light",
      "tags": []
     },
     "output_type": "display_data"
    }
   ],
   "source": [
    "import matplotlib.pyplot as plt\n",
    "import seaborn as sns\n",
    "pd.DataFrame(history.history).plot(figsize=(8, 5))\n",
    "plt.grid(True)\n",
    "plt.gca().set_ylim(0, 1)\n",
    "plt.show()"
   ]
  },
  {
   "cell_type": "markdown",
   "metadata": {
    "id": "JSMjWKGb-rga"
   },
   "source": [
    "# **6. Hyperparameter Tuning**"
   ]
  },
  {
   "cell_type": "markdown",
   "metadata": {
    "id": "YeAaBctv5ImH"
   },
   "source": [
    "## **Apply a custom learning rate change using LearningRateScheduler**\n",
    "\n",
    "Write a function that performs the exponential learning rate decay as indicated by the following formula: 𝑙𝑟=𝑙𝑟₀ × 𝑒^(−𝑘𝑡)"
   ]
  },
  {
   "cell_type": "code",
   "execution_count": null,
   "metadata": {
    "id": "mVkxBsTr-g2p"
   },
   "outputs": [],
   "source": [
    "from keras.callbacks import LearningRateScheduler\n",
    "from keras.callbacks import History"
   ]
  },
  {
   "cell_type": "code",
   "execution_count": null,
   "metadata": {
    "id": "OJ9o2j005eGo"
   },
   "outputs": [],
   "source": [
    "def DNN_Binary_Classification_KS(epochs,learning_rate,_input_dim,decay_rate,momentum):\n",
    "    \n",
    "    # Layer 1\n",
    "    model = Sequential()\n",
    "    model.add(Dense(10,input_shape=(_input_dim,)))\n",
    "    model.add(Activation('relu'))\n",
    "    \n",
    "    # Layer 2\n",
    "    model.add(Dense(10))\n",
    "    model.add(Activation('relu'))\n",
    "    \n",
    "    # Layer 3\n",
    "    model.add(Dense(1))\n",
    "    model.add(Activation('sigmoid'))\n",
    "\n",
    "    # define the optimizer function\n",
    "    sgd = SGD(lr=learning_rate, momentum=momentum, decay=decay_rate, nesterov=False)\n",
    "\n",
    "    print(model.summary)\n",
    "    \n",
    "    # Model compilation\n",
    "    model.compile(loss='binary_crossentropy',optimizer=sgd,metrics=\"accuracy\")\n",
    "\n",
    "    return model"
   ]
  },
  {
   "cell_type": "code",
   "execution_count": null,
   "metadata": {
    "id": "MiJXY_ZY5ObA"
   },
   "outputs": [],
   "source": [
    "# solution\n",
    "epochs = 10\n",
    "learning_rate = 0.1 # initial learning rate\n",
    "decay_rate = 0.05\n",
    "momentum = 0.8\n",
    "batch_size = 32\n",
    "_input_dim = 61\n",
    "# metrics = [\"accruacy\"]\n",
    "valid_set = (X_test, y_test)"
   ]
  },
  {
   "cell_type": "code",
   "execution_count": null,
   "metadata": {
    "colab": {
     "base_uri": "https://localhost:8080/"
    },
    "executionInfo": {
     "elapsed": 2561,
     "status": "ok",
     "timestamp": 1623983025031,
     "user": {
      "displayName": "Aniket Chhabra",
      "photoUrl": "https://lh3.googleusercontent.com/a-/AOh14Gh4750K16oah3CCSd7jmNjyHr23ob4sQFELlC0o=s64",
      "userId": "13194987590931587864"
     },
     "user_tz": -330
    },
    "id": "T9a7BpbO527i",
    "outputId": "62af4832-4a37-4fc5-d05a-7fe3222f946a"
   },
   "outputs": [
    {
     "name": "stdout",
     "output_type": "stream",
     "text": [
      "<bound method Model.summary of <keras.engine.sequential.Sequential object at 0x7f1b7e1c0310>>\n",
      "Epoch 1/10\n",
      "22/22 [==============================] - 1s 18ms/step - loss: 0.6535 - accuracy: 0.6107 - val_loss: 0.5885 - val_accuracy: 0.7063\n",
      "Epoch 2/10\n",
      "22/22 [==============================] - 0s 3ms/step - loss: 0.5898 - accuracy: 0.7038 - val_loss: 0.5732 - val_accuracy: 0.7063\n",
      "Epoch 3/10\n",
      "22/22 [==============================] - 0s 3ms/step - loss: 0.5613 - accuracy: 0.7060 - val_loss: 0.5599 - val_accuracy: 0.7063\n",
      "Epoch 4/10\n",
      "22/22 [==============================] - 0s 2ms/step - loss: 0.5746 - accuracy: 0.6852 - val_loss: 0.5525 - val_accuracy: 0.7063\n",
      "Epoch 5/10\n",
      "22/22 [==============================] - 0s 2ms/step - loss: 0.5381 - accuracy: 0.6889 - val_loss: 0.5405 - val_accuracy: 0.7063\n",
      "Epoch 6/10\n",
      "22/22 [==============================] - 0s 3ms/step - loss: 0.5104 - accuracy: 0.7313 - val_loss: 0.5343 - val_accuracy: 0.7063\n",
      "Epoch 7/10\n",
      "22/22 [==============================] - 0s 3ms/step - loss: 0.5224 - accuracy: 0.6935 - val_loss: 0.5290 - val_accuracy: 0.7063\n",
      "Epoch 8/10\n",
      "22/22 [==============================] - 0s 3ms/step - loss: 0.5061 - accuracy: 0.7066 - val_loss: 0.5254 - val_accuracy: 0.7195\n",
      "Epoch 9/10\n",
      "22/22 [==============================] - 0s 3ms/step - loss: 0.5195 - accuracy: 0.6980 - val_loss: 0.5221 - val_accuracy: 0.7360\n",
      "Epoch 10/10\n",
      "22/22 [==============================] - 0s 2ms/step - loss: 0.4896 - accuracy: 0.7495 - val_loss: 0.5194 - val_accuracy: 0.7360\n",
      "CPU times: user 1.73 s, sys: 67.5 ms, total: 1.8 s\n",
      "Wall time: 2.06 s\n"
     ]
    }
   ],
   "source": [
    "%%time\n",
    "bin_class_model = DNN_Binary_Classification_KS(epochs,learning_rate,_input_dim,\n",
    "                                               decay_rate,momentum)\n",
    "\n",
    "# fit the model\n",
    "exponential_decay_model_history = bin_class_model.fit(X_train,y_train,\n",
    "                                                      validation_data = valid_set,\n",
    "                                                      batch_size=batch_size,\n",
    "                                                      epochs=epochs)"
   ]
  },
  {
   "cell_type": "markdown",
   "metadata": {
    "id": "EDb14v2m7vxi"
   },
   "source": [
    "## **Predictions**"
   ]
  },
  {
   "cell_type": "code",
   "execution_count": null,
   "metadata": {
    "id": "lBiJlp3L7vxu"
   },
   "outputs": [],
   "source": [
    "y_train_pred = bin_class_model.predict_classes(X_train)\n",
    "y_test_pred = bin_class_model.predict_classes(X_test)"
   ]
  },
  {
   "cell_type": "code",
   "execution_count": null,
   "metadata": {
    "colab": {
     "base_uri": "https://localhost:8080/"
    },
    "executionInfo": {
     "elapsed": 2,
     "status": "ok",
     "timestamp": 1623983116886,
     "user": {
      "displayName": "Aniket Chhabra",
      "photoUrl": "https://lh3.googleusercontent.com/a-/AOh14Gh4750K16oah3CCSd7jmNjyHr23ob4sQFELlC0o=s64",
      "userId": "13194987590931587864"
     },
     "user_tz": -330
    },
    "id": "FBhhnXaX7vxv",
    "outputId": "c0ae6821-e455-4319-cf6e-9cd8873bbee4"
   },
   "outputs": [
    {
     "name": "stdout",
     "output_type": "stream",
     "text": [
      "              precision    recall  f1-score   support\n",
      "\n",
      "           0       0.73      0.98      0.84       498\n",
      "           1       0.74      0.14      0.23       206\n",
      "\n",
      "    accuracy                           0.73       704\n",
      "   macro avg       0.73      0.56      0.53       704\n",
      "weighted avg       0.73      0.73      0.66       704\n",
      "\n"
     ]
    }
   ],
   "source": [
    "# training accuracy\n",
    "print(classification_report(y_train, y_train_pred))"
   ]
  },
  {
   "cell_type": "code",
   "execution_count": null,
   "metadata": {
    "colab": {
     "base_uri": "https://localhost:8080/"
    },
    "executionInfo": {
     "elapsed": 476,
     "status": "ok",
     "timestamp": 1623983121085,
     "user": {
      "displayName": "Aniket Chhabra",
      "photoUrl": "https://lh3.googleusercontent.com/a-/AOh14Gh4750K16oah3CCSd7jmNjyHr23ob4sQFELlC0o=s64",
      "userId": "13194987590931587864"
     },
     "user_tz": -330
    },
    "id": "3_bxK5mm7vxv",
    "outputId": "99efbb55-66d5-4108-ed99-e1fbd4832285"
   },
   "outputs": [
    {
     "name": "stdout",
     "output_type": "stream",
     "text": [
      "              precision    recall  f1-score   support\n",
      "\n",
      "           0       0.73      0.99      0.84       214\n",
      "           1       0.80      0.13      0.23        89\n",
      "\n",
      "    accuracy                           0.74       303\n",
      "   macro avg       0.77      0.56      0.54       303\n",
      "weighted avg       0.75      0.74      0.66       303\n",
      "\n"
     ]
    }
   ],
   "source": [
    "# test accuracy\n",
    "print(classification_report(y_test, y_test_pred))"
   ]
  },
  {
   "cell_type": "code",
   "execution_count": null,
   "metadata": {
    "colab": {
     "base_uri": "https://localhost:8080/",
     "height": 359
    },
    "executionInfo": {
     "elapsed": 516,
     "status": "ok",
     "timestamp": 1623983137767,
     "user": {
      "displayName": "Aniket Chhabra",
      "photoUrl": "https://lh3.googleusercontent.com/a-/AOh14Gh4750K16oah3CCSd7jmNjyHr23ob4sQFELlC0o=s64",
      "userId": "13194987590931587864"
     },
     "user_tz": -330
    },
    "id": "XfiGuI-P7vxw",
    "outputId": "afa7a913-9b75-4d32-bd50-005f12acd664"
   },
   "outputs": [
    {
     "data": {
      "text/html": [
       "<div>\n",
       "<style scoped>\n",
       "    .dataframe tbody tr th:only-of-type {\n",
       "        vertical-align: middle;\n",
       "    }\n",
       "\n",
       "    .dataframe tbody tr th {\n",
       "        vertical-align: top;\n",
       "    }\n",
       "\n",
       "    .dataframe thead th {\n",
       "        text-align: right;\n",
       "    }\n",
       "</style>\n",
       "<table border=\"1\" class=\"dataframe\">\n",
       "  <thead>\n",
       "    <tr style=\"text-align: right;\">\n",
       "      <th></th>\n",
       "      <th>loss</th>\n",
       "      <th>accuracy</th>\n",
       "      <th>val_loss</th>\n",
       "      <th>val_accuracy</th>\n",
       "    </tr>\n",
       "  </thead>\n",
       "  <tbody>\n",
       "    <tr>\n",
       "      <th>0</th>\n",
       "      <td>0.620929</td>\n",
       "      <td>0.673295</td>\n",
       "      <td>0.588473</td>\n",
       "      <td>0.706271</td>\n",
       "    </tr>\n",
       "    <tr>\n",
       "      <th>1</th>\n",
       "      <td>0.578811</td>\n",
       "      <td>0.707386</td>\n",
       "      <td>0.573177</td>\n",
       "      <td>0.706271</td>\n",
       "    </tr>\n",
       "    <tr>\n",
       "      <th>2</th>\n",
       "      <td>0.560780</td>\n",
       "      <td>0.707386</td>\n",
       "      <td>0.559909</td>\n",
       "      <td>0.706271</td>\n",
       "    </tr>\n",
       "    <tr>\n",
       "      <th>3</th>\n",
       "      <td>0.547194</td>\n",
       "      <td>0.707386</td>\n",
       "      <td>0.552544</td>\n",
       "      <td>0.706271</td>\n",
       "    </tr>\n",
       "    <tr>\n",
       "      <th>4</th>\n",
       "      <td>0.535283</td>\n",
       "      <td>0.707386</td>\n",
       "      <td>0.540487</td>\n",
       "      <td>0.706271</td>\n",
       "    </tr>\n",
       "    <tr>\n",
       "      <th>5</th>\n",
       "      <td>0.525478</td>\n",
       "      <td>0.707386</td>\n",
       "      <td>0.534313</td>\n",
       "      <td>0.706271</td>\n",
       "    </tr>\n",
       "    <tr>\n",
       "      <th>6</th>\n",
       "      <td>0.519272</td>\n",
       "      <td>0.707386</td>\n",
       "      <td>0.529037</td>\n",
       "      <td>0.706271</td>\n",
       "    </tr>\n",
       "    <tr>\n",
       "      <th>7</th>\n",
       "      <td>0.511020</td>\n",
       "      <td>0.711648</td>\n",
       "      <td>0.525358</td>\n",
       "      <td>0.719472</td>\n",
       "    </tr>\n",
       "    <tr>\n",
       "      <th>8</th>\n",
       "      <td>0.505567</td>\n",
       "      <td>0.720170</td>\n",
       "      <td>0.522052</td>\n",
       "      <td>0.735974</td>\n",
       "    </tr>\n",
       "    <tr>\n",
       "      <th>9</th>\n",
       "      <td>0.501029</td>\n",
       "      <td>0.724432</td>\n",
       "      <td>0.519404</td>\n",
       "      <td>0.735974</td>\n",
       "    </tr>\n",
       "  </tbody>\n",
       "</table>\n",
       "</div>"
      ],
      "text/plain": [
       "       loss  accuracy  val_loss  val_accuracy\n",
       "0  0.620929  0.673295  0.588473      0.706271\n",
       "1  0.578811  0.707386  0.573177      0.706271\n",
       "2  0.560780  0.707386  0.559909      0.706271\n",
       "3  0.547194  0.707386  0.552544      0.706271\n",
       "4  0.535283  0.707386  0.540487      0.706271\n",
       "5  0.525478  0.707386  0.534313      0.706271\n",
       "6  0.519272  0.707386  0.529037      0.706271\n",
       "7  0.511020  0.711648  0.525358      0.719472\n",
       "8  0.505567  0.720170  0.522052      0.735974\n",
       "9  0.501029  0.724432  0.519404      0.735974"
      ]
     },
     "execution_count": 174,
     "metadata": {
      "tags": []
     },
     "output_type": "execute_result"
    }
   ],
   "source": [
    "pd.DataFrame(exponential_decay_model_history.history)"
   ]
  },
  {
   "cell_type": "code",
   "execution_count": null,
   "metadata": {
    "colab": {
     "base_uri": "https://localhost:8080/",
     "height": 324
    },
    "executionInfo": {
     "elapsed": 545,
     "status": "ok",
     "timestamp": 1623983159316,
     "user": {
      "displayName": "Aniket Chhabra",
      "photoUrl": "https://lh3.googleusercontent.com/a-/AOh14Gh4750K16oah3CCSd7jmNjyHr23ob4sQFELlC0o=s64",
      "userId": "13194987590931587864"
     },
     "user_tz": -330
    },
    "id": "5isP-EVQ7vxw",
    "outputId": "ad041070-49db-4a04-ae8d-71b429889b06"
   },
   "outputs": [
    {
     "data": {
      "image/png": "[encoded data removed]",
      "text/plain": [
       "<Figure size 576x360 with 1 Axes>"
      ]
     },
     "metadata": {
      "needs_background": "light",
      "tags": []
     },
     "output_type": "display_data"
    }
   ],
   "source": [
    "pd.DataFrame(exponential_decay_model_history.history).plot(figsize=(8, 5))\n",
    "plt.grid(True)\n",
    "plt.gca().set_ylim(0, 1)\n",
    "plt.show()"
   ]
  },
  {
   "cell_type": "code",
   "execution_count": null,
   "metadata": {
    "colab": {
     "base_uri": "https://localhost:8080/"
    },
    "executionInfo": {
     "elapsed": 462,
     "status": "ok",
     "timestamp": 1623983906323,
     "user": {
      "displayName": "Aniket Chhabra",
      "photoUrl": "https://lh3.googleusercontent.com/a-/AOh14Gh4750K16oah3CCSd7jmNjyHr23ob4sQFELlC0o=s64",
      "userId": "13194987590931587864"
     },
     "user_tz": -330
    },
    "id": "s1TUsWCG8HHh",
    "outputId": "7bf12223-2e1e-4f63-b9ee-3d3c1b782990"
   },
   "outputs": [
    {
     "name": "stdout",
     "output_type": "stream",
     "text": [
      "2.5.0\n"
     ]
    }
   ],
   "source": [
    "import tensorflow as tf\n",
    "print(tf.__version__)"
   ]
  },
  {
   "cell_type": "code",
   "execution_count": null,
   "metadata": {
    "id": "j3mhgrIhQZ0A"
   },
   "outputs": [],
   "source": [
    "from keras.callbacks import LearningRateScheduler\n",
    "from keras.callbacks import History\n",
    "\n",
    "# define the learning rate change \n",
    "def exp_decay(epoch):\n",
    "    lrate = learning_rate * np.exp(-decay_rate*epoch)\n",
    "    return lrate\n",
    "    \n",
    "# learning schedule callback\n",
    "loss_history = History()\n",
    "lr_rate = LearningRateScheduler(exp_decay)\n",
    "callbacks_list = [loss_history, lr_rate]"
   ]
  },
  {
   "cell_type": "code",
   "execution_count": null,
   "metadata": {
    "id": "NPNvBXEeQn6S"
   },
   "outputs": [],
   "source": [
    "# you invoke the LearningRateScheduler during the .fit() phase\n",
    "exponential_decay_model_history = exponential_decay_model.fit(X_train, y_train,\n",
    "                                    batch_size=batch_size,\n",
    "                                    epochs=epochs,\n",
    "                                    callbacks=callbacks_list,\n",
    "                                    verbose=1,\n",
    "                                    validation_data=(x_test, y_test))"
   ]
  }
 ],
 "metadata": {
  "colab": {
   "authorship_tag": "ABX9TyNpclI5S337A55JNOM7IPqe",
   "collapsed_sections": [],
   "mount_file_id": "1KW7JM19XSmDfyHCnSDIDD0hwT4vS0W2N",
   "name": "ANN_Application_Credit_Data.ipynb",
   "provenance": [],
   "toc_visible": true
  },
  "kernelspec": {
   "display_name": "Python 3",
   "language": "python",
   "name": "python3"
  },
  "language_info": {
   "codemirror_mode": {
    "name": "ipython",
    "version": 3
   },
   "file_extension": ".py",
   "mimetype": "text/x-python",
   "name": "python",
   "nbconvert_exporter": "python",
   "pygments_lexer": "ipython3",
   "version": "3.8.3"
  }
 },
 "nbformat": 4,
 "nbformat_minor": 1
}
