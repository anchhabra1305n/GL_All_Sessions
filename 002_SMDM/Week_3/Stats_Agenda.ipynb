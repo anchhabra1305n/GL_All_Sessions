{
 "cells": [
  {
   "cell_type": "code",
   "execution_count": 1,
   "metadata": {},
   "outputs": [],
   "source": [
    "# https://conjointly.com/kb/descriptive-statistics/#:~:text=With%20descriptive%20statistics%20you%20are,what%20the%20population%20might%20think.\n",
    "\n",
    "# Statisitcs\n",
    "# https://stattrek.com/descriptive-statistics/variables.aspx?tutorial=AP"
   ]
  },
  {
   "cell_type": "markdown",
   "metadata": {},
   "source": [
    "## Data Sets\n",
    "### A data set contains information in a set of rows and columns\n",
    "- Row\n",
    "    * Observation\n",
    "- Column\n",
    "    * Variable"
   ]
  },
  {
   "cell_type": "markdown",
   "metadata": {},
   "source": [
    "### Variable Type\n",
    "### 1. Categorical Variable or Qualitative Variable\n",
    "A categorical variable places each observation into one of the several groups or categories, like the gender variable\n",
    "with male or female categories\n",
    "\n",
    "- Such variables are best represented by a **Pie Chart** or a **Bar Graph - sns.countplot**\n",
    "\n",
    "for example - Gender, Marital Status, name of the products etc"
   ]
  },
  {
   "cell_type": "markdown",
   "metadata": {},
   "source": [
    "### 2. Numerical or Quanitative Variable\n",
    "A quantitative variable has numerical values that measure some characteristic of each observation, like height in\n",
    "centimeters or salary in dollars per year\n",
    "\n",
    "Such variables are best represented by a **Histogram** (to show the distribution)\n",
    "for example - Income (Income Groups - using bins (pd.cut if you can recall the function)\n",
    "\n",
    "Q - How they are histogram and Bar plots different?"
   ]
  },
  {
   "cell_type": "markdown",
   "metadata": {},
   "source": [
    "# Univariate Analysis \n",
    "Analysing a single (uni) variable(column) at one point of time\n",
    "- Plotting and Visualizing a Distribution\n",
    "    * Recall we plotted **distplot** in seaborn library (sns.distplot)\n",
    "    * if we need to create bins for a variable we use pd.cut function and then plot a **histogram** (sns.countplot) - we use countplot here since it is discrete\n",
    "\n",
    "- Examining the Distribution\n",
    "    * Central Tendency\n",
    "         * Mean\n",
    "         * Median\n",
    "         * Mode\n",
    "         * others\n",
    "    * Dispersion/Spread of the data\n",
    "         * Range\n",
    "         * IQR\n",
    "         * Variance\n",
    "         * Standard Deviation\n",
    "         * Coefficient of Variation\n",
    "    * Shape of the data\n",
    "         * Skewness\n",
    "         * kurtosis\n",
    "    * **box plot** as well to see the distribution (on 1 variable/column)\n",
    "         * Box plot to see distribution\n",
    "    * Outliers\n",
    "         * How to detect outliers\n",
    "         * How to treat them"
   ]
  },
  {
   "cell_type": "markdown",
   "metadata": {},
   "source": [
    "# Bi-Variate Analysis\n",
    "- Correlation"
   ]
  },
  {
   "cell_type": "markdown",
   "metadata": {},
   "source": [
    "# Inferential Statistics - Week 2\n",
    "- Sampling and Population\n",
    "    * Population\n",
    "    * Sample \n",
    "        * Random Sample\n",
    "        * Stratified Sample\n",
    "- Parameter v/s Statistic\n",
    "- Probability Theory\n",
    "    * Experiment/Trial\n",
    "    * Event\n",
    "        * Independent and Dependent Events\n",
    "        * Mutually Exclusive Events\n",
    "        * Exhaustive Events\n",
    "    * Random Variable - A Random Variable is a set of possible values from a random experiment\n",
    "- Sample Space - Entire set of possible outcomes **(H,T)** in a single coin toss, **(1,2,3,4,5,6)** in a single dice roll\n",
    "- Simple Probability\n",
    "    * Indepdent events probabilities example P(A) X P(B) = P(A and B)\n",
    "- The Complement Rule\n",
    "- Conditional Probability - The chance that an event will occur with a certain information given\n",
    "- Bayes Theorem\n",
    "- Distributions\n",
    "    * Probability Distributions\n",
    "        * Discrete Distributions - pmf\n",
    "            * Binomial Distribution\n",
    "            * Poisson Distribution\n",
    "        * Continuous Distribution - pdf\n",
    "            * Normal Distribution"
   ]
  },
  {
   "cell_type": "markdown",
   "metadata": {},
   "source": [
    "# Hypthesis Testing - Week 3\n",
    "- Central Limit Theorem\n",
    "    * Sample Mean v/s Population Mean   \n",
    "    * Sample Standard Deviation/Standard Error v/s Population Standard Deviation\n",
    "    * online Statbook Examples\n",
    "- Hypothesis Testing\n",
    "    * Statistical Hypothesis - It is an assumption or statement about population parameter, the assumption may or may not be true and tested on the basis of a random sample from population\n",
    "        * Null Hypothesis - H0\n",
    "        * Alternative Hypothesis - H1\n",
    "    * Test of Significance - A proceedure to assess the significance of difference between two or more values (Z-test, t-test etc.). If the differnece is found to be significant we reject H0 (null hypothesis) and if it is not significant then we do not reject the null hypothesis (H0) \n",
    "    * Test Statistic - \n",
    "    * Types of Error\n",
    "    * Confidence Interval\n",
    "    * Critical Region\n",
    "    * P-value of Exact level of Significance\n",
    "- Steps in Hypohesis Testing\n",
    "    * Setup the Null Hypothesis (H0) and Alternative Hypothesis (H1), keeping in mind that its a one tail or two tail test\n",
    "    * Calculate the Test Statistic and determine the probability distribution\n",
    "    * Choose the appropriate level of significance - mostly given to us\n",
    "    * Evaluate the Test statistic -\n",
    "        * Confidence Interval approach \n",
    "        * p-value approach\n",
    "    * Conclude by either rejecting the null or not rejecting the null hypothesis at the given level of significance\n",
    "    * t-distribution approach - when sigma is unknown\n",
    "        * One Sample \n",
    "        * Two Sample\n",
    "    * t test - The t test tells you how significant the differences between groups are; In other words it lets you know if those differences (measured in means/averages) could have happened by chance (for population parameters only)\n",
    "        * Perform t test when:\n",
    "            * Random sample follows a Normal distribution\n",
    "            * Mean is known\n",
    "            * Population Variance is unknown\n",
    "            * Small sample (n< =30)\n",
    "        * t test can be used \n",
    "            * For testing mean of single sample\n",
    "            * For testing means of two independent samples\n",
    "            * Difference between means of dependent sample"
   ]
  },
  {
   "cell_type": "code",
   "execution_count": null,
   "metadata": {},
   "outputs": [],
   "source": []
  }
 ],
 "metadata": {
  "kernelspec": {
   "display_name": "Python 3",
   "language": "python",
   "name": "python3"
  },
  "language_info": {
   "codemirror_mode": {
    "name": "ipython",
    "version": 3
   },
   "file_extension": ".py",
   "mimetype": "text/x-python",
   "name": "python",
   "nbconvert_exporter": "python",
   "pygments_lexer": "ipython3",
   "version": "3.7.1"
  }
 },
 "nbformat": 4,
 "nbformat_minor": 2
}
