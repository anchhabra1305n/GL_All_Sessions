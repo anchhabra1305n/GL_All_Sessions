{
 "cells": [
  {
   "cell_type": "code",
   "execution_count": 22,
   "metadata": {},
   "outputs": [
    {
     "data": {
      "text/plain": [
       "[0, 1, 2, 3, 3, 2, 3, 1, 4, 5, 4]"
      ]
     },
     "execution_count": 22,
     "metadata": {},
     "output_type": "execute_result"
    }
   ],
   "source": [
    "List1 = [0, 1, 2, 3, 3, 2, 3, 1, 4, 5, 4]\n",
    "List1"
   ]
  },
  {
   "cell_type": "code",
   "execution_count": 32,
   "metadata": {},
   "outputs": [
    {
     "name": "stdout",
     "output_type": "stream",
     "text": [
      "28\n",
      "11\n"
     ]
    },
    {
     "data": {
      "text/plain": [
       "2.5454545454545454"
      ]
     },
     "execution_count": 32,
     "metadata": {},
     "output_type": "execute_result"
    }
   ],
   "source": [
    "sum1 = 0\n",
    "for i in List1:\n",
    "    sum1 += i\n",
    "print(sum1)\n",
    "\n",
    "# Length of List1 -\n",
    "len1 = len(List1)\n",
    "print(len1)\n",
    "\n",
    "average = sum1/len1\n",
    "average"
   ]
  },
  {
   "cell_type": "code",
   "execution_count": 38,
   "metadata": {},
   "outputs": [
    {
     "data": {
      "text/plain": [
       "3"
      ]
     },
     "execution_count": 38,
     "metadata": {},
     "output_type": "execute_result"
    }
   ],
   "source": [
    "# max(set(List1), key=List1.count)"
   ]
  },
  {
   "cell_type": "code",
   "execution_count": 41,
   "metadata": {},
   "outputs": [
    {
     "data": {
      "text/plain": [
       "[(3, 3)]"
      ]
     },
     "execution_count": 41,
     "metadata": {},
     "output_type": "execute_result"
    }
   ],
   "source": [
    "# # You can use the Counter supplied in the collections package which has a mode-esque function\n",
    "# from collections import Counter\n",
    "# data = Counter(List1)\n",
    "# data.most_common()   # Returns all unique items and their counts\n",
    "# data.most_common(1)  # Returns the highest occurring item"
   ]
  },
  {
   "cell_type": "code",
   "execution_count": 1,
   "metadata": {},
   "outputs": [],
   "source": [
    "word = \"aeroplane\""
   ]
  },
  {
   "cell_type": "code",
   "execution_count": 14,
   "metadata": {},
   "outputs": [
    {
     "name": "stdout",
     "output_type": "stream",
     "text": [
      "{'e', 'a', 'o'}\n",
      "['a', 'e', 'o', 'a', 'e']\n"
     ]
    }
   ],
   "source": [
    "vowel = \"aeiou\"\n",
    "list1 = []\n",
    "for i in word:\n",
    "    if i in vowel:\n",
    "#         print(i,end=\" \")\n",
    "        list1.append(i)\n",
    "        list2 = set(list1)\n",
    "print(list2)\n",
    "print(list1)"
   ]
  },
  {
   "cell_type": "code",
   "execution_count": 15,
   "metadata": {},
   "outputs": [
    {
     "name": "stdout",
     "output_type": "stream",
     "text": [
      "Enter a word : aeroplane\n"
     ]
    },
    {
     "data": {
      "text/plain": [
       "{'a', 'e', 'o'}"
      ]
     },
     "execution_count": 15,
     "metadata": {},
     "output_type": "execute_result"
    }
   ],
   "source": [
    "## Set comprehensions\n",
    "word = input(\"Enter a word : \")\n",
    "vowels = {i for i in word if i in \"aeiou\"}\n",
    "vowels"
   ]
  },
  {
   "cell_type": "code",
   "execution_count": 42,
   "metadata": {},
   "outputs": [
    {
     "name": "stdout",
     "output_type": "stream",
     "text": [
      "Mode is / are: 5\n"
     ]
    }
   ],
   "source": [
    "# # Python program to print \n",
    "# # mode of elements \n",
    "# from collections import Counter \n",
    "  \n",
    "# # list of elements to calculate mode \n",
    "# n_num = [1, 2, 3, 4, 5, 5] \n",
    "# n = len(n_num) \n",
    "  \n",
    "# data = Counter(n_num) \n",
    "# get_mode = dict(data) \n",
    "# mode = [k for k, v in get_mode.items() if v == max(list(data.values()))] \n",
    "  \n",
    "# if len(mode) == n: \n",
    "#     get_mode = \"No mode found\"\n",
    "# else: \n",
    "#     get_mode = \"Mode is / are: \" + ', '.join(map(str, mode)) \n",
    "      \n",
    "# print(get_mode) "
   ]
  },
  {
   "cell_type": "code",
   "execution_count": null,
   "metadata": {},
   "outputs": [],
   "source": [
    "# list of elements to calculate median \n",
    "n_num = [1, 2, 3, 4, 5] \n",
    "n = len(n_num) \n",
    "n_num.sort() \n",
    "  \n",
    "if n % 2 == 0: \n",
    "    median1 = n_num[n//2] \n",
    "    median2 = n_num[n//2 - 1] \n",
    "    median = (median1 + median2)/2\n",
    "else: \n",
    "    median = n_num[n//2] \n",
    "print(\"Median is: \" + str(median)) "
   ]
  }
 ],
 "metadata": {
  "kernelspec": {
   "display_name": "Python 3",
   "language": "python",
   "name": "python3"
  },
  "language_info": {
   "codemirror_mode": {
    "name": "ipython",
    "version": 3
   },
   "file_extension": ".py",
   "mimetype": "text/x-python",
   "name": "python",
   "nbconvert_exporter": "python",
   "pygments_lexer": "ipython3",
   "version": "3.7.1"
  }
 },
 "nbformat": 4,
 "nbformat_minor": 2
}
